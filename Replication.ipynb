{
 "cells": [
  {
   "cell_type": "markdown",
   "id": "d4c860b1-0b6d-4477-90f7-fef83b157e14",
   "metadata": {
    "tags": []
   },
   "source": [
    "# Replication of COCKATIEL"
   ]
  },
  {
   "cell_type": "markdown",
   "id": "4e282f04-783f-4af6-b99d-0905274925e9",
   "metadata": {
    "jp-MarkdownHeadingCollapsed": true,
    "tags": []
   },
   "source": [
    "## Original Study's Code"
   ]
  },
  {
   "cell_type": "markdown",
   "id": "35250c7d-a438-49d7-990e-329237bc44f2",
   "metadata": {
    "jp-MarkdownHeadingCollapsed": true,
    "tags": []
   },
   "source": [
    "### Prepare RoBERTa Model"
   ]
  },
  {
   "cell_type": "code",
   "execution_count": 1,
   "id": "7c3fd31f-eac7-43a2-aa05-9b4b829f0224",
   "metadata": {
    "tags": []
   },
   "outputs": [],
   "source": [
    "import torch\n",
    "from torch import nn\n",
    "from torch.nn import MSELoss\n",
    "from transformers import RobertaPreTrainedModel, RobertaModel\n",
    "\n",
    "\n",
    "\n",
    "# A custom fully-connected classification head for RoBERTa with a non-negative layer on which we can compute the NMF.\n",
    "\n",
    "class CustomRobertaClassificationHead(nn.Module):\n",
    "\n",
    "    def __init__(self, config):\n",
    "        super().__init__()\n",
    "        self.dense = nn.Linear(config.hidden_size, config.hidden_size)\n",
    "        classifier_dropout = (\n",
    "            config.classifier_dropout if config.classifier_dropout is not None else config.hidden_dropout_prob\n",
    "        )\n",
    "        self.dropout = nn.Dropout(classifier_dropout)\n",
    "        self.out_proj = nn.Linear(config.hidden_size, 2)\n",
    "\n",
    "    def forward(self, features):\n",
    "        x = features\n",
    "        x = self.dropout(x)\n",
    "        x = self.dense(x)\n",
    "        x = torch.relu(x)\n",
    "        x = self.dropout(x)\n",
    "        x = self.out_proj(x) # Projection layer, yani multi-head attention katmanının yüksek boyutlu output'unu düşürmek için project yapar\n",
    "                             # Ardından final sınıflandırma logits'leri hesaplanır\n",
    "        return x\n",
    "\n",
    "    # out_proj olmadan feature'ları hesaplayan fonk.\n",
    "    def features(self, x):\n",
    "        x = self.dropout(x)\n",
    "        x = self.dense(x)\n",
    "        x = torch.relu(x)\n",
    "        return x\n",
    "\n",
    "    # forward()'ın sonunda yapılan işlemin aynısı, ayrı fonk. olarak da tanımlamışlar\n",
    "    def end_model(self, x):\n",
    "        x = self.dropout(x)\n",
    "        x = self.out_proj(x)\n",
    "\n",
    "        return x\n",
    "    \n",
    "\n",
    "    \n",
    "    \n",
    "    \n",
    "# A custom RoBERTa model using a custom fully-connected head with a non-negative layer on which we can compute the NMF.\n",
    "    \n",
    "class CustomRobertaForSequenceClassification(RobertaPreTrainedModel):\n",
    "\n",
    "    # Model yüklenirken position_ids'i ignore etsin\n",
    "    _keys_to_ignore_on_load_missing = [r\"position_ids\"]\n",
    "\n",
    "    def __init__(self, config):\n",
    "        super().__init__(config)\n",
    "        \n",
    "        # Regresyon problemi gibi ele aldıklarından 1 demişler, yoksa sentiment a. için 2 olmalıydı\n",
    "        self.num_labels = 1\n",
    "        self.config = config\n",
    "\n",
    "        self.roberta = RobertaModel(config, add_pooling_layer=False)\n",
    "        self.classifier = CustomRobertaClassificationHead(config)\n",
    "        \n",
    "        # Yine regresyon olmasından dolayı\n",
    "        self.mse_loss = MSELoss()\n",
    "\n",
    "        # Modelin başka hiperparametrelerini initialize etmek için ek fonk.\n",
    "        self.post_init()\n",
    "\n",
    "    def features(\n",
    "            self,\n",
    "            input_ids=None,\n",
    "            attention_mask=None,\n",
    "            token_type_ids=None,\n",
    "            position_ids=None,\n",
    "            head_mask=None,\n",
    "            inputs_embeds=None,\n",
    "            labels=None,\n",
    "            output_attentions=None,\n",
    "            output_hidden_states=None,\n",
    "            return_dict=None,\n",
    "    ):\n",
    "        features = self.roberta(\n",
    "            input_ids,\n",
    "            attention_mask=attention_mask,\n",
    "            token_type_ids=token_type_ids,\n",
    "            position_ids=position_ids,\n",
    "            head_mask=head_mask,\n",
    "            inputs_embeds=inputs_embeds,\n",
    "            output_attentions=output_attentions,\n",
    "            output_hidden_states=output_hidden_states,\n",
    "            return_dict=return_dict,\n",
    "        )\n",
    "\n",
    "        return self.classifier.features(features[0][:, 0, :])\n",
    "\n",
    "    def end_model(self, activations):\n",
    "        return self.classifier.end_model(activations)\n",
    "\n",
    "    def forward(\n",
    "            self,\n",
    "            input_ids=None,\n",
    "            attention_mask=None,\n",
    "            token_type_ids=None,\n",
    "            position_ids=None,\n",
    "            head_mask=None,\n",
    "            inputs_embeds=None,\n",
    "            labels=None,\n",
    "            output_attentions=None,\n",
    "            output_hidden_states=None,\n",
    "            return_dict=None,\n",
    "    ):\n",
    "        return_dict = return_dict if return_dict is not None else self.config.use_return_dict\n",
    "\n",
    "        outputs = self.roberta(\n",
    "            input_ids,\n",
    "            attention_mask=attention_mask,\n",
    "            token_type_ids=token_type_ids,\n",
    "            position_ids=position_ids,\n",
    "            head_mask=head_mask,\n",
    "            inputs_embeds=inputs_embeds,\n",
    "            output_attentions=output_attentions,\n",
    "            output_hidden_states=output_hidden_states,\n",
    "            return_dict=return_dict,\n",
    "        )\n",
    "        sequence_output = outputs[0][:, 0, :]\n",
    "        logits = self.classifier(sequence_output)\n",
    "\n",
    "        return logits"
   ]
  },
  {
   "cell_type": "markdown",
   "id": "30f03bc3-88d3-4cd0-b5e6-9edfcdaac66b",
   "metadata": {
    "jp-MarkdownHeadingCollapsed": true,
    "tags": []
   },
   "source": [
    "### COCKATIEL"
   ]
  },
  {
   "cell_type": "code",
   "execution_count": 76,
   "id": "bca3f204-bec6-4735-8f88-b71eaf85e4b1",
   "metadata": {
    "tags": []
   },
   "outputs": [],
   "source": [
    "import numpy as np\n",
    "import torch\n",
    "from sklearn.decomposition import NMF\n",
    "from math import ceil\n",
    "from typing import Callable, List\n",
    "\n",
    "\n",
    "class COCKATIEL:\n",
    "    \"\"\"\n",
    "    model\n",
    "        The Torch hugging-face model that we wish to explain. It MUST have a non-negative layer on\n",
    "        which to extract the concepts.\n",
    "    tokenizer\n",
    "        A callable object to transform strings into inputs for the model.\n",
    "    components\n",
    "        An integer for the amount of concepts we wish to discover in the activation space.\n",
    "    batch_size\n",
    "        The batch size for all the operations that use the model\n",
    "    device\n",
    "        The type of device on which to place the torch tensors\n",
    "    \"\"\"\n",
    "    sobol_nb_design = 32\n",
    "\n",
    "    def __init__(\n",
    "            self,\n",
    "            model,\n",
    "            tokenizer: Callable,\n",
    "            components: int = 25,\n",
    "            batch_size: int = 256,\n",
    "            device: str = 'cuda',\n",
    "            nmf_max_iter: int = 1000\n",
    "    ):\n",
    "        self.model = model\n",
    "        self.tokenizer = tokenizer\n",
    "        self.components = components\n",
    "        self.batch_size = batch_size\n",
    "        self.device = device\n",
    "        self.max_iter = nmf_max_iter\n",
    "\n",
    "    def extract_concepts(\n",
    "            self,\n",
    "            cropped_dataset: List[str],\n",
    "            dataset: List[str],\n",
    "            class_id: int,\n",
    "            limit_sobol: int = 1000\n",
    "    ):\n",
    "        \"\"\"\n",
    "        Extracts the concepts following the object's parameters.\n",
    "\n",
    "        Parameters\n",
    "        ----------\n",
    "        cropped_dataset\n",
    "            The dataset containing the excerpts used to discover the concepts.\n",
    "        dataset\n",
    "            A sample of the dataset (with whole inputs) on which to compute the Sobol importance.\n",
    "        class_id\n",
    "            An integer for the class we wish to explain.\n",
    "        limit_sobol\n",
    "            The maximum amount of masks to use for estimating Sobol indices.\n",
    "\n",
    "        Returns\n",
    "        -------\n",
    "        excerpts\n",
    "            The excerpts used to learn the concepts.\n",
    "        u_excerpts\n",
    "            The coefficients in the learned concept base for the excerpts.\n",
    "        factorization\n",
    "            The object to transform activations using the concept base.\n",
    "        global_importance\n",
    "            An array with the global importance of each concept (Sobol indices).\n",
    "        \"\"\"\n",
    "        excerpts = []\n",
    "        excerpts_activations = None\n",
    "\n",
    "        with torch.no_grad():\n",
    "            for batch_id in tqdm(range(ceil(len(cropped_dataset) / self.batch_size))):\n",
    "                \n",
    "                batch_start = batch_id * self.batch_size\n",
    "                batch_end = batch_start + self.batch_size\n",
    "\n",
    "                batch_sentences = cropped_dataset[batch_start:batch_end]\n",
    "                batch_tokenized = tokenize(batch_sentences, self.tokenizer, self.device)\n",
    "\n",
    "                batch_activations = self.model.features(**batch_tokenized)\n",
    "\n",
    "                excerpts_activations = batch_activations if excerpts_activations is None \\\n",
    "                    else torch.cat([excerpts_activations, batch_activations], 0)\n",
    "                excerpts = batch_sentences if excerpts is None \\\n",
    "                    else excerpts + batch_sentences\n",
    "\n",
    "        points_activations = None\n",
    "        with torch.no_grad():\n",
    "            for batch_id in tqdm(range(ceil(len(dataset) / self.batch_size))):\n",
    "                \n",
    "                batch_start = batch_id * self.batch_size\n",
    "                batch_end = batch_start + self.batch_size\n",
    "                \n",
    "                tokenized_batch = tokenize(dataset[batch_start:batch_end], self.tokenizer, self.device)\n",
    "                activations = self.model.features(**tokenized_batch)\n",
    "                points_activations = activations if points_activations is None else torch.cat(\n",
    "                    [points_activations, activations])\n",
    "\n",
    "        # applying GAP(.) on the activation and ensure positivity if needed\n",
    "        excerpts_activations = self._preprocess(excerpts_activations)\n",
    "        points_activations = self._preprocess(points_activations)\n",
    "\n",
    "        # using the activations, we will now use the matrix factorization to\n",
    "        # find the concept bank (W) and the concept representation (U) of the\n",
    "        # segments and the points\n",
    "        factorization = NMF(n_components=self.components, max_iter=self.max_iter)\n",
    "\n",
    "        u_excerpts = factorization.fit_transform(excerpts_activations)\n",
    "        W = torch.Tensor(factorization.components_).float().to(self.device)\n",
    "\n",
    "        # we don't need segments activations anymore, the concept bank is trained\n",
    "        del excerpts_activations\n",
    "\n",
    "        # using the concept bank and the points, we will now evaluate the importance of\n",
    "        # each concept for each points to get a global importance score for each\n",
    "        # concept in the concept bank\n",
    "        global_importance = self._sobol_importance(cropped_dataset, points_activations[:limit_sobol], class_id, W)\n",
    "\n",
    "        return excerpts, u_excerpts, factorization, global_importance\n",
    "\n",
    "    def _sobol_importance(self, cropped_dataset, activations: torch.Tensor, class_id: int, W: torch.Tensor):\n",
    "        \"\"\"\n",
    "        Computes the Sobol indices using the dataset containing the excerpts and the activations from the\n",
    "        dataset (whole inputs) for the target class, and for a fixed (already learned) concept base W.\n",
    "\n",
    "        Parameters\n",
    "        ----------\n",
    "        cropped_dataset\n",
    "            The activations of the dataset containing the excerpts used to discover the concepts.\n",
    "        activations\n",
    "            The activations for inputs from the original dataset.\n",
    "        class_id\n",
    "            An integer for the class we wish to explain.\n",
    "        W\n",
    "            The (already learned) concept base.\n",
    "\n",
    "        Returns\n",
    "        -------\n",
    "        global_importance\n",
    "            An array with the Sobol indices\n",
    "        \"\"\"\n",
    "        masks = ScipySobolSequence()(self.components, nb_design=self.sobol_nb_design)\n",
    "        estimator = JansenEstimator()\n",
    "\n",
    "        if not isinstance(W, torch.Tensor):\n",
    "            W = torch.Tensor(W).float().to(self.device)\n",
    "\n",
    "        importances = []\n",
    "        for act in activations:\n",
    "            act = torch.Tensor(act).float().to(self.device)\n",
    "\n",
    "            y_pred = None\n",
    "            for batch_id in range(ceil(len(cropped_dataset) / self.batch_size)):\n",
    "                batch_start = batch_id * self.batch_size\n",
    "                batch_end = batch_start + self.batch_size\n",
    "                batch_masks = torch.Tensor(masks[batch_start:batch_end]).float().to(self.device)\n",
    "\n",
    "                y_batch = concept_perturbation(self.model, act, batch_masks, class_id, W)\n",
    "                y_pred = y_batch if y_pred is None else torch.cat([y_pred, y_batch], 0)\n",
    "\n",
    "            if self.device == 'cuda' or self.device == torch.device('cuda'):\n",
    "                y_pred = y_pred.cpu()\n",
    "            stis = estimator(masks, y_pred.numpy(), self.sobol_nb_design)\n",
    "            importances.append(stis)\n",
    "\n",
    "        global_importance = np.mean(importances, 0)\n",
    "\n",
    "        return global_importance\n",
    "\n",
    "    def _preprocess(self, activations: torch.Tensor):\n",
    "        \"\"\"\n",
    "        Preprocesses the activations to make sure that they're the right shape for being input to the\n",
    "        NMF algorithm later.\n",
    "\n",
    "        Parameters\n",
    "        ----------\n",
    "        activations\n",
    "            The (non-negative) activations from the model under study.\n",
    "\n",
    "        Returns\n",
    "        -------\n",
    "        activations\n",
    "            The preprocessed activations, ready for COCKATIEL.\n",
    "        \"\"\"\n",
    "        if len(activations.shape) == 4:\n",
    "            activations = torch.mean(activations, (1, 2))\n",
    "\n",
    "        if torch.min(activations) < 0:\n",
    "            raise ValueError(\"Please choose a layer with positive activations.\")\n",
    "        if self.device == 'cuda' or self.device == torch.device('cuda'):\n",
    "            activations = activations.cpu()\n",
    "\n",
    "        return activations.numpy().astype(np.float32)"
   ]
  },
  {
   "cell_type": "markdown",
   "id": "ddab1eeb-b4f2-42b2-8aff-3e93f541b40a",
   "metadata": {
    "jp-MarkdownHeadingCollapsed": true,
    "tags": []
   },
   "source": [
    "### Occlusion"
   ]
  },
  {
   "cell_type": "code",
   "execution_count": 3,
   "id": "b9b37f86-2f3d-46d2-a14f-213bf65766f6",
   "metadata": {
    "tags": []
   },
   "outputs": [
    {
     "name": "stderr",
     "output_type": "stream",
     "text": [
      "[nltk_data] Downloading package punkt to\n",
      "[nltk_data]     C:\\Users\\onurp\\AppData\\Roaming\\nltk_data...\n",
      "[nltk_data]   Package punkt is already up-to-date!\n"
     ]
    }
   ],
   "source": [
    "import numpy as np\n",
    "import sklearn.decomposition\n",
    "from typing import List, Callable, Optional, Union, Tuple\n",
    "import nltk\n",
    "from nltk.tokenize import word_tokenize\n",
    "nltk.download('punkt')\n",
    "\n",
    "\n",
    "\"\"\"\n",
    "This module implements the local part of COCKATIEL: occlusion. This allows us to estimate the presence of\n",
    "concepts in parts of the input text.\n",
    "\"\"\"\n",
    "\n",
    "def occlusion_concepts(\n",
    "        sentence: str,\n",
    "        model,\n",
    "        tokenizer: Callable,\n",
    "        factorization: Union[sklearn.decomposition.NMF, Tuple[sklearn.decomposition.NMF, sklearn.decomposition.NMF]],\n",
    "        l_concept_id: Union[np.ndarray, Tuple[np.ndarray, np.ndarray]],\n",
    "        ignore_words: Optional[List[str]] = None,\n",
    "        two_labels: bool = True,\n",
    "        extract_fct: str = \"clause\",\n",
    "        device='cuda'\n",
    ") -> np.ndarray:\n",
    "    \"\"\"\n",
    "    Generates explanations for the input sentence using COCKATIEL.\n",
    "\n",
    "    If two_labels is False, it computes the presence of the concepts of interest (in l_concept_id) using the\n",
    "    NMF object in factorization.\n",
    "    If two_labels is True, it computes the presence of the concepts of interest in the tuple of l_concept_id using\n",
    "    the tuple of NMF objects in factorization (to do so for both classes in imdb-reviews task).\n",
    "\n",
    "    The granularity of the explanations is set with extract_fct.\n",
    "\n",
    "    Parameters\n",
    "    ----------\n",
    "    sentence\n",
    "        The string (sentence) we wish to explain using COCKATIEL.\n",
    "    model\n",
    "        The model under study.\n",
    "    tokenizer\n",
    "        A Callable that transforms strings into tokens capable of being ingested by the model.\n",
    "    factorization\n",
    "        Either the NMF object to transform activations into the concept base, or a tuple with an object for each of\n",
    "        the two classes (for the imdb-reviews task) if two_labels is True.\n",
    "    l_concept_id\n",
    "        Either a list of concepts of interest (for a given task) or a tuple with two lists, one for each class (if\n",
    "        two_labels is True).\n",
    "    ignore_words\n",
    "        A list of strings to ignore when applying occlusion.\n",
    "    two_labels\n",
    "        A bool indicating whether we wish to explain only one class or both (for imdb-reviews task).\n",
    "    extract_fct\n",
    "        A string indicating whether at which level we wish to explain: \"word\", \"clause\" or \"sentence\".\n",
    "    device\n",
    "        The device on which tensors are stored (\"cpu\" or \"cuda\").\n",
    "\n",
    "    Returns\n",
    "    -------\n",
    "    l_importances\n",
    "        An array with the presence of each concept in the input sentence.\n",
    "    \"\"\"\n",
    "    sentence = str(sentence)\n",
    "\n",
    "    if extract_fct == \"clause\":\n",
    "        words = extract_clauses(sentence, clause_type=None)\n",
    "        separate = \" \"\n",
    "\n",
    "    else:\n",
    "        words = word_tokenize(sentence)\n",
    "        if extract_fct == \"sentence\":\n",
    "            separate = \". \"\n",
    "        elif extract_fct == \"word\":\n",
    "            separate = \" \"\n",
    "        else:\n",
    "            raise ValueError(\"Extraction function can be only 'clause', 'sentence', or 'word\")\n",
    "\n",
    "    if two_labels:\n",
    "        u_values_pos = calculate_u_values(sentence, words,  model, tokenizer, factorization[0], separate, ignore_words, device)\n",
    "        u_values_neg = calculate_u_values(sentence, words,  model, tokenizer, factorization[1], separate, ignore_words, device)\n",
    "        l_importances = []\n",
    "        for concept_id in l_concept_id[0]:\n",
    "            importances = calculate_importance(words, u_values_pos, concept_id, ignore_words)\n",
    "            l_importances.append(np.array(importances))\n",
    "        for concept_id in l_concept_id[1]:\n",
    "            importances = calculate_importance(words, u_values_neg, concept_id, ignore_words)\n",
    "            l_importances.append(np.array(importances))\n",
    "\n",
    "    else:  # look at only one class:\n",
    "        u_values = calculate_u_values(sentence, words,  model, tokenizer, factorization, separate, ignore_words, device)\n",
    "        l_importances = []\n",
    "        for concept_id in l_concept_id:\n",
    "            importances = calculate_importance(words, u_values, concept_id, ignore_words)\n",
    "            l_importances.append(np.array(importances))\n",
    "\n",
    "    return np.array(l_importances)\n"
   ]
  },
  {
   "cell_type": "markdown",
   "id": "20b56870-d429-4ad9-a884-7938d2a13088",
   "metadata": {
    "jp-MarkdownHeadingCollapsed": true,
    "tags": []
   },
   "source": [
    "### Sampling"
   ]
  },
  {
   "cell_type": "code",
   "execution_count": 4,
   "id": "8d9aaead-69af-4f2e-8472-9db04a11a3cb",
   "metadata": {
    "tags": []
   },
   "outputs": [],
   "source": [
    "from abc import ABC, abstractmethod\n",
    "import numpy as np\n",
    "import scipy\n",
    "\n",
    "\n",
    "\"\"\"\n",
    "Sampling methods for replicated designs\n",
    "\"\"\"\n",
    "\n",
    "class Sampler(ABC):\n",
    "    \"\"\"\n",
    "    Base class for replicated design sampling.\n",
    "    \"\"\"\n",
    "\n",
    "    @staticmethod\n",
    "    def build_replicated_design(sampling_a, sampling_b):\n",
    "        \"\"\"\n",
    "        Build the replicated design matrix C using A & B\n",
    "\n",
    "        Parameters\n",
    "        ----------\n",
    "        sampling_a\n",
    "          The masks values for the sampling matrix A.\n",
    "        sampling_b\n",
    "          The masks values for the sampling matrix B.\n",
    "\n",
    "        Returns\n",
    "        -------\n",
    "        replication_c\n",
    "          The new replicated design matrix C generated from A & B.\n",
    "        \"\"\"\n",
    "        replication_c = np.array([sampling_a.copy() for _ in range(sampling_a.shape[-1])])\n",
    "        for i in range(len(replication_c)):\n",
    "            replication_c[i, :, i] = sampling_b[:, i]\n",
    "\n",
    "        replication_c = replication_c.reshape((-1, sampling_a.shape[-1]))\n",
    "\n",
    "        return replication_c\n",
    "\n",
    "    @abstractmethod\n",
    "    def __call__(self, dimension, nb_design):\n",
    "        raise NotImplementedError()\n",
    "\n",
    "\n",
    "class ScipySampler(Sampler):\n",
    "    \"\"\"\n",
    "    Base class based on Scipy qmc module for replicated design sampling.\n",
    "    \"\"\"\n",
    "\n",
    "    def __init__(self):\n",
    "        try:\n",
    "            self.qmc = scipy.stats.qmc\n",
    "        except AttributeError as err:\n",
    "            raise ModuleNotFoundError(\"COCKATIEL need scipy>=1.7 to use this sampling.\") from err\n",
    "\n",
    "\n",
    "class ScipySobolSequence(ScipySampler):\n",
    "    \"\"\"\n",
    "    Scipy Sobol LP tau sequence sampler.\n",
    "\n",
    "    Ref. I. M. Sobol., The distribution of points in a cube and the accurate evaluation of\n",
    "    integrals (1967).\n",
    "    https://www.sciencedirect.com/science/article/abs/pii/0041555367901449\n",
    "    \"\"\"\n",
    "\n",
    "    def __call__(self, dimension, nb_design):\n",
    "        sampler = self.qmc.Sobol(dimension * 2, scramble=False)\n",
    "        sampling_ab = sampler.random(nb_design).astype(np.float32)\n",
    "        sampling_a, sampling_b = sampling_ab[:, :dimension], sampling_ab[:, dimension:]\n",
    "        replicated_c = self.build_replicated_design(sampling_a, sampling_b)\n",
    "\n",
    "        return np.concatenate([sampling_a, sampling_b, replicated_c], 0)\n",
    "\n",
    "\n",
    "def concept_perturbation(model, activation, masks, class_id, W):\n",
    "    \"\"\"\n",
    "    Apply perturbation on the concept before reconstruction and get the perturbated outputs.\n",
    "    For NMF we recall that A = U @ W\n",
    "\n",
    "    Parameters\n",
    "    ----------\n",
    "    model\n",
    "      Model that map the concept layer to the output (h_l->k in the paper)\n",
    "    activation\n",
    "      Specific activation to apply perturbation on.\n",
    "    masks\n",
    "      Arrays of masks, each of them being a concept perturbation.\n",
    "    class_id\n",
    "      Id the class to test.\n",
    "    W\n",
    "      Concept bank extracted using NMF.\n",
    "\n",
    "    Returns\n",
    "    -------\n",
    "    y\n",
    "      Outputs of the perturbated points.\n",
    "    \"\"\"\n",
    "    perturbation = masks @ W\n",
    "\n",
    "    if len(activation.shape) == 3:\n",
    "        perturbation = perturbation[:, None, None, :]\n",
    "\n",
    "    activation = activation[None, :]\n",
    "    perturbated_activations = activation + perturbation * activation\n",
    "    y = model.end_model(perturbated_activations)[:, class_id]\n",
    "\n",
    "    return y"
   ]
  },
  {
   "cell_type": "markdown",
   "id": "3226cdd3-9500-48b2-bdec-d0cc2e5e0a3f",
   "metadata": {
    "jp-MarkdownHeadingCollapsed": true,
    "tags": []
   },
   "source": [
    "### Total Sobol Indices"
   ]
  },
  {
   "cell_type": "code",
   "execution_count": 5,
   "id": "4f6e8ef8-560e-4471-a228-02724b8c3753",
   "metadata": {
    "tags": []
   },
   "outputs": [],
   "source": [
    "from abc import ABC, abstractmethod\n",
    "import numpy as np\n",
    "\n",
    "\n",
    "\n",
    "\"\"\"\n",
    "Sobol' total order estimators module\n",
    "\"\"\"\n",
    "\n",
    "class SobolEstimator(ABC):\n",
    "    \"\"\"\n",
    "    Base class for Sobol' total order estimators.\n",
    "    \"\"\"\n",
    "\n",
    "    @staticmethod\n",
    "    def masks_dim(masks):\n",
    "        \"\"\"\n",
    "        Deduce the number of dimensions using the sampling masks.\n",
    "\n",
    "        Parameters\n",
    "        ----------\n",
    "        masks\n",
    "          Low resolution masks (before upsampling) used, one for each output.\n",
    "\n",
    "        Returns\n",
    "        -------\n",
    "        nb_dim\n",
    "          The number of dimensions under study according to the masks.\n",
    "        \"\"\"\n",
    "        nb_dim = np.prod(masks.shape[1:])\n",
    "        return nb_dim\n",
    "\n",
    "    @staticmethod\n",
    "    def split_abc(outputs, nb_design, nb_dim):\n",
    "        \"\"\"\n",
    "        Split the outputs values into the 3 sampling matrices A, B and C.\n",
    "\n",
    "        Parameters\n",
    "        ----------\n",
    "        outputs\n",
    "          Model outputs for each sample point of matrices A, B and C (in order).\n",
    "        nb_design\n",
    "          Number of points for matrices A (the same as B).\n",
    "        nb_dim\n",
    "          Number of dimensions to estimate.\n",
    "\n",
    "        Returns\n",
    "        -------\n",
    "        a\n",
    "          The results for the sample points in matrix A.\n",
    "        b\n",
    "          The results for the sample points in matrix B.\n",
    "        c\n",
    "          The results for the sample points in matrix C.\n",
    "        \"\"\"\n",
    "        sampling_a = outputs[:nb_design]\n",
    "        sampling_b = outputs[nb_design:nb_design*2]\n",
    "        replication_c = np.array([outputs[nb_design*2 + nb_design*i:nb_design*2 + nb_design*(i+1)]\n",
    "                      for i in range(nb_dim)])\n",
    "        return sampling_a, sampling_b, replication_c\n",
    "\n",
    "    @staticmethod\n",
    "    def post_process(stis, masks):\n",
    "        \"\"\"\n",
    "        Post processing ops on the indices before sending them back. Makes sure the data\n",
    "        format and shape is correct.\n",
    "\n",
    "        Parameters\n",
    "        ----------\n",
    "        stis\n",
    "          Total order Sobol' indices, one for each dimensions.\n",
    "        masks\n",
    "            Low resolution masks (before upsampling) used, one for each output.\n",
    "\n",
    "        Returns\n",
    "        -------\n",
    "        stis\n",
    "          Total order Sobol' indices after post processing.\n",
    "        \"\"\"\n",
    "        stis = np.array(stis, np.float32)\n",
    "        return stis.reshape(masks.shape[1:])\n",
    "\n",
    "    @abstractmethod\n",
    "    def __call__(self, masks, outputs, nb_design):\n",
    "        \"\"\"\n",
    "        Compute the Sobol' total order indices according to the Jansen algorithm.\n",
    "\n",
    "        Ref. Jansen, M., Analysis of variance designs for model output (1999)\n",
    "        https://www.sciencedirect.com/science/article/abs/pii/S0010465598001544\n",
    "\n",
    "        Parameters\n",
    "        ----------\n",
    "        masks\n",
    "          Low resolution masks (before upsampling) used, one for each output.\n",
    "        outputs\n",
    "          Model outputs associated to each masks. One for each sample point of\n",
    "          matrices A, B and C (in order).\n",
    "        nb_design\n",
    "          Number of points for matrices A (the same as B).\n",
    "\n",
    "        Returns\n",
    "        -------\n",
    "        sti: ndarray\n",
    "          Total order Sobol' indices, one for each dimensions.\n",
    "        \"\"\"\n",
    "        raise NotImplementedError()\n",
    "\n",
    "\n",
    "class JansenEstimator(SobolEstimator):\n",
    "    \"\"\"\n",
    "    Jansen estimator for total order Sobol' indices.\n",
    "\n",
    "    Ref. Jansen, M., Analysis of variance designs for model output (1999)\n",
    "    https://www.sciencedirect.com/science/article/abs/pii/S0010465598001544\n",
    "    \"\"\"\n",
    "\n",
    "    def __call__(self, masks, outputs, nb_design):\n",
    "        \"\"\"\n",
    "        Compute the Sobol' total order indices according to the Jansen algorithm.\n",
    "\n",
    "        Parameters\n",
    "        ----------\n",
    "        masks\n",
    "          Low resolution masks (before upsampling) used, one for each output.\n",
    "        outputs\n",
    "          Model outputs associated to each masks. One for each sample point of\n",
    "          matrices A, B and C (in order).\n",
    "        nb_design\n",
    "          Number of points for matrices A (the same as B).\n",
    "\n",
    "        Returns\n",
    "        -------\n",
    "        sti\n",
    "          Total order Sobol' indices, one for each dimensions.\n",
    "        \"\"\"\n",
    "        nb_dim = self.masks_dim(masks)\n",
    "        sampling_a, _, replication_c = self.split_abc(outputs, nb_design, nb_dim)\n",
    "\n",
    "        mu_a = np.mean(sampling_a)\n",
    "        var = np.sum([(v - mu_a)**2 for v in sampling_a]) / (len(sampling_a) - 1)\n",
    "\n",
    "        stis = [\n",
    "            np.sum((sampling_a - replication_c[i])**2.0) / (2 * nb_design * var)\n",
    "            for i in range(nb_dim)\n",
    "        ]\n",
    "\n",
    "        return self.post_process(stis, masks)\n",
    "    "
   ]
  },
  {
   "cell_type": "markdown",
   "id": "3333235f-09af-45bb-87f7-03e8e95c58f5",
   "metadata": {
    "jp-MarkdownHeadingCollapsed": true,
    "tags": []
   },
   "source": [
    "### Util Functions"
   ]
  },
  {
   "cell_type": "code",
   "execution_count": 6,
   "id": "800e9c67-f310-4a9d-bea8-528645240bac",
   "metadata": {
    "tags": []
   },
   "outputs": [
    {
     "name": "stdout",
     "output_type": "stream",
     "text": [
      "2023-11-05 12:54:39,256 SequenceTagger predicts: Dictionary with 47 tags: O, S-NP, B-NP, E-NP, I-NP, S-VP, B-VP, E-VP, I-VP, S-PP, B-PP, E-PP, I-PP, S-ADVP, B-ADVP, E-ADVP, I-ADVP, S-SBAR, B-SBAR, E-SBAR, I-SBAR, S-ADJP, B-ADJP, E-ADJP, I-ADJP, S-PRT, B-PRT, E-PRT, I-PRT, S-CONJP, B-CONJP, E-CONJP, I-CONJP, S-INTJ, B-INTJ, E-INTJ, I-INTJ, S-LST, B-LST, E-LST, I-LST, S-UCP, B-UCP, E-UCP, I-UCP, <START>, <STOP>\n"
     ]
    }
   ],
   "source": [
    "import torch\n",
    "from math import ceil\n",
    "import numpy as np\n",
    "from flair.models import SequenceTagger\n",
    "from flair.data import Sentence\n",
    "from typing import List, Callable, Union, Optional, Tuple\n",
    "\n",
    "# load tagger\n",
    "tagger = SequenceTagger.load(\"flair/chunk-english\")\n",
    "\n",
    "\n",
    "\n",
    "def batcher(elements, batch_size: int):\n",
    "    \"\"\"\n",
    "    An iterable to create batches from a list of elements\n",
    "    \"\"\"\n",
    "    nb_batchs = ceil(len(elements) / batch_size)\n",
    "\n",
    "    for batch_i in range(nb_batchs):\n",
    "        batch_start = batch_i * batch_size\n",
    "        batch_end = batch_start + batch_size\n",
    "\n",
    "        batch = elements[batch_start:batch_end]\n",
    "        yield batch\n",
    "        \n",
    "        \n",
    "def tokenize(samples: List[str], tokenizer: Callable, device='cuda'):\n",
    "    \"\"\"\n",
    "    A function to transform a list of strings into tokens to be consumed by the transformer model.\n",
    "    \"\"\"\n",
    "    x = tokenizer(\n",
    "        [s for s in samples],\n",
    "        padding=\"max_length\",\n",
    "        max_length=512,\n",
    "        truncation=True,\n",
    "        return_tensors='pt'\n",
    "    ).to(device)\n",
    "\n",
    "    return x\n",
    "\n",
    "\n",
    "def preprocess(samples: List[Tuple[str, str]], tokenizer: Callable, device='cuda'):\n",
    "    \"\"\"\n",
    "    A basic pre-processing function to transform the format from the imdb dataset to\n",
    "    something easier to work with.\n",
    "    \"\"\"\n",
    "    x, y = samples[:, 0], samples[:, 1]\n",
    "    x = tokenize(x, tokenizer, device)\n",
    "    y = torch.Tensor(y == 'positive').int().to(device)\n",
    "    return x, y\n",
    "\n",
    "\n",
    "def batch_predict(model, tokenizer: Callable, inputs: List[Tuple[str, str]], batch_size: int = 64, device='cuda'):\n",
    "    \"\"\"\n",
    "    A function to pre-process and predict using the transformer model in batches.\n",
    "    \"\"\"\n",
    "    predictions = None\n",
    "    labels = None\n",
    "\n",
    "    with torch.no_grad():\n",
    "        for batch_input in batcher(inputs, batch_size):\n",
    "            xp, yp = preprocess(batch_input, tokenizer, device)\n",
    "            out_batch = model(**xp)\n",
    "            predictions = out_batch if predictions is None else torch.cat([predictions, out_batch])\n",
    "            labels = yp if labels is None else torch.cat([labels, yp])\n",
    "\n",
    "        return predictions, labels\n",
    "    \n",
    "    \n",
    "    \n",
    "def extract_clauses(ds_entry: Union[List[str], str], clause_type=['NP', 'ADJP']) -> List[str]:\n",
    "    \"\"\"\n",
    "    Separates the input texts into clauses, and only keeps the ones belonging to the specified types.\n",
    "    If clause_type is None, the texts are split but all the clauses are kept.\n",
    "\n",
    "    Parameters\n",
    "    ----------\n",
    "    ds_entry\n",
    "        A list of strings that we wish to separate into clauses.\n",
    "    clause_type\n",
    "        A list with the types of clauses to keep. If None, all clauses are kept.\n",
    "\n",
    "    Returns\n",
    "    -------\n",
    "    clause_list\n",
    "        A list with input texts split into clauses.\n",
    "    \"\"\"\n",
    "    s = Sentence(ds_entry)\n",
    "    tagger.predict(s)\n",
    "    clause_list = []\n",
    "    for segment in s.get_labels():\n",
    "        if clause_type is None:\n",
    "            clause_list.append(segment.data_point.text)\n",
    "        elif segment.value in clause_type:\n",
    "            clause_list.append(segment.data_point.text)\n",
    "\n",
    "    return clause_list\n",
    "\n",
    "\n",
    "\n",
    "def batch_activations_fct(model, inputs: List[str], batch_size=64) -> torch.Tensor:\n",
    "    \"\"\"\n",
    "    A function to extract the activations of input texts in batches.\n",
    "    \"\"\"\n",
    "    activations = None\n",
    "    with torch.no_grad():\n",
    "        for batch_input in batcher(inputs, batch_size):\n",
    "            out_batch = model.features(**batch_input)\n",
    "            activations = out_batch if activations is None else torch.cat([activations, out_batch])\n",
    "        return activations\n",
    "    \n",
    "    \n",
    "\n",
    "def acti_preprocess(activations: torch.Tensor) -> np.ndarray:\n",
    "    \"\"\"\n",
    "    A function to preprocess the activations to work with COCKATIEL\n",
    "    \"\"\"\n",
    "    if len(activations.shape) == 4:\n",
    "        activations = torch.mean(activations, (1, 2))\n",
    "\n",
    "    if isinstance(activations, np.ndarray):\n",
    "        activations = torch.Tensor(activations)\n",
    "    if torch.min(activations) < 0:\n",
    "        raise ValueError(\"Please choose a layer with positive activations.\")\n",
    "\n",
    "    return activations.cpu().numpy().astype(np.float32)\n",
    "\n",
    "\n",
    "\n",
    "def calculate_u_values(sentence, cropped_sentences, model, tokenizer, factorization,\n",
    "                       separate, ignore_words: Optional[List[str]] = None, device='cuda') -> np.ndarray:\n",
    "    if ignore_words is None:\n",
    "        ignore_words = []\n",
    "    with torch.no_grad():\n",
    "        activations = None\n",
    "        for crop_id in range(-1, len(cropped_sentences)):\n",
    "            if crop_id == -1:\n",
    "                perturbated_review = sentence\n",
    "            elif cropped_sentences[crop_id] not in ignore_words:\n",
    "                perturbated_review = separate.join(np.delete(cropped_sentences, crop_id))\n",
    "            else:\n",
    "                continue\n",
    "            tokenized_perturbated_review = tokenizer(perturbated_review, truncation=True, padding=True, return_tensors=\"pt\").to(device)\n",
    "            activation = model.features(**tokenized_perturbated_review)\n",
    "            activations = activation if activations is None else torch.cat([activations, activation])\n",
    "\n",
    "        activations = acti_preprocess(activations)\n",
    "        u_values = factorization.transform(activations)\n",
    "        \n",
    "        return u_values\n",
    "    \n",
    "\n",
    "    \n",
    "def calculate_importance(\n",
    "        words: List[str], u_values: np.ndarray, concept_id: int, ignore_words: List[str]\n",
    ") -> List[float]:\n",
    "    \"\"\"\n",
    "    Calculates the presence of concepts in the input list of words.\n",
    "    \"\"\"\n",
    "    u_delta = u_values[0, concept_id] - u_values[1:, concept_id]\n",
    "    importances = []\n",
    "    delta_id = 0  # pointer to get current id in importance (as we skip unused word)\n",
    "\n",
    "    for word_id in range(len(words)):\n",
    "        if words[word_id] not in ignore_words:\n",
    "            importances.append(u_delta[delta_id])\n",
    "            delta_id += 1\n",
    "        else:\n",
    "            importances.append(0.0)\n",
    "\n",
    "    return importances\n",
    "\n",
    "\n",
    "\n",
    "def extract_excerpts(raw_dataset, n_reviews_for_excerpts):\n",
    "    \n",
    "    sentence_separators = ['.', '...', '?', '!', '..']\n",
    "    excerpt_dataset = []\n",
    "    \n",
    "    for review in raw_dataset[:n_reviews_for_excerpts]:\n",
    "        review = str(review)\n",
    "        \n",
    "        for sep in sentence_separators:\n",
    "            review = review.replace(sep, '.')\n",
    "  \n",
    "        cropped_review = review.split('.')\n",
    "    \n",
    "        for crop in cropped_review:\n",
    "            \n",
    "            if len(crop):\n",
    "                crop = crop + '.'\n",
    "                \n",
    "                while crop[0] == ' ':\n",
    "                    crop = crop[1:]\n",
    "      \n",
    "                if crop[0].isupper():  \n",
    "                    excerpt_dataset.append(crop)\n",
    "                \n",
    "    return excerpt_dataset"
   ]
  },
  {
   "cell_type": "markdown",
   "id": "0a4707b0-4508-4df0-9351-a66081fa5957",
   "metadata": {
    "jp-MarkdownHeadingCollapsed": true,
    "tags": []
   },
   "source": [
    "### Visualization"
   ]
  },
  {
   "cell_type": "code",
   "execution_count": 7,
   "id": "3aa714f3-ee46-422d-b6a3-44b537f8b028",
   "metadata": {
    "tags": []
   },
   "outputs": [
    {
     "name": "stderr",
     "output_type": "stream",
     "text": [
      "C:\\Users\\onurp\\AppData\\Local\\Temp\\ipykernel_10768\\643952814.py:3: DeprecationWarning: Importing display from IPython.core.display is deprecated since IPython 7.14, please import from IPython display\n",
      "  from IPython.core.display import display, HTML\n",
      "[nltk_data] Downloading package punkt to\n",
      "[nltk_data]     C:\\Users\\onurp\\AppData\\Roaming\\nltk_data...\n",
      "[nltk_data]   Package punkt is already up-to-date!\n",
      "C:\\Users\\onurp\\AppData\\Local\\Temp\\ipykernel_10768\\643952814.py:8: MatplotlibDeprecationWarning: The seaborn styles shipped by Matplotlib are deprecated since 3.6, as they no longer correspond to the styles shipped by seaborn. However, they will remain available as 'seaborn-v0_8-<style>'. Alternatively, directly use the seaborn API instead.\n",
      "  plt.style.use('seaborn')\n"
     ]
    }
   ],
   "source": [
    "import numpy as np\n",
    "import matplotlib.pyplot as plt\n",
    "from IPython.core.display import display, HTML\n",
    "from typing import List, Optional\n",
    "import nltk\n",
    "from nltk.tokenize import word_tokenize\n",
    "nltk.download('punkt')\n",
    "plt.style.use('seaborn')\n",
    "\n",
    "\n",
    "\n",
    "\"\"\"\n",
    "A module for generating plots for the explanations on notebooks.\n",
    "\"\"\"\n",
    "\n",
    "def print_legend(colors, label_to_criterion):\n",
    "    \"\"\"\n",
    "    Prints the legend for the plot in different colors.\n",
    "\n",
    "    Parameters\n",
    "    ----------\n",
    "    colors\n",
    "        A dictionary with the colors for each label.\n",
    "    label_to_criterion\n",
    "        A dictionary with the text to put on each label.\n",
    "    \"\"\"\n",
    "    html = []\n",
    "    for label_id in label_to_criterion.keys():\n",
    "        html.append(f'<span style=\"background-color: {colors[label_id]} 0.5); padding: 1px 5px; border: solid 3px ; border-color: {colors[label_id]} 1); #EFEFEF\">{label_to_criterion[label_id]} </span>')\n",
    "    display(HTML(\"<div style='display: flex; width: 400px; flex-wrap: wrap'>\" +  \" \".join(html) + \" </div>\" ))\n",
    "    display(HTML('<br><br>'))\n",
    "\n",
    "\n",
    "def viz_concepts(\n",
    "        text,\n",
    "        explanation,\n",
    "        colors,\n",
    "        ignore_words: Optional[List[str]] = None,\n",
    "        extract_fct: str = \"clause\"\n",
    "):\n",
    "    \"\"\"\n",
    "    Generates the visualization for COCKATIEL's explanations.\n",
    "\n",
    "    Parameters\n",
    "    ----------\n",
    "    text\n",
    "        A string with the text we wish to explain.\n",
    "    explanation\n",
    "        An array that corresponds to the output of the occlusion function.\n",
    "    ignore_words\n",
    "        A list of strings to ignore when applying occlusion.\n",
    "    extract_fct\n",
    "        A string indicating whether at which level we wish to explain: \"word\", \"clause\" or \"sentence\".\n",
    "    colors\n",
    "        A dictionary with the colors for each label\n",
    "    \"\"\"\n",
    "    try:\n",
    "        text = text.decode('utf-8')\n",
    "    except:\n",
    "        text = str(text)\n",
    "\n",
    "    if extract_fct == \"clause\":\n",
    "        words = extract_clauses(text, clause_type=None)\n",
    "    else:\n",
    "        words = word_tokenize(text)\n",
    "\n",
    "    l_phi = np.array(explanation)\n",
    "\n",
    "    phi_html = []\n",
    "\n",
    "    p = 0  # pointer to get current color for the words (it does not color words that have no phi)\n",
    "    for i in range(len(words)):\n",
    "        if words[i] not in ignore_words:\n",
    "            k = 0\n",
    "            for j in range(len(l_phi)):\n",
    "                if l_phi[k][p] < l_phi[j][p]:\n",
    "                    k = j\n",
    "\n",
    "            if l_phi[k][p] > 0.2:\n",
    "                phi_html.append(f'<span style=\"background-color: {colors[k]} {l_phi[k][p]}); padding: 1px 5px; border: solid 3px ; border-color: {colors[k]} 1); #EFEFEF\">{words[i]}</span>')\n",
    "                p += 1\n",
    "            else:\n",
    "                phi_html.append(f'<span style=\"background-color: rgba(233,30,99,0);  padding: 1px 5px; border: solid 3px ; border-color:  rgba(233,30,99,0); #EFEFEF\">{words[i]}</span>')\n",
    "                p += 1\n",
    "        else:\n",
    "            phi_html.append(f'<span style=\"background-color: rgba(233,30,99,0);  padding: 1px 5px; border: solid 3px ; border-color:  rgba(233,30,99,0); #EFEFEF\">{words[i]}</span>')\n",
    "    display(HTML(\"<div style='display: flex; width: 400px; flex-wrap: wrap'>\" +  \" \".join(phi_html) + \" </div>\" ))\n",
    "    display(HTML('<br><br>'))\n",
    "    \n",
    "    \n",
    "\n",
    "def plot_glob_importances(global_importance_pos, global_importance_neg):\n",
    "\n",
    "    plt.figure(figsize=(22, 5))\n",
    "\n",
    "    plt.subplot(121)\n",
    "    cm = plt.get_cmap('tab20')\n",
    "    plt.bar(range(len(global_importance_pos)), global_importance_pos, color=cm.colors, tick_label=range(len(global_importance_pos)))\n",
    "    plt.title(\"Concepts for Positive Class\")\n",
    "\n",
    "    plt.subplot(122)\n",
    "    cm = plt.get_cmap('tab20')\n",
    "    plt.bar(range(len(global_importance_pos)), global_importance_neg, color=cm.colors, tick_label=range(len(global_importance_neg)))\n",
    "    plt.title(\"Concepts for Negative Class\")\n",
    "\n",
    "    plt.show()\n",
    "    \n",
    "    return None\n",
    "\n",
    "\n",
    "\n",
    "def plot_reviews_exp(segments_pos, u_segments_pos, factorization_pos, global_importance_pos,\n",
    "                     segments_neg, u_segments_neg, factorization_neg, global_importance_neg,\n",
    "                     custom_samples, samples_to_test=None\n",
    "                    ):\n",
    "    \n",
    "    # Find Concept IDs\n",
    "    \n",
    "    m_pos = 2 # Number of concept looked for the positive class \n",
    "    m_neg = 3 # Number of concept looked for the negative class\n",
    "\n",
    "    l_concept_id_pos = np.argsort(global_importance_pos)[::-1][:m_pos]\n",
    "    l_concept_id_neg = np.argsort(global_importance_neg)[::-1][:m_neg]\n",
    "    \n",
    "    \n",
    "    \n",
    "    # Create dictionnaries for legend with a color for each concept:\n",
    "    # Use m_pos+m_neg concepts, so we have to create a dictionnary \"colors\" with m_pos+m_neg colors. \n",
    "    # In the dictionnary \"label_to_criterion\", add the corresponding concept for each color.\n",
    "\n",
    "    colors = {\n",
    "        0: \"rgba(9, 221, 55, \", #green\n",
    "        1: \"rgba(9, 221, 161, \", #turquoise\n",
    "        #2: \"rgba(9, 175, 221, \", #blue\n",
    "        2: \"rgba(221, 9, 34, \", #red\n",
    "        3: \"rgba(221, 9, 140,\", #pink\n",
    "        4: \"rgba(221, 90, 9, \", #orange\n",
    "    }\n",
    "\n",
    "    label_to_criterion = {\n",
    "        0: \"Positive label: concept1\",\n",
    "        1: \"Positive label: concept2\",\n",
    "        #2: \"Positive label: concept3\",\n",
    "        2: \"Negative label: concept1\",\n",
    "        3: \"Negative label: concept2\",\n",
    "        4: \"Negative label: concept3\",\n",
    "    }\n",
    "\n",
    "\n",
    "    #sanity check:\n",
    "    if len(label_to_criterion.keys()) != len(colors.keys()) or len(label_to_criterion.keys()) != (m_pos + m_neg):\n",
    "        print(\"Error: check that you have the correct number of colors and labels in your dictionaries to cover the number of concepts being looked at\")\n",
    "        \n",
    "        \n",
    "        \n",
    "    print_legend(colors, label_to_criterion)\n",
    "    \n",
    "    \n",
    "\n",
    "        \n",
    "    # Visualize explanations of custom samples\n",
    "    \n",
    "    if custom_samples is True:\n",
    "    \n",
    "        l_mip_sentences_neg = np.array(samples_to_test[0])\n",
    "        l_mip_sentences_pos = np.array(samples_to_test[1])\n",
    "        \n",
    "        n = len(l_mip_sentences_neg)    # Number of reviews for each labels and each concept\n",
    "        \n",
    "        \n",
    "        for sentence in l_mip_sentences_pos:\n",
    "            \n",
    "            phi = occlusion_concepts(sentence, model, tokenizer, [factorization_pos, factorization_neg], [l_concept_id_pos, l_concept_id_neg], ignore_words = [], two_labels = True, device = device)\n",
    "            phi /= np.max(np.abs(phi)) + 1e-5\n",
    "            viz_concepts(sentence, phi, colors, ignore_words = [])\n",
    "            \n",
    "        for sentence in l_mip_sentences_neg:\n",
    "            \n",
    "            phi = occlusion_concepts(sentence,  model, tokenizer, [factorization_pos, factorization_neg], [l_concept_id_pos, l_concept_id_neg], ignore_words = [], two_labels = True, device = device)\n",
    "            phi /= np.max(np.abs(phi)) + 1e-5\n",
    "            viz_concepts(sentence, phi, colors, ignore_words = [])\n",
    "        \n",
    "    \n",
    "    \n",
    "    # Visualize explanations of IMDB reviews\n",
    "    \n",
    "    elif custom_samples is False:\n",
    "        \n",
    "        # Find most important sentences that are associated with most important concepts\n",
    "        \n",
    "        n = 10\n",
    "        \n",
    "        l_mip_sentences_pos, l_mip_sentences_neg = [], []\n",
    "\n",
    "        # Add sentence of positive label\n",
    "        for concept_id in l_concept_id_pos:\n",
    "\n",
    "            mip_sentences_ids = np.argsort(u_segments_pos[:, concept_id])[::-1][:n]\n",
    "            mip_sentences = np.array(segments_pos)[mip_sentences_ids]\n",
    "            l_mip_sentences_pos.append(mip_sentences)\n",
    "\n",
    "        # Add sentence of negative label\n",
    "        for concept_id in l_concept_id_neg:\n",
    "\n",
    "            mip_sentences_ids = np.argsort(u_segments_neg[:, concept_id])[::-1][:n]\n",
    "            mip_sentences = np.array(segments_neg)[mip_sentences_ids]\n",
    "            l_mip_sentences_neg.append(mip_sentences)\n",
    "\n",
    "        l_mip_sentences_pos = np.array(l_mip_sentences_pos)\n",
    "        l_mip_sentences_pos = l_mip_sentences_pos.flatten()\n",
    "        l_mip_sentences_neg = np.array(l_mip_sentences_neg)\n",
    "        l_mip_sentences_neg = l_mip_sentences_neg.flatten()\n",
    "    \n",
    "\n",
    "    \n",
    "        print(\"positive predicted reviews:\")\n",
    "        print(\"\\n\")\n",
    "        i = 0\n",
    "        for sentence in l_mip_sentences_pos:\n",
    "            if i%n == 0 :\n",
    "                print(\"\\n\")\n",
    "                print(str(n) + \" most important reviews for positive predicted label - concept\" + str(i//n + 1) +\":\")\n",
    "                print(\"\\n\")\n",
    "            phi = occlusion_concepts(sentence, model, tokenizer, [factorization_pos, factorization_neg], [l_concept_id_pos, l_concept_id_neg], ignore_words = [], two_labels = True, device = device)\n",
    "            phi /= np.max(np.abs(phi)) + 1e-5\n",
    "            viz_concepts(sentence, phi, colors, ignore_words = [])\n",
    "            i += 1\n",
    "\n",
    "        print(\"\\n\")\n",
    "        print(\"negative predicted reviews:\")\n",
    "        print(\"\\n\")\n",
    "\n",
    "        i = 0\n",
    "        for sentence in l_mip_sentences_neg:\n",
    "\n",
    "            if i%n == 0 :\n",
    "                print(\"\\n\")\n",
    "                print(str(n) + \" most important reviews for negative predicted label - concept\" + str(i//n + 1) +\":\")\n",
    "                print(\"\\n\")\n",
    "            phi = occlusion_concepts(sentence,  model, tokenizer, [factorization_pos, factorization_neg], [l_concept_id_pos, l_concept_id_neg], ignore_words = [], two_labels = True, device = device)\n",
    "            phi /= np.max(np.abs(phi)) + 1e-5\n",
    "            viz_concepts(sentence, phi, colors, ignore_words = [])\n",
    "            i +=1\n",
    "        \n",
    "    return None"
   ]
  },
  {
   "cell_type": "markdown",
   "id": "46954b6c-555f-4bfd-b2bb-38ce49e8d47e",
   "metadata": {},
   "source": [
    "## Personal Study's Code"
   ]
  },
  {
   "cell_type": "markdown",
   "id": "f102358e-2bf6-4173-af7e-b79cf5977887",
   "metadata": {
    "jp-MarkdownHeadingCollapsed": true,
    "tags": []
   },
   "source": [
    "### IMDB Data Analysis and Preprocessing"
   ]
  },
  {
   "cell_type": "code",
   "execution_count": 8,
   "id": "9fb65c11-05c7-4ff1-a2bc-caa2fd2e596a",
   "metadata": {
    "tags": []
   },
   "outputs": [],
   "source": [
    "import pandas as pd\n",
    "import numpy as np"
   ]
  },
  {
   "cell_type": "code",
   "execution_count": 9,
   "id": "e9d3006d-f0ad-4b5b-a3ba-867d7674e011",
   "metadata": {
    "tags": []
   },
   "outputs": [
    {
     "data": {
      "text/html": [
       "<div>\n",
       "<style scoped>\n",
       "    .dataframe tbody tr th:only-of-type {\n",
       "        vertical-align: middle;\n",
       "    }\n",
       "\n",
       "    .dataframe tbody tr th {\n",
       "        vertical-align: top;\n",
       "    }\n",
       "\n",
       "    .dataframe thead th {\n",
       "        text-align: right;\n",
       "    }\n",
       "</style>\n",
       "<table border=\"1\" class=\"dataframe\">\n",
       "  <thead>\n",
       "    <tr style=\"text-align: right;\">\n",
       "      <th></th>\n",
       "      <th>review</th>\n",
       "      <th>sentiment</th>\n",
       "    </tr>\n",
       "  </thead>\n",
       "  <tbody>\n",
       "    <tr>\n",
       "      <th>0</th>\n",
       "      <td>One of the other reviewers has mentioned that ...</td>\n",
       "      <td>positive</td>\n",
       "    </tr>\n",
       "    <tr>\n",
       "      <th>1</th>\n",
       "      <td>A wonderful little production. The filming tec...</td>\n",
       "      <td>positive</td>\n",
       "    </tr>\n",
       "    <tr>\n",
       "      <th>2</th>\n",
       "      <td>I thought this was a wonderful way to spend ti...</td>\n",
       "      <td>positive</td>\n",
       "    </tr>\n",
       "    <tr>\n",
       "      <th>3</th>\n",
       "      <td>Basically there's a family where a little boy ...</td>\n",
       "      <td>negative</td>\n",
       "    </tr>\n",
       "    <tr>\n",
       "      <th>4</th>\n",
       "      <td>Petter Mattei's Love in the Time of Money is a...</td>\n",
       "      <td>positive</td>\n",
       "    </tr>\n",
       "    <tr>\n",
       "      <th>...</th>\n",
       "      <td>...</td>\n",
       "      <td>...</td>\n",
       "    </tr>\n",
       "    <tr>\n",
       "      <th>49992</th>\n",
       "      <td>I thought this movie did a down right good job...</td>\n",
       "      <td>positive</td>\n",
       "    </tr>\n",
       "    <tr>\n",
       "      <th>49993</th>\n",
       "      <td>Bad plot, bad dialogue, bad acting, idiotic di...</td>\n",
       "      <td>negative</td>\n",
       "    </tr>\n",
       "    <tr>\n",
       "      <th>49994</th>\n",
       "      <td>I am a Catholic taught in parochial elementary...</td>\n",
       "      <td>negative</td>\n",
       "    </tr>\n",
       "    <tr>\n",
       "      <th>49995</th>\n",
       "      <td>I'm going to have to disagree with the previou...</td>\n",
       "      <td>negative</td>\n",
       "    </tr>\n",
       "    <tr>\n",
       "      <th>49996</th>\n",
       "      <td>No one expects the Star Trek movies to be high...</td>\n",
       "      <td>negative</td>\n",
       "    </tr>\n",
       "  </tbody>\n",
       "</table>\n",
       "<p>49997 rows × 2 columns</p>\n",
       "</div>"
      ],
      "text/plain": [
       "                                                  review sentiment\n",
       "0      One of the other reviewers has mentioned that ...  positive\n",
       "1      A wonderful little production. The filming tec...  positive\n",
       "2      I thought this was a wonderful way to spend ti...  positive\n",
       "3      Basically there's a family where a little boy ...  negative\n",
       "4      Petter Mattei's Love in the Time of Money is a...  positive\n",
       "...                                                  ...       ...\n",
       "49992  I thought this movie did a down right good job...  positive\n",
       "49993  Bad plot, bad dialogue, bad acting, idiotic di...  negative\n",
       "49994  I am a Catholic taught in parochial elementary...  negative\n",
       "49995  I'm going to have to disagree with the previou...  negative\n",
       "49996  No one expects the Star Trek movies to be high...  negative\n",
       "\n",
       "[49997 rows x 2 columns]"
      ]
     },
     "execution_count": 9,
     "metadata": {},
     "output_type": "execute_result"
    }
   ],
   "source": [
    "df_imdb_clean = pd.read_csv(\"../Concept-based-Explanation-for-NLP/data/IMDB_Dataset_clean.csv\", index_col=0)\n",
    "df_imdb_clean"
   ]
  },
  {
   "cell_type": "code",
   "execution_count": 10,
   "id": "12eecf8d-9f15-4af8-be3e-dd2a3b517dc2",
   "metadata": {
    "tags": []
   },
   "outputs": [
    {
     "name": "stdout",
     "output_type": "stream",
     "text": [
      "sentiment\n",
      "positive    24999\n",
      "negative    24998\n",
      "Name: count, dtype: int64\n"
     ]
    }
   ],
   "source": [
    "print(df_imdb_clean['sentiment'].value_counts())"
   ]
  },
  {
   "cell_type": "code",
   "execution_count": 11,
   "id": "5c3ac3bf-2a6c-4d4c-93de-d09e3423406e",
   "metadata": {
    "tags": []
   },
   "outputs": [
    {
     "name": "stdout",
     "output_type": "stream",
     "text": [
      "Max number of words in a sentence: 500\n",
      "Min number of words in a sentence: 4\n",
      "Avg number of words in a sentence: 209\n"
     ]
    }
   ],
   "source": [
    "import matplotlib.pyplot as plt\n",
    "import seaborn as sns\n",
    "\n",
    "# Extract the word counts of each sentence \n",
    "lengths = [len(string.split()) for string in df_imdb_clean['review']]\n",
    "\n",
    "print(\"Max number of words in a sentence:\", max(lengths))\n",
    "print(\"Min number of words in a sentence:\", min(lengths))\n",
    "print(\"Avg number of words in a sentence:\", round(sum(lengths) / len(lengths)))"
   ]
  },
  {
   "cell_type": "code",
   "execution_count": 12,
   "id": "f1d88153-8a02-4d1f-a76a-f11332bd84de",
   "metadata": {
    "tags": []
   },
   "outputs": [
    {
     "data": {
      "image/png": "[encoded data removed]",
      "text/plain": [
       "<Figure size 2000x800 with 1 Axes>"
      ]
     },
     "metadata": {},
     "output_type": "display_data"
    }
   ],
   "source": [
    "# Generate a histogram to group the data points\n",
    "hist, bins = np.histogram(lengths, bins=150)\n",
    "\n",
    "# Create the histogram plot\n",
    "plt.figure(figsize=(20, 8))\n",
    "plt.hist(lengths, bins=bins, edgecolor='k')\n",
    "plt.xlabel('Number of Words in a Sentence')\n",
    "plt.ylabel('Number of Sentences')\n",
    "plt.title('Distribution of Word Counts in Sentences')\n",
    "plt.show()"
   ]
  },
  {
   "cell_type": "markdown",
   "id": "f8263872-8ad2-47a1-8c3d-3dd227581ce6",
   "metadata": {
    "jp-MarkdownHeadingCollapsed": true,
    "tags": []
   },
   "source": [
    "#### Comparison with Huggingface's Version"
   ]
  },
  {
   "cell_type": "code",
   "execution_count": 13,
   "id": "a2cbb1d8-8364-419d-b864-163e2beae798",
   "metadata": {
    "tags": []
   },
   "outputs": [],
   "source": [
    "from datasets import load_dataset\n",
    "\n",
    "hugg_imdb = load_dataset(\"imdb\")"
   ]
  },
  {
   "cell_type": "code",
   "execution_count": 14,
   "id": "20b01938-76e1-4ddd-a28b-d719fbc4df71",
   "metadata": {
    "tags": []
   },
   "outputs": [
    {
     "name": "stdout",
     "output_type": "stream",
     "text": [
      "(25000, 2) (25000, 2)\n"
     ]
    }
   ],
   "source": [
    "df_hugg_imdb_train = hugg_imdb['train'].to_pandas()\n",
    "df_hugg_imdb_test = hugg_imdb['test'].to_pandas()\n",
    "\n",
    "print(df_hugg_imdb_train.shape, df_hugg_imdb_test.shape)"
   ]
  },
  {
   "cell_type": "code",
   "execution_count": 15,
   "id": "8bc916ef-9c3d-4ca7-89cb-251b103abf02",
   "metadata": {
    "tags": []
   },
   "outputs": [
    {
     "data": {
      "text/html": [
       "<div>\n",
       "<style scoped>\n",
       "    .dataframe tbody tr th:only-of-type {\n",
       "        vertical-align: middle;\n",
       "    }\n",
       "\n",
       "    .dataframe tbody tr th {\n",
       "        vertical-align: top;\n",
       "    }\n",
       "\n",
       "    .dataframe thead th {\n",
       "        text-align: right;\n",
       "    }\n",
       "</style>\n",
       "<table border=\"1\" class=\"dataframe\">\n",
       "  <thead>\n",
       "    <tr style=\"text-align: right;\">\n",
       "      <th></th>\n",
       "      <th>text</th>\n",
       "      <th>label</th>\n",
       "      <th>text</th>\n",
       "      <th>label</th>\n",
       "    </tr>\n",
       "  </thead>\n",
       "  <tbody>\n",
       "    <tr>\n",
       "      <th>0</th>\n",
       "      <td>I rented I AM CURIOUS-YELLOW from my video sto...</td>\n",
       "      <td>0</td>\n",
       "      <td>I love sci-fi and am willing to put up with a ...</td>\n",
       "      <td>0</td>\n",
       "    </tr>\n",
       "    <tr>\n",
       "      <th>1</th>\n",
       "      <td>\"I Am Curious: Yellow\" is a risible and preten...</td>\n",
       "      <td>0</td>\n",
       "      <td>Worth the entertainment value of a rental, esp...</td>\n",
       "      <td>0</td>\n",
       "    </tr>\n",
       "    <tr>\n",
       "      <th>2</th>\n",
       "      <td>If only to avoid making this type of film in t...</td>\n",
       "      <td>0</td>\n",
       "      <td>its a totally average film with a few semi-alr...</td>\n",
       "      <td>0</td>\n",
       "    </tr>\n",
       "    <tr>\n",
       "      <th>3</th>\n",
       "      <td>This film was probably inspired by Godard's Ma...</td>\n",
       "      <td>0</td>\n",
       "      <td>STAR RATING: ***** Saturday Night **** Friday ...</td>\n",
       "      <td>0</td>\n",
       "    </tr>\n",
       "    <tr>\n",
       "      <th>4</th>\n",
       "      <td>Oh, brother...after hearing about this ridicul...</td>\n",
       "      <td>0</td>\n",
       "      <td>First off let me say, If you haven't enjoyed a...</td>\n",
       "      <td>0</td>\n",
       "    </tr>\n",
       "    <tr>\n",
       "      <th>...</th>\n",
       "      <td>...</td>\n",
       "      <td>...</td>\n",
       "      <td>...</td>\n",
       "      <td>...</td>\n",
       "    </tr>\n",
       "    <tr>\n",
       "      <th>24995</th>\n",
       "      <td>A hit at the time but now better categorised a...</td>\n",
       "      <td>1</td>\n",
       "      <td>Just got around to seeing Monster Man yesterda...</td>\n",
       "      <td>1</td>\n",
       "    </tr>\n",
       "    <tr>\n",
       "      <th>24996</th>\n",
       "      <td>I love this movie like no other. Another time ...</td>\n",
       "      <td>1</td>\n",
       "      <td>I got this as part of a competition prize. I w...</td>\n",
       "      <td>1</td>\n",
       "    </tr>\n",
       "    <tr>\n",
       "      <th>24997</th>\n",
       "      <td>This film and it's sequel Barry Mckenzie holds...</td>\n",
       "      <td>1</td>\n",
       "      <td>I got Monster Man in a box set of three films ...</td>\n",
       "      <td>1</td>\n",
       "    </tr>\n",
       "    <tr>\n",
       "      <th>24998</th>\n",
       "      <td>'The Adventures Of Barry McKenzie' started lif...</td>\n",
       "      <td>1</td>\n",
       "      <td>Five minutes in, i started to feel how naff th...</td>\n",
       "      <td>1</td>\n",
       "    </tr>\n",
       "    <tr>\n",
       "      <th>24999</th>\n",
       "      <td>The story centers around Barry McKenzie who mu...</td>\n",
       "      <td>1</td>\n",
       "      <td>I caught this movie on the Sci-Fi channel rece...</td>\n",
       "      <td>1</td>\n",
       "    </tr>\n",
       "  </tbody>\n",
       "</table>\n",
       "<p>25000 rows × 4 columns</p>\n",
       "</div>"
      ],
      "text/plain": [
       "                                                    text  label  \\\n",
       "0      I rented I AM CURIOUS-YELLOW from my video sto...      0   \n",
       "1      \"I Am Curious: Yellow\" is a risible and preten...      0   \n",
       "2      If only to avoid making this type of film in t...      0   \n",
       "3      This film was probably inspired by Godard's Ma...      0   \n",
       "4      Oh, brother...after hearing about this ridicul...      0   \n",
       "...                                                  ...    ...   \n",
       "24995  A hit at the time but now better categorised a...      1   \n",
       "24996  I love this movie like no other. Another time ...      1   \n",
       "24997  This film and it's sequel Barry Mckenzie holds...      1   \n",
       "24998  'The Adventures Of Barry McKenzie' started lif...      1   \n",
       "24999  The story centers around Barry McKenzie who mu...      1   \n",
       "\n",
       "                                                    text  label  \n",
       "0      I love sci-fi and am willing to put up with a ...      0  \n",
       "1      Worth the entertainment value of a rental, esp...      0  \n",
       "2      its a totally average film with a few semi-alr...      0  \n",
       "3      STAR RATING: ***** Saturday Night **** Friday ...      0  \n",
       "4      First off let me say, If you haven't enjoyed a...      0  \n",
       "...                                                  ...    ...  \n",
       "24995  Just got around to seeing Monster Man yesterda...      1  \n",
       "24996  I got this as part of a competition prize. I w...      1  \n",
       "24997  I got Monster Man in a box set of three films ...      1  \n",
       "24998  Five minutes in, i started to feel how naff th...      1  \n",
       "24999  I caught this movie on the Sci-Fi channel rece...      1  \n",
       "\n",
       "[25000 rows x 4 columns]"
      ]
     },
     "metadata": {},
     "output_type": "display_data"
    },
    {
     "data": {
      "text/html": [
       "<div>\n",
       "<style scoped>\n",
       "    .dataframe tbody tr th:only-of-type {\n",
       "        vertical-align: middle;\n",
       "    }\n",
       "\n",
       "    .dataframe tbody tr th {\n",
       "        vertical-align: top;\n",
       "    }\n",
       "\n",
       "    .dataframe thead th {\n",
       "        text-align: right;\n",
       "    }\n",
       "</style>\n",
       "<table border=\"1\" class=\"dataframe\">\n",
       "  <thead>\n",
       "    <tr style=\"text-align: right;\">\n",
       "      <th></th>\n",
       "      <th>review</th>\n",
       "      <th>sentiment</th>\n",
       "    </tr>\n",
       "  </thead>\n",
       "  <tbody>\n",
       "    <tr>\n",
       "      <th>0</th>\n",
       "      <td>One of the other reviewers has mentioned that ...</td>\n",
       "      <td>positive</td>\n",
       "    </tr>\n",
       "    <tr>\n",
       "      <th>1</th>\n",
       "      <td>A wonderful little production. The filming tec...</td>\n",
       "      <td>positive</td>\n",
       "    </tr>\n",
       "    <tr>\n",
       "      <th>2</th>\n",
       "      <td>I thought this was a wonderful way to spend ti...</td>\n",
       "      <td>positive</td>\n",
       "    </tr>\n",
       "    <tr>\n",
       "      <th>3</th>\n",
       "      <td>Basically there's a family where a little boy ...</td>\n",
       "      <td>negative</td>\n",
       "    </tr>\n",
       "    <tr>\n",
       "      <th>4</th>\n",
       "      <td>Petter Mattei's Love in the Time of Money is a...</td>\n",
       "      <td>positive</td>\n",
       "    </tr>\n",
       "    <tr>\n",
       "      <th>...</th>\n",
       "      <td>...</td>\n",
       "      <td>...</td>\n",
       "    </tr>\n",
       "    <tr>\n",
       "      <th>49992</th>\n",
       "      <td>I thought this movie did a down right good job...</td>\n",
       "      <td>positive</td>\n",
       "    </tr>\n",
       "    <tr>\n",
       "      <th>49993</th>\n",
       "      <td>Bad plot, bad dialogue, bad acting, idiotic di...</td>\n",
       "      <td>negative</td>\n",
       "    </tr>\n",
       "    <tr>\n",
       "      <th>49994</th>\n",
       "      <td>I am a Catholic taught in parochial elementary...</td>\n",
       "      <td>negative</td>\n",
       "    </tr>\n",
       "    <tr>\n",
       "      <th>49995</th>\n",
       "      <td>I'm going to have to disagree with the previou...</td>\n",
       "      <td>negative</td>\n",
       "    </tr>\n",
       "    <tr>\n",
       "      <th>49996</th>\n",
       "      <td>No one expects the Star Trek movies to be high...</td>\n",
       "      <td>negative</td>\n",
       "    </tr>\n",
       "  </tbody>\n",
       "</table>\n",
       "<p>49997 rows × 2 columns</p>\n",
       "</div>"
      ],
      "text/plain": [
       "                                                  review sentiment\n",
       "0      One of the other reviewers has mentioned that ...  positive\n",
       "1      A wonderful little production. The filming tec...  positive\n",
       "2      I thought this was a wonderful way to spend ti...  positive\n",
       "3      Basically there's a family where a little boy ...  negative\n",
       "4      Petter Mattei's Love in the Time of Money is a...  positive\n",
       "...                                                  ...       ...\n",
       "49992  I thought this movie did a down right good job...  positive\n",
       "49993  Bad plot, bad dialogue, bad acting, idiotic di...  negative\n",
       "49994  I am a Catholic taught in parochial elementary...  negative\n",
       "49995  I'm going to have to disagree with the previou...  negative\n",
       "49996  No one expects the Star Trek movies to be high...  negative\n",
       "\n",
       "[49997 rows x 2 columns]"
      ]
     },
     "metadata": {},
     "output_type": "display_data"
    }
   ],
   "source": [
    "display(pd.concat([df_hugg_imdb_train, df_hugg_imdb_test], axis=1))\n",
    "display(df_imdb_clean)"
   ]
  },
  {
   "cell_type": "code",
   "execution_count": 16,
   "id": "f716ae5e-d926-4e04-b881-0cff67482850",
   "metadata": {
    "tags": []
   },
   "outputs": [
    {
     "data": {
      "image/png": "[encoded data removed]",
      "text/plain": [
       "<Figure size 600x400 with 1 Axes>"
      ]
     },
     "metadata": {},
     "output_type": "display_data"
    }
   ],
   "source": [
    "# Calculate the number of quartiles\n",
    "num_quartiles = 4\n",
    "\n",
    "# Calculate the number of samples in each quartile\n",
    "quartile_size = len(df_hugg_imdb_train) // num_quartiles\n",
    "\n",
    "# Initialize counters\n",
    "positive_counts = []\n",
    "negative_counts = []\n",
    "\n",
    "# Iterate through each quartile\n",
    "for i in range(num_quartiles):\n",
    "    start_idx = i * quartile_size\n",
    "    end_idx = (i + 1) * quartile_size\n",
    "\n",
    "    quartile = df_hugg_imdb_train[start_idx:end_idx]\n",
    "    \n",
    "    positive_samples = len(quartile[quartile['label'] == 1])\n",
    "    negative_samples = len(quartile[quartile['label'] == 0])\n",
    "    \n",
    "    positive_counts.append(positive_samples)\n",
    "    negative_counts.append(negative_samples)\n",
    "\n",
    "# Create a bar plot with specified dimensions\n",
    "plt.figure(figsize=(6, 4))\n",
    "quartile_labels = [f'Quartile {i+1}' for i in range(num_quartiles)]\n",
    "width = 0.2\n",
    "x = range(num_quartiles)\n",
    "\n",
    "plt.bar(x, positive_counts, width, label='Positive', color='lightgreen')\n",
    "plt.bar([i + width for i in x], negative_counts, width, label='Negative', color='red')\n",
    "\n",
    "plt.ylabel('Count')\n",
    "plt.title('Distribution of Sentiments in Quartiles (Train Set)')\n",
    "plt.xticks([i + width / 2 for i in x], quartile_labels)\n",
    "plt.legend(loc='upper right', bbox_to_anchor=(1.25, 1))\n",
    "plt.show()"
   ]
  },
  {
   "cell_type": "code",
   "execution_count": 17,
   "id": "839e0c75-ae45-4c6a-8b26-2460492d4e0a",
   "metadata": {
    "tags": []
   },
   "outputs": [
    {
     "data": {
      "image/png": "[encoded data removed]",
      "text/plain": [
       "<Figure size 600x400 with 1 Axes>"
      ]
     },
     "metadata": {},
     "output_type": "display_data"
    }
   ],
   "source": [
    "# Calculate the number of quartiles\n",
    "num_quartiles = 4\n",
    "\n",
    "# Calculate the number of samples in each quartile\n",
    "quartile_size = len(df_hugg_imdb_test) // num_quartiles\n",
    "\n",
    "# Initialize counters\n",
    "positive_counts = []\n",
    "negative_counts = []\n",
    "\n",
    "# Iterate through each quartile\n",
    "for i in range(num_quartiles):\n",
    "    start_idx = i * quartile_size\n",
    "    end_idx = (i + 1) * quartile_size\n",
    "\n",
    "    quartile = df_hugg_imdb_test[start_idx:end_idx]\n",
    "    \n",
    "    positive_samples = len(quartile[quartile['label'] == 1])\n",
    "    negative_samples = len(quartile[quartile['label'] == 0])\n",
    "    \n",
    "    positive_counts.append(positive_samples)\n",
    "    negative_counts.append(negative_samples)\n",
    "\n",
    "# Create a bar plot with specified dimensions\n",
    "plt.figure(figsize=(6, 4))\n",
    "quartile_labels = [f'Quartile {i+1}' for i in range(num_quartiles)]\n",
    "width = 0.2\n",
    "x = range(num_quartiles)\n",
    "\n",
    "plt.bar(x, positive_counts, width, label='Positive', color='lightgreen')\n",
    "plt.bar([i + width for i in x], negative_counts, width, label='Negative', color='red')\n",
    "\n",
    "plt.ylabel('Count')\n",
    "plt.title('Distribution of Sentiments in Quartiles (Train Set)')\n",
    "plt.xticks([i + width / 2 for i in x], quartile_labels)\n",
    "plt.legend(loc='upper right', bbox_to_anchor=(1.25, 1))\n",
    "plt.show()"
   ]
  },
  {
   "cell_type": "code",
   "execution_count": 18,
   "id": "3f77d490-28c0-4eaa-b93c-a94a6cb1445f",
   "metadata": {
    "tags": []
   },
   "outputs": [
    {
     "data": {
      "image/png": "[encoded data removed]",
      "text/plain": [
       "<Figure size 600x400 with 1 Axes>"
      ]
     },
     "metadata": {},
     "output_type": "display_data"
    }
   ],
   "source": [
    "# Calculate the number of quartiles\n",
    "num_quartiles = 4\n",
    "\n",
    "# Calculate the number of samples in each quartile\n",
    "quartile_size = len(df_imdb_clean) // num_quartiles\n",
    "\n",
    "# Initialize counters\n",
    "positive_counts = []\n",
    "negative_counts = []\n",
    "\n",
    "# Iterate through each quartile\n",
    "for i in range(num_quartiles):\n",
    "    start_idx = i * quartile_size\n",
    "    end_idx = (i + 1) * quartile_size\n",
    "\n",
    "    quartile = df_imdb_clean[start_idx:end_idx]\n",
    "    \n",
    "    positive_samples = len(quartile[quartile['sentiment'] == 'positive'])\n",
    "    negative_samples = len(quartile[quartile['sentiment'] == 'negative'])\n",
    "    \n",
    "    positive_counts.append(positive_samples)\n",
    "    negative_counts.append(negative_samples)\n",
    "\n",
    "# Create a bar plot with specified dimensions\n",
    "plt.figure(figsize=(6, 4))\n",
    "quartile_labels = [f'Quartile {i+1}' for i in range(num_quartiles)]\n",
    "width = 0.2\n",
    "x = range(num_quartiles)\n",
    "\n",
    "plt.bar(x, positive_counts, width, label='Positive', color='lightgreen')\n",
    "plt.bar([i + width for i in x], negative_counts, width, label='Negative', color='red')\n",
    "\n",
    "plt.ylabel('Count')\n",
    "plt.title('Distribution of Sentiments in Quartiles')\n",
    "plt.xticks([i + width / 2 for i in x], quartile_labels)\n",
    "plt.legend(loc='upper right', bbox_to_anchor=(1.25, 1))\n",
    "plt.show()"
   ]
  },
  {
   "cell_type": "markdown",
   "id": "429afbd4-0019-424c-b54b-f4fd105a5b12",
   "metadata": {},
   "source": [
    "#### Preprocessing"
   ]
  },
  {
   "cell_type": "code",
   "execution_count": 19,
   "id": "43e75780-c17c-422d-8fd9-8f7690e309b9",
   "metadata": {
    "tags": []
   },
   "outputs": [
    {
     "data": {
      "text/plain": [
       "(25000, 2)"
      ]
     },
     "execution_count": 19,
     "metadata": {},
     "output_type": "execute_result"
    }
   ],
   "source": [
    "hugg_imdb_test_np = np.array(df_hugg_imdb_test)\n",
    "hugg_imdb_test_np.shape"
   ]
  },
  {
   "cell_type": "code",
   "execution_count": 20,
   "id": "45badbc0-5d1b-4f14-bb8f-e3bfa3977c5d",
   "metadata": {
    "tags": []
   },
   "outputs": [
    {
     "data": {
      "text/plain": [
       "(49997, 2)"
      ]
     },
     "execution_count": 20,
     "metadata": {},
     "output_type": "execute_result"
    }
   ],
   "source": [
    "# Convert the dataset to numpy array\n",
    "data_np = np.array(df_imdb_clean)\n",
    "data_np.shape"
   ]
  },
  {
   "cell_type": "markdown",
   "id": "7ccd541a-64fa-4b4f-9e70-a53afbe3be04",
   "metadata": {
    "tags": []
   },
   "source": [
    "### Hyperparameters"
   ]
  },
  {
   "cell_type": "markdown",
   "id": "65c2dce3-2f02-41f2-9d2b-85e83c1102b2",
   "metadata": {
    "jp-MarkdownHeadingCollapsed": true,
    "tags": []
   },
   "source": [
    "#### Orijinal"
   ]
  },
  {
   "cell_type": "code",
   "execution_count": 21,
   "id": "8aeba3a8-661b-459a-9798-82cbee6ed418",
   "metadata": {
    "tags": []
   },
   "outputs": [],
   "source": [
    "# batch_size = 32\n",
    "# batch_size_cockatiel = 64\n",
    "# n_concepts = 20\n",
    "\n",
    "# n_reviews = 20000\n",
    "# n_excerpts = 50000\n",
    "# n_reviews_for_excerpts = 100000\n",
    "\n",
    "# positive_class = 1\n",
    "# negative_class = 0\n",
    "\n",
    "# output_names = ['negative', 'positive']\n",
    "# parent_path = \"data/for_roberta/\""
   ]
  },
  {
   "cell_type": "markdown",
   "id": "bc344b73-52ef-429c-9f31-2ec82a44b7a4",
   "metadata": {},
   "source": [
    "#### Huggingface Test"
   ]
  },
  {
   "cell_type": "code",
   "execution_count": 22,
   "id": "75bf5b48-b9cd-48ee-a1c8-c6daafe859f9",
   "metadata": {
    "tags": []
   },
   "outputs": [],
   "source": [
    "batch_size = 64\n",
    "batch_size_cockatiel = 64\n",
    "\n",
    "n_concepts = 20\n",
    "#n_reviews = 20000\n",
    "n_excerpts = 50000\n",
    "n_reviews_for_excerpts = 100000\n",
    "\n",
    "positive_class = 1\n",
    "negative_class = 0\n",
    "\n",
    "output_names = ['negative', 'positive']\n",
    "parent_path = \"data/huggingface_test/\""
   ]
  },
  {
   "cell_type": "markdown",
   "id": "b7db7d4a-138b-4e4e-b16c-cd823b1f8416",
   "metadata": {
    "jp-MarkdownHeadingCollapsed": true,
    "tags": []
   },
   "source": [
    "### Preparing RoBERTa Model"
   ]
  },
  {
   "cell_type": "code",
   "execution_count": 23,
   "id": "a50ec081-ea8a-4189-959f-68e5b4f566d9",
   "metadata": {
    "tags": []
   },
   "outputs": [
    {
     "name": "stdout",
     "output_type": "stream",
     "text": [
      "Selected component: cuda\n"
     ]
    }
   ],
   "source": [
    "import torch\n",
    "\n",
    "# Set up GPU if it is available\n",
    "device = torch.device(\"cuda\") if torch.cuda.is_available() else torch.device(\"cpu\")\n",
    "print(\"Selected component:\", device)"
   ]
  },
  {
   "cell_type": "code",
   "execution_count": 24,
   "id": "d67e7e68-06e3-4552-a24c-29282115753a",
   "metadata": {
    "tags": []
   },
   "outputs": [
    {
     "name": "stdout",
     "output_type": "stream",
     "text": [
      "======================================================================\n",
      "Layer (type:depth-idx)                        Param #\n",
      "======================================================================\n",
      "├─RobertaModel: 1-1                           --\n",
      "|    └─RobertaEmbeddings: 2-1                 --\n",
      "|    |    └─Embedding: 3-1                    38,603,520\n",
      "|    |    └─Embedding: 3-2                    394,752\n",
      "|    |    └─Embedding: 3-3                    768\n",
      "|    |    └─LayerNorm: 3-4                    1,536\n",
      "|    |    └─Dropout: 3-5                      --\n",
      "|    └─RobertaEncoder: 2-2                    --\n",
      "|    |    └─ModuleList: 3-6                   85,054,464\n",
      "├─CustomRobertaClassificationHead: 1-2        --\n",
      "|    └─Linear: 2-3                            590,592\n",
      "|    └─Dropout: 2-4                           --\n",
      "|    └─Linear: 2-5                            1,538\n",
      "├─MSELoss: 1-3                                --\n",
      "======================================================================\n",
      "Total params: 124,647,170\n",
      "Trainable params: 124,647,170\n",
      "Non-trainable params: 0\n",
      "======================================================================\n",
      "124647170\n"
     ]
    }
   ],
   "source": [
    "# Load the model and its tokenizer\n",
    "\n",
    "from transformers import RobertaTokenizerFast\n",
    "# from cockatiel import CustomRobertaForSequenceClassification, batch_predict, batcher, tokenize\n",
    "\n",
    "tokenizer = RobertaTokenizerFast.from_pretrained(\"wrmurray/roberta-base-finetuned-imdb\")\n",
    "model = CustomRobertaForSequenceClassification.from_pretrained(\"wrmurray/roberta-base-finetuned-imdb\").to(device)\n",
    "\n",
    "# Put model into evaluation mode\n",
    "model = model.eval()\n",
    "\n",
    "\n",
    "\n",
    "# View model summary\n",
    "\n",
    "import torchsummary as ts\n",
    "\n",
    "print(ts.summary(model).total_params)\n",
    "\n",
    "\n",
    "\n",
    "# # Make predictions on some samples\n",
    "# y_pred, labels = batch_predict(model.forward, tokenizer, data_np[:1000], batch_size, device)\n",
    "\n",
    "# # Compute the activations on which to apply the NMF\n",
    "# features, labels = batch_predict(model.features, tokenizer, data_np[:1000], batch_size, device)\n",
    "\n",
    "# # Go from these activations to the final prediction\n",
    "# y_pred_bis = model.end_model(features)\n",
    "\n",
    "# print(\"\\nAccuracy for classic model        :\", torch.mean((torch.argmax(y_pred, -1) == labels.to(device)).float()))\n",
    "# print(\"Accuracy for model in 'two parts' :\", torch.mean((torch.argmax(y_pred_bis, -1) == labels.to(device)).float()))"
   ]
  },
  {
   "cell_type": "code",
   "execution_count": 64,
   "id": "cbff8f36-2b86-4fec-9b5a-86fdc9a6eb49",
   "metadata": {
    "tags": []
   },
   "outputs": [
    {
     "data": {
      "text/html": [
       "<div>\n",
       "<style scoped>\n",
       "    .dataframe tbody tr th:only-of-type {\n",
       "        vertical-align: middle;\n",
       "    }\n",
       "\n",
       "    .dataframe tbody tr th {\n",
       "        vertical-align: top;\n",
       "    }\n",
       "\n",
       "    .dataframe thead th {\n",
       "        text-align: right;\n",
       "    }\n",
       "</style>\n",
       "<table border=\"1\" class=\"dataframe\">\n",
       "  <thead>\n",
       "    <tr style=\"text-align: right;\">\n",
       "      <th></th>\n",
       "      <th>Text</th>\n",
       "      <th>Predictions</th>\n",
       "      <th>Positive Probability</th>\n",
       "      <th>Negative Probability</th>\n",
       "    </tr>\n",
       "  </thead>\n",
       "  <tbody>\n",
       "    <tr>\n",
       "      <th>0</th>\n",
       "      <td>I love sci-fi and am willing to put up with a ...</td>\n",
       "      <td>0</td>\n",
       "      <td>0.016346</td>\n",
       "      <td>0.983654</td>\n",
       "    </tr>\n",
       "    <tr>\n",
       "      <th>1</th>\n",
       "      <td>Worth the entertainment value of a rental, esp...</td>\n",
       "      <td>0</td>\n",
       "      <td>0.043692</td>\n",
       "      <td>0.956308</td>\n",
       "    </tr>\n",
       "    <tr>\n",
       "      <th>2</th>\n",
       "      <td>its a totally average film with a few semi-alr...</td>\n",
       "      <td>0</td>\n",
       "      <td>0.011312</td>\n",
       "      <td>0.988688</td>\n",
       "    </tr>\n",
       "    <tr>\n",
       "      <th>3</th>\n",
       "      <td>STAR RATING: ***** Saturday Night **** Friday ...</td>\n",
       "      <td>0</td>\n",
       "      <td>0.011081</td>\n",
       "      <td>0.988919</td>\n",
       "    </tr>\n",
       "    <tr>\n",
       "      <th>4</th>\n",
       "      <td>First off let me say, If you haven't enjoyed a...</td>\n",
       "      <td>1</td>\n",
       "      <td>0.981841</td>\n",
       "      <td>0.018159</td>\n",
       "    </tr>\n",
       "    <tr>\n",
       "      <th>5</th>\n",
       "      <td>I had high hopes for this one until they chang...</td>\n",
       "      <td>0</td>\n",
       "      <td>0.014970</td>\n",
       "      <td>0.985030</td>\n",
       "    </tr>\n",
       "    <tr>\n",
       "      <th>6</th>\n",
       "      <td>Isaac Florentine has made some of the best wes...</td>\n",
       "      <td>0</td>\n",
       "      <td>0.048872</td>\n",
       "      <td>0.951128</td>\n",
       "    </tr>\n",
       "    <tr>\n",
       "      <th>7</th>\n",
       "      <td>It actually pains me to say it, but this movie...</td>\n",
       "      <td>0</td>\n",
       "      <td>0.010855</td>\n",
       "      <td>0.989145</td>\n",
       "    </tr>\n",
       "    <tr>\n",
       "      <th>8</th>\n",
       "      <td>Technically I'am a Van Damme Fan, or I was. th...</td>\n",
       "      <td>0</td>\n",
       "      <td>0.010284</td>\n",
       "      <td>0.989716</td>\n",
       "    </tr>\n",
       "    <tr>\n",
       "      <th>9</th>\n",
       "      <td>Honestly awful film, bad editing, awful lighti...</td>\n",
       "      <td>0</td>\n",
       "      <td>0.010261</td>\n",
       "      <td>0.989739</td>\n",
       "    </tr>\n",
       "  </tbody>\n",
       "</table>\n",
       "</div>"
      ],
      "text/plain": [
       "                                                Text  Predictions  \\\n",
       "0  I love sci-fi and am willing to put up with a ...            0   \n",
       "1  Worth the entertainment value of a rental, esp...            0   \n",
       "2  its a totally average film with a few semi-alr...            0   \n",
       "3  STAR RATING: ***** Saturday Night **** Friday ...            0   \n",
       "4  First off let me say, If you haven't enjoyed a...            1   \n",
       "5  I had high hopes for this one until they chang...            0   \n",
       "6  Isaac Florentine has made some of the best wes...            0   \n",
       "7  It actually pains me to say it, but this movie...            0   \n",
       "8  Technically I'am a Van Damme Fan, or I was. th...            0   \n",
       "9  Honestly awful film, bad editing, awful lighti...            0   \n",
       "\n",
       "   Positive Probability  Negative Probability  \n",
       "0              0.016346              0.983654  \n",
       "1              0.043692              0.956308  \n",
       "2              0.011312              0.988688  \n",
       "3              0.011081              0.988919  \n",
       "4              0.981841              0.018159  \n",
       "5              0.014970              0.985030  \n",
       "6              0.048872              0.951128  \n",
       "7              0.010855              0.989145  \n",
       "8              0.010284              0.989716  \n",
       "9              0.010261              0.989739  "
      ]
     },
     "metadata": {},
     "output_type": "display_data"
    },
    {
     "name": "stdout",
     "output_type": "stream",
     "text": [
      "Accuracy: 0.9\n"
     ]
    }
   ],
   "source": [
    "# from sklearn.metrics import accuracy_score\n",
    "\n",
    "# samples = hugg_imdb_test_np[:10]\n",
    "\n",
    "# r = np.array(list(map(lambda z: z[0], samples)))\n",
    "\n",
    "# tokenized_samples = tokenize(r, tokenizer, device)\n",
    "\n",
    "# preds = model(**tokenized_samples)\n",
    "\n",
    "# #print(samples[np.argmax(preds.cpu().detach().numpy(), axis=1)])\n",
    "\n",
    "# # Extract texts and raw prediction scores\n",
    "# texts = r\n",
    "# raw_scores = preds.cpu().detach().numpy()\n",
    "\n",
    "# # Apply softmax to get probabilities\n",
    "# probabilities = torch.softmax(torch.tensor(raw_scores), dim=1)\n",
    "# positive_probabilities = probabilities[:, 1]  # Probability for the positive class\n",
    "# negative_probabilities = probabilities[:, 0]  # Probability for the negative class\n",
    "\n",
    "# # Extract predicted labels\n",
    "# predictions = np.argmax(raw_scores, axis=1)\n",
    "\n",
    "# # Calculate accuracy\n",
    "# true_labels = samples[:, 1].astype(int)\n",
    "# accuracy = accuracy_score(true_labels, predictions)\n",
    "\n",
    "# # Create a DataFrame\n",
    "# data = {\n",
    "#     'Text': texts,\n",
    "#     'Predictions': predictions,\n",
    "#     'Positive Probability': positive_probabilities,\n",
    "#     'Negative Probability': negative_probabilities,\n",
    "# }\n",
    "\n",
    "# df = pd.DataFrame(data)\n",
    "\n",
    "# # Display the DataFrame, accuracy, and AUC\n",
    "# display(df)\n",
    "# print(\"Accuracy:\", accuracy)"
   ]
  },
  {
   "cell_type": "markdown",
   "id": "d70608aa-5aeb-465c-9b91-01f9ddb0c5f2",
   "metadata": {
    "tags": []
   },
   "source": [
    "### Objective 1: Reproducibility"
   ]
  },
  {
   "cell_type": "markdown",
   "id": "a709693f-9874-4296-94d3-1e589c7f9ec0",
   "metadata": {
    "tags": []
   },
   "source": [
    "#### Train COCKATIEL"
   ]
  },
  {
   "cell_type": "code",
   "execution_count": 27,
   "id": "b296d684-1cd2-41eb-baf6-2816354091cb",
   "metadata": {
    "tags": []
   },
   "outputs": [
    {
     "name": "stdout",
     "output_type": "stream",
     "text": [
      "12796  positive reviews predicted.\n",
      "12204  negative reviews predicted.\n",
      "\n"
     ]
    }
   ],
   "source": [
    "# Veri kümesindeki ilk 20K'yı tahminletip kaydediyor\n",
    "\n",
    "import pickle\n",
    "from tqdm.notebook import tqdm\n",
    "\n",
    "positive_reviews = []\n",
    "negative_reviews = []\n",
    "\n",
    "with torch.no_grad():\n",
    "    for input_batch in tqdm(batcher(hugg_imdb_test_np, batch_size=batch_size), total=ceil(len(hugg_imdb_test_np) / batch_size)):\n",
    "        \n",
    "        r = np.array(list(map(lambda z: z[0], input_batch)))\n",
    "\n",
    "        tokenized_batch = tokenize(r, tokenizer, device)\n",
    "        \n",
    "        preds = model(**tokenized_batch)\n",
    "        \n",
    "        positive_reviews.extend(list(input_batch[np.where(np.argmax(preds.cpu().numpy(), axis=1) == 1)[0]]))\n",
    "        negative_reviews.extend(list(input_batch[np.where(np.argmax(preds.cpu().numpy(), axis=1) == 0)[0]]))\n",
    "\n",
    "raw_dataset_pos = list(map(lambda z: z[0], positive_reviews))\n",
    "raw_dataset_neg = list(map(lambda z: z[0], negative_reviews))\n",
    "\n",
    "print(len(raw_dataset_pos), ' positive reviews predicted.')\n",
    "print(len(raw_dataset_neg), ' negative reviews predicted.\\n')\n",
    "\n",
    "pickle.dump(raw_dataset_pos, open(parent_path + \"raw_dataset_pos.pkl\", \"wb\"))\n",
    "pickle.dump(raw_dataset_neg, open(parent_path + \"raw_dataset_neg.pkl\", \"wb\"))\n",
    "\n",
    "\n",
    "# Veriden excerpt'leri çıkarıyor\n",
    "\n",
    "excerpt_dataset_pos = extract_excerpts(raw_dataset_pos, n_reviews_for_excerpts)\n",
    "excerpt_dataset_neg = extract_excerpts(raw_dataset_neg, n_reviews_for_excerpts)\n",
    "\n",
    "print(len(excerpt_dataset_pos), ' positive excerpts created.')\n",
    "print(len(excerpt_dataset_neg), ' negative excerpts created.')\n",
    "\n",
    "pickle.dump(excerpt_dataset_pos, open(parent_path + \"excerpt_dataset_pos.pkl\", \"wb\"))\n",
    "pickle.dump(excerpt_dataset_neg, open(parent_path + \"excerpt_dataset_neg.pkl\", \"wb\"))"
   ]
  },
  {
   "cell_type": "code",
   "execution_count": 77,
   "id": "f432104c-22a8-4627-8d0f-fad8e530523e",
   "metadata": {
    "tags": []
   },
   "outputs": [
    {
     "data": {
      "application/vnd.jupyter.widget-view+json": {
       "model_id": "9ef32a6b7460422e9f59bc670ed834e3",
       "version_major": 2,
       "version_minor": 0
      },
      "text/plain": [
       "  0%|          | 0/782 [00:00<?, ?it/s]"
      ]
     },
     "metadata": {},
     "output_type": "display_data"
    },
    {
     "data": {
      "application/vnd.jupyter.widget-view+json": {
       "model_id": "5b75ea62139f4b3db8359d420132b71b",
       "version_major": 2,
       "version_minor": 0
      },
      "text/plain": [
       "  0%|          | 0/79 [00:00<?, ?it/s]"
      ]
     },
     "metadata": {},
     "output_type": "display_data"
    },
    {
     "name": "stderr",
     "output_type": "stream",
     "text": [
      "C:\\Users\\onurp\\anaconda3\\envs\\cockatiel\\Lib\\site-packages\\sklearn\\decomposition\\_nmf.py:1665: ConvergenceWarning: Maximum number of iterations 1000 reached. Increase it to improve convergence.\n",
      "  warnings.warn(\n"
     ]
    },
    {
     "data": {
      "application/vnd.jupyter.widget-view+json": {
       "model_id": "85a6bd7ae1c14136b0a17a2d2924429b",
       "version_major": 2,
       "version_minor": 0
      },
      "text/plain": [
       "  0%|          | 0/782 [00:00<?, ?it/s]"
      ]
     },
     "metadata": {},
     "output_type": "display_data"
    },
    {
     "ename": "KeyboardInterrupt",
     "evalue": "",
     "output_type": "error",
     "traceback": [
      "\u001b[1;31m---------------------------------------------------------------------------\u001b[0m",
      "\u001b[1;31mKeyboardInterrupt\u001b[0m                         Traceback (most recent call last)",
      "Cell \u001b[1;32mIn[77], line 23\u001b[0m\n\u001b[0;32m     18\u001b[0m \u001b[38;5;28;01mwith\u001b[39;00m torch\u001b[38;5;241m.\u001b[39mno_grad():\n\u001b[0;32m     20\u001b[0m     cockatiel_explainer_neg \u001b[38;5;241m=\u001b[39m COCKATIEL(model, tokenizer, components\u001b[38;5;241m=\u001b[39mn_concepts, \n\u001b[0;32m     21\u001b[0m                                         batch_size\u001b[38;5;241m=\u001b[39mbatch_size_cockatiel, device\u001b[38;5;241m=\u001b[39mdevice)\n\u001b[1;32m---> 23\u001b[0m     segments_neg, u_segments_neg, factorization_neg, global_importance_neg \u001b[38;5;241m=\u001b[39m cockatiel_explainer_neg\u001b[38;5;241m.\u001b[39mextract_concepts(excerpt_dataset_neg[:n_excerpts], \n\u001b[0;32m     24\u001b[0m                                                                                                                       raw_dataset_neg[:(n_excerpts\u001b[38;5;241m/\u001b[39m\u001b[38;5;241m/\u001b[39m\u001b[38;5;241m10\u001b[39m)], \n\u001b[0;32m     25\u001b[0m                                                                                                                       negative_class, \n\u001b[0;32m     26\u001b[0m                                                                                                                       limit_sobol\u001b[38;5;241m=\u001b[39m\u001b[38;5;241m1_000\u001b[39m)\n\u001b[0;32m     28\u001b[0m pickle\u001b[38;5;241m.\u001b[39mdump(segments_neg, \u001b[38;5;28mopen\u001b[39m(parent_path \u001b[38;5;241m+\u001b[39m \u001b[38;5;124m\"\u001b[39m\u001b[38;5;124msegments_neg.pkl\u001b[39m\u001b[38;5;124m\"\u001b[39m, \u001b[38;5;124m\"\u001b[39m\u001b[38;5;124mwb\u001b[39m\u001b[38;5;124m\"\u001b[39m))\n\u001b[0;32m     29\u001b[0m pickle\u001b[38;5;241m.\u001b[39mdump(u_segments_neg, \u001b[38;5;28mopen\u001b[39m(parent_path \u001b[38;5;241m+\u001b[39m \u001b[38;5;124m\"\u001b[39m\u001b[38;5;124mu_segments_neg.pkl\u001b[39m\u001b[38;5;124m\"\u001b[39m, \u001b[38;5;124m\"\u001b[39m\u001b[38;5;124mwb\u001b[39m\u001b[38;5;124m\"\u001b[39m))\n",
      "Cell \u001b[1;32mIn[76], line 82\u001b[0m, in \u001b[0;36mCOCKATIEL.extract_concepts\u001b[1;34m(self, cropped_dataset, dataset, class_id, limit_sobol)\u001b[0m\n\u001b[0;32m     79\u001b[0m batch_end \u001b[38;5;241m=\u001b[39m batch_start \u001b[38;5;241m+\u001b[39m \u001b[38;5;28mself\u001b[39m\u001b[38;5;241m.\u001b[39mbatch_size\n\u001b[0;32m     81\u001b[0m batch_sentences \u001b[38;5;241m=\u001b[39m cropped_dataset[batch_start:batch_end]\n\u001b[1;32m---> 82\u001b[0m batch_tokenized \u001b[38;5;241m=\u001b[39m tokenize(batch_sentences, \u001b[38;5;28mself\u001b[39m\u001b[38;5;241m.\u001b[39mtokenizer, \u001b[38;5;28mself\u001b[39m\u001b[38;5;241m.\u001b[39mdevice)\n\u001b[0;32m     84\u001b[0m batch_activations \u001b[38;5;241m=\u001b[39m \u001b[38;5;28mself\u001b[39m\u001b[38;5;241m.\u001b[39mmodel\u001b[38;5;241m.\u001b[39mfeatures(\u001b[38;5;241m*\u001b[39m\u001b[38;5;241m*\u001b[39mbatch_tokenized)\n\u001b[0;32m     86\u001b[0m excerpts_activations \u001b[38;5;241m=\u001b[39m batch_activations \u001b[38;5;28;01mif\u001b[39;00m excerpts_activations \u001b[38;5;129;01mis\u001b[39;00m \u001b[38;5;28;01mNone\u001b[39;00m \\\n\u001b[0;32m     87\u001b[0m     \u001b[38;5;28;01melse\u001b[39;00m torch\u001b[38;5;241m.\u001b[39mcat([excerpts_activations, batch_activations], \u001b[38;5;241m0\u001b[39m)\n",
      "Cell \u001b[1;32mIn[6], line 37\u001b[0m, in \u001b[0;36mtokenize\u001b[1;34m(samples, tokenizer, device)\u001b[0m\n\u001b[0;32m     27\u001b[0m \u001b[38;5;28;01mdef\u001b[39;00m \u001b[38;5;21mtokenize\u001b[39m(samples: List[\u001b[38;5;28mstr\u001b[39m], tokenizer: Callable, device\u001b[38;5;241m=\u001b[39m\u001b[38;5;124m'\u001b[39m\u001b[38;5;124mcuda\u001b[39m\u001b[38;5;124m'\u001b[39m):\n\u001b[0;32m     28\u001b[0m \u001b[38;5;250m    \u001b[39m\u001b[38;5;124;03m\"\"\"\u001b[39;00m\n\u001b[0;32m     29\u001b[0m \u001b[38;5;124;03m    A function to transform a list of strings into tokens to be consumed by the transformer model.\u001b[39;00m\n\u001b[0;32m     30\u001b[0m \u001b[38;5;124;03m    \"\"\"\u001b[39;00m\n\u001b[0;32m     31\u001b[0m     x \u001b[38;5;241m=\u001b[39m tokenizer(\n\u001b[0;32m     32\u001b[0m         [s \u001b[38;5;28;01mfor\u001b[39;00m s \u001b[38;5;129;01min\u001b[39;00m samples],\n\u001b[0;32m     33\u001b[0m         padding\u001b[38;5;241m=\u001b[39m\u001b[38;5;124m\"\u001b[39m\u001b[38;5;124mmax_length\u001b[39m\u001b[38;5;124m\"\u001b[39m,\n\u001b[0;32m     34\u001b[0m         max_length\u001b[38;5;241m=\u001b[39m\u001b[38;5;241m512\u001b[39m,\n\u001b[0;32m     35\u001b[0m         truncation\u001b[38;5;241m=\u001b[39m\u001b[38;5;28;01mTrue\u001b[39;00m,\n\u001b[0;32m     36\u001b[0m         return_tensors\u001b[38;5;241m=\u001b[39m\u001b[38;5;124m'\u001b[39m\u001b[38;5;124mpt\u001b[39m\u001b[38;5;124m'\u001b[39m\n\u001b[1;32m---> 37\u001b[0m     )\u001b[38;5;241m.\u001b[39mto(device)\n\u001b[0;32m     39\u001b[0m     \u001b[38;5;28;01mreturn\u001b[39;00m x\n",
      "File \u001b[1;32m~\\anaconda3\\envs\\cockatiel\\Lib\\site-packages\\transformers\\tokenization_utils_base.py:777\u001b[0m, in \u001b[0;36mBatchEncoding.to\u001b[1;34m(self, device)\u001b[0m\n\u001b[0;32m    773\u001b[0m \u001b[38;5;66;03m# This check catches things like APEX blindly calling \"to\" on all inputs to a module\u001b[39;00m\n\u001b[0;32m    774\u001b[0m \u001b[38;5;66;03m# Otherwise it passes the casts down and casts the LongTensor containing the token idxs\u001b[39;00m\n\u001b[0;32m    775\u001b[0m \u001b[38;5;66;03m# into a HalfTensor\u001b[39;00m\n\u001b[0;32m    776\u001b[0m \u001b[38;5;28;01mif\u001b[39;00m \u001b[38;5;28misinstance\u001b[39m(device, \u001b[38;5;28mstr\u001b[39m) \u001b[38;5;129;01mor\u001b[39;00m is_torch_device(device) \u001b[38;5;129;01mor\u001b[39;00m \u001b[38;5;28misinstance\u001b[39m(device, \u001b[38;5;28mint\u001b[39m):\n\u001b[1;32m--> 777\u001b[0m     \u001b[38;5;28mself\u001b[39m\u001b[38;5;241m.\u001b[39mdata \u001b[38;5;241m=\u001b[39m {k: v\u001b[38;5;241m.\u001b[39mto(device\u001b[38;5;241m=\u001b[39mdevice) \u001b[38;5;28;01mfor\u001b[39;00m k, v \u001b[38;5;129;01min\u001b[39;00m \u001b[38;5;28mself\u001b[39m\u001b[38;5;241m.\u001b[39mdata\u001b[38;5;241m.\u001b[39mitems()}\n\u001b[0;32m    778\u001b[0m \u001b[38;5;28;01melse\u001b[39;00m:\n\u001b[0;32m    779\u001b[0m     logger\u001b[38;5;241m.\u001b[39mwarning(\u001b[38;5;124mf\u001b[39m\u001b[38;5;124m\"\u001b[39m\u001b[38;5;124mAttempting to cast a BatchEncoding to type \u001b[39m\u001b[38;5;132;01m{\u001b[39;00m\u001b[38;5;28mstr\u001b[39m(device)\u001b[38;5;132;01m}\u001b[39;00m\u001b[38;5;124m. This is not supported.\u001b[39m\u001b[38;5;124m\"\u001b[39m)\n",
      "File \u001b[1;32m~\\anaconda3\\envs\\cockatiel\\Lib\\site-packages\\transformers\\tokenization_utils_base.py:777\u001b[0m, in \u001b[0;36m<dictcomp>\u001b[1;34m(.0)\u001b[0m\n\u001b[0;32m    773\u001b[0m \u001b[38;5;66;03m# This check catches things like APEX blindly calling \"to\" on all inputs to a module\u001b[39;00m\n\u001b[0;32m    774\u001b[0m \u001b[38;5;66;03m# Otherwise it passes the casts down and casts the LongTensor containing the token idxs\u001b[39;00m\n\u001b[0;32m    775\u001b[0m \u001b[38;5;66;03m# into a HalfTensor\u001b[39;00m\n\u001b[0;32m    776\u001b[0m \u001b[38;5;28;01mif\u001b[39;00m \u001b[38;5;28misinstance\u001b[39m(device, \u001b[38;5;28mstr\u001b[39m) \u001b[38;5;129;01mor\u001b[39;00m is_torch_device(device) \u001b[38;5;129;01mor\u001b[39;00m \u001b[38;5;28misinstance\u001b[39m(device, \u001b[38;5;28mint\u001b[39m):\n\u001b[1;32m--> 777\u001b[0m     \u001b[38;5;28mself\u001b[39m\u001b[38;5;241m.\u001b[39mdata \u001b[38;5;241m=\u001b[39m {k: v\u001b[38;5;241m.\u001b[39mto(device\u001b[38;5;241m=\u001b[39mdevice) \u001b[38;5;28;01mfor\u001b[39;00m k, v \u001b[38;5;129;01min\u001b[39;00m \u001b[38;5;28mself\u001b[39m\u001b[38;5;241m.\u001b[39mdata\u001b[38;5;241m.\u001b[39mitems()}\n\u001b[0;32m    778\u001b[0m \u001b[38;5;28;01melse\u001b[39;00m:\n\u001b[0;32m    779\u001b[0m     logger\u001b[38;5;241m.\u001b[39mwarning(\u001b[38;5;124mf\u001b[39m\u001b[38;5;124m\"\u001b[39m\u001b[38;5;124mAttempting to cast a BatchEncoding to type \u001b[39m\u001b[38;5;132;01m{\u001b[39;00m\u001b[38;5;28mstr\u001b[39m(device)\u001b[38;5;132;01m}\u001b[39;00m\u001b[38;5;124m. This is not supported.\u001b[39m\u001b[38;5;124m\"\u001b[39m)\n",
      "\u001b[1;31mKeyboardInterrupt\u001b[0m: "
     ]
    }
   ],
   "source": [
    "# Train COCKATIEL\n",
    "\n",
    "# with torch.no_grad():\n",
    "    \n",
    "#     cockatiel_explainer_pos = COCKATIEL(model, tokenizer, components=n_concepts, \n",
    "#                                         batch_size=batch_size_cockatiel, device=device)\n",
    "    \n",
    "#     segments_pos, u_segments_pos, factorization_pos, global_importance_pos = cockatiel_explainer_pos.extract_concepts(excerpt_dataset_pos[:n_excerpts], \n",
    "#                                                                                                                       raw_dataset_pos[:(n_excerpts//10)], \n",
    "#                                                                                                                       positive_class, \n",
    "#                                                                                                                       limit_sobol=1_000)\n",
    "    \n",
    "# pickle.dump(segments_pos, open(parent_path + \"segments_pos.pkl\", \"wb\"))\n",
    "# pickle.dump(u_segments_pos, open(parent_path + \"u_segments_pos.pkl\", \"wb\"))\n",
    "# pickle.dump(factorization_pos, open(parent_path + \"factorization_pos.pkl\", \"wb\"))\n",
    "# pickle.dump(global_importance_pos, open(parent_path + \"global_importance_pos.pkl\", \"wb\"))\n",
    "\n",
    "with torch.no_grad():\n",
    "    \n",
    "    cockatiel_explainer_neg = COCKATIEL(model, tokenizer, components=n_concepts, \n",
    "                                        batch_size=batch_size_cockatiel, device=device)\n",
    "    \n",
    "    segments_neg, u_segments_neg, factorization_neg, global_importance_neg = cockatiel_explainer_neg.extract_concepts(excerpt_dataset_neg[:n_excerpts], \n",
    "                                                                                                                      raw_dataset_neg[:(n_excerpts//10)], \n",
    "                                                                                                                      negative_class, \n",
    "                                                                                                                      limit_sobol=1_000)\n",
    "    \n",
    "pickle.dump(segments_neg, open(parent_path + \"segments_neg.pkl\", \"wb\"))\n",
    "pickle.dump(u_segments_neg, open(parent_path + \"u_segments_neg.pkl\", \"wb\"))\n",
    "pickle.dump(factorization_neg, open(parent_path + \"factorization_neg.pkl\", \"wb\"))\n",
    "pickle.dump(global_importance_neg, open(parent_path + \"global_importance_neg.pkl\", \"wb\"))"
   ]
  },
  {
   "cell_type": "markdown",
   "id": "3585a861-4883-4566-8942-6a4b9a32a2b6",
   "metadata": {
    "jp-MarkdownHeadingCollapsed": true,
    "tags": []
   },
   "source": [
    "#### Load Files (No Train)"
   ]
  },
  {
   "cell_type": "code",
   "execution_count": 18,
   "id": "f2395d6c-8976-4246-aaf0-0faffd3bc722",
   "metadata": {
    "tags": []
   },
   "outputs": [],
   "source": [
    "import pickle\n",
    "\n",
    "# Load raw dataset and excerpts\n",
    "\n",
    "raw_dataset_pos = pickle.load(open(parent_path + \"raw_dataset_pos.pkl\", \"rb\"))\n",
    "raw_dataset_neg = pickle.load(open(parent_path + \"raw_dataset_neg.pkl\", \"rb\"))\n",
    "excerpt_dataset_pos = pickle.load(open(parent_path + \"excerpt_dataset_pos.pkl\", \"rb\"))\n",
    "excerpt_dataset_neg = pickle.load(open(parent_path + \"excerpt_dataset_neg.pkl\", \"rb\"))\n",
    "\n",
    "# Load sentences and global importances for positive class\n",
    "\n",
    "segments_pos = pickle.load(open(parent_path + \"segments_pos.pkl\",'rb'))\n",
    "u_segments_pos = pickle.load(open(parent_path + \"u_segments_pos.pkl\",'rb'))\n",
    "factorization_pos = pickle.load(open(parent_path + \"factorization_pos.pkl\",'rb'))\n",
    "global_importance_pos = pickle.load(open(parent_path + \"global_importance_pos.pkl\",'rb'))\n",
    "\n",
    "# Load sentences and global importances for negative class\n",
    "\n",
    "segments_neg = pickle.load(open(parent_path + \"segments_neg.pkl\",'rb'))\n",
    "u_segments_neg = pickle.load(open(parent_path + \"u_segments_neg.pkl\",'rb'))\n",
    "factorization_neg = pickle.load(open(parent_path + \"factorization_neg.pkl\",'rb'))\n",
    "global_importance_neg = pickle.load(open(parent_path + \"global_importance_neg.pkl\",'rb'))"
   ]
  },
  {
   "cell_type": "markdown",
   "id": "446de462-0ea4-43c4-a128-f5582f6692ce",
   "metadata": {
    "jp-MarkdownHeadingCollapsed": true,
    "tags": []
   },
   "source": [
    "#### Results"
   ]
  },
  {
   "cell_type": "code",
   "execution_count": 21,
   "id": "0c1f0cee-1ffc-43ba-8a67-bb2ad4a77ec5",
   "metadata": {
    "tags": []
   },
   "outputs": [
    {
     "data": {
      "image/png": "[encoded data removed]",
      "text/plain": [
       "<Figure size 2200x500 with 2 Axes>"
      ]
     },
     "metadata": {},
     "output_type": "display_data"
    }
   ],
   "source": [
    "plot_glob_importances(global_importance_pos, global_importance_neg)"
   ]
  },
  {
   "cell_type": "code",
   "execution_count": 21,
   "id": "550a7a96-0cf4-4c74-8a3e-59d49de8bfe5",
   "metadata": {
    "collapsed": true,
    "jupyter": {
     "outputs_hidden": true
    },
    "tags": []
   },
   "outputs": [
    {
     "data": {
      "text/html": [
       "<div style='display: flex; width: 400px; flex-wrap: wrap'><span style=\"background-color: rgba(9, 221, 55,  0.5); padding: 1px 5px; border: solid 3px ; border-color: rgba(9, 221, 55,  1); #EFEFEF\">Positive label: concept1 </span> <span style=\"background-color: rgba(9, 221, 161,  0.5); padding: 1px 5px; border: solid 3px ; border-color: rgba(9, 221, 161,  1); #EFEFEF\">Positive label: concept2 </span> <span style=\"background-color: rgba(221, 9, 34,  0.5); padding: 1px 5px; border: solid 3px ; border-color: rgba(221, 9, 34,  1); #EFEFEF\">Negative label: concept1 </span> <span style=\"background-color: rgba(221, 9, 140, 0.5); padding: 1px 5px; border: solid 3px ; border-color: rgba(221, 9, 140, 1); #EFEFEF\">Negative label: concept2 </span> <span style=\"background-color: rgba(221, 90, 9,  0.5); padding: 1px 5px; border: solid 3px ; border-color: rgba(221, 90, 9,  1); #EFEFEF\">Negative label: concept3 </span> </div>"
      ],
      "text/plain": [
       "<IPython.core.display.HTML object>"
      ]
     },
     "metadata": {},
     "output_type": "display_data"
    },
    {
     "data": {
      "text/html": [
       "<br><br>"
      ],
      "text/plain": [
       "<IPython.core.display.HTML object>"
      ]
     },
     "metadata": {},
     "output_type": "display_data"
    },
    {
     "name": "stdout",
     "output_type": "stream",
     "text": [
      "positive predicted reviews:\n",
      "\n",
      "\n",
      "\n",
      "\n",
      "10 most important reviews for positive predicted label - concept1:\n",
      "\n",
      "\n"
     ]
    },
    {
     "data": {
      "text/html": [
       "<div style='display: flex; width: 400px; flex-wrap: wrap'><span style=\"background-color: rgba(233,30,99,0);  padding: 1px 5px; border: solid 3px ; border-color:  rgba(233,30,99,0); #EFEFEF\">Directed</span> <span style=\"background-color: rgba(233,30,99,0);  padding: 1px 5px; border: solid 3px ; border-color:  rgba(233,30,99,0); #EFEFEF\">by</span> <span style=\"background-color: rgba(233,30,99,0);  padding: 1px 5px; border: solid 3px ; border-color:  rgba(233,30,99,0); #EFEFEF\">Samuel Fuller</span> <span style=\"background-color: rgba(233,30,99,0);  padding: 1px 5px; border: solid 3px ; border-color:  rgba(233,30,99,0); #EFEFEF\">who</span> <span style=\"background-color: rgba(233,30,99,0);  padding: 1px 5px; border: solid 3px ; border-color:  rgba(233,30,99,0); #EFEFEF\">also</span> <span style=\"background-color: rgba(233,30,99,0);  padding: 1px 5px; border: solid 3px ; border-color:  rgba(233,30,99,0); #EFEFEF\">wrote</span> <span style=\"background-color: rgba(9, 221, 161,  0.22438791394233704); padding: 1px 5px; border: solid 3px ; border-color: rgba(9, 221, 161,  1); #EFEFEF\">the screenplay</span> <span style=\"background-color: rgba(9, 221, 161,  0.24758726358413696); padding: 1px 5px; border: solid 3px ; border-color: rgba(9, 221, 161,  1); #EFEFEF\">Pickup</span> <span style=\"background-color: rgba(233,30,99,0);  padding: 1px 5px; border: solid 3px ; border-color:  rgba(233,30,99,0); #EFEFEF\">on</span> <span style=\"background-color: rgba(233,30,99,0);  padding: 1px 5px; border: solid 3px ; border-color:  rgba(233,30,99,0); #EFEFEF\">South Street</span> <span style=\"background-color: rgba(233,30,99,0);  padding: 1px 5px; border: solid 3px ; border-color:  rgba(233,30,99,0); #EFEFEF\">is</span> <span style=\"background-color: rgba(9, 221, 161,  0.9995409846305847); padding: 1px 5px; border: solid 3px ; border-color: rgba(9, 221, 161,  1); #EFEFEF\">a tough, brutal, well made film</span> <span style=\"background-color: rgba(9, 221, 161,  0.2205590307712555); padding: 1px 5px; border: solid 3px ; border-color: rgba(9, 221, 161,  1); #EFEFEF\">about</span> <span style=\"background-color: rgba(233,30,99,0);  padding: 1px 5px; border: solid 3px ; border-color:  rgba(233,30,99,0); #EFEFEF\">a pickpocket</span> <span style=\"background-color: rgba(9, 221, 161,  0.22207684814929962); padding: 1px 5px; border: solid 3px ; border-color: rgba(9, 221, 161,  1); #EFEFEF\">Richard Widmark</span> <span style=\"background-color: rgba(233,30,99,0);  padding: 1px 5px; border: solid 3px ; border-color:  rgba(233,30,99,0); #EFEFEF\">who</span> <span style=\"background-color: rgba(233,30,99,0);  padding: 1px 5px; border: solid 3px ; border-color:  rgba(233,30,99,0); #EFEFEF\">inadvertently aquires</span> <span style=\"background-color: rgba(233,30,99,0);  padding: 1px 5px; border: solid 3px ; border-color:  rgba(233,30,99,0); #EFEFEF\">top-secret microfilm</span> <span style=\"background-color: rgba(233,30,99,0);  padding: 1px 5px; border: solid 3px ; border-color:  rgba(233,30,99,0); #EFEFEF\">becomes</span> <span style=\"background-color: rgba(233,30,99,0);  padding: 1px 5px; border: solid 3px ; border-color:  rgba(233,30,99,0); #EFEFEF\">a target</span> <span style=\"background-color: rgba(233,30,99,0);  padding: 1px 5px; border: solid 3px ; border-color:  rgba(233,30,99,0); #EFEFEF\">for</span> <span style=\"background-color: rgba(233,30,99,0);  padding: 1px 5px; border: solid 3px ; border-color:  rgba(233,30,99,0); #EFEFEF\">espionage agents</span> </div>"
      ],
      "text/plain": [
       "<IPython.core.display.HTML object>"
      ]
     },
     "metadata": {},
     "output_type": "display_data"
    },
    {
     "data": {
      "text/html": [
       "<br><br>"
      ],
      "text/plain": [
       "<IPython.core.display.HTML object>"
      ]
     },
     "metadata": {},
     "output_type": "display_data"
    },
    {
     "data": {
      "text/html": [
       "<div style='display: flex; width: 400px; flex-wrap: wrap'><span style=\"background-color: rgba(233,30,99,0);  padding: 1px 5px; border: solid 3px ; border-color:  rgba(233,30,99,0); #EFEFEF\">Haunting</span> <span style=\"background-color: rgba(233,30,99,0);  padding: 1px 5px; border: solid 3px ; border-color:  rgba(233,30,99,0); #EFEFEF\">long takes</span> <span style=\"background-color: rgba(9, 221, 161,  0.9996203780174255); padding: 1px 5px; border: solid 3px ; border-color: rgba(9, 221, 161,  1); #EFEFEF\">a gritty soundtrack</span> <span style=\"background-color: rgba(233,30,99,0);  padding: 1px 5px; border: solid 3px ; border-color:  rgba(233,30,99,0); #EFEFEF\">to accentuate</span> <span style=\"background-color: rgba(9, 221, 161,  0.9996203780174255); padding: 1px 5px; border: solid 3px ; border-color: rgba(9, 221, 161,  1); #EFEFEF\">the guilt</span> <span style=\"background-color: rgba(233,30,99,0);  padding: 1px 5px; border: solid 3px ; border-color:  rgba(233,30,99,0); #EFEFEF\">barking dogs</span> </div>"
      ],
      "text/plain": [
       "<IPython.core.display.HTML object>"
      ]
     },
     "metadata": {},
     "output_type": "display_data"
    },
    {
     "data": {
      "text/html": [
       "<br><br>"
      ],
      "text/plain": [
       "<IPython.core.display.HTML object>"
      ]
     },
     "metadata": {},
     "output_type": "display_data"
    },
    {
     "data": {
      "text/html": [
       "<div style='display: flex; width: 400px; flex-wrap: wrap'><span style=\"background-color: rgba(233,30,99,0);  padding: 1px 5px; border: solid 3px ; border-color:  rgba(233,30,99,0); #EFEFEF\">It</span> <span style=\"background-color: rgba(233,30,99,0);  padding: 1px 5px; border: solid 3px ; border-color:  rgba(233,30,99,0); #EFEFEF\">is</span> <span style=\"background-color: rgba(9, 221, 55,  0.5317307710647583); padding: 1px 5px; border: solid 3px ; border-color: rgba(9, 221, 55,  1); #EFEFEF\">a psychological thriller</span> </div>"
      ],
      "text/plain": [
       "<IPython.core.display.HTML object>"
      ]
     },
     "metadata": {},
     "output_type": "display_data"
    },
    {
     "data": {
      "text/html": [
       "<br><br>"
      ],
      "text/plain": [
       "<IPython.core.display.HTML object>"
      ]
     },
     "metadata": {},
     "output_type": "display_data"
    },
    {
     "data": {
      "text/html": [
       "<div style='display: flex; width: 400px; flex-wrap: wrap'><span style=\"background-color: rgba(9, 221, 55,  0.8350106477737427); padding: 1px 5px; border: solid 3px ; border-color: rgba(9, 221, 55,  1); #EFEFEF\">Standing</span> <span style=\"background-color: rgba(9, 221, 55,  0.8431651592254639); padding: 1px 5px; border: solid 3px ; border-color: rgba(9, 221, 55,  1); #EFEFEF\">out strongly</span> <span style=\"background-color: rgba(9, 221, 161,  0.6468125581741333); padding: 1px 5px; border: solid 3px ; border-color: rgba(9, 221, 161,  1); #EFEFEF\">is</span> <span style=\"background-color: rgba(9, 221, 55,  0.9995267391204834); padding: 1px 5px; border: solid 3px ; border-color: rgba(9, 221, 55,  1); #EFEFEF\">its sultrily lurid and bleak nature</span> <span style=\"background-color: rgba(9, 221, 55,  0.729847252368927); padding: 1px 5px; border: solid 3px ; border-color: rgba(9, 221, 55,  1); #EFEFEF\">that</span> <span style=\"background-color: rgba(233,30,99,0);  padding: 1px 5px; border: solid 3px ; border-color:  rgba(233,30,99,0); #EFEFEF\">'s intrusively planted</span> <span style=\"background-color: rgba(9, 221, 161,  0.6468125581741333); padding: 1px 5px; border: solid 3px ; border-color: rgba(9, 221, 161,  1); #EFEFEF\">into</span> <span style=\"background-color: rgba(9, 221, 161,  0.6468125581741333); padding: 1px 5px; border: solid 3px ; border-color: rgba(9, 221, 161,  1); #EFEFEF\">the film</span> <span style=\"background-color: rgba(9, 221, 55,  0.6900039315223694); padding: 1px 5px; border: solid 3px ; border-color: rgba(9, 221, 55,  1); #EFEFEF\">'s psychological makeup</span> <span style=\"background-color: rgba(233,30,99,0);  padding: 1px 5px; border: solid 3px ; border-color:  rgba(233,30,99,0); #EFEFEF\">manipulative strangle hold</span> <span style=\"background-color: rgba(9, 221, 161,  0.6468125581741333); padding: 1px 5px; border: solid 3px ; border-color: rgba(9, 221, 161,  1); #EFEFEF\">in</span> <span style=\"background-color: rgba(9, 221, 161,  0.6468125581741333); padding: 1px 5px; border: solid 3px ; border-color: rgba(9, 221, 161,  1); #EFEFEF\">sexual depravity</span> </div>"
      ],
      "text/plain": [
       "<IPython.core.display.HTML object>"
      ]
     },
     "metadata": {},
     "output_type": "display_data"
    },
    {
     "data": {
      "text/html": [
       "<br><br>"
      ],
      "text/plain": [
       "<IPython.core.display.HTML object>"
      ]
     },
     "metadata": {},
     "output_type": "display_data"
    },
    {
     "data": {
      "text/html": [
       "<div style='display: flex; width: 400px; flex-wrap: wrap'><span style=\"background-color: rgba(233,30,99,0);  padding: 1px 5px; border: solid 3px ; border-color:  rgba(233,30,99,0); #EFEFEF\">The former prizefighter</span> <span style=\"background-color: rgba(233,30,99,0);  padding: 1px 5px; border: solid 3px ; border-color:  rgba(233,30,99,0); #EFEFEF\">who</span> <span style=\"background-color: rgba(233,30,99,0);  padding: 1px 5px; border: solid 3px ; border-color:  rgba(233,30,99,0); #EFEFEF\">once</span> <span style=\"background-color: rgba(233,30,99,0);  padding: 1px 5px; border: solid 3px ; border-color:  rgba(233,30,99,0); #EFEFEF\">faced</span> <span style=\"background-color: rgba(233,30,99,0);  padding: 1px 5px; border: solid 3px ; border-color:  rgba(233,30,99,0); #EFEFEF\">Joe Louis</span> <span style=\"background-color: rgba(233,30,99,0);  padding: 1px 5px; border: solid 3px ; border-color:  rgba(233,30,99,0); #EFEFEF\">in</span> <span style=\"background-color: rgba(233,30,99,0);  padding: 1px 5px; border: solid 3px ; border-color:  rgba(233,30,99,0); #EFEFEF\">the ring</span> <span style=\"background-color: rgba(9, 221, 161,  0.5835801959037781); padding: 1px 5px; border: solid 3px ; border-color: rgba(9, 221, 161,  1); #EFEFEF\">delivers</span> <span style=\"background-color: rgba(9, 221, 161,  0.9997867941856384); padding: 1px 5px; border: solid 3px ; border-color: rgba(9, 221, 161,  1); #EFEFEF\">an Academy Award-winning portrayal</span> <span style=\"background-color: rgba(233,30,99,0);  padding: 1px 5px; border: solid 3px ; border-color:  rgba(233,30,99,0); #EFEFEF\">of</span> <span style=\"background-color: rgba(233,30,99,0);  padding: 1px 5px; border: solid 3px ; border-color:  rgba(233,30,99,0); #EFEFEF\">disgraced IRA soldier Gypo Nolan</span> <span style=\"background-color: rgba(233,30,99,0);  padding: 1px 5px; border: solid 3px ; border-color:  rgba(233,30,99,0); #EFEFEF\">on</span> <span style=\"background-color: rgba(233,30,99,0);  padding: 1px 5px; border: solid 3px ; border-color:  rgba(233,30,99,0); #EFEFEF\">the worst night</span> <span style=\"background-color: rgba(233,30,99,0);  padding: 1px 5px; border: solid 3px ; border-color:  rgba(233,30,99,0); #EFEFEF\">of</span> <span style=\"background-color: rgba(233,30,99,0);  padding: 1px 5px; border: solid 3px ; border-color:  rgba(233,30,99,0); #EFEFEF\">his life</span> </div>"
      ],
      "text/plain": [
       "<IPython.core.display.HTML object>"
      ]
     },
     "metadata": {},
     "output_type": "display_data"
    },
    {
     "data": {
      "text/html": [
       "<br><br>"
      ],
      "text/plain": [
       "<IPython.core.display.HTML object>"
      ]
     },
     "metadata": {},
     "output_type": "display_data"
    },
    {
     "data": {
      "text/html": [
       "<div style='display: flex; width: 400px; flex-wrap: wrap'><span style=\"background-color: rgba(9, 221, 161,  0.41278865933418274); padding: 1px 5px; border: solid 3px ; border-color: rgba(9, 221, 161,  1); #EFEFEF\">A River Runs</span> <span style=\"background-color: rgba(233,30,99,0);  padding: 1px 5px; border: solid 3px ; border-color:  rgba(233,30,99,0); #EFEFEF\">Through</span> <span style=\"background-color: rgba(9, 221, 161,  0.2231069654226303); padding: 1px 5px; border: solid 3px ; border-color: rgba(9, 221, 161,  1); #EFEFEF\">It</span> <span style=\"background-color: rgba(9, 221, 55,  0.5246747732162476); padding: 1px 5px; border: solid 3px ; border-color: rgba(9, 221, 55,  1); #EFEFEF\">is based</span> <span style=\"background-color: rgba(233,30,99,0);  padding: 1px 5px; border: solid 3px ; border-color:  rgba(233,30,99,0); #EFEFEF\">on</span> <span style=\"background-color: rgba(9, 221, 161,  0.35520288348197937); padding: 1px 5px; border: solid 3px ; border-color: rgba(9, 221, 161,  1); #EFEFEF\">the true story</span> <span style=\"background-color: rgba(233,30,99,0);  padding: 1px 5px; border: solid 3px ; border-color:  rgba(233,30,99,0); #EFEFEF\">of</span> <span style=\"background-color: rgba(233,30,99,0);  padding: 1px 5px; border: solid 3px ; border-color:  rgba(233,30,99,0); #EFEFEF\">two fly fishing brothers</span> <span style=\"background-color: rgba(233,30,99,0);  padding: 1px 5px; border: solid 3px ; border-color:  rgba(233,30,99,0); #EFEFEF\">Norman and Paul</span> <span style=\"background-color: rgba(9, 221, 55,  0.4384498596191406); padding: 1px 5px; border: solid 3px ; border-color: rgba(9, 221, 55,  1); #EFEFEF\">Brad Pitt</span> <span style=\"background-color: rgba(9, 221, 55,  0.34115585684776306); padding: 1px 5px; border: solid 3px ; border-color: rgba(9, 221, 55,  1); #EFEFEF\">Craig Sheffer</span> <span style=\"background-color: rgba(233,30,99,0);  padding: 1px 5px; border: solid 3px ; border-color:  rgba(233,30,99,0); #EFEFEF\">whose Reverend father</span> <span style=\"background-color: rgba(9, 221, 55,  0.20620697736740112); padding: 1px 5px; border: solid 3px ; border-color: rgba(9, 221, 55,  1); #EFEFEF\">Tom Skerritt</span> <span style=\"background-color: rgba(9, 221, 55,  0.2637946903705597); padding: 1px 5px; border: solid 3px ; border-color: rgba(9, 221, 55,  1); #EFEFEF\">is</span> <span style=\"background-color: rgba(9, 221, 55,  0.31497615575790405); padding: 1px 5px; border: solid 3px ; border-color: rgba(9, 221, 55,  1); #EFEFEF\">a strict man</span> <span style=\"background-color: rgba(9, 221, 55,  0.21397915482521057); padding: 1px 5px; border: solid 3px ; border-color: rgba(9, 221, 55,  1); #EFEFEF\">whose two passions</span> <span style=\"background-color: rgba(9, 221, 55,  0.27157995104789734); padding: 1px 5px; border: solid 3px ; border-color: rgba(9, 221, 55,  1); #EFEFEF\">are</span> <span style=\"background-color: rgba(233,30,99,0);  padding: 1px 5px; border: solid 3px ; border-color:  rgba(233,30,99,0); #EFEFEF\">his faith and fly fishing</span> <span style=\"background-color: rgba(9, 221, 55,  0.24507422745227814); padding: 1px 5px; border: solid 3px ; border-color: rgba(9, 221, 55,  1); #EFEFEF\">for</span> <span style=\"background-color: rgba(9, 221, 55,  0.2532702684402466); padding: 1px 5px; border: solid 3px ; border-color: rgba(9, 221, 55,  1); #EFEFEF\">him</span> <span style=\"background-color: rgba(9, 221, 55,  0.2553696632385254); padding: 1px 5px; border: solid 3px ; border-color: rgba(9, 221, 55,  1); #EFEFEF\">his sons</span> <span style=\"background-color: rgba(9, 221, 55,  0.2002888321876526); padding: 1px 5px; border: solid 3px ; border-color: rgba(9, 221, 55,  1); #EFEFEF\">there</span> <span style=\"background-color: rgba(9, 221, 55,  0.23186004161834717); padding: 1px 5px; border: solid 3px ; border-color: rgba(9, 221, 55,  1); #EFEFEF\">is</span> <span style=\"background-color: rgba(9, 221, 55,  0.22920000553131104); padding: 1px 5px; border: solid 3px ; border-color: rgba(9, 221, 55,  1); #EFEFEF\">a fine line</span> <span style=\"background-color: rgba(9, 221, 55,  0.227906733751297); padding: 1px 5px; border: solid 3px ; border-color: rgba(9, 221, 55,  1); #EFEFEF\">between</span> <span style=\"background-color: rgba(9, 221, 55,  0.23802450299263); padding: 1px 5px; border: solid 3px ; border-color: rgba(9, 221, 55,  1); #EFEFEF\">the two</span> </div>"
      ],
      "text/plain": [
       "<IPython.core.display.HTML object>"
      ]
     },
     "metadata": {},
     "output_type": "display_data"
    },
    {
     "data": {
      "text/html": [
       "<br><br>"
      ],
      "text/plain": [
       "<IPython.core.display.HTML object>"
      ]
     },
     "metadata": {},
     "output_type": "display_data"
    },
    {
     "data": {
      "text/html": [
       "<div style='display: flex; width: 400px; flex-wrap: wrap'><span style=\"background-color: rgba(9, 221, 161,  0.7401643991470337); padding: 1px 5px; border: solid 3px ; border-color: rgba(9, 221, 161,  1); #EFEFEF\">Carter</span> <span style=\"background-color: rgba(9, 221, 161,  0.9996662735939026); padding: 1px 5px; border: solid 3px ; border-color: rgba(9, 221, 161,  1); #EFEFEF\">'s depiction</span> <span style=\"background-color: rgba(9, 221, 161,  0.6727287769317627); padding: 1px 5px; border: solid 3px ; border-color: rgba(9, 221, 161,  1); #EFEFEF\">of</span> <span style=\"background-color: rgba(233,30,99,0);  padding: 1px 5px; border: solid 3px ; border-color:  rgba(233,30,99,0); #EFEFEF\">an ALS victim</span> <span style=\"background-color: rgba(9, 221, 161,  0.9996662735939026); padding: 1px 5px; border: solid 3px ; border-color: rgba(9, 221, 161,  1); #EFEFEF\">is</span> <span style=\"background-color: rgba(9, 221, 161,  0.9996662735939026); padding: 1px 5px; border: solid 3px ; border-color: rgba(9, 221, 161,  1); #EFEFEF\">strong</span> <span style=\"background-color: rgba(9, 221, 161,  0.9447570443153381); padding: 1px 5px; border: solid 3px ; border-color: rgba(9, 221, 161,  1); #EFEFEF\">perhaps even overdone</span> <span style=\"background-color: rgba(9, 221, 161,  0.9996662735939026); padding: 1px 5px; border: solid 3px ; border-color: rgba(9, 221, 161,  1); #EFEFEF\">at</span> <span style=\"background-color: rgba(9, 221, 161,  0.9996662735939026); padding: 1px 5px; border: solid 3px ; border-color: rgba(9, 221, 161,  1); #EFEFEF\">times</span> <span style=\"background-color: rgba(9, 221, 161,  0.9996662735939026); padding: 1px 5px; border: solid 3px ; border-color: rgba(9, 221, 161,  1); #EFEFEF\">sometimes</span> <span style=\"background-color: rgba(9, 221, 161,  0.25947046279907227); padding: 1px 5px; border: solid 3px ; border-color: rgba(9, 221, 161,  1); #EFEFEF\">her dialog</span> <span style=\"background-color: rgba(233,30,99,0);  padding: 1px 5px; border: solid 3px ; border-color:  rgba(233,30,99,0); #EFEFEF\">dissolves</span> <span style=\"background-color: rgba(9, 221, 161,  0.38318517804145813); padding: 1px 5px; border: solid 3px ; border-color: rgba(9, 221, 161,  1); #EFEFEF\">into</span> <span style=\"background-color: rgba(233,30,99,0);  padding: 1px 5px; border: solid 3px ; border-color:  rgba(233,30,99,0); #EFEFEF\">undistinguishable mutterings</span> </div>"
      ],
      "text/plain": [
       "<IPython.core.display.HTML object>"
      ]
     },
     "metadata": {},
     "output_type": "display_data"
    },
    {
     "data": {
      "text/html": [
       "<br><br>"
      ],
      "text/plain": [
       "<IPython.core.display.HTML object>"
      ]
     },
     "metadata": {},
     "output_type": "display_data"
    },
    {
     "data": {
      "text/html": [
       "<div style='display: flex; width: 400px; flex-wrap: wrap'><span style=\"background-color: rgba(9, 221, 161,  0.26980432868003845); padding: 1px 5px; border: solid 3px ; border-color: rgba(9, 221, 161,  1); #EFEFEF\">I</span> <span style=\"background-color: rgba(233,30,99,0);  padding: 1px 5px; border: solid 3px ; border-color:  rgba(233,30,99,0); #EFEFEF\">just</span> <span style=\"background-color: rgba(9, 221, 161,  0.9995595216751099); padding: 1px 5px; border: solid 3px ; border-color: rgba(9, 221, 161,  1); #EFEFEF\">re-watched</span> <span style=\"background-color: rgba(9, 221, 55,  0.5494683384895325); padding: 1px 5px; border: solid 3px ; border-color: rgba(9, 221, 55,  1); #EFEFEF\">this thriller</span> <span style=\"background-color: rgba(233,30,99,0);  padding: 1px 5px; border: solid 3px ; border-color:  rgba(233,30,99,0); #EFEFEF\">one</span> <span style=\"background-color: rgba(9, 221, 161,  0.20138350129127502); padding: 1px 5px; border: solid 3px ; border-color: rgba(9, 221, 161,  1); #EFEFEF\">I</span> <span style=\"background-color: rgba(9, 221, 161,  0.7287431955337524); padding: 1px 5px; border: solid 3px ; border-color: rgba(9, 221, 161,  1); #EFEFEF\">had previously believed to be</span> <span style=\"background-color: rgba(233,30,99,0);  padding: 1px 5px; border: solid 3px ; border-color:  rgba(233,30,99,0); #EFEFEF\">one</span> <span style=\"background-color: rgba(233,30,99,0);  padding: 1px 5px; border: solid 3px ; border-color:  rgba(233,30,99,0); #EFEFEF\">of</span> <span style=\"background-color: rgba(233,30,99,0);  padding: 1px 5px; border: solid 3px ; border-color:  rgba(233,30,99,0); #EFEFEF\">Hitch</span> <span style=\"background-color: rgba(9, 221, 161,  0.32893478870391846); padding: 1px 5px; border: solid 3px ; border-color: rgba(9, 221, 161,  1); #EFEFEF\">'s lesser efforts</span> </div>"
      ],
      "text/plain": [
       "<IPython.core.display.HTML object>"
      ]
     },
     "metadata": {},
     "output_type": "display_data"
    },
    {
     "data": {
      "text/html": [
       "<br><br>"
      ],
      "text/plain": [
       "<IPython.core.display.HTML object>"
      ]
     },
     "metadata": {},
     "output_type": "display_data"
    },
    {
     "data": {
      "text/html": [
       "<div style='display: flex; width: 400px; flex-wrap: wrap'><span style=\"background-color: rgba(9, 221, 161,  0.21338056027889252); padding: 1px 5px; border: solid 3px ; border-color: rgba(9, 221, 161,  1); #EFEFEF\">New York lensed horror film</span> <span style=\"background-color: rgba(233,30,99,0);  padding: 1px 5px; border: solid 3px ; border-color:  rgba(233,30,99,0); #EFEFEF\">filmed</span> <span style=\"background-color: rgba(233,30,99,0);  padding: 1px 5px; border: solid 3px ; border-color:  rgba(233,30,99,0); #EFEFEF\">in</span> <span style=\"background-color: rgba(233,30,99,0);  padding: 1px 5px; border: solid 3px ; border-color:  rgba(233,30,99,0); #EFEFEF\">part</span> <span style=\"background-color: rgba(233,30,99,0);  padding: 1px 5px; border: solid 3px ; border-color:  rgba(233,30,99,0); #EFEFEF\">on</span> <span style=\"background-color: rgba(233,30,99,0);  padding: 1px 5px; border: solid 3px ; border-color:  rgba(233,30,99,0); #EFEFEF\">Staten Island</span> <span style=\"background-color: rgba(233,30,99,0);  padding: 1px 5px; border: solid 3px ; border-color:  rgba(233,30,99,0); #EFEFEF\">which</span> <span style=\"background-color: rgba(233,30,99,0);  padding: 1px 5px; border: solid 3px ; border-color:  rgba(233,30,99,0); #EFEFEF\">no doubt</span> <span style=\"background-color: rgba(233,30,99,0);  padding: 1px 5px; border: solid 3px ; border-color:  rgba(233,30,99,0); #EFEFEF\">brought</span> <span style=\"background-color: rgba(233,30,99,0);  padding: 1px 5px; border: solid 3px ; border-color:  rgba(233,30,99,0); #EFEFEF\">the spirit</span> <span style=\"background-color: rgba(233,30,99,0);  padding: 1px 5px; border: solid 3px ; border-color:  rgba(233,30,99,0); #EFEFEF\">of</span> <span style=\"background-color: rgba(233,30,99,0);  padding: 1px 5px; border: solid 3px ; border-color:  rgba(233,30,99,0); #EFEFEF\">Andy Milligan</span> <span style=\"background-color: rgba(233,30,99,0);  padding: 1px 5px; border: solid 3px ; border-color:  rgba(233,30,99,0); #EFEFEF\">lurking</span> <span style=\"background-color: rgba(233,30,99,0);  padding: 1px 5px; border: solid 3px ; border-color:  rgba(233,30,99,0); #EFEFEF\">about</span> <span style=\"background-color: rgba(9, 221, 161,  0.3119530975818634); padding: 1px 5px; border: solid 3px ; border-color: rgba(9, 221, 161,  1); #EFEFEF\">is</span> <span style=\"background-color: rgba(9, 221, 161,  0.27421265840530396); padding: 1px 5px; border: solid 3px ; border-color: rgba(9, 221, 161,  1); #EFEFEF\">one</span> <span style=\"background-color: rgba(233,30,99,0);  padding: 1px 5px; border: solid 3px ; border-color:  rgba(233,30,99,0); #EFEFEF\">of</span> <span style=\"background-color: rgba(9, 221, 161,  0.9994736313819885); padding: 1px 5px; border: solid 3px ; border-color: rgba(9, 221, 161,  1); #EFEFEF\">the better horror comedies</span> <span style=\"background-color: rgba(233,30,99,0);  padding: 1px 5px; border: solid 3px ; border-color:  rgba(233,30,99,0); #EFEFEF\">to come</span> <span style=\"background-color: rgba(233,30,99,0);  padding: 1px 5px; border: solid 3px ; border-color:  rgba(233,30,99,0); #EFEFEF\">around</span> <span style=\"background-color: rgba(233,30,99,0);  padding: 1px 5px; border: solid 3px ; border-color:  rgba(233,30,99,0); #EFEFEF\">in</span> <span style=\"background-color: rgba(233,30,99,0);  padding: 1px 5px; border: solid 3px ; border-color:  rgba(233,30,99,0); #EFEFEF\">a while</span> </div>"
      ],
      "text/plain": [
       "<IPython.core.display.HTML object>"
      ]
     },
     "metadata": {},
     "output_type": "display_data"
    },
    {
     "data": {
      "text/html": [
       "<br><br>"
      ],
      "text/plain": [
       "<IPython.core.display.HTML object>"
      ]
     },
     "metadata": {},
     "output_type": "display_data"
    },
    {
     "data": {
      "text/html": [
       "<div style='display: flex; width: 400px; flex-wrap: wrap'><span style=\"background-color: rgba(9, 221, 161,  0.2925364673137665); padding: 1px 5px; border: solid 3px ; border-color: rgba(9, 221, 161,  1); #EFEFEF\">The film</span> <span style=\"background-color: rgba(9, 221, 161,  0.35843679308891296); padding: 1px 5px; border: solid 3px ; border-color: rgba(9, 221, 161,  1); #EFEFEF\">written and directed</span> <span style=\"background-color: rgba(9, 221, 161,  0.3811630606651306); padding: 1px 5px; border: solid 3px ; border-color: rgba(9, 221, 161,  1); #EFEFEF\">entirely</span> <span style=\"background-color: rgba(9, 221, 161,  0.3288392424583435); padding: 1px 5px; border: solid 3px ; border-color: rgba(9, 221, 161,  1); #EFEFEF\">by</span> <span style=\"background-color: rgba(9, 221, 161,  0.23990720510482788); padding: 1px 5px; border: solid 3px ; border-color: rgba(9, 221, 161,  1); #EFEFEF\">Anthony Waller</span> <span style=\"background-color: rgba(233,30,99,0);  padding: 1px 5px; border: solid 3px ; border-color:  rgba(233,30,99,0); #EFEFEF\">is</span> <span style=\"background-color: rgba(9, 221, 161,  0.9994980096817017); padding: 1px 5px; border: solid 3px ; border-color: rgba(9, 221, 161,  1); #EFEFEF\">a tense, action-packed thriller</span> <span style=\"background-color: rgba(9, 221, 161,  0.2990601658821106); padding: 1px 5px; border: solid 3px ; border-color: rgba(9, 221, 161,  1); #EFEFEF\">with</span> <span style=\"background-color: rgba(9, 221, 161,  0.30372557044029236); padding: 1px 5px; border: solid 3px ; border-color: rgba(9, 221, 161,  1); #EFEFEF\">black comedy aspects</span> <span style=\"background-color: rgba(233,30,99,0);  padding: 1px 5px; border: solid 3px ; border-color:  rgba(233,30,99,0); #EFEFEF\">horror influences</span> </div>"
      ],
      "text/plain": [
       "<IPython.core.display.HTML object>"
      ]
     },
     "metadata": {},
     "output_type": "display_data"
    },
    {
     "data": {
      "text/html": [
       "<br><br>"
      ],
      "text/plain": [
       "<IPython.core.display.HTML object>"
      ]
     },
     "metadata": {},
     "output_type": "display_data"
    },
    {
     "name": "stdout",
     "output_type": "stream",
     "text": [
      "\n",
      "\n",
      "10 most important reviews for positive predicted label - concept2:\n",
      "\n",
      "\n"
     ]
    },
    {
     "data": {
      "text/html": [
       "<div style='display: flex; width: 400px; flex-wrap: wrap'><span style=\"background-color: rgba(9, 221, 161,  0.333190381526947); padding: 1px 5px; border: solid 3px ; border-color: rgba(9, 221, 161,  1); #EFEFEF\">It</span> <span style=\"background-color: rgba(9, 221, 161,  0.27182453870773315); padding: 1px 5px; border: solid 3px ; border-color: rgba(9, 221, 161,  1); #EFEFEF\">is</span> <span style=\"background-color: rgba(9, 221, 161,  0.9998337626457214); padding: 1px 5px; border: solid 3px ; border-color: rgba(9, 221, 161,  1); #EFEFEF\">a great loss</span> </div>"
      ],
      "text/plain": [
       "<IPython.core.display.HTML object>"
      ]
     },
     "metadata": {},
     "output_type": "display_data"
    },
    {
     "data": {
      "text/html": [
       "<br><br>"
      ],
      "text/plain": [
       "<IPython.core.display.HTML object>"
      ]
     },
     "metadata": {},
     "output_type": "display_data"
    },
    {
     "data": {
      "text/html": [
       "<div style='display: flex; width: 400px; flex-wrap: wrap'><span style=\"background-color: rgba(233,30,99,0);  padding: 1px 5px; border: solid 3px ; border-color:  rgba(233,30,99,0); #EFEFEF\">He</span> <span style=\"background-color: rgba(233,30,99,0);  padding: 1px 5px; border: solid 3px ; border-color:  rgba(233,30,99,0); #EFEFEF\">was</span> <span style=\"background-color: rgba(9, 221, 161,  0.9998620748519897); padding: 1px 5px; border: solid 3px ; border-color: rgba(9, 221, 161,  1); #EFEFEF\">just that beautiful</span> </div>"
      ],
      "text/plain": [
       "<IPython.core.display.HTML object>"
      ]
     },
     "metadata": {},
     "output_type": "display_data"
    },
    {
     "data": {
      "text/html": [
       "<br><br>"
      ],
      "text/plain": [
       "<IPython.core.display.HTML object>"
      ]
     },
     "metadata": {},
     "output_type": "display_data"
    },
    {
     "data": {
      "text/html": [
       "<div style='display: flex; width: 400px; flex-wrap: wrap'><span style=\"background-color: rgba(9, 221, 161,  0.23589055240154266); padding: 1px 5px; border: solid 3px ; border-color: rgba(9, 221, 161,  1); #EFEFEF\">I</span> <span style=\"background-color: rgba(9, 221, 161,  0.22839869558811188); padding: 1px 5px; border: solid 3px ; border-color: rgba(9, 221, 161,  1); #EFEFEF\">so wanted</span> <span style=\"background-color: rgba(9, 221, 161,  0.41955289244651794); padding: 1px 5px; border: solid 3px ; border-color: rgba(9, 221, 161,  1); #EFEFEF\">Ben and Emily</span> <span style=\"background-color: rgba(233,30,99,0);  padding: 1px 5px; border: solid 3px ; border-color:  rgba(233,30,99,0); #EFEFEF\">to be</span> <span style=\"background-color: rgba(9, 221, 161,  0.2946953773498535); padding: 1px 5px; border: solid 3px ; border-color: rgba(9, 221, 161,  1); #EFEFEF\">together</span> <span style=\"background-color: rgba(9, 221, 161,  0.2592011094093323); padding: 1px 5px; border: solid 3px ; border-color: rgba(9, 221, 161,  1); #EFEFEF\">in</span> <span style=\"background-color: rgba(9, 221, 161,  0.2668413519859314); padding: 1px 5px; border: solid 3px ; border-color: rgba(9, 221, 161,  1); #EFEFEF\">the end</span> <span style=\"background-color: rgba(9, 221, 161,  0.21584807336330414); padding: 1px 5px; border: solid 3px ; border-color: rgba(9, 221, 161,  1); #EFEFEF\">they</span> <span style=\"background-color: rgba(9, 221, 161,  0.2136750966310501); padding: 1px 5px; border: solid 3px ; border-color: rgba(9, 221, 161,  1); #EFEFEF\">were</span> <span style=\"background-color: rgba(9, 221, 161,  0.9994969367980957); padding: 1px 5px; border: solid 3px ; border-color: rgba(9, 221, 161,  1); #EFEFEF\">forever</span> </div>"
      ],
      "text/plain": [
       "<IPython.core.display.HTML object>"
      ]
     },
     "metadata": {},
     "output_type": "display_data"
    },
    {
     "data": {
      "text/html": [
       "<br><br>"
      ],
      "text/plain": [
       "<IPython.core.display.HTML object>"
      ]
     },
     "metadata": {},
     "output_type": "display_data"
    },
    {
     "data": {
      "text/html": [
       "<div style='display: flex; width: 400px; flex-wrap: wrap'><span style=\"background-color: rgba(9, 221, 161,  0.9995083808898926); padding: 1px 5px; border: solid 3px ; border-color: rgba(9, 221, 161,  1); #EFEFEF\">Always</span> <span style=\"background-color: rgba(233,30,99,0);  padding: 1px 5px; border: solid 3px ; border-color:  rgba(233,30,99,0); #EFEFEF\">makes</span> <span style=\"background-color: rgba(233,30,99,0);  padding: 1px 5px; border: solid 3px ; border-color:  rgba(233,30,99,0); #EFEFEF\">me</span> <span style=\"background-color: rgba(9, 221, 161,  0.3911880552768707); padding: 1px 5px; border: solid 3px ; border-color: rgba(9, 221, 161,  1); #EFEFEF\">cry</span> </div>"
      ],
      "text/plain": [
       "<IPython.core.display.HTML object>"
      ]
     },
     "metadata": {},
     "output_type": "display_data"
    },
    {
     "data": {
      "text/html": [
       "<br><br>"
      ],
      "text/plain": [
       "<IPython.core.display.HTML object>"
      ]
     },
     "metadata": {},
     "output_type": "display_data"
    },
    {
     "data": {
      "text/html": [
       "<div style='display: flex; width: 400px; flex-wrap: wrap'><span style=\"background-color: rgba(9, 221, 161,  0.41318702697753906); padding: 1px 5px; border: solid 3px ; border-color: rgba(9, 221, 161,  1); #EFEFEF\">Losing</span> <span style=\"background-color: rgba(9, 221, 161,  0.8145635724067688); padding: 1px 5px; border: solid 3px ; border-color: rgba(9, 221, 161,  1); #EFEFEF\">your love</span> <span style=\"background-color: rgba(9, 221, 161,  0.5138537883758545); padding: 1px 5px; border: solid 3px ; border-color: rgba(9, 221, 161,  1); #EFEFEF\">is</span> <span style=\"background-color: rgba(9, 221, 161,  0.9996119737625122); padding: 1px 5px; border: solid 3px ; border-color: rgba(9, 221, 161,  1); #EFEFEF\">painful</span> <span style=\"background-color: rgba(9, 221, 161,  0.4821826219558716); padding: 1px 5px; border: solid 3px ; border-color: rgba(9, 221, 161,  1); #EFEFEF\">beyond</span> <span style=\"background-color: rgba(233,30,99,0);  padding: 1px 5px; border: solid 3px ; border-color:  rgba(233,30,99,0); #EFEFEF\">belief</span> <span style=\"background-color: rgba(233,30,99,0);  padding: 1px 5px; border: solid 3px ; border-color:  rgba(233,30,99,0); #EFEFEF\">many</span> <span style=\"background-color: rgba(9, 221, 161,  0.44376134872436523); padding: 1px 5px; border: solid 3px ; border-color: rgba(9, 221, 161,  1); #EFEFEF\">who</span> <span style=\"background-color: rgba(9, 221, 161,  0.34252041578292847); padding: 1px 5px; border: solid 3px ; border-color: rgba(9, 221, 161,  1); #EFEFEF\">do</span> <span style=\"background-color: rgba(233,30,99,0);  padding: 1px 5px; border: solid 3px ; border-color:  rgba(233,30,99,0); #EFEFEF\">so</span> <span style=\"background-color: rgba(9, 221, 161,  0.8623897433280945); padding: 1px 5px; border: solid 3px ; border-color: rgba(9, 221, 161,  1); #EFEFEF\">will never feel</span> <span style=\"background-color: rgba(233,30,99,0);  padding: 1px 5px; border: solid 3px ; border-color:  rgba(233,30,99,0); #EFEFEF\">something</span> <span style=\"background-color: rgba(233,30,99,0);  padding: 1px 5px; border: solid 3px ; border-color:  rgba(233,30,99,0); #EFEFEF\">like</span> <span style=\"background-color: rgba(233,30,99,0);  padding: 1px 5px; border: solid 3px ; border-color:  rgba(233,30,99,0); #EFEFEF\">that</span> <span style=\"background-color: rgba(9, 221, 161,  0.4279136061668396); padding: 1px 5px; border: solid 3px ; border-color: rgba(9, 221, 161,  1); #EFEFEF\">again</span> </div>"
      ],
      "text/plain": [
       "<IPython.core.display.HTML object>"
      ]
     },
     "metadata": {},
     "output_type": "display_data"
    },
    {
     "data": {
      "text/html": [
       "<br><br>"
      ],
      "text/plain": [
       "<IPython.core.display.HTML object>"
      ]
     },
     "metadata": {},
     "output_type": "display_data"
    },
    {
     "data": {
      "text/html": [
       "<div style='display: flex; width: 400px; flex-wrap: wrap'><span style=\"background-color: rgba(9, 221, 161,  0.7576091289520264); padding: 1px 5px; border: solid 3px ; border-color: rgba(9, 221, 161,  1); #EFEFEF\">There</span> <span style=\"background-color: rgba(9, 221, 161,  0.4502345025539398); padding: 1px 5px; border: solid 3px ; border-color: rgba(9, 221, 161,  1); #EFEFEF\">are</span> <span style=\"background-color: rgba(233,30,99,0);  padding: 1px 5px; border: solid 3px ; border-color:  rgba(233,30,99,0); #EFEFEF\">moments</span> <span style=\"background-color: rgba(233,30,99,0);  padding: 1px 5px; border: solid 3px ; border-color:  rgba(233,30,99,0); #EFEFEF\">that</span> <span style=\"background-color: rgba(233,30,99,0);  padding: 1px 5px; border: solid 3px ; border-color:  rgba(233,30,99,0); #EFEFEF\">will bring</span> <span style=\"background-color: rgba(9, 221, 161,  0.9996607303619385); padding: 1px 5px; border: solid 3px ; border-color: rgba(9, 221, 161,  1); #EFEFEF\">tears</span> <span style=\"background-color: rgba(233,30,99,0);  padding: 1px 5px; border: solid 3px ; border-color:  rgba(233,30,99,0); #EFEFEF\">to</span> <span style=\"background-color: rgba(233,30,99,0);  padding: 1px 5px; border: solid 3px ; border-color:  rgba(233,30,99,0); #EFEFEF\">your eyes</span> <span style=\"background-color: rgba(233,30,99,0);  padding: 1px 5px; border: solid 3px ; border-color:  rgba(233,30,99,0); #EFEFEF\">as well</span> </div>"
      ],
      "text/plain": [
       "<IPython.core.display.HTML object>"
      ]
     },
     "metadata": {},
     "output_type": "display_data"
    },
    {
     "data": {
      "text/html": [
       "<br><br>"
      ],
      "text/plain": [
       "<IPython.core.display.HTML object>"
      ]
     },
     "metadata": {},
     "output_type": "display_data"
    },
    {
     "data": {
      "text/html": [
       "<div style='display: flex; width: 400px; flex-wrap: wrap'><span style=\"background-color: rgba(233,30,99,0);  padding: 1px 5px; border: solid 3px ; border-color:  rgba(233,30,99,0); #EFEFEF\">I</span> <span style=\"background-color: rgba(9, 221, 161,  0.9998857378959656); padding: 1px 5px; border: solid 3px ; border-color: rgba(9, 221, 161,  1); #EFEFEF\">will never forget</span> </div>"
      ],
      "text/plain": [
       "<IPython.core.display.HTML object>"
      ]
     },
     "metadata": {},
     "output_type": "display_data"
    },
    {
     "data": {
      "text/html": [
       "<br><br>"
      ],
      "text/plain": [
       "<IPython.core.display.HTML object>"
      ]
     },
     "metadata": {},
     "output_type": "display_data"
    },
    {
     "data": {
      "text/html": [
       "<div style='display: flex; width: 400px; flex-wrap: wrap'><span style=\"background-color: rgba(9, 221, 161,  0.99930340051651); padding: 1px 5px; border: solid 3px ; border-color: rgba(9, 221, 161,  1); #EFEFEF\">The love and support</span> <span style=\"background-color: rgba(9, 221, 161,  0.3981229066848755); padding: 1px 5px; border: solid 3px ; border-color: rgba(9, 221, 161,  1); #EFEFEF\">of</span> <span style=\"background-color: rgba(9, 221, 161,  0.7762815952301025); padding: 1px 5px; border: solid 3px ; border-color: rgba(9, 221, 161,  1); #EFEFEF\">the family members</span> <span style=\"background-color: rgba(233,30,99,0);  padding: 1px 5px; border: solid 3px ; border-color:  rgba(233,30,99,0); #EFEFEF\">is</span> <span style=\"background-color: rgba(233,30,99,0);  padding: 1px 5px; border: solid 3px ; border-color:  rgba(233,30,99,0); #EFEFEF\">evident</span> <span style=\"background-color: rgba(9, 221, 161,  0.2341219037771225); padding: 1px 5px; border: solid 3px ; border-color: rgba(9, 221, 161,  1); #EFEFEF\">throughout</span> </div>"
      ],
      "text/plain": [
       "<IPython.core.display.HTML object>"
      ]
     },
     "metadata": {},
     "output_type": "display_data"
    },
    {
     "data": {
      "text/html": [
       "<br><br>"
      ],
      "text/plain": [
       "<IPython.core.display.HTML object>"
      ]
     },
     "metadata": {},
     "output_type": "display_data"
    },
    {
     "data": {
      "text/html": [
       "<div style='display: flex; width: 400px; flex-wrap: wrap'><span style=\"background-color: rgba(9, 221, 161,  0.766835629940033); padding: 1px 5px; border: solid 3px ; border-color: rgba(9, 221, 161,  1); #EFEFEF\">It</span> <span style=\"background-color: rgba(9, 221, 161,  0.6661139130592346); padding: 1px 5px; border: solid 3px ; border-color: rgba(9, 221, 161,  1); #EFEFEF\">fills</span> <span style=\"background-color: rgba(9, 221, 161,  0.5994100570678711); padding: 1px 5px; border: solid 3px ; border-color: rgba(9, 221, 161,  1); #EFEFEF\">you</span> <span style=\"background-color: rgba(9, 221, 161,  0.5648959875106812); padding: 1px 5px; border: solid 3px ; border-color: rgba(9, 221, 161,  1); #EFEFEF\">with</span> <span style=\"background-color: rgba(9, 221, 161,  0.9998160004615784); padding: 1px 5px; border: solid 3px ; border-color: rgba(9, 221, 161,  1); #EFEFEF\">pride</span> </div>"
      ],
      "text/plain": [
       "<IPython.core.display.HTML object>"
      ]
     },
     "metadata": {},
     "output_type": "display_data"
    },
    {
     "data": {
      "text/html": [
       "<br><br>"
      ],
      "text/plain": [
       "<IPython.core.display.HTML object>"
      ]
     },
     "metadata": {},
     "output_type": "display_data"
    },
    {
     "data": {
      "text/html": [
       "<div style='display: flex; width: 400px; flex-wrap: wrap'><span style=\"background-color: rgba(9, 221, 161,  0.999889612197876); padding: 1px 5px; border: solid 3px ; border-color: rgba(9, 221, 161,  1); #EFEFEF\">Thankyou</span> </div>"
      ],
      "text/plain": [
       "<IPython.core.display.HTML object>"
      ]
     },
     "metadata": {},
     "output_type": "display_data"
    },
    {
     "data": {
      "text/html": [
       "<br><br>"
      ],
      "text/plain": [
       "<IPython.core.display.HTML object>"
      ]
     },
     "metadata": {},
     "output_type": "display_data"
    },
    {
     "name": "stdout",
     "output_type": "stream",
     "text": [
      "\n",
      "\n",
      "negative predicted reviews:\n",
      "\n",
      "\n",
      "\n",
      "\n",
      "10 most important reviews for negative predicted label - concept1:\n",
      "\n",
      "\n"
     ]
    },
    {
     "data": {
      "text/html": [
       "<div style='display: flex; width: 400px; flex-wrap: wrap'><span style=\"background-color: rgba(221, 9, 34,  0.6733782887458801); padding: 1px 5px; border: solid 3px ; border-color: rgba(221, 9, 34,  1); #EFEFEF\">The dialogue</span> <span style=\"background-color: rgba(221, 9, 34,  0.7218392491340637); padding: 1px 5px; border: solid 3px ; border-color: rgba(221, 9, 34,  1); #EFEFEF\">is</span> <span style=\"background-color: rgba(221, 9, 34,  0.3238433003425598); padding: 1px 5px; border: solid 3px ; border-color: rgba(221, 9, 34,  1); #EFEFEF\">cliché</span> <span style=\"background-color: rgba(221, 9, 34,  0.3631473779678345); padding: 1px 5px; border: solid 3px ; border-color: rgba(221, 9, 34,  1); #EFEFEF\">the characters</span> <span style=\"background-color: rgba(221, 9, 34,  0.3544306755065918); padding: 1px 5px; border: solid 3px ; border-color: rgba(221, 9, 34,  1); #EFEFEF\">are</span> <span style=\"background-color: rgba(221, 9, 34,  0.5514223575592041); padding: 1px 5px; border: solid 3px ; border-color: rgba(221, 9, 34,  1); #EFEFEF\">two-dimensional</span> <span style=\"background-color: rgba(221, 9, 34,  0.6002990007400513); padding: 1px 5px; border: solid 3px ; border-color: rgba(221, 9, 34,  1); #EFEFEF\">the writing</span> <span style=\"background-color: rgba(221, 9, 34,  0.4463508129119873); padding: 1px 5px; border: solid 3px ; border-color: rgba(221, 9, 34,  1); #EFEFEF\">is</span> <span style=\"background-color: rgba(221, 9, 34,  0.36776596307754517); padding: 1px 5px; border: solid 3px ; border-color: rgba(221, 9, 34,  1); #EFEFEF\">ho-hum</span> <span style=\"background-color: rgba(221, 9, 34,  0.4623870849609375); padding: 1px 5px; border: solid 3px ; border-color: rgba(221, 9, 34,  1); #EFEFEF\">what little story</span> <span style=\"background-color: rgba(221, 9, 34,  0.36794334650039673); padding: 1px 5px; border: solid 3px ; border-color: rgba(221, 9, 34,  1); #EFEFEF\">there</span> <span style=\"background-color: rgba(221, 9, 34,  0.4045296013355255); padding: 1px 5px; border: solid 3px ; border-color: rgba(221, 9, 34,  1); #EFEFEF\">is</span> <span style=\"background-color: rgba(221, 9, 34,  0.4045296013355255); padding: 1px 5px; border: solid 3px ; border-color: rgba(221, 9, 34,  1); #EFEFEF\">is</span> <span style=\"background-color: rgba(221, 9, 34,  0.5091842412948608); padding: 1px 5px; border: solid 3px ; border-color: rgba(221, 9, 34,  1); #EFEFEF\">coherent nor remotely interesting</span> </div>"
      ],
      "text/plain": [
       "<IPython.core.display.HTML object>"
      ]
     },
     "metadata": {},
     "output_type": "display_data"
    },
    {
     "data": {
      "text/html": [
       "<br><br>"
      ],
      "text/plain": [
       "<IPython.core.display.HTML object>"
      ]
     },
     "metadata": {},
     "output_type": "display_data"
    },
    {
     "data": {
      "text/html": [
       "<div style='display: flex; width: 400px; flex-wrap: wrap'><span style=\"background-color: rgba(221, 9, 34,  0.3063073456287384); padding: 1px 5px; border: solid 3px ; border-color: rgba(221, 9, 34,  1); #EFEFEF\">It</span> <span style=\"background-color: rgba(221, 9, 34,  0.4359298050403595); padding: 1px 5px; border: solid 3px ; border-color: rgba(221, 9, 34,  1); #EFEFEF\">is</span> <span style=\"background-color: rgba(221, 9, 34,  0.7994651198387146); padding: 1px 5px; border: solid 3px ; border-color: rgba(221, 9, 34,  1); #EFEFEF\">totally</span> <span style=\"background-color: rgba(221, 9, 34,  0.9956093430519104); padding: 1px 5px; border: solid 3px ; border-color: rgba(221, 9, 34,  1); #EFEFEF\">mind-numbingly boring</span> <span style=\"background-color: rgba(221, 9, 34,  0.23572924733161926); padding: 1px 5px; border: solid 3px ; border-color: rgba(221, 9, 34,  1); #EFEFEF\">only sparingly funny</span> </div>"
      ],
      "text/plain": [
       "<IPython.core.display.HTML object>"
      ]
     },
     "metadata": {},
     "output_type": "display_data"
    },
    {
     "data": {
      "text/html": [
       "<br><br>"
      ],
      "text/plain": [
       "<IPython.core.display.HTML object>"
      ]
     },
     "metadata": {},
     "output_type": "display_data"
    },
    {
     "data": {
      "text/html": [
       "<div style='display: flex; width: 400px; flex-wrap: wrap'><span style=\"background-color: rgba(221, 9, 34,  0.5276873707771301); padding: 1px 5px; border: solid 3px ; border-color: rgba(221, 9, 34,  1); #EFEFEF\">Simply put</span> <span style=\"background-color: rgba(221, 9, 34,  0.3688042461872101); padding: 1px 5px; border: solid 3px ; border-color: rgba(221, 9, 34,  1); #EFEFEF\">it</span> <span style=\"background-color: rgba(221, 9, 34,  0.6873867511749268); padding: 1px 5px; border: solid 3px ; border-color: rgba(221, 9, 34,  1); #EFEFEF\">was</span> <span style=\"background-color: rgba(221, 9, 34,  0.9147889614105225); padding: 1px 5px; border: solid 3px ; border-color: rgba(221, 9, 34,  1); #EFEFEF\">smut-filled</span> <span style=\"background-color: rgba(221, 9, 34,  0.238866925239563); padding: 1px 5px; border: solid 3px ; border-color: rgba(221, 9, 34,  1); #EFEFEF\">simply</span> <span style=\"background-color: rgba(233,30,99,0);  padding: 1px 5px; border: solid 3px ; border-color:  rgba(233,30,99,0); #EFEFEF\">funny</span> <span style=\"background-color: rgba(233,30,99,0);  padding: 1px 5px; border: solid 3px ; border-color:  rgba(233,30,99,0); #EFEFEF\">with</span> <span style=\"background-color: rgba(221, 9, 34,  0.9995726943016052); padding: 1px 5px; border: solid 3px ; border-color: rgba(221, 9, 34,  1); #EFEFEF\">barely any plot</span> </div>"
      ],
      "text/plain": [
       "<IPython.core.display.HTML object>"
      ]
     },
     "metadata": {},
     "output_type": "display_data"
    },
    {
     "data": {
      "text/html": [
       "<br><br>"
      ],
      "text/plain": [
       "<IPython.core.display.HTML object>"
      ]
     },
     "metadata": {},
     "output_type": "display_data"
    },
    {
     "data": {
      "text/html": [
       "<div style='display: flex; width: 400px; flex-wrap: wrap'><span style=\"background-color: rgba(233,30,99,0);  padding: 1px 5px; border: solid 3px ; border-color:  rgba(233,30,99,0); #EFEFEF\">From</span> <span style=\"background-color: rgba(233,30,99,0);  padding: 1px 5px; border: solid 3px ; border-color:  rgba(233,30,99,0); #EFEFEF\">the blatant disregard</span> <span style=\"background-color: rgba(233,30,99,0);  padding: 1px 5px; border: solid 3px ; border-color:  rgba(233,30,99,0); #EFEFEF\">of</span> <span style=\"background-color: rgba(233,30,99,0);  padding: 1px 5px; border: solid 3px ; border-color:  rgba(233,30,99,0); #EFEFEF\">the source material</span> <span style=\"background-color: rgba(233,30,99,0);  padding: 1px 5px; border: solid 3px ; border-color:  rgba(233,30,99,0); #EFEFEF\">sure</span> <span style=\"background-color: rgba(233,30,99,0);  padding: 1px 5px; border: solid 3px ; border-color:  rgba(233,30,99,0); #EFEFEF\">to infuriate</span> <span style=\"background-color: rgba(233,30,99,0);  padding: 1px 5px; border: solid 3px ; border-color:  rgba(233,30,99,0); #EFEFEF\">anyone</span> <span style=\"background-color: rgba(221, 9, 34,  0.22379398345947266); padding: 1px 5px; border: solid 3px ; border-color: rgba(221, 9, 34,  1); #EFEFEF\">remotely familiar</span> <span style=\"background-color: rgba(233,30,99,0);  padding: 1px 5px; border: solid 3px ; border-color:  rgba(233,30,99,0); #EFEFEF\">with</span> <span style=\"background-color: rgba(233,30,99,0);  padding: 1px 5px; border: solid 3px ; border-color:  rgba(233,30,99,0); #EFEFEF\">mythology</span> <span style=\"background-color: rgba(233,30,99,0);  padding: 1px 5px; border: solid 3px ; border-color:  rgba(233,30,99,0); #EFEFEF\">to</span> <span style=\"background-color: rgba(221, 9, 34,  0.3991418182849884); padding: 1px 5px; border: solid 3px ; border-color: rgba(221, 9, 34,  1); #EFEFEF\">the predictably insufficient production value</span> <span style=\"background-color: rgba(221, 9, 34,  0.4533176124095917); padding: 1px 5px; border: solid 3px ; border-color: rgba(221, 9, 34,  1); #EFEFEF\">this entire mini-series</span> <span style=\"background-color: rgba(233,30,99,0);  padding: 1px 5px; border: solid 3px ; border-color:  rgba(233,30,99,0); #EFEFEF\">is</span> <span style=\"background-color: rgba(221, 9, 34,  0.6059006452560425); padding: 1px 5px; border: solid 3px ; border-color: rgba(221, 9, 34,  1); #EFEFEF\">a train wreck</span> </div>"
      ],
      "text/plain": [
       "<IPython.core.display.HTML object>"
      ]
     },
     "metadata": {},
     "output_type": "display_data"
    },
    {
     "data": {
      "text/html": [
       "<br><br>"
      ],
      "text/plain": [
       "<IPython.core.display.HTML object>"
      ]
     },
     "metadata": {},
     "output_type": "display_data"
    },
    {
     "data": {
      "text/html": [
       "<div style='display: flex; width: 400px; flex-wrap: wrap'><span style=\"background-color: rgba(221, 9, 34,  0.34448665380477905); padding: 1px 5px; border: solid 3px ; border-color: rgba(221, 9, 34,  1); #EFEFEF\">The fact</span> <span style=\"background-color: rgba(221, 9, 34,  0.2737092971801758); padding: 1px 5px; border: solid 3px ; border-color: rgba(221, 9, 34,  1); #EFEFEF\">that</span> <span style=\"background-color: rgba(221, 9, 34,  0.2110908031463623); padding: 1px 5px; border: solid 3px ; border-color: rgba(221, 9, 34,  1); #EFEFEF\">the interaction</span> <span style=\"background-color: rgba(221, 9, 34,  0.2416711002588272); padding: 1px 5px; border: solid 3px ; border-color: rgba(221, 9, 34,  1); #EFEFEF\">between</span> <span style=\"background-color: rgba(221, 9, 34,  0.2477441430091858); padding: 1px 5px; border: solid 3px ; border-color: rgba(221, 9, 34,  1); #EFEFEF\">characters</span> <span style=\"background-color: rgba(221, 9, 34,  0.2572422921657562); padding: 1px 5px; border: solid 3px ; border-color: rgba(221, 9, 34,  1); #EFEFEF\">relationship behavior</span> <span style=\"background-color: rgba(221, 9, 34,  0.22587157785892487); padding: 1px 5px; border: solid 3px ; border-color: rgba(221, 9, 34,  1); #EFEFEF\">were</span> <span style=\"background-color: rgba(221, 9, 34,  0.23957358300685883); padding: 1px 5px; border: solid 3px ; border-color: rgba(221, 9, 34,  1); #EFEFEF\">so far fetched</span> <span style=\"background-color: rgba(221, 9, 34,  0.24713082611560822); padding: 1px 5px; border: solid 3px ; border-color: rgba(221, 9, 34,  1); #EFEFEF\">added</span> <span style=\"background-color: rgba(221, 9, 34,  0.31087201833724976); padding: 1px 5px; border: solid 3px ; border-color: rgba(221, 9, 34,  1); #EFEFEF\">by</span> <span style=\"background-color: rgba(221, 9, 34,  0.2407269924879074); padding: 1px 5px; border: solid 3px ; border-color: rgba(221, 9, 34,  1); #EFEFEF\">poor direction</span> <span style=\"background-color: rgba(221, 9, 34,  0.2909008264541626); padding: 1px 5px; border: solid 3px ; border-color: rgba(221, 9, 34,  1); #EFEFEF\">horrible story</span> <span style=\"background-color: rgba(221, 9, 34,  0.3116067945957184); padding: 1px 5px; border: solid 3px ; border-color: rgba(221, 9, 34,  1); #EFEFEF\">make</span> <span style=\"background-color: rgba(221, 9, 34,  0.2958453297615051); padding: 1px 5px; border: solid 3px ; border-color: rgba(221, 9, 34,  1); #EFEFEF\">this movie</span> <span style=\"background-color: rgba(221, 9, 34,  0.9921416640281677); padding: 1px 5px; border: solid 3px ; border-color: rgba(221, 9, 34,  1); #EFEFEF\">nothing more</span> <span style=\"background-color: rgba(221, 9, 34,  0.26141980290412903); padding: 1px 5px; border: solid 3px ; border-color: rgba(221, 9, 34,  1); #EFEFEF\">than</span> <span style=\"background-color: rgba(221, 9, 34,  0.6890084147453308); padding: 1px 5px; border: solid 3px ; border-color: rgba(221, 9, 34,  1); #EFEFEF\">a low-budget disaster</span> </div>"
      ],
      "text/plain": [
       "<IPython.core.display.HTML object>"
      ]
     },
     "metadata": {},
     "output_type": "display_data"
    },
    {
     "data": {
      "text/html": [
       "<br><br>"
      ],
      "text/plain": [
       "<IPython.core.display.HTML object>"
      ]
     },
     "metadata": {},
     "output_type": "display_data"
    },
    {
     "data": {
      "text/html": [
       "<div style='display: flex; width: 400px; flex-wrap: wrap'><span style=\"background-color: rgba(221, 9, 34,  0.49076011776924133); padding: 1px 5px; border: solid 3px ; border-color: rgba(221, 9, 34,  1); #EFEFEF\">The aliens</span> <span style=\"background-color: rgba(221, 9, 34,  0.30541226267814636); padding: 1px 5px; border: solid 3px ; border-color: rgba(221, 9, 34,  1); #EFEFEF\">are</span> <span style=\"background-color: rgba(221, 9, 34,  0.4822074770927429); padding: 1px 5px; border: solid 3px ; border-color: rgba(221, 9, 34,  1); #EFEFEF\">boring</span> <span style=\"background-color: rgba(221, 9, 34,  0.36098554730415344); padding: 1px 5px; border: solid 3px ; border-color: rgba(221, 9, 34,  1); #EFEFEF\">the uniformly dull lighting</span> <span style=\"background-color: rgba(221, 9, 34,  0.6616566181182861); padding: 1px 5px; border: solid 3px ; border-color: rgba(221, 9, 34,  1); #EFEFEF\">saps</span> <span style=\"background-color: rgba(221, 9, 34,  0.5697094798088074); padding: 1px 5px; border: solid 3px ; border-color: rgba(221, 9, 34,  1); #EFEFEF\">your interest</span> <span style=\"background-color: rgba(221, 9, 34,  0.7382909655570984); padding: 1px 5px; border: solid 3px ; border-color: rgba(221, 9, 34,  1); #EFEFEF\">the plot</span> <span style=\"background-color: rgba(221, 9, 34,  0.22291302680969238); padding: 1px 5px; border: solid 3px ; border-color: rgba(221, 9, 34,  1); #EFEFEF\">is</span> <span style=\"background-color: rgba(221, 9, 34,  0.7416571974754333); padding: 1px 5px; border: solid 3px ; border-color: rgba(221, 9, 34,  1); #EFEFEF\">absolutely predictable</span> </div>"
      ],
      "text/plain": [
       "<IPython.core.display.HTML object>"
      ]
     },
     "metadata": {},
     "output_type": "display_data"
    },
    {
     "data": {
      "text/html": [
       "<br><br>"
      ],
      "text/plain": [
       "<IPython.core.display.HTML object>"
      ]
     },
     "metadata": {},
     "output_type": "display_data"
    },
    {
     "data": {
      "text/html": [
       "<div style='display: flex; width: 400px; flex-wrap: wrap'><span style=\"background-color: rgba(233,30,99,0);  padding: 1px 5px; border: solid 3px ; border-color:  rgba(233,30,99,0); #EFEFEF\">The characters</span> <span style=\"background-color: rgba(233,30,99,0);  padding: 1px 5px; border: solid 3px ; border-color:  rgba(233,30,99,0); #EFEFEF\">in</span> <span style=\"background-color: rgba(233,30,99,0);  padding: 1px 5px; border: solid 3px ; border-color:  rgba(233,30,99,0); #EFEFEF\">this</span> <span style=\"background-color: rgba(233,30,99,0);  padding: 1px 5px; border: solid 3px ; border-color:  rgba(233,30,99,0); #EFEFEF\">are</span> <span style=\"background-color: rgba(233,30,99,0);  padding: 1px 5px; border: solid 3px ; border-color:  rgba(233,30,99,0); #EFEFEF\">very hard</span> <span style=\"background-color: rgba(233,30,99,0);  padding: 1px 5px; border: solid 3px ; border-color:  rgba(233,30,99,0); #EFEFEF\">to understand</span> <span style=\"background-color: rgba(233,30,99,0);  padding: 1px 5px; border: solid 3px ; border-color:  rgba(233,30,99,0); #EFEFEF\">good</span> <span style=\"background-color: rgba(233,30,99,0);  padding: 1px 5px; border: solid 3px ; border-color:  rgba(233,30,99,0); #EFEFEF\">very very</span> <span style=\"background-color: rgba(221, 9, 34,  0.9992738366127014); padding: 1px 5px; border: solid 3px ; border-color: rgba(221, 9, 34,  1); #EFEFEF\">very bored</span> </div>"
      ],
      "text/plain": [
       "<IPython.core.display.HTML object>"
      ]
     },
     "metadata": {},
     "output_type": "display_data"
    },
    {
     "data": {
      "text/html": [
       "<br><br>"
      ],
      "text/plain": [
       "<IPython.core.display.HTML object>"
      ]
     },
     "metadata": {},
     "output_type": "display_data"
    },
    {
     "data": {
      "text/html": [
       "<div style='display: flex; width: 400px; flex-wrap: wrap'><span style=\"background-color: rgba(221, 9, 34,  0.47817152738571167); padding: 1px 5px; border: solid 3px ; border-color: rgba(221, 9, 34,  1); #EFEFEF\">Overall</span> <span style=\"background-color: rgba(233,30,99,0);  padding: 1px 5px; border: solid 3px ; border-color:  rgba(233,30,99,0); #EFEFEF\">this movie</span> <span style=\"background-color: rgba(221, 9, 34,  0.3394944369792938); padding: 1px 5px; border: solid 3px ; border-color: rgba(221, 9, 34,  1); #EFEFEF\">was</span> <span style=\"background-color: rgba(221, 9, 34,  0.49913597106933594); padding: 1px 5px; border: solid 3px ; border-color: rgba(221, 9, 34,  1); #EFEFEF\">so bad</span> <span style=\"background-color: rgba(221, 9, 34,  0.37911200523376465); padding: 1px 5px; border: solid 3px ; border-color: rgba(221, 9, 34,  1); #EFEFEF\">predictable, and unoriginal</span> <span style=\"background-color: rgba(221, 9, 34,  0.22531956434249878); padding: 1px 5px; border: solid 3px ; border-color: rgba(221, 9, 34,  1); #EFEFEF\">I</span> <span style=\"background-color: rgba(221, 9, 34,  0.28986793756484985); padding: 1px 5px; border: solid 3px ; border-color: rgba(221, 9, 34,  1); #EFEFEF\">couldn't get</span> <span style=\"background-color: rgba(221, 9, 34,  0.2355457991361618); padding: 1px 5px; border: solid 3px ; border-color: rgba(221, 9, 34,  1); #EFEFEF\">through</span> <span style=\"background-color: rgba(221, 9, 34,  0.26394739747047424); padding: 1px 5px; border: solid 3px ; border-color: rgba(221, 9, 34,  1); #EFEFEF\">20 minutes</span> <span style=\"background-color: rgba(221, 9, 34,  0.2097993642091751); padding: 1px 5px; border: solid 3px ; border-color: rgba(221, 9, 34,  1); #EFEFEF\">of</span> <span style=\"background-color: rgba(221, 9, 34,  0.22581219673156738); padding: 1px 5px; border: solid 3px ; border-color: rgba(221, 9, 34,  1); #EFEFEF\">it</span> <span style=\"background-color: rgba(233,30,99,0);  padding: 1px 5px; border: solid 3px ; border-color:  rgba(233,30,99,0); #EFEFEF\">before</span> <span style=\"background-color: rgba(221, 9, 34,  0.2647227942943573); padding: 1px 5px; border: solid 3px ; border-color: rgba(221, 9, 34,  1); #EFEFEF\">I</span> <span style=\"background-color: rgba(221, 9, 34,  0.2956262528896332); padding: 1px 5px; border: solid 3px ; border-color: rgba(221, 9, 34,  1); #EFEFEF\">turned</span> <span style=\"background-color: rgba(221, 9, 34,  0.20067448914051056); padding: 1px 5px; border: solid 3px ; border-color: rgba(221, 9, 34,  1); #EFEFEF\">it</span> <span style=\"background-color: rgba(221, 9, 34,  0.2851797342300415); padding: 1px 5px; border: solid 3px ; border-color: rgba(221, 9, 34,  1); #EFEFEF\">off</span> </div>"
      ],
      "text/plain": [
       "<IPython.core.display.HTML object>"
      ]
     },
     "metadata": {},
     "output_type": "display_data"
    },
    {
     "data": {
      "text/html": [
       "<br><br>"
      ],
      "text/plain": [
       "<IPython.core.display.HTML object>"
      ]
     },
     "metadata": {},
     "output_type": "display_data"
    },
    {
     "data": {
      "text/html": [
       "<div style='display: flex; width: 400px; flex-wrap: wrap'><span style=\"background-color: rgba(221, 9, 34,  0.3050083816051483); padding: 1px 5px; border: solid 3px ; border-color: rgba(221, 9, 34,  1); #EFEFEF\">This</span> <span style=\"background-color: rgba(221, 9, 34,  0.37522339820861816); padding: 1px 5px; border: solid 3px ; border-color: rgba(221, 9, 34,  1); #EFEFEF\">is</span> <span style=\"background-color: rgba(221, 9, 34,  0.37530240416526794); padding: 1px 5px; border: solid 3px ; border-color: rgba(221, 9, 34,  1); #EFEFEF\">one</span> <span style=\"background-color: rgba(221, 9, 34,  0.31413760781288147); padding: 1px 5px; border: solid 3px ; border-color: rgba(221, 9, 34,  1); #EFEFEF\">of</span> <span style=\"background-color: rgba(221, 9, 34,  0.24250811338424683); padding: 1px 5px; border: solid 3px ; border-color: rgba(221, 9, 34,  1); #EFEFEF\">the worst movies</span> <span style=\"background-color: rgba(221, 9, 34,  0.29935041069984436); padding: 1px 5px; border: solid 3px ; border-color: rgba(221, 9, 34,  1); #EFEFEF\">i</span> <span style=\"background-color: rgba(221, 9, 34,  0.21565820276737213); padding: 1px 5px; border: solid 3px ; border-color: rgba(221, 9, 34,  1); #EFEFEF\">have ever seen</span> <span style=\"background-color: rgba(221, 9, 34,  0.30300262570381165); padding: 1px 5px; border: solid 3px ; border-color: rgba(221, 9, 34,  1); #EFEFEF\">it</span> <span style=\"background-color: rgba(221, 9, 34,  0.4185553789138794); padding: 1px 5px; border: solid 3px ; border-color: rgba(221, 9, 34,  1); #EFEFEF\">'s</span> <span style=\"background-color: rgba(221, 9, 34,  0.557838499546051); padding: 1px 5px; border: solid 3px ; border-color: rgba(221, 9, 34,  1); #EFEFEF\">EXTREMELY boring</span> <span style=\"background-color: rgba(221, 9, 34,  0.3955666422843933); padding: 1px 5px; border: solid 3px ; border-color: rgba(221, 9, 34,  1); #EFEFEF\">with</span> <span style=\"background-color: rgba(221, 9, 34,  0.3269139528274536); padding: 1px 5px; border: solid 3px ; border-color: rgba(221, 9, 34,  1); #EFEFEF\">lots</span> <span style=\"background-color: rgba(221, 9, 34,  0.3100597858428955); padding: 1px 5px; border: solid 3px ; border-color: rgba(221, 9, 34,  1); #EFEFEF\">of</span> <span style=\"background-color: rgba(221, 9, 34,  0.22772091627120972); padding: 1px 5px; border: solid 3px ; border-color: rgba(221, 9, 34,  1); #EFEFEF\">boring dialog</span> <span style=\"background-color: rgba(221, 9, 34,  0.32810670137405396); padding: 1px 5px; border: solid 3px ; border-color: rgba(221, 9, 34,  1); #EFEFEF\">has</span> <span style=\"background-color: rgba(221, 9, 34,  0.502933144569397); padding: 1px 5px; border: solid 3px ; border-color: rgba(221, 9, 34,  1); #EFEFEF\">some VERY annoying characters</span> <span style=\"background-color: rgba(221, 9, 34,  0.41601184010505676); padding: 1px 5px; border: solid 3px ; border-color: rgba(221, 9, 34,  1); #EFEFEF\">a laughable looking creature</span> </div>"
      ],
      "text/plain": [
       "<IPython.core.display.HTML object>"
      ]
     },
     "metadata": {},
     "output_type": "display_data"
    },
    {
     "data": {
      "text/html": [
       "<br><br>"
      ],
      "text/plain": [
       "<IPython.core.display.HTML object>"
      ]
     },
     "metadata": {},
     "output_type": "display_data"
    },
    {
     "data": {
      "text/html": [
       "<div style='display: flex; width: 400px; flex-wrap: wrap'><span style=\"background-color: rgba(233,30,99,0);  padding: 1px 5px; border: solid 3px ; border-color:  rgba(233,30,99,0); #EFEFEF\">This film</span> <span style=\"background-color: rgba(233,30,99,0);  padding: 1px 5px; border: solid 3px ; border-color:  rgba(233,30,99,0); #EFEFEF\">had</span> <span style=\"background-color: rgba(233,30,99,0);  padding: 1px 5px; border: solid 3px ; border-color:  rgba(233,30,99,0); #EFEFEF\">no suspense</span> <span style=\"background-color: rgba(221, 9, 34,  0.9990760087966919); padding: 1px 5px; border: solid 3px ; border-color: rgba(221, 9, 34,  1); #EFEFEF\">I</span> <span style=\"background-color: rgba(221, 9, 34,  0.9192563891410828); padding: 1px 5px; border: solid 3px ; border-color: rgba(221, 9, 34,  1); #EFEFEF\">was bored</span> <span style=\"background-color: rgba(233,30,99,0);  padding: 1px 5px; border: solid 3px ; border-color:  rgba(233,30,99,0); #EFEFEF\">from</span> <span style=\"background-color: rgba(233,30,99,0);  padding: 1px 5px; border: solid 3px ; border-color:  rgba(233,30,99,0); #EFEFEF\">start</span> <span style=\"background-color: rgba(233,30,99,0);  padding: 1px 5px; border: solid 3px ; border-color:  rgba(233,30,99,0); #EFEFEF\">to end</span> </div>"
      ],
      "text/plain": [
       "<IPython.core.display.HTML object>"
      ]
     },
     "metadata": {},
     "output_type": "display_data"
    },
    {
     "data": {
      "text/html": [
       "<br><br>"
      ],
      "text/plain": [
       "<IPython.core.display.HTML object>"
      ]
     },
     "metadata": {},
     "output_type": "display_data"
    },
    {
     "name": "stdout",
     "output_type": "stream",
     "text": [
      "\n",
      "\n",
      "10 most important reviews for negative predicted label - concept2:\n",
      "\n",
      "\n"
     ]
    },
    {
     "data": {
      "text/html": [
       "<div style='display: flex; width: 400px; flex-wrap: wrap'><span style=\"background-color: rgba(221, 9, 140, 0.9996024370193481); padding: 1px 5px; border: solid 3px ; border-color: rgba(221, 9, 140, 1); #EFEFEF\">It</span> <span style=\"background-color: rgba(221, 9, 140, 0.9996024370193481); padding: 1px 5px; border: solid 3px ; border-color: rgba(221, 9, 140, 1); #EFEFEF\">had</span> <span style=\"background-color: rgba(221, 9, 140, 0.9720470905303955); padding: 1px 5px; border: solid 3px ; border-color: rgba(221, 9, 140, 1); #EFEFEF\">some interesting twists and turns</span> <span style=\"background-color: rgba(221, 9, 140, 0.912582516670227); padding: 1px 5px; border: solid 3px ; border-color: rgba(221, 9, 140, 1); #EFEFEF\">some</span> <span style=\"background-color: rgba(221, 9, 140, 0.9996024370193481); padding: 1px 5px; border: solid 3px ; border-color: rgba(221, 9, 140, 1); #EFEFEF\">of</span> <span style=\"background-color: rgba(221, 9, 140, 0.9996024370193481); padding: 1px 5px; border: solid 3px ; border-color: rgba(221, 9, 140, 1); #EFEFEF\">them</span> <span style=\"background-color: rgba(221, 9, 140, 0.9838781356811523); padding: 1px 5px; border: solid 3px ; border-color: rgba(221, 9, 140, 1); #EFEFEF\">seemed</span> <span style=\"background-color: rgba(221, 9, 140, 0.9996024370193481); padding: 1px 5px; border: solid 3px ; border-color: rgba(221, 9, 140, 1); #EFEFEF\">kind of pointless</span> </div>"
      ],
      "text/plain": [
       "<IPython.core.display.HTML object>"
      ]
     },
     "metadata": {},
     "output_type": "display_data"
    },
    {
     "data": {
      "text/html": [
       "<br><br>"
      ],
      "text/plain": [
       "<IPython.core.display.HTML object>"
      ]
     },
     "metadata": {},
     "output_type": "display_data"
    },
    {
     "data": {
      "text/html": [
       "<div style='display: flex; width: 400px; flex-wrap: wrap'><span style=\"background-color: rgba(221, 9, 140, 0.9283527135848999); padding: 1px 5px; border: solid 3px ; border-color: rgba(221, 9, 140, 1); #EFEFEF\">Although</span> <span style=\"background-color: rgba(221, 9, 140, 0.6432331800460815); padding: 1px 5px; border: solid 3px ; border-color: rgba(221, 9, 140, 1); #EFEFEF\">it</span> <span style=\"background-color: rgba(221, 9, 140, 0.4763512909412384); padding: 1px 5px; border: solid 3px ; border-color: rgba(221, 9, 140, 1); #EFEFEF\">had</span> <span style=\"background-color: rgba(221, 9, 140, 0.9988263249397278); padding: 1px 5px; border: solid 3px ; border-color: rgba(221, 9, 140, 1); #EFEFEF\">great actors/actresses</span> <span style=\"background-color: rgba(221, 9, 140, 0.40835410356521606); padding: 1px 5px; border: solid 3px ; border-color: rgba(221, 9, 140, 1); #EFEFEF\">there</span> <span style=\"background-color: rgba(221, 9, 140, 0.43647828698158264); padding: 1px 5px; border: solid 3px ; border-color: rgba(221, 9, 140, 1); #EFEFEF\">were</span> <span style=\"background-color: rgba(221, 9, 140, 0.9455965757369995); padding: 1px 5px; border: solid 3px ; border-color: rgba(221, 9, 140, 1); #EFEFEF\">just</span> <span style=\"background-color: rgba(221, 9, 140, 0.9994189143180847); padding: 1px 5px; border: solid 3px ; border-color: rgba(221, 9, 140, 1); #EFEFEF\">too many subplots</span> <span style=\"background-color: rgba(233,30,99,0);  padding: 1px 5px; border: solid 3px ; border-color:  rgba(233,30,99,0); #EFEFEF\">going</span> <span style=\"background-color: rgba(221, 9, 140, 0.41980791091918945); padding: 1px 5px; border: solid 3px ; border-color: rgba(221, 9, 140, 1); #EFEFEF\">on</span> <span style=\"background-color: rgba(233,30,99,0);  padding: 1px 5px; border: solid 3px ; border-color:  rgba(233,30,99,0); #EFEFEF\">to retain</span> <span style=\"background-color: rgba(221, 9, 140, 0.5091716647148132); padding: 1px 5px; border: solid 3px ; border-color: rgba(221, 9, 140, 1); #EFEFEF\">interest</span> </div>"
      ],
      "text/plain": [
       "<IPython.core.display.HTML object>"
      ]
     },
     "metadata": {},
     "output_type": "display_data"
    },
    {
     "data": {
      "text/html": [
       "<br><br>"
      ],
      "text/plain": [
       "<IPython.core.display.HTML object>"
      ]
     },
     "metadata": {},
     "output_type": "display_data"
    },
    {
     "data": {
      "text/html": [
       "<div style='display: flex; width: 400px; flex-wrap: wrap'><span style=\"background-color: rgba(221, 9, 140, 0.45314037799835205); padding: 1px 5px; border: solid 3px ; border-color: rgba(221, 9, 140, 1); #EFEFEF\">Jones & I</span> <span style=\"background-color: rgba(233,30,99,0);  padding: 1px 5px; border: solid 3px ; border-color:  rgba(233,30,99,0); #EFEFEF\">sort of liked</span> <span style=\"background-color: rgba(233,30,99,0);  padding: 1px 5px; border: solid 3px ; border-color:  rgba(233,30,99,0); #EFEFEF\">it</span> <span style=\"background-color: rgba(221, 9, 140, 0.3878098726272583); padding: 1px 5px; border: solid 3px ; border-color: rgba(221, 9, 140, 1); #EFEFEF\">in</span> <span style=\"background-color: rgba(221, 9, 140, 0.47617435455322266); padding: 1px 5px; border: solid 3px ; border-color: rgba(221, 9, 140, 1); #EFEFEF\">the end</span> <span style=\"background-color: rgba(221, 9, 140, 0.25821247696876526); padding: 1px 5px; border: solid 3px ; border-color: rgba(221, 9, 140, 1); #EFEFEF\">there</span> <span style=\"background-color: rgba(221, 9, 140, 0.4397808313369751); padding: 1px 5px; border: solid 3px ; border-color: rgba(221, 9, 140, 1); #EFEFEF\">were</span> <span style=\"background-color: rgba(221, 9, 140, 0.9995807409286499); padding: 1px 5px; border: solid 3px ; border-color: rgba(221, 9, 140, 1); #EFEFEF\">too many unsatisfying elements</span> <span style=\"background-color: rgba(221, 9, 140, 0.8327867984771729); padding: 1px 5px; border: solid 3px ; border-color: rgba(221, 9, 140, 1); #EFEFEF\">for</span> <span style=\"background-color: rgba(221, 9, 140, 0.7121967077255249); padding: 1px 5px; border: solid 3px ; border-color: rgba(221, 9, 140, 1); #EFEFEF\">me</span> <span style=\"background-color: rgba(221, 9, 140, 0.8491193652153015); padding: 1px 5px; border: solid 3px ; border-color: rgba(221, 9, 140, 1); #EFEFEF\">to totally enjoy</span> <span style=\"background-color: rgba(221, 9, 140, 0.3569791316986084); padding: 1px 5px; border: solid 3px ; border-color: rgba(221, 9, 140, 1); #EFEFEF\">it</span> </div>"
      ],
      "text/plain": [
       "<IPython.core.display.HTML object>"
      ]
     },
     "metadata": {},
     "output_type": "display_data"
    },
    {
     "data": {
      "text/html": [
       "<br><br>"
      ],
      "text/plain": [
       "<IPython.core.display.HTML object>"
      ]
     },
     "metadata": {},
     "output_type": "display_data"
    },
    {
     "data": {
      "text/html": [
       "<div style='display: flex; width: 400px; flex-wrap: wrap'><span style=\"background-color: rgba(233,30,99,0);  padding: 1px 5px; border: solid 3px ; border-color:  rgba(233,30,99,0); #EFEFEF\">If</span> <span style=\"background-color: rgba(233,30,99,0);  padding: 1px 5px; border: solid 3px ; border-color:  rgba(233,30,99,0); #EFEFEF\">he</span> <span style=\"background-color: rgba(233,30,99,0);  padding: 1px 5px; border: solid 3px ; border-color:  rgba(233,30,99,0); #EFEFEF\">gave</span> <span style=\"background-color: rgba(233,30,99,0);  padding: 1px 5px; border: solid 3px ; border-color:  rgba(233,30,99,0); #EFEFEF\">us</span> <span style=\"background-color: rgba(233,30,99,0);  padding: 1px 5px; border: solid 3px ; border-color:  rgba(233,30,99,0); #EFEFEF\">something</span> <span style=\"background-color: rgba(233,30,99,0);  padding: 1px 5px; border: solid 3px ; border-color:  rgba(233,30,99,0); #EFEFEF\">more accessible</span> <span style=\"background-color: rgba(233,30,99,0);  padding: 1px 5px; border: solid 3px ; border-color:  rgba(233,30,99,0); #EFEFEF\">at least had</span> <span style=\"background-color: rgba(233,30,99,0);  padding: 1px 5px; border: solid 3px ; border-color:  rgba(233,30,99,0); #EFEFEF\">better explanations</span> <span style=\"background-color: rgba(233,30,99,0);  padding: 1px 5px; border: solid 3px ; border-color:  rgba(233,30,99,0); #EFEFEF\">for</span> <span style=\"background-color: rgba(233,30,99,0);  padding: 1px 5px; border: solid 3px ; border-color:  rgba(233,30,99,0); #EFEFEF\">the characters</span> <span style=\"background-color: rgba(221, 9, 140, 0.40641412138938904); padding: 1px 5px; border: solid 3px ; border-color: rgba(221, 9, 140, 1); #EFEFEF\">suddenly acting</span> <span style=\"background-color: rgba(221, 9, 140, 0.26317328214645386); padding: 1px 5px; border: solid 3px ; border-color: rgba(221, 9, 140, 1); #EFEFEF\">all weird</span> <span style=\"background-color: rgba(233,30,99,0);  padding: 1px 5px; border: solid 3px ; border-color:  rgba(233,30,99,0); #EFEFEF\">then</span> <span style=\"background-color: rgba(233,30,99,0);  padding: 1px 5px; border: solid 3px ; border-color:  rgba(233,30,99,0); #EFEFEF\">it</span> <span style=\"background-color: rgba(221, 9, 140, 0.9995773434638977); padding: 1px 5px; border: solid 3px ; border-color: rgba(221, 9, 140, 1); #EFEFEF\">would have been</span> <span style=\"background-color: rgba(233,30,99,0);  padding: 1px 5px; border: solid 3px ; border-color:  rgba(233,30,99,0); #EFEFEF\">a more enjoyable film</span> </div>"
      ],
      "text/plain": [
       "<IPython.core.display.HTML object>"
      ]
     },
     "metadata": {},
     "output_type": "display_data"
    },
    {
     "data": {
      "text/html": [
       "<br><br>"
      ],
      "text/plain": [
       "<IPython.core.display.HTML object>"
      ]
     },
     "metadata": {},
     "output_type": "display_data"
    },
    {
     "data": {
      "text/html": [
       "<div style='display: flex; width: 400px; flex-wrap: wrap'><span style=\"background-color: rgba(233,30,99,0);  padding: 1px 5px; border: solid 3px ; border-color:  rgba(233,30,99,0); #EFEFEF\">It</span> <span style=\"background-color: rgba(233,30,99,0);  padding: 1px 5px; border: solid 3px ; border-color:  rgba(233,30,99,0); #EFEFEF\">'s</span> <span style=\"background-color: rgba(221, 9, 140, 0.99917072057724); padding: 1px 5px; border: solid 3px ; border-color: rgba(221, 9, 140, 1); #EFEFEF\">watchable</span> <span style=\"background-color: rgba(233,30,99,0);  padding: 1px 5px; border: solid 3px ; border-color:  rgba(233,30,99,0); #EFEFEF\">even though</span> <span style=\"background-color: rgba(233,30,99,0);  padding: 1px 5px; border: solid 3px ; border-color:  rgba(233,30,99,0); #EFEFEF\">it</span> <span style=\"background-color: rgba(221, 9, 140, 0.9995748400688171); padding: 1px 5px; border: solid 3px ; border-color: rgba(221, 9, 140, 1); #EFEFEF\">doesn't leave</span> <span style=\"background-color: rgba(221, 9, 140, 0.9773964285850525); padding: 1px 5px; border: solid 3px ; border-color: rgba(221, 9, 140, 1); #EFEFEF\">a lasting impression</span> </div>"
      ],
      "text/plain": [
       "<IPython.core.display.HTML object>"
      ]
     },
     "metadata": {},
     "output_type": "display_data"
    },
    {
     "data": {
      "text/html": [
       "<br><br>"
      ],
      "text/plain": [
       "<IPython.core.display.HTML object>"
      ]
     },
     "metadata": {},
     "output_type": "display_data"
    },
    {
     "data": {
      "text/html": [
       "<div style='display: flex; width: 400px; flex-wrap: wrap'><span style=\"background-color: rgba(221, 9, 140, 0.9989641308784485); padding: 1px 5px; border: solid 3px ; border-color: rgba(221, 9, 140, 1); #EFEFEF\">See</span> <span style=\"background-color: rgba(221, 9, 140, 0.9995756149291992); padding: 1px 5px; border: solid 3px ; border-color: rgba(221, 9, 140, 1); #EFEFEF\">this movie</span> <span style=\"background-color: rgba(221, 9, 140, 0.9821974635124207); padding: 1px 5px; border: solid 3px ; border-color: rgba(221, 9, 140, 1); #EFEFEF\">if</span> <span style=\"background-color: rgba(221, 9, 140, 0.9995756149291992); padding: 1px 5px; border: solid 3px ; border-color: rgba(221, 9, 140, 1); #EFEFEF\">you</span> <span style=\"background-color: rgba(221, 9, 140, 0.9995756149291992); padding: 1px 5px; border: solid 3px ; border-color: rgba(221, 9, 140, 1); #EFEFEF\">want to see</span> <span style=\"background-color: rgba(221, 9, 140, 0.9995756149291992); padding: 1px 5px; border: solid 3px ; border-color: rgba(221, 9, 140, 1); #EFEFEF\">some impressive set designs</span> <span style=\"background-color: rgba(221, 9, 140, 0.9995756149291992); padding: 1px 5px; border: solid 3px ; border-color: rgba(221, 9, 140, 1); #EFEFEF\">if</span> <span style=\"background-color: rgba(221, 9, 140, 0.9995756149291992); padding: 1px 5px; border: solid 3px ; border-color: rgba(221, 9, 140, 1); #EFEFEF\">you</span> <span style=\"background-color: rgba(221, 9, 140, 0.9878960251808167); padding: 1px 5px; border: solid 3px ; border-color: rgba(221, 9, 140, 1); #EFEFEF\">want to see</span> <span style=\"background-color: rgba(221, 9, 140, 0.9995756149291992); padding: 1px 5px; border: solid 3px ; border-color: rgba(221, 9, 140, 1); #EFEFEF\">good acting</span> <span style=\"background-color: rgba(221, 9, 140, 0.9716828465461731); padding: 1px 5px; border: solid 3px ; border-color: rgba(221, 9, 140, 1); #EFEFEF\">a good film</span> </div>"
      ],
      "text/plain": [
       "<IPython.core.display.HTML object>"
      ]
     },
     "metadata": {},
     "output_type": "display_data"
    },
    {
     "data": {
      "text/html": [
       "<br><br>"
      ],
      "text/plain": [
       "<IPython.core.display.HTML object>"
      ]
     },
     "metadata": {},
     "output_type": "display_data"
    },
    {
     "data": {
      "text/html": [
       "<div style='display: flex; width: 400px; flex-wrap: wrap'><span style=\"background-color: rgba(221, 9, 140, 0.42769885063171387); padding: 1px 5px; border: solid 3px ; border-color: rgba(221, 9, 140, 1); #EFEFEF\">If</span> <span style=\"background-color: rgba(221, 9, 140, 0.741679847240448); padding: 1px 5px; border: solid 3px ; border-color: rgba(221, 9, 140, 1); #EFEFEF\">you</span> <span style=\"background-color: rgba(221, 9, 140, 0.6303555369377136); padding: 1px 5px; border: solid 3px ; border-color: rgba(221, 9, 140, 1); #EFEFEF\">can get</span> <span style=\"background-color: rgba(221, 9, 140, 0.890625); padding: 1px 5px; border: solid 3px ; border-color: rgba(221, 9, 140, 1); #EFEFEF\">past</span> <span style=\"background-color: rgba(221, 9, 140, 0.8858625292778015); padding: 1px 5px; border: solid 3px ; border-color: rgba(221, 9, 140, 1); #EFEFEF\">the first 2 minutes</span> <span style=\"background-color: rgba(221, 9, 140, 0.8017349243164062); padding: 1px 5px; border: solid 3px ; border-color: rgba(221, 9, 140, 1); #EFEFEF\">where</span> <span style=\"background-color: rgba(221, 9, 140, 0.7938007116317749); padding: 1px 5px; border: solid 3px ; border-color: rgba(221, 9, 140, 1); #EFEFEF\">Adam</span> <span style=\"background-color: rgba(221, 9, 140, 0.571111798286438); padding: 1px 5px; border: solid 3px ; border-color: rgba(221, 9, 140, 1); #EFEFEF\">'s friend Harley</span> <span style=\"background-color: rgba(221, 9, 140, 0.6086368560791016); padding: 1px 5px; border: solid 3px ; border-color: rgba(221, 9, 140, 1); #EFEFEF\">pops</span> <span style=\"background-color: rgba(221, 9, 140, 0.7357548475265503); padding: 1px 5px; border: solid 3px ; border-color: rgba(221, 9, 140, 1); #EFEFEF\">up</span> <span style=\"background-color: rgba(221, 9, 140, 0.8109269738197327); padding: 1px 5px; border: solid 3px ; border-color: rgba(221, 9, 140, 1); #EFEFEF\">from</span> <span style=\"background-color: rgba(221, 9, 140, 0.8080040216445923); padding: 1px 5px; border: solid 3px ; border-color: rgba(221, 9, 140, 1); #EFEFEF\">hiding</span> <span style=\"background-color: rgba(221, 9, 140, 0.7920296788215637); padding: 1px 5px; border: solid 3px ; border-color: rgba(221, 9, 140, 1); #EFEFEF\">in</span> <span style=\"background-color: rgba(221, 9, 140, 0.7005877494812012); padding: 1px 5px; border: solid 3px ; border-color: rgba(221, 9, 140, 1); #EFEFEF\">the back</span> <span style=\"background-color: rgba(221, 9, 140, 0.7562172412872314); padding: 1px 5px; border: solid 3px ; border-color: rgba(221, 9, 140, 1); #EFEFEF\">of</span> <span style=\"background-color: rgba(221, 9, 140, 0.802629292011261); padding: 1px 5px; border: solid 3px ; border-color: rgba(221, 9, 140, 1); #EFEFEF\">Adam</span> <span style=\"background-color: rgba(221, 9, 140, 0.5950039625167847); padding: 1px 5px; border: solid 3px ; border-color: rgba(221, 9, 140, 1); #EFEFEF\">'s car</span> <span style=\"background-color: rgba(221, 9, 140, 0.5097508430480957); padding: 1px 5px; border: solid 3px ; border-color: rgba(221, 9, 140, 1); #EFEFEF\">to try to scare</span> <span style=\"background-color: rgba(221, 9, 140, 0.7292068004608154); padding: 1px 5px; border: solid 3px ; border-color: rgba(221, 9, 140, 1); #EFEFEF\">him</span> <span style=\"background-color: rgba(221, 9, 140, 0.9607877731323242); padding: 1px 5px; border: solid 3px ; border-color: rgba(221, 9, 140, 1); #EFEFEF\">with</span> <span style=\"background-color: rgba(221, 9, 140, 0.9995548725128174); padding: 1px 5px; border: solid 3px ; border-color: rgba(221, 9, 140, 1); #EFEFEF\">no explanation</span> <span style=\"background-color: rgba(221, 9, 140, 0.734736979007721); padding: 1px 5px; border: solid 3px ; border-color: rgba(221, 9, 140, 1); #EFEFEF\">as</span> <span style=\"background-color: rgba(221, 9, 140, 0.8806615471839905); padding: 1px 5px; border: solid 3px ; border-color: rgba(221, 9, 140, 1); #EFEFEF\">to</span> <span style=\"background-color: rgba(221, 9, 140, 0.8015799522399902); padding: 1px 5px; border: solid 3px ; border-color: rgba(221, 9, 140, 1); #EFEFEF\">how</span> <span style=\"background-color: rgba(221, 9, 140, 0.6299151182174683); padding: 1px 5px; border: solid 3px ; border-color: rgba(221, 9, 140, 1); #EFEFEF\">Harley</span> <span style=\"background-color: rgba(221, 9, 140, 0.8050698637962341); padding: 1px 5px; border: solid 3px ; border-color: rgba(221, 9, 140, 1); #EFEFEF\">even</span> <span style=\"background-color: rgba(221, 9, 140, 0.8928818702697754); padding: 1px 5px; border: solid 3px ; border-color: rgba(221, 9, 140, 1); #EFEFEF\">got</span> <span style=\"background-color: rgba(221, 9, 140, 0.7964454293251038); padding: 1px 5px; border: solid 3px ; border-color: rgba(221, 9, 140, 1); #EFEFEF\">there</span> <span style=\"background-color: rgba(221, 9, 140, 0.6812751889228821); padding: 1px 5px; border: solid 3px ; border-color: rgba(221, 9, 140, 1); #EFEFEF\">how long</span> <span style=\"background-color: rgba(221, 9, 140, 0.44691962003707886); padding: 1px 5px; border: solid 3px ; border-color: rgba(221, 9, 140, 1); #EFEFEF\">ago</span> <span style=\"background-color: rgba(221, 9, 140, 0.5943315625190735); padding: 1px 5px; border: solid 3px ; border-color: rgba(221, 9, 140, 1); #EFEFEF\">how</span> <span style=\"background-color: rgba(221, 9, 140, 0.5508216619491577); padding: 1px 5px; border: solid 3px ; border-color: rgba(221, 9, 140, 1); #EFEFEF\">Adam</span> <span style=\"background-color: rgba(221, 9, 140, 0.9144778251647949); padding: 1px 5px; border: solid 3px ; border-color: rgba(221, 9, 140, 1); #EFEFEF\">even</span> <span style=\"background-color: rgba(221, 9, 140, 0.9437245726585388); padding: 1px 5px; border: solid 3px ; border-color: rgba(221, 9, 140, 1); #EFEFEF\">failed to realise</span> <span style=\"background-color: rgba(221, 9, 140, 0.8393123149871826); padding: 1px 5px; border: solid 3px ; border-color: rgba(221, 9, 140, 1); #EFEFEF\">without</span> <span style=\"background-color: rgba(221, 9, 140, 0.4516089856624603); padding: 1px 5px; border: solid 3px ; border-color: rgba(221, 9, 140, 1); #EFEFEF\">thinking</span> <span style=\"background-color: rgba(221, 9, 140, 0.9740962386131287); padding: 1px 5px; border: solid 3px ; border-color: rgba(221, 9, 140, 1); #EFEFEF\">you</span> <span style=\"background-color: rgba(221, 9, 140, 0.9954547882080078); padding: 1px 5px; border: solid 3px ; border-color: rgba(221, 9, 140, 1); #EFEFEF\">hate</span> <span style=\"background-color: rgba(221, 9, 140, 0.9879642724990845); padding: 1px 5px; border: solid 3px ; border-color: rgba(221, 9, 140, 1); #EFEFEF\">it</span> <span style=\"background-color: rgba(221, 9, 140, 0.9675391316413879); padding: 1px 5px; border: solid 3px ; border-color: rgba(221, 9, 140, 1); #EFEFEF\">already</span> <span style=\"background-color: rgba(221, 9, 140, 0.9525533318519592); padding: 1px 5px; border: solid 3px ; border-color: rgba(221, 9, 140, 1); #EFEFEF\">then</span> <span style=\"background-color: rgba(221, 9, 140, 0.792172372341156); padding: 1px 5px; border: solid 3px ; border-color: rgba(221, 9, 140, 1); #EFEFEF\">you</span> <span style=\"background-color: rgba(221, 9, 140, 0.23153939843177795); padding: 1px 5px; border: solid 3px ; border-color: rgba(221, 9, 140, 1); #EFEFEF\">may just enjoy</span> <span style=\"background-color: rgba(221, 9, 140, 0.43871641159057617); padding: 1px 5px; border: solid 3px ; border-color: rgba(221, 9, 140, 1); #EFEFEF\">this film</span> </div>"
      ],
      "text/plain": [
       "<IPython.core.display.HTML object>"
      ]
     },
     "metadata": {},
     "output_type": "display_data"
    },
    {
     "data": {
      "text/html": [
       "<br><br>"
      ],
      "text/plain": [
       "<IPython.core.display.HTML object>"
      ]
     },
     "metadata": {},
     "output_type": "display_data"
    },
    {
     "data": {
      "text/html": [
       "<div style='display: flex; width: 400px; flex-wrap: wrap'><span style=\"background-color: rgba(221, 9, 140, 0.2185865342617035); padding: 1px 5px; border: solid 3px ; border-color: rgba(221, 9, 140, 1); #EFEFEF\">I</span> <span style=\"background-color: rgba(221, 9, 140, 0.8887918591499329); padding: 1px 5px; border: solid 3px ; border-color: rgba(221, 9, 140, 1); #EFEFEF\">suppose</span> <span style=\"background-color: rgba(221, 9, 140, 0.9995745420455933); padding: 1px 5px; border: solid 3px ; border-color: rgba(221, 9, 140, 1); #EFEFEF\">if</span> <span style=\"background-color: rgba(233,30,99,0);  padding: 1px 5px; border: solid 3px ; border-color:  rgba(233,30,99,0); #EFEFEF\">you</span> <span style=\"background-color: rgba(233,30,99,0);  padding: 1px 5px; border: solid 3px ; border-color:  rgba(233,30,99,0); #EFEFEF\">like</span> <span style=\"background-color: rgba(221, 9, 140, 0.9995745420455933); padding: 1px 5px; border: solid 3px ; border-color: rgba(221, 9, 140, 1); #EFEFEF\">endless dialogue</span> <span style=\"background-color: rgba(221, 9, 140, 0.8268084526062012); padding: 1px 5px; border: solid 3px ; border-color: rgba(221, 9, 140, 1); #EFEFEF\">that</span> <span style=\"background-color: rgba(221, 9, 140, 0.9971292018890381); padding: 1px 5px; border: solid 3px ; border-color: rgba(221, 9, 140, 1); #EFEFEF\">doesn't forward</span> <span style=\"background-color: rgba(221, 9, 140, 0.6436118483543396); padding: 1px 5px; border: solid 3px ; border-color: rgba(221, 9, 140, 1); #EFEFEF\">the story</span> <span style=\"background-color: rgba(233,30,99,0);  padding: 1px 5px; border: solid 3px ; border-color:  rgba(233,30,99,0); #EFEFEF\">flashy camera effects</span> <span style=\"background-color: rgba(233,30,99,0);  padding: 1px 5px; border: solid 3px ; border-color:  rgba(233,30,99,0); #EFEFEF\">like</span> <span style=\"background-color: rgba(221, 9, 140, 0.3376331627368927); padding: 1px 5px; border: solid 3px ; border-color: rgba(221, 9, 140, 1); #EFEFEF\">the scene transitions</span> <span style=\"background-color: rgba(233,30,99,0);  padding: 1px 5px; border: solid 3px ; border-color:  rgba(233,30,99,0); #EFEFEF\">in</span> <span style=\"background-color: rgba(221, 9, 140, 0.3332233428955078); padding: 1px 5px; border: solid 3px ; border-color: rgba(221, 9, 140, 1); #EFEFEF\">the television show</span> <span style=\"background-color: rgba(233,30,99,0);  padding: 1px 5px; border: solid 3px ; border-color:  rgba(233,30,99,0); #EFEFEF\">Angel</span> <span style=\"background-color: rgba(233,30,99,0);  padding: 1px 5px; border: solid 3px ; border-color:  rgba(233,30,99,0); #EFEFEF\">you</span> <span style=\"background-color: rgba(233,30,99,0);  padding: 1px 5px; border: solid 3px ; border-color:  rgba(233,30,99,0); #EFEFEF\">'ll enjoy</span> <span style=\"background-color: rgba(221, 9, 140, 0.28082671761512756); padding: 1px 5px; border: solid 3px ; border-color: rgba(221, 9, 140, 1); #EFEFEF\">the film</span> </div>"
      ],
      "text/plain": [
       "<IPython.core.display.HTML object>"
      ]
     },
     "metadata": {},
     "output_type": "display_data"
    },
    {
     "data": {
      "text/html": [
       "<br><br>"
      ],
      "text/plain": [
       "<IPython.core.display.HTML object>"
      ]
     },
     "metadata": {},
     "output_type": "display_data"
    },
    {
     "data": {
      "text/html": [
       "<div style='display: flex; width: 400px; flex-wrap: wrap'><span style=\"background-color: rgba(221, 9, 140, 0.9995726943016052); padding: 1px 5px; border: solid 3px ; border-color: rgba(221, 9, 140, 1); #EFEFEF\">The flaming car scene</span> <span style=\"background-color: rgba(233,30,99,0);  padding: 1px 5px; border: solid 3px ; border-color:  rgba(233,30,99,0); #EFEFEF\">was well executed</span> <span style=\"background-color: rgba(221, 90, 9,  0.20668868720531464); padding: 1px 5px; border: solid 3px ; border-color: rgba(221, 90, 9,  1); #EFEFEF\">like</span> <span style=\"background-color: rgba(221, 9, 140, 0.6253259778022766); padding: 1px 5px; border: solid 3px ; border-color: rgba(221, 9, 140, 1); #EFEFEF\">much</span> <span style=\"background-color: rgba(233,30,99,0);  padding: 1px 5px; border: solid 3px ; border-color:  rgba(233,30,99,0); #EFEFEF\">of</span> <span style=\"background-color: rgba(221, 9, 140, 0.9924755096435547); padding: 1px 5px; border: solid 3px ; border-color: rgba(221, 9, 140, 1); #EFEFEF\">the movie</span> <span style=\"background-color: rgba(221, 9, 140, 0.9995726943016052); padding: 1px 5px; border: solid 3px ; border-color: rgba(221, 9, 140, 1); #EFEFEF\">went</span> <span style=\"background-color: rgba(221, 9, 140, 0.9995726943016052); padding: 1px 5px; border: solid 3px ; border-color: rgba(221, 9, 140, 1); #EFEFEF\">nowhere</span> <span style=\"background-color: rgba(221, 9, 140, 0.9995726943016052); padding: 1px 5px; border: solid 3px ; border-color: rgba(221, 9, 140, 1); #EFEFEF\">in</span> <span style=\"background-color: rgba(221, 9, 140, 0.9853800535202026); padding: 1px 5px; border: solid 3px ; border-color: rgba(221, 9, 140, 1); #EFEFEF\">the end</span> </div>"
      ],
      "text/plain": [
       "<IPython.core.display.HTML object>"
      ]
     },
     "metadata": {},
     "output_type": "display_data"
    },
    {
     "data": {
      "text/html": [
       "<br><br>"
      ],
      "text/plain": [
       "<IPython.core.display.HTML object>"
      ]
     },
     "metadata": {},
     "output_type": "display_data"
    },
    {
     "data": {
      "text/html": [
       "<div style='display: flex; width: 400px; flex-wrap: wrap'><span style=\"background-color: rgba(221, 9, 140, 0.24985985457897186); padding: 1px 5px; border: solid 3px ; border-color: rgba(221, 9, 140, 1); #EFEFEF\">The film</span> <span style=\"background-color: rgba(233,30,99,0);  padding: 1px 5px; border: solid 3px ; border-color:  rgba(233,30,99,0); #EFEFEF\">is</span> <span style=\"background-color: rgba(221, 9, 140, 0.8184190988540649); padding: 1px 5px; border: solid 3px ; border-color: rgba(221, 9, 140, 1); #EFEFEF\">basically</span> <span style=\"background-color: rgba(233,30,99,0);  padding: 1px 5px; border: solid 3px ; border-color:  rgba(233,30,99,0); #EFEFEF\">a series</span> <span style=\"background-color: rgba(233,30,99,0);  padding: 1px 5px; border: solid 3px ; border-color:  rgba(233,30,99,0); #EFEFEF\">of</span> <span style=\"background-color: rgba(221, 9, 140, 0.6642665863037109); padding: 1px 5px; border: solid 3px ; border-color: rgba(221, 9, 140, 1); #EFEFEF\">zany action sequences</span> <span style=\"background-color: rgba(233,30,99,0);  padding: 1px 5px; border: solid 3px ; border-color:  rgba(233,30,99,0); #EFEFEF\">that</span> <span style=\"background-color: rgba(221, 9, 140, 0.9995725750923157); padding: 1px 5px; border: solid 3px ; border-color: rgba(221, 9, 140, 1); #EFEFEF\">are kind of pasted</span> <span style=\"background-color: rgba(233,30,99,0);  padding: 1px 5px; border: solid 3px ; border-color:  rgba(233,30,99,0); #EFEFEF\">together</span> <span style=\"background-color: rgba(233,30,99,0);  padding: 1px 5px; border: solid 3px ; border-color:  rgba(233,30,99,0); #EFEFEF\">with</span> <span style=\"background-color: rgba(233,30,99,0);  padding: 1px 5px; border: solid 3px ; border-color:  rgba(233,30,99,0); #EFEFEF\">characters</span> <span style=\"background-color: rgba(221, 9, 140, 0.9995725750923157); padding: 1px 5px; border: solid 3px ; border-color: rgba(221, 9, 140, 1); #EFEFEF\">an uneven story</span> <span style=\"background-color: rgba(233,30,99,0);  padding: 1px 5px; border: solid 3px ; border-color:  rgba(233,30,99,0); #EFEFEF\">that</span> <span style=\"background-color: rgba(221, 9, 140, 0.3092569410800934); padding: 1px 5px; border: solid 3px ; border-color: rgba(221, 9, 140, 1); #EFEFEF\">only kids</span> <span style=\"background-color: rgba(233,30,99,0);  padding: 1px 5px; border: solid 3px ; border-color:  rgba(233,30,99,0); #EFEFEF\">between</span> <span style=\"background-color: rgba(233,30,99,0);  padding: 1px 5px; border: solid 3px ; border-color:  rgba(233,30,99,0); #EFEFEF\">the ages</span> <span style=\"background-color: rgba(233,30,99,0);  padding: 1px 5px; border: solid 3px ; border-color:  rgba(233,30,99,0); #EFEFEF\">of</span> <span style=\"background-color: rgba(233,30,99,0);  padding: 1px 5px; border: solid 3px ; border-color:  rgba(233,30,99,0); #EFEFEF\">6-9</span> <span style=\"background-color: rgba(233,30,99,0);  padding: 1px 5px; border: solid 3px ; border-color:  rgba(233,30,99,0); #EFEFEF\">would enjoy</span> </div>"
      ],
      "text/plain": [
       "<IPython.core.display.HTML object>"
      ]
     },
     "metadata": {},
     "output_type": "display_data"
    },
    {
     "data": {
      "text/html": [
       "<br><br>"
      ],
      "text/plain": [
       "<IPython.core.display.HTML object>"
      ]
     },
     "metadata": {},
     "output_type": "display_data"
    },
    {
     "name": "stdout",
     "output_type": "stream",
     "text": [
      "\n",
      "\n",
      "10 most important reviews for negative predicted label - concept3:\n",
      "\n",
      "\n"
     ]
    },
    {
     "data": {
      "text/html": [
       "<div style='display: flex; width: 400px; flex-wrap: wrap'><span style=\"background-color: rgba(221, 90, 9,  0.7284530401229858); padding: 1px 5px; border: solid 3px ; border-color: rgba(221, 90, 9,  1); #EFEFEF\">Based</span> <span style=\"background-color: rgba(221, 90, 9,  0.5308803915977478); padding: 1px 5px; border: solid 3px ; border-color: rgba(221, 90, 9,  1); #EFEFEF\">on</span> <span style=\"background-color: rgba(221, 90, 9,  0.9993818402290344); padding: 1px 5px; border: solid 3px ; border-color: rgba(221, 90, 9,  1); #EFEFEF\">a stage play</span> <span style=\"background-color: rgba(221, 90, 9,  0.6789980530738831); padding: 1px 5px; border: solid 3px ; border-color: rgba(221, 90, 9,  1); #EFEFEF\">which</span> <span style=\"background-color: rgba(221, 90, 9,  0.39469748735427856); padding: 1px 5px; border: solid 3px ; border-color: rgba(221, 90, 9,  1); #EFEFEF\">reportedly</span> <span style=\"background-color: rgba(221, 90, 9,  0.5083935260772705); padding: 1px 5px; border: solid 3px ; border-color: rgba(221, 90, 9,  1); #EFEFEF\">left</span> <span style=\"background-color: rgba(221, 90, 9,  0.4362725019454956); padding: 1px 5px; border: solid 3px ; border-color: rgba(221, 90, 9,  1); #EFEFEF\">its actors</span> <span style=\"background-color: rgba(221, 90, 9,  0.33545103669166565); padding: 1px 5px; border: solid 3px ; border-color: rgba(221, 90, 9,  1); #EFEFEF\">battered and bruised</span> <span style=\"background-color: rgba(221, 90, 9,  0.41787832975387573); padding: 1px 5px; border: solid 3px ; border-color: rgba(221, 90, 9,  1); #EFEFEF\">after</span> <span style=\"background-color: rgba(221, 90, 9,  0.49949946999549866); padding: 1px 5px; border: solid 3px ; border-color: rgba(221, 90, 9,  1); #EFEFEF\">every performance</span> <span style=\"background-color: rgba(221, 90, 9,  0.6592611074447632); padding: 1px 5px; border: solid 3px ; border-color: rgba(221, 90, 9,  1); #EFEFEF\">the film</span> <span style=\"background-color: rgba(233,30,99,0);  padding: 1px 5px; border: solid 3px ; border-color:  rgba(233,30,99,0); #EFEFEF\">makes</span> <span style=\"background-color: rgba(221, 90, 9,  0.4064404368400574); padding: 1px 5px; border: solid 3px ; border-color: rgba(221, 90, 9,  1); #EFEFEF\">no attempt</span> <span style=\"background-color: rgba(221, 90, 9,  0.5381813049316406); padding: 1px 5px; border: solid 3px ; border-color: rgba(221, 90, 9,  1); #EFEFEF\">to open</span> <span style=\"background-color: rgba(221, 90, 9,  0.40373626351356506); padding: 1px 5px; border: solid 3px ; border-color: rgba(221, 90, 9,  1); #EFEFEF\">up</span> <span style=\"background-color: rgba(221, 90, 9,  0.5987032651901245); padding: 1px 5px; border: solid 3px ; border-color: rgba(221, 90, 9,  1); #EFEFEF\">the narrative</span> <span style=\"background-color: rgba(221, 90, 9,  0.33379706740379333); padding: 1px 5px; border: solid 3px ; border-color: rgba(221, 90, 9,  1); #EFEFEF\">relies</span> <span style=\"background-color: rgba(221, 90, 9,  0.7025756239891052); padding: 1px 5px; border: solid 3px ; border-color: rgba(221, 90, 9,  1); #EFEFEF\">instead</span> <span style=\"background-color: rgba(221, 90, 9,  0.5234658718109131); padding: 1px 5px; border: solid 3px ; border-color: rgba(221, 90, 9,  1); #EFEFEF\">on</span> <span style=\"background-color: rgba(221, 90, 9,  0.5796141028404236); padding: 1px 5px; border: solid 3px ; border-color: rgba(221, 90, 9,  1); #EFEFEF\">a confined setting</span> <span style=\"background-color: rgba(221, 90, 9,  0.5377968549728394); padding: 1px 5px; border: solid 3px ; border-color: rgba(221, 90, 9,  1); #EFEFEF\">for</span> <span style=\"background-color: rgba(221, 90, 9,  0.7687128782272339); padding: 1px 5px; border: solid 3px ; border-color: rgba(221, 90, 9,  1); #EFEFEF\">the main action</span> </div>"
      ],
      "text/plain": [
       "<IPython.core.display.HTML object>"
      ]
     },
     "metadata": {},
     "output_type": "display_data"
    },
    {
     "data": {
      "text/html": [
       "<br><br>"
      ],
      "text/plain": [
       "<IPython.core.display.HTML object>"
      ]
     },
     "metadata": {},
     "output_type": "display_data"
    },
    {
     "data": {
      "text/html": [
       "<div style='display: flex; width: 400px; flex-wrap: wrap'><span style=\"background-color: rgba(221, 90, 9,  0.6401248574256897); padding: 1px 5px; border: solid 3px ; border-color: rgba(221, 90, 9,  1); #EFEFEF\">It</span> <span style=\"background-color: rgba(221, 90, 9,  0.611358642578125); padding: 1px 5px; border: solid 3px ; border-color: rgba(221, 90, 9,  1); #EFEFEF\">also</span> <span style=\"background-color: rgba(221, 90, 9,  0.9995406270027161); padding: 1px 5px; border: solid 3px ; border-color: rgba(221, 90, 9,  1); #EFEFEF\">appears</span> <span style=\"background-color: rgba(221, 90, 9,  0.5623574256896973); padding: 1px 5px; border: solid 3px ; border-color: rgba(221, 90, 9,  1); #EFEFEF\">in</span> <span style=\"background-color: rgba(221, 90, 9,  0.22638188302516937); padding: 1px 5px; border: solid 3px ; border-color: rgba(221, 90, 9,  1); #EFEFEF\">this segment</span> <span style=\"background-color: rgba(221, 90, 9,  0.40380555391311646); padding: 1px 5px; border: solid 3px ; border-color: rgba(221, 90, 9,  1); #EFEFEF\">s climax</span> <span style=\"background-color: rgba(221, 90, 9,  0.931715726852417); padding: 1px 5px; border: solid 3px ; border-color: rgba(221, 90, 9,  1); #EFEFEF\">that</span> <span style=\"background-color: rgba(221, 90, 9,  0.8018873333930969); padding: 1px 5px; border: solid 3px ; border-color: rgba(221, 90, 9,  1); #EFEFEF\">Dracula</span> <span style=\"background-color: rgba(221, 90, 9,  0.9375354647636414); padding: 1px 5px; border: solid 3px ; border-color: rgba(221, 90, 9,  1); #EFEFEF\">can control</span> <span style=\"background-color: rgba(233,30,99,0);  padding: 1px 5px; border: solid 3px ; border-color:  rgba(233,30,99,0); #EFEFEF\">the weather</span> <span style=\"background-color: rgba(221, 90, 9,  0.5855799913406372); padding: 1px 5px; border: solid 3px ; border-color: rgba(221, 90, 9,  1); #EFEFEF\">this</span> <span style=\"background-color: rgba(221, 90, 9,  0.9813088178634644); padding: 1px 5px; border: solid 3px ; border-color: rgba(221, 90, 9,  1); #EFEFEF\">seems forgotten</span> <span style=\"background-color: rgba(221, 90, 9,  0.7941649556159973); padding: 1px 5px; border: solid 3px ; border-color: rgba(221, 90, 9,  1); #EFEFEF\">about</span> <span style=\"background-color: rgba(221, 90, 9,  0.8627826571464539); padding: 1px 5px; border: solid 3px ; border-color: rgba(221, 90, 9,  1); #EFEFEF\">as</span> <span style=\"background-color: rgba(221, 90, 9,  0.7470670938491821); padding: 1px 5px; border: solid 3px ; border-color: rgba(221, 90, 9,  1); #EFEFEF\">the film</span> <span style=\"background-color: rgba(221, 90, 9,  0.6146523356437683); padding: 1px 5px; border: solid 3px ; border-color: rgba(221, 90, 9,  1); #EFEFEF\">progresses</span> </div>"
      ],
      "text/plain": [
       "<IPython.core.display.HTML object>"
      ]
     },
     "metadata": {},
     "output_type": "display_data"
    },
    {
     "data": {
      "text/html": [
       "<br><br>"
      ],
      "text/plain": [
       "<IPython.core.display.HTML object>"
      ]
     },
     "metadata": {},
     "output_type": "display_data"
    },
    {
     "data": {
      "text/html": [
       "<div style='display: flex; width: 400px; flex-wrap: wrap'><span style=\"background-color: rgba(221, 90, 9,  0.9972563982009888); padding: 1px 5px; border: solid 3px ; border-color: rgba(221, 90, 9,  1); #EFEFEF\">The sense</span> <span style=\"background-color: rgba(221, 90, 9,  0.901898205280304); padding: 1px 5px; border: solid 3px ; border-color: rgba(221, 90, 9,  1); #EFEFEF\">of</span> <span style=\"background-color: rgba(221, 90, 9,  0.2810578942298889); padding: 1px 5px; border: solid 3px ; border-color: rgba(221, 90, 9,  1); #EFEFEF\">reality</span> <span style=\"background-color: rgba(221, 90, 9,  0.4499876797199249); padding: 1px 5px; border: solid 3px ; border-color: rgba(221, 90, 9,  1); #EFEFEF\">is</span> <span style=\"background-color: rgba(221, 90, 9,  0.9239138960838318); padding: 1px 5px; border: solid 3px ; border-color: rgba(221, 90, 9,  1); #EFEFEF\">never</span> <span style=\"background-color: rgba(221, 90, 9,  0.999553918838501); padding: 1px 5px; border: solid 3px ; border-color: rgba(221, 90, 9,  1); #EFEFEF\">there</span> <span style=\"background-color: rgba(221, 90, 9,  0.36417722702026367); padding: 1px 5px; border: solid 3px ; border-color: rgba(221, 90, 9,  1); #EFEFEF\">however</span> </div>"
      ],
      "text/plain": [
       "<IPython.core.display.HTML object>"
      ]
     },
     "metadata": {},
     "output_type": "display_data"
    },
    {
     "data": {
      "text/html": [
       "<br><br>"
      ],
      "text/plain": [
       "<IPython.core.display.HTML object>"
      ]
     },
     "metadata": {},
     "output_type": "display_data"
    },
    {
     "data": {
      "text/html": [
       "<div style='display: flex; width: 400px; flex-wrap: wrap'><span style=\"background-color: rgba(221, 90, 9,  0.3740747272968292); padding: 1px 5px; border: solid 3px ; border-color: rgba(221, 90, 9,  1); #EFEFEF\">At</span> <span style=\"background-color: rgba(233,30,99,0);  padding: 1px 5px; border: solid 3px ; border-color:  rgba(233,30,99,0); #EFEFEF\">times</span> <span style=\"background-color: rgba(221, 90, 9,  0.9994581937789917); padding: 1px 5px; border: solid 3px ; border-color: rgba(221, 90, 9,  1); #EFEFEF\">the plot</span> <span style=\"background-color: rgba(221, 90, 9,  0.6892595887184143); padding: 1px 5px; border: solid 3px ; border-color: rgba(221, 90, 9,  1); #EFEFEF\">diverts</span> <span style=\"background-color: rgba(221, 90, 9,  0.6300317645072937); padding: 1px 5px; border: solid 3px ; border-color: rgba(221, 90, 9,  1); #EFEFEF\">to</span> <span style=\"background-color: rgba(221, 90, 9,  0.43993404507637024); padding: 1px 5px; border: solid 3px ; border-color: rgba(221, 90, 9,  1); #EFEFEF\">the families</span> <span style=\"background-color: rgba(221, 90, 9,  0.8275213837623596); padding: 1px 5px; border: solid 3px ; border-color: rgba(221, 90, 9,  1); #EFEFEF\">of</span> <span style=\"background-color: rgba(221, 90, 9,  0.49173417687416077); padding: 1px 5px; border: solid 3px ; border-color: rgba(221, 90, 9,  1); #EFEFEF\">the two main characters</span> <span style=\"background-color: rgba(221, 90, 9,  0.792496919631958); padding: 1px 5px; border: solid 3px ; border-color: rgba(221, 90, 9,  1); #EFEFEF\">reverts</span> <span style=\"background-color: rgba(221, 90, 9,  0.582001805305481); padding: 1px 5px; border: solid 3px ; border-color: rgba(221, 90, 9,  1); #EFEFEF\">back</span> <span style=\"background-color: rgba(221, 90, 9,  0.5842779278755188); padding: 1px 5px; border: solid 3px ; border-color: rgba(221, 90, 9,  1); #EFEFEF\">to</span> <span style=\"background-color: rgba(221, 90, 9,  0.7255391478538513); padding: 1px 5px; border: solid 3px ; border-color: rgba(221, 90, 9,  1); #EFEFEF\">one</span> <span style=\"background-color: rgba(221, 90, 9,  0.4075051546096802); padding: 1px 5px; border: solid 3px ; border-color: rgba(221, 90, 9,  1); #EFEFEF\">of</span> <span style=\"background-color: rgba(221, 90, 9,  0.9018839001655579); padding: 1px 5px; border: solid 3px ; border-color: rgba(221, 90, 9,  1); #EFEFEF\">them</span> <span style=\"background-color: rgba(221, 90, 9,  0.6923334002494812); padding: 1px 5px; border: solid 3px ; border-color: rgba(221, 90, 9,  1); #EFEFEF\">Ismael</span> <span style=\"background-color: rgba(221, 90, 9,  0.9561294317245483); padding: 1px 5px; border: solid 3px ; border-color: rgba(221, 90, 9,  1); #EFEFEF\">primarily Nora</span> </div>"
      ],
      "text/plain": [
       "<IPython.core.display.HTML object>"
      ]
     },
     "metadata": {},
     "output_type": "display_data"
    },
    {
     "data": {
      "text/html": [
       "<br><br>"
      ],
      "text/plain": [
       "<IPython.core.display.HTML object>"
      ]
     },
     "metadata": {},
     "output_type": "display_data"
    },
    {
     "data": {
      "text/html": [
       "<div style='display: flex; width: 400px; flex-wrap: wrap'><span style=\"background-color: rgba(221, 90, 9,  0.9995444416999817); padding: 1px 5px; border: solid 3px ; border-color: rgba(221, 90, 9,  1); #EFEFEF\">The plot</span> <span style=\"background-color: rgba(221, 90, 9,  0.3456777036190033); padding: 1px 5px; border: solid 3px ; border-color: rgba(221, 90, 9,  1); #EFEFEF\">introduces</span> <span style=\"background-color: rgba(221, 90, 9,  0.6926406025886536); padding: 1px 5px; border: solid 3px ; border-color: rgba(221, 90, 9,  1); #EFEFEF\">a young couple</span> <span style=\"background-color: rgba(233,30,99,0);  padding: 1px 5px; border: solid 3px ; border-color:  rgba(233,30,99,0); #EFEFEF\">on</span> <span style=\"background-color: rgba(233,30,99,0);  padding: 1px 5px; border: solid 3px ; border-color:  rgba(233,30,99,0); #EFEFEF\">their honeymoon-weekend exploring caves</span> </div>"
      ],
      "text/plain": [
       "<IPython.core.display.HTML object>"
      ]
     },
     "metadata": {},
     "output_type": "display_data"
    },
    {
     "data": {
      "text/html": [
       "<br><br>"
      ],
      "text/plain": [
       "<IPython.core.display.HTML object>"
      ]
     },
     "metadata": {},
     "output_type": "display_data"
    },
    {
     "data": {
      "text/html": [
       "<div style='display: flex; width: 400px; flex-wrap: wrap'><span style=\"background-color: rgba(221, 90, 9,  0.6936691999435425); padding: 1px 5px; border: solid 3px ; border-color: rgba(221, 90, 9,  1); #EFEFEF\">The motivation</span> <span style=\"background-color: rgba(221, 90, 9,  0.34460917115211487); padding: 1px 5px; border: solid 3px ; border-color: rgba(221, 90, 9,  1); #EFEFEF\">for</span> <span style=\"background-color: rgba(233,30,99,0);  padding: 1px 5px; border: solid 3px ; border-color:  rgba(233,30,99,0); #EFEFEF\">the killings</span> <span style=\"background-color: rgba(221, 90, 9,  0.551727831363678); padding: 1px 5px; border: solid 3px ; border-color: rgba(221, 90, 9,  1); #EFEFEF\">in</span> <span style=\"background-color: rgba(221, 90, 9,  0.4883405864238739); padding: 1px 5px; border: solid 3px ; border-color: rgba(221, 90, 9,  1); #EFEFEF\">the beginning</span> <span style=\"background-color: rgba(221, 90, 9,  0.3022773861885071); padding: 1px 5px; border: solid 3px ; border-color: rgba(221, 90, 9,  1); #EFEFEF\">of</span> <span style=\"background-color: rgba(221, 90, 9,  0.95516037940979); padding: 1px 5px; border: solid 3px ; border-color: rgba(221, 90, 9,  1); #EFEFEF\">the movie</span> <span style=\"background-color: rgba(221, 90, 9,  0.9995223879814148); padding: 1px 5px; border: solid 3px ; border-color: rgba(221, 90, 9,  1); #EFEFEF\">is never explained</span> </div>"
      ],
      "text/plain": [
       "<IPython.core.display.HTML object>"
      ]
     },
     "metadata": {},
     "output_type": "display_data"
    },
    {
     "data": {
      "text/html": [
       "<br><br>"
      ],
      "text/plain": [
       "<IPython.core.display.HTML object>"
      ]
     },
     "metadata": {},
     "output_type": "display_data"
    },
    {
     "data": {
      "text/html": [
       "<div style='display: flex; width: 400px; flex-wrap: wrap'><span style=\"background-color: rgba(221, 90, 9,  0.20783191919326782); padding: 1px 5px; border: solid 3px ; border-color: rgba(221, 90, 9,  1); #EFEFEF\">The epilogue</span> <span style=\"background-color: rgba(221, 90, 9,  0.8804294466972351); padding: 1px 5px; border: solid 3px ; border-color: rgba(221, 90, 9,  1); #EFEFEF\">does not really wrap</span> <span style=\"background-color: rgba(221, 90, 9,  0.26675060391426086); padding: 1px 5px; border: solid 3px ; border-color: rgba(221, 90, 9,  1); #EFEFEF\">up</span> <span style=\"background-color: rgba(221, 9, 140, 0.2493295520544052); padding: 1px 5px; border: solid 3px ; border-color: rgba(221, 9, 140, 1); #EFEFEF\">many</span> <span style=\"background-color: rgba(221, 9, 140, 0.6320109367370605); padding: 1px 5px; border: solid 3px ; border-color: rgba(221, 9, 140, 1); #EFEFEF\">of</span> <span style=\"background-color: rgba(221, 9, 140, 0.9990755915641785); padding: 1px 5px; border: solid 3px ; border-color: rgba(221, 9, 140, 1); #EFEFEF\">the sub-plots</span> <span style=\"background-color: rgba(221, 9, 140, 0.9960825443267822); padding: 1px 5px; border: solid 3px ; border-color: rgba(221, 9, 140, 1); #EFEFEF\">seems to want</span> <span style=\"background-color: rgba(221, 9, 140, 0.2639639675617218); padding: 1px 5px; border: solid 3px ; border-color: rgba(221, 9, 140, 1); #EFEFEF\">the viewer</span> <span style=\"background-color: rgba(221, 9, 140, 0.21126678586006165); padding: 1px 5px; border: solid 3px ; border-color: rgba(221, 9, 140, 1); #EFEFEF\">to believe</span> <span style=\"background-color: rgba(221, 9, 140, 0.2592422664165497); padding: 1px 5px; border: solid 3px ; border-color: rgba(221, 9, 140, 1); #EFEFEF\">Nora</span> <span style=\"background-color: rgba(221, 9, 140, 0.40248534083366394); padding: 1px 5px; border: solid 3px ; border-color: rgba(221, 9, 140, 1); #EFEFEF\">somehow</span> <span style=\"background-color: rgba(221, 9, 140, 0.2219066023826599); padding: 1px 5px; border: solid 3px ; border-color: rgba(221, 9, 140, 1); #EFEFEF\">will find</span> <span style=\"background-color: rgba(221, 9, 140, 0.5523578524589539); padding: 1px 5px; border: solid 3px ; border-color: rgba(221, 9, 140, 1); #EFEFEF\">happiness</span> <span style=\"background-color: rgba(233,30,99,0);  padding: 1px 5px; border: solid 3px ; border-color:  rgba(233,30,99,0); #EFEFEF\">although</span> <span style=\"background-color: rgba(221, 9, 140, 0.25466254353523254); padding: 1px 5px; border: solid 3px ; border-color: rgba(221, 9, 140, 1); #EFEFEF\">given</span> <span style=\"background-color: rgba(221, 9, 140, 0.2606918215751648); padding: 1px 5px; border: solid 3px ; border-color: rgba(221, 9, 140, 1); #EFEFEF\">her circumstances</span> <span style=\"background-color: rgba(221, 9, 140, 0.2924157977104187); padding: 1px 5px; border: solid 3px ; border-color: rgba(221, 9, 140, 1); #EFEFEF\">in</span> <span style=\"background-color: rgba(221, 9, 140, 0.3680395483970642); padding: 1px 5px; border: solid 3px ; border-color: rgba(221, 9, 140, 1); #EFEFEF\">real life</span> <span style=\"background-color: rgba(221, 9, 140, 0.2204885631799698); padding: 1px 5px; border: solid 3px ; border-color: rgba(221, 9, 140, 1); #EFEFEF\">the chances</span> <span style=\"background-color: rgba(221, 9, 140, 0.4362190067768097); padding: 1px 5px; border: solid 3px ; border-color: rgba(221, 9, 140, 1); #EFEFEF\">are</span> <span style=\"background-color: rgba(221, 9, 140, 0.4030941426753998); padding: 1px 5px; border: solid 3px ; border-color: rgba(221, 9, 140, 1); #EFEFEF\">equivalent</span> <span style=\"background-color: rgba(221, 9, 140, 0.37610340118408203); padding: 1px 5px; border: solid 3px ; border-color: rgba(221, 9, 140, 1); #EFEFEF\">to</span> <span style=\"background-color: rgba(221, 9, 140, 0.4465470612049103); padding: 1px 5px; border: solid 3px ; border-color: rgba(221, 9, 140, 1); #EFEFEF\">a snow ball</span> <span style=\"background-color: rgba(233,30,99,0);  padding: 1px 5px; border: solid 3px ; border-color:  rgba(233,30,99,0); #EFEFEF\">'s chance</span> <span style=\"background-color: rgba(221, 9, 140, 0.4348149299621582); padding: 1px 5px; border: solid 3px ; border-color: rgba(221, 9, 140, 1); #EFEFEF\">in</span> <span style=\"background-color: rgba(221, 9, 140, 0.43907368183135986); padding: 1px 5px; border: solid 3px ; border-color: rgba(221, 9, 140, 1); #EFEFEF\">hell</span> </div>"
      ],
      "text/plain": [
       "<IPython.core.display.HTML object>"
      ]
     },
     "metadata": {},
     "output_type": "display_data"
    },
    {
     "data": {
      "text/html": [
       "<br><br>"
      ],
      "text/plain": [
       "<IPython.core.display.HTML object>"
      ]
     },
     "metadata": {},
     "output_type": "display_data"
    },
    {
     "data": {
      "text/html": [
       "<div style='display: flex; width: 400px; flex-wrap: wrap'><span style=\"background-color: rgba(221, 90, 9,  0.9990384578704834); padding: 1px 5px; border: solid 3px ; border-color: rgba(221, 90, 9,  1); #EFEFEF\">The movie</span> <span style=\"background-color: rgba(221, 90, 9,  0.6370266079902649); padding: 1px 5px; border: solid 3px ; border-color: rgba(221, 90, 9,  1); #EFEFEF\">starts</span> <span style=\"background-color: rgba(221, 90, 9,  0.27656787633895874); padding: 1px 5px; border: solid 3px ; border-color: rgba(221, 90, 9,  1); #EFEFEF\">with</span> <span style=\"background-color: rgba(221, 90, 9,  0.64610356092453); padding: 1px 5px; border: solid 3px ; border-color: rgba(221, 90, 9,  1); #EFEFEF\">a pair</span> <span style=\"background-color: rgba(221, 90, 9,  0.4295789897441864); padding: 1px 5px; border: solid 3px ; border-color: rgba(221, 90, 9,  1); #EFEFEF\">of</span> <span style=\"background-color: rgba(221, 90, 9,  0.4095451533794403); padding: 1px 5px; border: solid 3px ; border-color: rgba(221, 90, 9,  1); #EFEFEF\">campers</span> <span style=\"background-color: rgba(221, 90, 9,  0.5277755260467529); padding: 1px 5px; border: solid 3px ; border-color: rgba(221, 90, 9,  1); #EFEFEF\">a man</span> <span style=\"background-color: rgba(221, 90, 9,  0.5392006039619446); padding: 1px 5px; border: solid 3px ; border-color: rgba(221, 90, 9,  1); #EFEFEF\">a woman</span> <span style=\"background-color: rgba(221, 90, 9,  0.6344782114028931); padding: 1px 5px; border: solid 3px ; border-color: rgba(221, 90, 9,  1); #EFEFEF\">presumably together</span> <span style=\"background-color: rgba(221, 90, 9,  0.4603261649608612); padding: 1px 5px; border: solid 3px ; border-color: rgba(221, 90, 9,  1); #EFEFEF\">hiking</span> <span style=\"background-color: rgba(221, 90, 9,  0.4083334803581238); padding: 1px 5px; border: solid 3px ; border-color: rgba(221, 90, 9,  1); #EFEFEF\">alone</span> <span style=\"background-color: rgba(221, 90, 9,  0.41329553723335266); padding: 1px 5px; border: solid 3px ; border-color: rgba(221, 90, 9,  1); #EFEFEF\">in</span> <span style=\"background-color: rgba(221, 90, 9,  0.49240392446517944); padding: 1px 5px; border: solid 3px ; border-color: rgba(221, 90, 9,  1); #EFEFEF\">the vast wilderness</span> </div>"
      ],
      "text/plain": [
       "<IPython.core.display.HTML object>"
      ]
     },
     "metadata": {},
     "output_type": "display_data"
    },
    {
     "data": {
      "text/html": [
       "<br><br>"
      ],
      "text/plain": [
       "<IPython.core.display.HTML object>"
      ]
     },
     "metadata": {},
     "output_type": "display_data"
    },
    {
     "data": {
      "text/html": [
       "<div style='display: flex; width: 400px; flex-wrap: wrap'><span style=\"background-color: rgba(221, 90, 9,  0.5977408289909363); padding: 1px 5px; border: solid 3px ; border-color: rgba(221, 90, 9,  1); #EFEFEF\">His character</span> <span style=\"background-color: rgba(221, 90, 9,  0.7251297235488892); padding: 1px 5px; border: solid 3px ; border-color: rgba(221, 90, 9,  1); #EFEFEF\">is never quite defined</span> <span style=\"background-color: rgba(221, 90, 9,  0.2666316032409668); padding: 1px 5px; border: solid 3px ; border-color: rgba(221, 90, 9,  1); #EFEFEF\">he</span> <span style=\"background-color: rgba(221, 90, 9,  0.9461956024169922); padding: 1px 5px; border: solid 3px ; border-color: rgba(221, 90, 9,  1); #EFEFEF\">lacks</span> <span style=\"background-color: rgba(221, 90, 9,  0.9993302822113037); padding: 1px 5px; border: solid 3px ; border-color: rgba(221, 90, 9,  1); #EFEFEF\">true motive</span> <span style=\"background-color: rgba(221, 90, 9,  0.8300417065620422); padding: 1px 5px; border: solid 3px ; border-color: rgba(221, 90, 9,  1); #EFEFEF\">his loyalties</span> <span style=\"background-color: rgba(233,30,99,0);  padding: 1px 5px; border: solid 3px ; border-color:  rgba(233,30,99,0); #EFEFEF\">remain</span> <span style=\"background-color: rgba(221, 90, 9,  0.20204892754554749); padding: 1px 5px; border: solid 3px ; border-color: rgba(221, 90, 9,  1); #EFEFEF\">uncertain</span> </div>"
      ],
      "text/plain": [
       "<IPython.core.display.HTML object>"
      ]
     },
     "metadata": {},
     "output_type": "display_data"
    },
    {
     "data": {
      "text/html": [
       "<br><br>"
      ],
      "text/plain": [
       "<IPython.core.display.HTML object>"
      ]
     },
     "metadata": {},
     "output_type": "display_data"
    },
    {
     "data": {
      "text/html": [
       "<div style='display: flex; width: 400px; flex-wrap: wrap'><span style=\"background-color: rgba(221, 90, 9,  0.999502956867218); padding: 1px 5px; border: solid 3px ; border-color: rgba(221, 90, 9,  1); #EFEFEF\">Two-thirds</span> <span style=\"background-color: rgba(233,30,99,0);  padding: 1px 5px; border: solid 3px ; border-color:  rgba(233,30,99,0); #EFEFEF\">of</span> <span style=\"background-color: rgba(221, 90, 9,  0.4931202530860901); padding: 1px 5px; border: solid 3px ; border-color: rgba(221, 90, 9,  1); #EFEFEF\">the running time</span> <span style=\"background-color: rgba(221, 90, 9,  0.341405987739563); padding: 1px 5px; border: solid 3px ; border-color: rgba(221, 90, 9,  1); #EFEFEF\">is primarily devoted</span> <span style=\"background-color: rgba(233,30,99,0);  padding: 1px 5px; border: solid 3px ; border-color:  rgba(233,30,99,0); #EFEFEF\">to</span> <span style=\"background-color: rgba(233,30,99,0);  padding: 1px 5px; border: solid 3px ; border-color:  rgba(233,30,99,0); #EFEFEF\">the film</span> <span style=\"background-color: rgba(233,30,99,0);  padding: 1px 5px; border: solid 3px ; border-color:  rgba(233,30,99,0); #EFEFEF\">'s hero</span> <span style=\"background-color: rgba(233,30,99,0);  padding: 1px 5px; border: solid 3px ; border-color:  rgba(233,30,99,0); #EFEFEF\">Jack Brooks</span> <span style=\"background-color: rgba(233,30,99,0);  padding: 1px 5px; border: solid 3px ; border-color:  rgba(233,30,99,0); #EFEFEF\">a plumber and college student</span> <span style=\"background-color: rgba(233,30,99,0);  padding: 1px 5px; border: solid 3px ; border-color:  rgba(233,30,99,0); #EFEFEF\">as</span> <span style=\"background-color: rgba(233,30,99,0);  padding: 1px 5px; border: solid 3px ; border-color:  rgba(233,30,99,0); #EFEFEF\">he</span> <span style=\"background-color: rgba(233,30,99,0);  padding: 1px 5px; border: solid 3px ; border-color:  rgba(233,30,99,0); #EFEFEF\">goes</span> <span style=\"background-color: rgba(233,30,99,0);  padding: 1px 5px; border: solid 3px ; border-color:  rgba(233,30,99,0); #EFEFEF\">to</span> <span style=\"background-color: rgba(233,30,99,0);  padding: 1px 5px; border: solid 3px ; border-color:  rgba(233,30,99,0); #EFEFEF\">class</span> <span style=\"background-color: rgba(233,30,99,0);  padding: 1px 5px; border: solid 3px ; border-color:  rgba(233,30,99,0); #EFEFEF\">attempts to deal</span> <span style=\"background-color: rgba(233,30,99,0);  padding: 1px 5px; border: solid 3px ; border-color:  rgba(233,30,99,0); #EFEFEF\">with</span> <span style=\"background-color: rgba(233,30,99,0);  padding: 1px 5px; border: solid 3px ; border-color:  rgba(233,30,99,0); #EFEFEF\">his uncontrollable bursts</span> <span style=\"background-color: rgba(233,30,99,0);  padding: 1px 5px; border: solid 3px ; border-color:  rgba(233,30,99,0); #EFEFEF\">of</span> <span style=\"background-color: rgba(233,30,99,0);  padding: 1px 5px; border: solid 3px ; border-color:  rgba(233,30,99,0); #EFEFEF\">anger</span> </div>"
      ],
      "text/plain": [
       "<IPython.core.display.HTML object>"
      ]
     },
     "metadata": {},
     "output_type": "display_data"
    },
    {
     "data": {
      "text/html": [
       "<br><br>"
      ],
      "text/plain": [
       "<IPython.core.display.HTML object>"
      ]
     },
     "metadata": {},
     "output_type": "display_data"
    }
   ],
   "source": [
    "plot_reviews_exp(segments_pos, u_segments_pos, factorization_pos, global_importance_pos,\n",
    "                 segments_neg, u_segments_neg, factorization_neg, global_importance_neg,\n",
    "                 custom_samples=False)"
   ]
  },
  {
   "cell_type": "code",
   "execution_count": 74,
   "id": "daf2730d-0b13-4e63-9b91-d54cc6b376d7",
   "metadata": {
    "tags": []
   },
   "outputs": [],
   "source": [
    "reviews_neg_text = [\n",
    "    \"I couldn't even follow the plot, but suffice it to say, this is the absolute worst movie I have ever seen in my life.\",\n",
    "    \"This is by far one of the worst films I've ever paid good money to see.\",\n",
    "    'Words cannot begin to describe how blandly terrible this movie is.',\n",
    "    \"It's pointless.\",\n",
    "    'Plot is unimportant.',\n",
    "    'About the only good thing about this is the setting.',\n",
    "    \"It's too bad because this film had great production values and a good cast, but isn't the idea of turning a book into a movie (TV or film) to get the people who read the book to be part of the audience.\"\n",
    "]\n",
    "\n",
    "reviews_neg = [[text, 'negative'] for text in reviews_neg_text]\n",
    "reviews_neg = np.array(reviews_neg)\n",
    "\n",
    "reviews_pos_text = [\n",
    "    'One of the best movies ever, hands down.',\n",
    "    'It is simply one of my all-time favorite films.',\n",
    "    'Very inspiring and encouraging to all ages.',\n",
    "    'The ballroom scenes were very nice, the dancing and the outfits looked beautiful.',\n",
    "    \"Billy Bitzer's camera work is quite good.\",\n",
    "    'The humor and sadness are subtly blended.',\n",
    "    'Idrissa Oudraogo ( Burkina Faso ): from one of the poorest country in the world, a tender and funny story about five boys who want to capture Osama Bin Laden.',\n",
    "    'Especially fun is the performance by Cronenberg as the truly evil human doctor who is bent on destroying the Nightbreed.'\n",
    "]\n",
    "\n",
    "reviews_pos = [[text, 'positive'] for text in reviews_pos_text]\n",
    "reviews_pos = np.array(reviews_pos)\n",
    "\n",
    "plot_reviews_exp(segments_pos, u_segments_pos, factorization_pos, global_importance_pos,\n",
    "                 segments_neg, u_segments_neg, factorization_neg, global_importance_neg,\n",
    "                 custom_samples=True, samples_to_test=[reviews_neg, reviews_pos])"
   ]
  },
  {
   "cell_type": "markdown",
   "id": "20d6f254-83d4-48aa-bf1e-4b36c9dabce9",
   "metadata": {
    "jp-MarkdownHeadingCollapsed": true,
    "tags": []
   },
   "source": [
    "### Objective 2: Sentiment Shift Analysis"
   ]
  },
  {
   "cell_type": "code",
   "execution_count": null,
   "id": "67af8018-5e63-4689-a9d3-a872e39c73dd",
   "metadata": {},
   "outputs": [],
   "source": [
    "reviews_neg_text_changed = [\n",
    "    \"I couldn't even follow the plot, but suffice it to say, this is the absolute worst movie I have ever seen in my life.\",\n",
    "    \"This is by far one of the worst films I've ever paid good money to see.\",\n",
    "    'Words cannot begin to describe how blandly terrible this movie is.',\n",
    "    \"It's pointless.\",\n",
    "    'Plot is unimportant.',\n",
    "    'About the only good thing about this is the setting.',\n",
    "    \"It's too bad because this film had great production values and a good cast, but isn't the idea of turning a book into a movie (TV or film) to get the people who read the book to be part of the audience.\"\n",
    "]\n",
    "\n",
    "reviews_neg = [[text, 'negative'] for text in reviews_neg_text_changed]\n",
    "reviews_neg = np.array(reviews_neg)\n",
    "\n",
    "reviews_pos_text = [\n",
    "    'One of the best movies ever, hands down.',\n",
    "    'It is simply one of my all-time favorite films.',\n",
    "    'Very inspiring and encouraging to all ages.',\n",
    "    'The ballroom scenes were very nice, the dancing and the outfits looked beautiful.',\n",
    "    \"Billy Bitzer's camera work is quite good.\",\n",
    "    'The humor and sadness are subtly blended.',\n",
    "    'Idrissa Oudraogo ( Burkina Faso ): from one of the poorest country in the world, a tender and funny story about five boys who want to capture Osama Bin Laden.',\n",
    "    'Especially fun is the performance by Cronenberg as the truly evil human doctor who is bent on destroying the Nightbreed.'\n",
    "]\n",
    "\n",
    "reviews_pos = [[text, 'positive'] for text in reviews_pos_text]\n",
    "reviews_pos = np.array(reviews_pos)"
   ]
  },
  {
   "cell_type": "code",
   "execution_count": null,
   "id": "e06e00a3-1fcd-4538-bdd1-ddc78fb71de4",
   "metadata": {},
   "outputs": [],
   "source": []
  },
  {
   "cell_type": "code",
   "execution_count": null,
   "id": "6adead0f-02df-4d4b-b85c-d4a7c84adde4",
   "metadata": {},
   "outputs": [],
   "source": []
  },
  {
   "cell_type": "markdown",
   "id": "a2841b49-f72c-4ecd-aaf3-d88c4cad4d03",
   "metadata": {
    "jp-MarkdownHeadingCollapsed": true,
    "tags": []
   },
   "source": [
    "### Objective 3: Comparison with SHAP"
   ]
  },
  {
   "cell_type": "code",
   "execution_count": 47,
   "id": "111fdf91-7711-4689-8d97-c526772b8f96",
   "metadata": {
    "tags": []
   },
   "outputs": [],
   "source": [
    "import shap\n",
    "\n",
    "def shap_explain(pipe, text, output_names):\n",
    "    \n",
    "    prediction = pipe([text])\n",
    "    print(prediction[0])\n",
    "\n",
    "    explainer = shap.Explainer(pipe, output_names=output_names)\n",
    "    shap_values = explainer([text])\n",
    "\n",
    "    shap.plots.text(shap_values)\n",
    "    \n",
    "    return None"
   ]
  },
  {
   "cell_type": "code",
   "execution_count": 80,
   "id": "77b25556-bfdb-4cb2-8ee6-4d15205a116b",
   "metadata": {
    "tags": []
   },
   "outputs": [],
   "source": [
    "from transformers import RobertaTokenizerFast, RobertaForSequenceClassification, TextClassificationPipeline\n",
    "\n",
    "tokenizer = RobertaTokenizerFast.from_pretrained(\"wrmurray/roberta-base-finetuned-imdb\")\n",
    "model = RobertaForSequenceClassification.from_pretrained(\"wrmurray/roberta-base-finetuned-imdb\").to('cpu')\n",
    "\n",
    "# Put model into evaluation mode\n",
    "model = model.eval()\n",
    "\n",
    "# Create a pipeline for sentiment analysis\n",
    "pipe = TextClassificationPipeline(model=model, tokenizer=tokenizer, top_k=None)\n",
    "\n",
    "# Explain each sample in custom set\n",
    "for sample in reviews_neg_text + reviews_pos_text:\n",
    "    shap_explain(pipe, sample, output_names)"
   ]
  },
  {
   "cell_type": "markdown",
   "id": "00d7db00-5aa2-443e-8c71-8aff2a7779dc",
   "metadata": {
    "jp-MarkdownHeadingCollapsed": true,
    "tags": []
   },
   "source": [
    "### Objective 4: Performance on Sarcasm"
   ]
  },
  {
   "cell_type": "markdown",
   "id": "3f394bef-6506-4c89-b13d-ba3f8df6ce10",
   "metadata": {
    "jp-MarkdownHeadingCollapsed": true,
    "tags": []
   },
   "source": [
    "#### Results of Original Method"
   ]
  },
  {
   "cell_type": "code",
   "execution_count": 24,
   "id": "16669933-5132-400d-9a55-731197dc8f7d",
   "metadata": {
    "tags": []
   },
   "outputs": [],
   "source": [
    "sarcasm_reviews_neg = [\n",
    "    [\"Wow, what a masterpiece! I can't believe I wasted two hours of my life on this.\", 'negative'],\n",
    "    [\"Oh, great, another rom-com. Just what the world needed.\", 'negative'],\n",
    "    [\"I've always wanted to watch a movie with endless plot holes. My dreams have come true!\", 'negative'],\n",
    "    [\"This movie is a real game-changer. It changed the game of wasting my time.\", 'negative']\n",
    "]\n",
    "\n",
    "sarcasm_reviews_pos = [\n",
    "    [\"Bravo, the director is a true genius. I couldn't understand a thing in the movie!\", 'positive'],\n",
    "    [\"This movie is so bad, it's almost good. Almost.\", 'positive'],\n",
    "    [\"Oscar-worthy performance by the lead actor... if the Oscars had a category for overacting.\", 'positive'],\n",
    "    [\"I'm speechless. Literally. I lost the ability to speak during this cinematic marvel.\", 'positive']\n",
    "]\n",
    "\n",
    "sarcasm_reviews_text_neg = [text[0] for text in sarcasm_reviews_neg]\n",
    "sarcasm_reviews_text_pos = [text[0] for text in sarcasm_reviews_pos]\n",
    "\n",
    "sarcasm_reviews_labels_neg = [text[1] for text in sarcasm_reviews_neg]\n",
    "sarcasm_reviews_labels_pos = [text[1] for text in sarcasm_reviews_pos]\n",
    "\n",
    "sarcasm_reviews = sarcasm_reviews_neg + sarcasm_reviews_pos"
   ]
  },
  {
   "cell_type": "code",
   "execution_count": 56,
   "id": "8f102eda-617f-40fe-a3a2-3c8dc537524d",
   "metadata": {
    "tags": []
   },
   "outputs": [
    {
     "name": "stdout",
     "output_type": "stream",
     "text": [
      "Accuracy of RoBERTa model on sarcastic samples: 0.5\n"
     ]
    }
   ],
   "source": [
    "from transformers import RobertaTokenizerFast, RobertaForSequenceClassification, TextClassificationPipeline\n",
    "from sklearn.metrics import accuracy_score\n",
    "\n",
    "tokenizer = RobertaTokenizerFast.from_pretrained(\"wrmurray/roberta-base-finetuned-imdb\")\n",
    "model = RobertaForSequenceClassification.from_pretrained(\"wrmurray/roberta-base-finetuned-imdb\").to('cpu')\n",
    "\n",
    "# Put model into evaluation mode\n",
    "model = model.eval()\n",
    "\n",
    "# Create a pipeline for sentiment analysis\n",
    "pipe = TextClassificationPipeline(model=model, tokenizer=tokenizer, top_k=None)\n",
    "\n",
    "# Get the predictions from the pipeline\n",
    "predictions = pipe(sarcasm_reviews_text_neg + sarcasm_reviews_text_pos)\n",
    "\n",
    "# Convert the predicted labels to numeric format\n",
    "predictions = [1 if label == 'LABEL_1' else 0 for label in predictions]\n",
    "\n",
    "# Convert the true labels to numeric format\n",
    "true_labels = sarcasm_reviews_labels_neg + sarcasm_reviews_labels_pos\n",
    "true_labels = [1 if label == 'positive' else 0 for label in true_labels]\n",
    "\n",
    "# Compute the accuracy\n",
    "accuracy = accuracy_score(true_labels, predictions)\n",
    "\n",
    "print(\"Accuracy of RoBERTa model on sarcastic samples:\", accuracy)"
   ]
  },
  {
   "cell_type": "code",
   "execution_count": 58,
   "id": "6651dc26-494e-41d7-a8f0-1519154b86eb",
   "metadata": {
    "tags": []
   },
   "outputs": [
    {
     "name": "stdout",
     "output_type": "stream",
     "text": [
      "Accuracy of custom RoBERTa model on sarcastic samples: tensor(0.3750, device='cuda:0')\n"
     ]
    }
   ],
   "source": [
    "features, labels = batch_predict(model.features, tokenizer, np.array(sarcasm_reviews), batch_size, device)\n",
    "\n",
    "y_pred = model.end_model(features)\n",
    "\n",
    "print(\"Accuracy of custom RoBERTa model on sarcastic samples:\", torch.mean((torch.argmax(y_pred, -1) == labels.to(device)).float()))"
   ]
  },
  {
   "cell_type": "code",
   "execution_count": 59,
   "id": "db78cacf-d2bd-4cb9-8698-9cbcb983487d",
   "metadata": {
    "tags": []
   },
   "outputs": [
    {
     "data": {
      "text/html": [
       "<div style='display: flex; width: 400px; flex-wrap: wrap'><span style=\"background-color: rgba(9, 221, 55,  0.5); padding: 1px 5px; border: solid 3px ; border-color: rgba(9, 221, 55,  1); #EFEFEF\">Positive label: concept1 </span> <span style=\"background-color: rgba(9, 221, 161,  0.5); padding: 1px 5px; border: solid 3px ; border-color: rgba(9, 221, 161,  1); #EFEFEF\">Positive label: concept2 </span> <span style=\"background-color: rgba(221, 9, 34,  0.5); padding: 1px 5px; border: solid 3px ; border-color: rgba(221, 9, 34,  1); #EFEFEF\">Negative label: concept1 </span> <span style=\"background-color: rgba(221, 9, 140, 0.5); padding: 1px 5px; border: solid 3px ; border-color: rgba(221, 9, 140, 1); #EFEFEF\">Negative label: concept2 </span> <span style=\"background-color: rgba(221, 90, 9,  0.5); padding: 1px 5px; border: solid 3px ; border-color: rgba(221, 90, 9,  1); #EFEFEF\">Negative label: concept3 </span> </div>"
      ],
      "text/plain": [
       "<IPython.core.display.HTML object>"
      ]
     },
     "metadata": {},
     "output_type": "display_data"
    },
    {
     "data": {
      "text/html": [
       "<br><br>"
      ],
      "text/plain": [
       "<IPython.core.display.HTML object>"
      ]
     },
     "metadata": {},
     "output_type": "display_data"
    },
    {
     "data": {
      "text/html": [
       "<div style='display: flex; width: 400px; flex-wrap: wrap'><span style=\"background-color: rgba(233,30,99,0);  padding: 1px 5px; border: solid 3px ; border-color:  rgba(233,30,99,0); #EFEFEF\">Bravo</span> <span style=\"background-color: rgba(233,30,99,0);  padding: 1px 5px; border: solid 3px ; border-color:  rgba(233,30,99,0); #EFEFEF\">the director</span> <span style=\"background-color: rgba(233,30,99,0);  padding: 1px 5px; border: solid 3px ; border-color:  rgba(233,30,99,0); #EFEFEF\">is</span> <span style=\"background-color: rgba(233,30,99,0);  padding: 1px 5px; border: solid 3px ; border-color:  rgba(233,30,99,0); #EFEFEF\">a true genius</span> <span style=\"background-color: rgba(233,30,99,0);  padding: 1px 5px; border: solid 3px ; border-color:  rgba(233,30,99,0); #EFEFEF\">I</span> <span style=\"background-color: rgba(233,30,99,0);  padding: 1px 5px; border: solid 3px ; border-color:  rgba(233,30,99,0); #EFEFEF\">couldn't understand</span> <span style=\"background-color: rgba(233,30,99,0);  padding: 1px 5px; border: solid 3px ; border-color:  rgba(233,30,99,0); #EFEFEF\">a thing</span> <span style=\"background-color: rgba(233,30,99,0);  padding: 1px 5px; border: solid 3px ; border-color:  rgba(233,30,99,0); #EFEFEF\">in</span> <span style=\"background-color: rgba(233,30,99,0);  padding: 1px 5px; border: solid 3px ; border-color:  rgba(233,30,99,0); #EFEFEF\">the movie</span> </div>"
      ],
      "text/plain": [
       "<IPython.core.display.HTML object>"
      ]
     },
     "metadata": {},
     "output_type": "display_data"
    },
    {
     "data": {
      "text/html": [
       "<br><br>"
      ],
      "text/plain": [
       "<IPython.core.display.HTML object>"
      ]
     },
     "metadata": {},
     "output_type": "display_data"
    },
    {
     "data": {
      "text/html": [
       "<div style='display: flex; width: 400px; flex-wrap: wrap'><span style=\"background-color: rgba(233,30,99,0);  padding: 1px 5px; border: solid 3px ; border-color:  rgba(233,30,99,0); #EFEFEF\">This movie</span> <span style=\"background-color: rgba(233,30,99,0);  padding: 1px 5px; border: solid 3px ; border-color:  rgba(233,30,99,0); #EFEFEF\">is</span> <span style=\"background-color: rgba(221, 9, 140, 0.4151531457901001); padding: 1px 5px; border: solid 3px ; border-color: rgba(221, 9, 140, 1); #EFEFEF\">so bad</span> <span style=\"background-color: rgba(233,30,99,0);  padding: 1px 5px; border: solid 3px ; border-color:  rgba(233,30,99,0); #EFEFEF\">it</span> <span style=\"background-color: rgba(233,30,99,0);  padding: 1px 5px; border: solid 3px ; border-color:  rgba(233,30,99,0); #EFEFEF\">'s</span> <span style=\"background-color: rgba(221, 9, 140, 0.3708072304725647); padding: 1px 5px; border: solid 3px ; border-color: rgba(221, 9, 140, 1); #EFEFEF\">almost good</span> <span style=\"background-color: rgba(233,30,99,0);  padding: 1px 5px; border: solid 3px ; border-color:  rgba(233,30,99,0); #EFEFEF\">Almost</span> </div>"
      ],
      "text/plain": [
       "<IPython.core.display.HTML object>"
      ]
     },
     "metadata": {},
     "output_type": "display_data"
    },
    {
     "data": {
      "text/html": [
       "<br><br>"
      ],
      "text/plain": [
       "<IPython.core.display.HTML object>"
      ]
     },
     "metadata": {},
     "output_type": "display_data"
    },
    {
     "data": {
      "text/html": [
       "<div style='display: flex; width: 400px; flex-wrap: wrap'><span style=\"background-color: rgba(233,30,99,0);  padding: 1px 5px; border: solid 3px ; border-color:  rgba(233,30,99,0); #EFEFEF\">Oscar-worthy performance</span> <span style=\"background-color: rgba(233,30,99,0);  padding: 1px 5px; border: solid 3px ; border-color:  rgba(233,30,99,0); #EFEFEF\">by</span> <span style=\"background-color: rgba(233,30,99,0);  padding: 1px 5px; border: solid 3px ; border-color:  rgba(233,30,99,0); #EFEFEF\">the lead actor</span> <span style=\"background-color: rgba(233,30,99,0);  padding: 1px 5px; border: solid 3px ; border-color:  rgba(233,30,99,0); #EFEFEF\">if</span> <span style=\"background-color: rgba(233,30,99,0);  padding: 1px 5px; border: solid 3px ; border-color:  rgba(233,30,99,0); #EFEFEF\">the Oscars</span> <span style=\"background-color: rgba(233,30,99,0);  padding: 1px 5px; border: solid 3px ; border-color:  rgba(233,30,99,0); #EFEFEF\">had</span> <span style=\"background-color: rgba(233,30,99,0);  padding: 1px 5px; border: solid 3px ; border-color:  rgba(233,30,99,0); #EFEFEF\">a category</span> <span style=\"background-color: rgba(233,30,99,0);  padding: 1px 5px; border: solid 3px ; border-color:  rgba(233,30,99,0); #EFEFEF\">for</span> <span style=\"background-color: rgba(233,30,99,0);  padding: 1px 5px; border: solid 3px ; border-color:  rgba(233,30,99,0); #EFEFEF\">overacting</span> </div>"
      ],
      "text/plain": [
       "<IPython.core.display.HTML object>"
      ]
     },
     "metadata": {},
     "output_type": "display_data"
    },
    {
     "data": {
      "text/html": [
       "<br><br>"
      ],
      "text/plain": [
       "<IPython.core.display.HTML object>"
      ]
     },
     "metadata": {},
     "output_type": "display_data"
    },
    {
     "data": {
      "text/html": [
       "<div style='display: flex; width: 400px; flex-wrap: wrap'><span style=\"background-color: rgba(233,30,99,0);  padding: 1px 5px; border: solid 3px ; border-color:  rgba(233,30,99,0); #EFEFEF\">I</span> <span style=\"background-color: rgba(233,30,99,0);  padding: 1px 5px; border: solid 3px ; border-color:  rgba(233,30,99,0); #EFEFEF\">'m</span> <span style=\"background-color: rgba(233,30,99,0);  padding: 1px 5px; border: solid 3px ; border-color:  rgba(233,30,99,0); #EFEFEF\">speechless</span> <span style=\"background-color: rgba(233,30,99,0);  padding: 1px 5px; border: solid 3px ; border-color:  rgba(233,30,99,0); #EFEFEF\">Literally</span> <span style=\"background-color: rgba(233,30,99,0);  padding: 1px 5px; border: solid 3px ; border-color:  rgba(233,30,99,0); #EFEFEF\">I</span> <span style=\"background-color: rgba(233,30,99,0);  padding: 1px 5px; border: solid 3px ; border-color:  rgba(233,30,99,0); #EFEFEF\">lost</span> <span style=\"background-color: rgba(233,30,99,0);  padding: 1px 5px; border: solid 3px ; border-color:  rgba(233,30,99,0); #EFEFEF\">the ability</span> <span style=\"background-color: rgba(9, 221, 161,  0.6897050738334656); padding: 1px 5px; border: solid 3px ; border-color: rgba(9, 221, 161,  1); #EFEFEF\">to speak</span> <span style=\"background-color: rgba(9, 221, 161,  0.4470774233341217); padding: 1px 5px; border: solid 3px ; border-color: rgba(9, 221, 161,  1); #EFEFEF\">during</span> <span style=\"background-color: rgba(9, 221, 161,  0.9998369216918945); padding: 1px 5px; border: solid 3px ; border-color: rgba(9, 221, 161,  1); #EFEFEF\">this cinematic marvel</span> </div>"
      ],
      "text/plain": [
       "<IPython.core.display.HTML object>"
      ]
     },
     "metadata": {},
     "output_type": "display_data"
    },
    {
     "data": {
      "text/html": [
       "<br><br>"
      ],
      "text/plain": [
       "<IPython.core.display.HTML object>"
      ]
     },
     "metadata": {},
     "output_type": "display_data"
    },
    {
     "data": {
      "text/html": [
       "<div style='display: flex; width: 400px; flex-wrap: wrap'><span style=\"background-color: rgba(9, 221, 161,  0.5616570115089417); padding: 1px 5px; border: solid 3px ; border-color: rgba(9, 221, 161,  1); #EFEFEF\">Wow</span> <span style=\"background-color: rgba(9, 221, 161,  0.5616570115089417); padding: 1px 5px; border: solid 3px ; border-color: rgba(9, 221, 161,  1); #EFEFEF\">what</span> <span style=\"background-color: rgba(9, 221, 161,  0.5616570115089417); padding: 1px 5px; border: solid 3px ; border-color: rgba(9, 221, 161,  1); #EFEFEF\">a masterpiece</span> <span style=\"background-color: rgba(9, 221, 161,  0.5616570115089417); padding: 1px 5px; border: solid 3px ; border-color: rgba(9, 221, 161,  1); #EFEFEF\">I</span> <span style=\"background-color: rgba(9, 221, 161,  0.5616570115089417); padding: 1px 5px; border: solid 3px ; border-color: rgba(9, 221, 161,  1); #EFEFEF\">can't believe</span> <span style=\"background-color: rgba(9, 221, 161,  0.5616570115089417); padding: 1px 5px; border: solid 3px ; border-color: rgba(9, 221, 161,  1); #EFEFEF\">I</span> <span style=\"background-color: rgba(233,30,99,0);  padding: 1px 5px; border: solid 3px ; border-color:  rgba(233,30,99,0); #EFEFEF\">wasted</span> <span style=\"background-color: rgba(233,30,99,0);  padding: 1px 5px; border: solid 3px ; border-color:  rgba(233,30,99,0); #EFEFEF\">two hours</span> <span style=\"background-color: rgba(9, 221, 161,  0.4818190932273865); padding: 1px 5px; border: solid 3px ; border-color: rgba(9, 221, 161,  1); #EFEFEF\">of</span> <span style=\"background-color: rgba(9, 221, 161,  0.3755823075771332); padding: 1px 5px; border: solid 3px ; border-color: rgba(9, 221, 161,  1); #EFEFEF\">my life</span> <span style=\"background-color: rgba(9, 221, 161,  0.5616570115089417); padding: 1px 5px; border: solid 3px ; border-color: rgba(9, 221, 161,  1); #EFEFEF\">on</span> <span style=\"background-color: rgba(9, 221, 161,  0.4286103844642639); padding: 1px 5px; border: solid 3px ; border-color: rgba(9, 221, 161,  1); #EFEFEF\">this</span> </div>"
      ],
      "text/plain": [
       "<IPython.core.display.HTML object>"
      ]
     },
     "metadata": {},
     "output_type": "display_data"
    },
    {
     "data": {
      "text/html": [
       "<br><br>"
      ],
      "text/plain": [
       "<IPython.core.display.HTML object>"
      ]
     },
     "metadata": {},
     "output_type": "display_data"
    },
    {
     "data": {
      "text/html": [
       "<div style='display: flex; width: 400px; flex-wrap: wrap'><span style=\"background-color: rgba(9, 221, 161,  0.4721106290817261); padding: 1px 5px; border: solid 3px ; border-color: rgba(9, 221, 161,  1); #EFEFEF\">Oh</span> <span style=\"background-color: rgba(9, 221, 161,  0.6826608777046204); padding: 1px 5px; border: solid 3px ; border-color: rgba(9, 221, 161,  1); #EFEFEF\">great</span> <span style=\"background-color: rgba(9, 221, 55,  0.2737833857536316); padding: 1px 5px; border: solid 3px ; border-color: rgba(9, 221, 55,  1); #EFEFEF\">another rom-com</span> <span style=\"background-color: rgba(9, 221, 161,  0.4204782247543335); padding: 1px 5px; border: solid 3px ; border-color: rgba(9, 221, 161,  1); #EFEFEF\">Just</span> <span style=\"background-color: rgba(233,30,99,0);  padding: 1px 5px; border: solid 3px ; border-color:  rgba(233,30,99,0); #EFEFEF\">what</span> <span style=\"background-color: rgba(9, 221, 161,  0.7129051089286804); padding: 1px 5px; border: solid 3px ; border-color: rgba(9, 221, 161,  1); #EFEFEF\">the world</span> <span style=\"background-color: rgba(9, 221, 161,  0.37051936984062195); padding: 1px 5px; border: solid 3px ; border-color: rgba(9, 221, 161,  1); #EFEFEF\">needed</span> </div>"
      ],
      "text/plain": [
       "<IPython.core.display.HTML object>"
      ]
     },
     "metadata": {},
     "output_type": "display_data"
    },
    {
     "data": {
      "text/html": [
       "<br><br>"
      ],
      "text/plain": [
       "<IPython.core.display.HTML object>"
      ]
     },
     "metadata": {},
     "output_type": "display_data"
    },
    {
     "data": {
      "text/html": [
       "<div style='display: flex; width: 400px; flex-wrap: wrap'><span style=\"background-color: rgba(233,30,99,0);  padding: 1px 5px; border: solid 3px ; border-color:  rgba(233,30,99,0); #EFEFEF\">I</span> <span style=\"background-color: rgba(233,30,99,0);  padding: 1px 5px; border: solid 3px ; border-color:  rgba(233,30,99,0); #EFEFEF\">'ve always wanted to watch</span> <span style=\"background-color: rgba(233,30,99,0);  padding: 1px 5px; border: solid 3px ; border-color:  rgba(233,30,99,0); #EFEFEF\">a movie</span> <span style=\"background-color: rgba(233,30,99,0);  padding: 1px 5px; border: solid 3px ; border-color:  rgba(233,30,99,0); #EFEFEF\">with</span> <span style=\"background-color: rgba(233,30,99,0);  padding: 1px 5px; border: solid 3px ; border-color:  rgba(233,30,99,0); #EFEFEF\">endless plot holes</span> <span style=\"background-color: rgba(233,30,99,0);  padding: 1px 5px; border: solid 3px ; border-color:  rgba(233,30,99,0); #EFEFEF\">My dreams</span> <span style=\"background-color: rgba(233,30,99,0);  padding: 1px 5px; border: solid 3px ; border-color:  rgba(233,30,99,0); #EFEFEF\">have come</span> <span style=\"background-color: rgba(233,30,99,0);  padding: 1px 5px; border: solid 3px ; border-color:  rgba(233,30,99,0); #EFEFEF\">true</span> </div>"
      ],
      "text/plain": [
       "<IPython.core.display.HTML object>"
      ]
     },
     "metadata": {},
     "output_type": "display_data"
    },
    {
     "data": {
      "text/html": [
       "<br><br>"
      ],
      "text/plain": [
       "<IPython.core.display.HTML object>"
      ]
     },
     "metadata": {},
     "output_type": "display_data"
    },
    {
     "data": {
      "text/html": [
       "<div style='display: flex; width: 400px; flex-wrap: wrap'><span style=\"background-color: rgba(233,30,99,0);  padding: 1px 5px; border: solid 3px ; border-color:  rgba(233,30,99,0); #EFEFEF\">This movie</span> <span style=\"background-color: rgba(233,30,99,0);  padding: 1px 5px; border: solid 3px ; border-color:  rgba(233,30,99,0); #EFEFEF\">is</span> <span style=\"background-color: rgba(233,30,99,0);  padding: 1px 5px; border: solid 3px ; border-color:  rgba(233,30,99,0); #EFEFEF\">a real game-changer</span> <span style=\"background-color: rgba(9, 221, 161,  0.34189966320991516); padding: 1px 5px; border: solid 3px ; border-color: rgba(9, 221, 161,  1); #EFEFEF\">It</span> <span style=\"background-color: rgba(9, 221, 161,  0.999160647392273); padding: 1px 5px; border: solid 3px ; border-color: rgba(9, 221, 161,  1); #EFEFEF\">changed</span> <span style=\"background-color: rgba(9, 221, 161,  0.62833571434021); padding: 1px 5px; border: solid 3px ; border-color: rgba(9, 221, 161,  1); #EFEFEF\">the game</span> <span style=\"background-color: rgba(9, 221, 161,  0.77948397397995); padding: 1px 5px; border: solid 3px ; border-color: rgba(9, 221, 161,  1); #EFEFEF\">of</span> <span style=\"background-color: rgba(9, 221, 161,  0.9222185611724854); padding: 1px 5px; border: solid 3px ; border-color: rgba(9, 221, 161,  1); #EFEFEF\">wasting</span> <span style=\"background-color: rgba(9, 221, 161,  0.761153519153595); padding: 1px 5px; border: solid 3px ; border-color: rgba(9, 221, 161,  1); #EFEFEF\">my time</span> </div>"
      ],
      "text/plain": [
       "<IPython.core.display.HTML object>"
      ]
     },
     "metadata": {},
     "output_type": "display_data"
    },
    {
     "data": {
      "text/html": [
       "<br><br>"
      ],
      "text/plain": [
       "<IPython.core.display.HTML object>"
      ]
     },
     "metadata": {},
     "output_type": "display_data"
    }
   ],
   "source": [
    "plot_reviews_exp(segments_pos, u_segments_pos, factorization_pos, global_importance_pos,\n",
    "                 segments_neg, u_segments_neg, factorization_neg, global_importance_neg,\n",
    "                 custom_samples=True, samples_to_test=[sarcasm_reviews_text_neg, sarcasm_reviews_text_pos])"
   ]
  },
  {
   "cell_type": "markdown",
   "id": "972d238a-06a0-4cc9-9aa8-d8b5f25285b0",
   "metadata": {
    "jp-MarkdownHeadingCollapsed": true,
    "tags": []
   },
   "source": [
    "#### Dataset"
   ]
  },
  {
   "cell_type": "code",
   "execution_count": 19,
   "id": "1900ae93-6305-4306-94fb-ab6e8e6bffa0",
   "metadata": {
    "tags": []
   },
   "outputs": [],
   "source": [
    "import ast\n",
    "\n",
    "with open(\"data/sarcastic_samples_neg.txt\", \"r\") as file:\n",
    "    content = file.read()\n",
    "    sarcastic_samples_neg = ast.literal_eval(content)\n",
    "\n",
    "with open(\"data/sarcastic_samples_pos.txt\", \"r\") as file:\n",
    "    content = file.read()\n",
    "    sarcastic_samples_pos = ast.literal_eval(content)\n",
    "\n",
    "new_data_np = np.array(sarcastic_samples_neg + sarcastic_samples_pos)"
   ]
  },
  {
   "cell_type": "markdown",
   "id": "5f779015-598e-475e-b1d7-76b70da02ce5",
   "metadata": {
    "jp-MarkdownHeadingCollapsed": true,
    "tags": []
   },
   "source": [
    "#### Dataset Control (excluded)"
   ]
  },
  {
   "cell_type": "code",
   "execution_count": 70,
   "id": "749e6ba3-6cfd-43e5-9338-2a62b05f59d2",
   "metadata": {
    "tags": []
   },
   "outputs": [
    {
     "data": {
      "application/vnd.jupyter.widget-view+json": {
       "model_id": "2a698e3620944ff198ae55713553c70e",
       "version_major": 2,
       "version_minor": 0
      },
      "text/plain": [
       "Downloading (…)okenizer_config.json:   0%|          | 0.00/400 [00:00<?, ?B/s]"
      ]
     },
     "metadata": {},
     "output_type": "display_data"
    },
    {
     "name": "stderr",
     "output_type": "stream",
     "text": [
      "C:\\Users\\onurp\\anaconda3\\envs\\cockatiel\\Lib\\site-packages\\huggingface_hub\\file_download.py:137: UserWarning: `huggingface_hub` cache-system uses symlinks by default to efficiently store duplicated files but your machine does not support them in C:\\Users\\onurp\\.cache\\huggingface\\hub. Caching files will still work but in a degraded version that might require more space on your disk. This warning can be disabled by setting the `HF_HUB_DISABLE_SYMLINKS_WARNING` environment variable. For more details, see https://huggingface.co/docs/huggingface_hub/how-to-cache#limitations.\n",
      "To support symlinks on Windows, you either need to activate Developer Mode or to run Python as an administrator. In order to see activate developer mode, see this article: https://docs.microsoft.com/en-us/windows/apps/get-started/enable-your-device-for-development\n",
      "  warnings.warn(message)\n"
     ]
    },
    {
     "data": {
      "application/vnd.jupyter.widget-view+json": {
       "model_id": "cb1efceee29f440e88d2bee99622555c",
       "version_major": 2,
       "version_minor": 0
      },
      "text/plain": [
       "Downloading (…)solve/main/vocab.txt:   0%|          | 0.00/232k [00:00<?, ?B/s]"
      ]
     },
     "metadata": {},
     "output_type": "display_data"
    },
    {
     "data": {
      "application/vnd.jupyter.widget-view+json": {
       "model_id": "ae422241858b4a579c132a19e7424d02",
       "version_major": 2,
       "version_minor": 0
      },
      "text/plain": [
       "Downloading (…)cial_tokens_map.json:   0%|          | 0.00/125 [00:00<?, ?B/s]"
      ]
     },
     "metadata": {},
     "output_type": "display_data"
    },
    {
     "data": {
      "application/vnd.jupyter.widget-view+json": {
       "model_id": "3c81b30325314964ae40f366be1e2f90",
       "version_major": 2,
       "version_minor": 0
      },
      "text/plain": [
       "Downloading (…)lve/main/config.json:   0%|          | 0.00/727 [00:00<?, ?B/s]"
      ]
     },
     "metadata": {},
     "output_type": "display_data"
    },
    {
     "data": {
      "application/vnd.jupyter.widget-view+json": {
       "model_id": "ccb64b96171447369693b8c953d79e71",
       "version_major": 2,
       "version_minor": 0
      },
      "text/plain": [
       "Downloading pytorch_model.bin:   0%|          | 0.00/438M [00:00<?, ?B/s]"
      ]
     },
     "metadata": {},
     "output_type": "display_data"
    }
   ],
   "source": [
    "# from transformers import AutoModelForSequenceClassification, AutoTokenizer\n",
    "# import string\n",
    "\n",
    "# def preprocess_data(text: str) -> str:\n",
    "#     return text.lower().translate(str.maketrans(\"\", \"\", string.punctuation)).strip()\n",
    "\n",
    "# tokenizer = AutoTokenizer.from_pretrained(\"helinivan/english-sarcasm-detector\")\n",
    "# model = AutoModelForSequenceClassification.from_pretrained(\"helinivan/english-sarcasm-detector\")"
   ]
  },
  {
   "cell_type": "code",
   "execution_count": 82,
   "id": "574f2bb5-abb4-4031-aae5-f5e94e9b2690",
   "metadata": {
    "collapsed": true,
    "jupyter": {
     "outputs_hidden": true
    },
    "tags": []
   },
   "outputs": [
    {
     "name": "stdout",
     "output_type": "stream",
     "text": [
      "Is it sarcastic 0, Confidence: 0.7894307374954224\n",
      "Is it sarcastic 0, Confidence: 0.9768994450569153\n",
      "Is it sarcastic 0, Confidence: 0.8849927186965942\n",
      "Is it sarcastic 0, Confidence: 0.9927780032157898\n",
      "Is it sarcastic 0, Confidence: 0.9407753944396973\n",
      "Is it sarcastic 0, Confidence: 0.7536627650260925\n",
      "Is it sarcastic 0, Confidence: 0.993133544921875\n",
      "Is it sarcastic 0, Confidence: 0.9858521223068237\n",
      "Is it sarcastic 0, Confidence: 0.9944425225257874\n",
      "Is it sarcastic 0, Confidence: 0.8262344598770142\n",
      "Is it sarcastic 0, Confidence: 0.9960529804229736\n",
      "Is it sarcastic 0, Confidence: 0.988563060760498\n",
      "Is it sarcastic 0, Confidence: 0.9825398921966553\n",
      "Is it sarcastic 0, Confidence: 0.9499245285987854\n",
      "Is it sarcastic 0, Confidence: 0.99533611536026\n",
      "Is it sarcastic 0, Confidence: 0.9950424432754517\n",
      "Is it sarcastic 0, Confidence: 0.9919399619102478\n",
      "Is it sarcastic 0, Confidence: 0.9935635328292847\n",
      "Is it sarcastic 0, Confidence: 0.9713146090507507\n",
      "Is it sarcastic 0, Confidence: 0.9960530996322632\n",
      "Is it sarcastic 0, Confidence: 0.9871127009391785\n",
      "Is it sarcastic 0, Confidence: 0.9912478923797607\n",
      "Is it sarcastic 0, Confidence: 0.9893844723701477\n",
      "Is it sarcastic 0, Confidence: 0.9908857345581055\n",
      "Is it sarcastic 0, Confidence: 0.9921606183052063\n",
      "Is it sarcastic 0, Confidence: 0.9947925209999084\n",
      "Is it sarcastic 0, Confidence: 0.9805700182914734\n",
      "Is it sarcastic 0, Confidence: 0.9333847761154175\n",
      "Is it sarcastic 0, Confidence: 0.9928079843521118\n",
      "Is it sarcastic 0, Confidence: 0.9908943176269531\n",
      "Is it sarcastic 0, Confidence: 0.9950289130210876\n",
      "Is it sarcastic 0, Confidence: 0.9919173121452332\n",
      "Is it sarcastic 0, Confidence: 0.9789471626281738\n",
      "Is it sarcastic 0, Confidence: 0.9935762286186218\n",
      "Is it sarcastic 0, Confidence: 0.9817442297935486\n",
      "Is it sarcastic 0, Confidence: 0.9905063509941101\n",
      "Is it sarcastic 0, Confidence: 0.99588543176651\n",
      "Is it sarcastic 0, Confidence: 0.9954582452774048\n",
      "Is it sarcastic 0, Confidence: 0.8596563935279846\n",
      "Is it sarcastic 0, Confidence: 0.9900586009025574\n",
      "Is it sarcastic 0, Confidence: 0.9073140025138855\n",
      "Is it sarcastic 0, Confidence: 0.9482462406158447\n",
      "Is it sarcastic 0, Confidence: 0.6461066603660583\n",
      "Is it sarcastic 0, Confidence: 0.9445118308067322\n",
      "Is it sarcastic 0, Confidence: 0.7666977047920227\n",
      "Is it sarcastic 0, Confidence: 0.986343502998352\n",
      "Is it sarcastic 1, Confidence: 0.7043170928955078\n",
      "Is it sarcastic 0, Confidence: 0.8849042057991028\n",
      "Is it sarcastic 1, Confidence: 0.5197905898094177\n",
      "Is it sarcastic 0, Confidence: 0.7576889991760254\n",
      "Is it sarcastic 0, Confidence: 0.5080985426902771\n",
      "Is it sarcastic 0, Confidence: 0.9909080266952515\n",
      "Is it sarcastic 0, Confidence: 0.8598822355270386\n",
      "Is it sarcastic 0, Confidence: 0.9733874201774597\n",
      "Is it sarcastic 1, Confidence: 0.5430458188056946\n",
      "Is it sarcastic 1, Confidence: 0.5067456364631653\n",
      "Is it sarcastic 0, Confidence: 0.6745243668556213\n",
      "Is it sarcastic 0, Confidence: 0.7036610245704651\n",
      "Is it sarcastic 0, Confidence: 0.6304394006729126\n",
      "Is it sarcastic 0, Confidence: 0.837085485458374\n",
      "Is it sarcastic 0, Confidence: 0.9245682954788208\n",
      "Is it sarcastic 0, Confidence: 0.9685803651809692\n",
      "Is it sarcastic 0, Confidence: 0.9922000765800476\n",
      "Is it sarcastic 0, Confidence: 0.9450436234474182\n",
      "Is it sarcastic 0, Confidence: 0.9855247139930725\n",
      "Is it sarcastic 0, Confidence: 0.978821873664856\n",
      "Is it sarcastic 0, Confidence: 0.9799391031265259\n",
      "Is it sarcastic 0, Confidence: 0.98813396692276\n",
      "Is it sarcastic 0, Confidence: 0.9414555430412292\n",
      "Is it sarcastic 0, Confidence: 0.9953558444976807\n",
      "Is it sarcastic 0, Confidence: 0.8733803629875183\n",
      "Is it sarcastic 0, Confidence: 0.9938608407974243\n",
      "Is it sarcastic 0, Confidence: 0.983361542224884\n",
      "Is it sarcastic 0, Confidence: 0.9803480505943298\n",
      "Is it sarcastic 0, Confidence: 0.9944702386856079\n",
      "Is it sarcastic 0, Confidence: 0.9940391778945923\n",
      "Is it sarcastic 0, Confidence: 0.9914831519126892\n",
      "Is it sarcastic 0, Confidence: 0.9933171272277832\n",
      "Is it sarcastic 0, Confidence: 0.9830622673034668\n",
      "Is it sarcastic 0, Confidence: 0.9960916638374329\n",
      "Is it sarcastic 0, Confidence: 0.983335018157959\n",
      "Is it sarcastic 0, Confidence: 0.9931095838546753\n",
      "Is it sarcastic 0, Confidence: 0.9876052141189575\n",
      "Is it sarcastic 0, Confidence: 0.9916700124740601\n",
      "Is it sarcastic 0, Confidence: 0.9880173206329346\n",
      "Is it sarcastic 0, Confidence: 0.9949277639389038\n",
      "Is it sarcastic 0, Confidence: 0.9628873467445374\n",
      "Is it sarcastic 0, Confidence: 0.9229528903961182\n",
      "Is it sarcastic 0, Confidence: 0.9934490323066711\n",
      "Is it sarcastic 0, Confidence: 0.9838385581970215\n",
      "Is it sarcastic 0, Confidence: 0.9959945678710938\n",
      "Is it sarcastic 0, Confidence: 0.9894698858261108\n",
      "Is it sarcastic 0, Confidence: 0.9700068831443787\n",
      "Is it sarcastic 0, Confidence: 0.992642343044281\n",
      "Is it sarcastic 0, Confidence: 0.9858507513999939\n",
      "Is it sarcastic 0, Confidence: 0.9877591729164124\n",
      "Is it sarcastic 0, Confidence: 0.9947774410247803\n",
      "Is it sarcastic 0, Confidence: 0.995543897151947\n",
      "Is it sarcastic 0, Confidence: 0.8290159702301025\n",
      "Is it sarcastic 0, Confidence: 0.9888596534729004\n",
      "Is it sarcastic 0, Confidence: 0.9820098280906677\n",
      "Is it sarcastic 0, Confidence: 0.7942556142807007\n",
      "Is it sarcastic 0, Confidence: 0.9514062404632568\n",
      "Is it sarcastic 0, Confidence: 0.8897610902786255\n",
      "Is it sarcastic 0, Confidence: 0.9887027740478516\n",
      "Is it sarcastic 1, Confidence: 0.5327762365341187\n",
      "Is it sarcastic 0, Confidence: 0.9484598636627197\n",
      "Is it sarcastic 1, Confidence: 0.6856871843338013\n",
      "Is it sarcastic 0, Confidence: 0.9378963708877563\n",
      "Is it sarcastic 1, Confidence: 0.5577535629272461\n",
      "Is it sarcastic 0, Confidence: 0.9440584778785706\n",
      "Is it sarcastic 1, Confidence: 0.5827739834785461\n",
      "Is it sarcastic 0, Confidence: 0.9446668028831482\n",
      "Is it sarcastic 0, Confidence: 0.9918295741081238\n",
      "Is it sarcastic 0, Confidence: 0.9519305229187012\n",
      "Is it sarcastic 1, Confidence: 0.5032348036766052\n",
      "Is it sarcastic 0, Confidence: 0.582430899143219\n",
      "Is it sarcastic 0, Confidence: 0.9851067066192627\n",
      "Is it sarcastic 0, Confidence: 0.6958474516868591\n",
      "Is it sarcastic 0, Confidence: 0.8845799565315247\n"
     ]
    }
   ],
   "source": [
    "# sarcastic_samples = sarcastic_samples_neg + sarcastic_samples_pos\n",
    "\n",
    "# for review in sarcastic_samples:\n",
    "    \n",
    "#     text = review[0]\n",
    "\n",
    "#     tokenized_text = tokenizer([preprocess_data(text)], padding=True, truncation=True, max_length=256, return_tensors=\"pt\")\n",
    "#     output = model(**tokenized_text)\n",
    "\n",
    "#     probs = output.logits.softmax(dim=-1).tolist()[0]\n",
    "#     confidence = max(probs)\n",
    "\n",
    "#     prediction = probs.index(confidence)\n",
    "#     print(f\"Is it sarcastic {prediction}, Confidence: {confidence}\")"
   ]
  },
  {
   "cell_type": "markdown",
   "id": "d5808906-9b16-45ab-941c-7929825f8d0f",
   "metadata": {
    "tags": []
   },
   "source": [
    "#### Train COCKATIEL for Sarcasm"
   ]
  },
  {
   "cell_type": "code",
   "execution_count": null,
   "id": "d8edff7c-52ce-4c2a-a34f-e575e02185cc",
   "metadata": {},
   "outputs": [],
   "source": [
    "# # Veri kümesindeki ilk 20K'yı tahminletip kaydediyor\n",
    "\n",
    "# import pickle\n",
    "\n",
    "# positive_reviews = []\n",
    "# negative_reviews = []\n",
    "\n",
    "# data_cockatiel = np.concatenate((data_np[:n_reviews], new_data_np))\n",
    "\n",
    "# with torch.no_grad():\n",
    "#     for input_batch in batcher(data_cockatiel, batch_size=batch_size):\n",
    "        \n",
    "#         r = np.array(list(map(lambda z: z[0], input_batch)))\n",
    "\n",
    "#         tokenized_batch = tokenize(r, tokenizer, device)\n",
    "        \n",
    "#         preds = model(**tokenized_batch)\n",
    "        \n",
    "#         positive_reviews.extend(list(input_batch[np.where(np.argmax(preds.cpu().numpy(), axis=1) == 1)[0]]))\n",
    "#         negative_reviews.extend(list(input_batch[np.where(np.argmax(preds.cpu().numpy(), axis=1) == 0)[0]]))\n",
    "\n",
    "# raw_dataset_pos = list(map(lambda z: z[0], positive_reviews))\n",
    "# raw_dataset_neg = list(map(lambda z: z[0], negative_reviews))\n",
    "\n",
    "# pickle.dump(raw_dataset_pos, open(parent_path + \"raw_dataset_pos.pkl\", \"wb\"))\n",
    "# pickle.dump(raw_dataset_neg, open(parent_path + \"raw_dataset_neg.pkl\", \"wb\"))"
   ]
  },
  {
   "cell_type": "code",
   "execution_count": null,
   "id": "303ef1af-0720-4d8b-aa4a-b3db354031a2",
   "metadata": {
    "tags": []
   },
   "outputs": [
    {
     "name": "stdout",
     "output_type": "stream",
     "text": [
      "108322  positives excerpts created.\n",
      "111440  negatives excerpts created.\n"
     ]
    }
   ],
   "source": [
    "# # Veriden excerpt'leri çıkarıyor\n",
    "  \n",
    "# excerpt_dataset_pos = extract_excerpts(raw_dataset_pos, n_reviews_for_excerpts)\n",
    "# excerpt_dataset_neg = extract_excerpts(raw_dataset_neg, n_reviews_for_excerpts)\n",
    "\n",
    "# print(len(excerpt_dataset_pos), ' positives excerpts created.')\n",
    "# print(len(excerpt_dataset_neg), ' negatives excerpts created.')\n",
    "\n",
    "# pickle.dump(excerpt_dataset_pos, open(parent_path + \"excerpt_dataset_pos.pkl\", \"wb\"))\n",
    "# pickle.dump(excerpt_dataset_neg, open(parent_path + \"excerpt_dataset_neg.pkl\", \"wb\"))\n",
    "\n",
    "\n",
    "\n",
    "# # Train COCKATIEL\n",
    "\n",
    "# with torch.no_grad():\n",
    "    \n",
    "#     cockatiel_explainer_pos = COCKATIEL(model, tokenizer, components=n_concepts, \n",
    "#                                         batch_size=batch_size_cockatiel, device=device)\n",
    "    \n",
    "#     segments_pos, u_segments_pos, factorization_pos, global_importance_pos = cockatiel_explainer_pos.extract_concepts(excerpt_dataset_pos[:n_excerpts], \n",
    "#                                                                                                                       raw_dataset_pos[:(n_excerpts//10)], \n",
    "#                                                                                                                       positive_class, \n",
    "#                                                                                                                       limit_sobol=1_000)\n",
    "    \n",
    "# pickle.dump(segments_pos, open(parent_path + \"segments_pos.pkl\", \"wb\"))\n",
    "# pickle.dump(u_segments_pos, open(parent_path + \"u_segments_pos.pkl\", \"wb\"))\n",
    "# pickle.dump(factorization_pos, open(parent_path + \"factorization_pos.pkl\", \"wb\"))\n",
    "# pickle.dump(global_importance_pos, open(parent_path + \"global_importance_pos.pkl\", \"wb\"))\n",
    "\n",
    "# with torch.no_grad():\n",
    "    \n",
    "#     cockatiel_explainer_neg = COCKATIEL(model, tokenizer, components=n_concepts, \n",
    "#                                         batch_size=batch_size_cockatiel, device=device)\n",
    "    \n",
    "#     segments_neg, u_segments_neg, factorization_neg, global_importance_neg = cockatiel_explainer_neg.extract_concepts(excerpt_dataset_neg[:n_excerpts], \n",
    "#                                                                                                                       raw_dataset_neg[:(n_excerpts//10)], \n",
    "#                                                                                                                       negative_class, \n",
    "#                                                                                                                       limit_sobol=1_000)\n",
    "    \n",
    "# pickle.dump(segments_neg, open(parent_path + \"segments_neg.pkl\", \"wb\"))\n",
    "# pickle.dump(u_segments_neg, open(parent_path + \"u_segments_neg.pkl\", \"wb\"))\n",
    "# pickle.dump(factorization_neg, open(parent_path + \"factorization_neg.pkl\", \"wb\"))\n",
    "# pickle.dump(global_importance_neg, open(parent_path + \"global_importance_neg.pkl\", \"wb\"))"
   ]
  },
  {
   "cell_type": "code",
   "execution_count": 21,
   "id": "f0f6a745-c683-4d0d-87af-947f156c86db",
   "metadata": {},
   "outputs": [],
   "source": [
    "import pickle\n",
    "\n",
    "# Load raw dataset and excerpts\n",
    "\n",
    "raw_dataset_pos = pickle.load(open(parent_path + \"raw_dataset_pos.pkl\", \"rb\"))\n",
    "raw_dataset_neg = pickle.load(open(parent_path + \"raw_dataset_neg.pkl\", \"rb\"))\n",
    "excerpt_dataset_pos = pickle.load(open(parent_path + \"excerpt_dataset_pos.pkl\", \"rb\"))\n",
    "excerpt_dataset_neg = pickle.load(open(parent_path + \"excerpt_dataset_neg.pkl\", \"rb\"))\n",
    "\n",
    "# Load sentences and global importances for positive class\n",
    "\n",
    "segments_pos = pickle.load(open(parent_path + \"segments_pos.pkl\",'rb'))\n",
    "u_segments_pos = pickle.load(open(parent_path + \"u_segments_pos.pkl\",'rb'))\n",
    "factorization_pos = pickle.load(open(parent_path + \"factorization_pos.pkl\",'rb'))\n",
    "global_importance_pos = pickle.load(open(parent_path + \"global_importance_pos.pkl\",'rb'))\n",
    "\n",
    "# Load sentences and global importances for negative class\n",
    "\n",
    "segments_neg = pickle.load(open(parent_path + \"segments_neg.pkl\",'rb'))\n",
    "u_segments_neg = pickle.load(open(parent_path + \"u_segments_neg.pkl\",'rb'))\n",
    "factorization_neg = pickle.load(open(parent_path + \"factorization_neg.pkl\",'rb'))\n",
    "global_importance_neg = pickle.load(open(parent_path + \"global_importance_neg.pkl\",'rb'))"
   ]
  },
  {
   "cell_type": "code",
   "execution_count": 22,
   "id": "26f34da7-3f14-4fc1-b2eb-2f4a52914fee",
   "metadata": {},
   "outputs": [
    {
     "data": {
      "image/png": "[encoded data removed]",
      "text/plain": [
       "<Figure size 2200x500 with 2 Axes>"
      ]
     },
     "metadata": {},
     "output_type": "display_data"
    }
   ],
   "source": [
    "plot_glob_importances(global_importance_pos, global_importance_neg)"
   ]
  },
  {
   "cell_type": "code",
   "execution_count": 25,
   "id": "aa9d265c-7b78-4a51-8462-f4e2db974c7b",
   "metadata": {},
   "outputs": [
    {
     "data": {
      "text/html": [
       "<div style='display: flex; width: 400px; flex-wrap: wrap'><span style=\"background-color: rgba(9, 221, 55,  0.5); padding: 1px 5px; border: solid 3px ; border-color: rgba(9, 221, 55,  1); #EFEFEF\">Positive label: concept1 </span> <span style=\"background-color: rgba(9, 221, 161,  0.5); padding: 1px 5px; border: solid 3px ; border-color: rgba(9, 221, 161,  1); #EFEFEF\">Positive label: concept2 </span> <span style=\"background-color: rgba(221, 9, 34,  0.5); padding: 1px 5px; border: solid 3px ; border-color: rgba(221, 9, 34,  1); #EFEFEF\">Negative label: concept1 </span> <span style=\"background-color: rgba(221, 9, 140, 0.5); padding: 1px 5px; border: solid 3px ; border-color: rgba(221, 9, 140, 1); #EFEFEF\">Negative label: concept2 </span> <span style=\"background-color: rgba(221, 90, 9,  0.5); padding: 1px 5px; border: solid 3px ; border-color: rgba(221, 90, 9,  1); #EFEFEF\">Negative label: concept3 </span> </div>"
      ],
      "text/plain": [
       "<IPython.core.display.HTML object>"
      ]
     },
     "metadata": {},
     "output_type": "display_data"
    },
    {
     "data": {
      "text/html": [
       "<br><br>"
      ],
      "text/plain": [
       "<IPython.core.display.HTML object>"
      ]
     },
     "metadata": {},
     "output_type": "display_data"
    },
    {
     "data": {
      "text/html": [
       "<div style='display: flex; width: 400px; flex-wrap: wrap'><span style=\"background-color: rgba(233,30,99,0);  padding: 1px 5px; border: solid 3px ; border-color:  rgba(233,30,99,0); #EFEFEF\">Bravo</span> <span style=\"background-color: rgba(233,30,99,0);  padding: 1px 5px; border: solid 3px ; border-color:  rgba(233,30,99,0); #EFEFEF\">the director</span> <span style=\"background-color: rgba(233,30,99,0);  padding: 1px 5px; border: solid 3px ; border-color:  rgba(233,30,99,0); #EFEFEF\">is</span> <span style=\"background-color: rgba(233,30,99,0);  padding: 1px 5px; border: solid 3px ; border-color:  rgba(233,30,99,0); #EFEFEF\">a true genius</span> <span style=\"background-color: rgba(233,30,99,0);  padding: 1px 5px; border: solid 3px ; border-color:  rgba(233,30,99,0); #EFEFEF\">I</span> <span style=\"background-color: rgba(233,30,99,0);  padding: 1px 5px; border: solid 3px ; border-color:  rgba(233,30,99,0); #EFEFEF\">couldn't understand</span> <span style=\"background-color: rgba(233,30,99,0);  padding: 1px 5px; border: solid 3px ; border-color:  rgba(233,30,99,0); #EFEFEF\">a thing</span> <span style=\"background-color: rgba(233,30,99,0);  padding: 1px 5px; border: solid 3px ; border-color:  rgba(233,30,99,0); #EFEFEF\">in</span> <span style=\"background-color: rgba(233,30,99,0);  padding: 1px 5px; border: solid 3px ; border-color:  rgba(233,30,99,0); #EFEFEF\">the movie</span> </div>"
      ],
      "text/plain": [
       "<IPython.core.display.HTML object>"
      ]
     },
     "metadata": {},
     "output_type": "display_data"
    },
    {
     "data": {
      "text/html": [
       "<br><br>"
      ],
      "text/plain": [
       "<IPython.core.display.HTML object>"
      ]
     },
     "metadata": {},
     "output_type": "display_data"
    },
    {
     "data": {
      "text/html": [
       "<div style='display: flex; width: 400px; flex-wrap: wrap'><span style=\"background-color: rgba(233,30,99,0);  padding: 1px 5px; border: solid 3px ; border-color:  rgba(233,30,99,0); #EFEFEF\">This movie</span> <span style=\"background-color: rgba(233,30,99,0);  padding: 1px 5px; border: solid 3px ; border-color:  rgba(233,30,99,0); #EFEFEF\">is</span> <span style=\"background-color: rgba(221, 9, 140, 0.31574124097824097); padding: 1px 5px; border: solid 3px ; border-color: rgba(221, 9, 140, 1); #EFEFEF\">so bad</span> <span style=\"background-color: rgba(233,30,99,0);  padding: 1px 5px; border: solid 3px ; border-color:  rgba(233,30,99,0); #EFEFEF\">it</span> <span style=\"background-color: rgba(233,30,99,0);  padding: 1px 5px; border: solid 3px ; border-color:  rgba(233,30,99,0); #EFEFEF\">'s</span> <span style=\"background-color: rgba(221, 9, 140, 0.27783724665641785); padding: 1px 5px; border: solid 3px ; border-color: rgba(221, 9, 140, 1); #EFEFEF\">almost good</span> <span style=\"background-color: rgba(233,30,99,0);  padding: 1px 5px; border: solid 3px ; border-color:  rgba(233,30,99,0); #EFEFEF\">Almost</span> </div>"
      ],
      "text/plain": [
       "<IPython.core.display.HTML object>"
      ]
     },
     "metadata": {},
     "output_type": "display_data"
    },
    {
     "data": {
      "text/html": [
       "<br><br>"
      ],
      "text/plain": [
       "<IPython.core.display.HTML object>"
      ]
     },
     "metadata": {},
     "output_type": "display_data"
    },
    {
     "data": {
      "text/html": [
       "<div style='display: flex; width: 400px; flex-wrap: wrap'><span style=\"background-color: rgba(233,30,99,0);  padding: 1px 5px; border: solid 3px ; border-color:  rgba(233,30,99,0); #EFEFEF\">Oscar-worthy performance</span> <span style=\"background-color: rgba(233,30,99,0);  padding: 1px 5px; border: solid 3px ; border-color:  rgba(233,30,99,0); #EFEFEF\">by</span> <span style=\"background-color: rgba(233,30,99,0);  padding: 1px 5px; border: solid 3px ; border-color:  rgba(233,30,99,0); #EFEFEF\">the lead actor</span> <span style=\"background-color: rgba(233,30,99,0);  padding: 1px 5px; border: solid 3px ; border-color:  rgba(233,30,99,0); #EFEFEF\">if</span> <span style=\"background-color: rgba(233,30,99,0);  padding: 1px 5px; border: solid 3px ; border-color:  rgba(233,30,99,0); #EFEFEF\">the Oscars</span> <span style=\"background-color: rgba(233,30,99,0);  padding: 1px 5px; border: solid 3px ; border-color:  rgba(233,30,99,0); #EFEFEF\">had</span> <span style=\"background-color: rgba(233,30,99,0);  padding: 1px 5px; border: solid 3px ; border-color:  rgba(233,30,99,0); #EFEFEF\">a category</span> <span style=\"background-color: rgba(233,30,99,0);  padding: 1px 5px; border: solid 3px ; border-color:  rgba(233,30,99,0); #EFEFEF\">for</span> <span style=\"background-color: rgba(233,30,99,0);  padding: 1px 5px; border: solid 3px ; border-color:  rgba(233,30,99,0); #EFEFEF\">overacting</span> </div>"
      ],
      "text/plain": [
       "<IPython.core.display.HTML object>"
      ]
     },
     "metadata": {},
     "output_type": "display_data"
    },
    {
     "data": {
      "text/html": [
       "<br><br>"
      ],
      "text/plain": [
       "<IPython.core.display.HTML object>"
      ]
     },
     "metadata": {},
     "output_type": "display_data"
    },
    {
     "data": {
      "text/html": [
       "<div style='display: flex; width: 400px; flex-wrap: wrap'><span style=\"background-color: rgba(233,30,99,0);  padding: 1px 5px; border: solid 3px ; border-color:  rgba(233,30,99,0); #EFEFEF\">I</span> <span style=\"background-color: rgba(233,30,99,0);  padding: 1px 5px; border: solid 3px ; border-color:  rgba(233,30,99,0); #EFEFEF\">'m</span> <span style=\"background-color: rgba(233,30,99,0);  padding: 1px 5px; border: solid 3px ; border-color:  rgba(233,30,99,0); #EFEFEF\">speechless</span> <span style=\"background-color: rgba(233,30,99,0);  padding: 1px 5px; border: solid 3px ; border-color:  rgba(233,30,99,0); #EFEFEF\">Literally</span> <span style=\"background-color: rgba(233,30,99,0);  padding: 1px 5px; border: solid 3px ; border-color:  rgba(233,30,99,0); #EFEFEF\">I</span> <span style=\"background-color: rgba(233,30,99,0);  padding: 1px 5px; border: solid 3px ; border-color:  rgba(233,30,99,0); #EFEFEF\">lost</span> <span style=\"background-color: rgba(233,30,99,0);  padding: 1px 5px; border: solid 3px ; border-color:  rgba(233,30,99,0); #EFEFEF\">the ability</span> <span style=\"background-color: rgba(9, 221, 161,  0.6901350021362305); padding: 1px 5px; border: solid 3px ; border-color: rgba(9, 221, 161,  1); #EFEFEF\">to speak</span> <span style=\"background-color: rgba(9, 221, 161,  0.4455166161060333); padding: 1px 5px; border: solid 3px ; border-color: rgba(9, 221, 161,  1); #EFEFEF\">during</span> <span style=\"background-color: rgba(9, 221, 161,  0.9998367428779602); padding: 1px 5px; border: solid 3px ; border-color: rgba(9, 221, 161,  1); #EFEFEF\">this cinematic marvel</span> </div>"
      ],
      "text/plain": [
       "<IPython.core.display.HTML object>"
      ]
     },
     "metadata": {},
     "output_type": "display_data"
    },
    {
     "data": {
      "text/html": [
       "<br><br>"
      ],
      "text/plain": [
       "<IPython.core.display.HTML object>"
      ]
     },
     "metadata": {},
     "output_type": "display_data"
    },
    {
     "data": {
      "text/html": [
       "<div style='display: flex; width: 400px; flex-wrap: wrap'><span style=\"background-color: rgba(9, 221, 161,  0.5664092898368835); padding: 1px 5px; border: solid 3px ; border-color: rgba(9, 221, 161,  1); #EFEFEF\">Wow</span> <span style=\"background-color: rgba(9, 221, 161,  0.5664092898368835); padding: 1px 5px; border: solid 3px ; border-color: rgba(9, 221, 161,  1); #EFEFEF\">what</span> <span style=\"background-color: rgba(9, 221, 161,  0.5664092898368835); padding: 1px 5px; border: solid 3px ; border-color: rgba(9, 221, 161,  1); #EFEFEF\">a masterpiece</span> <span style=\"background-color: rgba(9, 221, 161,  0.5664092898368835); padding: 1px 5px; border: solid 3px ; border-color: rgba(9, 221, 161,  1); #EFEFEF\">I</span> <span style=\"background-color: rgba(9, 221, 161,  0.5664092898368835); padding: 1px 5px; border: solid 3px ; border-color: rgba(9, 221, 161,  1); #EFEFEF\">can't believe</span> <span style=\"background-color: rgba(9, 221, 161,  0.5664092898368835); padding: 1px 5px; border: solid 3px ; border-color: rgba(9, 221, 161,  1); #EFEFEF\">I</span> <span style=\"background-color: rgba(233,30,99,0);  padding: 1px 5px; border: solid 3px ; border-color:  rgba(233,30,99,0); #EFEFEF\">wasted</span> <span style=\"background-color: rgba(233,30,99,0);  padding: 1px 5px; border: solid 3px ; border-color:  rgba(233,30,99,0); #EFEFEF\">two hours</span> <span style=\"background-color: rgba(9, 221, 161,  0.48786360025405884); padding: 1px 5px; border: solid 3px ; border-color: rgba(9, 221, 161,  1); #EFEFEF\">of</span> <span style=\"background-color: rgba(9, 221, 161,  0.3826141953468323); padding: 1px 5px; border: solid 3px ; border-color: rgba(9, 221, 161,  1); #EFEFEF\">my life</span> <span style=\"background-color: rgba(9, 221, 161,  0.5664092898368835); padding: 1px 5px; border: solid 3px ; border-color: rgba(9, 221, 161,  1); #EFEFEF\">on</span> <span style=\"background-color: rgba(9, 221, 161,  0.4303193688392639); padding: 1px 5px; border: solid 3px ; border-color: rgba(9, 221, 161,  1); #EFEFEF\">this</span> </div>"
      ],
      "text/plain": [
       "<IPython.core.display.HTML object>"
      ]
     },
     "metadata": {},
     "output_type": "display_data"
    },
    {
     "data": {
      "text/html": [
       "<br><br>"
      ],
      "text/plain": [
       "<IPython.core.display.HTML object>"
      ]
     },
     "metadata": {},
     "output_type": "display_data"
    },
    {
     "data": {
      "text/html": [
       "<div style='display: flex; width: 400px; flex-wrap: wrap'><span style=\"background-color: rgba(9, 221, 161,  0.45631951093673706); padding: 1px 5px; border: solid 3px ; border-color: rgba(9, 221, 161,  1); #EFEFEF\">Oh</span> <span style=\"background-color: rgba(9, 221, 161,  0.6730335354804993); padding: 1px 5px; border: solid 3px ; border-color: rgba(9, 221, 161,  1); #EFEFEF\">great</span> <span style=\"background-color: rgba(9, 221, 55,  0.2784423530101776); padding: 1px 5px; border: solid 3px ; border-color: rgba(9, 221, 55,  1); #EFEFEF\">another rom-com</span> <span style=\"background-color: rgba(9, 221, 161,  0.41354358196258545); padding: 1px 5px; border: solid 3px ; border-color: rgba(9, 221, 161,  1); #EFEFEF\">Just</span> <span style=\"background-color: rgba(233,30,99,0);  padding: 1px 5px; border: solid 3px ; border-color:  rgba(233,30,99,0); #EFEFEF\">what</span> <span style=\"background-color: rgba(9, 221, 161,  0.7095068097114563); padding: 1px 5px; border: solid 3px ; border-color: rgba(9, 221, 161,  1); #EFEFEF\">the world</span> <span style=\"background-color: rgba(9, 221, 161,  0.37368297576904297); padding: 1px 5px; border: solid 3px ; border-color: rgba(9, 221, 161,  1); #EFEFEF\">needed</span> </div>"
      ],
      "text/plain": [
       "<IPython.core.display.HTML object>"
      ]
     },
     "metadata": {},
     "output_type": "display_data"
    },
    {
     "data": {
      "text/html": [
       "<br><br>"
      ],
      "text/plain": [
       "<IPython.core.display.HTML object>"
      ]
     },
     "metadata": {},
     "output_type": "display_data"
    },
    {
     "data": {
      "text/html": [
       "<div style='display: flex; width: 400px; flex-wrap: wrap'><span style=\"background-color: rgba(233,30,99,0);  padding: 1px 5px; border: solid 3px ; border-color:  rgba(233,30,99,0); #EFEFEF\">I</span> <span style=\"background-color: rgba(233,30,99,0);  padding: 1px 5px; border: solid 3px ; border-color:  rgba(233,30,99,0); #EFEFEF\">'ve always wanted to watch</span> <span style=\"background-color: rgba(233,30,99,0);  padding: 1px 5px; border: solid 3px ; border-color:  rgba(233,30,99,0); #EFEFEF\">a movie</span> <span style=\"background-color: rgba(233,30,99,0);  padding: 1px 5px; border: solid 3px ; border-color:  rgba(233,30,99,0); #EFEFEF\">with</span> <span style=\"background-color: rgba(233,30,99,0);  padding: 1px 5px; border: solid 3px ; border-color:  rgba(233,30,99,0); #EFEFEF\">endless plot holes</span> <span style=\"background-color: rgba(233,30,99,0);  padding: 1px 5px; border: solid 3px ; border-color:  rgba(233,30,99,0); #EFEFEF\">My dreams</span> <span style=\"background-color: rgba(233,30,99,0);  padding: 1px 5px; border: solid 3px ; border-color:  rgba(233,30,99,0); #EFEFEF\">have come</span> <span style=\"background-color: rgba(233,30,99,0);  padding: 1px 5px; border: solid 3px ; border-color:  rgba(233,30,99,0); #EFEFEF\">true</span> </div>"
      ],
      "text/plain": [
       "<IPython.core.display.HTML object>"
      ]
     },
     "metadata": {},
     "output_type": "display_data"
    },
    {
     "data": {
      "text/html": [
       "<br><br>"
      ],
      "text/plain": [
       "<IPython.core.display.HTML object>"
      ]
     },
     "metadata": {},
     "output_type": "display_data"
    },
    {
     "data": {
      "text/html": [
       "<div style='display: flex; width: 400px; flex-wrap: wrap'><span style=\"background-color: rgba(233,30,99,0);  padding: 1px 5px; border: solid 3px ; border-color:  rgba(233,30,99,0); #EFEFEF\">This movie</span> <span style=\"background-color: rgba(233,30,99,0);  padding: 1px 5px; border: solid 3px ; border-color:  rgba(233,30,99,0); #EFEFEF\">is</span> <span style=\"background-color: rgba(233,30,99,0);  padding: 1px 5px; border: solid 3px ; border-color:  rgba(233,30,99,0); #EFEFEF\">a real game-changer</span> <span style=\"background-color: rgba(9, 221, 161,  0.34531715512275696); padding: 1px 5px; border: solid 3px ; border-color: rgba(9, 221, 161,  1); #EFEFEF\">It</span> <span style=\"background-color: rgba(9, 221, 161,  0.9991505742073059); padding: 1px 5px; border: solid 3px ; border-color: rgba(9, 221, 161,  1); #EFEFEF\">changed</span> <span style=\"background-color: rgba(9, 221, 161,  0.6314836144447327); padding: 1px 5px; border: solid 3px ; border-color: rgba(9, 221, 161,  1); #EFEFEF\">the game</span> <span style=\"background-color: rgba(9, 221, 161,  0.7937830686569214); padding: 1px 5px; border: solid 3px ; border-color: rgba(9, 221, 161,  1); #EFEFEF\">of</span> <span style=\"background-color: rgba(9, 221, 161,  0.940321683883667); padding: 1px 5px; border: solid 3px ; border-color: rgba(9, 221, 161,  1); #EFEFEF\">wasting</span> <span style=\"background-color: rgba(9, 221, 161,  0.7591264247894287); padding: 1px 5px; border: solid 3px ; border-color: rgba(9, 221, 161,  1); #EFEFEF\">my time</span> </div>"
      ],
      "text/plain": [
       "<IPython.core.display.HTML object>"
      ]
     },
     "metadata": {},
     "output_type": "display_data"
    },
    {
     "data": {
      "text/html": [
       "<br><br>"
      ],
      "text/plain": [
       "<IPython.core.display.HTML object>"
      ]
     },
     "metadata": {},
     "output_type": "display_data"
    }
   ],
   "source": [
    "plot_reviews_exp(segments_pos, u_segments_pos, factorization_pos, global_importance_pos,\n",
    "                 segments_neg, u_segments_neg, factorization_neg, global_importance_neg,\n",
    "                 custom_samples=True, samples_to_test=[sarcasm_reviews_text_neg, sarcasm_reviews_text_pos])"
   ]
  },
  {
   "cell_type": "markdown",
   "id": "c13c0843-7233-44b0-a8c2-2c87506f54e3",
   "metadata": {
    "jp-MarkdownHeadingCollapsed": true,
    "tags": []
   },
   "source": [
    "# Workshop Area and Archive"
   ]
  },
  {
   "cell_type": "markdown",
   "id": "9d2f554b-b1a9-41f4-9115-82ae8ea1847d",
   "metadata": {
    "tags": []
   },
   "source": [
    "### AlBERT"
   ]
  },
  {
   "cell_type": "code",
   "execution_count": null,
   "id": "d0fd386c-f7da-4a45-957f-9de359927eb4",
   "metadata": {
    "tags": []
   },
   "outputs": [],
   "source": [
    "# Load the model and its tokenizer\n",
    "\n",
    "from transformers import AlbertTokenizerFast\n",
    "from cockatiel import CustomAlbertForSequenceClassification, batch_predict, batcher, tokenize\n",
    "\n",
    "tokenizer = AlbertTokenizerFast.from_pretrained(\"Ibrahim-Alam/finetuning-albert-base-v2-on-imdb\")\n",
    "model = CustomAlbertForSequenceClassification.from_pretrained(\"Ibrahim-Alam/finetuning-albert-base-v2-on-imdb\").to(device)\n",
    "\n",
    "# Put model into evaluation mode\n",
    "model = model.eval()\n",
    "\n",
    "\n",
    "\n",
    "# View model summary\n",
    "\n",
    "import torchsummary as ts\n",
    "\n",
    "print(ts.summary(model).total_params)\n",
    "\n",
    "\n",
    "\n",
    "# Make predictions on some samples\n",
    "y_pred, labels = batch_predict(model.forward, tokenizer, data_np[:100], batch_size, device)\n",
    "\n",
    "# Compute the activations on which to apply the NMF\n",
    "features, labels = batch_predict(model.features, tokenizer, data_np[:100], batch_size, device)\n",
    "\n",
    "# Go from these activations to the final prediction\n",
    "y_pred_bis = model.end_model(features)\n",
    "\n",
    "print(\"\\nAccuracy for classic model        :\", torch.mean((torch.argmax(y_pred, -1) == labels.to(device)).float()))\n",
    "print(\"Accuracy for model in 'two parts' :\", torch.mean((torch.argmax(y_pred_bis, -1) == labels.to(device)).float()))"
   ]
  },
  {
   "cell_type": "markdown",
   "id": "1cb8e6b5-0c14-4e3a-b50d-c4584126355c",
   "metadata": {
    "tags": []
   },
   "source": [
    "#### Train COCKATIEL"
   ]
  },
  {
   "cell_type": "code",
   "execution_count": null,
   "id": "146754a6-0d9a-4f0c-8215-b94eb5f8fe42",
   "metadata": {
    "tags": []
   },
   "outputs": [],
   "source": [
    "# # Veri kümesindeki ilk 20K'yı tahminletiyor\n",
    "\n",
    "# positive_reviews = []\n",
    "# negative_reviews = []\n",
    "\n",
    "# with torch.no_grad():\n",
    "#     for input_batch in batcher(data_np[:20000], batch_size=batch_size):\n",
    "        \n",
    "#         r = np.array(list(map(lambda z: z[0], input_batch)))\n",
    "\n",
    "#         tokenized_batch = tokenize(r, tokenizer, device)\n",
    "        \n",
    "#         preds = model(**tokenized_batch)\n",
    "        \n",
    "#         positive_reviews.extend(list(input_batch[np.where(np.argmax(preds.cpu().numpy(), axis=1) == 1)[0]]))\n",
    "#         negative_reviews.extend(list(input_batch[np.where(np.argmax(preds.cpu().numpy(), axis=1) == 0)[0]]))\n",
    "\n",
    "# raw_dataset_pos = list(map(lambda z: z[0], positive_reviews))\n",
    "# raw_dataset_neg = list(map(lambda z: z[0], negative_reviews))\n",
    "\n",
    "# import pickle\n",
    "\n",
    "# pickle.dump(raw_dataset_pos, open(parent_path + \"raw_dataset_pos.pkl\", \"wb\"))\n",
    "# pickle.dump(raw_dataset_neg, open(parent_path + \"raw_dataset_neg.pkl\", \"wb\"))\n",
    "\n",
    "\n",
    "\n",
    "# # Extract the excerpts as a dataset\n",
    "  \n",
    "# excerpt_dataset_pos = extract_excerpts(raw_dataset_pos)\n",
    "# excerpt_dataset_neg = extract_excerpts(raw_dataset_neg)\n",
    "\n",
    "# print(len(excerpt_dataset_pos), ' positives excerpts created.')\n",
    "# print(len(excerpt_dataset_neg), ' negatives excerpts created.')\n",
    "\n",
    "# pickle.dump(excerpt_dataset_pos, open(parent_path + \"excerpt_dataset_pos.pkl\", \"wb\"))\n",
    "# pickle.dump(excerpt_dataset_neg, open(parent_path + \"excerpt_dataset_neg.pkl\", \"wb\"))\n",
    "\n",
    "\n",
    "\n",
    "# # Train COCKATIEL\n",
    "\n",
    "# with torch.no_grad():\n",
    "    \n",
    "#     cockatiel_explainer_pos = COCKATIEL(model, tokenizer, components=20, \n",
    "#                                         batch_size=batch_size, device=device)\n",
    "#     # batch size was 64 \n",
    "#     segments_pos, u_segments_pos, factorization_pos, global_importance_pos = cockatiel_explainer_pos.extract_concepts(excerpt_dataset_pos[:n_excerpts], \n",
    "#                                                                                                                       raw_dataset_pos[:(n_excerpts//10)], \n",
    "#                                                                                                                       1, limit_sobol=1_000)\n",
    "    \n",
    "# pickle.dump(segments_pos, open(parent_path + \"segments_pos.pkl\", \"wb\"))\n",
    "# pickle.dump(u_segments_pos, open(parent_path + \"u_segments_pos.pkl\", \"wb\"))\n",
    "# pickle.dump(factorization_pos, open(parent_path + \"factorization_pos.pkl\", \"wb\"))\n",
    "# pickle.dump(global_importance_pos, open(parent_path + \"global_importance_pos.pkl\", \"wb\"))\n",
    "\n",
    "# with torch.no_grad():\n",
    "    \n",
    "#     cockatiel_explainer_neg = COCKATIEL(model, tokenizer, components=20, \n",
    "#                                         batch_size=batch_size, device=device)\n",
    "    \n",
    "#     segments_neg, u_segments_neg, factorization_neg, global_importance_neg = cockatiel_explainer_neg.extract_concepts(excerpt_dataset_neg[:n_excerpts], \n",
    "#                                                                                             raw_dataset_neg[:(n_excerpts//10)], \n",
    "#                                                                                             0, limit_sobol=1_000)\n",
    "    \n",
    "# pickle.dump(segments_neg, open(parent_path + \"segments_neg.pkl\", \"wb\"))\n",
    "# pickle.dump(u_segments_neg, open(parent_path + \"u_segments_neg.pkl\", \"wb\"))\n",
    "# pickle.dump(factorization_neg, open(parent_path + \"factorization_neg.pkl\", \"wb\"))\n",
    "# pickle.dump(global_importance_neg, open(parent_path + \"global_importance_neg.pkl\", \"wb\"))"
   ]
  },
  {
   "cell_type": "markdown",
   "id": "bca3c724-c751-4fda-8d80-e212ac460c9b",
   "metadata": {
    "tags": []
   },
   "source": [
    "#### Run Directly"
   ]
  },
  {
   "cell_type": "code",
   "execution_count": null,
   "id": "399fc7cc-944a-49b6-a216-9367cbf8d08b",
   "metadata": {
    "tags": []
   },
   "outputs": [],
   "source": [
    "import pickle\n",
    "\n",
    "# Load raw dataset and excerpts\n",
    "\n",
    "raw_dataset_pos = pickle.load(open(parent_path + \"raw_dataset_pos.pkl\", \"rb\"))\n",
    "raw_dataset_neg = pickle.load(open(parent_path + \"raw_dataset_neg.pkl\", \"rb\"))\n",
    "excerpt_dataset_pos = pickle.load(open(parent_path + \"excerpt_dataset_pos.pkl\", \"rb\"))\n",
    "excerpt_dataset_neg = pickle.load(open(parent_path + \"excerpt_dataset_neg.pkl\", \"rb\"))\n",
    "\n",
    "# Load sentences and global importances for positive class\n",
    "\n",
    "segments_pos = pickle.load(open(parent_path + \"segments_pos.pkl\",'rb'))\n",
    "u_segments_pos = pickle.load(open(parent_path + \"u_segments_pos.pkl\",'rb'))\n",
    "factorization_pos = pickle.load(open(parent_path + \"factorization_pos.pkl\",'rb'))\n",
    "global_importance_pos = pickle.load(open(parent_path + \"global_importance_pos.pkl\",'rb'))\n",
    "\n",
    "# Load sentences and global importances for negative class\n",
    "\n",
    "segments_neg = pickle.load(open(parent_path + \"segments_neg.pkl\",'rb'))\n",
    "u_segments_neg = pickle.load(open(parent_path + \"u_segments_neg.pkl\",'rb'))\n",
    "factorization_neg = pickle.load(open(parent_path + \"factorization_neg.pkl\",'rb'))\n",
    "global_importance_neg = pickle.load(open(parent_path + \"global_importance_neg.pkl\",'rb'))"
   ]
  },
  {
   "cell_type": "code",
   "execution_count": null,
   "id": "f8714e35-d14f-4423-b7e8-5b4f3835c69b",
   "metadata": {
    "tags": []
   },
   "outputs": [],
   "source": [
    "plot_glob_importances(global_importance_pos, global_importance_neg)"
   ]
  },
  {
   "cell_type": "code",
   "execution_count": null,
   "id": "47f4b96f-e355-4b38-990a-66a169573c4f",
   "metadata": {
    "tags": []
   },
   "outputs": [],
   "source": [
    "plot_reviews_exp(segments_pos, u_segments_pos, factorization_pos, global_importance_pos,\n",
    "                 segments_neg, u_segments_neg, factorization_neg, global_importance_neg,\n",
    "                 custom_samples=False)"
   ]
  },
  {
   "cell_type": "code",
   "execution_count": null,
   "id": "8f1c8852-304d-4055-a1ac-f7bf68b8e66d",
   "metadata": {
    "tags": []
   },
   "outputs": [],
   "source": [
    "plot_reviews_exp(segments_pos, u_segments_pos, factorization_pos, global_importance_pos,\n",
    "                 segments_neg, u_segments_neg, factorization_neg, global_importance_neg,\n",
    "                 custom_samples=True, samples_to_test=[reviews_neg, reviews_pos])"
   ]
  },
  {
   "cell_type": "markdown",
   "id": "3c504804-4ee7-4a25-b7d3-303a1cb12450",
   "metadata": {
    "tags": []
   },
   "source": [
    "### DistilBERT"
   ]
  },
  {
   "cell_type": "code",
   "execution_count": null,
   "id": "20cdf926-7374-4cc8-bd2f-6fef0b8c6388",
   "metadata": {
    "tags": []
   },
   "outputs": [],
   "source": [
    "# Load the model and its tokenizer\n",
    "\n",
    "from transformers import DistilBertTokenizerFast\n",
    "from cockatiel import CustomDistilbertForSequenceClassification, batch_predict, batcher, tokenize\n",
    "\n",
    "tokenizer = DistilBertTokenizerFast.from_pretrained(\"federicopascual/finetuned-sentiment-analysis-model\")\n",
    "model = CustomDistilbertForSequenceClassification.from_pretrained(\"federicopascual/finetuned-sentiment-analysis-model\").to(device)\n",
    "\n",
    "# Put model into evaluation mode\n",
    "model = model.eval()\n",
    "\n",
    "\n",
    "\n",
    "# View model summary\n",
    "\n",
    "import torchsummary as ts\n",
    "\n",
    "print(ts.summary(model).total_params)\n",
    "\n",
    "\n",
    "\n",
    "# Make predictions on some samples\n",
    "y_pred, labels = batch_predict(model.forward, tokenizer, data_np[:100], batch_size, device)\n",
    "\n",
    "# Compute the activations on which to apply the NMF\n",
    "features, labels = batch_predict(model.features, tokenizer, data_np[:100], batch_size, device)\n",
    "\n",
    "# Go from these activations to the final prediction\n",
    "y_pred_bis = model.end_model(features)\n",
    "\n",
    "print(\"\\nAccuracy for classic model        :\", torch.mean((torch.argmax(y_pred, -1) == labels.to(device)).float()))\n",
    "print(\"Accuracy for model in 'two parts' :\", torch.mean((torch.argmax(y_pred_bis, -1) == labels.to(device)).float()))"
   ]
  },
  {
   "cell_type": "markdown",
   "id": "07a51dae-8e2e-4f80-8af3-3acc7d0b7c98",
   "metadata": {
    "tags": []
   },
   "source": [
    "#### Train COCKATIEL"
   ]
  },
  {
   "cell_type": "code",
   "execution_count": null,
   "id": "087c97dd-3dcd-4300-903d-2539bb1ffe3b",
   "metadata": {
    "tags": []
   },
   "outputs": [],
   "source": [
    "# # Veri kümesindeki ilk 20K'yı tahminletiyor\n",
    "\n",
    "# positive_reviews = []\n",
    "# negative_reviews = []\n",
    "\n",
    "# with torch.no_grad():\n",
    "#     for input_batch in batcher(data_np[:20000], batch_size=batch_size):\n",
    "        \n",
    "#         r = np.array(list(map(lambda z: z[0], input_batch)))\n",
    "\n",
    "#         tokenized_batch = tokenize(r, tokenizer, device)\n",
    "        \n",
    "#         preds = model(**tokenized_batch)\n",
    "        \n",
    "#         positive_reviews.extend(list(input_batch[np.where(np.argmax(preds.cpu().numpy(), axis=1) == 1)[0]]))\n",
    "#         negative_reviews.extend(list(input_batch[np.where(np.argmax(preds.cpu().numpy(), axis=1) == 0)[0]]))\n",
    "\n",
    "# raw_dataset_pos = list(map(lambda z: z[0], positive_reviews))\n",
    "# raw_dataset_neg = list(map(lambda z: z[0], negative_reviews))\n",
    "\n",
    "# import pickle\n",
    "\n",
    "# pickle.dump(raw_dataset_pos, open(parent_path + \"raw_dataset_pos.pkl\", \"wb\"))\n",
    "# pickle.dump(raw_dataset_neg, open(parent_path + \"raw_dataset_neg.pkl\", \"wb\"))\n",
    "\n",
    "\n",
    "\n",
    "# # Extract the excerpts as a dataset\n",
    "  \n",
    "# excerpt_dataset_pos = extract_excerpts(raw_dataset_pos)\n",
    "# excerpt_dataset_neg = extract_excerpts(raw_dataset_neg)\n",
    "\n",
    "# print(len(excerpt_dataset_pos), ' positives excerpts created.')\n",
    "# print(len(excerpt_dataset_neg), ' negatives excerpts created.')\n",
    "\n",
    "# pickle.dump(excerpt_dataset_pos, open(parent_path + \"excerpt_dataset_pos.pkl\", \"wb\"))\n",
    "# pickle.dump(excerpt_dataset_neg, open(parent_path + \"excerpt_dataset_neg.pkl\", \"wb\"))\n",
    "\n",
    "\n",
    "\n",
    "# # Train COCKATIEL\n",
    "\n",
    "# with torch.no_grad():\n",
    "    \n",
    "#     cockatiel_explainer_pos = COCKATIEL(model, tokenizer, components=20, \n",
    "#                                         batch_size=batch_size, device=device)\n",
    "#     # batch size was 64 \n",
    "#     segments_pos, u_segments_pos, factorization_pos, global_importance_pos = cockatiel_explainer_pos.extract_concepts(excerpt_dataset_pos[:n_excerpts], \n",
    "#                                                                                                                       raw_dataset_pos[:(n_excerpts//10)], \n",
    "#                                                                                                                       1, limit_sobol=1_000)\n",
    "    \n",
    "# pickle.dump(segments_pos, open(parent_path + \"segments_pos.pkl\", \"wb\"))\n",
    "# pickle.dump(u_segments_pos, open(parent_path + \"u_segments_pos.pkl\", \"wb\"))\n",
    "# pickle.dump(factorization_pos, open(parent_path + \"factorization_pos.pkl\", \"wb\"))\n",
    "# pickle.dump(global_importance_pos, open(parent_path + \"global_importance_pos.pkl\", \"wb\"))\n",
    "\n",
    "# with torch.no_grad():\n",
    "    \n",
    "#     cockatiel_explainer_neg = COCKATIEL(model, tokenizer, components=20, \n",
    "#                                         batch_size=batch_size, device=device)\n",
    "    \n",
    "#     segments_neg, u_segments_neg, factorization_neg, global_importance_neg = cockatiel_explainer_neg.extract_concepts(excerpt_dataset_neg[:n_excerpts], \n",
    "#                                                                                             raw_dataset_neg[:(n_excerpts//10)], \n",
    "#                                                                                             0, limit_sobol=1_000)\n",
    "    \n",
    "# pickle.dump(segments_neg, open(parent_path + \"segments_neg.pkl\", \"wb\"))\n",
    "# pickle.dump(u_segments_neg, open(parent_path + \"u_segments_neg.pkl\", \"wb\"))\n",
    "# pickle.dump(factorization_neg, open(parent_path + \"factorization_neg.pkl\", \"wb\"))\n",
    "# pickle.dump(global_importance_neg, open(parent_path + \"global_importance_neg.pkl\", \"wb\"))"
   ]
  },
  {
   "cell_type": "markdown",
   "id": "e3ad0509-b252-4935-8bba-9a72338e2c95",
   "metadata": {
    "tags": []
   },
   "source": [
    "#### Run Directly"
   ]
  },
  {
   "cell_type": "code",
   "execution_count": null,
   "id": "0fe694b9-3086-42dc-bad2-0f84b189bf5e",
   "metadata": {
    "tags": []
   },
   "outputs": [],
   "source": [
    "import pickle\n",
    "\n",
    "# Load raw dataset and excerpts\n",
    "\n",
    "raw_dataset_pos = pickle.load(open(parent_path + \"raw_dataset_pos.pkl\", \"rb\"))\n",
    "raw_dataset_neg = pickle.load(open(parent_path + \"raw_dataset_neg.pkl\", \"rb\"))\n",
    "excerpt_dataset_pos = pickle.load(open(parent_path + \"excerpt_dataset_pos.pkl\", \"rb\"))\n",
    "excerpt_dataset_neg = pickle.load(open(parent_path + \"excerpt_dataset_neg.pkl\", \"rb\"))\n",
    "\n",
    "# Load sentences and global importances for positive class\n",
    "\n",
    "segments_pos = pickle.load(open(parent_path + \"segments_pos.pkl\",'rb'))\n",
    "u_segments_pos = pickle.load(open(parent_path + \"u_segments_pos.pkl\",'rb'))\n",
    "factorization_pos = pickle.load(open(parent_path + \"factorization_pos.pkl\",'rb'))\n",
    "global_importance_pos = pickle.load(open(parent_path + \"global_importance_pos.pkl\",'rb'))\n",
    "\n",
    "# Load sentences and global importances for negative class\n",
    "\n",
    "segments_neg = pickle.load(open(parent_path + \"segments_neg.pkl\",'rb'))\n",
    "u_segments_neg = pickle.load(open(parent_path + \"u_segments_neg.pkl\",'rb'))\n",
    "factorization_neg = pickle.load(open(parent_path + \"factorization_neg.pkl\",'rb'))\n",
    "global_importance_neg = pickle.load(open(parent_path + \"global_importance_neg.pkl\",'rb'))"
   ]
  },
  {
   "cell_type": "code",
   "execution_count": null,
   "id": "e0ab5049-0298-478a-9949-f2fa450df778",
   "metadata": {
    "tags": []
   },
   "outputs": [],
   "source": [
    "plot_glob_importances(global_importance_pos, global_importance_neg)"
   ]
  },
  {
   "cell_type": "code",
   "execution_count": null,
   "id": "d3ebb594-4bf4-432b-be85-c3ecb6293456",
   "metadata": {
    "tags": []
   },
   "outputs": [],
   "source": [
    "plot_reviews_exp(segments_pos, u_segments_pos, factorization_pos, global_importance_pos,\n",
    "                 segments_neg, u_segments_neg, factorization_neg, global_importance_neg,\n",
    "                 custom_samples=False)"
   ]
  },
  {
   "cell_type": "code",
   "execution_count": null,
   "id": "94823b4c-482e-4a87-9d22-aa21996c1a65",
   "metadata": {
    "tags": []
   },
   "outputs": [],
   "source": [
    "plot_reviews_exp(segments_pos, u_segments_pos, factorization_pos, global_importance_pos,\n",
    "                 segments_neg, u_segments_neg, factorization_neg, global_importance_neg,\n",
    "                 custom_samples=True, samples_to_test=[reviews_neg, reviews_pos])"
   ]
  },
  {
   "cell_type": "markdown",
   "id": "f52add02-7c03-41c8-9d54-8e21f862bce5",
   "metadata": {
    "jp-MarkdownHeadingCollapsed": true,
    "tags": []
   },
   "source": [
    "### Orinial Paper's Sentences"
   ]
  },
  {
   "cell_type": "code",
   "execution_count": 18,
   "id": "faac0e8b-0584-412c-a85d-caaa2353c1c7",
   "metadata": {
    "tags": []
   },
   "outputs": [],
   "source": [
    "# ###### the killings are stupid and / or unimaginative bulamadım\n",
    "\n",
    "# substring = \"unimaginative\"\n",
    "\n",
    "# for index, string in enumerate(segments_neg):\n",
    "#     if substring in string:\n",
    "#         print(f\"Substring '{substring}' found in string at index {index}: {string}\")"
   ]
  },
  {
   "cell_type": "code",
   "execution_count": 19,
   "id": "543a80dc-98c8-4573-9bed-a838c9e705fe",
   "metadata": {
    "tags": []
   },
   "outputs": [],
   "source": [
    "# indices_neg = [35253, 29729, 35285, 14800, 14720, 31318, 15747]\n",
    "# reviews_neg = np.array(segments_neg)[indices_neg]\n",
    "# print(reviews_neg)\n",
    "\n",
    "# indices_pos = [10108, 15711, 24157, 4142, 8211, 16541, 31384, 39364]\n",
    "# reviews_pos = np.array(segments_pos)[indices_pos]\n",
    "# print(reviews_pos)"
   ]
  }
 ],
 "metadata": {
  "kernelspec": {
   "display_name": "cockatiel",
   "language": "python",
   "name": "cockatiel"
  },
  "language_info": {
   "codemirror_mode": {
    "name": "ipython",
    "version": 3
   },
   "file_extension": ".py",
   "mimetype": "text/x-python",
   "name": "python",
   "nbconvert_exporter": "python",
   "pygments_lexer": "ipython3",
   "version": "3.11.5"
  }
 },
 "nbformat": 4,
 "nbformat_minor": 5
}
