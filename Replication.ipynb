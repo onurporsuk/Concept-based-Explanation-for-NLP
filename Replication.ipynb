{
 "cells": [
  {
   "cell_type": "markdown",
   "id": "d4c860b1-0b6d-4477-90f7-fef83b157e14",
   "metadata": {
    "tags": []
   },
   "source": [
    "# Replication of COCKATIEL"
   ]
  },
  {
   "cell_type": "markdown",
   "id": "4e282f04-783f-4af6-b99d-0905274925e9",
   "metadata": {
    "tags": []
   },
   "source": [
    "## Original Study's Code"
   ]
  },
  {
   "cell_type": "markdown",
   "id": "35250c7d-a438-49d7-990e-329237bc44f2",
   "metadata": {
    "jp-MarkdownHeadingCollapsed": true,
    "tags": []
   },
   "source": [
    "### Prepare RoBERTa Model"
   ]
  },
  {
   "cell_type": "code",
   "execution_count": 1,
   "id": "7c3fd31f-eac7-43a2-aa05-9b4b829f0224",
   "metadata": {
    "tags": []
   },
   "outputs": [],
   "source": [
    "import torch\n",
    "from torch import nn\n",
    "from torch.nn import MSELoss\n",
    "from transformers import RobertaPreTrainedModel, RobertaModel\n",
    "\n",
    "\n",
    "\n",
    "# A custom fully-connected classification head for RoBERTa with a non-negative layer on which we can compute the NMF.\n",
    "\n",
    "class CustomRobertaClassificationHead(nn.Module):\n",
    "\n",
    "    def __init__(self, config):\n",
    "        super().__init__()\n",
    "        self.dense = nn.Linear(config.hidden_size, config.hidden_size)\n",
    "        classifier_dropout = (\n",
    "            config.classifier_dropout if config.classifier_dropout is not None else config.hidden_dropout_prob\n",
    "        )\n",
    "        self.dropout = nn.Dropout(classifier_dropout)\n",
    "        self.out_proj = nn.Linear(config.hidden_size, 2)\n",
    "\n",
    "    def forward(self, features):\n",
    "        x = features\n",
    "        x = self.dropout(x)\n",
    "        x = self.dense(x)\n",
    "        x = torch.relu(x)\n",
    "        x = self.dropout(x)\n",
    "        x = self.out_proj(x) # Projection layer, yani multi-head attention katmanının yüksek boyutlu output'unu düşürmek için project yapar\n",
    "                             # Ardından final sınıflandırma logits'leri hesaplanır\n",
    "        return x\n",
    "\n",
    "    # out_proj olmadan feature'ları hesaplayan fonk.\n",
    "    def features(self, x):\n",
    "        x = self.dropout(x)\n",
    "        x = self.dense(x)\n",
    "        x = torch.relu(x)\n",
    "        return x\n",
    "\n",
    "    # forward()'ın sonunda yapılan işlemin aynısı, ayrı fonk. olarak da tanımlamışlar\n",
    "    def end_model(self, x):\n",
    "        x = self.dropout(x)\n",
    "        x = self.out_proj(x)\n",
    "\n",
    "        return x\n",
    "    \n",
    "\n",
    "    \n",
    "    \n",
    "    \n",
    "# A custom RoBERTa model using a custom fully-connected head with a non-negative layer on which we can compute the NMF.\n",
    "    \n",
    "class CustomRobertaForSequenceClassification(RobertaPreTrainedModel):\n",
    "\n",
    "    # Model yüklenirken position_ids'i ignore etsin\n",
    "    _keys_to_ignore_on_load_missing = [r\"position_ids\"]\n",
    "\n",
    "    def __init__(self, config):\n",
    "        super().__init__(config)\n",
    "        \n",
    "        # Regresyon problemi gibi ele aldıklarından 1 demişler, yoksa sentiment a. için 2 olmalıydı\n",
    "        self.num_labels = 1\n",
    "        self.config = config\n",
    "\n",
    "        self.roberta = RobertaModel(config, add_pooling_layer=False)\n",
    "        self.classifier = CustomRobertaClassificationHead(config)\n",
    "        \n",
    "        # Yine regresyon olmasından dolayı\n",
    "        self.mse_loss = MSELoss()\n",
    "\n",
    "        # Modelin başka hiperparametrelerini initialize etmek için ek fonk.\n",
    "        self.post_init()\n",
    "\n",
    "    def features(\n",
    "            self,\n",
    "            input_ids=None,\n",
    "            attention_mask=None,\n",
    "            token_type_ids=None,\n",
    "            position_ids=None,\n",
    "            head_mask=None,\n",
    "            inputs_embeds=None,\n",
    "            labels=None,\n",
    "            output_attentions=None,\n",
    "            output_hidden_states=None,\n",
    "            return_dict=None,\n",
    "    ):\n",
    "        features = self.roberta(\n",
    "            input_ids,\n",
    "            attention_mask=attention_mask,\n",
    "            token_type_ids=token_type_ids,\n",
    "            position_ids=position_ids,\n",
    "            head_mask=head_mask,\n",
    "            inputs_embeds=inputs_embeds,\n",
    "            output_attentions=output_attentions,\n",
    "            output_hidden_states=output_hidden_states,\n",
    "            return_dict=return_dict,\n",
    "        )\n",
    "\n",
    "        return self.classifier.features(features[0][:, 0, :])\n",
    "\n",
    "    def end_model(self, activations):\n",
    "        return self.classifier.end_model(activations)\n",
    "\n",
    "    def forward(\n",
    "            self,\n",
    "            input_ids=None,\n",
    "            attention_mask=None,\n",
    "            token_type_ids=None,\n",
    "            position_ids=None,\n",
    "            head_mask=None,\n",
    "            inputs_embeds=None,\n",
    "            labels=None,\n",
    "            output_attentions=None,\n",
    "            output_hidden_states=None,\n",
    "            return_dict=None,\n",
    "    ):\n",
    "        return_dict = return_dict if return_dict is not None else self.config.use_return_dict\n",
    "\n",
    "        outputs = self.roberta(\n",
    "            input_ids,\n",
    "            attention_mask=attention_mask,\n",
    "            token_type_ids=token_type_ids,\n",
    "            position_ids=position_ids,\n",
    "            head_mask=head_mask,\n",
    "            inputs_embeds=inputs_embeds,\n",
    "            output_attentions=output_attentions,\n",
    "            output_hidden_states=output_hidden_states,\n",
    "            return_dict=return_dict,\n",
    "        )\n",
    "        sequence_output = outputs[0][:, 0, :]\n",
    "        logits = self.classifier(sequence_output)\n",
    "\n",
    "        return logits"
   ]
  },
  {
   "cell_type": "markdown",
   "id": "30f03bc3-88d3-4cd0-b5e6-9edfcdaac66b",
   "metadata": {
    "jp-MarkdownHeadingCollapsed": true,
    "tags": []
   },
   "source": [
    "### COCKATIEL"
   ]
  },
  {
   "cell_type": "code",
   "execution_count": 2,
   "id": "bca3f204-bec6-4735-8f88-b71eaf85e4b1",
   "metadata": {
    "tags": []
   },
   "outputs": [],
   "source": [
    "import numpy as np\n",
    "import torch\n",
    "from sklearn.decomposition import NMF\n",
    "from math import ceil\n",
    "from typing import Callable, List\n",
    "\n",
    "\n",
    "class COCKATIEL:\n",
    "    \"\"\"\n",
    "    model\n",
    "        The Torch hugging-face model that we wish to explain. It MUST have a non-negative layer on\n",
    "        which to extract the concepts.\n",
    "    tokenizer\n",
    "        A callable object to transform strings into inputs for the model.\n",
    "    components\n",
    "        An integer for the amount of concepts we wish to discover in the activation space.\n",
    "    batch_size\n",
    "        The batch size for all the operations that use the model\n",
    "    device\n",
    "        The type of device on which to place the torch tensors\n",
    "    \"\"\"\n",
    "    sobol_nb_design = 32\n",
    "\n",
    "    def __init__(\n",
    "            self,\n",
    "            model,\n",
    "            tokenizer: Callable,\n",
    "            components: int = 25,\n",
    "            batch_size: int = 256,\n",
    "            device: str = 'cuda',\n",
    "            nmf_max_iter: int = 1000,\n",
    "            alpha_W = 0.00001\n",
    "    ):\n",
    "        self.model = model\n",
    "        self.tokenizer = tokenizer\n",
    "        self.components = components\n",
    "        self.batch_size = batch_size\n",
    "        self.device = device\n",
    "        self.max_iter = nmf_max_iter\n",
    "        self.alpha_W = alpha_W\n",
    "\n",
    "    def extract_concepts(\n",
    "            self,\n",
    "            cropped_dataset: List[str],\n",
    "            dataset: List[str],\n",
    "            class_id: int,\n",
    "            limit_sobol: int = 1000\n",
    "    ):\n",
    "        \"\"\"\n",
    "        Extracts the concepts following the object's parameters.\n",
    "\n",
    "        Parameters\n",
    "        ----------\n",
    "        cropped_dataset\n",
    "            The dataset containing the excerpts used to discover the concepts.\n",
    "        dataset\n",
    "            A sample of the dataset (with whole inputs) on which to compute the Sobol importance.\n",
    "        class_id\n",
    "            An integer for the class we wish to explain.\n",
    "        limit_sobol\n",
    "            The maximum amount of masks to use for estimating Sobol indices.\n",
    "\n",
    "        Returns\n",
    "        -------\n",
    "        excerpts\n",
    "            The excerpts used to learn the concepts.\n",
    "        u_excerpts\n",
    "            The coefficients in the learned concept base for the excerpts.\n",
    "        factorization\n",
    "            The object to transform activations using the concept base.\n",
    "        global_importance\n",
    "            An array with the global importance of each concept (Sobol indices).\n",
    "        \"\"\"\n",
    "        excerpts = []\n",
    "        excerpts_activations = None\n",
    "\n",
    "        with torch.no_grad():\n",
    "            for batch_id in tqdm(range(ceil(len(cropped_dataset) / self.batch_size))):\n",
    "                \n",
    "                batch_start = batch_id * self.batch_size\n",
    "                batch_end = batch_start + self.batch_size\n",
    "\n",
    "                batch_sentences = cropped_dataset[batch_start:batch_end]\n",
    "                batch_tokenized = tokenize(batch_sentences, self.tokenizer, self.device)\n",
    "\n",
    "                batch_activations = self.model.features(**batch_tokenized)\n",
    "\n",
    "                excerpts_activations = batch_activations if excerpts_activations is None \\\n",
    "                    else torch.cat([excerpts_activations, batch_activations], 0)\n",
    "                excerpts = batch_sentences if excerpts is None \\\n",
    "                    else excerpts + batch_sentences\n",
    "\n",
    "        points_activations = None\n",
    "        with torch.no_grad():\n",
    "            for batch_id in tqdm(range(ceil(len(dataset) / self.batch_size))):\n",
    "                \n",
    "                batch_start = batch_id * self.batch_size\n",
    "                batch_end = batch_start + self.batch_size\n",
    "                \n",
    "                tokenized_batch = tokenize(dataset[batch_start:batch_end], self.tokenizer, self.device)\n",
    "                activations = self.model.features(**tokenized_batch)\n",
    "                points_activations = activations if points_activations is None else torch.cat(\n",
    "                    [points_activations, activations])\n",
    "\n",
    "        # applying GAP(.) on the activation and ensure positivity if needed\n",
    "        excerpts_activations = self._preprocess(excerpts_activations)\n",
    "        points_activations = self._preprocess(points_activations)\n",
    "\n",
    "        # using the activations, we will now use the matrix factorization to\n",
    "        # find the concept bank (W) and the concept representation (U) of the\n",
    "        # segments and the points\n",
    "        factorization = NMF(n_components=self.components, max_iter=self.max_iter, alpha_W=self.alpha_W)\n",
    "\n",
    "        u_excerpts = factorization.fit_transform(excerpts_activations)\n",
    "        W = torch.Tensor(factorization.components_).float().to(self.device)\n",
    "\n",
    "        # we don't need segments activations anymore, the concept bank is trained\n",
    "        del excerpts_activations\n",
    "\n",
    "        # using the concept bank and the points, we will now evaluate the importance of\n",
    "        # each concept for each points to get a global importance score for each\n",
    "        # concept in the concept bank\n",
    "        global_importance = self._sobol_importance(cropped_dataset, points_activations[:limit_sobol], class_id, W)\n",
    "\n",
    "        return excerpts, u_excerpts, factorization, global_importance\n",
    "\n",
    "    def _sobol_importance(self, cropped_dataset, activations: torch.Tensor, class_id: int, W: torch.Tensor):\n",
    "        \"\"\"\n",
    "        Computes the Sobol indices using the dataset containing the excerpts and the activations from the\n",
    "        dataset (whole inputs) for the target class, and for a fixed (already learned) concept base W.\n",
    "\n",
    "        Parameters\n",
    "        ----------\n",
    "        cropped_dataset\n",
    "            The activations of the dataset containing the excerpts used to discover the concepts.\n",
    "        activations\n",
    "            The activations for inputs from the original dataset.\n",
    "        class_id\n",
    "            An integer for the class we wish to explain.\n",
    "        W\n",
    "            The (already learned) concept base.\n",
    "\n",
    "        Returns\n",
    "        -------\n",
    "        global_importance\n",
    "            An array with the Sobol indices\n",
    "        \"\"\"\n",
    "        masks = ScipySobolSequence()(self.components, nb_design=self.sobol_nb_design)\n",
    "        estimator = JansenEstimator()\n",
    "\n",
    "        if not isinstance(W, torch.Tensor):\n",
    "            W = torch.Tensor(W).float().to(self.device)\n",
    "\n",
    "        importances = []\n",
    "        for act in activations:\n",
    "            act = torch.Tensor(act).float().to(self.device)\n",
    "\n",
    "            y_pred = None\n",
    "            for batch_id in range(ceil(len(cropped_dataset) / self.batch_size)):\n",
    "                batch_start = batch_id * self.batch_size\n",
    "                batch_end = batch_start + self.batch_size\n",
    "                batch_masks = torch.Tensor(masks[batch_start:batch_end]).float().to(self.device)\n",
    "\n",
    "                y_batch = concept_perturbation(self.model, act, batch_masks, class_id, W)\n",
    "                y_pred = y_batch if y_pred is None else torch.cat([y_pred, y_batch], 0)\n",
    "\n",
    "            if self.device == 'cuda' or self.device == torch.device('cuda'):\n",
    "                y_pred = y_pred.cpu()\n",
    "            stis = estimator(masks, y_pred.numpy(), self.sobol_nb_design)\n",
    "            importances.append(stis)\n",
    "\n",
    "        global_importance = np.mean(importances, 0)\n",
    "\n",
    "        return global_importance\n",
    "\n",
    "    def _preprocess(self, activations: torch.Tensor):\n",
    "        \"\"\"\n",
    "        Preprocesses the activations to make sure that they're the right shape for being input to the\n",
    "        NMF algorithm later.\n",
    "\n",
    "        Parameters\n",
    "        ----------\n",
    "        activations\n",
    "            The (non-negative) activations from the model under study.\n",
    "\n",
    "        Returns\n",
    "        -------\n",
    "        activations\n",
    "            The preprocessed activations, ready for COCKATIEL.\n",
    "        \"\"\"\n",
    "        if len(activations.shape) == 4:\n",
    "            activations = torch.mean(activations, (1, 2))\n",
    "\n",
    "        if torch.min(activations) < 0:\n",
    "            raise ValueError(\"Please choose a layer with positive activations.\")\n",
    "        if self.device == 'cuda' or self.device == torch.device('cuda'):\n",
    "            activations = activations.cpu()\n",
    "\n",
    "        return activations.numpy().astype(np.float32)"
   ]
  },
  {
   "cell_type": "markdown",
   "id": "ddab1eeb-b4f2-42b2-8aff-3e93f541b40a",
   "metadata": {
    "jp-MarkdownHeadingCollapsed": true,
    "tags": []
   },
   "source": [
    "### Occlusion"
   ]
  },
  {
   "cell_type": "code",
   "execution_count": 3,
   "id": "b9b37f86-2f3d-46d2-a14f-213bf65766f6",
   "metadata": {
    "tags": []
   },
   "outputs": [
    {
     "name": "stderr",
     "output_type": "stream",
     "text": [
      "[nltk_data] Downloading package punkt to\n",
      "[nltk_data]     C:\\Users\\onurp\\AppData\\Roaming\\nltk_data...\n",
      "[nltk_data]   Package punkt is already up-to-date!\n"
     ]
    }
   ],
   "source": [
    "import numpy as np\n",
    "import sklearn.decomposition\n",
    "from typing import List, Callable, Optional, Union, Tuple\n",
    "import nltk\n",
    "from nltk.tokenize import word_tokenize\n",
    "nltk.download('punkt')\n",
    "\n",
    "\n",
    "\"\"\"\n",
    "This module implements the local part of COCKATIEL: occlusion. This allows us to estimate the presence of\n",
    "concepts in parts of the input text.\n",
    "\"\"\"\n",
    "\n",
    "def occlusion_concepts(\n",
    "        sentence: str,\n",
    "        model,\n",
    "        tokenizer: Callable,\n",
    "        factorization: Union[sklearn.decomposition.NMF, Tuple[sklearn.decomposition.NMF, sklearn.decomposition.NMF]],\n",
    "        l_concept_id: Union[np.ndarray, Tuple[np.ndarray, np.ndarray]],\n",
    "        ignore_words: Optional[List[str]] = None,\n",
    "        two_labels: bool = True,\n",
    "        extract_fct: str = \"clause\",\n",
    "        device='cuda'\n",
    ") -> np.ndarray:\n",
    "    \"\"\"\n",
    "    Generates explanations for the input sentence using COCKATIEL.\n",
    "\n",
    "    If two_labels is False, it computes the presence of the concepts of interest (in l_concept_id) using the\n",
    "    NMF object in factorization.\n",
    "    If two_labels is True, it computes the presence of the concepts of interest in the tuple of l_concept_id using\n",
    "    the tuple of NMF objects in factorization (to do so for both classes in imdb-reviews task).\n",
    "\n",
    "    The granularity of the explanations is set with extract_fct.\n",
    "\n",
    "    Parameters\n",
    "    ----------\n",
    "    sentence\n",
    "        The string (sentence) we wish to explain using COCKATIEL.\n",
    "    model\n",
    "        The model under study.\n",
    "    tokenizer\n",
    "        A Callable that transforms strings into tokens capable of being ingested by the model.\n",
    "    factorization\n",
    "        Either the NMF object to transform activations into the concept base, or a tuple with an object for each of\n",
    "        the two classes (for the imdb-reviews task) if two_labels is True.\n",
    "    l_concept_id\n",
    "        Either a list of concepts of interest (for a given task) or a tuple with two lists, one for each class (if\n",
    "        two_labels is True).\n",
    "    ignore_words\n",
    "        A list of strings to ignore when applying occlusion.\n",
    "    two_labels\n",
    "        A bool indicating whether we wish to explain only one class or both (for imdb-reviews task).\n",
    "    extract_fct\n",
    "        A string indicating whether at which level we wish to explain: \"word\", \"clause\" or \"sentence\".\n",
    "    device\n",
    "        The device on which tensors are stored (\"cpu\" or \"cuda\").\n",
    "\n",
    "    Returns\n",
    "    -------\n",
    "    l_importances\n",
    "        An array with the presence of each concept in the input sentence.\n",
    "    \"\"\"\n",
    "    sentence = str(sentence)\n",
    "\n",
    "    if extract_fct == \"clause\":\n",
    "        words = extract_clauses(sentence, clause_type=None)\n",
    "        separate = \" \"\n",
    "\n",
    "    else:\n",
    "        words = word_tokenize(sentence)\n",
    "        if extract_fct == \"sentence\":\n",
    "            separate = \". \"\n",
    "        elif extract_fct == \"word\":\n",
    "            separate = \" \"\n",
    "        else:\n",
    "            raise ValueError(\"Extraction function can be only 'clause', 'sentence', or 'word\")\n",
    "\n",
    "    if two_labels:\n",
    "        u_values_pos = calculate_u_values(sentence, words,  model, tokenizer, factorization[0], separate, ignore_words, device)\n",
    "        u_values_neg = calculate_u_values(sentence, words,  model, tokenizer, factorization[1], separate, ignore_words, device)\n",
    "        l_importances = []\n",
    "        for concept_id in l_concept_id[0]:\n",
    "            importances = calculate_importance(words, u_values_pos, concept_id, ignore_words)\n",
    "            l_importances.append(np.array(importances))\n",
    "        for concept_id in l_concept_id[1]:\n",
    "            importances = calculate_importance(words, u_values_neg, concept_id, ignore_words)\n",
    "            l_importances.append(np.array(importances))\n",
    "\n",
    "    else:  # look at only one class:\n",
    "        u_values = calculate_u_values(sentence, words,  model, tokenizer, factorization, separate, ignore_words, device)\n",
    "        l_importances = []\n",
    "        for concept_id in l_concept_id:\n",
    "            importances = calculate_importance(words, u_values, concept_id, ignore_words)\n",
    "            l_importances.append(np.array(importances))\n",
    "\n",
    "    return np.array(l_importances)\n"
   ]
  },
  {
   "cell_type": "markdown",
   "id": "20b56870-d429-4ad9-a884-7938d2a13088",
   "metadata": {
    "jp-MarkdownHeadingCollapsed": true,
    "tags": []
   },
   "source": [
    "### Sampling"
   ]
  },
  {
   "cell_type": "code",
   "execution_count": 4,
   "id": "8d9aaead-69af-4f2e-8472-9db04a11a3cb",
   "metadata": {
    "tags": []
   },
   "outputs": [],
   "source": [
    "from abc import ABC, abstractmethod\n",
    "import numpy as np\n",
    "import scipy\n",
    "\n",
    "\n",
    "\"\"\"\n",
    "Sampling methods for replicated designs\n",
    "\"\"\"\n",
    "\n",
    "class Sampler(ABC):\n",
    "    \"\"\"\n",
    "    Base class for replicated design sampling.\n",
    "    \"\"\"\n",
    "\n",
    "    @staticmethod\n",
    "    def build_replicated_design(sampling_a, sampling_b):\n",
    "        \"\"\"\n",
    "        Build the replicated design matrix C using A & B\n",
    "\n",
    "        Parameters\n",
    "        ----------\n",
    "        sampling_a\n",
    "          The masks values for the sampling matrix A.\n",
    "        sampling_b\n",
    "          The masks values for the sampling matrix B.\n",
    "\n",
    "        Returns\n",
    "        -------\n",
    "        replication_c\n",
    "          The new replicated design matrix C generated from A & B.\n",
    "        \"\"\"\n",
    "        replication_c = np.array([sampling_a.copy() for _ in range(sampling_a.shape[-1])])\n",
    "        for i in range(len(replication_c)):\n",
    "            replication_c[i, :, i] = sampling_b[:, i]\n",
    "\n",
    "        replication_c = replication_c.reshape((-1, sampling_a.shape[-1]))\n",
    "\n",
    "        return replication_c\n",
    "\n",
    "    @abstractmethod\n",
    "    def __call__(self, dimension, nb_design):\n",
    "        raise NotImplementedError()\n",
    "\n",
    "\n",
    "class ScipySampler(Sampler):\n",
    "    \"\"\"\n",
    "    Base class based on Scipy qmc module for replicated design sampling.\n",
    "    \"\"\"\n",
    "\n",
    "    def __init__(self):\n",
    "        try:\n",
    "            self.qmc = scipy.stats.qmc\n",
    "        except AttributeError as err:\n",
    "            raise ModuleNotFoundError(\"COCKATIEL need scipy>=1.7 to use this sampling.\") from err\n",
    "\n",
    "\n",
    "class ScipySobolSequence(ScipySampler):\n",
    "    \"\"\"\n",
    "    Scipy Sobol LP tau sequence sampler.\n",
    "\n",
    "    Ref. I. M. Sobol., The distribution of points in a cube and the accurate evaluation of\n",
    "    integrals (1967).\n",
    "    https://www.sciencedirect.com/science/article/abs/pii/0041555367901449\n",
    "    \"\"\"\n",
    "\n",
    "    def __call__(self, dimension, nb_design):\n",
    "        sampler = self.qmc.Sobol(dimension * 2, scramble=False)\n",
    "        sampling_ab = sampler.random(nb_design).astype(np.float32)\n",
    "        sampling_a, sampling_b = sampling_ab[:, :dimension], sampling_ab[:, dimension:]\n",
    "        replicated_c = self.build_replicated_design(sampling_a, sampling_b)\n",
    "\n",
    "        return np.concatenate([sampling_a, sampling_b, replicated_c], 0)\n",
    "\n",
    "\n",
    "def concept_perturbation(model, activation, masks, class_id, W):\n",
    "    \"\"\"\n",
    "    Apply perturbation on the concept before reconstruction and get the perturbated outputs.\n",
    "    For NMF we recall that A = U @ W\n",
    "\n",
    "    Parameters\n",
    "    ----------\n",
    "    model\n",
    "      Model that map the concept layer to the output (h_l->k in the paper)\n",
    "    activation\n",
    "      Specific activation to apply perturbation on.\n",
    "    masks\n",
    "      Arrays of masks, each of them being a concept perturbation.\n",
    "    class_id\n",
    "      Id the class to test.\n",
    "    W\n",
    "      Concept bank extracted using NMF.\n",
    "\n",
    "    Returns\n",
    "    -------\n",
    "    y\n",
    "      Outputs of the perturbated points.\n",
    "    \"\"\"\n",
    "    perturbation = masks @ W\n",
    "\n",
    "    if len(activation.shape) == 3:\n",
    "        perturbation = perturbation[:, None, None, :]\n",
    "\n",
    "    activation = activation[None, :]\n",
    "    perturbated_activations = activation + perturbation * activation\n",
    "    y = model.end_model(perturbated_activations)[:, class_id]\n",
    "\n",
    "    return y"
   ]
  },
  {
   "cell_type": "markdown",
   "id": "3226cdd3-9500-48b2-bdec-d0cc2e5e0a3f",
   "metadata": {
    "jp-MarkdownHeadingCollapsed": true,
    "tags": []
   },
   "source": [
    "### Total Sobol Indices"
   ]
  },
  {
   "cell_type": "code",
   "execution_count": 5,
   "id": "4f6e8ef8-560e-4471-a228-02724b8c3753",
   "metadata": {
    "tags": []
   },
   "outputs": [],
   "source": [
    "from abc import ABC, abstractmethod\n",
    "import numpy as np\n",
    "\n",
    "\n",
    "\n",
    "\"\"\"\n",
    "Sobol' total order estimators module\n",
    "\"\"\"\n",
    "\n",
    "class SobolEstimator(ABC):\n",
    "    \"\"\"\n",
    "    Base class for Sobol' total order estimators.\n",
    "    \"\"\"\n",
    "\n",
    "    @staticmethod\n",
    "    def masks_dim(masks):\n",
    "        \"\"\"\n",
    "        Deduce the number of dimensions using the sampling masks.\n",
    "\n",
    "        Parameters\n",
    "        ----------\n",
    "        masks\n",
    "          Low resolution masks (before upsampling) used, one for each output.\n",
    "\n",
    "        Returns\n",
    "        -------\n",
    "        nb_dim\n",
    "          The number of dimensions under study according to the masks.\n",
    "        \"\"\"\n",
    "        nb_dim = np.prod(masks.shape[1:])\n",
    "        return nb_dim\n",
    "\n",
    "    @staticmethod\n",
    "    def split_abc(outputs, nb_design, nb_dim):\n",
    "        \"\"\"\n",
    "        Split the outputs values into the 3 sampling matrices A, B and C.\n",
    "\n",
    "        Parameters\n",
    "        ----------\n",
    "        outputs\n",
    "          Model outputs for each sample point of matrices A, B and C (in order).\n",
    "        nb_design\n",
    "          Number of points for matrices A (the same as B).\n",
    "        nb_dim\n",
    "          Number of dimensions to estimate.\n",
    "\n",
    "        Returns\n",
    "        -------\n",
    "        a\n",
    "          The results for the sample points in matrix A.\n",
    "        b\n",
    "          The results for the sample points in matrix B.\n",
    "        c\n",
    "          The results for the sample points in matrix C.\n",
    "        \"\"\"\n",
    "        sampling_a = outputs[:nb_design]\n",
    "        sampling_b = outputs[nb_design:nb_design*2]\n",
    "        replication_c = np.array([outputs[nb_design*2 + nb_design*i:nb_design*2 + nb_design*(i+1)]\n",
    "                      for i in range(nb_dim)])\n",
    "        return sampling_a, sampling_b, replication_c\n",
    "\n",
    "    @staticmethod\n",
    "    def post_process(stis, masks):\n",
    "        \"\"\"\n",
    "        Post processing ops on the indices before sending them back. Makes sure the data\n",
    "        format and shape is correct.\n",
    "\n",
    "        Parameters\n",
    "        ----------\n",
    "        stis\n",
    "          Total order Sobol' indices, one for each dimensions.\n",
    "        masks\n",
    "            Low resolution masks (before upsampling) used, one for each output.\n",
    "\n",
    "        Returns\n",
    "        -------\n",
    "        stis\n",
    "          Total order Sobol' indices after post processing.\n",
    "        \"\"\"\n",
    "        stis = np.array(stis, np.float32)\n",
    "        return stis.reshape(masks.shape[1:])\n",
    "\n",
    "    @abstractmethod\n",
    "    def __call__(self, masks, outputs, nb_design):\n",
    "        \"\"\"\n",
    "        Compute the Sobol' total order indices according to the Jansen algorithm.\n",
    "\n",
    "        Ref. Jansen, M., Analysis of variance designs for model output (1999)\n",
    "        https://www.sciencedirect.com/science/article/abs/pii/S0010465598001544\n",
    "\n",
    "        Parameters\n",
    "        ----------\n",
    "        masks\n",
    "          Low resolution masks (before upsampling) used, one for each output.\n",
    "        outputs\n",
    "          Model outputs associated to each masks. One for each sample point of\n",
    "          matrices A, B and C (in order).\n",
    "        nb_design\n",
    "          Number of points for matrices A (the same as B).\n",
    "\n",
    "        Returns\n",
    "        -------\n",
    "        sti: ndarray\n",
    "          Total order Sobol' indices, one for each dimensions.\n",
    "        \"\"\"\n",
    "        raise NotImplementedError()\n",
    "\n",
    "\n",
    "class JansenEstimator(SobolEstimator):\n",
    "    \"\"\"\n",
    "    Jansen estimator for total order Sobol' indices.\n",
    "\n",
    "    Ref. Jansen, M., Analysis of variance designs for model output (1999)\n",
    "    https://www.sciencedirect.com/science/article/abs/pii/S0010465598001544\n",
    "    \"\"\"\n",
    "\n",
    "    def __call__(self, masks, outputs, nb_design):\n",
    "        \"\"\"\n",
    "        Compute the Sobol' total order indices according to the Jansen algorithm.\n",
    "\n",
    "        Parameters\n",
    "        ----------\n",
    "        masks\n",
    "          Low resolution masks (before upsampling) used, one for each output.\n",
    "        outputs\n",
    "          Model outputs associated to each masks. One for each sample point of\n",
    "          matrices A, B and C (in order).\n",
    "        nb_design\n",
    "          Number of points for matrices A (the same as B).\n",
    "\n",
    "        Returns\n",
    "        -------\n",
    "        sti\n",
    "          Total order Sobol' indices, one for each dimensions.\n",
    "        \"\"\"\n",
    "        nb_dim = self.masks_dim(masks)\n",
    "        sampling_a, _, replication_c = self.split_abc(outputs, nb_design, nb_dim)\n",
    "\n",
    "        mu_a = np.mean(sampling_a)\n",
    "        var = np.sum([(v - mu_a)**2 for v in sampling_a]) / (len(sampling_a) - 1)\n",
    "\n",
    "        stis = [\n",
    "            np.sum((sampling_a - replication_c[i])**2.0) / (2 * nb_design * var)\n",
    "            for i in range(nb_dim)\n",
    "        ]\n",
    "\n",
    "        return self.post_process(stis, masks)\n",
    "    "
   ]
  },
  {
   "cell_type": "markdown",
   "id": "3333235f-09af-45bb-87f7-03e8e95c58f5",
   "metadata": {
    "jp-MarkdownHeadingCollapsed": true,
    "tags": []
   },
   "source": [
    "### Util Functions"
   ]
  },
  {
   "cell_type": "code",
   "execution_count": 6,
   "id": "800e9c67-f310-4a9d-bea8-528645240bac",
   "metadata": {
    "tags": []
   },
   "outputs": [
    {
     "name": "stdout",
     "output_type": "stream",
     "text": [
      "2023-11-17 19:55:40,899 SequenceTagger predicts: Dictionary with 47 tags: O, S-NP, B-NP, E-NP, I-NP, S-VP, B-VP, E-VP, I-VP, S-PP, B-PP, E-PP, I-PP, S-ADVP, B-ADVP, E-ADVP, I-ADVP, S-SBAR, B-SBAR, E-SBAR, I-SBAR, S-ADJP, B-ADJP, E-ADJP, I-ADJP, S-PRT, B-PRT, E-PRT, I-PRT, S-CONJP, B-CONJP, E-CONJP, I-CONJP, S-INTJ, B-INTJ, E-INTJ, I-INTJ, S-LST, B-LST, E-LST, I-LST, S-UCP, B-UCP, E-UCP, I-UCP, <START>, <STOP>\n"
     ]
    }
   ],
   "source": [
    "import torch\n",
    "from math import ceil\n",
    "import numpy as np\n",
    "from flair.models import SequenceTagger\n",
    "from flair.data import Sentence\n",
    "from typing import List, Callable, Union, Optional, Tuple\n",
    "\n",
    "# load tagger\n",
    "tagger = SequenceTagger.load(\"flair/chunk-english\")\n",
    "\n",
    "\n",
    "\n",
    "def batcher(elements, batch_size: int):\n",
    "    \"\"\"\n",
    "    An iterable to create batches from a list of elements\n",
    "    \"\"\"\n",
    "    nb_batchs = ceil(len(elements) / batch_size)\n",
    "\n",
    "    for batch_i in range(nb_batchs):\n",
    "        batch_start = batch_i * batch_size\n",
    "        batch_end = batch_start + batch_size\n",
    "\n",
    "        batch = elements[batch_start:batch_end]\n",
    "        yield batch\n",
    "        \n",
    "        \n",
    "def tokenize(samples: List[str], tokenizer: Callable, device='cuda'):\n",
    "    \"\"\"\n",
    "    A function to transform a list of strings into tokens to be consumed by the transformer model.\n",
    "    \"\"\"\n",
    "    x = tokenizer(\n",
    "        [s for s in samples],\n",
    "        padding=\"max_length\",\n",
    "        max_length=512,\n",
    "        truncation=True,\n",
    "        return_tensors='pt'\n",
    "    ).to(device)\n",
    "\n",
    "    return x\n",
    "\n",
    "\n",
    "def preprocess(samples: List[Tuple[str, str]], tokenizer: Callable, device='cuda'):\n",
    "    \"\"\"\n",
    "    A basic pre-processing function to transform the format from the imdb dataset to\n",
    "    something easier to work with.\n",
    "    \"\"\"\n",
    "    x, y = samples[:, 0], samples[:, 1]\n",
    "    x = tokenize(x, tokenizer, device)\n",
    "    y = torch.Tensor(y == 'positive').int().to(device)\n",
    "    return x, y\n",
    "\n",
    "\n",
    "def batch_predict(model, tokenizer: Callable, inputs: List[Tuple[str, str]], batch_size: int = 64, device='cuda'):\n",
    "    \"\"\"\n",
    "    A function to pre-process and predict using the transformer model in batches.\n",
    "    \"\"\"\n",
    "    predictions = None\n",
    "    labels = None\n",
    "\n",
    "    with torch.no_grad():\n",
    "        for batch_input in batcher(inputs, batch_size):\n",
    "            xp, yp = preprocess(batch_input, tokenizer, device)\n",
    "            out_batch = model(**xp)\n",
    "            predictions = out_batch if predictions is None else torch.cat([predictions, out_batch])\n",
    "            labels = yp if labels is None else torch.cat([labels, yp])\n",
    "\n",
    "        return predictions, labels\n",
    "    \n",
    "    \n",
    "    \n",
    "def extract_clauses(ds_entry: Union[List[str], str], clause_type=['NP', 'ADJP']) -> List[str]:\n",
    "    \"\"\"\n",
    "    Separates the input texts into clauses, and only keeps the ones belonging to the specified types.\n",
    "    If clause_type is None, the texts are split but all the clauses are kept.\n",
    "\n",
    "    Parameters\n",
    "    ----------\n",
    "    ds_entry\n",
    "        A list of strings that we wish to separate into clauses.\n",
    "    clause_type\n",
    "        A list with the types of clauses to keep. If None, all clauses are kept.\n",
    "\n",
    "    Returns\n",
    "    -------\n",
    "    clause_list\n",
    "        A list with input texts split into clauses.\n",
    "    \"\"\"\n",
    "    s = Sentence(ds_entry)\n",
    "    tagger.predict(s)\n",
    "    clause_list = []\n",
    "    for segment in s.get_labels():\n",
    "        if clause_type is None:\n",
    "            clause_list.append(segment.data_point.text)\n",
    "        elif segment.value in clause_type:\n",
    "            clause_list.append(segment.data_point.text)\n",
    "\n",
    "    return clause_list\n",
    "\n",
    "\n",
    "\n",
    "def batch_activations_fct(model, inputs: List[str], batch_size=64) -> torch.Tensor:\n",
    "    \"\"\"\n",
    "    A function to extract the activations of input texts in batches.\n",
    "    \"\"\"\n",
    "    activations = None\n",
    "    with torch.no_grad():\n",
    "        for batch_input in batcher(inputs, batch_size):\n",
    "            out_batch = model.features(**batch_input)\n",
    "            activations = out_batch if activations is None else torch.cat([activations, out_batch])\n",
    "        return activations\n",
    "    \n",
    "    \n",
    "\n",
    "def acti_preprocess(activations: torch.Tensor) -> np.ndarray:\n",
    "    \"\"\"\n",
    "    A function to preprocess the activations to work with COCKATIEL\n",
    "    \"\"\"\n",
    "    if len(activations.shape) == 4:\n",
    "        activations = torch.mean(activations, (1, 2))\n",
    "\n",
    "    if isinstance(activations, np.ndarray):\n",
    "        activations = torch.Tensor(activations)\n",
    "    if torch.min(activations) < 0:\n",
    "        raise ValueError(\"Please choose a layer with positive activations.\")\n",
    "\n",
    "    return activations.cpu().numpy().astype(np.float32)\n",
    "\n",
    "\n",
    "\n",
    "def calculate_u_values(sentence, cropped_sentences, model, tokenizer, factorization,\n",
    "                       separate, ignore_words: Optional[List[str]] = None, device='cuda') -> np.ndarray:\n",
    "    if ignore_words is None:\n",
    "        ignore_words = []\n",
    "    with torch.no_grad():\n",
    "        activations = None\n",
    "        for crop_id in range(-1, len(cropped_sentences)):\n",
    "            if crop_id == -1:\n",
    "                perturbated_review = sentence\n",
    "            elif cropped_sentences[crop_id] not in ignore_words:\n",
    "                perturbated_review = separate.join(np.delete(cropped_sentences, crop_id))\n",
    "            else:\n",
    "                continue\n",
    "            tokenized_perturbated_review = tokenizer(perturbated_review, truncation=True, padding=True, return_tensors=\"pt\").to(device)\n",
    "            activation = model.features(**tokenized_perturbated_review)\n",
    "            activations = activation if activations is None else torch.cat([activations, activation])\n",
    "\n",
    "        activations = acti_preprocess(activations)\n",
    "        u_values = factorization.transform(activations)\n",
    "        \n",
    "        return u_values\n",
    "    \n",
    "\n",
    "    \n",
    "def calculate_importance(\n",
    "        words: List[str], u_values: np.ndarray, concept_id: int, ignore_words: List[str]\n",
    ") -> List[float]:\n",
    "    \"\"\"\n",
    "    Calculates the presence of concepts in the input list of words.\n",
    "    \"\"\"\n",
    "    u_delta = u_values[0, concept_id] - u_values[1:, concept_id]\n",
    "    importances = []\n",
    "    delta_id = 0  # pointer to get current id in importance (as we skip unused word)\n",
    "\n",
    "    for word_id in range(len(words)):\n",
    "        if words[word_id] not in ignore_words:\n",
    "            importances.append(u_delta[delta_id])\n",
    "            delta_id += 1\n",
    "        else:\n",
    "            importances.append(0.0)\n",
    "\n",
    "    return importances\n",
    "\n",
    "\n",
    "\n",
    "def extract_excerpts(raw_dataset, n_reviews_for_excerpts):\n",
    "    \n",
    "    sentence_separators = ['.', '...', '?', '!', '..']\n",
    "    excerpt_dataset = []\n",
    "    \n",
    "    for review in raw_dataset[:n_reviews_for_excerpts]:\n",
    "        review = str(review)\n",
    "        \n",
    "        for sep in sentence_separators:\n",
    "            review = review.replace(sep, '.')\n",
    "  \n",
    "        cropped_review = review.split('.')\n",
    "    \n",
    "        for crop in cropped_review:\n",
    "            \n",
    "            if len(crop):\n",
    "                crop = crop + '.'\n",
    "                \n",
    "                while crop[0] == ' ':\n",
    "                    crop = crop[1:]\n",
    "      \n",
    "                if crop[0].isupper():  \n",
    "                    excerpt_dataset.append(crop)\n",
    "                \n",
    "    return excerpt_dataset"
   ]
  },
  {
   "cell_type": "markdown",
   "id": "0a4707b0-4508-4df0-9351-a66081fa5957",
   "metadata": {
    "jp-MarkdownHeadingCollapsed": true,
    "tags": []
   },
   "source": [
    "### Visualization"
   ]
  },
  {
   "cell_type": "code",
   "execution_count": 7,
   "id": "3aa714f3-ee46-422d-b6a3-44b537f8b028",
   "metadata": {
    "tags": []
   },
   "outputs": [
    {
     "name": "stderr",
     "output_type": "stream",
     "text": [
      "C:\\Users\\onurp\\AppData\\Local\\Temp\\ipykernel_13324\\1055440117.py:3: DeprecationWarning: Importing display from IPython.core.display is deprecated since IPython 7.14, please import from IPython display\n",
      "  from IPython.core.display import display, HTML\n",
      "[nltk_data] Downloading package punkt to\n",
      "[nltk_data]     C:\\Users\\onurp\\AppData\\Roaming\\nltk_data...\n",
      "[nltk_data]   Package punkt is already up-to-date!\n",
      "C:\\Users\\onurp\\AppData\\Local\\Temp\\ipykernel_13324\\1055440117.py:8: MatplotlibDeprecationWarning: The seaborn styles shipped by Matplotlib are deprecated since 3.6, as they no longer correspond to the styles shipped by seaborn. However, they will remain available as 'seaborn-v0_8-<style>'. Alternatively, directly use the seaborn API instead.\n",
      "  plt.style.use('seaborn')\n"
     ]
    }
   ],
   "source": [
    "import numpy as np\n",
    "import matplotlib.pyplot as plt\n",
    "from IPython.core.display import display, HTML\n",
    "from typing import List, Optional\n",
    "import nltk\n",
    "from nltk.tokenize import word_tokenize\n",
    "nltk.download('punkt')\n",
    "plt.style.use('seaborn')\n",
    "\n",
    "\n",
    "\n",
    "\"\"\"\n",
    "A module for generating plots for the explanations on notebooks.\n",
    "\"\"\"\n",
    "\n",
    "def print_legend(colors, label_to_criterion):\n",
    "    \"\"\"\n",
    "    Prints the legend for the plot in different colors.\n",
    "\n",
    "    Parameters\n",
    "    ----------\n",
    "    colors\n",
    "        A dictionary with the colors for each label.\n",
    "    label_to_criterion\n",
    "        A dictionary with the text to put on each label.\n",
    "    \"\"\"\n",
    "    html = []\n",
    "    for label_id in label_to_criterion.keys():\n",
    "        html.append(f'<span style=\"background-color: {colors[label_id]} 0.5); padding: 1px 5px; border: solid 3px ; border-color: {colors[label_id]} 1); #EFEFEF\">{label_to_criterion[label_id]} </span>')\n",
    "    display(HTML(\"<div style='display: flex; width: 400px; flex-wrap: wrap'>\" +  \" \".join(html) + \" </div>\" ))\n",
    "    display(HTML('<br><br>'))\n",
    "\n",
    "\n",
    "def viz_concepts(\n",
    "        text,\n",
    "        explanation,\n",
    "        colors,\n",
    "        ignore_words: Optional[List[str]] = None,\n",
    "        extract_fct: str = \"clause\"\n",
    "):\n",
    "    \"\"\"\n",
    "    Generates the visualization for COCKATIEL's explanations.\n",
    "\n",
    "    Parameters\n",
    "    ----------\n",
    "    text\n",
    "        A string with the text we wish to explain.\n",
    "    explanation\n",
    "        An array that corresponds to the output of the occlusion function.\n",
    "    ignore_words\n",
    "        A list of strings to ignore when applying occlusion.\n",
    "    extract_fct\n",
    "        A string indicating whether at which level we wish to explain: \"word\", \"clause\" or \"sentence\".\n",
    "    colors\n",
    "        A dictionary with the colors for each label\n",
    "    \"\"\"\n",
    "    try:\n",
    "        text = text.decode('utf-8')\n",
    "    except:\n",
    "        text = str(text)\n",
    "\n",
    "    if extract_fct == \"clause\":\n",
    "        words = extract_clauses(text, clause_type=None)\n",
    "    else:\n",
    "        words = word_tokenize(text)\n",
    "\n",
    "    l_phi = np.array(explanation)\n",
    "\n",
    "    phi_html = []\n",
    "\n",
    "    p = 0  # pointer to get current color for the words (it does not color words that have no phi)\n",
    "    for i in range(len(words)):\n",
    "        if words[i] not in ignore_words:\n",
    "            k = 0\n",
    "            for j in range(len(l_phi)):\n",
    "                if l_phi[k][p] < l_phi[j][p]:\n",
    "                    k = j\n",
    "\n",
    "            if l_phi[k][p] > 0.2:\n",
    "                phi_html.append(f'<span style=\"background-color: {colors[k]} {l_phi[k][p]}); padding: 1px 5px; border: solid 3px ; border-color: {colors[k]} 1); #EFEFEF\">{words[i]}</span>')\n",
    "                p += 1\n",
    "            else:\n",
    "                phi_html.append(f'<span style=\"background-color: rgba(233,30,99,0);  padding: 1px 5px; border: solid 3px ; border-color:  rgba(233,30,99,0); #EFEFEF\">{words[i]}</span>')\n",
    "                p += 1\n",
    "        else:\n",
    "            phi_html.append(f'<span style=\"background-color: rgba(233,30,99,0);  padding: 1px 5px; border: solid 3px ; border-color:  rgba(233,30,99,0); #EFEFEF\">{words[i]}</span>')\n",
    "    display(HTML(\"<div style='display: flex; width: 400px; flex-wrap: wrap'>\" +  \" \".join(phi_html) + \" </div>\" ))\n",
    "    \n",
    "    \n",
    "\n",
    "def plot_glob_importances(global_importance_pos, global_importance_neg):\n",
    "\n",
    "#     plt.figure(figsize=(22, 5))\n",
    "\n",
    "#     plt.subplot(121)\n",
    "#     cm = plt.get_cmap('tab20')\n",
    "#     plt.bar(range(len(global_importance_pos)), global_importance_pos, color=cm.colors, tick_label=range(len(global_importance_pos)))\n",
    "#     plt.title(\"Concepts for Positive Class\")\n",
    "\n",
    "#     plt.subplot(122)\n",
    "#     cm = plt.get_cmap('tab20')\n",
    "#     plt.bar(range(len(global_importance_pos)), global_importance_neg, color=cm.colors, tick_label=range(len(global_importance_neg)))\n",
    "#     plt.title(\"Concepts for Negative Class\")\n",
    "\n",
    "#     plt.show()\n",
    "    \n",
    "    fig, (ax1, ax2) = plt.subplots(2, 1, figsize=(7, 7))\n",
    "\n",
    "    cm = plt.get_cmap('tab20')\n",
    "\n",
    "    ax1.bar(range(len(global_importance_pos)), global_importance_pos, color=cm.colors, tick_label=range(len(global_importance_pos)))\n",
    "    ax1.set_title(\"Concepts for Positive Class\")\n",
    "\n",
    "    ax2.bar(range(len(global_importance_neg)), global_importance_neg, color=cm.colors, tick_label=range(len(global_importance_neg)))\n",
    "    ax2.set_title(\"Concepts for Negative Class\")\n",
    "\n",
    "    plt.show()\n",
    "    \n",
    "    \n",
    "    return None\n",
    "\n",
    "\n",
    "\n",
    "def plot_reviews_exp(segments_pos, u_segments_pos, factorization_pos, global_importance_pos,\n",
    "                     segments_neg, u_segments_neg, factorization_neg, global_importance_neg,\n",
    "                     custom_samples, samples_to_test=None, extract_fct=\"clause\"\n",
    "                    ):\n",
    "    \n",
    "    # Find Concept IDs\n",
    "    \n",
    "    m_pos = 3 # Number of concept looked for the positive class \n",
    "    m_neg = 3 # Number of concept looked for the negative class\n",
    "\n",
    "    l_concept_id_pos = np.argsort(global_importance_pos)[::-1][:m_pos]\n",
    "    l_concept_id_neg = np.argsort(global_importance_neg)[::-1][:m_neg]\n",
    "    \n",
    "    \n",
    "    \n",
    "    # Create dictionnaries for legend with a color for each concept:\n",
    "    # Use m_pos+m_neg concepts, so we have to create a dictionnary \"colors\" with m_pos+m_neg colors. \n",
    "    # In the dictionnary \"label_to_criterion\", add the corresponding concept for each color.\n",
    "\n",
    "    colors = {\n",
    "        0: \"rgba(9, 221, 55, \", #green\n",
    "        1: \"rgba(9, 221, 161, \", #turquoise\n",
    "        2: \"rgba(9, 175, 221, \", #blue\n",
    "        3: \"rgba(221, 9, 34, \", #red\n",
    "        4: \"rgba(221, 9, 140,\", #pink\n",
    "        5: \"rgba(221, 90, 9, \", #orange\n",
    "    }\n",
    "\n",
    "    label_to_criterion = {\n",
    "        0: \"Positive label: concept1\",\n",
    "        1: \"Positive label: concept2\",\n",
    "        2: \"Positive label: concept3\",\n",
    "        3: \"Negative label: concept1\",\n",
    "        4: \"Negative label: concept2\",\n",
    "        5: \"Negative label: concept3\",\n",
    "    }\n",
    "\n",
    "\n",
    "    #sanity check:\n",
    "    if len(label_to_criterion.keys()) != len(colors.keys()) or len(label_to_criterion.keys()) != (m_pos + m_neg):\n",
    "        print(\"Error: check that you have the correct number of colors and labels in your dictionaries to cover the number of concepts being looked at\")\n",
    "        \n",
    "        \n",
    "        \n",
    "    print_legend(colors, label_to_criterion)\n",
    "    \n",
    "    \n",
    "\n",
    "        \n",
    "    # Visualize explanations of custom samples\n",
    "    \n",
    "    if custom_samples is True:\n",
    "    \n",
    "        l_mip_sentences_neg = np.array(samples_to_test[0])\n",
    "        l_mip_sentences_pos = np.array(samples_to_test[1])\n",
    "        \n",
    "        n = len(l_mip_sentences_neg)    # Number of reviews for each labels and each concept\n",
    "        \n",
    "        \n",
    "        for sentence in l_mip_sentences_pos:\n",
    "            \n",
    "            phi = occlusion_concepts(sentence, model, tokenizer, [factorization_pos, factorization_neg], \n",
    "                                     [l_concept_id_pos, l_concept_id_neg], ignore_words = [], two_labels = True, \n",
    "                                     device = device, extract_fct=extract_fct)\n",
    "            phi /= np.max(np.abs(phi)) + 1e-5\n",
    "            viz_concepts(sentence, phi, colors, ignore_words = [], extract_fct=extract_fct)\n",
    "            \n",
    "        for sentence in l_mip_sentences_neg:\n",
    "            \n",
    "            phi = occlusion_concepts(sentence,  model, tokenizer, [factorization_pos, factorization_neg], \n",
    "                                     [l_concept_id_pos, l_concept_id_neg], ignore_words = [], two_labels = True, \n",
    "                                     device = device, extract_fct=extract_fct)\n",
    "            phi /= np.max(np.abs(phi)) + 1e-5\n",
    "            viz_concepts(sentence, phi, colors, ignore_words = [], extract_fct=extract_fct)\n",
    "        \n",
    "    \n",
    "    \n",
    "    # Visualize explanations of IMDB reviews\n",
    "    \n",
    "    elif custom_samples is False:\n",
    "        \n",
    "        # Find most important sentences that are associated with most important concepts\n",
    "        \n",
    "        n = 10\n",
    "        \n",
    "        l_mip_sentences_pos, l_mip_sentences_neg = [], []\n",
    "\n",
    "        # Add sentence of positive label\n",
    "        for concept_id in l_concept_id_pos:\n",
    "\n",
    "            mip_sentences_ids = np.argsort(u_segments_pos[:, concept_id])[::-1][:n]\n",
    "            mip_sentences = np.array(segments_pos)[mip_sentences_ids]\n",
    "            l_mip_sentences_pos.append(mip_sentences)\n",
    "\n",
    "        # Add sentence of negative label\n",
    "        for concept_id in l_concept_id_neg:\n",
    "\n",
    "            mip_sentences_ids = np.argsort(u_segments_neg[:, concept_id])[::-1][:n]\n",
    "            mip_sentences = np.array(segments_neg)[mip_sentences_ids]\n",
    "            l_mip_sentences_neg.append(mip_sentences)\n",
    "\n",
    "        l_mip_sentences_pos = np.array(l_mip_sentences_pos)\n",
    "        l_mip_sentences_pos = l_mip_sentences_pos.flatten()\n",
    "        l_mip_sentences_neg = np.array(l_mip_sentences_neg)\n",
    "        l_mip_sentences_neg = l_mip_sentences_neg.flatten()\n",
    "    \n",
    "\n",
    "    \n",
    "        print(\"positive predicted reviews:\")\n",
    "        print(\"\\n\")\n",
    "        i = 0\n",
    "        for sentence in l_mip_sentences_pos:\n",
    "            if i%n == 0 :\n",
    "                print(\"\\n\")\n",
    "                print(str(n) + \" most important reviews for positive predicted label - concept\" + str(i//n + 1) +\":\")\n",
    "                print(\"\\n\")\n",
    "            phi = occlusion_concepts(sentence, model, tokenizer, [factorization_pos, factorization_neg], \n",
    "                                     [l_concept_id_pos, l_concept_id_neg], ignore_words = [], two_labels = True, \n",
    "                                     device = device, extract_fct=extract_fct)\n",
    "            phi /= np.max(np.abs(phi)) + 1e-5\n",
    "            viz_concepts(sentence, phi, colors, ignore_words = [], extract_fct=extract_fct)\n",
    "            i += 1\n",
    "\n",
    "        print(\"\\n\")\n",
    "        print(\"negative predicted reviews:\")\n",
    "        print(\"\\n\")\n",
    "\n",
    "        i = 0\n",
    "        for sentence in l_mip_sentences_neg:\n",
    "\n",
    "            if i%n == 0 :\n",
    "                print(\"\\n\")\n",
    "                print(str(n) + \" most important reviews for negative predicted label - concept\" + str(i//n + 1) +\":\")\n",
    "                print(\"\\n\")\n",
    "            phi = occlusion_concepts(sentence,  model, tokenizer, [factorization_pos, factorization_neg], \n",
    "                                     [l_concept_id_pos, l_concept_id_neg], ignore_words = [], two_labels = True, \n",
    "                                     device = device, extract_fct=extract_fct)\n",
    "            phi /= np.max(np.abs(phi)) + 1e-5\n",
    "            viz_concepts(sentence, phi, colors, ignore_words = [], extract_fct=extract_fct)\n",
    "            i +=1\n",
    "        \n",
    "    return None"
   ]
  },
  {
   "cell_type": "markdown",
   "id": "46954b6c-555f-4bfd-b2bb-38ce49e8d47e",
   "metadata": {
    "tags": []
   },
   "source": [
    "## Personal Study's Code"
   ]
  },
  {
   "cell_type": "markdown",
   "id": "f102358e-2bf6-4173-af7e-b79cf5977887",
   "metadata": {
    "jp-MarkdownHeadingCollapsed": true,
    "tags": []
   },
   "source": [
    "### IMDB Data Analysis and Preprocessing"
   ]
  },
  {
   "cell_type": "code",
   "execution_count": 8,
   "id": "9fb65c11-05c7-4ff1-a2bc-caa2fd2e596a",
   "metadata": {
    "tags": []
   },
   "outputs": [],
   "source": [
    "import pandas as pd\n",
    "import numpy as np"
   ]
  },
  {
   "cell_type": "code",
   "execution_count": 9,
   "id": "e9d3006d-f0ad-4b5b-a3ba-867d7674e011",
   "metadata": {
    "tags": []
   },
   "outputs": [
    {
     "data": {
      "text/html": [
       "<div>\n",
       "<style scoped>\n",
       "    .dataframe tbody tr th:only-of-type {\n",
       "        vertical-align: middle;\n",
       "    }\n",
       "\n",
       "    .dataframe tbody tr th {\n",
       "        vertical-align: top;\n",
       "    }\n",
       "\n",
       "    .dataframe thead th {\n",
       "        text-align: right;\n",
       "    }\n",
       "</style>\n",
       "<table border=\"1\" class=\"dataframe\">\n",
       "  <thead>\n",
       "    <tr style=\"text-align: right;\">\n",
       "      <th></th>\n",
       "      <th>review</th>\n",
       "      <th>sentiment</th>\n",
       "    </tr>\n",
       "  </thead>\n",
       "  <tbody>\n",
       "    <tr>\n",
       "      <th>0</th>\n",
       "      <td>One of the other reviewers has mentioned that ...</td>\n",
       "      <td>positive</td>\n",
       "    </tr>\n",
       "    <tr>\n",
       "      <th>1</th>\n",
       "      <td>A wonderful little production. The filming tec...</td>\n",
       "      <td>positive</td>\n",
       "    </tr>\n",
       "    <tr>\n",
       "      <th>2</th>\n",
       "      <td>I thought this was a wonderful way to spend ti...</td>\n",
       "      <td>positive</td>\n",
       "    </tr>\n",
       "    <tr>\n",
       "      <th>3</th>\n",
       "      <td>Basically there's a family where a little boy ...</td>\n",
       "      <td>negative</td>\n",
       "    </tr>\n",
       "    <tr>\n",
       "      <th>4</th>\n",
       "      <td>Petter Mattei's Love in the Time of Money is a...</td>\n",
       "      <td>positive</td>\n",
       "    </tr>\n",
       "    <tr>\n",
       "      <th>...</th>\n",
       "      <td>...</td>\n",
       "      <td>...</td>\n",
       "    </tr>\n",
       "    <tr>\n",
       "      <th>49992</th>\n",
       "      <td>I thought this movie did a down right good job...</td>\n",
       "      <td>positive</td>\n",
       "    </tr>\n",
       "    <tr>\n",
       "      <th>49993</th>\n",
       "      <td>Bad plot, bad dialogue, bad acting, idiotic di...</td>\n",
       "      <td>negative</td>\n",
       "    </tr>\n",
       "    <tr>\n",
       "      <th>49994</th>\n",
       "      <td>I am a Catholic taught in parochial elementary...</td>\n",
       "      <td>negative</td>\n",
       "    </tr>\n",
       "    <tr>\n",
       "      <th>49995</th>\n",
       "      <td>I'm going to have to disagree with the previou...</td>\n",
       "      <td>negative</td>\n",
       "    </tr>\n",
       "    <tr>\n",
       "      <th>49996</th>\n",
       "      <td>No one expects the Star Trek movies to be high...</td>\n",
       "      <td>negative</td>\n",
       "    </tr>\n",
       "  </tbody>\n",
       "</table>\n",
       "<p>49997 rows × 2 columns</p>\n",
       "</div>"
      ],
      "text/plain": [
       "                                                  review sentiment\n",
       "0      One of the other reviewers has mentioned that ...  positive\n",
       "1      A wonderful little production. The filming tec...  positive\n",
       "2      I thought this was a wonderful way to spend ti...  positive\n",
       "3      Basically there's a family where a little boy ...  negative\n",
       "4      Petter Mattei's Love in the Time of Money is a...  positive\n",
       "...                                                  ...       ...\n",
       "49992  I thought this movie did a down right good job...  positive\n",
       "49993  Bad plot, bad dialogue, bad acting, idiotic di...  negative\n",
       "49994  I am a Catholic taught in parochial elementary...  negative\n",
       "49995  I'm going to have to disagree with the previou...  negative\n",
       "49996  No one expects the Star Trek movies to be high...  negative\n",
       "\n",
       "[49997 rows x 2 columns]"
      ]
     },
     "execution_count": 9,
     "metadata": {},
     "output_type": "execute_result"
    }
   ],
   "source": [
    "df_imdb_clean = pd.read_csv(\"data/IMDB_Dataset_clean.csv\", index_col=0)\n",
    "df_imdb_clean"
   ]
  },
  {
   "cell_type": "code",
   "execution_count": 10,
   "id": "12eecf8d-9f15-4af8-be3e-dd2a3b517dc2",
   "metadata": {
    "tags": []
   },
   "outputs": [
    {
     "name": "stdout",
     "output_type": "stream",
     "text": [
      "sentiment\n",
      "positive    24999\n",
      "negative    24998\n",
      "Name: count, dtype: int64\n"
     ]
    }
   ],
   "source": [
    "print(df_imdb_clean['sentiment'].value_counts())"
   ]
  },
  {
   "cell_type": "code",
   "execution_count": 11,
   "id": "5c3ac3bf-2a6c-4d4c-93de-d09e3423406e",
   "metadata": {
    "tags": []
   },
   "outputs": [
    {
     "name": "stdout",
     "output_type": "stream",
     "text": [
      "Max number of words in a sentence: 500\n",
      "Min number of words in a sentence: 4\n",
      "Avg number of words in a sentence: 209\n"
     ]
    }
   ],
   "source": [
    "import matplotlib.pyplot as plt\n",
    "import seaborn as sns\n",
    "\n",
    "# Extract the word counts of each sentence \n",
    "lengths = [len(string.split()) for string in df_imdb_clean['review']]\n",
    "\n",
    "print(\"Max number of words in a sentence:\", max(lengths))\n",
    "print(\"Min number of words in a sentence:\", min(lengths))\n",
    "print(\"Avg number of words in a sentence:\", round(sum(lengths) / len(lengths)))"
   ]
  },
  {
   "cell_type": "code",
   "execution_count": 12,
   "id": "f1d88153-8a02-4d1f-a76a-f11332bd84de",
   "metadata": {
    "tags": []
   },
   "outputs": [
    {
     "data": {
      "image/png": "[encoded data removed]",
      "text/plain": [
       "<Figure size 2000x800 with 1 Axes>"
      ]
     },
     "metadata": {},
     "output_type": "display_data"
    }
   ],
   "source": [
    "# Generate a histogram to group the data points\n",
    "hist, bins = np.histogram(lengths, bins=150)\n",
    "\n",
    "# Create the histogram plot\n",
    "plt.figure(figsize=(20, 8))\n",
    "plt.hist(lengths, bins=bins, edgecolor='k')\n",
    "plt.xlabel('Number of Words in a Sentence')\n",
    "plt.ylabel('Number of Sentences')\n",
    "plt.title('Distribution of Word Counts in Sentences')\n",
    "plt.show()"
   ]
  },
  {
   "cell_type": "markdown",
   "id": "f8263872-8ad2-47a1-8c3d-3dd227581ce6",
   "metadata": {
    "tags": []
   },
   "source": [
    "#### Comparison with Huggingface's Version"
   ]
  },
  {
   "cell_type": "code",
   "execution_count": 13,
   "id": "8bc916ef-9c3d-4ca7-89cb-251b103abf02",
   "metadata": {
    "tags": []
   },
   "outputs": [],
   "source": [
    "# from datasets import load_dataset\n",
    "\n",
    "# hugg_imdb = load_dataset(\"imdb\")\n",
    "\n",
    "# df_hugg_imdb_train = hugg_imdb['train'].to_pandas()\n",
    "# df_hugg_imdb_test = hugg_imdb['test'].to_pandas()\n",
    "\n",
    "# print(df_hugg_imdb_train.shape, df_hugg_imdb_test.shape)\n",
    "\n",
    "# display(pd.concat([df_hugg_imdb_train, df_hugg_imdb_test], axis=1))\n",
    "# display(df_imdb_clean)"
   ]
  },
  {
   "cell_type": "code",
   "execution_count": 14,
   "id": "f716ae5e-d926-4e04-b881-0cff67482850",
   "metadata": {
    "tags": []
   },
   "outputs": [],
   "source": [
    "# # Calculate the number of quartiles\n",
    "# num_quartiles = 4\n",
    "\n",
    "# # Calculate the number of samples in each quartile\n",
    "# quartile_size = len(df_hugg_imdb_train) // num_quartiles\n",
    "\n",
    "# # Initialize counters\n",
    "# positive_counts = []\n",
    "# negative_counts = []\n",
    "\n",
    "# # Iterate through each quartile\n",
    "# for i in range(num_quartiles):\n",
    "#     start_idx = i * quartile_size\n",
    "#     end_idx = (i + 1) * quartile_size\n",
    "\n",
    "#     quartile = df_hugg_imdb_train[start_idx:end_idx]\n",
    "    \n",
    "#     positive_samples = len(quartile[quartile['label'] == 1])\n",
    "#     negative_samples = len(quartile[quartile['label'] == 0])\n",
    "    \n",
    "#     positive_counts.append(positive_samples)\n",
    "#     negative_counts.append(negative_samples)\n",
    "\n",
    "# # Create a bar plot with specified dimensions\n",
    "# plt.figure(figsize=(6, 4))\n",
    "# quartile_labels = [f'Quartile {i+1}' for i in range(num_quartiles)]\n",
    "# width = 0.2\n",
    "# x = range(num_quartiles)\n",
    "\n",
    "# plt.bar(x, positive_counts, width, label='Positive', color='lightgreen')\n",
    "# plt.bar([i + width for i in x], negative_counts, width, label='Negative', color='red')\n",
    "\n",
    "# plt.ylabel('Count')\n",
    "# plt.title('Distribution of Sentiments in Quartiles (Train Set)')\n",
    "# plt.xticks([i + width / 2 for i in x], quartile_labels)\n",
    "# plt.legend(loc='upper right', bbox_to_anchor=(1.25, 1))\n",
    "# plt.show()"
   ]
  },
  {
   "cell_type": "code",
   "execution_count": 15,
   "id": "839e0c75-ae45-4c6a-8b26-2460492d4e0a",
   "metadata": {
    "tags": []
   },
   "outputs": [],
   "source": [
    "# # Calculate the number of quartiles\n",
    "# num_quartiles = 4\n",
    "\n",
    "# # Calculate the number of samples in each quartile\n",
    "# quartile_size = len(df_hugg_imdb_test) // num_quartiles\n",
    "\n",
    "# # Initialize counters\n",
    "# positive_counts = []\n",
    "# negative_counts = []\n",
    "\n",
    "# # Iterate through each quartile\n",
    "# for i in range(num_quartiles):\n",
    "#     start_idx = i * quartile_size\n",
    "#     end_idx = (i + 1) * quartile_size\n",
    "\n",
    "#     quartile = df_hugg_imdb_test[start_idx:end_idx]\n",
    "    \n",
    "#     positive_samples = len(quartile[quartile['label'] == 1])\n",
    "#     negative_samples = len(quartile[quartile['label'] == 0])\n",
    "    \n",
    "#     positive_counts.append(positive_samples)\n",
    "#     negative_counts.append(negative_samples)\n",
    "\n",
    "# # Create a bar plot with specified dimensions\n",
    "# plt.figure(figsize=(6, 4))\n",
    "# quartile_labels = [f'Quartile {i+1}' for i in range(num_quartiles)]\n",
    "# width = 0.2\n",
    "# x = range(num_quartiles)\n",
    "\n",
    "# plt.bar(x, positive_counts, width, label='Positive', color='lightgreen')\n",
    "# plt.bar([i + width for i in x], negative_counts, width, label='Negative', color='red')\n",
    "\n",
    "# plt.ylabel('Count')\n",
    "# plt.title('Distribution of Sentiments in Quartiles (Test Set)')\n",
    "# plt.xticks([i + width / 2 for i in x], quartile_labels)\n",
    "# plt.legend(loc='upper right', bbox_to_anchor=(1.25, 1))\n",
    "# plt.show()"
   ]
  },
  {
   "cell_type": "code",
   "execution_count": 16,
   "id": "3f77d490-28c0-4eaa-b93c-a94a6cb1445f",
   "metadata": {
    "tags": []
   },
   "outputs": [],
   "source": [
    "# # Calculate the number of quartiles\n",
    "# num_quartiles = 4\n",
    "\n",
    "# # Calculate the number of samples in each quartile\n",
    "# quartile_size = len(df_imdb_clean) // num_quartiles\n",
    "\n",
    "# # Initialize counters\n",
    "# positive_counts = []\n",
    "# negative_counts = []\n",
    "\n",
    "# # Iterate through each quartile\n",
    "# for i in range(num_quartiles):\n",
    "#     start_idx = i * quartile_size\n",
    "#     end_idx = (i + 1) * quartile_size\n",
    "\n",
    "#     quartile = df_imdb_clean[start_idx:end_idx]\n",
    "    \n",
    "#     positive_samples = len(quartile[quartile['sentiment'] == 'positive'])\n",
    "#     negative_samples = len(quartile[quartile['sentiment'] == 'negative'])\n",
    "    \n",
    "#     positive_counts.append(positive_samples)\n",
    "#     negative_counts.append(negative_samples)\n",
    "\n",
    "# # Create a bar plot with specified dimensions\n",
    "# plt.figure(figsize=(6, 4))\n",
    "# quartile_labels = [f'Quartile {i+1}' for i in range(num_quartiles)]\n",
    "# width = 0.2\n",
    "# x = range(num_quartiles)\n",
    "\n",
    "# plt.bar(x, positive_counts, width, label='Positive', color='lightgreen')\n",
    "# plt.bar([i + width for i in x], negative_counts, width, label='Negative', color='red')\n",
    "\n",
    "# plt.ylabel('Count')\n",
    "# plt.title('Distribution of Sentiments in Quartiles')\n",
    "# plt.xticks([i + width / 2 for i in x], quartile_labels)\n",
    "# plt.legend(loc='upper right', bbox_to_anchor=(1.25, 1))\n",
    "# plt.show()"
   ]
  },
  {
   "cell_type": "markdown",
   "id": "429afbd4-0019-424c-b54b-f4fd105a5b12",
   "metadata": {
    "tags": []
   },
   "source": [
    "#### Preprocessing"
   ]
  },
  {
   "cell_type": "code",
   "execution_count": 17,
   "id": "43e75780-c17c-422d-8fd9-8f7690e309b9",
   "metadata": {
    "tags": []
   },
   "outputs": [],
   "source": [
    "# hugg_imdb_test_np = np.array(df_hugg_imdb_test)\n",
    "# hugg_imdb_test_np.shape"
   ]
  },
  {
   "cell_type": "code",
   "execution_count": 18,
   "id": "45badbc0-5d1b-4f14-bb8f-e3bfa3977c5d",
   "metadata": {
    "tags": []
   },
   "outputs": [
    {
     "data": {
      "text/plain": [
       "(49997, 2)"
      ]
     },
     "execution_count": 18,
     "metadata": {},
     "output_type": "execute_result"
    }
   ],
   "source": [
    "# Convert the dataset to numpy array\n",
    "data_np = np.array(df_imdb_clean)\n",
    "data_np.shape"
   ]
  },
  {
   "cell_type": "markdown",
   "id": "27ea55e0-d8ad-4ed3-8c82-c413446ec31c",
   "metadata": {
    "jp-MarkdownHeadingCollapsed": true,
    "tags": []
   },
   "source": [
    "### Helper Functions"
   ]
  },
  {
   "cell_type": "code",
   "execution_count": 19,
   "id": "426eb0b0-6d43-4c2b-8cc8-80b8569d855d",
   "metadata": {
    "tags": []
   },
   "outputs": [],
   "source": [
    "import gc\n",
    "from sklearn.metrics import accuracy_score, classification_report, confusion_matrix\n",
    "\n",
    "\n",
    "def clear_gpu_memory():\n",
    "\n",
    "    gc.collect()\n",
    "    torch.cuda.empty_cache()\n",
    "    \n",
    "    return None\n",
    "\n",
    "\n",
    "def predict(model, tokenizer, samples, with_forward, device):\n",
    "    \n",
    "    if with_forward:\n",
    "        y_pred, labels = batch_predict(model.forward, tokenizer, samples, batch_size, device)\n",
    "        y_pred = y_pred.logits\n",
    "        \n",
    "    else:\n",
    "        features, labels = batch_predict(model.features, tokenizer, samples, batch_size, device)\n",
    "        y_pred = model.end_model(features)\n",
    "        \n",
    "    predictions = torch.argmax(y_pred, -1).float()\n",
    "    predictions = predictions.cpu().numpy()\n",
    "    labels = labels.cpu().numpy()\n",
    "    \n",
    "    return labels, predictions\n",
    "\n",
    "\n",
    "def evaluate(y_test, y_pred):\n",
    "    \n",
    "    accuracy = accuracy_score(y_test, y_pred)\n",
    "    print(\"Accuracy:\", round(accuracy, 2))\n",
    "    \n",
    "    conf_matrix = confusion_matrix(y_test, y_pred)\n",
    "    print(\"\\nConfusion Matrix:\")\n",
    "    print(conf_matrix)\n",
    "\n",
    "    metrics = classification_report(y_test, y_pred, zero_division=1)\n",
    "    print(\"\\nClassification Report:\")\n",
    "    print(metrics)\n",
    "\n",
    "    return None"
   ]
  },
  {
   "cell_type": "markdown",
   "id": "7ccd541a-64fa-4b4f-9e70-a53afbe3be04",
   "metadata": {
    "tags": []
   },
   "source": [
    "### Hyperparameters"
   ]
  },
  {
   "cell_type": "code",
   "execution_count": 26,
   "id": "8aeba3a8-661b-459a-9798-82cbee6ed418",
   "metadata": {
    "tags": []
   },
   "outputs": [],
   "source": [
    "batch_size = 32\n",
    "batch_size_cockatiel = 64\n",
    "\n",
    "n_concepts = 20\n",
    "n_reviews = 20000\n",
    "n_excerpts = 50000\n",
    "n_reviews_for_excerpts = 100000\n",
    "\n",
    "positive_class = 1\n",
    "negative_class = 0\n",
    "\n",
    "output_names = ['negative', 'positive']\n",
    "parent_path = \"data/regularization_l1_1/\""
   ]
  },
  {
   "cell_type": "markdown",
   "id": "b7db7d4a-138b-4e4e-b16c-cd823b1f8416",
   "metadata": {
    "tags": []
   },
   "source": [
    "### Prepare RoBERTa Model and Inspect Performance"
   ]
  },
  {
   "cell_type": "code",
   "execution_count": 21,
   "id": "a50ec081-ea8a-4189-959f-68e5b4f566d9",
   "metadata": {
    "tags": []
   },
   "outputs": [
    {
     "name": "stdout",
     "output_type": "stream",
     "text": [
      "Selected component: cuda\n"
     ]
    }
   ],
   "source": [
    "import torch\n",
    "\n",
    "# Set up GPU if it is available\n",
    "device = torch.device(\"cuda\") if torch.cuda.is_available() else torch.device(\"cpu\")\n",
    "print(\"Selected component:\", device)"
   ]
  },
  {
   "cell_type": "code",
   "execution_count": 22,
   "id": "d67e7e68-06e3-4552-a24c-29282115753a",
   "metadata": {
    "tags": []
   },
   "outputs": [
    {
     "name": "stdout",
     "output_type": "stream",
     "text": [
      "======================================================================\n",
      "Layer (type:depth-idx)                        Param #\n",
      "======================================================================\n",
      "├─RobertaModel: 1-1                           --\n",
      "|    └─RobertaEmbeddings: 2-1                 --\n",
      "|    |    └─Embedding: 3-1                    38,603,520\n",
      "|    |    └─Embedding: 3-2                    394,752\n",
      "|    |    └─Embedding: 3-3                    768\n",
      "|    |    └─LayerNorm: 3-4                    1,536\n",
      "|    |    └─Dropout: 3-5                      --\n",
      "|    └─RobertaEncoder: 2-2                    --\n",
      "|    |    └─ModuleList: 3-6                   85,054,464\n",
      "├─CustomRobertaClassificationHead: 1-2        --\n",
      "|    └─Linear: 2-3                            590,592\n",
      "|    └─Dropout: 2-4                           --\n",
      "|    └─Linear: 2-5                            1,538\n",
      "├─MSELoss: 1-3                                --\n",
      "======================================================================\n",
      "Total params: 124,647,170\n",
      "Trainable params: 124,647,170\n",
      "Non-trainable params: 0\n",
      "======================================================================\n",
      "124647170\n"
     ]
    }
   ],
   "source": [
    "import torchsummary as ts\n",
    "from transformers import RobertaTokenizerFast\n",
    "# from cockatiel import CustomRobertaForSequenceClassification, batch_predict, batcher, tokenize\n",
    "\n",
    "# Load the model and its tokenizer\n",
    "tokenizer = RobertaTokenizerFast.from_pretrained(\"wrmurray/roberta-base-finetuned-imdb\")\n",
    "model = CustomRobertaForSequenceClassification.from_pretrained(\"wrmurray/roberta-base-finetuned-imdb\").to(device)\n",
    "\n",
    "# Put model into evaluation mode\n",
    "model = model.eval()\n",
    "\n",
    "# View model summary\n",
    "print(ts.summary(model).total_params)"
   ]
  },
  {
   "cell_type": "code",
   "execution_count": 23,
   "id": "89d0e6bb-77b1-442a-b6d5-caf7bb9da85d",
   "metadata": {
    "tags": []
   },
   "outputs": [],
   "source": [
    "# labels, predictions = predict(model, tokenizer, data_np[25000:27000], with_forward=False, device=device)\n",
    "# evaluate(labels, predictions)\n",
    "# clear_gpu_memory()"
   ]
  },
  {
   "cell_type": "markdown",
   "id": "d70608aa-5aeb-465c-9b91-01f9ddb0c5f2",
   "metadata": {
    "tags": []
   },
   "source": [
    "### Objective 1: Reproducibility"
   ]
  },
  {
   "cell_type": "markdown",
   "id": "a709693f-9874-4296-94d3-1e589c7f9ec0",
   "metadata": {
    "tags": []
   },
   "source": [
    "#### Train COCKATIEL"
   ]
  },
  {
   "cell_type": "code",
   "execution_count": 27,
   "id": "b296d684-1cd2-41eb-baf6-2816354091cb",
   "metadata": {
    "tags": []
   },
   "outputs": [
    {
     "name": "stdout",
     "output_type": "stream",
     "text": [
      "12796  positive reviews predicted.\n",
      "12204  negative reviews predicted.\n",
      "\n"
     ]
    }
   ],
   "source": [
    "# # Veri kümesindeki ilk 20K'yı tahminletip kaydediyor\n",
    "\n",
    "# import pickle\n",
    "# from tqdm.notebook import tqdm\n",
    "\n",
    "# positive_reviews = []\n",
    "# negative_reviews = []\n",
    "\n",
    "# with torch.no_grad():\n",
    "#     for input_batch in tqdm(batcher(data_np[:n_reviews], batch_size=batch_size), total=ceil(len(data_np[:n_reviews]) / batch_size)):\n",
    "        \n",
    "#         r = np.array(list(map(lambda z: z[0], input_batch)))\n",
    "\n",
    "#         tokenized_batch = tokenize(r, tokenizer, device)\n",
    "        \n",
    "#         preds = model(**tokenized_batch)\n",
    "        \n",
    "#         positive_reviews.extend(list(input_batch[np.where(np.argmax(preds.cpu().numpy(), axis=1) == 1)[0]]))\n",
    "#         negative_reviews.extend(list(input_batch[np.where(np.argmax(preds.cpu().numpy(), axis=1) == 0)[0]]))\n",
    "\n",
    "# raw_dataset_pos = list(map(lambda z: z[0], positive_reviews))\n",
    "# raw_dataset_neg = list(map(lambda z: z[0], negative_reviews))\n",
    "\n",
    "# print(len(raw_dataset_pos), ' positive reviews predicted.')\n",
    "# print(len(raw_dataset_neg), ' negative reviews predicted.\\n')\n",
    "\n",
    "# pickle.dump(raw_dataset_pos, open(parent_path + \"raw_dataset_pos.pkl\", \"wb\"))\n",
    "# pickle.dump(raw_dataset_neg, open(parent_path + \"raw_dataset_neg.pkl\", \"wb\"))\n",
    "\n",
    "\n",
    "# # Veriden excerpt'leri çıkarıyor\n",
    "\n",
    "# excerpt_dataset_pos = extract_excerpts(raw_dataset_pos, n_reviews_for_excerpts)\n",
    "# excerpt_dataset_neg = extract_excerpts(raw_dataset_neg, n_reviews_for_excerpts)\n",
    "\n",
    "# print(len(excerpt_dataset_pos), ' positive excerpts created.')\n",
    "# print(len(excerpt_dataset_neg), ' negative excerpts created.')\n",
    "\n",
    "# pickle.dump(excerpt_dataset_pos, open(parent_path + \"excerpt_dataset_pos.pkl\", \"wb\"))\n",
    "# pickle.dump(excerpt_dataset_neg, open(parent_path + \"excerpt_dataset_neg.pkl\", \"wb\"))"
   ]
  },
  {
   "cell_type": "code",
   "execution_count": 28,
   "id": "e2c9faa6-2954-4ac9-9270-6d8de725a0bf",
   "metadata": {
    "tags": []
   },
   "outputs": [],
   "source": [
    "parent_path = \"data/regularization_alpha_w_4/\""
   ]
  },
  {
   "cell_type": "code",
   "execution_count": 29,
   "id": "f432104c-22a8-4627-8d0f-fad8e530523e",
   "metadata": {
    "tags": []
   },
   "outputs": [
    {
     "data": {
      "application/vnd.jupyter.widget-view+json": {
       "model_id": "7651db36eb5c44208b7bb4429c554e8f",
       "version_major": 2,
       "version_minor": 0
      },
      "text/plain": [
       "  0%|          | 0/782 [00:00<?, ?it/s]"
      ]
     },
     "metadata": {},
     "output_type": "display_data"
    },
    {
     "data": {
      "application/vnd.jupyter.widget-view+json": {
       "model_id": "196273c643964764886563d87e0634df",
       "version_major": 2,
       "version_minor": 0
      },
      "text/plain": [
       "  0%|          | 0/79 [00:00<?, ?it/s]"
      ]
     },
     "metadata": {},
     "output_type": "display_data"
    },
    {
     "data": {
      "application/vnd.jupyter.widget-view+json": {
       "model_id": "255f307acade4716bb87f247e9aa0b9b",
       "version_major": 2,
       "version_minor": 0
      },
      "text/plain": [
       "  0%|          | 0/782 [00:00<?, ?it/s]"
      ]
     },
     "metadata": {},
     "output_type": "display_data"
    },
    {
     "data": {
      "application/vnd.jupyter.widget-view+json": {
       "model_id": "77a2e4e0500c4c6fbb0044e0f3d9ab1b",
       "version_major": 2,
       "version_minor": 0
      },
      "text/plain": [
       "  0%|          | 0/79 [00:00<?, ?it/s]"
      ]
     },
     "metadata": {},
     "output_type": "display_data"
    }
   ],
   "source": [
    "# Train COCKATIEL\n",
    "\n",
    "from tqdm.notebook import tqdm\n",
    "\n",
    "with torch.no_grad():\n",
    "    \n",
    "    cockatiel_explainer_pos = COCKATIEL(model, tokenizer, components=n_concepts, \n",
    "                                        batch_size=batch_size_cockatiel, device=device, alpha_W=0.00001)\n",
    "    \n",
    "    segments_pos, u_segments_pos, factorization_pos, global_importance_pos = cockatiel_explainer_pos.extract_concepts(excerpt_dataset_pos[:n_excerpts], \n",
    "                                                                                                                      raw_dataset_pos[:(n_excerpts//10)], \n",
    "                                                                                                                      positive_class, \n",
    "                                                                                                                      limit_sobol=1_000)\n",
    "    \n",
    "pickle.dump(segments_pos, open(parent_path + \"segments_pos.pkl\", \"wb\"))\n",
    "pickle.dump(u_segments_pos, open(parent_path + \"u_segments_pos.pkl\", \"wb\"))\n",
    "pickle.dump(factorization_pos, open(parent_path + \"factorization_pos.pkl\", \"wb\"))\n",
    "pickle.dump(global_importance_pos, open(parent_path + \"global_importance_pos.pkl\", \"wb\"))\n",
    "\n",
    "with torch.no_grad():\n",
    "    \n",
    "    cockatiel_explainer_neg = COCKATIEL(model, tokenizer, components=n_concepts, \n",
    "                                        batch_size=batch_size_cockatiel, device=device, alpha_W=0.00001)\n",
    "    \n",
    "    segments_neg, u_segments_neg, factorization_neg, global_importance_neg = cockatiel_explainer_neg.extract_concepts(excerpt_dataset_neg[:n_excerpts], \n",
    "                                                                                                                      raw_dataset_neg[:(n_excerpts//10)], \n",
    "                                                                                                                      negative_class, \n",
    "                                                                                                                      limit_sobol=1_000)\n",
    "    \n",
    "pickle.dump(segments_neg, open(parent_path + \"segments_neg.pkl\", \"wb\"))\n",
    "pickle.dump(u_segments_neg, open(parent_path + \"u_segments_neg.pkl\", \"wb\"))\n",
    "pickle.dump(factorization_neg, open(parent_path + \"factorization_neg.pkl\", \"wb\"))\n",
    "pickle.dump(global_importance_neg, open(parent_path + \"global_importance_neg.pkl\", \"wb\"))"
   ]
  },
  {
   "cell_type": "markdown",
   "id": "3585a861-4883-4566-8942-6a4b9a32a2b6",
   "metadata": {
    "jp-MarkdownHeadingCollapsed": true,
    "tags": []
   },
   "source": [
    "#### Load Files (No Train)"
   ]
  },
  {
   "cell_type": "code",
   "execution_count": 27,
   "id": "f2395d6c-8976-4246-aaf0-0faffd3bc722",
   "metadata": {
    "tags": []
   },
   "outputs": [],
   "source": [
    "import pickle\n",
    "\n",
    "# Load raw dataset and excerpts\n",
    "\n",
    "# raw_dataset_pos = pickle.load(open(parent_path + \"raw_dataset_pos.pkl\", \"rb\"))\n",
    "# raw_dataset_neg = pickle.load(open(parent_path + \"raw_dataset_neg.pkl\", \"rb\"))\n",
    "# excerpt_dataset_pos = pickle.load(open(parent_path + \"excerpt_dataset_pos.pkl\", \"rb\"))\n",
    "# excerpt_dataset_neg = pickle.load(open(parent_path + \"excerpt_dataset_neg.pkl\", \"rb\"))\n",
    "\n",
    "# Load sentences and global importances for positive class\n",
    "\n",
    "# segments_pos = pickle.load(open(parent_path + \"segments_pos.pkl\",'rb'))\n",
    "# u_segments_pos = pickle.load(open(parent_path + \"u_segments_pos.pkl\",'rb'))\n",
    "# factorization_pos = pickle.load(open(parent_path + \"factorization_pos.pkl\",'rb'))\n",
    "# global_importance_pos = pickle.load(open(parent_path + \"global_importance_pos.pkl\",'rb'))\n",
    "\n",
    "# # Load sentences and global importances for negative class\n",
    "\n",
    "# segments_neg = pickle.load(open(parent_path + \"segments_neg.pkl\",'rb'))\n",
    "# u_segments_neg = pickle.load(open(parent_path + \"u_segments_neg.pkl\",'rb'))\n",
    "# factorization_neg = pickle.load(open(parent_path + \"factorization_neg.pkl\",'rb'))\n",
    "# global_importance_neg = pickle.load(open(parent_path + \"global_importance_neg.pkl\",'rb'))"
   ]
  },
  {
   "cell_type": "markdown",
   "id": "446de462-0ea4-43c4-a128-f5582f6692ce",
   "metadata": {
    "tags": []
   },
   "source": [
    "#### Results"
   ]
  },
  {
   "cell_type": "code",
   "execution_count": 30,
   "id": "0c1f0cee-1ffc-43ba-8a67-bb2ad4a77ec5",
   "metadata": {
    "tags": []
   },
   "outputs": [
    {
     "data": {
      "image/png": "[encoded data removed]",
      "text/plain": [
       "<Figure size 700x700 with 2 Axes>"
      ]
     },
     "metadata": {},
     "output_type": "display_data"
    }
   ],
   "source": [
    "plot_glob_importances(global_importance_pos, global_importance_neg)"
   ]
  },
  {
   "cell_type": "code",
   "execution_count": 35,
   "id": "550a7a96-0cf4-4c74-8a3e-59d49de8bfe5",
   "metadata": {
    "collapsed": true,
    "jupyter": {
     "outputs_hidden": true
    },
    "tags": []
   },
   "outputs": [
    {
     "data": {
      "text/html": [
       "<div style='display: flex; width: 400px; flex-wrap: wrap'><span style=\"background-color: rgba(9, 221, 55,  0.5); padding: 1px 5px; border: solid 3px ; border-color: rgba(9, 221, 55,  1); #EFEFEF\">Positive label: concept1 </span> <span style=\"background-color: rgba(9, 221, 161,  0.5); padding: 1px 5px; border: solid 3px ; border-color: rgba(9, 221, 161,  1); #EFEFEF\">Positive label: concept2 </span> <span style=\"background-color: rgba(9, 175, 221,  0.5); padding: 1px 5px; border: solid 3px ; border-color: rgba(9, 175, 221,  1); #EFEFEF\">Positive label: concept3 </span> <span style=\"background-color: rgba(221, 9, 34,  0.5); padding: 1px 5px; border: solid 3px ; border-color: rgba(221, 9, 34,  1); #EFEFEF\">Negative label: concept1 </span> <span style=\"background-color: rgba(221, 9, 140, 0.5); padding: 1px 5px; border: solid 3px ; border-color: rgba(221, 9, 140, 1); #EFEFEF\">Negative label: concept2 </span> <span style=\"background-color: rgba(221, 90, 9,  0.5); padding: 1px 5px; border: solid 3px ; border-color: rgba(221, 90, 9,  1); #EFEFEF\">Negative label: concept3 </span> </div>"
      ],
      "text/plain": [
       "<IPython.core.display.HTML object>"
      ]
     },
     "metadata": {},
     "output_type": "display_data"
    },
    {
     "data": {
      "text/html": [
       "<br><br>"
      ],
      "text/plain": [
       "<IPython.core.display.HTML object>"
      ]
     },
     "metadata": {},
     "output_type": "display_data"
    },
    {
     "name": "stdout",
     "output_type": "stream",
     "text": [
      "positive predicted reviews:\n",
      "\n",
      "\n",
      "\n",
      "\n",
      "10 most important reviews for positive predicted label - concept1:\n",
      "\n",
      "\n"
     ]
    },
    {
     "data": {
      "text/html": [
       "<div style='display: flex; width: 400px; flex-wrap: wrap'><span style=\"background-color: rgba(233,30,99,0);  padding: 1px 5px; border: solid 3px ; border-color:  rgba(233,30,99,0); #EFEFEF\">Perhaps</span> <span style=\"background-color: rgba(233,30,99,0);  padding: 1px 5px; border: solid 3px ; border-color:  rgba(233,30,99,0); #EFEFEF\">this</span> <span style=\"background-color: rgba(233,30,99,0);  padding: 1px 5px; border: solid 3px ; border-color:  rgba(233,30,99,0); #EFEFEF\">is</span> <span style=\"background-color: rgba(233,30,99,0);  padding: 1px 5px; border: solid 3px ; border-color:  rgba(233,30,99,0); #EFEFEF\">because</span> <span style=\"background-color: rgba(233,30,99,0);  padding: 1px 5px; border: solid 3px ; border-color:  rgba(233,30,99,0); #EFEFEF\">he</span> <span style=\"background-color: rgba(233,30,99,0);  padding: 1px 5px; border: solid 3px ; border-color:  rgba(233,30,99,0); #EFEFEF\">'s</span> <span style=\"background-color: rgba(233,30,99,0);  padding: 1px 5px; border: solid 3px ; border-color:  rgba(233,30,99,0); #EFEFEF\">the kind</span> <span style=\"background-color: rgba(233,30,99,0);  padding: 1px 5px; border: solid 3px ; border-color:  rgba(233,30,99,0); #EFEFEF\">of</span> <span style=\"background-color: rgba(233,30,99,0);  padding: 1px 5px; border: solid 3px ; border-color:  rgba(233,30,99,0); #EFEFEF\">guy</span> <span style=\"background-color: rgba(233,30,99,0);  padding: 1px 5px; border: solid 3px ; border-color:  rgba(233,30,99,0); #EFEFEF\">it</span> <span style=\"background-color: rgba(233,30,99,0);  padding: 1px 5px; border: solid 3px ; border-color:  rgba(233,30,99,0); #EFEFEF\">'s</span> <span style=\"background-color: rgba(233,30,99,0);  padding: 1px 5px; border: solid 3px ; border-color:  rgba(233,30,99,0); #EFEFEF\">easy</span> <span style=\"background-color: rgba(233,30,99,0);  padding: 1px 5px; border: solid 3px ; border-color:  rgba(233,30,99,0); #EFEFEF\">to bounce</span> <span style=\"background-color: rgba(233,30,99,0);  padding: 1px 5px; border: solid 3px ; border-color:  rgba(233,30,99,0); #EFEFEF\">off</span> <span style=\"background-color: rgba(233,30,99,0);  padding: 1px 5px; border: solid 3px ; border-color:  rgba(233,30,99,0); #EFEFEF\">of</span> </div>"
      ],
      "text/plain": [
       "<IPython.core.display.HTML object>"
      ]
     },
     "metadata": {},
     "output_type": "display_data"
    },
    {
     "data": {
      "text/html": [
       "<div style='display: flex; width: 400px; flex-wrap: wrap'><span style=\"background-color: rgba(233,30,99,0);  padding: 1px 5px; border: solid 3px ; border-color:  rgba(233,30,99,0); #EFEFEF\">The film</span> <span style=\"background-color: rgba(233,30,99,0);  padding: 1px 5px; border: solid 3px ; border-color:  rgba(233,30,99,0); #EFEFEF\">is</span> <span style=\"background-color: rgba(233,30,99,0);  padding: 1px 5px; border: solid 3px ; border-color:  rgba(233,30,99,0); #EFEFEF\">for</span> <span style=\"background-color: rgba(233,30,99,0);  padding: 1px 5px; border: solid 3px ; border-color:  rgba(233,30,99,0); #EFEFEF\">some reason</span> <span style=\"background-color: rgba(233,30,99,0);  padding: 1px 5px; border: solid 3px ; border-color:  rgba(233,30,99,0); #EFEFEF\">set</span> <span style=\"background-color: rgba(233,30,99,0);  padding: 1px 5px; border: solid 3px ; border-color:  rgba(233,30,99,0); #EFEFEF\">back</span> <span style=\"background-color: rgba(233,30,99,0);  padding: 1px 5px; border: solid 3px ; border-color:  rgba(233,30,99,0); #EFEFEF\">in</span> <span style=\"background-color: rgba(233,30,99,0);  padding: 1px 5px; border: solid 3px ; border-color:  rgba(233,30,99,0); #EFEFEF\">the early 1790</span> <span style=\"background-color: rgba(233,30,99,0);  padding: 1px 5px; border: solid 3px ; border-color:  rgba(233,30,99,0); #EFEFEF\">'s</span> <span style=\"background-color: rgba(233,30,99,0);  padding: 1px 5px; border: solid 3px ; border-color:  rgba(233,30,99,0); #EFEFEF\">rather than</span> <span style=\"background-color: rgba(233,30,99,0);  padding: 1px 5px; border: solid 3px ; border-color:  rgba(233,30,99,0); #EFEFEF\">the Regency period</span> <span style=\"background-color: rgba(233,30,99,0);  padding: 1px 5px; border: solid 3px ; border-color:  rgba(233,30,99,0); #EFEFEF\">where</span> <span style=\"background-color: rgba(233,30,99,0);  padding: 1px 5px; border: solid 3px ; border-color:  rgba(233,30,99,0); #EFEFEF\">the novel</span> <span style=\"background-color: rgba(233,30,99,0);  padding: 1px 5px; border: solid 3px ; border-color:  rgba(233,30,99,0); #EFEFEF\">is set</span> <span style=\"background-color: rgba(233,30,99,0);  padding: 1px 5px; border: solid 3px ; border-color:  rgba(233,30,99,0); #EFEFEF\">as</span> <span style=\"background-color: rgba(233,30,99,0);  padding: 1px 5px; border: solid 3px ; border-color:  rgba(233,30,99,0); #EFEFEF\">scholars</span> <span style=\"background-color: rgba(233,30,99,0);  padding: 1px 5px; border: solid 3px ; border-color:  rgba(233,30,99,0); #EFEFEF\">have long shown</span> </div>"
      ],
      "text/plain": [
       "<IPython.core.display.HTML object>"
      ]
     },
     "metadata": {},
     "output_type": "display_data"
    },
    {
     "data": {
      "text/html": [
       "<div style='display: flex; width: 400px; flex-wrap: wrap'><span style=\"background-color: rgba(233,30,99,0);  padding: 1px 5px; border: solid 3px ; border-color:  rgba(233,30,99,0); #EFEFEF\">I</span> <span style=\"background-color: rgba(233,30,99,0);  padding: 1px 5px; border: solid 3px ; border-color:  rgba(233,30,99,0); #EFEFEF\">have seen</span> <span style=\"background-color: rgba(233,30,99,0);  padding: 1px 5px; border: solid 3px ; border-color:  rgba(233,30,99,0); #EFEFEF\">it</span> <span style=\"background-color: rgba(233,30,99,0);  padding: 1px 5px; border: solid 3px ; border-color:  rgba(233,30,99,0); #EFEFEF\">several times</span> <span style=\"background-color: rgba(233,30,99,0);  padding: 1px 5px; border: solid 3px ; border-color:  rgba(233,30,99,0); #EFEFEF\">never get bored</span> <span style=\"background-color: rgba(233,30,99,0);  padding: 1px 5px; border: solid 3px ; border-color:  rgba(233,30,99,0); #EFEFEF\">with</span> <span style=\"background-color: rgba(233,30,99,0);  padding: 1px 5px; border: solid 3px ; border-color:  rgba(233,30,99,0); #EFEFEF\">it</span> </div>"
      ],
      "text/plain": [
       "<IPython.core.display.HTML object>"
      ]
     },
     "metadata": {},
     "output_type": "display_data"
    },
    {
     "data": {
      "text/html": [
       "<div style='display: flex; width: 400px; flex-wrap: wrap'><span style=\"background-color: rgba(233,30,99,0);  padding: 1px 5px; border: solid 3px ; border-color:  rgba(233,30,99,0); #EFEFEF\">This</span> <span style=\"background-color: rgba(233,30,99,0);  padding: 1px 5px; border: solid 3px ; border-color:  rgba(233,30,99,0); #EFEFEF\">is</span> <span style=\"background-color: rgba(233,30,99,0);  padding: 1px 5px; border: solid 3px ; border-color:  rgba(233,30,99,0); #EFEFEF\">a very exciting and romantic film</span> </div>"
      ],
      "text/plain": [
       "<IPython.core.display.HTML object>"
      ]
     },
     "metadata": {},
     "output_type": "display_data"
    },
    {
     "data": {
      "text/html": [
       "<div style='display: flex; width: 400px; flex-wrap: wrap'><span style=\"background-color: rgba(233,30,99,0);  padding: 1px 5px; border: solid 3px ; border-color:  rgba(233,30,99,0); #EFEFEF\">He</span> <span style=\"background-color: rgba(233,30,99,0);  padding: 1px 5px; border: solid 3px ; border-color:  rgba(233,30,99,0); #EFEFEF\">is</span> <span style=\"background-color: rgba(233,30,99,0);  padding: 1px 5px; border: solid 3px ; border-color:  rgba(233,30,99,0); #EFEFEF\">the best</span> <span style=\"background-color: rgba(233,30,99,0);  padding: 1px 5px; border: solid 3px ; border-color:  rgba(233,30,99,0); #EFEFEF\">hands</span> <span style=\"background-color: rgba(233,30,99,0);  padding: 1px 5px; border: solid 3px ; border-color:  rgba(233,30,99,0); #EFEFEF\">down</span> </div>"
      ],
      "text/plain": [
       "<IPython.core.display.HTML object>"
      ]
     },
     "metadata": {},
     "output_type": "display_data"
    },
    {
     "data": {
      "text/html": [
       "<div style='display: flex; width: 400px; flex-wrap: wrap'><span style=\"background-color: rgba(233,30,99,0);  padding: 1px 5px; border: solid 3px ; border-color:  rgba(233,30,99,0); #EFEFEF\">The cameos</span> <span style=\"background-color: rgba(233,30,99,0);  padding: 1px 5px; border: solid 3px ; border-color:  rgba(233,30,99,0); #EFEFEF\">are</span> <span style=\"background-color: rgba(233,30,99,0);  padding: 1px 5px; border: solid 3px ; border-color:  rgba(233,30,99,0); #EFEFEF\">wonderful</span> <span style=\"background-color: rgba(233,30,99,0);  padding: 1px 5px; border: solid 3px ; border-color:  rgba(233,30,99,0); #EFEFEF\">as</span> <span style=\"background-color: rgba(233,30,99,0);  padding: 1px 5px; border: solid 3px ; border-color:  rgba(233,30,99,0); #EFEFEF\">always</span> <span style=\"background-color: rgba(233,30,99,0);  padding: 1px 5px; border: solid 3px ; border-color:  rgba(233,30,99,0); #EFEFEF\">the main event</span> <span style=\"background-color: rgba(233,30,99,0);  padding: 1px 5px; border: solid 3px ; border-color:  rgba(233,30,99,0); #EFEFEF\">is</span> <span style=\"background-color: rgba(233,30,99,0);  padding: 1px 5px; border: solid 3px ; border-color:  rgba(233,30,99,0); #EFEFEF\">MJ</span> <span style=\"background-color: rgba(233,30,99,0);  padding: 1px 5px; border: solid 3px ; border-color:  rgba(233,30,99,0); #EFEFEF\">himself</span> </div>"
      ],
      "text/plain": [
       "<IPython.core.display.HTML object>"
      ]
     },
     "metadata": {},
     "output_type": "display_data"
    },
    {
     "data": {
      "text/html": [
       "<div style='display: flex; width: 400px; flex-wrap: wrap'><span style=\"background-color: rgba(233,30,99,0);  padding: 1px 5px; border: solid 3px ; border-color:  rgba(233,30,99,0); #EFEFEF\">Smooth Criminal</span> <span style=\"background-color: rgba(233,30,99,0);  padding: 1px 5px; border: solid 3px ; border-color:  rgba(233,30,99,0); #EFEFEF\">is</span> <span style=\"background-color: rgba(233,30,99,0);  padding: 1px 5px; border: solid 3px ; border-color:  rgba(233,30,99,0); #EFEFEF\">pure genius</span> </div>"
      ],
      "text/plain": [
       "<IPython.core.display.HTML object>"
      ]
     },
     "metadata": {},
     "output_type": "display_data"
    },
    {
     "data": {
      "text/html": [
       "<div style='display: flex; width: 400px; flex-wrap: wrap'><span style=\"background-color: rgba(233,30,99,0);  padding: 1px 5px; border: solid 3px ; border-color:  rgba(233,30,99,0); #EFEFEF\">This film</span> <span style=\"background-color: rgba(233,30,99,0);  padding: 1px 5px; border: solid 3px ; border-color:  rgba(233,30,99,0); #EFEFEF\">contains</span> <span style=\"background-color: rgba(233,30,99,0);  padding: 1px 5px; border: solid 3px ; border-color:  rgba(233,30,99,0); #EFEFEF\">some</span> <span style=\"background-color: rgba(233,30,99,0);  padding: 1px 5px; border: solid 3px ; border-color:  rgba(233,30,99,0); #EFEFEF\">of</span> <span style=\"background-color: rgba(233,30,99,0);  padding: 1px 5px; border: solid 3px ; border-color:  rgba(233,30,99,0); #EFEFEF\">the best stuff</span> <span style=\"background-color: rgba(233,30,99,0);  padding: 1px 5px; border: solid 3px ; border-color:  rgba(233,30,99,0); #EFEFEF\">Mike</span> <span style=\"background-color: rgba(233,30,99,0);  padding: 1px 5px; border: solid 3px ; border-color:  rgba(233,30,99,0); #EFEFEF\">has ever done</span> </div>"
      ],
      "text/plain": [
       "<IPython.core.display.HTML object>"
      ]
     },
     "metadata": {},
     "output_type": "display_data"
    },
    {
     "data": {
      "text/html": [
       "<div style='display: flex; width: 400px; flex-wrap: wrap'><span style=\"background-color: rgba(233,30,99,0);  padding: 1px 5px; border: solid 3px ; border-color:  rgba(233,30,99,0); #EFEFEF\">Michael Is King</span> </div>"
      ],
      "text/plain": [
       "<IPython.core.display.HTML object>"
      ]
     },
     "metadata": {},
     "output_type": "display_data"
    },
    {
     "data": {
      "text/html": [
       "<div style='display: flex; width: 400px; flex-wrap: wrap'><span style=\"background-color: rgba(233,30,99,0);  padding: 1px 5px; border: solid 3px ; border-color:  rgba(233,30,99,0); #EFEFEF\">The bottom line</span> <span style=\"background-color: rgba(233,30,99,0);  padding: 1px 5px; border: solid 3px ; border-color:  rgba(233,30,99,0); #EFEFEF\">is</span> <span style=\"background-color: rgba(233,30,99,0);  padding: 1px 5px; border: solid 3px ; border-color:  rgba(233,30,99,0); #EFEFEF\">that</span> <span style=\"background-color: rgba(233,30,99,0);  padding: 1px 5px; border: solid 3px ; border-color:  rgba(233,30,99,0); #EFEFEF\">while</span> <span style=\"background-color: rgba(233,30,99,0);  padding: 1px 5px; border: solid 3px ; border-color:  rgba(233,30,99,0); #EFEFEF\">this</span> <span style=\"background-color: rgba(233,30,99,0);  padding: 1px 5px; border: solid 3px ; border-color:  rgba(233,30,99,0); #EFEFEF\">is</span> <span style=\"background-color: rgba(233,30,99,0);  padding: 1px 5px; border: solid 3px ; border-color:  rgba(233,30,99,0); #EFEFEF\">a great movie</span> <span style=\"background-color: rgba(233,30,99,0);  padding: 1px 5px; border: solid 3px ; border-color:  rgba(233,30,99,0); #EFEFEF\">to watch and hear</span> <span style=\"background-color: rgba(233,30,99,0);  padding: 1px 5px; border: solid 3px ; border-color:  rgba(233,30,99,0); #EFEFEF\">it</span> <span style=\"background-color: rgba(233,30,99,0);  padding: 1px 5px; border: solid 3px ; border-color:  rgba(233,30,99,0); #EFEFEF\">deviates</span> <span style=\"background-color: rgba(233,30,99,0);  padding: 1px 5px; border: solid 3px ; border-color:  rgba(233,30,99,0); #EFEFEF\">from</span> <span style=\"background-color: rgba(233,30,99,0);  padding: 1px 5px; border: solid 3px ; border-color:  rgba(233,30,99,0); #EFEFEF\">Jane Austen</span> <span style=\"background-color: rgba(233,30,99,0);  padding: 1px 5px; border: solid 3px ; border-color:  rgba(233,30,99,0); #EFEFEF\">'s novel</span> <span style=\"background-color: rgba(233,30,99,0);  padding: 1px 5px; border: solid 3px ; border-color:  rgba(233,30,99,0); #EFEFEF\">so much</span> <span style=\"background-color: rgba(233,30,99,0);  padding: 1px 5px; border: solid 3px ; border-color:  rgba(233,30,99,0); #EFEFEF\">that</span> <span style=\"background-color: rgba(233,30,99,0);  padding: 1px 5px; border: solid 3px ; border-color:  rgba(233,30,99,0); #EFEFEF\">any student</span> <span style=\"background-color: rgba(233,30,99,0);  padding: 1px 5px; border: solid 3px ; border-color:  rgba(233,30,99,0); #EFEFEF\">who</span> <span style=\"background-color: rgba(233,30,99,0);  padding: 1px 5px; border: solid 3px ; border-color:  rgba(233,30,99,0); #EFEFEF\">watched</span> <span style=\"background-color: rgba(233,30,99,0);  padding: 1px 5px; border: solid 3px ; border-color:  rgba(233,30,99,0); #EFEFEF\">it</span> <span style=\"background-color: rgba(233,30,99,0);  padding: 1px 5px; border: solid 3px ; border-color:  rgba(233,30,99,0); #EFEFEF\">thinking</span> <span style=\"background-color: rgba(233,30,99,0);  padding: 1px 5px; border: solid 3px ; border-color:  rgba(233,30,99,0); #EFEFEF\">she</span> <span style=\"background-color: rgba(233,30,99,0);  padding: 1px 5px; border: solid 3px ; border-color:  rgba(233,30,99,0); #EFEFEF\">could substitute</span> <span style=\"background-color: rgba(233,30,99,0);  padding: 1px 5px; border: solid 3px ; border-color:  rgba(233,30,99,0); #EFEFEF\">viewing</span> <span style=\"background-color: rgba(233,30,99,0);  padding: 1px 5px; border: solid 3px ; border-color:  rgba(233,30,99,0); #EFEFEF\">for</span> <span style=\"background-color: rgba(233,30,99,0);  padding: 1px 5px; border: solid 3px ; border-color:  rgba(233,30,99,0); #EFEFEF\">reading</span> <span style=\"background-color: rgba(233,30,99,0);  padding: 1px 5px; border: solid 3px ; border-color:  rgba(233,30,99,0); #EFEFEF\">would fail</span> </div>"
      ],
      "text/plain": [
       "<IPython.core.display.HTML object>"
      ]
     },
     "metadata": {},
     "output_type": "display_data"
    },
    {
     "name": "stdout",
     "output_type": "stream",
     "text": [
      "\n",
      "\n",
      "10 most important reviews for positive predicted label - concept2:\n",
      "\n",
      "\n"
     ]
    },
    {
     "data": {
      "text/html": [
       "<div style='display: flex; width: 400px; flex-wrap: wrap'><span style=\"background-color: rgba(233,30,99,0);  padding: 1px 5px; border: solid 3px ; border-color:  rgba(233,30,99,0); #EFEFEF\">Perhaps</span> <span style=\"background-color: rgba(233,30,99,0);  padding: 1px 5px; border: solid 3px ; border-color:  rgba(233,30,99,0); #EFEFEF\">this</span> <span style=\"background-color: rgba(233,30,99,0);  padding: 1px 5px; border: solid 3px ; border-color:  rgba(233,30,99,0); #EFEFEF\">is</span> <span style=\"background-color: rgba(233,30,99,0);  padding: 1px 5px; border: solid 3px ; border-color:  rgba(233,30,99,0); #EFEFEF\">because</span> <span style=\"background-color: rgba(233,30,99,0);  padding: 1px 5px; border: solid 3px ; border-color:  rgba(233,30,99,0); #EFEFEF\">he</span> <span style=\"background-color: rgba(233,30,99,0);  padding: 1px 5px; border: solid 3px ; border-color:  rgba(233,30,99,0); #EFEFEF\">'s</span> <span style=\"background-color: rgba(233,30,99,0);  padding: 1px 5px; border: solid 3px ; border-color:  rgba(233,30,99,0); #EFEFEF\">the kind</span> <span style=\"background-color: rgba(233,30,99,0);  padding: 1px 5px; border: solid 3px ; border-color:  rgba(233,30,99,0); #EFEFEF\">of</span> <span style=\"background-color: rgba(233,30,99,0);  padding: 1px 5px; border: solid 3px ; border-color:  rgba(233,30,99,0); #EFEFEF\">guy</span> <span style=\"background-color: rgba(233,30,99,0);  padding: 1px 5px; border: solid 3px ; border-color:  rgba(233,30,99,0); #EFEFEF\">it</span> <span style=\"background-color: rgba(233,30,99,0);  padding: 1px 5px; border: solid 3px ; border-color:  rgba(233,30,99,0); #EFEFEF\">'s</span> <span style=\"background-color: rgba(233,30,99,0);  padding: 1px 5px; border: solid 3px ; border-color:  rgba(233,30,99,0); #EFEFEF\">easy</span> <span style=\"background-color: rgba(233,30,99,0);  padding: 1px 5px; border: solid 3px ; border-color:  rgba(233,30,99,0); #EFEFEF\">to bounce</span> <span style=\"background-color: rgba(233,30,99,0);  padding: 1px 5px; border: solid 3px ; border-color:  rgba(233,30,99,0); #EFEFEF\">off</span> <span style=\"background-color: rgba(233,30,99,0);  padding: 1px 5px; border: solid 3px ; border-color:  rgba(233,30,99,0); #EFEFEF\">of</span> </div>"
      ],
      "text/plain": [
       "<IPython.core.display.HTML object>"
      ]
     },
     "metadata": {},
     "output_type": "display_data"
    },
    {
     "data": {
      "text/html": [
       "<div style='display: flex; width: 400px; flex-wrap: wrap'><span style=\"background-color: rgba(233,30,99,0);  padding: 1px 5px; border: solid 3px ; border-color:  rgba(233,30,99,0); #EFEFEF\">The film</span> <span style=\"background-color: rgba(233,30,99,0);  padding: 1px 5px; border: solid 3px ; border-color:  rgba(233,30,99,0); #EFEFEF\">is</span> <span style=\"background-color: rgba(233,30,99,0);  padding: 1px 5px; border: solid 3px ; border-color:  rgba(233,30,99,0); #EFEFEF\">for</span> <span style=\"background-color: rgba(233,30,99,0);  padding: 1px 5px; border: solid 3px ; border-color:  rgba(233,30,99,0); #EFEFEF\">some reason</span> <span style=\"background-color: rgba(233,30,99,0);  padding: 1px 5px; border: solid 3px ; border-color:  rgba(233,30,99,0); #EFEFEF\">set</span> <span style=\"background-color: rgba(233,30,99,0);  padding: 1px 5px; border: solid 3px ; border-color:  rgba(233,30,99,0); #EFEFEF\">back</span> <span style=\"background-color: rgba(233,30,99,0);  padding: 1px 5px; border: solid 3px ; border-color:  rgba(233,30,99,0); #EFEFEF\">in</span> <span style=\"background-color: rgba(233,30,99,0);  padding: 1px 5px; border: solid 3px ; border-color:  rgba(233,30,99,0); #EFEFEF\">the early 1790</span> <span style=\"background-color: rgba(233,30,99,0);  padding: 1px 5px; border: solid 3px ; border-color:  rgba(233,30,99,0); #EFEFEF\">'s</span> <span style=\"background-color: rgba(233,30,99,0);  padding: 1px 5px; border: solid 3px ; border-color:  rgba(233,30,99,0); #EFEFEF\">rather than</span> <span style=\"background-color: rgba(233,30,99,0);  padding: 1px 5px; border: solid 3px ; border-color:  rgba(233,30,99,0); #EFEFEF\">the Regency period</span> <span style=\"background-color: rgba(233,30,99,0);  padding: 1px 5px; border: solid 3px ; border-color:  rgba(233,30,99,0); #EFEFEF\">where</span> <span style=\"background-color: rgba(233,30,99,0);  padding: 1px 5px; border: solid 3px ; border-color:  rgba(233,30,99,0); #EFEFEF\">the novel</span> <span style=\"background-color: rgba(233,30,99,0);  padding: 1px 5px; border: solid 3px ; border-color:  rgba(233,30,99,0); #EFEFEF\">is set</span> <span style=\"background-color: rgba(233,30,99,0);  padding: 1px 5px; border: solid 3px ; border-color:  rgba(233,30,99,0); #EFEFEF\">as</span> <span style=\"background-color: rgba(233,30,99,0);  padding: 1px 5px; border: solid 3px ; border-color:  rgba(233,30,99,0); #EFEFEF\">scholars</span> <span style=\"background-color: rgba(233,30,99,0);  padding: 1px 5px; border: solid 3px ; border-color:  rgba(233,30,99,0); #EFEFEF\">have long shown</span> </div>"
      ],
      "text/plain": [
       "<IPython.core.display.HTML object>"
      ]
     },
     "metadata": {},
     "output_type": "display_data"
    },
    {
     "data": {
      "text/html": [
       "<div style='display: flex; width: 400px; flex-wrap: wrap'><span style=\"background-color: rgba(233,30,99,0);  padding: 1px 5px; border: solid 3px ; border-color:  rgba(233,30,99,0); #EFEFEF\">I</span> <span style=\"background-color: rgba(233,30,99,0);  padding: 1px 5px; border: solid 3px ; border-color:  rgba(233,30,99,0); #EFEFEF\">have seen</span> <span style=\"background-color: rgba(233,30,99,0);  padding: 1px 5px; border: solid 3px ; border-color:  rgba(233,30,99,0); #EFEFEF\">it</span> <span style=\"background-color: rgba(233,30,99,0);  padding: 1px 5px; border: solid 3px ; border-color:  rgba(233,30,99,0); #EFEFEF\">several times</span> <span style=\"background-color: rgba(233,30,99,0);  padding: 1px 5px; border: solid 3px ; border-color:  rgba(233,30,99,0); #EFEFEF\">never get bored</span> <span style=\"background-color: rgba(233,30,99,0);  padding: 1px 5px; border: solid 3px ; border-color:  rgba(233,30,99,0); #EFEFEF\">with</span> <span style=\"background-color: rgba(233,30,99,0);  padding: 1px 5px; border: solid 3px ; border-color:  rgba(233,30,99,0); #EFEFEF\">it</span> </div>"
      ],
      "text/plain": [
       "<IPython.core.display.HTML object>"
      ]
     },
     "metadata": {},
     "output_type": "display_data"
    },
    {
     "data": {
      "text/html": [
       "<div style='display: flex; width: 400px; flex-wrap: wrap'><span style=\"background-color: rgba(233,30,99,0);  padding: 1px 5px; border: solid 3px ; border-color:  rgba(233,30,99,0); #EFEFEF\">This</span> <span style=\"background-color: rgba(233,30,99,0);  padding: 1px 5px; border: solid 3px ; border-color:  rgba(233,30,99,0); #EFEFEF\">is</span> <span style=\"background-color: rgba(233,30,99,0);  padding: 1px 5px; border: solid 3px ; border-color:  rgba(233,30,99,0); #EFEFEF\">a very exciting and romantic film</span> </div>"
      ],
      "text/plain": [
       "<IPython.core.display.HTML object>"
      ]
     },
     "metadata": {},
     "output_type": "display_data"
    },
    {
     "data": {
      "text/html": [
       "<div style='display: flex; width: 400px; flex-wrap: wrap'><span style=\"background-color: rgba(233,30,99,0);  padding: 1px 5px; border: solid 3px ; border-color:  rgba(233,30,99,0); #EFEFEF\">He</span> <span style=\"background-color: rgba(233,30,99,0);  padding: 1px 5px; border: solid 3px ; border-color:  rgba(233,30,99,0); #EFEFEF\">is</span> <span style=\"background-color: rgba(233,30,99,0);  padding: 1px 5px; border: solid 3px ; border-color:  rgba(233,30,99,0); #EFEFEF\">the best</span> <span style=\"background-color: rgba(233,30,99,0);  padding: 1px 5px; border: solid 3px ; border-color:  rgba(233,30,99,0); #EFEFEF\">hands</span> <span style=\"background-color: rgba(233,30,99,0);  padding: 1px 5px; border: solid 3px ; border-color:  rgba(233,30,99,0); #EFEFEF\">down</span> </div>"
      ],
      "text/plain": [
       "<IPython.core.display.HTML object>"
      ]
     },
     "metadata": {},
     "output_type": "display_data"
    },
    {
     "data": {
      "text/html": [
       "<div style='display: flex; width: 400px; flex-wrap: wrap'><span style=\"background-color: rgba(233,30,99,0);  padding: 1px 5px; border: solid 3px ; border-color:  rgba(233,30,99,0); #EFEFEF\">The cameos</span> <span style=\"background-color: rgba(233,30,99,0);  padding: 1px 5px; border: solid 3px ; border-color:  rgba(233,30,99,0); #EFEFEF\">are</span> <span style=\"background-color: rgba(233,30,99,0);  padding: 1px 5px; border: solid 3px ; border-color:  rgba(233,30,99,0); #EFEFEF\">wonderful</span> <span style=\"background-color: rgba(233,30,99,0);  padding: 1px 5px; border: solid 3px ; border-color:  rgba(233,30,99,0); #EFEFEF\">as</span> <span style=\"background-color: rgba(233,30,99,0);  padding: 1px 5px; border: solid 3px ; border-color:  rgba(233,30,99,0); #EFEFEF\">always</span> <span style=\"background-color: rgba(233,30,99,0);  padding: 1px 5px; border: solid 3px ; border-color:  rgba(233,30,99,0); #EFEFEF\">the main event</span> <span style=\"background-color: rgba(233,30,99,0);  padding: 1px 5px; border: solid 3px ; border-color:  rgba(233,30,99,0); #EFEFEF\">is</span> <span style=\"background-color: rgba(233,30,99,0);  padding: 1px 5px; border: solid 3px ; border-color:  rgba(233,30,99,0); #EFEFEF\">MJ</span> <span style=\"background-color: rgba(233,30,99,0);  padding: 1px 5px; border: solid 3px ; border-color:  rgba(233,30,99,0); #EFEFEF\">himself</span> </div>"
      ],
      "text/plain": [
       "<IPython.core.display.HTML object>"
      ]
     },
     "metadata": {},
     "output_type": "display_data"
    },
    {
     "data": {
      "text/html": [
       "<div style='display: flex; width: 400px; flex-wrap: wrap'><span style=\"background-color: rgba(233,30,99,0);  padding: 1px 5px; border: solid 3px ; border-color:  rgba(233,30,99,0); #EFEFEF\">Smooth Criminal</span> <span style=\"background-color: rgba(233,30,99,0);  padding: 1px 5px; border: solid 3px ; border-color:  rgba(233,30,99,0); #EFEFEF\">is</span> <span style=\"background-color: rgba(233,30,99,0);  padding: 1px 5px; border: solid 3px ; border-color:  rgba(233,30,99,0); #EFEFEF\">pure genius</span> </div>"
      ],
      "text/plain": [
       "<IPython.core.display.HTML object>"
      ]
     },
     "metadata": {},
     "output_type": "display_data"
    },
    {
     "data": {
      "text/html": [
       "<div style='display: flex; width: 400px; flex-wrap: wrap'><span style=\"background-color: rgba(233,30,99,0);  padding: 1px 5px; border: solid 3px ; border-color:  rgba(233,30,99,0); #EFEFEF\">This film</span> <span style=\"background-color: rgba(233,30,99,0);  padding: 1px 5px; border: solid 3px ; border-color:  rgba(233,30,99,0); #EFEFEF\">contains</span> <span style=\"background-color: rgba(233,30,99,0);  padding: 1px 5px; border: solid 3px ; border-color:  rgba(233,30,99,0); #EFEFEF\">some</span> <span style=\"background-color: rgba(233,30,99,0);  padding: 1px 5px; border: solid 3px ; border-color:  rgba(233,30,99,0); #EFEFEF\">of</span> <span style=\"background-color: rgba(233,30,99,0);  padding: 1px 5px; border: solid 3px ; border-color:  rgba(233,30,99,0); #EFEFEF\">the best stuff</span> <span style=\"background-color: rgba(233,30,99,0);  padding: 1px 5px; border: solid 3px ; border-color:  rgba(233,30,99,0); #EFEFEF\">Mike</span> <span style=\"background-color: rgba(233,30,99,0);  padding: 1px 5px; border: solid 3px ; border-color:  rgba(233,30,99,0); #EFEFEF\">has ever done</span> </div>"
      ],
      "text/plain": [
       "<IPython.core.display.HTML object>"
      ]
     },
     "metadata": {},
     "output_type": "display_data"
    },
    {
     "data": {
      "text/html": [
       "<div style='display: flex; width: 400px; flex-wrap: wrap'><span style=\"background-color: rgba(233,30,99,0);  padding: 1px 5px; border: solid 3px ; border-color:  rgba(233,30,99,0); #EFEFEF\">Michael Is King</span> </div>"
      ],
      "text/plain": [
       "<IPython.core.display.HTML object>"
      ]
     },
     "metadata": {},
     "output_type": "display_data"
    },
    {
     "data": {
      "text/html": [
       "<div style='display: flex; width: 400px; flex-wrap: wrap'><span style=\"background-color: rgba(233,30,99,0);  padding: 1px 5px; border: solid 3px ; border-color:  rgba(233,30,99,0); #EFEFEF\">The bottom line</span> <span style=\"background-color: rgba(233,30,99,0);  padding: 1px 5px; border: solid 3px ; border-color:  rgba(233,30,99,0); #EFEFEF\">is</span> <span style=\"background-color: rgba(233,30,99,0);  padding: 1px 5px; border: solid 3px ; border-color:  rgba(233,30,99,0); #EFEFEF\">that</span> <span style=\"background-color: rgba(233,30,99,0);  padding: 1px 5px; border: solid 3px ; border-color:  rgba(233,30,99,0); #EFEFEF\">while</span> <span style=\"background-color: rgba(233,30,99,0);  padding: 1px 5px; border: solid 3px ; border-color:  rgba(233,30,99,0); #EFEFEF\">this</span> <span style=\"background-color: rgba(233,30,99,0);  padding: 1px 5px; border: solid 3px ; border-color:  rgba(233,30,99,0); #EFEFEF\">is</span> <span style=\"background-color: rgba(233,30,99,0);  padding: 1px 5px; border: solid 3px ; border-color:  rgba(233,30,99,0); #EFEFEF\">a great movie</span> <span style=\"background-color: rgba(233,30,99,0);  padding: 1px 5px; border: solid 3px ; border-color:  rgba(233,30,99,0); #EFEFEF\">to watch and hear</span> <span style=\"background-color: rgba(233,30,99,0);  padding: 1px 5px; border: solid 3px ; border-color:  rgba(233,30,99,0); #EFEFEF\">it</span> <span style=\"background-color: rgba(233,30,99,0);  padding: 1px 5px; border: solid 3px ; border-color:  rgba(233,30,99,0); #EFEFEF\">deviates</span> <span style=\"background-color: rgba(233,30,99,0);  padding: 1px 5px; border: solid 3px ; border-color:  rgba(233,30,99,0); #EFEFEF\">from</span> <span style=\"background-color: rgba(233,30,99,0);  padding: 1px 5px; border: solid 3px ; border-color:  rgba(233,30,99,0); #EFEFEF\">Jane Austen</span> <span style=\"background-color: rgba(233,30,99,0);  padding: 1px 5px; border: solid 3px ; border-color:  rgba(233,30,99,0); #EFEFEF\">'s novel</span> <span style=\"background-color: rgba(233,30,99,0);  padding: 1px 5px; border: solid 3px ; border-color:  rgba(233,30,99,0); #EFEFEF\">so much</span> <span style=\"background-color: rgba(233,30,99,0);  padding: 1px 5px; border: solid 3px ; border-color:  rgba(233,30,99,0); #EFEFEF\">that</span> <span style=\"background-color: rgba(233,30,99,0);  padding: 1px 5px; border: solid 3px ; border-color:  rgba(233,30,99,0); #EFEFEF\">any student</span> <span style=\"background-color: rgba(233,30,99,0);  padding: 1px 5px; border: solid 3px ; border-color:  rgba(233,30,99,0); #EFEFEF\">who</span> <span style=\"background-color: rgba(233,30,99,0);  padding: 1px 5px; border: solid 3px ; border-color:  rgba(233,30,99,0); #EFEFEF\">watched</span> <span style=\"background-color: rgba(233,30,99,0);  padding: 1px 5px; border: solid 3px ; border-color:  rgba(233,30,99,0); #EFEFEF\">it</span> <span style=\"background-color: rgba(233,30,99,0);  padding: 1px 5px; border: solid 3px ; border-color:  rgba(233,30,99,0); #EFEFEF\">thinking</span> <span style=\"background-color: rgba(233,30,99,0);  padding: 1px 5px; border: solid 3px ; border-color:  rgba(233,30,99,0); #EFEFEF\">she</span> <span style=\"background-color: rgba(233,30,99,0);  padding: 1px 5px; border: solid 3px ; border-color:  rgba(233,30,99,0); #EFEFEF\">could substitute</span> <span style=\"background-color: rgba(233,30,99,0);  padding: 1px 5px; border: solid 3px ; border-color:  rgba(233,30,99,0); #EFEFEF\">viewing</span> <span style=\"background-color: rgba(233,30,99,0);  padding: 1px 5px; border: solid 3px ; border-color:  rgba(233,30,99,0); #EFEFEF\">for</span> <span style=\"background-color: rgba(233,30,99,0);  padding: 1px 5px; border: solid 3px ; border-color:  rgba(233,30,99,0); #EFEFEF\">reading</span> <span style=\"background-color: rgba(233,30,99,0);  padding: 1px 5px; border: solid 3px ; border-color:  rgba(233,30,99,0); #EFEFEF\">would fail</span> </div>"
      ],
      "text/plain": [
       "<IPython.core.display.HTML object>"
      ]
     },
     "metadata": {},
     "output_type": "display_data"
    },
    {
     "name": "stdout",
     "output_type": "stream",
     "text": [
      "\n",
      "\n",
      "10 most important reviews for positive predicted label - concept3:\n",
      "\n",
      "\n"
     ]
    },
    {
     "data": {
      "text/html": [
       "<div style='display: flex; width: 400px; flex-wrap: wrap'><span style=\"background-color: rgba(233,30,99,0);  padding: 1px 5px; border: solid 3px ; border-color:  rgba(233,30,99,0); #EFEFEF\">Perhaps</span> <span style=\"background-color: rgba(233,30,99,0);  padding: 1px 5px; border: solid 3px ; border-color:  rgba(233,30,99,0); #EFEFEF\">this</span> <span style=\"background-color: rgba(233,30,99,0);  padding: 1px 5px; border: solid 3px ; border-color:  rgba(233,30,99,0); #EFEFEF\">is</span> <span style=\"background-color: rgba(233,30,99,0);  padding: 1px 5px; border: solid 3px ; border-color:  rgba(233,30,99,0); #EFEFEF\">because</span> <span style=\"background-color: rgba(233,30,99,0);  padding: 1px 5px; border: solid 3px ; border-color:  rgba(233,30,99,0); #EFEFEF\">he</span> <span style=\"background-color: rgba(233,30,99,0);  padding: 1px 5px; border: solid 3px ; border-color:  rgba(233,30,99,0); #EFEFEF\">'s</span> <span style=\"background-color: rgba(233,30,99,0);  padding: 1px 5px; border: solid 3px ; border-color:  rgba(233,30,99,0); #EFEFEF\">the kind</span> <span style=\"background-color: rgba(233,30,99,0);  padding: 1px 5px; border: solid 3px ; border-color:  rgba(233,30,99,0); #EFEFEF\">of</span> <span style=\"background-color: rgba(233,30,99,0);  padding: 1px 5px; border: solid 3px ; border-color:  rgba(233,30,99,0); #EFEFEF\">guy</span> <span style=\"background-color: rgba(233,30,99,0);  padding: 1px 5px; border: solid 3px ; border-color:  rgba(233,30,99,0); #EFEFEF\">it</span> <span style=\"background-color: rgba(233,30,99,0);  padding: 1px 5px; border: solid 3px ; border-color:  rgba(233,30,99,0); #EFEFEF\">'s</span> <span style=\"background-color: rgba(233,30,99,0);  padding: 1px 5px; border: solid 3px ; border-color:  rgba(233,30,99,0); #EFEFEF\">easy</span> <span style=\"background-color: rgba(233,30,99,0);  padding: 1px 5px; border: solid 3px ; border-color:  rgba(233,30,99,0); #EFEFEF\">to bounce</span> <span style=\"background-color: rgba(233,30,99,0);  padding: 1px 5px; border: solid 3px ; border-color:  rgba(233,30,99,0); #EFEFEF\">off</span> <span style=\"background-color: rgba(233,30,99,0);  padding: 1px 5px; border: solid 3px ; border-color:  rgba(233,30,99,0); #EFEFEF\">of</span> </div>"
      ],
      "text/plain": [
       "<IPython.core.display.HTML object>"
      ]
     },
     "metadata": {},
     "output_type": "display_data"
    },
    {
     "data": {
      "text/html": [
       "<div style='display: flex; width: 400px; flex-wrap: wrap'><span style=\"background-color: rgba(233,30,99,0);  padding: 1px 5px; border: solid 3px ; border-color:  rgba(233,30,99,0); #EFEFEF\">The film</span> <span style=\"background-color: rgba(233,30,99,0);  padding: 1px 5px; border: solid 3px ; border-color:  rgba(233,30,99,0); #EFEFEF\">is</span> <span style=\"background-color: rgba(233,30,99,0);  padding: 1px 5px; border: solid 3px ; border-color:  rgba(233,30,99,0); #EFEFEF\">for</span> <span style=\"background-color: rgba(233,30,99,0);  padding: 1px 5px; border: solid 3px ; border-color:  rgba(233,30,99,0); #EFEFEF\">some reason</span> <span style=\"background-color: rgba(233,30,99,0);  padding: 1px 5px; border: solid 3px ; border-color:  rgba(233,30,99,0); #EFEFEF\">set</span> <span style=\"background-color: rgba(233,30,99,0);  padding: 1px 5px; border: solid 3px ; border-color:  rgba(233,30,99,0); #EFEFEF\">back</span> <span style=\"background-color: rgba(233,30,99,0);  padding: 1px 5px; border: solid 3px ; border-color:  rgba(233,30,99,0); #EFEFEF\">in</span> <span style=\"background-color: rgba(233,30,99,0);  padding: 1px 5px; border: solid 3px ; border-color:  rgba(233,30,99,0); #EFEFEF\">the early 1790</span> <span style=\"background-color: rgba(233,30,99,0);  padding: 1px 5px; border: solid 3px ; border-color:  rgba(233,30,99,0); #EFEFEF\">'s</span> <span style=\"background-color: rgba(233,30,99,0);  padding: 1px 5px; border: solid 3px ; border-color:  rgba(233,30,99,0); #EFEFEF\">rather than</span> <span style=\"background-color: rgba(233,30,99,0);  padding: 1px 5px; border: solid 3px ; border-color:  rgba(233,30,99,0); #EFEFEF\">the Regency period</span> <span style=\"background-color: rgba(233,30,99,0);  padding: 1px 5px; border: solid 3px ; border-color:  rgba(233,30,99,0); #EFEFEF\">where</span> <span style=\"background-color: rgba(233,30,99,0);  padding: 1px 5px; border: solid 3px ; border-color:  rgba(233,30,99,0); #EFEFEF\">the novel</span> <span style=\"background-color: rgba(233,30,99,0);  padding: 1px 5px; border: solid 3px ; border-color:  rgba(233,30,99,0); #EFEFEF\">is set</span> <span style=\"background-color: rgba(233,30,99,0);  padding: 1px 5px; border: solid 3px ; border-color:  rgba(233,30,99,0); #EFEFEF\">as</span> <span style=\"background-color: rgba(233,30,99,0);  padding: 1px 5px; border: solid 3px ; border-color:  rgba(233,30,99,0); #EFEFEF\">scholars</span> <span style=\"background-color: rgba(233,30,99,0);  padding: 1px 5px; border: solid 3px ; border-color:  rgba(233,30,99,0); #EFEFEF\">have long shown</span> </div>"
      ],
      "text/plain": [
       "<IPython.core.display.HTML object>"
      ]
     },
     "metadata": {},
     "output_type": "display_data"
    },
    {
     "data": {
      "text/html": [
       "<div style='display: flex; width: 400px; flex-wrap: wrap'><span style=\"background-color: rgba(233,30,99,0);  padding: 1px 5px; border: solid 3px ; border-color:  rgba(233,30,99,0); #EFEFEF\">I</span> <span style=\"background-color: rgba(233,30,99,0);  padding: 1px 5px; border: solid 3px ; border-color:  rgba(233,30,99,0); #EFEFEF\">have seen</span> <span style=\"background-color: rgba(233,30,99,0);  padding: 1px 5px; border: solid 3px ; border-color:  rgba(233,30,99,0); #EFEFEF\">it</span> <span style=\"background-color: rgba(233,30,99,0);  padding: 1px 5px; border: solid 3px ; border-color:  rgba(233,30,99,0); #EFEFEF\">several times</span> <span style=\"background-color: rgba(233,30,99,0);  padding: 1px 5px; border: solid 3px ; border-color:  rgba(233,30,99,0); #EFEFEF\">never get bored</span> <span style=\"background-color: rgba(233,30,99,0);  padding: 1px 5px; border: solid 3px ; border-color:  rgba(233,30,99,0); #EFEFEF\">with</span> <span style=\"background-color: rgba(233,30,99,0);  padding: 1px 5px; border: solid 3px ; border-color:  rgba(233,30,99,0); #EFEFEF\">it</span> </div>"
      ],
      "text/plain": [
       "<IPython.core.display.HTML object>"
      ]
     },
     "metadata": {},
     "output_type": "display_data"
    },
    {
     "data": {
      "text/html": [
       "<div style='display: flex; width: 400px; flex-wrap: wrap'><span style=\"background-color: rgba(233,30,99,0);  padding: 1px 5px; border: solid 3px ; border-color:  rgba(233,30,99,0); #EFEFEF\">This</span> <span style=\"background-color: rgba(233,30,99,0);  padding: 1px 5px; border: solid 3px ; border-color:  rgba(233,30,99,0); #EFEFEF\">is</span> <span style=\"background-color: rgba(233,30,99,0);  padding: 1px 5px; border: solid 3px ; border-color:  rgba(233,30,99,0); #EFEFEF\">a very exciting and romantic film</span> </div>"
      ],
      "text/plain": [
       "<IPython.core.display.HTML object>"
      ]
     },
     "metadata": {},
     "output_type": "display_data"
    },
    {
     "data": {
      "text/html": [
       "<div style='display: flex; width: 400px; flex-wrap: wrap'><span style=\"background-color: rgba(233,30,99,0);  padding: 1px 5px; border: solid 3px ; border-color:  rgba(233,30,99,0); #EFEFEF\">He</span> <span style=\"background-color: rgba(233,30,99,0);  padding: 1px 5px; border: solid 3px ; border-color:  rgba(233,30,99,0); #EFEFEF\">is</span> <span style=\"background-color: rgba(233,30,99,0);  padding: 1px 5px; border: solid 3px ; border-color:  rgba(233,30,99,0); #EFEFEF\">the best</span> <span style=\"background-color: rgba(233,30,99,0);  padding: 1px 5px; border: solid 3px ; border-color:  rgba(233,30,99,0); #EFEFEF\">hands</span> <span style=\"background-color: rgba(233,30,99,0);  padding: 1px 5px; border: solid 3px ; border-color:  rgba(233,30,99,0); #EFEFEF\">down</span> </div>"
      ],
      "text/plain": [
       "<IPython.core.display.HTML object>"
      ]
     },
     "metadata": {},
     "output_type": "display_data"
    },
    {
     "data": {
      "text/html": [
       "<div style='display: flex; width: 400px; flex-wrap: wrap'><span style=\"background-color: rgba(233,30,99,0);  padding: 1px 5px; border: solid 3px ; border-color:  rgba(233,30,99,0); #EFEFEF\">The cameos</span> <span style=\"background-color: rgba(233,30,99,0);  padding: 1px 5px; border: solid 3px ; border-color:  rgba(233,30,99,0); #EFEFEF\">are</span> <span style=\"background-color: rgba(233,30,99,0);  padding: 1px 5px; border: solid 3px ; border-color:  rgba(233,30,99,0); #EFEFEF\">wonderful</span> <span style=\"background-color: rgba(233,30,99,0);  padding: 1px 5px; border: solid 3px ; border-color:  rgba(233,30,99,0); #EFEFEF\">as</span> <span style=\"background-color: rgba(233,30,99,0);  padding: 1px 5px; border: solid 3px ; border-color:  rgba(233,30,99,0); #EFEFEF\">always</span> <span style=\"background-color: rgba(233,30,99,0);  padding: 1px 5px; border: solid 3px ; border-color:  rgba(233,30,99,0); #EFEFEF\">the main event</span> <span style=\"background-color: rgba(233,30,99,0);  padding: 1px 5px; border: solid 3px ; border-color:  rgba(233,30,99,0); #EFEFEF\">is</span> <span style=\"background-color: rgba(233,30,99,0);  padding: 1px 5px; border: solid 3px ; border-color:  rgba(233,30,99,0); #EFEFEF\">MJ</span> <span style=\"background-color: rgba(233,30,99,0);  padding: 1px 5px; border: solid 3px ; border-color:  rgba(233,30,99,0); #EFEFEF\">himself</span> </div>"
      ],
      "text/plain": [
       "<IPython.core.display.HTML object>"
      ]
     },
     "metadata": {},
     "output_type": "display_data"
    },
    {
     "data": {
      "text/html": [
       "<div style='display: flex; width: 400px; flex-wrap: wrap'><span style=\"background-color: rgba(233,30,99,0);  padding: 1px 5px; border: solid 3px ; border-color:  rgba(233,30,99,0); #EFEFEF\">Smooth Criminal</span> <span style=\"background-color: rgba(233,30,99,0);  padding: 1px 5px; border: solid 3px ; border-color:  rgba(233,30,99,0); #EFEFEF\">is</span> <span style=\"background-color: rgba(233,30,99,0);  padding: 1px 5px; border: solid 3px ; border-color:  rgba(233,30,99,0); #EFEFEF\">pure genius</span> </div>"
      ],
      "text/plain": [
       "<IPython.core.display.HTML object>"
      ]
     },
     "metadata": {},
     "output_type": "display_data"
    },
    {
     "data": {
      "text/html": [
       "<div style='display: flex; width: 400px; flex-wrap: wrap'><span style=\"background-color: rgba(233,30,99,0);  padding: 1px 5px; border: solid 3px ; border-color:  rgba(233,30,99,0); #EFEFEF\">This film</span> <span style=\"background-color: rgba(233,30,99,0);  padding: 1px 5px; border: solid 3px ; border-color:  rgba(233,30,99,0); #EFEFEF\">contains</span> <span style=\"background-color: rgba(233,30,99,0);  padding: 1px 5px; border: solid 3px ; border-color:  rgba(233,30,99,0); #EFEFEF\">some</span> <span style=\"background-color: rgba(233,30,99,0);  padding: 1px 5px; border: solid 3px ; border-color:  rgba(233,30,99,0); #EFEFEF\">of</span> <span style=\"background-color: rgba(233,30,99,0);  padding: 1px 5px; border: solid 3px ; border-color:  rgba(233,30,99,0); #EFEFEF\">the best stuff</span> <span style=\"background-color: rgba(233,30,99,0);  padding: 1px 5px; border: solid 3px ; border-color:  rgba(233,30,99,0); #EFEFEF\">Mike</span> <span style=\"background-color: rgba(233,30,99,0);  padding: 1px 5px; border: solid 3px ; border-color:  rgba(233,30,99,0); #EFEFEF\">has ever done</span> </div>"
      ],
      "text/plain": [
       "<IPython.core.display.HTML object>"
      ]
     },
     "metadata": {},
     "output_type": "display_data"
    },
    {
     "data": {
      "text/html": [
       "<div style='display: flex; width: 400px; flex-wrap: wrap'><span style=\"background-color: rgba(233,30,99,0);  padding: 1px 5px; border: solid 3px ; border-color:  rgba(233,30,99,0); #EFEFEF\">Michael Is King</span> </div>"
      ],
      "text/plain": [
       "<IPython.core.display.HTML object>"
      ]
     },
     "metadata": {},
     "output_type": "display_data"
    },
    {
     "data": {
      "text/html": [
       "<div style='display: flex; width: 400px; flex-wrap: wrap'><span style=\"background-color: rgba(233,30,99,0);  padding: 1px 5px; border: solid 3px ; border-color:  rgba(233,30,99,0); #EFEFEF\">The bottom line</span> <span style=\"background-color: rgba(233,30,99,0);  padding: 1px 5px; border: solid 3px ; border-color:  rgba(233,30,99,0); #EFEFEF\">is</span> <span style=\"background-color: rgba(233,30,99,0);  padding: 1px 5px; border: solid 3px ; border-color:  rgba(233,30,99,0); #EFEFEF\">that</span> <span style=\"background-color: rgba(233,30,99,0);  padding: 1px 5px; border: solid 3px ; border-color:  rgba(233,30,99,0); #EFEFEF\">while</span> <span style=\"background-color: rgba(233,30,99,0);  padding: 1px 5px; border: solid 3px ; border-color:  rgba(233,30,99,0); #EFEFEF\">this</span> <span style=\"background-color: rgba(233,30,99,0);  padding: 1px 5px; border: solid 3px ; border-color:  rgba(233,30,99,0); #EFEFEF\">is</span> <span style=\"background-color: rgba(233,30,99,0);  padding: 1px 5px; border: solid 3px ; border-color:  rgba(233,30,99,0); #EFEFEF\">a great movie</span> <span style=\"background-color: rgba(233,30,99,0);  padding: 1px 5px; border: solid 3px ; border-color:  rgba(233,30,99,0); #EFEFEF\">to watch and hear</span> <span style=\"background-color: rgba(233,30,99,0);  padding: 1px 5px; border: solid 3px ; border-color:  rgba(233,30,99,0); #EFEFEF\">it</span> <span style=\"background-color: rgba(233,30,99,0);  padding: 1px 5px; border: solid 3px ; border-color:  rgba(233,30,99,0); #EFEFEF\">deviates</span> <span style=\"background-color: rgba(233,30,99,0);  padding: 1px 5px; border: solid 3px ; border-color:  rgba(233,30,99,0); #EFEFEF\">from</span> <span style=\"background-color: rgba(233,30,99,0);  padding: 1px 5px; border: solid 3px ; border-color:  rgba(233,30,99,0); #EFEFEF\">Jane Austen</span> <span style=\"background-color: rgba(233,30,99,0);  padding: 1px 5px; border: solid 3px ; border-color:  rgba(233,30,99,0); #EFEFEF\">'s novel</span> <span style=\"background-color: rgba(233,30,99,0);  padding: 1px 5px; border: solid 3px ; border-color:  rgba(233,30,99,0); #EFEFEF\">so much</span> <span style=\"background-color: rgba(233,30,99,0);  padding: 1px 5px; border: solid 3px ; border-color:  rgba(233,30,99,0); #EFEFEF\">that</span> <span style=\"background-color: rgba(233,30,99,0);  padding: 1px 5px; border: solid 3px ; border-color:  rgba(233,30,99,0); #EFEFEF\">any student</span> <span style=\"background-color: rgba(233,30,99,0);  padding: 1px 5px; border: solid 3px ; border-color:  rgba(233,30,99,0); #EFEFEF\">who</span> <span style=\"background-color: rgba(233,30,99,0);  padding: 1px 5px; border: solid 3px ; border-color:  rgba(233,30,99,0); #EFEFEF\">watched</span> <span style=\"background-color: rgba(233,30,99,0);  padding: 1px 5px; border: solid 3px ; border-color:  rgba(233,30,99,0); #EFEFEF\">it</span> <span style=\"background-color: rgba(233,30,99,0);  padding: 1px 5px; border: solid 3px ; border-color:  rgba(233,30,99,0); #EFEFEF\">thinking</span> <span style=\"background-color: rgba(233,30,99,0);  padding: 1px 5px; border: solid 3px ; border-color:  rgba(233,30,99,0); #EFEFEF\">she</span> <span style=\"background-color: rgba(233,30,99,0);  padding: 1px 5px; border: solid 3px ; border-color:  rgba(233,30,99,0); #EFEFEF\">could substitute</span> <span style=\"background-color: rgba(233,30,99,0);  padding: 1px 5px; border: solid 3px ; border-color:  rgba(233,30,99,0); #EFEFEF\">viewing</span> <span style=\"background-color: rgba(233,30,99,0);  padding: 1px 5px; border: solid 3px ; border-color:  rgba(233,30,99,0); #EFEFEF\">for</span> <span style=\"background-color: rgba(233,30,99,0);  padding: 1px 5px; border: solid 3px ; border-color:  rgba(233,30,99,0); #EFEFEF\">reading</span> <span style=\"background-color: rgba(233,30,99,0);  padding: 1px 5px; border: solid 3px ; border-color:  rgba(233,30,99,0); #EFEFEF\">would fail</span> </div>"
      ],
      "text/plain": [
       "<IPython.core.display.HTML object>"
      ]
     },
     "metadata": {},
     "output_type": "display_data"
    },
    {
     "name": "stdout",
     "output_type": "stream",
     "text": [
      "\n",
      "\n",
      "negative predicted reviews:\n",
      "\n",
      "\n",
      "\n",
      "\n",
      "10 most important reviews for negative predicted label - concept1:\n",
      "\n",
      "\n"
     ]
    },
    {
     "data": {
      "text/html": [
       "<div style='display: flex; width: 400px; flex-wrap: wrap'><span style=\"background-color: rgba(233,30,99,0);  padding: 1px 5px; border: solid 3px ; border-color:  rgba(233,30,99,0); #EFEFEF\">She</span> <span style=\"background-color: rgba(233,30,99,0);  padding: 1px 5px; border: solid 3px ; border-color:  rgba(233,30,99,0); #EFEFEF\">will serve</span> <span style=\"background-color: rgba(233,30,99,0);  padding: 1px 5px; border: solid 3px ; border-color:  rgba(233,30,99,0); #EFEFEF\">as</span> <span style=\"background-color: rgba(233,30,99,0);  padding: 1px 5px; border: solid 3px ; border-color:  rgba(233,30,99,0); #EFEFEF\">bait</span> </div>"
      ],
      "text/plain": [
       "<IPython.core.display.HTML object>"
      ]
     },
     "metadata": {},
     "output_type": "display_data"
    },
    {
     "data": {
      "text/html": [
       "<div style='display: flex; width: 400px; flex-wrap: wrap'><span style=\"background-color: rgba(233,30,99,0);  padding: 1px 5px; border: solid 3px ; border-color:  rgba(233,30,99,0); #EFEFEF\">A lot</span> <span style=\"background-color: rgba(233,30,99,0);  padding: 1px 5px; border: solid 3px ; border-color:  rgba(233,30,99,0); #EFEFEF\">of</span> <span style=\"background-color: rgba(233,30,99,0);  padding: 1px 5px; border: solid 3px ; border-color:  rgba(233,30,99,0); #EFEFEF\">the films</span> <span style=\"background-color: rgba(233,30,99,0);  padding: 1px 5px; border: solid 3px ; border-color:  rgba(233,30,99,0); #EFEFEF\">I</span> <span style=\"background-color: rgba(233,30,99,0);  padding: 1px 5px; border: solid 3px ; border-color:  rgba(233,30,99,0); #EFEFEF\">ve made</span> <span style=\"background-color: rgba(233,30,99,0);  padding: 1px 5px; border: solid 3px ; border-color:  rgba(233,30,99,0); #EFEFEF\">probably</span> <span style=\"background-color: rgba(233,30,99,0);  padding: 1px 5px; border: solid 3px ; border-color:  rgba(233,30,99,0); #EFEFEF\">could have worked</span> <span style=\"background-color: rgba(233,30,99,0);  padding: 1px 5px; border: solid 3px ; border-color:  rgba(233,30,99,0); #EFEFEF\">just as well</span> <span style=\"background-color: rgba(233,30,99,0);  padding: 1px 5px; border: solid 3px ; border-color:  rgba(233,30,99,0); #EFEFEF\">50 years</span> <span style=\"background-color: rgba(233,30,99,0);  padding: 1px 5px; border: solid 3px ; border-color:  rgba(233,30,99,0); #EFEFEF\">ago</span> <span style=\"background-color: rgba(233,30,99,0);  padding: 1px 5px; border: solid 3px ; border-color:  rgba(233,30,99,0); #EFEFEF\">that</span> <span style=\"background-color: rgba(233,30,99,0);  padding: 1px 5px; border: solid 3px ; border-color:  rgba(233,30,99,0); #EFEFEF\">'s</span> <span style=\"background-color: rgba(233,30,99,0);  padding: 1px 5px; border: solid 3px ; border-color:  rgba(233,30,99,0); #EFEFEF\">just</span> <span style=\"background-color: rgba(233,30,99,0);  padding: 1px 5px; border: solid 3px ; border-color:  rgba(233,30,99,0); #EFEFEF\">because</span> <span style=\"background-color: rgba(233,30,99,0);  padding: 1px 5px; border: solid 3px ; border-color:  rgba(233,30,99,0); #EFEFEF\">I</span> <span style=\"background-color: rgba(233,30,99,0);  padding: 1px 5px; border: solid 3px ; border-color:  rgba(233,30,99,0); #EFEFEF\">have</span> <span style=\"background-color: rgba(233,30,99,0);  padding: 1px 5px; border: solid 3px ; border-color:  rgba(233,30,99,0); #EFEFEF\">a lot</span> <span style=\"background-color: rgba(233,30,99,0);  padding: 1px 5px; border: solid 3px ; border-color:  rgba(233,30,99,0); #EFEFEF\">of</span> <span style=\"background-color: rgba(233,30,99,0);  padding: 1px 5px; border: solid 3px ; border-color:  rgba(233,30,99,0); #EFEFEF\">old-fashion values</span> </div>"
      ],
      "text/plain": [
       "<IPython.core.display.HTML object>"
      ]
     },
     "metadata": {},
     "output_type": "display_data"
    },
    {
     "data": {
      "text/html": [
       "<div style='display: flex; width: 400px; flex-wrap: wrap'><span style=\"background-color: rgba(233,30,99,0);  padding: 1px 5px; border: solid 3px ; border-color:  rgba(233,30,99,0); #EFEFEF\">I</span> <span style=\"background-color: rgba(233,30,99,0);  padding: 1px 5px; border: solid 3px ; border-color:  rgba(233,30,99,0); #EFEFEF\">think</span> <span style=\"background-color: rgba(233,30,99,0);  padding: 1px 5px; border: solid 3px ; border-color:  rgba(233,30,99,0); #EFEFEF\">that</span> <span style=\"background-color: rgba(233,30,99,0);  padding: 1px 5px; border: solid 3px ; border-color:  rgba(233,30,99,0); #EFEFEF\">they</span> <span style=\"background-color: rgba(233,30,99,0);  padding: 1px 5px; border: solid 3px ; border-color:  rgba(233,30,99,0); #EFEFEF\">used</span> <span style=\"background-color: rgba(233,30,99,0);  padding: 1px 5px; border: solid 3px ; border-color:  rgba(233,30,99,0); #EFEFEF\">a double</span> <span style=\"background-color: rgba(233,30,99,0);  padding: 1px 5px; border: solid 3px ; border-color:  rgba(233,30,99,0); #EFEFEF\">in</span> <span style=\"background-color: rgba(233,30,99,0);  padding: 1px 5px; border: solid 3px ; border-color:  rgba(233,30,99,0); #EFEFEF\">some</span> <span style=\"background-color: rgba(233,30,99,0);  padding: 1px 5px; border: solid 3px ; border-color:  rgba(233,30,99,0); #EFEFEF\">of</span> <span style=\"background-color: rgba(233,30,99,0);  padding: 1px 5px; border: solid 3px ; border-color:  rgba(233,30,99,0); #EFEFEF\">Adam</span> <span style=\"background-color: rgba(233,30,99,0);  padding: 1px 5px; border: solid 3px ; border-color:  rgba(233,30,99,0); #EFEFEF\">'s scenes,like</span> <span style=\"background-color: rgba(233,30,99,0);  padding: 1px 5px; border: solid 3px ; border-color:  rgba(233,30,99,0); #EFEFEF\">when</span> <span style=\"background-color: rgba(233,30,99,0);  padding: 1px 5px; border: solid 3px ; border-color:  rgba(233,30,99,0); #EFEFEF\">he</span> <span style=\"background-color: rgba(233,30,99,0);  padding: 1px 5px; border: solid 3px ; border-color:  rgba(233,30,99,0); #EFEFEF\">'s running</span> <span style=\"background-color: rgba(233,30,99,0);  padding: 1px 5px; border: solid 3px ; border-color:  rgba(233,30,99,0); #EFEFEF\">because</span> <span style=\"background-color: rgba(233,30,99,0);  padding: 1px 5px; border: solid 3px ; border-color:  rgba(233,30,99,0); #EFEFEF\">you</span> <span style=\"background-color: rgba(233,30,99,0);  padding: 1px 5px; border: solid 3px ; border-color:  rgba(233,30,99,0); #EFEFEF\">can't see</span> <span style=\"background-color: rgba(233,30,99,0);  padding: 1px 5px; border: solid 3px ; border-color:  rgba(233,30,99,0); #EFEFEF\">his face</span> </div>"
      ],
      "text/plain": [
       "<IPython.core.display.HTML object>"
      ]
     },
     "metadata": {},
     "output_type": "display_data"
    },
    {
     "data": {
      "text/html": [
       "<div style='display: flex; width: 400px; flex-wrap: wrap'><span style=\"background-color: rgba(233,30,99,0);  padding: 1px 5px; border: solid 3px ; border-color:  rgba(233,30,99,0); #EFEFEF\">Tina Louise</span> <span style=\"background-color: rgba(233,30,99,0);  padding: 1px 5px; border: solid 3px ; border-color:  rgba(233,30,99,0); #EFEFEF\">Adam West</span> <span style=\"background-color: rgba(233,30,99,0);  padding: 1px 5px; border: solid 3px ; border-color:  rgba(233,30,99,0); #EFEFEF\">are</span> <span style=\"background-color: rgba(233,30,99,0);  padding: 1px 5px; border: solid 3px ; border-color:  rgba(233,30,99,0); #EFEFEF\">the reasons</span> <span style=\"background-color: rgba(233,30,99,0);  padding: 1px 5px; border: solid 3px ; border-color:  rgba(233,30,99,0); #EFEFEF\">why</span> <span style=\"background-color: rgba(233,30,99,0);  padding: 1px 5px; border: solid 3px ; border-color:  rgba(233,30,99,0); #EFEFEF\">to see</span> <span style=\"background-color: rgba(233,30,99,0);  padding: 1px 5px; border: solid 3px ; border-color:  rgba(233,30,99,0); #EFEFEF\">this,but,that's it,but</span> <span style=\"background-color: rgba(233,30,99,0);  padding: 1px 5px; border: solid 3px ; border-color:  rgba(233,30,99,0); #EFEFEF\">their talents</span> <span style=\"background-color: rgba(233,30,99,0);  padding: 1px 5px; border: solid 3px ; border-color:  rgba(233,30,99,0); #EFEFEF\">are wasted</span> <span style=\"background-color: rgba(233,30,99,0);  padding: 1px 5px; border: solid 3px ; border-color:  rgba(233,30,99,0); #EFEFEF\">in</span> <span style=\"background-color: rgba(233,30,99,0);  padding: 1px 5px; border: solid 3px ; border-color:  rgba(233,30,99,0); #EFEFEF\">this junk</span> </div>"
      ],
      "text/plain": [
       "<IPython.core.display.HTML object>"
      ]
     },
     "metadata": {},
     "output_type": "display_data"
    },
    {
     "data": {
      "text/html": [
       "<div style='display: flex; width: 400px; flex-wrap: wrap'><span style=\"background-color: rgba(233,30,99,0);  padding: 1px 5px; border: solid 3px ; border-color:  rgba(233,30,99,0); #EFEFEF\">What else</span> <span style=\"background-color: rgba(233,30,99,0);  padding: 1px 5px; border: solid 3px ; border-color:  rgba(233,30,99,0); #EFEFEF\">you</span> <span style=\"background-color: rgba(233,30,99,0);  padding: 1px 5px; border: solid 3px ; border-color:  rgba(233,30,99,0); #EFEFEF\">say</span> <span style=\"background-color: rgba(233,30,99,0);  padding: 1px 5px; border: solid 3px ; border-color:  rgba(233,30,99,0); #EFEFEF\">about</span> <span style=\"background-color: rgba(233,30,99,0);  padding: 1px 5px; border: solid 3px ; border-color:  rgba(233,30,99,0); #EFEFEF\">this movie,except</span> <span style=\"background-color: rgba(233,30,99,0);  padding: 1px 5px; border: solid 3px ; border-color:  rgba(233,30,99,0); #EFEFEF\">that</span> <span style=\"background-color: rgba(233,30,99,0);  padding: 1px 5px; border: solid 3px ; border-color:  rgba(233,30,99,0); #EFEFEF\">it</span> <span style=\"background-color: rgba(233,30,99,0);  padding: 1px 5px; border: solid 3px ; border-color:  rgba(233,30,99,0); #EFEFEF\">'s</span> <span style=\"background-color: rgba(233,30,99,0);  padding: 1px 5px; border: solid 3px ; border-color:  rgba(233,30,99,0); #EFEFEF\">plain awful</span> </div>"
      ],
      "text/plain": [
       "<IPython.core.display.HTML object>"
      ]
     },
     "metadata": {},
     "output_type": "display_data"
    },
    {
     "data": {
      "text/html": [
       "<div style='display: flex; width: 400px; flex-wrap: wrap'><span style=\"background-color: rgba(233,30,99,0);  padding: 1px 5px; border: solid 3px ; border-color:  rgba(233,30,99,0); #EFEFEF\">Amistad</span> <span style=\"background-color: rgba(233,30,99,0);  padding: 1px 5px; border: solid 3px ; border-color:  rgba(233,30,99,0); #EFEFEF\">followed</span> <span style=\"background-color: rgba(233,30,99,0);  padding: 1px 5px; border: solid 3px ; border-color:  rgba(233,30,99,0); #EFEFEF\">Schindler</span> <span style=\"background-color: rgba(233,30,99,0);  padding: 1px 5px; border: solid 3px ; border-color:  rgba(233,30,99,0); #EFEFEF\">'s List</span> <span style=\"background-color: rgba(233,30,99,0);  padding: 1px 5px; border: solid 3px ; border-color:  rgba(233,30,99,0); #EFEFEF\">AI</span> <span style=\"background-color: rgba(233,30,99,0);  padding: 1px 5px; border: solid 3px ; border-color:  rgba(233,30,99,0); #EFEFEF\">followed</span> <span style=\"background-color: rgba(233,30,99,0);  padding: 1px 5px; border: solid 3px ; border-color:  rgba(233,30,99,0); #EFEFEF\">Ryan and Lincoln</span> <span style=\"background-color: rgba(233,30,99,0);  padding: 1px 5px; border: solid 3px ; border-color:  rgba(233,30,99,0); #EFEFEF\">will follow</span> <span style=\"background-color: rgba(233,30,99,0);  padding: 1px 5px; border: solid 3px ; border-color:  rgba(233,30,99,0); #EFEFEF\">Munich</span> </div>"
      ],
      "text/plain": [
       "<IPython.core.display.HTML object>"
      ]
     },
     "metadata": {},
     "output_type": "display_data"
    },
    {
     "data": {
      "text/html": [
       "<div style='display: flex; width: 400px; flex-wrap: wrap'><span style=\"background-color: rgba(233,30,99,0);  padding: 1px 5px; border: solid 3px ; border-color:  rgba(233,30,99,0); #EFEFEF\">After</span> <span style=\"background-color: rgba(233,30,99,0);  padding: 1px 5px; border: solid 3px ; border-color:  rgba(233,30,99,0); #EFEFEF\">the financial success</span> <span style=\"background-color: rgba(233,30,99,0);  padding: 1px 5px; border: solid 3px ; border-color:  rgba(233,30,99,0); #EFEFEF\">of</span> <span style=\"background-color: rgba(233,30,99,0);  padding: 1px 5px; border: solid 3px ; border-color:  rgba(233,30,99,0); #EFEFEF\">each dark film Spielberg</span> <span style=\"background-color: rgba(233,30,99,0);  padding: 1px 5px; border: solid 3px ; border-color:  rgba(233,30,99,0); #EFEFEF\">reverts</span> <span style=\"background-color: rgba(233,30,99,0);  padding: 1px 5px; border: solid 3px ; border-color:  rgba(233,30,99,0); #EFEFEF\">back</span> <span style=\"background-color: rgba(233,30,99,0);  padding: 1px 5px; border: solid 3px ; border-color:  rgba(233,30,99,0); #EFEFEF\">to</span> <span style=\"background-color: rgba(233,30,99,0);  padding: 1px 5px; border: solid 3px ; border-color:  rgba(233,30,99,0); #EFEFEF\">his colour cinematography</span> <span style=\"background-color: rgba(233,30,99,0);  padding: 1px 5px; border: solid 3px ; border-color:  rgba(233,30,99,0); #EFEFEF\">falls</span> <span style=\"background-color: rgba(233,30,99,0);  padding: 1px 5px; border: solid 3px ; border-color:  rgba(233,30,99,0); #EFEFEF\">flat</span> <span style=\"background-color: rgba(233,30,99,0);  padding: 1px 5px; border: solid 3px ; border-color:  rgba(233,30,99,0); #EFEFEF\">on</span> <span style=\"background-color: rgba(233,30,99,0);  padding: 1px 5px; border: solid 3px ; border-color:  rgba(233,30,99,0); #EFEFEF\">his face</span> <span style=\"background-color: rgba(233,30,99,0);  padding: 1px 5px; border: solid 3px ; border-color:  rgba(233,30,99,0); #EFEFEF\">once again</span> </div>"
      ],
      "text/plain": [
       "<IPython.core.display.HTML object>"
      ]
     },
     "metadata": {},
     "output_type": "display_data"
    },
    {
     "data": {
      "text/html": [
       "<div style='display: flex; width: 400px; flex-wrap: wrap'><span style=\"background-color: rgba(233,30,99,0);  padding: 1px 5px; border: solid 3px ; border-color:  rgba(233,30,99,0); #EFEFEF\">From</span> <span style=\"background-color: rgba(233,30,99,0);  padding: 1px 5px; border: solid 3px ; border-color:  rgba(233,30,99,0); #EFEFEF\">here on</span> <span style=\"background-color: rgba(233,30,99,0);  padding: 1px 5px; border: solid 3px ; border-color:  rgba(233,30,99,0); #EFEFEF\">less light and dark cinematography</span> <span style=\"background-color: rgba(233,30,99,0);  padding: 1px 5px; border: solid 3px ; border-color:  rgba(233,30,99,0); #EFEFEF\">became equated</span> <span style=\"background-color: rgba(233,30,99,0);  padding: 1px 5px; border: solid 3px ; border-color:  rgba(233,30,99,0); #EFEFEF\">with</span> <span style=\"background-color: rgba(233,30,99,0);  padding: 1px 5px; border: solid 3px ; border-color:  rgba(233,30,99,0); #EFEFEF\">serious topics</span> </div>"
      ],
      "text/plain": [
       "<IPython.core.display.HTML object>"
      ]
     },
     "metadata": {},
     "output_type": "display_data"
    },
    {
     "data": {
      "text/html": [
       "<div style='display: flex; width: 400px; flex-wrap: wrap'><span style=\"background-color: rgba(233,30,99,0);  padding: 1px 5px; border: solid 3px ; border-color:  rgba(233,30,99,0); #EFEFEF\">After</span> <span style=\"background-color: rgba(233,30,99,0);  padding: 1px 5px; border: solid 3px ; border-color:  rgba(233,30,99,0); #EFEFEF\">their failure</span> <span style=\"background-color: rgba(233,30,99,0);  padding: 1px 5px; border: solid 3px ; border-color:  rgba(233,30,99,0); #EFEFEF\">the twin financial failures</span> <span style=\"background-color: rgba(233,30,99,0);  padding: 1px 5px; border: solid 3px ; border-color:  rgba(233,30,99,0); #EFEFEF\">of</span> <span style=\"background-color: rgba(233,30,99,0);  padding: 1px 5px; border: solid 3px ; border-color:  rgba(233,30,99,0); #EFEFEF\">The Color Purple and Empire</span> <span style=\"background-color: rgba(233,30,99,0);  padding: 1px 5px; border: solid 3px ; border-color:  rgba(233,30,99,0); #EFEFEF\">of</span> <span style=\"background-color: rgba(233,30,99,0);  padding: 1px 5px; border: solid 3px ; border-color:  rgba(233,30,99,0); #EFEFEF\">the Sun ) Spielberg</span> <span style=\"background-color: rgba(233,30,99,0);  padding: 1px 5px; border: solid 3px ; border-color:  rgba(233,30,99,0); #EFEFEF\">dumped</span> <span style=\"background-color: rgba(233,30,99,0);  padding: 1px 5px; border: solid 3px ; border-color:  rgba(233,30,99,0); #EFEFEF\">the goofy colour cinematography</span> <span style=\"background-color: rgba(233,30,99,0);  padding: 1px 5px; border: solid 3px ; border-color:  rgba(233,30,99,0); #EFEFEF\">of</span> <span style=\"background-color: rgba(233,30,99,0);  padding: 1px 5px; border: solid 3px ; border-color:  rgba(233,30,99,0); #EFEFEF\">Color Purple and Empire</span> <span style=\"background-color: rgba(233,30,99,0);  padding: 1px 5px; border: solid 3px ; border-color:  rgba(233,30,99,0); #EFEFEF\">of</span> <span style=\"background-color: rgba(233,30,99,0);  padding: 1px 5px; border: solid 3px ; border-color:  rgba(233,30,99,0); #EFEFEF\">the Sun</span> <span style=\"background-color: rgba(233,30,99,0);  padding: 1px 5px; border: solid 3px ; border-color:  rgba(233,30,99,0); #EFEFEF\">in</span> <span style=\"background-color: rgba(233,30,99,0);  padding: 1px 5px; border: solid 3px ; border-color:  rgba(233,30,99,0); #EFEFEF\">favour</span> <span style=\"background-color: rgba(233,30,99,0);  padding: 1px 5px; border: solid 3px ; border-color:  rgba(233,30,99,0); #EFEFEF\">for</span> <span style=\"background-color: rgba(233,30,99,0);  padding: 1px 5px; border: solid 3px ; border-color:  rgba(233,30,99,0); #EFEFEF\">the more desaturated black and white worlds</span> <span style=\"background-color: rgba(233,30,99,0);  padding: 1px 5px; border: solid 3px ; border-color:  rgba(233,30,99,0); #EFEFEF\">of</span> <span style=\"background-color: rgba(233,30,99,0);  padding: 1px 5px; border: solid 3px ; border-color:  rgba(233,30,99,0); #EFEFEF\">Schindler</span> <span style=\"background-color: rgba(233,30,99,0);  padding: 1px 5px; border: solid 3px ; border-color:  rgba(233,30,99,0); #EFEFEF\">'s List</span> <span style=\"background-color: rgba(233,30,99,0);  padding: 1px 5px; border: solid 3px ; border-color:  rgba(233,30,99,0); #EFEFEF\">Munich</span> <span style=\"background-color: rgba(233,30,99,0);  padding: 1px 5px; border: solid 3px ; border-color:  rgba(233,30,99,0); #EFEFEF\">Minority Report</span> <span style=\"background-color: rgba(233,30,99,0);  padding: 1px 5px; border: solid 3px ; border-color:  rgba(233,30,99,0); #EFEFEF\">Saving</span> <span style=\"background-color: rgba(233,30,99,0);  padding: 1px 5px; border: solid 3px ; border-color:  rgba(233,30,99,0); #EFEFEF\">Private Ryan</span> </div>"
      ],
      "text/plain": [
       "<IPython.core.display.HTML object>"
      ]
     },
     "metadata": {},
     "output_type": "display_data"
    },
    {
     "data": {
      "text/html": [
       "<div style='display: flex; width: 400px; flex-wrap: wrap'><span style=\"background-color: rgba(233,30,99,0);  padding: 1px 5px; border: solid 3px ; border-color:  rgba(233,30,99,0); #EFEFEF\">Always</span> <span style=\"background-color: rgba(233,30,99,0);  padding: 1px 5px; border: solid 3px ; border-color:  rgba(233,30,99,0); #EFEFEF\">Hook</span> <span style=\"background-color: rgba(233,30,99,0);  padding: 1px 5px; border: solid 3px ; border-color:  rgba(233,30,99,0); #EFEFEF\">taught</span> <span style=\"background-color: rgba(233,30,99,0);  padding: 1px 5px; border: solid 3px ; border-color:  rgba(233,30,99,0); #EFEFEF\">Spielberg</span> <span style=\"background-color: rgba(233,30,99,0);  padding: 1px 5px; border: solid 3px ; border-color:  rgba(233,30,99,0); #EFEFEF\">how</span> <span style=\"background-color: rgba(233,30,99,0);  padding: 1px 5px; border: solid 3px ; border-color:  rgba(233,30,99,0); #EFEFEF\">to con</span> <span style=\"background-color: rgba(233,30,99,0);  padding: 1px 5px; border: solid 3px ; border-color:  rgba(233,30,99,0); #EFEFEF\">audiences</span> </div>"
      ],
      "text/plain": [
       "<IPython.core.display.HTML object>"
      ]
     },
     "metadata": {},
     "output_type": "display_data"
    },
    {
     "name": "stdout",
     "output_type": "stream",
     "text": [
      "\n",
      "\n",
      "10 most important reviews for negative predicted label - concept2:\n",
      "\n",
      "\n"
     ]
    },
    {
     "data": {
      "text/html": [
       "<div style='display: flex; width: 400px; flex-wrap: wrap'><span style=\"background-color: rgba(233,30,99,0);  padding: 1px 5px; border: solid 3px ; border-color:  rgba(233,30,99,0); #EFEFEF\">She</span> <span style=\"background-color: rgba(233,30,99,0);  padding: 1px 5px; border: solid 3px ; border-color:  rgba(233,30,99,0); #EFEFEF\">will serve</span> <span style=\"background-color: rgba(233,30,99,0);  padding: 1px 5px; border: solid 3px ; border-color:  rgba(233,30,99,0); #EFEFEF\">as</span> <span style=\"background-color: rgba(233,30,99,0);  padding: 1px 5px; border: solid 3px ; border-color:  rgba(233,30,99,0); #EFEFEF\">bait</span> </div>"
      ],
      "text/plain": [
       "<IPython.core.display.HTML object>"
      ]
     },
     "metadata": {},
     "output_type": "display_data"
    },
    {
     "data": {
      "text/html": [
       "<div style='display: flex; width: 400px; flex-wrap: wrap'><span style=\"background-color: rgba(233,30,99,0);  padding: 1px 5px; border: solid 3px ; border-color:  rgba(233,30,99,0); #EFEFEF\">A lot</span> <span style=\"background-color: rgba(233,30,99,0);  padding: 1px 5px; border: solid 3px ; border-color:  rgba(233,30,99,0); #EFEFEF\">of</span> <span style=\"background-color: rgba(233,30,99,0);  padding: 1px 5px; border: solid 3px ; border-color:  rgba(233,30,99,0); #EFEFEF\">the films</span> <span style=\"background-color: rgba(233,30,99,0);  padding: 1px 5px; border: solid 3px ; border-color:  rgba(233,30,99,0); #EFEFEF\">I</span> <span style=\"background-color: rgba(233,30,99,0);  padding: 1px 5px; border: solid 3px ; border-color:  rgba(233,30,99,0); #EFEFEF\">ve made</span> <span style=\"background-color: rgba(233,30,99,0);  padding: 1px 5px; border: solid 3px ; border-color:  rgba(233,30,99,0); #EFEFEF\">probably</span> <span style=\"background-color: rgba(233,30,99,0);  padding: 1px 5px; border: solid 3px ; border-color:  rgba(233,30,99,0); #EFEFEF\">could have worked</span> <span style=\"background-color: rgba(233,30,99,0);  padding: 1px 5px; border: solid 3px ; border-color:  rgba(233,30,99,0); #EFEFEF\">just as well</span> <span style=\"background-color: rgba(233,30,99,0);  padding: 1px 5px; border: solid 3px ; border-color:  rgba(233,30,99,0); #EFEFEF\">50 years</span> <span style=\"background-color: rgba(233,30,99,0);  padding: 1px 5px; border: solid 3px ; border-color:  rgba(233,30,99,0); #EFEFEF\">ago</span> <span style=\"background-color: rgba(233,30,99,0);  padding: 1px 5px; border: solid 3px ; border-color:  rgba(233,30,99,0); #EFEFEF\">that</span> <span style=\"background-color: rgba(233,30,99,0);  padding: 1px 5px; border: solid 3px ; border-color:  rgba(233,30,99,0); #EFEFEF\">'s</span> <span style=\"background-color: rgba(233,30,99,0);  padding: 1px 5px; border: solid 3px ; border-color:  rgba(233,30,99,0); #EFEFEF\">just</span> <span style=\"background-color: rgba(233,30,99,0);  padding: 1px 5px; border: solid 3px ; border-color:  rgba(233,30,99,0); #EFEFEF\">because</span> <span style=\"background-color: rgba(233,30,99,0);  padding: 1px 5px; border: solid 3px ; border-color:  rgba(233,30,99,0); #EFEFEF\">I</span> <span style=\"background-color: rgba(233,30,99,0);  padding: 1px 5px; border: solid 3px ; border-color:  rgba(233,30,99,0); #EFEFEF\">have</span> <span style=\"background-color: rgba(233,30,99,0);  padding: 1px 5px; border: solid 3px ; border-color:  rgba(233,30,99,0); #EFEFEF\">a lot</span> <span style=\"background-color: rgba(233,30,99,0);  padding: 1px 5px; border: solid 3px ; border-color:  rgba(233,30,99,0); #EFEFEF\">of</span> <span style=\"background-color: rgba(233,30,99,0);  padding: 1px 5px; border: solid 3px ; border-color:  rgba(233,30,99,0); #EFEFEF\">old-fashion values</span> </div>"
      ],
      "text/plain": [
       "<IPython.core.display.HTML object>"
      ]
     },
     "metadata": {},
     "output_type": "display_data"
    },
    {
     "data": {
      "text/html": [
       "<div style='display: flex; width: 400px; flex-wrap: wrap'><span style=\"background-color: rgba(233,30,99,0);  padding: 1px 5px; border: solid 3px ; border-color:  rgba(233,30,99,0); #EFEFEF\">I</span> <span style=\"background-color: rgba(233,30,99,0);  padding: 1px 5px; border: solid 3px ; border-color:  rgba(233,30,99,0); #EFEFEF\">think</span> <span style=\"background-color: rgba(233,30,99,0);  padding: 1px 5px; border: solid 3px ; border-color:  rgba(233,30,99,0); #EFEFEF\">that</span> <span style=\"background-color: rgba(233,30,99,0);  padding: 1px 5px; border: solid 3px ; border-color:  rgba(233,30,99,0); #EFEFEF\">they</span> <span style=\"background-color: rgba(233,30,99,0);  padding: 1px 5px; border: solid 3px ; border-color:  rgba(233,30,99,0); #EFEFEF\">used</span> <span style=\"background-color: rgba(233,30,99,0);  padding: 1px 5px; border: solid 3px ; border-color:  rgba(233,30,99,0); #EFEFEF\">a double</span> <span style=\"background-color: rgba(233,30,99,0);  padding: 1px 5px; border: solid 3px ; border-color:  rgba(233,30,99,0); #EFEFEF\">in</span> <span style=\"background-color: rgba(233,30,99,0);  padding: 1px 5px; border: solid 3px ; border-color:  rgba(233,30,99,0); #EFEFEF\">some</span> <span style=\"background-color: rgba(233,30,99,0);  padding: 1px 5px; border: solid 3px ; border-color:  rgba(233,30,99,0); #EFEFEF\">of</span> <span style=\"background-color: rgba(233,30,99,0);  padding: 1px 5px; border: solid 3px ; border-color:  rgba(233,30,99,0); #EFEFEF\">Adam</span> <span style=\"background-color: rgba(233,30,99,0);  padding: 1px 5px; border: solid 3px ; border-color:  rgba(233,30,99,0); #EFEFEF\">'s scenes,like</span> <span style=\"background-color: rgba(233,30,99,0);  padding: 1px 5px; border: solid 3px ; border-color:  rgba(233,30,99,0); #EFEFEF\">when</span> <span style=\"background-color: rgba(233,30,99,0);  padding: 1px 5px; border: solid 3px ; border-color:  rgba(233,30,99,0); #EFEFEF\">he</span> <span style=\"background-color: rgba(233,30,99,0);  padding: 1px 5px; border: solid 3px ; border-color:  rgba(233,30,99,0); #EFEFEF\">'s running</span> <span style=\"background-color: rgba(233,30,99,0);  padding: 1px 5px; border: solid 3px ; border-color:  rgba(233,30,99,0); #EFEFEF\">because</span> <span style=\"background-color: rgba(233,30,99,0);  padding: 1px 5px; border: solid 3px ; border-color:  rgba(233,30,99,0); #EFEFEF\">you</span> <span style=\"background-color: rgba(233,30,99,0);  padding: 1px 5px; border: solid 3px ; border-color:  rgba(233,30,99,0); #EFEFEF\">can't see</span> <span style=\"background-color: rgba(233,30,99,0);  padding: 1px 5px; border: solid 3px ; border-color:  rgba(233,30,99,0); #EFEFEF\">his face</span> </div>"
      ],
      "text/plain": [
       "<IPython.core.display.HTML object>"
      ]
     },
     "metadata": {},
     "output_type": "display_data"
    },
    {
     "data": {
      "text/html": [
       "<div style='display: flex; width: 400px; flex-wrap: wrap'><span style=\"background-color: rgba(233,30,99,0);  padding: 1px 5px; border: solid 3px ; border-color:  rgba(233,30,99,0); #EFEFEF\">Tina Louise</span> <span style=\"background-color: rgba(233,30,99,0);  padding: 1px 5px; border: solid 3px ; border-color:  rgba(233,30,99,0); #EFEFEF\">Adam West</span> <span style=\"background-color: rgba(233,30,99,0);  padding: 1px 5px; border: solid 3px ; border-color:  rgba(233,30,99,0); #EFEFEF\">are</span> <span style=\"background-color: rgba(233,30,99,0);  padding: 1px 5px; border: solid 3px ; border-color:  rgba(233,30,99,0); #EFEFEF\">the reasons</span> <span style=\"background-color: rgba(233,30,99,0);  padding: 1px 5px; border: solid 3px ; border-color:  rgba(233,30,99,0); #EFEFEF\">why</span> <span style=\"background-color: rgba(233,30,99,0);  padding: 1px 5px; border: solid 3px ; border-color:  rgba(233,30,99,0); #EFEFEF\">to see</span> <span style=\"background-color: rgba(233,30,99,0);  padding: 1px 5px; border: solid 3px ; border-color:  rgba(233,30,99,0); #EFEFEF\">this,but,that's it,but</span> <span style=\"background-color: rgba(233,30,99,0);  padding: 1px 5px; border: solid 3px ; border-color:  rgba(233,30,99,0); #EFEFEF\">their talents</span> <span style=\"background-color: rgba(233,30,99,0);  padding: 1px 5px; border: solid 3px ; border-color:  rgba(233,30,99,0); #EFEFEF\">are wasted</span> <span style=\"background-color: rgba(233,30,99,0);  padding: 1px 5px; border: solid 3px ; border-color:  rgba(233,30,99,0); #EFEFEF\">in</span> <span style=\"background-color: rgba(233,30,99,0);  padding: 1px 5px; border: solid 3px ; border-color:  rgba(233,30,99,0); #EFEFEF\">this junk</span> </div>"
      ],
      "text/plain": [
       "<IPython.core.display.HTML object>"
      ]
     },
     "metadata": {},
     "output_type": "display_data"
    },
    {
     "data": {
      "text/html": [
       "<div style='display: flex; width: 400px; flex-wrap: wrap'><span style=\"background-color: rgba(233,30,99,0);  padding: 1px 5px; border: solid 3px ; border-color:  rgba(233,30,99,0); #EFEFEF\">What else</span> <span style=\"background-color: rgba(233,30,99,0);  padding: 1px 5px; border: solid 3px ; border-color:  rgba(233,30,99,0); #EFEFEF\">you</span> <span style=\"background-color: rgba(233,30,99,0);  padding: 1px 5px; border: solid 3px ; border-color:  rgba(233,30,99,0); #EFEFEF\">say</span> <span style=\"background-color: rgba(233,30,99,0);  padding: 1px 5px; border: solid 3px ; border-color:  rgba(233,30,99,0); #EFEFEF\">about</span> <span style=\"background-color: rgba(233,30,99,0);  padding: 1px 5px; border: solid 3px ; border-color:  rgba(233,30,99,0); #EFEFEF\">this movie,except</span> <span style=\"background-color: rgba(233,30,99,0);  padding: 1px 5px; border: solid 3px ; border-color:  rgba(233,30,99,0); #EFEFEF\">that</span> <span style=\"background-color: rgba(233,30,99,0);  padding: 1px 5px; border: solid 3px ; border-color:  rgba(233,30,99,0); #EFEFEF\">it</span> <span style=\"background-color: rgba(233,30,99,0);  padding: 1px 5px; border: solid 3px ; border-color:  rgba(233,30,99,0); #EFEFEF\">'s</span> <span style=\"background-color: rgba(233,30,99,0);  padding: 1px 5px; border: solid 3px ; border-color:  rgba(233,30,99,0); #EFEFEF\">plain awful</span> </div>"
      ],
      "text/plain": [
       "<IPython.core.display.HTML object>"
      ]
     },
     "metadata": {},
     "output_type": "display_data"
    },
    {
     "data": {
      "text/html": [
       "<div style='display: flex; width: 400px; flex-wrap: wrap'><span style=\"background-color: rgba(233,30,99,0);  padding: 1px 5px; border: solid 3px ; border-color:  rgba(233,30,99,0); #EFEFEF\">Amistad</span> <span style=\"background-color: rgba(233,30,99,0);  padding: 1px 5px; border: solid 3px ; border-color:  rgba(233,30,99,0); #EFEFEF\">followed</span> <span style=\"background-color: rgba(233,30,99,0);  padding: 1px 5px; border: solid 3px ; border-color:  rgba(233,30,99,0); #EFEFEF\">Schindler</span> <span style=\"background-color: rgba(233,30,99,0);  padding: 1px 5px; border: solid 3px ; border-color:  rgba(233,30,99,0); #EFEFEF\">'s List</span> <span style=\"background-color: rgba(233,30,99,0);  padding: 1px 5px; border: solid 3px ; border-color:  rgba(233,30,99,0); #EFEFEF\">AI</span> <span style=\"background-color: rgba(233,30,99,0);  padding: 1px 5px; border: solid 3px ; border-color:  rgba(233,30,99,0); #EFEFEF\">followed</span> <span style=\"background-color: rgba(233,30,99,0);  padding: 1px 5px; border: solid 3px ; border-color:  rgba(233,30,99,0); #EFEFEF\">Ryan and Lincoln</span> <span style=\"background-color: rgba(233,30,99,0);  padding: 1px 5px; border: solid 3px ; border-color:  rgba(233,30,99,0); #EFEFEF\">will follow</span> <span style=\"background-color: rgba(233,30,99,0);  padding: 1px 5px; border: solid 3px ; border-color:  rgba(233,30,99,0); #EFEFEF\">Munich</span> </div>"
      ],
      "text/plain": [
       "<IPython.core.display.HTML object>"
      ]
     },
     "metadata": {},
     "output_type": "display_data"
    },
    {
     "data": {
      "text/html": [
       "<div style='display: flex; width: 400px; flex-wrap: wrap'><span style=\"background-color: rgba(233,30,99,0);  padding: 1px 5px; border: solid 3px ; border-color:  rgba(233,30,99,0); #EFEFEF\">After</span> <span style=\"background-color: rgba(233,30,99,0);  padding: 1px 5px; border: solid 3px ; border-color:  rgba(233,30,99,0); #EFEFEF\">the financial success</span> <span style=\"background-color: rgba(233,30,99,0);  padding: 1px 5px; border: solid 3px ; border-color:  rgba(233,30,99,0); #EFEFEF\">of</span> <span style=\"background-color: rgba(233,30,99,0);  padding: 1px 5px; border: solid 3px ; border-color:  rgba(233,30,99,0); #EFEFEF\">each dark film Spielberg</span> <span style=\"background-color: rgba(233,30,99,0);  padding: 1px 5px; border: solid 3px ; border-color:  rgba(233,30,99,0); #EFEFEF\">reverts</span> <span style=\"background-color: rgba(233,30,99,0);  padding: 1px 5px; border: solid 3px ; border-color:  rgba(233,30,99,0); #EFEFEF\">back</span> <span style=\"background-color: rgba(233,30,99,0);  padding: 1px 5px; border: solid 3px ; border-color:  rgba(233,30,99,0); #EFEFEF\">to</span> <span style=\"background-color: rgba(233,30,99,0);  padding: 1px 5px; border: solid 3px ; border-color:  rgba(233,30,99,0); #EFEFEF\">his colour cinematography</span> <span style=\"background-color: rgba(233,30,99,0);  padding: 1px 5px; border: solid 3px ; border-color:  rgba(233,30,99,0); #EFEFEF\">falls</span> <span style=\"background-color: rgba(233,30,99,0);  padding: 1px 5px; border: solid 3px ; border-color:  rgba(233,30,99,0); #EFEFEF\">flat</span> <span style=\"background-color: rgba(233,30,99,0);  padding: 1px 5px; border: solid 3px ; border-color:  rgba(233,30,99,0); #EFEFEF\">on</span> <span style=\"background-color: rgba(233,30,99,0);  padding: 1px 5px; border: solid 3px ; border-color:  rgba(233,30,99,0); #EFEFEF\">his face</span> <span style=\"background-color: rgba(233,30,99,0);  padding: 1px 5px; border: solid 3px ; border-color:  rgba(233,30,99,0); #EFEFEF\">once again</span> </div>"
      ],
      "text/plain": [
       "<IPython.core.display.HTML object>"
      ]
     },
     "metadata": {},
     "output_type": "display_data"
    },
    {
     "data": {
      "text/html": [
       "<div style='display: flex; width: 400px; flex-wrap: wrap'><span style=\"background-color: rgba(233,30,99,0);  padding: 1px 5px; border: solid 3px ; border-color:  rgba(233,30,99,0); #EFEFEF\">From</span> <span style=\"background-color: rgba(233,30,99,0);  padding: 1px 5px; border: solid 3px ; border-color:  rgba(233,30,99,0); #EFEFEF\">here on</span> <span style=\"background-color: rgba(233,30,99,0);  padding: 1px 5px; border: solid 3px ; border-color:  rgba(233,30,99,0); #EFEFEF\">less light and dark cinematography</span> <span style=\"background-color: rgba(233,30,99,0);  padding: 1px 5px; border: solid 3px ; border-color:  rgba(233,30,99,0); #EFEFEF\">became equated</span> <span style=\"background-color: rgba(233,30,99,0);  padding: 1px 5px; border: solid 3px ; border-color:  rgba(233,30,99,0); #EFEFEF\">with</span> <span style=\"background-color: rgba(233,30,99,0);  padding: 1px 5px; border: solid 3px ; border-color:  rgba(233,30,99,0); #EFEFEF\">serious topics</span> </div>"
      ],
      "text/plain": [
       "<IPython.core.display.HTML object>"
      ]
     },
     "metadata": {},
     "output_type": "display_data"
    },
    {
     "data": {
      "text/html": [
       "<div style='display: flex; width: 400px; flex-wrap: wrap'><span style=\"background-color: rgba(233,30,99,0);  padding: 1px 5px; border: solid 3px ; border-color:  rgba(233,30,99,0); #EFEFEF\">After</span> <span style=\"background-color: rgba(233,30,99,0);  padding: 1px 5px; border: solid 3px ; border-color:  rgba(233,30,99,0); #EFEFEF\">their failure</span> <span style=\"background-color: rgba(233,30,99,0);  padding: 1px 5px; border: solid 3px ; border-color:  rgba(233,30,99,0); #EFEFEF\">the twin financial failures</span> <span style=\"background-color: rgba(233,30,99,0);  padding: 1px 5px; border: solid 3px ; border-color:  rgba(233,30,99,0); #EFEFEF\">of</span> <span style=\"background-color: rgba(233,30,99,0);  padding: 1px 5px; border: solid 3px ; border-color:  rgba(233,30,99,0); #EFEFEF\">The Color Purple and Empire</span> <span style=\"background-color: rgba(233,30,99,0);  padding: 1px 5px; border: solid 3px ; border-color:  rgba(233,30,99,0); #EFEFEF\">of</span> <span style=\"background-color: rgba(233,30,99,0);  padding: 1px 5px; border: solid 3px ; border-color:  rgba(233,30,99,0); #EFEFEF\">the Sun ) Spielberg</span> <span style=\"background-color: rgba(233,30,99,0);  padding: 1px 5px; border: solid 3px ; border-color:  rgba(233,30,99,0); #EFEFEF\">dumped</span> <span style=\"background-color: rgba(233,30,99,0);  padding: 1px 5px; border: solid 3px ; border-color:  rgba(233,30,99,0); #EFEFEF\">the goofy colour cinematography</span> <span style=\"background-color: rgba(233,30,99,0);  padding: 1px 5px; border: solid 3px ; border-color:  rgba(233,30,99,0); #EFEFEF\">of</span> <span style=\"background-color: rgba(233,30,99,0);  padding: 1px 5px; border: solid 3px ; border-color:  rgba(233,30,99,0); #EFEFEF\">Color Purple and Empire</span> <span style=\"background-color: rgba(233,30,99,0);  padding: 1px 5px; border: solid 3px ; border-color:  rgba(233,30,99,0); #EFEFEF\">of</span> <span style=\"background-color: rgba(233,30,99,0);  padding: 1px 5px; border: solid 3px ; border-color:  rgba(233,30,99,0); #EFEFEF\">the Sun</span> <span style=\"background-color: rgba(233,30,99,0);  padding: 1px 5px; border: solid 3px ; border-color:  rgba(233,30,99,0); #EFEFEF\">in</span> <span style=\"background-color: rgba(233,30,99,0);  padding: 1px 5px; border: solid 3px ; border-color:  rgba(233,30,99,0); #EFEFEF\">favour</span> <span style=\"background-color: rgba(233,30,99,0);  padding: 1px 5px; border: solid 3px ; border-color:  rgba(233,30,99,0); #EFEFEF\">for</span> <span style=\"background-color: rgba(233,30,99,0);  padding: 1px 5px; border: solid 3px ; border-color:  rgba(233,30,99,0); #EFEFEF\">the more desaturated black and white worlds</span> <span style=\"background-color: rgba(233,30,99,0);  padding: 1px 5px; border: solid 3px ; border-color:  rgba(233,30,99,0); #EFEFEF\">of</span> <span style=\"background-color: rgba(233,30,99,0);  padding: 1px 5px; border: solid 3px ; border-color:  rgba(233,30,99,0); #EFEFEF\">Schindler</span> <span style=\"background-color: rgba(233,30,99,0);  padding: 1px 5px; border: solid 3px ; border-color:  rgba(233,30,99,0); #EFEFEF\">'s List</span> <span style=\"background-color: rgba(233,30,99,0);  padding: 1px 5px; border: solid 3px ; border-color:  rgba(233,30,99,0); #EFEFEF\">Munich</span> <span style=\"background-color: rgba(233,30,99,0);  padding: 1px 5px; border: solid 3px ; border-color:  rgba(233,30,99,0); #EFEFEF\">Minority Report</span> <span style=\"background-color: rgba(233,30,99,0);  padding: 1px 5px; border: solid 3px ; border-color:  rgba(233,30,99,0); #EFEFEF\">Saving</span> <span style=\"background-color: rgba(233,30,99,0);  padding: 1px 5px; border: solid 3px ; border-color:  rgba(233,30,99,0); #EFEFEF\">Private Ryan</span> </div>"
      ],
      "text/plain": [
       "<IPython.core.display.HTML object>"
      ]
     },
     "metadata": {},
     "output_type": "display_data"
    },
    {
     "data": {
      "text/html": [
       "<div style='display: flex; width: 400px; flex-wrap: wrap'><span style=\"background-color: rgba(233,30,99,0);  padding: 1px 5px; border: solid 3px ; border-color:  rgba(233,30,99,0); #EFEFEF\">Always</span> <span style=\"background-color: rgba(233,30,99,0);  padding: 1px 5px; border: solid 3px ; border-color:  rgba(233,30,99,0); #EFEFEF\">Hook</span> <span style=\"background-color: rgba(233,30,99,0);  padding: 1px 5px; border: solid 3px ; border-color:  rgba(233,30,99,0); #EFEFEF\">taught</span> <span style=\"background-color: rgba(233,30,99,0);  padding: 1px 5px; border: solid 3px ; border-color:  rgba(233,30,99,0); #EFEFEF\">Spielberg</span> <span style=\"background-color: rgba(233,30,99,0);  padding: 1px 5px; border: solid 3px ; border-color:  rgba(233,30,99,0); #EFEFEF\">how</span> <span style=\"background-color: rgba(233,30,99,0);  padding: 1px 5px; border: solid 3px ; border-color:  rgba(233,30,99,0); #EFEFEF\">to con</span> <span style=\"background-color: rgba(233,30,99,0);  padding: 1px 5px; border: solid 3px ; border-color:  rgba(233,30,99,0); #EFEFEF\">audiences</span> </div>"
      ],
      "text/plain": [
       "<IPython.core.display.HTML object>"
      ]
     },
     "metadata": {},
     "output_type": "display_data"
    },
    {
     "name": "stdout",
     "output_type": "stream",
     "text": [
      "\n",
      "\n",
      "10 most important reviews for negative predicted label - concept3:\n",
      "\n",
      "\n"
     ]
    },
    {
     "data": {
      "text/html": [
       "<div style='display: flex; width: 400px; flex-wrap: wrap'><span style=\"background-color: rgba(233,30,99,0);  padding: 1px 5px; border: solid 3px ; border-color:  rgba(233,30,99,0); #EFEFEF\">She</span> <span style=\"background-color: rgba(233,30,99,0);  padding: 1px 5px; border: solid 3px ; border-color:  rgba(233,30,99,0); #EFEFEF\">will serve</span> <span style=\"background-color: rgba(233,30,99,0);  padding: 1px 5px; border: solid 3px ; border-color:  rgba(233,30,99,0); #EFEFEF\">as</span> <span style=\"background-color: rgba(233,30,99,0);  padding: 1px 5px; border: solid 3px ; border-color:  rgba(233,30,99,0); #EFEFEF\">bait</span> </div>"
      ],
      "text/plain": [
       "<IPython.core.display.HTML object>"
      ]
     },
     "metadata": {},
     "output_type": "display_data"
    },
    {
     "data": {
      "text/html": [
       "<div style='display: flex; width: 400px; flex-wrap: wrap'><span style=\"background-color: rgba(233,30,99,0);  padding: 1px 5px; border: solid 3px ; border-color:  rgba(233,30,99,0); #EFEFEF\">A lot</span> <span style=\"background-color: rgba(233,30,99,0);  padding: 1px 5px; border: solid 3px ; border-color:  rgba(233,30,99,0); #EFEFEF\">of</span> <span style=\"background-color: rgba(233,30,99,0);  padding: 1px 5px; border: solid 3px ; border-color:  rgba(233,30,99,0); #EFEFEF\">the films</span> <span style=\"background-color: rgba(233,30,99,0);  padding: 1px 5px; border: solid 3px ; border-color:  rgba(233,30,99,0); #EFEFEF\">I</span> <span style=\"background-color: rgba(233,30,99,0);  padding: 1px 5px; border: solid 3px ; border-color:  rgba(233,30,99,0); #EFEFEF\">ve made</span> <span style=\"background-color: rgba(233,30,99,0);  padding: 1px 5px; border: solid 3px ; border-color:  rgba(233,30,99,0); #EFEFEF\">probably</span> <span style=\"background-color: rgba(233,30,99,0);  padding: 1px 5px; border: solid 3px ; border-color:  rgba(233,30,99,0); #EFEFEF\">could have worked</span> <span style=\"background-color: rgba(233,30,99,0);  padding: 1px 5px; border: solid 3px ; border-color:  rgba(233,30,99,0); #EFEFEF\">just as well</span> <span style=\"background-color: rgba(233,30,99,0);  padding: 1px 5px; border: solid 3px ; border-color:  rgba(233,30,99,0); #EFEFEF\">50 years</span> <span style=\"background-color: rgba(233,30,99,0);  padding: 1px 5px; border: solid 3px ; border-color:  rgba(233,30,99,0); #EFEFEF\">ago</span> <span style=\"background-color: rgba(233,30,99,0);  padding: 1px 5px; border: solid 3px ; border-color:  rgba(233,30,99,0); #EFEFEF\">that</span> <span style=\"background-color: rgba(233,30,99,0);  padding: 1px 5px; border: solid 3px ; border-color:  rgba(233,30,99,0); #EFEFEF\">'s</span> <span style=\"background-color: rgba(233,30,99,0);  padding: 1px 5px; border: solid 3px ; border-color:  rgba(233,30,99,0); #EFEFEF\">just</span> <span style=\"background-color: rgba(233,30,99,0);  padding: 1px 5px; border: solid 3px ; border-color:  rgba(233,30,99,0); #EFEFEF\">because</span> <span style=\"background-color: rgba(233,30,99,0);  padding: 1px 5px; border: solid 3px ; border-color:  rgba(233,30,99,0); #EFEFEF\">I</span> <span style=\"background-color: rgba(233,30,99,0);  padding: 1px 5px; border: solid 3px ; border-color:  rgba(233,30,99,0); #EFEFEF\">have</span> <span style=\"background-color: rgba(233,30,99,0);  padding: 1px 5px; border: solid 3px ; border-color:  rgba(233,30,99,0); #EFEFEF\">a lot</span> <span style=\"background-color: rgba(233,30,99,0);  padding: 1px 5px; border: solid 3px ; border-color:  rgba(233,30,99,0); #EFEFEF\">of</span> <span style=\"background-color: rgba(233,30,99,0);  padding: 1px 5px; border: solid 3px ; border-color:  rgba(233,30,99,0); #EFEFEF\">old-fashion values</span> </div>"
      ],
      "text/plain": [
       "<IPython.core.display.HTML object>"
      ]
     },
     "metadata": {},
     "output_type": "display_data"
    },
    {
     "data": {
      "text/html": [
       "<div style='display: flex; width: 400px; flex-wrap: wrap'><span style=\"background-color: rgba(233,30,99,0);  padding: 1px 5px; border: solid 3px ; border-color:  rgba(233,30,99,0); #EFEFEF\">I</span> <span style=\"background-color: rgba(233,30,99,0);  padding: 1px 5px; border: solid 3px ; border-color:  rgba(233,30,99,0); #EFEFEF\">think</span> <span style=\"background-color: rgba(233,30,99,0);  padding: 1px 5px; border: solid 3px ; border-color:  rgba(233,30,99,0); #EFEFEF\">that</span> <span style=\"background-color: rgba(233,30,99,0);  padding: 1px 5px; border: solid 3px ; border-color:  rgba(233,30,99,0); #EFEFEF\">they</span> <span style=\"background-color: rgba(233,30,99,0);  padding: 1px 5px; border: solid 3px ; border-color:  rgba(233,30,99,0); #EFEFEF\">used</span> <span style=\"background-color: rgba(233,30,99,0);  padding: 1px 5px; border: solid 3px ; border-color:  rgba(233,30,99,0); #EFEFEF\">a double</span> <span style=\"background-color: rgba(233,30,99,0);  padding: 1px 5px; border: solid 3px ; border-color:  rgba(233,30,99,0); #EFEFEF\">in</span> <span style=\"background-color: rgba(233,30,99,0);  padding: 1px 5px; border: solid 3px ; border-color:  rgba(233,30,99,0); #EFEFEF\">some</span> <span style=\"background-color: rgba(233,30,99,0);  padding: 1px 5px; border: solid 3px ; border-color:  rgba(233,30,99,0); #EFEFEF\">of</span> <span style=\"background-color: rgba(233,30,99,0);  padding: 1px 5px; border: solid 3px ; border-color:  rgba(233,30,99,0); #EFEFEF\">Adam</span> <span style=\"background-color: rgba(233,30,99,0);  padding: 1px 5px; border: solid 3px ; border-color:  rgba(233,30,99,0); #EFEFEF\">'s scenes,like</span> <span style=\"background-color: rgba(233,30,99,0);  padding: 1px 5px; border: solid 3px ; border-color:  rgba(233,30,99,0); #EFEFEF\">when</span> <span style=\"background-color: rgba(233,30,99,0);  padding: 1px 5px; border: solid 3px ; border-color:  rgba(233,30,99,0); #EFEFEF\">he</span> <span style=\"background-color: rgba(233,30,99,0);  padding: 1px 5px; border: solid 3px ; border-color:  rgba(233,30,99,0); #EFEFEF\">'s running</span> <span style=\"background-color: rgba(233,30,99,0);  padding: 1px 5px; border: solid 3px ; border-color:  rgba(233,30,99,0); #EFEFEF\">because</span> <span style=\"background-color: rgba(233,30,99,0);  padding: 1px 5px; border: solid 3px ; border-color:  rgba(233,30,99,0); #EFEFEF\">you</span> <span style=\"background-color: rgba(233,30,99,0);  padding: 1px 5px; border: solid 3px ; border-color:  rgba(233,30,99,0); #EFEFEF\">can't see</span> <span style=\"background-color: rgba(233,30,99,0);  padding: 1px 5px; border: solid 3px ; border-color:  rgba(233,30,99,0); #EFEFEF\">his face</span> </div>"
      ],
      "text/plain": [
       "<IPython.core.display.HTML object>"
      ]
     },
     "metadata": {},
     "output_type": "display_data"
    },
    {
     "data": {
      "text/html": [
       "<div style='display: flex; width: 400px; flex-wrap: wrap'><span style=\"background-color: rgba(233,30,99,0);  padding: 1px 5px; border: solid 3px ; border-color:  rgba(233,30,99,0); #EFEFEF\">Tina Louise</span> <span style=\"background-color: rgba(233,30,99,0);  padding: 1px 5px; border: solid 3px ; border-color:  rgba(233,30,99,0); #EFEFEF\">Adam West</span> <span style=\"background-color: rgba(233,30,99,0);  padding: 1px 5px; border: solid 3px ; border-color:  rgba(233,30,99,0); #EFEFEF\">are</span> <span style=\"background-color: rgba(233,30,99,0);  padding: 1px 5px; border: solid 3px ; border-color:  rgba(233,30,99,0); #EFEFEF\">the reasons</span> <span style=\"background-color: rgba(233,30,99,0);  padding: 1px 5px; border: solid 3px ; border-color:  rgba(233,30,99,0); #EFEFEF\">why</span> <span style=\"background-color: rgba(233,30,99,0);  padding: 1px 5px; border: solid 3px ; border-color:  rgba(233,30,99,0); #EFEFEF\">to see</span> <span style=\"background-color: rgba(233,30,99,0);  padding: 1px 5px; border: solid 3px ; border-color:  rgba(233,30,99,0); #EFEFEF\">this,but,that's it,but</span> <span style=\"background-color: rgba(233,30,99,0);  padding: 1px 5px; border: solid 3px ; border-color:  rgba(233,30,99,0); #EFEFEF\">their talents</span> <span style=\"background-color: rgba(233,30,99,0);  padding: 1px 5px; border: solid 3px ; border-color:  rgba(233,30,99,0); #EFEFEF\">are wasted</span> <span style=\"background-color: rgba(233,30,99,0);  padding: 1px 5px; border: solid 3px ; border-color:  rgba(233,30,99,0); #EFEFEF\">in</span> <span style=\"background-color: rgba(233,30,99,0);  padding: 1px 5px; border: solid 3px ; border-color:  rgba(233,30,99,0); #EFEFEF\">this junk</span> </div>"
      ],
      "text/plain": [
       "<IPython.core.display.HTML object>"
      ]
     },
     "metadata": {},
     "output_type": "display_data"
    },
    {
     "data": {
      "text/html": [
       "<div style='display: flex; width: 400px; flex-wrap: wrap'><span style=\"background-color: rgba(233,30,99,0);  padding: 1px 5px; border: solid 3px ; border-color:  rgba(233,30,99,0); #EFEFEF\">What else</span> <span style=\"background-color: rgba(233,30,99,0);  padding: 1px 5px; border: solid 3px ; border-color:  rgba(233,30,99,0); #EFEFEF\">you</span> <span style=\"background-color: rgba(233,30,99,0);  padding: 1px 5px; border: solid 3px ; border-color:  rgba(233,30,99,0); #EFEFEF\">say</span> <span style=\"background-color: rgba(233,30,99,0);  padding: 1px 5px; border: solid 3px ; border-color:  rgba(233,30,99,0); #EFEFEF\">about</span> <span style=\"background-color: rgba(233,30,99,0);  padding: 1px 5px; border: solid 3px ; border-color:  rgba(233,30,99,0); #EFEFEF\">this movie,except</span> <span style=\"background-color: rgba(233,30,99,0);  padding: 1px 5px; border: solid 3px ; border-color:  rgba(233,30,99,0); #EFEFEF\">that</span> <span style=\"background-color: rgba(233,30,99,0);  padding: 1px 5px; border: solid 3px ; border-color:  rgba(233,30,99,0); #EFEFEF\">it</span> <span style=\"background-color: rgba(233,30,99,0);  padding: 1px 5px; border: solid 3px ; border-color:  rgba(233,30,99,0); #EFEFEF\">'s</span> <span style=\"background-color: rgba(233,30,99,0);  padding: 1px 5px; border: solid 3px ; border-color:  rgba(233,30,99,0); #EFEFEF\">plain awful</span> </div>"
      ],
      "text/plain": [
       "<IPython.core.display.HTML object>"
      ]
     },
     "metadata": {},
     "output_type": "display_data"
    },
    {
     "data": {
      "text/html": [
       "<div style='display: flex; width: 400px; flex-wrap: wrap'><span style=\"background-color: rgba(233,30,99,0);  padding: 1px 5px; border: solid 3px ; border-color:  rgba(233,30,99,0); #EFEFEF\">Amistad</span> <span style=\"background-color: rgba(233,30,99,0);  padding: 1px 5px; border: solid 3px ; border-color:  rgba(233,30,99,0); #EFEFEF\">followed</span> <span style=\"background-color: rgba(233,30,99,0);  padding: 1px 5px; border: solid 3px ; border-color:  rgba(233,30,99,0); #EFEFEF\">Schindler</span> <span style=\"background-color: rgba(233,30,99,0);  padding: 1px 5px; border: solid 3px ; border-color:  rgba(233,30,99,0); #EFEFEF\">'s List</span> <span style=\"background-color: rgba(233,30,99,0);  padding: 1px 5px; border: solid 3px ; border-color:  rgba(233,30,99,0); #EFEFEF\">AI</span> <span style=\"background-color: rgba(233,30,99,0);  padding: 1px 5px; border: solid 3px ; border-color:  rgba(233,30,99,0); #EFEFEF\">followed</span> <span style=\"background-color: rgba(233,30,99,0);  padding: 1px 5px; border: solid 3px ; border-color:  rgba(233,30,99,0); #EFEFEF\">Ryan and Lincoln</span> <span style=\"background-color: rgba(233,30,99,0);  padding: 1px 5px; border: solid 3px ; border-color:  rgba(233,30,99,0); #EFEFEF\">will follow</span> <span style=\"background-color: rgba(233,30,99,0);  padding: 1px 5px; border: solid 3px ; border-color:  rgba(233,30,99,0); #EFEFEF\">Munich</span> </div>"
      ],
      "text/plain": [
       "<IPython.core.display.HTML object>"
      ]
     },
     "metadata": {},
     "output_type": "display_data"
    },
    {
     "data": {
      "text/html": [
       "<div style='display: flex; width: 400px; flex-wrap: wrap'><span style=\"background-color: rgba(233,30,99,0);  padding: 1px 5px; border: solid 3px ; border-color:  rgba(233,30,99,0); #EFEFEF\">After</span> <span style=\"background-color: rgba(233,30,99,0);  padding: 1px 5px; border: solid 3px ; border-color:  rgba(233,30,99,0); #EFEFEF\">the financial success</span> <span style=\"background-color: rgba(233,30,99,0);  padding: 1px 5px; border: solid 3px ; border-color:  rgba(233,30,99,0); #EFEFEF\">of</span> <span style=\"background-color: rgba(233,30,99,0);  padding: 1px 5px; border: solid 3px ; border-color:  rgba(233,30,99,0); #EFEFEF\">each dark film Spielberg</span> <span style=\"background-color: rgba(233,30,99,0);  padding: 1px 5px; border: solid 3px ; border-color:  rgba(233,30,99,0); #EFEFEF\">reverts</span> <span style=\"background-color: rgba(233,30,99,0);  padding: 1px 5px; border: solid 3px ; border-color:  rgba(233,30,99,0); #EFEFEF\">back</span> <span style=\"background-color: rgba(233,30,99,0);  padding: 1px 5px; border: solid 3px ; border-color:  rgba(233,30,99,0); #EFEFEF\">to</span> <span style=\"background-color: rgba(233,30,99,0);  padding: 1px 5px; border: solid 3px ; border-color:  rgba(233,30,99,0); #EFEFEF\">his colour cinematography</span> <span style=\"background-color: rgba(233,30,99,0);  padding: 1px 5px; border: solid 3px ; border-color:  rgba(233,30,99,0); #EFEFEF\">falls</span> <span style=\"background-color: rgba(233,30,99,0);  padding: 1px 5px; border: solid 3px ; border-color:  rgba(233,30,99,0); #EFEFEF\">flat</span> <span style=\"background-color: rgba(233,30,99,0);  padding: 1px 5px; border: solid 3px ; border-color:  rgba(233,30,99,0); #EFEFEF\">on</span> <span style=\"background-color: rgba(233,30,99,0);  padding: 1px 5px; border: solid 3px ; border-color:  rgba(233,30,99,0); #EFEFEF\">his face</span> <span style=\"background-color: rgba(233,30,99,0);  padding: 1px 5px; border: solid 3px ; border-color:  rgba(233,30,99,0); #EFEFEF\">once again</span> </div>"
      ],
      "text/plain": [
       "<IPython.core.display.HTML object>"
      ]
     },
     "metadata": {},
     "output_type": "display_data"
    },
    {
     "data": {
      "text/html": [
       "<div style='display: flex; width: 400px; flex-wrap: wrap'><span style=\"background-color: rgba(233,30,99,0);  padding: 1px 5px; border: solid 3px ; border-color:  rgba(233,30,99,0); #EFEFEF\">From</span> <span style=\"background-color: rgba(233,30,99,0);  padding: 1px 5px; border: solid 3px ; border-color:  rgba(233,30,99,0); #EFEFEF\">here on</span> <span style=\"background-color: rgba(233,30,99,0);  padding: 1px 5px; border: solid 3px ; border-color:  rgba(233,30,99,0); #EFEFEF\">less light and dark cinematography</span> <span style=\"background-color: rgba(233,30,99,0);  padding: 1px 5px; border: solid 3px ; border-color:  rgba(233,30,99,0); #EFEFEF\">became equated</span> <span style=\"background-color: rgba(233,30,99,0);  padding: 1px 5px; border: solid 3px ; border-color:  rgba(233,30,99,0); #EFEFEF\">with</span> <span style=\"background-color: rgba(233,30,99,0);  padding: 1px 5px; border: solid 3px ; border-color:  rgba(233,30,99,0); #EFEFEF\">serious topics</span> </div>"
      ],
      "text/plain": [
       "<IPython.core.display.HTML object>"
      ]
     },
     "metadata": {},
     "output_type": "display_data"
    },
    {
     "data": {
      "text/html": [
       "<div style='display: flex; width: 400px; flex-wrap: wrap'><span style=\"background-color: rgba(233,30,99,0);  padding: 1px 5px; border: solid 3px ; border-color:  rgba(233,30,99,0); #EFEFEF\">After</span> <span style=\"background-color: rgba(233,30,99,0);  padding: 1px 5px; border: solid 3px ; border-color:  rgba(233,30,99,0); #EFEFEF\">their failure</span> <span style=\"background-color: rgba(233,30,99,0);  padding: 1px 5px; border: solid 3px ; border-color:  rgba(233,30,99,0); #EFEFEF\">the twin financial failures</span> <span style=\"background-color: rgba(233,30,99,0);  padding: 1px 5px; border: solid 3px ; border-color:  rgba(233,30,99,0); #EFEFEF\">of</span> <span style=\"background-color: rgba(233,30,99,0);  padding: 1px 5px; border: solid 3px ; border-color:  rgba(233,30,99,0); #EFEFEF\">The Color Purple and Empire</span> <span style=\"background-color: rgba(233,30,99,0);  padding: 1px 5px; border: solid 3px ; border-color:  rgba(233,30,99,0); #EFEFEF\">of</span> <span style=\"background-color: rgba(233,30,99,0);  padding: 1px 5px; border: solid 3px ; border-color:  rgba(233,30,99,0); #EFEFEF\">the Sun ) Spielberg</span> <span style=\"background-color: rgba(233,30,99,0);  padding: 1px 5px; border: solid 3px ; border-color:  rgba(233,30,99,0); #EFEFEF\">dumped</span> <span style=\"background-color: rgba(233,30,99,0);  padding: 1px 5px; border: solid 3px ; border-color:  rgba(233,30,99,0); #EFEFEF\">the goofy colour cinematography</span> <span style=\"background-color: rgba(233,30,99,0);  padding: 1px 5px; border: solid 3px ; border-color:  rgba(233,30,99,0); #EFEFEF\">of</span> <span style=\"background-color: rgba(233,30,99,0);  padding: 1px 5px; border: solid 3px ; border-color:  rgba(233,30,99,0); #EFEFEF\">Color Purple and Empire</span> <span style=\"background-color: rgba(233,30,99,0);  padding: 1px 5px; border: solid 3px ; border-color:  rgba(233,30,99,0); #EFEFEF\">of</span> <span style=\"background-color: rgba(233,30,99,0);  padding: 1px 5px; border: solid 3px ; border-color:  rgba(233,30,99,0); #EFEFEF\">the Sun</span> <span style=\"background-color: rgba(233,30,99,0);  padding: 1px 5px; border: solid 3px ; border-color:  rgba(233,30,99,0); #EFEFEF\">in</span> <span style=\"background-color: rgba(233,30,99,0);  padding: 1px 5px; border: solid 3px ; border-color:  rgba(233,30,99,0); #EFEFEF\">favour</span> <span style=\"background-color: rgba(233,30,99,0);  padding: 1px 5px; border: solid 3px ; border-color:  rgba(233,30,99,0); #EFEFEF\">for</span> <span style=\"background-color: rgba(233,30,99,0);  padding: 1px 5px; border: solid 3px ; border-color:  rgba(233,30,99,0); #EFEFEF\">the more desaturated black and white worlds</span> <span style=\"background-color: rgba(233,30,99,0);  padding: 1px 5px; border: solid 3px ; border-color:  rgba(233,30,99,0); #EFEFEF\">of</span> <span style=\"background-color: rgba(233,30,99,0);  padding: 1px 5px; border: solid 3px ; border-color:  rgba(233,30,99,0); #EFEFEF\">Schindler</span> <span style=\"background-color: rgba(233,30,99,0);  padding: 1px 5px; border: solid 3px ; border-color:  rgba(233,30,99,0); #EFEFEF\">'s List</span> <span style=\"background-color: rgba(233,30,99,0);  padding: 1px 5px; border: solid 3px ; border-color:  rgba(233,30,99,0); #EFEFEF\">Munich</span> <span style=\"background-color: rgba(233,30,99,0);  padding: 1px 5px; border: solid 3px ; border-color:  rgba(233,30,99,0); #EFEFEF\">Minority Report</span> <span style=\"background-color: rgba(233,30,99,0);  padding: 1px 5px; border: solid 3px ; border-color:  rgba(233,30,99,0); #EFEFEF\">Saving</span> <span style=\"background-color: rgba(233,30,99,0);  padding: 1px 5px; border: solid 3px ; border-color:  rgba(233,30,99,0); #EFEFEF\">Private Ryan</span> </div>"
      ],
      "text/plain": [
       "<IPython.core.display.HTML object>"
      ]
     },
     "metadata": {},
     "output_type": "display_data"
    },
    {
     "data": {
      "text/html": [
       "<div style='display: flex; width: 400px; flex-wrap: wrap'><span style=\"background-color: rgba(233,30,99,0);  padding: 1px 5px; border: solid 3px ; border-color:  rgba(233,30,99,0); #EFEFEF\">Always</span> <span style=\"background-color: rgba(233,30,99,0);  padding: 1px 5px; border: solid 3px ; border-color:  rgba(233,30,99,0); #EFEFEF\">Hook</span> <span style=\"background-color: rgba(233,30,99,0);  padding: 1px 5px; border: solid 3px ; border-color:  rgba(233,30,99,0); #EFEFEF\">taught</span> <span style=\"background-color: rgba(233,30,99,0);  padding: 1px 5px; border: solid 3px ; border-color:  rgba(233,30,99,0); #EFEFEF\">Spielberg</span> <span style=\"background-color: rgba(233,30,99,0);  padding: 1px 5px; border: solid 3px ; border-color:  rgba(233,30,99,0); #EFEFEF\">how</span> <span style=\"background-color: rgba(233,30,99,0);  padding: 1px 5px; border: solid 3px ; border-color:  rgba(233,30,99,0); #EFEFEF\">to con</span> <span style=\"background-color: rgba(233,30,99,0);  padding: 1px 5px; border: solid 3px ; border-color:  rgba(233,30,99,0); #EFEFEF\">audiences</span> </div>"
      ],
      "text/plain": [
       "<IPython.core.display.HTML object>"
      ]
     },
     "metadata": {},
     "output_type": "display_data"
    }
   ],
   "source": [
    "plot_reviews_exp(segments_pos, u_segments_pos, factorization_pos, global_importance_pos,\n",
    "                 segments_neg, u_segments_neg, factorization_neg, global_importance_neg,\n",
    "                 custom_samples=False)"
   ]
  },
  {
   "cell_type": "code",
   "execution_count": 31,
   "id": "daf2730d-0b13-4e63-9b91-d54cc6b376d7",
   "metadata": {
    "tags": []
   },
   "outputs": [
    {
     "data": {
      "text/html": [
       "<div style='display: flex; width: 400px; flex-wrap: wrap'><span style=\"background-color: rgba(9, 221, 55,  0.5); padding: 1px 5px; border: solid 3px ; border-color: rgba(9, 221, 55,  1); #EFEFEF\">Positive label: concept1 </span> <span style=\"background-color: rgba(9, 221, 161,  0.5); padding: 1px 5px; border: solid 3px ; border-color: rgba(9, 221, 161,  1); #EFEFEF\">Positive label: concept2 </span> <span style=\"background-color: rgba(9, 175, 221,  0.5); padding: 1px 5px; border: solid 3px ; border-color: rgba(9, 175, 221,  1); #EFEFEF\">Positive label: concept3 </span> <span style=\"background-color: rgba(221, 9, 34,  0.5); padding: 1px 5px; border: solid 3px ; border-color: rgba(221, 9, 34,  1); #EFEFEF\">Negative label: concept1 </span> <span style=\"background-color: rgba(221, 9, 140, 0.5); padding: 1px 5px; border: solid 3px ; border-color: rgba(221, 9, 140, 1); #EFEFEF\">Negative label: concept2 </span> <span style=\"background-color: rgba(221, 90, 9,  0.5); padding: 1px 5px; border: solid 3px ; border-color: rgba(221, 90, 9,  1); #EFEFEF\">Negative label: concept3 </span> </div>"
      ],
      "text/plain": [
       "<IPython.core.display.HTML object>"
      ]
     },
     "metadata": {},
     "output_type": "display_data"
    },
    {
     "data": {
      "text/html": [
       "<br><br>"
      ],
      "text/plain": [
       "<IPython.core.display.HTML object>"
      ]
     },
     "metadata": {},
     "output_type": "display_data"
    },
    {
     "data": {
      "text/html": [
       "<div style='display: flex; width: 400px; flex-wrap: wrap'><span style=\"background-color: rgba(233,30,99,0);  padding: 1px 5px; border: solid 3px ; border-color:  rgba(233,30,99,0); #EFEFEF\">One</span> <span style=\"background-color: rgba(233,30,99,0);  padding: 1px 5px; border: solid 3px ; border-color:  rgba(233,30,99,0); #EFEFEF\">of</span> <span style=\"background-color: rgba(9, 221, 55,  0.9999583959579468); padding: 1px 5px; border: solid 3px ; border-color: rgba(9, 221, 55,  1); #EFEFEF\">the best movies</span> <span style=\"background-color: rgba(233,30,99,0);  padding: 1px 5px; border: solid 3px ; border-color:  rgba(233,30,99,0); #EFEFEF\">ever</span> <span style=\"background-color: rgba(9, 221, 55,  0.29696282744407654); padding: 1px 5px; border: solid 3px ; border-color: rgba(9, 221, 55,  1); #EFEFEF\">hands</span> <span style=\"background-color: rgba(9, 221, 55,  0.7189638018608093); padding: 1px 5px; border: solid 3px ; border-color: rgba(9, 221, 55,  1); #EFEFEF\">down</span> </div>"
      ],
      "text/plain": [
       "<IPython.core.display.HTML object>"
      ]
     },
     "metadata": {},
     "output_type": "display_data"
    },
    {
     "data": {
      "text/html": [
       "<div style='display: flex; width: 400px; flex-wrap: wrap'><span style=\"background-color: rgba(233,30,99,0);  padding: 1px 5px; border: solid 3px ; border-color:  rgba(233,30,99,0); #EFEFEF\">It</span> <span style=\"background-color: rgba(233,30,99,0);  padding: 1px 5px; border: solid 3px ; border-color:  rgba(233,30,99,0); #EFEFEF\">is</span> <span style=\"background-color: rgba(233,30,99,0);  padding: 1px 5px; border: solid 3px ; border-color:  rgba(233,30,99,0); #EFEFEF\">simply</span> <span style=\"background-color: rgba(233,30,99,0);  padding: 1px 5px; border: solid 3px ; border-color:  rgba(233,30,99,0); #EFEFEF\">one</span> <span style=\"background-color: rgba(233,30,99,0);  padding: 1px 5px; border: solid 3px ; border-color:  rgba(233,30,99,0); #EFEFEF\">of</span> <span style=\"background-color: rgba(9, 221, 55,  0.9999754428863525); padding: 1px 5px; border: solid 3px ; border-color: rgba(9, 221, 55,  1); #EFEFEF\">my all-time favorite films</span> </div>"
      ],
      "text/plain": [
       "<IPython.core.display.HTML object>"
      ]
     },
     "metadata": {},
     "output_type": "display_data"
    },
    {
     "data": {
      "text/html": [
       "<div style='display: flex; width: 400px; flex-wrap: wrap'><span style=\"background-color: rgba(9, 221, 55,  0.9999307990074158); padding: 1px 5px; border: solid 3px ; border-color: rgba(9, 221, 55,  1); #EFEFEF\">Very inspiring and encouraging</span> <span style=\"background-color: rgba(233,30,99,0);  padding: 1px 5px; border: solid 3px ; border-color:  rgba(233,30,99,0); #EFEFEF\">to</span> <span style=\"background-color: rgba(233,30,99,0);  padding: 1px 5px; border: solid 3px ; border-color:  rgba(233,30,99,0); #EFEFEF\">all ages</span> </div>"
      ],
      "text/plain": [
       "<IPython.core.display.HTML object>"
      ]
     },
     "metadata": {},
     "output_type": "display_data"
    },
    {
     "data": {
      "text/html": [
       "<div style='display: flex; width: 400px; flex-wrap: wrap'><span style=\"background-color: rgba(9, 175, 221,  0.3245951533317566); padding: 1px 5px; border: solid 3px ; border-color: rgba(9, 175, 221,  1); #EFEFEF\">The ballroom scenes</span> <span style=\"background-color: rgba(9, 221, 55,  0.20747216045856476); padding: 1px 5px; border: solid 3px ; border-color: rgba(9, 221, 55,  1); #EFEFEF\">were</span> <span style=\"background-color: rgba(9, 175, 221,  0.9998482465744019); padding: 1px 5px; border: solid 3px ; border-color: rgba(9, 175, 221,  1); #EFEFEF\">very nice</span> <span style=\"background-color: rgba(9, 175, 221,  0.29056137800216675); padding: 1px 5px; border: solid 3px ; border-color: rgba(9, 175, 221,  1); #EFEFEF\">the dancing</span> <span style=\"background-color: rgba(233,30,99,0);  padding: 1px 5px; border: solid 3px ; border-color:  rgba(233,30,99,0); #EFEFEF\">the outfits</span> <span style=\"background-color: rgba(233,30,99,0);  padding: 1px 5px; border: solid 3px ; border-color:  rgba(233,30,99,0); #EFEFEF\">looked</span> <span style=\"background-color: rgba(233,30,99,0);  padding: 1px 5px; border: solid 3px ; border-color:  rgba(233,30,99,0); #EFEFEF\">beautiful</span> </div>"
      ],
      "text/plain": [
       "<IPython.core.display.HTML object>"
      ]
     },
     "metadata": {},
     "output_type": "display_data"
    },
    {
     "data": {
      "text/html": [
       "<div style='display: flex; width: 400px; flex-wrap: wrap'><span style=\"background-color: rgba(233,30,99,0);  padding: 1px 5px; border: solid 3px ; border-color:  rgba(233,30,99,0); #EFEFEF\">Billy Bitzer</span> <span style=\"background-color: rgba(9, 175, 221,  0.5786218643188477); padding: 1px 5px; border: solid 3px ; border-color: rgba(9, 175, 221,  1); #EFEFEF\">'s camera work</span> <span style=\"background-color: rgba(233,30,99,0);  padding: 1px 5px; border: solid 3px ; border-color:  rgba(233,30,99,0); #EFEFEF\">is</span> <span style=\"background-color: rgba(9, 175, 221,  0.9998763203620911); padding: 1px 5px; border: solid 3px ; border-color: rgba(9, 175, 221,  1); #EFEFEF\">quite good</span> </div>"
      ],
      "text/plain": [
       "<IPython.core.display.HTML object>"
      ]
     },
     "metadata": {},
     "output_type": "display_data"
    },
    {
     "data": {
      "text/html": [
       "<div style='display: flex; width: 400px; flex-wrap: wrap'><span style=\"background-color: rgba(9, 221, 161,  0.9999326467514038); padding: 1px 5px; border: solid 3px ; border-color: rgba(9, 221, 161,  1); #EFEFEF\">The humor and sadness</span> <span style=\"background-color: rgba(9, 221, 161,  0.380771666765213); padding: 1px 5px; border: solid 3px ; border-color: rgba(9, 221, 161,  1); #EFEFEF\">are subtly blended</span> </div>"
      ],
      "text/plain": [
       "<IPython.core.display.HTML object>"
      ]
     },
     "metadata": {},
     "output_type": "display_data"
    },
    {
     "data": {
      "text/html": [
       "<div style='display: flex; width: 400px; flex-wrap: wrap'><span style=\"background-color: rgba(233,30,99,0);  padding: 1px 5px; border: solid 3px ; border-color:  rgba(233,30,99,0); #EFEFEF\">Idrissa Oudraogo</span> <span style=\"background-color: rgba(233,30,99,0);  padding: 1px 5px; border: solid 3px ; border-color:  rgba(233,30,99,0); #EFEFEF\">Burkina Faso</span> <span style=\"background-color: rgba(233,30,99,0);  padding: 1px 5px; border: solid 3px ; border-color:  rgba(233,30,99,0); #EFEFEF\">from</span> <span style=\"background-color: rgba(233,30,99,0);  padding: 1px 5px; border: solid 3px ; border-color:  rgba(233,30,99,0); #EFEFEF\">one</span> <span style=\"background-color: rgba(233,30,99,0);  padding: 1px 5px; border: solid 3px ; border-color:  rgba(233,30,99,0); #EFEFEF\">of</span> <span style=\"background-color: rgba(233,30,99,0);  padding: 1px 5px; border: solid 3px ; border-color:  rgba(233,30,99,0); #EFEFEF\">the poorest country</span> <span style=\"background-color: rgba(233,30,99,0);  padding: 1px 5px; border: solid 3px ; border-color:  rgba(233,30,99,0); #EFEFEF\">in</span> <span style=\"background-color: rgba(233,30,99,0);  padding: 1px 5px; border: solid 3px ; border-color:  rgba(233,30,99,0); #EFEFEF\">the world</span> <span style=\"background-color: rgba(9, 221, 161,  0.99995356798172); padding: 1px 5px; border: solid 3px ; border-color: rgba(9, 221, 161,  1); #EFEFEF\">a tender and funny story</span> <span style=\"background-color: rgba(233,30,99,0);  padding: 1px 5px; border: solid 3px ; border-color:  rgba(233,30,99,0); #EFEFEF\">about</span> <span style=\"background-color: rgba(233,30,99,0);  padding: 1px 5px; border: solid 3px ; border-color:  rgba(233,30,99,0); #EFEFEF\">five boys</span> <span style=\"background-color: rgba(233,30,99,0);  padding: 1px 5px; border: solid 3px ; border-color:  rgba(233,30,99,0); #EFEFEF\">who</span> <span style=\"background-color: rgba(233,30,99,0);  padding: 1px 5px; border: solid 3px ; border-color:  rgba(233,30,99,0); #EFEFEF\">want to capture</span> <span style=\"background-color: rgba(233,30,99,0);  padding: 1px 5px; border: solid 3px ; border-color:  rgba(233,30,99,0); #EFEFEF\">Osama Bin Laden</span> </div>"
      ],
      "text/plain": [
       "<IPython.core.display.HTML object>"
      ]
     },
     "metadata": {},
     "output_type": "display_data"
    },
    {
     "data": {
      "text/html": [
       "<div style='display: flex; width: 400px; flex-wrap: wrap'><span style=\"background-color: rgba(9, 221, 161,  0.9999362230300903); padding: 1px 5px; border: solid 3px ; border-color: rgba(9, 221, 161,  1); #EFEFEF\">Especially fun</span> <span style=\"background-color: rgba(233,30,99,0);  padding: 1px 5px; border: solid 3px ; border-color:  rgba(233,30,99,0); #EFEFEF\">is</span> <span style=\"background-color: rgba(9, 221, 161,  0.24321185052394867); padding: 1px 5px; border: solid 3px ; border-color: rgba(9, 221, 161,  1); #EFEFEF\">the performance</span> <span style=\"background-color: rgba(233,30,99,0);  padding: 1px 5px; border: solid 3px ; border-color:  rgba(233,30,99,0); #EFEFEF\">by</span> <span style=\"background-color: rgba(233,30,99,0);  padding: 1px 5px; border: solid 3px ; border-color:  rgba(233,30,99,0); #EFEFEF\">Cronenberg</span> <span style=\"background-color: rgba(233,30,99,0);  padding: 1px 5px; border: solid 3px ; border-color:  rgba(233,30,99,0); #EFEFEF\">as</span> <span style=\"background-color: rgba(233,30,99,0);  padding: 1px 5px; border: solid 3px ; border-color:  rgba(233,30,99,0); #EFEFEF\">the truly evil human doctor</span> <span style=\"background-color: rgba(233,30,99,0);  padding: 1px 5px; border: solid 3px ; border-color:  rgba(233,30,99,0); #EFEFEF\">who</span> <span style=\"background-color: rgba(233,30,99,0);  padding: 1px 5px; border: solid 3px ; border-color:  rgba(233,30,99,0); #EFEFEF\">is bent</span> <span style=\"background-color: rgba(233,30,99,0);  padding: 1px 5px; border: solid 3px ; border-color:  rgba(233,30,99,0); #EFEFEF\">on</span> <span style=\"background-color: rgba(233,30,99,0);  padding: 1px 5px; border: solid 3px ; border-color:  rgba(233,30,99,0); #EFEFEF\">destroying</span> <span style=\"background-color: rgba(233,30,99,0);  padding: 1px 5px; border: solid 3px ; border-color:  rgba(233,30,99,0); #EFEFEF\">the Nightbreed</span> </div>"
      ],
      "text/plain": [
       "<IPython.core.display.HTML object>"
      ]
     },
     "metadata": {},
     "output_type": "display_data"
    },
    {
     "data": {
      "text/html": [
       "<div style='display: flex; width: 400px; flex-wrap: wrap'><span style=\"background-color: rgba(233,30,99,0);  padding: 1px 5px; border: solid 3px ; border-color:  rgba(233,30,99,0); #EFEFEF\">I</span> <span style=\"background-color: rgba(233,30,99,0);  padding: 1px 5px; border: solid 3px ; border-color:  rgba(233,30,99,0); #EFEFEF\">couldn't even follow</span> <span style=\"background-color: rgba(233,30,99,0);  padding: 1px 5px; border: solid 3px ; border-color:  rgba(233,30,99,0); #EFEFEF\">the plot</span> <span style=\"background-color: rgba(233,30,99,0);  padding: 1px 5px; border: solid 3px ; border-color:  rgba(233,30,99,0); #EFEFEF\">suffice</span> <span style=\"background-color: rgba(233,30,99,0);  padding: 1px 5px; border: solid 3px ; border-color:  rgba(233,30,99,0); #EFEFEF\">it</span> <span style=\"background-color: rgba(233,30,99,0);  padding: 1px 5px; border: solid 3px ; border-color:  rgba(233,30,99,0); #EFEFEF\">to say</span> <span style=\"background-color: rgba(233,30,99,0);  padding: 1px 5px; border: solid 3px ; border-color:  rgba(233,30,99,0); #EFEFEF\">this</span> <span style=\"background-color: rgba(233,30,99,0);  padding: 1px 5px; border: solid 3px ; border-color:  rgba(233,30,99,0); #EFEFEF\">is</span> <span style=\"background-color: rgba(221, 9, 140, 0.9999763369560242); padding: 1px 5px; border: solid 3px ; border-color: rgba(221, 9, 140, 1); #EFEFEF\">the absolute worst movie</span> <span style=\"background-color: rgba(233,30,99,0);  padding: 1px 5px; border: solid 3px ; border-color:  rgba(233,30,99,0); #EFEFEF\">I</span> <span style=\"background-color: rgba(233,30,99,0);  padding: 1px 5px; border: solid 3px ; border-color:  rgba(233,30,99,0); #EFEFEF\">have ever seen</span> <span style=\"background-color: rgba(233,30,99,0);  padding: 1px 5px; border: solid 3px ; border-color:  rgba(233,30,99,0); #EFEFEF\">in</span> <span style=\"background-color: rgba(233,30,99,0);  padding: 1px 5px; border: solid 3px ; border-color:  rgba(233,30,99,0); #EFEFEF\">my life</span> </div>"
      ],
      "text/plain": [
       "<IPython.core.display.HTML object>"
      ]
     },
     "metadata": {},
     "output_type": "display_data"
    },
    {
     "data": {
      "text/html": [
       "<div style='display: flex; width: 400px; flex-wrap: wrap'><span style=\"background-color: rgba(233,30,99,0);  padding: 1px 5px; border: solid 3px ; border-color:  rgba(233,30,99,0); #EFEFEF\">This</span> <span style=\"background-color: rgba(233,30,99,0);  padding: 1px 5px; border: solid 3px ; border-color:  rgba(233,30,99,0); #EFEFEF\">is</span> <span style=\"background-color: rgba(233,30,99,0);  padding: 1px 5px; border: solid 3px ; border-color:  rgba(233,30,99,0); #EFEFEF\">by</span> <span style=\"background-color: rgba(233,30,99,0);  padding: 1px 5px; border: solid 3px ; border-color:  rgba(233,30,99,0); #EFEFEF\">far</span> <span style=\"background-color: rgba(233,30,99,0);  padding: 1px 5px; border: solid 3px ; border-color:  rgba(233,30,99,0); #EFEFEF\">one</span> <span style=\"background-color: rgba(233,30,99,0);  padding: 1px 5px; border: solid 3px ; border-color:  rgba(233,30,99,0); #EFEFEF\">of</span> <span style=\"background-color: rgba(221, 9, 140, 0.9999778270721436); padding: 1px 5px; border: solid 3px ; border-color: rgba(221, 9, 140, 1); #EFEFEF\">the worst films</span> <span style=\"background-color: rgba(233,30,99,0);  padding: 1px 5px; border: solid 3px ; border-color:  rgba(233,30,99,0); #EFEFEF\">I</span> <span style=\"background-color: rgba(233,30,99,0);  padding: 1px 5px; border: solid 3px ; border-color:  rgba(233,30,99,0); #EFEFEF\">'ve ever paid</span> <span style=\"background-color: rgba(233,30,99,0);  padding: 1px 5px; border: solid 3px ; border-color:  rgba(233,30,99,0); #EFEFEF\">good money</span> <span style=\"background-color: rgba(233,30,99,0);  padding: 1px 5px; border: solid 3px ; border-color:  rgba(233,30,99,0); #EFEFEF\">to see</span> </div>"
      ],
      "text/plain": [
       "<IPython.core.display.HTML object>"
      ]
     },
     "metadata": {},
     "output_type": "display_data"
    },
    {
     "data": {
      "text/html": [
       "<div style='display: flex; width: 400px; flex-wrap: wrap'><span style=\"background-color: rgba(233,30,99,0);  padding: 1px 5px; border: solid 3px ; border-color:  rgba(233,30,99,0); #EFEFEF\">Words</span> <span style=\"background-color: rgba(233,30,99,0);  padding: 1px 5px; border: solid 3px ; border-color:  rgba(233,30,99,0); #EFEFEF\">cannot begin to describe</span> <span style=\"background-color: rgba(221, 9, 140, 0.9999774098396301); padding: 1px 5px; border: solid 3px ; border-color: rgba(221, 9, 140, 1); #EFEFEF\">how blandly terrible</span> <span style=\"background-color: rgba(233,30,99,0);  padding: 1px 5px; border: solid 3px ; border-color:  rgba(233,30,99,0); #EFEFEF\">this movie</span> <span style=\"background-color: rgba(233,30,99,0);  padding: 1px 5px; border: solid 3px ; border-color:  rgba(233,30,99,0); #EFEFEF\">is</span> </div>"
      ],
      "text/plain": [
       "<IPython.core.display.HTML object>"
      ]
     },
     "metadata": {},
     "output_type": "display_data"
    },
    {
     "data": {
      "text/html": [
       "<div style='display: flex; width: 400px; flex-wrap: wrap'><span style=\"background-color: rgba(221, 9, 34,  0.4030191898345947); padding: 1px 5px; border: solid 3px ; border-color: rgba(221, 9, 34,  1); #EFEFEF\">It</span> <span style=\"background-color: rgba(221, 9, 34,  0.2498338371515274); padding: 1px 5px; border: solid 3px ; border-color: rgba(221, 9, 34,  1); #EFEFEF\">'s</span> <span style=\"background-color: rgba(221, 9, 34,  0.9999642372131348); padding: 1px 5px; border: solid 3px ; border-color: rgba(221, 9, 34,  1); #EFEFEF\">pointless</span> </div>"
      ],
      "text/plain": [
       "<IPython.core.display.HTML object>"
      ]
     },
     "metadata": {},
     "output_type": "display_data"
    },
    {
     "data": {
      "text/html": [
       "<div style='display: flex; width: 400px; flex-wrap: wrap'><span style=\"background-color: rgba(233,30,99,0);  padding: 1px 5px; border: solid 3px ; border-color:  rgba(233,30,99,0); #EFEFEF\">Plot</span> <span style=\"background-color: rgba(221, 90, 9,  0.258248507976532); padding: 1px 5px; border: solid 3px ; border-color: rgba(221, 90, 9,  1); #EFEFEF\">is</span> <span style=\"background-color: rgba(221, 9, 34,  0.9999558925628662); padding: 1px 5px; border: solid 3px ; border-color: rgba(221, 9, 34,  1); #EFEFEF\">unimportant</span> </div>"
      ],
      "text/plain": [
       "<IPython.core.display.HTML object>"
      ]
     },
     "metadata": {},
     "output_type": "display_data"
    },
    {
     "data": {
      "text/html": [
       "<div style='display: flex; width: 400px; flex-wrap: wrap'><span style=\"background-color: rgba(221, 90, 9,  0.7379932999610901); padding: 1px 5px; border: solid 3px ; border-color: rgba(221, 90, 9,  1); #EFEFEF\">About the only good thing</span> <span style=\"background-color: rgba(233,30,99,0);  padding: 1px 5px; border: solid 3px ; border-color:  rgba(233,30,99,0); #EFEFEF\">about</span> <span style=\"background-color: rgba(233,30,99,0);  padding: 1px 5px; border: solid 3px ; border-color:  rgba(233,30,99,0); #EFEFEF\">this</span> <span style=\"background-color: rgba(233,30,99,0);  padding: 1px 5px; border: solid 3px ; border-color:  rgba(233,30,99,0); #EFEFEF\">is</span> <span style=\"background-color: rgba(233,30,99,0);  padding: 1px 5px; border: solid 3px ; border-color:  rgba(233,30,99,0); #EFEFEF\">the setting</span> </div>"
      ],
      "text/plain": [
       "<IPython.core.display.HTML object>"
      ]
     },
     "metadata": {},
     "output_type": "display_data"
    },
    {
     "data": {
      "text/html": [
       "<div style='display: flex; width: 400px; flex-wrap: wrap'><span style=\"background-color: rgba(233,30,99,0);  padding: 1px 5px; border: solid 3px ; border-color:  rgba(233,30,99,0); #EFEFEF\">It</span> <span style=\"background-color: rgba(233,30,99,0);  padding: 1px 5px; border: solid 3px ; border-color:  rgba(233,30,99,0); #EFEFEF\">'s</span> <span style=\"background-color: rgba(221, 90, 9,  0.5909602642059326); padding: 1px 5px; border: solid 3px ; border-color: rgba(221, 90, 9,  1); #EFEFEF\">too bad</span> <span style=\"background-color: rgba(233,30,99,0);  padding: 1px 5px; border: solid 3px ; border-color:  rgba(233,30,99,0); #EFEFEF\">because</span> <span style=\"background-color: rgba(233,30,99,0);  padding: 1px 5px; border: solid 3px ; border-color:  rgba(233,30,99,0); #EFEFEF\">this film</span> <span style=\"background-color: rgba(233,30,99,0);  padding: 1px 5px; border: solid 3px ; border-color:  rgba(233,30,99,0); #EFEFEF\">had</span> <span style=\"background-color: rgba(233,30,99,0);  padding: 1px 5px; border: solid 3px ; border-color:  rgba(233,30,99,0); #EFEFEF\">great production values</span> <span style=\"background-color: rgba(233,30,99,0);  padding: 1px 5px; border: solid 3px ; border-color:  rgba(233,30,99,0); #EFEFEF\">a good cast</span> <span style=\"background-color: rgba(233,30,99,0);  padding: 1px 5px; border: solid 3px ; border-color:  rgba(233,30,99,0); #EFEFEF\">is</span> <span style=\"background-color: rgba(221, 90, 9,  0.37238049507141113); padding: 1px 5px; border: solid 3px ; border-color: rgba(221, 90, 9,  1); #EFEFEF\">the idea</span> <span style=\"background-color: rgba(233,30,99,0);  padding: 1px 5px; border: solid 3px ; border-color:  rgba(233,30,99,0); #EFEFEF\">of</span> <span style=\"background-color: rgba(221, 90, 9,  0.4881647825241089); padding: 1px 5px; border: solid 3px ; border-color: rgba(221, 90, 9,  1); #EFEFEF\">turning</span> <span style=\"background-color: rgba(233,30,99,0);  padding: 1px 5px; border: solid 3px ; border-color:  rgba(233,30,99,0); #EFEFEF\">a book</span> <span style=\"background-color: rgba(233,30,99,0);  padding: 1px 5px; border: solid 3px ; border-color:  rgba(233,30,99,0); #EFEFEF\">into</span> <span style=\"background-color: rgba(233,30,99,0);  padding: 1px 5px; border: solid 3px ; border-color:  rgba(233,30,99,0); #EFEFEF\">a movie</span> <span style=\"background-color: rgba(233,30,99,0);  padding: 1px 5px; border: solid 3px ; border-color:  rgba(233,30,99,0); #EFEFEF\">TV or film</span> <span style=\"background-color: rgba(233,30,99,0);  padding: 1px 5px; border: solid 3px ; border-color:  rgba(233,30,99,0); #EFEFEF\">to get</span> <span style=\"background-color: rgba(233,30,99,0);  padding: 1px 5px; border: solid 3px ; border-color:  rgba(233,30,99,0); #EFEFEF\">the people</span> <span style=\"background-color: rgba(233,30,99,0);  padding: 1px 5px; border: solid 3px ; border-color:  rgba(233,30,99,0); #EFEFEF\">who</span> <span style=\"background-color: rgba(233,30,99,0);  padding: 1px 5px; border: solid 3px ; border-color:  rgba(233,30,99,0); #EFEFEF\">read</span> <span style=\"background-color: rgba(233,30,99,0);  padding: 1px 5px; border: solid 3px ; border-color:  rgba(233,30,99,0); #EFEFEF\">the book</span> <span style=\"background-color: rgba(233,30,99,0);  padding: 1px 5px; border: solid 3px ; border-color:  rgba(233,30,99,0); #EFEFEF\">to be</span> <span style=\"background-color: rgba(233,30,99,0);  padding: 1px 5px; border: solid 3px ; border-color:  rgba(233,30,99,0); #EFEFEF\">part</span> <span style=\"background-color: rgba(233,30,99,0);  padding: 1px 5px; border: solid 3px ; border-color:  rgba(233,30,99,0); #EFEFEF\">of</span> <span style=\"background-color: rgba(233,30,99,0);  padding: 1px 5px; border: solid 3px ; border-color:  rgba(233,30,99,0); #EFEFEF\">the audience</span> </div>"
      ],
      "text/plain": [
       "<IPython.core.display.HTML object>"
      ]
     },
     "metadata": {},
     "output_type": "display_data"
    }
   ],
   "source": [
    "reviews_neg_text = [\n",
    "    \"I couldn't even follow the plot, but suffice it to say, this is the absolute worst movie I have ever seen in my life.\",\n",
    "    \"This is by far one of the worst films I've ever paid good money to see.\",\n",
    "    'Words cannot begin to describe how blandly terrible this movie is.',\n",
    "    \"It's pointless.\",\n",
    "    'Plot is unimportant.',\n",
    "    'About the only good thing about this is the setting.',\n",
    "    \"It's too bad because this film had great production values and a good cast, but isn't the idea of turning a book into a movie (TV or film) to get the people who read the book to be part of the audience.\"\n",
    "]\n",
    "\n",
    "reviews_neg = [[text, 'negative'] for text in reviews_neg_text]\n",
    "reviews_neg = np.array(reviews_neg)\n",
    "\n",
    "reviews_pos_text = [\n",
    "    'One of the best movies ever, hands down.',\n",
    "    'It is simply one of my all-time favorite films.',\n",
    "    'Very inspiring and encouraging to all ages.',\n",
    "    'The ballroom scenes were very nice, the dancing and the outfits looked beautiful.',\n",
    "    \"Billy Bitzer's camera work is quite good.\",\n",
    "    'The humor and sadness are subtly blended.',\n",
    "    'Idrissa Oudraogo ( Burkina Faso ): from one of the poorest country in the world, a tender and funny story about five boys who want to capture Osama Bin Laden.',\n",
    "    'Especially fun is the performance by Cronenberg as the truly evil human doctor who is bent on destroying the Nightbreed.'\n",
    "]\n",
    "\n",
    "reviews_pos = [[text, 'positive'] for text in reviews_pos_text]\n",
    "reviews_pos = np.array(reviews_pos)\n",
    "\n",
    "plot_reviews_exp(segments_pos, u_segments_pos, factorization_pos, global_importance_pos,\n",
    "                 segments_neg, u_segments_neg, factorization_neg, global_importance_neg,\n",
    "                 custom_samples=True, samples_to_test=[reviews_neg_text, reviews_pos_text])"
   ]
  },
  {
   "cell_type": "markdown",
   "id": "a2841b49-f72c-4ecd-aaf3-d88c4cad4d03",
   "metadata": {
    "jp-MarkdownHeadingCollapsed": true,
    "tags": []
   },
   "source": [
    "### Objective 2: Comparison with SHAP"
   ]
  },
  {
   "cell_type": "code",
   "execution_count": 47,
   "id": "111fdf91-7711-4689-8d97-c526772b8f96",
   "metadata": {
    "tags": []
   },
   "outputs": [],
   "source": [
    "import shap\n",
    "\n",
    "def shap_explain(pipe, text, output_names):\n",
    "    \n",
    "    prediction = pipe([text])\n",
    "    print(prediction[0])\n",
    "\n",
    "    explainer = shap.Explainer(pipe, output_names=output_names)\n",
    "    shap_values = explainer([text])\n",
    "\n",
    "    shap.plots.text(shap_values)\n",
    "    \n",
    "    return None"
   ]
  },
  {
   "cell_type": "code",
   "execution_count": 80,
   "id": "77b25556-bfdb-4cb2-8ee6-4d15205a116b",
   "metadata": {
    "tags": []
   },
   "outputs": [],
   "source": [
    "from transformers import RobertaTokenizerFast, RobertaForSequenceClassification, TextClassificationPipeline\n",
    "\n",
    "tokenizer = RobertaTokenizerFast.from_pretrained(\"wrmurray/roberta-base-finetuned-imdb\")\n",
    "model = RobertaForSequenceClassification.from_pretrained(\"wrmurray/roberta-base-finetuned-imdb\").to('cpu')\n",
    "\n",
    "# Put model into evaluation mode\n",
    "model = model.eval()\n",
    "\n",
    "# Create a pipeline for sentiment analysis\n",
    "pipe = TextClassificationPipeline(model=model, tokenizer=tokenizer, top_k=None)\n",
    "\n",
    "# Explain each sample in custom set\n",
    "for sample in reviews_neg_text + reviews_pos_text:\n",
    "    shap_explain(pipe, sample, output_names)"
   ]
  },
  {
   "cell_type": "markdown",
   "id": "4ef06dc6-b69e-4f76-9435-72bba3d4dfe4",
   "metadata": {
    "jp-MarkdownHeadingCollapsed": true,
    "tags": []
   },
   "source": [
    "#### Word vs Clause vs Sentence Level COCKATIEL"
   ]
  },
  {
   "cell_type": "code",
   "execution_count": null,
   "id": "0dc89f8f-363c-4ac5-9041-6b8ed4e7a342",
   "metadata": {},
   "outputs": [],
   "source": [
    "reviews_neg_text = [\n",
    "    \"I couldn't even follow the plot, but suffice it to say, this is the absolute worst movie I have ever seen in my life.\",\n",
    "    \"This is by far one of the worst films I've ever paid good money to see.\",\n",
    "    'Words cannot begin to describe how blandly terrible this movie is.',\n",
    "    \"It's pointless.\",\n",
    "    'Plot is unimportant.',\n",
    "    'About the only good thing about this is the setting.',\n",
    "    \"It's too bad because this film had great production values and a good cast, but isn't the idea of turning a book into a movie (TV or film) to get the people who read the book to be part of the audience.\"\n",
    "]\n",
    "\n",
    "reviews_neg = [[text, 'negative'] for text in reviews_neg_text]\n",
    "reviews_neg = np.array(reviews_neg)\n",
    "\n",
    "reviews_pos_text = [\n",
    "    'One of the best movies ever, hands down.',\n",
    "    'It is simply one of my all-time favorite films.',\n",
    "    'Very inspiring and encouraging to all ages.',\n",
    "    'The ballroom scenes were very nice, the dancing and the outfits looked beautiful.',\n",
    "    \"Billy Bitzer's camera work is quite good.\",\n",
    "    'The humor and sadness are subtly blended.',\n",
    "    'Idrissa Oudraogo ( Burkina Faso ): from one of the poorest country in the world, a tender and funny story about five boys who want to capture Osama Bin Laden.',\n",
    "    'Especially fun is the performance by Cronenberg as the truly evil human doctor who is bent on destroying the Nightbreed.'\n",
    "]\n",
    "\n",
    "reviews_pos = [[text, 'positive'] for text in reviews_pos_text]\n",
    "reviews_pos = np.array(reviews_pos)"
   ]
  },
  {
   "cell_type": "code",
   "execution_count": 25,
   "id": "8bf2625b-0bd7-4c55-8d3e-ee87a5670015",
   "metadata": {
    "tags": []
   },
   "outputs": [
    {
     "data": {
      "text/html": [
       "<div style='display: flex; width: 400px; flex-wrap: wrap'><span style=\"background-color: rgba(9, 221, 55,  0.5); padding: 1px 5px; border: solid 3px ; border-color: rgba(9, 221, 55,  1); #EFEFEF\">Positive label: concept1 </span> <span style=\"background-color: rgba(9, 221, 161,  0.5); padding: 1px 5px; border: solid 3px ; border-color: rgba(9, 221, 161,  1); #EFEFEF\">Positive label: concept2 </span> <span style=\"background-color: rgba(9, 175, 221,  0.5); padding: 1px 5px; border: solid 3px ; border-color: rgba(9, 175, 221,  1); #EFEFEF\">Positive label: concept3 </span> <span style=\"background-color: rgba(221, 9, 34,  0.5); padding: 1px 5px; border: solid 3px ; border-color: rgba(221, 9, 34,  1); #EFEFEF\">Negative label: concept1 </span> <span style=\"background-color: rgba(221, 9, 140, 0.5); padding: 1px 5px; border: solid 3px ; border-color: rgba(221, 9, 140, 1); #EFEFEF\">Negative label: concept2 </span> <span style=\"background-color: rgba(221, 90, 9,  0.5); padding: 1px 5px; border: solid 3px ; border-color: rgba(221, 90, 9,  1); #EFEFEF\">Negative label: concept3 </span> </div>"
      ],
      "text/plain": [
       "<IPython.core.display.HTML object>"
      ]
     },
     "metadata": {},
     "output_type": "display_data"
    },
    {
     "data": {
      "text/html": [
       "<br><br>"
      ],
      "text/plain": [
       "<IPython.core.display.HTML object>"
      ]
     },
     "metadata": {},
     "output_type": "display_data"
    },
    {
     "data": {
      "text/html": [
       "<div style='display: flex; width: 400px; flex-wrap: wrap'><span style=\"background-color: rgba(9, 221, 161,  0.3187069296836853); padding: 1px 5px; border: solid 3px ; border-color: rgba(9, 221, 161,  1); #EFEFEF\">One</span> <span style=\"background-color: rgba(233,30,99,0);  padding: 1px 5px; border: solid 3px ; border-color:  rgba(233,30,99,0); #EFEFEF\">of</span> <span style=\"background-color: rgba(233,30,99,0);  padding: 1px 5px; border: solid 3px ; border-color:  rgba(233,30,99,0); #EFEFEF\">the</span> <span style=\"background-color: rgba(233,30,99,0);  padding: 1px 5px; border: solid 3px ; border-color:  rgba(233,30,99,0); #EFEFEF\">best</span> <span style=\"background-color: rgba(9, 221, 161,  0.34406229853630066); padding: 1px 5px; border: solid 3px ; border-color: rgba(9, 221, 161,  1); #EFEFEF\">movies</span> <span style=\"background-color: rgba(9, 221, 161,  0.5028150677680969); padding: 1px 5px; border: solid 3px ; border-color: rgba(9, 221, 161,  1); #EFEFEF\">ever</span> <span style=\"background-color: rgba(233,30,99,0);  padding: 1px 5px; border: solid 3px ; border-color:  rgba(233,30,99,0); #EFEFEF\">,</span> <span style=\"background-color: rgba(233,30,99,0);  padding: 1px 5px; border: solid 3px ; border-color:  rgba(233,30,99,0); #EFEFEF\">hands</span> <span style=\"background-color: rgba(233,30,99,0);  padding: 1px 5px; border: solid 3px ; border-color:  rgba(233,30,99,0); #EFEFEF\">down</span> <span style=\"background-color: rgba(9, 221, 161,  0.33862510323524475); padding: 1px 5px; border: solid 3px ; border-color: rgba(9, 221, 161,  1); #EFEFEF\">.</span> </div>"
      ],
      "text/plain": [
       "<IPython.core.display.HTML object>"
      ]
     },
     "metadata": {},
     "output_type": "display_data"
    },
    {
     "data": {
      "text/html": [
       "<div style='display: flex; width: 400px; flex-wrap: wrap'><span style=\"background-color: rgba(9, 221, 161,  0.9993953108787537); padding: 1px 5px; border: solid 3px ; border-color: rgba(9, 221, 161,  1); #EFEFEF\">It</span> <span style=\"background-color: rgba(9, 221, 161,  0.7451270222663879); padding: 1px 5px; border: solid 3px ; border-color: rgba(9, 221, 161,  1); #EFEFEF\">is</span> <span style=\"background-color: rgba(9, 221, 161,  0.504895031452179); padding: 1px 5px; border: solid 3px ; border-color: rgba(9, 221, 161,  1); #EFEFEF\">simply</span> <span style=\"background-color: rgba(9, 221, 161,  0.6165587902069092); padding: 1px 5px; border: solid 3px ; border-color: rgba(9, 221, 161,  1); #EFEFEF\">one</span> <span style=\"background-color: rgba(9, 221, 161,  0.6242237687110901); padding: 1px 5px; border: solid 3px ; border-color: rgba(9, 221, 161,  1); #EFEFEF\">of</span> <span style=\"background-color: rgba(9, 221, 161,  0.5774714946746826); padding: 1px 5px; border: solid 3px ; border-color: rgba(9, 221, 161,  1); #EFEFEF\">my</span> <span style=\"background-color: rgba(9, 221, 161,  0.64347243309021); padding: 1px 5px; border: solid 3px ; border-color: rgba(9, 221, 161,  1); #EFEFEF\">all-time</span> <span style=\"background-color: rgba(233,30,99,0);  padding: 1px 5px; border: solid 3px ; border-color:  rgba(233,30,99,0); #EFEFEF\">favorite</span> <span style=\"background-color: rgba(9, 221, 161,  0.8189823031425476); padding: 1px 5px; border: solid 3px ; border-color: rgba(9, 221, 161,  1); #EFEFEF\">films</span> <span style=\"background-color: rgba(9, 221, 161,  0.7840750217437744); padding: 1px 5px; border: solid 3px ; border-color: rgba(9, 221, 161,  1); #EFEFEF\">.</span> </div>"
      ],
      "text/plain": [
       "<IPython.core.display.HTML object>"
      ]
     },
     "metadata": {},
     "output_type": "display_data"
    },
    {
     "data": {
      "text/html": [
       "<div style='display: flex; width: 400px; flex-wrap: wrap'><span style=\"background-color: rgba(9, 221, 161,  0.45239898562431335); padding: 1px 5px; border: solid 3px ; border-color: rgba(9, 221, 161,  1); #EFEFEF\">Very</span> <span style=\"background-color: rgba(9, 221, 161,  0.8397579193115234); padding: 1px 5px; border: solid 3px ; border-color: rgba(9, 221, 161,  1); #EFEFEF\">inspiring</span> <span style=\"background-color: rgba(9, 221, 161,  0.7447370886802673); padding: 1px 5px; border: solid 3px ; border-color: rgba(9, 221, 161,  1); #EFEFEF\">and</span> <span style=\"background-color: rgba(9, 221, 161,  0.999508261680603); padding: 1px 5px; border: solid 3px ; border-color: rgba(9, 221, 161,  1); #EFEFEF\">encouraging</span> <span style=\"background-color: rgba(9, 221, 161,  0.589067816734314); padding: 1px 5px; border: solid 3px ; border-color: rgba(9, 221, 161,  1); #EFEFEF\">to</span> <span style=\"background-color: rgba(9, 221, 161,  0.6843884587287903); padding: 1px 5px; border: solid 3px ; border-color: rgba(9, 221, 161,  1); #EFEFEF\">all</span> <span style=\"background-color: rgba(233,30,99,0);  padding: 1px 5px; border: solid 3px ; border-color:  rgba(233,30,99,0); #EFEFEF\">ages</span> <span style=\"background-color: rgba(9, 221, 161,  0.8308614492416382); padding: 1px 5px; border: solid 3px ; border-color: rgba(9, 221, 161,  1); #EFEFEF\">.</span> </div>"
      ],
      "text/plain": [
       "<IPython.core.display.HTML object>"
      ]
     },
     "metadata": {},
     "output_type": "display_data"
    },
    {
     "data": {
      "text/html": [
       "<div style='display: flex; width: 400px; flex-wrap: wrap'><span style=\"background-color: rgba(9, 221, 161,  0.2084396481513977); padding: 1px 5px; border: solid 3px ; border-color: rgba(9, 221, 161,  1); #EFEFEF\">The</span> <span style=\"background-color: rgba(233,30,99,0);  padding: 1px 5px; border: solid 3px ; border-color:  rgba(233,30,99,0); #EFEFEF\">ballroom</span> <span style=\"background-color: rgba(9, 221, 161,  0.3465386927127838); padding: 1px 5px; border: solid 3px ; border-color: rgba(9, 221, 161,  1); #EFEFEF\">scenes</span> <span style=\"background-color: rgba(9, 221, 161,  0.36625775694847107); padding: 1px 5px; border: solid 3px ; border-color: rgba(9, 221, 161,  1); #EFEFEF\">were</span> <span style=\"background-color: rgba(9, 221, 161,  0.7085673213005066); padding: 1px 5px; border: solid 3px ; border-color: rgba(9, 221, 161,  1); #EFEFEF\">very</span> <span style=\"background-color: rgba(233,30,99,0);  padding: 1px 5px; border: solid 3px ; border-color:  rgba(233,30,99,0); #EFEFEF\">nice</span> <span style=\"background-color: rgba(233,30,99,0);  padding: 1px 5px; border: solid 3px ; border-color:  rgba(233,30,99,0); #EFEFEF\">,</span> <span style=\"background-color: rgba(9, 221, 161,  0.5181211829185486); padding: 1px 5px; border: solid 3px ; border-color: rgba(9, 221, 161,  1); #EFEFEF\">the</span> <span style=\"background-color: rgba(233,30,99,0);  padding: 1px 5px; border: solid 3px ; border-color:  rgba(233,30,99,0); #EFEFEF\">dancing</span> <span style=\"background-color: rgba(9, 221, 161,  0.32497328519821167); padding: 1px 5px; border: solid 3px ; border-color: rgba(9, 221, 161,  1); #EFEFEF\">and</span> <span style=\"background-color: rgba(9, 221, 161,  0.31512242555618286); padding: 1px 5px; border: solid 3px ; border-color: rgba(9, 221, 161,  1); #EFEFEF\">the</span> <span style=\"background-color: rgba(9, 221, 161,  0.5502098202705383); padding: 1px 5px; border: solid 3px ; border-color: rgba(9, 221, 161,  1); #EFEFEF\">outfits</span> <span style=\"background-color: rgba(9, 221, 161,  0.28003406524658203); padding: 1px 5px; border: solid 3px ; border-color: rgba(9, 221, 161,  1); #EFEFEF\">looked</span> <span style=\"background-color: rgba(9, 221, 161,  0.9993831515312195); padding: 1px 5px; border: solid 3px ; border-color: rgba(9, 221, 161,  1); #EFEFEF\">beautiful</span> <span style=\"background-color: rgba(233,30,99,0);  padding: 1px 5px; border: solid 3px ; border-color:  rgba(233,30,99,0); #EFEFEF\">.</span> </div>"
      ],
      "text/plain": [
       "<IPython.core.display.HTML object>"
      ]
     },
     "metadata": {},
     "output_type": "display_data"
    },
    {
     "data": {
      "text/html": [
       "<div style='display: flex; width: 400px; flex-wrap: wrap'><span style=\"background-color: rgba(233,30,99,0);  padding: 1px 5px; border: solid 3px ; border-color:  rgba(233,30,99,0); #EFEFEF\">Billy</span> <span style=\"background-color: rgba(233,30,99,0);  padding: 1px 5px; border: solid 3px ; border-color:  rgba(233,30,99,0); #EFEFEF\">Bitzer</span> <span style=\"background-color: rgba(233,30,99,0);  padding: 1px 5px; border: solid 3px ; border-color:  rgba(233,30,99,0); #EFEFEF\">'s</span> <span style=\"background-color: rgba(9, 175, 221,  0.9996808767318726); padding: 1px 5px; border: solid 3px ; border-color: rgba(9, 175, 221,  1); #EFEFEF\">camera</span> <span style=\"background-color: rgba(9, 175, 221,  0.6148696541786194); padding: 1px 5px; border: solid 3px ; border-color: rgba(9, 175, 221,  1); #EFEFEF\">work</span> <span style=\"background-color: rgba(9, 175, 221,  0.27498018741607666); padding: 1px 5px; border: solid 3px ; border-color: rgba(9, 175, 221,  1); #EFEFEF\">is</span> <span style=\"background-color: rgba(9, 175, 221,  0.6951481699943542); padding: 1px 5px; border: solid 3px ; border-color: rgba(9, 175, 221,  1); #EFEFEF\">quite</span> <span style=\"background-color: rgba(9, 175, 221,  0.3251359760761261); padding: 1px 5px; border: solid 3px ; border-color: rgba(9, 175, 221,  1); #EFEFEF\">good</span> <span style=\"background-color: rgba(233,30,99,0);  padding: 1px 5px; border: solid 3px ; border-color:  rgba(233,30,99,0); #EFEFEF\">.</span> </div>"
      ],
      "text/plain": [
       "<IPython.core.display.HTML object>"
      ]
     },
     "metadata": {},
     "output_type": "display_data"
    },
    {
     "data": {
      "text/html": [
       "<div style='display: flex; width: 400px; flex-wrap: wrap'><span style=\"background-color: rgba(233,30,99,0);  padding: 1px 5px; border: solid 3px ; border-color:  rgba(233,30,99,0); #EFEFEF\">The</span> <span style=\"background-color: rgba(233,30,99,0);  padding: 1px 5px; border: solid 3px ; border-color:  rgba(233,30,99,0); #EFEFEF\">humor</span> <span style=\"background-color: rgba(9, 221, 161,  0.9226078987121582); padding: 1px 5px; border: solid 3px ; border-color: rgba(9, 221, 161,  1); #EFEFEF\">and</span> <span style=\"background-color: rgba(9, 221, 161,  0.9994149804115295); padding: 1px 5px; border: solid 3px ; border-color: rgba(9, 221, 161,  1); #EFEFEF\">sadness</span> <span style=\"background-color: rgba(233,30,99,0);  padding: 1px 5px; border: solid 3px ; border-color:  rgba(233,30,99,0); #EFEFEF\">are</span> <span style=\"background-color: rgba(233,30,99,0);  padding: 1px 5px; border: solid 3px ; border-color:  rgba(233,30,99,0); #EFEFEF\">subtly</span> <span style=\"background-color: rgba(9, 221, 161,  0.5233413577079773); padding: 1px 5px; border: solid 3px ; border-color: rgba(9, 221, 161,  1); #EFEFEF\">blended</span> <span style=\"background-color: rgba(233,30,99,0);  padding: 1px 5px; border: solid 3px ; border-color:  rgba(233,30,99,0); #EFEFEF\">.</span> </div>"
      ],
      "text/plain": [
       "<IPython.core.display.HTML object>"
      ]
     },
     "metadata": {},
     "output_type": "display_data"
    },
    {
     "data": {
      "text/html": [
       "<div style='display: flex; width: 400px; flex-wrap: wrap'><span style=\"background-color: rgba(9, 221, 161,  0.4239215850830078); padding: 1px 5px; border: solid 3px ; border-color: rgba(9, 221, 161,  1); #EFEFEF\">Idrissa</span> <span style=\"background-color: rgba(9, 221, 161,  0.3640260696411133); padding: 1px 5px; border: solid 3px ; border-color: rgba(9, 221, 161,  1); #EFEFEF\">Oudraogo</span> <span style=\"background-color: rgba(9, 221, 161,  0.591498613357544); padding: 1px 5px; border: solid 3px ; border-color: rgba(9, 221, 161,  1); #EFEFEF\">(</span> <span style=\"background-color: rgba(9, 221, 161,  0.2628968358039856); padding: 1px 5px; border: solid 3px ; border-color: rgba(9, 221, 161,  1); #EFEFEF\">Burkina</span> <span style=\"background-color: rgba(9, 221, 161,  0.2545943260192871); padding: 1px 5px; border: solid 3px ; border-color: rgba(9, 221, 161,  1); #EFEFEF\">Faso</span> <span style=\"background-color: rgba(9, 221, 161,  0.22793684899806976); padding: 1px 5px; border: solid 3px ; border-color: rgba(9, 221, 161,  1); #EFEFEF\">)</span> <span style=\"background-color: rgba(233,30,99,0);  padding: 1px 5px; border: solid 3px ; border-color:  rgba(233,30,99,0); #EFEFEF\">:</span> <span style=\"background-color: rgba(233,30,99,0);  padding: 1px 5px; border: solid 3px ; border-color:  rgba(233,30,99,0); #EFEFEF\">from</span> <span style=\"background-color: rgba(9, 221, 161,  0.36365076899528503); padding: 1px 5px; border: solid 3px ; border-color: rgba(9, 221, 161,  1); #EFEFEF\">one</span> <span style=\"background-color: rgba(9, 221, 161,  0.3913359045982361); padding: 1px 5px; border: solid 3px ; border-color: rgba(9, 221, 161,  1); #EFEFEF\">of</span> <span style=\"background-color: rgba(9, 221, 161,  0.23171594738960266); padding: 1px 5px; border: solid 3px ; border-color: rgba(9, 221, 161,  1); #EFEFEF\">the</span> <span style=\"background-color: rgba(233,30,99,0);  padding: 1px 5px; border: solid 3px ; border-color:  rgba(233,30,99,0); #EFEFEF\">poorest</span> <span style=\"background-color: rgba(9, 221, 161,  0.4087356925010681); padding: 1px 5px; border: solid 3px ; border-color: rgba(9, 221, 161,  1); #EFEFEF\">country</span> <span style=\"background-color: rgba(9, 221, 161,  0.33090391755104065); padding: 1px 5px; border: solid 3px ; border-color: rgba(9, 221, 161,  1); #EFEFEF\">in</span> <span style=\"background-color: rgba(9, 221, 161,  0.3160727322101593); padding: 1px 5px; border: solid 3px ; border-color: rgba(9, 221, 161,  1); #EFEFEF\">the</span> <span style=\"background-color: rgba(9, 221, 161,  0.3143102824687958); padding: 1px 5px; border: solid 3px ; border-color: rgba(9, 221, 161,  1); #EFEFEF\">world</span> <span style=\"background-color: rgba(233,30,99,0);  padding: 1px 5px; border: solid 3px ; border-color:  rgba(233,30,99,0); #EFEFEF\">,</span> <span style=\"background-color: rgba(233,30,99,0);  padding: 1px 5px; border: solid 3px ; border-color:  rgba(233,30,99,0); #EFEFEF\">a</span> <span style=\"background-color: rgba(9, 221, 161,  0.9990123510360718); padding: 1px 5px; border: solid 3px ; border-color: rgba(9, 221, 161,  1); #EFEFEF\">tender</span> <span style=\"background-color: rgba(233,30,99,0);  padding: 1px 5px; border: solid 3px ; border-color:  rgba(233,30,99,0); #EFEFEF\">and</span> <span style=\"background-color: rgba(233,30,99,0);  padding: 1px 5px; border: solid 3px ; border-color:  rgba(233,30,99,0); #EFEFEF\">funny</span> <span style=\"background-color: rgba(9, 221, 161,  0.8814484477043152); padding: 1px 5px; border: solid 3px ; border-color: rgba(9, 221, 161,  1); #EFEFEF\">story</span> <span style=\"background-color: rgba(233,30,99,0);  padding: 1px 5px; border: solid 3px ; border-color:  rgba(233,30,99,0); #EFEFEF\">about</span> <span style=\"background-color: rgba(233,30,99,0);  padding: 1px 5px; border: solid 3px ; border-color:  rgba(233,30,99,0); #EFEFEF\">five</span> <span style=\"background-color: rgba(233,30,99,0);  padding: 1px 5px; border: solid 3px ; border-color:  rgba(233,30,99,0); #EFEFEF\">boys</span> <span style=\"background-color: rgba(233,30,99,0);  padding: 1px 5px; border: solid 3px ; border-color:  rgba(233,30,99,0); #EFEFEF\">who</span> <span style=\"background-color: rgba(9, 221, 161,  0.21499131619930267); padding: 1px 5px; border: solid 3px ; border-color: rgba(9, 221, 161,  1); #EFEFEF\">want</span> <span style=\"background-color: rgba(9, 221, 161,  0.28277212381362915); padding: 1px 5px; border: solid 3px ; border-color: rgba(9, 221, 161,  1); #EFEFEF\">to</span> <span style=\"background-color: rgba(9, 221, 161,  0.3809298872947693); padding: 1px 5px; border: solid 3px ; border-color: rgba(9, 221, 161,  1); #EFEFEF\">capture</span> <span style=\"background-color: rgba(9, 221, 161,  0.4421231150627136); padding: 1px 5px; border: solid 3px ; border-color: rgba(9, 221, 161,  1); #EFEFEF\">Osama</span> <span style=\"background-color: rgba(9, 221, 161,  0.290225088596344); padding: 1px 5px; border: solid 3px ; border-color: rgba(9, 221, 161,  1); #EFEFEF\">Bin</span> <span style=\"background-color: rgba(9, 221, 161,  0.32090115547180176); padding: 1px 5px; border: solid 3px ; border-color: rgba(9, 221, 161,  1); #EFEFEF\">Laden</span> <span style=\"background-color: rgba(9, 221, 161,  0.5157504677772522); padding: 1px 5px; border: solid 3px ; border-color: rgba(9, 221, 161,  1); #EFEFEF\">.</span> </div>"
      ],
      "text/plain": [
       "<IPython.core.display.HTML object>"
      ]
     },
     "metadata": {},
     "output_type": "display_data"
    },
    {
     "data": {
      "text/html": [
       "<div style='display: flex; width: 400px; flex-wrap: wrap'><span style=\"background-color: rgba(9, 221, 161,  0.8930345773696899); padding: 1px 5px; border: solid 3px ; border-color: rgba(9, 221, 161,  1); #EFEFEF\">Especially</span> <span style=\"background-color: rgba(9, 221, 161,  0.7658940553665161); padding: 1px 5px; border: solid 3px ; border-color: rgba(9, 221, 161,  1); #EFEFEF\">fun</span> <span style=\"background-color: rgba(9, 221, 161,  0.2503800094127655); padding: 1px 5px; border: solid 3px ; border-color: rgba(9, 221, 161,  1); #EFEFEF\">is</span> <span style=\"background-color: rgba(233,30,99,0);  padding: 1px 5px; border: solid 3px ; border-color:  rgba(233,30,99,0); #EFEFEF\">the</span> <span style=\"background-color: rgba(9, 221, 161,  0.8458842039108276); padding: 1px 5px; border: solid 3px ; border-color: rgba(9, 221, 161,  1); #EFEFEF\">performance</span> <span style=\"background-color: rgba(233,30,99,0);  padding: 1px 5px; border: solid 3px ; border-color:  rgba(233,30,99,0); #EFEFEF\">by</span> <span style=\"background-color: rgba(9, 221, 161,  0.639090359210968); padding: 1px 5px; border: solid 3px ; border-color: rgba(9, 221, 161,  1); #EFEFEF\">Cronenberg</span> <span style=\"background-color: rgba(9, 221, 161,  0.39109763503074646); padding: 1px 5px; border: solid 3px ; border-color: rgba(9, 221, 161,  1); #EFEFEF\">as</span> <span style=\"background-color: rgba(233,30,99,0);  padding: 1px 5px; border: solid 3px ; border-color:  rgba(233,30,99,0); #EFEFEF\">the</span> <span style=\"background-color: rgba(233,30,99,0);  padding: 1px 5px; border: solid 3px ; border-color:  rgba(233,30,99,0); #EFEFEF\">truly</span> <span style=\"background-color: rgba(233,30,99,0);  padding: 1px 5px; border: solid 3px ; border-color:  rgba(233,30,99,0); #EFEFEF\">evil</span> <span style=\"background-color: rgba(233,30,99,0);  padding: 1px 5px; border: solid 3px ; border-color:  rgba(233,30,99,0); #EFEFEF\">human</span> <span style=\"background-color: rgba(233,30,99,0);  padding: 1px 5px; border: solid 3px ; border-color:  rgba(233,30,99,0); #EFEFEF\">doctor</span> <span style=\"background-color: rgba(233,30,99,0);  padding: 1px 5px; border: solid 3px ; border-color:  rgba(233,30,99,0); #EFEFEF\">who</span> <span style=\"background-color: rgba(233,30,99,0);  padding: 1px 5px; border: solid 3px ; border-color:  rgba(233,30,99,0); #EFEFEF\">is</span> <span style=\"background-color: rgba(233,30,99,0);  padding: 1px 5px; border: solid 3px ; border-color:  rgba(233,30,99,0); #EFEFEF\">bent</span> <span style=\"background-color: rgba(233,30,99,0);  padding: 1px 5px; border: solid 3px ; border-color:  rgba(233,30,99,0); #EFEFEF\">on</span> <span style=\"background-color: rgba(233,30,99,0);  padding: 1px 5px; border: solid 3px ; border-color:  rgba(233,30,99,0); #EFEFEF\">destroying</span> <span style=\"background-color: rgba(233,30,99,0);  padding: 1px 5px; border: solid 3px ; border-color:  rgba(233,30,99,0); #EFEFEF\">the</span> <span style=\"background-color: rgba(233,30,99,0);  padding: 1px 5px; border: solid 3px ; border-color:  rgba(233,30,99,0); #EFEFEF\">Nightbreed</span> <span style=\"background-color: rgba(233,30,99,0);  padding: 1px 5px; border: solid 3px ; border-color:  rgba(233,30,99,0); #EFEFEF\">.</span> </div>"
      ],
      "text/plain": [
       "<IPython.core.display.HTML object>"
      ]
     },
     "metadata": {},
     "output_type": "display_data"
    },
    {
     "data": {
      "text/html": [
       "<div style='display: flex; width: 400px; flex-wrap: wrap'><span style=\"background-color: rgba(233,30,99,0);  padding: 1px 5px; border: solid 3px ; border-color:  rgba(233,30,99,0); #EFEFEF\">I</span> <span style=\"background-color: rgba(233,30,99,0);  padding: 1px 5px; border: solid 3px ; border-color:  rgba(233,30,99,0); #EFEFEF\">could</span> <span style=\"background-color: rgba(233,30,99,0);  padding: 1px 5px; border: solid 3px ; border-color:  rgba(233,30,99,0); #EFEFEF\">n't</span> <span style=\"background-color: rgba(233,30,99,0);  padding: 1px 5px; border: solid 3px ; border-color:  rgba(233,30,99,0); #EFEFEF\">even</span> <span style=\"background-color: rgba(233,30,99,0);  padding: 1px 5px; border: solid 3px ; border-color:  rgba(233,30,99,0); #EFEFEF\">follow</span> <span style=\"background-color: rgba(233,30,99,0);  padding: 1px 5px; border: solid 3px ; border-color:  rgba(233,30,99,0); #EFEFEF\">the</span> <span style=\"background-color: rgba(233,30,99,0);  padding: 1px 5px; border: solid 3px ; border-color:  rgba(233,30,99,0); #EFEFEF\">plot</span> <span style=\"background-color: rgba(233,30,99,0);  padding: 1px 5px; border: solid 3px ; border-color:  rgba(233,30,99,0); #EFEFEF\">,</span> <span style=\"background-color: rgba(233,30,99,0);  padding: 1px 5px; border: solid 3px ; border-color:  rgba(233,30,99,0); #EFEFEF\">but</span> <span style=\"background-color: rgba(233,30,99,0);  padding: 1px 5px; border: solid 3px ; border-color:  rgba(233,30,99,0); #EFEFEF\">suffice</span> <span style=\"background-color: rgba(233,30,99,0);  padding: 1px 5px; border: solid 3px ; border-color:  rgba(233,30,99,0); #EFEFEF\">it</span> <span style=\"background-color: rgba(233,30,99,0);  padding: 1px 5px; border: solid 3px ; border-color:  rgba(233,30,99,0); #EFEFEF\">to</span> <span style=\"background-color: rgba(233,30,99,0);  padding: 1px 5px; border: solid 3px ; border-color:  rgba(233,30,99,0); #EFEFEF\">say</span> <span style=\"background-color: rgba(233,30,99,0);  padding: 1px 5px; border: solid 3px ; border-color:  rgba(233,30,99,0); #EFEFEF\">,</span> <span style=\"background-color: rgba(233,30,99,0);  padding: 1px 5px; border: solid 3px ; border-color:  rgba(233,30,99,0); #EFEFEF\">this</span> <span style=\"background-color: rgba(233,30,99,0);  padding: 1px 5px; border: solid 3px ; border-color:  rgba(233,30,99,0); #EFEFEF\">is</span> <span style=\"background-color: rgba(233,30,99,0);  padding: 1px 5px; border: solid 3px ; border-color:  rgba(233,30,99,0); #EFEFEF\">the</span> <span style=\"background-color: rgba(233,30,99,0);  padding: 1px 5px; border: solid 3px ; border-color:  rgba(233,30,99,0); #EFEFEF\">absolute</span> <span style=\"background-color: rgba(221, 9, 34,  0.7394473552703857); padding: 1px 5px; border: solid 3px ; border-color: rgba(221, 9, 34,  1); #EFEFEF\">worst</span> <span style=\"background-color: rgba(233,30,99,0);  padding: 1px 5px; border: solid 3px ; border-color:  rgba(233,30,99,0); #EFEFEF\">movie</span> <span style=\"background-color: rgba(233,30,99,0);  padding: 1px 5px; border: solid 3px ; border-color:  rgba(233,30,99,0); #EFEFEF\">I</span> <span style=\"background-color: rgba(233,30,99,0);  padding: 1px 5px; border: solid 3px ; border-color:  rgba(233,30,99,0); #EFEFEF\">have</span> <span style=\"background-color: rgba(233,30,99,0);  padding: 1px 5px; border: solid 3px ; border-color:  rgba(233,30,99,0); #EFEFEF\">ever</span> <span style=\"background-color: rgba(233,30,99,0);  padding: 1px 5px; border: solid 3px ; border-color:  rgba(233,30,99,0); #EFEFEF\">seen</span> <span style=\"background-color: rgba(233,30,99,0);  padding: 1px 5px; border: solid 3px ; border-color:  rgba(233,30,99,0); #EFEFEF\">in</span> <span style=\"background-color: rgba(233,30,99,0);  padding: 1px 5px; border: solid 3px ; border-color:  rgba(233,30,99,0); #EFEFEF\">my</span> <span style=\"background-color: rgba(233,30,99,0);  padding: 1px 5px; border: solid 3px ; border-color:  rgba(233,30,99,0); #EFEFEF\">life</span> <span style=\"background-color: rgba(233,30,99,0);  padding: 1px 5px; border: solid 3px ; border-color:  rgba(233,30,99,0); #EFEFEF\">.</span> </div>"
      ],
      "text/plain": [
       "<IPython.core.display.HTML object>"
      ]
     },
     "metadata": {},
     "output_type": "display_data"
    },
    {
     "data": {
      "text/html": [
       "<div style='display: flex; width: 400px; flex-wrap: wrap'><span style=\"background-color: rgba(233,30,99,0);  padding: 1px 5px; border: solid 3px ; border-color:  rgba(233,30,99,0); #EFEFEF\">This</span> <span style=\"background-color: rgba(233,30,99,0);  padding: 1px 5px; border: solid 3px ; border-color:  rgba(233,30,99,0); #EFEFEF\">is</span> <span style=\"background-color: rgba(233,30,99,0);  padding: 1px 5px; border: solid 3px ; border-color:  rgba(233,30,99,0); #EFEFEF\">by</span> <span style=\"background-color: rgba(233,30,99,0);  padding: 1px 5px; border: solid 3px ; border-color:  rgba(233,30,99,0); #EFEFEF\">far</span> <span style=\"background-color: rgba(233,30,99,0);  padding: 1px 5px; border: solid 3px ; border-color:  rgba(233,30,99,0); #EFEFEF\">one</span> <span style=\"background-color: rgba(233,30,99,0);  padding: 1px 5px; border: solid 3px ; border-color:  rgba(233,30,99,0); #EFEFEF\">of</span> <span style=\"background-color: rgba(233,30,99,0);  padding: 1px 5px; border: solid 3px ; border-color:  rgba(233,30,99,0); #EFEFEF\">the</span> <span style=\"background-color: rgba(221, 9, 34,  0.5942727327346802); padding: 1px 5px; border: solid 3px ; border-color: rgba(221, 9, 34,  1); #EFEFEF\">worst</span> <span style=\"background-color: rgba(233,30,99,0);  padding: 1px 5px; border: solid 3px ; border-color:  rgba(233,30,99,0); #EFEFEF\">films</span> <span style=\"background-color: rgba(233,30,99,0);  padding: 1px 5px; border: solid 3px ; border-color:  rgba(233,30,99,0); #EFEFEF\">I</span> <span style=\"background-color: rgba(233,30,99,0);  padding: 1px 5px; border: solid 3px ; border-color:  rgba(233,30,99,0); #EFEFEF\">'ve</span> <span style=\"background-color: rgba(233,30,99,0);  padding: 1px 5px; border: solid 3px ; border-color:  rgba(233,30,99,0); #EFEFEF\">ever</span> <span style=\"background-color: rgba(233,30,99,0);  padding: 1px 5px; border: solid 3px ; border-color:  rgba(233,30,99,0); #EFEFEF\">paid</span> <span style=\"background-color: rgba(233,30,99,0);  padding: 1px 5px; border: solid 3px ; border-color:  rgba(233,30,99,0); #EFEFEF\">good</span> <span style=\"background-color: rgba(233,30,99,0);  padding: 1px 5px; border: solid 3px ; border-color:  rgba(233,30,99,0); #EFEFEF\">money</span> <span style=\"background-color: rgba(233,30,99,0);  padding: 1px 5px; border: solid 3px ; border-color:  rgba(233,30,99,0); #EFEFEF\">to</span> <span style=\"background-color: rgba(233,30,99,0);  padding: 1px 5px; border: solid 3px ; border-color:  rgba(233,30,99,0); #EFEFEF\">see</span> <span style=\"background-color: rgba(233,30,99,0);  padding: 1px 5px; border: solid 3px ; border-color:  rgba(233,30,99,0); #EFEFEF\">.</span> </div>"
      ],
      "text/plain": [
       "<IPython.core.display.HTML object>"
      ]
     },
     "metadata": {},
     "output_type": "display_data"
    },
    {
     "data": {
      "text/html": [
       "<div style='display: flex; width: 400px; flex-wrap: wrap'><span style=\"background-color: rgba(233,30,99,0);  padding: 1px 5px; border: solid 3px ; border-color:  rgba(233,30,99,0); #EFEFEF\">Words</span> <span style=\"background-color: rgba(233,30,99,0);  padding: 1px 5px; border: solid 3px ; border-color:  rgba(233,30,99,0); #EFEFEF\">can</span> <span style=\"background-color: rgba(233,30,99,0);  padding: 1px 5px; border: solid 3px ; border-color:  rgba(233,30,99,0); #EFEFEF\">not</span> <span style=\"background-color: rgba(233,30,99,0);  padding: 1px 5px; border: solid 3px ; border-color:  rgba(233,30,99,0); #EFEFEF\">begin</span> <span style=\"background-color: rgba(233,30,99,0);  padding: 1px 5px; border: solid 3px ; border-color:  rgba(233,30,99,0); #EFEFEF\">to</span> <span style=\"background-color: rgba(233,30,99,0);  padding: 1px 5px; border: solid 3px ; border-color:  rgba(233,30,99,0); #EFEFEF\">describe</span> <span style=\"background-color: rgba(233,30,99,0);  padding: 1px 5px; border: solid 3px ; border-color:  rgba(233,30,99,0); #EFEFEF\">how</span> <span style=\"background-color: rgba(221, 9, 34,  0.9973323345184326); padding: 1px 5px; border: solid 3px ; border-color: rgba(221, 9, 34,  1); #EFEFEF\">blandly</span> <span style=\"background-color: rgba(233,30,99,0);  padding: 1px 5px; border: solid 3px ; border-color:  rgba(233,30,99,0); #EFEFEF\">terrible</span> <span style=\"background-color: rgba(233,30,99,0);  padding: 1px 5px; border: solid 3px ; border-color:  rgba(233,30,99,0); #EFEFEF\">this</span> <span style=\"background-color: rgba(233,30,99,0);  padding: 1px 5px; border: solid 3px ; border-color:  rgba(233,30,99,0); #EFEFEF\">movie</span> <span style=\"background-color: rgba(233,30,99,0);  padding: 1px 5px; border: solid 3px ; border-color:  rgba(233,30,99,0); #EFEFEF\">is</span> <span style=\"background-color: rgba(233,30,99,0);  padding: 1px 5px; border: solid 3px ; border-color:  rgba(233,30,99,0); #EFEFEF\">.</span> </div>"
      ],
      "text/plain": [
       "<IPython.core.display.HTML object>"
      ]
     },
     "metadata": {},
     "output_type": "display_data"
    },
    {
     "data": {
      "text/html": [
       "<div style='display: flex; width: 400px; flex-wrap: wrap'><span style=\"background-color: rgba(233,30,99,0);  padding: 1px 5px; border: solid 3px ; border-color:  rgba(233,30,99,0); #EFEFEF\">It</span> <span style=\"background-color: rgba(233,30,99,0);  padding: 1px 5px; border: solid 3px ; border-color:  rgba(233,30,99,0); #EFEFEF\">'s</span> <span style=\"background-color: rgba(221, 9, 140, 0.9983997344970703); padding: 1px 5px; border: solid 3px ; border-color: rgba(221, 9, 140, 1); #EFEFEF\">pointless</span> <span style=\"background-color: rgba(233,30,99,0);  padding: 1px 5px; border: solid 3px ; border-color:  rgba(233,30,99,0); #EFEFEF\">.</span> </div>"
      ],
      "text/plain": [
       "<IPython.core.display.HTML object>"
      ]
     },
     "metadata": {},
     "output_type": "display_data"
    },
    {
     "data": {
      "text/html": [
       "<div style='display: flex; width: 400px; flex-wrap: wrap'><span style=\"background-color: rgba(221, 9, 34,  0.8327304124832153); padding: 1px 5px; border: solid 3px ; border-color: rgba(221, 9, 34,  1); #EFEFEF\">Plot</span> <span style=\"background-color: rgba(233,30,99,0);  padding: 1px 5px; border: solid 3px ; border-color:  rgba(233,30,99,0); #EFEFEF\">is</span> <span style=\"background-color: rgba(221, 9, 34,  0.9912952780723572); padding: 1px 5px; border: solid 3px ; border-color: rgba(221, 9, 34,  1); #EFEFEF\">unimportant</span> <span style=\"background-color: rgba(233,30,99,0);  padding: 1px 5px; border: solid 3px ; border-color:  rgba(233,30,99,0); #EFEFEF\">.</span> </div>"
      ],
      "text/plain": [
       "<IPython.core.display.HTML object>"
      ]
     },
     "metadata": {},
     "output_type": "display_data"
    },
    {
     "data": {
      "text/html": [
       "<div style='display: flex; width: 400px; flex-wrap: wrap'><span style=\"background-color: rgba(233,30,99,0);  padding: 1px 5px; border: solid 3px ; border-color:  rgba(233,30,99,0); #EFEFEF\">About</span> <span style=\"background-color: rgba(233,30,99,0);  padding: 1px 5px; border: solid 3px ; border-color:  rgba(233,30,99,0); #EFEFEF\">the</span> <span style=\"background-color: rgba(221, 9, 140, 0.9742444157600403); padding: 1px 5px; border: solid 3px ; border-color: rgba(221, 9, 140, 1); #EFEFEF\">only</span> <span style=\"background-color: rgba(221, 9, 140, 0.7234146595001221); padding: 1px 5px; border: solid 3px ; border-color: rgba(221, 9, 140, 1); #EFEFEF\">good</span> <span style=\"background-color: rgba(233,30,99,0);  padding: 1px 5px; border: solid 3px ; border-color:  rgba(233,30,99,0); #EFEFEF\">thing</span> <span style=\"background-color: rgba(221, 9, 140, 0.31621938943862915); padding: 1px 5px; border: solid 3px ; border-color: rgba(221, 9, 140, 1); #EFEFEF\">about</span> <span style=\"background-color: rgba(221, 9, 140, 0.20108497142791748); padding: 1px 5px; border: solid 3px ; border-color: rgba(221, 9, 140, 1); #EFEFEF\">this</span> <span style=\"background-color: rgba(233,30,99,0);  padding: 1px 5px; border: solid 3px ; border-color:  rgba(233,30,99,0); #EFEFEF\">is</span> <span style=\"background-color: rgba(233,30,99,0);  padding: 1px 5px; border: solid 3px ; border-color:  rgba(233,30,99,0); #EFEFEF\">the</span> <span style=\"background-color: rgba(233,30,99,0);  padding: 1px 5px; border: solid 3px ; border-color:  rgba(233,30,99,0); #EFEFEF\">setting</span> <span style=\"background-color: rgba(233,30,99,0);  padding: 1px 5px; border: solid 3px ; border-color:  rgba(233,30,99,0); #EFEFEF\">.</span> </div>"
      ],
      "text/plain": [
       "<IPython.core.display.HTML object>"
      ]
     },
     "metadata": {},
     "output_type": "display_data"
    },
    {
     "data": {
      "text/html": [
       "<div style='display: flex; width: 400px; flex-wrap: wrap'><span style=\"background-color: rgba(233,30,99,0);  padding: 1px 5px; border: solid 3px ; border-color:  rgba(233,30,99,0); #EFEFEF\">It</span> <span style=\"background-color: rgba(233,30,99,0);  padding: 1px 5px; border: solid 3px ; border-color:  rgba(233,30,99,0); #EFEFEF\">'s</span> <span style=\"background-color: rgba(233,30,99,0);  padding: 1px 5px; border: solid 3px ; border-color:  rgba(233,30,99,0); #EFEFEF\">too</span> <span style=\"background-color: rgba(221, 9, 140, 0.8737136721611023); padding: 1px 5px; border: solid 3px ; border-color: rgba(221, 9, 140, 1); #EFEFEF\">bad</span> <span style=\"background-color: rgba(233,30,99,0);  padding: 1px 5px; border: solid 3px ; border-color:  rgba(233,30,99,0); #EFEFEF\">because</span> <span style=\"background-color: rgba(233,30,99,0);  padding: 1px 5px; border: solid 3px ; border-color:  rgba(233,30,99,0); #EFEFEF\">this</span> <span style=\"background-color: rgba(233,30,99,0);  padding: 1px 5px; border: solid 3px ; border-color:  rgba(233,30,99,0); #EFEFEF\">film</span> <span style=\"background-color: rgba(221, 9, 140, 0.4713171124458313); padding: 1px 5px; border: solid 3px ; border-color: rgba(221, 9, 140, 1); #EFEFEF\">had</span> <span style=\"background-color: rgba(233,30,99,0);  padding: 1px 5px; border: solid 3px ; border-color:  rgba(233,30,99,0); #EFEFEF\">great</span> <span style=\"background-color: rgba(221, 9, 140, 0.3770253658294678); padding: 1px 5px; border: solid 3px ; border-color: rgba(221, 9, 140, 1); #EFEFEF\">production</span> <span style=\"background-color: rgba(221, 9, 140, 0.3316418528556824); padding: 1px 5px; border: solid 3px ; border-color: rgba(221, 9, 140, 1); #EFEFEF\">values</span> <span style=\"background-color: rgba(233,30,99,0);  padding: 1px 5px; border: solid 3px ; border-color:  rgba(233,30,99,0); #EFEFEF\">and</span> <span style=\"background-color: rgba(233,30,99,0);  padding: 1px 5px; border: solid 3px ; border-color:  rgba(233,30,99,0); #EFEFEF\">a</span> <span style=\"background-color: rgba(233,30,99,0);  padding: 1px 5px; border: solid 3px ; border-color:  rgba(233,30,99,0); #EFEFEF\">good</span> <span style=\"background-color: rgba(221, 9, 140, 0.2737816572189331); padding: 1px 5px; border: solid 3px ; border-color: rgba(221, 9, 140, 1); #EFEFEF\">cast</span> <span style=\"background-color: rgba(233,30,99,0);  padding: 1px 5px; border: solid 3px ; border-color:  rgba(233,30,99,0); #EFEFEF\">,</span> <span style=\"background-color: rgba(221, 9, 140, 0.7877070307731628); padding: 1px 5px; border: solid 3px ; border-color: rgba(221, 9, 140, 1); #EFEFEF\">but</span> <span style=\"background-color: rgba(233,30,99,0);  padding: 1px 5px; border: solid 3px ; border-color:  rgba(233,30,99,0); #EFEFEF\">is</span> <span style=\"background-color: rgba(233,30,99,0);  padding: 1px 5px; border: solid 3px ; border-color:  rgba(233,30,99,0); #EFEFEF\">n't</span> <span style=\"background-color: rgba(233,30,99,0);  padding: 1px 5px; border: solid 3px ; border-color:  rgba(233,30,99,0); #EFEFEF\">the</span> <span style=\"background-color: rgba(233,30,99,0);  padding: 1px 5px; border: solid 3px ; border-color:  rgba(233,30,99,0); #EFEFEF\">idea</span> <span style=\"background-color: rgba(233,30,99,0);  padding: 1px 5px; border: solid 3px ; border-color:  rgba(233,30,99,0); #EFEFEF\">of</span> <span style=\"background-color: rgba(221, 9, 140, 0.31266286969184875); padding: 1px 5px; border: solid 3px ; border-color: rgba(221, 9, 140, 1); #EFEFEF\">turning</span> <span style=\"background-color: rgba(233,30,99,0);  padding: 1px 5px; border: solid 3px ; border-color:  rgba(233,30,99,0); #EFEFEF\">a</span> <span style=\"background-color: rgba(233,30,99,0);  padding: 1px 5px; border: solid 3px ; border-color:  rgba(233,30,99,0); #EFEFEF\">book</span> <span style=\"background-color: rgba(221, 9, 140, 0.23102489113807678); padding: 1px 5px; border: solid 3px ; border-color: rgba(221, 9, 140, 1); #EFEFEF\">into</span> <span style=\"background-color: rgba(233,30,99,0);  padding: 1px 5px; border: solid 3px ; border-color:  rgba(233,30,99,0); #EFEFEF\">a</span> <span style=\"background-color: rgba(233,30,99,0);  padding: 1px 5px; border: solid 3px ; border-color:  rgba(233,30,99,0); #EFEFEF\">movie</span> <span style=\"background-color: rgba(233,30,99,0);  padding: 1px 5px; border: solid 3px ; border-color:  rgba(233,30,99,0); #EFEFEF\">(</span> <span style=\"background-color: rgba(233,30,99,0);  padding: 1px 5px; border: solid 3px ; border-color:  rgba(233,30,99,0); #EFEFEF\">TV</span> <span style=\"background-color: rgba(233,30,99,0);  padding: 1px 5px; border: solid 3px ; border-color:  rgba(233,30,99,0); #EFEFEF\">or</span> <span style=\"background-color: rgba(233,30,99,0);  padding: 1px 5px; border: solid 3px ; border-color:  rgba(233,30,99,0); #EFEFEF\">film</span> <span style=\"background-color: rgba(233,30,99,0);  padding: 1px 5px; border: solid 3px ; border-color:  rgba(233,30,99,0); #EFEFEF\">)</span> <span style=\"background-color: rgba(233,30,99,0);  padding: 1px 5px; border: solid 3px ; border-color:  rgba(233,30,99,0); #EFEFEF\">to</span> <span style=\"background-color: rgba(233,30,99,0);  padding: 1px 5px; border: solid 3px ; border-color:  rgba(233,30,99,0); #EFEFEF\">get</span> <span style=\"background-color: rgba(233,30,99,0);  padding: 1px 5px; border: solid 3px ; border-color:  rgba(233,30,99,0); #EFEFEF\">the</span> <span style=\"background-color: rgba(233,30,99,0);  padding: 1px 5px; border: solid 3px ; border-color:  rgba(233,30,99,0); #EFEFEF\">people</span> <span style=\"background-color: rgba(233,30,99,0);  padding: 1px 5px; border: solid 3px ; border-color:  rgba(233,30,99,0); #EFEFEF\">who</span> <span style=\"background-color: rgba(233,30,99,0);  padding: 1px 5px; border: solid 3px ; border-color:  rgba(233,30,99,0); #EFEFEF\">read</span> <span style=\"background-color: rgba(233,30,99,0);  padding: 1px 5px; border: solid 3px ; border-color:  rgba(233,30,99,0); #EFEFEF\">the</span> <span style=\"background-color: rgba(233,30,99,0);  padding: 1px 5px; border: solid 3px ; border-color:  rgba(233,30,99,0); #EFEFEF\">book</span> <span style=\"background-color: rgba(233,30,99,0);  padding: 1px 5px; border: solid 3px ; border-color:  rgba(233,30,99,0); #EFEFEF\">to</span> <span style=\"background-color: rgba(233,30,99,0);  padding: 1px 5px; border: solid 3px ; border-color:  rgba(233,30,99,0); #EFEFEF\">be</span> <span style=\"background-color: rgba(233,30,99,0);  padding: 1px 5px; border: solid 3px ; border-color:  rgba(233,30,99,0); #EFEFEF\">part</span> <span style=\"background-color: rgba(233,30,99,0);  padding: 1px 5px; border: solid 3px ; border-color:  rgba(233,30,99,0); #EFEFEF\">of</span> <span style=\"background-color: rgba(233,30,99,0);  padding: 1px 5px; border: solid 3px ; border-color:  rgba(233,30,99,0); #EFEFEF\">the</span> <span style=\"background-color: rgba(233,30,99,0);  padding: 1px 5px; border: solid 3px ; border-color:  rgba(233,30,99,0); #EFEFEF\">audience</span> <span style=\"background-color: rgba(233,30,99,0);  padding: 1px 5px; border: solid 3px ; border-color:  rgba(233,30,99,0); #EFEFEF\">.</span> </div>"
      ],
      "text/plain": [
       "<IPython.core.display.HTML object>"
      ]
     },
     "metadata": {},
     "output_type": "display_data"
    }
   ],
   "source": [
    "plot_reviews_exp(segments_pos, u_segments_pos, factorization_pos, global_importance_pos,\n",
    "                 segments_neg, u_segments_neg, factorization_neg, global_importance_neg,\n",
    "                 custom_samples=True, samples_to_test=[reviews_neg_text, reviews_pos_text], extract_fct='word')"
   ]
  },
  {
   "cell_type": "code",
   "execution_count": 26,
   "id": "7e7a9374-8441-49a0-b302-a7556c3fc9d8",
   "metadata": {
    "tags": []
   },
   "outputs": [
    {
     "data": {
      "text/html": [
       "<div style='display: flex; width: 400px; flex-wrap: wrap'><span style=\"background-color: rgba(9, 221, 55,  0.5); padding: 1px 5px; border: solid 3px ; border-color: rgba(9, 221, 55,  1); #EFEFEF\">Positive label: concept1 </span> <span style=\"background-color: rgba(9, 221, 161,  0.5); padding: 1px 5px; border: solid 3px ; border-color: rgba(9, 221, 161,  1); #EFEFEF\">Positive label: concept2 </span> <span style=\"background-color: rgba(9, 175, 221,  0.5); padding: 1px 5px; border: solid 3px ; border-color: rgba(9, 175, 221,  1); #EFEFEF\">Positive label: concept3 </span> <span style=\"background-color: rgba(221, 9, 34,  0.5); padding: 1px 5px; border: solid 3px ; border-color: rgba(221, 9, 34,  1); #EFEFEF\">Negative label: concept1 </span> <span style=\"background-color: rgba(221, 9, 140, 0.5); padding: 1px 5px; border: solid 3px ; border-color: rgba(221, 9, 140, 1); #EFEFEF\">Negative label: concept2 </span> <span style=\"background-color: rgba(221, 90, 9,  0.5); padding: 1px 5px; border: solid 3px ; border-color: rgba(221, 90, 9,  1); #EFEFEF\">Negative label: concept3 </span> </div>"
      ],
      "text/plain": [
       "<IPython.core.display.HTML object>"
      ]
     },
     "metadata": {},
     "output_type": "display_data"
    },
    {
     "data": {
      "text/html": [
       "<br><br>"
      ],
      "text/plain": [
       "<IPython.core.display.HTML object>"
      ]
     },
     "metadata": {},
     "output_type": "display_data"
    },
    {
     "data": {
      "text/html": [
       "<div style='display: flex; width: 400px; flex-wrap: wrap'><span style=\"background-color: rgba(233,30,99,0);  padding: 1px 5px; border: solid 3px ; border-color:  rgba(233,30,99,0); #EFEFEF\">One</span> <span style=\"background-color: rgba(233,30,99,0);  padding: 1px 5px; border: solid 3px ; border-color:  rgba(233,30,99,0); #EFEFEF\">of</span> <span style=\"background-color: rgba(233,30,99,0);  padding: 1px 5px; border: solid 3px ; border-color:  rgba(233,30,99,0); #EFEFEF\">the best movies</span> <span style=\"background-color: rgba(9, 221, 161,  0.2312435507774353); padding: 1px 5px; border: solid 3px ; border-color: rgba(9, 221, 161,  1); #EFEFEF\">ever</span> <span style=\"background-color: rgba(233,30,99,0);  padding: 1px 5px; border: solid 3px ; border-color:  rgba(233,30,99,0); #EFEFEF\">hands</span> <span style=\"background-color: rgba(233,30,99,0);  padding: 1px 5px; border: solid 3px ; border-color:  rgba(233,30,99,0); #EFEFEF\">down</span> </div>"
      ],
      "text/plain": [
       "<IPython.core.display.HTML object>"
      ]
     },
     "metadata": {},
     "output_type": "display_data"
    },
    {
     "data": {
      "text/html": [
       "<div style='display: flex; width: 400px; flex-wrap: wrap'><span style=\"background-color: rgba(9, 221, 161,  0.8420189023017883); padding: 1px 5px; border: solid 3px ; border-color: rgba(9, 221, 161,  1); #EFEFEF\">It</span> <span style=\"background-color: rgba(9, 221, 161,  0.637877881526947); padding: 1px 5px; border: solid 3px ; border-color: rgba(9, 221, 161,  1); #EFEFEF\">is</span> <span style=\"background-color: rgba(9, 221, 161,  0.4403311014175415); padding: 1px 5px; border: solid 3px ; border-color: rgba(9, 221, 161,  1); #EFEFEF\">simply</span> <span style=\"background-color: rgba(9, 221, 161,  0.5569343566894531); padding: 1px 5px; border: solid 3px ; border-color: rgba(9, 221, 161,  1); #EFEFEF\">one</span> <span style=\"background-color: rgba(9, 221, 161,  0.5946834087371826); padding: 1px 5px; border: solid 3px ; border-color: rgba(9, 221, 161,  1); #EFEFEF\">of</span> <span style=\"background-color: rgba(9, 221, 161,  0.9994290471076965); padding: 1px 5px; border: solid 3px ; border-color: rgba(9, 221, 161,  1); #EFEFEF\">my all-time favorite films</span> </div>"
      ],
      "text/plain": [
       "<IPython.core.display.HTML object>"
      ]
     },
     "metadata": {},
     "output_type": "display_data"
    },
    {
     "data": {
      "text/html": [
       "<div style='display: flex; width: 400px; flex-wrap: wrap'><span style=\"background-color: rgba(9, 221, 161,  0.41140490770339966); padding: 1px 5px; border: solid 3px ; border-color: rgba(9, 221, 161,  1); #EFEFEF\">Very inspiring and encouraging</span> <span style=\"background-color: rgba(9, 221, 161,  0.9994574189186096); padding: 1px 5px; border: solid 3px ; border-color: rgba(9, 221, 161,  1); #EFEFEF\">to</span> <span style=\"background-color: rgba(233,30,99,0);  padding: 1px 5px; border: solid 3px ; border-color:  rgba(233,30,99,0); #EFEFEF\">all ages</span> </div>"
      ],
      "text/plain": [
       "<IPython.core.display.HTML object>"
      ]
     },
     "metadata": {},
     "output_type": "display_data"
    },
    {
     "data": {
      "text/html": [
       "<div style='display: flex; width: 400px; flex-wrap: wrap'><span style=\"background-color: rgba(233,30,99,0);  padding: 1px 5px; border: solid 3px ; border-color:  rgba(233,30,99,0); #EFEFEF\">The ballroom scenes</span> <span style=\"background-color: rgba(233,30,99,0);  padding: 1px 5px; border: solid 3px ; border-color:  rgba(233,30,99,0); #EFEFEF\">were</span> <span style=\"background-color: rgba(233,30,99,0);  padding: 1px 5px; border: solid 3px ; border-color:  rgba(233,30,99,0); #EFEFEF\">very nice</span> <span style=\"background-color: rgba(233,30,99,0);  padding: 1px 5px; border: solid 3px ; border-color:  rgba(233,30,99,0); #EFEFEF\">the dancing</span> <span style=\"background-color: rgba(9, 221, 161,  0.2330068051815033); padding: 1px 5px; border: solid 3px ; border-color: rgba(9, 221, 161,  1); #EFEFEF\">the outfits</span> <span style=\"background-color: rgba(233,30,99,0);  padding: 1px 5px; border: solid 3px ; border-color:  rgba(233,30,99,0); #EFEFEF\">looked</span> <span style=\"background-color: rgba(9, 221, 161,  0.4863564372062683); padding: 1px 5px; border: solid 3px ; border-color: rgba(9, 221, 161,  1); #EFEFEF\">beautiful</span> </div>"
      ],
      "text/plain": [
       "<IPython.core.display.HTML object>"
      ]
     },
     "metadata": {},
     "output_type": "display_data"
    },
    {
     "data": {
      "text/html": [
       "<div style='display: flex; width: 400px; flex-wrap: wrap'><span style=\"background-color: rgba(233,30,99,0);  padding: 1px 5px; border: solid 3px ; border-color:  rgba(233,30,99,0); #EFEFEF\">Billy Bitzer</span> <span style=\"background-color: rgba(9, 175, 221,  0.3970411717891693); padding: 1px 5px; border: solid 3px ; border-color: rgba(9, 175, 221,  1); #EFEFEF\">'s camera work</span> <span style=\"background-color: rgba(233,30,99,0);  padding: 1px 5px; border: solid 3px ; border-color:  rgba(233,30,99,0); #EFEFEF\">is</span> <span style=\"background-color: rgba(9, 175, 221,  0.9997673034667969); padding: 1px 5px; border: solid 3px ; border-color: rgba(9, 175, 221,  1); #EFEFEF\">quite good</span> </div>"
      ],
      "text/plain": [
       "<IPython.core.display.HTML object>"
      ]
     },
     "metadata": {},
     "output_type": "display_data"
    },
    {
     "data": {
      "text/html": [
       "<div style='display: flex; width: 400px; flex-wrap: wrap'><span style=\"background-color: rgba(9, 221, 161,  0.9603684544563293); padding: 1px 5px; border: solid 3px ; border-color: rgba(9, 221, 161,  1); #EFEFEF\">The humor and sadness</span> <span style=\"background-color: rgba(233,30,99,0);  padding: 1px 5px; border: solid 3px ; border-color:  rgba(233,30,99,0); #EFEFEF\">are subtly blended</span> </div>"
      ],
      "text/plain": [
       "<IPython.core.display.HTML object>"
      ]
     },
     "metadata": {},
     "output_type": "display_data"
    },
    {
     "data": {
      "text/html": [
       "<div style='display: flex; width: 400px; flex-wrap: wrap'><span style=\"background-color: rgba(233,30,99,0);  padding: 1px 5px; border: solid 3px ; border-color:  rgba(233,30,99,0); #EFEFEF\">Idrissa Oudraogo</span> <span style=\"background-color: rgba(233,30,99,0);  padding: 1px 5px; border: solid 3px ; border-color:  rgba(233,30,99,0); #EFEFEF\">Burkina Faso</span> <span style=\"background-color: rgba(233,30,99,0);  padding: 1px 5px; border: solid 3px ; border-color:  rgba(233,30,99,0); #EFEFEF\">from</span> <span style=\"background-color: rgba(233,30,99,0);  padding: 1px 5px; border: solid 3px ; border-color:  rgba(233,30,99,0); #EFEFEF\">one</span> <span style=\"background-color: rgba(233,30,99,0);  padding: 1px 5px; border: solid 3px ; border-color:  rgba(233,30,99,0); #EFEFEF\">of</span> <span style=\"background-color: rgba(233,30,99,0);  padding: 1px 5px; border: solid 3px ; border-color:  rgba(233,30,99,0); #EFEFEF\">the poorest country</span> <span style=\"background-color: rgba(233,30,99,0);  padding: 1px 5px; border: solid 3px ; border-color:  rgba(233,30,99,0); #EFEFEF\">in</span> <span style=\"background-color: rgba(233,30,99,0);  padding: 1px 5px; border: solid 3px ; border-color:  rgba(233,30,99,0); #EFEFEF\">the world</span> <span style=\"background-color: rgba(9, 221, 161,  0.9997870922088623); padding: 1px 5px; border: solid 3px ; border-color: rgba(9, 221, 161,  1); #EFEFEF\">a tender and funny story</span> <span style=\"background-color: rgba(233,30,99,0);  padding: 1px 5px; border: solid 3px ; border-color:  rgba(233,30,99,0); #EFEFEF\">about</span> <span style=\"background-color: rgba(233,30,99,0);  padding: 1px 5px; border: solid 3px ; border-color:  rgba(233,30,99,0); #EFEFEF\">five boys</span> <span style=\"background-color: rgba(233,30,99,0);  padding: 1px 5px; border: solid 3px ; border-color:  rgba(233,30,99,0); #EFEFEF\">who</span> <span style=\"background-color: rgba(233,30,99,0);  padding: 1px 5px; border: solid 3px ; border-color:  rgba(233,30,99,0); #EFEFEF\">want to capture</span> <span style=\"background-color: rgba(233,30,99,0);  padding: 1px 5px; border: solid 3px ; border-color:  rgba(233,30,99,0); #EFEFEF\">Osama Bin Laden</span> </div>"
      ],
      "text/plain": [
       "<IPython.core.display.HTML object>"
      ]
     },
     "metadata": {},
     "output_type": "display_data"
    },
    {
     "data": {
      "text/html": [
       "<div style='display: flex; width: 400px; flex-wrap: wrap'><span style=\"background-color: rgba(9, 221, 161,  0.9996169805526733); padding: 1px 5px; border: solid 3px ; border-color: rgba(9, 221, 161,  1); #EFEFEF\">Especially fun</span> <span style=\"background-color: rgba(233,30,99,0);  padding: 1px 5px; border: solid 3px ; border-color:  rgba(233,30,99,0); #EFEFEF\">is</span> <span style=\"background-color: rgba(9, 221, 161,  0.7553045153617859); padding: 1px 5px; border: solid 3px ; border-color: rgba(9, 221, 161,  1); #EFEFEF\">the performance</span> <span style=\"background-color: rgba(233,30,99,0);  padding: 1px 5px; border: solid 3px ; border-color:  rgba(233,30,99,0); #EFEFEF\">by</span> <span style=\"background-color: rgba(9, 221, 161,  0.3152150809764862); padding: 1px 5px; border: solid 3px ; border-color: rgba(9, 221, 161,  1); #EFEFEF\">Cronenberg</span> <span style=\"background-color: rgba(9, 175, 221,  0.22709934413433075); padding: 1px 5px; border: solid 3px ; border-color: rgba(9, 175, 221,  1); #EFEFEF\">as</span> <span style=\"background-color: rgba(233,30,99,0);  padding: 1px 5px; border: solid 3px ; border-color:  rgba(233,30,99,0); #EFEFEF\">the truly evil human doctor</span> <span style=\"background-color: rgba(233,30,99,0);  padding: 1px 5px; border: solid 3px ; border-color:  rgba(233,30,99,0); #EFEFEF\">who</span> <span style=\"background-color: rgba(233,30,99,0);  padding: 1px 5px; border: solid 3px ; border-color:  rgba(233,30,99,0); #EFEFEF\">is bent</span> <span style=\"background-color: rgba(233,30,99,0);  padding: 1px 5px; border: solid 3px ; border-color:  rgba(233,30,99,0); #EFEFEF\">on</span> <span style=\"background-color: rgba(233,30,99,0);  padding: 1px 5px; border: solid 3px ; border-color:  rgba(233,30,99,0); #EFEFEF\">destroying</span> <span style=\"background-color: rgba(233,30,99,0);  padding: 1px 5px; border: solid 3px ; border-color:  rgba(233,30,99,0); #EFEFEF\">the Nightbreed</span> </div>"
      ],
      "text/plain": [
       "<IPython.core.display.HTML object>"
      ]
     },
     "metadata": {},
     "output_type": "display_data"
    },
    {
     "data": {
      "text/html": [
       "<div style='display: flex; width: 400px; flex-wrap: wrap'><span style=\"background-color: rgba(233,30,99,0);  padding: 1px 5px; border: solid 3px ; border-color:  rgba(233,30,99,0); #EFEFEF\">I</span> <span style=\"background-color: rgba(233,30,99,0);  padding: 1px 5px; border: solid 3px ; border-color:  rgba(233,30,99,0); #EFEFEF\">couldn't even follow</span> <span style=\"background-color: rgba(233,30,99,0);  padding: 1px 5px; border: solid 3px ; border-color:  rgba(233,30,99,0); #EFEFEF\">the plot</span> <span style=\"background-color: rgba(233,30,99,0);  padding: 1px 5px; border: solid 3px ; border-color:  rgba(233,30,99,0); #EFEFEF\">suffice</span> <span style=\"background-color: rgba(233,30,99,0);  padding: 1px 5px; border: solid 3px ; border-color:  rgba(233,30,99,0); #EFEFEF\">it</span> <span style=\"background-color: rgba(233,30,99,0);  padding: 1px 5px; border: solid 3px ; border-color:  rgba(233,30,99,0); #EFEFEF\">to say</span> <span style=\"background-color: rgba(233,30,99,0);  padding: 1px 5px; border: solid 3px ; border-color:  rgba(233,30,99,0); #EFEFEF\">this</span> <span style=\"background-color: rgba(233,30,99,0);  padding: 1px 5px; border: solid 3px ; border-color:  rgba(233,30,99,0); #EFEFEF\">is</span> <span style=\"background-color: rgba(221, 9, 34,  0.9995441436767578); padding: 1px 5px; border: solid 3px ; border-color: rgba(221, 9, 34,  1); #EFEFEF\">the absolute worst movie</span> <span style=\"background-color: rgba(233,30,99,0);  padding: 1px 5px; border: solid 3px ; border-color:  rgba(233,30,99,0); #EFEFEF\">I</span> <span style=\"background-color: rgba(233,30,99,0);  padding: 1px 5px; border: solid 3px ; border-color:  rgba(233,30,99,0); #EFEFEF\">have ever seen</span> <span style=\"background-color: rgba(233,30,99,0);  padding: 1px 5px; border: solid 3px ; border-color:  rgba(233,30,99,0); #EFEFEF\">in</span> <span style=\"background-color: rgba(233,30,99,0);  padding: 1px 5px; border: solid 3px ; border-color:  rgba(233,30,99,0); #EFEFEF\">my life</span> </div>"
      ],
      "text/plain": [
       "<IPython.core.display.HTML object>"
      ]
     },
     "metadata": {},
     "output_type": "display_data"
    },
    {
     "data": {
      "text/html": [
       "<div style='display: flex; width: 400px; flex-wrap: wrap'><span style=\"background-color: rgba(233,30,99,0);  padding: 1px 5px; border: solid 3px ; border-color:  rgba(233,30,99,0); #EFEFEF\">This</span> <span style=\"background-color: rgba(233,30,99,0);  padding: 1px 5px; border: solid 3px ; border-color:  rgba(233,30,99,0); #EFEFEF\">is</span> <span style=\"background-color: rgba(233,30,99,0);  padding: 1px 5px; border: solid 3px ; border-color:  rgba(233,30,99,0); #EFEFEF\">by</span> <span style=\"background-color: rgba(233,30,99,0);  padding: 1px 5px; border: solid 3px ; border-color:  rgba(233,30,99,0); #EFEFEF\">far</span> <span style=\"background-color: rgba(233,30,99,0);  padding: 1px 5px; border: solid 3px ; border-color:  rgba(233,30,99,0); #EFEFEF\">one</span> <span style=\"background-color: rgba(233,30,99,0);  padding: 1px 5px; border: solid 3px ; border-color:  rgba(233,30,99,0); #EFEFEF\">of</span> <span style=\"background-color: rgba(221, 9, 34,  0.6397048830986023); padding: 1px 5px; border: solid 3px ; border-color: rgba(221, 9, 34,  1); #EFEFEF\">the worst films</span> <span style=\"background-color: rgba(233,30,99,0);  padding: 1px 5px; border: solid 3px ; border-color:  rgba(233,30,99,0); #EFEFEF\">I</span> <span style=\"background-color: rgba(233,30,99,0);  padding: 1px 5px; border: solid 3px ; border-color:  rgba(233,30,99,0); #EFEFEF\">'ve ever paid</span> <span style=\"background-color: rgba(233,30,99,0);  padding: 1px 5px; border: solid 3px ; border-color:  rgba(233,30,99,0); #EFEFEF\">good money</span> <span style=\"background-color: rgba(233,30,99,0);  padding: 1px 5px; border: solid 3px ; border-color:  rgba(233,30,99,0); #EFEFEF\">to see</span> </div>"
      ],
      "text/plain": [
       "<IPython.core.display.HTML object>"
      ]
     },
     "metadata": {},
     "output_type": "display_data"
    },
    {
     "data": {
      "text/html": [
       "<div style='display: flex; width: 400px; flex-wrap: wrap'><span style=\"background-color: rgba(233,30,99,0);  padding: 1px 5px; border: solid 3px ; border-color:  rgba(233,30,99,0); #EFEFEF\">Words</span> <span style=\"background-color: rgba(233,30,99,0);  padding: 1px 5px; border: solid 3px ; border-color:  rgba(233,30,99,0); #EFEFEF\">cannot begin to describe</span> <span style=\"background-color: rgba(221, 9, 34,  0.46608179807662964); padding: 1px 5px; border: solid 3px ; border-color: rgba(221, 9, 34,  1); #EFEFEF\">how blandly terrible</span> <span style=\"background-color: rgba(233,30,99,0);  padding: 1px 5px; border: solid 3px ; border-color:  rgba(233,30,99,0); #EFEFEF\">this movie</span> <span style=\"background-color: rgba(233,30,99,0);  padding: 1px 5px; border: solid 3px ; border-color:  rgba(233,30,99,0); #EFEFEF\">is</span> </div>"
      ],
      "text/plain": [
       "<IPython.core.display.HTML object>"
      ]
     },
     "metadata": {},
     "output_type": "display_data"
    },
    {
     "data": {
      "text/html": [
       "<div style='display: flex; width: 400px; flex-wrap: wrap'><span style=\"background-color: rgba(233,30,99,0);  padding: 1px 5px; border: solid 3px ; border-color:  rgba(233,30,99,0); #EFEFEF\">It</span> <span style=\"background-color: rgba(233,30,99,0);  padding: 1px 5px; border: solid 3px ; border-color:  rgba(233,30,99,0); #EFEFEF\">'s</span> <span style=\"background-color: rgba(233,30,99,0);  padding: 1px 5px; border: solid 3px ; border-color:  rgba(233,30,99,0); #EFEFEF\">pointless</span> </div>"
      ],
      "text/plain": [
       "<IPython.core.display.HTML object>"
      ]
     },
     "metadata": {},
     "output_type": "display_data"
    },
    {
     "data": {
      "text/html": [
       "<div style='display: flex; width: 400px; flex-wrap: wrap'><span style=\"background-color: rgba(233,30,99,0);  padding: 1px 5px; border: solid 3px ; border-color:  rgba(233,30,99,0); #EFEFEF\">Plot</span> <span style=\"background-color: rgba(233,30,99,0);  padding: 1px 5px; border: solid 3px ; border-color:  rgba(233,30,99,0); #EFEFEF\">is</span> <span style=\"background-color: rgba(221, 9, 34,  0.5812024474143982); padding: 1px 5px; border: solid 3px ; border-color: rgba(221, 9, 34,  1); #EFEFEF\">unimportant</span> </div>"
      ],
      "text/plain": [
       "<IPython.core.display.HTML object>"
      ]
     },
     "metadata": {},
     "output_type": "display_data"
    },
    {
     "data": {
      "text/html": [
       "<div style='display: flex; width: 400px; flex-wrap: wrap'><span style=\"background-color: rgba(221, 9, 140, 0.7571264505386353); padding: 1px 5px; border: solid 3px ; border-color: rgba(221, 9, 140, 1); #EFEFEF\">About the only good thing</span> <span style=\"background-color: rgba(221, 9, 140, 0.26179325580596924); padding: 1px 5px; border: solid 3px ; border-color: rgba(221, 9, 140, 1); #EFEFEF\">about</span> <span style=\"background-color: rgba(233,30,99,0);  padding: 1px 5px; border: solid 3px ; border-color:  rgba(233,30,99,0); #EFEFEF\">this</span> <span style=\"background-color: rgba(233,30,99,0);  padding: 1px 5px; border: solid 3px ; border-color:  rgba(233,30,99,0); #EFEFEF\">is</span> <span style=\"background-color: rgba(221, 9, 140, 0.39259806275367737); padding: 1px 5px; border: solid 3px ; border-color: rgba(221, 9, 140, 1); #EFEFEF\">the setting</span> </div>"
      ],
      "text/plain": [
       "<IPython.core.display.HTML object>"
      ]
     },
     "metadata": {},
     "output_type": "display_data"
    },
    {
     "data": {
      "text/html": [
       "<div style='display: flex; width: 400px; flex-wrap: wrap'><span style=\"background-color: rgba(233,30,99,0);  padding: 1px 5px; border: solid 3px ; border-color:  rgba(233,30,99,0); #EFEFEF\">It</span> <span style=\"background-color: rgba(233,30,99,0);  padding: 1px 5px; border: solid 3px ; border-color:  rgba(233,30,99,0); #EFEFEF\">'s</span> <span style=\"background-color: rgba(221, 9, 140, 0.433248907327652); padding: 1px 5px; border: solid 3px ; border-color: rgba(221, 9, 140, 1); #EFEFEF\">too bad</span> <span style=\"background-color: rgba(233,30,99,0);  padding: 1px 5px; border: solid 3px ; border-color:  rgba(233,30,99,0); #EFEFEF\">because</span> <span style=\"background-color: rgba(233,30,99,0);  padding: 1px 5px; border: solid 3px ; border-color:  rgba(233,30,99,0); #EFEFEF\">this film</span> <span style=\"background-color: rgba(233,30,99,0);  padding: 1px 5px; border: solid 3px ; border-color:  rgba(233,30,99,0); #EFEFEF\">had</span> <span style=\"background-color: rgba(233,30,99,0);  padding: 1px 5px; border: solid 3px ; border-color:  rgba(233,30,99,0); #EFEFEF\">great production values</span> <span style=\"background-color: rgba(233,30,99,0);  padding: 1px 5px; border: solid 3px ; border-color:  rgba(233,30,99,0); #EFEFEF\">a good cast</span> <span style=\"background-color: rgba(233,30,99,0);  padding: 1px 5px; border: solid 3px ; border-color:  rgba(233,30,99,0); #EFEFEF\">is</span> <span style=\"background-color: rgba(233,30,99,0);  padding: 1px 5px; border: solid 3px ; border-color:  rgba(233,30,99,0); #EFEFEF\">the idea</span> <span style=\"background-color: rgba(233,30,99,0);  padding: 1px 5px; border: solid 3px ; border-color:  rgba(233,30,99,0); #EFEFEF\">of</span> <span style=\"background-color: rgba(221, 9, 140, 0.20207037031650543); padding: 1px 5px; border: solid 3px ; border-color: rgba(221, 9, 140, 1); #EFEFEF\">turning</span> <span style=\"background-color: rgba(233,30,99,0);  padding: 1px 5px; border: solid 3px ; border-color:  rgba(233,30,99,0); #EFEFEF\">a book</span> <span style=\"background-color: rgba(233,30,99,0);  padding: 1px 5px; border: solid 3px ; border-color:  rgba(233,30,99,0); #EFEFEF\">into</span> <span style=\"background-color: rgba(233,30,99,0);  padding: 1px 5px; border: solid 3px ; border-color:  rgba(233,30,99,0); #EFEFEF\">a movie</span> <span style=\"background-color: rgba(233,30,99,0);  padding: 1px 5px; border: solid 3px ; border-color:  rgba(233,30,99,0); #EFEFEF\">TV or film</span> <span style=\"background-color: rgba(233,30,99,0);  padding: 1px 5px; border: solid 3px ; border-color:  rgba(233,30,99,0); #EFEFEF\">to get</span> <span style=\"background-color: rgba(233,30,99,0);  padding: 1px 5px; border: solid 3px ; border-color:  rgba(233,30,99,0); #EFEFEF\">the people</span> <span style=\"background-color: rgba(233,30,99,0);  padding: 1px 5px; border: solid 3px ; border-color:  rgba(233,30,99,0); #EFEFEF\">who</span> <span style=\"background-color: rgba(233,30,99,0);  padding: 1px 5px; border: solid 3px ; border-color:  rgba(233,30,99,0); #EFEFEF\">read</span> <span style=\"background-color: rgba(233,30,99,0);  padding: 1px 5px; border: solid 3px ; border-color:  rgba(233,30,99,0); #EFEFEF\">the book</span> <span style=\"background-color: rgba(233,30,99,0);  padding: 1px 5px; border: solid 3px ; border-color:  rgba(233,30,99,0); #EFEFEF\">to be</span> <span style=\"background-color: rgba(233,30,99,0);  padding: 1px 5px; border: solid 3px ; border-color:  rgba(233,30,99,0); #EFEFEF\">part</span> <span style=\"background-color: rgba(233,30,99,0);  padding: 1px 5px; border: solid 3px ; border-color:  rgba(233,30,99,0); #EFEFEF\">of</span> <span style=\"background-color: rgba(233,30,99,0);  padding: 1px 5px; border: solid 3px ; border-color:  rgba(233,30,99,0); #EFEFEF\">the audience</span> </div>"
      ],
      "text/plain": [
       "<IPython.core.display.HTML object>"
      ]
     },
     "metadata": {},
     "output_type": "display_data"
    }
   ],
   "source": [
    "plot_reviews_exp(segments_pos, u_segments_pos, factorization_pos, global_importance_pos,\n",
    "                 segments_neg, u_segments_neg, factorization_neg, global_importance_neg,\n",
    "                 custom_samples=True, samples_to_test=[reviews_neg_text, reviews_pos_text], extract_fct='clause')"
   ]
  },
  {
   "cell_type": "code",
   "execution_count": 27,
   "id": "5dc5a77d-ae93-4420-8786-b500563c8370",
   "metadata": {
    "tags": []
   },
   "outputs": [
    {
     "data": {
      "text/html": [
       "<div style='display: flex; width: 400px; flex-wrap: wrap'><span style=\"background-color: rgba(9, 221, 55,  0.5); padding: 1px 5px; border: solid 3px ; border-color: rgba(9, 221, 55,  1); #EFEFEF\">Positive label: concept1 </span> <span style=\"background-color: rgba(9, 221, 161,  0.5); padding: 1px 5px; border: solid 3px ; border-color: rgba(9, 221, 161,  1); #EFEFEF\">Positive label: concept2 </span> <span style=\"background-color: rgba(9, 175, 221,  0.5); padding: 1px 5px; border: solid 3px ; border-color: rgba(9, 175, 221,  1); #EFEFEF\">Positive label: concept3 </span> <span style=\"background-color: rgba(221, 9, 34,  0.5); padding: 1px 5px; border: solid 3px ; border-color: rgba(221, 9, 34,  1); #EFEFEF\">Negative label: concept1 </span> <span style=\"background-color: rgba(221, 9, 140, 0.5); padding: 1px 5px; border: solid 3px ; border-color: rgba(221, 9, 140, 1); #EFEFEF\">Negative label: concept2 </span> <span style=\"background-color: rgba(221, 90, 9,  0.5); padding: 1px 5px; border: solid 3px ; border-color: rgba(221, 90, 9,  1); #EFEFEF\">Negative label: concept3 </span> </div>"
      ],
      "text/plain": [
       "<IPython.core.display.HTML object>"
      ]
     },
     "metadata": {},
     "output_type": "display_data"
    },
    {
     "data": {
      "text/html": [
       "<br><br>"
      ],
      "text/plain": [
       "<IPython.core.display.HTML object>"
      ]
     },
     "metadata": {},
     "output_type": "display_data"
    },
    {
     "data": {
      "text/html": [
       "<div style='display: flex; width: 400px; flex-wrap: wrap'><span style=\"background-color: rgba(233,30,99,0);  padding: 1px 5px; border: solid 3px ; border-color:  rgba(233,30,99,0); #EFEFEF\">One</span> <span style=\"background-color: rgba(233,30,99,0);  padding: 1px 5px; border: solid 3px ; border-color:  rgba(233,30,99,0); #EFEFEF\">of</span> <span style=\"background-color: rgba(233,30,99,0);  padding: 1px 5px; border: solid 3px ; border-color:  rgba(233,30,99,0); #EFEFEF\">the</span> <span style=\"background-color: rgba(233,30,99,0);  padding: 1px 5px; border: solid 3px ; border-color:  rgba(233,30,99,0); #EFEFEF\">best</span> <span style=\"background-color: rgba(9, 221, 161,  0.21438640356063843); padding: 1px 5px; border: solid 3px ; border-color: rgba(9, 221, 161,  1); #EFEFEF\">movies</span> <span style=\"background-color: rgba(9, 221, 161,  0.24033689498901367); padding: 1px 5px; border: solid 3px ; border-color: rgba(9, 221, 161,  1); #EFEFEF\">ever</span> <span style=\"background-color: rgba(233,30,99,0);  padding: 1px 5px; border: solid 3px ; border-color:  rgba(233,30,99,0); #EFEFEF\">,</span> <span style=\"background-color: rgba(9, 221, 161,  0.3214804232120514); padding: 1px 5px; border: solid 3px ; border-color: rgba(9, 221, 161,  1); #EFEFEF\">hands</span> <span style=\"background-color: rgba(233,30,99,0);  padding: 1px 5px; border: solid 3px ; border-color:  rgba(233,30,99,0); #EFEFEF\">down</span> <span style=\"background-color: rgba(233,30,99,0);  padding: 1px 5px; border: solid 3px ; border-color:  rgba(233,30,99,0); #EFEFEF\">.</span> </div>"
      ],
      "text/plain": [
       "<IPython.core.display.HTML object>"
      ]
     },
     "metadata": {},
     "output_type": "display_data"
    },
    {
     "data": {
      "text/html": [
       "<div style='display: flex; width: 400px; flex-wrap: wrap'><span style=\"background-color: rgba(233,30,99,0);  padding: 1px 5px; border: solid 3px ; border-color:  rgba(233,30,99,0); #EFEFEF\">It</span> <span style=\"background-color: rgba(233,30,99,0);  padding: 1px 5px; border: solid 3px ; border-color:  rgba(233,30,99,0); #EFEFEF\">is</span> <span style=\"background-color: rgba(233,30,99,0);  padding: 1px 5px; border: solid 3px ; border-color:  rgba(233,30,99,0); #EFEFEF\">simply</span> <span style=\"background-color: rgba(233,30,99,0);  padding: 1px 5px; border: solid 3px ; border-color:  rgba(233,30,99,0); #EFEFEF\">one</span> <span style=\"background-color: rgba(9, 221, 161,  0.26397091150283813); padding: 1px 5px; border: solid 3px ; border-color: rgba(9, 221, 161,  1); #EFEFEF\">of</span> <span style=\"background-color: rgba(233,30,99,0);  padding: 1px 5px; border: solid 3px ; border-color:  rgba(233,30,99,0); #EFEFEF\">my</span> <span style=\"background-color: rgba(9, 221, 161,  0.25762689113616943); padding: 1px 5px; border: solid 3px ; border-color: rgba(9, 221, 161,  1); #EFEFEF\">all-time</span> <span style=\"background-color: rgba(233,30,99,0);  padding: 1px 5px; border: solid 3px ; border-color:  rgba(233,30,99,0); #EFEFEF\">favorite</span> <span style=\"background-color: rgba(9, 221, 161,  0.2940675616264343); padding: 1px 5px; border: solid 3px ; border-color: rgba(9, 221, 161,  1); #EFEFEF\">films</span> <span style=\"background-color: rgba(9, 221, 161,  0.26092344522476196); padding: 1px 5px; border: solid 3px ; border-color: rgba(9, 221, 161,  1); #EFEFEF\">.</span> </div>"
      ],
      "text/plain": [
       "<IPython.core.display.HTML object>"
      ]
     },
     "metadata": {},
     "output_type": "display_data"
    },
    {
     "data": {
      "text/html": [
       "<div style='display: flex; width: 400px; flex-wrap: wrap'><span style=\"background-color: rgba(233,30,99,0);  padding: 1px 5px; border: solid 3px ; border-color:  rgba(233,30,99,0); #EFEFEF\">Very</span> <span style=\"background-color: rgba(9, 221, 161,  0.8354230523109436); padding: 1px 5px; border: solid 3px ; border-color: rgba(9, 221, 161,  1); #EFEFEF\">inspiring</span> <span style=\"background-color: rgba(9, 221, 161,  0.6988418102264404); padding: 1px 5px; border: solid 3px ; border-color: rgba(9, 221, 161,  1); #EFEFEF\">and</span> <span style=\"background-color: rgba(9, 221, 161,  0.8398293852806091); padding: 1px 5px; border: solid 3px ; border-color: rgba(9, 221, 161,  1); #EFEFEF\">encouraging</span> <span style=\"background-color: rgba(9, 221, 161,  0.6825924515724182); padding: 1px 5px; border: solid 3px ; border-color: rgba(9, 221, 161,  1); #EFEFEF\">to</span> <span style=\"background-color: rgba(9, 221, 161,  0.7192270159721375); padding: 1px 5px; border: solid 3px ; border-color: rgba(9, 221, 161,  1); #EFEFEF\">all</span> <span style=\"background-color: rgba(9, 221, 161,  0.36042001843452454); padding: 1px 5px; border: solid 3px ; border-color: rgba(9, 221, 161,  1); #EFEFEF\">ages</span> <span style=\"background-color: rgba(9, 221, 161,  0.9995447397232056); padding: 1px 5px; border: solid 3px ; border-color: rgba(9, 221, 161,  1); #EFEFEF\">.</span> </div>"
      ],
      "text/plain": [
       "<IPython.core.display.HTML object>"
      ]
     },
     "metadata": {},
     "output_type": "display_data"
    },
    {
     "data": {
      "text/html": [
       "<div style='display: flex; width: 400px; flex-wrap: wrap'><span style=\"background-color: rgba(233,30,99,0);  padding: 1px 5px; border: solid 3px ; border-color:  rgba(233,30,99,0); #EFEFEF\">The</span> <span style=\"background-color: rgba(233,30,99,0);  padding: 1px 5px; border: solid 3px ; border-color:  rgba(233,30,99,0); #EFEFEF\">ballroom</span> <span style=\"background-color: rgba(9, 221, 161,  0.2607302665710449); padding: 1px 5px; border: solid 3px ; border-color: rgba(9, 221, 161,  1); #EFEFEF\">scenes</span> <span style=\"background-color: rgba(233,30,99,0);  padding: 1px 5px; border: solid 3px ; border-color:  rgba(233,30,99,0); #EFEFEF\">were</span> <span style=\"background-color: rgba(233,30,99,0);  padding: 1px 5px; border: solid 3px ; border-color:  rgba(233,30,99,0); #EFEFEF\">very</span> <span style=\"background-color: rgba(233,30,99,0);  padding: 1px 5px; border: solid 3px ; border-color:  rgba(233,30,99,0); #EFEFEF\">nice</span> <span style=\"background-color: rgba(233,30,99,0);  padding: 1px 5px; border: solid 3px ; border-color:  rgba(233,30,99,0); #EFEFEF\">,</span> <span style=\"background-color: rgba(233,30,99,0);  padding: 1px 5px; border: solid 3px ; border-color:  rgba(233,30,99,0); #EFEFEF\">the</span> <span style=\"background-color: rgba(233,30,99,0);  padding: 1px 5px; border: solid 3px ; border-color:  rgba(233,30,99,0); #EFEFEF\">dancing</span> <span style=\"background-color: rgba(233,30,99,0);  padding: 1px 5px; border: solid 3px ; border-color:  rgba(233,30,99,0); #EFEFEF\">and</span> <span style=\"background-color: rgba(233,30,99,0);  padding: 1px 5px; border: solid 3px ; border-color:  rgba(233,30,99,0); #EFEFEF\">the</span> <span style=\"background-color: rgba(233,30,99,0);  padding: 1px 5px; border: solid 3px ; border-color:  rgba(233,30,99,0); #EFEFEF\">outfits</span> <span style=\"background-color: rgba(233,30,99,0);  padding: 1px 5px; border: solid 3px ; border-color:  rgba(233,30,99,0); #EFEFEF\">looked</span> <span style=\"background-color: rgba(9, 221, 161,  0.5640932321548462); padding: 1px 5px; border: solid 3px ; border-color: rgba(9, 221, 161,  1); #EFEFEF\">beautiful</span> <span style=\"background-color: rgba(233,30,99,0);  padding: 1px 5px; border: solid 3px ; border-color:  rgba(233,30,99,0); #EFEFEF\">.</span> </div>"
      ],
      "text/plain": [
       "<IPython.core.display.HTML object>"
      ]
     },
     "metadata": {},
     "output_type": "display_data"
    },
    {
     "data": {
      "text/html": [
       "<div style='display: flex; width: 400px; flex-wrap: wrap'><span style=\"background-color: rgba(233,30,99,0);  padding: 1px 5px; border: solid 3px ; border-color:  rgba(233,30,99,0); #EFEFEF\">Billy</span> <span style=\"background-color: rgba(233,30,99,0);  padding: 1px 5px; border: solid 3px ; border-color:  rgba(233,30,99,0); #EFEFEF\">Bitzer</span> <span style=\"background-color: rgba(233,30,99,0);  padding: 1px 5px; border: solid 3px ; border-color:  rgba(233,30,99,0); #EFEFEF\">'s</span> <span style=\"background-color: rgba(9, 175, 221,  0.41029974818229675); padding: 1px 5px; border: solid 3px ; border-color: rgba(9, 175, 221,  1); #EFEFEF\">camera</span> <span style=\"background-color: rgba(233,30,99,0);  padding: 1px 5px; border: solid 3px ; border-color:  rgba(233,30,99,0); #EFEFEF\">work</span> <span style=\"background-color: rgba(233,30,99,0);  padding: 1px 5px; border: solid 3px ; border-color:  rgba(233,30,99,0); #EFEFEF\">is</span> <span style=\"background-color: rgba(233,30,99,0);  padding: 1px 5px; border: solid 3px ; border-color:  rgba(233,30,99,0); #EFEFEF\">quite</span> <span style=\"background-color: rgba(9, 175, 221,  0.9997267723083496); padding: 1px 5px; border: solid 3px ; border-color: rgba(9, 175, 221,  1); #EFEFEF\">good</span> <span style=\"background-color: rgba(233,30,99,0);  padding: 1px 5px; border: solid 3px ; border-color:  rgba(233,30,99,0); #EFEFEF\">.</span> </div>"
      ],
      "text/plain": [
       "<IPython.core.display.HTML object>"
      ]
     },
     "metadata": {},
     "output_type": "display_data"
    },
    {
     "data": {
      "text/html": [
       "<div style='display: flex; width: 400px; flex-wrap: wrap'><span style=\"background-color: rgba(9, 221, 55,  0.36557748913764954); padding: 1px 5px; border: solid 3px ; border-color: rgba(9, 221, 55,  1); #EFEFEF\">The</span> <span style=\"background-color: rgba(9, 221, 55,  0.6455854773521423); padding: 1px 5px; border: solid 3px ; border-color: rgba(9, 221, 55,  1); #EFEFEF\">humor</span> <span style=\"background-color: rgba(9, 221, 55,  0.415628582239151); padding: 1px 5px; border: solid 3px ; border-color: rgba(9, 221, 55,  1); #EFEFEF\">and</span> <span style=\"background-color: rgba(9, 221, 161,  0.9992864727973938); padding: 1px 5px; border: solid 3px ; border-color: rgba(9, 221, 161,  1); #EFEFEF\">sadness</span> <span style=\"background-color: rgba(9, 221, 55,  0.32245907187461853); padding: 1px 5px; border: solid 3px ; border-color: rgba(9, 221, 55,  1); #EFEFEF\">are</span> <span style=\"background-color: rgba(9, 221, 55,  0.4037676155567169); padding: 1px 5px; border: solid 3px ; border-color: rgba(9, 221, 55,  1); #EFEFEF\">subtly</span> <span style=\"background-color: rgba(9, 221, 55,  0.33953267335891724); padding: 1px 5px; border: solid 3px ; border-color: rgba(9, 221, 55,  1); #EFEFEF\">blended</span> <span style=\"background-color: rgba(9, 221, 55,  0.30736738443374634); padding: 1px 5px; border: solid 3px ; border-color: rgba(9, 221, 55,  1); #EFEFEF\">.</span> </div>"
      ],
      "text/plain": [
       "<IPython.core.display.HTML object>"
      ]
     },
     "metadata": {},
     "output_type": "display_data"
    },
    {
     "data": {
      "text/html": [
       "<div style='display: flex; width: 400px; flex-wrap: wrap'><span style=\"background-color: rgba(9, 221, 55,  0.21080608665943146); padding: 1px 5px; border: solid 3px ; border-color: rgba(9, 221, 55,  1); #EFEFEF\">Idrissa</span> <span style=\"background-color: rgba(233,30,99,0);  padding: 1px 5px; border: solid 3px ; border-color:  rgba(233,30,99,0); #EFEFEF\">Oudraogo</span> <span style=\"background-color: rgba(233,30,99,0);  padding: 1px 5px; border: solid 3px ; border-color:  rgba(233,30,99,0); #EFEFEF\">(</span> <span style=\"background-color: rgba(9, 221, 55,  0.21424606442451477); padding: 1px 5px; border: solid 3px ; border-color: rgba(9, 221, 55,  1); #EFEFEF\">Burkina</span> <span style=\"background-color: rgba(233,30,99,0);  padding: 1px 5px; border: solid 3px ; border-color:  rgba(233,30,99,0); #EFEFEF\">Faso</span> <span style=\"background-color: rgba(9, 221, 55,  0.22697360813617706); padding: 1px 5px; border: solid 3px ; border-color: rgba(9, 221, 55,  1); #EFEFEF\">)</span> <span style=\"background-color: rgba(9, 221, 55,  0.2209704965353012); padding: 1px 5px; border: solid 3px ; border-color: rgba(9, 221, 55,  1); #EFEFEF\">:</span> <span style=\"background-color: rgba(9, 221, 55,  0.22742319107055664); padding: 1px 5px; border: solid 3px ; border-color: rgba(9, 221, 55,  1); #EFEFEF\">from</span> <span style=\"background-color: rgba(233,30,99,0);  padding: 1px 5px; border: solid 3px ; border-color:  rgba(233,30,99,0); #EFEFEF\">one</span> <span style=\"background-color: rgba(9, 221, 55,  0.21828234195709229); padding: 1px 5px; border: solid 3px ; border-color: rgba(9, 221, 55,  1); #EFEFEF\">of</span> <span style=\"background-color: rgba(9, 221, 55,  0.20954647660255432); padding: 1px 5px; border: solid 3px ; border-color: rgba(9, 221, 55,  1); #EFEFEF\">the</span> <span style=\"background-color: rgba(9, 221, 55,  0.22756415605545044); padding: 1px 5px; border: solid 3px ; border-color: rgba(9, 221, 55,  1); #EFEFEF\">poorest</span> <span style=\"background-color: rgba(9, 221, 55,  0.2083132266998291); padding: 1px 5px; border: solid 3px ; border-color: rgba(9, 221, 55,  1); #EFEFEF\">country</span> <span style=\"background-color: rgba(9, 221, 55,  0.2120695561170578); padding: 1px 5px; border: solid 3px ; border-color: rgba(9, 221, 55,  1); #EFEFEF\">in</span> <span style=\"background-color: rgba(9, 221, 55,  0.22557388246059418); padding: 1px 5px; border: solid 3px ; border-color: rgba(9, 221, 55,  1); #EFEFEF\">the</span> <span style=\"background-color: rgba(9, 221, 55,  0.39759430289268494); padding: 1px 5px; border: solid 3px ; border-color: rgba(9, 221, 55,  1); #EFEFEF\">world</span> <span style=\"background-color: rgba(9, 221, 55,  0.28109046816825867); padding: 1px 5px; border: solid 3px ; border-color: rgba(9, 221, 55,  1); #EFEFEF\">,</span> <span style=\"background-color: rgba(9, 221, 55,  0.2593689262866974); padding: 1px 5px; border: solid 3px ; border-color: rgba(9, 221, 55,  1); #EFEFEF\">a</span> <span style=\"background-color: rgba(9, 221, 55,  0.4089455008506775); padding: 1px 5px; border: solid 3px ; border-color: rgba(9, 221, 55,  1); #EFEFEF\">tender</span> <span style=\"background-color: rgba(9, 221, 55,  0.26161035895347595); padding: 1px 5px; border: solid 3px ; border-color: rgba(9, 221, 55,  1); #EFEFEF\">and</span> <span style=\"background-color: rgba(9, 221, 161,  0.9994574785232544); padding: 1px 5px; border: solid 3px ; border-color: rgba(9, 221, 161,  1); #EFEFEF\">funny</span> <span style=\"background-color: rgba(9, 221, 55,  0.22667111456394196); padding: 1px 5px; border: solid 3px ; border-color: rgba(9, 221, 55,  1); #EFEFEF\">story</span> <span style=\"background-color: rgba(9, 221, 55,  0.21762298047542572); padding: 1px 5px; border: solid 3px ; border-color: rgba(9, 221, 55,  1); #EFEFEF\">about</span> <span style=\"background-color: rgba(9, 221, 55,  0.2175711989402771); padding: 1px 5px; border: solid 3px ; border-color: rgba(9, 221, 55,  1); #EFEFEF\">five</span> <span style=\"background-color: rgba(9, 221, 55,  0.22880639135837555); padding: 1px 5px; border: solid 3px ; border-color: rgba(9, 221, 55,  1); #EFEFEF\">boys</span> <span style=\"background-color: rgba(9, 221, 55,  0.21995148062705994); padding: 1px 5px; border: solid 3px ; border-color: rgba(9, 221, 55,  1); #EFEFEF\">who</span> <span style=\"background-color: rgba(9, 221, 55,  0.23704630136489868); padding: 1px 5px; border: solid 3px ; border-color: rgba(9, 221, 55,  1); #EFEFEF\">want</span> <span style=\"background-color: rgba(9, 221, 55,  0.22996506094932556); padding: 1px 5px; border: solid 3px ; border-color: rgba(9, 221, 55,  1); #EFEFEF\">to</span> <span style=\"background-color: rgba(9, 221, 55,  0.21162208914756775); padding: 1px 5px; border: solid 3px ; border-color: rgba(9, 221, 55,  1); #EFEFEF\">capture</span> <span style=\"background-color: rgba(9, 221, 55,  0.22364307940006256); padding: 1px 5px; border: solid 3px ; border-color: rgba(9, 221, 55,  1); #EFEFEF\">Osama</span> <span style=\"background-color: rgba(9, 221, 55,  0.2223808318376541); padding: 1px 5px; border: solid 3px ; border-color: rgba(9, 221, 55,  1); #EFEFEF\">Bin</span> <span style=\"background-color: rgba(9, 221, 55,  0.23635359108448029); padding: 1px 5px; border: solid 3px ; border-color: rgba(9, 221, 55,  1); #EFEFEF\">Laden</span> <span style=\"background-color: rgba(9, 221, 55,  0.24072405695915222); padding: 1px 5px; border: solid 3px ; border-color: rgba(9, 221, 55,  1); #EFEFEF\">.</span> </div>"
      ],
      "text/plain": [
       "<IPython.core.display.HTML object>"
      ]
     },
     "metadata": {},
     "output_type": "display_data"
    },
    {
     "data": {
      "text/html": [
       "<div style='display: flex; width: 400px; flex-wrap: wrap'><span style=\"background-color: rgba(233,30,99,0);  padding: 1px 5px; border: solid 3px ; border-color:  rgba(233,30,99,0); #EFEFEF\">Especially</span> <span style=\"background-color: rgba(9, 221, 161,  0.9996169805526733); padding: 1px 5px; border: solid 3px ; border-color: rgba(9, 221, 161,  1); #EFEFEF\">fun</span> <span style=\"background-color: rgba(233,30,99,0);  padding: 1px 5px; border: solid 3px ; border-color:  rgba(233,30,99,0); #EFEFEF\">is</span> <span style=\"background-color: rgba(233,30,99,0);  padding: 1px 5px; border: solid 3px ; border-color:  rgba(233,30,99,0); #EFEFEF\">the</span> <span style=\"background-color: rgba(9, 221, 161,  0.9996169805526733); padding: 1px 5px; border: solid 3px ; border-color: rgba(9, 221, 161,  1); #EFEFEF\">performance</span> <span style=\"background-color: rgba(9, 221, 161,  0.2616889476776123); padding: 1px 5px; border: solid 3px ; border-color: rgba(9, 221, 161,  1); #EFEFEF\">by</span> <span style=\"background-color: rgba(9, 221, 161,  0.4660604000091553); padding: 1px 5px; border: solid 3px ; border-color: rgba(9, 221, 161,  1); #EFEFEF\">Cronenberg</span> <span style=\"background-color: rgba(9, 221, 161,  0.392727792263031); padding: 1px 5px; border: solid 3px ; border-color: rgba(9, 221, 161,  1); #EFEFEF\">as</span> <span style=\"background-color: rgba(233,30,99,0);  padding: 1px 5px; border: solid 3px ; border-color:  rgba(233,30,99,0); #EFEFEF\">the</span> <span style=\"background-color: rgba(9, 221, 161,  0.33991071581840515); padding: 1px 5px; border: solid 3px ; border-color: rgba(9, 221, 161,  1); #EFEFEF\">truly</span> <span style=\"background-color: rgba(233,30,99,0);  padding: 1px 5px; border: solid 3px ; border-color:  rgba(233,30,99,0); #EFEFEF\">evil</span> <span style=\"background-color: rgba(9, 221, 161,  0.28298094868659973); padding: 1px 5px; border: solid 3px ; border-color: rgba(9, 221, 161,  1); #EFEFEF\">human</span> <span style=\"background-color: rgba(233,30,99,0);  padding: 1px 5px; border: solid 3px ; border-color:  rgba(233,30,99,0); #EFEFEF\">doctor</span> <span style=\"background-color: rgba(9, 221, 161,  0.212400421500206); padding: 1px 5px; border: solid 3px ; border-color: rgba(9, 221, 161,  1); #EFEFEF\">who</span> <span style=\"background-color: rgba(233,30,99,0);  padding: 1px 5px; border: solid 3px ; border-color:  rgba(233,30,99,0); #EFEFEF\">is</span> <span style=\"background-color: rgba(233,30,99,0);  padding: 1px 5px; border: solid 3px ; border-color:  rgba(233,30,99,0); #EFEFEF\">bent</span> <span style=\"background-color: rgba(233,30,99,0);  padding: 1px 5px; border: solid 3px ; border-color:  rgba(233,30,99,0); #EFEFEF\">on</span> <span style=\"background-color: rgba(9, 221, 161,  0.33938342332839966); padding: 1px 5px; border: solid 3px ; border-color: rgba(9, 221, 161,  1); #EFEFEF\">destroying</span> <span style=\"background-color: rgba(9, 221, 161,  0.2504287362098694); padding: 1px 5px; border: solid 3px ; border-color: rgba(9, 221, 161,  1); #EFEFEF\">the</span> <span style=\"background-color: rgba(9, 221, 161,  0.24845071136951447); padding: 1px 5px; border: solid 3px ; border-color: rgba(9, 221, 161,  1); #EFEFEF\">Nightbreed</span> <span style=\"background-color: rgba(233,30,99,0);  padding: 1px 5px; border: solid 3px ; border-color:  rgba(233,30,99,0); #EFEFEF\">.</span> </div>"
      ],
      "text/plain": [
       "<IPython.core.display.HTML object>"
      ]
     },
     "metadata": {},
     "output_type": "display_data"
    },
    {
     "data": {
      "text/html": [
       "<div style='display: flex; width: 400px; flex-wrap: wrap'><span style=\"background-color: rgba(233,30,99,0);  padding: 1px 5px; border: solid 3px ; border-color:  rgba(233,30,99,0); #EFEFEF\">I</span> <span style=\"background-color: rgba(233,30,99,0);  padding: 1px 5px; border: solid 3px ; border-color:  rgba(233,30,99,0); #EFEFEF\">could</span> <span style=\"background-color: rgba(233,30,99,0);  padding: 1px 5px; border: solid 3px ; border-color:  rgba(233,30,99,0); #EFEFEF\">n't</span> <span style=\"background-color: rgba(233,30,99,0);  padding: 1px 5px; border: solid 3px ; border-color:  rgba(233,30,99,0); #EFEFEF\">even</span> <span style=\"background-color: rgba(233,30,99,0);  padding: 1px 5px; border: solid 3px ; border-color:  rgba(233,30,99,0); #EFEFEF\">follow</span> <span style=\"background-color: rgba(233,30,99,0);  padding: 1px 5px; border: solid 3px ; border-color:  rgba(233,30,99,0); #EFEFEF\">the</span> <span style=\"background-color: rgba(233,30,99,0);  padding: 1px 5px; border: solid 3px ; border-color:  rgba(233,30,99,0); #EFEFEF\">plot</span> <span style=\"background-color: rgba(233,30,99,0);  padding: 1px 5px; border: solid 3px ; border-color:  rgba(233,30,99,0); #EFEFEF\">,</span> <span style=\"background-color: rgba(233,30,99,0);  padding: 1px 5px; border: solid 3px ; border-color:  rgba(233,30,99,0); #EFEFEF\">but</span> <span style=\"background-color: rgba(233,30,99,0);  padding: 1px 5px; border: solid 3px ; border-color:  rgba(233,30,99,0); #EFEFEF\">suffice</span> <span style=\"background-color: rgba(233,30,99,0);  padding: 1px 5px; border: solid 3px ; border-color:  rgba(233,30,99,0); #EFEFEF\">it</span> <span style=\"background-color: rgba(233,30,99,0);  padding: 1px 5px; border: solid 3px ; border-color:  rgba(233,30,99,0); #EFEFEF\">to</span> <span style=\"background-color: rgba(233,30,99,0);  padding: 1px 5px; border: solid 3px ; border-color:  rgba(233,30,99,0); #EFEFEF\">say</span> <span style=\"background-color: rgba(233,30,99,0);  padding: 1px 5px; border: solid 3px ; border-color:  rgba(233,30,99,0); #EFEFEF\">,</span> <span style=\"background-color: rgba(233,30,99,0);  padding: 1px 5px; border: solid 3px ; border-color:  rgba(233,30,99,0); #EFEFEF\">this</span> <span style=\"background-color: rgba(233,30,99,0);  padding: 1px 5px; border: solid 3px ; border-color:  rgba(233,30,99,0); #EFEFEF\">is</span> <span style=\"background-color: rgba(233,30,99,0);  padding: 1px 5px; border: solid 3px ; border-color:  rgba(233,30,99,0); #EFEFEF\">the</span> <span style=\"background-color: rgba(233,30,99,0);  padding: 1px 5px; border: solid 3px ; border-color:  rgba(233,30,99,0); #EFEFEF\">absolute</span> <span style=\"background-color: rgba(221, 9, 34,  0.666281521320343); padding: 1px 5px; border: solid 3px ; border-color: rgba(221, 9, 34,  1); #EFEFEF\">worst</span> <span style=\"background-color: rgba(233,30,99,0);  padding: 1px 5px; border: solid 3px ; border-color:  rgba(233,30,99,0); #EFEFEF\">movie</span> <span style=\"background-color: rgba(233,30,99,0);  padding: 1px 5px; border: solid 3px ; border-color:  rgba(233,30,99,0); #EFEFEF\">I</span> <span style=\"background-color: rgba(233,30,99,0);  padding: 1px 5px; border: solid 3px ; border-color:  rgba(233,30,99,0); #EFEFEF\">have</span> <span style=\"background-color: rgba(233,30,99,0);  padding: 1px 5px; border: solid 3px ; border-color:  rgba(233,30,99,0); #EFEFEF\">ever</span> <span style=\"background-color: rgba(233,30,99,0);  padding: 1px 5px; border: solid 3px ; border-color:  rgba(233,30,99,0); #EFEFEF\">seen</span> <span style=\"background-color: rgba(233,30,99,0);  padding: 1px 5px; border: solid 3px ; border-color:  rgba(233,30,99,0); #EFEFEF\">in</span> <span style=\"background-color: rgba(233,30,99,0);  padding: 1px 5px; border: solid 3px ; border-color:  rgba(233,30,99,0); #EFEFEF\">my</span> <span style=\"background-color: rgba(233,30,99,0);  padding: 1px 5px; border: solid 3px ; border-color:  rgba(233,30,99,0); #EFEFEF\">life</span> <span style=\"background-color: rgba(233,30,99,0);  padding: 1px 5px; border: solid 3px ; border-color:  rgba(233,30,99,0); #EFEFEF\">.</span> </div>"
      ],
      "text/plain": [
       "<IPython.core.display.HTML object>"
      ]
     },
     "metadata": {},
     "output_type": "display_data"
    },
    {
     "data": {
      "text/html": [
       "<div style='display: flex; width: 400px; flex-wrap: wrap'><span style=\"background-color: rgba(233,30,99,0);  padding: 1px 5px; border: solid 3px ; border-color:  rgba(233,30,99,0); #EFEFEF\">This</span> <span style=\"background-color: rgba(233,30,99,0);  padding: 1px 5px; border: solid 3px ; border-color:  rgba(233,30,99,0); #EFEFEF\">is</span> <span style=\"background-color: rgba(233,30,99,0);  padding: 1px 5px; border: solid 3px ; border-color:  rgba(233,30,99,0); #EFEFEF\">by</span> <span style=\"background-color: rgba(233,30,99,0);  padding: 1px 5px; border: solid 3px ; border-color:  rgba(233,30,99,0); #EFEFEF\">far</span> <span style=\"background-color: rgba(233,30,99,0);  padding: 1px 5px; border: solid 3px ; border-color:  rgba(233,30,99,0); #EFEFEF\">one</span> <span style=\"background-color: rgba(233,30,99,0);  padding: 1px 5px; border: solid 3px ; border-color:  rgba(233,30,99,0); #EFEFEF\">of</span> <span style=\"background-color: rgba(233,30,99,0);  padding: 1px 5px; border: solid 3px ; border-color:  rgba(233,30,99,0); #EFEFEF\">the</span> <span style=\"background-color: rgba(221, 9, 34,  0.6785420775413513); padding: 1px 5px; border: solid 3px ; border-color: rgba(221, 9, 34,  1); #EFEFEF\">worst</span> <span style=\"background-color: rgba(233,30,99,0);  padding: 1px 5px; border: solid 3px ; border-color:  rgba(233,30,99,0); #EFEFEF\">films</span> <span style=\"background-color: rgba(233,30,99,0);  padding: 1px 5px; border: solid 3px ; border-color:  rgba(233,30,99,0); #EFEFEF\">I</span> <span style=\"background-color: rgba(233,30,99,0);  padding: 1px 5px; border: solid 3px ; border-color:  rgba(233,30,99,0); #EFEFEF\">'ve</span> <span style=\"background-color: rgba(233,30,99,0);  padding: 1px 5px; border: solid 3px ; border-color:  rgba(233,30,99,0); #EFEFEF\">ever</span> <span style=\"background-color: rgba(233,30,99,0);  padding: 1px 5px; border: solid 3px ; border-color:  rgba(233,30,99,0); #EFEFEF\">paid</span> <span style=\"background-color: rgba(233,30,99,0);  padding: 1px 5px; border: solid 3px ; border-color:  rgba(233,30,99,0); #EFEFEF\">good</span> <span style=\"background-color: rgba(233,30,99,0);  padding: 1px 5px; border: solid 3px ; border-color:  rgba(233,30,99,0); #EFEFEF\">money</span> <span style=\"background-color: rgba(233,30,99,0);  padding: 1px 5px; border: solid 3px ; border-color:  rgba(233,30,99,0); #EFEFEF\">to</span> <span style=\"background-color: rgba(233,30,99,0);  padding: 1px 5px; border: solid 3px ; border-color:  rgba(233,30,99,0); #EFEFEF\">see</span> <span style=\"background-color: rgba(233,30,99,0);  padding: 1px 5px; border: solid 3px ; border-color:  rgba(233,30,99,0); #EFEFEF\">.</span> </div>"
      ],
      "text/plain": [
       "<IPython.core.display.HTML object>"
      ]
     },
     "metadata": {},
     "output_type": "display_data"
    },
    {
     "data": {
      "text/html": [
       "<div style='display: flex; width: 400px; flex-wrap: wrap'><span style=\"background-color: rgba(233,30,99,0);  padding: 1px 5px; border: solid 3px ; border-color:  rgba(233,30,99,0); #EFEFEF\">Words</span> <span style=\"background-color: rgba(233,30,99,0);  padding: 1px 5px; border: solid 3px ; border-color:  rgba(233,30,99,0); #EFEFEF\">can</span> <span style=\"background-color: rgba(233,30,99,0);  padding: 1px 5px; border: solid 3px ; border-color:  rgba(233,30,99,0); #EFEFEF\">not</span> <span style=\"background-color: rgba(221, 9, 34,  0.20477060973644257); padding: 1px 5px; border: solid 3px ; border-color: rgba(221, 9, 34,  1); #EFEFEF\">begin</span> <span style=\"background-color: rgba(233,30,99,0);  padding: 1px 5px; border: solid 3px ; border-color:  rgba(233,30,99,0); #EFEFEF\">to</span> <span style=\"background-color: rgba(233,30,99,0);  padding: 1px 5px; border: solid 3px ; border-color:  rgba(233,30,99,0); #EFEFEF\">describe</span> <span style=\"background-color: rgba(233,30,99,0);  padding: 1px 5px; border: solid 3px ; border-color:  rgba(233,30,99,0); #EFEFEF\">how</span> <span style=\"background-color: rgba(221, 9, 34,  0.9991950988769531); padding: 1px 5px; border: solid 3px ; border-color: rgba(221, 9, 34,  1); #EFEFEF\">blandly</span> <span style=\"background-color: rgba(221, 9, 34,  0.22778837382793427); padding: 1px 5px; border: solid 3px ; border-color: rgba(221, 9, 34,  1); #EFEFEF\">terrible</span> <span style=\"background-color: rgba(233,30,99,0);  padding: 1px 5px; border: solid 3px ; border-color:  rgba(233,30,99,0); #EFEFEF\">this</span> <span style=\"background-color: rgba(221, 9, 34,  0.3267146050930023); padding: 1px 5px; border: solid 3px ; border-color: rgba(221, 9, 34,  1); #EFEFEF\">movie</span> <span style=\"background-color: rgba(233,30,99,0);  padding: 1px 5px; border: solid 3px ; border-color:  rgba(233,30,99,0); #EFEFEF\">is</span> <span style=\"background-color: rgba(233,30,99,0);  padding: 1px 5px; border: solid 3px ; border-color:  rgba(233,30,99,0); #EFEFEF\">.</span> </div>"
      ],
      "text/plain": [
       "<IPython.core.display.HTML object>"
      ]
     },
     "metadata": {},
     "output_type": "display_data"
    },
    {
     "data": {
      "text/html": [
       "<div style='display: flex; width: 400px; flex-wrap: wrap'><span style=\"background-color: rgba(233,30,99,0);  padding: 1px 5px; border: solid 3px ; border-color:  rgba(233,30,99,0); #EFEFEF\">It</span> <span style=\"background-color: rgba(221, 9, 34,  0.21084189414978027); padding: 1px 5px; border: solid 3px ; border-color: rgba(221, 9, 34,  1); #EFEFEF\">'s</span> <span style=\"background-color: rgba(221, 9, 34,  0.9074537754058838); padding: 1px 5px; border: solid 3px ; border-color: rgba(221, 9, 34,  1); #EFEFEF\">pointless</span> <span style=\"background-color: rgba(233,30,99,0);  padding: 1px 5px; border: solid 3px ; border-color:  rgba(233,30,99,0); #EFEFEF\">.</span> </div>"
      ],
      "text/plain": [
       "<IPython.core.display.HTML object>"
      ]
     },
     "metadata": {},
     "output_type": "display_data"
    },
    {
     "data": {
      "text/html": [
       "<div style='display: flex; width: 400px; flex-wrap: wrap'><span style=\"background-color: rgba(221, 9, 34,  0.6369805932044983); padding: 1px 5px; border: solid 3px ; border-color: rgba(221, 9, 34,  1); #EFEFEF\">Plot</span> <span style=\"background-color: rgba(221, 90, 9,  0.37582969665527344); padding: 1px 5px; border: solid 3px ; border-color: rgba(221, 90, 9,  1); #EFEFEF\">is</span> <span style=\"background-color: rgba(221, 9, 34,  0.4399566352367401); padding: 1px 5px; border: solid 3px ; border-color: rgba(221, 9, 34,  1); #EFEFEF\">unimportant</span> <span style=\"background-color: rgba(233,30,99,0);  padding: 1px 5px; border: solid 3px ; border-color:  rgba(233,30,99,0); #EFEFEF\">.</span> </div>"
      ],
      "text/plain": [
       "<IPython.core.display.HTML object>"
      ]
     },
     "metadata": {},
     "output_type": "display_data"
    },
    {
     "data": {
      "text/html": [
       "<div style='display: flex; width: 400px; flex-wrap: wrap'><span style=\"background-color: rgba(221, 9, 140, 0.24963681399822235); padding: 1px 5px; border: solid 3px ; border-color: rgba(221, 9, 140, 1); #EFEFEF\">About</span> <span style=\"background-color: rgba(221, 9, 140, 0.242054283618927); padding: 1px 5px; border: solid 3px ; border-color: rgba(221, 9, 140, 1); #EFEFEF\">the</span> <span style=\"background-color: rgba(221, 9, 140, 0.999427855014801); padding: 1px 5px; border: solid 3px ; border-color: rgba(221, 9, 140, 1); #EFEFEF\">only</span> <span style=\"background-color: rgba(221, 9, 140, 0.8477576971054077); padding: 1px 5px; border: solid 3px ; border-color: rgba(221, 9, 140, 1); #EFEFEF\">good</span> <span style=\"background-color: rgba(221, 9, 140, 0.4501510262489319); padding: 1px 5px; border: solid 3px ; border-color: rgba(221, 9, 140, 1); #EFEFEF\">thing</span> <span style=\"background-color: rgba(221, 9, 140, 0.3065667450428009); padding: 1px 5px; border: solid 3px ; border-color: rgba(221, 9, 140, 1); #EFEFEF\">about</span> <span style=\"background-color: rgba(221, 9, 140, 0.3244880437850952); padding: 1px 5px; border: solid 3px ; border-color: rgba(221, 9, 140, 1); #EFEFEF\">this</span> <span style=\"background-color: rgba(221, 9, 140, 0.26541879773139954); padding: 1px 5px; border: solid 3px ; border-color: rgba(221, 9, 140, 1); #EFEFEF\">is</span> <span style=\"background-color: rgba(233,30,99,0);  padding: 1px 5px; border: solid 3px ; border-color:  rgba(233,30,99,0); #EFEFEF\">the</span> <span style=\"background-color: rgba(221, 9, 140, 0.4713326096534729); padding: 1px 5px; border: solid 3px ; border-color: rgba(221, 9, 140, 1); #EFEFEF\">setting</span> <span style=\"background-color: rgba(221, 9, 140, 0.29528525471687317); padding: 1px 5px; border: solid 3px ; border-color: rgba(221, 9, 140, 1); #EFEFEF\">.</span> </div>"
      ],
      "text/plain": [
       "<IPython.core.display.HTML object>"
      ]
     },
     "metadata": {},
     "output_type": "display_data"
    },
    {
     "data": {
      "text/html": [
       "<div style='display: flex; width: 400px; flex-wrap: wrap'><span style=\"background-color: rgba(221, 9, 140, 0.40579333901405334); padding: 1px 5px; border: solid 3px ; border-color: rgba(221, 9, 140, 1); #EFEFEF\">It</span> <span style=\"background-color: rgba(221, 9, 140, 0.5008102655410767); padding: 1px 5px; border: solid 3px ; border-color: rgba(221, 9, 140, 1); #EFEFEF\">'s</span> <span style=\"background-color: rgba(221, 9, 140, 0.9407158493995667); padding: 1px 5px; border: solid 3px ; border-color: rgba(221, 9, 140, 1); #EFEFEF\">too</span> <span style=\"background-color: rgba(233,30,99,0);  padding: 1px 5px; border: solid 3px ; border-color:  rgba(233,30,99,0); #EFEFEF\">bad</span> <span style=\"background-color: rgba(221, 9, 140, 0.5445041060447693); padding: 1px 5px; border: solid 3px ; border-color: rgba(221, 9, 140, 1); #EFEFEF\">because</span> <span style=\"background-color: rgba(221, 9, 140, 0.575700581073761); padding: 1px 5px; border: solid 3px ; border-color: rgba(221, 9, 140, 1); #EFEFEF\">this</span> <span style=\"background-color: rgba(221, 9, 140, 0.6106904745101929); padding: 1px 5px; border: solid 3px ; border-color: rgba(221, 9, 140, 1); #EFEFEF\">film</span> <span style=\"background-color: rgba(233,30,99,0);  padding: 1px 5px; border: solid 3px ; border-color:  rgba(233,30,99,0); #EFEFEF\">had</span> <span style=\"background-color: rgba(221, 9, 140, 0.9990749359130859); padding: 1px 5px; border: solid 3px ; border-color: rgba(221, 9, 140, 1); #EFEFEF\">great</span> <span style=\"background-color: rgba(221, 9, 140, 0.5097174644470215); padding: 1px 5px; border: solid 3px ; border-color: rgba(221, 9, 140, 1); #EFEFEF\">production</span> <span style=\"background-color: rgba(221, 9, 140, 0.6101906299591064); padding: 1px 5px; border: solid 3px ; border-color: rgba(221, 9, 140, 1); #EFEFEF\">values</span> <span style=\"background-color: rgba(221, 9, 140, 0.6624107956886292); padding: 1px 5px; border: solid 3px ; border-color: rgba(221, 9, 140, 1); #EFEFEF\">and</span> <span style=\"background-color: rgba(221, 9, 140, 0.5558068156242371); padding: 1px 5px; border: solid 3px ; border-color: rgba(221, 9, 140, 1); #EFEFEF\">a</span> <span style=\"background-color: rgba(221, 9, 140, 0.4493478834629059); padding: 1px 5px; border: solid 3px ; border-color: rgba(221, 9, 140, 1); #EFEFEF\">good</span> <span style=\"background-color: rgba(221, 9, 140, 0.42087870836257935); padding: 1px 5px; border: solid 3px ; border-color: rgba(221, 9, 140, 1); #EFEFEF\">cast</span> <span style=\"background-color: rgba(221, 9, 140, 0.4368349313735962); padding: 1px 5px; border: solid 3px ; border-color: rgba(221, 9, 140, 1); #EFEFEF\">,</span> <span style=\"background-color: rgba(221, 9, 140, 0.5529126524925232); padding: 1px 5px; border: solid 3px ; border-color: rgba(221, 9, 140, 1); #EFEFEF\">but</span> <span style=\"background-color: rgba(221, 90, 9,  0.2707248032093048); padding: 1px 5px; border: solid 3px ; border-color: rgba(221, 90, 9,  1); #EFEFEF\">is</span> <span style=\"background-color: rgba(221, 9, 140, 0.41840967535972595); padding: 1px 5px; border: solid 3px ; border-color: rgba(221, 9, 140, 1); #EFEFEF\">n't</span> <span style=\"background-color: rgba(221, 9, 140, 0.5139496326446533); padding: 1px 5px; border: solid 3px ; border-color: rgba(221, 9, 140, 1); #EFEFEF\">the</span> <span style=\"background-color: rgba(221, 9, 140, 0.28540340065956116); padding: 1px 5px; border: solid 3px ; border-color: rgba(221, 9, 140, 1); #EFEFEF\">idea</span> <span style=\"background-color: rgba(221, 9, 140, 0.48795560002326965); padding: 1px 5px; border: solid 3px ; border-color: rgba(221, 9, 140, 1); #EFEFEF\">of</span> <span style=\"background-color: rgba(221, 9, 140, 0.3079325556755066); padding: 1px 5px; border: solid 3px ; border-color: rgba(221, 9, 140, 1); #EFEFEF\">turning</span> <span style=\"background-color: rgba(221, 9, 140, 0.4643281400203705); padding: 1px 5px; border: solid 3px ; border-color: rgba(221, 9, 140, 1); #EFEFEF\">a</span> <span style=\"background-color: rgba(221, 9, 140, 0.4319233298301697); padding: 1px 5px; border: solid 3px ; border-color: rgba(221, 9, 140, 1); #EFEFEF\">book</span> <span style=\"background-color: rgba(221, 9, 140, 0.3861304819583893); padding: 1px 5px; border: solid 3px ; border-color: rgba(221, 9, 140, 1); #EFEFEF\">into</span> <span style=\"background-color: rgba(221, 9, 140, 0.4345147907733917); padding: 1px 5px; border: solid 3px ; border-color: rgba(221, 9, 140, 1); #EFEFEF\">a</span> <span style=\"background-color: rgba(221, 9, 140, 0.45391029119491577); padding: 1px 5px; border: solid 3px ; border-color: rgba(221, 9, 140, 1); #EFEFEF\">movie</span> <span style=\"background-color: rgba(221, 9, 140, 0.3604870140552521); padding: 1px 5px; border: solid 3px ; border-color: rgba(221, 9, 140, 1); #EFEFEF\">(</span> <span style=\"background-color: rgba(221, 9, 140, 0.4201326072216034); padding: 1px 5px; border: solid 3px ; border-color: rgba(221, 9, 140, 1); #EFEFEF\">TV</span> <span style=\"background-color: rgba(221, 9, 140, 0.45765432715415955); padding: 1px 5px; border: solid 3px ; border-color: rgba(221, 9, 140, 1); #EFEFEF\">or</span> <span style=\"background-color: rgba(221, 9, 140, 0.45375755429267883); padding: 1px 5px; border: solid 3px ; border-color: rgba(221, 9, 140, 1); #EFEFEF\">film</span> <span style=\"background-color: rgba(221, 9, 140, 0.40948930382728577); padding: 1px 5px; border: solid 3px ; border-color: rgba(221, 9, 140, 1); #EFEFEF\">)</span> <span style=\"background-color: rgba(221, 9, 140, 0.4319811463356018); padding: 1px 5px; border: solid 3px ; border-color: rgba(221, 9, 140, 1); #EFEFEF\">to</span> <span style=\"background-color: rgba(221, 9, 140, 0.40787509083747864); padding: 1px 5px; border: solid 3px ; border-color: rgba(221, 9, 140, 1); #EFEFEF\">get</span> <span style=\"background-color: rgba(221, 9, 140, 0.4080093204975128); padding: 1px 5px; border: solid 3px ; border-color: rgba(221, 9, 140, 1); #EFEFEF\">the</span> <span style=\"background-color: rgba(221, 9, 140, 0.4238455295562744); padding: 1px 5px; border: solid 3px ; border-color: rgba(221, 9, 140, 1); #EFEFEF\">people</span> <span style=\"background-color: rgba(221, 9, 140, 0.4065013527870178); padding: 1px 5px; border: solid 3px ; border-color: rgba(221, 9, 140, 1); #EFEFEF\">who</span> <span style=\"background-color: rgba(221, 9, 140, 0.428159236907959); padding: 1px 5px; border: solid 3px ; border-color: rgba(221, 9, 140, 1); #EFEFEF\">read</span> <span style=\"background-color: rgba(221, 9, 140, 0.4236665964126587); padding: 1px 5px; border: solid 3px ; border-color: rgba(221, 9, 140, 1); #EFEFEF\">the</span> <span style=\"background-color: rgba(221, 9, 140, 0.4260873794555664); padding: 1px 5px; border: solid 3px ; border-color: rgba(221, 9, 140, 1); #EFEFEF\">book</span> <span style=\"background-color: rgba(221, 9, 140, 0.43467140197753906); padding: 1px 5px; border: solid 3px ; border-color: rgba(221, 9, 140, 1); #EFEFEF\">to</span> <span style=\"background-color: rgba(221, 9, 140, 0.4610259234905243); padding: 1px 5px; border: solid 3px ; border-color: rgba(221, 9, 140, 1); #EFEFEF\">be</span> <span style=\"background-color: rgba(221, 9, 140, 0.4476318657398224); padding: 1px 5px; border: solid 3px ; border-color: rgba(221, 9, 140, 1); #EFEFEF\">part</span> <span style=\"background-color: rgba(221, 9, 140, 0.4166734218597412); padding: 1px 5px; border: solid 3px ; border-color: rgba(221, 9, 140, 1); #EFEFEF\">of</span> <span style=\"background-color: rgba(221, 9, 140, 0.4381478428840637); padding: 1px 5px; border: solid 3px ; border-color: rgba(221, 9, 140, 1); #EFEFEF\">the</span> <span style=\"background-color: rgba(221, 9, 140, 0.4753464162349701); padding: 1px 5px; border: solid 3px ; border-color: rgba(221, 9, 140, 1); #EFEFEF\">audience</span> <span style=\"background-color: rgba(221, 9, 140, 0.41100484132766724); padding: 1px 5px; border: solid 3px ; border-color: rgba(221, 9, 140, 1); #EFEFEF\">.</span> </div>"
      ],
      "text/plain": [
       "<IPython.core.display.HTML object>"
      ]
     },
     "metadata": {},
     "output_type": "display_data"
    }
   ],
   "source": [
    "plot_reviews_exp(segments_pos, u_segments_pos, factorization_pos, global_importance_pos,\n",
    "                 segments_neg, u_segments_neg, factorization_neg, global_importance_neg,\n",
    "                 custom_samples=True, samples_to_test=[reviews_neg_text, reviews_pos_text], extract_fct='sentence')"
   ]
  },
  {
   "cell_type": "markdown",
   "id": "00d7db00-5aa2-443e-8c71-8aff2a7779dc",
   "metadata": {
    "jp-MarkdownHeadingCollapsed": true,
    "tags": []
   },
   "source": [
    "### Objective 3: Performance on Sarcasm"
   ]
  },
  {
   "cell_type": "markdown",
   "id": "3f394bef-6506-4c89-b13d-ba3f8df6ce10",
   "metadata": {
    "jp-MarkdownHeadingCollapsed": true,
    "tags": []
   },
   "source": [
    "#### Results of Original Method"
   ]
  },
  {
   "cell_type": "code",
   "execution_count": 45,
   "id": "16669933-5132-400d-9a55-731197dc8f7d",
   "metadata": {
    "tags": []
   },
   "outputs": [],
   "source": [
    "sarcasm_reviews_neg = [\n",
    "    [\"Wow, what a masterpiece! I can't believe I wasted two hours of my life on this.\", 'negative'],\n",
    "    [\"Oh, great, another rom-com. Just what the world needed.\", 'negative'],\n",
    "    [\"I've always wanted to watch a movie with endless plot holes. My dreams have come true!\", 'negative'],\n",
    "    [\"This movie is a real game-changer. It changed the game of wasting my time.\", 'negative']\n",
    "]\n",
    "\n",
    "sarcasm_reviews_pos = [\n",
    "    [\"Bravo, the director is a true genius. I couldn't understand a thing in the movie!\", 'positive'],\n",
    "    [\"This movie is so bad, it's almost good. Almost.\", 'positive'],\n",
    "    [\"Oscar-worthy performance by the lead actor... if the Oscars had a category for overacting.\", 'positive'],\n",
    "    [\"I'm speechless. Literally. I lost the ability to speak during this cinematic marvel.\", 'positive']\n",
    "]\n",
    "\n",
    "sarcasm_reviews_text_neg = [text[0] for text in sarcasm_reviews_neg]\n",
    "sarcasm_reviews_text_pos = [text[0] for text in sarcasm_reviews_pos]\n",
    "\n",
    "sarcasm_reviews_labels_neg = [text[1] for text in sarcasm_reviews_neg]\n",
    "sarcasm_reviews_labels_pos = [text[1] for text in sarcasm_reviews_pos]\n",
    "\n",
    "sarcasm_reviews = sarcasm_reviews_neg + sarcasm_reviews_pos"
   ]
  },
  {
   "cell_type": "code",
   "execution_count": 56,
   "id": "8f102eda-617f-40fe-a3a2-3c8dc537524d",
   "metadata": {
    "tags": []
   },
   "outputs": [
    {
     "name": "stdout",
     "output_type": "stream",
     "text": [
      "Accuracy of RoBERTa model on sarcastic samples: 0.5\n"
     ]
    }
   ],
   "source": [
    "# from transformers import RobertaTokenizerFast, RobertaForSequenceClassification, TextClassificationPipeline\n",
    "# from sklearn.metrics import accuracy_score\n",
    "\n",
    "# tokenizer = RobertaTokenizerFast.from_pretrained(\"wrmurray/roberta-base-finetuned-imdb\")\n",
    "# model = RobertaForSequenceClassification.from_pretrained(\"wrmurray/roberta-base-finetuned-imdb\").to('cpu')\n",
    "\n",
    "# # Put model into evaluation mode\n",
    "# model = model.eval()\n",
    "\n",
    "# # Create a pipeline for sentiment analysis\n",
    "# pipe = TextClassificationPipeline(model=model, tokenizer=tokenizer, top_k=None)\n",
    "\n",
    "# # Get the predictions from the pipeline\n",
    "# predictions = pipe(sarcasm_reviews_text_neg + sarcasm_reviews_text_pos)\n",
    "\n",
    "# # Convert the predicted labels to numeric format\n",
    "# predictions = [1 if label == 'LABEL_1' else 0 for label in predictions]\n",
    "\n",
    "# # Convert the true labels to numeric format\n",
    "# true_labels = sarcasm_reviews_labels_neg + sarcasm_reviews_labels_pos\n",
    "# true_labels = [1 if label == 'positive' else 0 for label in true_labels]\n",
    "\n",
    "# # Compute the accuracy\n",
    "# accuracy = accuracy_score(true_labels, predictions)\n",
    "\n",
    "# print(\"Accuracy of RoBERTa model on sarcastic samples:\", accuracy)"
   ]
  },
  {
   "cell_type": "code",
   "execution_count": 58,
   "id": "6651dc26-494e-41d7-a8f0-1519154b86eb",
   "metadata": {
    "tags": []
   },
   "outputs": [
    {
     "name": "stdout",
     "output_type": "stream",
     "text": [
      "Accuracy of custom RoBERTa model on sarcastic samples: tensor(0.3750, device='cuda:0')\n"
     ]
    }
   ],
   "source": [
    "features, labels = batch_predict(model.features, tokenizer, np.array(sarcasm_reviews), batch_size, device)\n",
    "\n",
    "y_pred = model.end_model(features)\n",
    "\n",
    "print(\"Accuracy of custom RoBERTa model on sarcastic samples:\", torch.mean((torch.argmax(y_pred, -1) == labels.to(device)).float()))"
   ]
  },
  {
   "cell_type": "code",
   "execution_count": 59,
   "id": "db78cacf-d2bd-4cb9-8698-9cbcb983487d",
   "metadata": {
    "collapsed": true,
    "jupyter": {
     "outputs_hidden": true
    },
    "tags": []
   },
   "outputs": [
    {
     "data": {
      "text/html": [
       "<div style='display: flex; width: 400px; flex-wrap: wrap'><span style=\"background-color: rgba(9, 221, 55,  0.5); padding: 1px 5px; border: solid 3px ; border-color: rgba(9, 221, 55,  1); #EFEFEF\">Positive label: concept1 </span> <span style=\"background-color: rgba(9, 221, 161,  0.5); padding: 1px 5px; border: solid 3px ; border-color: rgba(9, 221, 161,  1); #EFEFEF\">Positive label: concept2 </span> <span style=\"background-color: rgba(221, 9, 34,  0.5); padding: 1px 5px; border: solid 3px ; border-color: rgba(221, 9, 34,  1); #EFEFEF\">Negative label: concept1 </span> <span style=\"background-color: rgba(221, 9, 140, 0.5); padding: 1px 5px; border: solid 3px ; border-color: rgba(221, 9, 140, 1); #EFEFEF\">Negative label: concept2 </span> <span style=\"background-color: rgba(221, 90, 9,  0.5); padding: 1px 5px; border: solid 3px ; border-color: rgba(221, 90, 9,  1); #EFEFEF\">Negative label: concept3 </span> </div>"
      ],
      "text/plain": [
       "<IPython.core.display.HTML object>"
      ]
     },
     "metadata": {},
     "output_type": "display_data"
    },
    {
     "data": {
      "text/html": [
       "<br><br>"
      ],
      "text/plain": [
       "<IPython.core.display.HTML object>"
      ]
     },
     "metadata": {},
     "output_type": "display_data"
    },
    {
     "data": {
      "text/html": [
       "<div style='display: flex; width: 400px; flex-wrap: wrap'><span style=\"background-color: rgba(233,30,99,0);  padding: 1px 5px; border: solid 3px ; border-color:  rgba(233,30,99,0); #EFEFEF\">Bravo</span> <span style=\"background-color: rgba(233,30,99,0);  padding: 1px 5px; border: solid 3px ; border-color:  rgba(233,30,99,0); #EFEFEF\">the director</span> <span style=\"background-color: rgba(233,30,99,0);  padding: 1px 5px; border: solid 3px ; border-color:  rgba(233,30,99,0); #EFEFEF\">is</span> <span style=\"background-color: rgba(233,30,99,0);  padding: 1px 5px; border: solid 3px ; border-color:  rgba(233,30,99,0); #EFEFEF\">a true genius</span> <span style=\"background-color: rgba(233,30,99,0);  padding: 1px 5px; border: solid 3px ; border-color:  rgba(233,30,99,0); #EFEFEF\">I</span> <span style=\"background-color: rgba(233,30,99,0);  padding: 1px 5px; border: solid 3px ; border-color:  rgba(233,30,99,0); #EFEFEF\">couldn't understand</span> <span style=\"background-color: rgba(233,30,99,0);  padding: 1px 5px; border: solid 3px ; border-color:  rgba(233,30,99,0); #EFEFEF\">a thing</span> <span style=\"background-color: rgba(233,30,99,0);  padding: 1px 5px; border: solid 3px ; border-color:  rgba(233,30,99,0); #EFEFEF\">in</span> <span style=\"background-color: rgba(233,30,99,0);  padding: 1px 5px; border: solid 3px ; border-color:  rgba(233,30,99,0); #EFEFEF\">the movie</span> </div>"
      ],
      "text/plain": [
       "<IPython.core.display.HTML object>"
      ]
     },
     "metadata": {},
     "output_type": "display_data"
    },
    {
     "data": {
      "text/html": [
       "<br><br>"
      ],
      "text/plain": [
       "<IPython.core.display.HTML object>"
      ]
     },
     "metadata": {},
     "output_type": "display_data"
    },
    {
     "data": {
      "text/html": [
       "<div style='display: flex; width: 400px; flex-wrap: wrap'><span style=\"background-color: rgba(233,30,99,0);  padding: 1px 5px; border: solid 3px ; border-color:  rgba(233,30,99,0); #EFEFEF\">This movie</span> <span style=\"background-color: rgba(233,30,99,0);  padding: 1px 5px; border: solid 3px ; border-color:  rgba(233,30,99,0); #EFEFEF\">is</span> <span style=\"background-color: rgba(221, 9, 140, 0.4151531457901001); padding: 1px 5px; border: solid 3px ; border-color: rgba(221, 9, 140, 1); #EFEFEF\">so bad</span> <span style=\"background-color: rgba(233,30,99,0);  padding: 1px 5px; border: solid 3px ; border-color:  rgba(233,30,99,0); #EFEFEF\">it</span> <span style=\"background-color: rgba(233,30,99,0);  padding: 1px 5px; border: solid 3px ; border-color:  rgba(233,30,99,0); #EFEFEF\">'s</span> <span style=\"background-color: rgba(221, 9, 140, 0.3708072304725647); padding: 1px 5px; border: solid 3px ; border-color: rgba(221, 9, 140, 1); #EFEFEF\">almost good</span> <span style=\"background-color: rgba(233,30,99,0);  padding: 1px 5px; border: solid 3px ; border-color:  rgba(233,30,99,0); #EFEFEF\">Almost</span> </div>"
      ],
      "text/plain": [
       "<IPython.core.display.HTML object>"
      ]
     },
     "metadata": {},
     "output_type": "display_data"
    },
    {
     "data": {
      "text/html": [
       "<br><br>"
      ],
      "text/plain": [
       "<IPython.core.display.HTML object>"
      ]
     },
     "metadata": {},
     "output_type": "display_data"
    },
    {
     "data": {
      "text/html": [
       "<div style='display: flex; width: 400px; flex-wrap: wrap'><span style=\"background-color: rgba(233,30,99,0);  padding: 1px 5px; border: solid 3px ; border-color:  rgba(233,30,99,0); #EFEFEF\">Oscar-worthy performance</span> <span style=\"background-color: rgba(233,30,99,0);  padding: 1px 5px; border: solid 3px ; border-color:  rgba(233,30,99,0); #EFEFEF\">by</span> <span style=\"background-color: rgba(233,30,99,0);  padding: 1px 5px; border: solid 3px ; border-color:  rgba(233,30,99,0); #EFEFEF\">the lead actor</span> <span style=\"background-color: rgba(233,30,99,0);  padding: 1px 5px; border: solid 3px ; border-color:  rgba(233,30,99,0); #EFEFEF\">if</span> <span style=\"background-color: rgba(233,30,99,0);  padding: 1px 5px; border: solid 3px ; border-color:  rgba(233,30,99,0); #EFEFEF\">the Oscars</span> <span style=\"background-color: rgba(233,30,99,0);  padding: 1px 5px; border: solid 3px ; border-color:  rgba(233,30,99,0); #EFEFEF\">had</span> <span style=\"background-color: rgba(233,30,99,0);  padding: 1px 5px; border: solid 3px ; border-color:  rgba(233,30,99,0); #EFEFEF\">a category</span> <span style=\"background-color: rgba(233,30,99,0);  padding: 1px 5px; border: solid 3px ; border-color:  rgba(233,30,99,0); #EFEFEF\">for</span> <span style=\"background-color: rgba(233,30,99,0);  padding: 1px 5px; border: solid 3px ; border-color:  rgba(233,30,99,0); #EFEFEF\">overacting</span> </div>"
      ],
      "text/plain": [
       "<IPython.core.display.HTML object>"
      ]
     },
     "metadata": {},
     "output_type": "display_data"
    },
    {
     "data": {
      "text/html": [
       "<br><br>"
      ],
      "text/plain": [
       "<IPython.core.display.HTML object>"
      ]
     },
     "metadata": {},
     "output_type": "display_data"
    },
    {
     "data": {
      "text/html": [
       "<div style='display: flex; width: 400px; flex-wrap: wrap'><span style=\"background-color: rgba(233,30,99,0);  padding: 1px 5px; border: solid 3px ; border-color:  rgba(233,30,99,0); #EFEFEF\">I</span> <span style=\"background-color: rgba(233,30,99,0);  padding: 1px 5px; border: solid 3px ; border-color:  rgba(233,30,99,0); #EFEFEF\">'m</span> <span style=\"background-color: rgba(233,30,99,0);  padding: 1px 5px; border: solid 3px ; border-color:  rgba(233,30,99,0); #EFEFEF\">speechless</span> <span style=\"background-color: rgba(233,30,99,0);  padding: 1px 5px; border: solid 3px ; border-color:  rgba(233,30,99,0); #EFEFEF\">Literally</span> <span style=\"background-color: rgba(233,30,99,0);  padding: 1px 5px; border: solid 3px ; border-color:  rgba(233,30,99,0); #EFEFEF\">I</span> <span style=\"background-color: rgba(233,30,99,0);  padding: 1px 5px; border: solid 3px ; border-color:  rgba(233,30,99,0); #EFEFEF\">lost</span> <span style=\"background-color: rgba(233,30,99,0);  padding: 1px 5px; border: solid 3px ; border-color:  rgba(233,30,99,0); #EFEFEF\">the ability</span> <span style=\"background-color: rgba(9, 221, 161,  0.6897050738334656); padding: 1px 5px; border: solid 3px ; border-color: rgba(9, 221, 161,  1); #EFEFEF\">to speak</span> <span style=\"background-color: rgba(9, 221, 161,  0.4470774233341217); padding: 1px 5px; border: solid 3px ; border-color: rgba(9, 221, 161,  1); #EFEFEF\">during</span> <span style=\"background-color: rgba(9, 221, 161,  0.9998369216918945); padding: 1px 5px; border: solid 3px ; border-color: rgba(9, 221, 161,  1); #EFEFEF\">this cinematic marvel</span> </div>"
      ],
      "text/plain": [
       "<IPython.core.display.HTML object>"
      ]
     },
     "metadata": {},
     "output_type": "display_data"
    },
    {
     "data": {
      "text/html": [
       "<br><br>"
      ],
      "text/plain": [
       "<IPython.core.display.HTML object>"
      ]
     },
     "metadata": {},
     "output_type": "display_data"
    },
    {
     "data": {
      "text/html": [
       "<div style='display: flex; width: 400px; flex-wrap: wrap'><span style=\"background-color: rgba(9, 221, 161,  0.5616570115089417); padding: 1px 5px; border: solid 3px ; border-color: rgba(9, 221, 161,  1); #EFEFEF\">Wow</span> <span style=\"background-color: rgba(9, 221, 161,  0.5616570115089417); padding: 1px 5px; border: solid 3px ; border-color: rgba(9, 221, 161,  1); #EFEFEF\">what</span> <span style=\"background-color: rgba(9, 221, 161,  0.5616570115089417); padding: 1px 5px; border: solid 3px ; border-color: rgba(9, 221, 161,  1); #EFEFEF\">a masterpiece</span> <span style=\"background-color: rgba(9, 221, 161,  0.5616570115089417); padding: 1px 5px; border: solid 3px ; border-color: rgba(9, 221, 161,  1); #EFEFEF\">I</span> <span style=\"background-color: rgba(9, 221, 161,  0.5616570115089417); padding: 1px 5px; border: solid 3px ; border-color: rgba(9, 221, 161,  1); #EFEFEF\">can't believe</span> <span style=\"background-color: rgba(9, 221, 161,  0.5616570115089417); padding: 1px 5px; border: solid 3px ; border-color: rgba(9, 221, 161,  1); #EFEFEF\">I</span> <span style=\"background-color: rgba(233,30,99,0);  padding: 1px 5px; border: solid 3px ; border-color:  rgba(233,30,99,0); #EFEFEF\">wasted</span> <span style=\"background-color: rgba(233,30,99,0);  padding: 1px 5px; border: solid 3px ; border-color:  rgba(233,30,99,0); #EFEFEF\">two hours</span> <span style=\"background-color: rgba(9, 221, 161,  0.4818190932273865); padding: 1px 5px; border: solid 3px ; border-color: rgba(9, 221, 161,  1); #EFEFEF\">of</span> <span style=\"background-color: rgba(9, 221, 161,  0.3755823075771332); padding: 1px 5px; border: solid 3px ; border-color: rgba(9, 221, 161,  1); #EFEFEF\">my life</span> <span style=\"background-color: rgba(9, 221, 161,  0.5616570115089417); padding: 1px 5px; border: solid 3px ; border-color: rgba(9, 221, 161,  1); #EFEFEF\">on</span> <span style=\"background-color: rgba(9, 221, 161,  0.4286103844642639); padding: 1px 5px; border: solid 3px ; border-color: rgba(9, 221, 161,  1); #EFEFEF\">this</span> </div>"
      ],
      "text/plain": [
       "<IPython.core.display.HTML object>"
      ]
     },
     "metadata": {},
     "output_type": "display_data"
    },
    {
     "data": {
      "text/html": [
       "<br><br>"
      ],
      "text/plain": [
       "<IPython.core.display.HTML object>"
      ]
     },
     "metadata": {},
     "output_type": "display_data"
    },
    {
     "data": {
      "text/html": [
       "<div style='display: flex; width: 400px; flex-wrap: wrap'><span style=\"background-color: rgba(9, 221, 161,  0.4721106290817261); padding: 1px 5px; border: solid 3px ; border-color: rgba(9, 221, 161,  1); #EFEFEF\">Oh</span> <span style=\"background-color: rgba(9, 221, 161,  0.6826608777046204); padding: 1px 5px; border: solid 3px ; border-color: rgba(9, 221, 161,  1); #EFEFEF\">great</span> <span style=\"background-color: rgba(9, 221, 55,  0.2737833857536316); padding: 1px 5px; border: solid 3px ; border-color: rgba(9, 221, 55,  1); #EFEFEF\">another rom-com</span> <span style=\"background-color: rgba(9, 221, 161,  0.4204782247543335); padding: 1px 5px; border: solid 3px ; border-color: rgba(9, 221, 161,  1); #EFEFEF\">Just</span> <span style=\"background-color: rgba(233,30,99,0);  padding: 1px 5px; border: solid 3px ; border-color:  rgba(233,30,99,0); #EFEFEF\">what</span> <span style=\"background-color: rgba(9, 221, 161,  0.7129051089286804); padding: 1px 5px; border: solid 3px ; border-color: rgba(9, 221, 161,  1); #EFEFEF\">the world</span> <span style=\"background-color: rgba(9, 221, 161,  0.37051936984062195); padding: 1px 5px; border: solid 3px ; border-color: rgba(9, 221, 161,  1); #EFEFEF\">needed</span> </div>"
      ],
      "text/plain": [
       "<IPython.core.display.HTML object>"
      ]
     },
     "metadata": {},
     "output_type": "display_data"
    },
    {
     "data": {
      "text/html": [
       "<br><br>"
      ],
      "text/plain": [
       "<IPython.core.display.HTML object>"
      ]
     },
     "metadata": {},
     "output_type": "display_data"
    },
    {
     "data": {
      "text/html": [
       "<div style='display: flex; width: 400px; flex-wrap: wrap'><span style=\"background-color: rgba(233,30,99,0);  padding: 1px 5px; border: solid 3px ; border-color:  rgba(233,30,99,0); #EFEFEF\">I</span> <span style=\"background-color: rgba(233,30,99,0);  padding: 1px 5px; border: solid 3px ; border-color:  rgba(233,30,99,0); #EFEFEF\">'ve always wanted to watch</span> <span style=\"background-color: rgba(233,30,99,0);  padding: 1px 5px; border: solid 3px ; border-color:  rgba(233,30,99,0); #EFEFEF\">a movie</span> <span style=\"background-color: rgba(233,30,99,0);  padding: 1px 5px; border: solid 3px ; border-color:  rgba(233,30,99,0); #EFEFEF\">with</span> <span style=\"background-color: rgba(233,30,99,0);  padding: 1px 5px; border: solid 3px ; border-color:  rgba(233,30,99,0); #EFEFEF\">endless plot holes</span> <span style=\"background-color: rgba(233,30,99,0);  padding: 1px 5px; border: solid 3px ; border-color:  rgba(233,30,99,0); #EFEFEF\">My dreams</span> <span style=\"background-color: rgba(233,30,99,0);  padding: 1px 5px; border: solid 3px ; border-color:  rgba(233,30,99,0); #EFEFEF\">have come</span> <span style=\"background-color: rgba(233,30,99,0);  padding: 1px 5px; border: solid 3px ; border-color:  rgba(233,30,99,0); #EFEFEF\">true</span> </div>"
      ],
      "text/plain": [
       "<IPython.core.display.HTML object>"
      ]
     },
     "metadata": {},
     "output_type": "display_data"
    },
    {
     "data": {
      "text/html": [
       "<br><br>"
      ],
      "text/plain": [
       "<IPython.core.display.HTML object>"
      ]
     },
     "metadata": {},
     "output_type": "display_data"
    },
    {
     "data": {
      "text/html": [
       "<div style='display: flex; width: 400px; flex-wrap: wrap'><span style=\"background-color: rgba(233,30,99,0);  padding: 1px 5px; border: solid 3px ; border-color:  rgba(233,30,99,0); #EFEFEF\">This movie</span> <span style=\"background-color: rgba(233,30,99,0);  padding: 1px 5px; border: solid 3px ; border-color:  rgba(233,30,99,0); #EFEFEF\">is</span> <span style=\"background-color: rgba(233,30,99,0);  padding: 1px 5px; border: solid 3px ; border-color:  rgba(233,30,99,0); #EFEFEF\">a real game-changer</span> <span style=\"background-color: rgba(9, 221, 161,  0.34189966320991516); padding: 1px 5px; border: solid 3px ; border-color: rgba(9, 221, 161,  1); #EFEFEF\">It</span> <span style=\"background-color: rgba(9, 221, 161,  0.999160647392273); padding: 1px 5px; border: solid 3px ; border-color: rgba(9, 221, 161,  1); #EFEFEF\">changed</span> <span style=\"background-color: rgba(9, 221, 161,  0.62833571434021); padding: 1px 5px; border: solid 3px ; border-color: rgba(9, 221, 161,  1); #EFEFEF\">the game</span> <span style=\"background-color: rgba(9, 221, 161,  0.77948397397995); padding: 1px 5px; border: solid 3px ; border-color: rgba(9, 221, 161,  1); #EFEFEF\">of</span> <span style=\"background-color: rgba(9, 221, 161,  0.9222185611724854); padding: 1px 5px; border: solid 3px ; border-color: rgba(9, 221, 161,  1); #EFEFEF\">wasting</span> <span style=\"background-color: rgba(9, 221, 161,  0.761153519153595); padding: 1px 5px; border: solid 3px ; border-color: rgba(9, 221, 161,  1); #EFEFEF\">my time</span> </div>"
      ],
      "text/plain": [
       "<IPython.core.display.HTML object>"
      ]
     },
     "metadata": {},
     "output_type": "display_data"
    },
    {
     "data": {
      "text/html": [
       "<br><br>"
      ],
      "text/plain": [
       "<IPython.core.display.HTML object>"
      ]
     },
     "metadata": {},
     "output_type": "display_data"
    }
   ],
   "source": [
    "plot_reviews_exp(segments_pos, u_segments_pos, factorization_pos, global_importance_pos,\n",
    "                 segments_neg, u_segments_neg, factorization_neg, global_importance_neg,\n",
    "                 custom_samples=True, samples_to_test=[sarcasm_reviews_text_neg, sarcasm_reviews_text_pos])"
   ]
  },
  {
   "cell_type": "markdown",
   "id": "972d238a-06a0-4cc9-9aa8-d8b5f25285b0",
   "metadata": {
    "jp-MarkdownHeadingCollapsed": true,
    "tags": []
   },
   "source": [
    "#### Dataset"
   ]
  },
  {
   "cell_type": "code",
   "execution_count": 67,
   "id": "1900ae93-6305-4306-94fb-ab6e8e6bffa0",
   "metadata": {
    "tags": []
   },
   "outputs": [],
   "source": [
    "import ast\n",
    "from sklearn.model_selection import train_test_split\n",
    "\n",
    "with open(\"data/sarcastic_samples_neg.txt\", \"r\") as file:\n",
    "    content = file.read()\n",
    "    sarcastic_samples_neg = ast.literal_eval(content)\n",
    "\n",
    "with open(\"data/sarcastic_samples_pos.txt\", \"r\") as file:\n",
    "    content = file.read()\n",
    "    sarcastic_samples_pos = ast.literal_eval(content)\n",
    "\n",
    "sarcastic_samples = np.array(sarcastic_samples_neg + sarcastic_samples_pos[:4])\n",
    "sarcasm_reviews_text, sarcasm_reviews_labels = zip(*sarcastic_samples)\n",
    "\n",
    "X_train, X_test, y_train, y_test = train_test_split(sarcasm_reviews_text, sarcasm_reviews_labels, test_size=0.2, random_state=42)\n",
    "\n",
    "test_data_np = np.array(list(zip(X_test, y_test)))"
   ]
  },
  {
   "cell_type": "markdown",
   "id": "d5808906-9b16-45ab-941c-7929825f8d0f",
   "metadata": {
    "jp-MarkdownHeadingCollapsed": true,
    "tags": []
   },
   "source": [
    "#### Before Finetune"
   ]
  },
  {
   "cell_type": "code",
   "execution_count": 30,
   "id": "472b0e89-9fbc-4e3c-8508-205875bd24b7",
   "metadata": {
    "tags": []
   },
   "outputs": [
    {
     "name": "stdout",
     "output_type": "stream",
     "text": [
      "Accuracy: 0.1\n",
      "\n",
      "Confusion Matrix:\n",
      "[[ 3 28]\n",
      " [ 0  0]]\n",
      "\n",
      "Classification Report:\n",
      "              precision    recall  f1-score   support\n",
      "\n",
      "         0.0       1.00      0.10      0.18        31\n",
      "         1.0       0.00      1.00      0.00         0\n",
      "\n",
      "    accuracy                           0.10        31\n",
      "   macro avg       0.50      0.55      0.09        31\n",
      "weighted avg       1.00      0.10      0.18        31\n",
      "\n"
     ]
    }
   ],
   "source": [
    "labels, predictions = predict(model, tokenizer, test_data_np, with_forward=False, device=device)\n",
    "evaluate(labels, predictions)"
   ]
  },
  {
   "cell_type": "code",
   "execution_count": 31,
   "id": "6fab89f9-1ab6-428a-b75b-fd0fa7da359b",
   "metadata": {
    "tags": []
   },
   "outputs": [],
   "source": [
    "import pickle\n",
    "\n",
    "# Load raw dataset and excerpts\n",
    "\n",
    "raw_dataset_pos = pickle.load(open(parent_path + \"raw_dataset_pos.pkl\", \"rb\"))\n",
    "raw_dataset_neg = pickle.load(open(parent_path + \"raw_dataset_neg.pkl\", \"rb\"))\n",
    "excerpt_dataset_pos = pickle.load(open(parent_path + \"excerpt_dataset_pos.pkl\", \"rb\"))\n",
    "excerpt_dataset_neg = pickle.load(open(parent_path + \"excerpt_dataset_neg.pkl\", \"rb\"))\n",
    "\n",
    "# Load sentences and global importances for positive class\n",
    "\n",
    "segments_pos = pickle.load(open(parent_path + \"segments_pos.pkl\",'rb'))\n",
    "u_segments_pos = pickle.load(open(parent_path + \"u_segments_pos.pkl\",'rb'))\n",
    "factorization_pos = pickle.load(open(parent_path + \"factorization_pos.pkl\",'rb'))\n",
    "global_importance_pos = pickle.load(open(parent_path + \"global_importance_pos.pkl\",'rb'))\n",
    "\n",
    "# Load sentences and global importances for negative class\n",
    "\n",
    "segments_neg = pickle.load(open(parent_path + \"segments_neg.pkl\",'rb'))\n",
    "u_segments_neg = pickle.load(open(parent_path + \"u_segments_neg.pkl\",'rb'))\n",
    "factorization_neg = pickle.load(open(parent_path + \"factorization_neg.pkl\",'rb'))\n",
    "global_importance_neg = pickle.load(open(parent_path + \"global_importance_neg.pkl\",'rb'))"
   ]
  },
  {
   "cell_type": "code",
   "execution_count": 33,
   "id": "b22379b1-01f8-4794-91f3-3b3686c034fa",
   "metadata": {
    "collapsed": true,
    "jupyter": {
     "outputs_hidden": true
    },
    "tags": []
   },
   "outputs": [
    {
     "data": {
      "text/html": [
       "<div style='display: flex; width: 400px; flex-wrap: wrap'><span style=\"background-color: rgba(9, 221, 55,  0.5); padding: 1px 5px; border: solid 3px ; border-color: rgba(9, 221, 55,  1); #EFEFEF\">Positive label: concept1 </span> <span style=\"background-color: rgba(9, 221, 161,  0.5); padding: 1px 5px; border: solid 3px ; border-color: rgba(9, 221, 161,  1); #EFEFEF\">Positive label: concept2 </span> <span style=\"background-color: rgba(9, 175, 221,  0.5); padding: 1px 5px; border: solid 3px ; border-color: rgba(9, 175, 221,  1); #EFEFEF\">Positive label: concept3 </span> <span style=\"background-color: rgba(221, 9, 34,  0.5); padding: 1px 5px; border: solid 3px ; border-color: rgba(221, 9, 34,  1); #EFEFEF\">Negative label: concept1 </span> <span style=\"background-color: rgba(221, 9, 140, 0.5); padding: 1px 5px; border: solid 3px ; border-color: rgba(221, 9, 140, 1); #EFEFEF\">Negative label: concept2 </span> <span style=\"background-color: rgba(221, 90, 9,  0.5); padding: 1px 5px; border: solid 3px ; border-color: rgba(221, 90, 9,  1); #EFEFEF\">Negative label: concept3 </span> </div>"
      ],
      "text/plain": [
       "<IPython.core.display.HTML object>"
      ]
     },
     "metadata": {},
     "output_type": "display_data"
    },
    {
     "data": {
      "text/html": [
       "<br><br>"
      ],
      "text/plain": [
       "<IPython.core.display.HTML object>"
      ]
     },
     "metadata": {},
     "output_type": "display_data"
    },
    {
     "data": {
      "text/html": [
       "<div style='display: flex; width: 400px; flex-wrap: wrap'><span style=\"background-color: rgba(9, 221, 161,  0.6142613291740417); padding: 1px 5px; border: solid 3px ; border-color: rgba(9, 221, 161,  1); #EFEFEF\">How wonderful</span> <span style=\"background-color: rgba(233,30,99,0);  padding: 1px 5px; border: solid 3px ; border-color:  rgba(233,30,99,0); #EFEFEF\">my phone battery</span> <span style=\"background-color: rgba(233,30,99,0);  padding: 1px 5px; border: solid 3px ; border-color:  rgba(233,30,99,0); #EFEFEF\">died</span> <span style=\"background-color: rgba(233,30,99,0);  padding: 1px 5px; border: solid 3px ; border-color:  rgba(233,30,99,0); #EFEFEF\">right when</span> <span style=\"background-color: rgba(233,30,99,0);  padding: 1px 5px; border: solid 3px ; border-color:  rgba(233,30,99,0); #EFEFEF\">I</span> <span style=\"background-color: rgba(233,30,99,0);  padding: 1px 5px; border: solid 3px ; border-color:  rgba(233,30,99,0); #EFEFEF\">needed to make</span> <span style=\"background-color: rgba(233,30,99,0);  padding: 1px 5px; border: solid 3px ; border-color:  rgba(233,30,99,0); #EFEFEF\">an important call</span> </div>"
      ],
      "text/plain": [
       "<IPython.core.display.HTML object>"
      ]
     },
     "metadata": {},
     "output_type": "display_data"
    },
    {
     "data": {
      "text/html": [
       "<div style='display: flex; width: 400px; flex-wrap: wrap'><span style=\"background-color: rgba(233,30,99,0);  padding: 1px 5px; border: solid 3px ; border-color:  rgba(233,30,99,0); #EFEFEF\">Another traffic jam</span> <span style=\"background-color: rgba(233,30,99,0);  padding: 1px 5px; border: solid 3px ; border-color:  rgba(233,30,99,0); #EFEFEF\">to make</span> <span style=\"background-color: rgba(9, 221, 161,  0.36415690183639526); padding: 1px 5px; border: solid 3px ; border-color: rgba(9, 221, 161,  1); #EFEFEF\">my commute</span> <span style=\"background-color: rgba(9, 175, 221,  0.9995965361595154); padding: 1px 5px; border: solid 3px ; border-color: rgba(9, 175, 221,  1); #EFEFEF\">even more enjoyable</span> </div>"
      ],
      "text/plain": [
       "<IPython.core.display.HTML object>"
      ]
     },
     "metadata": {},
     "output_type": "display_data"
    },
    {
     "data": {
      "text/html": [
       "<div style='display: flex; width: 400px; flex-wrap: wrap'><span style=\"background-color: rgba(9, 221, 161,  0.8380565643310547); padding: 1px 5px; border: solid 3px ; border-color: rgba(9, 221, 161,  1); #EFEFEF\">How amazing</span> <span style=\"background-color: rgba(233,30,99,0);  padding: 1px 5px; border: solid 3px ; border-color:  rgba(233,30,99,0); #EFEFEF\">the grocery store</span> <span style=\"background-color: rgba(233,30,99,0);  padding: 1px 5px; border: solid 3px ; border-color:  rgba(233,30,99,0); #EFEFEF\">is</span> <span style=\"background-color: rgba(233,30,99,0);  padding: 1px 5px; border: solid 3px ; border-color:  rgba(233,30,99,0); #EFEFEF\">out</span> <span style=\"background-color: rgba(233,30,99,0);  padding: 1px 5px; border: solid 3px ; border-color:  rgba(233,30,99,0); #EFEFEF\">of</span> <span style=\"background-color: rgba(233,30,99,0);  padding: 1px 5px; border: solid 3px ; border-color:  rgba(233,30,99,0); #EFEFEF\">coffee</span> <span style=\"background-color: rgba(233,30,99,0);  padding: 1px 5px; border: solid 3px ; border-color:  rgba(233,30,99,0); #EFEFEF\">Just</span> <span style=\"background-color: rgba(233,30,99,0);  padding: 1px 5px; border: solid 3px ; border-color:  rgba(233,30,99,0); #EFEFEF\">when</span> <span style=\"background-color: rgba(233,30,99,0);  padding: 1px 5px; border: solid 3px ; border-color:  rgba(233,30,99,0); #EFEFEF\">I</span> <span style=\"background-color: rgba(233,30,99,0);  padding: 1px 5px; border: solid 3px ; border-color:  rgba(233,30,99,0); #EFEFEF\">needed</span> <span style=\"background-color: rgba(233,30,99,0);  padding: 1px 5px; border: solid 3px ; border-color:  rgba(233,30,99,0); #EFEFEF\">it</span> </div>"
      ],
      "text/plain": [
       "<IPython.core.display.HTML object>"
      ]
     },
     "metadata": {},
     "output_type": "display_data"
    },
    {
     "data": {
      "text/html": [
       "<div style='display: flex; width: 400px; flex-wrap: wrap'><span style=\"background-color: rgba(233,30,99,0);  padding: 1px 5px; border: solid 3px ; border-color:  rgba(233,30,99,0); #EFEFEF\">Just</span> <span style=\"background-color: rgba(9, 175, 221,  0.5577126145362854); padding: 1px 5px; border: solid 3px ; border-color: rgba(9, 175, 221,  1); #EFEFEF\">when</span> <span style=\"background-color: rgba(233,30,99,0);  padding: 1px 5px; border: solid 3px ; border-color:  rgba(233,30,99,0); #EFEFEF\">I</span> <span style=\"background-color: rgba(233,30,99,0);  padding: 1px 5px; border: solid 3px ; border-color:  rgba(233,30,99,0); #EFEFEF\">thought</span> <span style=\"background-color: rgba(233,30,99,0);  padding: 1px 5px; border: solid 3px ; border-color:  rgba(233,30,99,0); #EFEFEF\">my day</span> <span style=\"background-color: rgba(9, 175, 221,  0.6815569996833801); padding: 1px 5px; border: solid 3px ; border-color: rgba(9, 175, 221,  1); #EFEFEF\">couldn't get</span> <span style=\"background-color: rgba(233,30,99,0);  padding: 1px 5px; border: solid 3px ; border-color:  rgba(233,30,99,0); #EFEFEF\">any better</span> <span style=\"background-color: rgba(233,30,99,0);  padding: 1px 5px; border: solid 3px ; border-color:  rgba(233,30,99,0); #EFEFEF\">my coffee machine</span> <span style=\"background-color: rgba(233,30,99,0);  padding: 1px 5px; border: solid 3px ; border-color:  rgba(233,30,99,0); #EFEFEF\">decided to go</span> <span style=\"background-color: rgba(233,30,99,0);  padding: 1px 5px; border: solid 3px ; border-color:  rgba(233,30,99,0); #EFEFEF\">on</span> <span style=\"background-color: rgba(9, 175, 221,  0.24613869190216064); padding: 1px 5px; border: solid 3px ; border-color: rgba(9, 175, 221,  1); #EFEFEF\">strike</span> <span style=\"background-color: rgba(233,30,99,0);  padding: 1px 5px; border: solid 3px ; border-color:  rgba(233,30,99,0); #EFEFEF\">I</span> <span style=\"background-color: rgba(233,30,99,0);  padding: 1px 5px; border: solid 3px ; border-color:  rgba(233,30,99,0); #EFEFEF\">love</span> <span style=\"background-color: rgba(233,30,99,0);  padding: 1px 5px; border: solid 3px ; border-color:  rgba(233,30,99,0); #EFEFEF\">a good caffeine withdrawal</span> </div>"
      ],
      "text/plain": [
       "<IPython.core.display.HTML object>"
      ]
     },
     "metadata": {},
     "output_type": "display_data"
    },
    {
     "data": {
      "text/html": [
       "<div style='display: flex; width: 400px; flex-wrap: wrap'><span style=\"background-color: rgba(9, 221, 161,  0.4264468252658844); padding: 1px 5px; border: solid 3px ; border-color: rgba(9, 221, 161,  1); #EFEFEF\">This movie</span> <span style=\"background-color: rgba(9, 221, 161,  0.8040101528167725); padding: 1px 5px; border: solid 3px ; border-color: rgba(9, 221, 161,  1); #EFEFEF\">truly</span> <span style=\"background-color: rgba(9, 221, 161,  0.4800105392932892); padding: 1px 5px; border: solid 3px ; border-color: rgba(9, 221, 161,  1); #EFEFEF\">pushes</span> <span style=\"background-color: rgba(9, 221, 161,  0.8452629446983337); padding: 1px 5px; border: solid 3px ; border-color: rgba(9, 221, 161,  1); #EFEFEF\">the boundaries</span> <span style=\"background-color: rgba(9, 221, 161,  0.9992363452911377); padding: 1px 5px; border: solid 3px ; border-color: rgba(9, 221, 161,  1); #EFEFEF\">of</span> <span style=\"background-color: rgba(9, 221, 161,  0.6700564622879028); padding: 1px 5px; border: solid 3px ; border-color: rgba(9, 221, 161,  1); #EFEFEF\">excellence</span> <span style=\"background-color: rgba(233,30,99,0);  padding: 1px 5px; border: solid 3px ; border-color:  rgba(233,30,99,0); #EFEFEF\">A tour de force</span> </div>"
      ],
      "text/plain": [
       "<IPython.core.display.HTML object>"
      ]
     },
     "metadata": {},
     "output_type": "display_data"
    },
    {
     "data": {
      "text/html": [
       "<div style='display: flex; width: 400px; flex-wrap: wrap'><span style=\"background-color: rgba(9, 221, 161,  0.9997791647911072); padding: 1px 5px; border: solid 3px ; border-color: rgba(9, 221, 161,  1); #EFEFEF\">Absolutely ecstatic</span> <span style=\"background-color: rgba(233,30,99,0);  padding: 1px 5px; border: solid 3px ; border-color:  rgba(233,30,99,0); #EFEFEF\">to find</span> <span style=\"background-color: rgba(233,30,99,0);  padding: 1px 5px; border: solid 3px ; border-color:  rgba(233,30,99,0); #EFEFEF\">out</span> <span style=\"background-color: rgba(9, 221, 161,  0.9997791647911072); padding: 1px 5px; border: solid 3px ; border-color: rgba(9, 221, 161,  1); #EFEFEF\">my favorite TV show</span> <span style=\"background-color: rgba(9, 175, 221,  0.2149142175912857); padding: 1px 5px; border: solid 3px ; border-color: rgba(9, 175, 221,  1); #EFEFEF\">decided to end</span> <span style=\"background-color: rgba(233,30,99,0);  padding: 1px 5px; border: solid 3px ; border-color:  rgba(233,30,99,0); #EFEFEF\">on</span> <span style=\"background-color: rgba(9, 175, 221,  0.296317994594574); padding: 1px 5px; border: solid 3px ; border-color: rgba(9, 175, 221,  1); #EFEFEF\">a cliffhanger</span> <span style=\"background-color: rgba(9, 221, 161,  0.21175312995910645); padding: 1px 5px; border: solid 3px ; border-color: rgba(9, 221, 161,  1); #EFEFEF\">The suspense</span> <span style=\"background-color: rgba(9, 175, 221,  0.2733980715274811); padding: 1px 5px; border: solid 3px ; border-color: rgba(9, 175, 221,  1); #EFEFEF\">is killing</span> <span style=\"background-color: rgba(233,30,99,0);  padding: 1px 5px; border: solid 3px ; border-color:  rgba(233,30,99,0); #EFEFEF\">me</span> <span style=\"background-color: rgba(9, 175, 221,  0.33010023832321167); padding: 1px 5px; border: solid 3px ; border-color: rgba(9, 175, 221,  1); #EFEFEF\">Literally</span> </div>"
      ],
      "text/plain": [
       "<IPython.core.display.HTML object>"
      ]
     },
     "metadata": {},
     "output_type": "display_data"
    },
    {
     "data": {
      "text/html": [
       "<div style='display: flex; width: 400px; flex-wrap: wrap'><span style=\"background-color: rgba(9, 221, 161,  0.2945851981639862); padding: 1px 5px; border: solid 3px ; border-color: rgba(9, 221, 161,  1); #EFEFEF\">How amazing</span> <span style=\"background-color: rgba(9, 221, 55,  0.2133129984140396); padding: 1px 5px; border: solid 3px ; border-color: rgba(9, 221, 55,  1); #EFEFEF\">the power</span> <span style=\"background-color: rgba(233,30,99,0);  padding: 1px 5px; border: solid 3px ; border-color:  rgba(233,30,99,0); #EFEFEF\">went</span> <span style=\"background-color: rgba(233,30,99,0);  padding: 1px 5px; border: solid 3px ; border-color:  rgba(233,30,99,0); #EFEFEF\">out</span> <span style=\"background-color: rgba(233,30,99,0);  padding: 1px 5px; border: solid 3px ; border-color:  rgba(233,30,99,0); #EFEFEF\">right</span> <span style=\"background-color: rgba(233,30,99,0);  padding: 1px 5px; border: solid 3px ; border-color:  rgba(233,30,99,0); #EFEFEF\">in</span> <span style=\"background-color: rgba(233,30,99,0);  padding: 1px 5px; border: solid 3px ; border-color:  rgba(233,30,99,0); #EFEFEF\">the middle</span> <span style=\"background-color: rgba(233,30,99,0);  padding: 1px 5px; border: solid 3px ; border-color:  rgba(233,30,99,0); #EFEFEF\">of</span> <span style=\"background-color: rgba(9, 221, 161,  0.9996834397315979); padding: 1px 5px; border: solid 3px ; border-color: rgba(9, 221, 161,  1); #EFEFEF\">my favorite movie</span> </div>"
      ],
      "text/plain": [
       "<IPython.core.display.HTML object>"
      ]
     },
     "metadata": {},
     "output_type": "display_data"
    },
    {
     "data": {
      "text/html": [
       "<div style='display: flex; width: 400px; flex-wrap: wrap'><span style=\"background-color: rgba(9, 221, 161,  0.999710738658905); padding: 1px 5px; border: solid 3px ; border-color: rgba(9, 221, 161,  1); #EFEFEF\">Fantastic</span> <span style=\"background-color: rgba(9, 221, 161,  0.999710738658905); padding: 1px 5px; border: solid 3px ; border-color: rgba(9, 221, 161,  1); #EFEFEF\">my alarm</span> <span style=\"background-color: rgba(9, 221, 161,  0.30376681685447693); padding: 1px 5px; border: solid 3px ; border-color: rgba(9, 221, 161,  1); #EFEFEF\">didn't go</span> <span style=\"background-color: rgba(9, 221, 161,  0.31309783458709717); padding: 1px 5px; border: solid 3px ; border-color: rgba(9, 221, 161,  1); #EFEFEF\">off</span> <span style=\"background-color: rgba(9, 221, 161,  0.5608277320861816); padding: 1px 5px; border: solid 3px ; border-color: rgba(9, 221, 161,  1); #EFEFEF\">I</span> <span style=\"background-color: rgba(9, 221, 161,  0.48777061700820923); padding: 1px 5px; border: solid 3px ; border-color: rgba(9, 221, 161,  1); #EFEFEF\">'m</span> <span style=\"background-color: rgba(9, 221, 161,  0.6883936524391174); padding: 1px 5px; border: solid 3px ; border-color: rgba(9, 221, 161,  1); #EFEFEF\">late</span> <span style=\"background-color: rgba(9, 221, 161,  0.5396483540534973); padding: 1px 5px; border: solid 3px ; border-color: rgba(9, 221, 161,  1); #EFEFEF\">for</span> <span style=\"background-color: rgba(9, 221, 161,  0.7570075988769531); padding: 1px 5px; border: solid 3px ; border-color: rgba(9, 221, 161,  1); #EFEFEF\">an important meeting</span> </div>"
      ],
      "text/plain": [
       "<IPython.core.display.HTML object>"
      ]
     },
     "metadata": {},
     "output_type": "display_data"
    },
    {
     "data": {
      "text/html": [
       "<div style='display: flex; width: 400px; flex-wrap: wrap'><span style=\"background-color: rgba(9, 175, 221,  0.9992767572402954); padding: 1px 5px; border: solid 3px ; border-color: rgba(9, 175, 221,  1); #EFEFEF\">An absolute delight</span> <span style=\"background-color: rgba(233,30,99,0);  padding: 1px 5px; border: solid 3px ; border-color:  rgba(233,30,99,0); #EFEFEF\">for</span> <span style=\"background-color: rgba(9, 221, 161,  0.4649118483066559); padding: 1px 5px; border: solid 3px ; border-color: rgba(9, 221, 161,  1); #EFEFEF\">anyone</span> <span style=\"background-color: rgba(9, 221, 161,  0.657619059085846); padding: 1px 5px; border: solid 3px ; border-color: rgba(9, 221, 161,  1); #EFEFEF\">who</span> <span style=\"background-color: rgba(233,30,99,0);  padding: 1px 5px; border: solid 3px ; border-color:  rgba(233,30,99,0); #EFEFEF\">loves</span> <span style=\"background-color: rgba(9, 175, 221,  0.964255690574646); padding: 1px 5px; border: solid 3px ; border-color: rgba(9, 175, 221,  1); #EFEFEF\">terrible cinema</span> </div>"
      ],
      "text/plain": [
       "<IPython.core.display.HTML object>"
      ]
     },
     "metadata": {},
     "output_type": "display_data"
    },
    {
     "data": {
      "text/html": [
       "<div style='display: flex; width: 400px; flex-wrap: wrap'><span style=\"background-color: rgba(221, 9, 140, 0.5014533996582031); padding: 1px 5px; border: solid 3px ; border-color: rgba(221, 9, 140, 1); #EFEFEF\">A work</span> <span style=\"background-color: rgba(233,30,99,0);  padding: 1px 5px; border: solid 3px ; border-color:  rgba(233,30,99,0); #EFEFEF\">of</span> <span style=\"background-color: rgba(233,30,99,0);  padding: 1px 5px; border: solid 3px ; border-color:  rgba(233,30,99,0); #EFEFEF\">art</span> <span style=\"background-color: rgba(233,30,99,0);  padding: 1px 5px; border: solid 3px ; border-color:  rgba(233,30,99,0); #EFEFEF\">in</span> <span style=\"background-color: rgba(233,30,99,0);  padding: 1px 5px; border: solid 3px ; border-color:  rgba(233,30,99,0); #EFEFEF\">the world</span> <span style=\"background-color: rgba(233,30,99,0);  padding: 1px 5px; border: solid 3px ; border-color:  rgba(233,30,99,0); #EFEFEF\">of</span> <span style=\"background-color: rgba(221, 9, 140, 0.20504143834114075); padding: 1px 5px; border: solid 3px ; border-color: rgba(221, 9, 140, 1); #EFEFEF\">bad movies</span> <span style=\"background-color: rgba(221, 9, 140, 0.3466520309448242); padding: 1px 5px; border: solid 3px ; border-color: rgba(221, 9, 140, 1); #EFEFEF\">Utterly unwatchable</span> </div>"
      ],
      "text/plain": [
       "<IPython.core.display.HTML object>"
      ]
     },
     "metadata": {},
     "output_type": "display_data"
    },
    {
     "data": {
      "text/html": [
       "<div style='display: flex; width: 400px; flex-wrap: wrap'><span style=\"background-color: rgba(9, 221, 161,  0.999811589717865); padding: 1px 5px; border: solid 3px ; border-color: rgba(9, 221, 161,  1); #EFEFEF\">A groundbreaking movie</span> <span style=\"background-color: rgba(233,30,99,0);  padding: 1px 5px; border: solid 3px ; border-color:  rgba(233,30,99,0); #EFEFEF\">that</span> <span style=\"background-color: rgba(233,30,99,0);  padding: 1px 5px; border: solid 3px ; border-color:  rgba(233,30,99,0); #EFEFEF\">will change</span> <span style=\"background-color: rgba(233,30,99,0);  padding: 1px 5px; border: solid 3px ; border-color:  rgba(233,30,99,0); #EFEFEF\">the way</span> <span style=\"background-color: rgba(233,30,99,0);  padding: 1px 5px; border: solid 3px ; border-color:  rgba(233,30,99,0); #EFEFEF\">you</span> <span style=\"background-color: rgba(233,30,99,0);  padding: 1px 5px; border: solid 3px ; border-color:  rgba(233,30,99,0); #EFEFEF\">think</span> <span style=\"background-color: rgba(233,30,99,0);  padding: 1px 5px; border: solid 3px ; border-color:  rgba(233,30,99,0); #EFEFEF\">about</span> <span style=\"background-color: rgba(9, 221, 161,  0.31627157330513); padding: 1px 5px; border: solid 3px ; border-color: rgba(9, 221, 161,  1); #EFEFEF\">wasting</span> <span style=\"background-color: rgba(233,30,99,0);  padding: 1px 5px; border: solid 3px ; border-color:  rgba(233,30,99,0); #EFEFEF\">your time</span> <span style=\"background-color: rgba(233,30,99,0);  padding: 1px 5px; border: solid 3px ; border-color:  rgba(233,30,99,0); #EFEFEF\">on</span> <span style=\"background-color: rgba(233,30,99,0);  padding: 1px 5px; border: solid 3px ; border-color:  rgba(233,30,99,0); #EFEFEF\">bad films</span> </div>"
      ],
      "text/plain": [
       "<IPython.core.display.HTML object>"
      ]
     },
     "metadata": {},
     "output_type": "display_data"
    },
    {
     "data": {
      "text/html": [
       "<div style='display: flex; width: 400px; flex-wrap: wrap'><span style=\"background-color: rgba(9, 221, 161,  0.9994674921035767); padding: 1px 5px; border: solid 3px ; border-color: rgba(9, 221, 161,  1); #EFEFEF\">An absolute delight</span> <span style=\"background-color: rgba(9, 221, 161,  0.3846660554409027); padding: 1px 5px; border: solid 3px ; border-color: rgba(9, 221, 161,  1); #EFEFEF\">to never watch</span> <span style=\"background-color: rgba(9, 221, 161,  0.38164013624191284); padding: 1px 5px; border: solid 3px ; border-color: rgba(9, 221, 161,  1); #EFEFEF\">again</span> </div>"
      ],
      "text/plain": [
       "<IPython.core.display.HTML object>"
      ]
     },
     "metadata": {},
     "output_type": "display_data"
    },
    {
     "data": {
      "text/html": [
       "<div style='display: flex; width: 400px; flex-wrap: wrap'><span style=\"background-color: rgba(233,30,99,0);  padding: 1px 5px; border: solid 3px ; border-color:  rgba(233,30,99,0); #EFEFEF\">I</span> <span style=\"background-color: rgba(233,30,99,0);  padding: 1px 5px; border: solid 3px ; border-color:  rgba(233,30,99,0); #EFEFEF\">'ve never cried</span> <span style=\"background-color: rgba(233,30,99,0);  padding: 1px 5px; border: solid 3px ; border-color:  rgba(233,30,99,0); #EFEFEF\">so much</span> <span style=\"background-color: rgba(233,30,99,0);  padding: 1px 5px; border: solid 3px ; border-color:  rgba(233,30,99,0); #EFEFEF\">out</span> <span style=\"background-color: rgba(233,30,99,0);  padding: 1px 5px; border: solid 3px ; border-color:  rgba(233,30,99,0); #EFEFEF\">of</span> <span style=\"background-color: rgba(233,30,99,0);  padding: 1px 5px; border: solid 3px ; border-color:  rgba(233,30,99,0); #EFEFEF\">sadness</span> <span style=\"background-color: rgba(233,30,99,0);  padding: 1px 5px; border: solid 3px ; border-color:  rgba(233,30,99,0); #EFEFEF\">because</span> <span style=\"background-color: rgba(233,30,99,0);  padding: 1px 5px; border: solid 3px ; border-color:  rgba(233,30,99,0); #EFEFEF\">it</span> <span style=\"background-color: rgba(233,30,99,0);  padding: 1px 5px; border: solid 3px ; border-color:  rgba(233,30,99,0); #EFEFEF\">was</span> <span style=\"background-color: rgba(233,30,99,0);  padding: 1px 5px; border: solid 3px ; border-color:  rgba(233,30,99,0); #EFEFEF\">so bad</span> </div>"
      ],
      "text/plain": [
       "<IPython.core.display.HTML object>"
      ]
     },
     "metadata": {},
     "output_type": "display_data"
    },
    {
     "data": {
      "text/html": [
       "<div style='display: flex; width: 400px; flex-wrap: wrap'><span style=\"background-color: rgba(9, 221, 161,  0.383201539516449); padding: 1px 5px; border: solid 3px ; border-color: rgba(9, 221, 161,  1); #EFEFEF\">I</span> <span style=\"background-color: rgba(9, 221, 161,  0.48652198910713196); padding: 1px 5px; border: solid 3px ; border-color: rgba(9, 221, 161,  1); #EFEFEF\">can't express</span> <span style=\"background-color: rgba(233,30,99,0);  padding: 1px 5px; border: solid 3px ; border-color:  rgba(233,30,99,0); #EFEFEF\">enough</span> <span style=\"background-color: rgba(233,30,99,0);  padding: 1px 5px; border: solid 3px ; border-color:  rgba(233,30,99,0); #EFEFEF\">how much</span> <span style=\"background-color: rgba(233,30,99,0);  padding: 1px 5px; border: solid 3px ; border-color:  rgba(233,30,99,0); #EFEFEF\">I</span> <span style=\"background-color: rgba(233,30,99,0);  padding: 1px 5px; border: solid 3px ; border-color:  rgba(233,30,99,0); #EFEFEF\">enjoyed</span> <span style=\"background-color: rgba(233,30,99,0);  padding: 1px 5px; border: solid 3px ; border-color:  rgba(233,30,99,0); #EFEFEF\">this movie</span> <span style=\"background-color: rgba(233,30,99,0);  padding: 1px 5px; border: solid 3px ; border-color:  rgba(233,30,99,0); #EFEFEF\">It</span> <span style=\"background-color: rgba(9, 175, 221,  0.21178767085075378); padding: 1px 5px; border: solid 3px ; border-color: rgba(9, 175, 221,  1); #EFEFEF\">was</span> <span style=\"background-color: rgba(9, 221, 161,  0.36047816276550293); padding: 1px 5px; border: solid 3px ; border-color: rgba(9, 221, 161,  1); #EFEFEF\">like</span> <span style=\"background-color: rgba(233,30,99,0);  padding: 1px 5px; border: solid 3px ; border-color:  rgba(233,30,99,0); #EFEFEF\">being treated</span> <span style=\"background-color: rgba(9, 221, 161,  0.22966036200523376); padding: 1px 5px; border: solid 3px ; border-color: rgba(9, 221, 161,  1); #EFEFEF\">to</span> <span style=\"background-color: rgba(9, 221, 161,  0.6549529433250427); padding: 1px 5px; border: solid 3px ; border-color: rgba(9, 221, 161,  1); #EFEFEF\">a gourmet meal</span> <span style=\"background-color: rgba(9, 221, 161,  0.33730095624923706); padding: 1px 5px; border: solid 3px ; border-color: rgba(9, 221, 161,  1); #EFEFEF\">excellent</span> <span style=\"background-color: rgba(9, 221, 161,  0.525586724281311); padding: 1px 5px; border: solid 3px ; border-color: rgba(9, 221, 161,  1); #EFEFEF\">in</span> <span style=\"background-color: rgba(9, 221, 161,  0.4125193953514099); padding: 1px 5px; border: solid 3px ; border-color: rgba(9, 221, 161,  1); #EFEFEF\">theory</span> <span style=\"background-color: rgba(9, 175, 221,  0.3417320251464844); padding: 1px 5px; border: solid 3px ; border-color: rgba(9, 175, 221,  1); #EFEFEF\">even better</span> <span style=\"background-color: rgba(9, 221, 161,  0.29503333568573); padding: 1px 5px; border: solid 3px ; border-color: rgba(9, 221, 161,  1); #EFEFEF\">in</span> <span style=\"background-color: rgba(9, 221, 161,  0.22257176041603088); padding: 1px 5px; border: solid 3px ; border-color: rgba(9, 221, 161,  1); #EFEFEF\">practice</span> </div>"
      ],
      "text/plain": [
       "<IPython.core.display.HTML object>"
      ]
     },
     "metadata": {},
     "output_type": "display_data"
    },
    {
     "data": {
      "text/html": [
       "<div style='display: flex; width: 400px; flex-wrap: wrap'><span style=\"background-color: rgba(9, 175, 221,  0.257124662399292); padding: 1px 5px; border: solid 3px ; border-color: rgba(9, 175, 221,  1); #EFEFEF\">The director</span> <span style=\"background-color: rgba(9, 221, 161,  0.402336061000824); padding: 1px 5px; border: solid 3px ; border-color: rgba(9, 221, 161,  1); #EFEFEF\">'s vision</span> <span style=\"background-color: rgba(9, 221, 161,  0.4426829218864441); padding: 1px 5px; border: solid 3px ; border-color: rgba(9, 221, 161,  1); #EFEFEF\">was</span> <span style=\"background-color: rgba(233,30,99,0);  padding: 1px 5px; border: solid 3px ; border-color:  rgba(233,30,99,0); #EFEFEF\">so unique</span> <span style=\"background-color: rgba(9, 221, 161,  0.49576565623283386); padding: 1px 5px; border: solid 3px ; border-color: rgba(9, 221, 161,  1); #EFEFEF\">that</span> <span style=\"background-color: rgba(9, 221, 161,  0.5686255693435669); padding: 1px 5px; border: solid 3px ; border-color: rgba(9, 221, 161,  1); #EFEFEF\">it</span> <span style=\"background-color: rgba(9, 221, 161,  0.25383391976356506); padding: 1px 5px; border: solid 3px ; border-color: rgba(9, 221, 161,  1); #EFEFEF\">left</span> <span style=\"background-color: rgba(9, 221, 161,  0.3867047429084778); padding: 1px 5px; border: solid 3px ; border-color: rgba(9, 221, 161,  1); #EFEFEF\">me</span> <span style=\"background-color: rgba(9, 221, 161,  0.38824698328971863); padding: 1px 5px; border: solid 3px ; border-color: rgba(9, 221, 161,  1); #EFEFEF\">in</span> <span style=\"background-color: rgba(9, 221, 161,  0.32615745067596436); padding: 1px 5px; border: solid 3px ; border-color: rgba(9, 221, 161,  1); #EFEFEF\">awe</span> <span style=\"background-color: rgba(9, 221, 161,  0.228937029838562); padding: 1px 5px; border: solid 3px ; border-color: rgba(9, 221, 161,  1); #EFEFEF\">of</span> <span style=\"background-color: rgba(9, 221, 161,  0.9990145564079285); padding: 1px 5px; border: solid 3px ; border-color: rgba(9, 221, 161,  1); #EFEFEF\">their creativity</span> <span style=\"background-color: rgba(9, 221, 161,  0.2817517817020416); padding: 1px 5px; border: solid 3px ; border-color: rgba(9, 221, 161,  1); #EFEFEF\">A true journey</span> <span style=\"background-color: rgba(9, 221, 161,  0.27227073907852173); padding: 1px 5px; border: solid 3px ; border-color: rgba(9, 221, 161,  1); #EFEFEF\">into</span> <span style=\"background-color: rgba(9, 221, 161,  0.418974369764328); padding: 1px 5px; border: solid 3px ; border-color: rgba(9, 221, 161,  1); #EFEFEF\">the world</span> <span style=\"background-color: rgba(9, 221, 161,  0.4971676766872406); padding: 1px 5px; border: solid 3px ; border-color: rgba(9, 221, 161,  1); #EFEFEF\">of</span> <span style=\"background-color: rgba(9, 221, 161,  0.675552487373352); padding: 1px 5px; border: solid 3px ; border-color: rgba(9, 221, 161,  1); #EFEFEF\">genius</span> </div>"
      ],
      "text/plain": [
       "<IPython.core.display.HTML object>"
      ]
     },
     "metadata": {},
     "output_type": "display_data"
    },
    {
     "data": {
      "text/html": [
       "<div style='display: flex; width: 400px; flex-wrap: wrap'><span style=\"background-color: rgba(233,30,99,0);  padding: 1px 5px; border: solid 3px ; border-color:  rgba(233,30,99,0); #EFEFEF\">An unexpected rain shower</span> <span style=\"background-color: rgba(233,30,99,0);  padding: 1px 5px; border: solid 3px ; border-color:  rgba(233,30,99,0); #EFEFEF\">on</span> <span style=\"background-color: rgba(233,30,99,0);  padding: 1px 5px; border: solid 3px ; border-color:  rgba(233,30,99,0); #EFEFEF\">the day</span> <span style=\"background-color: rgba(233,30,99,0);  padding: 1px 5px; border: solid 3px ; border-color:  rgba(233,30,99,0); #EFEFEF\">of</span> <span style=\"background-color: rgba(233,30,99,0);  padding: 1px 5px; border: solid 3px ; border-color:  rgba(233,30,99,0); #EFEFEF\">my outdoor event</span> <span style=\"background-color: rgba(9, 175, 221,  0.7338340878486633); padding: 1px 5px; border: solid 3px ; border-color: rgba(9, 175, 221,  1); #EFEFEF\">Perfect</span> </div>"
      ],
      "text/plain": [
       "<IPython.core.display.HTML object>"
      ]
     },
     "metadata": {},
     "output_type": "display_data"
    },
    {
     "data": {
      "text/html": [
       "<div style='display: flex; width: 400px; flex-wrap: wrap'><span style=\"background-color: rgba(233,30,99,0);  padding: 1px 5px; border: solid 3px ; border-color:  rgba(233,30,99,0); #EFEFEF\">Incredible</span> <span style=\"background-color: rgba(233,30,99,0);  padding: 1px 5px; border: solid 3px ; border-color:  rgba(233,30,99,0); #EFEFEF\">My computer</span> <span style=\"background-color: rgba(233,30,99,0);  padding: 1px 5px; border: solid 3px ; border-color:  rgba(233,30,99,0); #EFEFEF\">crashed</span> <span style=\"background-color: rgba(233,30,99,0);  padding: 1px 5px; border: solid 3px ; border-color:  rgba(233,30,99,0); #EFEFEF\">I</span> <span style=\"background-color: rgba(233,30,99,0);  padding: 1px 5px; border: solid 3px ; border-color:  rgba(233,30,99,0); #EFEFEF\">lost</span> <span style=\"background-color: rgba(233,30,99,0);  padding: 1px 5px; border: solid 3px ; border-color:  rgba(233,30,99,0); #EFEFEF\">an entire day</span> <span style=\"background-color: rgba(233,30,99,0);  padding: 1px 5px; border: solid 3px ; border-color:  rgba(233,30,99,0); #EFEFEF\">'s worth</span> <span style=\"background-color: rgba(233,30,99,0);  padding: 1px 5px; border: solid 3px ; border-color:  rgba(233,30,99,0); #EFEFEF\">of</span> <span style=\"background-color: rgba(233,30,99,0);  padding: 1px 5px; border: solid 3px ; border-color:  rgba(233,30,99,0); #EFEFEF\">unsaved work</span> <span style=\"background-color: rgba(233,30,99,0);  padding: 1px 5px; border: solid 3px ; border-color:  rgba(233,30,99,0); #EFEFEF\">I</span> <span style=\"background-color: rgba(233,30,99,0);  padding: 1px 5px; border: solid 3px ; border-color:  rgba(233,30,99,0); #EFEFEF\">was hoping</span> <span style=\"background-color: rgba(233,30,99,0);  padding: 1px 5px; border: solid 3px ; border-color:  rgba(233,30,99,0); #EFEFEF\">for</span> <span style=\"background-color: rgba(233,30,99,0);  padding: 1px 5px; border: solid 3px ; border-color:  rgba(233,30,99,0); #EFEFEF\">a fresh start</span> <span style=\"background-color: rgba(233,30,99,0);  padding: 1px 5px; border: solid 3px ; border-color:  rgba(233,30,99,0); #EFEFEF\">anyway</span> </div>"
      ],
      "text/plain": [
       "<IPython.core.display.HTML object>"
      ]
     },
     "metadata": {},
     "output_type": "display_data"
    },
    {
     "data": {
      "text/html": [
       "<div style='display: flex; width: 400px; flex-wrap: wrap'><span style=\"background-color: rgba(9, 175, 221,  0.8250278234481812); padding: 1px 5px; border: solid 3px ; border-color: rgba(9, 175, 221,  1); #EFEFEF\">Ecstatic</span> <span style=\"background-color: rgba(9, 175, 221,  0.638830304145813); padding: 1px 5px; border: solid 3px ; border-color: rgba(9, 175, 221,  1); #EFEFEF\">doesn't even begin to describe</span> <span style=\"background-color: rgba(9, 175, 221,  0.5901241898536682); padding: 1px 5px; border: solid 3px ; border-color: rgba(9, 175, 221,  1); #EFEFEF\">my feelings</span> <span style=\"background-color: rgba(9, 175, 221,  0.28952279686927795); padding: 1px 5px; border: solid 3px ; border-color: rgba(9, 175, 221,  1); #EFEFEF\">when</span> <span style=\"background-color: rgba(9, 175, 221,  0.2294708639383316); padding: 1px 5px; border: solid 3px ; border-color: rgba(9, 175, 221,  1); #EFEFEF\">I</span> <span style=\"background-color: rgba(9, 175, 221,  0.2950764298439026); padding: 1px 5px; border: solid 3px ; border-color: rgba(9, 175, 221,  1); #EFEFEF\">realized</span> <span style=\"background-color: rgba(9, 175, 221,  0.24769732356071472); padding: 1px 5px; border: solid 3px ; border-color: rgba(9, 175, 221,  1); #EFEFEF\">I</span> <span style=\"background-color: rgba(9, 175, 221,  0.2502123713493347); padding: 1px 5px; border: solid 3px ; border-color: rgba(9, 175, 221,  1); #EFEFEF\">left</span> <span style=\"background-color: rgba(9, 175, 221,  0.4419454336166382); padding: 1px 5px; border: solid 3px ; border-color: rgba(9, 175, 221,  1); #EFEFEF\">my umbrella</span> <span style=\"background-color: rgba(9, 175, 221,  0.2806367576122284); padding: 1px 5px; border: solid 3px ; border-color: rgba(9, 175, 221,  1); #EFEFEF\">at</span> <span style=\"background-color: rgba(9, 175, 221,  0.2911406457424164); padding: 1px 5px; border: solid 3px ; border-color: rgba(9, 175, 221,  1); #EFEFEF\">home</span> <span style=\"background-color: rgba(233,30,99,0);  padding: 1px 5px; border: solid 3px ; border-color:  rgba(233,30,99,0); #EFEFEF\">on</span> <span style=\"background-color: rgba(9, 175, 221,  0.41695255041122437); padding: 1px 5px; border: solid 3px ; border-color: rgba(9, 175, 221,  1); #EFEFEF\">a rainy day</span> <span style=\"background-color: rgba(9, 221, 161,  0.999519944190979); padding: 1px 5px; border: solid 3px ; border-color: rgba(9, 221, 161,  1); #EFEFEF\">Pure poetry</span> <span style=\"background-color: rgba(9, 221, 161,  0.43146154284477234); padding: 1px 5px; border: solid 3px ; border-color: rgba(9, 221, 161,  1); #EFEFEF\">in</span> <span style=\"background-color: rgba(233,30,99,0);  padding: 1px 5px; border: solid 3px ; border-color:  rgba(233,30,99,0); #EFEFEF\">precipitation</span> </div>"
      ],
      "text/plain": [
       "<IPython.core.display.HTML object>"
      ]
     },
     "metadata": {},
     "output_type": "display_data"
    },
    {
     "data": {
      "text/html": [
       "<div style='display: flex; width: 400px; flex-wrap: wrap'><span style=\"background-color: rgba(233,30,99,0);  padding: 1px 5px; border: solid 3px ; border-color:  rgba(233,30,99,0); #EFEFEF\">What</span> <span style=\"background-color: rgba(9, 221, 161,  0.9998482465744019); padding: 1px 5px; border: solid 3px ; border-color: rgba(9, 221, 161,  1); #EFEFEF\">a wonderful surprise</span> <span style=\"background-color: rgba(233,30,99,0);  padding: 1px 5px; border: solid 3px ; border-color:  rgba(233,30,99,0); #EFEFEF\">more bills</span> <span style=\"background-color: rgba(233,30,99,0);  padding: 1px 5px; border: solid 3px ; border-color:  rgba(233,30,99,0); #EFEFEF\">in</span> <span style=\"background-color: rgba(233,30,99,0);  padding: 1px 5px; border: solid 3px ; border-color:  rgba(233,30,99,0); #EFEFEF\">the mail</span> </div>"
      ],
      "text/plain": [
       "<IPython.core.display.HTML object>"
      ]
     },
     "metadata": {},
     "output_type": "display_data"
    },
    {
     "data": {
      "text/html": [
       "<div style='display: flex; width: 400px; flex-wrap: wrap'><span style=\"background-color: rgba(9, 221, 161,  0.42225152254104614); padding: 1px 5px; border: solid 3px ; border-color: rgba(9, 221, 161,  1); #EFEFEF\">Oh</span> <span style=\"background-color: rgba(233,30,99,0);  padding: 1px 5px; border: solid 3px ; border-color:  rgba(233,30,99,0); #EFEFEF\">joy</span> <span style=\"background-color: rgba(9, 221, 161,  0.24909967184066772); padding: 1px 5px; border: solid 3px ; border-color: rgba(9, 221, 161,  1); #EFEFEF\">my favorite TV show</span> <span style=\"background-color: rgba(9, 221, 161,  0.3503832221031189); padding: 1px 5px; border: solid 3px ; border-color: rgba(9, 221, 161,  1); #EFEFEF\">ended</span> <span style=\"background-color: rgba(233,30,99,0);  padding: 1px 5px; border: solid 3px ; border-color:  rgba(233,30,99,0); #EFEFEF\">with</span> <span style=\"background-color: rgba(9, 175, 221,  0.5065994262695312); padding: 1px 5px; border: solid 3px ; border-color: rgba(9, 175, 221,  1); #EFEFEF\">a cliffhanger</span> <span style=\"background-color: rgba(9, 221, 161,  0.39953261613845825); padding: 1px 5px; border: solid 3px ; border-color: rgba(9, 221, 161,  1); #EFEFEF\">Love</span> <span style=\"background-color: rgba(233,30,99,0);  padding: 1px 5px; border: solid 3px ; border-color:  rgba(233,30,99,0); #EFEFEF\">the suspense</span> </div>"
      ],
      "text/plain": [
       "<IPython.core.display.HTML object>"
      ]
     },
     "metadata": {},
     "output_type": "display_data"
    },
    {
     "data": {
      "text/html": [
       "<div style='display: flex; width: 400px; flex-wrap: wrap'><span style=\"background-color: rgba(9, 221, 161,  0.9996163249015808); padding: 1px 5px; border: solid 3px ; border-color: rgba(9, 221, 161,  1); #EFEFEF\">Wonderful</span> <span style=\"background-color: rgba(233,30,99,0);  padding: 1px 5px; border: solid 3px ; border-color:  rgba(233,30,99,0); #EFEFEF\">the neighbor</span> <span style=\"background-color: rgba(233,30,99,0);  padding: 1px 5px; border: solid 3px ; border-color:  rgba(233,30,99,0); #EFEFEF\">'s dog</span> <span style=\"background-color: rgba(233,30,99,0);  padding: 1px 5px; border: solid 3px ; border-color:  rgba(233,30,99,0); #EFEFEF\">decided to bark</span> <span style=\"background-color: rgba(9, 221, 161,  0.4674471616744995); padding: 1px 5px; border: solid 3px ; border-color: rgba(9, 221, 161,  1); #EFEFEF\">all night</span> <span style=\"background-color: rgba(9, 221, 161,  0.2587696611881256); padding: 1px 5px; border: solid 3px ; border-color: rgba(9, 221, 161,  1); #EFEFEF\">long</span> </div>"
      ],
      "text/plain": [
       "<IPython.core.display.HTML object>"
      ]
     },
     "metadata": {},
     "output_type": "display_data"
    },
    {
     "data": {
      "text/html": [
       "<div style='display: flex; width: 400px; flex-wrap: wrap'><span style=\"background-color: rgba(233,30,99,0);  padding: 1px 5px; border: solid 3px ; border-color:  rgba(233,30,99,0); #EFEFEF\">Just</span> <span style=\"background-color: rgba(9, 221, 161,  0.2078266441822052); padding: 1px 5px; border: solid 3px ; border-color: rgba(9, 221, 161,  1); #EFEFEF\">when</span> <span style=\"background-color: rgba(9, 221, 161,  0.2871742844581604); padding: 1px 5px; border: solid 3px ; border-color: rgba(9, 221, 161,  1); #EFEFEF\">I</span> <span style=\"background-color: rgba(9, 221, 161,  0.39522671699523926); padding: 1px 5px; border: solid 3px ; border-color: rgba(9, 221, 161,  1); #EFEFEF\">needed</span> <span style=\"background-color: rgba(233,30,99,0);  padding: 1px 5px; border: solid 3px ; border-color:  rgba(233,30,99,0); #EFEFEF\">a good laugh</span> <span style=\"background-color: rgba(233,30,99,0);  padding: 1px 5px; border: solid 3px ; border-color:  rgba(233,30,99,0); #EFEFEF\">my phone</span> <span style=\"background-color: rgba(9, 221, 161,  0.25096243619918823); padding: 1px 5px; border: solid 3px ; border-color: rgba(9, 221, 161,  1); #EFEFEF\">autocorrected</span> <span style=\"background-color: rgba(9, 221, 161,  0.34982946515083313); padding: 1px 5px; border: solid 3px ; border-color: rgba(9, 221, 161,  1); #EFEFEF\">'urgent</span> <span style=\"background-color: rgba(9, 221, 161,  0.3446292579174042); padding: 1px 5px; border: solid 3px ; border-color: rgba(9, 221, 161,  1); #EFEFEF\">to</span> <span style=\"background-color: rgba(9, 221, 161,  0.34337878227233887); padding: 1px 5px; border: solid 3px ; border-color: rgba(9, 221, 161,  1); #EFEFEF\">'unimportant</span> <span style=\"background-color: rgba(233,30,99,0);  padding: 1px 5px; border: solid 3px ; border-color:  rgba(233,30,99,0); #EFEFEF\">in</span> <span style=\"background-color: rgba(9, 221, 161,  0.9633233547210693); padding: 1px 5px; border: solid 3px ; border-color: rgba(9, 221, 161,  1); #EFEFEF\">a crucial message</span> <span style=\"background-color: rgba(9, 221, 161,  0.9997252225875854); padding: 1px 5px; border: solid 3px ; border-color: rgba(9, 221, 161,  1); #EFEFEF\">Comedy gold</span> </div>"
      ],
      "text/plain": [
       "<IPython.core.display.HTML object>"
      ]
     },
     "metadata": {},
     "output_type": "display_data"
    },
    {
     "data": {
      "text/html": [
       "<div style='display: flex; width: 400px; flex-wrap: wrap'><span style=\"background-color: rgba(9, 221, 161,  0.7364596128463745); padding: 1px 5px; border: solid 3px ; border-color: rgba(9, 221, 161,  1); #EFEFEF\">A stunning achievement</span> <span style=\"background-color: rgba(9, 221, 161,  0.40361228585243225); padding: 1px 5px; border: solid 3px ; border-color: rgba(9, 221, 161,  1); #EFEFEF\">in</span> <span style=\"background-color: rgba(9, 175, 221,  0.40773072838783264); padding: 1px 5px; border: solid 3px ; border-color: rgba(9, 175, 221,  1); #EFEFEF\">producing</span> <span style=\"background-color: rgba(9, 221, 161,  0.9994815587997437); padding: 1px 5px; border: solid 3px ; border-color: rgba(9, 221, 161,  1); #EFEFEF\">something</span> <span style=\"background-color: rgba(9, 221, 161,  0.23035216331481934); padding: 1px 5px; border: solid 3px ; border-color: rgba(9, 221, 161,  1); #EFEFEF\">this incredible</span> </div>"
      ],
      "text/plain": [
       "<IPython.core.display.HTML object>"
      ]
     },
     "metadata": {},
     "output_type": "display_data"
    },
    {
     "data": {
      "text/html": [
       "<div style='display: flex; width: 400px; flex-wrap: wrap'><span style=\"background-color: rgba(233,30,99,0);  padding: 1px 5px; border: solid 3px ; border-color:  rgba(233,30,99,0); #EFEFEF\">Amazing</span> <span style=\"background-color: rgba(233,30,99,0);  padding: 1px 5px; border: solid 3px ; border-color:  rgba(233,30,99,0); #EFEFEF\">the Wi-Fi</span> <span style=\"background-color: rgba(233,30,99,0);  padding: 1px 5px; border: solid 3px ; border-color:  rgba(233,30,99,0); #EFEFEF\">decided to stop working</span> <span style=\"background-color: rgba(233,30,99,0);  padding: 1px 5px; border: solid 3px ; border-color:  rgba(233,30,99,0); #EFEFEF\">right</span> <span style=\"background-color: rgba(233,30,99,0);  padding: 1px 5px; border: solid 3px ; border-color:  rgba(233,30,99,0); #EFEFEF\">in</span> <span style=\"background-color: rgba(233,30,99,0);  padding: 1px 5px; border: solid 3px ; border-color:  rgba(233,30,99,0); #EFEFEF\">the middle</span> <span style=\"background-color: rgba(233,30,99,0);  padding: 1px 5px; border: solid 3px ; border-color:  rgba(233,30,99,0); #EFEFEF\">of</span> <span style=\"background-color: rgba(233,30,99,0);  padding: 1px 5px; border: solid 3px ; border-color:  rgba(233,30,99,0); #EFEFEF\">my presentation</span> </div>"
      ],
      "text/plain": [
       "<IPython.core.display.HTML object>"
      ]
     },
     "metadata": {},
     "output_type": "display_data"
    },
    {
     "data": {
      "text/html": [
       "<div style='display: flex; width: 400px; flex-wrap: wrap'><span style=\"background-color: rgba(233,30,99,0);  padding: 1px 5px; border: solid 3px ; border-color:  rgba(233,30,99,0); #EFEFEF\">The movie</span> <span style=\"background-color: rgba(9, 221, 161,  0.2532835602760315); padding: 1px 5px; border: solid 3px ; border-color: rgba(9, 221, 161,  1); #EFEFEF\">was</span> <span style=\"background-color: rgba(9, 221, 161,  0.999640941619873); padding: 1px 5px; border: solid 3px ; border-color: rgba(9, 221, 161,  1); #EFEFEF\">so captivating</span> <span style=\"background-color: rgba(9, 221, 161,  0.23863308131694794); padding: 1px 5px; border: solid 3px ; border-color: rgba(9, 221, 161,  1); #EFEFEF\">that</span> <span style=\"background-color: rgba(233,30,99,0);  padding: 1px 5px; border: solid 3px ; border-color:  rgba(233,30,99,0); #EFEFEF\">I</span> <span style=\"background-color: rgba(233,30,99,0);  padding: 1px 5px; border: solid 3px ; border-color:  rgba(233,30,99,0); #EFEFEF\">lost</span> <span style=\"background-color: rgba(9, 221, 161,  0.2518925368785858); padding: 1px 5px; border: solid 3px ; border-color: rgba(9, 221, 161,  1); #EFEFEF\">track</span> <span style=\"background-color: rgba(9, 221, 161,  0.22031880915164948); padding: 1px 5px; border: solid 3px ; border-color: rgba(9, 221, 161,  1); #EFEFEF\">of</span> <span style=\"background-color: rgba(233,30,99,0);  padding: 1px 5px; border: solid 3px ; border-color:  rgba(233,30,99,0); #EFEFEF\">time</span> <span style=\"background-color: rgba(9, 221, 161,  0.27052515745162964); padding: 1px 5px; border: solid 3px ; border-color: rgba(9, 221, 161,  1); #EFEFEF\">while</span> <span style=\"background-color: rgba(9, 221, 161,  0.3065210282802582); padding: 1px 5px; border: solid 3px ; border-color: rgba(9, 221, 161,  1); #EFEFEF\">watching</span> <span style=\"background-color: rgba(9, 221, 161,  0.2506086528301239); padding: 1px 5px; border: solid 3px ; border-color: rgba(9, 221, 161,  1); #EFEFEF\">it</span> <span style=\"background-color: rgba(233,30,99,0);  padding: 1px 5px; border: solid 3px ; border-color:  rgba(233,30,99,0); #EFEFEF\">A true time-traveling experience</span> </div>"
      ],
      "text/plain": [
       "<IPython.core.display.HTML object>"
      ]
     },
     "metadata": {},
     "output_type": "display_data"
    },
    {
     "data": {
      "text/html": [
       "<div style='display: flex; width: 400px; flex-wrap: wrap'><span style=\"background-color: rgba(9, 221, 161,  0.5900598764419556); padding: 1px 5px; border: solid 3px ; border-color: rgba(9, 221, 161,  1); #EFEFEF\">A cinematic experience</span> <span style=\"background-color: rgba(233,30,99,0);  padding: 1px 5px; border: solid 3px ; border-color:  rgba(233,30,99,0); #EFEFEF\">that</span> <span style=\"background-color: rgba(9, 221, 161,  0.4395163953304291); padding: 1px 5px; border: solid 3px ; border-color: rgba(9, 221, 161,  1); #EFEFEF\">leaves</span> <span style=\"background-color: rgba(9, 221, 161,  0.9991676807403564); padding: 1px 5px; border: solid 3px ; border-color: rgba(9, 221, 161,  1); #EFEFEF\">you</span> <span style=\"background-color: rgba(9, 221, 161,  0.9100983738899231); padding: 1px 5px; border: solid 3px ; border-color: rgba(9, 221, 161,  1); #EFEFEF\">in</span> <span style=\"background-color: rgba(9, 221, 161,  0.43947485089302063); padding: 1px 5px; border: solid 3px ; border-color: rgba(9, 221, 161,  1); #EFEFEF\">awe</span> <span style=\"background-color: rgba(9, 221, 161,  0.5030425786972046); padding: 1px 5px; border: solid 3px ; border-color: rgba(9, 221, 161,  1); #EFEFEF\">of</span> <span style=\"background-color: rgba(9, 221, 161,  0.6222628355026245); padding: 1px 5px; border: solid 3px ; border-color: rgba(9, 221, 161,  1); #EFEFEF\">its brilliance</span> </div>"
      ],
      "text/plain": [
       "<IPython.core.display.HTML object>"
      ]
     },
     "metadata": {},
     "output_type": "display_data"
    },
    {
     "data": {
      "text/html": [
       "<div style='display: flex; width: 400px; flex-wrap: wrap'><span style=\"background-color: rgba(233,30,99,0);  padding: 1px 5px; border: solid 3px ; border-color:  rgba(233,30,99,0); #EFEFEF\">I</span> <span style=\"background-color: rgba(9, 221, 161,  0.9660924077033997); padding: 1px 5px; border: solid 3px ; border-color: rgba(9, 221, 161,  1); #EFEFEF\">'m</span> <span style=\"background-color: rgba(233,30,99,0);  padding: 1px 5px; border: solid 3px ; border-color:  rgba(233,30,99,0); #EFEFEF\">convinced</span> <span style=\"background-color: rgba(9, 221, 161,  0.9997859001159668); padding: 1px 5px; border: solid 3px ; border-color: rgba(9, 221, 161,  1); #EFEFEF\">that</span> <span style=\"background-color: rgba(9, 221, 161,  0.35102221369743347); padding: 1px 5px; border: solid 3px ; border-color: rgba(9, 221, 161,  1); #EFEFEF\">the creators</span> <span style=\"background-color: rgba(9, 221, 161,  0.255276083946228); padding: 1px 5px; border: solid 3px ; border-color: rgba(9, 221, 161,  1); #EFEFEF\">of</span> <span style=\"background-color: rgba(9, 221, 161,  0.25386977195739746); padding: 1px 5px; border: solid 3px ; border-color: rgba(9, 221, 161,  1); #EFEFEF\">this movie</span> <span style=\"background-color: rgba(9, 221, 161,  0.2892724573612213); padding: 1px 5px; border: solid 3px ; border-color: rgba(9, 221, 161,  1); #EFEFEF\">set</span> <span style=\"background-color: rgba(9, 221, 161,  0.35864704847335815); padding: 1px 5px; border: solid 3px ; border-color: rgba(9, 221, 161,  1); #EFEFEF\">out</span> <span style=\"background-color: rgba(9, 221, 161,  0.9997859001159668); padding: 1px 5px; border: solid 3px ; border-color: rgba(9, 221, 161,  1); #EFEFEF\">to amaze</span> <span style=\"background-color: rgba(9, 221, 161,  0.9997859001159668); padding: 1px 5px; border: solid 3px ; border-color: rgba(9, 221, 161,  1); #EFEFEF\">us</span> </div>"
      ],
      "text/plain": [
       "<IPython.core.display.HTML object>"
      ]
     },
     "metadata": {},
     "output_type": "display_data"
    },
    {
     "data": {
      "text/html": [
       "<div style='display: flex; width: 400px; flex-wrap: wrap'><span style=\"background-color: rgba(9, 221, 161,  0.70818030834198); padding: 1px 5px; border: solid 3px ; border-color: rgba(9, 221, 161,  1); #EFEFEF\">Delighted</span> <span style=\"background-color: rgba(9, 221, 161,  0.36089226603507996); padding: 1px 5px; border: solid 3px ; border-color: rgba(9, 221, 161,  1); #EFEFEF\">to find</span> <span style=\"background-color: rgba(233,30,99,0);  padding: 1px 5px; border: solid 3px ; border-color:  rgba(233,30,99,0); #EFEFEF\">out</span> <span style=\"background-color: rgba(233,30,99,0);  padding: 1px 5px; border: solid 3px ; border-color:  rgba(233,30,99,0); #EFEFEF\">that</span> <span style=\"background-color: rgba(233,30,99,0);  padding: 1px 5px; border: solid 3px ; border-color:  rgba(233,30,99,0); #EFEFEF\">the restaurant</span> <span style=\"background-color: rgba(233,30,99,0);  padding: 1px 5px; border: solid 3px ; border-color:  rgba(233,30,99,0); #EFEFEF\">I</span> <span style=\"background-color: rgba(233,30,99,0);  padding: 1px 5px; border: solid 3px ; border-color:  rgba(233,30,99,0); #EFEFEF\">chose</span> <span style=\"background-color: rgba(233,30,99,0);  padding: 1px 5px; border: solid 3px ; border-color:  rgba(233,30,99,0); #EFEFEF\">for</span> <span style=\"background-color: rgba(233,30,99,0);  padding: 1px 5px; border: solid 3px ; border-color:  rgba(233,30,99,0); #EFEFEF\">dinner</span> <span style=\"background-color: rgba(9, 175, 221,  0.2136336714029312); padding: 1px 5px; border: solid 3px ; border-color: rgba(9, 175, 221,  1); #EFEFEF\">is fully booked</span> <span style=\"background-color: rgba(9, 221, 161,  0.9995129704475403); padding: 1px 5px; border: solid 3px ; border-color: rgba(9, 221, 161,  1); #EFEFEF\">The universe</span> <span style=\"background-color: rgba(233,30,99,0);  padding: 1px 5px; border: solid 3px ; border-color:  rgba(233,30,99,0); #EFEFEF\">'s way</span> <span style=\"background-color: rgba(233,30,99,0);  padding: 1px 5px; border: solid 3px ; border-color:  rgba(233,30,99,0); #EFEFEF\">of</span> <span style=\"background-color: rgba(233,30,99,0);  padding: 1px 5px; border: solid 3px ; border-color:  rgba(233,30,99,0); #EFEFEF\">testing</span> <span style=\"background-color: rgba(233,30,99,0);  padding: 1px 5px; border: solid 3px ; border-color:  rgba(233,30,99,0); #EFEFEF\">my flexibility and adaptability</span> </div>"
      ],
      "text/plain": [
       "<IPython.core.display.HTML object>"
      ]
     },
     "metadata": {},
     "output_type": "display_data"
    },
    {
     "data": {
      "text/html": [
       "<div style='display: flex; width: 400px; flex-wrap: wrap'><span style=\"background-color: rgba(9, 221, 161,  0.7476790547370911); padding: 1px 5px; border: solid 3px ; border-color: rgba(9, 221, 161,  1); #EFEFEF\">Overwhelmed</span> <span style=\"background-color: rgba(233,30,99,0);  padding: 1px 5px; border: solid 3px ; border-color:  rgba(233,30,99,0); #EFEFEF\">with</span> <span style=\"background-color: rgba(9, 221, 161,  0.6834535598754883); padding: 1px 5px; border: solid 3px ; border-color: rgba(9, 221, 161,  1); #EFEFEF\">joy</span> <span style=\"background-color: rgba(9, 221, 161,  0.999641478061676); padding: 1px 5px; border: solid 3px ; border-color: rgba(9, 221, 161,  1); #EFEFEF\">My favorite book series</span> <span style=\"background-color: rgba(233,30,99,0);  padding: 1px 5px; border: solid 3px ; border-color:  rgba(233,30,99,0); #EFEFEF\">just</span> <span style=\"background-color: rgba(9, 221, 161,  0.20626488327980042); padding: 1px 5px; border: solid 3px ; border-color: rgba(9, 221, 161,  1); #EFEFEF\">announced</span> <span style=\"background-color: rgba(233,30,99,0);  padding: 1px 5px; border: solid 3px ; border-color:  rgba(233,30,99,0); #EFEFEF\">an unexpected hiatus</span> <span style=\"background-color: rgba(233,30,99,0);  padding: 1px 5px; border: solid 3px ; border-color:  rgba(233,30,99,0); #EFEFEF\">The suspense</span> <span style=\"background-color: rgba(233,30,99,0);  padding: 1px 5px; border: solid 3px ; border-color:  rgba(233,30,99,0); #EFEFEF\">is killing</span> <span style=\"background-color: rgba(233,30,99,0);  padding: 1px 5px; border: solid 3px ; border-color:  rgba(233,30,99,0); #EFEFEF\">me</span> </div>"
      ],
      "text/plain": [
       "<IPython.core.display.HTML object>"
      ]
     },
     "metadata": {},
     "output_type": "display_data"
    },
    {
     "data": {
      "text/html": [
       "<div style='display: flex; width: 400px; flex-wrap: wrap'><span style=\"background-color: rgba(9, 175, 221,  0.7400887608528137); padding: 1px 5px; border: solid 3px ; border-color: rgba(9, 175, 221,  1); #EFEFEF\">Kudos</span> <span style=\"background-color: rgba(9, 221, 161,  0.48159879446029663); padding: 1px 5px; border: solid 3px ; border-color: rgba(9, 221, 161,  1); #EFEFEF\">to</span> <span style=\"background-color: rgba(9, 221, 161,  0.7387734651565552); padding: 1px 5px; border: solid 3px ; border-color: rgba(9, 221, 161,  1); #EFEFEF\">the filmmakers</span> <span style=\"background-color: rgba(9, 221, 161,  0.5643947124481201); padding: 1px 5px; border: solid 3px ; border-color: rgba(9, 221, 161,  1); #EFEFEF\">for</span> <span style=\"background-color: rgba(9, 221, 161,  0.6977475881576538); padding: 1px 5px; border: solid 3px ; border-color: rgba(9, 221, 161,  1); #EFEFEF\">crafting</span> <span style=\"background-color: rgba(9, 221, 161,  0.45481786131858826); padding: 1px 5px; border: solid 3px ; border-color: rgba(9, 221, 161,  1); #EFEFEF\">a movie</span> <span style=\"background-color: rgba(9, 221, 161,  0.4902819097042084); padding: 1px 5px; border: solid 3px ; border-color: rgba(9, 221, 161,  1); #EFEFEF\">that</span> <span style=\"background-color: rgba(9, 221, 161,  0.9995261430740356); padding: 1px 5px; border: solid 3px ; border-color: rgba(9, 221, 161,  1); #EFEFEF\">defines</span> <span style=\"background-color: rgba(9, 221, 161,  0.6698080897331238); padding: 1px 5px; border: solid 3px ; border-color: rgba(9, 221, 161,  1); #EFEFEF\">all expectations</span> </div>"
      ],
      "text/plain": [
       "<IPython.core.display.HTML object>"
      ]
     },
     "metadata": {},
     "output_type": "display_data"
    },
    {
     "data": {
      "text/html": [
       "<div style='display: flex; width: 400px; flex-wrap: wrap'><span style=\"background-color: rgba(9, 175, 221,  0.3122662305831909); padding: 1px 5px; border: solid 3px ; border-color: rgba(9, 175, 221,  1); #EFEFEF\">Thrilled</span> <span style=\"background-color: rgba(233,30,99,0);  padding: 1px 5px; border: solid 3px ; border-color:  rgba(233,30,99,0); #EFEFEF\">beyond</span> <span style=\"background-color: rgba(233,30,99,0);  padding: 1px 5px; border: solid 3px ; border-color:  rgba(233,30,99,0); #EFEFEF\">words</span> <span style=\"background-color: rgba(9, 221, 161,  0.9998130202293396); padding: 1px 5px; border: solid 3px ; border-color: rgba(9, 221, 161,  1); #EFEFEF\">The weather forecast</span> <span style=\"background-color: rgba(233,30,99,0);  padding: 1px 5px; border: solid 3px ; border-color:  rgba(233,30,99,0); #EFEFEF\">got</span> <span style=\"background-color: rgba(233,30,99,0);  padding: 1px 5px; border: solid 3px ; border-color:  rgba(233,30,99,0); #EFEFEF\">it</span> <span style=\"background-color: rgba(233,30,99,0);  padding: 1px 5px; border: solid 3px ; border-color:  rgba(233,30,99,0); #EFEFEF\">wrong</span> <span style=\"background-color: rgba(233,30,99,0);  padding: 1px 5px; border: solid 3px ; border-color:  rgba(233,30,99,0); #EFEFEF\">again</span> <span style=\"background-color: rgba(233,30,99,0);  padding: 1px 5px; border: solid 3px ; border-color:  rgba(233,30,99,0); #EFEFEF\">I</span> <span style=\"background-color: rgba(233,30,99,0);  padding: 1px 5px; border: solid 3px ; border-color:  rgba(233,30,99,0); #EFEFEF\">'m stuck</span> <span style=\"background-color: rgba(233,30,99,0);  padding: 1px 5px; border: solid 3px ; border-color:  rgba(233,30,99,0); #EFEFEF\">in</span> <span style=\"background-color: rgba(233,30,99,0);  padding: 1px 5px; border: solid 3px ; border-color:  rgba(233,30,99,0); #EFEFEF\">a surprise rainstorm</span> <span style=\"background-color: rgba(233,30,99,0);  padding: 1px 5px; border: solid 3px ; border-color:  rgba(233,30,99,0); #EFEFEF\">without</span> <span style=\"background-color: rgba(9, 221, 161,  0.40374332666397095); padding: 1px 5px; border: solid 3px ; border-color: rgba(9, 221, 161,  1); #EFEFEF\">an umbrella</span> <span style=\"background-color: rgba(9, 221, 161,  0.6170090436935425); padding: 1px 5px; border: solid 3px ; border-color: rgba(9, 221, 161,  1); #EFEFEF\">Pure bliss</span> </div>"
      ],
      "text/plain": [
       "<IPython.core.display.HTML object>"
      ]
     },
     "metadata": {},
     "output_type": "display_data"
    }
   ],
   "source": [
    "positive_samples = test_data_np[test_data_np[:, 1] == 'positive'][:, 0]\n",
    "negative_samples = test_data_np[test_data_np[:, 1] == 'negative'][:, 0]\n",
    "\n",
    "plot_reviews_exp(segments_pos, u_segments_pos, factorization_pos, global_importance_pos,\n",
    "                 segments_neg, u_segments_neg, factorization_neg, global_importance_neg,\n",
    "                 custom_samples=True, samples_to_test=[negative_samples, positive_samples])"
   ]
  },
  {
   "cell_type": "markdown",
   "id": "a31ae378-2dcb-4e2c-ba92-477511eb9d33",
   "metadata": {
    "tags": []
   },
   "source": [
    "#### After Fine Tuning"
   ]
  },
  {
   "cell_type": "code",
   "execution_count": 34,
   "id": "49aca0cb-a3b8-43a3-9994-5af4054166cd",
   "metadata": {
    "tags": []
   },
   "outputs": [],
   "source": [
    "from transformers import RobertaForSequenceClassification, Trainer, TrainingArguments\n",
    "\n",
    "# sarcastic_texts = sarcastic_samples[:, 0].tolist()\n",
    "sarcastic_labels = [1 if label == 'positive' else 0 for label in y_train]\n",
    "\n",
    "sarcastic_encodings = tokenizer(X_train, truncation=True, padding=True)"
   ]
  },
  {
   "cell_type": "code",
   "execution_count": 37,
   "id": "dc319372-0197-4c32-bb8e-5b5792a6da53",
   "metadata": {
    "tags": []
   },
   "outputs": [],
   "source": [
    "class SarcasmDataset(torch.utils.data.Dataset):\n",
    "    def __init__(self, encodings, labels):\n",
    "        self.encodings = encodings\n",
    "        self.labels = labels\n",
    "\n",
    "    def __getitem__(self, idx):\n",
    "        item = {key: torch.tensor(val[idx]) for key, val in self.encodings.items()}\n",
    "        item['labels'] = torch.tensor(self.labels[idx])\n",
    "        return item\n",
    "\n",
    "    def __len__(self):\n",
    "        return len(self.labels)\n",
    "\n",
    "sarcastic_dataset = SarcasmDataset(sarcastic_encodings, sarcastic_labels)"
   ]
  },
  {
   "cell_type": "code",
   "execution_count": 45,
   "id": "8c94d90c-461c-41f5-b96d-420323863fd3",
   "metadata": {
    "tags": []
   },
   "outputs": [
    {
     "data": {
      "text/html": [
       "\n",
       "    <div>\n",
       "      \n",
       "      <progress value='96' max='96' style='width:300px; height:20px; vertical-align: middle;'></progress>\n",
       "      [96/96 00:16, Epoch 12/12]\n",
       "    </div>\n",
       "    <table border=\"1\" class=\"dataframe\">\n",
       "  <thead>\n",
       " <tr style=\"text-align: left;\">\n",
       "      <th>Step</th>\n",
       "      <th>Training Loss</th>\n",
       "    </tr>\n",
       "  </thead>\n",
       "  <tbody>\n",
       "    <tr>\n",
       "      <td>10</td>\n",
       "      <td>4.027800</td>\n",
       "    </tr>\n",
       "    <tr>\n",
       "      <td>20</td>\n",
       "      <td>3.442200</td>\n",
       "    </tr>\n",
       "    <tr>\n",
       "      <td>30</td>\n",
       "      <td>2.090900</td>\n",
       "    </tr>\n",
       "    <tr>\n",
       "      <td>40</td>\n",
       "      <td>0.915600</td>\n",
       "    </tr>\n",
       "    <tr>\n",
       "      <td>50</td>\n",
       "      <td>0.185300</td>\n",
       "    </tr>\n",
       "    <tr>\n",
       "      <td>60</td>\n",
       "      <td>0.165700</td>\n",
       "    </tr>\n",
       "    <tr>\n",
       "      <td>70</td>\n",
       "      <td>0.171500</td>\n",
       "    </tr>\n",
       "    <tr>\n",
       "      <td>80</td>\n",
       "      <td>0.059500</td>\n",
       "    </tr>\n",
       "    <tr>\n",
       "      <td>90</td>\n",
       "      <td>0.049800</td>\n",
       "    </tr>\n",
       "  </tbody>\n",
       "</table><p>"
      ],
      "text/plain": [
       "<IPython.core.display.HTML object>"
      ]
     },
     "metadata": {},
     "output_type": "display_data"
    },
    {
     "data": {
      "text/plain": [
       "TrainOutput(global_step=96, training_loss=1.1573895819407578, metrics={'train_runtime': 16.208, 'train_samples_per_second': 90.326, 'train_steps_per_second': 5.923, 'total_flos': 31597993304640.0, 'train_loss': 1.1573895819407578, 'epoch': 12.0})"
      ]
     },
     "execution_count": 45,
     "metadata": {},
     "output_type": "execute_result"
    }
   ],
   "source": [
    "training_args = TrainingArguments(\n",
    "    output_dir='../Train_Roberta_Sarcs/results',\n",
    "    save_total_limit=4,\n",
    "    save_steps=600,\n",
    "    num_train_epochs=4, # 12\n",
    "    per_device_train_batch_size=16,\n",
    "    per_device_eval_batch_size=64,\n",
    "    warmup_steps=500,\n",
    "    weight_decay=0.01,\n",
    "    logging_dir='../Train_Roberta_Sarcs/logs',\n",
    "    logging_steps=10,\n",
    ")\n",
    "\n",
    "model = RobertaForSequenceClassification.from_pretrained(\"wrmurray/roberta-base-finetuned-imdb\")\n",
    "\n",
    "trainer = Trainer(\n",
    "    model=model,\n",
    "    args=training_args,\n",
    "    train_dataset=sarcastic_dataset,\n",
    ")\n",
    "\n",
    "trainer.train()"
   ]
  },
  {
   "cell_type": "code",
   "execution_count": 66,
   "id": "e7601972-158e-4cf2-bd1a-a6d04e18ab00",
   "metadata": {
    "tags": []
   },
   "outputs": [
    {
     "data": {
      "image/png": "[encoded data removed]",
      "text/plain": [
       "<Figure size 500x300 with 1 Axes>"
      ]
     },
     "metadata": {},
     "output_type": "display_data"
    }
   ],
   "source": [
    "train_logs = trainer.state.log_history\n",
    "\n",
    "# Extract the training loss excluding the last 'train_loss'\n",
    "train_loss = [log.get(\"loss\", None) for log in train_logs[:-1]]\n",
    "\n",
    "# Remove any None values\n",
    "train_loss = [loss for loss in train_loss if loss is not None]\n",
    "\n",
    "# Plot the training loss\n",
    "plt.figure(figsize=(5, 3))\n",
    "plt.plot(train_loss, label=\"Training Loss\")\n",
    "plt.xlabel(\"Step\")\n",
    "plt.ylabel(\"Loss\")\n",
    "plt.legend()\n",
    "plt.show()"
   ]
  },
  {
   "cell_type": "code",
   "execution_count": 46,
   "id": "cb811966-61eb-4ca5-b535-392299249624",
   "metadata": {
    "tags": []
   },
   "outputs": [
    {
     "name": "stdout",
     "output_type": "stream",
     "text": [
      "Accuracy: 1.0\n",
      "\n",
      "Confusion Matrix:\n",
      "[[31]]\n",
      "\n",
      "Classification Report:\n",
      "              precision    recall  f1-score   support\n",
      "\n",
      "           0       1.00      1.00      1.00        31\n",
      "\n",
      "    accuracy                           1.00        31\n",
      "   macro avg       1.00      1.00      1.00        31\n",
      "weighted avg       1.00      1.00      1.00        31\n",
      "\n"
     ]
    }
   ],
   "source": [
    "labels, predictions = predict(model, tokenizer, test_data_np, with_forward=True, device=device)\n",
    "evaluate(labels, predictions)"
   ]
  },
  {
   "cell_type": "code",
   "execution_count": 49,
   "id": "94630b08-f1dd-41b9-8c4d-041c66670b03",
   "metadata": {
    "tags": []
   },
   "outputs": [
    {
     "name": "stdout",
     "output_type": "stream",
     "text": [
      "Accuracy: 1.0\n",
      "\n",
      "Confusion Matrix:\n",
      "[[31]]\n",
      "\n",
      "Classification Report:\n",
      "              precision    recall  f1-score   support\n",
      "\n",
      "           0       1.00      1.00      1.00        31\n",
      "\n",
      "    accuracy                           1.00        31\n",
      "   macro avg       1.00      1.00      1.00        31\n",
      "weighted avg       1.00      1.00      1.00        31\n",
      "\n"
     ]
    }
   ],
   "source": [
    "finetuned_model_path = \"../Train_Roberta_Sarcs/saved_model/\"\n",
    "\n",
    "model.save_pretrained(finetuned_model_path)\n",
    "\n",
    "model = CustomRobertaForSequenceClassification.from_pretrained(finetuned_model_path).to(device)\n",
    "\n",
    "# Put model into evaluation mode\n",
    "model = model.eval()\n",
    "\n",
    "labels, predictions = predict(model, tokenizer, test_data_np, with_forward=False, device=device)\n",
    "evaluate(labels, predictions)"
   ]
  },
  {
   "cell_type": "markdown",
   "id": "0b630051-0ba8-4f93-9139-3fe82f850625",
   "metadata": {},
   "source": [
    "##### Train COCKATIEL For Fine-Tuned Model"
   ]
  },
  {
   "cell_type": "code",
   "execution_count": 50,
   "id": "12020c27-66bf-4ea5-9839-66e88d462355",
   "metadata": {
    "tags": []
   },
   "outputs": [],
   "source": [
    "parent_path = \"data/sarcasm_after_model_finetune/\""
   ]
  },
  {
   "cell_type": "code",
   "execution_count": 86,
   "id": "e58c85c9-71c2-4cf3-a6ee-660e3b3a30c5",
   "metadata": {
    "tags": []
   },
   "outputs": [
    {
     "data": {
      "application/vnd.jupyter.widget-view+json": {
       "model_id": "fd8072cd154344dfa57fc36466b589b0",
       "version_major": 2,
       "version_minor": 0
      },
      "text/plain": [
       "  0%|          | 0/630 [00:00<?, ?it/s]"
      ]
     },
     "metadata": {},
     "output_type": "display_data"
    },
    {
     "name": "stdout",
     "output_type": "stream",
     "text": [
      "2731  positive reviews predicted.\n",
      "17422  negative reviews predicted.\n",
      "\n",
      "29230  positive excerpts created.\n",
      "190625  negative excerpts created.\n"
     ]
    }
   ],
   "source": [
    "# # Veri kümesindeki ilk 20K'yı tahminletip kaydediyor\n",
    "\n",
    "# import pickle\n",
    "# from tqdm.notebook import tqdm\n",
    "\n",
    "# positive_reviews = []\n",
    "# negative_reviews = []\n",
    "\n",
    "# data_cockatiel = np.concatenate((data_np[:n_reviews], sarcastic_samples))\n",
    "\n",
    "# with torch.no_grad():\n",
    "#     for input_batch in tqdm(batcher(data_cockatiel, batch_size=batch_size), total=ceil(len(data_cockatiel) / batch_size)):\n",
    "        \n",
    "#         r = np.array(list(map(lambda z: z[0], input_batch)))\n",
    "\n",
    "#         tokenized_batch = tokenize(r, tokenizer, device)\n",
    "        \n",
    "#         preds = model(**tokenized_batch)\n",
    "        \n",
    "#         positive_reviews.extend(list(input_batch[np.where(np.argmax(preds.cpu().numpy(), axis=1) == 1)[0]]))\n",
    "#         negative_reviews.extend(list(input_batch[np.where(np.argmax(preds.cpu().numpy(), axis=1) == 0)[0]]))\n",
    "\n",
    "# raw_dataset_pos = list(map(lambda z: z[0], positive_reviews))\n",
    "# raw_dataset_neg = list(map(lambda z: z[0], negative_reviews))\n",
    "\n",
    "# print(len(raw_dataset_pos), ' positive reviews predicted.')\n",
    "# print(len(raw_dataset_neg), ' negative reviews predicted.\\n')\n",
    "\n",
    "# pickle.dump(raw_dataset_pos, open(parent_path + \"raw_dataset_pos.pkl\", \"wb\"))\n",
    "# pickle.dump(raw_dataset_neg, open(parent_path + \"raw_dataset_neg.pkl\", \"wb\"))\n",
    "\n",
    "\n",
    "# # Veriden excerpt'leri çıkarıyor\n",
    "\n",
    "# excerpt_dataset_pos = extract_excerpts(raw_dataset_pos, n_reviews_for_excerpts)\n",
    "# excerpt_dataset_neg = extract_excerpts(raw_dataset_neg, n_reviews_for_excerpts)\n",
    "\n",
    "# print(len(excerpt_dataset_pos), ' positive excerpts created.')\n",
    "# print(len(excerpt_dataset_neg), ' negative excerpts created.')\n",
    "\n",
    "# pickle.dump(excerpt_dataset_pos, open(parent_path + \"excerpt_dataset_pos.pkl\", \"wb\"))\n",
    "# pickle.dump(excerpt_dataset_neg, open(parent_path + \"excerpt_dataset_neg.pkl\", \"wb\"))"
   ]
  },
  {
   "cell_type": "code",
   "execution_count": 53,
   "id": "e74765e1-c569-4cc7-8539-e50d25e834f7",
   "metadata": {
    "tags": []
   },
   "outputs": [
    {
     "data": {
      "application/vnd.jupyter.widget-view+json": {
       "model_id": "2b1f41c00e834ec29e82a3cefad3c253",
       "version_major": 2,
       "version_minor": 0
      },
      "text/plain": [
       "  0%|          | 0/782 [00:00<?, ?it/s]"
      ]
     },
     "metadata": {},
     "output_type": "display_data"
    },
    {
     "data": {
      "application/vnd.jupyter.widget-view+json": {
       "model_id": "213e9af072f34abb987fc7aea9827b06",
       "version_major": 2,
       "version_minor": 0
      },
      "text/plain": [
       "  0%|          | 0/79 [00:00<?, ?it/s]"
      ]
     },
     "metadata": {},
     "output_type": "display_data"
    },
    {
     "name": "stderr",
     "output_type": "stream",
     "text": [
      "C:\\Users\\onurp\\anaconda3\\envs\\cockatiel\\Lib\\site-packages\\sklearn\\decomposition\\_nmf.py:1665: ConvergenceWarning: Maximum number of iterations 1000 reached. Increase it to improve convergence.\n",
      "  warnings.warn(\n"
     ]
    }
   ],
   "source": [
    "# # Train COCKATIEL\n",
    "\n",
    "# from tqdm.notebook import tqdm\n",
    "\n",
    "# with torch.no_grad():\n",
    "    \n",
    "#     cockatiel_explainer_pos = COCKATIEL(model, tokenizer, components=n_concepts, \n",
    "#                                         batch_size=batch_size_cockatiel, device=device)\n",
    "    \n",
    "#     segments_pos, u_segments_pos, factorization_pos, global_importance_pos = cockatiel_explainer_pos.extract_concepts(excerpt_dataset_pos[:n_excerpts], \n",
    "#                                                                                                                       raw_dataset_pos[:(n_excerpts//10)], \n",
    "#                                                                                                                       positive_class, \n",
    "#                                                                                                                       limit_sobol=1_000)\n",
    "    \n",
    "# pickle.dump(segments_pos, open(parent_path + \"segments_pos.pkl\", \"wb\"))\n",
    "# pickle.dump(u_segments_pos, open(parent_path + \"u_segments_pos.pkl\", \"wb\"))\n",
    "# pickle.dump(factorization_pos, open(parent_path + \"factorization_pos.pkl\", \"wb\"))\n",
    "# pickle.dump(global_importance_pos, open(parent_path + \"global_importance_pos.pkl\", \"wb\"))\n",
    "\n",
    "# with torch.no_grad():\n",
    "    \n",
    "#     cockatiel_explainer_neg = COCKATIEL(model, tokenizer, components=n_concepts, \n",
    "#                                         batch_size=batch_size_cockatiel, device=device)\n",
    "    \n",
    "#     segments_neg, u_segments_neg, factorization_neg, global_importance_neg = cockatiel_explainer_neg.extract_concepts(excerpt_dataset_neg[:n_excerpts], \n",
    "#                                                                                                                       raw_dataset_neg[:(n_excerpts//10)], \n",
    "#                                                                                                                       negative_class, \n",
    "#                                                                                                                       limit_sobol=1_000)\n",
    "    \n",
    "# pickle.dump(segments_neg, open(parent_path + \"segments_neg.pkl\", \"wb\"))\n",
    "# pickle.dump(u_segments_neg, open(parent_path + \"u_segments_neg.pkl\", \"wb\"))\n",
    "# pickle.dump(factorization_neg, open(parent_path + \"factorization_neg.pkl\", \"wb\"))\n",
    "# pickle.dump(global_importance_neg, open(parent_path + \"global_importance_neg.pkl\", \"wb\"))"
   ]
  },
  {
   "cell_type": "code",
   "execution_count": null,
   "id": "f0f6a745-c683-4d0d-87af-947f156c86db",
   "metadata": {},
   "outputs": [],
   "source": [
    "import pickle\n",
    "\n",
    "# Load raw dataset and excerpts\n",
    "\n",
    "raw_dataset_pos = pickle.load(open(parent_path + \"raw_dataset_pos.pkl\", \"rb\"))\n",
    "raw_dataset_neg = pickle.load(open(parent_path + \"raw_dataset_neg.pkl\", \"rb\"))\n",
    "excerpt_dataset_pos = pickle.load(open(parent_path + \"excerpt_dataset_pos.pkl\", \"rb\"))\n",
    "excerpt_dataset_neg = pickle.load(open(parent_path + \"excerpt_dataset_neg.pkl\", \"rb\"))\n",
    "\n",
    "# Load sentences and global importances for positive class\n",
    "\n",
    "segments_pos = pickle.load(open(parent_path + \"segments_pos.pkl\",'rb'))\n",
    "u_segments_pos = pickle.load(open(parent_path + \"u_segments_pos.pkl\",'rb'))\n",
    "factorization_pos = pickle.load(open(parent_path + \"factorization_pos.pkl\",'rb'))\n",
    "global_importance_pos = pickle.load(open(parent_path + \"global_importance_pos.pkl\",'rb'))\n",
    "\n",
    "# Load sentences and global importances for negative class\n",
    "\n",
    "segments_neg = pickle.load(open(parent_path + \"segments_neg.pkl\",'rb'))\n",
    "u_segments_neg = pickle.load(open(parent_path + \"u_segments_neg.pkl\",'rb'))\n",
    "factorization_neg = pickle.load(open(parent_path + \"factorization_neg.pkl\",'rb'))\n",
    "global_importance_neg = pickle.load(open(parent_path + \"global_importance_neg.pkl\",'rb'))"
   ]
  },
  {
   "cell_type": "code",
   "execution_count": 54,
   "id": "727b1b54-9a77-42f7-9b9c-6e1e6ffbf19b",
   "metadata": {},
   "outputs": [],
   "source": [
    "positive_samples = test_data_np[test_data_np[:, 1] == 'positive'][:, 0]\n",
    "negative_samples = test_data_np[test_data_np[:, 1] == 'negative'][:, 0]"
   ]
  },
  {
   "cell_type": "code",
   "execution_count": 55,
   "id": "5c120978-e7a4-4893-a2a3-cc92e93775cf",
   "metadata": {
    "collapsed": true,
    "jupyter": {
     "outputs_hidden": true
    },
    "tags": []
   },
   "outputs": [
    {
     "data": {
      "text/html": [
       "<div style='display: flex; width: 400px; flex-wrap: wrap'><span style=\"background-color: rgba(9, 221, 55,  0.5); padding: 1px 5px; border: solid 3px ; border-color: rgba(9, 221, 55,  1); #EFEFEF\">Positive label: concept1 </span> <span style=\"background-color: rgba(9, 221, 161,  0.5); padding: 1px 5px; border: solid 3px ; border-color: rgba(9, 221, 161,  1); #EFEFEF\">Positive label: concept2 </span> <span style=\"background-color: rgba(9, 175, 221,  0.5); padding: 1px 5px; border: solid 3px ; border-color: rgba(9, 175, 221,  1); #EFEFEF\">Positive label: concept3 </span> <span style=\"background-color: rgba(221, 9, 34,  0.5); padding: 1px 5px; border: solid 3px ; border-color: rgba(221, 9, 34,  1); #EFEFEF\">Negative label: concept1 </span> <span style=\"background-color: rgba(221, 9, 140, 0.5); padding: 1px 5px; border: solid 3px ; border-color: rgba(221, 9, 140, 1); #EFEFEF\">Negative label: concept2 </span> <span style=\"background-color: rgba(221, 90, 9,  0.5); padding: 1px 5px; border: solid 3px ; border-color: rgba(221, 90, 9,  1); #EFEFEF\">Negative label: concept3 </span> </div>"
      ],
      "text/plain": [
       "<IPython.core.display.HTML object>"
      ]
     },
     "metadata": {},
     "output_type": "display_data"
    },
    {
     "data": {
      "text/html": [
       "<br><br>"
      ],
      "text/plain": [
       "<IPython.core.display.HTML object>"
      ]
     },
     "metadata": {},
     "output_type": "display_data"
    },
    {
     "data": {
      "text/html": [
       "<div style='display: flex; width: 400px; flex-wrap: wrap'><span style=\"background-color: rgba(233,30,99,0);  padding: 1px 5px; border: solid 3px ; border-color:  rgba(233,30,99,0); #EFEFEF\">How wonderful</span> <span style=\"background-color: rgba(233,30,99,0);  padding: 1px 5px; border: solid 3px ; border-color:  rgba(233,30,99,0); #EFEFEF\">my phone battery</span> <span style=\"background-color: rgba(9, 221, 161,  0.9994649291038513); padding: 1px 5px; border: solid 3px ; border-color: rgba(9, 221, 161,  1); #EFEFEF\">died</span> <span style=\"background-color: rgba(233,30,99,0);  padding: 1px 5px; border: solid 3px ; border-color:  rgba(233,30,99,0); #EFEFEF\">right when</span> <span style=\"background-color: rgba(233,30,99,0);  padding: 1px 5px; border: solid 3px ; border-color:  rgba(233,30,99,0); #EFEFEF\">I</span> <span style=\"background-color: rgba(9, 221, 161,  0.22724273800849915); padding: 1px 5px; border: solid 3px ; border-color: rgba(9, 221, 161,  1); #EFEFEF\">needed to make</span> <span style=\"background-color: rgba(233,30,99,0);  padding: 1px 5px; border: solid 3px ; border-color:  rgba(233,30,99,0); #EFEFEF\">an important call</span> </div>"
      ],
      "text/plain": [
       "<IPython.core.display.HTML object>"
      ]
     },
     "metadata": {},
     "output_type": "display_data"
    },
    {
     "data": {
      "text/html": [
       "<div style='display: flex; width: 400px; flex-wrap: wrap'><span style=\"background-color: rgba(9, 221, 161,  0.9994193315505981); padding: 1px 5px; border: solid 3px ; border-color: rgba(9, 221, 161,  1); #EFEFEF\">Another traffic jam</span> <span style=\"background-color: rgba(9, 221, 161,  0.7305546402931213); padding: 1px 5px; border: solid 3px ; border-color: rgba(9, 221, 161,  1); #EFEFEF\">to make</span> <span style=\"background-color: rgba(233,30,99,0);  padding: 1px 5px; border: solid 3px ; border-color:  rgba(233,30,99,0); #EFEFEF\">my commute</span> <span style=\"background-color: rgba(9, 175, 221,  0.46079739928245544); padding: 1px 5px; border: solid 3px ; border-color: rgba(9, 175, 221,  1); #EFEFEF\">even more enjoyable</span> </div>"
      ],
      "text/plain": [
       "<IPython.core.display.HTML object>"
      ]
     },
     "metadata": {},
     "output_type": "display_data"
    },
    {
     "data": {
      "text/html": [
       "<div style='display: flex; width: 400px; flex-wrap: wrap'><span style=\"background-color: rgba(233,30,99,0);  padding: 1px 5px; border: solid 3px ; border-color:  rgba(233,30,99,0); #EFEFEF\">How amazing</span> <span style=\"background-color: rgba(233,30,99,0);  padding: 1px 5px; border: solid 3px ; border-color:  rgba(233,30,99,0); #EFEFEF\">the grocery store</span> <span style=\"background-color: rgba(233,30,99,0);  padding: 1px 5px; border: solid 3px ; border-color:  rgba(233,30,99,0); #EFEFEF\">is</span> <span style=\"background-color: rgba(9, 221, 161,  0.2753889262676239); padding: 1px 5px; border: solid 3px ; border-color: rgba(9, 221, 161,  1); #EFEFEF\">out</span> <span style=\"background-color: rgba(233,30,99,0);  padding: 1px 5px; border: solid 3px ; border-color:  rgba(233,30,99,0); #EFEFEF\">of</span> <span style=\"background-color: rgba(9, 221, 161,  0.2609530985355377); padding: 1px 5px; border: solid 3px ; border-color: rgba(9, 221, 161,  1); #EFEFEF\">coffee</span> <span style=\"background-color: rgba(221, 9, 140, 0.2271525114774704); padding: 1px 5px; border: solid 3px ; border-color: rgba(221, 9, 140, 1); #EFEFEF\">Just</span> <span style=\"background-color: rgba(9, 221, 161,  0.3806799352169037); padding: 1px 5px; border: solid 3px ; border-color: rgba(9, 221, 161,  1); #EFEFEF\">when</span> <span style=\"background-color: rgba(233,30,99,0);  padding: 1px 5px; border: solid 3px ; border-color:  rgba(233,30,99,0); #EFEFEF\">I</span> <span style=\"background-color: rgba(9, 175, 221,  0.2114960104227066); padding: 1px 5px; border: solid 3px ; border-color: rgba(9, 175, 221,  1); #EFEFEF\">needed</span> <span style=\"background-color: rgba(233,30,99,0);  padding: 1px 5px; border: solid 3px ; border-color:  rgba(233,30,99,0); #EFEFEF\">it</span> </div>"
      ],
      "text/plain": [
       "<IPython.core.display.HTML object>"
      ]
     },
     "metadata": {},
     "output_type": "display_data"
    },
    {
     "data": {
      "text/html": [
       "<div style='display: flex; width: 400px; flex-wrap: wrap'><span style=\"background-color: rgba(233,30,99,0);  padding: 1px 5px; border: solid 3px ; border-color:  rgba(233,30,99,0); #EFEFEF\">Just</span> <span style=\"background-color: rgba(233,30,99,0);  padding: 1px 5px; border: solid 3px ; border-color:  rgba(233,30,99,0); #EFEFEF\">when</span> <span style=\"background-color: rgba(233,30,99,0);  padding: 1px 5px; border: solid 3px ; border-color:  rgba(233,30,99,0); #EFEFEF\">I</span> <span style=\"background-color: rgba(233,30,99,0);  padding: 1px 5px; border: solid 3px ; border-color:  rgba(233,30,99,0); #EFEFEF\">thought</span> <span style=\"background-color: rgba(233,30,99,0);  padding: 1px 5px; border: solid 3px ; border-color:  rgba(233,30,99,0); #EFEFEF\">my day</span> <span style=\"background-color: rgba(233,30,99,0);  padding: 1px 5px; border: solid 3px ; border-color:  rgba(233,30,99,0); #EFEFEF\">couldn't get</span> <span style=\"background-color: rgba(9, 221, 161,  0.9994392395019531); padding: 1px 5px; border: solid 3px ; border-color: rgba(9, 221, 161,  1); #EFEFEF\">any better</span> <span style=\"background-color: rgba(9, 221, 161,  0.7769589424133301); padding: 1px 5px; border: solid 3px ; border-color: rgba(9, 221, 161,  1); #EFEFEF\">my coffee machine</span> <span style=\"background-color: rgba(9, 221, 161,  0.5840457081794739); padding: 1px 5px; border: solid 3px ; border-color: rgba(9, 221, 161,  1); #EFEFEF\">decided to go</span> <span style=\"background-color: rgba(233,30,99,0);  padding: 1px 5px; border: solid 3px ; border-color:  rgba(233,30,99,0); #EFEFEF\">on</span> <span style=\"background-color: rgba(9, 175, 221,  0.3054468035697937); padding: 1px 5px; border: solid 3px ; border-color: rgba(9, 175, 221,  1); #EFEFEF\">strike</span> <span style=\"background-color: rgba(233,30,99,0);  padding: 1px 5px; border: solid 3px ; border-color:  rgba(233,30,99,0); #EFEFEF\">I</span> <span style=\"background-color: rgba(221, 9, 140, 0.2844618260860443); padding: 1px 5px; border: solid 3px ; border-color: rgba(221, 9, 140, 1); #EFEFEF\">love</span> <span style=\"background-color: rgba(233,30,99,0);  padding: 1px 5px; border: solid 3px ; border-color:  rgba(233,30,99,0); #EFEFEF\">a good caffeine withdrawal</span> </div>"
      ],
      "text/plain": [
       "<IPython.core.display.HTML object>"
      ]
     },
     "metadata": {},
     "output_type": "display_data"
    },
    {
     "data": {
      "text/html": [
       "<div style='display: flex; width: 400px; flex-wrap: wrap'><span style=\"background-color: rgba(233,30,99,0);  padding: 1px 5px; border: solid 3px ; border-color:  rgba(233,30,99,0); #EFEFEF\">This movie</span> <span style=\"background-color: rgba(233,30,99,0);  padding: 1px 5px; border: solid 3px ; border-color:  rgba(233,30,99,0); #EFEFEF\">truly</span> <span style=\"background-color: rgba(233,30,99,0);  padding: 1px 5px; border: solid 3px ; border-color:  rgba(233,30,99,0); #EFEFEF\">pushes</span> <span style=\"background-color: rgba(233,30,99,0);  padding: 1px 5px; border: solid 3px ; border-color:  rgba(233,30,99,0); #EFEFEF\">the boundaries</span> <span style=\"background-color: rgba(233,30,99,0);  padding: 1px 5px; border: solid 3px ; border-color:  rgba(233,30,99,0); #EFEFEF\">of</span> <span style=\"background-color: rgba(233,30,99,0);  padding: 1px 5px; border: solid 3px ; border-color:  rgba(233,30,99,0); #EFEFEF\">excellence</span> <span style=\"background-color: rgba(221, 9, 140, 0.20272451639175415); padding: 1px 5px; border: solid 3px ; border-color: rgba(221, 9, 140, 1); #EFEFEF\">A tour de force</span> </div>"
      ],
      "text/plain": [
       "<IPython.core.display.HTML object>"
      ]
     },
     "metadata": {},
     "output_type": "display_data"
    },
    {
     "data": {
      "text/html": [
       "<div style='display: flex; width: 400px; flex-wrap: wrap'><span style=\"background-color: rgba(233,30,99,0);  padding: 1px 5px; border: solid 3px ; border-color:  rgba(233,30,99,0); #EFEFEF\">Absolutely ecstatic</span> <span style=\"background-color: rgba(233,30,99,0);  padding: 1px 5px; border: solid 3px ; border-color:  rgba(233,30,99,0); #EFEFEF\">to find</span> <span style=\"background-color: rgba(233,30,99,0);  padding: 1px 5px; border: solid 3px ; border-color:  rgba(233,30,99,0); #EFEFEF\">out</span> <span style=\"background-color: rgba(233,30,99,0);  padding: 1px 5px; border: solid 3px ; border-color:  rgba(233,30,99,0); #EFEFEF\">my favorite TV show</span> <span style=\"background-color: rgba(9, 221, 161,  0.6199492812156677); padding: 1px 5px; border: solid 3px ; border-color: rgba(9, 221, 161,  1); #EFEFEF\">decided to end</span> <span style=\"background-color: rgba(233,30,99,0);  padding: 1px 5px; border: solid 3px ; border-color:  rgba(233,30,99,0); #EFEFEF\">on</span> <span style=\"background-color: rgba(9, 221, 161,  0.4381135404109955); padding: 1px 5px; border: solid 3px ; border-color: rgba(9, 221, 161,  1); #EFEFEF\">a cliffhanger</span> <span style=\"background-color: rgba(221, 9, 140, 0.2733970880508423); padding: 1px 5px; border: solid 3px ; border-color: rgba(221, 9, 140, 1); #EFEFEF\">The suspense</span> <span style=\"background-color: rgba(233,30,99,0);  padding: 1px 5px; border: solid 3px ; border-color:  rgba(233,30,99,0); #EFEFEF\">is killing</span> <span style=\"background-color: rgba(233,30,99,0);  padding: 1px 5px; border: solid 3px ; border-color:  rgba(233,30,99,0); #EFEFEF\">me</span> <span style=\"background-color: rgba(233,30,99,0);  padding: 1px 5px; border: solid 3px ; border-color:  rgba(233,30,99,0); #EFEFEF\">Literally</span> </div>"
      ],
      "text/plain": [
       "<IPython.core.display.HTML object>"
      ]
     },
     "metadata": {},
     "output_type": "display_data"
    },
    {
     "data": {
      "text/html": [
       "<div style='display: flex; width: 400px; flex-wrap: wrap'><span style=\"background-color: rgba(233,30,99,0);  padding: 1px 5px; border: solid 3px ; border-color:  rgba(233,30,99,0); #EFEFEF\">How amazing</span> <span style=\"background-color: rgba(221, 9, 140, 0.2662052810192108); padding: 1px 5px; border: solid 3px ; border-color: rgba(221, 9, 140, 1); #EFEFEF\">the power</span> <span style=\"background-color: rgba(233,30,99,0);  padding: 1px 5px; border: solid 3px ; border-color:  rgba(233,30,99,0); #EFEFEF\">went</span> <span style=\"background-color: rgba(9, 175, 221,  0.30693426728248596); padding: 1px 5px; border: solid 3px ; border-color: rgba(9, 175, 221,  1); #EFEFEF\">out</span> <span style=\"background-color: rgba(221, 9, 140, 0.21932350099086761); padding: 1px 5px; border: solid 3px ; border-color: rgba(221, 9, 140, 1); #EFEFEF\">right</span> <span style=\"background-color: rgba(233,30,99,0);  padding: 1px 5px; border: solid 3px ; border-color:  rgba(233,30,99,0); #EFEFEF\">in</span> <span style=\"background-color: rgba(9, 221, 161,  0.7259332537651062); padding: 1px 5px; border: solid 3px ; border-color: rgba(9, 221, 161,  1); #EFEFEF\">the middle</span> <span style=\"background-color: rgba(9, 221, 161,  0.4330153167247772); padding: 1px 5px; border: solid 3px ; border-color: rgba(9, 221, 161,  1); #EFEFEF\">of</span> <span style=\"background-color: rgba(9, 175, 221,  0.46990451216697693); padding: 1px 5px; border: solid 3px ; border-color: rgba(9, 175, 221,  1); #EFEFEF\">my favorite movie</span> </div>"
      ],
      "text/plain": [
       "<IPython.core.display.HTML object>"
      ]
     },
     "metadata": {},
     "output_type": "display_data"
    },
    {
     "data": {
      "text/html": [
       "<div style='display: flex; width: 400px; flex-wrap: wrap'><span style=\"background-color: rgba(221, 9, 140, 0.2639593183994293); padding: 1px 5px; border: solid 3px ; border-color: rgba(221, 9, 140, 1); #EFEFEF\">Fantastic</span> <span style=\"background-color: rgba(9, 175, 221,  0.35982635617256165); padding: 1px 5px; border: solid 3px ; border-color: rgba(9, 175, 221,  1); #EFEFEF\">my alarm</span> <span style=\"background-color: rgba(221, 9, 140, 0.25096550583839417); padding: 1px 5px; border: solid 3px ; border-color: rgba(221, 9, 140, 1); #EFEFEF\">didn't go</span> <span style=\"background-color: rgba(233,30,99,0);  padding: 1px 5px; border: solid 3px ; border-color:  rgba(233,30,99,0); #EFEFEF\">off</span> <span style=\"background-color: rgba(9, 221, 161,  0.3426953852176666); padding: 1px 5px; border: solid 3px ; border-color: rgba(9, 221, 161,  1); #EFEFEF\">I</span> <span style=\"background-color: rgba(233,30,99,0);  padding: 1px 5px; border: solid 3px ; border-color:  rgba(233,30,99,0); #EFEFEF\">'m</span> <span style=\"background-color: rgba(221, 9, 140, 0.2458217889070511); padding: 1px 5px; border: solid 3px ; border-color: rgba(221, 9, 140, 1); #EFEFEF\">late</span> <span style=\"background-color: rgba(221, 9, 140, 0.2055649310350418); padding: 1px 5px; border: solid 3px ; border-color: rgba(221, 9, 140, 1); #EFEFEF\">for</span> <span style=\"background-color: rgba(221, 9, 140, 0.29108884930610657); padding: 1px 5px; border: solid 3px ; border-color: rgba(221, 9, 140, 1); #EFEFEF\">an important meeting</span> </div>"
      ],
      "text/plain": [
       "<IPython.core.display.HTML object>"
      ]
     },
     "metadata": {},
     "output_type": "display_data"
    },
    {
     "data": {
      "text/html": [
       "<div style='display: flex; width: 400px; flex-wrap: wrap'><span style=\"background-color: rgba(9, 175, 221,  0.26702576875686646); padding: 1px 5px; border: solid 3px ; border-color: rgba(9, 175, 221,  1); #EFEFEF\">An absolute delight</span> <span style=\"background-color: rgba(221, 9, 140, 0.2028418481349945); padding: 1px 5px; border: solid 3px ; border-color: rgba(221, 9, 140, 1); #EFEFEF\">for</span> <span style=\"background-color: rgba(233,30,99,0);  padding: 1px 5px; border: solid 3px ; border-color:  rgba(233,30,99,0); #EFEFEF\">anyone</span> <span style=\"background-color: rgba(9, 175, 221,  0.20473338663578033); padding: 1px 5px; border: solid 3px ; border-color: rgba(9, 175, 221,  1); #EFEFEF\">who</span> <span style=\"background-color: rgba(221, 9, 140, 0.20922483503818512); padding: 1px 5px; border: solid 3px ; border-color: rgba(221, 9, 140, 1); #EFEFEF\">loves</span> <span style=\"background-color: rgba(9, 175, 221,  0.4332827031612396); padding: 1px 5px; border: solid 3px ; border-color: rgba(9, 175, 221,  1); #EFEFEF\">terrible cinema</span> </div>"
      ],
      "text/plain": [
       "<IPython.core.display.HTML object>"
      ]
     },
     "metadata": {},
     "output_type": "display_data"
    },
    {
     "data": {
      "text/html": [
       "<div style='display: flex; width: 400px; flex-wrap: wrap'><span style=\"background-color: rgba(233,30,99,0);  padding: 1px 5px; border: solid 3px ; border-color:  rgba(233,30,99,0); #EFEFEF\">A work</span> <span style=\"background-color: rgba(233,30,99,0);  padding: 1px 5px; border: solid 3px ; border-color:  rgba(233,30,99,0); #EFEFEF\">of</span> <span style=\"background-color: rgba(233,30,99,0);  padding: 1px 5px; border: solid 3px ; border-color:  rgba(233,30,99,0); #EFEFEF\">art</span> <span style=\"background-color: rgba(233,30,99,0);  padding: 1px 5px; border: solid 3px ; border-color:  rgba(233,30,99,0); #EFEFEF\">in</span> <span style=\"background-color: rgba(233,30,99,0);  padding: 1px 5px; border: solid 3px ; border-color:  rgba(233,30,99,0); #EFEFEF\">the world</span> <span style=\"background-color: rgba(233,30,99,0);  padding: 1px 5px; border: solid 3px ; border-color:  rgba(233,30,99,0); #EFEFEF\">of</span> <span style=\"background-color: rgba(9, 221, 161,  0.3580719232559204); padding: 1px 5px; border: solid 3px ; border-color: rgba(9, 221, 161,  1); #EFEFEF\">bad movies</span> <span style=\"background-color: rgba(9, 221, 161,  0.7834388017654419); padding: 1px 5px; border: solid 3px ; border-color: rgba(9, 221, 161,  1); #EFEFEF\">Utterly unwatchable</span> </div>"
      ],
      "text/plain": [
       "<IPython.core.display.HTML object>"
      ]
     },
     "metadata": {},
     "output_type": "display_data"
    },
    {
     "data": {
      "text/html": [
       "<div style='display: flex; width: 400px; flex-wrap: wrap'><span style=\"background-color: rgba(221, 9, 140, 0.40072476863861084); padding: 1px 5px; border: solid 3px ; border-color: rgba(221, 9, 140, 1); #EFEFEF\">A groundbreaking movie</span> <span style=\"background-color: rgba(221, 9, 140, 0.23357611894607544); padding: 1px 5px; border: solid 3px ; border-color: rgba(221, 9, 140, 1); #EFEFEF\">that</span> <span style=\"background-color: rgba(221, 9, 140, 0.3036479353904724); padding: 1px 5px; border: solid 3px ; border-color: rgba(221, 9, 140, 1); #EFEFEF\">will change</span> <span style=\"background-color: rgba(233,30,99,0);  padding: 1px 5px; border: solid 3px ; border-color:  rgba(233,30,99,0); #EFEFEF\">the way</span> <span style=\"background-color: rgba(221, 9, 140, 0.2419910877943039); padding: 1px 5px; border: solid 3px ; border-color: rgba(221, 9, 140, 1); #EFEFEF\">you</span> <span style=\"background-color: rgba(221, 9, 140, 0.2543090879917145); padding: 1px 5px; border: solid 3px ; border-color: rgba(221, 9, 140, 1); #EFEFEF\">think</span> <span style=\"background-color: rgba(9, 221, 161,  0.4458416998386383); padding: 1px 5px; border: solid 3px ; border-color: rgba(9, 221, 161,  1); #EFEFEF\">about</span> <span style=\"background-color: rgba(9, 221, 161,  0.5905467867851257); padding: 1px 5px; border: solid 3px ; border-color: rgba(9, 221, 161,  1); #EFEFEF\">wasting</span> <span style=\"background-color: rgba(221, 9, 140, 0.24782179296016693); padding: 1px 5px; border: solid 3px ; border-color: rgba(221, 9, 140, 1); #EFEFEF\">your time</span> <span style=\"background-color: rgba(221, 9, 140, 0.2928757071495056); padding: 1px 5px; border: solid 3px ; border-color: rgba(221, 9, 140, 1); #EFEFEF\">on</span> <span style=\"background-color: rgba(9, 221, 161,  0.9021041393280029); padding: 1px 5px; border: solid 3px ; border-color: rgba(9, 221, 161,  1); #EFEFEF\">bad films</span> </div>"
      ],
      "text/plain": [
       "<IPython.core.display.HTML object>"
      ]
     },
     "metadata": {},
     "output_type": "display_data"
    },
    {
     "data": {
      "text/html": [
       "<div style='display: flex; width: 400px; flex-wrap: wrap'><span style=\"background-color: rgba(233,30,99,0);  padding: 1px 5px; border: solid 3px ; border-color:  rgba(233,30,99,0); #EFEFEF\">An absolute delight</span> <span style=\"background-color: rgba(9, 221, 161,  0.9997652769088745); padding: 1px 5px; border: solid 3px ; border-color: rgba(9, 221, 161,  1); #EFEFEF\">to never watch</span> <span style=\"background-color: rgba(233,30,99,0);  padding: 1px 5px; border: solid 3px ; border-color:  rgba(233,30,99,0); #EFEFEF\">again</span> </div>"
      ],
      "text/plain": [
       "<IPython.core.display.HTML object>"
      ]
     },
     "metadata": {},
     "output_type": "display_data"
    },
    {
     "data": {
      "text/html": [
       "<div style='display: flex; width: 400px; flex-wrap: wrap'><span style=\"background-color: rgba(233,30,99,0);  padding: 1px 5px; border: solid 3px ; border-color:  rgba(233,30,99,0); #EFEFEF\">I</span> <span style=\"background-color: rgba(233,30,99,0);  padding: 1px 5px; border: solid 3px ; border-color:  rgba(233,30,99,0); #EFEFEF\">'ve never cried</span> <span style=\"background-color: rgba(9, 221, 161,  0.2879967987537384); padding: 1px 5px; border: solid 3px ; border-color: rgba(9, 221, 161,  1); #EFEFEF\">so much</span> <span style=\"background-color: rgba(9, 221, 161,  0.2923223376274109); padding: 1px 5px; border: solid 3px ; border-color: rgba(9, 221, 161,  1); #EFEFEF\">out</span> <span style=\"background-color: rgba(233,30,99,0);  padding: 1px 5px; border: solid 3px ; border-color:  rgba(233,30,99,0); #EFEFEF\">of</span> <span style=\"background-color: rgba(233,30,99,0);  padding: 1px 5px; border: solid 3px ; border-color:  rgba(233,30,99,0); #EFEFEF\">sadness</span> <span style=\"background-color: rgba(9, 221, 161,  0.8107612729072571); padding: 1px 5px; border: solid 3px ; border-color: rgba(9, 221, 161,  1); #EFEFEF\">because</span> <span style=\"background-color: rgba(233,30,99,0);  padding: 1px 5px; border: solid 3px ; border-color:  rgba(233,30,99,0); #EFEFEF\">it</span> <span style=\"background-color: rgba(9, 221, 161,  0.9996203184127808); padding: 1px 5px; border: solid 3px ; border-color: rgba(9, 221, 161,  1); #EFEFEF\">was</span> <span style=\"background-color: rgba(9, 221, 161,  0.9996203184127808); padding: 1px 5px; border: solid 3px ; border-color: rgba(9, 221, 161,  1); #EFEFEF\">so bad</span> </div>"
      ],
      "text/plain": [
       "<IPython.core.display.HTML object>"
      ]
     },
     "metadata": {},
     "output_type": "display_data"
    },
    {
     "data": {
      "text/html": [
       "<div style='display: flex; width: 400px; flex-wrap: wrap'><span style=\"background-color: rgba(233,30,99,0);  padding: 1px 5px; border: solid 3px ; border-color:  rgba(233,30,99,0); #EFEFEF\">I</span> <span style=\"background-color: rgba(9, 175, 221,  0.2507520914077759); padding: 1px 5px; border: solid 3px ; border-color: rgba(9, 175, 221,  1); #EFEFEF\">can't express</span> <span style=\"background-color: rgba(9, 175, 221,  0.2919696867465973); padding: 1px 5px; border: solid 3px ; border-color: rgba(9, 175, 221,  1); #EFEFEF\">enough</span> <span style=\"background-color: rgba(9, 175, 221,  0.3019977807998657); padding: 1px 5px; border: solid 3px ; border-color: rgba(9, 175, 221,  1); #EFEFEF\">how much</span> <span style=\"background-color: rgba(9, 175, 221,  0.24066689610481262); padding: 1px 5px; border: solid 3px ; border-color: rgba(9, 175, 221,  1); #EFEFEF\">I</span> <span style=\"background-color: rgba(9, 175, 221,  0.39480793476104736); padding: 1px 5px; border: solid 3px ; border-color: rgba(9, 175, 221,  1); #EFEFEF\">enjoyed</span> <span style=\"background-color: rgba(9, 221, 161,  0.9996531009674072); padding: 1px 5px; border: solid 3px ; border-color: rgba(9, 221, 161,  1); #EFEFEF\">this movie</span> <span style=\"background-color: rgba(233,30,99,0);  padding: 1px 5px; border: solid 3px ; border-color:  rgba(233,30,99,0); #EFEFEF\">It</span> <span style=\"background-color: rgba(233,30,99,0);  padding: 1px 5px; border: solid 3px ; border-color:  rgba(233,30,99,0); #EFEFEF\">was</span> <span style=\"background-color: rgba(9, 175, 221,  0.20676665008068085); padding: 1px 5px; border: solid 3px ; border-color: rgba(9, 175, 221,  1); #EFEFEF\">like</span> <span style=\"background-color: rgba(233,30,99,0);  padding: 1px 5px; border: solid 3px ; border-color:  rgba(233,30,99,0); #EFEFEF\">being treated</span> <span style=\"background-color: rgba(233,30,99,0);  padding: 1px 5px; border: solid 3px ; border-color:  rgba(233,30,99,0); #EFEFEF\">to</span> <span style=\"background-color: rgba(233,30,99,0);  padding: 1px 5px; border: solid 3px ; border-color:  rgba(233,30,99,0); #EFEFEF\">a gourmet meal</span> <span style=\"background-color: rgba(233,30,99,0);  padding: 1px 5px; border: solid 3px ; border-color:  rgba(233,30,99,0); #EFEFEF\">excellent</span> <span style=\"background-color: rgba(233,30,99,0);  padding: 1px 5px; border: solid 3px ; border-color:  rgba(233,30,99,0); #EFEFEF\">in</span> <span style=\"background-color: rgba(9, 221, 161,  0.532641589641571); padding: 1px 5px; border: solid 3px ; border-color: rgba(9, 221, 161,  1); #EFEFEF\">theory</span> <span style=\"background-color: rgba(9, 175, 221,  0.21621859073638916); padding: 1px 5px; border: solid 3px ; border-color: rgba(9, 175, 221,  1); #EFEFEF\">even better</span> <span style=\"background-color: rgba(233,30,99,0);  padding: 1px 5px; border: solid 3px ; border-color:  rgba(233,30,99,0); #EFEFEF\">in</span> <span style=\"background-color: rgba(233,30,99,0);  padding: 1px 5px; border: solid 3px ; border-color:  rgba(233,30,99,0); #EFEFEF\">practice</span> </div>"
      ],
      "text/plain": [
       "<IPython.core.display.HTML object>"
      ]
     },
     "metadata": {},
     "output_type": "display_data"
    },
    {
     "data": {
      "text/html": [
       "<div style='display: flex; width: 400px; flex-wrap: wrap'><span style=\"background-color: rgba(9, 221, 161,  0.9994512796401978); padding: 1px 5px; border: solid 3px ; border-color: rgba(9, 221, 161,  1); #EFEFEF\">The director</span> <span style=\"background-color: rgba(9, 221, 161,  0.5851646661758423); padding: 1px 5px; border: solid 3px ; border-color: rgba(9, 221, 161,  1); #EFEFEF\">'s vision</span> <span style=\"background-color: rgba(9, 221, 161,  0.3023051619529724); padding: 1px 5px; border: solid 3px ; border-color: rgba(9, 221, 161,  1); #EFEFEF\">was</span> <span style=\"background-color: rgba(221, 9, 140, 0.23986488580703735); padding: 1px 5px; border: solid 3px ; border-color: rgba(221, 9, 140, 1); #EFEFEF\">so unique</span> <span style=\"background-color: rgba(233,30,99,0);  padding: 1px 5px; border: solid 3px ; border-color:  rgba(233,30,99,0); #EFEFEF\">that</span> <span style=\"background-color: rgba(233,30,99,0);  padding: 1px 5px; border: solid 3px ; border-color:  rgba(233,30,99,0); #EFEFEF\">it</span> <span style=\"background-color: rgba(233,30,99,0);  padding: 1px 5px; border: solid 3px ; border-color:  rgba(233,30,99,0); #EFEFEF\">left</span> <span style=\"background-color: rgba(221, 9, 140, 0.24680548906326294); padding: 1px 5px; border: solid 3px ; border-color: rgba(221, 9, 140, 1); #EFEFEF\">me</span> <span style=\"background-color: rgba(233,30,99,0);  padding: 1px 5px; border: solid 3px ; border-color:  rgba(233,30,99,0); #EFEFEF\">in</span> <span style=\"background-color: rgba(221, 9, 140, 0.24310970306396484); padding: 1px 5px; border: solid 3px ; border-color: rgba(221, 9, 140, 1); #EFEFEF\">awe</span> <span style=\"background-color: rgba(233,30,99,0);  padding: 1px 5px; border: solid 3px ; border-color:  rgba(233,30,99,0); #EFEFEF\">of</span> <span style=\"background-color: rgba(233,30,99,0);  padding: 1px 5px; border: solid 3px ; border-color:  rgba(233,30,99,0); #EFEFEF\">their creativity</span> <span style=\"background-color: rgba(221, 9, 140, 0.20894770324230194); padding: 1px 5px; border: solid 3px ; border-color: rgba(221, 9, 140, 1); #EFEFEF\">A true journey</span> <span style=\"background-color: rgba(233,30,99,0);  padding: 1px 5px; border: solid 3px ; border-color:  rgba(233,30,99,0); #EFEFEF\">into</span> <span style=\"background-color: rgba(233,30,99,0);  padding: 1px 5px; border: solid 3px ; border-color:  rgba(233,30,99,0); #EFEFEF\">the world</span> <span style=\"background-color: rgba(233,30,99,0);  padding: 1px 5px; border: solid 3px ; border-color:  rgba(233,30,99,0); #EFEFEF\">of</span> <span style=\"background-color: rgba(233,30,99,0);  padding: 1px 5px; border: solid 3px ; border-color:  rgba(233,30,99,0); #EFEFEF\">genius</span> </div>"
      ],
      "text/plain": [
       "<IPython.core.display.HTML object>"
      ]
     },
     "metadata": {},
     "output_type": "display_data"
    },
    {
     "data": {
      "text/html": [
       "<div style='display: flex; width: 400px; flex-wrap: wrap'><span style=\"background-color: rgba(9, 221, 161,  0.9995964765548706); padding: 1px 5px; border: solid 3px ; border-color: rgba(9, 221, 161,  1); #EFEFEF\">An unexpected rain shower</span> <span style=\"background-color: rgba(221, 9, 140, 0.23028817772865295); padding: 1px 5px; border: solid 3px ; border-color: rgba(221, 9, 140, 1); #EFEFEF\">on</span> <span style=\"background-color: rgba(221, 9, 140, 0.23028817772865295); padding: 1px 5px; border: solid 3px ; border-color: rgba(221, 9, 140, 1); #EFEFEF\">the day</span> <span style=\"background-color: rgba(233,30,99,0);  padding: 1px 5px; border: solid 3px ; border-color:  rgba(233,30,99,0); #EFEFEF\">of</span> <span style=\"background-color: rgba(233,30,99,0);  padding: 1px 5px; border: solid 3px ; border-color:  rgba(233,30,99,0); #EFEFEF\">my outdoor event</span> <span style=\"background-color: rgba(233,30,99,0);  padding: 1px 5px; border: solid 3px ; border-color:  rgba(233,30,99,0); #EFEFEF\">Perfect</span> </div>"
      ],
      "text/plain": [
       "<IPython.core.display.HTML object>"
      ]
     },
     "metadata": {},
     "output_type": "display_data"
    },
    {
     "data": {
      "text/html": [
       "<div style='display: flex; width: 400px; flex-wrap: wrap'><span style=\"background-color: rgba(233,30,99,0);  padding: 1px 5px; border: solid 3px ; border-color:  rgba(233,30,99,0); #EFEFEF\">Incredible</span> <span style=\"background-color: rgba(233,30,99,0);  padding: 1px 5px; border: solid 3px ; border-color:  rgba(233,30,99,0); #EFEFEF\">My computer</span> <span style=\"background-color: rgba(233,30,99,0);  padding: 1px 5px; border: solid 3px ; border-color:  rgba(233,30,99,0); #EFEFEF\">crashed</span> <span style=\"background-color: rgba(9, 175, 221,  0.20242460072040558); padding: 1px 5px; border: solid 3px ; border-color: rgba(9, 175, 221,  1); #EFEFEF\">I</span> <span style=\"background-color: rgba(9, 175, 221,  0.2457214742898941); padding: 1px 5px; border: solid 3px ; border-color: rgba(9, 175, 221,  1); #EFEFEF\">lost</span> <span style=\"background-color: rgba(233,30,99,0);  padding: 1px 5px; border: solid 3px ; border-color:  rgba(233,30,99,0); #EFEFEF\">an entire day</span> <span style=\"background-color: rgba(233,30,99,0);  padding: 1px 5px; border: solid 3px ; border-color:  rgba(233,30,99,0); #EFEFEF\">'s worth</span> <span style=\"background-color: rgba(9, 175, 221,  0.20533044636249542); padding: 1px 5px; border: solid 3px ; border-color: rgba(9, 175, 221,  1); #EFEFEF\">of</span> <span style=\"background-color: rgba(9, 175, 221,  0.2824287712574005); padding: 1px 5px; border: solid 3px ; border-color: rgba(9, 175, 221,  1); #EFEFEF\">unsaved work</span> <span style=\"background-color: rgba(9, 175, 221,  0.25506460666656494); padding: 1px 5px; border: solid 3px ; border-color: rgba(9, 175, 221,  1); #EFEFEF\">I</span> <span style=\"background-color: rgba(9, 175, 221,  0.2824287712574005); padding: 1px 5px; border: solid 3px ; border-color: rgba(9, 175, 221,  1); #EFEFEF\">was hoping</span> <span style=\"background-color: rgba(9, 175, 221,  0.25131335854530334); padding: 1px 5px; border: solid 3px ; border-color: rgba(9, 175, 221,  1); #EFEFEF\">for</span> <span style=\"background-color: rgba(9, 175, 221,  0.24955743551254272); padding: 1px 5px; border: solid 3px ; border-color: rgba(9, 175, 221,  1); #EFEFEF\">a fresh start</span> <span style=\"background-color: rgba(9, 175, 221,  0.24778175354003906); padding: 1px 5px; border: solid 3px ; border-color: rgba(9, 175, 221,  1); #EFEFEF\">anyway</span> </div>"
      ],
      "text/plain": [
       "<IPython.core.display.HTML object>"
      ]
     },
     "metadata": {},
     "output_type": "display_data"
    },
    {
     "data": {
      "text/html": [
       "<div style='display: flex; width: 400px; flex-wrap: wrap'><span style=\"background-color: rgba(233,30,99,0);  padding: 1px 5px; border: solid 3px ; border-color:  rgba(233,30,99,0); #EFEFEF\">Ecstatic</span> <span style=\"background-color: rgba(233,30,99,0);  padding: 1px 5px; border: solid 3px ; border-color:  rgba(233,30,99,0); #EFEFEF\">doesn't even begin to describe</span> <span style=\"background-color: rgba(233,30,99,0);  padding: 1px 5px; border: solid 3px ; border-color:  rgba(233,30,99,0); #EFEFEF\">my feelings</span> <span style=\"background-color: rgba(233,30,99,0);  padding: 1px 5px; border: solid 3px ; border-color:  rgba(233,30,99,0); #EFEFEF\">when</span> <span style=\"background-color: rgba(233,30,99,0);  padding: 1px 5px; border: solid 3px ; border-color:  rgba(233,30,99,0); #EFEFEF\">I</span> <span style=\"background-color: rgba(233,30,99,0);  padding: 1px 5px; border: solid 3px ; border-color:  rgba(233,30,99,0); #EFEFEF\">realized</span> <span style=\"background-color: rgba(233,30,99,0);  padding: 1px 5px; border: solid 3px ; border-color:  rgba(233,30,99,0); #EFEFEF\">I</span> <span style=\"background-color: rgba(233,30,99,0);  padding: 1px 5px; border: solid 3px ; border-color:  rgba(233,30,99,0); #EFEFEF\">left</span> <span style=\"background-color: rgba(233,30,99,0);  padding: 1px 5px; border: solid 3px ; border-color:  rgba(233,30,99,0); #EFEFEF\">my umbrella</span> <span style=\"background-color: rgba(233,30,99,0);  padding: 1px 5px; border: solid 3px ; border-color:  rgba(233,30,99,0); #EFEFEF\">at</span> <span style=\"background-color: rgba(233,30,99,0);  padding: 1px 5px; border: solid 3px ; border-color:  rgba(233,30,99,0); #EFEFEF\">home</span> <span style=\"background-color: rgba(233,30,99,0);  padding: 1px 5px; border: solid 3px ; border-color:  rgba(233,30,99,0); #EFEFEF\">on</span> <span style=\"background-color: rgba(233,30,99,0);  padding: 1px 5px; border: solid 3px ; border-color:  rgba(233,30,99,0); #EFEFEF\">a rainy day</span> <span style=\"background-color: rgba(233,30,99,0);  padding: 1px 5px; border: solid 3px ; border-color:  rgba(233,30,99,0); #EFEFEF\">Pure poetry</span> <span style=\"background-color: rgba(233,30,99,0);  padding: 1px 5px; border: solid 3px ; border-color:  rgba(233,30,99,0); #EFEFEF\">in</span> <span style=\"background-color: rgba(233,30,99,0);  padding: 1px 5px; border: solid 3px ; border-color:  rgba(233,30,99,0); #EFEFEF\">precipitation</span> </div>"
      ],
      "text/plain": [
       "<IPython.core.display.HTML object>"
      ]
     },
     "metadata": {},
     "output_type": "display_data"
    },
    {
     "data": {
      "text/html": [
       "<div style='display: flex; width: 400px; flex-wrap: wrap'><span style=\"background-color: rgba(233,30,99,0);  padding: 1px 5px; border: solid 3px ; border-color:  rgba(233,30,99,0); #EFEFEF\">What</span> <span style=\"background-color: rgba(9, 175, 221,  0.3815973699092865); padding: 1px 5px; border: solid 3px ; border-color: rgba(9, 175, 221,  1); #EFEFEF\">a wonderful surprise</span> <span style=\"background-color: rgba(9, 221, 161,  0.6171488165855408); padding: 1px 5px; border: solid 3px ; border-color: rgba(9, 221, 161,  1); #EFEFEF\">more bills</span> <span style=\"background-color: rgba(233,30,99,0);  padding: 1px 5px; border: solid 3px ; border-color:  rgba(233,30,99,0); #EFEFEF\">in</span> <span style=\"background-color: rgba(233,30,99,0);  padding: 1px 5px; border: solid 3px ; border-color:  rgba(233,30,99,0); #EFEFEF\">the mail</span> </div>"
      ],
      "text/plain": [
       "<IPython.core.display.HTML object>"
      ]
     },
     "metadata": {},
     "output_type": "display_data"
    },
    {
     "data": {
      "text/html": [
       "<div style='display: flex; width: 400px; flex-wrap: wrap'><span style=\"background-color: rgba(233,30,99,0);  padding: 1px 5px; border: solid 3px ; border-color:  rgba(233,30,99,0); #EFEFEF\">Oh</span> <span style=\"background-color: rgba(233,30,99,0);  padding: 1px 5px; border: solid 3px ; border-color:  rgba(233,30,99,0); #EFEFEF\">joy</span> <span style=\"background-color: rgba(9, 175, 221,  0.23071810603141785); padding: 1px 5px; border: solid 3px ; border-color: rgba(9, 175, 221,  1); #EFEFEF\">my favorite TV show</span> <span style=\"background-color: rgba(233,30,99,0);  padding: 1px 5px; border: solid 3px ; border-color:  rgba(233,30,99,0); #EFEFEF\">ended</span> <span style=\"background-color: rgba(233,30,99,0);  padding: 1px 5px; border: solid 3px ; border-color:  rgba(233,30,99,0); #EFEFEF\">with</span> <span style=\"background-color: rgba(233,30,99,0);  padding: 1px 5px; border: solid 3px ; border-color:  rgba(233,30,99,0); #EFEFEF\">a cliffhanger</span> <span style=\"background-color: rgba(233,30,99,0);  padding: 1px 5px; border: solid 3px ; border-color:  rgba(233,30,99,0); #EFEFEF\">Love</span> <span style=\"background-color: rgba(233,30,99,0);  padding: 1px 5px; border: solid 3px ; border-color:  rgba(233,30,99,0); #EFEFEF\">the suspense</span> </div>"
      ],
      "text/plain": [
       "<IPython.core.display.HTML object>"
      ]
     },
     "metadata": {},
     "output_type": "display_data"
    },
    {
     "data": {
      "text/html": [
       "<div style='display: flex; width: 400px; flex-wrap: wrap'><span style=\"background-color: rgba(9, 175, 221,  0.3170219659805298); padding: 1px 5px; border: solid 3px ; border-color: rgba(9, 175, 221,  1); #EFEFEF\">Wonderful</span> <span style=\"background-color: rgba(9, 175, 221,  0.4143316149711609); padding: 1px 5px; border: solid 3px ; border-color: rgba(9, 175, 221,  1); #EFEFEF\">the neighbor</span> <span style=\"background-color: rgba(9, 175, 221,  0.27394402027130127); padding: 1px 5px; border: solid 3px ; border-color: rgba(9, 175, 221,  1); #EFEFEF\">'s dog</span> <span style=\"background-color: rgba(9, 175, 221,  0.3892495334148407); padding: 1px 5px; border: solid 3px ; border-color: rgba(9, 175, 221,  1); #EFEFEF\">decided to bark</span> <span style=\"background-color: rgba(9, 175, 221,  0.21680648624897003); padding: 1px 5px; border: solid 3px ; border-color: rgba(9, 175, 221,  1); #EFEFEF\">all night</span> <span style=\"background-color: rgba(9, 175, 221,  0.29462602734565735); padding: 1px 5px; border: solid 3px ; border-color: rgba(9, 175, 221,  1); #EFEFEF\">long</span> </div>"
      ],
      "text/plain": [
       "<IPython.core.display.HTML object>"
      ]
     },
     "metadata": {},
     "output_type": "display_data"
    },
    {
     "data": {
      "text/html": [
       "<div style='display: flex; width: 400px; flex-wrap: wrap'><span style=\"background-color: rgba(9, 221, 161,  0.5679469108581543); padding: 1px 5px; border: solid 3px ; border-color: rgba(9, 221, 161,  1); #EFEFEF\">Just</span> <span style=\"background-color: rgba(9, 221, 161,  0.4480012357234955); padding: 1px 5px; border: solid 3px ; border-color: rgba(9, 221, 161,  1); #EFEFEF\">when</span> <span style=\"background-color: rgba(9, 221, 161,  0.33237767219543457); padding: 1px 5px; border: solid 3px ; border-color: rgba(9, 221, 161,  1); #EFEFEF\">I</span> <span style=\"background-color: rgba(9, 221, 161,  0.8834666609764099); padding: 1px 5px; border: solid 3px ; border-color: rgba(9, 221, 161,  1); #EFEFEF\">needed</span> <span style=\"background-color: rgba(9, 221, 161,  0.5637690424919128); padding: 1px 5px; border: solid 3px ; border-color: rgba(9, 221, 161,  1); #EFEFEF\">a good laugh</span> <span style=\"background-color: rgba(9, 221, 161,  0.4843341112136841); padding: 1px 5px; border: solid 3px ; border-color: rgba(9, 221, 161,  1); #EFEFEF\">my phone</span> <span style=\"background-color: rgba(9, 221, 161,  0.6409907937049866); padding: 1px 5px; border: solid 3px ; border-color: rgba(9, 221, 161,  1); #EFEFEF\">autocorrected</span> <span style=\"background-color: rgba(9, 221, 161,  0.7538198828697205); padding: 1px 5px; border: solid 3px ; border-color: rgba(9, 221, 161,  1); #EFEFEF\">'urgent</span> <span style=\"background-color: rgba(9, 221, 161,  0.3855956196784973); padding: 1px 5px; border: solid 3px ; border-color: rgba(9, 221, 161,  1); #EFEFEF\">to</span> <span style=\"background-color: rgba(9, 221, 161,  0.9990416765213013); padding: 1px 5px; border: solid 3px ; border-color: rgba(9, 221, 161,  1); #EFEFEF\">'unimportant</span> <span style=\"background-color: rgba(9, 221, 161,  0.42706072330474854); padding: 1px 5px; border: solid 3px ; border-color: rgba(9, 221, 161,  1); #EFEFEF\">in</span> <span style=\"background-color: rgba(9, 221, 161,  0.42691898345947266); padding: 1px 5px; border: solid 3px ; border-color: rgba(9, 221, 161,  1); #EFEFEF\">a crucial message</span> <span style=\"background-color: rgba(9, 221, 161,  0.3743579387664795); padding: 1px 5px; border: solid 3px ; border-color: rgba(9, 221, 161,  1); #EFEFEF\">Comedy gold</span> </div>"
      ],
      "text/plain": [
       "<IPython.core.display.HTML object>"
      ]
     },
     "metadata": {},
     "output_type": "display_data"
    },
    {
     "data": {
      "text/html": [
       "<div style='display: flex; width: 400px; flex-wrap: wrap'><span style=\"background-color: rgba(9, 221, 161,  0.8032191395759583); padding: 1px 5px; border: solid 3px ; border-color: rgba(9, 221, 161,  1); #EFEFEF\">A stunning achievement</span> <span style=\"background-color: rgba(9, 221, 161,  0.40500321984291077); padding: 1px 5px; border: solid 3px ; border-color: rgba(9, 221, 161,  1); #EFEFEF\">in</span> <span style=\"background-color: rgba(9, 221, 161,  0.8032191395759583); padding: 1px 5px; border: solid 3px ; border-color: rgba(9, 221, 161,  1); #EFEFEF\">producing</span> <span style=\"background-color: rgba(233,30,99,0);  padding: 1px 5px; border: solid 3px ; border-color:  rgba(233,30,99,0); #EFEFEF\">something</span> <span style=\"background-color: rgba(233,30,99,0);  padding: 1px 5px; border: solid 3px ; border-color:  rgba(233,30,99,0); #EFEFEF\">this incredible</span> </div>"
      ],
      "text/plain": [
       "<IPython.core.display.HTML object>"
      ]
     },
     "metadata": {},
     "output_type": "display_data"
    },
    {
     "data": {
      "text/html": [
       "<div style='display: flex; width: 400px; flex-wrap: wrap'><span style=\"background-color: rgba(9, 221, 161,  0.5155572891235352); padding: 1px 5px; border: solid 3px ; border-color: rgba(9, 221, 161,  1); #EFEFEF\">Amazing</span> <span style=\"background-color: rgba(9, 175, 221,  0.37408003211021423); padding: 1px 5px; border: solid 3px ; border-color: rgba(9, 175, 221,  1); #EFEFEF\">the Wi-Fi</span> <span style=\"background-color: rgba(9, 221, 161,  0.9991368651390076); padding: 1px 5px; border: solid 3px ; border-color: rgba(9, 221, 161,  1); #EFEFEF\">decided to stop working</span> <span style=\"background-color: rgba(9, 221, 161,  0.6238786578178406); padding: 1px 5px; border: solid 3px ; border-color: rgba(9, 221, 161,  1); #EFEFEF\">right</span> <span style=\"background-color: rgba(9, 221, 161,  0.608140766620636); padding: 1px 5px; border: solid 3px ; border-color: rgba(9, 221, 161,  1); #EFEFEF\">in</span> <span style=\"background-color: rgba(9, 221, 161,  0.5010631680488586); padding: 1px 5px; border: solid 3px ; border-color: rgba(9, 221, 161,  1); #EFEFEF\">the middle</span> <span style=\"background-color: rgba(9, 221, 161,  0.7437306642532349); padding: 1px 5px; border: solid 3px ; border-color: rgba(9, 221, 161,  1); #EFEFEF\">of</span> <span style=\"background-color: rgba(9, 175, 221,  0.34091538190841675); padding: 1px 5px; border: solid 3px ; border-color: rgba(9, 175, 221,  1); #EFEFEF\">my presentation</span> </div>"
      ],
      "text/plain": [
       "<IPython.core.display.HTML object>"
      ]
     },
     "metadata": {},
     "output_type": "display_data"
    },
    {
     "data": {
      "text/html": [
       "<div style='display: flex; width: 400px; flex-wrap: wrap'><span style=\"background-color: rgba(233,30,99,0);  padding: 1px 5px; border: solid 3px ; border-color:  rgba(233,30,99,0); #EFEFEF\">The movie</span> <span style=\"background-color: rgba(233,30,99,0);  padding: 1px 5px; border: solid 3px ; border-color:  rgba(233,30,99,0); #EFEFEF\">was</span> <span style=\"background-color: rgba(233,30,99,0);  padding: 1px 5px; border: solid 3px ; border-color:  rgba(233,30,99,0); #EFEFEF\">so captivating</span> <span style=\"background-color: rgba(233,30,99,0);  padding: 1px 5px; border: solid 3px ; border-color:  rgba(233,30,99,0); #EFEFEF\">that</span> <span style=\"background-color: rgba(233,30,99,0);  padding: 1px 5px; border: solid 3px ; border-color:  rgba(233,30,99,0); #EFEFEF\">I</span> <span style=\"background-color: rgba(9, 221, 161,  0.39756298065185547); padding: 1px 5px; border: solid 3px ; border-color: rgba(9, 221, 161,  1); #EFEFEF\">lost</span> <span style=\"background-color: rgba(233,30,99,0);  padding: 1px 5px; border: solid 3px ; border-color:  rgba(233,30,99,0); #EFEFEF\">track</span> <span style=\"background-color: rgba(233,30,99,0);  padding: 1px 5px; border: solid 3px ; border-color:  rgba(233,30,99,0); #EFEFEF\">of</span> <span style=\"background-color: rgba(233,30,99,0);  padding: 1px 5px; border: solid 3px ; border-color:  rgba(233,30,99,0); #EFEFEF\">time</span> <span style=\"background-color: rgba(233,30,99,0);  padding: 1px 5px; border: solid 3px ; border-color:  rgba(233,30,99,0); #EFEFEF\">while</span> <span style=\"background-color: rgba(233,30,99,0);  padding: 1px 5px; border: solid 3px ; border-color:  rgba(233,30,99,0); #EFEFEF\">watching</span> <span style=\"background-color: rgba(233,30,99,0);  padding: 1px 5px; border: solid 3px ; border-color:  rgba(233,30,99,0); #EFEFEF\">it</span> <span style=\"background-color: rgba(233,30,99,0);  padding: 1px 5px; border: solid 3px ; border-color:  rgba(233,30,99,0); #EFEFEF\">A true time-traveling experience</span> </div>"
      ],
      "text/plain": [
       "<IPython.core.display.HTML object>"
      ]
     },
     "metadata": {},
     "output_type": "display_data"
    },
    {
     "data": {
      "text/html": [
       "<div style='display: flex; width: 400px; flex-wrap: wrap'><span style=\"background-color: rgba(9, 221, 161,  0.9990757703781128); padding: 1px 5px; border: solid 3px ; border-color: rgba(9, 221, 161,  1); #EFEFEF\">A cinematic experience</span> <span style=\"background-color: rgba(9, 175, 221,  0.47160860896110535); padding: 1px 5px; border: solid 3px ; border-color: rgba(9, 175, 221,  1); #EFEFEF\">that</span> <span style=\"background-color: rgba(233,30,99,0);  padding: 1px 5px; border: solid 3px ; border-color:  rgba(233,30,99,0); #EFEFEF\">leaves</span> <span style=\"background-color: rgba(233,30,99,0);  padding: 1px 5px; border: solid 3px ; border-color:  rgba(233,30,99,0); #EFEFEF\">you</span> <span style=\"background-color: rgba(233,30,99,0);  padding: 1px 5px; border: solid 3px ; border-color:  rgba(233,30,99,0); #EFEFEF\">in</span> <span style=\"background-color: rgba(233,30,99,0);  padding: 1px 5px; border: solid 3px ; border-color:  rgba(233,30,99,0); #EFEFEF\">awe</span> <span style=\"background-color: rgba(9, 175, 221,  0.4392218291759491); padding: 1px 5px; border: solid 3px ; border-color: rgba(9, 175, 221,  1); #EFEFEF\">of</span> <span style=\"background-color: rgba(9, 221, 161,  0.9883672595024109); padding: 1px 5px; border: solid 3px ; border-color: rgba(9, 221, 161,  1); #EFEFEF\">its brilliance</span> </div>"
      ],
      "text/plain": [
       "<IPython.core.display.HTML object>"
      ]
     },
     "metadata": {},
     "output_type": "display_data"
    },
    {
     "data": {
      "text/html": [
       "<div style='display: flex; width: 400px; flex-wrap: wrap'><span style=\"background-color: rgba(233,30,99,0);  padding: 1px 5px; border: solid 3px ; border-color:  rgba(233,30,99,0); #EFEFEF\">I</span> <span style=\"background-color: rgba(233,30,99,0);  padding: 1px 5px; border: solid 3px ; border-color:  rgba(233,30,99,0); #EFEFEF\">'m</span> <span style=\"background-color: rgba(233,30,99,0);  padding: 1px 5px; border: solid 3px ; border-color:  rgba(233,30,99,0); #EFEFEF\">convinced</span> <span style=\"background-color: rgba(233,30,99,0);  padding: 1px 5px; border: solid 3px ; border-color:  rgba(233,30,99,0); #EFEFEF\">that</span> <span style=\"background-color: rgba(233,30,99,0);  padding: 1px 5px; border: solid 3px ; border-color:  rgba(233,30,99,0); #EFEFEF\">the creators</span> <span style=\"background-color: rgba(233,30,99,0);  padding: 1px 5px; border: solid 3px ; border-color:  rgba(233,30,99,0); #EFEFEF\">of</span> <span style=\"background-color: rgba(233,30,99,0);  padding: 1px 5px; border: solid 3px ; border-color:  rgba(233,30,99,0); #EFEFEF\">this movie</span> <span style=\"background-color: rgba(233,30,99,0);  padding: 1px 5px; border: solid 3px ; border-color:  rgba(233,30,99,0); #EFEFEF\">set</span> <span style=\"background-color: rgba(233,30,99,0);  padding: 1px 5px; border: solid 3px ; border-color:  rgba(233,30,99,0); #EFEFEF\">out</span> <span style=\"background-color: rgba(233,30,99,0);  padding: 1px 5px; border: solid 3px ; border-color:  rgba(233,30,99,0); #EFEFEF\">to amaze</span> <span style=\"background-color: rgba(233,30,99,0);  padding: 1px 5px; border: solid 3px ; border-color:  rgba(233,30,99,0); #EFEFEF\">us</span> </div>"
      ],
      "text/plain": [
       "<IPython.core.display.HTML object>"
      ]
     },
     "metadata": {},
     "output_type": "display_data"
    },
    {
     "data": {
      "text/html": [
       "<div style='display: flex; width: 400px; flex-wrap: wrap'><span style=\"background-color: rgba(233,30,99,0);  padding: 1px 5px; border: solid 3px ; border-color:  rgba(233,30,99,0); #EFEFEF\">Delighted</span> <span style=\"background-color: rgba(9, 221, 161,  0.2377878725528717); padding: 1px 5px; border: solid 3px ; border-color: rgba(9, 221, 161,  1); #EFEFEF\">to find</span> <span style=\"background-color: rgba(9, 221, 161,  0.8315922021865845); padding: 1px 5px; border: solid 3px ; border-color: rgba(9, 221, 161,  1); #EFEFEF\">out</span> <span style=\"background-color: rgba(9, 221, 161,  0.714684784412384); padding: 1px 5px; border: solid 3px ; border-color: rgba(9, 221, 161,  1); #EFEFEF\">that</span> <span style=\"background-color: rgba(233,30,99,0);  padding: 1px 5px; border: solid 3px ; border-color:  rgba(233,30,99,0); #EFEFEF\">the restaurant</span> <span style=\"background-color: rgba(233,30,99,0);  padding: 1px 5px; border: solid 3px ; border-color:  rgba(233,30,99,0); #EFEFEF\">I</span> <span style=\"background-color: rgba(9, 221, 161,  0.22606520354747772); padding: 1px 5px; border: solid 3px ; border-color: rgba(9, 221, 161,  1); #EFEFEF\">chose</span> <span style=\"background-color: rgba(9, 221, 161,  0.7762557864189148); padding: 1px 5px; border: solid 3px ; border-color: rgba(9, 221, 161,  1); #EFEFEF\">for</span> <span style=\"background-color: rgba(9, 221, 161,  0.599850594997406); padding: 1px 5px; border: solid 3px ; border-color: rgba(9, 221, 161,  1); #EFEFEF\">dinner</span> <span style=\"background-color: rgba(9, 221, 161,  0.42138245701789856); padding: 1px 5px; border: solid 3px ; border-color: rgba(9, 221, 161,  1); #EFEFEF\">is fully booked</span> <span style=\"background-color: rgba(9, 221, 161,  0.5792374610900879); padding: 1px 5px; border: solid 3px ; border-color: rgba(9, 221, 161,  1); #EFEFEF\">The universe</span> <span style=\"background-color: rgba(9, 221, 161,  0.9994211196899414); padding: 1px 5px; border: solid 3px ; border-color: rgba(9, 221, 161,  1); #EFEFEF\">'s way</span> <span style=\"background-color: rgba(9, 221, 161,  0.6168326735496521); padding: 1px 5px; border: solid 3px ; border-color: rgba(9, 221, 161,  1); #EFEFEF\">of</span> <span style=\"background-color: rgba(9, 221, 161,  0.7316887378692627); padding: 1px 5px; border: solid 3px ; border-color: rgba(9, 221, 161,  1); #EFEFEF\">testing</span> <span style=\"background-color: rgba(9, 221, 161,  0.5192553400993347); padding: 1px 5px; border: solid 3px ; border-color: rgba(9, 221, 161,  1); #EFEFEF\">my flexibility and adaptability</span> </div>"
      ],
      "text/plain": [
       "<IPython.core.display.HTML object>"
      ]
     },
     "metadata": {},
     "output_type": "display_data"
    },
    {
     "data": {
      "text/html": [
       "<div style='display: flex; width: 400px; flex-wrap: wrap'><span style=\"background-color: rgba(233,30,99,0);  padding: 1px 5px; border: solid 3px ; border-color:  rgba(233,30,99,0); #EFEFEF\">Overwhelmed</span> <span style=\"background-color: rgba(233,30,99,0);  padding: 1px 5px; border: solid 3px ; border-color:  rgba(233,30,99,0); #EFEFEF\">with</span> <span style=\"background-color: rgba(233,30,99,0);  padding: 1px 5px; border: solid 3px ; border-color:  rgba(233,30,99,0); #EFEFEF\">joy</span> <span style=\"background-color: rgba(233,30,99,0);  padding: 1px 5px; border: solid 3px ; border-color:  rgba(233,30,99,0); #EFEFEF\">My favorite book series</span> <span style=\"background-color: rgba(233,30,99,0);  padding: 1px 5px; border: solid 3px ; border-color:  rgba(233,30,99,0); #EFEFEF\">just</span> <span style=\"background-color: rgba(233,30,99,0);  padding: 1px 5px; border: solid 3px ; border-color:  rgba(233,30,99,0); #EFEFEF\">announced</span> <span style=\"background-color: rgba(233,30,99,0);  padding: 1px 5px; border: solid 3px ; border-color:  rgba(233,30,99,0); #EFEFEF\">an unexpected hiatus</span> <span style=\"background-color: rgba(233,30,99,0);  padding: 1px 5px; border: solid 3px ; border-color:  rgba(233,30,99,0); #EFEFEF\">The suspense</span> <span style=\"background-color: rgba(233,30,99,0);  padding: 1px 5px; border: solid 3px ; border-color:  rgba(233,30,99,0); #EFEFEF\">is killing</span> <span style=\"background-color: rgba(233,30,99,0);  padding: 1px 5px; border: solid 3px ; border-color:  rgba(233,30,99,0); #EFEFEF\">me</span> </div>"
      ],
      "text/plain": [
       "<IPython.core.display.HTML object>"
      ]
     },
     "metadata": {},
     "output_type": "display_data"
    },
    {
     "data": {
      "text/html": [
       "<div style='display: flex; width: 400px; flex-wrap: wrap'><span style=\"background-color: rgba(233,30,99,0);  padding: 1px 5px; border: solid 3px ; border-color:  rgba(233,30,99,0); #EFEFEF\">Kudos</span> <span style=\"background-color: rgba(233,30,99,0);  padding: 1px 5px; border: solid 3px ; border-color:  rgba(233,30,99,0); #EFEFEF\">to</span> <span style=\"background-color: rgba(233,30,99,0);  padding: 1px 5px; border: solid 3px ; border-color:  rgba(233,30,99,0); #EFEFEF\">the filmmakers</span> <span style=\"background-color: rgba(221, 9, 140, 0.23143304884433746); padding: 1px 5px; border: solid 3px ; border-color: rgba(221, 9, 140, 1); #EFEFEF\">for</span> <span style=\"background-color: rgba(9, 221, 161,  0.8855640292167664); padding: 1px 5px; border: solid 3px ; border-color: rgba(9, 221, 161,  1); #EFEFEF\">crafting</span> <span style=\"background-color: rgba(9, 221, 161,  0.7443311810493469); padding: 1px 5px; border: solid 3px ; border-color: rgba(9, 221, 161,  1); #EFEFEF\">a movie</span> <span style=\"background-color: rgba(221, 9, 140, 0.27276697754859924); padding: 1px 5px; border: solid 3px ; border-color: rgba(221, 9, 140, 1); #EFEFEF\">that</span> <span style=\"background-color: rgba(233,30,99,0);  padding: 1px 5px; border: solid 3px ; border-color:  rgba(233,30,99,0); #EFEFEF\">defines</span> <span style=\"background-color: rgba(221, 9, 140, 0.29423072934150696); padding: 1px 5px; border: solid 3px ; border-color: rgba(221, 9, 140, 1); #EFEFEF\">all expectations</span> </div>"
      ],
      "text/plain": [
       "<IPython.core.display.HTML object>"
      ]
     },
     "metadata": {},
     "output_type": "display_data"
    },
    {
     "data": {
      "text/html": [
       "<div style='display: flex; width: 400px; flex-wrap: wrap'><span style=\"background-color: rgba(233,30,99,0);  padding: 1px 5px; border: solid 3px ; border-color:  rgba(233,30,99,0); #EFEFEF\">Thrilled</span> <span style=\"background-color: rgba(233,30,99,0);  padding: 1px 5px; border: solid 3px ; border-color:  rgba(233,30,99,0); #EFEFEF\">beyond</span> <span style=\"background-color: rgba(233,30,99,0);  padding: 1px 5px; border: solid 3px ; border-color:  rgba(233,30,99,0); #EFEFEF\">words</span> <span style=\"background-color: rgba(233,30,99,0);  padding: 1px 5px; border: solid 3px ; border-color:  rgba(233,30,99,0); #EFEFEF\">The weather forecast</span> <span style=\"background-color: rgba(233,30,99,0);  padding: 1px 5px; border: solid 3px ; border-color:  rgba(233,30,99,0); #EFEFEF\">got</span> <span style=\"background-color: rgba(233,30,99,0);  padding: 1px 5px; border: solid 3px ; border-color:  rgba(233,30,99,0); #EFEFEF\">it</span> <span style=\"background-color: rgba(233,30,99,0);  padding: 1px 5px; border: solid 3px ; border-color:  rgba(233,30,99,0); #EFEFEF\">wrong</span> <span style=\"background-color: rgba(233,30,99,0);  padding: 1px 5px; border: solid 3px ; border-color:  rgba(233,30,99,0); #EFEFEF\">again</span> <span style=\"background-color: rgba(233,30,99,0);  padding: 1px 5px; border: solid 3px ; border-color:  rgba(233,30,99,0); #EFEFEF\">I</span> <span style=\"background-color: rgba(233,30,99,0);  padding: 1px 5px; border: solid 3px ; border-color:  rgba(233,30,99,0); #EFEFEF\">'m stuck</span> <span style=\"background-color: rgba(233,30,99,0);  padding: 1px 5px; border: solid 3px ; border-color:  rgba(233,30,99,0); #EFEFEF\">in</span> <span style=\"background-color: rgba(233,30,99,0);  padding: 1px 5px; border: solid 3px ; border-color:  rgba(233,30,99,0); #EFEFEF\">a surprise rainstorm</span> <span style=\"background-color: rgba(233,30,99,0);  padding: 1px 5px; border: solid 3px ; border-color:  rgba(233,30,99,0); #EFEFEF\">without</span> <span style=\"background-color: rgba(233,30,99,0);  padding: 1px 5px; border: solid 3px ; border-color:  rgba(233,30,99,0); #EFEFEF\">an umbrella</span> <span style=\"background-color: rgba(233,30,99,0);  padding: 1px 5px; border: solid 3px ; border-color:  rgba(233,30,99,0); #EFEFEF\">Pure bliss</span> </div>"
      ],
      "text/plain": [
       "<IPython.core.display.HTML object>"
      ]
     },
     "metadata": {},
     "output_type": "display_data"
    }
   ],
   "source": [
    "plot_reviews_exp(segments_pos, u_segments_pos, factorization_pos, global_importance_pos,\n",
    "                 segments_neg, u_segments_neg, factorization_neg, global_importance_neg,\n",
    "                 custom_samples=True, samples_to_test=[negative_samples, positive_samples])"
   ]
  }
 ],
 "metadata": {
  "kernelspec": {
   "display_name": "cockatiel",
   "language": "python",
   "name": "cockatiel"
  },
  "language_info": {
   "codemirror_mode": {
    "name": "ipython",
    "version": 3
   },
   "file_extension": ".py",
   "mimetype": "text/x-python",
   "name": "python",
   "nbconvert_exporter": "python",
   "pygments_lexer": "ipython3",
   "version": "3.11.5"
  }
 },
 "nbformat": 4,
 "nbformat_minor": 5
}
