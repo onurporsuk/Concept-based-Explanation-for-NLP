{
 "cells": [
  {
   "cell_type": "markdown",
   "id": "a4580ed0-ef34-4a90-ad31-e44b6a7503ba",
   "metadata": {},
   "source": [
    "# Comparison of Models' Explainabilities"
   ]
  },
  {
   "cell_type": "markdown",
   "id": "00b72f65-74e1-4593-8f56-358377c52486",
   "metadata": {
    "tags": []
   },
   "source": [
    "## Set Up"
   ]
  },
  {
   "cell_type": "code",
   "execution_count": 1,
   "id": "1fa9242c-cb3c-4a8f-b1a0-fadcd27bae8b",
   "metadata": {
    "tags": []
   },
   "outputs": [
    {
     "name": "stdout",
     "output_type": "stream",
     "text": [
      "C:\\Users\\onurp\\Desktop\\Analitik\\cockatiel\n"
     ]
    }
   ],
   "source": [
    "# Move the current path to the repo\n",
    "%cd \"../cockatiel/\""
   ]
  },
  {
   "cell_type": "code",
   "execution_count": 2,
   "id": "edb63225-c80a-4bb8-b492-6c0fd7a9efaf",
   "metadata": {
    "tags": []
   },
   "outputs": [],
   "source": [
    "# Enable automatical module reload\n",
    "%load_ext autoreload\n",
    "%autoreload 2"
   ]
  },
  {
   "cell_type": "code",
   "execution_count": 3,
   "id": "0974e24e-92da-411c-995f-865ef62cd8f9",
   "metadata": {
    "tags": []
   },
   "outputs": [
    {
     "name": "stdout",
     "output_type": "stream",
     "text": [
      "Selected component: cuda\n"
     ]
    }
   ],
   "source": [
    "import torch\n",
    "\n",
    "# Set up GPU if it is available\n",
    "device = torch.device(\"cuda\") if torch.cuda.is_available() else torch.device(\"cpu\")\n",
    "print(\"Selected component:\", device)"
   ]
  },
  {
   "cell_type": "markdown",
   "id": "5d6babf8-7c5a-4003-af60-525292a32f42",
   "metadata": {},
   "source": [
    "## Util Functions"
   ]
  },
  {
   "cell_type": "code",
   "execution_count": 4,
   "id": "b255a395-86c7-4b49-8441-8e900ce9a8f8",
   "metadata": {
    "tags": []
   },
   "outputs": [],
   "source": [
    "import matplotlib.pyplot as plt  \n",
    "\n",
    "def plot_glob_importances(global_importance_pos, global_importance_neg):\n",
    "\n",
    "    plt.figure(figsize=(22, 5))\n",
    "\n",
    "    plt.subplot(121)\n",
    "    cm = plt.get_cmap('tab20')\n",
    "    plt.bar(range(len(global_importance_pos)), global_importance_pos, color=cm.colors, tick_label=range(len(global_importance_pos)))\n",
    "    plt.title(\"Concepts for Positive Class\")\n",
    "\n",
    "    plt.subplot(122)\n",
    "    cm = plt.get_cmap('tab20')\n",
    "    plt.bar(range(len(global_importance_pos)), global_importance_neg, color=cm.colors, tick_label=range(len(global_importance_neg)))\n",
    "    plt.title(\"Concepts for Negative Class\")\n",
    "\n",
    "    plt.show()\n",
    "    \n",
    "    return None"
   ]
  },
  {
   "cell_type": "code",
   "execution_count": 5,
   "id": "8250baa7-572e-4af3-ac33-93d9071b5bc8",
   "metadata": {
    "tags": []
   },
   "outputs": [
    {
     "name": "stdout",
     "output_type": "stream",
     "text": [
      "2023-10-22 21:57:53,800 SequenceTagger predicts: Dictionary with 47 tags: O, S-NP, B-NP, E-NP, I-NP, S-VP, B-VP, E-VP, I-VP, S-PP, B-PP, E-PP, I-PP, S-ADVP, B-ADVP, E-ADVP, I-ADVP, S-SBAR, B-SBAR, E-SBAR, I-SBAR, S-ADJP, B-ADJP, E-ADJP, I-ADJP, S-PRT, B-PRT, E-PRT, I-PRT, S-CONJP, B-CONJP, E-CONJP, I-CONJP, S-INTJ, B-INTJ, E-INTJ, I-INTJ, S-LST, B-LST, E-LST, I-LST, S-UCP, B-UCP, E-UCP, I-UCP, <START>, <STOP>\n"
     ]
    },
    {
     "name": "stderr",
     "output_type": "stream",
     "text": [
      "[nltk_data] Downloading package punkt to\n",
      "[nltk_data]     C:\\Users\\onurp\\AppData\\Roaming\\nltk_data...\n",
      "[nltk_data]   Package punkt is already up-to-date!\n",
      "[nltk_data] Downloading package punkt to\n",
      "[nltk_data]     C:\\Users\\onurp\\AppData\\Roaming\\nltk_data...\n",
      "[nltk_data]   Package punkt is already up-to-date!\n"
     ]
    }
   ],
   "source": [
    "from cockatiel import occlusion_concepts, print_legend, viz_concepts\n",
    "import numpy as np\n",
    "\n",
    "def plot_reviews_exp(segments_pos, u_segments_pos, factorization_pos, global_importance_pos,\n",
    "                     segments_neg, u_segments_neg, factorization_neg, global_importance_neg,\n",
    "                     custom_samples, samples_to_test=None\n",
    "                    ):\n",
    "    \n",
    "    # Find Concept IDs\n",
    "    \n",
    "    m_pos = 2 # Number of concept looked for the positive class \n",
    "    m_neg = 3 # Number of concept looked for the negative class\n",
    "\n",
    "    l_concept_id_pos = np.argsort(global_importance_pos)[::-1][:m_pos]\n",
    "    l_concept_id_neg = np.argsort(global_importance_neg)[::-1][:m_neg]\n",
    "\n",
    "        \n",
    "    # Prepare sample text\n",
    "    \n",
    "    if custom_samples is True:\n",
    "    \n",
    "        l_mip_sentences_neg = np.array(samples_to_test[0])\n",
    "        l_mip_sentences_pos = np.array(samples_to_test[1])\n",
    "        \n",
    "        n = len(l_mip_sentences_neg)    # Number of reviews for each labels and each concept\n",
    "    \n",
    "    elif custom_samples is False:\n",
    "        \n",
    "        # Find most important sentences that are associated with most important concepts\n",
    "        \n",
    "        n = 10\n",
    "        \n",
    "        l_mip_sentences_pos, l_mip_sentences_neg = [], []\n",
    "\n",
    "        # Add sentence of positive label\n",
    "        for concept_id in l_concept_id_pos:\n",
    "\n",
    "            mip_sentences_ids = np.argsort(u_segments_pos[:, concept_id])[::-1][:n]\n",
    "            mip_sentences = np.array(segments_pos)[mip_sentences_ids]\n",
    "            l_mip_sentences_pos.append(mip_sentences)\n",
    "\n",
    "        # Add sentence of negative label\n",
    "        for concept_id in l_concept_id_neg:\n",
    "\n",
    "            mip_sentences_ids = np.argsort(u_segments_neg[:, concept_id])[::-1][:n]\n",
    "            mip_sentences = np.array(segments_neg)[mip_sentences_ids]\n",
    "            l_mip_sentences_neg.append(mip_sentences)\n",
    "\n",
    "        l_mip_sentences_pos = np.array(l_mip_sentences_pos)\n",
    "        l_mip_sentences_pos = l_mip_sentences_pos.flatten()\n",
    "        l_mip_sentences_neg = np.array(l_mip_sentences_neg)\n",
    "        l_mip_sentences_neg = l_mip_sentences_neg.flatten()\n",
    "    \n",
    "    # Create dictionnaries for legend with a color for each concept:\n",
    "    # Use m_pos+m_neg concepts, so we have to create a dictionnary \"colors\" with m_pos+m_neg colors. \n",
    "    # In the dictionnary \"label_to_criterion\", add the corresponding concept for each color.\n",
    "\n",
    "    colors = {\n",
    "        0: \"rgba(9, 221, 55, \", #green\n",
    "        1: \"rgba(9, 221, 161, \", #turquoise\n",
    "        #2: \"rgba(9, 175, 221, \", #blue\n",
    "        2: \"rgba(221, 9, 34, \", #red\n",
    "        3: \"rgba(221, 9, 140,\", #pink\n",
    "        4: \"rgba(221, 90, 9, \", #orange\n",
    "    }\n",
    "\n",
    "    label_to_criterion = {\n",
    "        0: \"Positive label: concept1\",\n",
    "        1: \"Positive label: concept2\",\n",
    "        #2: \"Positive label: concept3\",\n",
    "        2: \"Negative label: concept1\",\n",
    "        3: \"Negative label: concept2\",\n",
    "        4: \"Negative label: concept3\",\n",
    "    }\n",
    "\n",
    "\n",
    "    #sanity check:\n",
    "    if len(label_to_criterion.keys()) != len(colors.keys()) or len(label_to_criterion.keys()) != (m_pos + m_neg):\n",
    "        print(\"Error: check that you have the correct number of colors and labels in your dictionaries to cover the number of concepts being looked at\")\n",
    "        \n",
    "        \n",
    "        \n",
    "    print_legend(colors, label_to_criterion)\n",
    "\n",
    "    print(\"positive predicted reviews:\")\n",
    "    print(\"\\n\")\n",
    "    i = 0\n",
    "    for sentence in l_mip_sentences_pos:\n",
    "        if i%n == 0 :\n",
    "            print(\"\\n\")\n",
    "            print(str(n) + \" most important reviews for positive predicted label - concept\" + str(i//n + 1) +\":\")\n",
    "            print(\"\\n\")\n",
    "        phi = occlusion_concepts(sentence, model, tokenizer, [factorization_pos, factorization_neg], [l_concept_id_pos, l_concept_id_neg], ignore_words = [], two_labels = True, device = device)\n",
    "        phi /= np.max(np.abs(phi)) + 1e-5\n",
    "        viz_concepts(sentence, phi, colors, ignore_words = [])\n",
    "        i += 1\n",
    "\n",
    "    print(\"\\n\")\n",
    "    print(\"negative predicted reviews:\")\n",
    "    print(\"\\n\")\n",
    "\n",
    "    i = 0\n",
    "    for sentence in l_mip_sentences_neg:\n",
    "\n",
    "        if i%n == 0 :\n",
    "            print(\"\\n\")\n",
    "            print(str(n) + \" most important reviews for negative predicted label - concept\" + str(i//n + 1) +\":\")\n",
    "            print(\"\\n\")\n",
    "        phi = occlusion_concepts(sentence,  model, tokenizer, [factorization_pos, factorization_neg], [l_concept_id_pos, l_concept_id_neg], ignore_words = [], two_labels = True, device = device)\n",
    "        phi /= np.max(np.abs(phi)) + 1e-5\n",
    "        viz_concepts(sentence, phi, colors, ignore_words = [])\n",
    "        i +=1\n",
    "        \n",
    "    return None"
   ]
  },
  {
   "cell_type": "markdown",
   "id": "a5566c81-94fc-4230-9f44-961275a3249e",
   "metadata": {},
   "source": [
    "## Comparison of Models"
   ]
  },
  {
   "cell_type": "markdown",
   "id": "e3d63376-9a12-4638-8612-8fb2c2420f9e",
   "metadata": {},
   "source": [
    "### Common Test Set"
   ]
  },
  {
   "cell_type": "code",
   "execution_count": 59,
   "id": "d6968c13-aa46-42cb-a94a-4414cfdd9cb6",
   "metadata": {
    "collapsed": true,
    "jupyter": {
     "outputs_hidden": true
    },
    "tags": []
   },
   "outputs": [
    {
     "name": "stdout",
     "output_type": "stream",
     "text": [
      "Substring 'unimaginative' found in string at index 4144: Rather unimaginative direction, too.\n",
      "Substring 'unimaginative' found in string at index 5231: I don't recommend this lame and unimaginative show to anyone.\n",
      "Substring 'unimaginative' found in string at index 5312: These two great actors humiliate themselves all the way through by performing a number of irrelevant, unimaginative and kitch to the extreme (not that this is bad on its own)sketches that are supposed to make people laugh, but fail to do so.\n",
      "Substring 'unimaginative' found in string at index 5714: Terrible acting, dialogue that was unimaginative and pathetic (let alone completely inappropriate for supposedly being in the 1800s), and oh, did I mention a battery pack prominently displayed on the back of one of the characters.\n",
      "Substring 'unimaginative' found in string at index 6123: Cheap, amateurish, unimaginative, exploitative.\n",
      "Substring 'unimaginative' found in string at index 9474: Relying on gratuitous profanity and potty humor is a sure sign of a loser Hollywood movie, the product of unimaginative and no-talent writers.\n",
      "Substring 'unimaginative' found in string at index 9536: Griffith referred to the Chinese character in Broken Blossoms as 'the yellow man ' ; characters so unimaginative and un-engaging that it's difficult to watch as well as a narrative that plods along at such a slow, stupid and pointless pace that you will question the very people who say they like this film.\n",
      "Substring 'unimaginative' found in string at index 25184: It's overlong, it drags, the songs that are in this version and not in the film version are boring and unimaginative.\n",
      "Substring 'unimaginative' found in string at index 28059: The film features James Spader and an almost nameless supporting cast (with the exception of Carl Lewis, who's actually not that bad for a non-actor) - who deliver ho-hum performances that do little to invigorate the script's unimaginative dialogue.\n",
      "Substring 'unimaginative' found in string at index 37160: Wow, this movie really sucked down below the normal scale of dull, boring, and unimaginative films I've seen recently.\n",
      "Substring 'unimaginative' found in string at index 37572: It's obviously impossible to know how much of Omen IV: The Awakening was directed by Girard & Montesi but you can sort of tell all was not well behind the camera as it's a shabby, cheap looking poorly made film which was actually made-for-TV & it shows with the bland, flat & unimaginative cinematography & production design.\n",
      "Substring 'unimaginative' found in string at index 42095: There are lots of opportunities for beautiful shots of of the countryside, or complex shots of someone being pulled into a huge bonfire, but the whole thing is unimaginative and dull.\n",
      "Substring 'unimaginative' found in string at index 43354: Based on a play with a rather unimaginative title and then adapted into a reasonably enjoyable book, it fails to engage, convince or even remotely interest its audience on a most fundamental level.\n",
      "Substring 'unimaginative' found in string at index 44045: Stale predictable jokes, with even more predictable reactions from the laughtrack, punctuate this noxious mental narcotic's nauseatingly unimaginative plot lines to leave me either physically ill, or in a deep sleep more resembling that of an induced coma.\n",
      "Substring 'unimaginative' found in string at index 44354: Well, * The Secret Lives of Dentists * will not upset your expectations: it's solidly made but essentially unimaginative, truthful but dull.\n",
      "Substring 'unimaginative' found in string at index 47329: Numerous unimaginative plot contrivances keep the film going, like: a drive-by shooting, an abandoned baby left in the weeds, a gang of thugs intimidating a lawyer, a guy flying through the night sky over the city, a kid at summer camp.\n"
     ]
    }
   ],
   "source": [
    "# ###### the killings are stupid and / or unimaginative bulamadım\n",
    "\n",
    "# substring = \"unimaginative\"\n",
    "\n",
    "# for index, string in enumerate(segments_neg):\n",
    "#     if substring in string:\n",
    "#         print(f\"Substring '{substring}' found in string at index {index}: {string}\")"
   ]
  },
  {
   "cell_type": "code",
   "execution_count": 9,
   "id": "19ce3be0-29e6-4798-bf1d-36131f890885",
   "metadata": {
    "collapsed": true,
    "jupyter": {
     "outputs_hidden": true
    },
    "tags": []
   },
   "outputs": [
    {
     "name": "stdout",
     "output_type": "stream",
     "text": [
      "[\"I couldn't even follow the plot, but suffice it to say, this is the absolute worst movie I have ever seen in my life.\"\n",
      " \"This is by far one of the worst films I've ever paid good money to see.\"\n",
      " 'Words cannot begin to describe how blandly terrible this movie is.'\n",
      " \"It's pointless.\" 'Plot is unimportant.'\n",
      " 'About the only good thing about this is the setting.'\n",
      " \"It's too bad because this film had great production values and a good cast, but isn't the idea of turning a book into a movie (TV or film) to get the people who read the book to be part of the audience.\"]\n",
      "['One of the best movies ever, hands down.'\n",
      " 'It is simply one of my all-time favorite films.'\n",
      " 'Very inspiring and encouraging to all ages.'\n",
      " 'The ballroom scenes were very nice, the dancing and the outfits looked beautiful.'\n",
      " \"Billy Bitzer's camera work is quite good.\"\n",
      " 'The humor and sadness are subtly blended.'\n",
      " 'Idrissa Oudraogo ( Burkina Faso ): from one of the poorest country in the world, a tender and funny story about five boys who want to capture Osama Bin Laden.'\n",
      " 'Especially fun is the performance by Cronenberg as the truly evil human doctor who is bent on destroying the Nightbreed.']\n"
     ]
    }
   ],
   "source": [
    "# indices_neg = [35253, 29729, 35285, 14800, 14720, 31318, 15747]\n",
    "# reviews_neg = np.array(segments_neg)[indices_neg]\n",
    "# print(reviews_neg)\n",
    "\n",
    "# indices_pos = [10108, 15711, 24157, 4142, 8211, 16541, 31384, 39364]\n",
    "# reviews_pos = np.array(segments_pos)[indices_pos]\n",
    "# print(reviews_pos)"
   ]
  },
  {
   "cell_type": "code",
   "execution_count": 6,
   "id": "79849962-f21a-428b-9ed6-8330d7608496",
   "metadata": {
    "tags": []
   },
   "outputs": [],
   "source": [
    "reviews_neg = [\n",
    "    \"I couldn't even follow the plot, but suffice it to say, this is the absolute worst movie I have ever seen in my life.\",\n",
    "    \"This is by far one of the worst films I've ever paid good money to see.\",\n",
    "    'Words cannot begin to describe how blandly terrible this movie is.',\n",
    "    \"It's pointless.\",\n",
    "    'Plot is unimportant.',\n",
    "    'About the only good thing about this is the setting.',\n",
    "    \"It's too bad because this film had great production values and a good cast, but isn't the idea of turning a book into a movie (TV or film) to get the people who read the book to be part of the audience.\"\n",
    "]\n",
    "\n",
    "reviews_pos = [\n",
    "    'One of the best movies ever, hands down.',\n",
    "    'It is simply one of my all-time favorite films.',\n",
    "    'Very inspiring and encouraging to all ages.',\n",
    "    'The ballroom scenes were very nice, the dancing and the outfits looked beautiful.',\n",
    "    \"Billy Bitzer's camera work is quite good.\",\n",
    "    'The humor and sadness are subtly blended.',\n",
    "    'Idrissa Oudraogo ( Burkina Faso ): from one of the poorest country in the world, a tender and funny story about five boys who want to capture Osama Bin Laden.',\n",
    "    'Especially fun is the performance by Cronenberg as the truly evil human doctor who is bent on destroying the Nightbreed.'\n",
    "]"
   ]
  },
  {
   "cell_type": "markdown",
   "id": "93544796-a03c-42fa-87a4-dd5e8c786add",
   "metadata": {
    "tags": []
   },
   "source": [
    "### RoBERTa"
   ]
  },
  {
   "cell_type": "code",
   "execution_count": 6,
   "id": "069729f0-1239-4840-ad10-d7bd3966edc7",
   "metadata": {},
   "outputs": [],
   "source": [
    "# Load the model and its tokenizer\n",
    "\n",
    "from transformers import RobertaTokenizerFast\n",
    "from cockatiel import CustomRobertaForSequenceClassification, batch_predict, batcher, tokenize\n",
    "\n",
    "tokenizer = RobertaTokenizerFast.from_pretrained(\"wrmurray/roberta-base-finetuned-imdb\")\n",
    "model = CustomRobertaForSequenceClassification.from_pretrained(\"wrmurray/roberta-base-finetuned-imdb\").to(device)\n",
    "\n",
    "# Put model into evaluation mode\n",
    "model = model.eval()\n",
    "\n",
    "\n",
    "\n",
    "import pickle\n",
    "\n",
    "# Segments and global importances for positive class\n",
    "\n",
    "segments_pos = pickle.load(open(\"../Tez/data/for_roberta/segments_pos.pkl\",'rb'))\n",
    "u_segments_pos = pickle.load(open(\"../Tez/data/for_roberta/u_segments_pos.pkl\",'rb'))\n",
    "factorization_pos = pickle.load(open(\"../Tez/data/for_roberta/factorization_pos.pkl\",'rb'))\n",
    "global_importance_pos = pickle.load(open(\"../Tez/data/for_roberta/global_importance_pos.pkl\",'rb'))\n",
    "\n",
    "# Segments and global importances for negative class\n",
    "\n",
    "segments_neg = pickle.load(open(\"../Tez/data/for_roberta/segments_neg.pkl\",'rb'))\n",
    "u_segments_neg = pickle.load(open(\"../Tez/data/for_roberta/u_segments_neg.pkl\",'rb'))\n",
    "factorization_neg = pickle.load(open(\"../Tez/data/for_roberta/factorization_neg.pkl\",'rb'))\n",
    "global_importance_neg = pickle.load(open(\"../Tez/data/for_roberta/global_importance_neg.pkl\",'rb'))"
   ]
  },
  {
   "cell_type": "code",
   "execution_count": 7,
   "id": "7cafd9e2-d183-4fa2-894c-740e5c390714",
   "metadata": {
    "collapsed": true,
    "jupyter": {
     "outputs_hidden": true
    },
    "tags": []
   },
   "outputs": [
    {
     "data": {
      "image/png": "[encoded data removed]",
      "text/plain": [
       "<Figure size 2200x500 with 2 Axes>"
      ]
     },
     "metadata": {},
     "output_type": "display_data"
    }
   ],
   "source": [
    "plot_glob_importances(global_importance_pos, global_importance_neg)"
   ]
  },
  {
   "cell_type": "code",
   "execution_count": 20,
   "id": "bccb099a-8047-4355-9f67-4f6d4abbed43",
   "metadata": {
    "collapsed": true,
    "jupyter": {
     "outputs_hidden": true
    },
    "tags": []
   },
   "outputs": [
    {
     "data": {
      "text/html": [
       "<div style='display: flex; width: 400px; flex-wrap: wrap'><span style=\"background-color: rgba(9, 221, 55,  0.5); padding: 1px 5px; border: solid 3px ; border-color: rgba(9, 221, 55,  1); #EFEFEF\">Positive label: concept1 </span> <span style=\"background-color: rgba(9, 221, 161,  0.5); padding: 1px 5px; border: solid 3px ; border-color: rgba(9, 221, 161,  1); #EFEFEF\">Positive label: concept2 </span> <span style=\"background-color: rgba(221, 9, 34,  0.5); padding: 1px 5px; border: solid 3px ; border-color: rgba(221, 9, 34,  1); #EFEFEF\">Negative label: concept1 </span> <span style=\"background-color: rgba(221, 9, 140, 0.5); padding: 1px 5px; border: solid 3px ; border-color: rgba(221, 9, 140, 1); #EFEFEF\">Negative label: concept2 </span> <span style=\"background-color: rgba(221, 90, 9,  0.5); padding: 1px 5px; border: solid 3px ; border-color: rgba(221, 90, 9,  1); #EFEFEF\">Negative label: concept3 </span> </div>"
      ],
      "text/plain": [
       "<IPython.core.display.HTML object>"
      ]
     },
     "metadata": {},
     "output_type": "display_data"
    },
    {
     "data": {
      "text/html": [
       "<br><br>"
      ],
      "text/plain": [
       "<IPython.core.display.HTML object>"
      ]
     },
     "metadata": {},
     "output_type": "display_data"
    },
    {
     "name": "stdout",
     "output_type": "stream",
     "text": [
      "positive predicted reviews:\n",
      "\n",
      "\n",
      "\n",
      "\n",
      "10 most important reviews for positive predicted label - concept1:\n",
      "\n",
      "\n"
     ]
    },
    {
     "data": {
      "text/html": [
       "<div style='display: flex; width: 400px; flex-wrap: wrap'><span style=\"background-color: rgba(233,30,99,0);  padding: 1px 5px; border: solid 3px ; border-color:  rgba(233,30,99,0); #EFEFEF\">Directed</span> <span style=\"background-color: rgba(233,30,99,0);  padding: 1px 5px; border: solid 3px ; border-color:  rgba(233,30,99,0); #EFEFEF\">by</span> <span style=\"background-color: rgba(233,30,99,0);  padding: 1px 5px; border: solid 3px ; border-color:  rgba(233,30,99,0); #EFEFEF\">Samuel Fuller</span> <span style=\"background-color: rgba(233,30,99,0);  padding: 1px 5px; border: solid 3px ; border-color:  rgba(233,30,99,0); #EFEFEF\">who</span> <span style=\"background-color: rgba(233,30,99,0);  padding: 1px 5px; border: solid 3px ; border-color:  rgba(233,30,99,0); #EFEFEF\">also</span> <span style=\"background-color: rgba(233,30,99,0);  padding: 1px 5px; border: solid 3px ; border-color:  rgba(233,30,99,0); #EFEFEF\">wrote</span> <span style=\"background-color: rgba(9, 221, 161,  0.22438791394233704); padding: 1px 5px; border: solid 3px ; border-color: rgba(9, 221, 161,  1); #EFEFEF\">the screenplay</span> <span style=\"background-color: rgba(9, 221, 161,  0.24758726358413696); padding: 1px 5px; border: solid 3px ; border-color: rgba(9, 221, 161,  1); #EFEFEF\">Pickup</span> <span style=\"background-color: rgba(233,30,99,0);  padding: 1px 5px; border: solid 3px ; border-color:  rgba(233,30,99,0); #EFEFEF\">on</span> <span style=\"background-color: rgba(233,30,99,0);  padding: 1px 5px; border: solid 3px ; border-color:  rgba(233,30,99,0); #EFEFEF\">South Street</span> <span style=\"background-color: rgba(233,30,99,0);  padding: 1px 5px; border: solid 3px ; border-color:  rgba(233,30,99,0); #EFEFEF\">is</span> <span style=\"background-color: rgba(9, 221, 161,  0.9995409846305847); padding: 1px 5px; border: solid 3px ; border-color: rgba(9, 221, 161,  1); #EFEFEF\">a tough, brutal, well made film</span> <span style=\"background-color: rgba(9, 221, 161,  0.2205590307712555); padding: 1px 5px; border: solid 3px ; border-color: rgba(9, 221, 161,  1); #EFEFEF\">about</span> <span style=\"background-color: rgba(233,30,99,0);  padding: 1px 5px; border: solid 3px ; border-color:  rgba(233,30,99,0); #EFEFEF\">a pickpocket</span> <span style=\"background-color: rgba(9, 221, 161,  0.22207684814929962); padding: 1px 5px; border: solid 3px ; border-color: rgba(9, 221, 161,  1); #EFEFEF\">Richard Widmark</span> <span style=\"background-color: rgba(233,30,99,0);  padding: 1px 5px; border: solid 3px ; border-color:  rgba(233,30,99,0); #EFEFEF\">who</span> <span style=\"background-color: rgba(233,30,99,0);  padding: 1px 5px; border: solid 3px ; border-color:  rgba(233,30,99,0); #EFEFEF\">inadvertently aquires</span> <span style=\"background-color: rgba(233,30,99,0);  padding: 1px 5px; border: solid 3px ; border-color:  rgba(233,30,99,0); #EFEFEF\">top-secret microfilm</span> <span style=\"background-color: rgba(233,30,99,0);  padding: 1px 5px; border: solid 3px ; border-color:  rgba(233,30,99,0); #EFEFEF\">becomes</span> <span style=\"background-color: rgba(233,30,99,0);  padding: 1px 5px; border: solid 3px ; border-color:  rgba(233,30,99,0); #EFEFEF\">a target</span> <span style=\"background-color: rgba(233,30,99,0);  padding: 1px 5px; border: solid 3px ; border-color:  rgba(233,30,99,0); #EFEFEF\">for</span> <span style=\"background-color: rgba(233,30,99,0);  padding: 1px 5px; border: solid 3px ; border-color:  rgba(233,30,99,0); #EFEFEF\">espionage agents</span> </div>"
      ],
      "text/plain": [
       "<IPython.core.display.HTML object>"
      ]
     },
     "metadata": {},
     "output_type": "display_data"
    },
    {
     "data": {
      "text/html": [
       "<br><br>"
      ],
      "text/plain": [
       "<IPython.core.display.HTML object>"
      ]
     },
     "metadata": {},
     "output_type": "display_data"
    },
    {
     "data": {
      "text/html": [
       "<div style='display: flex; width: 400px; flex-wrap: wrap'><span style=\"background-color: rgba(233,30,99,0);  padding: 1px 5px; border: solid 3px ; border-color:  rgba(233,30,99,0); #EFEFEF\">Haunting</span> <span style=\"background-color: rgba(233,30,99,0);  padding: 1px 5px; border: solid 3px ; border-color:  rgba(233,30,99,0); #EFEFEF\">long takes</span> <span style=\"background-color: rgba(9, 221, 161,  0.9996203780174255); padding: 1px 5px; border: solid 3px ; border-color: rgba(9, 221, 161,  1); #EFEFEF\">a gritty soundtrack</span> <span style=\"background-color: rgba(233,30,99,0);  padding: 1px 5px; border: solid 3px ; border-color:  rgba(233,30,99,0); #EFEFEF\">to accentuate</span> <span style=\"background-color: rgba(9, 221, 161,  0.9996203780174255); padding: 1px 5px; border: solid 3px ; border-color: rgba(9, 221, 161,  1); #EFEFEF\">the guilt</span> <span style=\"background-color: rgba(233,30,99,0);  padding: 1px 5px; border: solid 3px ; border-color:  rgba(233,30,99,0); #EFEFEF\">barking dogs</span> </div>"
      ],
      "text/plain": [
       "<IPython.core.display.HTML object>"
      ]
     },
     "metadata": {},
     "output_type": "display_data"
    },
    {
     "data": {
      "text/html": [
       "<br><br>"
      ],
      "text/plain": [
       "<IPython.core.display.HTML object>"
      ]
     },
     "metadata": {},
     "output_type": "display_data"
    },
    {
     "data": {
      "text/html": [
       "<div style='display: flex; width: 400px; flex-wrap: wrap'><span style=\"background-color: rgba(233,30,99,0);  padding: 1px 5px; border: solid 3px ; border-color:  rgba(233,30,99,0); #EFEFEF\">It</span> <span style=\"background-color: rgba(233,30,99,0);  padding: 1px 5px; border: solid 3px ; border-color:  rgba(233,30,99,0); #EFEFEF\">is</span> <span style=\"background-color: rgba(9, 221, 55,  0.5317307710647583); padding: 1px 5px; border: solid 3px ; border-color: rgba(9, 221, 55,  1); #EFEFEF\">a psychological thriller</span> </div>"
      ],
      "text/plain": [
       "<IPython.core.display.HTML object>"
      ]
     },
     "metadata": {},
     "output_type": "display_data"
    },
    {
     "data": {
      "text/html": [
       "<br><br>"
      ],
      "text/plain": [
       "<IPython.core.display.HTML object>"
      ]
     },
     "metadata": {},
     "output_type": "display_data"
    },
    {
     "data": {
      "text/html": [
       "<div style='display: flex; width: 400px; flex-wrap: wrap'><span style=\"background-color: rgba(9, 221, 55,  0.8350106477737427); padding: 1px 5px; border: solid 3px ; border-color: rgba(9, 221, 55,  1); #EFEFEF\">Standing</span> <span style=\"background-color: rgba(9, 221, 55,  0.8431651592254639); padding: 1px 5px; border: solid 3px ; border-color: rgba(9, 221, 55,  1); #EFEFEF\">out strongly</span> <span style=\"background-color: rgba(9, 221, 161,  0.6468125581741333); padding: 1px 5px; border: solid 3px ; border-color: rgba(9, 221, 161,  1); #EFEFEF\">is</span> <span style=\"background-color: rgba(9, 221, 55,  0.9995267391204834); padding: 1px 5px; border: solid 3px ; border-color: rgba(9, 221, 55,  1); #EFEFEF\">its sultrily lurid and bleak nature</span> <span style=\"background-color: rgba(9, 221, 55,  0.729847252368927); padding: 1px 5px; border: solid 3px ; border-color: rgba(9, 221, 55,  1); #EFEFEF\">that</span> <span style=\"background-color: rgba(233,30,99,0);  padding: 1px 5px; border: solid 3px ; border-color:  rgba(233,30,99,0); #EFEFEF\">'s intrusively planted</span> <span style=\"background-color: rgba(9, 221, 161,  0.6468125581741333); padding: 1px 5px; border: solid 3px ; border-color: rgba(9, 221, 161,  1); #EFEFEF\">into</span> <span style=\"background-color: rgba(9, 221, 161,  0.6468125581741333); padding: 1px 5px; border: solid 3px ; border-color: rgba(9, 221, 161,  1); #EFEFEF\">the film</span> <span style=\"background-color: rgba(9, 221, 55,  0.6900039315223694); padding: 1px 5px; border: solid 3px ; border-color: rgba(9, 221, 55,  1); #EFEFEF\">'s psychological makeup</span> <span style=\"background-color: rgba(233,30,99,0);  padding: 1px 5px; border: solid 3px ; border-color:  rgba(233,30,99,0); #EFEFEF\">manipulative strangle hold</span> <span style=\"background-color: rgba(9, 221, 161,  0.6468125581741333); padding: 1px 5px; border: solid 3px ; border-color: rgba(9, 221, 161,  1); #EFEFEF\">in</span> <span style=\"background-color: rgba(9, 221, 161,  0.6468125581741333); padding: 1px 5px; border: solid 3px ; border-color: rgba(9, 221, 161,  1); #EFEFEF\">sexual depravity</span> </div>"
      ],
      "text/plain": [
       "<IPython.core.display.HTML object>"
      ]
     },
     "metadata": {},
     "output_type": "display_data"
    },
    {
     "data": {
      "text/html": [
       "<br><br>"
      ],
      "text/plain": [
       "<IPython.core.display.HTML object>"
      ]
     },
     "metadata": {},
     "output_type": "display_data"
    },
    {
     "data": {
      "text/html": [
       "<div style='display: flex; width: 400px; flex-wrap: wrap'><span style=\"background-color: rgba(233,30,99,0);  padding: 1px 5px; border: solid 3px ; border-color:  rgba(233,30,99,0); #EFEFEF\">The former prizefighter</span> <span style=\"background-color: rgba(233,30,99,0);  padding: 1px 5px; border: solid 3px ; border-color:  rgba(233,30,99,0); #EFEFEF\">who</span> <span style=\"background-color: rgba(233,30,99,0);  padding: 1px 5px; border: solid 3px ; border-color:  rgba(233,30,99,0); #EFEFEF\">once</span> <span style=\"background-color: rgba(233,30,99,0);  padding: 1px 5px; border: solid 3px ; border-color:  rgba(233,30,99,0); #EFEFEF\">faced</span> <span style=\"background-color: rgba(233,30,99,0);  padding: 1px 5px; border: solid 3px ; border-color:  rgba(233,30,99,0); #EFEFEF\">Joe Louis</span> <span style=\"background-color: rgba(233,30,99,0);  padding: 1px 5px; border: solid 3px ; border-color:  rgba(233,30,99,0); #EFEFEF\">in</span> <span style=\"background-color: rgba(233,30,99,0);  padding: 1px 5px; border: solid 3px ; border-color:  rgba(233,30,99,0); #EFEFEF\">the ring</span> <span style=\"background-color: rgba(9, 221, 161,  0.5835801959037781); padding: 1px 5px; border: solid 3px ; border-color: rgba(9, 221, 161,  1); #EFEFEF\">delivers</span> <span style=\"background-color: rgba(9, 221, 161,  0.9997867941856384); padding: 1px 5px; border: solid 3px ; border-color: rgba(9, 221, 161,  1); #EFEFEF\">an Academy Award-winning portrayal</span> <span style=\"background-color: rgba(233,30,99,0);  padding: 1px 5px; border: solid 3px ; border-color:  rgba(233,30,99,0); #EFEFEF\">of</span> <span style=\"background-color: rgba(233,30,99,0);  padding: 1px 5px; border: solid 3px ; border-color:  rgba(233,30,99,0); #EFEFEF\">disgraced IRA soldier Gypo Nolan</span> <span style=\"background-color: rgba(233,30,99,0);  padding: 1px 5px; border: solid 3px ; border-color:  rgba(233,30,99,0); #EFEFEF\">on</span> <span style=\"background-color: rgba(233,30,99,0);  padding: 1px 5px; border: solid 3px ; border-color:  rgba(233,30,99,0); #EFEFEF\">the worst night</span> <span style=\"background-color: rgba(233,30,99,0);  padding: 1px 5px; border: solid 3px ; border-color:  rgba(233,30,99,0); #EFEFEF\">of</span> <span style=\"background-color: rgba(233,30,99,0);  padding: 1px 5px; border: solid 3px ; border-color:  rgba(233,30,99,0); #EFEFEF\">his life</span> </div>"
      ],
      "text/plain": [
       "<IPython.core.display.HTML object>"
      ]
     },
     "metadata": {},
     "output_type": "display_data"
    },
    {
     "data": {
      "text/html": [
       "<br><br>"
      ],
      "text/plain": [
       "<IPython.core.display.HTML object>"
      ]
     },
     "metadata": {},
     "output_type": "display_data"
    },
    {
     "data": {
      "text/html": [
       "<div style='display: flex; width: 400px; flex-wrap: wrap'><span style=\"background-color: rgba(9, 221, 161,  0.41278865933418274); padding: 1px 5px; border: solid 3px ; border-color: rgba(9, 221, 161,  1); #EFEFEF\">A River Runs</span> <span style=\"background-color: rgba(233,30,99,0);  padding: 1px 5px; border: solid 3px ; border-color:  rgba(233,30,99,0); #EFEFEF\">Through</span> <span style=\"background-color: rgba(9, 221, 161,  0.2231069654226303); padding: 1px 5px; border: solid 3px ; border-color: rgba(9, 221, 161,  1); #EFEFEF\">It</span> <span style=\"background-color: rgba(9, 221, 55,  0.5246747732162476); padding: 1px 5px; border: solid 3px ; border-color: rgba(9, 221, 55,  1); #EFEFEF\">is based</span> <span style=\"background-color: rgba(233,30,99,0);  padding: 1px 5px; border: solid 3px ; border-color:  rgba(233,30,99,0); #EFEFEF\">on</span> <span style=\"background-color: rgba(9, 221, 161,  0.35520288348197937); padding: 1px 5px; border: solid 3px ; border-color: rgba(9, 221, 161,  1); #EFEFEF\">the true story</span> <span style=\"background-color: rgba(233,30,99,0);  padding: 1px 5px; border: solid 3px ; border-color:  rgba(233,30,99,0); #EFEFEF\">of</span> <span style=\"background-color: rgba(233,30,99,0);  padding: 1px 5px; border: solid 3px ; border-color:  rgba(233,30,99,0); #EFEFEF\">two fly fishing brothers</span> <span style=\"background-color: rgba(233,30,99,0);  padding: 1px 5px; border: solid 3px ; border-color:  rgba(233,30,99,0); #EFEFEF\">Norman and Paul</span> <span style=\"background-color: rgba(9, 221, 55,  0.4384498596191406); padding: 1px 5px; border: solid 3px ; border-color: rgba(9, 221, 55,  1); #EFEFEF\">Brad Pitt</span> <span style=\"background-color: rgba(9, 221, 55,  0.34115585684776306); padding: 1px 5px; border: solid 3px ; border-color: rgba(9, 221, 55,  1); #EFEFEF\">Craig Sheffer</span> <span style=\"background-color: rgba(233,30,99,0);  padding: 1px 5px; border: solid 3px ; border-color:  rgba(233,30,99,0); #EFEFEF\">whose Reverend father</span> <span style=\"background-color: rgba(9, 221, 55,  0.20620697736740112); padding: 1px 5px; border: solid 3px ; border-color: rgba(9, 221, 55,  1); #EFEFEF\">Tom Skerritt</span> <span style=\"background-color: rgba(9, 221, 55,  0.2637946903705597); padding: 1px 5px; border: solid 3px ; border-color: rgba(9, 221, 55,  1); #EFEFEF\">is</span> <span style=\"background-color: rgba(9, 221, 55,  0.31497615575790405); padding: 1px 5px; border: solid 3px ; border-color: rgba(9, 221, 55,  1); #EFEFEF\">a strict man</span> <span style=\"background-color: rgba(9, 221, 55,  0.21397915482521057); padding: 1px 5px; border: solid 3px ; border-color: rgba(9, 221, 55,  1); #EFEFEF\">whose two passions</span> <span style=\"background-color: rgba(9, 221, 55,  0.27157995104789734); padding: 1px 5px; border: solid 3px ; border-color: rgba(9, 221, 55,  1); #EFEFEF\">are</span> <span style=\"background-color: rgba(233,30,99,0);  padding: 1px 5px; border: solid 3px ; border-color:  rgba(233,30,99,0); #EFEFEF\">his faith and fly fishing</span> <span style=\"background-color: rgba(9, 221, 55,  0.24507422745227814); padding: 1px 5px; border: solid 3px ; border-color: rgba(9, 221, 55,  1); #EFEFEF\">for</span> <span style=\"background-color: rgba(9, 221, 55,  0.2532702684402466); padding: 1px 5px; border: solid 3px ; border-color: rgba(9, 221, 55,  1); #EFEFEF\">him</span> <span style=\"background-color: rgba(9, 221, 55,  0.2553696632385254); padding: 1px 5px; border: solid 3px ; border-color: rgba(9, 221, 55,  1); #EFEFEF\">his sons</span> <span style=\"background-color: rgba(9, 221, 55,  0.2002888321876526); padding: 1px 5px; border: solid 3px ; border-color: rgba(9, 221, 55,  1); #EFEFEF\">there</span> <span style=\"background-color: rgba(9, 221, 55,  0.23186004161834717); padding: 1px 5px; border: solid 3px ; border-color: rgba(9, 221, 55,  1); #EFEFEF\">is</span> <span style=\"background-color: rgba(9, 221, 55,  0.22920000553131104); padding: 1px 5px; border: solid 3px ; border-color: rgba(9, 221, 55,  1); #EFEFEF\">a fine line</span> <span style=\"background-color: rgba(9, 221, 55,  0.227906733751297); padding: 1px 5px; border: solid 3px ; border-color: rgba(9, 221, 55,  1); #EFEFEF\">between</span> <span style=\"background-color: rgba(9, 221, 55,  0.23802450299263); padding: 1px 5px; border: solid 3px ; border-color: rgba(9, 221, 55,  1); #EFEFEF\">the two</span> </div>"
      ],
      "text/plain": [
       "<IPython.core.display.HTML object>"
      ]
     },
     "metadata": {},
     "output_type": "display_data"
    },
    {
     "data": {
      "text/html": [
       "<br><br>"
      ],
      "text/plain": [
       "<IPython.core.display.HTML object>"
      ]
     },
     "metadata": {},
     "output_type": "display_data"
    },
    {
     "data": {
      "text/html": [
       "<div style='display: flex; width: 400px; flex-wrap: wrap'><span style=\"background-color: rgba(9, 221, 161,  0.7401643991470337); padding: 1px 5px; border: solid 3px ; border-color: rgba(9, 221, 161,  1); #EFEFEF\">Carter</span> <span style=\"background-color: rgba(9, 221, 161,  0.9996662735939026); padding: 1px 5px; border: solid 3px ; border-color: rgba(9, 221, 161,  1); #EFEFEF\">'s depiction</span> <span style=\"background-color: rgba(9, 221, 161,  0.6727287769317627); padding: 1px 5px; border: solid 3px ; border-color: rgba(9, 221, 161,  1); #EFEFEF\">of</span> <span style=\"background-color: rgba(233,30,99,0);  padding: 1px 5px; border: solid 3px ; border-color:  rgba(233,30,99,0); #EFEFEF\">an ALS victim</span> <span style=\"background-color: rgba(9, 221, 161,  0.9996662735939026); padding: 1px 5px; border: solid 3px ; border-color: rgba(9, 221, 161,  1); #EFEFEF\">is</span> <span style=\"background-color: rgba(9, 221, 161,  0.9996662735939026); padding: 1px 5px; border: solid 3px ; border-color: rgba(9, 221, 161,  1); #EFEFEF\">strong</span> <span style=\"background-color: rgba(9, 221, 161,  0.9447570443153381); padding: 1px 5px; border: solid 3px ; border-color: rgba(9, 221, 161,  1); #EFEFEF\">perhaps even overdone</span> <span style=\"background-color: rgba(9, 221, 161,  0.9996662735939026); padding: 1px 5px; border: solid 3px ; border-color: rgba(9, 221, 161,  1); #EFEFEF\">at</span> <span style=\"background-color: rgba(9, 221, 161,  0.9996662735939026); padding: 1px 5px; border: solid 3px ; border-color: rgba(9, 221, 161,  1); #EFEFEF\">times</span> <span style=\"background-color: rgba(9, 221, 161,  0.9996662735939026); padding: 1px 5px; border: solid 3px ; border-color: rgba(9, 221, 161,  1); #EFEFEF\">sometimes</span> <span style=\"background-color: rgba(9, 221, 161,  0.25947046279907227); padding: 1px 5px; border: solid 3px ; border-color: rgba(9, 221, 161,  1); #EFEFEF\">her dialog</span> <span style=\"background-color: rgba(233,30,99,0);  padding: 1px 5px; border: solid 3px ; border-color:  rgba(233,30,99,0); #EFEFEF\">dissolves</span> <span style=\"background-color: rgba(9, 221, 161,  0.38318517804145813); padding: 1px 5px; border: solid 3px ; border-color: rgba(9, 221, 161,  1); #EFEFEF\">into</span> <span style=\"background-color: rgba(233,30,99,0);  padding: 1px 5px; border: solid 3px ; border-color:  rgba(233,30,99,0); #EFEFEF\">undistinguishable mutterings</span> </div>"
      ],
      "text/plain": [
       "<IPython.core.display.HTML object>"
      ]
     },
     "metadata": {},
     "output_type": "display_data"
    },
    {
     "data": {
      "text/html": [
       "<br><br>"
      ],
      "text/plain": [
       "<IPython.core.display.HTML object>"
      ]
     },
     "metadata": {},
     "output_type": "display_data"
    },
    {
     "data": {
      "text/html": [
       "<div style='display: flex; width: 400px; flex-wrap: wrap'><span style=\"background-color: rgba(9, 221, 161,  0.26980432868003845); padding: 1px 5px; border: solid 3px ; border-color: rgba(9, 221, 161,  1); #EFEFEF\">I</span> <span style=\"background-color: rgba(233,30,99,0);  padding: 1px 5px; border: solid 3px ; border-color:  rgba(233,30,99,0); #EFEFEF\">just</span> <span style=\"background-color: rgba(9, 221, 161,  0.9995595216751099); padding: 1px 5px; border: solid 3px ; border-color: rgba(9, 221, 161,  1); #EFEFEF\">re-watched</span> <span style=\"background-color: rgba(9, 221, 55,  0.5494683384895325); padding: 1px 5px; border: solid 3px ; border-color: rgba(9, 221, 55,  1); #EFEFEF\">this thriller</span> <span style=\"background-color: rgba(233,30,99,0);  padding: 1px 5px; border: solid 3px ; border-color:  rgba(233,30,99,0); #EFEFEF\">one</span> <span style=\"background-color: rgba(9, 221, 161,  0.20138350129127502); padding: 1px 5px; border: solid 3px ; border-color: rgba(9, 221, 161,  1); #EFEFEF\">I</span> <span style=\"background-color: rgba(9, 221, 161,  0.7287431955337524); padding: 1px 5px; border: solid 3px ; border-color: rgba(9, 221, 161,  1); #EFEFEF\">had previously believed to be</span> <span style=\"background-color: rgba(233,30,99,0);  padding: 1px 5px; border: solid 3px ; border-color:  rgba(233,30,99,0); #EFEFEF\">one</span> <span style=\"background-color: rgba(233,30,99,0);  padding: 1px 5px; border: solid 3px ; border-color:  rgba(233,30,99,0); #EFEFEF\">of</span> <span style=\"background-color: rgba(233,30,99,0);  padding: 1px 5px; border: solid 3px ; border-color:  rgba(233,30,99,0); #EFEFEF\">Hitch</span> <span style=\"background-color: rgba(9, 221, 161,  0.32893478870391846); padding: 1px 5px; border: solid 3px ; border-color: rgba(9, 221, 161,  1); #EFEFEF\">'s lesser efforts</span> </div>"
      ],
      "text/plain": [
       "<IPython.core.display.HTML object>"
      ]
     },
     "metadata": {},
     "output_type": "display_data"
    },
    {
     "data": {
      "text/html": [
       "<br><br>"
      ],
      "text/plain": [
       "<IPython.core.display.HTML object>"
      ]
     },
     "metadata": {},
     "output_type": "display_data"
    },
    {
     "data": {
      "text/html": [
       "<div style='display: flex; width: 400px; flex-wrap: wrap'><span style=\"background-color: rgba(9, 221, 161,  0.21338056027889252); padding: 1px 5px; border: solid 3px ; border-color: rgba(9, 221, 161,  1); #EFEFEF\">New York lensed horror film</span> <span style=\"background-color: rgba(233,30,99,0);  padding: 1px 5px; border: solid 3px ; border-color:  rgba(233,30,99,0); #EFEFEF\">filmed</span> <span style=\"background-color: rgba(233,30,99,0);  padding: 1px 5px; border: solid 3px ; border-color:  rgba(233,30,99,0); #EFEFEF\">in</span> <span style=\"background-color: rgba(233,30,99,0);  padding: 1px 5px; border: solid 3px ; border-color:  rgba(233,30,99,0); #EFEFEF\">part</span> <span style=\"background-color: rgba(233,30,99,0);  padding: 1px 5px; border: solid 3px ; border-color:  rgba(233,30,99,0); #EFEFEF\">on</span> <span style=\"background-color: rgba(233,30,99,0);  padding: 1px 5px; border: solid 3px ; border-color:  rgba(233,30,99,0); #EFEFEF\">Staten Island</span> <span style=\"background-color: rgba(233,30,99,0);  padding: 1px 5px; border: solid 3px ; border-color:  rgba(233,30,99,0); #EFEFEF\">which</span> <span style=\"background-color: rgba(233,30,99,0);  padding: 1px 5px; border: solid 3px ; border-color:  rgba(233,30,99,0); #EFEFEF\">no doubt</span> <span style=\"background-color: rgba(233,30,99,0);  padding: 1px 5px; border: solid 3px ; border-color:  rgba(233,30,99,0); #EFEFEF\">brought</span> <span style=\"background-color: rgba(233,30,99,0);  padding: 1px 5px; border: solid 3px ; border-color:  rgba(233,30,99,0); #EFEFEF\">the spirit</span> <span style=\"background-color: rgba(233,30,99,0);  padding: 1px 5px; border: solid 3px ; border-color:  rgba(233,30,99,0); #EFEFEF\">of</span> <span style=\"background-color: rgba(233,30,99,0);  padding: 1px 5px; border: solid 3px ; border-color:  rgba(233,30,99,0); #EFEFEF\">Andy Milligan</span> <span style=\"background-color: rgba(233,30,99,0);  padding: 1px 5px; border: solid 3px ; border-color:  rgba(233,30,99,0); #EFEFEF\">lurking</span> <span style=\"background-color: rgba(233,30,99,0);  padding: 1px 5px; border: solid 3px ; border-color:  rgba(233,30,99,0); #EFEFEF\">about</span> <span style=\"background-color: rgba(9, 221, 161,  0.3119530975818634); padding: 1px 5px; border: solid 3px ; border-color: rgba(9, 221, 161,  1); #EFEFEF\">is</span> <span style=\"background-color: rgba(9, 221, 161,  0.27421265840530396); padding: 1px 5px; border: solid 3px ; border-color: rgba(9, 221, 161,  1); #EFEFEF\">one</span> <span style=\"background-color: rgba(233,30,99,0);  padding: 1px 5px; border: solid 3px ; border-color:  rgba(233,30,99,0); #EFEFEF\">of</span> <span style=\"background-color: rgba(9, 221, 161,  0.9994736313819885); padding: 1px 5px; border: solid 3px ; border-color: rgba(9, 221, 161,  1); #EFEFEF\">the better horror comedies</span> <span style=\"background-color: rgba(233,30,99,0);  padding: 1px 5px; border: solid 3px ; border-color:  rgba(233,30,99,0); #EFEFEF\">to come</span> <span style=\"background-color: rgba(233,30,99,0);  padding: 1px 5px; border: solid 3px ; border-color:  rgba(233,30,99,0); #EFEFEF\">around</span> <span style=\"background-color: rgba(233,30,99,0);  padding: 1px 5px; border: solid 3px ; border-color:  rgba(233,30,99,0); #EFEFEF\">in</span> <span style=\"background-color: rgba(233,30,99,0);  padding: 1px 5px; border: solid 3px ; border-color:  rgba(233,30,99,0); #EFEFEF\">a while</span> </div>"
      ],
      "text/plain": [
       "<IPython.core.display.HTML object>"
      ]
     },
     "metadata": {},
     "output_type": "display_data"
    },
    {
     "data": {
      "text/html": [
       "<br><br>"
      ],
      "text/plain": [
       "<IPython.core.display.HTML object>"
      ]
     },
     "metadata": {},
     "output_type": "display_data"
    },
    {
     "data": {
      "text/html": [
       "<div style='display: flex; width: 400px; flex-wrap: wrap'><span style=\"background-color: rgba(9, 221, 161,  0.2925364673137665); padding: 1px 5px; border: solid 3px ; border-color: rgba(9, 221, 161,  1); #EFEFEF\">The film</span> <span style=\"background-color: rgba(9, 221, 161,  0.35843679308891296); padding: 1px 5px; border: solid 3px ; border-color: rgba(9, 221, 161,  1); #EFEFEF\">written and directed</span> <span style=\"background-color: rgba(9, 221, 161,  0.3811630606651306); padding: 1px 5px; border: solid 3px ; border-color: rgba(9, 221, 161,  1); #EFEFEF\">entirely</span> <span style=\"background-color: rgba(9, 221, 161,  0.3288392424583435); padding: 1px 5px; border: solid 3px ; border-color: rgba(9, 221, 161,  1); #EFEFEF\">by</span> <span style=\"background-color: rgba(9, 221, 161,  0.23990720510482788); padding: 1px 5px; border: solid 3px ; border-color: rgba(9, 221, 161,  1); #EFEFEF\">Anthony Waller</span> <span style=\"background-color: rgba(233,30,99,0);  padding: 1px 5px; border: solid 3px ; border-color:  rgba(233,30,99,0); #EFEFEF\">is</span> <span style=\"background-color: rgba(9, 221, 161,  0.9994980096817017); padding: 1px 5px; border: solid 3px ; border-color: rgba(9, 221, 161,  1); #EFEFEF\">a tense, action-packed thriller</span> <span style=\"background-color: rgba(9, 221, 161,  0.2990601658821106); padding: 1px 5px; border: solid 3px ; border-color: rgba(9, 221, 161,  1); #EFEFEF\">with</span> <span style=\"background-color: rgba(9, 221, 161,  0.30372557044029236); padding: 1px 5px; border: solid 3px ; border-color: rgba(9, 221, 161,  1); #EFEFEF\">black comedy aspects</span> <span style=\"background-color: rgba(233,30,99,0);  padding: 1px 5px; border: solid 3px ; border-color:  rgba(233,30,99,0); #EFEFEF\">horror influences</span> </div>"
      ],
      "text/plain": [
       "<IPython.core.display.HTML object>"
      ]
     },
     "metadata": {},
     "output_type": "display_data"
    },
    {
     "data": {
      "text/html": [
       "<br><br>"
      ],
      "text/plain": [
       "<IPython.core.display.HTML object>"
      ]
     },
     "metadata": {},
     "output_type": "display_data"
    },
    {
     "name": "stdout",
     "output_type": "stream",
     "text": [
      "\n",
      "\n",
      "10 most important reviews for positive predicted label - concept2:\n",
      "\n",
      "\n"
     ]
    },
    {
     "data": {
      "text/html": [
       "<div style='display: flex; width: 400px; flex-wrap: wrap'><span style=\"background-color: rgba(9, 221, 161,  0.333190381526947); padding: 1px 5px; border: solid 3px ; border-color: rgba(9, 221, 161,  1); #EFEFEF\">It</span> <span style=\"background-color: rgba(9, 221, 161,  0.27182453870773315); padding: 1px 5px; border: solid 3px ; border-color: rgba(9, 221, 161,  1); #EFEFEF\">is</span> <span style=\"background-color: rgba(9, 221, 161,  0.9998337626457214); padding: 1px 5px; border: solid 3px ; border-color: rgba(9, 221, 161,  1); #EFEFEF\">a great loss</span> </div>"
      ],
      "text/plain": [
       "<IPython.core.display.HTML object>"
      ]
     },
     "metadata": {},
     "output_type": "display_data"
    },
    {
     "data": {
      "text/html": [
       "<br><br>"
      ],
      "text/plain": [
       "<IPython.core.display.HTML object>"
      ]
     },
     "metadata": {},
     "output_type": "display_data"
    },
    {
     "data": {
      "text/html": [
       "<div style='display: flex; width: 400px; flex-wrap: wrap'><span style=\"background-color: rgba(233,30,99,0);  padding: 1px 5px; border: solid 3px ; border-color:  rgba(233,30,99,0); #EFEFEF\">He</span> <span style=\"background-color: rgba(233,30,99,0);  padding: 1px 5px; border: solid 3px ; border-color:  rgba(233,30,99,0); #EFEFEF\">was</span> <span style=\"background-color: rgba(9, 221, 161,  0.9998620748519897); padding: 1px 5px; border: solid 3px ; border-color: rgba(9, 221, 161,  1); #EFEFEF\">just that beautiful</span> </div>"
      ],
      "text/plain": [
       "<IPython.core.display.HTML object>"
      ]
     },
     "metadata": {},
     "output_type": "display_data"
    },
    {
     "data": {
      "text/html": [
       "<br><br>"
      ],
      "text/plain": [
       "<IPython.core.display.HTML object>"
      ]
     },
     "metadata": {},
     "output_type": "display_data"
    },
    {
     "data": {
      "text/html": [
       "<div style='display: flex; width: 400px; flex-wrap: wrap'><span style=\"background-color: rgba(9, 221, 161,  0.23589055240154266); padding: 1px 5px; border: solid 3px ; border-color: rgba(9, 221, 161,  1); #EFEFEF\">I</span> <span style=\"background-color: rgba(9, 221, 161,  0.22839869558811188); padding: 1px 5px; border: solid 3px ; border-color: rgba(9, 221, 161,  1); #EFEFEF\">so wanted</span> <span style=\"background-color: rgba(9, 221, 161,  0.41955289244651794); padding: 1px 5px; border: solid 3px ; border-color: rgba(9, 221, 161,  1); #EFEFEF\">Ben and Emily</span> <span style=\"background-color: rgba(233,30,99,0);  padding: 1px 5px; border: solid 3px ; border-color:  rgba(233,30,99,0); #EFEFEF\">to be</span> <span style=\"background-color: rgba(9, 221, 161,  0.2946953773498535); padding: 1px 5px; border: solid 3px ; border-color: rgba(9, 221, 161,  1); #EFEFEF\">together</span> <span style=\"background-color: rgba(9, 221, 161,  0.2592011094093323); padding: 1px 5px; border: solid 3px ; border-color: rgba(9, 221, 161,  1); #EFEFEF\">in</span> <span style=\"background-color: rgba(9, 221, 161,  0.2668413519859314); padding: 1px 5px; border: solid 3px ; border-color: rgba(9, 221, 161,  1); #EFEFEF\">the end</span> <span style=\"background-color: rgba(9, 221, 161,  0.21584807336330414); padding: 1px 5px; border: solid 3px ; border-color: rgba(9, 221, 161,  1); #EFEFEF\">they</span> <span style=\"background-color: rgba(9, 221, 161,  0.2136750966310501); padding: 1px 5px; border: solid 3px ; border-color: rgba(9, 221, 161,  1); #EFEFEF\">were</span> <span style=\"background-color: rgba(9, 221, 161,  0.9994969367980957); padding: 1px 5px; border: solid 3px ; border-color: rgba(9, 221, 161,  1); #EFEFEF\">forever</span> </div>"
      ],
      "text/plain": [
       "<IPython.core.display.HTML object>"
      ]
     },
     "metadata": {},
     "output_type": "display_data"
    },
    {
     "data": {
      "text/html": [
       "<br><br>"
      ],
      "text/plain": [
       "<IPython.core.display.HTML object>"
      ]
     },
     "metadata": {},
     "output_type": "display_data"
    },
    {
     "data": {
      "text/html": [
       "<div style='display: flex; width: 400px; flex-wrap: wrap'><span style=\"background-color: rgba(9, 221, 161,  0.9995083808898926); padding: 1px 5px; border: solid 3px ; border-color: rgba(9, 221, 161,  1); #EFEFEF\">Always</span> <span style=\"background-color: rgba(233,30,99,0);  padding: 1px 5px; border: solid 3px ; border-color:  rgba(233,30,99,0); #EFEFEF\">makes</span> <span style=\"background-color: rgba(233,30,99,0);  padding: 1px 5px; border: solid 3px ; border-color:  rgba(233,30,99,0); #EFEFEF\">me</span> <span style=\"background-color: rgba(9, 221, 161,  0.3911880552768707); padding: 1px 5px; border: solid 3px ; border-color: rgba(9, 221, 161,  1); #EFEFEF\">cry</span> </div>"
      ],
      "text/plain": [
       "<IPython.core.display.HTML object>"
      ]
     },
     "metadata": {},
     "output_type": "display_data"
    },
    {
     "data": {
      "text/html": [
       "<br><br>"
      ],
      "text/plain": [
       "<IPython.core.display.HTML object>"
      ]
     },
     "metadata": {},
     "output_type": "display_data"
    },
    {
     "data": {
      "text/html": [
       "<div style='display: flex; width: 400px; flex-wrap: wrap'><span style=\"background-color: rgba(9, 221, 161,  0.41318702697753906); padding: 1px 5px; border: solid 3px ; border-color: rgba(9, 221, 161,  1); #EFEFEF\">Losing</span> <span style=\"background-color: rgba(9, 221, 161,  0.8145635724067688); padding: 1px 5px; border: solid 3px ; border-color: rgba(9, 221, 161,  1); #EFEFEF\">your love</span> <span style=\"background-color: rgba(9, 221, 161,  0.5138537883758545); padding: 1px 5px; border: solid 3px ; border-color: rgba(9, 221, 161,  1); #EFEFEF\">is</span> <span style=\"background-color: rgba(9, 221, 161,  0.9996119737625122); padding: 1px 5px; border: solid 3px ; border-color: rgba(9, 221, 161,  1); #EFEFEF\">painful</span> <span style=\"background-color: rgba(9, 221, 161,  0.4821826219558716); padding: 1px 5px; border: solid 3px ; border-color: rgba(9, 221, 161,  1); #EFEFEF\">beyond</span> <span style=\"background-color: rgba(233,30,99,0);  padding: 1px 5px; border: solid 3px ; border-color:  rgba(233,30,99,0); #EFEFEF\">belief</span> <span style=\"background-color: rgba(233,30,99,0);  padding: 1px 5px; border: solid 3px ; border-color:  rgba(233,30,99,0); #EFEFEF\">many</span> <span style=\"background-color: rgba(9, 221, 161,  0.44376134872436523); padding: 1px 5px; border: solid 3px ; border-color: rgba(9, 221, 161,  1); #EFEFEF\">who</span> <span style=\"background-color: rgba(9, 221, 161,  0.34252041578292847); padding: 1px 5px; border: solid 3px ; border-color: rgba(9, 221, 161,  1); #EFEFEF\">do</span> <span style=\"background-color: rgba(233,30,99,0);  padding: 1px 5px; border: solid 3px ; border-color:  rgba(233,30,99,0); #EFEFEF\">so</span> <span style=\"background-color: rgba(9, 221, 161,  0.8623897433280945); padding: 1px 5px; border: solid 3px ; border-color: rgba(9, 221, 161,  1); #EFEFEF\">will never feel</span> <span style=\"background-color: rgba(233,30,99,0);  padding: 1px 5px; border: solid 3px ; border-color:  rgba(233,30,99,0); #EFEFEF\">something</span> <span style=\"background-color: rgba(233,30,99,0);  padding: 1px 5px; border: solid 3px ; border-color:  rgba(233,30,99,0); #EFEFEF\">like</span> <span style=\"background-color: rgba(233,30,99,0);  padding: 1px 5px; border: solid 3px ; border-color:  rgba(233,30,99,0); #EFEFEF\">that</span> <span style=\"background-color: rgba(9, 221, 161,  0.4279136061668396); padding: 1px 5px; border: solid 3px ; border-color: rgba(9, 221, 161,  1); #EFEFEF\">again</span> </div>"
      ],
      "text/plain": [
       "<IPython.core.display.HTML object>"
      ]
     },
     "metadata": {},
     "output_type": "display_data"
    },
    {
     "data": {
      "text/html": [
       "<br><br>"
      ],
      "text/plain": [
       "<IPython.core.display.HTML object>"
      ]
     },
     "metadata": {},
     "output_type": "display_data"
    },
    {
     "data": {
      "text/html": [
       "<div style='display: flex; width: 400px; flex-wrap: wrap'><span style=\"background-color: rgba(9, 221, 161,  0.7576091289520264); padding: 1px 5px; border: solid 3px ; border-color: rgba(9, 221, 161,  1); #EFEFEF\">There</span> <span style=\"background-color: rgba(9, 221, 161,  0.4502345025539398); padding: 1px 5px; border: solid 3px ; border-color: rgba(9, 221, 161,  1); #EFEFEF\">are</span> <span style=\"background-color: rgba(233,30,99,0);  padding: 1px 5px; border: solid 3px ; border-color:  rgba(233,30,99,0); #EFEFEF\">moments</span> <span style=\"background-color: rgba(233,30,99,0);  padding: 1px 5px; border: solid 3px ; border-color:  rgba(233,30,99,0); #EFEFEF\">that</span> <span style=\"background-color: rgba(233,30,99,0);  padding: 1px 5px; border: solid 3px ; border-color:  rgba(233,30,99,0); #EFEFEF\">will bring</span> <span style=\"background-color: rgba(9, 221, 161,  0.9996607303619385); padding: 1px 5px; border: solid 3px ; border-color: rgba(9, 221, 161,  1); #EFEFEF\">tears</span> <span style=\"background-color: rgba(233,30,99,0);  padding: 1px 5px; border: solid 3px ; border-color:  rgba(233,30,99,0); #EFEFEF\">to</span> <span style=\"background-color: rgba(233,30,99,0);  padding: 1px 5px; border: solid 3px ; border-color:  rgba(233,30,99,0); #EFEFEF\">your eyes</span> <span style=\"background-color: rgba(233,30,99,0);  padding: 1px 5px; border: solid 3px ; border-color:  rgba(233,30,99,0); #EFEFEF\">as well</span> </div>"
      ],
      "text/plain": [
       "<IPython.core.display.HTML object>"
      ]
     },
     "metadata": {},
     "output_type": "display_data"
    },
    {
     "data": {
      "text/html": [
       "<br><br>"
      ],
      "text/plain": [
       "<IPython.core.display.HTML object>"
      ]
     },
     "metadata": {},
     "output_type": "display_data"
    },
    {
     "data": {
      "text/html": [
       "<div style='display: flex; width: 400px; flex-wrap: wrap'><span style=\"background-color: rgba(233,30,99,0);  padding: 1px 5px; border: solid 3px ; border-color:  rgba(233,30,99,0); #EFEFEF\">I</span> <span style=\"background-color: rgba(9, 221, 161,  0.9998857378959656); padding: 1px 5px; border: solid 3px ; border-color: rgba(9, 221, 161,  1); #EFEFEF\">will never forget</span> </div>"
      ],
      "text/plain": [
       "<IPython.core.display.HTML object>"
      ]
     },
     "metadata": {},
     "output_type": "display_data"
    },
    {
     "data": {
      "text/html": [
       "<br><br>"
      ],
      "text/plain": [
       "<IPython.core.display.HTML object>"
      ]
     },
     "metadata": {},
     "output_type": "display_data"
    },
    {
     "data": {
      "text/html": [
       "<div style='display: flex; width: 400px; flex-wrap: wrap'><span style=\"background-color: rgba(9, 221, 161,  0.99930340051651); padding: 1px 5px; border: solid 3px ; border-color: rgba(9, 221, 161,  1); #EFEFEF\">The love and support</span> <span style=\"background-color: rgba(9, 221, 161,  0.3981229066848755); padding: 1px 5px; border: solid 3px ; border-color: rgba(9, 221, 161,  1); #EFEFEF\">of</span> <span style=\"background-color: rgba(9, 221, 161,  0.7762815952301025); padding: 1px 5px; border: solid 3px ; border-color: rgba(9, 221, 161,  1); #EFEFEF\">the family members</span> <span style=\"background-color: rgba(233,30,99,0);  padding: 1px 5px; border: solid 3px ; border-color:  rgba(233,30,99,0); #EFEFEF\">is</span> <span style=\"background-color: rgba(233,30,99,0);  padding: 1px 5px; border: solid 3px ; border-color:  rgba(233,30,99,0); #EFEFEF\">evident</span> <span style=\"background-color: rgba(9, 221, 161,  0.2341219037771225); padding: 1px 5px; border: solid 3px ; border-color: rgba(9, 221, 161,  1); #EFEFEF\">throughout</span> </div>"
      ],
      "text/plain": [
       "<IPython.core.display.HTML object>"
      ]
     },
     "metadata": {},
     "output_type": "display_data"
    },
    {
     "data": {
      "text/html": [
       "<br><br>"
      ],
      "text/plain": [
       "<IPython.core.display.HTML object>"
      ]
     },
     "metadata": {},
     "output_type": "display_data"
    },
    {
     "data": {
      "text/html": [
       "<div style='display: flex; width: 400px; flex-wrap: wrap'><span style=\"background-color: rgba(9, 221, 161,  0.766835629940033); padding: 1px 5px; border: solid 3px ; border-color: rgba(9, 221, 161,  1); #EFEFEF\">It</span> <span style=\"background-color: rgba(9, 221, 161,  0.6661139130592346); padding: 1px 5px; border: solid 3px ; border-color: rgba(9, 221, 161,  1); #EFEFEF\">fills</span> <span style=\"background-color: rgba(9, 221, 161,  0.5994100570678711); padding: 1px 5px; border: solid 3px ; border-color: rgba(9, 221, 161,  1); #EFEFEF\">you</span> <span style=\"background-color: rgba(9, 221, 161,  0.5648959875106812); padding: 1px 5px; border: solid 3px ; border-color: rgba(9, 221, 161,  1); #EFEFEF\">with</span> <span style=\"background-color: rgba(9, 221, 161,  0.9998160004615784); padding: 1px 5px; border: solid 3px ; border-color: rgba(9, 221, 161,  1); #EFEFEF\">pride</span> </div>"
      ],
      "text/plain": [
       "<IPython.core.display.HTML object>"
      ]
     },
     "metadata": {},
     "output_type": "display_data"
    },
    {
     "data": {
      "text/html": [
       "<br><br>"
      ],
      "text/plain": [
       "<IPython.core.display.HTML object>"
      ]
     },
     "metadata": {},
     "output_type": "display_data"
    },
    {
     "data": {
      "text/html": [
       "<div style='display: flex; width: 400px; flex-wrap: wrap'><span style=\"background-color: rgba(9, 221, 161,  0.999889612197876); padding: 1px 5px; border: solid 3px ; border-color: rgba(9, 221, 161,  1); #EFEFEF\">Thankyou</span> </div>"
      ],
      "text/plain": [
       "<IPython.core.display.HTML object>"
      ]
     },
     "metadata": {},
     "output_type": "display_data"
    },
    {
     "data": {
      "text/html": [
       "<br><br>"
      ],
      "text/plain": [
       "<IPython.core.display.HTML object>"
      ]
     },
     "metadata": {},
     "output_type": "display_data"
    },
    {
     "name": "stdout",
     "output_type": "stream",
     "text": [
      "\n",
      "\n",
      "negative predicted reviews:\n",
      "\n",
      "\n",
      "\n",
      "\n",
      "10 most important reviews for negative predicted label - concept1:\n",
      "\n",
      "\n"
     ]
    },
    {
     "data": {
      "text/html": [
       "<div style='display: flex; width: 400px; flex-wrap: wrap'><span style=\"background-color: rgba(221, 9, 34,  0.6733782887458801); padding: 1px 5px; border: solid 3px ; border-color: rgba(221, 9, 34,  1); #EFEFEF\">The dialogue</span> <span style=\"background-color: rgba(221, 9, 34,  0.7218392491340637); padding: 1px 5px; border: solid 3px ; border-color: rgba(221, 9, 34,  1); #EFEFEF\">is</span> <span style=\"background-color: rgba(221, 9, 34,  0.3238433003425598); padding: 1px 5px; border: solid 3px ; border-color: rgba(221, 9, 34,  1); #EFEFEF\">cliché</span> <span style=\"background-color: rgba(221, 9, 34,  0.3631473779678345); padding: 1px 5px; border: solid 3px ; border-color: rgba(221, 9, 34,  1); #EFEFEF\">the characters</span> <span style=\"background-color: rgba(221, 9, 34,  0.3544306755065918); padding: 1px 5px; border: solid 3px ; border-color: rgba(221, 9, 34,  1); #EFEFEF\">are</span> <span style=\"background-color: rgba(221, 9, 34,  0.5514223575592041); padding: 1px 5px; border: solid 3px ; border-color: rgba(221, 9, 34,  1); #EFEFEF\">two-dimensional</span> <span style=\"background-color: rgba(221, 9, 34,  0.6002990007400513); padding: 1px 5px; border: solid 3px ; border-color: rgba(221, 9, 34,  1); #EFEFEF\">the writing</span> <span style=\"background-color: rgba(221, 9, 34,  0.4463508129119873); padding: 1px 5px; border: solid 3px ; border-color: rgba(221, 9, 34,  1); #EFEFEF\">is</span> <span style=\"background-color: rgba(221, 9, 34,  0.36776596307754517); padding: 1px 5px; border: solid 3px ; border-color: rgba(221, 9, 34,  1); #EFEFEF\">ho-hum</span> <span style=\"background-color: rgba(221, 9, 34,  0.4623870849609375); padding: 1px 5px; border: solid 3px ; border-color: rgba(221, 9, 34,  1); #EFEFEF\">what little story</span> <span style=\"background-color: rgba(221, 9, 34,  0.36794334650039673); padding: 1px 5px; border: solid 3px ; border-color: rgba(221, 9, 34,  1); #EFEFEF\">there</span> <span style=\"background-color: rgba(221, 9, 34,  0.4045296013355255); padding: 1px 5px; border: solid 3px ; border-color: rgba(221, 9, 34,  1); #EFEFEF\">is</span> <span style=\"background-color: rgba(221, 9, 34,  0.4045296013355255); padding: 1px 5px; border: solid 3px ; border-color: rgba(221, 9, 34,  1); #EFEFEF\">is</span> <span style=\"background-color: rgba(221, 9, 34,  0.5091842412948608); padding: 1px 5px; border: solid 3px ; border-color: rgba(221, 9, 34,  1); #EFEFEF\">coherent nor remotely interesting</span> </div>"
      ],
      "text/plain": [
       "<IPython.core.display.HTML object>"
      ]
     },
     "metadata": {},
     "output_type": "display_data"
    },
    {
     "data": {
      "text/html": [
       "<br><br>"
      ],
      "text/plain": [
       "<IPython.core.display.HTML object>"
      ]
     },
     "metadata": {},
     "output_type": "display_data"
    },
    {
     "data": {
      "text/html": [
       "<div style='display: flex; width: 400px; flex-wrap: wrap'><span style=\"background-color: rgba(221, 9, 34,  0.3063073456287384); padding: 1px 5px; border: solid 3px ; border-color: rgba(221, 9, 34,  1); #EFEFEF\">It</span> <span style=\"background-color: rgba(221, 9, 34,  0.4359298050403595); padding: 1px 5px; border: solid 3px ; border-color: rgba(221, 9, 34,  1); #EFEFEF\">is</span> <span style=\"background-color: rgba(221, 9, 34,  0.7994651198387146); padding: 1px 5px; border: solid 3px ; border-color: rgba(221, 9, 34,  1); #EFEFEF\">totally</span> <span style=\"background-color: rgba(221, 9, 34,  0.9956093430519104); padding: 1px 5px; border: solid 3px ; border-color: rgba(221, 9, 34,  1); #EFEFEF\">mind-numbingly boring</span> <span style=\"background-color: rgba(221, 9, 34,  0.23572924733161926); padding: 1px 5px; border: solid 3px ; border-color: rgba(221, 9, 34,  1); #EFEFEF\">only sparingly funny</span> </div>"
      ],
      "text/plain": [
       "<IPython.core.display.HTML object>"
      ]
     },
     "metadata": {},
     "output_type": "display_data"
    },
    {
     "data": {
      "text/html": [
       "<br><br>"
      ],
      "text/plain": [
       "<IPython.core.display.HTML object>"
      ]
     },
     "metadata": {},
     "output_type": "display_data"
    },
    {
     "data": {
      "text/html": [
       "<div style='display: flex; width: 400px; flex-wrap: wrap'><span style=\"background-color: rgba(221, 9, 34,  0.5276873707771301); padding: 1px 5px; border: solid 3px ; border-color: rgba(221, 9, 34,  1); #EFEFEF\">Simply put</span> <span style=\"background-color: rgba(221, 9, 34,  0.3688042461872101); padding: 1px 5px; border: solid 3px ; border-color: rgba(221, 9, 34,  1); #EFEFEF\">it</span> <span style=\"background-color: rgba(221, 9, 34,  0.6873867511749268); padding: 1px 5px; border: solid 3px ; border-color: rgba(221, 9, 34,  1); #EFEFEF\">was</span> <span style=\"background-color: rgba(221, 9, 34,  0.9147889614105225); padding: 1px 5px; border: solid 3px ; border-color: rgba(221, 9, 34,  1); #EFEFEF\">smut-filled</span> <span style=\"background-color: rgba(221, 9, 34,  0.238866925239563); padding: 1px 5px; border: solid 3px ; border-color: rgba(221, 9, 34,  1); #EFEFEF\">simply</span> <span style=\"background-color: rgba(233,30,99,0);  padding: 1px 5px; border: solid 3px ; border-color:  rgba(233,30,99,0); #EFEFEF\">funny</span> <span style=\"background-color: rgba(233,30,99,0);  padding: 1px 5px; border: solid 3px ; border-color:  rgba(233,30,99,0); #EFEFEF\">with</span> <span style=\"background-color: rgba(221, 9, 34,  0.9995726943016052); padding: 1px 5px; border: solid 3px ; border-color: rgba(221, 9, 34,  1); #EFEFEF\">barely any plot</span> </div>"
      ],
      "text/plain": [
       "<IPython.core.display.HTML object>"
      ]
     },
     "metadata": {},
     "output_type": "display_data"
    },
    {
     "data": {
      "text/html": [
       "<br><br>"
      ],
      "text/plain": [
       "<IPython.core.display.HTML object>"
      ]
     },
     "metadata": {},
     "output_type": "display_data"
    },
    {
     "data": {
      "text/html": [
       "<div style='display: flex; width: 400px; flex-wrap: wrap'><span style=\"background-color: rgba(233,30,99,0);  padding: 1px 5px; border: solid 3px ; border-color:  rgba(233,30,99,0); #EFEFEF\">From</span> <span style=\"background-color: rgba(233,30,99,0);  padding: 1px 5px; border: solid 3px ; border-color:  rgba(233,30,99,0); #EFEFEF\">the blatant disregard</span> <span style=\"background-color: rgba(233,30,99,0);  padding: 1px 5px; border: solid 3px ; border-color:  rgba(233,30,99,0); #EFEFEF\">of</span> <span style=\"background-color: rgba(233,30,99,0);  padding: 1px 5px; border: solid 3px ; border-color:  rgba(233,30,99,0); #EFEFEF\">the source material</span> <span style=\"background-color: rgba(233,30,99,0);  padding: 1px 5px; border: solid 3px ; border-color:  rgba(233,30,99,0); #EFEFEF\">sure</span> <span style=\"background-color: rgba(233,30,99,0);  padding: 1px 5px; border: solid 3px ; border-color:  rgba(233,30,99,0); #EFEFEF\">to infuriate</span> <span style=\"background-color: rgba(233,30,99,0);  padding: 1px 5px; border: solid 3px ; border-color:  rgba(233,30,99,0); #EFEFEF\">anyone</span> <span style=\"background-color: rgba(221, 9, 34,  0.22379398345947266); padding: 1px 5px; border: solid 3px ; border-color: rgba(221, 9, 34,  1); #EFEFEF\">remotely familiar</span> <span style=\"background-color: rgba(233,30,99,0);  padding: 1px 5px; border: solid 3px ; border-color:  rgba(233,30,99,0); #EFEFEF\">with</span> <span style=\"background-color: rgba(233,30,99,0);  padding: 1px 5px; border: solid 3px ; border-color:  rgba(233,30,99,0); #EFEFEF\">mythology</span> <span style=\"background-color: rgba(233,30,99,0);  padding: 1px 5px; border: solid 3px ; border-color:  rgba(233,30,99,0); #EFEFEF\">to</span> <span style=\"background-color: rgba(221, 9, 34,  0.3991418182849884); padding: 1px 5px; border: solid 3px ; border-color: rgba(221, 9, 34,  1); #EFEFEF\">the predictably insufficient production value</span> <span style=\"background-color: rgba(221, 9, 34,  0.4533176124095917); padding: 1px 5px; border: solid 3px ; border-color: rgba(221, 9, 34,  1); #EFEFEF\">this entire mini-series</span> <span style=\"background-color: rgba(233,30,99,0);  padding: 1px 5px; border: solid 3px ; border-color:  rgba(233,30,99,0); #EFEFEF\">is</span> <span style=\"background-color: rgba(221, 9, 34,  0.6059006452560425); padding: 1px 5px; border: solid 3px ; border-color: rgba(221, 9, 34,  1); #EFEFEF\">a train wreck</span> </div>"
      ],
      "text/plain": [
       "<IPython.core.display.HTML object>"
      ]
     },
     "metadata": {},
     "output_type": "display_data"
    },
    {
     "data": {
      "text/html": [
       "<br><br>"
      ],
      "text/plain": [
       "<IPython.core.display.HTML object>"
      ]
     },
     "metadata": {},
     "output_type": "display_data"
    },
    {
     "data": {
      "text/html": [
       "<div style='display: flex; width: 400px; flex-wrap: wrap'><span style=\"background-color: rgba(221, 9, 34,  0.34448665380477905); padding: 1px 5px; border: solid 3px ; border-color: rgba(221, 9, 34,  1); #EFEFEF\">The fact</span> <span style=\"background-color: rgba(221, 9, 34,  0.2737092971801758); padding: 1px 5px; border: solid 3px ; border-color: rgba(221, 9, 34,  1); #EFEFEF\">that</span> <span style=\"background-color: rgba(221, 9, 34,  0.2110908031463623); padding: 1px 5px; border: solid 3px ; border-color: rgba(221, 9, 34,  1); #EFEFEF\">the interaction</span> <span style=\"background-color: rgba(221, 9, 34,  0.2416711002588272); padding: 1px 5px; border: solid 3px ; border-color: rgba(221, 9, 34,  1); #EFEFEF\">between</span> <span style=\"background-color: rgba(221, 9, 34,  0.2477441430091858); padding: 1px 5px; border: solid 3px ; border-color: rgba(221, 9, 34,  1); #EFEFEF\">characters</span> <span style=\"background-color: rgba(221, 9, 34,  0.2572422921657562); padding: 1px 5px; border: solid 3px ; border-color: rgba(221, 9, 34,  1); #EFEFEF\">relationship behavior</span> <span style=\"background-color: rgba(221, 9, 34,  0.22587157785892487); padding: 1px 5px; border: solid 3px ; border-color: rgba(221, 9, 34,  1); #EFEFEF\">were</span> <span style=\"background-color: rgba(221, 9, 34,  0.23957358300685883); padding: 1px 5px; border: solid 3px ; border-color: rgba(221, 9, 34,  1); #EFEFEF\">so far fetched</span> <span style=\"background-color: rgba(221, 9, 34,  0.24713082611560822); padding: 1px 5px; border: solid 3px ; border-color: rgba(221, 9, 34,  1); #EFEFEF\">added</span> <span style=\"background-color: rgba(221, 9, 34,  0.31087201833724976); padding: 1px 5px; border: solid 3px ; border-color: rgba(221, 9, 34,  1); #EFEFEF\">by</span> <span style=\"background-color: rgba(221, 9, 34,  0.2407269924879074); padding: 1px 5px; border: solid 3px ; border-color: rgba(221, 9, 34,  1); #EFEFEF\">poor direction</span> <span style=\"background-color: rgba(221, 9, 34,  0.2909008264541626); padding: 1px 5px; border: solid 3px ; border-color: rgba(221, 9, 34,  1); #EFEFEF\">horrible story</span> <span style=\"background-color: rgba(221, 9, 34,  0.3116067945957184); padding: 1px 5px; border: solid 3px ; border-color: rgba(221, 9, 34,  1); #EFEFEF\">make</span> <span style=\"background-color: rgba(221, 9, 34,  0.2958453297615051); padding: 1px 5px; border: solid 3px ; border-color: rgba(221, 9, 34,  1); #EFEFEF\">this movie</span> <span style=\"background-color: rgba(221, 9, 34,  0.9921416640281677); padding: 1px 5px; border: solid 3px ; border-color: rgba(221, 9, 34,  1); #EFEFEF\">nothing more</span> <span style=\"background-color: rgba(221, 9, 34,  0.26141980290412903); padding: 1px 5px; border: solid 3px ; border-color: rgba(221, 9, 34,  1); #EFEFEF\">than</span> <span style=\"background-color: rgba(221, 9, 34,  0.6890084147453308); padding: 1px 5px; border: solid 3px ; border-color: rgba(221, 9, 34,  1); #EFEFEF\">a low-budget disaster</span> </div>"
      ],
      "text/plain": [
       "<IPython.core.display.HTML object>"
      ]
     },
     "metadata": {},
     "output_type": "display_data"
    },
    {
     "data": {
      "text/html": [
       "<br><br>"
      ],
      "text/plain": [
       "<IPython.core.display.HTML object>"
      ]
     },
     "metadata": {},
     "output_type": "display_data"
    },
    {
     "data": {
      "text/html": [
       "<div style='display: flex; width: 400px; flex-wrap: wrap'><span style=\"background-color: rgba(221, 9, 34,  0.49076011776924133); padding: 1px 5px; border: solid 3px ; border-color: rgba(221, 9, 34,  1); #EFEFEF\">The aliens</span> <span style=\"background-color: rgba(221, 9, 34,  0.30541226267814636); padding: 1px 5px; border: solid 3px ; border-color: rgba(221, 9, 34,  1); #EFEFEF\">are</span> <span style=\"background-color: rgba(221, 9, 34,  0.4822074770927429); padding: 1px 5px; border: solid 3px ; border-color: rgba(221, 9, 34,  1); #EFEFEF\">boring</span> <span style=\"background-color: rgba(221, 9, 34,  0.36098554730415344); padding: 1px 5px; border: solid 3px ; border-color: rgba(221, 9, 34,  1); #EFEFEF\">the uniformly dull lighting</span> <span style=\"background-color: rgba(221, 9, 34,  0.6616566181182861); padding: 1px 5px; border: solid 3px ; border-color: rgba(221, 9, 34,  1); #EFEFEF\">saps</span> <span style=\"background-color: rgba(221, 9, 34,  0.5697094798088074); padding: 1px 5px; border: solid 3px ; border-color: rgba(221, 9, 34,  1); #EFEFEF\">your interest</span> <span style=\"background-color: rgba(221, 9, 34,  0.7382909655570984); padding: 1px 5px; border: solid 3px ; border-color: rgba(221, 9, 34,  1); #EFEFEF\">the plot</span> <span style=\"background-color: rgba(221, 9, 34,  0.22291302680969238); padding: 1px 5px; border: solid 3px ; border-color: rgba(221, 9, 34,  1); #EFEFEF\">is</span> <span style=\"background-color: rgba(221, 9, 34,  0.7416571974754333); padding: 1px 5px; border: solid 3px ; border-color: rgba(221, 9, 34,  1); #EFEFEF\">absolutely predictable</span> </div>"
      ],
      "text/plain": [
       "<IPython.core.display.HTML object>"
      ]
     },
     "metadata": {},
     "output_type": "display_data"
    },
    {
     "data": {
      "text/html": [
       "<br><br>"
      ],
      "text/plain": [
       "<IPython.core.display.HTML object>"
      ]
     },
     "metadata": {},
     "output_type": "display_data"
    },
    {
     "data": {
      "text/html": [
       "<div style='display: flex; width: 400px; flex-wrap: wrap'><span style=\"background-color: rgba(233,30,99,0);  padding: 1px 5px; border: solid 3px ; border-color:  rgba(233,30,99,0); #EFEFEF\">The characters</span> <span style=\"background-color: rgba(233,30,99,0);  padding: 1px 5px; border: solid 3px ; border-color:  rgba(233,30,99,0); #EFEFEF\">in</span> <span style=\"background-color: rgba(233,30,99,0);  padding: 1px 5px; border: solid 3px ; border-color:  rgba(233,30,99,0); #EFEFEF\">this</span> <span style=\"background-color: rgba(233,30,99,0);  padding: 1px 5px; border: solid 3px ; border-color:  rgba(233,30,99,0); #EFEFEF\">are</span> <span style=\"background-color: rgba(233,30,99,0);  padding: 1px 5px; border: solid 3px ; border-color:  rgba(233,30,99,0); #EFEFEF\">very hard</span> <span style=\"background-color: rgba(233,30,99,0);  padding: 1px 5px; border: solid 3px ; border-color:  rgba(233,30,99,0); #EFEFEF\">to understand</span> <span style=\"background-color: rgba(233,30,99,0);  padding: 1px 5px; border: solid 3px ; border-color:  rgba(233,30,99,0); #EFEFEF\">good</span> <span style=\"background-color: rgba(233,30,99,0);  padding: 1px 5px; border: solid 3px ; border-color:  rgba(233,30,99,0); #EFEFEF\">very very</span> <span style=\"background-color: rgba(221, 9, 34,  0.9992738366127014); padding: 1px 5px; border: solid 3px ; border-color: rgba(221, 9, 34,  1); #EFEFEF\">very bored</span> </div>"
      ],
      "text/plain": [
       "<IPython.core.display.HTML object>"
      ]
     },
     "metadata": {},
     "output_type": "display_data"
    },
    {
     "data": {
      "text/html": [
       "<br><br>"
      ],
      "text/plain": [
       "<IPython.core.display.HTML object>"
      ]
     },
     "metadata": {},
     "output_type": "display_data"
    },
    {
     "data": {
      "text/html": [
       "<div style='display: flex; width: 400px; flex-wrap: wrap'><span style=\"background-color: rgba(221, 9, 34,  0.47817152738571167); padding: 1px 5px; border: solid 3px ; border-color: rgba(221, 9, 34,  1); #EFEFEF\">Overall</span> <span style=\"background-color: rgba(233,30,99,0);  padding: 1px 5px; border: solid 3px ; border-color:  rgba(233,30,99,0); #EFEFEF\">this movie</span> <span style=\"background-color: rgba(221, 9, 34,  0.3394944369792938); padding: 1px 5px; border: solid 3px ; border-color: rgba(221, 9, 34,  1); #EFEFEF\">was</span> <span style=\"background-color: rgba(221, 9, 34,  0.49913597106933594); padding: 1px 5px; border: solid 3px ; border-color: rgba(221, 9, 34,  1); #EFEFEF\">so bad</span> <span style=\"background-color: rgba(221, 9, 34,  0.37911200523376465); padding: 1px 5px; border: solid 3px ; border-color: rgba(221, 9, 34,  1); #EFEFEF\">predictable, and unoriginal</span> <span style=\"background-color: rgba(221, 9, 34,  0.22531956434249878); padding: 1px 5px; border: solid 3px ; border-color: rgba(221, 9, 34,  1); #EFEFEF\">I</span> <span style=\"background-color: rgba(221, 9, 34,  0.28986793756484985); padding: 1px 5px; border: solid 3px ; border-color: rgba(221, 9, 34,  1); #EFEFEF\">couldn't get</span> <span style=\"background-color: rgba(221, 9, 34,  0.2355457991361618); padding: 1px 5px; border: solid 3px ; border-color: rgba(221, 9, 34,  1); #EFEFEF\">through</span> <span style=\"background-color: rgba(221, 9, 34,  0.26394739747047424); padding: 1px 5px; border: solid 3px ; border-color: rgba(221, 9, 34,  1); #EFEFEF\">20 minutes</span> <span style=\"background-color: rgba(221, 9, 34,  0.2097993642091751); padding: 1px 5px; border: solid 3px ; border-color: rgba(221, 9, 34,  1); #EFEFEF\">of</span> <span style=\"background-color: rgba(221, 9, 34,  0.22581219673156738); padding: 1px 5px; border: solid 3px ; border-color: rgba(221, 9, 34,  1); #EFEFEF\">it</span> <span style=\"background-color: rgba(233,30,99,0);  padding: 1px 5px; border: solid 3px ; border-color:  rgba(233,30,99,0); #EFEFEF\">before</span> <span style=\"background-color: rgba(221, 9, 34,  0.2647227942943573); padding: 1px 5px; border: solid 3px ; border-color: rgba(221, 9, 34,  1); #EFEFEF\">I</span> <span style=\"background-color: rgba(221, 9, 34,  0.2956262528896332); padding: 1px 5px; border: solid 3px ; border-color: rgba(221, 9, 34,  1); #EFEFEF\">turned</span> <span style=\"background-color: rgba(221, 9, 34,  0.20067448914051056); padding: 1px 5px; border: solid 3px ; border-color: rgba(221, 9, 34,  1); #EFEFEF\">it</span> <span style=\"background-color: rgba(221, 9, 34,  0.2851797342300415); padding: 1px 5px; border: solid 3px ; border-color: rgba(221, 9, 34,  1); #EFEFEF\">off</span> </div>"
      ],
      "text/plain": [
       "<IPython.core.display.HTML object>"
      ]
     },
     "metadata": {},
     "output_type": "display_data"
    },
    {
     "data": {
      "text/html": [
       "<br><br>"
      ],
      "text/plain": [
       "<IPython.core.display.HTML object>"
      ]
     },
     "metadata": {},
     "output_type": "display_data"
    },
    {
     "data": {
      "text/html": [
       "<div style='display: flex; width: 400px; flex-wrap: wrap'><span style=\"background-color: rgba(221, 9, 34,  0.3050083816051483); padding: 1px 5px; border: solid 3px ; border-color: rgba(221, 9, 34,  1); #EFEFEF\">This</span> <span style=\"background-color: rgba(221, 9, 34,  0.37522339820861816); padding: 1px 5px; border: solid 3px ; border-color: rgba(221, 9, 34,  1); #EFEFEF\">is</span> <span style=\"background-color: rgba(221, 9, 34,  0.37530240416526794); padding: 1px 5px; border: solid 3px ; border-color: rgba(221, 9, 34,  1); #EFEFEF\">one</span> <span style=\"background-color: rgba(221, 9, 34,  0.31413760781288147); padding: 1px 5px; border: solid 3px ; border-color: rgba(221, 9, 34,  1); #EFEFEF\">of</span> <span style=\"background-color: rgba(221, 9, 34,  0.24250811338424683); padding: 1px 5px; border: solid 3px ; border-color: rgba(221, 9, 34,  1); #EFEFEF\">the worst movies</span> <span style=\"background-color: rgba(221, 9, 34,  0.29935041069984436); padding: 1px 5px; border: solid 3px ; border-color: rgba(221, 9, 34,  1); #EFEFEF\">i</span> <span style=\"background-color: rgba(221, 9, 34,  0.21565820276737213); padding: 1px 5px; border: solid 3px ; border-color: rgba(221, 9, 34,  1); #EFEFEF\">have ever seen</span> <span style=\"background-color: rgba(221, 9, 34,  0.30300262570381165); padding: 1px 5px; border: solid 3px ; border-color: rgba(221, 9, 34,  1); #EFEFEF\">it</span> <span style=\"background-color: rgba(221, 9, 34,  0.4185553789138794); padding: 1px 5px; border: solid 3px ; border-color: rgba(221, 9, 34,  1); #EFEFEF\">'s</span> <span style=\"background-color: rgba(221, 9, 34,  0.557838499546051); padding: 1px 5px; border: solid 3px ; border-color: rgba(221, 9, 34,  1); #EFEFEF\">EXTREMELY boring</span> <span style=\"background-color: rgba(221, 9, 34,  0.3955666422843933); padding: 1px 5px; border: solid 3px ; border-color: rgba(221, 9, 34,  1); #EFEFEF\">with</span> <span style=\"background-color: rgba(221, 9, 34,  0.3269139528274536); padding: 1px 5px; border: solid 3px ; border-color: rgba(221, 9, 34,  1); #EFEFEF\">lots</span> <span style=\"background-color: rgba(221, 9, 34,  0.3100597858428955); padding: 1px 5px; border: solid 3px ; border-color: rgba(221, 9, 34,  1); #EFEFEF\">of</span> <span style=\"background-color: rgba(221, 9, 34,  0.22772091627120972); padding: 1px 5px; border: solid 3px ; border-color: rgba(221, 9, 34,  1); #EFEFEF\">boring dialog</span> <span style=\"background-color: rgba(221, 9, 34,  0.32810670137405396); padding: 1px 5px; border: solid 3px ; border-color: rgba(221, 9, 34,  1); #EFEFEF\">has</span> <span style=\"background-color: rgba(221, 9, 34,  0.502933144569397); padding: 1px 5px; border: solid 3px ; border-color: rgba(221, 9, 34,  1); #EFEFEF\">some VERY annoying characters</span> <span style=\"background-color: rgba(221, 9, 34,  0.41601184010505676); padding: 1px 5px; border: solid 3px ; border-color: rgba(221, 9, 34,  1); #EFEFEF\">a laughable looking creature</span> </div>"
      ],
      "text/plain": [
       "<IPython.core.display.HTML object>"
      ]
     },
     "metadata": {},
     "output_type": "display_data"
    },
    {
     "data": {
      "text/html": [
       "<br><br>"
      ],
      "text/plain": [
       "<IPython.core.display.HTML object>"
      ]
     },
     "metadata": {},
     "output_type": "display_data"
    },
    {
     "data": {
      "text/html": [
       "<div style='display: flex; width: 400px; flex-wrap: wrap'><span style=\"background-color: rgba(233,30,99,0);  padding: 1px 5px; border: solid 3px ; border-color:  rgba(233,30,99,0); #EFEFEF\">This film</span> <span style=\"background-color: rgba(233,30,99,0);  padding: 1px 5px; border: solid 3px ; border-color:  rgba(233,30,99,0); #EFEFEF\">had</span> <span style=\"background-color: rgba(233,30,99,0);  padding: 1px 5px; border: solid 3px ; border-color:  rgba(233,30,99,0); #EFEFEF\">no suspense</span> <span style=\"background-color: rgba(221, 9, 34,  0.9990760087966919); padding: 1px 5px; border: solid 3px ; border-color: rgba(221, 9, 34,  1); #EFEFEF\">I</span> <span style=\"background-color: rgba(221, 9, 34,  0.9192563891410828); padding: 1px 5px; border: solid 3px ; border-color: rgba(221, 9, 34,  1); #EFEFEF\">was bored</span> <span style=\"background-color: rgba(233,30,99,0);  padding: 1px 5px; border: solid 3px ; border-color:  rgba(233,30,99,0); #EFEFEF\">from</span> <span style=\"background-color: rgba(233,30,99,0);  padding: 1px 5px; border: solid 3px ; border-color:  rgba(233,30,99,0); #EFEFEF\">start</span> <span style=\"background-color: rgba(233,30,99,0);  padding: 1px 5px; border: solid 3px ; border-color:  rgba(233,30,99,0); #EFEFEF\">to end</span> </div>"
      ],
      "text/plain": [
       "<IPython.core.display.HTML object>"
      ]
     },
     "metadata": {},
     "output_type": "display_data"
    },
    {
     "data": {
      "text/html": [
       "<br><br>"
      ],
      "text/plain": [
       "<IPython.core.display.HTML object>"
      ]
     },
     "metadata": {},
     "output_type": "display_data"
    },
    {
     "name": "stdout",
     "output_type": "stream",
     "text": [
      "\n",
      "\n",
      "10 most important reviews for negative predicted label - concept2:\n",
      "\n",
      "\n"
     ]
    },
    {
     "data": {
      "text/html": [
       "<div style='display: flex; width: 400px; flex-wrap: wrap'><span style=\"background-color: rgba(221, 9, 140, 0.9996024370193481); padding: 1px 5px; border: solid 3px ; border-color: rgba(221, 9, 140, 1); #EFEFEF\">It</span> <span style=\"background-color: rgba(221, 9, 140, 0.9996024370193481); padding: 1px 5px; border: solid 3px ; border-color: rgba(221, 9, 140, 1); #EFEFEF\">had</span> <span style=\"background-color: rgba(221, 9, 140, 0.9720470905303955); padding: 1px 5px; border: solid 3px ; border-color: rgba(221, 9, 140, 1); #EFEFEF\">some interesting twists and turns</span> <span style=\"background-color: rgba(221, 9, 140, 0.912582516670227); padding: 1px 5px; border: solid 3px ; border-color: rgba(221, 9, 140, 1); #EFEFEF\">some</span> <span style=\"background-color: rgba(221, 9, 140, 0.9996024370193481); padding: 1px 5px; border: solid 3px ; border-color: rgba(221, 9, 140, 1); #EFEFEF\">of</span> <span style=\"background-color: rgba(221, 9, 140, 0.9996024370193481); padding: 1px 5px; border: solid 3px ; border-color: rgba(221, 9, 140, 1); #EFEFEF\">them</span> <span style=\"background-color: rgba(221, 9, 140, 0.9838781356811523); padding: 1px 5px; border: solid 3px ; border-color: rgba(221, 9, 140, 1); #EFEFEF\">seemed</span> <span style=\"background-color: rgba(221, 9, 140, 0.9996024370193481); padding: 1px 5px; border: solid 3px ; border-color: rgba(221, 9, 140, 1); #EFEFEF\">kind of pointless</span> </div>"
      ],
      "text/plain": [
       "<IPython.core.display.HTML object>"
      ]
     },
     "metadata": {},
     "output_type": "display_data"
    },
    {
     "data": {
      "text/html": [
       "<br><br>"
      ],
      "text/plain": [
       "<IPython.core.display.HTML object>"
      ]
     },
     "metadata": {},
     "output_type": "display_data"
    },
    {
     "data": {
      "text/html": [
       "<div style='display: flex; width: 400px; flex-wrap: wrap'><span style=\"background-color: rgba(221, 9, 140, 0.9283527135848999); padding: 1px 5px; border: solid 3px ; border-color: rgba(221, 9, 140, 1); #EFEFEF\">Although</span> <span style=\"background-color: rgba(221, 9, 140, 0.6432331800460815); padding: 1px 5px; border: solid 3px ; border-color: rgba(221, 9, 140, 1); #EFEFEF\">it</span> <span style=\"background-color: rgba(221, 9, 140, 0.4763512909412384); padding: 1px 5px; border: solid 3px ; border-color: rgba(221, 9, 140, 1); #EFEFEF\">had</span> <span style=\"background-color: rgba(221, 9, 140, 0.9988263249397278); padding: 1px 5px; border: solid 3px ; border-color: rgba(221, 9, 140, 1); #EFEFEF\">great actors/actresses</span> <span style=\"background-color: rgba(221, 9, 140, 0.40835410356521606); padding: 1px 5px; border: solid 3px ; border-color: rgba(221, 9, 140, 1); #EFEFEF\">there</span> <span style=\"background-color: rgba(221, 9, 140, 0.43647828698158264); padding: 1px 5px; border: solid 3px ; border-color: rgba(221, 9, 140, 1); #EFEFEF\">were</span> <span style=\"background-color: rgba(221, 9, 140, 0.9455965757369995); padding: 1px 5px; border: solid 3px ; border-color: rgba(221, 9, 140, 1); #EFEFEF\">just</span> <span style=\"background-color: rgba(221, 9, 140, 0.9994189143180847); padding: 1px 5px; border: solid 3px ; border-color: rgba(221, 9, 140, 1); #EFEFEF\">too many subplots</span> <span style=\"background-color: rgba(233,30,99,0);  padding: 1px 5px; border: solid 3px ; border-color:  rgba(233,30,99,0); #EFEFEF\">going</span> <span style=\"background-color: rgba(221, 9, 140, 0.41980791091918945); padding: 1px 5px; border: solid 3px ; border-color: rgba(221, 9, 140, 1); #EFEFEF\">on</span> <span style=\"background-color: rgba(233,30,99,0);  padding: 1px 5px; border: solid 3px ; border-color:  rgba(233,30,99,0); #EFEFEF\">to retain</span> <span style=\"background-color: rgba(221, 9, 140, 0.5091716647148132); padding: 1px 5px; border: solid 3px ; border-color: rgba(221, 9, 140, 1); #EFEFEF\">interest</span> </div>"
      ],
      "text/plain": [
       "<IPython.core.display.HTML object>"
      ]
     },
     "metadata": {},
     "output_type": "display_data"
    },
    {
     "data": {
      "text/html": [
       "<br><br>"
      ],
      "text/plain": [
       "<IPython.core.display.HTML object>"
      ]
     },
     "metadata": {},
     "output_type": "display_data"
    },
    {
     "data": {
      "text/html": [
       "<div style='display: flex; width: 400px; flex-wrap: wrap'><span style=\"background-color: rgba(221, 9, 140, 0.45314037799835205); padding: 1px 5px; border: solid 3px ; border-color: rgba(221, 9, 140, 1); #EFEFEF\">Jones & I</span> <span style=\"background-color: rgba(233,30,99,0);  padding: 1px 5px; border: solid 3px ; border-color:  rgba(233,30,99,0); #EFEFEF\">sort of liked</span> <span style=\"background-color: rgba(233,30,99,0);  padding: 1px 5px; border: solid 3px ; border-color:  rgba(233,30,99,0); #EFEFEF\">it</span> <span style=\"background-color: rgba(221, 9, 140, 0.3878098726272583); padding: 1px 5px; border: solid 3px ; border-color: rgba(221, 9, 140, 1); #EFEFEF\">in</span> <span style=\"background-color: rgba(221, 9, 140, 0.47617435455322266); padding: 1px 5px; border: solid 3px ; border-color: rgba(221, 9, 140, 1); #EFEFEF\">the end</span> <span style=\"background-color: rgba(221, 9, 140, 0.25821247696876526); padding: 1px 5px; border: solid 3px ; border-color: rgba(221, 9, 140, 1); #EFEFEF\">there</span> <span style=\"background-color: rgba(221, 9, 140, 0.4397808313369751); padding: 1px 5px; border: solid 3px ; border-color: rgba(221, 9, 140, 1); #EFEFEF\">were</span> <span style=\"background-color: rgba(221, 9, 140, 0.9995807409286499); padding: 1px 5px; border: solid 3px ; border-color: rgba(221, 9, 140, 1); #EFEFEF\">too many unsatisfying elements</span> <span style=\"background-color: rgba(221, 9, 140, 0.8327867984771729); padding: 1px 5px; border: solid 3px ; border-color: rgba(221, 9, 140, 1); #EFEFEF\">for</span> <span style=\"background-color: rgba(221, 9, 140, 0.7121967077255249); padding: 1px 5px; border: solid 3px ; border-color: rgba(221, 9, 140, 1); #EFEFEF\">me</span> <span style=\"background-color: rgba(221, 9, 140, 0.8491193652153015); padding: 1px 5px; border: solid 3px ; border-color: rgba(221, 9, 140, 1); #EFEFEF\">to totally enjoy</span> <span style=\"background-color: rgba(221, 9, 140, 0.3569791316986084); padding: 1px 5px; border: solid 3px ; border-color: rgba(221, 9, 140, 1); #EFEFEF\">it</span> </div>"
      ],
      "text/plain": [
       "<IPython.core.display.HTML object>"
      ]
     },
     "metadata": {},
     "output_type": "display_data"
    },
    {
     "data": {
      "text/html": [
       "<br><br>"
      ],
      "text/plain": [
       "<IPython.core.display.HTML object>"
      ]
     },
     "metadata": {},
     "output_type": "display_data"
    },
    {
     "data": {
      "text/html": [
       "<div style='display: flex; width: 400px; flex-wrap: wrap'><span style=\"background-color: rgba(233,30,99,0);  padding: 1px 5px; border: solid 3px ; border-color:  rgba(233,30,99,0); #EFEFEF\">If</span> <span style=\"background-color: rgba(233,30,99,0);  padding: 1px 5px; border: solid 3px ; border-color:  rgba(233,30,99,0); #EFEFEF\">he</span> <span style=\"background-color: rgba(233,30,99,0);  padding: 1px 5px; border: solid 3px ; border-color:  rgba(233,30,99,0); #EFEFEF\">gave</span> <span style=\"background-color: rgba(233,30,99,0);  padding: 1px 5px; border: solid 3px ; border-color:  rgba(233,30,99,0); #EFEFEF\">us</span> <span style=\"background-color: rgba(233,30,99,0);  padding: 1px 5px; border: solid 3px ; border-color:  rgba(233,30,99,0); #EFEFEF\">something</span> <span style=\"background-color: rgba(233,30,99,0);  padding: 1px 5px; border: solid 3px ; border-color:  rgba(233,30,99,0); #EFEFEF\">more accessible</span> <span style=\"background-color: rgba(233,30,99,0);  padding: 1px 5px; border: solid 3px ; border-color:  rgba(233,30,99,0); #EFEFEF\">at least had</span> <span style=\"background-color: rgba(233,30,99,0);  padding: 1px 5px; border: solid 3px ; border-color:  rgba(233,30,99,0); #EFEFEF\">better explanations</span> <span style=\"background-color: rgba(233,30,99,0);  padding: 1px 5px; border: solid 3px ; border-color:  rgba(233,30,99,0); #EFEFEF\">for</span> <span style=\"background-color: rgba(233,30,99,0);  padding: 1px 5px; border: solid 3px ; border-color:  rgba(233,30,99,0); #EFEFEF\">the characters</span> <span style=\"background-color: rgba(221, 9, 140, 0.40641412138938904); padding: 1px 5px; border: solid 3px ; border-color: rgba(221, 9, 140, 1); #EFEFEF\">suddenly acting</span> <span style=\"background-color: rgba(221, 9, 140, 0.26317328214645386); padding: 1px 5px; border: solid 3px ; border-color: rgba(221, 9, 140, 1); #EFEFEF\">all weird</span> <span style=\"background-color: rgba(233,30,99,0);  padding: 1px 5px; border: solid 3px ; border-color:  rgba(233,30,99,0); #EFEFEF\">then</span> <span style=\"background-color: rgba(233,30,99,0);  padding: 1px 5px; border: solid 3px ; border-color:  rgba(233,30,99,0); #EFEFEF\">it</span> <span style=\"background-color: rgba(221, 9, 140, 0.9995773434638977); padding: 1px 5px; border: solid 3px ; border-color: rgba(221, 9, 140, 1); #EFEFEF\">would have been</span> <span style=\"background-color: rgba(233,30,99,0);  padding: 1px 5px; border: solid 3px ; border-color:  rgba(233,30,99,0); #EFEFEF\">a more enjoyable film</span> </div>"
      ],
      "text/plain": [
       "<IPython.core.display.HTML object>"
      ]
     },
     "metadata": {},
     "output_type": "display_data"
    },
    {
     "data": {
      "text/html": [
       "<br><br>"
      ],
      "text/plain": [
       "<IPython.core.display.HTML object>"
      ]
     },
     "metadata": {},
     "output_type": "display_data"
    },
    {
     "data": {
      "text/html": [
       "<div style='display: flex; width: 400px; flex-wrap: wrap'><span style=\"background-color: rgba(233,30,99,0);  padding: 1px 5px; border: solid 3px ; border-color:  rgba(233,30,99,0); #EFEFEF\">It</span> <span style=\"background-color: rgba(233,30,99,0);  padding: 1px 5px; border: solid 3px ; border-color:  rgba(233,30,99,0); #EFEFEF\">'s</span> <span style=\"background-color: rgba(221, 9, 140, 0.99917072057724); padding: 1px 5px; border: solid 3px ; border-color: rgba(221, 9, 140, 1); #EFEFEF\">watchable</span> <span style=\"background-color: rgba(233,30,99,0);  padding: 1px 5px; border: solid 3px ; border-color:  rgba(233,30,99,0); #EFEFEF\">even though</span> <span style=\"background-color: rgba(233,30,99,0);  padding: 1px 5px; border: solid 3px ; border-color:  rgba(233,30,99,0); #EFEFEF\">it</span> <span style=\"background-color: rgba(221, 9, 140, 0.9995748400688171); padding: 1px 5px; border: solid 3px ; border-color: rgba(221, 9, 140, 1); #EFEFEF\">doesn't leave</span> <span style=\"background-color: rgba(221, 9, 140, 0.9773964285850525); padding: 1px 5px; border: solid 3px ; border-color: rgba(221, 9, 140, 1); #EFEFEF\">a lasting impression</span> </div>"
      ],
      "text/plain": [
       "<IPython.core.display.HTML object>"
      ]
     },
     "metadata": {},
     "output_type": "display_data"
    },
    {
     "data": {
      "text/html": [
       "<br><br>"
      ],
      "text/plain": [
       "<IPython.core.display.HTML object>"
      ]
     },
     "metadata": {},
     "output_type": "display_data"
    },
    {
     "data": {
      "text/html": [
       "<div style='display: flex; width: 400px; flex-wrap: wrap'><span style=\"background-color: rgba(221, 9, 140, 0.9989641308784485); padding: 1px 5px; border: solid 3px ; border-color: rgba(221, 9, 140, 1); #EFEFEF\">See</span> <span style=\"background-color: rgba(221, 9, 140, 0.9995756149291992); padding: 1px 5px; border: solid 3px ; border-color: rgba(221, 9, 140, 1); #EFEFEF\">this movie</span> <span style=\"background-color: rgba(221, 9, 140, 0.9821974635124207); padding: 1px 5px; border: solid 3px ; border-color: rgba(221, 9, 140, 1); #EFEFEF\">if</span> <span style=\"background-color: rgba(221, 9, 140, 0.9995756149291992); padding: 1px 5px; border: solid 3px ; border-color: rgba(221, 9, 140, 1); #EFEFEF\">you</span> <span style=\"background-color: rgba(221, 9, 140, 0.9995756149291992); padding: 1px 5px; border: solid 3px ; border-color: rgba(221, 9, 140, 1); #EFEFEF\">want to see</span> <span style=\"background-color: rgba(221, 9, 140, 0.9995756149291992); padding: 1px 5px; border: solid 3px ; border-color: rgba(221, 9, 140, 1); #EFEFEF\">some impressive set designs</span> <span style=\"background-color: rgba(221, 9, 140, 0.9995756149291992); padding: 1px 5px; border: solid 3px ; border-color: rgba(221, 9, 140, 1); #EFEFEF\">if</span> <span style=\"background-color: rgba(221, 9, 140, 0.9995756149291992); padding: 1px 5px; border: solid 3px ; border-color: rgba(221, 9, 140, 1); #EFEFEF\">you</span> <span style=\"background-color: rgba(221, 9, 140, 0.9878960251808167); padding: 1px 5px; border: solid 3px ; border-color: rgba(221, 9, 140, 1); #EFEFEF\">want to see</span> <span style=\"background-color: rgba(221, 9, 140, 0.9995756149291992); padding: 1px 5px; border: solid 3px ; border-color: rgba(221, 9, 140, 1); #EFEFEF\">good acting</span> <span style=\"background-color: rgba(221, 9, 140, 0.9716828465461731); padding: 1px 5px; border: solid 3px ; border-color: rgba(221, 9, 140, 1); #EFEFEF\">a good film</span> </div>"
      ],
      "text/plain": [
       "<IPython.core.display.HTML object>"
      ]
     },
     "metadata": {},
     "output_type": "display_data"
    },
    {
     "data": {
      "text/html": [
       "<br><br>"
      ],
      "text/plain": [
       "<IPython.core.display.HTML object>"
      ]
     },
     "metadata": {},
     "output_type": "display_data"
    },
    {
     "data": {
      "text/html": [
       "<div style='display: flex; width: 400px; flex-wrap: wrap'><span style=\"background-color: rgba(221, 9, 140, 0.42769885063171387); padding: 1px 5px; border: solid 3px ; border-color: rgba(221, 9, 140, 1); #EFEFEF\">If</span> <span style=\"background-color: rgba(221, 9, 140, 0.741679847240448); padding: 1px 5px; border: solid 3px ; border-color: rgba(221, 9, 140, 1); #EFEFEF\">you</span> <span style=\"background-color: rgba(221, 9, 140, 0.6303555369377136); padding: 1px 5px; border: solid 3px ; border-color: rgba(221, 9, 140, 1); #EFEFEF\">can get</span> <span style=\"background-color: rgba(221, 9, 140, 0.890625); padding: 1px 5px; border: solid 3px ; border-color: rgba(221, 9, 140, 1); #EFEFEF\">past</span> <span style=\"background-color: rgba(221, 9, 140, 0.8858625292778015); padding: 1px 5px; border: solid 3px ; border-color: rgba(221, 9, 140, 1); #EFEFEF\">the first 2 minutes</span> <span style=\"background-color: rgba(221, 9, 140, 0.8017349243164062); padding: 1px 5px; border: solid 3px ; border-color: rgba(221, 9, 140, 1); #EFEFEF\">where</span> <span style=\"background-color: rgba(221, 9, 140, 0.7938007116317749); padding: 1px 5px; border: solid 3px ; border-color: rgba(221, 9, 140, 1); #EFEFEF\">Adam</span> <span style=\"background-color: rgba(221, 9, 140, 0.571111798286438); padding: 1px 5px; border: solid 3px ; border-color: rgba(221, 9, 140, 1); #EFEFEF\">'s friend Harley</span> <span style=\"background-color: rgba(221, 9, 140, 0.6086368560791016); padding: 1px 5px; border: solid 3px ; border-color: rgba(221, 9, 140, 1); #EFEFEF\">pops</span> <span style=\"background-color: rgba(221, 9, 140, 0.7357548475265503); padding: 1px 5px; border: solid 3px ; border-color: rgba(221, 9, 140, 1); #EFEFEF\">up</span> <span style=\"background-color: rgba(221, 9, 140, 0.8109269738197327); padding: 1px 5px; border: solid 3px ; border-color: rgba(221, 9, 140, 1); #EFEFEF\">from</span> <span style=\"background-color: rgba(221, 9, 140, 0.8080040216445923); padding: 1px 5px; border: solid 3px ; border-color: rgba(221, 9, 140, 1); #EFEFEF\">hiding</span> <span style=\"background-color: rgba(221, 9, 140, 0.7920296788215637); padding: 1px 5px; border: solid 3px ; border-color: rgba(221, 9, 140, 1); #EFEFEF\">in</span> <span style=\"background-color: rgba(221, 9, 140, 0.7005877494812012); padding: 1px 5px; border: solid 3px ; border-color: rgba(221, 9, 140, 1); #EFEFEF\">the back</span> <span style=\"background-color: rgba(221, 9, 140, 0.7562172412872314); padding: 1px 5px; border: solid 3px ; border-color: rgba(221, 9, 140, 1); #EFEFEF\">of</span> <span style=\"background-color: rgba(221, 9, 140, 0.802629292011261); padding: 1px 5px; border: solid 3px ; border-color: rgba(221, 9, 140, 1); #EFEFEF\">Adam</span> <span style=\"background-color: rgba(221, 9, 140, 0.5950039625167847); padding: 1px 5px; border: solid 3px ; border-color: rgba(221, 9, 140, 1); #EFEFEF\">'s car</span> <span style=\"background-color: rgba(221, 9, 140, 0.5097508430480957); padding: 1px 5px; border: solid 3px ; border-color: rgba(221, 9, 140, 1); #EFEFEF\">to try to scare</span> <span style=\"background-color: rgba(221, 9, 140, 0.7292068004608154); padding: 1px 5px; border: solid 3px ; border-color: rgba(221, 9, 140, 1); #EFEFEF\">him</span> <span style=\"background-color: rgba(221, 9, 140, 0.9607877731323242); padding: 1px 5px; border: solid 3px ; border-color: rgba(221, 9, 140, 1); #EFEFEF\">with</span> <span style=\"background-color: rgba(221, 9, 140, 0.9995548725128174); padding: 1px 5px; border: solid 3px ; border-color: rgba(221, 9, 140, 1); #EFEFEF\">no explanation</span> <span style=\"background-color: rgba(221, 9, 140, 0.734736979007721); padding: 1px 5px; border: solid 3px ; border-color: rgba(221, 9, 140, 1); #EFEFEF\">as</span> <span style=\"background-color: rgba(221, 9, 140, 0.8806615471839905); padding: 1px 5px; border: solid 3px ; border-color: rgba(221, 9, 140, 1); #EFEFEF\">to</span> <span style=\"background-color: rgba(221, 9, 140, 0.8015799522399902); padding: 1px 5px; border: solid 3px ; border-color: rgba(221, 9, 140, 1); #EFEFEF\">how</span> <span style=\"background-color: rgba(221, 9, 140, 0.6299151182174683); padding: 1px 5px; border: solid 3px ; border-color: rgba(221, 9, 140, 1); #EFEFEF\">Harley</span> <span style=\"background-color: rgba(221, 9, 140, 0.8050698637962341); padding: 1px 5px; border: solid 3px ; border-color: rgba(221, 9, 140, 1); #EFEFEF\">even</span> <span style=\"background-color: rgba(221, 9, 140, 0.8928818702697754); padding: 1px 5px; border: solid 3px ; border-color: rgba(221, 9, 140, 1); #EFEFEF\">got</span> <span style=\"background-color: rgba(221, 9, 140, 0.7964454293251038); padding: 1px 5px; border: solid 3px ; border-color: rgba(221, 9, 140, 1); #EFEFEF\">there</span> <span style=\"background-color: rgba(221, 9, 140, 0.6812751889228821); padding: 1px 5px; border: solid 3px ; border-color: rgba(221, 9, 140, 1); #EFEFEF\">how long</span> <span style=\"background-color: rgba(221, 9, 140, 0.44691962003707886); padding: 1px 5px; border: solid 3px ; border-color: rgba(221, 9, 140, 1); #EFEFEF\">ago</span> <span style=\"background-color: rgba(221, 9, 140, 0.5943315625190735); padding: 1px 5px; border: solid 3px ; border-color: rgba(221, 9, 140, 1); #EFEFEF\">how</span> <span style=\"background-color: rgba(221, 9, 140, 0.5508216619491577); padding: 1px 5px; border: solid 3px ; border-color: rgba(221, 9, 140, 1); #EFEFEF\">Adam</span> <span style=\"background-color: rgba(221, 9, 140, 0.9144778251647949); padding: 1px 5px; border: solid 3px ; border-color: rgba(221, 9, 140, 1); #EFEFEF\">even</span> <span style=\"background-color: rgba(221, 9, 140, 0.9437245726585388); padding: 1px 5px; border: solid 3px ; border-color: rgba(221, 9, 140, 1); #EFEFEF\">failed to realise</span> <span style=\"background-color: rgba(221, 9, 140, 0.8393123149871826); padding: 1px 5px; border: solid 3px ; border-color: rgba(221, 9, 140, 1); #EFEFEF\">without</span> <span style=\"background-color: rgba(221, 9, 140, 0.4516089856624603); padding: 1px 5px; border: solid 3px ; border-color: rgba(221, 9, 140, 1); #EFEFEF\">thinking</span> <span style=\"background-color: rgba(221, 9, 140, 0.9740962386131287); padding: 1px 5px; border: solid 3px ; border-color: rgba(221, 9, 140, 1); #EFEFEF\">you</span> <span style=\"background-color: rgba(221, 9, 140, 0.9954547882080078); padding: 1px 5px; border: solid 3px ; border-color: rgba(221, 9, 140, 1); #EFEFEF\">hate</span> <span style=\"background-color: rgba(221, 9, 140, 0.9879642724990845); padding: 1px 5px; border: solid 3px ; border-color: rgba(221, 9, 140, 1); #EFEFEF\">it</span> <span style=\"background-color: rgba(221, 9, 140, 0.9675391316413879); padding: 1px 5px; border: solid 3px ; border-color: rgba(221, 9, 140, 1); #EFEFEF\">already</span> <span style=\"background-color: rgba(221, 9, 140, 0.9525533318519592); padding: 1px 5px; border: solid 3px ; border-color: rgba(221, 9, 140, 1); #EFEFEF\">then</span> <span style=\"background-color: rgba(221, 9, 140, 0.792172372341156); padding: 1px 5px; border: solid 3px ; border-color: rgba(221, 9, 140, 1); #EFEFEF\">you</span> <span style=\"background-color: rgba(221, 9, 140, 0.23153939843177795); padding: 1px 5px; border: solid 3px ; border-color: rgba(221, 9, 140, 1); #EFEFEF\">may just enjoy</span> <span style=\"background-color: rgba(221, 9, 140, 0.43871641159057617); padding: 1px 5px; border: solid 3px ; border-color: rgba(221, 9, 140, 1); #EFEFEF\">this film</span> </div>"
      ],
      "text/plain": [
       "<IPython.core.display.HTML object>"
      ]
     },
     "metadata": {},
     "output_type": "display_data"
    },
    {
     "data": {
      "text/html": [
       "<br><br>"
      ],
      "text/plain": [
       "<IPython.core.display.HTML object>"
      ]
     },
     "metadata": {},
     "output_type": "display_data"
    },
    {
     "data": {
      "text/html": [
       "<div style='display: flex; width: 400px; flex-wrap: wrap'><span style=\"background-color: rgba(221, 9, 140, 0.2185865342617035); padding: 1px 5px; border: solid 3px ; border-color: rgba(221, 9, 140, 1); #EFEFEF\">I</span> <span style=\"background-color: rgba(221, 9, 140, 0.8887918591499329); padding: 1px 5px; border: solid 3px ; border-color: rgba(221, 9, 140, 1); #EFEFEF\">suppose</span> <span style=\"background-color: rgba(221, 9, 140, 0.9995745420455933); padding: 1px 5px; border: solid 3px ; border-color: rgba(221, 9, 140, 1); #EFEFEF\">if</span> <span style=\"background-color: rgba(233,30,99,0);  padding: 1px 5px; border: solid 3px ; border-color:  rgba(233,30,99,0); #EFEFEF\">you</span> <span style=\"background-color: rgba(233,30,99,0);  padding: 1px 5px; border: solid 3px ; border-color:  rgba(233,30,99,0); #EFEFEF\">like</span> <span style=\"background-color: rgba(221, 9, 140, 0.9995745420455933); padding: 1px 5px; border: solid 3px ; border-color: rgba(221, 9, 140, 1); #EFEFEF\">endless dialogue</span> <span style=\"background-color: rgba(221, 9, 140, 0.8268084526062012); padding: 1px 5px; border: solid 3px ; border-color: rgba(221, 9, 140, 1); #EFEFEF\">that</span> <span style=\"background-color: rgba(221, 9, 140, 0.9971292018890381); padding: 1px 5px; border: solid 3px ; border-color: rgba(221, 9, 140, 1); #EFEFEF\">doesn't forward</span> <span style=\"background-color: rgba(221, 9, 140, 0.6436118483543396); padding: 1px 5px; border: solid 3px ; border-color: rgba(221, 9, 140, 1); #EFEFEF\">the story</span> <span style=\"background-color: rgba(233,30,99,0);  padding: 1px 5px; border: solid 3px ; border-color:  rgba(233,30,99,0); #EFEFEF\">flashy camera effects</span> <span style=\"background-color: rgba(233,30,99,0);  padding: 1px 5px; border: solid 3px ; border-color:  rgba(233,30,99,0); #EFEFEF\">like</span> <span style=\"background-color: rgba(221, 9, 140, 0.3376331627368927); padding: 1px 5px; border: solid 3px ; border-color: rgba(221, 9, 140, 1); #EFEFEF\">the scene transitions</span> <span style=\"background-color: rgba(233,30,99,0);  padding: 1px 5px; border: solid 3px ; border-color:  rgba(233,30,99,0); #EFEFEF\">in</span> <span style=\"background-color: rgba(221, 9, 140, 0.3332233428955078); padding: 1px 5px; border: solid 3px ; border-color: rgba(221, 9, 140, 1); #EFEFEF\">the television show</span> <span style=\"background-color: rgba(233,30,99,0);  padding: 1px 5px; border: solid 3px ; border-color:  rgba(233,30,99,0); #EFEFEF\">Angel</span> <span style=\"background-color: rgba(233,30,99,0);  padding: 1px 5px; border: solid 3px ; border-color:  rgba(233,30,99,0); #EFEFEF\">you</span> <span style=\"background-color: rgba(233,30,99,0);  padding: 1px 5px; border: solid 3px ; border-color:  rgba(233,30,99,0); #EFEFEF\">'ll enjoy</span> <span style=\"background-color: rgba(221, 9, 140, 0.28082671761512756); padding: 1px 5px; border: solid 3px ; border-color: rgba(221, 9, 140, 1); #EFEFEF\">the film</span> </div>"
      ],
      "text/plain": [
       "<IPython.core.display.HTML object>"
      ]
     },
     "metadata": {},
     "output_type": "display_data"
    },
    {
     "data": {
      "text/html": [
       "<br><br>"
      ],
      "text/plain": [
       "<IPython.core.display.HTML object>"
      ]
     },
     "metadata": {},
     "output_type": "display_data"
    },
    {
     "data": {
      "text/html": [
       "<div style='display: flex; width: 400px; flex-wrap: wrap'><span style=\"background-color: rgba(221, 9, 140, 0.9995726943016052); padding: 1px 5px; border: solid 3px ; border-color: rgba(221, 9, 140, 1); #EFEFEF\">The flaming car scene</span> <span style=\"background-color: rgba(233,30,99,0);  padding: 1px 5px; border: solid 3px ; border-color:  rgba(233,30,99,0); #EFEFEF\">was well executed</span> <span style=\"background-color: rgba(221, 90, 9,  0.20668868720531464); padding: 1px 5px; border: solid 3px ; border-color: rgba(221, 90, 9,  1); #EFEFEF\">like</span> <span style=\"background-color: rgba(221, 9, 140, 0.6253259778022766); padding: 1px 5px; border: solid 3px ; border-color: rgba(221, 9, 140, 1); #EFEFEF\">much</span> <span style=\"background-color: rgba(233,30,99,0);  padding: 1px 5px; border: solid 3px ; border-color:  rgba(233,30,99,0); #EFEFEF\">of</span> <span style=\"background-color: rgba(221, 9, 140, 0.9924755096435547); padding: 1px 5px; border: solid 3px ; border-color: rgba(221, 9, 140, 1); #EFEFEF\">the movie</span> <span style=\"background-color: rgba(221, 9, 140, 0.9995726943016052); padding: 1px 5px; border: solid 3px ; border-color: rgba(221, 9, 140, 1); #EFEFEF\">went</span> <span style=\"background-color: rgba(221, 9, 140, 0.9995726943016052); padding: 1px 5px; border: solid 3px ; border-color: rgba(221, 9, 140, 1); #EFEFEF\">nowhere</span> <span style=\"background-color: rgba(221, 9, 140, 0.9995726943016052); padding: 1px 5px; border: solid 3px ; border-color: rgba(221, 9, 140, 1); #EFEFEF\">in</span> <span style=\"background-color: rgba(221, 9, 140, 0.9853800535202026); padding: 1px 5px; border: solid 3px ; border-color: rgba(221, 9, 140, 1); #EFEFEF\">the end</span> </div>"
      ],
      "text/plain": [
       "<IPython.core.display.HTML object>"
      ]
     },
     "metadata": {},
     "output_type": "display_data"
    },
    {
     "data": {
      "text/html": [
       "<br><br>"
      ],
      "text/plain": [
       "<IPython.core.display.HTML object>"
      ]
     },
     "metadata": {},
     "output_type": "display_data"
    },
    {
     "data": {
      "text/html": [
       "<div style='display: flex; width: 400px; flex-wrap: wrap'><span style=\"background-color: rgba(221, 9, 140, 0.24985985457897186); padding: 1px 5px; border: solid 3px ; border-color: rgba(221, 9, 140, 1); #EFEFEF\">The film</span> <span style=\"background-color: rgba(233,30,99,0);  padding: 1px 5px; border: solid 3px ; border-color:  rgba(233,30,99,0); #EFEFEF\">is</span> <span style=\"background-color: rgba(221, 9, 140, 0.8184190988540649); padding: 1px 5px; border: solid 3px ; border-color: rgba(221, 9, 140, 1); #EFEFEF\">basically</span> <span style=\"background-color: rgba(233,30,99,0);  padding: 1px 5px; border: solid 3px ; border-color:  rgba(233,30,99,0); #EFEFEF\">a series</span> <span style=\"background-color: rgba(233,30,99,0);  padding: 1px 5px; border: solid 3px ; border-color:  rgba(233,30,99,0); #EFEFEF\">of</span> <span style=\"background-color: rgba(221, 9, 140, 0.6642665863037109); padding: 1px 5px; border: solid 3px ; border-color: rgba(221, 9, 140, 1); #EFEFEF\">zany action sequences</span> <span style=\"background-color: rgba(233,30,99,0);  padding: 1px 5px; border: solid 3px ; border-color:  rgba(233,30,99,0); #EFEFEF\">that</span> <span style=\"background-color: rgba(221, 9, 140, 0.9995725750923157); padding: 1px 5px; border: solid 3px ; border-color: rgba(221, 9, 140, 1); #EFEFEF\">are kind of pasted</span> <span style=\"background-color: rgba(233,30,99,0);  padding: 1px 5px; border: solid 3px ; border-color:  rgba(233,30,99,0); #EFEFEF\">together</span> <span style=\"background-color: rgba(233,30,99,0);  padding: 1px 5px; border: solid 3px ; border-color:  rgba(233,30,99,0); #EFEFEF\">with</span> <span style=\"background-color: rgba(233,30,99,0);  padding: 1px 5px; border: solid 3px ; border-color:  rgba(233,30,99,0); #EFEFEF\">characters</span> <span style=\"background-color: rgba(221, 9, 140, 0.9995725750923157); padding: 1px 5px; border: solid 3px ; border-color: rgba(221, 9, 140, 1); #EFEFEF\">an uneven story</span> <span style=\"background-color: rgba(233,30,99,0);  padding: 1px 5px; border: solid 3px ; border-color:  rgba(233,30,99,0); #EFEFEF\">that</span> <span style=\"background-color: rgba(221, 9, 140, 0.3092569410800934); padding: 1px 5px; border: solid 3px ; border-color: rgba(221, 9, 140, 1); #EFEFEF\">only kids</span> <span style=\"background-color: rgba(233,30,99,0);  padding: 1px 5px; border: solid 3px ; border-color:  rgba(233,30,99,0); #EFEFEF\">between</span> <span style=\"background-color: rgba(233,30,99,0);  padding: 1px 5px; border: solid 3px ; border-color:  rgba(233,30,99,0); #EFEFEF\">the ages</span> <span style=\"background-color: rgba(233,30,99,0);  padding: 1px 5px; border: solid 3px ; border-color:  rgba(233,30,99,0); #EFEFEF\">of</span> <span style=\"background-color: rgba(233,30,99,0);  padding: 1px 5px; border: solid 3px ; border-color:  rgba(233,30,99,0); #EFEFEF\">6-9</span> <span style=\"background-color: rgba(233,30,99,0);  padding: 1px 5px; border: solid 3px ; border-color:  rgba(233,30,99,0); #EFEFEF\">would enjoy</span> </div>"
      ],
      "text/plain": [
       "<IPython.core.display.HTML object>"
      ]
     },
     "metadata": {},
     "output_type": "display_data"
    },
    {
     "data": {
      "text/html": [
       "<br><br>"
      ],
      "text/plain": [
       "<IPython.core.display.HTML object>"
      ]
     },
     "metadata": {},
     "output_type": "display_data"
    },
    {
     "name": "stdout",
     "output_type": "stream",
     "text": [
      "\n",
      "\n",
      "10 most important reviews for negative predicted label - concept3:\n",
      "\n",
      "\n"
     ]
    },
    {
     "data": {
      "text/html": [
       "<div style='display: flex; width: 400px; flex-wrap: wrap'><span style=\"background-color: rgba(221, 90, 9,  0.7284530401229858); padding: 1px 5px; border: solid 3px ; border-color: rgba(221, 90, 9,  1); #EFEFEF\">Based</span> <span style=\"background-color: rgba(221, 90, 9,  0.5308803915977478); padding: 1px 5px; border: solid 3px ; border-color: rgba(221, 90, 9,  1); #EFEFEF\">on</span> <span style=\"background-color: rgba(221, 90, 9,  0.9993818402290344); padding: 1px 5px; border: solid 3px ; border-color: rgba(221, 90, 9,  1); #EFEFEF\">a stage play</span> <span style=\"background-color: rgba(221, 90, 9,  0.6789980530738831); padding: 1px 5px; border: solid 3px ; border-color: rgba(221, 90, 9,  1); #EFEFEF\">which</span> <span style=\"background-color: rgba(221, 90, 9,  0.39469748735427856); padding: 1px 5px; border: solid 3px ; border-color: rgba(221, 90, 9,  1); #EFEFEF\">reportedly</span> <span style=\"background-color: rgba(221, 90, 9,  0.5083935260772705); padding: 1px 5px; border: solid 3px ; border-color: rgba(221, 90, 9,  1); #EFEFEF\">left</span> <span style=\"background-color: rgba(221, 90, 9,  0.4362725019454956); padding: 1px 5px; border: solid 3px ; border-color: rgba(221, 90, 9,  1); #EFEFEF\">its actors</span> <span style=\"background-color: rgba(221, 90, 9,  0.33545103669166565); padding: 1px 5px; border: solid 3px ; border-color: rgba(221, 90, 9,  1); #EFEFEF\">battered and bruised</span> <span style=\"background-color: rgba(221, 90, 9,  0.41787832975387573); padding: 1px 5px; border: solid 3px ; border-color: rgba(221, 90, 9,  1); #EFEFEF\">after</span> <span style=\"background-color: rgba(221, 90, 9,  0.49949946999549866); padding: 1px 5px; border: solid 3px ; border-color: rgba(221, 90, 9,  1); #EFEFEF\">every performance</span> <span style=\"background-color: rgba(221, 90, 9,  0.6592611074447632); padding: 1px 5px; border: solid 3px ; border-color: rgba(221, 90, 9,  1); #EFEFEF\">the film</span> <span style=\"background-color: rgba(233,30,99,0);  padding: 1px 5px; border: solid 3px ; border-color:  rgba(233,30,99,0); #EFEFEF\">makes</span> <span style=\"background-color: rgba(221, 90, 9,  0.4064404368400574); padding: 1px 5px; border: solid 3px ; border-color: rgba(221, 90, 9,  1); #EFEFEF\">no attempt</span> <span style=\"background-color: rgba(221, 90, 9,  0.5381813049316406); padding: 1px 5px; border: solid 3px ; border-color: rgba(221, 90, 9,  1); #EFEFEF\">to open</span> <span style=\"background-color: rgba(221, 90, 9,  0.40373626351356506); padding: 1px 5px; border: solid 3px ; border-color: rgba(221, 90, 9,  1); #EFEFEF\">up</span> <span style=\"background-color: rgba(221, 90, 9,  0.5987032651901245); padding: 1px 5px; border: solid 3px ; border-color: rgba(221, 90, 9,  1); #EFEFEF\">the narrative</span> <span style=\"background-color: rgba(221, 90, 9,  0.33379706740379333); padding: 1px 5px; border: solid 3px ; border-color: rgba(221, 90, 9,  1); #EFEFEF\">relies</span> <span style=\"background-color: rgba(221, 90, 9,  0.7025756239891052); padding: 1px 5px; border: solid 3px ; border-color: rgba(221, 90, 9,  1); #EFEFEF\">instead</span> <span style=\"background-color: rgba(221, 90, 9,  0.5234658718109131); padding: 1px 5px; border: solid 3px ; border-color: rgba(221, 90, 9,  1); #EFEFEF\">on</span> <span style=\"background-color: rgba(221, 90, 9,  0.5796141028404236); padding: 1px 5px; border: solid 3px ; border-color: rgba(221, 90, 9,  1); #EFEFEF\">a confined setting</span> <span style=\"background-color: rgba(221, 90, 9,  0.5377968549728394); padding: 1px 5px; border: solid 3px ; border-color: rgba(221, 90, 9,  1); #EFEFEF\">for</span> <span style=\"background-color: rgba(221, 90, 9,  0.7687128782272339); padding: 1px 5px; border: solid 3px ; border-color: rgba(221, 90, 9,  1); #EFEFEF\">the main action</span> </div>"
      ],
      "text/plain": [
       "<IPython.core.display.HTML object>"
      ]
     },
     "metadata": {},
     "output_type": "display_data"
    },
    {
     "data": {
      "text/html": [
       "<br><br>"
      ],
      "text/plain": [
       "<IPython.core.display.HTML object>"
      ]
     },
     "metadata": {},
     "output_type": "display_data"
    },
    {
     "data": {
      "text/html": [
       "<div style='display: flex; width: 400px; flex-wrap: wrap'><span style=\"background-color: rgba(221, 90, 9,  0.6401248574256897); padding: 1px 5px; border: solid 3px ; border-color: rgba(221, 90, 9,  1); #EFEFEF\">It</span> <span style=\"background-color: rgba(221, 90, 9,  0.611358642578125); padding: 1px 5px; border: solid 3px ; border-color: rgba(221, 90, 9,  1); #EFEFEF\">also</span> <span style=\"background-color: rgba(221, 90, 9,  0.9995406270027161); padding: 1px 5px; border: solid 3px ; border-color: rgba(221, 90, 9,  1); #EFEFEF\">appears</span> <span style=\"background-color: rgba(221, 90, 9,  0.5623574256896973); padding: 1px 5px; border: solid 3px ; border-color: rgba(221, 90, 9,  1); #EFEFEF\">in</span> <span style=\"background-color: rgba(221, 90, 9,  0.22638188302516937); padding: 1px 5px; border: solid 3px ; border-color: rgba(221, 90, 9,  1); #EFEFEF\">this segment</span> <span style=\"background-color: rgba(221, 90, 9,  0.40380555391311646); padding: 1px 5px; border: solid 3px ; border-color: rgba(221, 90, 9,  1); #EFEFEF\">s climax</span> <span style=\"background-color: rgba(221, 90, 9,  0.931715726852417); padding: 1px 5px; border: solid 3px ; border-color: rgba(221, 90, 9,  1); #EFEFEF\">that</span> <span style=\"background-color: rgba(221, 90, 9,  0.8018873333930969); padding: 1px 5px; border: solid 3px ; border-color: rgba(221, 90, 9,  1); #EFEFEF\">Dracula</span> <span style=\"background-color: rgba(221, 90, 9,  0.9375354647636414); padding: 1px 5px; border: solid 3px ; border-color: rgba(221, 90, 9,  1); #EFEFEF\">can control</span> <span style=\"background-color: rgba(233,30,99,0);  padding: 1px 5px; border: solid 3px ; border-color:  rgba(233,30,99,0); #EFEFEF\">the weather</span> <span style=\"background-color: rgba(221, 90, 9,  0.5855799913406372); padding: 1px 5px; border: solid 3px ; border-color: rgba(221, 90, 9,  1); #EFEFEF\">this</span> <span style=\"background-color: rgba(221, 90, 9,  0.9813088178634644); padding: 1px 5px; border: solid 3px ; border-color: rgba(221, 90, 9,  1); #EFEFEF\">seems forgotten</span> <span style=\"background-color: rgba(221, 90, 9,  0.7941649556159973); padding: 1px 5px; border: solid 3px ; border-color: rgba(221, 90, 9,  1); #EFEFEF\">about</span> <span style=\"background-color: rgba(221, 90, 9,  0.8627826571464539); padding: 1px 5px; border: solid 3px ; border-color: rgba(221, 90, 9,  1); #EFEFEF\">as</span> <span style=\"background-color: rgba(221, 90, 9,  0.7470670938491821); padding: 1px 5px; border: solid 3px ; border-color: rgba(221, 90, 9,  1); #EFEFEF\">the film</span> <span style=\"background-color: rgba(221, 90, 9,  0.6146523356437683); padding: 1px 5px; border: solid 3px ; border-color: rgba(221, 90, 9,  1); #EFEFEF\">progresses</span> </div>"
      ],
      "text/plain": [
       "<IPython.core.display.HTML object>"
      ]
     },
     "metadata": {},
     "output_type": "display_data"
    },
    {
     "data": {
      "text/html": [
       "<br><br>"
      ],
      "text/plain": [
       "<IPython.core.display.HTML object>"
      ]
     },
     "metadata": {},
     "output_type": "display_data"
    },
    {
     "data": {
      "text/html": [
       "<div style='display: flex; width: 400px; flex-wrap: wrap'><span style=\"background-color: rgba(221, 90, 9,  0.9972563982009888); padding: 1px 5px; border: solid 3px ; border-color: rgba(221, 90, 9,  1); #EFEFEF\">The sense</span> <span style=\"background-color: rgba(221, 90, 9,  0.901898205280304); padding: 1px 5px; border: solid 3px ; border-color: rgba(221, 90, 9,  1); #EFEFEF\">of</span> <span style=\"background-color: rgba(221, 90, 9,  0.2810578942298889); padding: 1px 5px; border: solid 3px ; border-color: rgba(221, 90, 9,  1); #EFEFEF\">reality</span> <span style=\"background-color: rgba(221, 90, 9,  0.4499876797199249); padding: 1px 5px; border: solid 3px ; border-color: rgba(221, 90, 9,  1); #EFEFEF\">is</span> <span style=\"background-color: rgba(221, 90, 9,  0.9239138960838318); padding: 1px 5px; border: solid 3px ; border-color: rgba(221, 90, 9,  1); #EFEFEF\">never</span> <span style=\"background-color: rgba(221, 90, 9,  0.999553918838501); padding: 1px 5px; border: solid 3px ; border-color: rgba(221, 90, 9,  1); #EFEFEF\">there</span> <span style=\"background-color: rgba(221, 90, 9,  0.36417722702026367); padding: 1px 5px; border: solid 3px ; border-color: rgba(221, 90, 9,  1); #EFEFEF\">however</span> </div>"
      ],
      "text/plain": [
       "<IPython.core.display.HTML object>"
      ]
     },
     "metadata": {},
     "output_type": "display_data"
    },
    {
     "data": {
      "text/html": [
       "<br><br>"
      ],
      "text/plain": [
       "<IPython.core.display.HTML object>"
      ]
     },
     "metadata": {},
     "output_type": "display_data"
    },
    {
     "data": {
      "text/html": [
       "<div style='display: flex; width: 400px; flex-wrap: wrap'><span style=\"background-color: rgba(221, 90, 9,  0.3740747272968292); padding: 1px 5px; border: solid 3px ; border-color: rgba(221, 90, 9,  1); #EFEFEF\">At</span> <span style=\"background-color: rgba(233,30,99,0);  padding: 1px 5px; border: solid 3px ; border-color:  rgba(233,30,99,0); #EFEFEF\">times</span> <span style=\"background-color: rgba(221, 90, 9,  0.9994581937789917); padding: 1px 5px; border: solid 3px ; border-color: rgba(221, 90, 9,  1); #EFEFEF\">the plot</span> <span style=\"background-color: rgba(221, 90, 9,  0.6892595887184143); padding: 1px 5px; border: solid 3px ; border-color: rgba(221, 90, 9,  1); #EFEFEF\">diverts</span> <span style=\"background-color: rgba(221, 90, 9,  0.6300317645072937); padding: 1px 5px; border: solid 3px ; border-color: rgba(221, 90, 9,  1); #EFEFEF\">to</span> <span style=\"background-color: rgba(221, 90, 9,  0.43993404507637024); padding: 1px 5px; border: solid 3px ; border-color: rgba(221, 90, 9,  1); #EFEFEF\">the families</span> <span style=\"background-color: rgba(221, 90, 9,  0.8275213837623596); padding: 1px 5px; border: solid 3px ; border-color: rgba(221, 90, 9,  1); #EFEFEF\">of</span> <span style=\"background-color: rgba(221, 90, 9,  0.49173417687416077); padding: 1px 5px; border: solid 3px ; border-color: rgba(221, 90, 9,  1); #EFEFEF\">the two main characters</span> <span style=\"background-color: rgba(221, 90, 9,  0.792496919631958); padding: 1px 5px; border: solid 3px ; border-color: rgba(221, 90, 9,  1); #EFEFEF\">reverts</span> <span style=\"background-color: rgba(221, 90, 9,  0.582001805305481); padding: 1px 5px; border: solid 3px ; border-color: rgba(221, 90, 9,  1); #EFEFEF\">back</span> <span style=\"background-color: rgba(221, 90, 9,  0.5842779278755188); padding: 1px 5px; border: solid 3px ; border-color: rgba(221, 90, 9,  1); #EFEFEF\">to</span> <span style=\"background-color: rgba(221, 90, 9,  0.7255391478538513); padding: 1px 5px; border: solid 3px ; border-color: rgba(221, 90, 9,  1); #EFEFEF\">one</span> <span style=\"background-color: rgba(221, 90, 9,  0.4075051546096802); padding: 1px 5px; border: solid 3px ; border-color: rgba(221, 90, 9,  1); #EFEFEF\">of</span> <span style=\"background-color: rgba(221, 90, 9,  0.9018839001655579); padding: 1px 5px; border: solid 3px ; border-color: rgba(221, 90, 9,  1); #EFEFEF\">them</span> <span style=\"background-color: rgba(221, 90, 9,  0.6923334002494812); padding: 1px 5px; border: solid 3px ; border-color: rgba(221, 90, 9,  1); #EFEFEF\">Ismael</span> <span style=\"background-color: rgba(221, 90, 9,  0.9561294317245483); padding: 1px 5px; border: solid 3px ; border-color: rgba(221, 90, 9,  1); #EFEFEF\">primarily Nora</span> </div>"
      ],
      "text/plain": [
       "<IPython.core.display.HTML object>"
      ]
     },
     "metadata": {},
     "output_type": "display_data"
    },
    {
     "data": {
      "text/html": [
       "<br><br>"
      ],
      "text/plain": [
       "<IPython.core.display.HTML object>"
      ]
     },
     "metadata": {},
     "output_type": "display_data"
    },
    {
     "data": {
      "text/html": [
       "<div style='display: flex; width: 400px; flex-wrap: wrap'><span style=\"background-color: rgba(221, 90, 9,  0.9995444416999817); padding: 1px 5px; border: solid 3px ; border-color: rgba(221, 90, 9,  1); #EFEFEF\">The plot</span> <span style=\"background-color: rgba(221, 90, 9,  0.3456777036190033); padding: 1px 5px; border: solid 3px ; border-color: rgba(221, 90, 9,  1); #EFEFEF\">introduces</span> <span style=\"background-color: rgba(221, 90, 9,  0.6926406025886536); padding: 1px 5px; border: solid 3px ; border-color: rgba(221, 90, 9,  1); #EFEFEF\">a young couple</span> <span style=\"background-color: rgba(233,30,99,0);  padding: 1px 5px; border: solid 3px ; border-color:  rgba(233,30,99,0); #EFEFEF\">on</span> <span style=\"background-color: rgba(233,30,99,0);  padding: 1px 5px; border: solid 3px ; border-color:  rgba(233,30,99,0); #EFEFEF\">their honeymoon-weekend exploring caves</span> </div>"
      ],
      "text/plain": [
       "<IPython.core.display.HTML object>"
      ]
     },
     "metadata": {},
     "output_type": "display_data"
    },
    {
     "data": {
      "text/html": [
       "<br><br>"
      ],
      "text/plain": [
       "<IPython.core.display.HTML object>"
      ]
     },
     "metadata": {},
     "output_type": "display_data"
    },
    {
     "data": {
      "text/html": [
       "<div style='display: flex; width: 400px; flex-wrap: wrap'><span style=\"background-color: rgba(221, 90, 9,  0.6936691999435425); padding: 1px 5px; border: solid 3px ; border-color: rgba(221, 90, 9,  1); #EFEFEF\">The motivation</span> <span style=\"background-color: rgba(221, 90, 9,  0.34460917115211487); padding: 1px 5px; border: solid 3px ; border-color: rgba(221, 90, 9,  1); #EFEFEF\">for</span> <span style=\"background-color: rgba(233,30,99,0);  padding: 1px 5px; border: solid 3px ; border-color:  rgba(233,30,99,0); #EFEFEF\">the killings</span> <span style=\"background-color: rgba(221, 90, 9,  0.551727831363678); padding: 1px 5px; border: solid 3px ; border-color: rgba(221, 90, 9,  1); #EFEFEF\">in</span> <span style=\"background-color: rgba(221, 90, 9,  0.4883405864238739); padding: 1px 5px; border: solid 3px ; border-color: rgba(221, 90, 9,  1); #EFEFEF\">the beginning</span> <span style=\"background-color: rgba(221, 90, 9,  0.3022773861885071); padding: 1px 5px; border: solid 3px ; border-color: rgba(221, 90, 9,  1); #EFEFEF\">of</span> <span style=\"background-color: rgba(221, 90, 9,  0.95516037940979); padding: 1px 5px; border: solid 3px ; border-color: rgba(221, 90, 9,  1); #EFEFEF\">the movie</span> <span style=\"background-color: rgba(221, 90, 9,  0.9995223879814148); padding: 1px 5px; border: solid 3px ; border-color: rgba(221, 90, 9,  1); #EFEFEF\">is never explained</span> </div>"
      ],
      "text/plain": [
       "<IPython.core.display.HTML object>"
      ]
     },
     "metadata": {},
     "output_type": "display_data"
    },
    {
     "data": {
      "text/html": [
       "<br><br>"
      ],
      "text/plain": [
       "<IPython.core.display.HTML object>"
      ]
     },
     "metadata": {},
     "output_type": "display_data"
    },
    {
     "data": {
      "text/html": [
       "<div style='display: flex; width: 400px; flex-wrap: wrap'><span style=\"background-color: rgba(221, 90, 9,  0.20783191919326782); padding: 1px 5px; border: solid 3px ; border-color: rgba(221, 90, 9,  1); #EFEFEF\">The epilogue</span> <span style=\"background-color: rgba(221, 90, 9,  0.8804294466972351); padding: 1px 5px; border: solid 3px ; border-color: rgba(221, 90, 9,  1); #EFEFEF\">does not really wrap</span> <span style=\"background-color: rgba(221, 90, 9,  0.26675060391426086); padding: 1px 5px; border: solid 3px ; border-color: rgba(221, 90, 9,  1); #EFEFEF\">up</span> <span style=\"background-color: rgba(221, 9, 140, 0.2493295520544052); padding: 1px 5px; border: solid 3px ; border-color: rgba(221, 9, 140, 1); #EFEFEF\">many</span> <span style=\"background-color: rgba(221, 9, 140, 0.6320109367370605); padding: 1px 5px; border: solid 3px ; border-color: rgba(221, 9, 140, 1); #EFEFEF\">of</span> <span style=\"background-color: rgba(221, 9, 140, 0.9990755915641785); padding: 1px 5px; border: solid 3px ; border-color: rgba(221, 9, 140, 1); #EFEFEF\">the sub-plots</span> <span style=\"background-color: rgba(221, 9, 140, 0.9960825443267822); padding: 1px 5px; border: solid 3px ; border-color: rgba(221, 9, 140, 1); #EFEFEF\">seems to want</span> <span style=\"background-color: rgba(221, 9, 140, 0.2639639675617218); padding: 1px 5px; border: solid 3px ; border-color: rgba(221, 9, 140, 1); #EFEFEF\">the viewer</span> <span style=\"background-color: rgba(221, 9, 140, 0.21126678586006165); padding: 1px 5px; border: solid 3px ; border-color: rgba(221, 9, 140, 1); #EFEFEF\">to believe</span> <span style=\"background-color: rgba(221, 9, 140, 0.2592422664165497); padding: 1px 5px; border: solid 3px ; border-color: rgba(221, 9, 140, 1); #EFEFEF\">Nora</span> <span style=\"background-color: rgba(221, 9, 140, 0.40248534083366394); padding: 1px 5px; border: solid 3px ; border-color: rgba(221, 9, 140, 1); #EFEFEF\">somehow</span> <span style=\"background-color: rgba(221, 9, 140, 0.2219066023826599); padding: 1px 5px; border: solid 3px ; border-color: rgba(221, 9, 140, 1); #EFEFEF\">will find</span> <span style=\"background-color: rgba(221, 9, 140, 0.5523578524589539); padding: 1px 5px; border: solid 3px ; border-color: rgba(221, 9, 140, 1); #EFEFEF\">happiness</span> <span style=\"background-color: rgba(233,30,99,0);  padding: 1px 5px; border: solid 3px ; border-color:  rgba(233,30,99,0); #EFEFEF\">although</span> <span style=\"background-color: rgba(221, 9, 140, 0.25466254353523254); padding: 1px 5px; border: solid 3px ; border-color: rgba(221, 9, 140, 1); #EFEFEF\">given</span> <span style=\"background-color: rgba(221, 9, 140, 0.2606918215751648); padding: 1px 5px; border: solid 3px ; border-color: rgba(221, 9, 140, 1); #EFEFEF\">her circumstances</span> <span style=\"background-color: rgba(221, 9, 140, 0.2924157977104187); padding: 1px 5px; border: solid 3px ; border-color: rgba(221, 9, 140, 1); #EFEFEF\">in</span> <span style=\"background-color: rgba(221, 9, 140, 0.3680395483970642); padding: 1px 5px; border: solid 3px ; border-color: rgba(221, 9, 140, 1); #EFEFEF\">real life</span> <span style=\"background-color: rgba(221, 9, 140, 0.2204885631799698); padding: 1px 5px; border: solid 3px ; border-color: rgba(221, 9, 140, 1); #EFEFEF\">the chances</span> <span style=\"background-color: rgba(221, 9, 140, 0.4362190067768097); padding: 1px 5px; border: solid 3px ; border-color: rgba(221, 9, 140, 1); #EFEFEF\">are</span> <span style=\"background-color: rgba(221, 9, 140, 0.4030941426753998); padding: 1px 5px; border: solid 3px ; border-color: rgba(221, 9, 140, 1); #EFEFEF\">equivalent</span> <span style=\"background-color: rgba(221, 9, 140, 0.37610340118408203); padding: 1px 5px; border: solid 3px ; border-color: rgba(221, 9, 140, 1); #EFEFEF\">to</span> <span style=\"background-color: rgba(221, 9, 140, 0.4465470612049103); padding: 1px 5px; border: solid 3px ; border-color: rgba(221, 9, 140, 1); #EFEFEF\">a snow ball</span> <span style=\"background-color: rgba(233,30,99,0);  padding: 1px 5px; border: solid 3px ; border-color:  rgba(233,30,99,0); #EFEFEF\">'s chance</span> <span style=\"background-color: rgba(221, 9, 140, 0.4348149299621582); padding: 1px 5px; border: solid 3px ; border-color: rgba(221, 9, 140, 1); #EFEFEF\">in</span> <span style=\"background-color: rgba(221, 9, 140, 0.43907368183135986); padding: 1px 5px; border: solid 3px ; border-color: rgba(221, 9, 140, 1); #EFEFEF\">hell</span> </div>"
      ],
      "text/plain": [
       "<IPython.core.display.HTML object>"
      ]
     },
     "metadata": {},
     "output_type": "display_data"
    },
    {
     "data": {
      "text/html": [
       "<br><br>"
      ],
      "text/plain": [
       "<IPython.core.display.HTML object>"
      ]
     },
     "metadata": {},
     "output_type": "display_data"
    },
    {
     "data": {
      "text/html": [
       "<div style='display: flex; width: 400px; flex-wrap: wrap'><span style=\"background-color: rgba(221, 90, 9,  0.9990384578704834); padding: 1px 5px; border: solid 3px ; border-color: rgba(221, 90, 9,  1); #EFEFEF\">The movie</span> <span style=\"background-color: rgba(221, 90, 9,  0.6370266079902649); padding: 1px 5px; border: solid 3px ; border-color: rgba(221, 90, 9,  1); #EFEFEF\">starts</span> <span style=\"background-color: rgba(221, 90, 9,  0.27656787633895874); padding: 1px 5px; border: solid 3px ; border-color: rgba(221, 90, 9,  1); #EFEFEF\">with</span> <span style=\"background-color: rgba(221, 90, 9,  0.64610356092453); padding: 1px 5px; border: solid 3px ; border-color: rgba(221, 90, 9,  1); #EFEFEF\">a pair</span> <span style=\"background-color: rgba(221, 90, 9,  0.4295789897441864); padding: 1px 5px; border: solid 3px ; border-color: rgba(221, 90, 9,  1); #EFEFEF\">of</span> <span style=\"background-color: rgba(221, 90, 9,  0.4095451533794403); padding: 1px 5px; border: solid 3px ; border-color: rgba(221, 90, 9,  1); #EFEFEF\">campers</span> <span style=\"background-color: rgba(221, 90, 9,  0.5277755260467529); padding: 1px 5px; border: solid 3px ; border-color: rgba(221, 90, 9,  1); #EFEFEF\">a man</span> <span style=\"background-color: rgba(221, 90, 9,  0.5392006039619446); padding: 1px 5px; border: solid 3px ; border-color: rgba(221, 90, 9,  1); #EFEFEF\">a woman</span> <span style=\"background-color: rgba(221, 90, 9,  0.6344782114028931); padding: 1px 5px; border: solid 3px ; border-color: rgba(221, 90, 9,  1); #EFEFEF\">presumably together</span> <span style=\"background-color: rgba(221, 90, 9,  0.4603261649608612); padding: 1px 5px; border: solid 3px ; border-color: rgba(221, 90, 9,  1); #EFEFEF\">hiking</span> <span style=\"background-color: rgba(221, 90, 9,  0.4083334803581238); padding: 1px 5px; border: solid 3px ; border-color: rgba(221, 90, 9,  1); #EFEFEF\">alone</span> <span style=\"background-color: rgba(221, 90, 9,  0.41329553723335266); padding: 1px 5px; border: solid 3px ; border-color: rgba(221, 90, 9,  1); #EFEFEF\">in</span> <span style=\"background-color: rgba(221, 90, 9,  0.49240392446517944); padding: 1px 5px; border: solid 3px ; border-color: rgba(221, 90, 9,  1); #EFEFEF\">the vast wilderness</span> </div>"
      ],
      "text/plain": [
       "<IPython.core.display.HTML object>"
      ]
     },
     "metadata": {},
     "output_type": "display_data"
    },
    {
     "data": {
      "text/html": [
       "<br><br>"
      ],
      "text/plain": [
       "<IPython.core.display.HTML object>"
      ]
     },
     "metadata": {},
     "output_type": "display_data"
    },
    {
     "data": {
      "text/html": [
       "<div style='display: flex; width: 400px; flex-wrap: wrap'><span style=\"background-color: rgba(221, 90, 9,  0.5977408289909363); padding: 1px 5px; border: solid 3px ; border-color: rgba(221, 90, 9,  1); #EFEFEF\">His character</span> <span style=\"background-color: rgba(221, 90, 9,  0.7251297235488892); padding: 1px 5px; border: solid 3px ; border-color: rgba(221, 90, 9,  1); #EFEFEF\">is never quite defined</span> <span style=\"background-color: rgba(221, 90, 9,  0.2666316032409668); padding: 1px 5px; border: solid 3px ; border-color: rgba(221, 90, 9,  1); #EFEFEF\">he</span> <span style=\"background-color: rgba(221, 90, 9,  0.9461956024169922); padding: 1px 5px; border: solid 3px ; border-color: rgba(221, 90, 9,  1); #EFEFEF\">lacks</span> <span style=\"background-color: rgba(221, 90, 9,  0.9993302822113037); padding: 1px 5px; border: solid 3px ; border-color: rgba(221, 90, 9,  1); #EFEFEF\">true motive</span> <span style=\"background-color: rgba(221, 90, 9,  0.8300417065620422); padding: 1px 5px; border: solid 3px ; border-color: rgba(221, 90, 9,  1); #EFEFEF\">his loyalties</span> <span style=\"background-color: rgba(233,30,99,0);  padding: 1px 5px; border: solid 3px ; border-color:  rgba(233,30,99,0); #EFEFEF\">remain</span> <span style=\"background-color: rgba(221, 90, 9,  0.20204892754554749); padding: 1px 5px; border: solid 3px ; border-color: rgba(221, 90, 9,  1); #EFEFEF\">uncertain</span> </div>"
      ],
      "text/plain": [
       "<IPython.core.display.HTML object>"
      ]
     },
     "metadata": {},
     "output_type": "display_data"
    },
    {
     "data": {
      "text/html": [
       "<br><br>"
      ],
      "text/plain": [
       "<IPython.core.display.HTML object>"
      ]
     },
     "metadata": {},
     "output_type": "display_data"
    },
    {
     "data": {
      "text/html": [
       "<div style='display: flex; width: 400px; flex-wrap: wrap'><span style=\"background-color: rgba(221, 90, 9,  0.999502956867218); padding: 1px 5px; border: solid 3px ; border-color: rgba(221, 90, 9,  1); #EFEFEF\">Two-thirds</span> <span style=\"background-color: rgba(233,30,99,0);  padding: 1px 5px; border: solid 3px ; border-color:  rgba(233,30,99,0); #EFEFEF\">of</span> <span style=\"background-color: rgba(221, 90, 9,  0.4931202530860901); padding: 1px 5px; border: solid 3px ; border-color: rgba(221, 90, 9,  1); #EFEFEF\">the running time</span> <span style=\"background-color: rgba(221, 90, 9,  0.341405987739563); padding: 1px 5px; border: solid 3px ; border-color: rgba(221, 90, 9,  1); #EFEFEF\">is primarily devoted</span> <span style=\"background-color: rgba(233,30,99,0);  padding: 1px 5px; border: solid 3px ; border-color:  rgba(233,30,99,0); #EFEFEF\">to</span> <span style=\"background-color: rgba(233,30,99,0);  padding: 1px 5px; border: solid 3px ; border-color:  rgba(233,30,99,0); #EFEFEF\">the film</span> <span style=\"background-color: rgba(233,30,99,0);  padding: 1px 5px; border: solid 3px ; border-color:  rgba(233,30,99,0); #EFEFEF\">'s hero</span> <span style=\"background-color: rgba(233,30,99,0);  padding: 1px 5px; border: solid 3px ; border-color:  rgba(233,30,99,0); #EFEFEF\">Jack Brooks</span> <span style=\"background-color: rgba(233,30,99,0);  padding: 1px 5px; border: solid 3px ; border-color:  rgba(233,30,99,0); #EFEFEF\">a plumber and college student</span> <span style=\"background-color: rgba(233,30,99,0);  padding: 1px 5px; border: solid 3px ; border-color:  rgba(233,30,99,0); #EFEFEF\">as</span> <span style=\"background-color: rgba(233,30,99,0);  padding: 1px 5px; border: solid 3px ; border-color:  rgba(233,30,99,0); #EFEFEF\">he</span> <span style=\"background-color: rgba(233,30,99,0);  padding: 1px 5px; border: solid 3px ; border-color:  rgba(233,30,99,0); #EFEFEF\">goes</span> <span style=\"background-color: rgba(233,30,99,0);  padding: 1px 5px; border: solid 3px ; border-color:  rgba(233,30,99,0); #EFEFEF\">to</span> <span style=\"background-color: rgba(233,30,99,0);  padding: 1px 5px; border: solid 3px ; border-color:  rgba(233,30,99,0); #EFEFEF\">class</span> <span style=\"background-color: rgba(233,30,99,0);  padding: 1px 5px; border: solid 3px ; border-color:  rgba(233,30,99,0); #EFEFEF\">attempts to deal</span> <span style=\"background-color: rgba(233,30,99,0);  padding: 1px 5px; border: solid 3px ; border-color:  rgba(233,30,99,0); #EFEFEF\">with</span> <span style=\"background-color: rgba(233,30,99,0);  padding: 1px 5px; border: solid 3px ; border-color:  rgba(233,30,99,0); #EFEFEF\">his uncontrollable bursts</span> <span style=\"background-color: rgba(233,30,99,0);  padding: 1px 5px; border: solid 3px ; border-color:  rgba(233,30,99,0); #EFEFEF\">of</span> <span style=\"background-color: rgba(233,30,99,0);  padding: 1px 5px; border: solid 3px ; border-color:  rgba(233,30,99,0); #EFEFEF\">anger</span> </div>"
      ],
      "text/plain": [
       "<IPython.core.display.HTML object>"
      ]
     },
     "metadata": {},
     "output_type": "display_data"
    },
    {
     "data": {
      "text/html": [
       "<br><br>"
      ],
      "text/plain": [
       "<IPython.core.display.HTML object>"
      ]
     },
     "metadata": {},
     "output_type": "display_data"
    }
   ],
   "source": [
    "plot_reviews_exp(segments_pos, u_segments_pos, factorization_pos, global_importance_pos,\n",
    "                 segments_neg, u_segments_neg, factorization_neg, global_importance_neg,\n",
    "                 custom_samples=False)"
   ]
  },
  {
   "cell_type": "code",
   "execution_count": 63,
   "id": "02815c40-b421-4436-a5aa-1669ec37391b",
   "metadata": {
    "collapsed": true,
    "jupyter": {
     "outputs_hidden": true
    },
    "tags": []
   },
   "outputs": [
    {
     "data": {
      "text/html": [
       "<div style='display: flex; width: 400px; flex-wrap: wrap'><span style=\"background-color: rgba(9, 221, 55,  0.5); padding: 1px 5px; border: solid 3px ; border-color: rgba(9, 221, 55,  1); #EFEFEF\">Positive label: concept1 </span> <span style=\"background-color: rgba(9, 221, 161,  0.5); padding: 1px 5px; border: solid 3px ; border-color: rgba(9, 221, 161,  1); #EFEFEF\">Positive label: concept2 </span> <span style=\"background-color: rgba(221, 9, 34,  0.5); padding: 1px 5px; border: solid 3px ; border-color: rgba(221, 9, 34,  1); #EFEFEF\">Negative label: concept1 </span> <span style=\"background-color: rgba(221, 9, 140, 0.5); padding: 1px 5px; border: solid 3px ; border-color: rgba(221, 9, 140, 1); #EFEFEF\">Negative label: concept2 </span> <span style=\"background-color: rgba(221, 90, 9,  0.5); padding: 1px 5px; border: solid 3px ; border-color: rgba(221, 90, 9,  1); #EFEFEF\">Negative label: concept3 </span> </div>"
      ],
      "text/plain": [
       "<IPython.core.display.HTML object>"
      ]
     },
     "metadata": {},
     "output_type": "display_data"
    },
    {
     "data": {
      "text/html": [
       "<br><br>"
      ],
      "text/plain": [
       "<IPython.core.display.HTML object>"
      ]
     },
     "metadata": {},
     "output_type": "display_data"
    },
    {
     "name": "stdout",
     "output_type": "stream",
     "text": [
      "positive predicted reviews:\n",
      "\n",
      "\n",
      "\n",
      "\n",
      "7 most important reviews for positive predicted label - concept1:\n",
      "\n",
      "\n"
     ]
    },
    {
     "data": {
      "text/html": [
       "<div style='display: flex; width: 400px; flex-wrap: wrap'><span style=\"background-color: rgba(9, 221, 161,  0.5988476872444153); padding: 1px 5px; border: solid 3px ; border-color: rgba(9, 221, 161,  1); #EFEFEF\">One</span> <span style=\"background-color: rgba(9, 221, 161,  0.2762397527694702); padding: 1px 5px; border: solid 3px ; border-color: rgba(9, 221, 161,  1); #EFEFEF\">of</span> <span style=\"background-color: rgba(9, 221, 161,  0.4795304834842682); padding: 1px 5px; border: solid 3px ; border-color: rgba(9, 221, 161,  1); #EFEFEF\">the best movies</span> <span style=\"background-color: rgba(9, 221, 161,  0.9992192983627319); padding: 1px 5px; border: solid 3px ; border-color: rgba(9, 221, 161,  1); #EFEFEF\">ever</span> <span style=\"background-color: rgba(233,30,99,0);  padding: 1px 5px; border: solid 3px ; border-color:  rgba(233,30,99,0); #EFEFEF\">hands</span> <span style=\"background-color: rgba(233,30,99,0);  padding: 1px 5px; border: solid 3px ; border-color:  rgba(233,30,99,0); #EFEFEF\">down</span> </div>"
      ],
      "text/plain": [
       "<IPython.core.display.HTML object>"
      ]
     },
     "metadata": {},
     "output_type": "display_data"
    },
    {
     "data": {
      "text/html": [
       "<br><br>"
      ],
      "text/plain": [
       "<IPython.core.display.HTML object>"
      ]
     },
     "metadata": {},
     "output_type": "display_data"
    },
    {
     "data": {
      "text/html": [
       "<div style='display: flex; width: 400px; flex-wrap: wrap'><span style=\"background-color: rgba(9, 221, 161,  0.8420189023017883); padding: 1px 5px; border: solid 3px ; border-color: rgba(9, 221, 161,  1); #EFEFEF\">It</span> <span style=\"background-color: rgba(9, 221, 161,  0.637877881526947); padding: 1px 5px; border: solid 3px ; border-color: rgba(9, 221, 161,  1); #EFEFEF\">is</span> <span style=\"background-color: rgba(9, 221, 161,  0.4403311014175415); padding: 1px 5px; border: solid 3px ; border-color: rgba(9, 221, 161,  1); #EFEFEF\">simply</span> <span style=\"background-color: rgba(9, 221, 161,  0.5569343566894531); padding: 1px 5px; border: solid 3px ; border-color: rgba(9, 221, 161,  1); #EFEFEF\">one</span> <span style=\"background-color: rgba(9, 221, 161,  0.5946834087371826); padding: 1px 5px; border: solid 3px ; border-color: rgba(9, 221, 161,  1); #EFEFEF\">of</span> <span style=\"background-color: rgba(9, 221, 161,  0.9994290471076965); padding: 1px 5px; border: solid 3px ; border-color: rgba(9, 221, 161,  1); #EFEFEF\">my all-time favorite films</span> </div>"
      ],
      "text/plain": [
       "<IPython.core.display.HTML object>"
      ]
     },
     "metadata": {},
     "output_type": "display_data"
    },
    {
     "data": {
      "text/html": [
       "<br><br>"
      ],
      "text/plain": [
       "<IPython.core.display.HTML object>"
      ]
     },
     "metadata": {},
     "output_type": "display_data"
    },
    {
     "data": {
      "text/html": [
       "<div style='display: flex; width: 400px; flex-wrap: wrap'><span style=\"background-color: rgba(9, 221, 161,  0.41140490770339966); padding: 1px 5px; border: solid 3px ; border-color: rgba(9, 221, 161,  1); #EFEFEF\">Very inspiring and encouraging</span> <span style=\"background-color: rgba(9, 221, 161,  0.9994574189186096); padding: 1px 5px; border: solid 3px ; border-color: rgba(9, 221, 161,  1); #EFEFEF\">to</span> <span style=\"background-color: rgba(233,30,99,0);  padding: 1px 5px; border: solid 3px ; border-color:  rgba(233,30,99,0); #EFEFEF\">all ages</span> </div>"
      ],
      "text/plain": [
       "<IPython.core.display.HTML object>"
      ]
     },
     "metadata": {},
     "output_type": "display_data"
    },
    {
     "data": {
      "text/html": [
       "<br><br>"
      ],
      "text/plain": [
       "<IPython.core.display.HTML object>"
      ]
     },
     "metadata": {},
     "output_type": "display_data"
    },
    {
     "data": {
      "text/html": [
       "<div style='display: flex; width: 400px; flex-wrap: wrap'><span style=\"background-color: rgba(233,30,99,0);  padding: 1px 5px; border: solid 3px ; border-color:  rgba(233,30,99,0); #EFEFEF\">The ballroom scenes</span> <span style=\"background-color: rgba(233,30,99,0);  padding: 1px 5px; border: solid 3px ; border-color:  rgba(233,30,99,0); #EFEFEF\">were</span> <span style=\"background-color: rgba(233,30,99,0);  padding: 1px 5px; border: solid 3px ; border-color:  rgba(233,30,99,0); #EFEFEF\">very nice</span> <span style=\"background-color: rgba(233,30,99,0);  padding: 1px 5px; border: solid 3px ; border-color:  rgba(233,30,99,0); #EFEFEF\">the dancing</span> <span style=\"background-color: rgba(9, 221, 161,  0.2330068051815033); padding: 1px 5px; border: solid 3px ; border-color: rgba(9, 221, 161,  1); #EFEFEF\">the outfits</span> <span style=\"background-color: rgba(233,30,99,0);  padding: 1px 5px; border: solid 3px ; border-color:  rgba(233,30,99,0); #EFEFEF\">looked</span> <span style=\"background-color: rgba(9, 221, 161,  0.4863564372062683); padding: 1px 5px; border: solid 3px ; border-color: rgba(9, 221, 161,  1); #EFEFEF\">beautiful</span> </div>"
      ],
      "text/plain": [
       "<IPython.core.display.HTML object>"
      ]
     },
     "metadata": {},
     "output_type": "display_data"
    },
    {
     "data": {
      "text/html": [
       "<br><br>"
      ],
      "text/plain": [
       "<IPython.core.display.HTML object>"
      ]
     },
     "metadata": {},
     "output_type": "display_data"
    },
    {
     "data": {
      "text/html": [
       "<div style='display: flex; width: 400px; flex-wrap: wrap'><span style=\"background-color: rgba(233,30,99,0);  padding: 1px 5px; border: solid 3px ; border-color:  rgba(233,30,99,0); #EFEFEF\">Billy Bitzer</span> <span style=\"background-color: rgba(233,30,99,0);  padding: 1px 5px; border: solid 3px ; border-color:  rgba(233,30,99,0); #EFEFEF\">'s camera work</span> <span style=\"background-color: rgba(233,30,99,0);  padding: 1px 5px; border: solid 3px ; border-color:  rgba(233,30,99,0); #EFEFEF\">is</span> <span style=\"background-color: rgba(9, 221, 55,  0.4112904369831085); padding: 1px 5px; border: solid 3px ; border-color: rgba(9, 221, 55,  1); #EFEFEF\">quite good</span> </div>"
      ],
      "text/plain": [
       "<IPython.core.display.HTML object>"
      ]
     },
     "metadata": {},
     "output_type": "display_data"
    },
    {
     "data": {
      "text/html": [
       "<br><br>"
      ],
      "text/plain": [
       "<IPython.core.display.HTML object>"
      ]
     },
     "metadata": {},
     "output_type": "display_data"
    },
    {
     "data": {
      "text/html": [
       "<div style='display: flex; width: 400px; flex-wrap: wrap'><span style=\"background-color: rgba(9, 221, 161,  0.9996241927146912); padding: 1px 5px; border: solid 3px ; border-color: rgba(9, 221, 161,  1); #EFEFEF\">The humor and sadness</span> <span style=\"background-color: rgba(233,30,99,0);  padding: 1px 5px; border: solid 3px ; border-color:  rgba(233,30,99,0); #EFEFEF\">are subtly blended</span> </div>"
      ],
      "text/plain": [
       "<IPython.core.display.HTML object>"
      ]
     },
     "metadata": {},
     "output_type": "display_data"
    },
    {
     "data": {
      "text/html": [
       "<br><br>"
      ],
      "text/plain": [
       "<IPython.core.display.HTML object>"
      ]
     },
     "metadata": {},
     "output_type": "display_data"
    },
    {
     "data": {
      "text/html": [
       "<div style='display: flex; width: 400px; flex-wrap: wrap'><span style=\"background-color: rgba(233,30,99,0);  padding: 1px 5px; border: solid 3px ; border-color:  rgba(233,30,99,0); #EFEFEF\">Idrissa Oudraogo</span> <span style=\"background-color: rgba(233,30,99,0);  padding: 1px 5px; border: solid 3px ; border-color:  rgba(233,30,99,0); #EFEFEF\">Burkina Faso</span> <span style=\"background-color: rgba(233,30,99,0);  padding: 1px 5px; border: solid 3px ; border-color:  rgba(233,30,99,0); #EFEFEF\">from</span> <span style=\"background-color: rgba(233,30,99,0);  padding: 1px 5px; border: solid 3px ; border-color:  rgba(233,30,99,0); #EFEFEF\">one</span> <span style=\"background-color: rgba(233,30,99,0);  padding: 1px 5px; border: solid 3px ; border-color:  rgba(233,30,99,0); #EFEFEF\">of</span> <span style=\"background-color: rgba(233,30,99,0);  padding: 1px 5px; border: solid 3px ; border-color:  rgba(233,30,99,0); #EFEFEF\">the poorest country</span> <span style=\"background-color: rgba(233,30,99,0);  padding: 1px 5px; border: solid 3px ; border-color:  rgba(233,30,99,0); #EFEFEF\">in</span> <span style=\"background-color: rgba(233,30,99,0);  padding: 1px 5px; border: solid 3px ; border-color:  rgba(233,30,99,0); #EFEFEF\">the world</span> <span style=\"background-color: rgba(9, 221, 161,  0.9997870922088623); padding: 1px 5px; border: solid 3px ; border-color: rgba(9, 221, 161,  1); #EFEFEF\">a tender and funny story</span> <span style=\"background-color: rgba(233,30,99,0);  padding: 1px 5px; border: solid 3px ; border-color:  rgba(233,30,99,0); #EFEFEF\">about</span> <span style=\"background-color: rgba(233,30,99,0);  padding: 1px 5px; border: solid 3px ; border-color:  rgba(233,30,99,0); #EFEFEF\">five boys</span> <span style=\"background-color: rgba(233,30,99,0);  padding: 1px 5px; border: solid 3px ; border-color:  rgba(233,30,99,0); #EFEFEF\">who</span> <span style=\"background-color: rgba(233,30,99,0);  padding: 1px 5px; border: solid 3px ; border-color:  rgba(233,30,99,0); #EFEFEF\">want to capture</span> <span style=\"background-color: rgba(233,30,99,0);  padding: 1px 5px; border: solid 3px ; border-color:  rgba(233,30,99,0); #EFEFEF\">Osama Bin Laden</span> </div>"
      ],
      "text/plain": [
       "<IPython.core.display.HTML object>"
      ]
     },
     "metadata": {},
     "output_type": "display_data"
    },
    {
     "data": {
      "text/html": [
       "<br><br>"
      ],
      "text/plain": [
       "<IPython.core.display.HTML object>"
      ]
     },
     "metadata": {},
     "output_type": "display_data"
    },
    {
     "name": "stdout",
     "output_type": "stream",
     "text": [
      "\n",
      "\n",
      "7 most important reviews for positive predicted label - concept2:\n",
      "\n",
      "\n"
     ]
    },
    {
     "data": {
      "text/html": [
       "<div style='display: flex; width: 400px; flex-wrap: wrap'><span style=\"background-color: rgba(9, 221, 161,  0.9996169805526733); padding: 1px 5px; border: solid 3px ; border-color: rgba(9, 221, 161,  1); #EFEFEF\">Especially fun</span> <span style=\"background-color: rgba(233,30,99,0);  padding: 1px 5px; border: solid 3px ; border-color:  rgba(233,30,99,0); #EFEFEF\">is</span> <span style=\"background-color: rgba(9, 221, 161,  0.7553045153617859); padding: 1px 5px; border: solid 3px ; border-color: rgba(9, 221, 161,  1); #EFEFEF\">the performance</span> <span style=\"background-color: rgba(233,30,99,0);  padding: 1px 5px; border: solid 3px ; border-color:  rgba(233,30,99,0); #EFEFEF\">by</span> <span style=\"background-color: rgba(9, 221, 161,  0.3152150809764862); padding: 1px 5px; border: solid 3px ; border-color: rgba(9, 221, 161,  1); #EFEFEF\">Cronenberg</span> <span style=\"background-color: rgba(233,30,99,0);  padding: 1px 5px; border: solid 3px ; border-color:  rgba(233,30,99,0); #EFEFEF\">as</span> <span style=\"background-color: rgba(233,30,99,0);  padding: 1px 5px; border: solid 3px ; border-color:  rgba(233,30,99,0); #EFEFEF\">the truly evil human doctor</span> <span style=\"background-color: rgba(233,30,99,0);  padding: 1px 5px; border: solid 3px ; border-color:  rgba(233,30,99,0); #EFEFEF\">who</span> <span style=\"background-color: rgba(233,30,99,0);  padding: 1px 5px; border: solid 3px ; border-color:  rgba(233,30,99,0); #EFEFEF\">is bent</span> <span style=\"background-color: rgba(233,30,99,0);  padding: 1px 5px; border: solid 3px ; border-color:  rgba(233,30,99,0); #EFEFEF\">on</span> <span style=\"background-color: rgba(233,30,99,0);  padding: 1px 5px; border: solid 3px ; border-color:  rgba(233,30,99,0); #EFEFEF\">destroying</span> <span style=\"background-color: rgba(233,30,99,0);  padding: 1px 5px; border: solid 3px ; border-color:  rgba(233,30,99,0); #EFEFEF\">the Nightbreed</span> </div>"
      ],
      "text/plain": [
       "<IPython.core.display.HTML object>"
      ]
     },
     "metadata": {},
     "output_type": "display_data"
    },
    {
     "data": {
      "text/html": [
       "<br><br>"
      ],
      "text/plain": [
       "<IPython.core.display.HTML object>"
      ]
     },
     "metadata": {},
     "output_type": "display_data"
    },
    {
     "name": "stdout",
     "output_type": "stream",
     "text": [
      "\n",
      "\n",
      "negative predicted reviews:\n",
      "\n",
      "\n",
      "\n",
      "\n",
      "7 most important reviews for negative predicted label - concept1:\n",
      "\n",
      "\n"
     ]
    },
    {
     "data": {
      "text/html": [
       "<div style='display: flex; width: 400px; flex-wrap: wrap'><span style=\"background-color: rgba(233,30,99,0);  padding: 1px 5px; border: solid 3px ; border-color:  rgba(233,30,99,0); #EFEFEF\">I</span> <span style=\"background-color: rgba(233,30,99,0);  padding: 1px 5px; border: solid 3px ; border-color:  rgba(233,30,99,0); #EFEFEF\">couldn't even follow</span> <span style=\"background-color: rgba(233,30,99,0);  padding: 1px 5px; border: solid 3px ; border-color:  rgba(233,30,99,0); #EFEFEF\">the plot</span> <span style=\"background-color: rgba(233,30,99,0);  padding: 1px 5px; border: solid 3px ; border-color:  rgba(233,30,99,0); #EFEFEF\">suffice</span> <span style=\"background-color: rgba(233,30,99,0);  padding: 1px 5px; border: solid 3px ; border-color:  rgba(233,30,99,0); #EFEFEF\">it</span> <span style=\"background-color: rgba(233,30,99,0);  padding: 1px 5px; border: solid 3px ; border-color:  rgba(233,30,99,0); #EFEFEF\">to say</span> <span style=\"background-color: rgba(233,30,99,0);  padding: 1px 5px; border: solid 3px ; border-color:  rgba(233,30,99,0); #EFEFEF\">this</span> <span style=\"background-color: rgba(233,30,99,0);  padding: 1px 5px; border: solid 3px ; border-color:  rgba(233,30,99,0); #EFEFEF\">is</span> <span style=\"background-color: rgba(221, 9, 34,  0.9995441436767578); padding: 1px 5px; border: solid 3px ; border-color: rgba(221, 9, 34,  1); #EFEFEF\">the absolute worst movie</span> <span style=\"background-color: rgba(233,30,99,0);  padding: 1px 5px; border: solid 3px ; border-color:  rgba(233,30,99,0); #EFEFEF\">I</span> <span style=\"background-color: rgba(233,30,99,0);  padding: 1px 5px; border: solid 3px ; border-color:  rgba(233,30,99,0); #EFEFEF\">have ever seen</span> <span style=\"background-color: rgba(233,30,99,0);  padding: 1px 5px; border: solid 3px ; border-color:  rgba(233,30,99,0); #EFEFEF\">in</span> <span style=\"background-color: rgba(233,30,99,0);  padding: 1px 5px; border: solid 3px ; border-color:  rgba(233,30,99,0); #EFEFEF\">my life</span> </div>"
      ],
      "text/plain": [
       "<IPython.core.display.HTML object>"
      ]
     },
     "metadata": {},
     "output_type": "display_data"
    },
    {
     "data": {
      "text/html": [
       "<br><br>"
      ],
      "text/plain": [
       "<IPython.core.display.HTML object>"
      ]
     },
     "metadata": {},
     "output_type": "display_data"
    },
    {
     "data": {
      "text/html": [
       "<div style='display: flex; width: 400px; flex-wrap: wrap'><span style=\"background-color: rgba(233,30,99,0);  padding: 1px 5px; border: solid 3px ; border-color:  rgba(233,30,99,0); #EFEFEF\">This</span> <span style=\"background-color: rgba(233,30,99,0);  padding: 1px 5px; border: solid 3px ; border-color:  rgba(233,30,99,0); #EFEFEF\">is</span> <span style=\"background-color: rgba(233,30,99,0);  padding: 1px 5px; border: solid 3px ; border-color:  rgba(233,30,99,0); #EFEFEF\">by</span> <span style=\"background-color: rgba(233,30,99,0);  padding: 1px 5px; border: solid 3px ; border-color:  rgba(233,30,99,0); #EFEFEF\">far</span> <span style=\"background-color: rgba(233,30,99,0);  padding: 1px 5px; border: solid 3px ; border-color:  rgba(233,30,99,0); #EFEFEF\">one</span> <span style=\"background-color: rgba(233,30,99,0);  padding: 1px 5px; border: solid 3px ; border-color:  rgba(233,30,99,0); #EFEFEF\">of</span> <span style=\"background-color: rgba(221, 9, 34,  0.9995656609535217); padding: 1px 5px; border: solid 3px ; border-color: rgba(221, 9, 34,  1); #EFEFEF\">the worst films</span> <span style=\"background-color: rgba(233,30,99,0);  padding: 1px 5px; border: solid 3px ; border-color:  rgba(233,30,99,0); #EFEFEF\">I</span> <span style=\"background-color: rgba(233,30,99,0);  padding: 1px 5px; border: solid 3px ; border-color:  rgba(233,30,99,0); #EFEFEF\">'ve ever paid</span> <span style=\"background-color: rgba(233,30,99,0);  padding: 1px 5px; border: solid 3px ; border-color:  rgba(233,30,99,0); #EFEFEF\">good money</span> <span style=\"background-color: rgba(233,30,99,0);  padding: 1px 5px; border: solid 3px ; border-color:  rgba(233,30,99,0); #EFEFEF\">to see</span> </div>"
      ],
      "text/plain": [
       "<IPython.core.display.HTML object>"
      ]
     },
     "metadata": {},
     "output_type": "display_data"
    },
    {
     "data": {
      "text/html": [
       "<br><br>"
      ],
      "text/plain": [
       "<IPython.core.display.HTML object>"
      ]
     },
     "metadata": {},
     "output_type": "display_data"
    },
    {
     "data": {
      "text/html": [
       "<div style='display: flex; width: 400px; flex-wrap: wrap'><span style=\"background-color: rgba(233,30,99,0);  padding: 1px 5px; border: solid 3px ; border-color:  rgba(233,30,99,0); #EFEFEF\">Words</span> <span style=\"background-color: rgba(233,30,99,0);  padding: 1px 5px; border: solid 3px ; border-color:  rgba(233,30,99,0); #EFEFEF\">cannot begin to describe</span> <span style=\"background-color: rgba(221, 9, 34,  0.46608179807662964); padding: 1px 5px; border: solid 3px ; border-color: rgba(221, 9, 34,  1); #EFEFEF\">how blandly terrible</span> <span style=\"background-color: rgba(233,30,99,0);  padding: 1px 5px; border: solid 3px ; border-color:  rgba(233,30,99,0); #EFEFEF\">this movie</span> <span style=\"background-color: rgba(233,30,99,0);  padding: 1px 5px; border: solid 3px ; border-color:  rgba(233,30,99,0); #EFEFEF\">is</span> </div>"
      ],
      "text/plain": [
       "<IPython.core.display.HTML object>"
      ]
     },
     "metadata": {},
     "output_type": "display_data"
    },
    {
     "data": {
      "text/html": [
       "<br><br>"
      ],
      "text/plain": [
       "<IPython.core.display.HTML object>"
      ]
     },
     "metadata": {},
     "output_type": "display_data"
    },
    {
     "data": {
      "text/html": [
       "<div style='display: flex; width: 400px; flex-wrap: wrap'><span style=\"background-color: rgba(233,30,99,0);  padding: 1px 5px; border: solid 3px ; border-color:  rgba(233,30,99,0); #EFEFEF\">It</span> <span style=\"background-color: rgba(233,30,99,0);  padding: 1px 5px; border: solid 3px ; border-color:  rgba(233,30,99,0); #EFEFEF\">'s</span> <span style=\"background-color: rgba(221, 9, 140, 0.20755769312381744); padding: 1px 5px; border: solid 3px ; border-color: rgba(221, 9, 140, 1); #EFEFEF\">pointless</span> </div>"
      ],
      "text/plain": [
       "<IPython.core.display.HTML object>"
      ]
     },
     "metadata": {},
     "output_type": "display_data"
    },
    {
     "data": {
      "text/html": [
       "<br><br>"
      ],
      "text/plain": [
       "<IPython.core.display.HTML object>"
      ]
     },
     "metadata": {},
     "output_type": "display_data"
    },
    {
     "data": {
      "text/html": [
       "<div style='display: flex; width: 400px; flex-wrap: wrap'><span style=\"background-color: rgba(233,30,99,0);  padding: 1px 5px; border: solid 3px ; border-color:  rgba(233,30,99,0); #EFEFEF\">Plot</span> <span style=\"background-color: rgba(233,30,99,0);  padding: 1px 5px; border: solid 3px ; border-color:  rgba(233,30,99,0); #EFEFEF\">is</span> <span style=\"background-color: rgba(221, 9, 34,  0.5812024474143982); padding: 1px 5px; border: solid 3px ; border-color: rgba(221, 9, 34,  1); #EFEFEF\">unimportant</span> </div>"
      ],
      "text/plain": [
       "<IPython.core.display.HTML object>"
      ]
     },
     "metadata": {},
     "output_type": "display_data"
    },
    {
     "data": {
      "text/html": [
       "<br><br>"
      ],
      "text/plain": [
       "<IPython.core.display.HTML object>"
      ]
     },
     "metadata": {},
     "output_type": "display_data"
    },
    {
     "data": {
      "text/html": [
       "<div style='display: flex; width: 400px; flex-wrap: wrap'><span style=\"background-color: rgba(221, 9, 140, 0.999481201171875); padding: 1px 5px; border: solid 3px ; border-color: rgba(221, 9, 140, 1); #EFEFEF\">About the only good thing</span> <span style=\"background-color: rgba(221, 9, 140, 0.34559276700019836); padding: 1px 5px; border: solid 3px ; border-color: rgba(221, 9, 140, 1); #EFEFEF\">about</span> <span style=\"background-color: rgba(221, 9, 140, 0.200326606631279); padding: 1px 5px; border: solid 3px ; border-color: rgba(221, 9, 140, 1); #EFEFEF\">this</span> <span style=\"background-color: rgba(233,30,99,0);  padding: 1px 5px; border: solid 3px ; border-color:  rgba(233,30,99,0); #EFEFEF\">is</span> <span style=\"background-color: rgba(221, 9, 140, 0.5182679295539856); padding: 1px 5px; border: solid 3px ; border-color: rgba(221, 9, 140, 1); #EFEFEF\">the setting</span> </div>"
      ],
      "text/plain": [
       "<IPython.core.display.HTML object>"
      ]
     },
     "metadata": {},
     "output_type": "display_data"
    },
    {
     "data": {
      "text/html": [
       "<br><br>"
      ],
      "text/plain": [
       "<IPython.core.display.HTML object>"
      ]
     },
     "metadata": {},
     "output_type": "display_data"
    },
    {
     "data": {
      "text/html": [
       "<div style='display: flex; width: 400px; flex-wrap: wrap'><span style=\"background-color: rgba(233,30,99,0);  padding: 1px 5px; border: solid 3px ; border-color:  rgba(233,30,99,0); #EFEFEF\">It</span> <span style=\"background-color: rgba(233,30,99,0);  padding: 1px 5px; border: solid 3px ; border-color:  rgba(233,30,99,0); #EFEFEF\">'s</span> <span style=\"background-color: rgba(221, 9, 140, 0.8000107407569885); padding: 1px 5px; border: solid 3px ; border-color: rgba(221, 9, 140, 1); #EFEFEF\">too bad</span> <span style=\"background-color: rgba(233,30,99,0);  padding: 1px 5px; border: solid 3px ; border-color:  rgba(233,30,99,0); #EFEFEF\">because</span> <span style=\"background-color: rgba(221, 9, 140, 0.2976466119289398); padding: 1px 5px; border: solid 3px ; border-color: rgba(221, 9, 140, 1); #EFEFEF\">this film</span> <span style=\"background-color: rgba(221, 9, 140, 0.302958220243454); padding: 1px 5px; border: solid 3px ; border-color: rgba(221, 9, 140, 1); #EFEFEF\">had</span> <span style=\"background-color: rgba(221, 9, 140, 0.2735384702682495); padding: 1px 5px; border: solid 3px ; border-color: rgba(221, 9, 140, 1); #EFEFEF\">great production values</span> <span style=\"background-color: rgba(233,30,99,0);  padding: 1px 5px; border: solid 3px ; border-color:  rgba(233,30,99,0); #EFEFEF\">a good cast</span> <span style=\"background-color: rgba(221, 9, 140, 0.21621188521385193); padding: 1px 5px; border: solid 3px ; border-color: rgba(221, 9, 140, 1); #EFEFEF\">is</span> <span style=\"background-color: rgba(221, 9, 140, 0.3220551908016205); padding: 1px 5px; border: solid 3px ; border-color: rgba(221, 9, 140, 1); #EFEFEF\">the idea</span> <span style=\"background-color: rgba(233,30,99,0);  padding: 1px 5px; border: solid 3px ; border-color:  rgba(233,30,99,0); #EFEFEF\">of</span> <span style=\"background-color: rgba(221, 9, 140, 0.3731307089328766); padding: 1px 5px; border: solid 3px ; border-color: rgba(221, 9, 140, 1); #EFEFEF\">turning</span> <span style=\"background-color: rgba(233,30,99,0);  padding: 1px 5px; border: solid 3px ; border-color:  rgba(233,30,99,0); #EFEFEF\">a book</span> <span style=\"background-color: rgba(233,30,99,0);  padding: 1px 5px; border: solid 3px ; border-color:  rgba(233,30,99,0); #EFEFEF\">into</span> <span style=\"background-color: rgba(233,30,99,0);  padding: 1px 5px; border: solid 3px ; border-color:  rgba(233,30,99,0); #EFEFEF\">a movie</span> <span style=\"background-color: rgba(233,30,99,0);  padding: 1px 5px; border: solid 3px ; border-color:  rgba(233,30,99,0); #EFEFEF\">TV or film</span> <span style=\"background-color: rgba(233,30,99,0);  padding: 1px 5px; border: solid 3px ; border-color:  rgba(233,30,99,0); #EFEFEF\">to get</span> <span style=\"background-color: rgba(233,30,99,0);  padding: 1px 5px; border: solid 3px ; border-color:  rgba(233,30,99,0); #EFEFEF\">the people</span> <span style=\"background-color: rgba(233,30,99,0);  padding: 1px 5px; border: solid 3px ; border-color:  rgba(233,30,99,0); #EFEFEF\">who</span> <span style=\"background-color: rgba(233,30,99,0);  padding: 1px 5px; border: solid 3px ; border-color:  rgba(233,30,99,0); #EFEFEF\">read</span> <span style=\"background-color: rgba(233,30,99,0);  padding: 1px 5px; border: solid 3px ; border-color:  rgba(233,30,99,0); #EFEFEF\">the book</span> <span style=\"background-color: rgba(233,30,99,0);  padding: 1px 5px; border: solid 3px ; border-color:  rgba(233,30,99,0); #EFEFEF\">to be</span> <span style=\"background-color: rgba(233,30,99,0);  padding: 1px 5px; border: solid 3px ; border-color:  rgba(233,30,99,0); #EFEFEF\">part</span> <span style=\"background-color: rgba(233,30,99,0);  padding: 1px 5px; border: solid 3px ; border-color:  rgba(233,30,99,0); #EFEFEF\">of</span> <span style=\"background-color: rgba(233,30,99,0);  padding: 1px 5px; border: solid 3px ; border-color:  rgba(233,30,99,0); #EFEFEF\">the audience</span> </div>"
      ],
      "text/plain": [
       "<IPython.core.display.HTML object>"
      ]
     },
     "metadata": {},
     "output_type": "display_data"
    },
    {
     "data": {
      "text/html": [
       "<br><br>"
      ],
      "text/plain": [
       "<IPython.core.display.HTML object>"
      ]
     },
     "metadata": {},
     "output_type": "display_data"
    }
   ],
   "source": [
    "plot_reviews_exp(segments_pos, u_segments_pos, factorization_pos, global_importance_pos,\n",
    "                 segments_neg, u_segments_neg, factorization_neg, global_importance_neg,\n",
    "                 custom_samples=True, samples_to_test=[reviews_neg, reviews_pos])"
   ]
  },
  {
   "cell_type": "markdown",
   "id": "3cf4cc1e-34b3-42d2-bd9c-6ba3bc87a3b1",
   "metadata": {},
   "source": [
    "### AlBERT"
   ]
  },
  {
   "cell_type": "code",
   "execution_count": 7,
   "id": "1e49c3b3-ab45-4dea-bdf8-ce0e6b8193c6",
   "metadata": {
    "tags": []
   },
   "outputs": [
    {
     "name": "stderr",
     "output_type": "stream",
     "text": [
      "Some weights of CustomAlbertForSequenceClassification were not initialized from the model checkpoint at Ibrahim-Alam/finetuning-albert-base-v2-on-imdb and are newly initialized: ['classifier.dense.weight', 'classifier.out_proj.weight', 'classifier.dense.bias', 'classifier.out_proj.bias']\n",
      "You should probably TRAIN this model on a down-stream task to be able to use it for predictions and inference.\n"
     ]
    }
   ],
   "source": [
    "# Load the model and its tokenizer\n",
    "\n",
    "from transformers import AlbertTokenizerFast\n",
    "from cockatiel import CustomAlbertForSequenceClassification, batch_predict, batcher, tokenize\n",
    "\n",
    "tokenizer = AlbertTokenizerFast.from_pretrained(\"Ibrahim-Alam/finetuning-albert-base-v2-on-imdb\")\n",
    "model = CustomAlbertForSequenceClassification.from_pretrained(\"Ibrahim-Alam/finetuning-albert-base-v2-on-imdb\").to(device)\n",
    "\n",
    "# Put model into evaluation mode\n",
    "model = model.eval()\n",
    "\n",
    "\n",
    "\n",
    "import pickle\n",
    "\n",
    "# Segments and global importances for positive class\n",
    "\n",
    "segments_pos = pickle.load(open(\"../Tez/data/for_albert/segments_pos.pkl\",'rb'))\n",
    "u_segments_pos = pickle.load(open(\"../Tez/data/for_albert/u_segments_pos.pkl\",'rb'))\n",
    "factorization_pos = pickle.load(open(\"../Tez/data/for_albert/factorization_pos.pkl\",'rb'))\n",
    "global_importance_pos = pickle.load(open(\"../Tez/data/for_albert/global_importance_pos.pkl\",'rb'))\n",
    "\n",
    "# Segments and global importances for negative class\n",
    "\n",
    "segments_neg = pickle.load(open(\"../Tez/data/for_albert/segments_neg.pkl\",'rb'))\n",
    "u_segments_neg = pickle.load(open(\"../Tez/data/for_albert/u_segments_neg.pkl\",'rb'))\n",
    "factorization_neg = pickle.load(open(\"../Tez/data/for_albert/factorization_neg.pkl\",'rb'))\n",
    "global_importance_neg = pickle.load(open(\"../Tez/data/for_albert/global_importance_neg.pkl\",'rb'))"
   ]
  },
  {
   "cell_type": "code",
   "execution_count": 8,
   "id": "d757cee1-7260-41bd-9671-bfab60de38ca",
   "metadata": {
    "collapsed": true,
    "jupyter": {
     "outputs_hidden": true
    },
    "tags": []
   },
   "outputs": [
    {
     "data": {
      "image/png": "[encoded data removed]",
      "text/plain": [
       "<Figure size 2200x500 with 2 Axes>"
      ]
     },
     "metadata": {},
     "output_type": "display_data"
    }
   ],
   "source": [
    "plot_glob_importances(global_importance_pos, global_importance_neg)"
   ]
  },
  {
   "cell_type": "code",
   "execution_count": 9,
   "id": "8ccf9e4f-d22b-469f-ac79-a4e64cec394c",
   "metadata": {
    "collapsed": true,
    "jupyter": {
     "outputs_hidden": true
    },
    "tags": []
   },
   "outputs": [
    {
     "data": {
      "text/html": [
       "<div style='display: flex; width: 400px; flex-wrap: wrap'><span style=\"background-color: rgba(9, 221, 55,  0.5); padding: 1px 5px; border: solid 3px ; border-color: rgba(9, 221, 55,  1); #EFEFEF\">Positive label: concept1 </span> <span style=\"background-color: rgba(9, 221, 161,  0.5); padding: 1px 5px; border: solid 3px ; border-color: rgba(9, 221, 161,  1); #EFEFEF\">Positive label: concept2 </span> <span style=\"background-color: rgba(221, 9, 34,  0.5); padding: 1px 5px; border: solid 3px ; border-color: rgba(221, 9, 34,  1); #EFEFEF\">Negative label: concept1 </span> <span style=\"background-color: rgba(221, 9, 140, 0.5); padding: 1px 5px; border: solid 3px ; border-color: rgba(221, 9, 140, 1); #EFEFEF\">Negative label: concept2 </span> <span style=\"background-color: rgba(221, 90, 9,  0.5); padding: 1px 5px; border: solid 3px ; border-color: rgba(221, 90, 9,  1); #EFEFEF\">Negative label: concept3 </span> </div>"
      ],
      "text/plain": [
       "<IPython.core.display.HTML object>"
      ]
     },
     "metadata": {},
     "output_type": "display_data"
    },
    {
     "data": {
      "text/html": [
       "<br><br>"
      ],
      "text/plain": [
       "<IPython.core.display.HTML object>"
      ]
     },
     "metadata": {},
     "output_type": "display_data"
    },
    {
     "name": "stdout",
     "output_type": "stream",
     "text": [
      "positive predicted reviews:\n",
      "\n",
      "\n",
      "\n",
      "\n",
      "10 most important reviews for positive predicted label - concept1:\n",
      "\n",
      "\n"
     ]
    },
    {
     "data": {
      "text/html": [
       "<div style='display: flex; width: 400px; flex-wrap: wrap'><span style=\"background-color: rgba(221, 90, 9,  0.9977062344551086); padding: 1px 5px; border: solid 3px ; border-color: rgba(221, 90, 9,  1); #EFEFEF\">Unfortunately</span> <span style=\"background-color: rgba(221, 90, 9,  0.6973463296890259); padding: 1px 5px; border: solid 3px ; border-color: rgba(221, 90, 9,  1); #EFEFEF\">for</span> <span style=\"background-color: rgba(221, 90, 9,  0.6363722681999207); padding: 1px 5px; border: solid 3px ; border-color: rgba(221, 90, 9,  1); #EFEFEF\">Mercury</span> <span style=\"background-color: rgba(221, 90, 9,  0.6005855202674866); padding: 1px 5px; border: solid 3px ; border-color: rgba(221, 90, 9,  1); #EFEFEF\">he</span> <span style=\"background-color: rgba(221, 90, 9,  0.583339273929596); padding: 1px 5px; border: solid 3px ; border-color: rgba(221, 90, 9,  1); #EFEFEF\">did n't get</span> <span style=\"background-color: rgba(221, 90, 9,  0.6822900176048279); padding: 1px 5px; border: solid 3px ; border-color: rgba(221, 90, 9,  1); #EFEFEF\">his hands</span> <span style=\"background-color: rgba(221, 90, 9,  0.7567490935325623); padding: 1px 5px; border: solid 3px ; border-color: rgba(221, 90, 9,  1); #EFEFEF\">up</span> <span style=\"background-color: rgba(221, 90, 9,  0.42707037925720215); padding: 1px 5px; border: solid 3px ; border-color: rgba(221, 90, 9,  1); #EFEFEF\">to protect</span> <span style=\"background-color: rgba(221, 90, 9,  0.8858273029327393); padding: 1px 5px; border: solid 3px ; border-color: rgba(221, 90, 9,  1); #EFEFEF\">his face</span> <span style=\"background-color: rgba(221, 90, 9,  0.7504405379295349); padding: 1px 5px; border: solid 3px ; border-color: rgba(221, 90, 9,  1); #EFEFEF\">took</span> <span style=\"background-color: rgba(221, 90, 9,  0.6428841948509216); padding: 1px 5px; border: solid 3px ; border-color: rgba(221, 90, 9,  1); #EFEFEF\">the ladder</span> <span style=\"background-color: rgba(221, 90, 9,  0.6979511976242065); padding: 1px 5px; border: solid 3px ; border-color: rgba(221, 90, 9,  1); #EFEFEF\">full force</span> <span style=\"background-color: rgba(221, 90, 9,  0.6225399971008301); padding: 1px 5px; border: solid 3px ; border-color: rgba(221, 90, 9,  1); #EFEFEF\">in</span> <span style=\"background-color: rgba(233,30,99,0);  padding: 1px 5px; border: solid 3px ; border-color:  rgba(233,30,99,0); #EFEFEF\">the nose and left eye</span> </div>"
      ],
      "text/plain": [
       "<IPython.core.display.HTML object>"
      ]
     },
     "metadata": {},
     "output_type": "display_data"
    },
    {
     "data": {
      "text/html": [
       "<br><br>"
      ],
      "text/plain": [
       "<IPython.core.display.HTML object>"
      ]
     },
     "metadata": {},
     "output_type": "display_data"
    },
    {
     "data": {
      "text/html": [
       "<div style='display: flex; width: 400px; flex-wrap: wrap'><span style=\"background-color: rgba(221, 90, 9,  0.4997738301753998); padding: 1px 5px; border: solid 3px ; border-color: rgba(221, 90, 9,  1); #EFEFEF\">The first attempt</span> <span style=\"background-color: rgba(233,30,99,0);  padding: 1px 5px; border: solid 3px ; border-color:  rgba(233,30,99,0); #EFEFEF\">involving</span> <span style=\"background-color: rgba(233,30,99,0);  padding: 1px 5px; border: solid 3px ; border-color:  rgba(233,30,99,0); #EFEFEF\">only the Strelzyks</span> <span style=\"background-color: rgba(233,30,99,0);  padding: 1px 5px; border: solid 3px ; border-color:  rgba(233,30,99,0); #EFEFEF\">ends</span> <span style=\"background-color: rgba(233,30,99,0);  padding: 1px 5px; border: solid 3px ; border-color:  rgba(233,30,99,0); #EFEFEF\">in</span> <span style=\"background-color: rgba(233,30,99,0);  padding: 1px 5px; border: solid 3px ; border-color:  rgba(233,30,99,0); #EFEFEF\">failure</span> <span style=\"background-color: rgba(221, 90, 9,  0.5855932831764221); padding: 1px 5px; border: solid 3px ; border-color: rgba(221, 90, 9,  1); #EFEFEF\">when</span> <span style=\"background-color: rgba(221, 90, 9,  0.21439966559410095); padding: 1px 5px; border: solid 3px ; border-color: rgba(221, 90, 9,  1); #EFEFEF\">the balloon</span> <span style=\"background-color: rgba(221, 90, 9,  0.34771448373794556); padding: 1px 5px; border: solid 3px ; border-color: rgba(221, 90, 9,  1); #EFEFEF\">crashes</span> <span style=\"background-color: rgba(233,30,99,0);  padding: 1px 5px; border: solid 3px ; border-color:  rgba(233,30,99,0); #EFEFEF\">just a few yards</span> <span style=\"background-color: rgba(221, 90, 9,  0.4271479845046997); padding: 1px 5px; border: solid 3px ; border-color: rgba(221, 90, 9,  1); #EFEFEF\">from</span> <span style=\"background-color: rgba(221, 90, 9,  0.9972681403160095); padding: 1px 5px; border: solid 3px ; border-color: rgba(221, 90, 9,  1); #EFEFEF\">the border</span> </div>"
      ],
      "text/plain": [
       "<IPython.core.display.HTML object>"
      ]
     },
     "metadata": {},
     "output_type": "display_data"
    },
    {
     "data": {
      "text/html": [
       "<br><br>"
      ],
      "text/plain": [
       "<IPython.core.display.HTML object>"
      ]
     },
     "metadata": {},
     "output_type": "display_data"
    },
    {
     "data": {
      "text/html": [
       "<div style='display: flex; width: 400px; flex-wrap: wrap'><span style=\"background-color: rgba(221, 90, 9,  0.3899834156036377); padding: 1px 5px; border: solid 3px ; border-color: rgba(221, 90, 9,  1); #EFEFEF\">With</span> <span style=\"background-color: rgba(221, 90, 9,  0.3873136043548584); padding: 1px 5px; border: solid 3px ; border-color: rgba(221, 90, 9,  1); #EFEFEF\">Jimmy</span> <span style=\"background-color: rgba(221, 90, 9,  0.7058956623077393); padding: 1px 5px; border: solid 3px ; border-color: rgba(221, 90, 9,  1); #EFEFEF\">'s unit</span> <span style=\"background-color: rgba(221, 90, 9,  0.6331571340560913); padding: 1px 5px; border: solid 3px ; border-color: rgba(221, 90, 9,  1); #EFEFEF\">pinned</span> <span style=\"background-color: rgba(221, 90, 9,  0.7811536192893982); padding: 1px 5px; border: solid 3px ; border-color: rgba(221, 90, 9,  1); #EFEFEF\">down</span> <span style=\"background-color: rgba(221, 90, 9,  0.8088451623916626); padding: 1px 5px; border: solid 3px ; border-color: rgba(221, 90, 9,  1); #EFEFEF\">by</span> <span style=\"background-color: rgba(233,30,99,0);  padding: 1px 5px; border: solid 3px ; border-color:  rgba(233,30,99,0); #EFEFEF\">a German machine gun nest</span> <span style=\"background-color: rgba(233,30,99,0);  padding: 1px 5px; border: solid 3px ; border-color:  rgba(233,30,99,0); #EFEFEF\">he</span> <span style=\"background-color: rgba(221, 90, 9,  0.32440194487571716); padding: 1px 5px; border: solid 3px ; border-color: rgba(221, 90, 9,  1); #EFEFEF\">single handedly put</span> <span style=\"background-color: rgba(221, 90, 9,  0.5450598001480103); padding: 1px 5px; border: solid 3px ; border-color: rgba(221, 90, 9,  1); #EFEFEF\">it</span> <span style=\"background-color: rgba(221, 90, 9,  0.9938519597053528); padding: 1px 5px; border: solid 3px ; border-color: rgba(221, 90, 9,  1); #EFEFEF\">out</span> <span style=\"background-color: rgba(221, 90, 9,  0.29043400287628174); padding: 1px 5px; border: solid 3px ; border-color: rgba(221, 90, 9,  1); #EFEFEF\">of</span> <span style=\"background-color: rgba(221, 90, 9,  0.4889985918998718); padding: 1px 5px; border: solid 3px ; border-color: rgba(221, 90, 9,  1); #EFEFEF\">commission</span> <span style=\"background-color: rgba(221, 90, 9,  0.4506675899028778); padding: 1px 5px; border: solid 3px ; border-color: rgba(221, 90, 9,  1); #EFEFEF\">picking</span> <span style=\"background-color: rgba(221, 90, 9,  0.753736138343811); padding: 1px 5px; border: solid 3px ; border-color: rgba(221, 90, 9,  1); #EFEFEF\">off</span> <span style=\"background-color: rgba(221, 90, 9,  0.352935254573822); padding: 1px 5px; border: solid 3px ; border-color: rgba(221, 90, 9,  1); #EFEFEF\">some half dozen German soldiers</span> <span style=\"background-color: rgba(221, 90, 9,  0.2335405945777893); padding: 1px 5px; border: solid 3px ; border-color: rgba(221, 90, 9,  1); #EFEFEF\">from</span> <span style=\"background-color: rgba(221, 90, 9,  0.9506965279579163); padding: 1px 5px; border: solid 3px ; border-color: rgba(221, 90, 9,  1); #EFEFEF\">the safety</span> <span style=\"background-color: rgba(221, 90, 9,  0.6457108855247498); padding: 1px 5px; border: solid 3px ; border-color: rgba(221, 90, 9,  1); #EFEFEF\">of</span> <span style=\"background-color: rgba(221, 90, 9,  0.5585476756095886); padding: 1px 5px; border: solid 3px ; border-color: rgba(221, 90, 9,  1); #EFEFEF\">a nearby church steeple</span> </div>"
      ],
      "text/plain": [
       "<IPython.core.display.HTML object>"
      ]
     },
     "metadata": {},
     "output_type": "display_data"
    },
    {
     "data": {
      "text/html": [
       "<br><br>"
      ],
      "text/plain": [
       "<IPython.core.display.HTML object>"
      ]
     },
     "metadata": {},
     "output_type": "display_data"
    },
    {
     "data": {
      "text/html": [
       "<div style='display: flex; width: 400px; flex-wrap: wrap'><span style=\"background-color: rgba(221, 90, 9,  0.7277069091796875); padding: 1px 5px; border: solid 3px ; border-color: rgba(221, 90, 9,  1); #EFEFEF\">The Sea Tiger</span> <span style=\"background-color: rgba(9, 221, 55,  0.20840854942798615); padding: 1px 5px; border: solid 3px ; border-color: rgba(9, 221, 55,  1); #EFEFEF\">lets loose</span> <span style=\"background-color: rgba(221, 90, 9,  0.9611870050430298); padding: 1px 5px; border: solid 3px ; border-color: rgba(221, 90, 9,  1); #EFEFEF\">six torpedoes</span> <span style=\"background-color: rgba(9, 221, 55,  0.22073222696781158); padding: 1px 5px; border: solid 3px ; border-color: rgba(9, 221, 55,  1); #EFEFEF\">has to dive</span> <span style=\"background-color: rgba(221, 90, 9,  0.5613203644752502); padding: 1px 5px; border: solid 3px ; border-color: rgba(221, 90, 9,  1); #EFEFEF\">knowing</span> <span style=\"background-color: rgba(9, 221, 55,  0.22073222696781158); padding: 1px 5px; border: solid 3px ; border-color: rgba(9, 221, 55,  1); #EFEFEF\">if</span> <span style=\"background-color: rgba(9, 221, 55,  0.22073222696781158); padding: 1px 5px; border: solid 3px ; border-color: rgba(9, 221, 55,  1); #EFEFEF\">it</span> <span style=\"background-color: rgba(9, 221, 55,  0.22073222696781158); padding: 1px 5px; border: solid 3px ; border-color: rgba(9, 221, 55,  1); #EFEFEF\">had done</span> <span style=\"background-color: rgba(221, 90, 9,  0.3516044318675995); padding: 1px 5px; border: solid 3px ; border-color: rgba(221, 90, 9,  1); #EFEFEF\">its job</span> </div>"
      ],
      "text/plain": [
       "<IPython.core.display.HTML object>"
      ]
     },
     "metadata": {},
     "output_type": "display_data"
    },
    {
     "data": {
      "text/html": [
       "<br><br>"
      ],
      "text/plain": [
       "<IPython.core.display.HTML object>"
      ]
     },
     "metadata": {},
     "output_type": "display_data"
    },
    {
     "data": {
      "text/html": [
       "<div style='display: flex; width: 400px; flex-wrap: wrap'><span style=\"background-color: rgba(233,30,99,0);  padding: 1px 5px; border: solid 3px ; border-color:  rgba(233,30,99,0); #EFEFEF\">Along</span> <span style=\"background-color: rgba(233,30,99,0);  padding: 1px 5px; border: solid 3px ; border-color:  rgba(233,30,99,0); #EFEFEF\">the way</span> <span style=\"background-color: rgba(233,30,99,0);  padding: 1px 5px; border: solid 3px ; border-color:  rgba(233,30,99,0); #EFEFEF\">they</span> <span style=\"background-color: rgba(233,30,99,0);  padding: 1px 5px; border: solid 3px ; border-color:  rgba(233,30,99,0); #EFEFEF\">stop</span> <span style=\"background-color: rgba(233,30,99,0);  padding: 1px 5px; border: solid 3px ; border-color:  rgba(233,30,99,0); #EFEFEF\">at</span> <span style=\"background-color: rgba(233,30,99,0);  padding: 1px 5px; border: solid 3px ; border-color:  rgba(233,30,99,0); #EFEFEF\">a Cantina</span> <span style=\"background-color: rgba(233,30,99,0);  padding: 1px 5px; border: solid 3px ; border-color:  rgba(233,30,99,0); #EFEFEF\">get</span> <span style=\"background-color: rgba(233,30,99,0);  padding: 1px 5px; border: solid 3px ; border-color:  rgba(233,30,99,0); #EFEFEF\">drunk</span> <span style=\"background-color: rgba(233,30,99,0);  padding: 1px 5px; border: solid 3px ; border-color:  rgba(233,30,99,0); #EFEFEF\">smoke</span> <span style=\"background-color: rgba(233,30,99,0);  padding: 1px 5px; border: solid 3px ; border-color:  rgba(233,30,99,0); #EFEFEF\">joints</span> <span style=\"background-color: rgba(233,30,99,0);  padding: 1px 5px; border: solid 3px ; border-color:  rgba(233,30,99,0); #EFEFEF\">the sight Robert Mike Brady Reed</span> <span style=\"background-color: rgba(233,30,99,0);  padding: 1px 5px; border: solid 3px ; border-color:  rgba(233,30,99,0); #EFEFEF\">smoke</span> <span style=\"background-color: rgba(233,30,99,0);  padding: 1px 5px; border: solid 3px ; border-color:  rgba(233,30,99,0); #EFEFEF\">a joint</span> <span style=\"background-color: rgba(233,30,99,0);  padding: 1px 5px; border: solid 3px ; border-color:  rgba(233,30,99,0); #EFEFEF\">is</span> <span style=\"background-color: rgba(233,30,99,0);  padding: 1px 5px; border: solid 3px ; border-color:  rgba(233,30,99,0); #EFEFEF\">an image</span> <span style=\"background-color: rgba(233,30,99,0);  padding: 1px 5px; border: solid 3px ; border-color:  rgba(233,30,99,0); #EFEFEF\">you</span> <span style=\"background-color: rgba(233,30,99,0);  padding: 1px 5px; border: solid 3px ; border-color:  rgba(233,30,99,0); #EFEFEF\">won't soon forget</span> <span style=\"background-color: rgba(233,30,99,0);  padding: 1px 5px; border: solid 3px ; border-color:  rgba(233,30,99,0); #EFEFEF\">start</span> <span style=\"background-color: rgba(233,30,99,0);  padding: 1px 5px; border: solid 3px ; border-color:  rgba(233,30,99,0); #EFEFEF\">a fight</span> <span style=\"background-color: rgba(233,30,99,0);  padding: 1px 5px; border: solid 3px ; border-color:  rgba(233,30,99,0); #EFEFEF\">attempt</span> <span style=\"background-color: rgba(233,30,99,0);  padding: 1px 5px; border: solid 3px ; border-color:  rgba(233,30,99,0); #EFEFEF\">rape</span> <span style=\"background-color: rgba(233,30,99,0);  padding: 1px 5px; border: solid 3px ; border-color:  rgba(233,30,99,0); #EFEFEF\">just act</span> <span style=\"background-color: rgba(233,30,99,0);  padding: 1px 5px; border: solid 3px ; border-color:  rgba(233,30,99,0); #EFEFEF\">like</span> <span style=\"background-color: rgba(233,30,99,0);  padding: 1px 5px; border: solid 3px ; border-color:  rgba(233,30,99,0); #EFEFEF\">a bunch</span> <span style=\"background-color: rgba(233,30,99,0);  padding: 1px 5px; border: solid 3px ; border-color:  rgba(233,30,99,0); #EFEFEF\">of</span> <span style=\"background-color: rgba(233,30,99,0);  padding: 1px 5px; border: solid 3px ; border-color:  rgba(233,30,99,0); #EFEFEF\">suburban middle class jack offs</span> </div>"
      ],
      "text/plain": [
       "<IPython.core.display.HTML object>"
      ]
     },
     "metadata": {},
     "output_type": "display_data"
    },
    {
     "data": {
      "text/html": [
       "<br><br>"
      ],
      "text/plain": [
       "<IPython.core.display.HTML object>"
      ]
     },
     "metadata": {},
     "output_type": "display_data"
    },
    {
     "data": {
      "text/html": [
       "<div style='display: flex; width: 400px; flex-wrap: wrap'><span style=\"background-color: rgba(221, 90, 9,  0.8155645728111267); padding: 1px 5px; border: solid 3px ; border-color: rgba(221, 90, 9,  1); #EFEFEF\">Van Diem</span> <span style=\"background-color: rgba(221, 90, 9,  0.7216042280197144); padding: 1px 5px; border: solid 3px ; border-color: rgba(221, 90, 9,  1); #EFEFEF\">is</span> <span style=\"background-color: rgba(221, 90, 9,  0.9855776429176331); padding: 1px 5px; border: solid 3px ; border-color: rgba(221, 90, 9,  1); #EFEFEF\">injured</span> <span style=\"background-color: rgba(221, 90, 9,  0.7153798341751099); padding: 1px 5px; border: solid 3px ; border-color: rgba(221, 90, 9,  1); #EFEFEF\">apparently</span> <span style=\"background-color: rgba(221, 90, 9,  0.6014530062675476); padding: 1px 5px; border: solid 3px ; border-color: rgba(221, 90, 9,  1); #EFEFEF\">he</span> <span style=\"background-color: rgba(221, 90, 9,  0.9855776429176331); padding: 1px 5px; border: solid 3px ; border-color: rgba(221, 90, 9,  1); #EFEFEF\">slid</span> <span style=\"background-color: rgba(221, 90, 9,  0.9855776429176331); padding: 1px 5px; border: solid 3px ; border-color: rgba(221, 90, 9,  1); #EFEFEF\">across</span> <span style=\"background-color: rgba(221, 90, 9,  0.9855776429176331); padding: 1px 5px; border: solid 3px ; border-color: rgba(221, 90, 9,  1); #EFEFEF\">the seat</span> <span style=\"background-color: rgba(221, 90, 9,  0.9855776429176331); padding: 1px 5px; border: solid 3px ; border-color: rgba(221, 90, 9,  1); #EFEFEF\">bumped</span> <span style=\"background-color: rgba(221, 90, 9,  0.9855776429176331); padding: 1px 5px; border: solid 3px ; border-color: rgba(221, 90, 9,  1); #EFEFEF\">his hip</span> <span style=\"background-color: rgba(221, 90, 9,  0.9855776429176331); padding: 1px 5px; border: solid 3px ; border-color: rgba(221, 90, 9,  1); #EFEFEF\">on</span> <span style=\"background-color: rgba(221, 90, 9,  0.5448789000511169); padding: 1px 5px; border: solid 3px ; border-color: rgba(221, 90, 9,  1); #EFEFEF\">the window crank</span> <span style=\"background-color: rgba(221, 90, 9,  0.7427904009819031); padding: 1px 5px; border: solid 3px ; border-color: rgba(221, 90, 9,  1); #EFEFEF\">something</span> <span style=\"background-color: rgba(221, 90, 9,  0.9855776429176331); padding: 1px 5px; border: solid 3px ; border-color: rgba(221, 90, 9,  1); #EFEFEF\">he</span> <span style=\"background-color: rgba(221, 90, 9,  0.9855776429176331); padding: 1px 5px; border: solid 3px ; border-color: rgba(221, 90, 9,  1); #EFEFEF\">crawls</span> <span style=\"background-color: rgba(221, 90, 9,  0.9855776429176331); padding: 1px 5px; border: solid 3px ; border-color: rgba(221, 90, 9,  1); #EFEFEF\">out</span> <span style=\"background-color: rgba(221, 90, 9,  0.6553563475608826); padding: 1px 5px; border: solid 3px ; border-color: rgba(221, 90, 9,  1); #EFEFEF\">of</span> <span style=\"background-color: rgba(9, 221, 55,  0.2109033614397049); padding: 1px 5px; border: solid 3px ; border-color: rgba(9, 221, 55,  1); #EFEFEF\">the truck</span> <span style=\"background-color: rgba(221, 90, 9,  0.9855776429176331); padding: 1px 5px; border: solid 3px ; border-color: rgba(221, 90, 9,  1); #EFEFEF\">it</span> <span style=\"background-color: rgba(233,30,99,0);  padding: 1px 5px; border: solid 3px ; border-color:  rgba(233,30,99,0); #EFEFEF\">explodes</span> </div>"
      ],
      "text/plain": [
       "<IPython.core.display.HTML object>"
      ]
     },
     "metadata": {},
     "output_type": "display_data"
    },
    {
     "data": {
      "text/html": [
       "<br><br>"
      ],
      "text/plain": [
       "<IPython.core.display.HTML object>"
      ]
     },
     "metadata": {},
     "output_type": "display_data"
    },
    {
     "data": {
      "text/html": [
       "<div style='display: flex; width: 400px; flex-wrap: wrap'><span style=\"background-color: rgba(233,30,99,0);  padding: 1px 5px; border: solid 3px ; border-color:  rgba(233,30,99,0); #EFEFEF\">Our Southern-fried male cousin</span> <span style=\"background-color: rgba(221, 90, 9,  0.24766595661640167); padding: 1px 5px; border: solid 3px ; border-color: rgba(221, 90, 9,  1); #EFEFEF\">to</span> <span style=\"background-color: rgba(221, 90, 9,  0.6552791595458984); padding: 1px 5px; border: solid 3px ; border-color: rgba(221, 90, 9,  1); #EFEFEF\">the Loch Ness Monster</span> <span style=\"background-color: rgba(221, 90, 9,  0.31295114755630493); padding: 1px 5px; border: solid 3px ; border-color: rgba(221, 90, 9,  1); #EFEFEF\">promptly</span> <span style=\"background-color: rgba(221, 9, 140, 0.21969270706176758); padding: 1px 5px; border: solid 3px ; border-color: rgba(221, 9, 140, 1); #EFEFEF\">starts chowing</span> <span style=\"background-color: rgba(221, 90, 9,  0.5917267799377441); padding: 1px 5px; border: solid 3px ; border-color: rgba(221, 90, 9,  1); #EFEFEF\">down</span> <span style=\"background-color: rgba(221, 90, 9,  0.5349699258804321); padding: 1px 5px; border: solid 3px ; border-color: rgba(221, 90, 9,  1); #EFEFEF\">on</span> <span style=\"background-color: rgba(9, 221, 55,  0.20261040329933167); padding: 1px 5px; border: solid 3px ; border-color: rgba(9, 221, 55,  1); #EFEFEF\">various luckless local yokel residents</span> <span style=\"background-color: rgba(221, 90, 9,  0.47016072273254395); padding: 1px 5px; border: solid 3px ; border-color: rgba(221, 90, 9,  1); #EFEFEF\">of</span> <span style=\"background-color: rgba(233,30,99,0);  padding: 1px 5px; border: solid 3px ; border-color:  rgba(233,30,99,0); #EFEFEF\">a previously quiet and sleepy hillbilly resort town</span> </div>"
      ],
      "text/plain": [
       "<IPython.core.display.HTML object>"
      ]
     },
     "metadata": {},
     "output_type": "display_data"
    },
    {
     "data": {
      "text/html": [
       "<br><br>"
      ],
      "text/plain": [
       "<IPython.core.display.HTML object>"
      ]
     },
     "metadata": {},
     "output_type": "display_data"
    },
    {
     "data": {
      "text/html": [
       "<div style='display: flex; width: 400px; flex-wrap: wrap'><span style=\"background-color: rgba(233,30,99,0);  padding: 1px 5px; border: solid 3px ; border-color:  rgba(233,30,99,0); #EFEFEF\">The campers</span> <span style=\"background-color: rgba(233,30,99,0);  padding: 1px 5px; border: solid 3px ; border-color:  rgba(233,30,99,0); #EFEFEF\">are quickly killed</span> <span style=\"background-color: rgba(233,30,99,0);  padding: 1px 5px; border: solid 3px ; border-color:  rgba(233,30,99,0); #EFEFEF\">by</span> <span style=\"background-color: rgba(233,30,99,0);  padding: 1px 5px; border: solid 3px ; border-color:  rgba(233,30,99,0); #EFEFEF\">the Nighbeast</span> <span style=\"background-color: rgba(233,30,99,0);  padding: 1px 5px; border: solid 3px ; border-color:  rgba(233,30,99,0); #EFEFEF\">'s laser gun</span> <span style=\"background-color: rgba(233,30,99,0);  padding: 1px 5px; border: solid 3px ; border-color:  rgba(233,30,99,0); #EFEFEF\">which</span> <span style=\"background-color: rgba(233,30,99,0);  padding: 1px 5px; border: solid 3px ; border-color:  rgba(233,30,99,0); #EFEFEF\">shoots</span> <span style=\"background-color: rgba(233,30,99,0);  padding: 1px 5px; border: solid 3px ; border-color:  rgba(233,30,99,0); #EFEFEF\">awful special effects</span> <span style=\"background-color: rgba(233,30,99,0);  padding: 1px 5px; border: solid 3px ; border-color:  rgba(233,30,99,0); #EFEFEF\">at</span> <span style=\"background-color: rgba(233,30,99,0);  padding: 1px 5px; border: solid 3px ; border-color:  rgba(233,30,99,0); #EFEFEF\">people</span> </div>"
      ],
      "text/plain": [
       "<IPython.core.display.HTML object>"
      ]
     },
     "metadata": {},
     "output_type": "display_data"
    },
    {
     "data": {
      "text/html": [
       "<br><br>"
      ],
      "text/plain": [
       "<IPython.core.display.HTML object>"
      ]
     },
     "metadata": {},
     "output_type": "display_data"
    },
    {
     "data": {
      "text/html": [
       "<div style='display: flex; width: 400px; flex-wrap: wrap'><span style=\"background-color: rgba(221, 90, 9,  0.9970827102661133); padding: 1px 5px; border: solid 3px ; border-color: rgba(221, 90, 9,  1); #EFEFEF\">The other</span> <span style=\"background-color: rgba(221, 90, 9,  0.385559618473053); padding: 1px 5px; border: solid 3px ; border-color: rgba(221, 90, 9,  1); #EFEFEF\">is</span> <span style=\"background-color: rgba(233,30,99,0);  padding: 1px 5px; border: solid 3px ; border-color:  rgba(233,30,99,0); #EFEFEF\">a family photo</span> <span style=\"background-color: rgba(221, 90, 9,  0.4345828592777252); padding: 1px 5px; border: solid 3px ; border-color: rgba(221, 90, 9,  1); #EFEFEF\">with</span> <span style=\"background-color: rgba(221, 90, 9,  0.3236164450645447); padding: 1px 5px; border: solid 3px ; border-color: rgba(221, 90, 9,  1); #EFEFEF\">the entire group</span> <span style=\"background-color: rgba(221, 90, 9,  0.521521270275116); padding: 1px 5px; border: solid 3px ; border-color: rgba(221, 90, 9,  1); #EFEFEF\">slowly collapsing</span> <span style=\"background-color: rgba(221, 90, 9,  0.3471287786960602); padding: 1px 5px; border: solid 3px ; border-color: rgba(221, 90, 9,  1); #EFEFEF\">to</span> <span style=\"background-color: rgba(233,30,99,0);  padding: 1px 5px; border: solid 3px ; border-color:  rgba(233,30,99,0); #EFEFEF\">the floor</span> <span style=\"background-color: rgba(221, 90, 9,  0.4954679310321808); padding: 1px 5px; border: solid 3px ; border-color: rgba(221, 90, 9,  1); #EFEFEF\">as</span> <span style=\"background-color: rgba(221, 90, 9,  0.2918289303779602); padding: 1px 5px; border: solid 3px ; border-color: rgba(221, 90, 9,  1); #EFEFEF\">the tripod</span> <span style=\"background-color: rgba(233,30,99,0);  padding: 1px 5px; border: solid 3px ; border-color:  rgba(233,30,99,0); #EFEFEF\">of</span> <span style=\"background-color: rgba(221, 90, 9,  0.23242859542369843); padding: 1px 5px; border: solid 3px ; border-color: rgba(221, 90, 9,  1); #EFEFEF\">the camera</span> <span style=\"background-color: rgba(233,30,99,0);  padding: 1px 5px; border: solid 3px ; border-color:  rgba(233,30,99,0); #EFEFEF\">loses</span> <span style=\"background-color: rgba(233,30,99,0);  padding: 1px 5px; border: solid 3px ; border-color:  rgba(233,30,99,0); #EFEFEF\">its stability</span> </div>"
      ],
      "text/plain": [
       "<IPython.core.display.HTML object>"
      ]
     },
     "metadata": {},
     "output_type": "display_data"
    },
    {
     "data": {
      "text/html": [
       "<br><br>"
      ],
      "text/plain": [
       "<IPython.core.display.HTML object>"
      ]
     },
     "metadata": {},
     "output_type": "display_data"
    },
    {
     "data": {
      "text/html": [
       "<div style='display: flex; width: 400px; flex-wrap: wrap'><span style=\"background-color: rgba(221, 9, 140, 0.852841854095459); padding: 1px 5px; border: solid 3px ; border-color: rgba(221, 9, 140, 1); #EFEFEF\">Anyway</span> <span style=\"background-color: rgba(221, 9, 140, 0.9883303046226501); padding: 1px 5px; border: solid 3px ; border-color: rgba(221, 9, 140, 1); #EFEFEF\">before</span> <span style=\"background-color: rgba(221, 9, 140, 0.5810301303863525); padding: 1px 5px; border: solid 3px ; border-color: rgba(221, 9, 140, 1); #EFEFEF\">they</span> <span style=\"background-color: rgba(221, 9, 140, 0.4855685234069824); padding: 1px 5px; border: solid 3px ; border-color: rgba(221, 9, 140, 1); #EFEFEF\">know</span> <span style=\"background-color: rgba(221, 90, 9,  0.9282630085945129); padding: 1px 5px; border: solid 3px ; border-color: rgba(221, 90, 9,  1); #EFEFEF\">it</span> <span style=\"background-color: rgba(221, 90, 9,  0.9917305111885071); padding: 1px 5px; border: solid 3px ; border-color: rgba(221, 90, 9,  1); #EFEFEF\">they</span> <span style=\"background-color: rgba(221, 9, 140, 0.5426450371742249); padding: 1px 5px; border: solid 3px ; border-color: rgba(221, 9, 140, 1); #EFEFEF\">re</span> <span style=\"background-color: rgba(221, 9, 140, 0.5805451273918152); padding: 1px 5px; border: solid 3px ; border-color: rgba(221, 9, 140, 1); #EFEFEF\">deep</span> <span style=\"background-color: rgba(221, 9, 140, 0.537135660648346); padding: 1px 5px; border: solid 3px ; border-color: rgba(221, 9, 140, 1); #EFEFEF\">in</span> <span style=\"background-color: rgba(221, 9, 140, 0.5625209808349609); padding: 1px 5px; border: solid 3px ; border-color: rgba(221, 9, 140, 1); #EFEFEF\">a forest</span> <span style=\"background-color: rgba(221, 90, 9,  0.7877894639968872); padding: 1px 5px; border: solid 3px ; border-color: rgba(221, 90, 9,  1); #EFEFEF\">Emilio</span> <span style=\"background-color: rgba(221, 9, 140, 0.791678249835968); padding: 1px 5px; border: solid 3px ; border-color: rgba(221, 9, 140, 1); #EFEFEF\">clumsily</span> <span style=\"background-color: rgba(221, 90, 9,  0.6996656060218811); padding: 1px 5px; border: solid 3px ; border-color: rgba(221, 90, 9,  1); #EFEFEF\">runs</span> <span style=\"background-color: rgba(221, 9, 140, 0.7476812601089478); padding: 1px 5px; border: solid 3px ; border-color: rgba(221, 9, 140, 1); #EFEFEF\">over</span> <span style=\"background-color: rgba(221, 9, 140, 0.586761474609375); padding: 1px 5px; border: solid 3px ; border-color: rgba(221, 9, 140, 1); #EFEFEF\">a woman</span> <span style=\"background-color: rgba(221, 9, 140, 0.5384809374809265); padding: 1px 5px; border: solid 3px ; border-color: rgba(221, 9, 140, 1); #EFEFEF\">Frances Da Costa</span> <span style=\"background-color: rgba(221, 9, 140, 0.5807590484619141); padding: 1px 5px; border: solid 3px ; border-color: rgba(221, 9, 140, 1); #EFEFEF\">along</span> <span style=\"background-color: rgba(221, 9, 140, 0.6311295628547668); padding: 1px 5px; border: solid 3px ; border-color: rgba(221, 9, 140, 1); #EFEFEF\">with</span> <span style=\"background-color: rgba(221, 9, 140, 0.6137018203735352); padding: 1px 5px; border: solid 3px ; border-color: rgba(221, 9, 140, 1); #EFEFEF\">a badly injured person</span> <span style=\"background-color: rgba(221, 9, 140, 0.37931784987449646); padding: 1px 5px; border: solid 3px ; border-color: rgba(221, 9, 140, 1); #EFEFEF\">to add</span> <span style=\"background-color: rgba(221, 9, 140, 0.4948863983154297); padding: 1px 5px; border: solid 3px ; border-color: rgba(221, 9, 140, 1); #EFEFEF\">to</span> <span style=\"background-color: rgba(221, 9, 140, 0.3933742642402649); padding: 1px 5px; border: solid 3px ; border-color: rgba(221, 9, 140, 1); #EFEFEF\">their problems</span> <span style=\"background-color: rgba(221, 9, 140, 0.9883303046226501); padding: 1px 5px; border: solid 3px ; border-color: rgba(221, 9, 140, 1); #EFEFEF\">the van</span> <span style=\"background-color: rgba(221, 9, 140, 0.6758407950401306); padding: 1px 5px; border: solid 3px ; border-color: rgba(221, 9, 140, 1); #EFEFEF\">they</span> <span style=\"background-color: rgba(221, 9, 140, 0.40360337495803833); padding: 1px 5px; border: solid 3px ; border-color: rgba(221, 9, 140, 1); #EFEFEF\">re travelling</span> <span style=\"background-color: rgba(221, 9, 140, 0.6902132034301758); padding: 1px 5px; border: solid 3px ; border-color: rgba(221, 9, 140, 1); #EFEFEF\">in</span> <span style=\"background-color: rgba(221, 9, 140, 0.9883303046226501); padding: 1px 5px; border: solid 3px ; border-color: rgba(221, 9, 140, 1); #EFEFEF\">wo n't start</span> <span style=\"background-color: rgba(221, 90, 9,  0.5809150338172913); padding: 1px 5px; border: solid 3px ; border-color: rgba(221, 90, 9,  1); #EFEFEF\">they</span> <span style=\"background-color: rgba(221, 9, 140, 0.9366306662559509); padding: 1px 5px; border: solid 3px ; border-color: rgba(221, 9, 140, 1); #EFEFEF\">ca n't get</span> <span style=\"background-color: rgba(221, 9, 140, 0.2904641628265381); padding: 1px 5px; border: solid 3px ; border-color: rgba(221, 9, 140, 1); #EFEFEF\">any signals</span> <span style=\"background-color: rgba(221, 9, 140, 0.9234633445739746); padding: 1px 5px; border: solid 3px ; border-color: rgba(221, 9, 140, 1); #EFEFEF\">on</span> <span style=\"background-color: rgba(221, 9, 140, 0.9883303046226501); padding: 1px 5px; border: solid 3px ; border-color: rgba(221, 9, 140, 1); #EFEFEF\">their mobile phones</span> </div>"
      ],
      "text/plain": [
       "<IPython.core.display.HTML object>"
      ]
     },
     "metadata": {},
     "output_type": "display_data"
    },
    {
     "data": {
      "text/html": [
       "<br><br>"
      ],
      "text/plain": [
       "<IPython.core.display.HTML object>"
      ]
     },
     "metadata": {},
     "output_type": "display_data"
    },
    {
     "name": "stdout",
     "output_type": "stream",
     "text": [
      "\n",
      "\n",
      "10 most important reviews for positive predicted label - concept2:\n",
      "\n",
      "\n"
     ]
    },
    {
     "data": {
      "text/html": [
       "<div style='display: flex; width: 400px; flex-wrap: wrap'><span style=\"background-color: rgba(233,30,99,0);  padding: 1px 5px; border: solid 3px ; border-color:  rgba(233,30,99,0); #EFEFEF\">Man</span> <span style=\"background-color: rgba(233,30,99,0);  padding: 1px 5px; border: solid 3px ; border-color:  rgba(233,30,99,0); #EFEFEF\">I</span> <span style=\"background-color: rgba(221, 90, 9,  0.7411258220672607); padding: 1px 5px; border: solid 3px ; border-color: rgba(221, 90, 9,  1); #EFEFEF\">hope</span> <span style=\"background-color: rgba(221, 90, 9,  0.9920498132705688); padding: 1px 5px; border: solid 3px ; border-color: rgba(221, 90, 9,  1); #EFEFEF\">in</span> <span style=\"background-color: rgba(221, 90, 9,  0.9920498132705688); padding: 1px 5px; border: solid 3px ; border-color: rgba(221, 90, 9,  1); #EFEFEF\">the future</span> <span style=\"background-color: rgba(221, 90, 9,  0.9920498132705688); padding: 1px 5px; border: solid 3px ; border-color: rgba(221, 90, 9,  1); #EFEFEF\">my wife</span> <span style=\"background-color: rgba(221, 90, 9,  0.9920498132705688); padding: 1px 5px; border: solid 3px ; border-color: rgba(221, 90, 9,  1); #EFEFEF\">ages</span> <span style=\"background-color: rgba(221, 90, 9,  0.9920498132705688); padding: 1px 5px; border: solid 3px ; border-color: rgba(221, 90, 9,  1); #EFEFEF\">as well</span> <span style=\"background-color: rgba(221, 90, 9,  0.9920498132705688); padding: 1px 5px; border: solid 3px ; border-color: rgba(221, 90, 9,  1); #EFEFEF\">as</span> <span style=\"background-color: rgba(221, 90, 9,  0.9920498132705688); padding: 1px 5px; border: solid 3px ; border-color: rgba(221, 90, 9,  1); #EFEFEF\">Miss Renee</span> <span style=\"background-color: rgba(221, 90, 9,  0.9489470720291138); padding: 1px 5px; border: solid 3px ; border-color: rgba(221, 90, 9,  1); #EFEFEF\">has</span> </div>"
      ],
      "text/plain": [
       "<IPython.core.display.HTML object>"
      ]
     },
     "metadata": {},
     "output_type": "display_data"
    },
    {
     "data": {
      "text/html": [
       "<br><br>"
      ],
      "text/plain": [
       "<IPython.core.display.HTML object>"
      ]
     },
     "metadata": {},
     "output_type": "display_data"
    },
    {
     "data": {
      "text/html": [
       "<div style='display: flex; width: 400px; flex-wrap: wrap'><span style=\"background-color: rgba(233,30,99,0);  padding: 1px 5px; border: solid 3px ; border-color:  rgba(233,30,99,0); #EFEFEF\">Great</span> <span style=\"background-color: rgba(233,30,99,0);  padding: 1px 5px; border: solid 3px ; border-color:  rgba(233,30,99,0); #EFEFEF\">to see</span> <span style=\"background-color: rgba(233,30,99,0);  padding: 1px 5px; border: solid 3px ; border-color:  rgba(233,30,99,0); #EFEFEF\">him</span> <span style=\"background-color: rgba(233,30,99,0);  padding: 1px 5px; border: solid 3px ; border-color:  rgba(233,30,99,0); #EFEFEF\">with</span> <span style=\"background-color: rgba(221, 90, 9,  0.5465762615203857); padding: 1px 5px; border: solid 3px ; border-color: rgba(221, 90, 9,  1); #EFEFEF\">Ewan</span> <span style=\"background-color: rgba(233,30,99,0);  padding: 1px 5px; border: solid 3px ; border-color:  rgba(233,30,99,0); #EFEFEF\">again</span> </div>"
      ],
      "text/plain": [
       "<IPython.core.display.HTML object>"
      ]
     },
     "metadata": {},
     "output_type": "display_data"
    },
    {
     "data": {
      "text/html": [
       "<br><br>"
      ],
      "text/plain": [
       "<IPython.core.display.HTML object>"
      ]
     },
     "metadata": {},
     "output_type": "display_data"
    },
    {
     "data": {
      "text/html": [
       "<div style='display: flex; width: 400px; flex-wrap: wrap'><span style=\"background-color: rgba(221, 90, 9,  0.6818125247955322); padding: 1px 5px; border: solid 3px ; border-color: rgba(221, 90, 9,  1); #EFEFEF\">You</span> <span style=\"background-color: rgba(221, 90, 9,  0.9437733292579651); padding: 1px 5px; border: solid 3px ; border-color: rgba(221, 90, 9,  1); #EFEFEF\">were nominated</span> <span style=\"background-color: rgba(221, 90, 9,  0.8227269053459167); padding: 1px 5px; border: solid 3px ; border-color: rgba(221, 90, 9,  1); #EFEFEF\">for</span> <span style=\"background-color: rgba(221, 90, 9,  0.851185142993927); padding: 1px 5px; border: solid 3px ; border-color: rgba(221, 90, 9,  1); #EFEFEF\">awards</span> <span style=\"background-color: rgba(221, 90, 9,  0.3328801095485687); padding: 1px 5px; border: solid 3px ; border-color: rgba(221, 90, 9,  1); #EFEFEF\">for</span> <span style=\"background-color: rgba(221, 90, 9,  0.9182277917861938); padding: 1px 5px; border: solid 3px ; border-color: rgba(221, 90, 9,  1); #EFEFEF\">them</span> <span style=\"background-color: rgba(221, 90, 9,  0.8495410680770874); padding: 1px 5px; border: solid 3px ; border-color: rgba(221, 90, 9,  1); #EFEFEF\">remember</span> <span style=\"background-color: rgba(221, 90, 9,  0.835944652557373); padding: 1px 5px; border: solid 3px ; border-color: rgba(221, 90, 9,  1); #EFEFEF\">howmuch fun</span> <span style=\"background-color: rgba(221, 90, 9,  0.9955326914787292); padding: 1px 5px; border: solid 3px ; border-color: rgba(221, 90, 9,  1); #EFEFEF\">that</span> <span style=\"background-color: rgba(221, 90, 9,  0.41304701566696167); padding: 1px 5px; border: solid 3px ; border-color: rgba(221, 90, 9,  1); #EFEFEF\">was</span> </div>"
      ],
      "text/plain": [
       "<IPython.core.display.HTML object>"
      ]
     },
     "metadata": {},
     "output_type": "display_data"
    },
    {
     "data": {
      "text/html": [
       "<br><br>"
      ],
      "text/plain": [
       "<IPython.core.display.HTML object>"
      ]
     },
     "metadata": {},
     "output_type": "display_data"
    },
    {
     "data": {
      "text/html": [
       "<div style='display: flex; width: 400px; flex-wrap: wrap'><span style=\"background-color: rgba(221, 90, 9,  0.40855374932289124); padding: 1px 5px; border: solid 3px ; border-color: rgba(221, 90, 9,  1); #EFEFEF\">I</span> <span style=\"background-color: rgba(221, 90, 9,  0.5263462662696838); padding: 1px 5px; border: solid 3px ; border-color: rgba(221, 90, 9,  1); #EFEFEF\">just</span> <span style=\"background-color: rgba(221, 90, 9,  0.8626087307929993); padding: 1px 5px; border: solid 3px ; border-color: rgba(221, 90, 9,  1); #EFEFEF\">can't stop laughing</span> <span style=\"background-color: rgba(221, 90, 9,  0.9960402846336365); padding: 1px 5px; border: solid 3px ; border-color: rgba(221, 90, 9,  1); #EFEFEF\">at</span> <span style=\"background-color: rgba(221, 90, 9,  0.443269819021225); padding: 1px 5px; border: solid 3px ; border-color: rgba(221, 90, 9,  1); #EFEFEF\">such gay bliss</span> </div>"
      ],
      "text/plain": [
       "<IPython.core.display.HTML object>"
      ]
     },
     "metadata": {},
     "output_type": "display_data"
    },
    {
     "data": {
      "text/html": [
       "<br><br>"
      ],
      "text/plain": [
       "<IPython.core.display.HTML object>"
      ]
     },
     "metadata": {},
     "output_type": "display_data"
    },
    {
     "data": {
      "text/html": [
       "<div style='display: flex; width: 400px; flex-wrap: wrap'><span style=\"background-color: rgba(221, 90, 9,  0.5245222449302673); padding: 1px 5px; border: solid 3px ; border-color: rgba(221, 90, 9,  1); #EFEFEF\">Now</span> <span style=\"background-color: rgba(221, 90, 9,  0.2007829248905182); padding: 1px 5px; border: solid 3px ; border-color: rgba(221, 90, 9,  1); #EFEFEF\">I</span> <span style=\"background-color: rgba(221, 90, 9,  0.7931174635887146); padding: 1px 5px; border: solid 3px ; border-color: rgba(221, 90, 9,  1); #EFEFEF\">know</span> <span style=\"background-color: rgba(221, 90, 9,  0.8735665082931519); padding: 1px 5px; border: solid 3px ; border-color: rgba(221, 90, 9,  1); #EFEFEF\">who</span> <span style=\"background-color: rgba(221, 90, 9,  0.8194737434387207); padding: 1px 5px; border: solid 3px ; border-color: rgba(221, 90, 9,  1); #EFEFEF\">he</span> <span style=\"background-color: rgba(221, 90, 9,  0.8327246308326721); padding: 1px 5px; border: solid 3px ; border-color: rgba(221, 90, 9,  1); #EFEFEF\">is</span> <span style=\"background-color: rgba(221, 90, 9,  0.9952150583267212); padding: 1px 5px; border: solid 3px ; border-color: rgba(221, 90, 9,  1); #EFEFEF\">that</span> <span style=\"background-color: rgba(221, 90, 9,  0.31004640460014343); padding: 1px 5px; border: solid 3px ; border-color: rgba(221, 90, 9,  1); #EFEFEF\">just</span> <span style=\"background-color: rgba(221, 90, 9,  0.6600557565689087); padding: 1px 5px; border: solid 3px ; border-color: rgba(221, 90, 9,  1); #EFEFEF\">makes</span> <span style=\"background-color: rgba(221, 90, 9,  0.9485147595405579); padding: 1px 5px; border: solid 3px ; border-color: rgba(221, 90, 9,  1); #EFEFEF\">it</span> <span style=\"background-color: rgba(221, 90, 9,  0.40135473012924194); padding: 1px 5px; border: solid 3px ; border-color: rgba(221, 90, 9,  1); #EFEFEF\">so much more funny</span> </div>"
      ],
      "text/plain": [
       "<IPython.core.display.HTML object>"
      ]
     },
     "metadata": {},
     "output_type": "display_data"
    },
    {
     "data": {
      "text/html": [
       "<br><br>"
      ],
      "text/plain": [
       "<IPython.core.display.HTML object>"
      ]
     },
     "metadata": {},
     "output_type": "display_data"
    },
    {
     "data": {
      "text/html": [
       "<div style='display: flex; width: 400px; flex-wrap: wrap'><span style=\"background-color: rgba(233,30,99,0);  padding: 1px 5px; border: solid 3px ; border-color:  rgba(233,30,99,0); #EFEFEF\">It</span> <span style=\"background-color: rgba(233,30,99,0);  padding: 1px 5px; border: solid 3px ; border-color:  rgba(233,30,99,0); #EFEFEF\">'s</span> <span style=\"background-color: rgba(233,30,99,0);  padding: 1px 5px; border: solid 3px ; border-color:  rgba(233,30,99,0); #EFEFEF\">great</span> <span style=\"background-color: rgba(233,30,99,0);  padding: 1px 5px; border: solid 3px ; border-color:  rgba(233,30,99,0); #EFEFEF\">to see</span> <span style=\"background-color: rgba(221, 90, 9,  0.6399162411689758); padding: 1px 5px; border: solid 3px ; border-color: rgba(221, 90, 9,  1); #EFEFEF\">J</span> </div>"
      ],
      "text/plain": [
       "<IPython.core.display.HTML object>"
      ]
     },
     "metadata": {},
     "output_type": "display_data"
    },
    {
     "data": {
      "text/html": [
       "<br><br>"
      ],
      "text/plain": [
       "<IPython.core.display.HTML object>"
      ]
     },
     "metadata": {},
     "output_type": "display_data"
    },
    {
     "data": {
      "text/html": [
       "<div style='display: flex; width: 400px; flex-wrap: wrap'><span style=\"background-color: rgba(221, 90, 9,  0.6575556993484497); padding: 1px 5px; border: solid 3px ; border-color: rgba(221, 90, 9,  1); #EFEFEF\">I</span> <span style=\"background-color: rgba(221, 90, 9,  0.510559618473053); padding: 1px 5px; border: solid 3px ; border-color: rgba(221, 90, 9,  1); #EFEFEF\">had</span> <span style=\"background-color: rgba(233,30,99,0);  padding: 1px 5px; border: solid 3px ; border-color:  rgba(233,30,99,0); #EFEFEF\">so much fun</span> <span style=\"background-color: rgba(221, 90, 9,  0.5077524781227112); padding: 1px 5px; border: solid 3px ; border-color: rgba(221, 90, 9,  1); #EFEFEF\">I</span> <span style=\"background-color: rgba(221, 90, 9,  0.6010996103286743); padding: 1px 5px; border: solid 3px ; border-color: rgba(221, 90, 9,  1); #EFEFEF\">would love to show</span> <span style=\"background-color: rgba(221, 90, 9,  0.45489025115966797); padding: 1px 5px; border: solid 3px ; border-color: rgba(221, 90, 9,  1); #EFEFEF\">my son</span> <span style=\"background-color: rgba(221, 90, 9,  0.9951794743537903); padding: 1px 5px; border: solid 3px ; border-color: rgba(221, 90, 9,  1); #EFEFEF\">this movie</span> </div>"
      ],
      "text/plain": [
       "<IPython.core.display.HTML object>"
      ]
     },
     "metadata": {},
     "output_type": "display_data"
    },
    {
     "data": {
      "text/html": [
       "<br><br>"
      ],
      "text/plain": [
       "<IPython.core.display.HTML object>"
      ]
     },
     "metadata": {},
     "output_type": "display_data"
    },
    {
     "data": {
      "text/html": [
       "<div style='display: flex; width: 400px; flex-wrap: wrap'><span style=\"background-color: rgba(221, 90, 9,  0.5492289662361145); padding: 1px 5px; border: solid 3px ; border-color: rgba(221, 90, 9,  1); #EFEFEF\">It</span> <span style=\"background-color: rgba(221, 90, 9,  0.6106420159339905); padding: 1px 5px; border: solid 3px ; border-color: rgba(221, 90, 9,  1); #EFEFEF\">'s been</span> <span style=\"background-color: rgba(221, 90, 9,  0.6014129519462585); padding: 1px 5px; border: solid 3px ; border-color: rgba(221, 90, 9,  1); #EFEFEF\">a while</span> <span style=\"background-color: rgba(221, 90, 9,  0.5766621828079224); padding: 1px 5px; border: solid 3px ; border-color: rgba(221, 90, 9,  1); #EFEFEF\">since</span> <span style=\"background-color: rgba(233,30,99,0);  padding: 1px 5px; border: solid 3px ; border-color:  rgba(233,30,99,0); #EFEFEF\">I</span> <span style=\"background-color: rgba(221, 90, 9,  0.9964192509651184); padding: 1px 5px; border: solid 3px ; border-color: rgba(221, 90, 9,  1); #EFEFEF\">'ve watched</span> <span style=\"background-color: rgba(221, 90, 9,  0.6183875799179077); padding: 1px 5px; border: solid 3px ; border-color: rgba(221, 90, 9,  1); #EFEFEF\">this movie</span> <span style=\"background-color: rgba(221, 90, 9,  0.6676414608955383); padding: 1px 5px; border: solid 3px ; border-color: rgba(221, 90, 9,  1); #EFEFEF\">the series</span> <span style=\"background-color: rgba(221, 90, 9,  0.5825645923614502); padding: 1px 5px; border: solid 3px ; border-color: rgba(221, 90, 9,  1); #EFEFEF\">now</span> <span style=\"background-color: rgba(221, 90, 9,  0.25576990842819214); padding: 1px 5px; border: solid 3px ; border-color: rgba(221, 90, 9,  1); #EFEFEF\">I</span> <span style=\"background-color: rgba(233,30,99,0);  padding: 1px 5px; border: solid 3px ; border-color:  rgba(233,30,99,0); #EFEFEF\">'m refreshing</span> <span style=\"background-color: rgba(233,30,99,0);  padding: 1px 5px; border: solid 3px ; border-color:  rgba(233,30,99,0); #EFEFEF\">my memory</span> </div>"
      ],
      "text/plain": [
       "<IPython.core.display.HTML object>"
      ]
     },
     "metadata": {},
     "output_type": "display_data"
    },
    {
     "data": {
      "text/html": [
       "<br><br>"
      ],
      "text/plain": [
       "<IPython.core.display.HTML object>"
      ]
     },
     "metadata": {},
     "output_type": "display_data"
    },
    {
     "data": {
      "text/html": [
       "<div style='display: flex; width: 400px; flex-wrap: wrap'><span style=\"background-color: rgba(233,30,99,0);  padding: 1px 5px; border: solid 3px ; border-color:  rgba(233,30,99,0); #EFEFEF\">I</span> <span style=\"background-color: rgba(233,30,99,0);  padding: 1px 5px; border: solid 3px ; border-color:  rgba(233,30,99,0); #EFEFEF\">so wanted</span> <span style=\"background-color: rgba(233,30,99,0);  padding: 1px 5px; border: solid 3px ; border-color:  rgba(233,30,99,0); #EFEFEF\">Ben and Emily</span> <span style=\"background-color: rgba(221, 90, 9,  0.3727048933506012); padding: 1px 5px; border: solid 3px ; border-color: rgba(221, 90, 9,  1); #EFEFEF\">to be</span> <span style=\"background-color: rgba(221, 90, 9,  0.5659466981887817); padding: 1px 5px; border: solid 3px ; border-color: rgba(221, 90, 9,  1); #EFEFEF\">together</span> <span style=\"background-color: rgba(221, 90, 9,  0.758168637752533); padding: 1px 5px; border: solid 3px ; border-color: rgba(221, 90, 9,  1); #EFEFEF\">in</span> <span style=\"background-color: rgba(221, 90, 9,  0.9056644439697266); padding: 1px 5px; border: solid 3px ; border-color: rgba(221, 90, 9,  1); #EFEFEF\">the end</span> <span style=\"background-color: rgba(221, 90, 9,  0.9971036314964294); padding: 1px 5px; border: solid 3px ; border-color: rgba(221, 90, 9,  1); #EFEFEF\">they</span> <span style=\"background-color: rgba(221, 90, 9,  0.7186188697814941); padding: 1px 5px; border: solid 3px ; border-color: rgba(221, 90, 9,  1); #EFEFEF\">were</span> <span style=\"background-color: rgba(221, 90, 9,  0.639767587184906); padding: 1px 5px; border: solid 3px ; border-color: rgba(221, 90, 9,  1); #EFEFEF\">forever</span> </div>"
      ],
      "text/plain": [
       "<IPython.core.display.HTML object>"
      ]
     },
     "metadata": {},
     "output_type": "display_data"
    },
    {
     "data": {
      "text/html": [
       "<br><br>"
      ],
      "text/plain": [
       "<IPython.core.display.HTML object>"
      ]
     },
     "metadata": {},
     "output_type": "display_data"
    },
    {
     "data": {
      "text/html": [
       "<div style='display: flex; width: 400px; flex-wrap: wrap'><span style=\"background-color: rgba(221, 90, 9,  0.9956031441688538); padding: 1px 5px; border: solid 3px ; border-color: rgba(221, 90, 9,  1); #EFEFEF\">I</span> <span style=\"background-color: rgba(221, 90, 9,  0.6752798557281494); padding: 1px 5px; border: solid 3px ; border-color: rgba(221, 90, 9,  1); #EFEFEF\">just</span> <span style=\"background-color: rgba(221, 90, 9,  0.5229318141937256); padding: 1px 5px; border: solid 3px ; border-color: rgba(221, 90, 9,  1); #EFEFEF\">bought</span> <span style=\"background-color: rgba(221, 90, 9,  0.8663883209228516); padding: 1px 5px; border: solid 3px ; border-color: rgba(221, 90, 9,  1); #EFEFEF\">all three books</span> <span style=\"background-color: rgba(221, 90, 9,  0.4418196380138397); padding: 1px 5px; border: solid 3px ; border-color: rgba(221, 90, 9,  1); #EFEFEF\">together</span> <span style=\"background-color: rgba(221, 90, 9,  0.6592251062393188); padding: 1px 5px; border: solid 3px ; border-color: rgba(221, 90, 9,  1); #EFEFEF\">I</span> <span style=\"background-color: rgba(221, 90, 9,  0.5642321109771729); padding: 1px 5px; border: solid 3px ; border-color: rgba(221, 90, 9,  1); #EFEFEF\">can't stop watching</span> <span style=\"background-color: rgba(221, 90, 9,  0.8630959391593933); padding: 1px 5px; border: solid 3px ; border-color: rgba(221, 90, 9,  1); #EFEFEF\">them</span> </div>"
      ],
      "text/plain": [
       "<IPython.core.display.HTML object>"
      ]
     },
     "metadata": {},
     "output_type": "display_data"
    },
    {
     "data": {
      "text/html": [
       "<br><br>"
      ],
      "text/plain": [
       "<IPython.core.display.HTML object>"
      ]
     },
     "metadata": {},
     "output_type": "display_data"
    },
    {
     "name": "stdout",
     "output_type": "stream",
     "text": [
      "\n",
      "\n",
      "negative predicted reviews:\n",
      "\n",
      "\n",
      "\n",
      "\n",
      "10 most important reviews for negative predicted label - concept1:\n",
      "\n",
      "\n"
     ]
    },
    {
     "data": {
      "text/html": [
       "<div style='display: flex; width: 400px; flex-wrap: wrap'><span style=\"background-color: rgba(233,30,99,0);  padding: 1px 5px; border: solid 3px ; border-color:  rgba(233,30,99,0); #EFEFEF\">Hollywood Hotel</span> <span style=\"background-color: rgba(221, 90, 9,  0.21468676626682281); padding: 1px 5px; border: solid 3px ; border-color: rgba(221, 90, 9,  1); #EFEFEF\">was</span> <span style=\"background-color: rgba(233,30,99,0);  padding: 1px 5px; border: solid 3px ; border-color:  rgba(233,30,99,0); #EFEFEF\">the last movie musical</span> <span style=\"background-color: rgba(233,30,99,0);  padding: 1px 5px; border: solid 3px ; border-color:  rgba(233,30,99,0); #EFEFEF\">that</span> <span style=\"background-color: rgba(233,30,99,0);  padding: 1px 5px; border: solid 3px ; border-color:  rgba(233,30,99,0); #EFEFEF\">Busby Berkeley</span> <span style=\"background-color: rgba(233,30,99,0);  padding: 1px 5px; border: solid 3px ; border-color:  rgba(233,30,99,0); #EFEFEF\">directed</span> <span style=\"background-color: rgba(233,30,99,0);  padding: 1px 5px; border: solid 3px ; border-color:  rgba(233,30,99,0); #EFEFEF\">for</span> <span style=\"background-color: rgba(233,30,99,0);  padding: 1px 5px; border: solid 3px ; border-color:  rgba(233,30,99,0); #EFEFEF\">Warner Bros</span> </div>"
      ],
      "text/plain": [
       "<IPython.core.display.HTML object>"
      ]
     },
     "metadata": {},
     "output_type": "display_data"
    },
    {
     "data": {
      "text/html": [
       "<br><br>"
      ],
      "text/plain": [
       "<IPython.core.display.HTML object>"
      ]
     },
     "metadata": {},
     "output_type": "display_data"
    },
    {
     "data": {
      "text/html": [
       "<div style='display: flex; width: 400px; flex-wrap: wrap'><span style=\"background-color: rgba(233,30,99,0);  padding: 1px 5px; border: solid 3px ; border-color:  rgba(233,30,99,0); #EFEFEF\">Farnsworth</span> <span style=\"background-color: rgba(233,30,99,0);  padding: 1px 5px; border: solid 3px ; border-color:  rgba(233,30,99,0); #EFEFEF\">was nominated</span> <span style=\"background-color: rgba(221, 90, 9,  0.21471327543258667); padding: 1px 5px; border: solid 3px ; border-color: rgba(221, 90, 9,  1); #EFEFEF\">for</span> <span style=\"background-color: rgba(221, 90, 9,  0.3000810444355011); padding: 1px 5px; border: solid 3px ; border-color: rgba(221, 90, 9,  1); #EFEFEF\">an Academy Award</span> <span style=\"background-color: rgba(233,30,99,0);  padding: 1px 5px; border: solid 3px ; border-color:  rgba(233,30,99,0); #EFEFEF\">for</span> <span style=\"background-color: rgba(221, 90, 9,  0.46164393424987793); padding: 1px 5px; border: solid 3px ; border-color: rgba(221, 90, 9,  1); #EFEFEF\">Best Actor</span> <span style=\"background-color: rgba(221, 90, 9,  0.33341091871261597); padding: 1px 5px; border: solid 3px ; border-color: rgba(221, 90, 9,  1); #EFEFEF\">at</span> <span style=\"background-color: rgba(221, 90, 9,  0.7939584851264954); padding: 1px 5px; border: solid 3px ; border-color: rgba(221, 90, 9,  1); #EFEFEF\">79</span> <span style=\"background-color: rgba(221, 90, 9,  0.5388491749763489); padding: 1px 5px; border: solid 3px ; border-color: rgba(221, 90, 9,  1); #EFEFEF\">he</span> <span style=\"background-color: rgba(233,30,99,0);  padding: 1px 5px; border: solid 3px ; border-color:  rgba(233,30,99,0); #EFEFEF\">was</span> <span style=\"background-color: rgba(221, 90, 9,  0.9924968481063843); padding: 1px 5px; border: solid 3px ; border-color: rgba(221, 90, 9,  1); #EFEFEF\">the oldest nominee</span> <span style=\"background-color: rgba(221, 90, 9,  0.4476471543312073); padding: 1px 5px; border: solid 3px ; border-color: rgba(221, 90, 9,  1); #EFEFEF\">ever</span> <span style=\"background-color: rgba(233,30,99,0);  padding: 1px 5px; border: solid 3px ; border-color:  rgba(233,30,99,0); #EFEFEF\">for</span> <span style=\"background-color: rgba(221, 90, 9,  0.6548494696617126); padding: 1px 5px; border: solid 3px ; border-color: rgba(221, 90, 9,  1); #EFEFEF\">that award</span> </div>"
      ],
      "text/plain": [
       "<IPython.core.display.HTML object>"
      ]
     },
     "metadata": {},
     "output_type": "display_data"
    },
    {
     "data": {
      "text/html": [
       "<br><br>"
      ],
      "text/plain": [
       "<IPython.core.display.HTML object>"
      ]
     },
     "metadata": {},
     "output_type": "display_data"
    },
    {
     "data": {
      "text/html": [
       "<div style='display: flex; width: 400px; flex-wrap: wrap'><span style=\"background-color: rgba(221, 90, 9,  0.7263461351394653); padding: 1px 5px; border: solid 3px ; border-color: rgba(221, 90, 9,  1); #EFEFEF\">The original play</span> <span style=\"background-color: rgba(221, 90, 9,  0.33629781007766724); padding: 1px 5px; border: solid 3px ; border-color: rgba(221, 90, 9,  1); #EFEFEF\">Burlesque</span> <span style=\"background-color: rgba(233,30,99,0);  padding: 1px 5px; border: solid 3px ; border-color:  rgba(233,30,99,0); #EFEFEF\">ran</span> <span style=\"background-color: rgba(221, 90, 9,  0.3833290636539459); padding: 1px 5px; border: solid 3px ; border-color: rgba(221, 90, 9,  1); #EFEFEF\">on</span> <span style=\"background-color: rgba(221, 90, 9,  0.431895911693573); padding: 1px 5px; border: solid 3px ; border-color: rgba(221, 90, 9,  1); #EFEFEF\">Broadway</span> <span style=\"background-color: rgba(221, 90, 9,  0.4604441821575165); padding: 1px 5px; border: solid 3px ; border-color: rgba(221, 90, 9,  1); #EFEFEF\">in</span> <span style=\"background-color: rgba(233,30,99,0);  padding: 1px 5px; border: solid 3px ; border-color:  rgba(233,30,99,0); #EFEFEF\">the 1927-1928 season</span> <span style=\"background-color: rgba(221, 90, 9,  0.7349023222923279); padding: 1px 5px; border: solid 3px ; border-color: rgba(221, 90, 9,  1); #EFEFEF\">for</span> <span style=\"background-color: rgba(221, 90, 9,  0.527405858039856); padding: 1px 5px; border: solid 3px ; border-color: rgba(221, 90, 9,  1); #EFEFEF\">372 performances</span> <span style=\"background-color: rgba(221, 90, 9,  0.49142247438430786); padding: 1px 5px; border: solid 3px ; border-color: rgba(221, 90, 9,  1); #EFEFEF\">it</span> <span style=\"background-color: rgba(233,30,99,0);  padding: 1px 5px; border: solid 3px ; border-color:  rgba(233,30,99,0); #EFEFEF\">'s</span> <span style=\"background-color: rgba(221, 90, 9,  0.730768084526062); padding: 1px 5px; border: solid 3px ; border-color: rgba(221, 90, 9,  1); #EFEFEF\">the role</span> <span style=\"background-color: rgba(221, 90, 9,  0.7828447818756104); padding: 1px 5px; border: solid 3px ; border-color: rgba(221, 90, 9,  1); #EFEFEF\">that</span> <span style=\"background-color: rgba(221, 90, 9,  0.627944827079773); padding: 1px 5px; border: solid 3px ; border-color: rgba(221, 90, 9,  1); #EFEFEF\">Carole Lombard</span> <span style=\"background-color: rgba(221, 90, 9,  0.635858416557312); padding: 1px 5px; border: solid 3px ; border-color: rgba(221, 90, 9,  1); #EFEFEF\">plays</span> <span style=\"background-color: rgba(221, 90, 9,  0.994121789932251); padding: 1px 5px; border: solid 3px ; border-color: rgba(221, 90, 9,  1); #EFEFEF\">that</span> <span style=\"background-color: rgba(221, 90, 9,  0.4781860411167145); padding: 1px 5px; border: solid 3px ; border-color: rgba(221, 90, 9,  1); #EFEFEF\">Barbara Stanwyck</span> <span style=\"background-color: rgba(221, 90, 9,  0.2509613037109375); padding: 1px 5px; border: solid 3px ; border-color: rgba(221, 90, 9,  1); #EFEFEF\">originated</span> <span style=\"background-color: rgba(221, 90, 9,  0.3767801523208618); padding: 1px 5px; border: solid 3px ; border-color: rgba(221, 90, 9,  1); #EFEFEF\">on</span> <span style=\"background-color: rgba(221, 90, 9,  0.659290611743927); padding: 1px 5px; border: solid 3px ; border-color: rgba(221, 90, 9,  1); #EFEFEF\">Broadway</span> <span style=\"background-color: rgba(221, 90, 9,  0.43538960814476013); padding: 1px 5px; border: solid 3px ; border-color: rgba(221, 90, 9,  1); #EFEFEF\">that</span> <span style=\"background-color: rgba(221, 90, 9,  0.2963029742240906); padding: 1px 5px; border: solid 3px ; border-color: rgba(221, 90, 9,  1); #EFEFEF\">brought</span> <span style=\"background-color: rgba(221, 90, 9,  0.2881210148334503); padding: 1px 5px; border: solid 3px ; border-color: rgba(221, 90, 9,  1); #EFEFEF\">her</span> <span style=\"background-color: rgba(221, 90, 9,  0.631403386592865); padding: 1px 5px; border: solid 3px ; border-color: rgba(221, 90, 9,  1); #EFEFEF\">to</span> <span style=\"background-color: rgba(221, 90, 9,  0.5624359846115112); padding: 1px 5px; border: solid 3px ; border-color: rgba(221, 90, 9,  1); #EFEFEF\">Hollywood</span> </div>"
      ],
      "text/plain": [
       "<IPython.core.display.HTML object>"
      ]
     },
     "metadata": {},
     "output_type": "display_data"
    },
    {
     "data": {
      "text/html": [
       "<br><br>"
      ],
      "text/plain": [
       "<IPython.core.display.HTML object>"
      ]
     },
     "metadata": {},
     "output_type": "display_data"
    },
    {
     "data": {
      "text/html": [
       "<div style='display: flex; width: 400px; flex-wrap: wrap'><span style=\"background-color: rgba(221, 90, 9,  0.8569563627243042); padding: 1px 5px; border: solid 3px ; border-color: rgba(221, 90, 9,  1); #EFEFEF\">It</span> <span style=\"background-color: rgba(221, 90, 9,  0.5586559772491455); padding: 1px 5px; border: solid 3px ; border-color: rgba(221, 90, 9,  1); #EFEFEF\">won</span> <span style=\"background-color: rgba(221, 90, 9,  0.27665194869041443); padding: 1px 5px; border: solid 3px ; border-color: rgba(221, 90, 9,  1); #EFEFEF\">Best Documentary Awards</span> <span style=\"background-color: rgba(221, 90, 9,  0.45613357424736023); padding: 1px 5px; border: solid 3px ; border-color: rgba(221, 90, 9,  1); #EFEFEF\">at</span> <span style=\"background-color: rgba(233,30,99,0);  padding: 1px 5px; border: solid 3px ; border-color:  rgba(233,30,99,0); #EFEFEF\">numerous festivals</span> <span style=\"background-color: rgba(221, 90, 9,  0.5588759183883667); padding: 1px 5px; border: solid 3px ; border-color: rgba(221, 90, 9,  1); #EFEFEF\">was never even nominated</span> <span style=\"background-color: rgba(221, 90, 9,  0.7613351345062256); padding: 1px 5px; border: solid 3px ; border-color: rgba(221, 90, 9,  1); #EFEFEF\">for</span> <span style=\"background-color: rgba(221, 90, 9,  0.9968867897987366); padding: 1px 5px; border: solid 3px ; border-color: rgba(221, 90, 9,  1); #EFEFEF\">an Academy Award</span> </div>"
      ],
      "text/plain": [
       "<IPython.core.display.HTML object>"
      ]
     },
     "metadata": {},
     "output_type": "display_data"
    },
    {
     "data": {
      "text/html": [
       "<br><br>"
      ],
      "text/plain": [
       "<IPython.core.display.HTML object>"
      ]
     },
     "metadata": {},
     "output_type": "display_data"
    },
    {
     "data": {
      "text/html": [
       "<div style='display: flex; width: 400px; flex-wrap: wrap'><span style=\"background-color: rgba(221, 90, 9,  0.5514650940895081); padding: 1px 5px; border: solid 3px ; border-color: rgba(221, 90, 9,  1); #EFEFEF\">Bette Davis' characterization</span> <span style=\"background-color: rgba(221, 90, 9,  0.7693852782249451); padding: 1px 5px; border: solid 3px ; border-color: rgba(221, 90, 9,  1); #EFEFEF\">was</span> <span style=\"background-color: rgba(221, 90, 9,  0.3278934061527252); padding: 1px 5px; border: solid 3px ; border-color: rgba(221, 90, 9,  1); #EFEFEF\">famous</span> <span style=\"background-color: rgba(221, 90, 9,  0.40087786316871643); padding: 1px 5px; border: solid 3px ; border-color: rgba(221, 90, 9,  1); #EFEFEF\">for</span> <span style=\"background-color: rgba(221, 90, 9,  0.6086470484733582); padding: 1px 5px; border: solid 3px ; border-color: rgba(221, 90, 9,  1); #EFEFEF\">inspiring</span> <span style=\"background-color: rgba(221, 90, 9,  0.6385778188705444); padding: 1px 5px; border: solid 3px ; border-color: rgba(221, 90, 9,  1); #EFEFEF\">a write-in campaign</span> <span style=\"background-color: rgba(221, 90, 9,  0.990206241607666); padding: 1px 5px; border: solid 3px ; border-color: rgba(221, 90, 9,  1); #EFEFEF\">for</span> <span style=\"background-color: rgba(221, 90, 9,  0.3436861038208008); padding: 1px 5px; border: solid 3px ; border-color: rgba(221, 90, 9,  1); #EFEFEF\">the 1934 Best Actress Academy Award</span> </div>"
      ],
      "text/plain": [
       "<IPython.core.display.HTML object>"
      ]
     },
     "metadata": {},
     "output_type": "display_data"
    },
    {
     "data": {
      "text/html": [
       "<br><br>"
      ],
      "text/plain": [
       "<IPython.core.display.HTML object>"
      ]
     },
     "metadata": {},
     "output_type": "display_data"
    },
    {
     "data": {
      "text/html": [
       "<div style='display: flex; width: 400px; flex-wrap: wrap'><span style=\"background-color: rgba(233,30,99,0);  padding: 1px 5px; border: solid 3px ; border-color:  rgba(233,30,99,0); #EFEFEF\">After</span> <span style=\"background-color: rgba(221, 90, 9,  0.9919623732566833); padding: 1px 5px; border: solid 3px ; border-color: rgba(221, 90, 9,  1); #EFEFEF\">clocking</span> <span style=\"background-color: rgba(221, 90, 9,  0.53033447265625); padding: 1px 5px; border: solid 3px ; border-color: rgba(221, 90, 9,  1); #EFEFEF\">up</span> <span style=\"background-color: rgba(221, 90, 9,  0.6552590727806091); padding: 1px 5px; border: solid 3px ; border-color: rgba(221, 90, 9,  1); #EFEFEF\">five seasons</span> <span style=\"background-color: rgba(221, 90, 9,  0.7642472386360168); padding: 1px 5px; border: solid 3px ; border-color: rgba(221, 90, 9,  1); #EFEFEF\">on</span> <span style=\"background-color: rgba(221, 90, 9,  0.3313436210155487); padding: 1px 5px; border: solid 3px ; border-color: rgba(221, 90, 9,  1); #EFEFEF\">the small screen</span> <span style=\"background-color: rgba(221, 90, 9,  0.3682487905025482); padding: 1px 5px; border: solid 3px ; border-color: rgba(221, 90, 9,  1); #EFEFEF\">from</span> <span style=\"background-color: rgba(221, 90, 9,  0.7690625190734863); padding: 1px 5px; border: solid 3px ; border-color: rgba(221, 90, 9,  1); #EFEFEF\">1976-79</span> <span style=\"background-color: rgba(233,30,99,0);  padding: 1px 5px; border: solid 3px ; border-color:  rgba(233,30,99,0); #EFEFEF\">'George & Mildred</span> <span style=\"background-color: rgba(233,30,99,0);  padding: 1px 5px; border: solid 3px ; border-color:  rgba(233,30,99,0); #EFEFEF\">transferred</span> <span style=\"background-color: rgba(221, 90, 9,  0.8224471807479858); padding: 1px 5px; border: solid 3px ; border-color: rgba(221, 90, 9,  1); #EFEFEF\">themselves</span> <span style=\"background-color: rgba(221, 90, 9,  0.6741133332252502); padding: 1px 5px; border: solid 3px ; border-color: rgba(221, 90, 9,  1); #EFEFEF\">to</span> <span style=\"background-color: rgba(233,30,99,0);  padding: 1px 5px; border: solid 3px ; border-color:  rgba(233,30,99,0); #EFEFEF\">the big screen</span> <span style=\"background-color: rgba(221, 90, 9,  0.4801359474658966); padding: 1px 5px; border: solid 3px ; border-color: rgba(221, 90, 9,  1); #EFEFEF\">in</span> <span style=\"background-color: rgba(221, 90, 9,  0.7556380033493042); padding: 1px 5px; border: solid 3px ; border-color: rgba(221, 90, 9,  1); #EFEFEF\">mid 1980</span> </div>"
      ],
      "text/plain": [
       "<IPython.core.display.HTML object>"
      ]
     },
     "metadata": {},
     "output_type": "display_data"
    },
    {
     "data": {
      "text/html": [
       "<br><br>"
      ],
      "text/plain": [
       "<IPython.core.display.HTML object>"
      ]
     },
     "metadata": {},
     "output_type": "display_data"
    },
    {
     "data": {
      "text/html": [
       "<div style='display: flex; width: 400px; flex-wrap: wrap'><span style=\"background-color: rgba(233,30,99,0);  padding: 1px 5px; border: solid 3px ; border-color:  rgba(233,30,99,0); #EFEFEF\">Written</span> <span style=\"background-color: rgba(233,30,99,0);  padding: 1px 5px; border: solid 3px ; border-color:  rgba(233,30,99,0); #EFEFEF\">by</span> <span style=\"background-color: rgba(221, 90, 9,  0.9985065460205078); padding: 1px 5px; border: solid 3px ; border-color: rgba(221, 90, 9,  1); #EFEFEF\">brilliant Monkees' TV writers Gerald Gardner and Dee Caruso,WHICH WAY</span> <span style=\"background-color: rgba(233,30,99,0);  padding: 1px 5px; border: solid 3px ; border-color:  rgba(233,30,99,0); #EFEFEF\">TO</span> <span style=\"background-color: rgba(233,30,99,0);  padding: 1px 5px; border: solid 3px ; border-color:  rgba(233,30,99,0); #EFEFEF\">THE FRONT</span> <span style=\"background-color: rgba(233,30,99,0);  padding: 1px 5px; border: solid 3px ; border-color:  rgba(233,30,99,0); #EFEFEF\">was</span> <span style=\"background-color: rgba(221, 90, 9,  0.20378972589969635); padding: 1px 5px; border: solid 3px ; border-color: rgba(221, 90, 9,  1); #EFEFEF\">the last</span> <span style=\"background-color: rgba(233,30,99,0);  padding: 1px 5px; border: solid 3px ; border-color:  rgba(233,30,99,0); #EFEFEF\">of</span> <span style=\"background-color: rgba(221, 90, 9,  0.21954624354839325); padding: 1px 5px; border: solid 3px ; border-color: rgba(221, 90, 9,  1); #EFEFEF\">the Jerry Lewis movies</span> <span style=\"background-color: rgba(233,30,99,0);  padding: 1px 5px; border: solid 3px ; border-color:  rgba(233,30,99,0); #EFEFEF\">until</span> <span style=\"background-color: rgba(221, 90, 9,  0.2902461588382721); padding: 1px 5px; border: solid 3px ; border-color: rgba(221, 90, 9,  1); #EFEFEF\">Hardly</span> <span style=\"background-color: rgba(221, 90, 9,  0.2760292589664459); padding: 1px 5px; border: solid 3px ; border-color: rgba(221, 90, 9,  1); #EFEFEF\">Working</span> <span style=\"background-color: rgba(221, 90, 9,  0.2681311070919037); padding: 1px 5px; border: solid 3px ; border-color: rgba(221, 90, 9,  1); #EFEFEF\">almost a decade</span> <span style=\"background-color: rgba(221, 90, 9,  0.25772735476493835); padding: 1px 5px; border: solid 3px ; border-color: rgba(221, 90, 9,  1); #EFEFEF\">later</span> </div>"
      ],
      "text/plain": [
       "<IPython.core.display.HTML object>"
      ]
     },
     "metadata": {},
     "output_type": "display_data"
    },
    {
     "data": {
      "text/html": [
       "<br><br>"
      ],
      "text/plain": [
       "<IPython.core.display.HTML object>"
      ]
     },
     "metadata": {},
     "output_type": "display_data"
    },
    {
     "data": {
      "text/html": [
       "<div style='display: flex; width: 400px; flex-wrap: wrap'><span style=\"background-color: rgba(221, 9, 140, 0.4228310286998749); padding: 1px 5px; border: solid 3px ; border-color: rgba(221, 9, 140, 1); #EFEFEF\">Plans</span> <span style=\"background-color: rgba(221, 90, 9,  0.9367160797119141); padding: 1px 5px; border: solid 3px ; border-color: rgba(221, 90, 9,  1); #EFEFEF\">to revive</span> <span style=\"background-color: rgba(221, 90, 9,  0.701331377029419); padding: 1px 5px; border: solid 3px ; border-color: rgba(221, 90, 9,  1); #EFEFEF\">the series</span> <span style=\"background-color: rgba(221, 90, 9,  0.5732976198196411); padding: 1px 5px; border: solid 3px ; border-color: rgba(221, 90, 9,  1); #EFEFEF\">after</span> <span style=\"background-color: rgba(221, 9, 140, 0.4228310286998749); padding: 1px 5px; border: solid 3px ; border-color: rgba(221, 9, 140, 1); #EFEFEF\">the film</span> <span style=\"background-color: rgba(221, 90, 9,  0.47447124123573303); padding: 1px 5px; border: solid 3px ; border-color: rgba(221, 90, 9,  1); #EFEFEF\">'s showing</span> <span style=\"background-color: rgba(221, 9, 140, 0.27420955896377563); padding: 1px 5px; border: solid 3px ; border-color: rgba(221, 9, 140, 1); #EFEFEF\">were sadly terminated</span> <span style=\"background-color: rgba(221, 90, 9,  0.5716229677200317); padding: 1px 5px; border: solid 3px ; border-color: rgba(221, 90, 9,  1); #EFEFEF\">when</span> <span style=\"background-color: rgba(221, 90, 9,  0.6920875310897827); padding: 1px 5px; border: solid 3px ; border-color: rgba(221, 90, 9,  1); #EFEFEF\">Yootha Joyce</span> <span style=\"background-color: rgba(221, 90, 9,  0.6510978937149048); padding: 1px 5px; border: solid 3px ; border-color: rgba(221, 90, 9,  1); #EFEFEF\">died</span> <span style=\"background-color: rgba(221, 9, 140, 0.3660200536251068); padding: 1px 5px; border: solid 3px ; border-color: rgba(221, 9, 140, 1); #EFEFEF\">on</span> <span style=\"background-color: rgba(221, 90, 9,  0.448055237531662); padding: 1px 5px; border: solid 3px ; border-color: rgba(221, 90, 9,  1); #EFEFEF\">24th August 1980</span> <span style=\"background-color: rgba(221, 90, 9,  0.9949190616607666); padding: 1px 5px; border: solid 3px ; border-color: rgba(221, 90, 9,  1); #EFEFEF\">of</span> <span style=\"background-color: rgba(221, 9, 140, 0.2334526628255844); padding: 1px 5px; border: solid 3px ; border-color: rgba(221, 9, 140, 1); #EFEFEF\">alcohol poisoning</span> </div>"
      ],
      "text/plain": [
       "<IPython.core.display.HTML object>"
      ]
     },
     "metadata": {},
     "output_type": "display_data"
    },
    {
     "data": {
      "text/html": [
       "<br><br>"
      ],
      "text/plain": [
       "<IPython.core.display.HTML object>"
      ]
     },
     "metadata": {},
     "output_type": "display_data"
    },
    {
     "data": {
      "text/html": [
       "<div style='display: flex; width: 400px; flex-wrap: wrap'><span style=\"background-color: rgba(221, 90, 9,  0.7640594244003296); padding: 1px 5px; border: solid 3px ; border-color: rgba(221, 90, 9,  1); #EFEFEF\">In</span> <span style=\"background-color: rgba(233,30,99,0);  padding: 1px 5px; border: solid 3px ; border-color:  rgba(233,30,99,0); #EFEFEF\">December 1947</span> <span style=\"background-color: rgba(233,30,99,0);  padding: 1px 5px; border: solid 3px ; border-color:  rgba(233,30,99,0); #EFEFEF\">Ebony magazine</span> <span style=\"background-color: rgba(233,30,99,0);  padding: 1px 5px; border: solid 3px ; border-color:  rgba(233,30,99,0); #EFEFEF\">an African-American publication</span> <span style=\"background-color: rgba(221, 90, 9,  0.22892311215400696); padding: 1px 5px; border: solid 3px ; border-color: rgba(221, 90, 9,  1); #EFEFEF\">gave</span> <span style=\"background-color: rgba(221, 90, 9,  0.9974291920661926); padding: 1px 5px; border: solid 3px ; border-color: rgba(221, 90, 9,  1); #EFEFEF\">the film</span> <span style=\"background-color: rgba(233,30,99,0);  padding: 1px 5px; border: solid 3px ; border-color:  rgba(233,30,99,0); #EFEFEF\">its annual award</span> <span style=\"background-color: rgba(233,30,99,0);  padding: 1px 5px; border: solid 3px ; border-color:  rgba(233,30,99,0); #EFEFEF\">for</span> <span style=\"background-color: rgba(233,30,99,0);  padding: 1px 5px; border: solid 3px ; border-color:  rgba(233,30,99,0); #EFEFEF\">improving</span> <span style=\"background-color: rgba(233,30,99,0);  padding: 1px 5px; border: solid 3px ; border-color:  rgba(233,30,99,0); #EFEFEF\">interracial understanding</span> </div>"
      ],
      "text/plain": [
       "<IPython.core.display.HTML object>"
      ]
     },
     "metadata": {},
     "output_type": "display_data"
    },
    {
     "data": {
      "text/html": [
       "<br><br>"
      ],
      "text/plain": [
       "<IPython.core.display.HTML object>"
      ]
     },
     "metadata": {},
     "output_type": "display_data"
    },
    {
     "data": {
      "text/html": [
       "<div style='display: flex; width: 400px; flex-wrap: wrap'><span style=\"background-color: rgba(221, 90, 9,  0.9393446445465088); padding: 1px 5px; border: solid 3px ; border-color: rgba(221, 90, 9,  1); #EFEFEF\">The last great Sinatra film</span> <span style=\"background-color: rgba(221, 90, 9,  0.7317520380020142); padding: 1px 5px; border: solid 3px ; border-color: rgba(221, 90, 9,  1); #EFEFEF\">of</span> <span style=\"background-color: rgba(221, 90, 9,  0.5514193177223206); padding: 1px 5px; border: solid 3px ; border-color: rgba(221, 90, 9,  1); #EFEFEF\">this period</span> <span style=\"background-color: rgba(221, 90, 9,  0.939683735370636); padding: 1px 5px; border: solid 3px ; border-color: rgba(221, 90, 9,  1); #EFEFEF\">was</span> <span style=\"background-color: rgba(221, 90, 9,  0.9952251315116882); padding: 1px 5px; border: solid 3px ; border-color: rgba(221, 90, 9,  1); #EFEFEF\">probably</span> <span style=\"background-color: rgba(221, 90, 9,  0.5377228260040283); padding: 1px 5px; border: solid 3px ; border-color: rgba(221, 90, 9,  1); #EFEFEF\">Von Ryan</span> <span style=\"background-color: rgba(221, 90, 9,  0.8909703493118286); padding: 1px 5px; border: solid 3px ; border-color: rgba(221, 90, 9,  1); #EFEFEF\">'s Express</span> <span style=\"background-color: rgba(221, 90, 9,  0.2669579088687897); padding: 1px 5px; border: solid 3px ; border-color: rgba(221, 90, 9,  1); #EFEFEF\">in</span> <span style=\"background-color: rgba(233,30,99,0);  padding: 1px 5px; border: solid 3px ; border-color:  rgba(233,30,99,0); #EFEFEF\">1965</span> </div>"
      ],
      "text/plain": [
       "<IPython.core.display.HTML object>"
      ]
     },
     "metadata": {},
     "output_type": "display_data"
    },
    {
     "data": {
      "text/html": [
       "<br><br>"
      ],
      "text/plain": [
       "<IPython.core.display.HTML object>"
      ]
     },
     "metadata": {},
     "output_type": "display_data"
    },
    {
     "name": "stdout",
     "output_type": "stream",
     "text": [
      "\n",
      "\n",
      "10 most important reviews for negative predicted label - concept2:\n",
      "\n",
      "\n"
     ]
    },
    {
     "data": {
      "text/html": [
       "<div style='display: flex; width: 400px; flex-wrap: wrap'><span style=\"background-color: rgba(221, 90, 9,  0.9981145858764648); padding: 1px 5px; border: solid 3px ; border-color: rgba(221, 90, 9,  1); #EFEFEF\">Like</span> <span style=\"background-color: rgba(221, 90, 9,  0.7171878814697266); padding: 1px 5px; border: solid 3px ; border-color: rgba(221, 90, 9,  1); #EFEFEF\">many comments</span> <span style=\"background-color: rgba(221, 90, 9,  0.9570305943489075); padding: 1px 5px; border: solid 3px ; border-color: rgba(221, 90, 9,  1); #EFEFEF\">good fight sequences</span> <span style=\"background-color: rgba(221, 90, 9,  0.7835198044776917); padding: 1px 5px; border: solid 3px ; border-color: rgba(221, 90, 9,  1); #EFEFEF\">I</span> <span style=\"background-color: rgba(221, 90, 9,  0.9981145858764648); padding: 1px 5px; border: solid 3px ; border-color: rgba(221, 90, 9,  1); #EFEFEF\">particularly</span> <span style=\"background-color: rgba(221, 90, 9,  0.9981145858764648); padding: 1px 5px; border: solid 3px ; border-color: rgba(221, 90, 9,  1); #EFEFEF\">liked</span> <span style=\"background-color: rgba(221, 90, 9,  0.9981145858764648); padding: 1px 5px; border: solid 3px ; border-color: rgba(221, 90, 9,  1); #EFEFEF\">his answering</span> <span style=\"background-color: rgba(221, 90, 9,  0.9981145858764648); padding: 1px 5px; border: solid 3px ; border-color: rgba(221, 90, 9,  1); #EFEFEF\">of</span> <span style=\"background-color: rgba(221, 90, 9,  0.9981145858764648); padding: 1px 5px; border: solid 3px ; border-color: rgba(221, 90, 9,  1); #EFEFEF\">the phone</span> <span style=\"background-color: rgba(221, 90, 9,  0.9981145858764648); padding: 1px 5px; border: solid 3px ; border-color: rgba(221, 90, 9,  1); #EFEFEF\">at</span> <span style=\"background-color: rgba(221, 90, 9,  0.9981145858764648); padding: 1px 5px; border: solid 3px ; border-color: rgba(221, 90, 9,  1); #EFEFEF\">the restaurant</span> <span style=\"background-color: rgba(221, 90, 9,  0.9981145858764648); padding: 1px 5px; border: solid 3px ; border-color: rgba(221, 90, 9,  1); #EFEFEF\">saying</span> <span style=\"background-color: rgba(221, 90, 9,  0.9981145858764648); padding: 1px 5px; border: solid 3px ; border-color: rgba(221, 90, 9,  1); #EFEFEF\">how long</span> <span style=\"background-color: rgba(221, 90, 9,  0.9981145858764648); padding: 1px 5px; border: solid 3px ; border-color: rgba(221, 90, 9,  1); #EFEFEF\">it</span> <span style=\"background-color: rgba(221, 90, 9,  0.9981145858764648); padding: 1px 5px; border: solid 3px ; border-color: rgba(221, 90, 9,  1); #EFEFEF\">would be closed</span> <span style=\"background-color: rgba(233,30,99,0);  padding: 1px 5px; border: solid 3px ; border-color:  rgba(233,30,99,0); #EFEFEF\">for</span> <span style=\"background-color: rgba(221, 90, 9,  0.7074184417724609); padding: 1px 5px; border: solid 3px ; border-color: rgba(221, 90, 9,  1); #EFEFEF\">restoration</span> </div>"
      ],
      "text/plain": [
       "<IPython.core.display.HTML object>"
      ]
     },
     "metadata": {},
     "output_type": "display_data"
    },
    {
     "data": {
      "text/html": [
       "<br><br>"
      ],
      "text/plain": [
       "<IPython.core.display.HTML object>"
      ]
     },
     "metadata": {},
     "output_type": "display_data"
    },
    {
     "data": {
      "text/html": [
       "<div style='display: flex; width: 400px; flex-wrap: wrap'><span style=\"background-color: rgba(233,30,99,0);  padding: 1px 5px; border: solid 3px ; border-color:  rgba(233,30,99,0); #EFEFEF\">Not bad</span> <span style=\"background-color: rgba(221, 90, 9,  0.834627091884613); padding: 1px 5px; border: solid 3px ; border-color: rgba(221, 90, 9,  1); #EFEFEF\">for</span> <span style=\"background-color: rgba(221, 90, 9,  0.5315058827400208); padding: 1px 5px; border: solid 3px ; border-color: rgba(221, 90, 9,  1); #EFEFEF\">a Mixed tag match</span> <span style=\"background-color: rgba(221, 90, 9,  0.5280809998512268); padding: 1px 5px; border: solid 3px ; border-color: rgba(221, 90, 9,  1); #EFEFEF\">it</span> <span style=\"background-color: rgba(221, 90, 9,  0.7135863900184631); padding: 1px 5px; border: solid 3px ; border-color: rgba(221, 90, 9,  1); #EFEFEF\">had</span> <span style=\"background-color: rgba(221, 90, 9,  0.9970914721488953); padding: 1px 5px; border: solid 3px ; border-color: rgba(221, 90, 9,  1); #EFEFEF\">entertaining antics</span> <span style=\"background-color: rgba(221, 90, 9,  0.8592078685760498); padding: 1px 5px; border: solid 3px ; border-color: rgba(221, 90, 9,  1); #EFEFEF\">passed</span> <span style=\"background-color: rgba(221, 90, 9,  0.6952446699142456); padding: 1px 5px; border: solid 3px ; border-color: rgba(221, 90, 9,  1); #EFEFEF\">the time</span> <span style=\"background-color: rgba(221, 90, 9,  0.9356124997138977); padding: 1px 5px; border: solid 3px ; border-color: rgba(221, 90, 9,  1); #EFEFEF\">well</span> </div>"
      ],
      "text/plain": [
       "<IPython.core.display.HTML object>"
      ]
     },
     "metadata": {},
     "output_type": "display_data"
    },
    {
     "data": {
      "text/html": [
       "<br><br>"
      ],
      "text/plain": [
       "<IPython.core.display.HTML object>"
      ]
     },
     "metadata": {},
     "output_type": "display_data"
    },
    {
     "data": {
      "text/html": [
       "<div style='display: flex; width: 400px; flex-wrap: wrap'><span style=\"background-color: rgba(221, 90, 9,  0.6583347916603088); padding: 1px 5px; border: solid 3px ; border-color: rgba(221, 90, 9,  1); #EFEFEF\">I</span> <span style=\"background-color: rgba(221, 90, 9,  0.7097732424736023); padding: 1px 5px; border: solid 3px ; border-color: rgba(221, 90, 9,  1); #EFEFEF\">liked</span> <span style=\"background-color: rgba(221, 90, 9,  0.6223796010017395); padding: 1px 5px; border: solid 3px ; border-color: rgba(221, 90, 9,  1); #EFEFEF\">Woody</span> <span style=\"background-color: rgba(221, 90, 9,  0.9984707832336426); padding: 1px 5px; border: solid 3px ; border-color: rgba(221, 90, 9,  1); #EFEFEF\">excellent performance</span> </div>"
      ],
      "text/plain": [
       "<IPython.core.display.HTML object>"
      ]
     },
     "metadata": {},
     "output_type": "display_data"
    },
    {
     "data": {
      "text/html": [
       "<br><br>"
      ],
      "text/plain": [
       "<IPython.core.display.HTML object>"
      ]
     },
     "metadata": {},
     "output_type": "display_data"
    },
    {
     "data": {
      "text/html": [
       "<div style='display: flex; width: 400px; flex-wrap: wrap'><span style=\"background-color: rgba(221, 90, 9,  0.6181291341781616); padding: 1px 5px; border: solid 3px ; border-color: rgba(221, 90, 9,  1); #EFEFEF\">The graphics</span> <span style=\"background-color: rgba(221, 90, 9,  0.996612012386322); padding: 1px 5px; border: solid 3px ; border-color: rgba(221, 90, 9,  1); #EFEFEF\">were</span> <span style=\"background-color: rgba(221, 90, 9,  0.4981271028518677); padding: 1px 5px; border: solid 3px ; border-color: rgba(221, 90, 9,  1); #EFEFEF\">quite well</span> <span style=\"background-color: rgba(221, 90, 9,  0.7415380477905273); padding: 1px 5px; border: solid 3px ; border-color: rgba(221, 90, 9,  1); #EFEFEF\">for</span> <span style=\"background-color: rgba(221, 90, 9,  0.8105849623680115); padding: 1px 5px; border: solid 3px ; border-color: rgba(221, 90, 9,  1); #EFEFEF\">a straight to DVD movie</span> <span style=\"background-color: rgba(221, 90, 9,  0.6990599632263184); padding: 1px 5px; border: solid 3px ; border-color: rgba(221, 90, 9,  1); #EFEFEF\">I</span> <span style=\"background-color: rgba(221, 90, 9,  0.7740020751953125); padding: 1px 5px; border: solid 3px ; border-color: rgba(221, 90, 9,  1); #EFEFEF\">liked</span> <span style=\"background-color: rgba(221, 90, 9,  0.5858160853385925); padding: 1px 5px; border: solid 3px ; border-color: rgba(221, 90, 9,  1); #EFEFEF\">the overall look</span> <span style=\"background-color: rgba(221, 90, 9,  0.47668758034706116); padding: 1px 5px; border: solid 3px ; border-color: rgba(221, 90, 9,  1); #EFEFEF\">of</span> <span style=\"background-color: rgba(233,30,99,0);  padding: 1px 5px; border: solid 3px ; border-color:  rgba(233,30,99,0); #EFEFEF\">the film</span> </div>"
      ],
      "text/plain": [
       "<IPython.core.display.HTML object>"
      ]
     },
     "metadata": {},
     "output_type": "display_data"
    },
    {
     "data": {
      "text/html": [
       "<br><br>"
      ],
      "text/plain": [
       "<IPython.core.display.HTML object>"
      ]
     },
     "metadata": {},
     "output_type": "display_data"
    },
    {
     "data": {
      "text/html": [
       "<div style='display: flex; width: 400px; flex-wrap: wrap'><span style=\"background-color: rgba(221, 90, 9,  0.3846229910850525); padding: 1px 5px; border: solid 3px ; border-color: rgba(221, 90, 9,  1); #EFEFEF\">This</span> <span style=\"background-color: rgba(221, 90, 9,  0.35631996393203735); padding: 1px 5px; border: solid 3px ; border-color: rgba(221, 90, 9,  1); #EFEFEF\">might be</span> <span style=\"background-color: rgba(221, 90, 9,  0.3009025454521179); padding: 1px 5px; border: solid 3px ; border-color: rgba(221, 90, 9,  1); #EFEFEF\">the WWE</span> <span style=\"background-color: rgba(221, 90, 9,  0.7711899280548096); padding: 1px 5px; border: solid 3px ; border-color: rgba(221, 90, 9,  1); #EFEFEF\">'s 2nd best PPV</span> <span style=\"background-color: rgba(221, 90, 9,  0.36748626828193665); padding: 1px 5px; border: solid 3px ; border-color: rgba(221, 90, 9,  1); #EFEFEF\">of</span> <span style=\"background-color: rgba(221, 90, 9,  0.4108920693397522); padding: 1px 5px; border: solid 3px ; border-color: rgba(221, 90, 9,  1); #EFEFEF\">the year</span> <span style=\"background-color: rgba(221, 90, 9,  0.6636034250259399); padding: 1px 5px; border: solid 3px ; border-color: rgba(221, 90, 9,  1); #EFEFEF\">after</span> <span style=\"background-color: rgba(221, 90, 9,  0.6134402751922607); padding: 1px 5px; border: solid 3px ; border-color: rgba(221, 90, 9,  1); #EFEFEF\">Wrestlemania</span> <span style=\"background-color: rgba(233,30,99,0);  padding: 1px 5px; border: solid 3px ; border-color:  rgba(233,30,99,0); #EFEFEF\">it</span> <span style=\"background-color: rgba(221, 90, 9,  0.9972147941589355); padding: 1px 5px; border: solid 3px ; border-color: rgba(221, 90, 9,  1); #EFEFEF\">was</span> <span style=\"background-color: rgba(221, 90, 9,  0.3990268111228943); padding: 1px 5px; border: solid 3px ; border-color: rgba(221, 90, 9,  1); #EFEFEF\">a good suprise</span> </div>"
      ],
      "text/plain": [
       "<IPython.core.display.HTML object>"
      ]
     },
     "metadata": {},
     "output_type": "display_data"
    },
    {
     "data": {
      "text/html": [
       "<br><br>"
      ],
      "text/plain": [
       "<IPython.core.display.HTML object>"
      ]
     },
     "metadata": {},
     "output_type": "display_data"
    },
    {
     "data": {
      "text/html": [
       "<div style='display: flex; width: 400px; flex-wrap: wrap'><span style=\"background-color: rgba(221, 90, 9,  0.998251736164093); padding: 1px 5px; border: solid 3px ; border-color: rgba(221, 90, 9,  1); #EFEFEF\">Great acting</span> <span style=\"background-color: rgba(221, 90, 9,  0.41783732175827026); padding: 1px 5px; border: solid 3px ; border-color: rgba(221, 90, 9,  1); #EFEFEF\">of</span> <span style=\"background-color: rgba(221, 90, 9,  0.998251736164093); padding: 1px 5px; border: solid 3px ; border-color: rgba(221, 90, 9,  1); #EFEFEF\">all the cast</span> </div>"
      ],
      "text/plain": [
       "<IPython.core.display.HTML object>"
      ]
     },
     "metadata": {},
     "output_type": "display_data"
    },
    {
     "data": {
      "text/html": [
       "<br><br>"
      ],
      "text/plain": [
       "<IPython.core.display.HTML object>"
      ]
     },
     "metadata": {},
     "output_type": "display_data"
    },
    {
     "data": {
      "text/html": [
       "<div style='display: flex; width: 400px; flex-wrap: wrap'><span style=\"background-color: rgba(221, 90, 9,  0.9421024322509766); padding: 1px 5px; border: solid 3px ; border-color: rgba(221, 90, 9,  1); #EFEFEF\">Martin Sacks</span> <span style=\"background-color: rgba(221, 90, 9,  0.9849228858947754); padding: 1px 5px; border: solid 3px ; border-color: rgba(221, 90, 9,  1); #EFEFEF\">was</span> <span style=\"background-color: rgba(221, 90, 9,  0.8122116327285767); padding: 1px 5px; border: solid 3px ; border-color: rgba(221, 90, 9,  1); #EFEFEF\">good</span> <span style=\"background-color: rgba(221, 90, 9,  0.907282829284668); padding: 1px 5px; border: solid 3px ; border-color: rgba(221, 90, 9,  1); #EFEFEF\">also</span> <span style=\"background-color: rgba(221, 90, 9,  0.9929565191268921); padding: 1px 5px; border: solid 3px ; border-color: rgba(221, 90, 9,  1); #EFEFEF\">in</span> <span style=\"background-color: rgba(221, 90, 9,  0.7946008443832397); padding: 1px 5px; border: solid 3px ; border-color: rgba(221, 90, 9,  1); #EFEFEF\">a small role</span> <span style=\"background-color: rgba(221, 90, 9,  0.7996785640716553); padding: 1px 5px; border: solid 3px ; border-color: rgba(221, 90, 9,  1); #EFEFEF\">the leading actress</span> <span style=\"background-color: rgba(221, 90, 9,  0.6850593090057373); padding: 1px 5px; border: solid 3px ; border-color: rgba(221, 90, 9,  1); #EFEFEF\">put</span> <span style=\"background-color: rgba(221, 90, 9,  0.9972623586654663); padding: 1px 5px; border: solid 3px ; border-color: rgba(221, 90, 9,  1); #EFEFEF\">in</span> <span style=\"background-color: rgba(221, 90, 9,  0.2026742845773697); padding: 1px 5px; border: solid 3px ; border-color: rgba(221, 90, 9,  1); #EFEFEF\">an entertaining performance</span> </div>"
      ],
      "text/plain": [
       "<IPython.core.display.HTML object>"
      ]
     },
     "metadata": {},
     "output_type": "display_data"
    },
    {
     "data": {
      "text/html": [
       "<br><br>"
      ],
      "text/plain": [
       "<IPython.core.display.HTML object>"
      ]
     },
     "metadata": {},
     "output_type": "display_data"
    },
    {
     "data": {
      "text/html": [
       "<div style='display: flex; width: 400px; flex-wrap: wrap'><span style=\"background-color: rgba(221, 90, 9,  0.9986489415168762); padding: 1px 5px; border: solid 3px ; border-color: rgba(221, 90, 9,  1); #EFEFEF\">Ned Beatty</span> <span style=\"background-color: rgba(221, 90, 9,  0.7762598991394043); padding: 1px 5px; border: solid 3px ; border-color: rgba(221, 90, 9,  1); #EFEFEF\">was</span> <span style=\"background-color: rgba(221, 90, 9,  0.9260793924331665); padding: 1px 5px; border: solid 3px ; border-color: rgba(221, 90, 9,  1); #EFEFEF\">stellar</span> <span style=\"background-color: rgba(221, 90, 9,  0.7990680932998657); padding: 1px 5px; border: solid 3px ; border-color: rgba(221, 90, 9,  1); #EFEFEF\">his underwear</span> <span style=\"background-color: rgba(221, 90, 9,  0.638015627861023); padding: 1px 5px; border: solid 3px ; border-color: rgba(221, 90, 9,  1); #EFEFEF\">may not have had</span> <span style=\"background-color: rgba(221, 90, 9,  0.7094465494155884); padding: 1px 5px; border: solid 3px ; border-color: rgba(221, 90, 9,  1); #EFEFEF\">Versace</span> <span style=\"background-color: rgba(221, 90, 9,  0.6747167110443115); padding: 1px 5px; border: solid 3px ; border-color: rgba(221, 90, 9,  1); #EFEFEF\">stitched</span> <span style=\"background-color: rgba(221, 90, 9,  0.6925549507141113); padding: 1px 5px; border: solid 3px ; border-color: rgba(221, 90, 9,  1); #EFEFEF\">on</span> <span style=\"background-color: rgba(221, 90, 9,  0.634899914264679); padding: 1px 5px; border: solid 3px ; border-color: rgba(221, 90, 9,  1); #EFEFEF\">it</span> <span style=\"background-color: rgba(221, 90, 9,  0.47801947593688965); padding: 1px 5px; border: solid 3px ; border-color: rgba(221, 90, 9,  1); #EFEFEF\">his shell-shocked performance</span> <span style=\"background-color: rgba(221, 90, 9,  0.6006132960319519); padding: 1px 5px; border: solid 3px ; border-color: rgba(221, 90, 9,  1); #EFEFEF\">was</span> <span style=\"background-color: rgba(221, 90, 9,  0.593033492565155); padding: 1px 5px; border: solid 3px ; border-color: rgba(221, 90, 9,  1); #EFEFEF\">perfect</span> </div>"
      ],
      "text/plain": [
       "<IPython.core.display.HTML object>"
      ]
     },
     "metadata": {},
     "output_type": "display_data"
    },
    {
     "data": {
      "text/html": [
       "<br><br>"
      ],
      "text/plain": [
       "<IPython.core.display.HTML object>"
      ]
     },
     "metadata": {},
     "output_type": "display_data"
    },
    {
     "data": {
      "text/html": [
       "<div style='display: flex; width: 400px; flex-wrap: wrap'><span style=\"background-color: rgba(221, 90, 9,  0.7829187512397766); padding: 1px 5px; border: solid 3px ; border-color: rgba(221, 90, 9,  1); #EFEFEF\">Overall</span> <span style=\"background-color: rgba(221, 90, 9,  0.9112291932106018); padding: 1px 5px; border: solid 3px ; border-color: rgba(221, 90, 9,  1); #EFEFEF\">this</span> <span style=\"background-color: rgba(221, 90, 9,  0.9967852830886841); padding: 1px 5px; border: solid 3px ; border-color: rgba(221, 90, 9,  1); #EFEFEF\">was</span> <span style=\"background-color: rgba(221, 90, 9,  0.6050495505332947); padding: 1px 5px; border: solid 3px ; border-color: rgba(221, 90, 9,  1); #EFEFEF\">a good movie</span> <span style=\"background-color: rgba(221, 90, 9,  0.5258163809776306); padding: 1px 5px; border: solid 3px ; border-color: rgba(221, 90, 9,  1); #EFEFEF\">considering</span> <span style=\"background-color: rgba(221, 90, 9,  0.47586357593536377); padding: 1px 5px; border: solid 3px ; border-color: rgba(221, 90, 9,  1); #EFEFEF\">the budget</span> <span style=\"background-color: rgba(221, 90, 9,  0.5974165797233582); padding: 1px 5px; border: solid 3px ; border-color: rgba(221, 90, 9,  1); #EFEFEF\">the fact</span> <span style=\"background-color: rgba(221, 90, 9,  0.9045109748840332); padding: 1px 5px; border: solid 3px ; border-color: rgba(221, 90, 9,  1); #EFEFEF\">that</span> <span style=\"background-color: rgba(221, 90, 9,  0.9726753234863281); padding: 1px 5px; border: solid 3px ; border-color: rgba(221, 90, 9,  1); #EFEFEF\">it</span> <span style=\"background-color: rgba(221, 90, 9,  0.8613329529762268); padding: 1px 5px; border: solid 3px ; border-color: rgba(221, 90, 9,  1); #EFEFEF\">was made</span> <span style=\"background-color: rgba(221, 90, 9,  0.3790939748287201); padding: 1px 5px; border: solid 3px ; border-color: rgba(221, 90, 9,  1); #EFEFEF\">for</span> <span style=\"background-color: rgba(221, 90, 9,  0.5242611765861511); padding: 1px 5px; border: solid 3px ; border-color: rgba(221, 90, 9,  1); #EFEFEF\">TV</span> </div>"
      ],
      "text/plain": [
       "<IPython.core.display.HTML object>"
      ]
     },
     "metadata": {},
     "output_type": "display_data"
    },
    {
     "data": {
      "text/html": [
       "<br><br>"
      ],
      "text/plain": [
       "<IPython.core.display.HTML object>"
      ]
     },
     "metadata": {},
     "output_type": "display_data"
    },
    {
     "data": {
      "text/html": [
       "<div style='display: flex; width: 400px; flex-wrap: wrap'><span style=\"background-color: rgba(233,30,99,0);  padding: 1px 5px; border: solid 3px ; border-color:  rgba(233,30,99,0); #EFEFEF\">Homicide</span> <span style=\"background-color: rgba(221, 90, 9,  0.2500317096710205); padding: 1px 5px; border: solid 3px ; border-color: rgba(221, 90, 9,  1); #EFEFEF\">The Movie</span> <span style=\"background-color: rgba(221, 90, 9,  0.9975554347038269); padding: 1px 5px; border: solid 3px ; border-color: rgba(221, 90, 9,  1); #EFEFEF\">proved to be</span> <span style=\"background-color: rgba(221, 90, 9,  0.2860560417175293); padding: 1px 5px; border: solid 3px ; border-color: rgba(221, 90, 9,  1); #EFEFEF\">a good wrap-up</span> <span style=\"background-color: rgba(233,30,99,0);  padding: 1px 5px; border: solid 3px ; border-color:  rgba(233,30,99,0); #EFEFEF\">to</span> <span style=\"background-color: rgba(233,30,99,0);  padding: 1px 5px; border: solid 3px ; border-color:  rgba(233,30,99,0); #EFEFEF\">a well-written, well-directed, and well-acted series</span> </div>"
      ],
      "text/plain": [
       "<IPython.core.display.HTML object>"
      ]
     },
     "metadata": {},
     "output_type": "display_data"
    },
    {
     "data": {
      "text/html": [
       "<br><br>"
      ],
      "text/plain": [
       "<IPython.core.display.HTML object>"
      ]
     },
     "metadata": {},
     "output_type": "display_data"
    },
    {
     "name": "stdout",
     "output_type": "stream",
     "text": [
      "\n",
      "\n",
      "10 most important reviews for negative predicted label - concept3:\n",
      "\n",
      "\n"
     ]
    },
    {
     "data": {
      "text/html": [
       "<div style='display: flex; width: 400px; flex-wrap: wrap'><span style=\"background-color: rgba(233,30,99,0);  padding: 1px 5px; border: solid 3px ; border-color:  rgba(233,30,99,0); #EFEFEF\">It</span> <span style=\"background-color: rgba(221, 90, 9,  0.28763335943222046); padding: 1px 5px; border: solid 3px ; border-color: rgba(221, 90, 9,  1); #EFEFEF\">is</span> <span style=\"background-color: rgba(221, 9, 140, 0.39724674820899963); padding: 1px 5px; border: solid 3px ; border-color: rgba(221, 9, 140, 1); #EFEFEF\">no more</span> <span style=\"background-color: rgba(221, 9, 140, 0.20614829659461975); padding: 1px 5px; border: solid 3px ; border-color: rgba(221, 9, 140, 1); #EFEFEF\">than</span> <span style=\"background-color: rgba(221, 90, 9,  0.9972209930419922); padding: 1px 5px; border: solid 3px ; border-color: rgba(221, 90, 9,  1); #EFEFEF\">a sitcom</span> <span style=\"background-color: rgba(233,30,99,0);  padding: 1px 5px; border: solid 3px ; border-color:  rgba(233,30,99,0); #EFEFEF\">in</span> <span style=\"background-color: rgba(221, 9, 140, 0.5613105893135071); padding: 1px 5px; border: solid 3px ; border-color: rgba(221, 9, 140, 1); #EFEFEF\">length and complexity</span> </div>"
      ],
      "text/plain": [
       "<IPython.core.display.HTML object>"
      ]
     },
     "metadata": {},
     "output_type": "display_data"
    },
    {
     "data": {
      "text/html": [
       "<br><br>"
      ],
      "text/plain": [
       "<IPython.core.display.HTML object>"
      ]
     },
     "metadata": {},
     "output_type": "display_data"
    },
    {
     "data": {
      "text/html": [
       "<div style='display: flex; width: 400px; flex-wrap: wrap'><span style=\"background-color: rgba(221, 90, 9,  0.9925044178962708); padding: 1px 5px; border: solid 3px ; border-color: rgba(221, 90, 9,  1); #EFEFEF\">It</span> <span style=\"background-color: rgba(221, 90, 9,  0.9974626898765564); padding: 1px 5px; border: solid 3px ; border-color: rgba(221, 90, 9,  1); #EFEFEF\">'s</span> <span style=\"background-color: rgba(221, 9, 140, 0.7062692046165466); padding: 1px 5px; border: solid 3px ; border-color: rgba(221, 9, 140, 1); #EFEFEF\">almost flawless</span> </div>"
      ],
      "text/plain": [
       "<IPython.core.display.HTML object>"
      ]
     },
     "metadata": {},
     "output_type": "display_data"
    },
    {
     "data": {
      "text/html": [
       "<br><br>"
      ],
      "text/plain": [
       "<IPython.core.display.HTML object>"
      ]
     },
     "metadata": {},
     "output_type": "display_data"
    },
    {
     "data": {
      "text/html": [
       "<div style='display: flex; width: 400px; flex-wrap: wrap'><span style=\"background-color: rgba(233,30,99,0);  padding: 1px 5px; border: solid 3px ; border-color:  rgba(233,30,99,0); #EFEFEF\">It</span> <span style=\"background-color: rgba(233,30,99,0);  padding: 1px 5px; border: solid 3px ; border-color:  rgba(233,30,99,0); #EFEFEF\">'s</span> <span style=\"background-color: rgba(233,30,99,0);  padding: 1px 5px; border: solid 3px ; border-color:  rgba(233,30,99,0); #EFEFEF\">plot, writing and acting</span> <span style=\"background-color: rgba(233,30,99,0);  padding: 1px 5px; border: solid 3px ; border-color:  rgba(233,30,99,0); #EFEFEF\">are</span> <span style=\"background-color: rgba(233,30,99,0);  padding: 1px 5px; border: solid 3px ; border-color:  rgba(233,30,99,0); #EFEFEF\">straight</span> <span style=\"background-color: rgba(221, 90, 9,  0.9961339831352234); padding: 1px 5px; border: solid 3px ; border-color: rgba(221, 90, 9,  1); #EFEFEF\">out</span> <span style=\"background-color: rgba(221, 9, 140, 0.265509694814682); padding: 1px 5px; border: solid 3px ; border-color: rgba(221, 9, 140, 1); #EFEFEF\">the B zone</span> <span style=\"background-color: rgba(221, 9, 140, 0.7332603335380554); padding: 1px 5px; border: solid 3px ; border-color: rgba(221, 9, 140, 1); #EFEFEF\">though</span> </div>"
      ],
      "text/plain": [
       "<IPython.core.display.HTML object>"
      ]
     },
     "metadata": {},
     "output_type": "display_data"
    },
    {
     "data": {
      "text/html": [
       "<br><br>"
      ],
      "text/plain": [
       "<IPython.core.display.HTML object>"
      ]
     },
     "metadata": {},
     "output_type": "display_data"
    },
    {
     "data": {
      "text/html": [
       "<div style='display: flex; width: 400px; flex-wrap: wrap'><span style=\"background-color: rgba(221, 90, 9,  0.9980853199958801); padding: 1px 5px; border: solid 3px ; border-color: rgba(221, 90, 9,  1); #EFEFEF\">Just plain old entertainment</span> </div>"
      ],
      "text/plain": [
       "<IPython.core.display.HTML object>"
      ]
     },
     "metadata": {},
     "output_type": "display_data"
    },
    {
     "data": {
      "text/html": [
       "<br><br>"
      ],
      "text/plain": [
       "<IPython.core.display.HTML object>"
      ]
     },
     "metadata": {},
     "output_type": "display_data"
    },
    {
     "data": {
      "text/html": [
       "<div style='display: flex; width: 400px; flex-wrap: wrap'><span style=\"background-color: rgba(221, 90, 9,  0.9972097277641296); padding: 1px 5px; border: solid 3px ; border-color: rgba(221, 90, 9,  1); #EFEFEF\">This movie</span> <span style=\"background-color: rgba(221, 90, 9,  0.9972097277641296); padding: 1px 5px; border: solid 3px ; border-color: rgba(221, 90, 9,  1); #EFEFEF\">is</span> <span style=\"background-color: rgba(221, 90, 9,  0.9972097277641296); padding: 1px 5px; border: solid 3px ; border-color: rgba(221, 90, 9,  1); #EFEFEF\">so simple</span> </div>"
      ],
      "text/plain": [
       "<IPython.core.display.HTML object>"
      ]
     },
     "metadata": {},
     "output_type": "display_data"
    },
    {
     "data": {
      "text/html": [
       "<br><br>"
      ],
      "text/plain": [
       "<IPython.core.display.HTML object>"
      ]
     },
     "metadata": {},
     "output_type": "display_data"
    },
    {
     "data": {
      "text/html": [
       "<div style='display: flex; width: 400px; flex-wrap: wrap'><span style=\"background-color: rgba(233,30,99,0);  padding: 1px 5px; border: solid 3px ; border-color:  rgba(233,30,99,0); #EFEFEF\">The movie</span> <span style=\"background-color: rgba(221, 90, 9,  0.4119614064693451); padding: 1px 5px; border: solid 3px ; border-color: rgba(221, 90, 9,  1); #EFEFEF\">is</span> <span style=\"background-color: rgba(233,30,99,0);  padding: 1px 5px; border: solid 3px ; border-color:  rgba(233,30,99,0); #EFEFEF\">as predictable and cliched</span> <span style=\"background-color: rgba(221, 90, 9,  0.7422810196876526); padding: 1px 5px; border: solid 3px ; border-color: rgba(221, 90, 9,  1); #EFEFEF\">as</span> <span style=\"background-color: rgba(221, 90, 9,  0.4703967869281769); padding: 1px 5px; border: solid 3px ; border-color: rgba(221, 90, 9,  1); #EFEFEF\">it</span> <span style=\"background-color: rgba(221, 90, 9,  0.9017316102981567); padding: 1px 5px; border: solid 3px ; border-color: rgba(221, 90, 9,  1); #EFEFEF\">gets</span> <span style=\"background-color: rgba(221, 90, 9,  0.9978002905845642); padding: 1px 5px; border: solid 3px ; border-color: rgba(221, 90, 9,  1); #EFEFEF\">it</span> <span style=\"background-color: rgba(221, 90, 9,  0.9885273575782776); padding: 1px 5px; border: solid 3px ; border-color: rgba(221, 90, 9,  1); #EFEFEF\">works</span> </div>"
      ],
      "text/plain": [
       "<IPython.core.display.HTML object>"
      ]
     },
     "metadata": {},
     "output_type": "display_data"
    },
    {
     "data": {
      "text/html": [
       "<br><br>"
      ],
      "text/plain": [
       "<IPython.core.display.HTML object>"
      ]
     },
     "metadata": {},
     "output_type": "display_data"
    },
    {
     "data": {
      "text/html": [
       "<div style='display: flex; width: 400px; flex-wrap: wrap'><span style=\"background-color: rgba(221, 90, 9,  0.9871715903282166); padding: 1px 5px; border: solid 3px ; border-color: rgba(221, 90, 9,  1); #EFEFEF\">Wantabedde</span> <span style=\"background-color: rgba(221, 90, 9,  0.9978491067886353); padding: 1px 5px; border: solid 3px ; border-color: rgba(221, 90, 9,  1); #EFEFEF\">is</span> <span style=\"background-color: rgba(221, 90, 9,  0.9978491067886353); padding: 1px 5px; border: solid 3px ; border-color: rgba(221, 90, 9,  1); #EFEFEF\">even better</span> </div>"
      ],
      "text/plain": [
       "<IPython.core.display.HTML object>"
      ]
     },
     "metadata": {},
     "output_type": "display_data"
    },
    {
     "data": {
      "text/html": [
       "<br><br>"
      ],
      "text/plain": [
       "<IPython.core.display.HTML object>"
      ]
     },
     "metadata": {},
     "output_type": "display_data"
    },
    {
     "data": {
      "text/html": [
       "<div style='display: flex; width: 400px; flex-wrap: wrap'><span style=\"background-color: rgba(221, 90, 9,  0.996550440788269); padding: 1px 5px; border: solid 3px ; border-color: rgba(221, 90, 9,  1); #EFEFEF\">The film</span> <span style=\"background-color: rgba(221, 90, 9,  0.937150776386261); padding: 1px 5px; border: solid 3px ; border-color: rgba(221, 90, 9,  1); #EFEFEF\">even</span> <span style=\"background-color: rgba(221, 90, 9,  0.5690996646881104); padding: 1px 5px; border: solid 3px ; border-color: rgba(221, 90, 9,  1); #EFEFEF\">looks</span> <span style=\"background-color: rgba(221, 90, 9,  0.6618158221244812); padding: 1px 5px; border: solid 3px ; border-color: rgba(221, 90, 9,  1); #EFEFEF\">of</span> <span style=\"background-color: rgba(221, 90, 9,  0.9238396883010864); padding: 1px 5px; border: solid 3px ; border-color: rgba(221, 90, 9,  1); #EFEFEF\">80</span> <span style=\"background-color: rgba(221, 90, 9,  0.5665151476860046); padding: 1px 5px; border: solid 3px ; border-color: rgba(221, 90, 9,  1); #EFEFEF\">'s porn quality</span> </div>"
      ],
      "text/plain": [
       "<IPython.core.display.HTML object>"
      ]
     },
     "metadata": {},
     "output_type": "display_data"
    },
    {
     "data": {
      "text/html": [
       "<br><br>"
      ],
      "text/plain": [
       "<IPython.core.display.HTML object>"
      ]
     },
     "metadata": {},
     "output_type": "display_data"
    },
    {
     "data": {
      "text/html": [
       "<div style='display: flex; width: 400px; flex-wrap: wrap'><span style=\"background-color: rgba(221, 90, 9,  0.9976251125335693); padding: 1px 5px; border: solid 3px ; border-color: rgba(221, 90, 9,  1); #EFEFEF\">From</span> <span style=\"background-color: rgba(221, 90, 9,  0.6962085366249084); padding: 1px 5px; border: solid 3px ; border-color: rgba(221, 90, 9,  1); #EFEFEF\">a technical standpoint</span> <span style=\"background-color: rgba(221, 90, 9,  0.41224199533462524); padding: 1px 5px; border: solid 3px ; border-color: rgba(221, 90, 9,  1); #EFEFEF\">the movie</span> <span style=\"background-color: rgba(221, 90, 9,  0.8887133598327637); padding: 1px 5px; border: solid 3px ; border-color: rgba(221, 90, 9,  1); #EFEFEF\">is</span> <span style=\"background-color: rgba(221, 90, 9,  0.8607591986656189); padding: 1px 5px; border: solid 3px ; border-color: rgba(221, 90, 9,  1); #EFEFEF\">practically flawless</span> </div>"
      ],
      "text/plain": [
       "<IPython.core.display.HTML object>"
      ]
     },
     "metadata": {},
     "output_type": "display_data"
    },
    {
     "data": {
      "text/html": [
       "<br><br>"
      ],
      "text/plain": [
       "<IPython.core.display.HTML object>"
      ]
     },
     "metadata": {},
     "output_type": "display_data"
    },
    {
     "data": {
      "text/html": [
       "<div style='display: flex; width: 400px; flex-wrap: wrap'><span style=\"background-color: rgba(221, 90, 9,  0.9983314871788025); padding: 1px 5px; border: solid 3px ; border-color: rgba(221, 90, 9,  1); #EFEFEF\">The on-screen chemistry</span> <span style=\"background-color: rgba(221, 90, 9,  0.3149615526199341); padding: 1px 5px; border: solid 3px ; border-color: rgba(221, 90, 9,  1); #EFEFEF\">works</span> </div>"
      ],
      "text/plain": [
       "<IPython.core.display.HTML object>"
      ]
     },
     "metadata": {},
     "output_type": "display_data"
    },
    {
     "data": {
      "text/html": [
       "<br><br>"
      ],
      "text/plain": [
       "<IPython.core.display.HTML object>"
      ]
     },
     "metadata": {},
     "output_type": "display_data"
    }
   ],
   "source": [
    "plot_reviews_exp(segments_pos, u_segments_pos, factorization_pos, global_importance_pos,\n",
    "                 segments_neg, u_segments_neg, factorization_neg, global_importance_neg,\n",
    "                 custom_samples=False)"
   ]
  },
  {
   "cell_type": "code",
   "execution_count": 10,
   "id": "73242fe6-fc36-49da-bf6e-31f83018318c",
   "metadata": {
    "collapsed": true,
    "jupyter": {
     "outputs_hidden": true
    },
    "tags": []
   },
   "outputs": [
    {
     "data": {
      "text/html": [
       "<div style='display: flex; width: 400px; flex-wrap: wrap'><span style=\"background-color: rgba(9, 221, 55,  0.5); padding: 1px 5px; border: solid 3px ; border-color: rgba(9, 221, 55,  1); #EFEFEF\">Positive label: concept1 </span> <span style=\"background-color: rgba(9, 221, 161,  0.5); padding: 1px 5px; border: solid 3px ; border-color: rgba(9, 221, 161,  1); #EFEFEF\">Positive label: concept2 </span> <span style=\"background-color: rgba(221, 9, 34,  0.5); padding: 1px 5px; border: solid 3px ; border-color: rgba(221, 9, 34,  1); #EFEFEF\">Negative label: concept1 </span> <span style=\"background-color: rgba(221, 9, 140, 0.5); padding: 1px 5px; border: solid 3px ; border-color: rgba(221, 9, 140, 1); #EFEFEF\">Negative label: concept2 </span> <span style=\"background-color: rgba(221, 90, 9,  0.5); padding: 1px 5px; border: solid 3px ; border-color: rgba(221, 90, 9,  1); #EFEFEF\">Negative label: concept3 </span> </div>"
      ],
      "text/plain": [
       "<IPython.core.display.HTML object>"
      ]
     },
     "metadata": {},
     "output_type": "display_data"
    },
    {
     "data": {
      "text/html": [
       "<br><br>"
      ],
      "text/plain": [
       "<IPython.core.display.HTML object>"
      ]
     },
     "metadata": {},
     "output_type": "display_data"
    },
    {
     "name": "stdout",
     "output_type": "stream",
     "text": [
      "positive predicted reviews:\n",
      "\n",
      "\n",
      "\n",
      "\n",
      "7 most important reviews for positive predicted label - concept1:\n",
      "\n",
      "\n"
     ]
    },
    {
     "data": {
      "text/html": [
       "<div style='display: flex; width: 400px; flex-wrap: wrap'><span style=\"background-color: rgba(221, 90, 9,  0.9982709884643555); padding: 1px 5px; border: solid 3px ; border-color: rgba(221, 90, 9,  1); #EFEFEF\">One</span> <span style=\"background-color: rgba(221, 90, 9,  0.38180530071258545); padding: 1px 5px; border: solid 3px ; border-color: rgba(221, 90, 9,  1); #EFEFEF\">of</span> <span style=\"background-color: rgba(221, 90, 9,  0.9982709884643555); padding: 1px 5px; border: solid 3px ; border-color: rgba(221, 90, 9,  1); #EFEFEF\">the best movies</span> <span style=\"background-color: rgba(221, 90, 9,  0.9982709884643555); padding: 1px 5px; border: solid 3px ; border-color: rgba(221, 90, 9,  1); #EFEFEF\">ever</span> <span style=\"background-color: rgba(221, 90, 9,  0.9982709884643555); padding: 1px 5px; border: solid 3px ; border-color: rgba(221, 90, 9,  1); #EFEFEF\">hands</span> <span style=\"background-color: rgba(233,30,99,0);  padding: 1px 5px; border: solid 3px ; border-color:  rgba(233,30,99,0); #EFEFEF\">down</span> </div>"
      ],
      "text/plain": [
       "<IPython.core.display.HTML object>"
      ]
     },
     "metadata": {},
     "output_type": "display_data"
    },
    {
     "data": {
      "text/html": [
       "<br><br>"
      ],
      "text/plain": [
       "<IPython.core.display.HTML object>"
      ]
     },
     "metadata": {},
     "output_type": "display_data"
    },
    {
     "data": {
      "text/html": [
       "<div style='display: flex; width: 400px; flex-wrap: wrap'><span style=\"background-color: rgba(221, 90, 9,  0.4794188141822815); padding: 1px 5px; border: solid 3px ; border-color: rgba(221, 90, 9,  1); #EFEFEF\">It</span> <span style=\"background-color: rgba(221, 90, 9,  0.3461000323295593); padding: 1px 5px; border: solid 3px ; border-color: rgba(221, 90, 9,  1); #EFEFEF\">is</span> <span style=\"background-color: rgba(221, 90, 9,  0.8330931663513184); padding: 1px 5px; border: solid 3px ; border-color: rgba(221, 90, 9,  1); #EFEFEF\">simply</span> <span style=\"background-color: rgba(221, 90, 9,  0.47016867995262146); padding: 1px 5px; border: solid 3px ; border-color: rgba(221, 90, 9,  1); #EFEFEF\">one</span> <span style=\"background-color: rgba(221, 90, 9,  0.38567793369293213); padding: 1px 5px; border: solid 3px ; border-color: rgba(221, 90, 9,  1); #EFEFEF\">of</span> <span style=\"background-color: rgba(221, 90, 9,  0.9981343150138855); padding: 1px 5px; border: solid 3px ; border-color: rgba(221, 90, 9,  1); #EFEFEF\">my all-time favorite films</span> </div>"
      ],
      "text/plain": [
       "<IPython.core.display.HTML object>"
      ]
     },
     "metadata": {},
     "output_type": "display_data"
    },
    {
     "data": {
      "text/html": [
       "<br><br>"
      ],
      "text/plain": [
       "<IPython.core.display.HTML object>"
      ]
     },
     "metadata": {},
     "output_type": "display_data"
    },
    {
     "data": {
      "text/html": [
       "<div style='display: flex; width: 400px; flex-wrap: wrap'><span style=\"background-color: rgba(221, 90, 9,  0.9980984330177307); padding: 1px 5px; border: solid 3px ; border-color: rgba(221, 90, 9,  1); #EFEFEF\">Very inspiring and encouraging</span> <span style=\"background-color: rgba(221, 90, 9,  0.998630702495575); padding: 1px 5px; border: solid 3px ; border-color: rgba(221, 90, 9,  1); #EFEFEF\">to</span> <span style=\"background-color: rgba(221, 90, 9,  0.998630702495575); padding: 1px 5px; border: solid 3px ; border-color: rgba(221, 90, 9,  1); #EFEFEF\">all ages</span> </div>"
      ],
      "text/plain": [
       "<IPython.core.display.HTML object>"
      ]
     },
     "metadata": {},
     "output_type": "display_data"
    },
    {
     "data": {
      "text/html": [
       "<br><br>"
      ],
      "text/plain": [
       "<IPython.core.display.HTML object>"
      ]
     },
     "metadata": {},
     "output_type": "display_data"
    },
    {
     "data": {
      "text/html": [
       "<div style='display: flex; width: 400px; flex-wrap: wrap'><span style=\"background-color: rgba(221, 90, 9,  0.9960981011390686); padding: 1px 5px; border: solid 3px ; border-color: rgba(221, 90, 9,  1); #EFEFEF\">The ballroom scenes</span> <span style=\"background-color: rgba(221, 90, 9,  0.5472805500030518); padding: 1px 5px; border: solid 3px ; border-color: rgba(221, 90, 9,  1); #EFEFEF\">were</span> <span style=\"background-color: rgba(221, 90, 9,  0.30725857615470886); padding: 1px 5px; border: solid 3px ; border-color: rgba(221, 90, 9,  1); #EFEFEF\">very nice</span> <span style=\"background-color: rgba(221, 90, 9,  0.7989189624786377); padding: 1px 5px; border: solid 3px ; border-color: rgba(221, 90, 9,  1); #EFEFEF\">the dancing</span> <span style=\"background-color: rgba(221, 90, 9,  0.8195226788520813); padding: 1px 5px; border: solid 3px ; border-color: rgba(221, 90, 9,  1); #EFEFEF\">the outfits</span> <span style=\"background-color: rgba(233,30,99,0);  padding: 1px 5px; border: solid 3px ; border-color:  rgba(233,30,99,0); #EFEFEF\">looked</span> <span style=\"background-color: rgba(221, 90, 9,  0.47905266284942627); padding: 1px 5px; border: solid 3px ; border-color: rgba(221, 90, 9,  1); #EFEFEF\">beautiful</span> </div>"
      ],
      "text/plain": [
       "<IPython.core.display.HTML object>"
      ]
     },
     "metadata": {},
     "output_type": "display_data"
    },
    {
     "data": {
      "text/html": [
       "<br><br>"
      ],
      "text/plain": [
       "<IPython.core.display.HTML object>"
      ]
     },
     "metadata": {},
     "output_type": "display_data"
    },
    {
     "data": {
      "text/html": [
       "<div style='display: flex; width: 400px; flex-wrap: wrap'><span style=\"background-color: rgba(221, 90, 9,  0.3442690372467041); padding: 1px 5px; border: solid 3px ; border-color: rgba(221, 90, 9,  1); #EFEFEF\">Billy Bitzer</span> <span style=\"background-color: rgba(221, 90, 9,  0.9981535077095032); padding: 1px 5px; border: solid 3px ; border-color: rgba(221, 90, 9,  1); #EFEFEF\">'s camera work</span> <span style=\"background-color: rgba(221, 90, 9,  0.9410651326179504); padding: 1px 5px; border: solid 3px ; border-color: rgba(221, 90, 9,  1); #EFEFEF\">is</span> <span style=\"background-color: rgba(221, 90, 9,  0.853335976600647); padding: 1px 5px; border: solid 3px ; border-color: rgba(221, 90, 9,  1); #EFEFEF\">quite good</span> </div>"
      ],
      "text/plain": [
       "<IPython.core.display.HTML object>"
      ]
     },
     "metadata": {},
     "output_type": "display_data"
    },
    {
     "data": {
      "text/html": [
       "<br><br>"
      ],
      "text/plain": [
       "<IPython.core.display.HTML object>"
      ]
     },
     "metadata": {},
     "output_type": "display_data"
    },
    {
     "data": {
      "text/html": [
       "<div style='display: flex; width: 400px; flex-wrap: wrap'><span style=\"background-color: rgba(221, 90, 9,  0.9982747435569763); padding: 1px 5px; border: solid 3px ; border-color: rgba(221, 90, 9,  1); #EFEFEF\">The humor and sadness</span> <span style=\"background-color: rgba(221, 90, 9,  0.9982747435569763); padding: 1px 5px; border: solid 3px ; border-color: rgba(221, 90, 9,  1); #EFEFEF\">are subtly blended</span> </div>"
      ],
      "text/plain": [
       "<IPython.core.display.HTML object>"
      ]
     },
     "metadata": {},
     "output_type": "display_data"
    },
    {
     "data": {
      "text/html": [
       "<br><br>"
      ],
      "text/plain": [
       "<IPython.core.display.HTML object>"
      ]
     },
     "metadata": {},
     "output_type": "display_data"
    },
    {
     "data": {
      "text/html": [
       "<div style='display: flex; width: 400px; flex-wrap: wrap'><span style=\"background-color: rgba(221, 90, 9,  0.35457760095596313); padding: 1px 5px; border: solid 3px ; border-color: rgba(221, 90, 9,  1); #EFEFEF\">Idrissa Oudraogo</span> <span style=\"background-color: rgba(221, 90, 9,  0.9960988163948059); padding: 1px 5px; border: solid 3px ; border-color: rgba(221, 90, 9,  1); #EFEFEF\">Burkina Faso</span> <span style=\"background-color: rgba(221, 90, 9,  0.45400530099868774); padding: 1px 5px; border: solid 3px ; border-color: rgba(221, 90, 9,  1); #EFEFEF\">from</span> <span style=\"background-color: rgba(221, 90, 9,  0.5256268978118896); padding: 1px 5px; border: solid 3px ; border-color: rgba(221, 90, 9,  1); #EFEFEF\">one</span> <span style=\"background-color: rgba(221, 90, 9,  0.6114609837532043); padding: 1px 5px; border: solid 3px ; border-color: rgba(221, 90, 9,  1); #EFEFEF\">of</span> <span style=\"background-color: rgba(221, 90, 9,  0.721390962600708); padding: 1px 5px; border: solid 3px ; border-color: rgba(221, 90, 9,  1); #EFEFEF\">the poorest country</span> <span style=\"background-color: rgba(221, 90, 9,  0.6302541494369507); padding: 1px 5px; border: solid 3px ; border-color: rgba(221, 90, 9,  1); #EFEFEF\">in</span> <span style=\"background-color: rgba(221, 90, 9,  0.9905564785003662); padding: 1px 5px; border: solid 3px ; border-color: rgba(221, 90, 9,  1); #EFEFEF\">the world</span> <span style=\"background-color: rgba(221, 90, 9,  0.6134823560714722); padding: 1px 5px; border: solid 3px ; border-color: rgba(221, 90, 9,  1); #EFEFEF\">a tender and funny story</span> <span style=\"background-color: rgba(221, 90, 9,  0.4605843126773834); padding: 1px 5px; border: solid 3px ; border-color: rgba(221, 90, 9,  1); #EFEFEF\">about</span> <span style=\"background-color: rgba(221, 90, 9,  0.3786783516407013); padding: 1px 5px; border: solid 3px ; border-color: rgba(221, 90, 9,  1); #EFEFEF\">five boys</span> <span style=\"background-color: rgba(221, 90, 9,  0.7699140906333923); padding: 1px 5px; border: solid 3px ; border-color: rgba(221, 90, 9,  1); #EFEFEF\">who</span> <span style=\"background-color: rgba(221, 90, 9,  0.5289774537086487); padding: 1px 5px; border: solid 3px ; border-color: rgba(221, 90, 9,  1); #EFEFEF\">want to capture</span> <span style=\"background-color: rgba(221, 90, 9,  0.7945058345794678); padding: 1px 5px; border: solid 3px ; border-color: rgba(221, 90, 9,  1); #EFEFEF\">Osama Bin Laden</span> </div>"
      ],
      "text/plain": [
       "<IPython.core.display.HTML object>"
      ]
     },
     "metadata": {},
     "output_type": "display_data"
    },
    {
     "data": {
      "text/html": [
       "<br><br>"
      ],
      "text/plain": [
       "<IPython.core.display.HTML object>"
      ]
     },
     "metadata": {},
     "output_type": "display_data"
    },
    {
     "name": "stdout",
     "output_type": "stream",
     "text": [
      "\n",
      "\n",
      "7 most important reviews for positive predicted label - concept2:\n",
      "\n",
      "\n"
     ]
    },
    {
     "data": {
      "text/html": [
       "<div style='display: flex; width: 400px; flex-wrap: wrap'><span style=\"background-color: rgba(221, 90, 9,  0.3638368248939514); padding: 1px 5px; border: solid 3px ; border-color: rgba(221, 90, 9,  1); #EFEFEF\">Especially fun</span> <span style=\"background-color: rgba(221, 90, 9,  0.7798467874526978); padding: 1px 5px; border: solid 3px ; border-color: rgba(221, 90, 9,  1); #EFEFEF\">is</span> <span style=\"background-color: rgba(221, 90, 9,  0.5929818153381348); padding: 1px 5px; border: solid 3px ; border-color: rgba(221, 90, 9,  1); #EFEFEF\">the performance</span> <span style=\"background-color: rgba(221, 90, 9,  0.8326654434204102); padding: 1px 5px; border: solid 3px ; border-color: rgba(221, 90, 9,  1); #EFEFEF\">by</span> <span style=\"background-color: rgba(221, 90, 9,  0.9121125340461731); padding: 1px 5px; border: solid 3px ; border-color: rgba(221, 90, 9,  1); #EFEFEF\">Cronenberg</span> <span style=\"background-color: rgba(221, 90, 9,  0.8380212783813477); padding: 1px 5px; border: solid 3px ; border-color: rgba(221, 90, 9,  1); #EFEFEF\">as</span> <span style=\"background-color: rgba(221, 90, 9,  0.9964665770530701); padding: 1px 5px; border: solid 3px ; border-color: rgba(221, 90, 9,  1); #EFEFEF\">the truly evil human doctor</span> <span style=\"background-color: rgba(221, 90, 9,  0.9978810548782349); padding: 1px 5px; border: solid 3px ; border-color: rgba(221, 90, 9,  1); #EFEFEF\">who</span> <span style=\"background-color: rgba(221, 90, 9,  0.7060786485671997); padding: 1px 5px; border: solid 3px ; border-color: rgba(221, 90, 9,  1); #EFEFEF\">is bent</span> <span style=\"background-color: rgba(221, 90, 9,  0.7221663594245911); padding: 1px 5px; border: solid 3px ; border-color: rgba(221, 90, 9,  1); #EFEFEF\">on</span> <span style=\"background-color: rgba(221, 90, 9,  0.7688051462173462); padding: 1px 5px; border: solid 3px ; border-color: rgba(221, 90, 9,  1); #EFEFEF\">destroying</span> <span style=\"background-color: rgba(221, 90, 9,  0.6545595526695251); padding: 1px 5px; border: solid 3px ; border-color: rgba(221, 90, 9,  1); #EFEFEF\">the Nightbreed</span> </div>"
      ],
      "text/plain": [
       "<IPython.core.display.HTML object>"
      ]
     },
     "metadata": {},
     "output_type": "display_data"
    },
    {
     "data": {
      "text/html": [
       "<br><br>"
      ],
      "text/plain": [
       "<IPython.core.display.HTML object>"
      ]
     },
     "metadata": {},
     "output_type": "display_data"
    },
    {
     "name": "stdout",
     "output_type": "stream",
     "text": [
      "\n",
      "\n",
      "negative predicted reviews:\n",
      "\n",
      "\n",
      "\n",
      "\n",
      "7 most important reviews for negative predicted label - concept1:\n",
      "\n",
      "\n"
     ]
    },
    {
     "data": {
      "text/html": [
       "<div style='display: flex; width: 400px; flex-wrap: wrap'><span style=\"background-color: rgba(233,30,99,0);  padding: 1px 5px; border: solid 3px ; border-color:  rgba(233,30,99,0); #EFEFEF\">I</span> <span style=\"background-color: rgba(221, 9, 140, 0.3731348216533661); padding: 1px 5px; border: solid 3px ; border-color: rgba(221, 9, 140, 1); #EFEFEF\">couldn't even follow</span> <span style=\"background-color: rgba(221, 9, 140, 0.3731348216533661); padding: 1px 5px; border: solid 3px ; border-color: rgba(221, 9, 140, 1); #EFEFEF\">the plot</span> <span style=\"background-color: rgba(221, 90, 9,  0.2820422649383545); padding: 1px 5px; border: solid 3px ; border-color: rgba(221, 90, 9,  1); #EFEFEF\">suffice</span> <span style=\"background-color: rgba(233,30,99,0);  padding: 1px 5px; border: solid 3px ; border-color:  rgba(233,30,99,0); #EFEFEF\">it</span> <span style=\"background-color: rgba(221, 90, 9,  0.46440139412879944); padding: 1px 5px; border: solid 3px ; border-color: rgba(221, 90, 9,  1); #EFEFEF\">to say</span> <span style=\"background-color: rgba(233,30,99,0);  padding: 1px 5px; border: solid 3px ; border-color:  rgba(233,30,99,0); #EFEFEF\">this</span> <span style=\"background-color: rgba(233,30,99,0);  padding: 1px 5px; border: solid 3px ; border-color:  rgba(233,30,99,0); #EFEFEF\">is</span> <span style=\"background-color: rgba(233,30,99,0);  padding: 1px 5px; border: solid 3px ; border-color:  rgba(233,30,99,0); #EFEFEF\">the absolute worst movie</span> <span style=\"background-color: rgba(233,30,99,0);  padding: 1px 5px; border: solid 3px ; border-color:  rgba(233,30,99,0); #EFEFEF\">I</span> <span style=\"background-color: rgba(233,30,99,0);  padding: 1px 5px; border: solid 3px ; border-color:  rgba(233,30,99,0); #EFEFEF\">have ever seen</span> <span style=\"background-color: rgba(221, 90, 9,  0.36062386631965637); padding: 1px 5px; border: solid 3px ; border-color: rgba(221, 90, 9,  1); #EFEFEF\">in</span> <span style=\"background-color: rgba(233,30,99,0);  padding: 1px 5px; border: solid 3px ; border-color:  rgba(233,30,99,0); #EFEFEF\">my life</span> </div>"
      ],
      "text/plain": [
       "<IPython.core.display.HTML object>"
      ]
     },
     "metadata": {},
     "output_type": "display_data"
    },
    {
     "data": {
      "text/html": [
       "<br><br>"
      ],
      "text/plain": [
       "<IPython.core.display.HTML object>"
      ]
     },
     "metadata": {},
     "output_type": "display_data"
    },
    {
     "data": {
      "text/html": [
       "<div style='display: flex; width: 400px; flex-wrap: wrap'><span style=\"background-color: rgba(9, 221, 161,  0.20896315574645996); padding: 1px 5px; border: solid 3px ; border-color: rgba(9, 221, 161,  1); #EFEFEF\">This</span> <span style=\"background-color: rgba(9, 221, 161,  0.20896315574645996); padding: 1px 5px; border: solid 3px ; border-color: rgba(9, 221, 161,  1); #EFEFEF\">is</span> <span style=\"background-color: rgba(233,30,99,0);  padding: 1px 5px; border: solid 3px ; border-color:  rgba(233,30,99,0); #EFEFEF\">by</span> <span style=\"background-color: rgba(9, 221, 161,  0.20896315574645996); padding: 1px 5px; border: solid 3px ; border-color: rgba(9, 221, 161,  1); #EFEFEF\">far</span> <span style=\"background-color: rgba(9, 221, 161,  0.20896315574645996); padding: 1px 5px; border: solid 3px ; border-color: rgba(9, 221, 161,  1); #EFEFEF\">one</span> <span style=\"background-color: rgba(221, 90, 9,  0.3989587724208832); padding: 1px 5px; border: solid 3px ; border-color: rgba(221, 90, 9,  1); #EFEFEF\">of</span> <span style=\"background-color: rgba(9, 221, 161,  0.20896315574645996); padding: 1px 5px; border: solid 3px ; border-color: rgba(9, 221, 161,  1); #EFEFEF\">the worst films</span> <span style=\"background-color: rgba(221, 90, 9,  0.37883612513542175); padding: 1px 5px; border: solid 3px ; border-color: rgba(221, 90, 9,  1); #EFEFEF\">I</span> <span style=\"background-color: rgba(9, 221, 161,  0.20896315574645996); padding: 1px 5px; border: solid 3px ; border-color: rgba(9, 221, 161,  1); #EFEFEF\">'ve ever paid</span> <span style=\"background-color: rgba(233,30,99,0);  padding: 1px 5px; border: solid 3px ; border-color:  rgba(233,30,99,0); #EFEFEF\">good money</span> <span style=\"background-color: rgba(233,30,99,0);  padding: 1px 5px; border: solid 3px ; border-color:  rgba(233,30,99,0); #EFEFEF\">to see</span> </div>"
      ],
      "text/plain": [
       "<IPython.core.display.HTML object>"
      ]
     },
     "metadata": {},
     "output_type": "display_data"
    },
    {
     "data": {
      "text/html": [
       "<br><br>"
      ],
      "text/plain": [
       "<IPython.core.display.HTML object>"
      ]
     },
     "metadata": {},
     "output_type": "display_data"
    },
    {
     "data": {
      "text/html": [
       "<div style='display: flex; width: 400px; flex-wrap: wrap'><span style=\"background-color: rgba(233,30,99,0);  padding: 1px 5px; border: solid 3px ; border-color:  rgba(233,30,99,0); #EFEFEF\">Words</span> <span style=\"background-color: rgba(233,30,99,0);  padding: 1px 5px; border: solid 3px ; border-color:  rgba(233,30,99,0); #EFEFEF\">cannot begin to describe</span> <span style=\"background-color: rgba(221, 9, 140, 0.4129675626754761); padding: 1px 5px; border: solid 3px ; border-color: rgba(221, 9, 140, 1); #EFEFEF\">how blandly terrible</span> <span style=\"background-color: rgba(233,30,99,0);  padding: 1px 5px; border: solid 3px ; border-color:  rgba(233,30,99,0); #EFEFEF\">this movie</span> <span style=\"background-color: rgba(233,30,99,0);  padding: 1px 5px; border: solid 3px ; border-color:  rgba(233,30,99,0); #EFEFEF\">is</span> </div>"
      ],
      "text/plain": [
       "<IPython.core.display.HTML object>"
      ]
     },
     "metadata": {},
     "output_type": "display_data"
    },
    {
     "data": {
      "text/html": [
       "<br><br>"
      ],
      "text/plain": [
       "<IPython.core.display.HTML object>"
      ]
     },
     "metadata": {},
     "output_type": "display_data"
    },
    {
     "data": {
      "text/html": [
       "<div style='display: flex; width: 400px; flex-wrap: wrap'><span style=\"background-color: rgba(221, 9, 140, 0.5470438599586487); padding: 1px 5px; border: solid 3px ; border-color: rgba(221, 9, 140, 1); #EFEFEF\">It</span> <span style=\"background-color: rgba(221, 90, 9,  0.9961952567100525); padding: 1px 5px; border: solid 3px ; border-color: rgba(221, 90, 9,  1); #EFEFEF\">'s</span> <span style=\"background-color: rgba(221, 9, 140, 0.5470438599586487); padding: 1px 5px; border: solid 3px ; border-color: rgba(221, 9, 140, 1); #EFEFEF\">pointless</span> </div>"
      ],
      "text/plain": [
       "<IPython.core.display.HTML object>"
      ]
     },
     "metadata": {},
     "output_type": "display_data"
    },
    {
     "data": {
      "text/html": [
       "<br><br>"
      ],
      "text/plain": [
       "<IPython.core.display.HTML object>"
      ]
     },
     "metadata": {},
     "output_type": "display_data"
    },
    {
     "data": {
      "text/html": [
       "<div style='display: flex; width: 400px; flex-wrap: wrap'><span style=\"background-color: rgba(221, 90, 9,  0.993324875831604); padding: 1px 5px; border: solid 3px ; border-color: rgba(221, 90, 9,  1); #EFEFEF\">Plot</span> <span style=\"background-color: rgba(221, 90, 9,  0.993324875831604); padding: 1px 5px; border: solid 3px ; border-color: rgba(221, 90, 9,  1); #EFEFEF\">is</span> <span style=\"background-color: rgba(221, 90, 9,  0.9542217254638672); padding: 1px 5px; border: solid 3px ; border-color: rgba(221, 90, 9,  1); #EFEFEF\">unimportant</span> </div>"
      ],
      "text/plain": [
       "<IPython.core.display.HTML object>"
      ]
     },
     "metadata": {},
     "output_type": "display_data"
    },
    {
     "data": {
      "text/html": [
       "<br><br>"
      ],
      "text/plain": [
       "<IPython.core.display.HTML object>"
      ]
     },
     "metadata": {},
     "output_type": "display_data"
    },
    {
     "data": {
      "text/html": [
       "<div style='display: flex; width: 400px; flex-wrap: wrap'><span style=\"background-color: rgba(9, 221, 161,  0.8806833624839783); padding: 1px 5px; border: solid 3px ; border-color: rgba(9, 221, 161,  1); #EFEFEF\">About the only good thing</span> <span style=\"background-color: rgba(233,30,99,0);  padding: 1px 5px; border: solid 3px ; border-color:  rgba(233,30,99,0); #EFEFEF\">about</span> <span style=\"background-color: rgba(233,30,99,0);  padding: 1px 5px; border: solid 3px ; border-color:  rgba(233,30,99,0); #EFEFEF\">this</span> <span style=\"background-color: rgba(233,30,99,0);  padding: 1px 5px; border: solid 3px ; border-color:  rgba(233,30,99,0); #EFEFEF\">is</span> <span style=\"background-color: rgba(9, 221, 161,  0.8984676003456116); padding: 1px 5px; border: solid 3px ; border-color: rgba(9, 221, 161,  1); #EFEFEF\">the setting</span> </div>"
      ],
      "text/plain": [
       "<IPython.core.display.HTML object>"
      ]
     },
     "metadata": {},
     "output_type": "display_data"
    },
    {
     "data": {
      "text/html": [
       "<br><br>"
      ],
      "text/plain": [
       "<IPython.core.display.HTML object>"
      ]
     },
     "metadata": {},
     "output_type": "display_data"
    },
    {
     "data": {
      "text/html": [
       "<div style='display: flex; width: 400px; flex-wrap: wrap'><span style=\"background-color: rgba(221, 9, 140, 0.5360153317451477); padding: 1px 5px; border: solid 3px ; border-color: rgba(221, 9, 140, 1); #EFEFEF\">It</span> <span style=\"background-color: rgba(221, 9, 140, 0.5360153317451477); padding: 1px 5px; border: solid 3px ; border-color: rgba(221, 9, 140, 1); #EFEFEF\">'s</span> <span style=\"background-color: rgba(9, 221, 161,  0.2958945035934448); padding: 1px 5px; border: solid 3px ; border-color: rgba(9, 221, 161,  1); #EFEFEF\">too bad</span> <span style=\"background-color: rgba(9, 221, 161,  0.2958945035934448); padding: 1px 5px; border: solid 3px ; border-color: rgba(9, 221, 161,  1); #EFEFEF\">because</span> <span style=\"background-color: rgba(9, 221, 161,  0.2958945035934448); padding: 1px 5px; border: solid 3px ; border-color: rgba(9, 221, 161,  1); #EFEFEF\">this film</span> <span style=\"background-color: rgba(221, 9, 140, 0.5360153317451477); padding: 1px 5px; border: solid 3px ; border-color: rgba(221, 9, 140, 1); #EFEFEF\">had</span> <span style=\"background-color: rgba(9, 221, 161,  0.2958945035934448); padding: 1px 5px; border: solid 3px ; border-color: rgba(9, 221, 161,  1); #EFEFEF\">great production values</span> <span style=\"background-color: rgba(9, 221, 161,  0.2958945035934448); padding: 1px 5px; border: solid 3px ; border-color: rgba(9, 221, 161,  1); #EFEFEF\">a good cast</span> <span style=\"background-color: rgba(221, 9, 140, 0.5360153317451477); padding: 1px 5px; border: solid 3px ; border-color: rgba(221, 9, 140, 1); #EFEFEF\">is</span> <span style=\"background-color: rgba(9, 221, 161,  0.2958945035934448); padding: 1px 5px; border: solid 3px ; border-color: rgba(9, 221, 161,  1); #EFEFEF\">the idea</span> <span style=\"background-color: rgba(221, 9, 140, 0.5360153317451477); padding: 1px 5px; border: solid 3px ; border-color: rgba(221, 9, 140, 1); #EFEFEF\">of</span> <span style=\"background-color: rgba(221, 9, 140, 0.5360153317451477); padding: 1px 5px; border: solid 3px ; border-color: rgba(221, 9, 140, 1); #EFEFEF\">turning</span> <span style=\"background-color: rgba(221, 9, 140, 0.5360153317451477); padding: 1px 5px; border: solid 3px ; border-color: rgba(221, 9, 140, 1); #EFEFEF\">a book</span> <span style=\"background-color: rgba(221, 9, 140, 0.5360153317451477); padding: 1px 5px; border: solid 3px ; border-color: rgba(221, 9, 140, 1); #EFEFEF\">into</span> <span style=\"background-color: rgba(221, 9, 140, 0.5360153317451477); padding: 1px 5px; border: solid 3px ; border-color: rgba(221, 9, 140, 1); #EFEFEF\">a movie</span> <span style=\"background-color: rgba(221, 9, 140, 0.5360153317451477); padding: 1px 5px; border: solid 3px ; border-color: rgba(221, 9, 140, 1); #EFEFEF\">TV or film</span> <span style=\"background-color: rgba(221, 9, 140, 0.5360153317451477); padding: 1px 5px; border: solid 3px ; border-color: rgba(221, 9, 140, 1); #EFEFEF\">to get</span> <span style=\"background-color: rgba(221, 9, 140, 0.5360153317451477); padding: 1px 5px; border: solid 3px ; border-color: rgba(221, 9, 140, 1); #EFEFEF\">the people</span> <span style=\"background-color: rgba(221, 9, 140, 0.5360153317451477); padding: 1px 5px; border: solid 3px ; border-color: rgba(221, 9, 140, 1); #EFEFEF\">who</span> <span style=\"background-color: rgba(221, 9, 140, 0.5360153317451477); padding: 1px 5px; border: solid 3px ; border-color: rgba(221, 9, 140, 1); #EFEFEF\">read</span> <span style=\"background-color: rgba(221, 9, 140, 0.5360153317451477); padding: 1px 5px; border: solid 3px ; border-color: rgba(221, 9, 140, 1); #EFEFEF\">the book</span> <span style=\"background-color: rgba(221, 9, 140, 0.5360153317451477); padding: 1px 5px; border: solid 3px ; border-color: rgba(221, 9, 140, 1); #EFEFEF\">to be</span> <span style=\"background-color: rgba(221, 9, 140, 0.5360153317451477); padding: 1px 5px; border: solid 3px ; border-color: rgba(221, 9, 140, 1); #EFEFEF\">part</span> <span style=\"background-color: rgba(221, 9, 140, 0.5360153317451477); padding: 1px 5px; border: solid 3px ; border-color: rgba(221, 9, 140, 1); #EFEFEF\">of</span> <span style=\"background-color: rgba(221, 9, 140, 0.5324408411979675); padding: 1px 5px; border: solid 3px ; border-color: rgba(221, 9, 140, 1); #EFEFEF\">the audience</span> </div>"
      ],
      "text/plain": [
       "<IPython.core.display.HTML object>"
      ]
     },
     "metadata": {},
     "output_type": "display_data"
    },
    {
     "data": {
      "text/html": [
       "<br><br>"
      ],
      "text/plain": [
       "<IPython.core.display.HTML object>"
      ]
     },
     "metadata": {},
     "output_type": "display_data"
    }
   ],
   "source": [
    "plot_reviews_exp(segments_pos, u_segments_pos, factorization_pos, global_importance_pos,\n",
    "                 segments_neg, u_segments_neg, factorization_neg, global_importance_neg,\n",
    "                 custom_samples=True, samples_to_test=[reviews_neg, reviews_pos])"
   ]
  },
  {
   "cell_type": "markdown",
   "id": "a2aa7ff3-cadc-48a9-bf8c-e7ce7bc7b393",
   "metadata": {},
   "source": [
    "### DistilBERT"
   ]
  },
  {
   "cell_type": "code",
   "execution_count": 8,
   "id": "1d697f79-2b18-4721-b7a2-dc22445fc586",
   "metadata": {
    "tags": []
   },
   "outputs": [
    {
     "name": "stderr",
     "output_type": "stream",
     "text": [
      "Some weights of CustomDistilbertForSequenceClassification were not initialized from the model checkpoint at federicopascual/finetuned-sentiment-analysis-model and are newly initialized: ['classifier.out_proj.weight', 'classifier.out_proj.bias', 'classifier.dense.bias', 'classifier.dense.weight']\n",
      "You should probably TRAIN this model on a down-stream task to be able to use it for predictions and inference.\n"
     ]
    }
   ],
   "source": [
    "# Load the model and its tokenizer\n",
    "\n",
    "from transformers import DistilBertTokenizerFast\n",
    "from cockatiel import CustomDistilbertForSequenceClassification, batch_predict, batcher, tokenize\n",
    "\n",
    "tokenizer = DistilBertTokenizerFast.from_pretrained(\"federicopascual/finetuned-sentiment-analysis-model\")\n",
    "model = CustomDistilbertForSequenceClassification.from_pretrained(\"federicopascual/finetuned-sentiment-analysis-model\").to(device)\n",
    "\n",
    "# Put model into evaluation mode\n",
    "model = model.eval()\n",
    "\n",
    "\n",
    "\n",
    "import pickle\n",
    "\n",
    "# Segments and global importances for positive class\n",
    "\n",
    "segments_pos = pickle.load(open(\"../Tez/data/for_distilbert/segments_pos.pkl\",'rb'))\n",
    "u_segments_pos = pickle.load(open(\"../Tez/data/for_distilbert/u_segments_pos.pkl\",'rb'))\n",
    "factorization_pos = pickle.load(open(\"../Tez/data/for_distilbert/factorization_pos.pkl\",'rb'))\n",
    "global_importance_pos = pickle.load(open(\"../Tez/data/for_distilbert/global_importance_pos.pkl\",'rb'))\n",
    "\n",
    "# Segments and global importances for negative class\n",
    "\n",
    "segments_neg = pickle.load(open(\"../Tez/data/for_distilbert/segments_neg.pkl\",'rb'))\n",
    "u_segments_neg = pickle.load(open(\"../Tez/data/for_distilbert/u_segments_neg.pkl\",'rb'))\n",
    "factorization_neg = pickle.load(open(\"../Tez/data/for_distilbert/factorization_neg.pkl\",'rb'))\n",
    "global_importance_neg = pickle.load(open(\"../Tez/data/for_distilbert/global_importance_neg.pkl\",'rb'))"
   ]
  },
  {
   "cell_type": "code",
   "execution_count": 9,
   "id": "08043b2e-4980-42fa-88b9-85e9711a2d4c",
   "metadata": {
    "collapsed": true,
    "jupyter": {
     "outputs_hidden": true
    },
    "tags": []
   },
   "outputs": [
    {
     "data": {
      "image/png": "[encoded data removed]",
      "text/plain": [
       "<Figure size 2200x500 with 2 Axes>"
      ]
     },
     "metadata": {},
     "output_type": "display_data"
    }
   ],
   "source": [
    "plot_glob_importances(global_importance_pos, global_importance_neg)"
   ]
  },
  {
   "cell_type": "code",
   "execution_count": 10,
   "id": "0f26905e-8ae8-4108-a6e3-7bccbb342bf9",
   "metadata": {
    "collapsed": true,
    "jupyter": {
     "outputs_hidden": true
    },
    "tags": []
   },
   "outputs": [
    {
     "data": {
      "text/html": [
       "<div style='display: flex; width: 400px; flex-wrap: wrap'><span style=\"background-color: rgba(9, 221, 55,  0.5); padding: 1px 5px; border: solid 3px ; border-color: rgba(9, 221, 55,  1); #EFEFEF\">Positive label: concept1 </span> <span style=\"background-color: rgba(9, 221, 161,  0.5); padding: 1px 5px; border: solid 3px ; border-color: rgba(9, 221, 161,  1); #EFEFEF\">Positive label: concept2 </span> <span style=\"background-color: rgba(221, 9, 34,  0.5); padding: 1px 5px; border: solid 3px ; border-color: rgba(221, 9, 34,  1); #EFEFEF\">Negative label: concept1 </span> <span style=\"background-color: rgba(221, 9, 140, 0.5); padding: 1px 5px; border: solid 3px ; border-color: rgba(221, 9, 140, 1); #EFEFEF\">Negative label: concept2 </span> <span style=\"background-color: rgba(221, 90, 9,  0.5); padding: 1px 5px; border: solid 3px ; border-color: rgba(221, 90, 9,  1); #EFEFEF\">Negative label: concept3 </span> </div>"
      ],
      "text/plain": [
       "<IPython.core.display.HTML object>"
      ]
     },
     "metadata": {},
     "output_type": "display_data"
    },
    {
     "data": {
      "text/html": [
       "<br><br>"
      ],
      "text/plain": [
       "<IPython.core.display.HTML object>"
      ]
     },
     "metadata": {},
     "output_type": "display_data"
    },
    {
     "name": "stdout",
     "output_type": "stream",
     "text": [
      "positive predicted reviews:\n",
      "\n",
      "\n",
      "\n",
      "\n",
      "10 most important reviews for positive predicted label - concept1:\n",
      "\n",
      "\n"
     ]
    },
    {
     "data": {
      "text/html": [
       "<div style='display: flex; width: 400px; flex-wrap: wrap'><span style=\"background-color: rgba(221, 9, 140, 0.8723392486572266); padding: 1px 5px; border: solid 3px ; border-color: rgba(221, 9, 140, 1); #EFEFEF\">Shin-ae</span> <span style=\"background-color: rgba(9, 221, 55,  0.869985818862915); padding: 1px 5px; border: solid 3px ; border-color: rgba(9, 221, 55,  1); #EFEFEF\">becomes</span> <span style=\"background-color: rgba(9, 221, 55,  0.7347148656845093); padding: 1px 5px; border: solid 3px ; border-color: rgba(9, 221, 55,  1); #EFEFEF\">a church-goer</span> <span style=\"background-color: rgba(221, 9, 140, 0.5438134074211121); padding: 1px 5px; border: solid 3px ; border-color: rgba(221, 9, 140, 1); #EFEFEF\">wants to forgive</span> <span style=\"background-color: rgba(9, 221, 55,  0.6882199645042419); padding: 1px 5px; border: solid 3px ; border-color: rgba(9, 221, 55,  1); #EFEFEF\">the murderer</span> </div>"
      ],
      "text/plain": [
       "<IPython.core.display.HTML object>"
      ]
     },
     "metadata": {},
     "output_type": "display_data"
    },
    {
     "data": {
      "text/html": [
       "<br><br>"
      ],
      "text/plain": [
       "<IPython.core.display.HTML object>"
      ]
     },
     "metadata": {},
     "output_type": "display_data"
    },
    {
     "data": {
      "text/html": [
       "<div style='display: flex; width: 400px; flex-wrap: wrap'><span style=\"background-color: rgba(9, 221, 55,  0.9953447580337524); padding: 1px 5px; border: solid 3px ; border-color: rgba(9, 221, 55,  1); #EFEFEF\">Belushi</span> <span style=\"background-color: rgba(9, 221, 55,  0.8491960763931274); padding: 1px 5px; border: solid 3px ; border-color: rgba(9, 221, 55,  1); #EFEFEF\">gets</span> <span style=\"background-color: rgba(9, 221, 55,  0.48686569929122925); padding: 1px 5px; border: solid 3px ; border-color: rgba(9, 221, 55,  1); #EFEFEF\">the chance</span> <span style=\"background-color: rgba(9, 221, 55,  0.5358285903930664); padding: 1px 5px; border: solid 3px ; border-color: rgba(9, 221, 55,  1); #EFEFEF\">to live</span> <span style=\"background-color: rgba(9, 221, 55,  0.5969154238700867); padding: 1px 5px; border: solid 3px ; border-color: rgba(9, 221, 55,  1); #EFEFEF\">part</span> <span style=\"background-color: rgba(9, 221, 55,  0.5548986196517944); padding: 1px 5px; border: solid 3px ; border-color: rgba(9, 221, 55,  1); #EFEFEF\">of</span> <span style=\"background-color: rgba(221, 9, 140, 0.46366673707962036); padding: 1px 5px; border: solid 3px ; border-color: rgba(221, 9, 140, 1); #EFEFEF\">his life</span> <span style=\"background-color: rgba(9, 221, 55,  0.7333187460899353); padding: 1px 5px; border: solid 3px ; border-color: rgba(9, 221, 55,  1); #EFEFEF\">differently</span> <span style=\"background-color: rgba(9, 221, 55,  0.6322484016418457); padding: 1px 5px; border: solid 3px ; border-color: rgba(9, 221, 55,  1); #EFEFEF\">ends</span> <span style=\"background-color: rgba(9, 221, 55,  0.7457199692726135); padding: 1px 5px; border: solid 3px ; border-color: rgba(9, 221, 55,  1); #EFEFEF\">up</span> <span style=\"background-color: rgba(221, 9, 140, 0.5450369119644165); padding: 1px 5px; border: solid 3px ; border-color: rgba(221, 9, 140, 1); #EFEFEF\">realizing</span> <span style=\"background-color: rgba(9, 221, 55,  0.6937721371650696); padding: 1px 5px; border: solid 3px ; border-color: rgba(9, 221, 55,  1); #EFEFEF\">that</span> <span style=\"background-color: rgba(9, 221, 55,  0.5487363934516907); padding: 1px 5px; border: solid 3px ; border-color: rgba(9, 221, 55,  1); #EFEFEF\">what</span> <span style=\"background-color: rgba(9, 221, 55,  0.4909057915210724); padding: 1px 5px; border: solid 3px ; border-color: rgba(9, 221, 55,  1); #EFEFEF\">he</span> <span style=\"background-color: rgba(9, 221, 55,  0.5392489433288574); padding: 1px 5px; border: solid 3px ; border-color: rgba(9, 221, 55,  1); #EFEFEF\">had</span> <span style=\"background-color: rgba(9, 221, 55,  0.726231575012207); padding: 1px 5px; border: solid 3px ; border-color: rgba(9, 221, 55,  1); #EFEFEF\">was going to be</span> <span style=\"background-color: rgba(9, 221, 55,  0.515740692615509); padding: 1px 5px; border: solid 3px ; border-color: rgba(9, 221, 55,  1); #EFEFEF\">just as good</span> <span style=\"background-color: rgba(9, 221, 55,  0.5288497805595398); padding: 1px 5px; border: solid 3px ; border-color: rgba(9, 221, 55,  1); #EFEFEF\">or maybe</span> <span style=\"background-color: rgba(221, 9, 140, 0.614973247051239); padding: 1px 5px; border: solid 3px ; border-color: rgba(221, 9, 140, 1); #EFEFEF\">even better</span> </div>"
      ],
      "text/plain": [
       "<IPython.core.display.HTML object>"
      ]
     },
     "metadata": {},
     "output_type": "display_data"
    },
    {
     "data": {
      "text/html": [
       "<br><br>"
      ],
      "text/plain": [
       "<IPython.core.display.HTML object>"
      ]
     },
     "metadata": {},
     "output_type": "display_data"
    },
    {
     "data": {
      "text/html": [
       "<div style='display: flex; width: 400px; flex-wrap: wrap'><span style=\"background-color: rgba(9, 221, 55,  0.8940033912658691); padding: 1px 5px; border: solid 3px ; border-color: rgba(9, 221, 55,  1); #EFEFEF\">Ken</span> <span style=\"background-color: rgba(9, 221, 55,  0.46609723567962646); padding: 1px 5px; border: solid 3px ; border-color: rgba(9, 221, 55,  1); #EFEFEF\">rock n'roll fanatic</span> <span style=\"background-color: rgba(9, 221, 55,  0.9953848123550415); padding: 1px 5px; border: solid 3px ; border-color: rgba(9, 221, 55,  1); #EFEFEF\">marries</span> <span style=\"background-color: rgba(9, 221, 55,  0.7751957774162292); padding: 1px 5px; border: solid 3px ; border-color: rgba(9, 221, 55,  1); #EFEFEF\">Kyoto</span> <span style=\"background-color: rgba(9, 221, 55,  0.46877801418304443); padding: 1px 5px; border: solid 3px ; border-color: rgba(9, 221, 55,  1); #EFEFEF\">a Japanese girl</span> <span style=\"background-color: rgba(9, 221, 55,  0.7209811210632324); padding: 1px 5px; border: solid 3px ; border-color: rgba(9, 221, 55,  1); #EFEFEF\">so that</span> <span style=\"background-color: rgba(221, 9, 140, 0.8097838163375854); padding: 1px 5px; border: solid 3px ; border-color: rgba(221, 9, 140, 1); #EFEFEF\">she</span> <span style=\"background-color: rgba(9, 221, 55,  0.6635929346084595); padding: 1px 5px; border: solid 3px ; border-color: rgba(9, 221, 55,  1); #EFEFEF\">can stay</span> <span style=\"background-color: rgba(221, 9, 140, 0.8560436964035034); padding: 1px 5px; border: solid 3px ; border-color: rgba(221, 9, 140, 1); #EFEFEF\">in</span> <span style=\"background-color: rgba(221, 9, 140, 0.853940486907959); padding: 1px 5px; border: solid 3px ; border-color: rgba(221, 9, 140, 1); #EFEFEF\">the United States</span> <span style=\"background-color: rgba(9, 221, 55,  0.9343512058258057); padding: 1px 5px; border: solid 3px ; border-color: rgba(9, 221, 55,  1); #EFEFEF\">when</span> <span style=\"background-color: rgba(221, 9, 140, 0.8004411458969116); padding: 1px 5px; border: solid 3px ; border-color: rgba(221, 9, 140, 1); #EFEFEF\">her visa</span> <span style=\"background-color: rgba(221, 9, 140, 0.7377222180366516); padding: 1px 5px; border: solid 3px ; border-color: rgba(221, 9, 140, 1); #EFEFEF\">expires</span> </div>"
      ],
      "text/plain": [
       "<IPython.core.display.HTML object>"
      ]
     },
     "metadata": {},
     "output_type": "display_data"
    },
    {
     "data": {
      "text/html": [
       "<br><br>"
      ],
      "text/plain": [
       "<IPython.core.display.HTML object>"
      ]
     },
     "metadata": {},
     "output_type": "display_data"
    },
    {
     "data": {
      "text/html": [
       "<div style='display: flex; width: 400px; flex-wrap: wrap'><span style=\"background-color: rgba(9, 221, 55,  0.5021870136260986); padding: 1px 5px; border: solid 3px ; border-color: rgba(9, 221, 55,  1); #EFEFEF\">He</span> <span style=\"background-color: rgba(9, 221, 55,  0.5303193926811218); padding: 1px 5px; border: solid 3px ; border-color: rgba(9, 221, 55,  1); #EFEFEF\">needs</span> <span style=\"background-color: rgba(9, 221, 55,  0.3827473521232605); padding: 1px 5px; border: solid 3px ; border-color: rgba(9, 221, 55,  1); #EFEFEF\">extremes</span> <span style=\"background-color: rgba(9, 221, 55,  0.44302481412887573); padding: 1px 5px; border: solid 3px ; border-color: rgba(9, 221, 55,  1); #EFEFEF\">goes</span> <span style=\"background-color: rgba(9, 221, 55,  0.38796982169151306); padding: 1px 5px; border: solid 3px ; border-color: rgba(9, 221, 55,  1); #EFEFEF\">in</span> <span style=\"background-color: rgba(9, 221, 55,  0.40222838521003723); padding: 1px 5px; border: solid 3px ; border-color: rgba(9, 221, 55,  1); #EFEFEF\">for</span> <span style=\"background-color: rgba(9, 221, 55,  0.421890527009964); padding: 1px 5px; border: solid 3px ; border-color: rgba(9, 221, 55,  1); #EFEFEF\">heavy metal</span> <span style=\"background-color: rgba(9, 221, 55,  0.6266885995864868); padding: 1px 5px; border: solid 3px ; border-color: rgba(9, 221, 55,  1); #EFEFEF\">adopts</span> <span style=\"background-color: rgba(9, 221, 55,  0.6312578320503235); padding: 1px 5px; border: solid 3px ; border-color: rgba(9, 221, 55,  1); #EFEFEF\">earrings</span> <span style=\"background-color: rgba(9, 221, 55,  0.49797406792640686); padding: 1px 5px; border: solid 3px ; border-color: rgba(9, 221, 55,  1); #EFEFEF\">a scarf</span> </div>"
      ],
      "text/plain": [
       "<IPython.core.display.HTML object>"
      ]
     },
     "metadata": {},
     "output_type": "display_data"
    },
    {
     "data": {
      "text/html": [
       "<br><br>"
      ],
      "text/plain": [
       "<IPython.core.display.HTML object>"
      ]
     },
     "metadata": {},
     "output_type": "display_data"
    },
    {
     "data": {
      "text/html": [
       "<div style='display: flex; width: 400px; flex-wrap: wrap'><span style=\"background-color: rgba(221, 9, 140, 0.456253319978714); padding: 1px 5px; border: solid 3px ; border-color: rgba(221, 9, 140, 1); #EFEFEF\">Vatanen</span> <span style=\"background-color: rgba(221, 9, 140, 0.6640082597732544); padding: 1px 5px; border: solid 3px ; border-color: rgba(221, 9, 140, 1); #EFEFEF\">Antti Litja</span> <span style=\"background-color: rgba(9, 221, 55,  0.5251966118812561); padding: 1px 5px; border: solid 3px ; border-color: rgba(9, 221, 55,  1); #EFEFEF\">smothered</span> <span style=\"background-color: rgba(221, 9, 140, 0.4824075698852539); padding: 1px 5px; border: solid 3px ; border-color: rgba(221, 9, 140, 1); #EFEFEF\">buy</span> <span style=\"background-color: rgba(9, 221, 55,  0.4962175488471985); padding: 1px 5px; border: solid 3px ; border-color: rgba(9, 221, 55,  1); #EFEFEF\">the concrete jungle</span> <span style=\"background-color: rgba(221, 9, 140, 0.4322167634963989); padding: 1px 5px; border: solid 3px ; border-color: rgba(221, 9, 140, 1); #EFEFEF\">with</span> <span style=\"background-color: rgba(221, 9, 140, 0.6341276168823242); padding: 1px 5px; border: solid 3px ; border-color: rgba(221, 9, 140, 1); #EFEFEF\">all its rules and regulations</span> <span style=\"background-color: rgba(221, 9, 140, 0.421276330947876); padding: 1px 5px; border: solid 3px ; border-color: rgba(221, 9, 140, 1); #EFEFEF\">tries to rattle</span> <span style=\"background-color: rgba(9, 221, 55,  0.42664462327957153); padding: 1px 5px; border: solid 3px ; border-color: rgba(9, 221, 55,  1); #EFEFEF\">the chains</span> <span style=\"background-color: rgba(221, 9, 140, 0.44014525413513184); padding: 1px 5px; border: solid 3px ; border-color: rgba(221, 9, 140, 1); #EFEFEF\">of</span> <span style=\"background-color: rgba(221, 9, 34,  0.33861908316612244); padding: 1px 5px; border: solid 3px ; border-color: rgba(221, 9, 34,  1); #EFEFEF\">the society</span> <span style=\"background-color: rgba(221, 9, 140, 0.4269482493400574); padding: 1px 5px; border: solid 3px ; border-color: rgba(221, 9, 140, 1); #EFEFEF\">by</span> <span style=\"background-color: rgba(9, 221, 55,  0.5007290244102478); padding: 1px 5px; border: solid 3px ; border-color: rgba(9, 221, 55,  1); #EFEFEF\">escaping</span> <span style=\"background-color: rgba(9, 221, 55,  0.4964972138404846); padding: 1px 5px; border: solid 3px ; border-color: rgba(9, 221, 55,  1); #EFEFEF\">it</span> <span style=\"background-color: rgba(9, 221, 55,  0.4524616599082947); padding: 1px 5px; border: solid 3px ; border-color: rgba(9, 221, 55,  1); #EFEFEF\">all</span> <span style=\"background-color: rgba(9, 221, 55,  0.38486194610595703); padding: 1px 5px; border: solid 3px ; border-color: rgba(9, 221, 55,  1); #EFEFEF\">in</span> <span style=\"background-color: rgba(221, 9, 140, 0.3698367178440094); padding: 1px 5px; border: solid 3px ; border-color: rgba(221, 9, 140, 1); #EFEFEF\">to</span> <span style=\"background-color: rgba(9, 221, 55,  0.5663687586784363); padding: 1px 5px; border: solid 3px ; border-color: rgba(9, 221, 55,  1); #EFEFEF\">the wilderness</span> <span style=\"background-color: rgba(221, 9, 140, 0.41814514994621277); padding: 1px 5px; border: solid 3px ; border-color: rgba(221, 9, 140, 1); #EFEFEF\">of</span> <span style=\"background-color: rgba(9, 221, 55,  0.99019455909729); padding: 1px 5px; border: solid 3px ; border-color: rgba(9, 221, 55,  1); #EFEFEF\">northern Finland</span> <span style=\"background-color: rgba(9, 221, 55,  0.8206510543823242); padding: 1px 5px; border: solid 3px ; border-color: rgba(9, 221, 55,  1); #EFEFEF\">only</span> <span style=\"background-color: rgba(9, 221, 55,  0.7747005224227905); padding: 1px 5px; border: solid 3px ; border-color: rgba(9, 221, 55,  1); #EFEFEF\">to realize</span> <span style=\"background-color: rgba(221, 9, 140, 0.5065609812736511); padding: 1px 5px; border: solid 3px ; border-color: rgba(221, 9, 140, 1); #EFEFEF\">that</span> <span style=\"background-color: rgba(221, 9, 140, 0.4291093647480011); padding: 1px 5px; border: solid 3px ; border-color: rgba(221, 9, 140, 1); #EFEFEF\">the concept</span> <span style=\"background-color: rgba(9, 221, 55,  0.3596982955932617); padding: 1px 5px; border: solid 3px ; border-color: rgba(9, 221, 55,  1); #EFEFEF\">of</span> <span style=\"background-color: rgba(9, 221, 55,  0.43572190403938293); padding: 1px 5px; border: solid 3px ; border-color: rgba(9, 221, 55,  1); #EFEFEF\">a 'free country</span> <span style=\"background-color: rgba(9, 221, 55,  0.31329798698425293); padding: 1px 5px; border: solid 3px ; border-color: rgba(9, 221, 55,  1); #EFEFEF\">is</span> <span style=\"background-color: rgba(9, 221, 55,  0.44197598099708557); padding: 1px 5px; border: solid 3px ; border-color: rgba(9, 221, 55,  1); #EFEFEF\">all that unambiguous</span> <span style=\"background-color: rgba(221, 9, 140, 0.4630325138568878); padding: 1px 5px; border: solid 3px ; border-color: rgba(221, 9, 140, 1); #EFEFEF\">in</span> <span style=\"background-color: rgba(9, 221, 55,  0.47808194160461426); padding: 1px 5px; border: solid 3px ; border-color: rgba(9, 221, 55,  1); #EFEFEF\">other words</span> <span style=\"background-color: rgba(221, 9, 140, 0.36932623386383057); padding: 1px 5px; border: solid 3px ; border-color: rgba(221, 9, 140, 1); #EFEFEF\">the society</span> <span style=\"background-color: rgba(9, 221, 55,  0.5248550772666931); padding: 1px 5px; border: solid 3px ; border-color: rgba(9, 221, 55,  1); #EFEFEF\">has</span> <span style=\"background-color: rgba(9, 221, 55,  0.6851261854171753); padding: 1px 5px; border: solid 3px ; border-color: rgba(9, 221, 55,  1); #EFEFEF\">the common man</span> <span style=\"background-color: rgba(9, 221, 55,  0.3527332544326782); padding: 1px 5px; border: solid 3px ; border-color: rgba(9, 221, 55,  1); #EFEFEF\">by</span> <span style=\"background-color: rgba(9, 221, 55,  0.5988054275512695); padding: 1px 5px; border: solid 3px ; border-color: rgba(9, 221, 55,  1); #EFEFEF\">the balls</span> </div>"
      ],
      "text/plain": [
       "<IPython.core.display.HTML object>"
      ]
     },
     "metadata": {},
     "output_type": "display_data"
    },
    {
     "data": {
      "text/html": [
       "<br><br>"
      ],
      "text/plain": [
       "<IPython.core.display.HTML object>"
      ]
     },
     "metadata": {},
     "output_type": "display_data"
    },
    {
     "data": {
      "text/html": [
       "<div style='display: flex; width: 400px; flex-wrap: wrap'><span style=\"background-color: rgba(9, 221, 55,  0.7259482145309448); padding: 1px 5px; border: solid 3px ; border-color: rgba(9, 221, 55,  1); #EFEFEF\">Okada</span> <span style=\"background-color: rgba(9, 221, 55,  0.4715757369995117); padding: 1px 5px; border: solid 3px ; border-color: rgba(9, 221, 55,  1); #EFEFEF\">being</span> <span style=\"background-color: rgba(9, 221, 55,  0.4576853811740875); padding: 1px 5px; border: solid 3px ; border-color: rgba(9, 221, 55,  1); #EFEFEF\">the cleaner</span> <span style=\"background-color: rgba(9, 221, 55,  0.5409938097000122); padding: 1px 5px; border: solid 3px ; border-color: rgba(9, 221, 55,  1); #EFEFEF\">for</span> <span style=\"background-color: rgba(9, 221, 55,  0.4878418445587158); padding: 1px 5px; border: solid 3px ; border-color: rgba(9, 221, 55,  1); #EFEFEF\">Nakadei</span> <span style=\"background-color: rgba(9, 221, 55,  0.32328176498413086); padding: 1px 5px; border: solid 3px ; border-color: rgba(9, 221, 55,  1); #EFEFEF\">is being treated</span> <span style=\"background-color: rgba(9, 221, 55,  0.366511732339859); padding: 1px 5px; border: solid 3px ; border-color: rgba(9, 221, 55,  1); #EFEFEF\">like</span> <span style=\"background-color: rgba(9, 221, 55,  0.5681096315383911); padding: 1px 5px; border: solid 3px ; border-color: rgba(9, 221, 55,  1); #EFEFEF\">a dog</span> <span style=\"background-color: rgba(9, 221, 55,  0.41126304864883423); padding: 1px 5px; border: solid 3px ; border-color: rgba(9, 221, 55,  1); #EFEFEF\">after</span> <span style=\"background-color: rgba(9, 221, 55,  0.9973554015159607); padding: 1px 5px; border: solid 3px ; border-color: rgba(9, 221, 55,  1); #EFEFEF\">quite a while</span> <span style=\"background-color: rgba(9, 221, 55,  0.5213199257850647); padding: 1px 5px; border: solid 3px ; border-color: rgba(9, 221, 55,  1); #EFEFEF\">he</span> <span style=\"background-color: rgba(9, 221, 55,  0.7116419672966003); padding: 1px 5px; border: solid 3px ; border-color: rgba(9, 221, 55,  1); #EFEFEF\">realises</span> <span style=\"background-color: rgba(9, 221, 55,  0.67587810754776); padding: 1px 5px; border: solid 3px ; border-color: rgba(9, 221, 55,  1); #EFEFEF\">what</span> <span style=\"background-color: rgba(9, 221, 55,  0.39099451899528503); padding: 1px 5px; border: solid 3px ; border-color: rgba(9, 221, 55,  1); #EFEFEF\">he</span> <span style=\"background-color: rgba(9, 221, 55,  0.4225551187992096); padding: 1px 5px; border: solid 3px ; border-color: rgba(9, 221, 55,  1); #EFEFEF\">realy</span> <span style=\"background-color: rgba(9, 221, 55,  0.4809170067310333); padding: 1px 5px; border: solid 3px ; border-color: rgba(9, 221, 55,  1); #EFEFEF\">is</span> <span style=\"background-color: rgba(9, 221, 55,  0.39943236112594604); padding: 1px 5px; border: solid 3px ; border-color: rgba(9, 221, 55,  1); #EFEFEF\">to</span> <span style=\"background-color: rgba(9, 221, 55,  0.5669676065444946); padding: 1px 5px; border: solid 3px ; border-color: rgba(9, 221, 55,  1); #EFEFEF\">Nakadei</span> </div>"
      ],
      "text/plain": [
       "<IPython.core.display.HTML object>"
      ]
     },
     "metadata": {},
     "output_type": "display_data"
    },
    {
     "data": {
      "text/html": [
       "<br><br>"
      ],
      "text/plain": [
       "<IPython.core.display.HTML object>"
      ]
     },
     "metadata": {},
     "output_type": "display_data"
    },
    {
     "data": {
      "text/html": [
       "<div style='display: flex; width: 400px; flex-wrap: wrap'><span style=\"background-color: rgba(9, 221, 55,  0.5905271172523499); padding: 1px 5px; border: solid 3px ; border-color: rgba(9, 221, 55,  1); #EFEFEF\">He</span> <span style=\"background-color: rgba(9, 221, 55,  0.45830056071281433); padding: 1px 5px; border: solid 3px ; border-color: rgba(9, 221, 55,  1); #EFEFEF\">tricks</span> <span style=\"background-color: rgba(9, 221, 55,  0.5175890922546387); padding: 1px 5px; border: solid 3px ; border-color: rgba(9, 221, 55,  1); #EFEFEF\">the police</span> <span style=\"background-color: rgba(9, 221, 55,  0.48611578345298767); padding: 1px 5px; border: solid 3px ; border-color: rgba(9, 221, 55,  1); #EFEFEF\">into</span> <span style=\"background-color: rgba(9, 221, 55,  0.41790643334388733); padding: 1px 5px; border: solid 3px ; border-color: rgba(9, 221, 55,  1); #EFEFEF\">killing</span> <span style=\"background-color: rgba(9, 221, 55,  0.4054616689682007); padding: 1px 5px; border: solid 3px ; border-color: rgba(9, 221, 55,  1); #EFEFEF\">Sheffer</span> <span style=\"background-color: rgba(9, 221, 55,  0.4054616689682007); padding: 1px 5px; border: solid 3px ; border-color: rgba(9, 221, 55,  1); #EFEFEF\">Sheffer</span> <span style=\"background-color: rgba(9, 221, 55,  0.4861125648021698); padding: 1px 5px; border: solid 3px ; border-color: rgba(9, 221, 55,  1); #EFEFEF\">goes</span> <span style=\"background-color: rgba(9, 221, 55,  0.5403228998184204); padding: 1px 5px; border: solid 3px ; border-color: rgba(9, 221, 55,  1); #EFEFEF\">to</span> <span style=\"background-color: rgba(9, 221, 55,  0.5123085975646973); padding: 1px 5px; border: solid 3px ; border-color: rgba(9, 221, 55,  1); #EFEFEF\">a graveyard</span> <span style=\"background-color: rgba(9, 221, 55,  0.5089736580848694); padding: 1px 5px; border: solid 3px ; border-color: rgba(9, 221, 55,  1); #EFEFEF\">named</span> <span style=\"background-color: rgba(9, 221, 55,  0.3804628252983093); padding: 1px 5px; border: solid 3px ; border-color: rgba(9, 221, 55,  1); #EFEFEF\">Midian cemetery</span> <span style=\"background-color: rgba(9, 221, 55,  0.5535857677459717); padding: 1px 5px; border: solid 3px ; border-color: rgba(9, 221, 55,  1); #EFEFEF\">where</span> <span style=\"background-color: rgba(9, 221, 55,  0.38427460193634033); padding: 1px 5px; border: solid 3px ; border-color: rgba(9, 221, 55,  1); #EFEFEF\">the Nightbreed</span> <span style=\"background-color: rgba(9, 221, 55,  0.44431519508361816); padding: 1px 5px; border: solid 3px ; border-color: rgba(9, 221, 55,  1); #EFEFEF\">congregate</span> <span style=\"background-color: rgba(9, 221, 55,  0.41563084721565247); padding: 1px 5px; border: solid 3px ; border-color: rgba(9, 221, 55,  1); #EFEFEF\">live</span> <span style=\"background-color: rgba(9, 221, 55,  0.4093353748321533); padding: 1px 5px; border: solid 3px ; border-color: rgba(9, 221, 55,  1); #EFEFEF\">underground</span> </div>"
      ],
      "text/plain": [
       "<IPython.core.display.HTML object>"
      ]
     },
     "metadata": {},
     "output_type": "display_data"
    },
    {
     "data": {
      "text/html": [
       "<br><br>"
      ],
      "text/plain": [
       "<IPython.core.display.HTML object>"
      ]
     },
     "metadata": {},
     "output_type": "display_data"
    },
    {
     "data": {
      "text/html": [
       "<div style='display: flex; width: 400px; flex-wrap: wrap'><span style=\"background-color: rgba(9, 221, 55,  0.48722970485687256); padding: 1px 5px; border: solid 3px ; border-color: rgba(9, 221, 55,  1); #EFEFEF\">She</span> <span style=\"background-color: rgba(221, 9, 140, 0.5271862745285034); padding: 1px 5px; border: solid 3px ; border-color: rgba(221, 9, 140, 1); #EFEFEF\">decides to visit</span> <span style=\"background-color: rgba(9, 221, 55,  0.48722970485687256); padding: 1px 5px; border: solid 3px ; border-color: rgba(9, 221, 55,  1); #EFEFEF\">her son</span> <span style=\"background-color: rgba(221, 9, 140, 0.3299473226070404); padding: 1px 5px; border: solid 3px ; border-color: rgba(221, 9, 140, 1); #EFEFEF\">'s murderer</span> <span style=\"background-color: rgba(221, 9, 140, 0.7041727304458618); padding: 1px 5px; border: solid 3px ; border-color: rgba(221, 9, 140, 1); #EFEFEF\">in</span> <span style=\"background-color: rgba(221, 9, 140, 0.7827408313751221); padding: 1px 5px; border: solid 3px ; border-color: rgba(221, 9, 140, 1); #EFEFEF\">prison</span> <span style=\"background-color: rgba(221, 9, 140, 0.9920960068702698); padding: 1px 5px; border: solid 3px ; border-color: rgba(221, 9, 140, 1); #EFEFEF\">forgive</span> <span style=\"background-color: rgba(221, 9, 140, 0.6991649270057678); padding: 1px 5px; border: solid 3px ; border-color: rgba(221, 9, 140, 1); #EFEFEF\">him</span> </div>"
      ],
      "text/plain": [
       "<IPython.core.display.HTML object>"
      ]
     },
     "metadata": {},
     "output_type": "display_data"
    },
    {
     "data": {
      "text/html": [
       "<br><br>"
      ],
      "text/plain": [
       "<IPython.core.display.HTML object>"
      ]
     },
     "metadata": {},
     "output_type": "display_data"
    },
    {
     "data": {
      "text/html": [
       "<div style='display: flex; width: 400px; flex-wrap: wrap'><span style=\"background-color: rgba(9, 221, 55,  0.21790160238742828); padding: 1px 5px; border: solid 3px ; border-color: rgba(9, 221, 55,  1); #EFEFEF\">The turning point</span> <span style=\"background-color: rgba(9, 221, 55,  0.6497933864593506); padding: 1px 5px; border: solid 3px ; border-color: rgba(9, 221, 55,  1); #EFEFEF\">in</span> <span style=\"background-color: rgba(9, 221, 55,  0.7636639475822449); padding: 1px 5px; border: solid 3px ; border-color: rgba(9, 221, 55,  1); #EFEFEF\">Secret Sunshine</span> <span style=\"background-color: rgba(9, 221, 55,  0.47635549306869507); padding: 1px 5px; border: solid 3px ; border-color: rgba(9, 221, 55,  1); #EFEFEF\">comes</span> <span style=\"background-color: rgba(9, 221, 55,  0.6838803887367249); padding: 1px 5px; border: solid 3px ; border-color: rgba(9, 221, 55,  1); #EFEFEF\">when</span> <span style=\"background-color: rgba(9, 221, 55,  0.5235879421234131); padding: 1px 5px; border: solid 3px ; border-color: rgba(9, 221, 55,  1); #EFEFEF\">Jun</span> <span style=\"background-color: rgba(9, 221, 55,  0.811240553855896); padding: 1px 5px; border: solid 3px ; border-color: rgba(9, 221, 55,  1); #EFEFEF\">Shin-ae</span> <span style=\"background-color: rgba(9, 221, 55,  0.5703092813491821); padding: 1px 5px; border: solid 3px ; border-color: rgba(9, 221, 55,  1); #EFEFEF\">'s son</span> <span style=\"background-color: rgba(9, 221, 55,  0.9926462173461914); padding: 1px 5px; border: solid 3px ; border-color: rgba(9, 221, 55,  1); #EFEFEF\">is kidnapped and killed</span> </div>"
      ],
      "text/plain": [
       "<IPython.core.display.HTML object>"
      ]
     },
     "metadata": {},
     "output_type": "display_data"
    },
    {
     "data": {
      "text/html": [
       "<br><br>"
      ],
      "text/plain": [
       "<IPython.core.display.HTML object>"
      ]
     },
     "metadata": {},
     "output_type": "display_data"
    },
    {
     "data": {
      "text/html": [
       "<div style='display: flex; width: 400px; flex-wrap: wrap'><span style=\"background-color: rgba(9, 221, 55,  0.702451765537262); padding: 1px 5px; border: solid 3px ; border-color: rgba(9, 221, 55,  1); #EFEFEF\">She</span> <span style=\"background-color: rgba(9, 221, 55,  0.8035253882408142); padding: 1px 5px; border: solid 3px ; border-color: rgba(9, 221, 55,  1); #EFEFEF\">becomes</span> <span style=\"background-color: rgba(9, 221, 55,  0.9769653081893921); padding: 1px 5px; border: solid 3px ; border-color: rgba(9, 221, 55,  1); #EFEFEF\">crazier and crazier</span> <span style=\"background-color: rgba(221, 9, 140, 0.99092036485672); padding: 1px 5px; border: solid 3px ; border-color: rgba(221, 9, 140, 1); #EFEFEF\">is sent</span> <span style=\"background-color: rgba(221, 9, 140, 0.5302616953849792); padding: 1px 5px; border: solid 3px ; border-color: rgba(221, 9, 140, 1); #EFEFEF\">to</span> <span style=\"background-color: rgba(9, 221, 55,  0.5049418807029724); padding: 1px 5px; border: solid 3px ; border-color: rgba(9, 221, 55,  1); #EFEFEF\">a mental hospital</span> </div>"
      ],
      "text/plain": [
       "<IPython.core.display.HTML object>"
      ]
     },
     "metadata": {},
     "output_type": "display_data"
    },
    {
     "data": {
      "text/html": [
       "<br><br>"
      ],
      "text/plain": [
       "<IPython.core.display.HTML object>"
      ]
     },
     "metadata": {},
     "output_type": "display_data"
    },
    {
     "name": "stdout",
     "output_type": "stream",
     "text": [
      "\n",
      "\n",
      "10 most important reviews for positive predicted label - concept2:\n",
      "\n",
      "\n"
     ]
    },
    {
     "data": {
      "text/html": [
       "<div style='display: flex; width: 400px; flex-wrap: wrap'><span style=\"background-color: rgba(9, 221, 55,  0.42789405584335327); padding: 1px 5px; border: solid 3px ; border-color: rgba(9, 221, 55,  1); #EFEFEF\">it</span> <span style=\"background-color: rgba(9, 221, 55,  0.31165796518325806); padding: 1px 5px; border: solid 3px ; border-color: rgba(9, 221, 55,  1); #EFEFEF\">does have</span> <span style=\"background-color: rgba(9, 221, 55,  0.3598555624485016); padding: 1px 5px; border: solid 3px ; border-color: rgba(9, 221, 55,  1); #EFEFEF\">a little something</span> <span style=\"background-color: rgba(9, 221, 55,  0.2069522887468338); padding: 1px 5px; border: solid 3px ; border-color: rgba(9, 221, 55,  1); #EFEFEF\">for</span> <span style=\"background-color: rgba(9, 221, 55,  0.2188115119934082); padding: 1px 5px; border: solid 3px ; border-color: rgba(9, 221, 55,  1); #EFEFEF\">almost everyone</span> <span style=\"background-color: rgba(9, 221, 55,  0.35712841153144836); padding: 1px 5px; border: solid 3px ; border-color: rgba(9, 221, 55,  1); #EFEFEF\">including</span> <span style=\"background-color: rgba(9, 221, 55,  0.24376387894153595); padding: 1px 5px; border: solid 3px ; border-color: rgba(9, 221, 55,  1); #EFEFEF\">a couple</span> <span style=\"background-color: rgba(9, 221, 55,  0.33459675312042236); padding: 1px 5px; border: solid 3px ; border-color: rgba(9, 221, 55,  1); #EFEFEF\">of</span> <span style=\"background-color: rgba(221, 9, 140, 0.6245095133781433); padding: 1px 5px; border: solid 3px ; border-color: rgba(221, 9, 140, 1); #EFEFEF\">really cool abduction scenes</span> <span style=\"background-color: rgba(9, 221, 55,  0.21394631266593933); padding: 1px 5px; border: solid 3px ; border-color: rgba(9, 221, 55,  1); #EFEFEF\">with</span> <span style=\"background-color: rgba(9, 221, 55,  0.3647914230823517); padding: 1px 5px; border: solid 3px ; border-color: rgba(9, 221, 55,  1); #EFEFEF\">aliens</span> </div>"
      ],
      "text/plain": [
       "<IPython.core.display.HTML object>"
      ]
     },
     "metadata": {},
     "output_type": "display_data"
    },
    {
     "data": {
      "text/html": [
       "<br><br>"
      ],
      "text/plain": [
       "<IPython.core.display.HTML object>"
      ]
     },
     "metadata": {},
     "output_type": "display_data"
    },
    {
     "data": {
      "text/html": [
       "<div style='display: flex; width: 400px; flex-wrap: wrap'><span style=\"background-color: rgba(221, 9, 140, 0.23387277126312256); padding: 1px 5px; border: solid 3px ; border-color: rgba(221, 9, 140, 1); #EFEFEF\">It</span> <span style=\"background-color: rgba(9, 221, 161,  0.9921356439590454); padding: 1px 5px; border: solid 3px ; border-color: rgba(9, 221, 161,  1); #EFEFEF\">'s</span> <span style=\"background-color: rgba(9, 221, 161,  0.3749736249446869); padding: 1px 5px; border: solid 3px ; border-color: rgba(9, 221, 161,  1); #EFEFEF\">about</span> <span style=\"background-color: rgba(9, 221, 161,  0.6610115766525269); padding: 1px 5px; border: solid 3px ; border-color: rgba(9, 221, 161,  1); #EFEFEF\">football</span> <span style=\"background-color: rgba(221, 9, 140, 0.4076260030269623); padding: 1px 5px; border: solid 3px ; border-color: rgba(221, 9, 140, 1); #EFEFEF\">its funny</span> <span style=\"background-color: rgba(221, 9, 140, 0.2662142515182495); padding: 1px 5px; border: solid 3px ; border-color: rgba(221, 9, 140, 1); #EFEFEF\">its</span> <span style=\"background-color: rgba(221, 9, 140, 0.6578952670097351); padding: 1px 5px; border: solid 3px ; border-color: rgba(221, 9, 140, 1); #EFEFEF\">really funny</span> </div>"
      ],
      "text/plain": [
       "<IPython.core.display.HTML object>"
      ]
     },
     "metadata": {},
     "output_type": "display_data"
    },
    {
     "data": {
      "text/html": [
       "<br><br>"
      ],
      "text/plain": [
       "<IPython.core.display.HTML object>"
      ]
     },
     "metadata": {},
     "output_type": "display_data"
    },
    {
     "data": {
      "text/html": [
       "<div style='display: flex; width: 400px; flex-wrap: wrap'><span style=\"background-color: rgba(9, 221, 55,  0.8879696726799011); padding: 1px 5px; border: solid 3px ; border-color: rgba(9, 221, 55,  1); #EFEFEF\">we</span> <span style=\"background-color: rgba(9, 221, 55,  0.683788001537323); padding: 1px 5px; border: solid 3px ; border-color: rgba(9, 221, 55,  1); #EFEFEF\">re</span> <span style=\"background-color: rgba(9, 221, 55,  0.6730863451957703); padding: 1px 5px; border: solid 3px ; border-color: rgba(9, 221, 55,  1); #EFEFEF\">different</span> <span style=\"background-color: rgba(9, 221, 55,  0.6871193051338196); padding: 1px 5px; border: solid 3px ; border-color: rgba(9, 221, 55,  1); #EFEFEF\">Made</span> <span style=\"background-color: rgba(9, 221, 55,  0.5565347671508789); padding: 1px 5px; border: solid 3px ; border-color: rgba(9, 221, 55,  1); #EFEFEF\">of</span> <span style=\"background-color: rgba(9, 221, 55,  0.6990530490875244); padding: 1px 5px; border: solid 3px ; border-color: rgba(9, 221, 55,  1); #EFEFEF\">different clay</span> <span style=\"background-color: rgba(9, 221, 55,  0.7545404434204102); padding: 1px 5px; border: solid 3px ; border-color: rgba(9, 221, 55,  1); #EFEFEF\">as</span> <span style=\"background-color: rgba(9, 221, 55,  0.7327415347099304); padding: 1px 5px; border: solid 3px ; border-color: rgba(9, 221, 55,  1); #EFEFEF\">one</span> <span style=\"background-color: rgba(9, 221, 55,  0.6631039381027222); padding: 1px 5px; border: solid 3px ; border-color: rgba(9, 221, 55,  1); #EFEFEF\">of</span> <span style=\"background-color: rgba(9, 221, 55,  0.6495042443275452); padding: 1px 5px; border: solid 3px ; border-color: rgba(9, 221, 55,  1); #EFEFEF\">the characters</span> <span style=\"background-color: rgba(9, 221, 55,  0.6326791048049927); padding: 1px 5px; border: solid 3px ; border-color: rgba(9, 221, 55,  1); #EFEFEF\">in</span> <span style=\"background-color: rgba(9, 221, 55,  0.496981143951416); padding: 1px 5px; border: solid 3px ; border-color: rgba(9, 221, 55,  1); #EFEFEF\">this film</span> <span style=\"background-color: rgba(9, 221, 55,  0.6052631139755249); padding: 1px 5px; border: solid 3px ; border-color: rgba(9, 221, 55,  1); #EFEFEF\">puts</span> <span style=\"background-color: rgba(9, 221, 55,  0.512993574142456); padding: 1px 5px; border: solid 3px ; border-color: rgba(9, 221, 55,  1); #EFEFEF\">it</span> <span style=\"background-color: rgba(9, 221, 55,  0.5736890435218811); padding: 1px 5px; border: solid 3px ; border-color: rgba(9, 221, 55,  1); #EFEFEF\">which</span> <span style=\"background-color: rgba(9, 221, 55,  0.8094387650489807); padding: 1px 5px; border: solid 3px ; border-color: rgba(9, 221, 55,  1); #EFEFEF\">is</span> <span style=\"background-color: rgba(9, 221, 55,  0.625931978225708); padding: 1px 5px; border: solid 3px ; border-color: rgba(9, 221, 55,  1); #EFEFEF\">what</span> <span style=\"background-color: rgba(9, 221, 55,  0.43900662660598755); padding: 1px 5px; border: solid 3px ; border-color: rgba(9, 221, 55,  1); #EFEFEF\">makes</span> <span style=\"background-color: rgba(9, 221, 55,  0.4869752824306488); padding: 1px 5px; border: solid 3px ; border-color: rgba(9, 221, 55,  1); #EFEFEF\">life</span> <span style=\"background-color: rgba(9, 221, 55,  0.9963388442993164); padding: 1px 5px; border: solid 3px ; border-color: rgba(9, 221, 55,  1); #EFEFEF\">so interesting</span> </div>"
      ],
      "text/plain": [
       "<IPython.core.display.HTML object>"
      ]
     },
     "metadata": {},
     "output_type": "display_data"
    },
    {
     "data": {
      "text/html": [
       "<br><br>"
      ],
      "text/plain": [
       "<IPython.core.display.HTML object>"
      ]
     },
     "metadata": {},
     "output_type": "display_data"
    },
    {
     "data": {
      "text/html": [
       "<div style='display: flex; width: 400px; flex-wrap: wrap'><span style=\"background-color: rgba(9, 221, 55,  0.9966413974761963); padding: 1px 5px; border: solid 3px ; border-color: rgba(9, 221, 55,  1); #EFEFEF\">I</span> <span style=\"background-color: rgba(9, 221, 55,  0.7229244709014893); padding: 1px 5px; border: solid 3px ; border-color: rgba(9, 221, 55,  1); #EFEFEF\">like</span> <span style=\"background-color: rgba(9, 221, 55,  0.8079349994659424); padding: 1px 5px; border: solid 3px ; border-color: rgba(9, 221, 55,  1); #EFEFEF\">this movie</span> <span style=\"background-color: rgba(9, 221, 55,  0.378229022026062); padding: 1px 5px; border: solid 3px ; border-color: rgba(9, 221, 55,  1); #EFEFEF\">a lot</span> <span style=\"background-color: rgba(9, 221, 55,  0.42196258902549744); padding: 1px 5px; border: solid 3px ; border-color: rgba(9, 221, 55,  1); #EFEFEF\">it</span> <span style=\"background-color: rgba(9, 221, 55,  0.37123167514801025); padding: 1px 5px; border: solid 3px ; border-color: rgba(9, 221, 55,  1); #EFEFEF\">'s</span> <span style=\"background-color: rgba(9, 221, 55,  0.3232799470424652); padding: 1px 5px; border: solid 3px ; border-color: rgba(9, 221, 55,  1); #EFEFEF\">a fact</span> <span style=\"background-color: rgba(9, 221, 55,  0.2584991753101349); padding: 1px 5px; border: solid 3px ; border-color: rgba(9, 221, 55,  1); #EFEFEF\">that</span> <span style=\"background-color: rgba(9, 221, 55,  0.3754628300666809); padding: 1px 5px; border: solid 3px ; border-color: rgba(9, 221, 55,  1); #EFEFEF\">you</span> <span style=\"background-color: rgba(9, 221, 55,  0.5346270203590393); padding: 1px 5px; border: solid 3px ; border-color: rgba(9, 221, 55,  1); #EFEFEF\">cannot understand</span> <span style=\"background-color: rgba(9, 221, 55,  0.3833572566509247); padding: 1px 5px; border: solid 3px ; border-color: rgba(9, 221, 55,  1); #EFEFEF\">it</span> <span style=\"background-color: rgba(9, 221, 55,  0.2230987250804901); padding: 1px 5px; border: solid 3px ; border-color: rgba(9, 221, 55,  1); #EFEFEF\">unless</span> <span style=\"background-color: rgba(9, 221, 55,  0.27978864312171936); padding: 1px 5px; border: solid 3px ; border-color: rgba(9, 221, 55,  1); #EFEFEF\">you</span> <span style=\"background-color: rgba(9, 221, 55,  0.38114282488822937); padding: 1px 5px; border: solid 3px ; border-color: rgba(9, 221, 55,  1); #EFEFEF\">'re</span> <span style=\"background-color: rgba(9, 221, 55,  0.39285722374916077); padding: 1px 5px; border: solid 3px ; border-color: rgba(9, 221, 55,  1); #EFEFEF\">from</span> <span style=\"background-color: rgba(9, 221, 55,  0.42547351121902466); padding: 1px 5px; border: solid 3px ; border-color: rgba(9, 221, 55,  1); #EFEFEF\">the ex Yugoslavia</span> </div>"
      ],
      "text/plain": [
       "<IPython.core.display.HTML object>"
      ]
     },
     "metadata": {},
     "output_type": "display_data"
    },
    {
     "data": {
      "text/html": [
       "<br><br>"
      ],
      "text/plain": [
       "<IPython.core.display.HTML object>"
      ]
     },
     "metadata": {},
     "output_type": "display_data"
    },
    {
     "data": {
      "text/html": [
       "<div style='display: flex; width: 400px; flex-wrap: wrap'><span style=\"background-color: rgba(9, 221, 55,  0.4270597994327545); padding: 1px 5px; border: solid 3px ; border-color: rgba(9, 221, 55,  1); #EFEFEF\">Everyone</span> <span style=\"background-color: rgba(233,30,99,0);  padding: 1px 5px; border: solid 3px ; border-color:  rgba(233,30,99,0); #EFEFEF\">plays</span> <span style=\"background-color: rgba(221, 9, 140, 0.2003776878118515); padding: 1px 5px; border: solid 3px ; border-color: rgba(221, 9, 140, 1); #EFEFEF\">their part</span> <span style=\"background-color: rgba(233,30,99,0);  padding: 1px 5px; border: solid 3px ; border-color:  rgba(233,30,99,0); #EFEFEF\">pretty well</span> <span style=\"background-color: rgba(233,30,99,0);  padding: 1px 5px; border: solid 3px ; border-color:  rgba(233,30,99,0); #EFEFEF\">in</span> <span style=\"background-color: rgba(9, 221, 55,  0.9977441430091858); padding: 1px 5px; border: solid 3px ; border-color: rgba(9, 221, 55,  1); #EFEFEF\">this little nice movie</span> </div>"
      ],
      "text/plain": [
       "<IPython.core.display.HTML object>"
      ]
     },
     "metadata": {},
     "output_type": "display_data"
    },
    {
     "data": {
      "text/html": [
       "<br><br>"
      ],
      "text/plain": [
       "<IPython.core.display.HTML object>"
      ]
     },
     "metadata": {},
     "output_type": "display_data"
    },
    {
     "data": {
      "text/html": [
       "<div style='display: flex; width: 400px; flex-wrap: wrap'><span style=\"background-color: rgba(9, 221, 55,  0.5186449289321899); padding: 1px 5px; border: solid 3px ; border-color: rgba(9, 221, 55,  1); #EFEFEF\">They</span> <span style=\"background-color: rgba(9, 221, 55,  0.5483839511871338); padding: 1px 5px; border: solid 3px ; border-color: rgba(9, 221, 55,  1); #EFEFEF\">work</span> <span style=\"background-color: rgba(9, 221, 55,  0.47615140676498413); padding: 1px 5px; border: solid 3px ; border-color: rgba(9, 221, 55,  1); #EFEFEF\">together</span> <span style=\"background-color: rgba(9, 221, 55,  0.599624514579773); padding: 1px 5px; border: solid 3px ; border-color: rgba(9, 221, 55,  1); #EFEFEF\">as</span> <span style=\"background-color: rgba(9, 221, 55,  0.676196277141571); padding: 1px 5px; border: solid 3px ; border-color: rgba(9, 221, 55,  1); #EFEFEF\">a team</span> <span style=\"background-color: rgba(9, 221, 55,  0.5782021880149841); padding: 1px 5px; border: solid 3px ; border-color: rgba(9, 221, 55,  1); #EFEFEF\">prosper</span> <span style=\"background-color: rgba(9, 221, 55,  0.6287087202072144); padding: 1px 5px; border: solid 3px ; border-color: rgba(9, 221, 55,  1); #EFEFEF\">from</span> <span style=\"background-color: rgba(9, 221, 55,  0.623529851436615); padding: 1px 5px; border: solid 3px ; border-color: rgba(9, 221, 55,  1); #EFEFEF\">their occupation</span> <span style=\"background-color: rgba(9, 221, 55,  0.5714656114578247); padding: 1px 5px; border: solid 3px ; border-color: rgba(9, 221, 55,  1); #EFEFEF\">when</span> <span style=\"background-color: rgba(9, 221, 55,  0.5925195813179016); padding: 1px 5px; border: solid 3px ; border-color: rgba(9, 221, 55,  1); #EFEFEF\">they</span> <span style=\"background-color: rgba(9, 221, 55,  0.6153608560562134); padding: 1px 5px; border: solid 3px ; border-color: rgba(9, 221, 55,  1); #EFEFEF\">are asked</span> <span style=\"background-color: rgba(9, 221, 55,  0.5998232960700989); padding: 1px 5px; border: solid 3px ; border-color: rgba(9, 221, 55,  1); #EFEFEF\">by</span> <span style=\"background-color: rgba(9, 221, 161,  0.5237265229225159); padding: 1px 5px; border: solid 3px ; border-color: rgba(9, 221, 161,  1); #EFEFEF\">a local tycoon</span> <span style=\"background-color: rgba(9, 221, 55,  0.6415507793426514); padding: 1px 5px; border: solid 3px ; border-color: rgba(9, 221, 55,  1); #EFEFEF\">to lose</span> <span style=\"background-color: rgba(9, 221, 55,  0.5796734690666199); padding: 1px 5px; border: solid 3px ; border-color: rgba(9, 221, 55,  1); #EFEFEF\">one race things</span> <span style=\"background-color: rgba(9, 221, 55,  0.6117037534713745); padding: 1px 5px; border: solid 3px ; border-color: rgba(9, 221, 55,  1); #EFEFEF\">start to get</span> <span style=\"background-color: rgba(9, 221, 55,  0.6311146020889282); padding: 1px 5px; border: solid 3px ; border-color: rgba(9, 221, 55,  1); #EFEFEF\">messy</span> <span style=\"background-color: rgba(9, 221, 55,  0.48583656549453735); padding: 1px 5px; border: solid 3px ; border-color: rgba(9, 221, 55,  1); #EFEFEF\">the fuse</span> <span style=\"background-color: rgba(9, 221, 55,  0.59630286693573); padding: 1px 5px; border: solid 3px ; border-color: rgba(9, 221, 55,  1); #EFEFEF\">from</span> <span style=\"background-color: rgba(9, 221, 55,  0.5944710373878479); padding: 1px 5px; border: solid 3px ; border-color: rgba(9, 221, 55,  1); #EFEFEF\">the bomb</span> <span style=\"background-color: rgba(9, 221, 55,  0.5993207097053528); padding: 1px 5px; border: solid 3px ; border-color: rgba(9, 221, 55,  1); #EFEFEF\">lights</span> <span style=\"background-color: rgba(9, 221, 55,  0.6614071726799011); padding: 1px 5px; border: solid 3px ; border-color: rgba(9, 221, 55,  1); #EFEFEF\">up</span> <span style=\"background-color: rgba(9, 221, 55,  0.7944452166557312); padding: 1px 5px; border: solid 3px ; border-color: rgba(9, 221, 55,  1); #EFEFEF\">creating</span> <span style=\"background-color: rgba(9, 221, 55,  0.9964752793312073); padding: 1px 5px; border: solid 3px ; border-color: rgba(9, 221, 55,  1); #EFEFEF\">a very tensionated movie</span> <span style=\"background-color: rgba(9, 221, 55,  0.9793514609336853); padding: 1px 5px; border: solid 3px ; border-color: rgba(9, 221, 55,  1); #EFEFEF\">that</span> <span style=\"background-color: rgba(9, 221, 55,  0.41402027010917664); padding: 1px 5px; border: solid 3px ; border-color: rgba(9, 221, 55,  1); #EFEFEF\">will keep</span> <span style=\"background-color: rgba(9, 221, 55,  0.44617483019828796); padding: 1px 5px; border: solid 3px ; border-color: rgba(9, 221, 55,  1); #EFEFEF\">you</span> <span style=\"background-color: rgba(9, 221, 55,  0.5844088792800903); padding: 1px 5px; border: solid 3px ; border-color: rgba(9, 221, 55,  1); #EFEFEF\">close</span> <span style=\"background-color: rgba(9, 221, 55,  0.6623402237892151); padding: 1px 5px; border: solid 3px ; border-color: rgba(9, 221, 55,  1); #EFEFEF\">to</span> <span style=\"background-color: rgba(9, 221, 55,  0.4662231504917145); padding: 1px 5px; border: solid 3px ; border-color: rgba(9, 221, 55,  1); #EFEFEF\">the screen</span> <span style=\"background-color: rgba(9, 221, 55,  0.6443504691123962); padding: 1px 5px; border: solid 3px ; border-color: rgba(9, 221, 55,  1); #EFEFEF\">until</span> <span style=\"background-color: rgba(9, 221, 55,  0.5888214707374573); padding: 1px 5px; border: solid 3px ; border-color: rgba(9, 221, 55,  1); #EFEFEF\">the ending</span> <span style=\"background-color: rgba(9, 221, 55,  0.5506680607795715); padding: 1px 5px; border: solid 3px ; border-color: rgba(9, 221, 55,  1); #EFEFEF\">of</span> <span style=\"background-color: rgba(9, 221, 55,  0.5583575367927551); padding: 1px 5px; border: solid 3px ; border-color: rgba(9, 221, 55,  1); #EFEFEF\">it</span> <span style=\"background-color: rgba(9, 221, 55,  0.6050484776496887); padding: 1px 5px; border: solid 3px ; border-color: rgba(9, 221, 55,  1); #EFEFEF\">when</span> <span style=\"background-color: rgba(9, 221, 55,  0.5588780045509338); padding: 1px 5px; border: solid 3px ; border-color: rgba(9, 221, 55,  1); #EFEFEF\">you</span> <span style=\"background-color: rgba(9, 221, 55,  0.7138634920120239); padding: 1px 5px; border: solid 3px ; border-color: rgba(9, 221, 55,  1); #EFEFEF\">will still be asking</span> <span style=\"background-color: rgba(9, 221, 55,  0.5406323075294495); padding: 1px 5px; border: solid 3px ; border-color: rgba(9, 221, 55,  1); #EFEFEF\">yourself</span> <span style=\"background-color: rgba(9, 221, 55,  0.5477368235588074); padding: 1px 5px; border: solid 3px ; border-color: rgba(9, 221, 55,  1); #EFEFEF\">a lot</span> <span style=\"background-color: rgba(9, 221, 55,  0.5437736511230469); padding: 1px 5px; border: solid 3px ; border-color: rgba(9, 221, 55,  1); #EFEFEF\">of</span> <span style=\"background-color: rgba(9, 221, 55,  0.5600087642669678); padding: 1px 5px; border: solid 3px ; border-color: rgba(9, 221, 55,  1); #EFEFEF\">questions</span> <span style=\"background-color: rgba(9, 221, 55,  0.566149115562439); padding: 1px 5px; border: solid 3px ; border-color: rgba(9, 221, 55,  1); #EFEFEF\">long</span> <span style=\"background-color: rgba(9, 221, 55,  0.41644832491874695); padding: 1px 5px; border: solid 3px ; border-color: rgba(9, 221, 55,  1); #EFEFEF\">after</span> <span style=\"background-color: rgba(9, 221, 55,  0.5872620940208435); padding: 1px 5px; border: solid 3px ; border-color: rgba(9, 221, 55,  1); #EFEFEF\">that</span> </div>"
      ],
      "text/plain": [
       "<IPython.core.display.HTML object>"
      ]
     },
     "metadata": {},
     "output_type": "display_data"
    },
    {
     "data": {
      "text/html": [
       "<br><br>"
      ],
      "text/plain": [
       "<IPython.core.display.HTML object>"
      ]
     },
     "metadata": {},
     "output_type": "display_data"
    },
    {
     "data": {
      "text/html": [
       "<div style='display: flex; width: 400px; flex-wrap: wrap'><span style=\"background-color: rgba(233,30,99,0);  padding: 1px 5px; border: solid 3px ; border-color:  rgba(233,30,99,0); #EFEFEF\">I</span> <span style=\"background-color: rgba(221, 9, 140, 0.4177827537059784); padding: 1px 5px; border: solid 3px ; border-color: rgba(221, 9, 140, 1); #EFEFEF\">picked</span> <span style=\"background-color: rgba(221, 9, 140, 0.4440830945968628); padding: 1px 5px; border: solid 3px ; border-color: rgba(221, 9, 140, 1); #EFEFEF\">up</span> <span style=\"background-color: rgba(221, 9, 140, 0.7724136710166931); padding: 1px 5px; border: solid 3px ; border-color: rgba(221, 9, 140, 1); #EFEFEF\">Loving</span> <span style=\"background-color: rgba(9, 221, 55,  0.27039986848831177); padding: 1px 5px; border: solid 3px ; border-color: rgba(9, 221, 55,  1); #EFEFEF\">on</span> <span style=\"background-color: rgba(9, 221, 55,  0.47511395812034607); padding: 1px 5px; border: solid 3px ; border-color: rgba(9, 221, 55,  1); #EFEFEF\">Tokyo Time</span> <span style=\"background-color: rgba(233,30,99,0);  padding: 1px 5px; border: solid 3px ; border-color:  rgba(233,30,99,0); #EFEFEF\">because</span> <span style=\"background-color: rgba(221, 9, 140, 0.23618432879447937); padding: 1px 5px; border: solid 3px ; border-color: rgba(221, 9, 140, 1); #EFEFEF\">it</span> <span style=\"background-color: rgba(221, 9, 140, 0.3764733076095581); padding: 1px 5px; border: solid 3px ; border-color: rgba(221, 9, 140, 1); #EFEFEF\">reminded</span> <span style=\"background-color: rgba(221, 9, 140, 0.41590771079063416); padding: 1px 5px; border: solid 3px ; border-color: rgba(221, 9, 140, 1); #EFEFEF\">me</span> <span style=\"background-color: rgba(221, 9, 140, 0.28939375281333923); padding: 1px 5px; border: solid 3px ; border-color: rgba(221, 9, 140, 1); #EFEFEF\">of</span> <span style=\"background-color: rgba(221, 9, 140, 0.34084421396255493); padding: 1px 5px; border: solid 3px ; border-color: rgba(221, 9, 140, 1); #EFEFEF\">one</span> <span style=\"background-color: rgba(221, 9, 140, 0.2417515367269516); padding: 1px 5px; border: solid 3px ; border-color: rgba(221, 9, 140, 1); #EFEFEF\">of</span> <span style=\"background-color: rgba(221, 9, 140, 0.9946603775024414); padding: 1px 5px; border: solid 3px ; border-color: rgba(221, 9, 140, 1); #EFEFEF\">my favorite 80s films</span> <span style=\"background-color: rgba(221, 9, 140, 0.489980548620224); padding: 1px 5px; border: solid 3px ; border-color: rgba(221, 9, 140, 1); #EFEFEF\">Tokyo Pop</span> </div>"
      ],
      "text/plain": [
       "<IPython.core.display.HTML object>"
      ]
     },
     "metadata": {},
     "output_type": "display_data"
    },
    {
     "data": {
      "text/html": [
       "<br><br>"
      ],
      "text/plain": [
       "<IPython.core.display.HTML object>"
      ]
     },
     "metadata": {},
     "output_type": "display_data"
    },
    {
     "data": {
      "text/html": [
       "<div style='display: flex; width: 400px; flex-wrap: wrap'><span style=\"background-color: rgba(233,30,99,0);  padding: 1px 5px; border: solid 3px ; border-color:  rgba(233,30,99,0); #EFEFEF\">I</span> <span style=\"background-color: rgba(9, 221, 55,  0.5034322738647461); padding: 1px 5px; border: solid 3px ; border-color: rgba(9, 221, 55,  1); #EFEFEF\">'ve just finished listening</span> <span style=\"background-color: rgba(233,30,99,0);  padding: 1px 5px; border: solid 3px ; border-color:  rgba(233,30,99,0); #EFEFEF\">to</span> <span style=\"background-color: rgba(233,30,99,0);  padding: 1px 5px; border: solid 3px ; border-color:  rgba(233,30,99,0); #EFEFEF\">the director</span> <span style=\"background-color: rgba(233,30,99,0);  padding: 1px 5px; border: solid 3px ; border-color:  rgba(233,30,99,0); #EFEFEF\">'s commentary</span> <span style=\"background-color: rgba(233,30,99,0);  padding: 1px 5px; border: solid 3px ; border-color:  rgba(233,30,99,0); #EFEFEF\">for</span> <span style=\"background-color: rgba(221, 9, 140, 0.5450036525726318); padding: 1px 5px; border: solid 3px ; border-color: rgba(221, 9, 140, 1); #EFEFEF\">this film</span> <span style=\"background-color: rgba(221, 9, 140, 0.7569933533668518); padding: 1px 5px; border: solid 3px ; border-color: rgba(221, 9, 140, 1); #EFEFEF\">I</span> <span style=\"background-color: rgba(9, 221, 55,  0.2998637557029724); padding: 1px 5px; border: solid 3px ; border-color: rgba(9, 221, 55,  1); #EFEFEF\">think</span> <span style=\"background-color: rgba(9, 221, 55,  0.3260037899017334); padding: 1px 5px; border: solid 3px ; border-color: rgba(9, 221, 55,  1); #EFEFEF\">the one big thing</span> <span style=\"background-color: rgba(221, 9, 34,  0.20122191309928894); padding: 1px 5px; border: solid 3px ; border-color: rgba(221, 9, 34,  1); #EFEFEF\">I</span> <span style=\"background-color: rgba(9, 221, 55,  0.9792729020118713); padding: 1px 5px; border: solid 3px ; border-color: rgba(9, 221, 55,  1); #EFEFEF\">got</span> <span style=\"background-color: rgba(221, 9, 34,  0.20412686467170715); padding: 1px 5px; border: solid 3px ; border-color: rgba(221, 9, 34,  1); #EFEFEF\">from</span> <span style=\"background-color: rgba(221, 9, 140, 0.8935502171516418); padding: 1px 5px; border: solid 3px ; border-color: rgba(221, 9, 140, 1); #EFEFEF\">it</span> <span style=\"background-color: rgba(9, 221, 55,  0.6068158149719238); padding: 1px 5px; border: solid 3px ; border-color: rgba(9, 221, 55,  1); #EFEFEF\">that</span> <span style=\"background-color: rgba(233,30,99,0);  padding: 1px 5px; border: solid 3px ; border-color:  rgba(233,30,99,0); #EFEFEF\">I</span> <span style=\"background-color: rgba(233,30,99,0);  padding: 1px 5px; border: solid 3px ; border-color:  rgba(233,30,99,0); #EFEFEF\">agree</span> <span style=\"background-color: rgba(233,30,99,0);  padding: 1px 5px; border: solid 3px ; border-color:  rgba(233,30,99,0); #EFEFEF\">with</span> <span style=\"background-color: rgba(9, 221, 55,  0.38304463028907776); padding: 1px 5px; border: solid 3px ; border-color: rgba(9, 221, 55,  1); #EFEFEF\">is</span> <span style=\"background-color: rgba(221, 9, 140, 0.3426339030265808); padding: 1px 5px; border: solid 3px ; border-color: rgba(221, 9, 140, 1); #EFEFEF\">that</span> <span style=\"background-color: rgba(221, 9, 140, 0.5350525975227356); padding: 1px 5px; border: solid 3px ; border-color: rgba(221, 9, 140, 1); #EFEFEF\">this film</span> <span style=\"background-color: rgba(9, 221, 55,  0.32778456807136536); padding: 1px 5px; border: solid 3px ; border-color: rgba(9, 221, 55,  1); #EFEFEF\">like</span> <span style=\"background-color: rgba(233,30,99,0);  padding: 1px 5px; border: solid 3px ; border-color:  rgba(233,30,99,0); #EFEFEF\">Mann</span> <span style=\"background-color: rgba(221, 9, 140, 0.7856814861297607); padding: 1px 5px; border: solid 3px ; border-color: rgba(221, 9, 140, 1); #EFEFEF\">'s The Insider</span> <span style=\"background-color: rgba(233,30,99,0);  padding: 1px 5px; border: solid 3px ; border-color:  rgba(233,30,99,0); #EFEFEF\">is</span> <span style=\"background-color: rgba(221, 9, 140, 0.37806186079978943); padding: 1px 5px; border: solid 3px ; border-color: rgba(221, 9, 140, 1); #EFEFEF\">completely subjective</span> </div>"
      ],
      "text/plain": [
       "<IPython.core.display.HTML object>"
      ]
     },
     "metadata": {},
     "output_type": "display_data"
    },
    {
     "data": {
      "text/html": [
       "<br><br>"
      ],
      "text/plain": [
       "<IPython.core.display.HTML object>"
      ]
     },
     "metadata": {},
     "output_type": "display_data"
    },
    {
     "data": {
      "text/html": [
       "<div style='display: flex; width: 400px; flex-wrap: wrap'><span style=\"background-color: rgba(9, 221, 55,  0.6786502003669739); padding: 1px 5px; border: solid 3px ; border-color: rgba(9, 221, 55,  1); #EFEFEF\">It</span> <span style=\"background-color: rgba(9, 221, 55,  0.22125260531902313); padding: 1px 5px; border: solid 3px ; border-color: rgba(9, 221, 55,  1); #EFEFEF\">'s</span> <span style=\"background-color: rgba(9, 221, 55,  0.9952057600021362); padding: 1px 5px; border: solid 3px ; border-color: rgba(9, 221, 55,  1); #EFEFEF\">sad</span> <span style=\"background-color: rgba(9, 221, 55,  0.25936126708984375); padding: 1px 5px; border: solid 3px ; border-color: rgba(9, 221, 55,  1); #EFEFEF\">in</span> <span style=\"background-color: rgba(9, 221, 55,  0.38174188137054443); padding: 1px 5px; border: solid 3px ; border-color: rgba(9, 221, 55,  1); #EFEFEF\">that</span> <span style=\"background-color: rgba(9, 221, 55,  0.5409493446350098); padding: 1px 5px; border: solid 3px ; border-color: rgba(9, 221, 55,  1); #EFEFEF\">this</span> <span style=\"background-color: rgba(9, 221, 55,  0.4254605174064636); padding: 1px 5px; border: solid 3px ; border-color: rgba(9, 221, 55,  1); #EFEFEF\">is</span> <span style=\"background-color: rgba(9, 221, 55,  0.49583086371421814); padding: 1px 5px; border: solid 3px ; border-color: rgba(9, 221, 55,  1); #EFEFEF\">finally</span> <span style=\"background-color: rgba(9, 221, 55,  0.44271373748779297); padding: 1px 5px; border: solid 3px ; border-color: rgba(9, 221, 55,  1); #EFEFEF\">someone</span> <span style=\"background-color: rgba(9, 221, 55,  0.5649068355560303); padding: 1px 5px; border: solid 3px ; border-color: rgba(9, 221, 55,  1); #EFEFEF\">Ken</span> <span style=\"background-color: rgba(9, 221, 55,  0.657802164554596); padding: 1px 5px; border: solid 3px ; border-color: rgba(9, 221, 55,  1); #EFEFEF\">thinks</span> <span style=\"background-color: rgba(9, 221, 55,  0.5452409386634827); padding: 1px 5px; border: solid 3px ; border-color: rgba(9, 221, 55,  1); #EFEFEF\">he</span> <span style=\"background-color: rgba(9, 221, 55,  0.6840115189552307); padding: 1px 5px; border: solid 3px ; border-color: rgba(9, 221, 55,  1); #EFEFEF\">can love</span> <span style=\"background-color: rgba(9, 221, 55,  0.35672110319137573); padding: 1px 5px; border: solid 3px ; border-color: rgba(9, 221, 55,  1); #EFEFEF\">be</span> <span style=\"background-color: rgba(9, 221, 55,  0.4573184549808502); padding: 1px 5px; border: solid 3px ; border-color: rgba(9, 221, 55,  1); #EFEFEF\">with</span> <span style=\"background-color: rgba(9, 221, 55,  0.6143422722816467); padding: 1px 5px; border: solid 3px ; border-color: rgba(9, 221, 55,  1); #EFEFEF\">all that</span> <span style=\"background-color: rgba(9, 221, 55,  0.5426284074783325); padding: 1px 5px; border: solid 3px ; border-color: rgba(9, 221, 55,  1); #EFEFEF\">except</span> <span style=\"background-color: rgba(9, 221, 55,  0.4517417550086975); padding: 1px 5px; border: solid 3px ; border-color: rgba(9, 221, 55,  1); #EFEFEF\">the one time</span> <span style=\"background-color: rgba(9, 221, 55,  0.5273007750511169); padding: 1px 5px; border: solid 3px ; border-color: rgba(9, 221, 55,  1); #EFEFEF\">he</span> <span style=\"background-color: rgba(9, 221, 55,  0.5832071900367737); padding: 1px 5px; border: solid 3px ; border-color: rgba(9, 221, 55,  1); #EFEFEF\">thinks</span> <span style=\"background-color: rgba(9, 221, 55,  0.49975231289863586); padding: 1px 5px; border: solid 3px ; border-color: rgba(9, 221, 55,  1); #EFEFEF\">he</span> <span style=\"background-color: rgba(9, 221, 55,  0.4482772648334503); padding: 1px 5px; border: solid 3px ; border-color: rgba(9, 221, 55,  1); #EFEFEF\">'s found</span> <span style=\"background-color: rgba(9, 221, 55,  0.5050866007804871); padding: 1px 5px; border: solid 3px ; border-color: rgba(9, 221, 55,  1); #EFEFEF\">someone</span> <span style=\"background-color: rgba(9, 221, 55,  0.521261990070343); padding: 1px 5px; border: solid 3px ; border-color: rgba(9, 221, 55,  1); #EFEFEF\">to feel</span> <span style=\"background-color: rgba(9, 221, 55,  0.5184443593025208); padding: 1px 5px; border: solid 3px ; border-color: rgba(9, 221, 55,  1); #EFEFEF\">that way</span> <span style=\"background-color: rgba(9, 221, 55,  0.4896777272224426); padding: 1px 5px; border: solid 3px ; border-color: rgba(9, 221, 55,  1); #EFEFEF\">about</span> <span style=\"background-color: rgba(9, 221, 55,  0.4764055609703064); padding: 1px 5px; border: solid 3px ; border-color: rgba(9, 221, 55,  1); #EFEFEF\">the girl</span> <span style=\"background-color: rgba(9, 221, 55,  0.4533175230026245); padding: 1px 5px; border: solid 3px ; border-color: rgba(9, 221, 55,  1); #EFEFEF\">isn't expecting to stay</span> <span style=\"background-color: rgba(9, 221, 55,  0.5779592990875244); padding: 1px 5px; border: solid 3px ; border-color: rgba(9, 221, 55,  1); #EFEFEF\">that long</span> </div>"
      ],
      "text/plain": [
       "<IPython.core.display.HTML object>"
      ]
     },
     "metadata": {},
     "output_type": "display_data"
    },
    {
     "data": {
      "text/html": [
       "<br><br>"
      ],
      "text/plain": [
       "<IPython.core.display.HTML object>"
      ]
     },
     "metadata": {},
     "output_type": "display_data"
    },
    {
     "data": {
      "text/html": [
       "<div style='display: flex; width: 400px; flex-wrap: wrap'><span style=\"background-color: rgba(221, 9, 140, 0.4659034311771393); padding: 1px 5px; border: solid 3px ; border-color: rgba(221, 9, 140, 1); #EFEFEF\">This</span> <span style=\"background-color: rgba(221, 9, 140, 0.4245651960372925); padding: 1px 5px; border: solid 3px ; border-color: rgba(221, 9, 140, 1); #EFEFEF\">is</span> <span style=\"background-color: rgba(221, 9, 140, 0.3804624676704407); padding: 1px 5px; border: solid 3px ; border-color: rgba(221, 9, 140, 1); #EFEFEF\">one</span> <span style=\"background-color: rgba(221, 9, 140, 0.41099634766578674); padding: 1px 5px; border: solid 3px ; border-color: rgba(221, 9, 140, 1); #EFEFEF\">of</span> <span style=\"background-color: rgba(9, 221, 55,  0.2530771493911743); padding: 1px 5px; border: solid 3px ; border-color: rgba(9, 221, 55,  1); #EFEFEF\">the most atmospheric portions</span> <span style=\"background-color: rgba(221, 9, 140, 0.37558770179748535); padding: 1px 5px; border: solid 3px ; border-color: rgba(221, 9, 140, 1); #EFEFEF\">of</span> <span style=\"background-color: rgba(221, 9, 140, 0.7458942532539368); padding: 1px 5px; border: solid 3px ; border-color: rgba(221, 9, 140, 1); #EFEFEF\">the film</span> <span style=\"background-color: rgba(221, 9, 140, 0.22133228182792664); padding: 1px 5px; border: solid 3px ; border-color: rgba(221, 9, 140, 1); #EFEFEF\">chills</span> <span style=\"background-color: rgba(221, 9, 140, 0.4708711802959442); padding: 1px 5px; border: solid 3px ; border-color: rgba(221, 9, 140, 1); #EFEFEF\">me</span> <span style=\"background-color: rgba(221, 9, 140, 0.23210082948207855); padding: 1px 5px; border: solid 3px ; border-color: rgba(221, 9, 140, 1); #EFEFEF\">whenever</span> <span style=\"background-color: rgba(221, 9, 140, 0.29683274030685425); padding: 1px 5px; border: solid 3px ; border-color: rgba(221, 9, 140, 1); #EFEFEF\">I</span> <span style=\"background-color: rgba(221, 9, 140, 0.4216744005680084); padding: 1px 5px; border: solid 3px ; border-color: rgba(221, 9, 140, 1); #EFEFEF\">see</span> <span style=\"background-color: rgba(221, 9, 140, 0.44039466977119446); padding: 1px 5px; border: solid 3px ; border-color: rgba(221, 9, 140, 1); #EFEFEF\">it</span> </div>"
      ],
      "text/plain": [
       "<IPython.core.display.HTML object>"
      ]
     },
     "metadata": {},
     "output_type": "display_data"
    },
    {
     "data": {
      "text/html": [
       "<br><br>"
      ],
      "text/plain": [
       "<IPython.core.display.HTML object>"
      ]
     },
     "metadata": {},
     "output_type": "display_data"
    },
    {
     "name": "stdout",
     "output_type": "stream",
     "text": [
      "\n",
      "\n",
      "negative predicted reviews:\n",
      "\n",
      "\n",
      "\n",
      "\n",
      "10 most important reviews for negative predicted label - concept1:\n",
      "\n",
      "\n"
     ]
    },
    {
     "data": {
      "text/html": [
       "<div style='display: flex; width: 400px; flex-wrap: wrap'><span style=\"background-color: rgba(221, 9, 140, 0.9956579804420471); padding: 1px 5px; border: solid 3px ; border-color: rgba(221, 9, 140, 1); #EFEFEF\">You</span> <span style=\"background-color: rgba(9, 221, 55,  0.4413949251174927); padding: 1px 5px; border: solid 3px ; border-color: rgba(9, 221, 55,  1); #EFEFEF\">cannot take</span> <span style=\"background-color: rgba(221, 9, 140, 0.6253787279129028); padding: 1px 5px; border: solid 3px ; border-color: rgba(221, 9, 140, 1); #EFEFEF\">my word</span> <span style=\"background-color: rgba(221, 9, 140, 0.45344793796539307); padding: 1px 5px; border: solid 3px ; border-color: rgba(221, 9, 140, 1); #EFEFEF\">for</span> <span style=\"background-color: rgba(221, 9, 140, 0.6248356103897095); padding: 1px 5px; border: solid 3px ; border-color: rgba(221, 9, 140, 1); #EFEFEF\">it</span> <span style=\"background-color: rgba(221, 9, 140, 0.6604243516921997); padding: 1px 5px; border: solid 3px ; border-color: rgba(221, 9, 140, 1); #EFEFEF\">you</span> <span style=\"background-color: rgba(221, 9, 140, 0.8748554587364197); padding: 1px 5px; border: solid 3px ; border-color: rgba(221, 9, 140, 1); #EFEFEF\">must see</span> <span style=\"background-color: rgba(221, 9, 140, 0.4456911087036133); padding: 1px 5px; border: solid 3px ; border-color: rgba(221, 9, 140, 1); #EFEFEF\">it</span> </div>"
      ],
      "text/plain": [
       "<IPython.core.display.HTML object>"
      ]
     },
     "metadata": {},
     "output_type": "display_data"
    },
    {
     "data": {
      "text/html": [
       "<br><br>"
      ],
      "text/plain": [
       "<IPython.core.display.HTML object>"
      ]
     },
     "metadata": {},
     "output_type": "display_data"
    },
    {
     "data": {
      "text/html": [
       "<div style='display: flex; width: 400px; flex-wrap: wrap'><span style=\"background-color: rgba(221, 9, 140, 0.5201444029808044); padding: 1px 5px; border: solid 3px ; border-color: rgba(221, 9, 140, 1); #EFEFEF\">Neither</span> <span style=\"background-color: rgba(221, 9, 140, 0.8470150828361511); padding: 1px 5px; border: solid 3px ; border-color: rgba(221, 9, 140, 1); #EFEFEF\">of</span> <span style=\"background-color: rgba(221, 9, 140, 0.6095011234283447); padding: 1px 5px; border: solid 3px ; border-color: rgba(221, 9, 140, 1); #EFEFEF\">the young lovers</span> <span style=\"background-color: rgba(221, 9, 140, 0.714798092842102); padding: 1px 5px; border: solid 3px ; border-color: rgba(221, 9, 140, 1); #EFEFEF\">deserves to die</span> <span style=\"background-color: rgba(221, 9, 140, 0.7778586149215698); padding: 1px 5px; border: solid 3px ; border-color: rgba(221, 9, 140, 1); #EFEFEF\">they</span> <span style=\"background-color: rgba(221, 9, 140, 0.6617767214775085); padding: 1px 5px; border: solid 3px ; border-color: rgba(221, 9, 140, 1); #EFEFEF\">are destined</span> <span style=\"background-color: rgba(221, 9, 140, 0.6376925110816956); padding: 1px 5px; border: solid 3px ; border-color: rgba(221, 9, 140, 1); #EFEFEF\">by</span> <span style=\"background-color: rgba(221, 9, 140, 0.7377482652664185); padding: 1px 5px; border: solid 3px ; border-color: rgba(221, 9, 140, 1); #EFEFEF\">circumstances</span> <span style=\"background-color: rgba(221, 9, 140, 0.9965614080429077); padding: 1px 5px; border: solid 3px ; border-color: rgba(221, 9, 140, 1); #EFEFEF\">to be reunited</span> <span style=\"background-color: rgba(221, 9, 140, 0.7411602735519409); padding: 1px 5px; border: solid 3px ; border-color: rgba(221, 9, 140, 1); #EFEFEF\">only</span> <span style=\"background-color: rgba(221, 9, 140, 0.7430092692375183); padding: 1px 5px; border: solid 3px ; border-color: rgba(221, 9, 140, 1); #EFEFEF\">in</span> <span style=\"background-color: rgba(221, 9, 140, 0.6771712303161621); padding: 1px 5px; border: solid 3px ; border-color: rgba(221, 9, 140, 1); #EFEFEF\">death</span> </div>"
      ],
      "text/plain": [
       "<IPython.core.display.HTML object>"
      ]
     },
     "metadata": {},
     "output_type": "display_data"
    },
    {
     "data": {
      "text/html": [
       "<br><br>"
      ],
      "text/plain": [
       "<IPython.core.display.HTML object>"
      ]
     },
     "metadata": {},
     "output_type": "display_data"
    },
    {
     "data": {
      "text/html": [
       "<div style='display: flex; width: 400px; flex-wrap: wrap'><span style=\"background-color: rgba(233,30,99,0);  padding: 1px 5px; border: solid 3px ; border-color:  rgba(233,30,99,0); #EFEFEF\">Norman</span> <span style=\"background-color: rgba(233,30,99,0);  padding: 1px 5px; border: solid 3px ; border-color:  rgba(233,30,99,0); #EFEFEF\">lives</span> <span style=\"background-color: rgba(221, 9, 140, 0.4198961555957794); padding: 1px 5px; border: solid 3px ; border-color: rgba(221, 9, 140, 1); #EFEFEF\">his life</span> <span style=\"background-color: rgba(9, 221, 55,  0.21912764012813568); padding: 1px 5px; border: solid 3px ; border-color: rgba(9, 221, 55,  1); #EFEFEF\">vicariously</span> <span style=\"background-color: rgba(221, 9, 140, 0.2168019711971283); padding: 1px 5px; border: solid 3px ; border-color: rgba(221, 9, 140, 1); #EFEFEF\">through</span> <span style=\"background-color: rgba(233,30,99,0);  padding: 1px 5px; border: solid 3px ; border-color:  rgba(233,30,99,0); #EFEFEF\">Sir</span> <span style=\"background-color: rgba(9, 221, 55,  0.2546963095664978); padding: 1px 5px; border: solid 3px ; border-color: rgba(9, 221, 55,  1); #EFEFEF\">without</span> <span style=\"background-color: rgba(9, 221, 55,  0.20649707317352295); padding: 1px 5px; border: solid 3px ; border-color: rgba(9, 221, 55,  1); #EFEFEF\">Sir</span> <span style=\"background-color: rgba(233,30,99,0);  padding: 1px 5px; border: solid 3px ; border-color:  rgba(233,30,99,0); #EFEFEF\">to need</span> <span style=\"background-color: rgba(233,30,99,0);  padding: 1px 5px; border: solid 3px ; border-color:  rgba(233,30,99,0); #EFEFEF\">him</span> <span style=\"background-color: rgba(233,30,99,0);  padding: 1px 5px; border: solid 3px ; border-color:  rgba(233,30,99,0); #EFEFEF\">he</span> <span style=\"background-color: rgba(233,30,99,0);  padding: 1px 5px; border: solid 3px ; border-color:  rgba(233,30,99,0); #EFEFEF\">is</span> <span style=\"background-color: rgba(233,30,99,0);  padding: 1px 5px; border: solid 3px ; border-color:  rgba(233,30,99,0); #EFEFEF\">nothing</span> <span style=\"background-color: rgba(233,30,99,0);  padding: 1px 5px; border: solid 3px ; border-color:  rgba(233,30,99,0); #EFEFEF\">thinks</span> <span style=\"background-color: rgba(233,30,99,0);  padding: 1px 5px; border: solid 3px ; border-color:  rgba(233,30,99,0); #EFEFEF\">he</span> <span style=\"background-color: rgba(233,30,99,0);  padding: 1px 5px; border: solid 3px ; border-color:  rgba(233,30,99,0); #EFEFEF\">is</span> <span style=\"background-color: rgba(233,30,99,0);  padding: 1px 5px; border: solid 3px ; border-color:  rgba(233,30,99,0); #EFEFEF\">anyway</span> </div>"
      ],
      "text/plain": [
       "<IPython.core.display.HTML object>"
      ]
     },
     "metadata": {},
     "output_type": "display_data"
    },
    {
     "data": {
      "text/html": [
       "<br><br>"
      ],
      "text/plain": [
       "<IPython.core.display.HTML object>"
      ]
     },
     "metadata": {},
     "output_type": "display_data"
    },
    {
     "data": {
      "text/html": [
       "<div style='display: flex; width: 400px; flex-wrap: wrap'><span style=\"background-color: rgba(233,30,99,0);  padding: 1px 5px; border: solid 3px ; border-color:  rgba(233,30,99,0); #EFEFEF\">is</span> <span style=\"background-color: rgba(233,30,99,0);  padding: 1px 5px; border: solid 3px ; border-color:  rgba(233,30,99,0); #EFEFEF\">it</span> <span style=\"background-color: rgba(233,30,99,0);  padding: 1px 5px; border: solid 3px ; border-color:  rgba(233,30,99,0); #EFEFEF\">only</span> <span style=\"background-color: rgba(221, 9, 140, 0.7304090261459351); padding: 1px 5px; border: solid 3px ; border-color: rgba(221, 9, 140, 1); #EFEFEF\">by</span> <span style=\"background-color: rgba(221, 9, 140, 0.8607348203659058); padding: 1px 5px; border: solid 3px ; border-color: rgba(221, 9, 140, 1); #EFEFEF\">her beauty</span> <span style=\"background-color: rgba(221, 9, 140, 0.42782244086265564); padding: 1px 5px; border: solid 3px ; border-color: rgba(221, 9, 140, 1); #EFEFEF\">by</span> <span style=\"background-color: rgba(221, 9, 140, 0.654532253742218); padding: 1px 5px; border: solid 3px ; border-color: rgba(221, 9, 140, 1); #EFEFEF\">her faraway glance</span> <span style=\"background-color: rgba(9, 221, 55,  0.20005272328853607); padding: 1px 5px; border: solid 3px ; border-color: rgba(9, 221, 55,  1); #EFEFEF\">a connection</span> <span style=\"background-color: rgba(221, 9, 140, 0.5902376770973206); padding: 1px 5px; border: solid 3px ; border-color: rgba(221, 9, 140, 1); #EFEFEF\">that</span> <span style=\"background-color: rgba(221, 9, 140, 0.6359387040138245); padding: 1px 5px; border: solid 3px ; border-color: rgba(221, 9, 140, 1); #EFEFEF\">they</span> <span style=\"background-color: rgba(221, 9, 140, 0.992798924446106); padding: 1px 5px; border: solid 3px ; border-color: rgba(221, 9, 140, 1); #EFEFEF\">will both discover</span> <span style=\"background-color: rgba(221, 9, 140, 0.43859782814979553); padding: 1px 5px; border: solid 3px ; border-color: rgba(221, 9, 140, 1); #EFEFEF\">that</span> <span style=\"background-color: rgba(9, 221, 55,  0.5079947710037231); padding: 1px 5px; border: solid 3px ; border-color: rgba(9, 221, 55,  1); #EFEFEF\">they</span> <span style=\"background-color: rgba(221, 9, 140, 0.49969640374183655); padding: 1px 5px; border: solid 3px ; border-color: rgba(221, 9, 140, 1); #EFEFEF\">share</span> </div>"
      ],
      "text/plain": [
       "<IPython.core.display.HTML object>"
      ]
     },
     "metadata": {},
     "output_type": "display_data"
    },
    {
     "data": {
      "text/html": [
       "<br><br>"
      ],
      "text/plain": [
       "<IPython.core.display.HTML object>"
      ]
     },
     "metadata": {},
     "output_type": "display_data"
    },
    {
     "data": {
      "text/html": [
       "<div style='display: flex; width: 400px; flex-wrap: wrap'><span style=\"background-color: rgba(9, 221, 55,  0.773051381111145); padding: 1px 5px; border: solid 3px ; border-color: rgba(9, 221, 55,  1); #EFEFEF\">I</span> <span style=\"background-color: rgba(221, 9, 140, 0.9948568344116211); padding: 1px 5px; border: solid 3px ; border-color: rgba(221, 9, 140, 1); #EFEFEF\">will pray</span> </div>"
      ],
      "text/plain": [
       "<IPython.core.display.HTML object>"
      ]
     },
     "metadata": {},
     "output_type": "display_data"
    },
    {
     "data": {
      "text/html": [
       "<br><br>"
      ],
      "text/plain": [
       "<IPython.core.display.HTML object>"
      ]
     },
     "metadata": {},
     "output_type": "display_data"
    },
    {
     "data": {
      "text/html": [
       "<div style='display: flex; width: 400px; flex-wrap: wrap'><span style=\"background-color: rgba(221, 9, 140, 0.5600828528404236); padding: 1px 5px; border: solid 3px ; border-color: rgba(221, 9, 140, 1); #EFEFEF\">His yearning</span> <span style=\"background-color: rgba(221, 9, 140, 0.5853859186172485); padding: 1px 5px; border: solid 3px ; border-color: rgba(221, 9, 140, 1); #EFEFEF\">to come</span> <span style=\"background-color: rgba(221, 9, 140, 0.3609938621520996); padding: 1px 5px; border: solid 3px ; border-color: rgba(221, 9, 140, 1); #EFEFEF\">off</span> <span style=\"background-color: rgba(221, 9, 140, 0.6384016871452332); padding: 1px 5px; border: solid 3px ; border-color: rgba(221, 9, 140, 1); #EFEFEF\">it</span> <span style=\"background-color: rgba(221, 9, 140, 0.6833474040031433); padding: 1px 5px; border: solid 3px ; border-color: rgba(221, 9, 140, 1); #EFEFEF\">is</span> <span style=\"background-color: rgba(9, 221, 55,  0.42708927392959595); padding: 1px 5px; border: solid 3px ; border-color: rgba(9, 221, 55,  1); #EFEFEF\">his only motivation</span> <span style=\"background-color: rgba(221, 9, 140, 0.2002137303352356); padding: 1px 5px; border: solid 3px ; border-color: rgba(221, 9, 140, 1); #EFEFEF\">towards</span> <span style=\"background-color: rgba(221, 9, 140, 0.9947044253349304); padding: 1px 5px; border: solid 3px ; border-color: rgba(221, 9, 140, 1); #EFEFEF\">a happy ending</span> </div>"
      ],
      "text/plain": [
       "<IPython.core.display.HTML object>"
      ]
     },
     "metadata": {},
     "output_type": "display_data"
    },
    {
     "data": {
      "text/html": [
       "<br><br>"
      ],
      "text/plain": [
       "<IPython.core.display.HTML object>"
      ]
     },
     "metadata": {},
     "output_type": "display_data"
    },
    {
     "data": {
      "text/html": [
       "<div style='display: flex; width: 400px; flex-wrap: wrap'><span style=\"background-color: rgba(221, 9, 140, 0.39107510447502136); padding: 1px 5px; border: solid 3px ; border-color: rgba(221, 9, 140, 1); #EFEFEF\">I</span> <span style=\"background-color: rgba(221, 9, 140, 0.5023064613342285); padding: 1px 5px; border: solid 3px ; border-color: rgba(221, 9, 140, 1); #EFEFEF\">know</span> <span style=\"background-color: rgba(221, 9, 140, 0.6252372860908508); padding: 1px 5px; border: solid 3px ; border-color: rgba(221, 9, 140, 1); #EFEFEF\">I</span> <span style=\"background-color: rgba(221, 9, 140, 0.7452953457832336); padding: 1px 5px; border: solid 3px ; border-color: rgba(221, 9, 140, 1); #EFEFEF\">will</span> </div>"
      ],
      "text/plain": [
       "<IPython.core.display.HTML object>"
      ]
     },
     "metadata": {},
     "output_type": "display_data"
    },
    {
     "data": {
      "text/html": [
       "<br><br>"
      ],
      "text/plain": [
       "<IPython.core.display.HTML object>"
      ]
     },
     "metadata": {},
     "output_type": "display_data"
    },
    {
     "data": {
      "text/html": [
       "<div style='display: flex; width: 400px; flex-wrap: wrap'><span style=\"background-color: rgba(9, 221, 55,  0.3300243318080902); padding: 1px 5px; border: solid 3px ; border-color: rgba(9, 221, 55,  1); #EFEFEF\">She</span> <span style=\"background-color: rgba(9, 221, 55,  0.3495127856731415); padding: 1px 5px; border: solid 3px ; border-color: rgba(9, 221, 55,  1); #EFEFEF\">is</span> <span style=\"background-color: rgba(233,30,99,0);  padding: 1px 5px; border: solid 3px ; border-color:  rgba(233,30,99,0); #EFEFEF\">the only one</span> <span style=\"background-color: rgba(9, 221, 55,  0.3253978490829468); padding: 1px 5px; border: solid 3px ; border-color: rgba(9, 221, 55,  1); #EFEFEF\">who</span> <span style=\"background-color: rgba(221, 9, 140, 0.339910626411438); padding: 1px 5px; border: solid 3px ; border-color: rgba(221, 9, 140, 1); #EFEFEF\">understands</span> <span style=\"background-color: rgba(9, 221, 55,  0.28320303559303284); padding: 1px 5px; border: solid 3px ; border-color: rgba(9, 221, 55,  1); #EFEFEF\">him</span> </div>"
      ],
      "text/plain": [
       "<IPython.core.display.HTML object>"
      ]
     },
     "metadata": {},
     "output_type": "display_data"
    },
    {
     "data": {
      "text/html": [
       "<br><br>"
      ],
      "text/plain": [
       "<IPython.core.display.HTML object>"
      ]
     },
     "metadata": {},
     "output_type": "display_data"
    },
    {
     "data": {
      "text/html": [
       "<div style='display: flex; width: 400px; flex-wrap: wrap'><span style=\"background-color: rgba(221, 9, 140, 0.8402575254440308); padding: 1px 5px; border: solid 3px ; border-color: rgba(221, 9, 140, 1); #EFEFEF\">I</span> <span style=\"background-color: rgba(221, 9, 140, 0.9951655864715576); padding: 1px 5px; border: solid 3px ; border-color: rgba(221, 9, 140, 1); #EFEFEF\">accept</span> <span style=\"background-color: rgba(233,30,99,0);  padding: 1px 5px; border: solid 3px ; border-color:  rgba(233,30,99,0); #EFEFEF\">this</span> </div>"
      ],
      "text/plain": [
       "<IPython.core.display.HTML object>"
      ]
     },
     "metadata": {},
     "output_type": "display_data"
    },
    {
     "data": {
      "text/html": [
       "<br><br>"
      ],
      "text/plain": [
       "<IPython.core.display.HTML object>"
      ]
     },
     "metadata": {},
     "output_type": "display_data"
    },
    {
     "data": {
      "text/html": [
       "<div style='display: flex; width: 400px; flex-wrap: wrap'><span style=\"background-color: rgba(221, 9, 140, 0.7007372379302979); padding: 1px 5px; border: solid 3px ; border-color: rgba(221, 9, 140, 1); #EFEFEF\">I</span> <span style=\"background-color: rgba(221, 9, 140, 0.9974848031997681); padding: 1px 5px; border: solid 3px ; border-color: rgba(221, 9, 140, 1); #EFEFEF\">revere</span> <span style=\"background-color: rgba(221, 9, 140, 0.3543434739112854); padding: 1px 5px; border: solid 3px ; border-color: rgba(221, 9, 140, 1); #EFEFEF\">both</span> </div>"
      ],
      "text/plain": [
       "<IPython.core.display.HTML object>"
      ]
     },
     "metadata": {},
     "output_type": "display_data"
    },
    {
     "data": {
      "text/html": [
       "<br><br>"
      ],
      "text/plain": [
       "<IPython.core.display.HTML object>"
      ]
     },
     "metadata": {},
     "output_type": "display_data"
    },
    {
     "name": "stdout",
     "output_type": "stream",
     "text": [
      "\n",
      "\n",
      "10 most important reviews for negative predicted label - concept2:\n",
      "\n",
      "\n"
     ]
    },
    {
     "data": {
      "text/html": [
       "<div style='display: flex; width: 400px; flex-wrap: wrap'><span style=\"background-color: rgba(221, 9, 140, 0.2597229480743408); padding: 1px 5px; border: solid 3px ; border-color: rgba(221, 9, 140, 1); #EFEFEF\">You</span> <span style=\"background-color: rgba(221, 9, 140, 0.25953930616378784); padding: 1px 5px; border: solid 3px ; border-color: rgba(221, 9, 140, 1); #EFEFEF\">can truly see</span> <span style=\"background-color: rgba(233,30,99,0);  padding: 1px 5px; border: solid 3px ; border-color:  rgba(233,30,99,0); #EFEFEF\">the seamless editing</span> <span style=\"background-color: rgba(221, 9, 140, 0.26753857731819153); padding: 1px 5px; border: solid 3px ; border-color: rgba(221, 9, 140, 1); #EFEFEF\">guided</span> <span style=\"background-color: rgba(221, 9, 140, 0.21930330991744995); padding: 1px 5px; border: solid 3px ; border-color: rgba(221, 9, 140, 1); #EFEFEF\">by</span> <span style=\"background-color: rgba(221, 9, 140, 0.3627918064594269); padding: 1px 5px; border: solid 3px ; border-color: rgba(221, 9, 140, 1); #EFEFEF\">the references</span> <span style=\"background-color: rgba(221, 9, 140, 0.2825951874256134); padding: 1px 5px; border: solid 3px ; border-color: rgba(221, 9, 140, 1); #EFEFEF\">to</span> <span style=\"background-color: rgba(221, 9, 140, 0.35266542434692383); padding: 1px 5px; border: solid 3px ; border-color: rgba(221, 9, 140, 1); #EFEFEF\">Williams' diary entries</span> <span style=\"background-color: rgba(233,30,99,0);  padding: 1px 5px; border: solid 3px ; border-color:  rgba(233,30,99,0); #EFEFEF\">not only</span> <span style=\"background-color: rgba(221, 9, 140, 0.21133503317832947); padding: 1px 5px; border: solid 3px ; border-color: rgba(221, 9, 140, 1); #EFEFEF\">is</span> <span style=\"background-color: rgba(221, 9, 140, 0.2568136751651764); padding: 1px 5px; border: solid 3px ; border-color: rgba(221, 9, 140, 1); #EFEFEF\">it</span> <span style=\"background-color: rgba(221, 9, 140, 0.4077291190624237); padding: 1px 5px; border: solid 3px ; border-color: rgba(221, 9, 140, 1); #EFEFEF\">well</span> <span style=\"background-color: rgba(221, 9, 140, 0.26421916484832764); padding: 1px 5px; border: solid 3px ; border-color: rgba(221, 9, 140, 1); #EFEFEF\">worth</span> <span style=\"background-color: rgba(221, 9, 140, 0.4469147026538849); padding: 1px 5px; border: solid 3px ; border-color: rgba(221, 9, 140, 1); #EFEFEF\">the watching</span> <span style=\"background-color: rgba(221, 9, 140, 0.32619592547416687); padding: 1px 5px; border: solid 3px ; border-color: rgba(221, 9, 140, 1); #EFEFEF\">it</span> <span style=\"background-color: rgba(221, 9, 140, 0.3079546391963959); padding: 1px 5px; border: solid 3px ; border-color: rgba(221, 9, 140, 1); #EFEFEF\">is</span> <span style=\"background-color: rgba(221, 9, 140, 0.6993227601051331); padding: 1px 5px; border: solid 3px ; border-color: rgba(221, 9, 140, 1); #EFEFEF\">a terrificly written and performed piece</span> </div>"
      ],
      "text/plain": [
       "<IPython.core.display.HTML object>"
      ]
     },
     "metadata": {},
     "output_type": "display_data"
    },
    {
     "data": {
      "text/html": [
       "<br><br>"
      ],
      "text/plain": [
       "<IPython.core.display.HTML object>"
      ]
     },
     "metadata": {},
     "output_type": "display_data"
    },
    {
     "data": {
      "text/html": [
       "<div style='display: flex; width: 400px; flex-wrap: wrap'><span style=\"background-color: rgba(9, 221, 55,  0.9896154999732971); padding: 1px 5px; border: solid 3px ; border-color: rgba(9, 221, 55,  1); #EFEFEF\">A truly gripping film noir</span> <span style=\"background-color: rgba(221, 9, 140, 0.292499840259552); padding: 1px 5px; border: solid 3px ; border-color: rgba(221, 9, 140, 1); #EFEFEF\">featuring</span> <span style=\"background-color: rgba(9, 221, 55,  0.46380615234375); padding: 1px 5px; border: solid 3px ; border-color: rgba(9, 221, 55,  1); #EFEFEF\">some wonderfully images</span> <span style=\"background-color: rgba(221, 9, 140, 0.3953106105327606); padding: 1px 5px; border: solid 3px ; border-color: rgba(221, 9, 140, 1); #EFEFEF\">some great dialogue</span> <span style=\"background-color: rgba(221, 9, 140, 0.352132111787796); padding: 1px 5px; border: solid 3px ; border-color: rgba(221, 9, 140, 1); #EFEFEF\">at</span> <span style=\"background-color: rgba(221, 9, 140, 0.2268974483013153); padding: 1px 5px; border: solid 3px ; border-color: rgba(221, 9, 140, 1); #EFEFEF\">the heart</span> <span style=\"background-color: rgba(221, 9, 140, 0.2663331627845764); padding: 1px 5px; border: solid 3px ; border-color: rgba(221, 9, 140, 1); #EFEFEF\">of</span> <span style=\"background-color: rgba(221, 9, 140, 0.37224647402763367); padding: 1px 5px; border: solid 3px ; border-color: rgba(221, 9, 140, 1); #EFEFEF\">it</span> <span style=\"background-color: rgba(221, 9, 140, 0.3970736861228943); padding: 1px 5px; border: solid 3px ; border-color: rgba(221, 9, 140, 1); #EFEFEF\">all</span> <span style=\"background-color: rgba(221, 9, 140, 0.2918131649494171); padding: 1px 5px; border: solid 3px ; border-color: rgba(221, 9, 140, 1); #EFEFEF\">is</span> <span style=\"background-color: rgba(233,30,99,0);  padding: 1px 5px; border: solid 3px ; border-color:  rgba(233,30,99,0); #EFEFEF\">a strong message</span> <span style=\"background-color: rgba(233,30,99,0);  padding: 1px 5px; border: solid 3px ; border-color:  rgba(233,30,99,0); #EFEFEF\">of</span> <span style=\"background-color: rgba(233,30,99,0);  padding: 1px 5px; border: solid 3px ; border-color:  rgba(233,30,99,0); #EFEFEF\">tolerance and understanding</span> </div>"
      ],
      "text/plain": [
       "<IPython.core.display.HTML object>"
      ]
     },
     "metadata": {},
     "output_type": "display_data"
    },
    {
     "data": {
      "text/html": [
       "<br><br>"
      ],
      "text/plain": [
       "<IPython.core.display.HTML object>"
      ]
     },
     "metadata": {},
     "output_type": "display_data"
    },
    {
     "data": {
      "text/html": [
       "<div style='display: flex; width: 400px; flex-wrap: wrap'><span style=\"background-color: rgba(233,30,99,0);  padding: 1px 5px; border: solid 3px ; border-color:  rgba(233,30,99,0); #EFEFEF\">From</span> <span style=\"background-color: rgba(233,30,99,0);  padding: 1px 5px; border: solid 3px ; border-color:  rgba(233,30,99,0); #EFEFEF\">it</span> <span style=\"background-color: rgba(233,30,99,0);  padding: 1px 5px; border: solid 3px ; border-color:  rgba(233,30,99,0); #EFEFEF\">'s</span> <span style=\"background-color: rgba(233,30,99,0);  padding: 1px 5px; border: solid 3px ; border-color:  rgba(233,30,99,0); #EFEFEF\">perfectly crafted</span> <span style=\"background-color: rgba(233,30,99,0);  padding: 1px 5px; border: solid 3px ; border-color:  rgba(233,30,99,0); #EFEFEF\">jokes</span> <span style=\"background-color: rgba(233,30,99,0);  padding: 1px 5px; border: solid 3px ; border-color:  rgba(233,30,99,0); #EFEFEF\">to</span> <span style=\"background-color: rgba(233,30,99,0);  padding: 1px 5px; border: solid 3px ; border-color:  rgba(233,30,99,0); #EFEFEF\">the great performances</span> <span style=\"background-color: rgba(233,30,99,0);  padding: 1px 5px; border: solid 3px ; border-color:  rgba(233,30,99,0); #EFEFEF\">you</span> <span style=\"background-color: rgba(233,30,99,0);  padding: 1px 5px; border: solid 3px ; border-color:  rgba(233,30,99,0); #EFEFEF\">would only dream</span> <span style=\"background-color: rgba(233,30,99,0);  padding: 1px 5px; border: solid 3px ; border-color:  rgba(233,30,99,0); #EFEFEF\">of</span> <span style=\"background-color: rgba(233,30,99,0);  padding: 1px 5px; border: solid 3px ; border-color:  rgba(233,30,99,0); #EFEFEF\">this</span> <span style=\"background-color: rgba(233,30,99,0);  padding: 1px 5px; border: solid 3px ; border-color:  rgba(233,30,99,0); #EFEFEF\">is</span> <span style=\"background-color: rgba(221, 9, 140, 0.30879294872283936); padding: 1px 5px; border: solid 3px ; border-color: rgba(221, 9, 140, 1); #EFEFEF\">a wonderful show</span> <span style=\"background-color: rgba(233,30,99,0);  padding: 1px 5px; border: solid 3px ; border-color:  rgba(233,30,99,0); #EFEFEF\">for</span> <span style=\"background-color: rgba(233,30,99,0);  padding: 1px 5px; border: solid 3px ; border-color:  rgba(233,30,99,0); #EFEFEF\">people</span> <span style=\"background-color: rgba(233,30,99,0);  padding: 1px 5px; border: solid 3px ; border-color:  rgba(233,30,99,0); #EFEFEF\">who</span> <span style=\"background-color: rgba(233,30,99,0);  padding: 1px 5px; border: solid 3px ; border-color:  rgba(233,30,99,0); #EFEFEF\">lived</span> <span style=\"background-color: rgba(233,30,99,0);  padding: 1px 5px; border: solid 3px ; border-color:  rgba(233,30,99,0); #EFEFEF\">in</span> <span style=\"background-color: rgba(233,30,99,0);  padding: 1px 5px; border: solid 3px ; border-color:  rgba(233,30,99,0); #EFEFEF\">the seventies</span> <span style=\"background-color: rgba(233,30,99,0);  padding: 1px 5px; border: solid 3px ; border-color:  rgba(233,30,99,0); #EFEFEF\">the people</span> <span style=\"background-color: rgba(233,30,99,0);  padding: 1px 5px; border: solid 3px ; border-color:  rgba(233,30,99,0); #EFEFEF\">who</span> <span style=\"background-color: rgba(233,30,99,0);  padding: 1px 5px; border: solid 3px ; border-color:  rgba(233,30,99,0); #EFEFEF\">did</span> </div>"
      ],
      "text/plain": [
       "<IPython.core.display.HTML object>"
      ]
     },
     "metadata": {},
     "output_type": "display_data"
    },
    {
     "data": {
      "text/html": [
       "<br><br>"
      ],
      "text/plain": [
       "<IPython.core.display.HTML object>"
      ]
     },
     "metadata": {},
     "output_type": "display_data"
    },
    {
     "data": {
      "text/html": [
       "<div style='display: flex; width: 400px; flex-wrap: wrap'><span style=\"background-color: rgba(233,30,99,0);  padding: 1px 5px; border: solid 3px ; border-color:  rgba(233,30,99,0); #EFEFEF\">This</span> <span style=\"background-color: rgba(233,30,99,0);  padding: 1px 5px; border: solid 3px ; border-color:  rgba(233,30,99,0); #EFEFEF\">is</span> <span style=\"background-color: rgba(9, 221, 55,  0.9959262609481812); padding: 1px 5px; border: solid 3px ; border-color: rgba(9, 221, 55,  1); #EFEFEF\">a great show</span> <span style=\"background-color: rgba(233,30,99,0);  padding: 1px 5px; border: solid 3px ; border-color:  rgba(233,30,99,0); #EFEFEF\">with</span> <span style=\"background-color: rgba(233,30,99,0);  padding: 1px 5px; border: solid 3px ; border-color:  rgba(233,30,99,0); #EFEFEF\">total freshness and innovation</span> </div>"
      ],
      "text/plain": [
       "<IPython.core.display.HTML object>"
      ]
     },
     "metadata": {},
     "output_type": "display_data"
    },
    {
     "data": {
      "text/html": [
       "<br><br>"
      ],
      "text/plain": [
       "<IPython.core.display.HTML object>"
      ]
     },
     "metadata": {},
     "output_type": "display_data"
    },
    {
     "data": {
      "text/html": [
       "<div style='display: flex; width: 400px; flex-wrap: wrap'><span style=\"background-color: rgba(221, 9, 140, 0.29972243309020996); padding: 1px 5px; border: solid 3px ; border-color: rgba(221, 9, 140, 1); #EFEFEF\">hey</span> <span style=\"background-color: rgba(221, 9, 140, 0.22965212166309357); padding: 1px 5px; border: solid 3px ; border-color: rgba(221, 9, 140, 1); #EFEFEF\">before</span> <span style=\"background-color: rgba(221, 9, 140, 0.2400701940059662); padding: 1px 5px; border: solid 3px ; border-color: rgba(221, 9, 140, 1); #EFEFEF\">you</span> <span style=\"background-color: rgba(221, 9, 140, 0.2942788898944855); padding: 1px 5px; border: solid 3px ; border-color: rgba(221, 9, 140, 1); #EFEFEF\">think</span> <span style=\"background-color: rgba(221, 9, 140, 0.30199894309043884); padding: 1px 5px; border: solid 3px ; border-color: rgba(221, 9, 140, 1); #EFEFEF\">of</span> <span style=\"background-color: rgba(221, 9, 140, 0.26893171668052673); padding: 1px 5px; border: solid 3px ; border-color: rgba(221, 9, 140, 1); #EFEFEF\">me</span> <span style=\"background-color: rgba(221, 9, 140, 0.29919588565826416); padding: 1px 5px; border: solid 3px ; border-color: rgba(221, 9, 140, 1); #EFEFEF\">as</span> <span style=\"background-color: rgba(221, 9, 140, 0.4371318519115448); padding: 1px 5px; border: solid 3px ; border-color: rgba(221, 9, 140, 1); #EFEFEF\">a pure misanthrope</span> <span style=\"background-color: rgba(221, 9, 140, 0.3568503260612488); padding: 1px 5px; border: solid 3px ; border-color: rgba(221, 9, 140, 1); #EFEFEF\">let</span> <span style=\"background-color: rgba(221, 9, 140, 0.3073141872882843); padding: 1px 5px; border: solid 3px ; border-color: rgba(221, 9, 140, 1); #EFEFEF\">me</span> <span style=\"background-color: rgba(221, 9, 140, 0.24881792068481445); padding: 1px 5px; border: solid 3px ; border-color: rgba(221, 9, 140, 1); #EFEFEF\">repeat</span> <span style=\"background-color: rgba(221, 9, 140, 0.2807634770870209); padding: 1px 5px; border: solid 3px ; border-color: rgba(221, 9, 140, 1); #EFEFEF\">this</span> <span style=\"background-color: rgba(221, 9, 140, 0.26431670784950256); padding: 1px 5px; border: solid 3px ; border-color: rgba(221, 9, 140, 1); #EFEFEF\">is</span> <span style=\"background-color: rgba(221, 9, 140, 0.9881224036216736); padding: 1px 5px; border: solid 3px ; border-color: rgba(221, 9, 140, 1); #EFEFEF\">a very good film</span> <span style=\"background-color: rgba(221, 9, 140, 0.38743749260902405); padding: 1px 5px; border: solid 3px ; border-color: rgba(221, 9, 140, 1); #EFEFEF\">with</span> <span style=\"background-color: rgba(221, 9, 140, 0.4747377634048462); padding: 1px 5px; border: solid 3px ; border-color: rgba(221, 9, 140, 1); #EFEFEF\">heartbreakng moments</span> <span style=\"background-color: rgba(221, 9, 140, 0.22993752360343933); padding: 1px 5px; border: solid 3px ; border-color: rgba(221, 9, 140, 1); #EFEFEF\">wonderful photography</span> <span style=\"background-color: rgba(221, 9, 140, 0.36783698201179504); padding: 1px 5px; border: solid 3px ; border-color: rgba(221, 9, 140, 1); #EFEFEF\">great characters</span> <span style=\"background-color: rgba(233,30,99,0);  padding: 1px 5px; border: solid 3px ; border-color:  rgba(233,30,99,0); #EFEFEF\">more accuracy</span> <span style=\"background-color: rgba(221, 9, 140, 0.296531081199646); padding: 1px 5px; border: solid 3px ; border-color: rgba(221, 9, 140, 1); #EFEFEF\">than</span> <span style=\"background-color: rgba(233,30,99,0);  padding: 1px 5px; border: solid 3px ; border-color:  rgba(233,30,99,0); #EFEFEF\">the usual (American) efforts</span> <span style=\"background-color: rgba(221, 9, 140, 0.27022817730903625); padding: 1px 5px; border: solid 3px ; border-color: rgba(221, 9, 140, 1); #EFEFEF\">at</span> <span style=\"background-color: rgba(221, 9, 140, 0.24285225570201874); padding: 1px 5px; border: solid 3px ; border-color: rgba(221, 9, 140, 1); #EFEFEF\">the immigration experience</span> </div>"
      ],
      "text/plain": [
       "<IPython.core.display.HTML object>"
      ]
     },
     "metadata": {},
     "output_type": "display_data"
    },
    {
     "data": {
      "text/html": [
       "<br><br>"
      ],
      "text/plain": [
       "<IPython.core.display.HTML object>"
      ]
     },
     "metadata": {},
     "output_type": "display_data"
    },
    {
     "data": {
      "text/html": [
       "<div style='display: flex; width: 400px; flex-wrap: wrap'><span style=\"background-color: rgba(221, 9, 140, 0.9885369539260864); padding: 1px 5px; border: solid 3px ; border-color: rgba(221, 9, 140, 1); #EFEFEF\">The refreshing and original story</span> <span style=\"background-color: rgba(221, 9, 140, 0.3394295871257782); padding: 1px 5px; border: solid 3px ; border-color: rgba(221, 9, 140, 1); #EFEFEF\">is</span> <span style=\"background-color: rgba(9, 221, 55,  0.48623520135879517); padding: 1px 5px; border: solid 3px ; border-color: rgba(9, 221, 55,  1); #EFEFEF\">a poetic and magic fable</span> <span style=\"background-color: rgba(221, 9, 140, 0.3231137692928314); padding: 1px 5px; border: solid 3px ; border-color: rgba(221, 9, 140, 1); #EFEFEF\">of</span> <span style=\"background-color: rgba(221, 9, 140, 0.3672133684158325); padding: 1px 5px; border: solid 3px ; border-color: rgba(221, 9, 140, 1); #EFEFEF\">love</span> <span style=\"background-color: rgba(221, 9, 140, 0.3921755254268646); padding: 1px 5px; border: solid 3px ; border-color: rgba(221, 9, 140, 1); #EFEFEF\">that</span> <span style=\"background-color: rgba(221, 9, 140, 0.3061894178390503); padding: 1px 5px; border: solid 3px ; border-color: rgba(221, 9, 140, 1); #EFEFEF\">will certainly thrill</span> <span style=\"background-color: rgba(221, 9, 140, 0.21841832995414734); padding: 1px 5px; border: solid 3px ; border-color: rgba(221, 9, 140, 1); #EFEFEF\">the most skeptical and tough viewer</span> <span style=\"background-color: rgba(221, 9, 140, 0.4160386025905609); padding: 1px 5px; border: solid 3px ; border-color: rgba(221, 9, 140, 1); #EFEFEF\">in</span> <span style=\"background-color: rgba(221, 9, 140, 0.2923263609409332); padding: 1px 5px; border: solid 3px ; border-color: rgba(221, 9, 140, 1); #EFEFEF\">a unique romance</span> </div>"
      ],
      "text/plain": [
       "<IPython.core.display.HTML object>"
      ]
     },
     "metadata": {},
     "output_type": "display_data"
    },
    {
     "data": {
      "text/html": [
       "<br><br>"
      ],
      "text/plain": [
       "<IPython.core.display.HTML object>"
      ]
     },
     "metadata": {},
     "output_type": "display_data"
    },
    {
     "data": {
      "text/html": [
       "<div style='display: flex; width: 400px; flex-wrap: wrap'><span style=\"background-color: rgba(233,30,99,0);  padding: 1px 5px; border: solid 3px ; border-color:  rgba(233,30,99,0); #EFEFEF\">Full marks</span> <span style=\"background-color: rgba(233,30,99,0);  padding: 1px 5px; border: solid 3px ; border-color:  rgba(233,30,99,0); #EFEFEF\">to</span> <span style=\"background-color: rgba(221, 9, 140, 0.9926382303237915); padding: 1px 5px; border: solid 3px ; border-color: rgba(221, 9, 140, 1); #EFEFEF\">this most enjoyable and uplifting production</span> <span style=\"background-color: rgba(233,30,99,0);  padding: 1px 5px; border: solid 3px ; border-color:  rgba(233,30,99,0); #EFEFEF\">we</span> <span style=\"background-color: rgba(233,30,99,0);  padding: 1px 5px; border: solid 3px ; border-color:  rgba(233,30,99,0); #EFEFEF\">heartily</span> <span style=\"background-color: rgba(221, 9, 140, 0.270087331533432); padding: 1px 5px; border: solid 3px ; border-color: rgba(221, 9, 140, 1); #EFEFEF\">recommend</span> <span style=\"background-color: rgba(233,30,99,0);  padding: 1px 5px; border: solid 3px ; border-color:  rgba(233,30,99,0); #EFEFEF\">it</span> <span style=\"background-color: rgba(233,30,99,0);  padding: 1px 5px; border: solid 3px ; border-color:  rgba(233,30,99,0); #EFEFEF\">to</span> <span style=\"background-color: rgba(233,30,99,0);  padding: 1px 5px; border: solid 3px ; border-color:  rgba(233,30,99,0); #EFEFEF\">anyone</span> <span style=\"background-color: rgba(233,30,99,0);  padding: 1px 5px; border: solid 3px ; border-color:  rgba(233,30,99,0); #EFEFEF\">who</span> <span style=\"background-color: rgba(233,30,99,0);  padding: 1px 5px; border: solid 3px ; border-color:  rgba(233,30,99,0); #EFEFEF\">is looking</span> <span style=\"background-color: rgba(221, 9, 140, 0.22050803899765015); padding: 1px 5px; border: solid 3px ; border-color: rgba(221, 9, 140, 1); #EFEFEF\">for</span> <span style=\"background-color: rgba(233,30,99,0);  padding: 1px 5px; border: solid 3px ; border-color:  rgba(233,30,99,0); #EFEFEF\">a belly-laugh</span> <span style=\"background-color: rgba(221, 9, 140, 0.2302411049604416); padding: 1px 5px; border: solid 3px ; border-color: rgba(221, 9, 140, 1); #EFEFEF\">lots</span> <span style=\"background-color: rgba(221, 9, 140, 0.24191449582576752); padding: 1px 5px; border: solid 3px ; border-color: rgba(221, 9, 140, 1); #EFEFEF\">of</span> <span style=\"background-color: rgba(233,30,99,0);  padding: 1px 5px; border: solid 3px ; border-color:  rgba(233,30,99,0); #EFEFEF\">music</span> </div>"
      ],
      "text/plain": [
       "<IPython.core.display.HTML object>"
      ]
     },
     "metadata": {},
     "output_type": "display_data"
    },
    {
     "data": {
      "text/html": [
       "<br><br>"
      ],
      "text/plain": [
       "<IPython.core.display.HTML object>"
      ]
     },
     "metadata": {},
     "output_type": "display_data"
    },
    {
     "data": {
      "text/html": [
       "<div style='display: flex; width: 400px; flex-wrap: wrap'><span style=\"background-color: rgba(221, 9, 140, 0.6522141098976135); padding: 1px 5px; border: solid 3px ; border-color: rgba(221, 9, 140, 1); #EFEFEF\">the Devil</span> <span style=\"background-color: rgba(221, 9, 140, 0.6672319173812866); padding: 1px 5px; border: solid 3px ; border-color: rgba(221, 9, 140, 1); #EFEFEF\">Knows</span> <span style=\"background-color: rgba(221, 9, 140, 0.7212713360786438); padding: 1px 5px; border: solid 3px ; border-color: rgba(221, 9, 140, 1); #EFEFEF\">You</span> <span style=\"background-color: rgba(221, 9, 140, 0.7088731527328491); padding: 1px 5px; border: solid 3px ; border-color: rgba(221, 9, 140, 1); #EFEFEF\">'re</span> <span style=\"background-color: rgba(221, 9, 140, 0.6616411805152893); padding: 1px 5px; border: solid 3px ; border-color: rgba(221, 9, 140, 1); #EFEFEF\">Dead</span> <span style=\"background-color: rgba(221, 9, 140, 0.8272555470466614); padding: 1px 5px; border: solid 3px ; border-color: rgba(221, 9, 140, 1); #EFEFEF\">is</span> <span style=\"background-color: rgba(221, 9, 140, 0.9849662184715271); padding: 1px 5px; border: solid 3px ; border-color: rgba(221, 9, 140, 1); #EFEFEF\">a real masterpiece</span> <span style=\"background-color: rgba(221, 9, 140, 0.9551924467086792); padding: 1px 5px; border: solid 3px ; border-color: rgba(221, 9, 140, 1); #EFEFEF\">with</span> <span style=\"background-color: rgba(221, 9, 140, 0.8502569198608398); padding: 1px 5px; border: solid 3px ; border-color: rgba(221, 9, 140, 1); #EFEFEF\">perfect direction,a great screenplay</span> <span style=\"background-color: rgba(221, 9, 140, 0.6593085527420044); padding: 1px 5px; border: solid 3px ; border-color: rgba(221, 9, 140, 1); #EFEFEF\">excellent performances</span> </div>"
      ],
      "text/plain": [
       "<IPython.core.display.HTML object>"
      ]
     },
     "metadata": {},
     "output_type": "display_data"
    },
    {
     "data": {
      "text/html": [
       "<br><br>"
      ],
      "text/plain": [
       "<IPython.core.display.HTML object>"
      ]
     },
     "metadata": {},
     "output_type": "display_data"
    },
    {
     "data": {
      "text/html": [
       "<div style='display: flex; width: 400px; flex-wrap: wrap'><span style=\"background-color: rgba(221, 9, 140, 0.23986805975437164); padding: 1px 5px; border: solid 3px ; border-color: rgba(221, 9, 140, 1); #EFEFEF\">Cinematically</span> <span style=\"background-color: rgba(9, 221, 55,  0.4002479612827301); padding: 1px 5px; border: solid 3px ; border-color: rgba(9, 221, 55,  1); #EFEFEF\">this</span> <span style=\"background-color: rgba(233,30,99,0);  padding: 1px 5px; border: solid 3px ; border-color:  rgba(233,30,99,0); #EFEFEF\">is</span> <span style=\"background-color: rgba(9, 221, 55,  0.9950810074806213); padding: 1px 5px; border: solid 3px ; border-color: rgba(9, 221, 55,  1); #EFEFEF\">an excellent film</span> <span style=\"background-color: rgba(221, 9, 140, 0.32030418515205383); padding: 1px 5px; border: solid 3px ; border-color: rgba(221, 9, 140, 1); #EFEFEF\">mixing</span> <span style=\"background-color: rgba(9, 221, 55,  0.48742714524269104); padding: 1px 5px; border: solid 3px ; border-color: rgba(9, 221, 55,  1); #EFEFEF\">live motion and animation</span> <span style=\"background-color: rgba(221, 9, 140, 0.2144089788198471); padding: 1px 5px; border: solid 3px ; border-color: rgba(221, 9, 140, 1); #EFEFEF\">to produce</span> <span style=\"background-color: rgba(9, 221, 55,  0.3434338867664337); padding: 1px 5px; border: solid 3px ; border-color: rgba(9, 221, 55,  1); #EFEFEF\">amazing effects</span> <span style=\"background-color: rgba(9, 221, 55,  0.27510175108909607); padding: 1px 5px; border: solid 3px ; border-color: rgba(9, 221, 55,  1); #EFEFEF\">for</span> <span style=\"background-color: rgba(233,30,99,0);  padding: 1px 5px; border: solid 3px ; border-color:  rgba(233,30,99,0); #EFEFEF\">the year</span> </div>"
      ],
      "text/plain": [
       "<IPython.core.display.HTML object>"
      ]
     },
     "metadata": {},
     "output_type": "display_data"
    },
    {
     "data": {
      "text/html": [
       "<br><br>"
      ],
      "text/plain": [
       "<IPython.core.display.HTML object>"
      ]
     },
     "metadata": {},
     "output_type": "display_data"
    },
    {
     "data": {
      "text/html": [
       "<div style='display: flex; width: 400px; flex-wrap: wrap'><span style=\"background-color: rgba(233,30,99,0);  padding: 1px 5px; border: solid 3px ; border-color:  rgba(233,30,99,0); #EFEFEF\">Excellent performances</span> <span style=\"background-color: rgba(233,30,99,0);  padding: 1px 5px; border: solid 3px ; border-color:  rgba(233,30,99,0); #EFEFEF\">are</span> <span style=\"background-color: rgba(233,30,99,0);  padding: 1px 5px; border: solid 3px ; border-color:  rgba(233,30,99,0); #EFEFEF\">another significant plus</span> <span style=\"background-color: rgba(233,30,99,0);  padding: 1px 5px; border: solid 3px ; border-color:  rgba(233,30,99,0); #EFEFEF\">with</span> <span style=\"background-color: rgba(233,30,99,0);  padding: 1px 5px; border: solid 3px ; border-color:  rgba(233,30,99,0); #EFEFEF\">the pretty, perky Jocelyn Jones</span> <span style=\"background-color: rgba(233,30,99,0);  padding: 1px 5px; border: solid 3px ; border-color:  rgba(233,30,99,0); #EFEFEF\">Ellie-Jo Turner</span> <span style=\"background-color: rgba(221, 9, 140, 0.20194602012634277); padding: 1px 5px; border: solid 3px ; border-color: rgba(221, 9, 140, 1); #EFEFEF\">in</span> <span style=\"background-color: rgba(233,30,99,0);  padding: 1px 5px; border: solid 3px ; border-color:  rgba(233,30,99,0); #EFEFEF\">The Great Texas Dynamite Chase</span> <span style=\"background-color: rgba(221, 9, 140, 0.22754988074302673); padding: 1px 5px; border: solid 3px ; border-color: rgba(221, 9, 140, 1); #EFEFEF\">particularly</span> <span style=\"background-color: rgba(233,30,99,0);  padding: 1px 5px; border: solid 3px ; border-color:  rgba(233,30,99,0); #EFEFEF\">fine and personable</span> <span style=\"background-color: rgba(233,30,99,0);  padding: 1px 5px; border: solid 3px ; border-color:  rgba(233,30,99,0); #EFEFEF\">as</span> <span style=\"background-color: rgba(233,30,99,0);  padding: 1px 5px; border: solid 3px ; border-color:  rgba(233,30,99,0); #EFEFEF\">the most resilient and sympathetic</span> <span style=\"background-color: rgba(233,30,99,0);  padding: 1px 5px; border: solid 3px ; border-color:  rgba(233,30,99,0); #EFEFEF\">of</span> <span style=\"background-color: rgba(233,30,99,0);  padding: 1px 5px; border: solid 3px ; border-color:  rgba(233,30,99,0); #EFEFEF\">the endangered teens</span> </div>"
      ],
      "text/plain": [
       "<IPython.core.display.HTML object>"
      ]
     },
     "metadata": {},
     "output_type": "display_data"
    },
    {
     "data": {
      "text/html": [
       "<br><br>"
      ],
      "text/plain": [
       "<IPython.core.display.HTML object>"
      ]
     },
     "metadata": {},
     "output_type": "display_data"
    },
    {
     "name": "stdout",
     "output_type": "stream",
     "text": [
      "\n",
      "\n",
      "10 most important reviews for negative predicted label - concept3:\n",
      "\n",
      "\n"
     ]
    },
    {
     "data": {
      "text/html": [
       "<div style='display: flex; width: 400px; flex-wrap: wrap'><span style=\"background-color: rgba(221, 9, 140, 0.329235315322876); padding: 1px 5px; border: solid 3px ; border-color: rgba(221, 9, 140, 1); #EFEFEF\">While</span> <span style=\"background-color: rgba(221, 9, 140, 0.37436363101005554); padding: 1px 5px; border: solid 3px ; border-color: rgba(221, 9, 140, 1); #EFEFEF\">most women</span> <span style=\"background-color: rgba(233,30,99,0);  padding: 1px 5px; border: solid 3px ; border-color:  rgba(233,30,99,0); #EFEFEF\">have had</span> <span style=\"background-color: rgba(233,30,99,0);  padding: 1px 5px; border: solid 3px ; border-color:  rgba(233,30,99,0); #EFEFEF\">some jerk</span> <span style=\"background-color: rgba(221, 9, 140, 0.20180054008960724); padding: 1px 5px; border: solid 3px ; border-color: rgba(221, 9, 140, 1); #EFEFEF\">hurt</span> <span style=\"background-color: rgba(233,30,99,0);  padding: 1px 5px; border: solid 3px ; border-color:  rgba(233,30,99,0); #EFEFEF\">anger</span> <span style=\"background-color: rgba(233,30,99,0);  padding: 1px 5px; border: solid 3px ; border-color:  rgba(233,30,99,0); #EFEFEF\">them</span> <span style=\"background-color: rgba(221, 9, 140, 0.2803192734718323); padding: 1px 5px; border: solid 3px ; border-color: rgba(221, 9, 140, 1); #EFEFEF\">this</span> <span style=\"background-color: rgba(221, 9, 140, 0.31556078791618347); padding: 1px 5px; border: solid 3px ; border-color: rgba(221, 9, 140, 1); #EFEFEF\">is</span> <span style=\"background-color: rgba(221, 9, 140, 0.2439180612564087); padding: 1px 5px; border: solid 3px ; border-color: rgba(221, 9, 140, 1); #EFEFEF\">clearly</span> <span style=\"background-color: rgba(221, 9, 140, 0.29058927297592163); padding: 1px 5px; border: solid 3px ; border-color: rgba(221, 9, 140, 1); #EFEFEF\">a form</span> <span style=\"background-color: rgba(233,30,99,0);  padding: 1px 5px; border: solid 3px ; border-color:  rgba(233,30,99,0); #EFEFEF\">of</span> <span style=\"background-color: rgba(233,30,99,0);  padding: 1px 5px; border: solid 3px ; border-color:  rgba(233,30,99,0); #EFEFEF\">sexism</span> </div>"
      ],
      "text/plain": [
       "<IPython.core.display.HTML object>"
      ]
     },
     "metadata": {},
     "output_type": "display_data"
    },
    {
     "data": {
      "text/html": [
       "<br><br>"
      ],
      "text/plain": [
       "<IPython.core.display.HTML object>"
      ]
     },
     "metadata": {},
     "output_type": "display_data"
    },
    {
     "data": {
      "text/html": [
       "<div style='display: flex; width: 400px; flex-wrap: wrap'><span style=\"background-color: rgba(233,30,99,0);  padding: 1px 5px; border: solid 3px ; border-color:  rgba(233,30,99,0); #EFEFEF\">This</span> <span style=\"background-color: rgba(233,30,99,0);  padding: 1px 5px; border: solid 3px ; border-color:  rgba(233,30,99,0); #EFEFEF\">is</span> <span style=\"background-color: rgba(233,30,99,0);  padding: 1px 5px; border: solid 3px ; border-color:  rgba(233,30,99,0); #EFEFEF\">truly</span> <span style=\"background-color: rgba(233,30,99,0);  padding: 1px 5px; border: solid 3px ; border-color:  rgba(233,30,99,0); #EFEFEF\">an insult</span> <span style=\"background-color: rgba(233,30,99,0);  padding: 1px 5px; border: solid 3px ; border-color:  rgba(233,30,99,0); #EFEFEF\">to</span> <span style=\"background-color: rgba(233,30,99,0);  padding: 1px 5px; border: solid 3px ; border-color:  rgba(233,30,99,0); #EFEFEF\">people</span> <span style=\"background-color: rgba(233,30,99,0);  padding: 1px 5px; border: solid 3px ; border-color:  rgba(233,30,99,0); #EFEFEF\">that</span> <span style=\"background-color: rgba(233,30,99,0);  padding: 1px 5px; border: solid 3px ; border-color:  rgba(233,30,99,0); #EFEFEF\">do take</span> <span style=\"background-color: rgba(233,30,99,0);  padding: 1px 5px; border: solid 3px ; border-color:  rgba(233,30,99,0); #EFEFEF\">space travel</span> <span style=\"background-color: rgba(233,30,99,0);  padding: 1px 5px; border: solid 3px ; border-color:  rgba(233,30,99,0); #EFEFEF\">serious</span> </div>"
      ],
      "text/plain": [
       "<IPython.core.display.HTML object>"
      ]
     },
     "metadata": {},
     "output_type": "display_data"
    },
    {
     "data": {
      "text/html": [
       "<br><br>"
      ],
      "text/plain": [
       "<IPython.core.display.HTML object>"
      ]
     },
     "metadata": {},
     "output_type": "display_data"
    },
    {
     "data": {
      "text/html": [
       "<div style='display: flex; width: 400px; flex-wrap: wrap'><span style=\"background-color: rgba(9, 221, 55,  0.39080825448036194); padding: 1px 5px; border: solid 3px ; border-color: rgba(9, 221, 55,  1); #EFEFEF\">It</span> <span style=\"background-color: rgba(9, 221, 161,  0.8794930577278137); padding: 1px 5px; border: solid 3px ; border-color: rgba(9, 221, 161,  1); #EFEFEF\">is really mocking</span> <span style=\"background-color: rgba(9, 221, 55,  0.2498146891593933); padding: 1px 5px; border: solid 3px ; border-color: rgba(9, 221, 55,  1); #EFEFEF\">psychology</span> <span style=\"background-color: rgba(9, 221, 161,  0.7049970626831055); padding: 1px 5px; border: solid 3px ; border-color: rgba(9, 221, 161,  1); #EFEFEF\">the conditioning</span> <span style=\"background-color: rgba(9, 221, 55,  0.2145565003156662); padding: 1px 5px; border: solid 3px ; border-color: rgba(9, 221, 55,  1); #EFEFEF\">of</span> <span style=\"background-color: rgba(233,30,99,0);  padding: 1px 5px; border: solid 3px ; border-color:  rgba(233,30,99,0); #EFEFEF\">society</span> </div>"
      ],
      "text/plain": [
       "<IPython.core.display.HTML object>"
      ]
     },
     "metadata": {},
     "output_type": "display_data"
    },
    {
     "data": {
      "text/html": [
       "<br><br>"
      ],
      "text/plain": [
       "<IPython.core.display.HTML object>"
      ]
     },
     "metadata": {},
     "output_type": "display_data"
    },
    {
     "data": {
      "text/html": [
       "<div style='display: flex; width: 400px; flex-wrap: wrap'><span style=\"background-color: rgba(221, 9, 140, 0.29271289706230164); padding: 1px 5px; border: solid 3px ; border-color: rgba(221, 9, 140, 1); #EFEFEF\">All women</span> <span style=\"background-color: rgba(233,30,99,0);  padding: 1px 5px; border: solid 3px ; border-color:  rgba(233,30,99,0); #EFEFEF\">are</span> <span style=\"background-color: rgba(221, 9, 34,  0.21702811121940613); padding: 1px 5px; border: solid 3px ; border-color: rgba(221, 9, 34,  1); #EFEFEF\">sluts</span> <span style=\"background-color: rgba(233,30,99,0);  padding: 1px 5px; border: solid 3px ; border-color:  rgba(233,30,99,0); #EFEFEF\">either openly or secretly</span> </div>"
      ],
      "text/plain": [
       "<IPython.core.display.HTML object>"
      ]
     },
     "metadata": {},
     "output_type": "display_data"
    },
    {
     "data": {
      "text/html": [
       "<br><br>"
      ],
      "text/plain": [
       "<IPython.core.display.HTML object>"
      ]
     },
     "metadata": {},
     "output_type": "display_data"
    },
    {
     "data": {
      "text/html": [
       "<div style='display: flex; width: 400px; flex-wrap: wrap'><span style=\"background-color: rgba(233,30,99,0);  padding: 1px 5px; border: solid 3px ; border-color:  rgba(233,30,99,0); #EFEFEF\">The other misconception</span> <span style=\"background-color: rgba(233,30,99,0);  padding: 1px 5px; border: solid 3px ; border-color:  rgba(233,30,99,0); #EFEFEF\">is</span> <span style=\"background-color: rgba(221, 9, 140, 0.36829543113708496); padding: 1px 5px; border: solid 3px ; border-color: rgba(221, 9, 140, 1); #EFEFEF\">abuse</span> <span style=\"background-color: rgba(221, 9, 140, 0.3692210614681244); padding: 1px 5px; border: solid 3px ; border-color: rgba(221, 9, 140, 1); #EFEFEF\">in</span> <span style=\"background-color: rgba(221, 9, 140, 0.3645545244216919); padding: 1px 5px; border: solid 3px ; border-color: rgba(221, 9, 140, 1); #EFEFEF\">childhood</span> <span style=\"background-color: rgba(221, 9, 140, 0.45819634199142456); padding: 1px 5px; border: solid 3px ; border-color: rgba(221, 9, 140, 1); #EFEFEF\">is</span> <span style=\"background-color: rgba(221, 9, 140, 0.5785360336303711); padding: 1px 5px; border: solid 3px ; border-color: rgba(221, 9, 140, 1); #EFEFEF\">a cause</span> <span style=\"background-color: rgba(221, 9, 140, 0.30796533823013306); padding: 1px 5px; border: solid 3px ; border-color: rgba(221, 9, 140, 1); #EFEFEF\">for</span> <span style=\"background-color: rgba(221, 9, 140, 0.3363090455532074); padding: 1px 5px; border: solid 3px ; border-color: rgba(221, 9, 140, 1); #EFEFEF\">schizophrenia</span> </div>"
      ],
      "text/plain": [
       "<IPython.core.display.HTML object>"
      ]
     },
     "metadata": {},
     "output_type": "display_data"
    },
    {
     "data": {
      "text/html": [
       "<br><br>"
      ],
      "text/plain": [
       "<IPython.core.display.HTML object>"
      ]
     },
     "metadata": {},
     "output_type": "display_data"
    },
    {
     "data": {
      "text/html": [
       "<div style='display: flex; width: 400px; flex-wrap: wrap'><span style=\"background-color: rgba(9, 221, 161,  0.45307961106300354); padding: 1px 5px; border: solid 3px ; border-color: rgba(9, 221, 161,  1); #EFEFEF\">It</span> <span style=\"background-color: rgba(9, 221, 161,  0.45307961106300354); padding: 1px 5px; border: solid 3px ; border-color: rgba(9, 221, 161,  1); #EFEFEF\">is</span> <span style=\"background-color: rgba(221, 9, 140, 0.21352942287921906); padding: 1px 5px; border: solid 3px ; border-color: rgba(221, 9, 140, 1); #EFEFEF\">also</span> <span style=\"background-color: rgba(9, 221, 161,  0.3800494968891144); padding: 1px 5px; border: solid 3px ; border-color: rgba(9, 221, 161,  1); #EFEFEF\">offensive</span> </div>"
      ],
      "text/plain": [
       "<IPython.core.display.HTML object>"
      ]
     },
     "metadata": {},
     "output_type": "display_data"
    },
    {
     "data": {
      "text/html": [
       "<br><br>"
      ],
      "text/plain": [
       "<IPython.core.display.HTML object>"
      ]
     },
     "metadata": {},
     "output_type": "display_data"
    },
    {
     "data": {
      "text/html": [
       "<div style='display: flex; width: 400px; flex-wrap: wrap'><span style=\"background-color: rgba(233,30,99,0);  padding: 1px 5px; border: solid 3px ; border-color:  rgba(233,30,99,0); #EFEFEF\">It</span> <span style=\"background-color: rgba(9, 221, 161,  0.27277249097824097); padding: 1px 5px; border: solid 3px ; border-color: rgba(9, 221, 161,  1); #EFEFEF\">'s</span> <span style=\"background-color: rgba(233,30,99,0);  padding: 1px 5px; border: solid 3px ; border-color:  rgba(233,30,99,0); #EFEFEF\">a moral message</span> <span style=\"background-color: rgba(233,30,99,0);  padding: 1px 5px; border: solid 3px ; border-color:  rgba(233,30,99,0); #EFEFEF\">about</span> <span style=\"background-color: rgba(233,30,99,0);  padding: 1px 5px; border: solid 3px ; border-color:  rgba(233,30,99,0); #EFEFEF\">pod people</span> <span style=\"background-color: rgba(233,30,99,0);  padding: 1px 5px; border: solid 3px ; border-color:  rgba(233,30,99,0); #EFEFEF\">masquerading</span> <span style=\"background-color: rgba(233,30,99,0);  padding: 1px 5px; border: solid 3px ; border-color:  rgba(233,30,99,0); #EFEFEF\">as</span> <span style=\"background-color: rgba(233,30,99,0);  padding: 1px 5px; border: solid 3px ; border-color:  rgba(233,30,99,0); #EFEFEF\">normal citizens</span> </div>"
      ],
      "text/plain": [
       "<IPython.core.display.HTML object>"
      ]
     },
     "metadata": {},
     "output_type": "display_data"
    },
    {
     "data": {
      "text/html": [
       "<br><br>"
      ],
      "text/plain": [
       "<IPython.core.display.HTML object>"
      ]
     },
     "metadata": {},
     "output_type": "display_data"
    },
    {
     "data": {
      "text/html": [
       "<div style='display: flex; width: 400px; flex-wrap: wrap'><span style=\"background-color: rgba(9, 221, 55,  0.7699670791625977); padding: 1px 5px; border: solid 3px ; border-color: rgba(9, 221, 55,  1); #EFEFEF\">Insulted</span> <span style=\"background-color: rgba(9, 221, 55,  0.6696136593818665); padding: 1px 5px; border: solid 3px ; border-color: rgba(9, 221, 55,  1); #EFEFEF\">Whiting</span> <span style=\"background-color: rgba(9, 221, 55,  0.8094896674156189); padding: 1px 5px; border: solid 3px ; border-color: rgba(9, 221, 55,  1); #EFEFEF\">attacks</span> <span style=\"background-color: rgba(9, 221, 55,  0.8677796125411987); padding: 1px 5px; border: solid 3px ; border-color: rgba(9, 221, 55,  1); #EFEFEF\">his masculinity</span> <span style=\"background-color: rgba(9, 221, 55,  0.6411706805229187); padding: 1px 5px; border: solid 3px ; border-color: rgba(9, 221, 55,  1); #EFEFEF\">by</span> <span style=\"background-color: rgba(221, 9, 140, 0.4854595363140106); padding: 1px 5px; border: solid 3px ; border-color: rgba(221, 9, 140, 1); #EFEFEF\">calling</span> <span style=\"background-color: rgba(9, 221, 55,  0.8377597332000732); padding: 1px 5px; border: solid 3px ; border-color: rgba(9, 221, 55,  1); #EFEFEF\">his work women</span> <span style=\"background-color: rgba(9, 221, 55,  0.9921635389328003); padding: 1px 5px; border: solid 3px ; border-color: rgba(9, 221, 55,  1); #EFEFEF\">'s work</span> </div>"
      ],
      "text/plain": [
       "<IPython.core.display.HTML object>"
      ]
     },
     "metadata": {},
     "output_type": "display_data"
    },
    {
     "data": {
      "text/html": [
       "<br><br>"
      ],
      "text/plain": [
       "<IPython.core.display.HTML object>"
      ]
     },
     "metadata": {},
     "output_type": "display_data"
    },
    {
     "data": {
      "text/html": [
       "<div style='display: flex; width: 400px; flex-wrap: wrap'><span style=\"background-color: rgba(9, 221, 55,  0.4912315905094147); padding: 1px 5px; border: solid 3px ; border-color: rgba(9, 221, 55,  1); #EFEFEF\">There</span> <span style=\"background-color: rgba(9, 221, 161,  0.5106168389320374); padding: 1px 5px; border: solid 3px ; border-color: rgba(9, 221, 161,  1); #EFEFEF\">is</span> <span style=\"background-color: rgba(9, 221, 55,  0.42504453659057617); padding: 1px 5px; border: solid 3px ; border-color: rgba(9, 221, 55,  1); #EFEFEF\">a good reason</span> <span style=\"background-color: rgba(221, 9, 140, 0.280610054731369); padding: 1px 5px; border: solid 3px ; border-color: rgba(221, 9, 140, 1); #EFEFEF\">for</span> <span style=\"background-color: rgba(9, 221, 161,  0.7882908582687378); padding: 1px 5px; border: solid 3px ; border-color: rgba(9, 221, 161,  1); #EFEFEF\">him</span> <span style=\"background-color: rgba(233,30,99,0);  padding: 1px 5px; border: solid 3px ; border-color:  rgba(233,30,99,0); #EFEFEF\">doing</span> <span style=\"background-color: rgba(9, 221, 161,  0.3955506682395935); padding: 1px 5px; border: solid 3px ; border-color: rgba(9, 221, 161,  1); #EFEFEF\">this</span> <span style=\"background-color: rgba(9, 221, 55,  0.23290683329105377); padding: 1px 5px; border: solid 3px ; border-color: rgba(9, 221, 55,  1); #EFEFEF\">namely</span> <span style=\"background-color: rgba(221, 9, 140, 0.22532494366168976); padding: 1px 5px; border: solid 3px ; border-color: rgba(221, 9, 140, 1); #EFEFEF\">that</span> <span style=\"background-color: rgba(221, 9, 140, 0.2119739055633545); padding: 1px 5px; border: solid 3px ; border-color: rgba(221, 9, 140, 1); #EFEFEF\">he</span> <span style=\"background-color: rgba(221, 9, 140, 0.2135552167892456); padding: 1px 5px; border: solid 3px ; border-color: rgba(221, 9, 140, 1); #EFEFEF\">is</span> <span style=\"background-color: rgba(9, 221, 55,  0.4971742033958435); padding: 1px 5px; border: solid 3px ; border-color: rgba(9, 221, 55,  1); #EFEFEF\">a liar</span> </div>"
      ],
      "text/plain": [
       "<IPython.core.display.HTML object>"
      ]
     },
     "metadata": {},
     "output_type": "display_data"
    },
    {
     "data": {
      "text/html": [
       "<br><br>"
      ],
      "text/plain": [
       "<IPython.core.display.HTML object>"
      ]
     },
     "metadata": {},
     "output_type": "display_data"
    },
    {
     "data": {
      "text/html": [
       "<div style='display: flex; width: 400px; flex-wrap: wrap'><span style=\"background-color: rgba(9, 221, 55,  0.394737184047699); padding: 1px 5px; border: solid 3px ; border-color: rgba(9, 221, 55,  1); #EFEFEF\">I</span> <span style=\"background-color: rgba(233,30,99,0);  padding: 1px 5px; border: solid 3px ; border-color:  rgba(233,30,99,0); #EFEFEF\">found</span> <span style=\"background-color: rgba(233,30,99,0);  padding: 1px 5px; border: solid 3px ; border-color:  rgba(233,30,99,0); #EFEFEF\">this</span> <span style=\"background-color: rgba(233,30,99,0);  padding: 1px 5px; border: solid 3px ; border-color:  rgba(233,30,99,0); #EFEFEF\">unengaging</span> <span style=\"background-color: rgba(221, 9, 140, 0.2590075135231018); padding: 1px 5px; border: solid 3px ; border-color: rgba(221, 9, 140, 1); #EFEFEF\">at</span> <span style=\"background-color: rgba(221, 9, 140, 0.3121955692768097); padding: 1px 5px; border: solid 3px ; border-color: rgba(221, 9, 140, 1); #EFEFEF\">times</span> <span style=\"background-color: rgba(233,30,99,0);  padding: 1px 5px; border: solid 3px ; border-color:  rgba(233,30,99,0); #EFEFEF\">offensive</span> <span style=\"background-color: rgba(233,30,99,0);  padding: 1px 5px; border: solid 3px ; border-color:  rgba(233,30,99,0); #EFEFEF\">to</span> <span style=\"background-color: rgba(233,30,99,0);  padding: 1px 5px; border: solid 3px ; border-color:  rgba(233,30,99,0); #EFEFEF\">the cause</span> </div>"
      ],
      "text/plain": [
       "<IPython.core.display.HTML object>"
      ]
     },
     "metadata": {},
     "output_type": "display_data"
    },
    {
     "data": {
      "text/html": [
       "<br><br>"
      ],
      "text/plain": [
       "<IPython.core.display.HTML object>"
      ]
     },
     "metadata": {},
     "output_type": "display_data"
    }
   ],
   "source": [
    "plot_reviews_exp(segments_pos, u_segments_pos, factorization_pos, global_importance_pos,\n",
    "                 segments_neg, u_segments_neg, factorization_neg, global_importance_neg,\n",
    "                 custom_samples=False)"
   ]
  },
  {
   "cell_type": "code",
   "execution_count": 11,
   "id": "22753550-18b2-4d97-8492-e9794119e1e4",
   "metadata": {
    "collapsed": true,
    "jupyter": {
     "outputs_hidden": true
    },
    "tags": []
   },
   "outputs": [
    {
     "data": {
      "text/html": [
       "<div style='display: flex; width: 400px; flex-wrap: wrap'><span style=\"background-color: rgba(9, 221, 55,  0.5); padding: 1px 5px; border: solid 3px ; border-color: rgba(9, 221, 55,  1); #EFEFEF\">Positive label: concept1 </span> <span style=\"background-color: rgba(9, 221, 161,  0.5); padding: 1px 5px; border: solid 3px ; border-color: rgba(9, 221, 161,  1); #EFEFEF\">Positive label: concept2 </span> <span style=\"background-color: rgba(221, 9, 34,  0.5); padding: 1px 5px; border: solid 3px ; border-color: rgba(221, 9, 34,  1); #EFEFEF\">Negative label: concept1 </span> <span style=\"background-color: rgba(221, 9, 140, 0.5); padding: 1px 5px; border: solid 3px ; border-color: rgba(221, 9, 140, 1); #EFEFEF\">Negative label: concept2 </span> <span style=\"background-color: rgba(221, 90, 9,  0.5); padding: 1px 5px; border: solid 3px ; border-color: rgba(221, 90, 9,  1); #EFEFEF\">Negative label: concept3 </span> </div>"
      ],
      "text/plain": [
       "<IPython.core.display.HTML object>"
      ]
     },
     "metadata": {},
     "output_type": "display_data"
    },
    {
     "data": {
      "text/html": [
       "<br><br>"
      ],
      "text/plain": [
       "<IPython.core.display.HTML object>"
      ]
     },
     "metadata": {},
     "output_type": "display_data"
    },
    {
     "name": "stdout",
     "output_type": "stream",
     "text": [
      "positive predicted reviews:\n",
      "\n",
      "\n",
      "\n",
      "\n",
      "7 most important reviews for positive predicted label - concept1:\n",
      "\n",
      "\n"
     ]
    },
    {
     "data": {
      "text/html": [
       "<div style='display: flex; width: 400px; flex-wrap: wrap'><span style=\"background-color: rgba(233,30,99,0);  padding: 1px 5px; border: solid 3px ; border-color:  rgba(233,30,99,0); #EFEFEF\">One</span> <span style=\"background-color: rgba(233,30,99,0);  padding: 1px 5px; border: solid 3px ; border-color:  rgba(233,30,99,0); #EFEFEF\">of</span> <span style=\"background-color: rgba(9, 221, 55,  0.9971613883972168); padding: 1px 5px; border: solid 3px ; border-color: rgba(9, 221, 55,  1); #EFEFEF\">the best movies</span> <span style=\"background-color: rgba(233,30,99,0);  padding: 1px 5px; border: solid 3px ; border-color:  rgba(233,30,99,0); #EFEFEF\">ever</span> <span style=\"background-color: rgba(221, 9, 140, 0.24190476536750793); padding: 1px 5px; border: solid 3px ; border-color: rgba(221, 9, 140, 1); #EFEFEF\">hands</span> <span style=\"background-color: rgba(221, 9, 140, 0.21348199248313904); padding: 1px 5px; border: solid 3px ; border-color: rgba(221, 9, 140, 1); #EFEFEF\">down</span> </div>"
      ],
      "text/plain": [
       "<IPython.core.display.HTML object>"
      ]
     },
     "metadata": {},
     "output_type": "display_data"
    },
    {
     "data": {
      "text/html": [
       "<br><br>"
      ],
      "text/plain": [
       "<IPython.core.display.HTML object>"
      ]
     },
     "metadata": {},
     "output_type": "display_data"
    },
    {
     "data": {
      "text/html": [
       "<div style='display: flex; width: 400px; flex-wrap: wrap'><span style=\"background-color: rgba(233,30,99,0);  padding: 1px 5px; border: solid 3px ; border-color:  rgba(233,30,99,0); #EFEFEF\">It</span> <span style=\"background-color: rgba(233,30,99,0);  padding: 1px 5px; border: solid 3px ; border-color:  rgba(233,30,99,0); #EFEFEF\">is</span> <span style=\"background-color: rgba(233,30,99,0);  padding: 1px 5px; border: solid 3px ; border-color:  rgba(233,30,99,0); #EFEFEF\">simply</span> <span style=\"background-color: rgba(233,30,99,0);  padding: 1px 5px; border: solid 3px ; border-color:  rgba(233,30,99,0); #EFEFEF\">one</span> <span style=\"background-color: rgba(233,30,99,0);  padding: 1px 5px; border: solid 3px ; border-color:  rgba(233,30,99,0); #EFEFEF\">of</span> <span style=\"background-color: rgba(9, 221, 55,  0.9982519149780273); padding: 1px 5px; border: solid 3px ; border-color: rgba(9, 221, 55,  1); #EFEFEF\">my all-time favorite films</span> </div>"
      ],
      "text/plain": [
       "<IPython.core.display.HTML object>"
      ]
     },
     "metadata": {},
     "output_type": "display_data"
    },
    {
     "data": {
      "text/html": [
       "<br><br>"
      ],
      "text/plain": [
       "<IPython.core.display.HTML object>"
      ]
     },
     "metadata": {},
     "output_type": "display_data"
    },
    {
     "data": {
      "text/html": [
       "<div style='display: flex; width: 400px; flex-wrap: wrap'><span style=\"background-color: rgba(9, 221, 55,  0.9961426258087158); padding: 1px 5px; border: solid 3px ; border-color: rgba(9, 221, 55,  1); #EFEFEF\">Very inspiring and encouraging</span> <span style=\"background-color: rgba(9, 221, 55,  0.3268711268901825); padding: 1px 5px; border: solid 3px ; border-color: rgba(9, 221, 55,  1); #EFEFEF\">to</span> <span style=\"background-color: rgba(233,30,99,0);  padding: 1px 5px; border: solid 3px ; border-color:  rgba(233,30,99,0); #EFEFEF\">all ages</span> </div>"
      ],
      "text/plain": [
       "<IPython.core.display.HTML object>"
      ]
     },
     "metadata": {},
     "output_type": "display_data"
    },
    {
     "data": {
      "text/html": [
       "<br><br>"
      ],
      "text/plain": [
       "<IPython.core.display.HTML object>"
      ]
     },
     "metadata": {},
     "output_type": "display_data"
    },
    {
     "data": {
      "text/html": [
       "<div style='display: flex; width: 400px; flex-wrap: wrap'><span style=\"background-color: rgba(9, 221, 55,  0.5120353102684021); padding: 1px 5px; border: solid 3px ; border-color: rgba(9, 221, 55,  1); #EFEFEF\">The ballroom scenes</span> <span style=\"background-color: rgba(233,30,99,0);  padding: 1px 5px; border: solid 3px ; border-color:  rgba(233,30,99,0); #EFEFEF\">were</span> <span style=\"background-color: rgba(221, 9, 140, 0.9164066910743713); padding: 1px 5px; border: solid 3px ; border-color: rgba(221, 9, 140, 1); #EFEFEF\">very nice</span> <span style=\"background-color: rgba(233,30,99,0);  padding: 1px 5px; border: solid 3px ; border-color:  rgba(233,30,99,0); #EFEFEF\">the dancing</span> <span style=\"background-color: rgba(9, 221, 161,  0.30126476287841797); padding: 1px 5px; border: solid 3px ; border-color: rgba(9, 221, 161,  1); #EFEFEF\">the outfits</span> <span style=\"background-color: rgba(9, 221, 161,  0.8626889586448669); padding: 1px 5px; border: solid 3px ; border-color: rgba(9, 221, 161,  1); #EFEFEF\">looked</span> <span style=\"background-color: rgba(9, 221, 161,  0.6864015460014343); padding: 1px 5px; border: solid 3px ; border-color: rgba(9, 221, 161,  1); #EFEFEF\">beautiful</span> </div>"
      ],
      "text/plain": [
       "<IPython.core.display.HTML object>"
      ]
     },
     "metadata": {},
     "output_type": "display_data"
    },
    {
     "data": {
      "text/html": [
       "<br><br>"
      ],
      "text/plain": [
       "<IPython.core.display.HTML object>"
      ]
     },
     "metadata": {},
     "output_type": "display_data"
    },
    {
     "data": {
      "text/html": [
       "<div style='display: flex; width: 400px; flex-wrap: wrap'><span style=\"background-color: rgba(221, 9, 140, 0.2953771650791168); padding: 1px 5px; border: solid 3px ; border-color: rgba(221, 9, 140, 1); #EFEFEF\">Billy Bitzer</span> <span style=\"background-color: rgba(221, 9, 140, 0.2933955788612366); padding: 1px 5px; border: solid 3px ; border-color: rgba(221, 9, 140, 1); #EFEFEF\">'s camera work</span> <span style=\"background-color: rgba(233,30,99,0);  padding: 1px 5px; border: solid 3px ; border-color:  rgba(233,30,99,0); #EFEFEF\">is</span> <span style=\"background-color: rgba(221, 9, 140, 0.9978527426719666); padding: 1px 5px; border: solid 3px ; border-color: rgba(221, 9, 140, 1); #EFEFEF\">quite good</span> </div>"
      ],
      "text/plain": [
       "<IPython.core.display.HTML object>"
      ]
     },
     "metadata": {},
     "output_type": "display_data"
    },
    {
     "data": {
      "text/html": [
       "<br><br>"
      ],
      "text/plain": [
       "<IPython.core.display.HTML object>"
      ]
     },
     "metadata": {},
     "output_type": "display_data"
    },
    {
     "data": {
      "text/html": [
       "<div style='display: flex; width: 400px; flex-wrap: wrap'><span style=\"background-color: rgba(221, 9, 140, 0.9962875843048096); padding: 1px 5px; border: solid 3px ; border-color: rgba(221, 9, 140, 1); #EFEFEF\">The humor and sadness</span> <span style=\"background-color: rgba(233,30,99,0);  padding: 1px 5px; border: solid 3px ; border-color:  rgba(233,30,99,0); #EFEFEF\">are subtly blended</span> </div>"
      ],
      "text/plain": [
       "<IPython.core.display.HTML object>"
      ]
     },
     "metadata": {},
     "output_type": "display_data"
    },
    {
     "data": {
      "text/html": [
       "<br><br>"
      ],
      "text/plain": [
       "<IPython.core.display.HTML object>"
      ]
     },
     "metadata": {},
     "output_type": "display_data"
    },
    {
     "data": {
      "text/html": [
       "<div style='display: flex; width: 400px; flex-wrap: wrap'><span style=\"background-color: rgba(233,30,99,0);  padding: 1px 5px; border: solid 3px ; border-color:  rgba(233,30,99,0); #EFEFEF\">Idrissa Oudraogo</span> <span style=\"background-color: rgba(9, 221, 55,  0.2047129124403); padding: 1px 5px; border: solid 3px ; border-color: rgba(9, 221, 55,  1); #EFEFEF\">Burkina Faso</span> <span style=\"background-color: rgba(9, 221, 55,  0.20191669464111328); padding: 1px 5px; border: solid 3px ; border-color: rgba(9, 221, 55,  1); #EFEFEF\">from</span> <span style=\"background-color: rgba(233,30,99,0);  padding: 1px 5px; border: solid 3px ; border-color:  rgba(233,30,99,0); #EFEFEF\">one</span> <span style=\"background-color: rgba(233,30,99,0);  padding: 1px 5px; border: solid 3px ; border-color:  rgba(233,30,99,0); #EFEFEF\">of</span> <span style=\"background-color: rgba(233,30,99,0);  padding: 1px 5px; border: solid 3px ; border-color:  rgba(233,30,99,0); #EFEFEF\">the poorest country</span> <span style=\"background-color: rgba(9, 221, 55,  0.2023860514163971); padding: 1px 5px; border: solid 3px ; border-color: rgba(9, 221, 55,  1); #EFEFEF\">in</span> <span style=\"background-color: rgba(9, 221, 55,  0.21633082628250122); padding: 1px 5px; border: solid 3px ; border-color: rgba(9, 221, 55,  1); #EFEFEF\">the world</span> <span style=\"background-color: rgba(221, 9, 140, 0.9982216954231262); padding: 1px 5px; border: solid 3px ; border-color: rgba(221, 9, 140, 1); #EFEFEF\">a tender and funny story</span> <span style=\"background-color: rgba(233,30,99,0);  padding: 1px 5px; border: solid 3px ; border-color:  rgba(233,30,99,0); #EFEFEF\">about</span> <span style=\"background-color: rgba(9, 221, 55,  0.20166243612766266); padding: 1px 5px; border: solid 3px ; border-color: rgba(9, 221, 55,  1); #EFEFEF\">five boys</span> <span style=\"background-color: rgba(9, 221, 55,  0.223511204123497); padding: 1px 5px; border: solid 3px ; border-color: rgba(9, 221, 55,  1); #EFEFEF\">who</span> <span style=\"background-color: rgba(9, 221, 55,  0.20213477313518524); padding: 1px 5px; border: solid 3px ; border-color: rgba(9, 221, 55,  1); #EFEFEF\">want to capture</span> <span style=\"background-color: rgba(9, 221, 55,  0.21506181359291077); padding: 1px 5px; border: solid 3px ; border-color: rgba(9, 221, 55,  1); #EFEFEF\">Osama Bin Laden</span> </div>"
      ],
      "text/plain": [
       "<IPython.core.display.HTML object>"
      ]
     },
     "metadata": {},
     "output_type": "display_data"
    },
    {
     "data": {
      "text/html": [
       "<br><br>"
      ],
      "text/plain": [
       "<IPython.core.display.HTML object>"
      ]
     },
     "metadata": {},
     "output_type": "display_data"
    },
    {
     "name": "stdout",
     "output_type": "stream",
     "text": [
      "\n",
      "\n",
      "7 most important reviews for positive predicted label - concept2:\n",
      "\n",
      "\n"
     ]
    },
    {
     "data": {
      "text/html": [
       "<div style='display: flex; width: 400px; flex-wrap: wrap'><span style=\"background-color: rgba(9, 221, 55,  0.9969073534011841); padding: 1px 5px; border: solid 3px ; border-color: rgba(9, 221, 55,  1); #EFEFEF\">Especially fun</span> <span style=\"background-color: rgba(233,30,99,0);  padding: 1px 5px; border: solid 3px ; border-color:  rgba(233,30,99,0); #EFEFEF\">is</span> <span style=\"background-color: rgba(221, 9, 140, 0.577595055103302); padding: 1px 5px; border: solid 3px ; border-color: rgba(221, 9, 140, 1); #EFEFEF\">the performance</span> <span style=\"background-color: rgba(221, 9, 140, 0.2295292317867279); padding: 1px 5px; border: solid 3px ; border-color: rgba(221, 9, 140, 1); #EFEFEF\">by</span> <span style=\"background-color: rgba(9, 221, 55,  0.22527934610843658); padding: 1px 5px; border: solid 3px ; border-color: rgba(9, 221, 55,  1); #EFEFEF\">Cronenberg</span> <span style=\"background-color: rgba(221, 9, 140, 0.3786714971065521); padding: 1px 5px; border: solid 3px ; border-color: rgba(221, 9, 140, 1); #EFEFEF\">as</span> <span style=\"background-color: rgba(221, 9, 140, 0.37715476751327515); padding: 1px 5px; border: solid 3px ; border-color: rgba(221, 9, 140, 1); #EFEFEF\">the truly evil human doctor</span> <span style=\"background-color: rgba(221, 9, 140, 0.2925286591053009); padding: 1px 5px; border: solid 3px ; border-color: rgba(221, 9, 140, 1); #EFEFEF\">who</span> <span style=\"background-color: rgba(221, 9, 140, 0.29737210273742676); padding: 1px 5px; border: solid 3px ; border-color: rgba(221, 9, 140, 1); #EFEFEF\">is bent</span> <span style=\"background-color: rgba(221, 9, 140, 0.2956802546977997); padding: 1px 5px; border: solid 3px ; border-color: rgba(221, 9, 140, 1); #EFEFEF\">on</span> <span style=\"background-color: rgba(221, 9, 140, 0.25022411346435547); padding: 1px 5px; border: solid 3px ; border-color: rgba(221, 9, 140, 1); #EFEFEF\">destroying</span> <span style=\"background-color: rgba(221, 9, 140, 0.2871320843696594); padding: 1px 5px; border: solid 3px ; border-color: rgba(221, 9, 140, 1); #EFEFEF\">the Nightbreed</span> </div>"
      ],
      "text/plain": [
       "<IPython.core.display.HTML object>"
      ]
     },
     "metadata": {},
     "output_type": "display_data"
    },
    {
     "data": {
      "text/html": [
       "<br><br>"
      ],
      "text/plain": [
       "<IPython.core.display.HTML object>"
      ]
     },
     "metadata": {},
     "output_type": "display_data"
    },
    {
     "name": "stdout",
     "output_type": "stream",
     "text": [
      "\n",
      "\n",
      "negative predicted reviews:\n",
      "\n",
      "\n",
      "\n",
      "\n",
      "7 most important reviews for negative predicted label - concept1:\n",
      "\n",
      "\n"
     ]
    },
    {
     "data": {
      "text/html": [
       "<div style='display: flex; width: 400px; flex-wrap: wrap'><span style=\"background-color: rgba(233,30,99,0);  padding: 1px 5px; border: solid 3px ; border-color:  rgba(233,30,99,0); #EFEFEF\">I</span> <span style=\"background-color: rgba(233,30,99,0);  padding: 1px 5px; border: solid 3px ; border-color:  rgba(233,30,99,0); #EFEFEF\">couldn't even follow</span> <span style=\"background-color: rgba(233,30,99,0);  padding: 1px 5px; border: solid 3px ; border-color:  rgba(233,30,99,0); #EFEFEF\">the plot</span> <span style=\"background-color: rgba(233,30,99,0);  padding: 1px 5px; border: solid 3px ; border-color:  rgba(233,30,99,0); #EFEFEF\">suffice</span> <span style=\"background-color: rgba(233,30,99,0);  padding: 1px 5px; border: solid 3px ; border-color:  rgba(233,30,99,0); #EFEFEF\">it</span> <span style=\"background-color: rgba(233,30,99,0);  padding: 1px 5px; border: solid 3px ; border-color:  rgba(233,30,99,0); #EFEFEF\">to say</span> <span style=\"background-color: rgba(221, 9, 140, 0.27208077907562256); padding: 1px 5px; border: solid 3px ; border-color: rgba(221, 9, 140, 1); #EFEFEF\">this</span> <span style=\"background-color: rgba(233,30,99,0);  padding: 1px 5px; border: solid 3px ; border-color:  rgba(233,30,99,0); #EFEFEF\">is</span> <span style=\"background-color: rgba(233,30,99,0);  padding: 1px 5px; border: solid 3px ; border-color:  rgba(233,30,99,0); #EFEFEF\">the absolute worst movie</span> <span style=\"background-color: rgba(233,30,99,0);  padding: 1px 5px; border: solid 3px ; border-color:  rgba(233,30,99,0); #EFEFEF\">I</span> <span style=\"background-color: rgba(233,30,99,0);  padding: 1px 5px; border: solid 3px ; border-color:  rgba(233,30,99,0); #EFEFEF\">have ever seen</span> <span style=\"background-color: rgba(233,30,99,0);  padding: 1px 5px; border: solid 3px ; border-color:  rgba(233,30,99,0); #EFEFEF\">in</span> <span style=\"background-color: rgba(233,30,99,0);  padding: 1px 5px; border: solid 3px ; border-color:  rgba(233,30,99,0); #EFEFEF\">my life</span> </div>"
      ],
      "text/plain": [
       "<IPython.core.display.HTML object>"
      ]
     },
     "metadata": {},
     "output_type": "display_data"
    },
    {
     "data": {
      "text/html": [
       "<br><br>"
      ],
      "text/plain": [
       "<IPython.core.display.HTML object>"
      ]
     },
     "metadata": {},
     "output_type": "display_data"
    },
    {
     "data": {
      "text/html": [
       "<div style='display: flex; width: 400px; flex-wrap: wrap'><span style=\"background-color: rgba(233,30,99,0);  padding: 1px 5px; border: solid 3px ; border-color:  rgba(233,30,99,0); #EFEFEF\">This</span> <span style=\"background-color: rgba(233,30,99,0);  padding: 1px 5px; border: solid 3px ; border-color:  rgba(233,30,99,0); #EFEFEF\">is</span> <span style=\"background-color: rgba(233,30,99,0);  padding: 1px 5px; border: solid 3px ; border-color:  rgba(233,30,99,0); #EFEFEF\">by</span> <span style=\"background-color: rgba(233,30,99,0);  padding: 1px 5px; border: solid 3px ; border-color:  rgba(233,30,99,0); #EFEFEF\">far</span> <span style=\"background-color: rgba(233,30,99,0);  padding: 1px 5px; border: solid 3px ; border-color:  rgba(233,30,99,0); #EFEFEF\">one</span> <span style=\"background-color: rgba(233,30,99,0);  padding: 1px 5px; border: solid 3px ; border-color:  rgba(233,30,99,0); #EFEFEF\">of</span> <span style=\"background-color: rgba(233,30,99,0);  padding: 1px 5px; border: solid 3px ; border-color:  rgba(233,30,99,0); #EFEFEF\">the worst films</span> <span style=\"background-color: rgba(221, 9, 140, 0.22065067291259766); padding: 1px 5px; border: solid 3px ; border-color: rgba(221, 9, 140, 1); #EFEFEF\">I</span> <span style=\"background-color: rgba(233,30,99,0);  padding: 1px 5px; border: solid 3px ; border-color:  rgba(233,30,99,0); #EFEFEF\">'ve ever paid</span> <span style=\"background-color: rgba(233,30,99,0);  padding: 1px 5px; border: solid 3px ; border-color:  rgba(233,30,99,0); #EFEFEF\">good money</span> <span style=\"background-color: rgba(233,30,99,0);  padding: 1px 5px; border: solid 3px ; border-color:  rgba(233,30,99,0); #EFEFEF\">to see</span> </div>"
      ],
      "text/plain": [
       "<IPython.core.display.HTML object>"
      ]
     },
     "metadata": {},
     "output_type": "display_data"
    },
    {
     "data": {
      "text/html": [
       "<br><br>"
      ],
      "text/plain": [
       "<IPython.core.display.HTML object>"
      ]
     },
     "metadata": {},
     "output_type": "display_data"
    },
    {
     "data": {
      "text/html": [
       "<div style='display: flex; width: 400px; flex-wrap: wrap'><span style=\"background-color: rgba(233,30,99,0);  padding: 1px 5px; border: solid 3px ; border-color:  rgba(233,30,99,0); #EFEFEF\">Words</span> <span style=\"background-color: rgba(9, 221, 55,  0.34142541885375977); padding: 1px 5px; border: solid 3px ; border-color: rgba(9, 221, 55,  1); #EFEFEF\">cannot begin to describe</span> <span style=\"background-color: rgba(233,30,99,0);  padding: 1px 5px; border: solid 3px ; border-color:  rgba(233,30,99,0); #EFEFEF\">how blandly terrible</span> <span style=\"background-color: rgba(221, 9, 140, 0.3491341173648834); padding: 1px 5px; border: solid 3px ; border-color: rgba(221, 9, 140, 1); #EFEFEF\">this movie</span> <span style=\"background-color: rgba(221, 9, 140, 0.3746354281902313); padding: 1px 5px; border: solid 3px ; border-color: rgba(221, 9, 140, 1); #EFEFEF\">is</span> </div>"
      ],
      "text/plain": [
       "<IPython.core.display.HTML object>"
      ]
     },
     "metadata": {},
     "output_type": "display_data"
    },
    {
     "data": {
      "text/html": [
       "<br><br>"
      ],
      "text/plain": [
       "<IPython.core.display.HTML object>"
      ]
     },
     "metadata": {},
     "output_type": "display_data"
    },
    {
     "data": {
      "text/html": [
       "<div style='display: flex; width: 400px; flex-wrap: wrap'><span style=\"background-color: rgba(233,30,99,0);  padding: 1px 5px; border: solid 3px ; border-color:  rgba(233,30,99,0); #EFEFEF\">It</span> <span style=\"background-color: rgba(233,30,99,0);  padding: 1px 5px; border: solid 3px ; border-color:  rgba(233,30,99,0); #EFEFEF\">'s</span> <span style=\"background-color: rgba(233,30,99,0);  padding: 1px 5px; border: solid 3px ; border-color:  rgba(233,30,99,0); #EFEFEF\">pointless</span> </div>"
      ],
      "text/plain": [
       "<IPython.core.display.HTML object>"
      ]
     },
     "metadata": {},
     "output_type": "display_data"
    },
    {
     "data": {
      "text/html": [
       "<br><br>"
      ],
      "text/plain": [
       "<IPython.core.display.HTML object>"
      ]
     },
     "metadata": {},
     "output_type": "display_data"
    },
    {
     "data": {
      "text/html": [
       "<div style='display: flex; width: 400px; flex-wrap: wrap'><span style=\"background-color: rgba(221, 9, 140, 0.38999035954475403); padding: 1px 5px; border: solid 3px ; border-color: rgba(221, 9, 140, 1); #EFEFEF\">Plot</span> <span style=\"background-color: rgba(221, 9, 140, 0.9908464550971985); padding: 1px 5px; border: solid 3px ; border-color: rgba(221, 9, 140, 1); #EFEFEF\">is</span> <span style=\"background-color: rgba(233,30,99,0);  padding: 1px 5px; border: solid 3px ; border-color:  rgba(233,30,99,0); #EFEFEF\">unimportant</span> </div>"
      ],
      "text/plain": [
       "<IPython.core.display.HTML object>"
      ]
     },
     "metadata": {},
     "output_type": "display_data"
    },
    {
     "data": {
      "text/html": [
       "<br><br>"
      ],
      "text/plain": [
       "<IPython.core.display.HTML object>"
      ]
     },
     "metadata": {},
     "output_type": "display_data"
    },
    {
     "data": {
      "text/html": [
       "<div style='display: flex; width: 400px; flex-wrap: wrap'><span style=\"background-color: rgba(9, 221, 55,  0.5917667150497437); padding: 1px 5px; border: solid 3px ; border-color: rgba(9, 221, 55,  1); #EFEFEF\">About the only good thing</span> <span style=\"background-color: rgba(233,30,99,0);  padding: 1px 5px; border: solid 3px ; border-color:  rgba(233,30,99,0); #EFEFEF\">about</span> <span style=\"background-color: rgba(233,30,99,0);  padding: 1px 5px; border: solid 3px ; border-color:  rgba(233,30,99,0); #EFEFEF\">this</span> <span style=\"background-color: rgba(233,30,99,0);  padding: 1px 5px; border: solid 3px ; border-color:  rgba(233,30,99,0); #EFEFEF\">is</span> <span style=\"background-color: rgba(233,30,99,0);  padding: 1px 5px; border: solid 3px ; border-color:  rgba(233,30,99,0); #EFEFEF\">the setting</span> </div>"
      ],
      "text/plain": [
       "<IPython.core.display.HTML object>"
      ]
     },
     "metadata": {},
     "output_type": "display_data"
    },
    {
     "data": {
      "text/html": [
       "<br><br>"
      ],
      "text/plain": [
       "<IPython.core.display.HTML object>"
      ]
     },
     "metadata": {},
     "output_type": "display_data"
    },
    {
     "data": {
      "text/html": [
       "<div style='display: flex; width: 400px; flex-wrap: wrap'><span style=\"background-color: rgba(233,30,99,0);  padding: 1px 5px; border: solid 3px ; border-color:  rgba(233,30,99,0); #EFEFEF\">It</span> <span style=\"background-color: rgba(233,30,99,0);  padding: 1px 5px; border: solid 3px ; border-color:  rgba(233,30,99,0); #EFEFEF\">'s</span> <span style=\"background-color: rgba(233,30,99,0);  padding: 1px 5px; border: solid 3px ; border-color:  rgba(233,30,99,0); #EFEFEF\">too bad</span> <span style=\"background-color: rgba(233,30,99,0);  padding: 1px 5px; border: solid 3px ; border-color:  rgba(233,30,99,0); #EFEFEF\">because</span> <span style=\"background-color: rgba(9, 221, 55,  0.28228461742401123); padding: 1px 5px; border: solid 3px ; border-color: rgba(9, 221, 55,  1); #EFEFEF\">this film</span> <span style=\"background-color: rgba(233,30,99,0);  padding: 1px 5px; border: solid 3px ; border-color:  rgba(233,30,99,0); #EFEFEF\">had</span> <span style=\"background-color: rgba(9, 221, 55,  0.3435516953468323); padding: 1px 5px; border: solid 3px ; border-color: rgba(9, 221, 55,  1); #EFEFEF\">great production values</span> <span style=\"background-color: rgba(9, 221, 55,  0.23927736282348633); padding: 1px 5px; border: solid 3px ; border-color: rgba(9, 221, 55,  1); #EFEFEF\">a good cast</span> <span style=\"background-color: rgba(233,30,99,0);  padding: 1px 5px; border: solid 3px ; border-color:  rgba(233,30,99,0); #EFEFEF\">is</span> <span style=\"background-color: rgba(233,30,99,0);  padding: 1px 5px; border: solid 3px ; border-color:  rgba(233,30,99,0); #EFEFEF\">the idea</span> <span style=\"background-color: rgba(233,30,99,0);  padding: 1px 5px; border: solid 3px ; border-color:  rgba(233,30,99,0); #EFEFEF\">of</span> <span style=\"background-color: rgba(233,30,99,0);  padding: 1px 5px; border: solid 3px ; border-color:  rgba(233,30,99,0); #EFEFEF\">turning</span> <span style=\"background-color: rgba(233,30,99,0);  padding: 1px 5px; border: solid 3px ; border-color:  rgba(233,30,99,0); #EFEFEF\">a book</span> <span style=\"background-color: rgba(233,30,99,0);  padding: 1px 5px; border: solid 3px ; border-color:  rgba(233,30,99,0); #EFEFEF\">into</span> <span style=\"background-color: rgba(233,30,99,0);  padding: 1px 5px; border: solid 3px ; border-color:  rgba(233,30,99,0); #EFEFEF\">a movie</span> <span style=\"background-color: rgba(233,30,99,0);  padding: 1px 5px; border: solid 3px ; border-color:  rgba(233,30,99,0); #EFEFEF\">TV or film</span> <span style=\"background-color: rgba(233,30,99,0);  padding: 1px 5px; border: solid 3px ; border-color:  rgba(233,30,99,0); #EFEFEF\">to get</span> <span style=\"background-color: rgba(233,30,99,0);  padding: 1px 5px; border: solid 3px ; border-color:  rgba(233,30,99,0); #EFEFEF\">the people</span> <span style=\"background-color: rgba(233,30,99,0);  padding: 1px 5px; border: solid 3px ; border-color:  rgba(233,30,99,0); #EFEFEF\">who</span> <span style=\"background-color: rgba(233,30,99,0);  padding: 1px 5px; border: solid 3px ; border-color:  rgba(233,30,99,0); #EFEFEF\">read</span> <span style=\"background-color: rgba(233,30,99,0);  padding: 1px 5px; border: solid 3px ; border-color:  rgba(233,30,99,0); #EFEFEF\">the book</span> <span style=\"background-color: rgba(233,30,99,0);  padding: 1px 5px; border: solid 3px ; border-color:  rgba(233,30,99,0); #EFEFEF\">to be</span> <span style=\"background-color: rgba(233,30,99,0);  padding: 1px 5px; border: solid 3px ; border-color:  rgba(233,30,99,0); #EFEFEF\">part</span> <span style=\"background-color: rgba(233,30,99,0);  padding: 1px 5px; border: solid 3px ; border-color:  rgba(233,30,99,0); #EFEFEF\">of</span> <span style=\"background-color: rgba(233,30,99,0);  padding: 1px 5px; border: solid 3px ; border-color:  rgba(233,30,99,0); #EFEFEF\">the audience</span> </div>"
      ],
      "text/plain": [
       "<IPython.core.display.HTML object>"
      ]
     },
     "metadata": {},
     "output_type": "display_data"
    },
    {
     "data": {
      "text/html": [
       "<br><br>"
      ],
      "text/plain": [
       "<IPython.core.display.HTML object>"
      ]
     },
     "metadata": {},
     "output_type": "display_data"
    }
   ],
   "source": [
    "plot_reviews_exp(segments_pos, u_segments_pos, factorization_pos, global_importance_pos,\n",
    "                 segments_neg, u_segments_neg, factorization_neg, global_importance_neg,\n",
    "                 custom_samples=True, samples_to_test=[reviews_neg, reviews_pos])"
   ]
  },
  {
   "cell_type": "code",
   "execution_count": null,
   "id": "e9aca308-3d0e-48e3-8fd1-914b99df07ff",
   "metadata": {},
   "outputs": [],
   "source": []
  },
  {
   "cell_type": "code",
   "execution_count": null,
   "id": "20ff63eb-f099-4cdd-b80a-bab7e10f927a",
   "metadata": {},
   "outputs": [],
   "source": []
  },
  {
   "cell_type": "code",
   "execution_count": null,
   "id": "9b37c6f4-2d65-422f-99bf-01e7d24eeeb4",
   "metadata": {},
   "outputs": [],
   "source": []
  },
  {
   "cell_type": "code",
   "execution_count": null,
   "id": "25b541dc-74d6-4ef1-b38b-cc8e8a658706",
   "metadata": {},
   "outputs": [],
   "source": []
  },
  {
   "cell_type": "code",
   "execution_count": null,
   "id": "6ab0e3d9-bf71-44dd-a566-df5dcc7c1ab2",
   "metadata": {},
   "outputs": [],
   "source": []
  },
  {
   "cell_type": "code",
   "execution_count": null,
   "id": "9279c191-ac62-4f13-9d1c-213236bd0155",
   "metadata": {},
   "outputs": [],
   "source": []
  },
  {
   "cell_type": "code",
   "execution_count": 8,
   "id": "e1f9a156-0ea8-42f6-bd6f-01debe08d289",
   "metadata": {
    "collapsed": true,
    "jupyter": {
     "outputs_hidden": true
    },
    "tags": []
   },
   "outputs": [
    {
     "name": "stdout",
     "output_type": "stream",
     "text": [
      "Top sentences for Positive Concept 0:\n",
      "1: Directed by Samuel Fuller, who also wrote the screenplay, Pickup on South Street is a tough, brutal, well made film about a pickpocket (Richard Widmark) who inadvertently aquires top-secret microfilm and becomes a target for espionage agents.\n",
      "2: Haunting long takes, a gritty soundtrack to accentuate the guilt, barking dogs.\n",
      "3: It is a psychological thriller.\n",
      "4: Standing out strongly is its sultrily lurid and bleak nature that's intrusively planted into the film's psychological makeup and manipulative strangle hold in sexual depravity.\n",
      "5: The former prizefighter, who once faced Joe Louis in the ring, delivers an Academy Award-winning portrayal of disgraced IRA soldier Gypo Nolan on the worst night of his life.\n",
      "6: A River Runs Through It is based on the true story of two fly fishing brothers, Norman and Paul, (Brad Pitt and Craig Sheffer) whose Reverend father (Tom Skerritt) is a strict man whose two passions are his faith and fly fishing, - and, for him and his sons, there is a fine line between the two.\n",
      "7: Carter's depiction of an ALS victim is strong, perhaps even overdone at times (sometimes her dialog dissolves into undistinguishable mutterings).\n",
      "8: I just re-watched this thriller, one I had previously believed to be one of Hitch's lesser efforts.\n",
      "9: New York lensed horror film (filmed in part on Staten Island which no doubt brought the spirit of Andy Milligan lurking about) is one of the better horror comedies to come around in a while.\n",
      "10: The film  written and directed entirely by Anthony Waller  is a tense, action-packed thriller with black comedy aspects and horror influences.\n",
      "\n",
      "\n",
      "Top sentences for Positive Concept 2:\n",
      "1: It is a great loss.\n",
      "2: He was just that beautiful.\n",
      "3: I so wanted Ben and Emily to be together, but in the end, they were, forever.\n",
      "4: Always makes me cry.\n",
      "5: Losing your love is painful beyond belief, and many who do so will never feel something like that again.\n",
      "6: There are moments that will bring tears to your eyes as well.\n",
      "7: I will never forget.\n",
      "8: The love and support of the family members is evident throughout.\n",
      "9: It fills you with pride.\n",
      "10: Thankyou.\n",
      "\n",
      "\n"
     ]
    },
    {
     "data": {
      "text/html": [
       "<div style='display: flex; width: 400px; flex-wrap: wrap'><span style=\"background-color: rgba(9, 221, 55,  0.5); padding: 1px 5px; border: solid 3px ; border-color: rgba(9, 221, 55,  1); #EFEFEF\">Positive label: concept1 </span> <span style=\"background-color: rgba(9, 221, 161,  0.5); padding: 1px 5px; border: solid 3px ; border-color: rgba(9, 221, 161,  1); #EFEFEF\">Positive label: concept2 </span> <span style=\"background-color: rgba(221, 9, 34,  0.5); padding: 1px 5px; border: solid 3px ; border-color: rgba(221, 9, 34,  1); #EFEFEF\">Negative label: concept1 </span> <span style=\"background-color: rgba(221, 9, 140, 0.5); padding: 1px 5px; border: solid 3px ; border-color: rgba(221, 9, 140, 1); #EFEFEF\">Negative label: concept2 </span> <span style=\"background-color: rgba(221, 90, 9,  0.5); padding: 1px 5px; border: solid 3px ; border-color: rgba(221, 90, 9,  1); #EFEFEF\">Negative label: concept3 </span> </div>"
      ],
      "text/plain": [
       "<IPython.core.display.HTML object>"
      ]
     },
     "metadata": {},
     "output_type": "display_data"
    },
    {
     "data": {
      "text/html": [
       "<br><br>"
      ],
      "text/plain": [
       "<IPython.core.display.HTML object>"
      ]
     },
     "metadata": {},
     "output_type": "display_data"
    },
    {
     "name": "stdout",
     "output_type": "stream",
     "text": [
      "positive predicted reviews:\n",
      "\n",
      "\n",
      "\n",
      "\n",
      "10 most important reviews for positive predicted label - concept1:\n",
      "\n",
      "\n"
     ]
    },
    {
     "data": {
      "text/html": [
       "<div style='display: flex; width: 400px; flex-wrap: wrap'><span style=\"background-color: rgba(233,30,99,0);  padding: 1px 5px; border: solid 3px ; border-color:  rgba(233,30,99,0); #EFEFEF\">Directed</span> <span style=\"background-color: rgba(233,30,99,0);  padding: 1px 5px; border: solid 3px ; border-color:  rgba(233,30,99,0); #EFEFEF\">by</span> <span style=\"background-color: rgba(233,30,99,0);  padding: 1px 5px; border: solid 3px ; border-color:  rgba(233,30,99,0); #EFEFEF\">Samuel Fuller</span> <span style=\"background-color: rgba(233,30,99,0);  padding: 1px 5px; border: solid 3px ; border-color:  rgba(233,30,99,0); #EFEFEF\">who</span> <span style=\"background-color: rgba(233,30,99,0);  padding: 1px 5px; border: solid 3px ; border-color:  rgba(233,30,99,0); #EFEFEF\">also</span> <span style=\"background-color: rgba(233,30,99,0);  padding: 1px 5px; border: solid 3px ; border-color:  rgba(233,30,99,0); #EFEFEF\">wrote</span> <span style=\"background-color: rgba(9, 221, 161,  0.22438791394233704); padding: 1px 5px; border: solid 3px ; border-color: rgba(9, 221, 161,  1); #EFEFEF\">the screenplay</span> <span style=\"background-color: rgba(9, 221, 161,  0.24758726358413696); padding: 1px 5px; border: solid 3px ; border-color: rgba(9, 221, 161,  1); #EFEFEF\">Pickup</span> <span style=\"background-color: rgba(233,30,99,0);  padding: 1px 5px; border: solid 3px ; border-color:  rgba(233,30,99,0); #EFEFEF\">on</span> <span style=\"background-color: rgba(233,30,99,0);  padding: 1px 5px; border: solid 3px ; border-color:  rgba(233,30,99,0); #EFEFEF\">South Street</span> <span style=\"background-color: rgba(233,30,99,0);  padding: 1px 5px; border: solid 3px ; border-color:  rgba(233,30,99,0); #EFEFEF\">is</span> <span style=\"background-color: rgba(9, 221, 161,  0.9995409846305847); padding: 1px 5px; border: solid 3px ; border-color: rgba(9, 221, 161,  1); #EFEFEF\">a tough, brutal, well made film</span> <span style=\"background-color: rgba(9, 221, 161,  0.2205590307712555); padding: 1px 5px; border: solid 3px ; border-color: rgba(9, 221, 161,  1); #EFEFEF\">about</span> <span style=\"background-color: rgba(233,30,99,0);  padding: 1px 5px; border: solid 3px ; border-color:  rgba(233,30,99,0); #EFEFEF\">a pickpocket</span> <span style=\"background-color: rgba(9, 221, 161,  0.22207684814929962); padding: 1px 5px; border: solid 3px ; border-color: rgba(9, 221, 161,  1); #EFEFEF\">Richard Widmark</span> <span style=\"background-color: rgba(233,30,99,0);  padding: 1px 5px; border: solid 3px ; border-color:  rgba(233,30,99,0); #EFEFEF\">who</span> <span style=\"background-color: rgba(233,30,99,0);  padding: 1px 5px; border: solid 3px ; border-color:  rgba(233,30,99,0); #EFEFEF\">inadvertently aquires</span> <span style=\"background-color: rgba(233,30,99,0);  padding: 1px 5px; border: solid 3px ; border-color:  rgba(233,30,99,0); #EFEFEF\">top-secret microfilm</span> <span style=\"background-color: rgba(233,30,99,0);  padding: 1px 5px; border: solid 3px ; border-color:  rgba(233,30,99,0); #EFEFEF\">becomes</span> <span style=\"background-color: rgba(233,30,99,0);  padding: 1px 5px; border: solid 3px ; border-color:  rgba(233,30,99,0); #EFEFEF\">a target</span> <span style=\"background-color: rgba(233,30,99,0);  padding: 1px 5px; border: solid 3px ; border-color:  rgba(233,30,99,0); #EFEFEF\">for</span> <span style=\"background-color: rgba(233,30,99,0);  padding: 1px 5px; border: solid 3px ; border-color:  rgba(233,30,99,0); #EFEFEF\">espionage agents</span> </div>"
      ],
      "text/plain": [
       "<IPython.core.display.HTML object>"
      ]
     },
     "metadata": {},
     "output_type": "display_data"
    },
    {
     "data": {
      "text/html": [
       "<br><br>"
      ],
      "text/plain": [
       "<IPython.core.display.HTML object>"
      ]
     },
     "metadata": {},
     "output_type": "display_data"
    },
    {
     "data": {
      "text/html": [
       "<div style='display: flex; width: 400px; flex-wrap: wrap'><span style=\"background-color: rgba(233,30,99,0);  padding: 1px 5px; border: solid 3px ; border-color:  rgba(233,30,99,0); #EFEFEF\">Haunting</span> <span style=\"background-color: rgba(233,30,99,0);  padding: 1px 5px; border: solid 3px ; border-color:  rgba(233,30,99,0); #EFEFEF\">long takes</span> <span style=\"background-color: rgba(9, 221, 161,  0.9996203780174255); padding: 1px 5px; border: solid 3px ; border-color: rgba(9, 221, 161,  1); #EFEFEF\">a gritty soundtrack</span> <span style=\"background-color: rgba(233,30,99,0);  padding: 1px 5px; border: solid 3px ; border-color:  rgba(233,30,99,0); #EFEFEF\">to accentuate</span> <span style=\"background-color: rgba(9, 221, 161,  0.9996203780174255); padding: 1px 5px; border: solid 3px ; border-color: rgba(9, 221, 161,  1); #EFEFEF\">the guilt</span> <span style=\"background-color: rgba(233,30,99,0);  padding: 1px 5px; border: solid 3px ; border-color:  rgba(233,30,99,0); #EFEFEF\">barking dogs</span> </div>"
      ],
      "text/plain": [
       "<IPython.core.display.HTML object>"
      ]
     },
     "metadata": {},
     "output_type": "display_data"
    },
    {
     "data": {
      "text/html": [
       "<br><br>"
      ],
      "text/plain": [
       "<IPython.core.display.HTML object>"
      ]
     },
     "metadata": {},
     "output_type": "display_data"
    },
    {
     "data": {
      "text/html": [
       "<div style='display: flex; width: 400px; flex-wrap: wrap'><span style=\"background-color: rgba(233,30,99,0);  padding: 1px 5px; border: solid 3px ; border-color:  rgba(233,30,99,0); #EFEFEF\">It</span> <span style=\"background-color: rgba(233,30,99,0);  padding: 1px 5px; border: solid 3px ; border-color:  rgba(233,30,99,0); #EFEFEF\">is</span> <span style=\"background-color: rgba(9, 221, 55,  0.5317307710647583); padding: 1px 5px; border: solid 3px ; border-color: rgba(9, 221, 55,  1); #EFEFEF\">a psychological thriller</span> </div>"
      ],
      "text/plain": [
       "<IPython.core.display.HTML object>"
      ]
     },
     "metadata": {},
     "output_type": "display_data"
    },
    {
     "data": {
      "text/html": [
       "<br><br>"
      ],
      "text/plain": [
       "<IPython.core.display.HTML object>"
      ]
     },
     "metadata": {},
     "output_type": "display_data"
    },
    {
     "data": {
      "text/html": [
       "<div style='display: flex; width: 400px; flex-wrap: wrap'><span style=\"background-color: rgba(9, 221, 55,  0.8350106477737427); padding: 1px 5px; border: solid 3px ; border-color: rgba(9, 221, 55,  1); #EFEFEF\">Standing</span> <span style=\"background-color: rgba(9, 221, 55,  0.8431651592254639); padding: 1px 5px; border: solid 3px ; border-color: rgba(9, 221, 55,  1); #EFEFEF\">out strongly</span> <span style=\"background-color: rgba(9, 221, 161,  0.6468125581741333); padding: 1px 5px; border: solid 3px ; border-color: rgba(9, 221, 161,  1); #EFEFEF\">is</span> <span style=\"background-color: rgba(9, 221, 55,  0.9995267391204834); padding: 1px 5px; border: solid 3px ; border-color: rgba(9, 221, 55,  1); #EFEFEF\">its sultrily lurid and bleak nature</span> <span style=\"background-color: rgba(9, 221, 55,  0.729847252368927); padding: 1px 5px; border: solid 3px ; border-color: rgba(9, 221, 55,  1); #EFEFEF\">that</span> <span style=\"background-color: rgba(233,30,99,0);  padding: 1px 5px; border: solid 3px ; border-color:  rgba(233,30,99,0); #EFEFEF\">'s intrusively planted</span> <span style=\"background-color: rgba(9, 221, 161,  0.6468125581741333); padding: 1px 5px; border: solid 3px ; border-color: rgba(9, 221, 161,  1); #EFEFEF\">into</span> <span style=\"background-color: rgba(9, 221, 161,  0.6468125581741333); padding: 1px 5px; border: solid 3px ; border-color: rgba(9, 221, 161,  1); #EFEFEF\">the film</span> <span style=\"background-color: rgba(9, 221, 55,  0.6900039315223694); padding: 1px 5px; border: solid 3px ; border-color: rgba(9, 221, 55,  1); #EFEFEF\">'s psychological makeup</span> <span style=\"background-color: rgba(233,30,99,0);  padding: 1px 5px; border: solid 3px ; border-color:  rgba(233,30,99,0); #EFEFEF\">manipulative strangle hold</span> <span style=\"background-color: rgba(9, 221, 161,  0.6468125581741333); padding: 1px 5px; border: solid 3px ; border-color: rgba(9, 221, 161,  1); #EFEFEF\">in</span> <span style=\"background-color: rgba(9, 221, 161,  0.6468125581741333); padding: 1px 5px; border: solid 3px ; border-color: rgba(9, 221, 161,  1); #EFEFEF\">sexual depravity</span> </div>"
      ],
      "text/plain": [
       "<IPython.core.display.HTML object>"
      ]
     },
     "metadata": {},
     "output_type": "display_data"
    },
    {
     "data": {
      "text/html": [
       "<br><br>"
      ],
      "text/plain": [
       "<IPython.core.display.HTML object>"
      ]
     },
     "metadata": {},
     "output_type": "display_data"
    },
    {
     "data": {
      "text/html": [
       "<div style='display: flex; width: 400px; flex-wrap: wrap'><span style=\"background-color: rgba(233,30,99,0);  padding: 1px 5px; border: solid 3px ; border-color:  rgba(233,30,99,0); #EFEFEF\">The former prizefighter</span> <span style=\"background-color: rgba(233,30,99,0);  padding: 1px 5px; border: solid 3px ; border-color:  rgba(233,30,99,0); #EFEFEF\">who</span> <span style=\"background-color: rgba(233,30,99,0);  padding: 1px 5px; border: solid 3px ; border-color:  rgba(233,30,99,0); #EFEFEF\">once</span> <span style=\"background-color: rgba(233,30,99,0);  padding: 1px 5px; border: solid 3px ; border-color:  rgba(233,30,99,0); #EFEFEF\">faced</span> <span style=\"background-color: rgba(233,30,99,0);  padding: 1px 5px; border: solid 3px ; border-color:  rgba(233,30,99,0); #EFEFEF\">Joe Louis</span> <span style=\"background-color: rgba(233,30,99,0);  padding: 1px 5px; border: solid 3px ; border-color:  rgba(233,30,99,0); #EFEFEF\">in</span> <span style=\"background-color: rgba(233,30,99,0);  padding: 1px 5px; border: solid 3px ; border-color:  rgba(233,30,99,0); #EFEFEF\">the ring</span> <span style=\"background-color: rgba(9, 221, 161,  0.5835801959037781); padding: 1px 5px; border: solid 3px ; border-color: rgba(9, 221, 161,  1); #EFEFEF\">delivers</span> <span style=\"background-color: rgba(9, 221, 161,  0.9997867941856384); padding: 1px 5px; border: solid 3px ; border-color: rgba(9, 221, 161,  1); #EFEFEF\">an Academy Award-winning portrayal</span> <span style=\"background-color: rgba(233,30,99,0);  padding: 1px 5px; border: solid 3px ; border-color:  rgba(233,30,99,0); #EFEFEF\">of</span> <span style=\"background-color: rgba(233,30,99,0);  padding: 1px 5px; border: solid 3px ; border-color:  rgba(233,30,99,0); #EFEFEF\">disgraced IRA soldier Gypo Nolan</span> <span style=\"background-color: rgba(233,30,99,0);  padding: 1px 5px; border: solid 3px ; border-color:  rgba(233,30,99,0); #EFEFEF\">on</span> <span style=\"background-color: rgba(233,30,99,0);  padding: 1px 5px; border: solid 3px ; border-color:  rgba(233,30,99,0); #EFEFEF\">the worst night</span> <span style=\"background-color: rgba(233,30,99,0);  padding: 1px 5px; border: solid 3px ; border-color:  rgba(233,30,99,0); #EFEFEF\">of</span> <span style=\"background-color: rgba(233,30,99,0);  padding: 1px 5px; border: solid 3px ; border-color:  rgba(233,30,99,0); #EFEFEF\">his life</span> </div>"
      ],
      "text/plain": [
       "<IPython.core.display.HTML object>"
      ]
     },
     "metadata": {},
     "output_type": "display_data"
    },
    {
     "data": {
      "text/html": [
       "<br><br>"
      ],
      "text/plain": [
       "<IPython.core.display.HTML object>"
      ]
     },
     "metadata": {},
     "output_type": "display_data"
    },
    {
     "data": {
      "text/html": [
       "<div style='display: flex; width: 400px; flex-wrap: wrap'><span style=\"background-color: rgba(9, 221, 161,  0.41278865933418274); padding: 1px 5px; border: solid 3px ; border-color: rgba(9, 221, 161,  1); #EFEFEF\">A River Runs</span> <span style=\"background-color: rgba(233,30,99,0);  padding: 1px 5px; border: solid 3px ; border-color:  rgba(233,30,99,0); #EFEFEF\">Through</span> <span style=\"background-color: rgba(9, 221, 161,  0.2231069654226303); padding: 1px 5px; border: solid 3px ; border-color: rgba(9, 221, 161,  1); #EFEFEF\">It</span> <span style=\"background-color: rgba(9, 221, 55,  0.5246747732162476); padding: 1px 5px; border: solid 3px ; border-color: rgba(9, 221, 55,  1); #EFEFEF\">is based</span> <span style=\"background-color: rgba(233,30,99,0);  padding: 1px 5px; border: solid 3px ; border-color:  rgba(233,30,99,0); #EFEFEF\">on</span> <span style=\"background-color: rgba(9, 221, 161,  0.35520288348197937); padding: 1px 5px; border: solid 3px ; border-color: rgba(9, 221, 161,  1); #EFEFEF\">the true story</span> <span style=\"background-color: rgba(233,30,99,0);  padding: 1px 5px; border: solid 3px ; border-color:  rgba(233,30,99,0); #EFEFEF\">of</span> <span style=\"background-color: rgba(233,30,99,0);  padding: 1px 5px; border: solid 3px ; border-color:  rgba(233,30,99,0); #EFEFEF\">two fly fishing brothers</span> <span style=\"background-color: rgba(233,30,99,0);  padding: 1px 5px; border: solid 3px ; border-color:  rgba(233,30,99,0); #EFEFEF\">Norman and Paul</span> <span style=\"background-color: rgba(9, 221, 55,  0.4384498596191406); padding: 1px 5px; border: solid 3px ; border-color: rgba(9, 221, 55,  1); #EFEFEF\">Brad Pitt</span> <span style=\"background-color: rgba(9, 221, 55,  0.34115585684776306); padding: 1px 5px; border: solid 3px ; border-color: rgba(9, 221, 55,  1); #EFEFEF\">Craig Sheffer</span> <span style=\"background-color: rgba(233,30,99,0);  padding: 1px 5px; border: solid 3px ; border-color:  rgba(233,30,99,0); #EFEFEF\">whose Reverend father</span> <span style=\"background-color: rgba(9, 221, 55,  0.20620697736740112); padding: 1px 5px; border: solid 3px ; border-color: rgba(9, 221, 55,  1); #EFEFEF\">Tom Skerritt</span> <span style=\"background-color: rgba(9, 221, 55,  0.2637946903705597); padding: 1px 5px; border: solid 3px ; border-color: rgba(9, 221, 55,  1); #EFEFEF\">is</span> <span style=\"background-color: rgba(9, 221, 55,  0.31497615575790405); padding: 1px 5px; border: solid 3px ; border-color: rgba(9, 221, 55,  1); #EFEFEF\">a strict man</span> <span style=\"background-color: rgba(9, 221, 55,  0.21397915482521057); padding: 1px 5px; border: solid 3px ; border-color: rgba(9, 221, 55,  1); #EFEFEF\">whose two passions</span> <span style=\"background-color: rgba(9, 221, 55,  0.27157995104789734); padding: 1px 5px; border: solid 3px ; border-color: rgba(9, 221, 55,  1); #EFEFEF\">are</span> <span style=\"background-color: rgba(233,30,99,0);  padding: 1px 5px; border: solid 3px ; border-color:  rgba(233,30,99,0); #EFEFEF\">his faith and fly fishing</span> <span style=\"background-color: rgba(9, 221, 55,  0.24507422745227814); padding: 1px 5px; border: solid 3px ; border-color: rgba(9, 221, 55,  1); #EFEFEF\">for</span> <span style=\"background-color: rgba(9, 221, 55,  0.2532702684402466); padding: 1px 5px; border: solid 3px ; border-color: rgba(9, 221, 55,  1); #EFEFEF\">him</span> <span style=\"background-color: rgba(9, 221, 55,  0.2553696632385254); padding: 1px 5px; border: solid 3px ; border-color: rgba(9, 221, 55,  1); #EFEFEF\">his sons</span> <span style=\"background-color: rgba(9, 221, 55,  0.2002888321876526); padding: 1px 5px; border: solid 3px ; border-color: rgba(9, 221, 55,  1); #EFEFEF\">there</span> <span style=\"background-color: rgba(9, 221, 55,  0.23186004161834717); padding: 1px 5px; border: solid 3px ; border-color: rgba(9, 221, 55,  1); #EFEFEF\">is</span> <span style=\"background-color: rgba(9, 221, 55,  0.22920000553131104); padding: 1px 5px; border: solid 3px ; border-color: rgba(9, 221, 55,  1); #EFEFEF\">a fine line</span> <span style=\"background-color: rgba(9, 221, 55,  0.227906733751297); padding: 1px 5px; border: solid 3px ; border-color: rgba(9, 221, 55,  1); #EFEFEF\">between</span> <span style=\"background-color: rgba(9, 221, 55,  0.23802450299263); padding: 1px 5px; border: solid 3px ; border-color: rgba(9, 221, 55,  1); #EFEFEF\">the two</span> </div>"
      ],
      "text/plain": [
       "<IPython.core.display.HTML object>"
      ]
     },
     "metadata": {},
     "output_type": "display_data"
    },
    {
     "data": {
      "text/html": [
       "<br><br>"
      ],
      "text/plain": [
       "<IPython.core.display.HTML object>"
      ]
     },
     "metadata": {},
     "output_type": "display_data"
    },
    {
     "data": {
      "text/html": [
       "<div style='display: flex; width: 400px; flex-wrap: wrap'><span style=\"background-color: rgba(9, 221, 161,  0.7401643991470337); padding: 1px 5px; border: solid 3px ; border-color: rgba(9, 221, 161,  1); #EFEFEF\">Carter</span> <span style=\"background-color: rgba(9, 221, 161,  0.9996662735939026); padding: 1px 5px; border: solid 3px ; border-color: rgba(9, 221, 161,  1); #EFEFEF\">'s depiction</span> <span style=\"background-color: rgba(9, 221, 161,  0.6727287769317627); padding: 1px 5px; border: solid 3px ; border-color: rgba(9, 221, 161,  1); #EFEFEF\">of</span> <span style=\"background-color: rgba(233,30,99,0);  padding: 1px 5px; border: solid 3px ; border-color:  rgba(233,30,99,0); #EFEFEF\">an ALS victim</span> <span style=\"background-color: rgba(9, 221, 161,  0.9996662735939026); padding: 1px 5px; border: solid 3px ; border-color: rgba(9, 221, 161,  1); #EFEFEF\">is</span> <span style=\"background-color: rgba(9, 221, 161,  0.9996662735939026); padding: 1px 5px; border: solid 3px ; border-color: rgba(9, 221, 161,  1); #EFEFEF\">strong</span> <span style=\"background-color: rgba(9, 221, 161,  0.9447570443153381); padding: 1px 5px; border: solid 3px ; border-color: rgba(9, 221, 161,  1); #EFEFEF\">perhaps even overdone</span> <span style=\"background-color: rgba(9, 221, 161,  0.9996662735939026); padding: 1px 5px; border: solid 3px ; border-color: rgba(9, 221, 161,  1); #EFEFEF\">at</span> <span style=\"background-color: rgba(9, 221, 161,  0.9996662735939026); padding: 1px 5px; border: solid 3px ; border-color: rgba(9, 221, 161,  1); #EFEFEF\">times</span> <span style=\"background-color: rgba(9, 221, 161,  0.9996662735939026); padding: 1px 5px; border: solid 3px ; border-color: rgba(9, 221, 161,  1); #EFEFEF\">sometimes</span> <span style=\"background-color: rgba(9, 221, 161,  0.25947046279907227); padding: 1px 5px; border: solid 3px ; border-color: rgba(9, 221, 161,  1); #EFEFEF\">her dialog</span> <span style=\"background-color: rgba(233,30,99,0);  padding: 1px 5px; border: solid 3px ; border-color:  rgba(233,30,99,0); #EFEFEF\">dissolves</span> <span style=\"background-color: rgba(9, 221, 161,  0.38318517804145813); padding: 1px 5px; border: solid 3px ; border-color: rgba(9, 221, 161,  1); #EFEFEF\">into</span> <span style=\"background-color: rgba(233,30,99,0);  padding: 1px 5px; border: solid 3px ; border-color:  rgba(233,30,99,0); #EFEFEF\">undistinguishable mutterings</span> </div>"
      ],
      "text/plain": [
       "<IPython.core.display.HTML object>"
      ]
     },
     "metadata": {},
     "output_type": "display_data"
    },
    {
     "data": {
      "text/html": [
       "<br><br>"
      ],
      "text/plain": [
       "<IPython.core.display.HTML object>"
      ]
     },
     "metadata": {},
     "output_type": "display_data"
    },
    {
     "data": {
      "text/html": [
       "<div style='display: flex; width: 400px; flex-wrap: wrap'><span style=\"background-color: rgba(9, 221, 161,  0.26980432868003845); padding: 1px 5px; border: solid 3px ; border-color: rgba(9, 221, 161,  1); #EFEFEF\">I</span> <span style=\"background-color: rgba(233,30,99,0);  padding: 1px 5px; border: solid 3px ; border-color:  rgba(233,30,99,0); #EFEFEF\">just</span> <span style=\"background-color: rgba(9, 221, 161,  0.9995595216751099); padding: 1px 5px; border: solid 3px ; border-color: rgba(9, 221, 161,  1); #EFEFEF\">re-watched</span> <span style=\"background-color: rgba(9, 221, 55,  0.5494683384895325); padding: 1px 5px; border: solid 3px ; border-color: rgba(9, 221, 55,  1); #EFEFEF\">this thriller</span> <span style=\"background-color: rgba(233,30,99,0);  padding: 1px 5px; border: solid 3px ; border-color:  rgba(233,30,99,0); #EFEFEF\">one</span> <span style=\"background-color: rgba(9, 221, 161,  0.20138350129127502); padding: 1px 5px; border: solid 3px ; border-color: rgba(9, 221, 161,  1); #EFEFEF\">I</span> <span style=\"background-color: rgba(9, 221, 161,  0.7287431955337524); padding: 1px 5px; border: solid 3px ; border-color: rgba(9, 221, 161,  1); #EFEFEF\">had previously believed to be</span> <span style=\"background-color: rgba(233,30,99,0);  padding: 1px 5px; border: solid 3px ; border-color:  rgba(233,30,99,0); #EFEFEF\">one</span> <span style=\"background-color: rgba(233,30,99,0);  padding: 1px 5px; border: solid 3px ; border-color:  rgba(233,30,99,0); #EFEFEF\">of</span> <span style=\"background-color: rgba(233,30,99,0);  padding: 1px 5px; border: solid 3px ; border-color:  rgba(233,30,99,0); #EFEFEF\">Hitch</span> <span style=\"background-color: rgba(9, 221, 161,  0.32893478870391846); padding: 1px 5px; border: solid 3px ; border-color: rgba(9, 221, 161,  1); #EFEFEF\">'s lesser efforts</span> </div>"
      ],
      "text/plain": [
       "<IPython.core.display.HTML object>"
      ]
     },
     "metadata": {},
     "output_type": "display_data"
    },
    {
     "data": {
      "text/html": [
       "<br><br>"
      ],
      "text/plain": [
       "<IPython.core.display.HTML object>"
      ]
     },
     "metadata": {},
     "output_type": "display_data"
    },
    {
     "data": {
      "text/html": [
       "<div style='display: flex; width: 400px; flex-wrap: wrap'><span style=\"background-color: rgba(9, 221, 161,  0.21338056027889252); padding: 1px 5px; border: solid 3px ; border-color: rgba(9, 221, 161,  1); #EFEFEF\">New York lensed horror film</span> <span style=\"background-color: rgba(233,30,99,0);  padding: 1px 5px; border: solid 3px ; border-color:  rgba(233,30,99,0); #EFEFEF\">filmed</span> <span style=\"background-color: rgba(233,30,99,0);  padding: 1px 5px; border: solid 3px ; border-color:  rgba(233,30,99,0); #EFEFEF\">in</span> <span style=\"background-color: rgba(233,30,99,0);  padding: 1px 5px; border: solid 3px ; border-color:  rgba(233,30,99,0); #EFEFEF\">part</span> <span style=\"background-color: rgba(233,30,99,0);  padding: 1px 5px; border: solid 3px ; border-color:  rgba(233,30,99,0); #EFEFEF\">on</span> <span style=\"background-color: rgba(233,30,99,0);  padding: 1px 5px; border: solid 3px ; border-color:  rgba(233,30,99,0); #EFEFEF\">Staten Island</span> <span style=\"background-color: rgba(233,30,99,0);  padding: 1px 5px; border: solid 3px ; border-color:  rgba(233,30,99,0); #EFEFEF\">which</span> <span style=\"background-color: rgba(233,30,99,0);  padding: 1px 5px; border: solid 3px ; border-color:  rgba(233,30,99,0); #EFEFEF\">no doubt</span> <span style=\"background-color: rgba(233,30,99,0);  padding: 1px 5px; border: solid 3px ; border-color:  rgba(233,30,99,0); #EFEFEF\">brought</span> <span style=\"background-color: rgba(233,30,99,0);  padding: 1px 5px; border: solid 3px ; border-color:  rgba(233,30,99,0); #EFEFEF\">the spirit</span> <span style=\"background-color: rgba(233,30,99,0);  padding: 1px 5px; border: solid 3px ; border-color:  rgba(233,30,99,0); #EFEFEF\">of</span> <span style=\"background-color: rgba(233,30,99,0);  padding: 1px 5px; border: solid 3px ; border-color:  rgba(233,30,99,0); #EFEFEF\">Andy Milligan</span> <span style=\"background-color: rgba(233,30,99,0);  padding: 1px 5px; border: solid 3px ; border-color:  rgba(233,30,99,0); #EFEFEF\">lurking</span> <span style=\"background-color: rgba(233,30,99,0);  padding: 1px 5px; border: solid 3px ; border-color:  rgba(233,30,99,0); #EFEFEF\">about</span> <span style=\"background-color: rgba(9, 221, 161,  0.3119530975818634); padding: 1px 5px; border: solid 3px ; border-color: rgba(9, 221, 161,  1); #EFEFEF\">is</span> <span style=\"background-color: rgba(9, 221, 161,  0.27421265840530396); padding: 1px 5px; border: solid 3px ; border-color: rgba(9, 221, 161,  1); #EFEFEF\">one</span> <span style=\"background-color: rgba(233,30,99,0);  padding: 1px 5px; border: solid 3px ; border-color:  rgba(233,30,99,0); #EFEFEF\">of</span> <span style=\"background-color: rgba(9, 221, 161,  0.9994736313819885); padding: 1px 5px; border: solid 3px ; border-color: rgba(9, 221, 161,  1); #EFEFEF\">the better horror comedies</span> <span style=\"background-color: rgba(233,30,99,0);  padding: 1px 5px; border: solid 3px ; border-color:  rgba(233,30,99,0); #EFEFEF\">to come</span> <span style=\"background-color: rgba(233,30,99,0);  padding: 1px 5px; border: solid 3px ; border-color:  rgba(233,30,99,0); #EFEFEF\">around</span> <span style=\"background-color: rgba(233,30,99,0);  padding: 1px 5px; border: solid 3px ; border-color:  rgba(233,30,99,0); #EFEFEF\">in</span> <span style=\"background-color: rgba(233,30,99,0);  padding: 1px 5px; border: solid 3px ; border-color:  rgba(233,30,99,0); #EFEFEF\">a while</span> </div>"
      ],
      "text/plain": [
       "<IPython.core.display.HTML object>"
      ]
     },
     "metadata": {},
     "output_type": "display_data"
    },
    {
     "data": {
      "text/html": [
       "<br><br>"
      ],
      "text/plain": [
       "<IPython.core.display.HTML object>"
      ]
     },
     "metadata": {},
     "output_type": "display_data"
    },
    {
     "data": {
      "text/html": [
       "<div style='display: flex; width: 400px; flex-wrap: wrap'><span style=\"background-color: rgba(9, 221, 161,  0.2925364673137665); padding: 1px 5px; border: solid 3px ; border-color: rgba(9, 221, 161,  1); #EFEFEF\">The film</span> <span style=\"background-color: rgba(9, 221, 161,  0.35843679308891296); padding: 1px 5px; border: solid 3px ; border-color: rgba(9, 221, 161,  1); #EFEFEF\">written and directed</span> <span style=\"background-color: rgba(9, 221, 161,  0.3811630606651306); padding: 1px 5px; border: solid 3px ; border-color: rgba(9, 221, 161,  1); #EFEFEF\">entirely</span> <span style=\"background-color: rgba(9, 221, 161,  0.3288392424583435); padding: 1px 5px; border: solid 3px ; border-color: rgba(9, 221, 161,  1); #EFEFEF\">by</span> <span style=\"background-color: rgba(9, 221, 161,  0.23990720510482788); padding: 1px 5px; border: solid 3px ; border-color: rgba(9, 221, 161,  1); #EFEFEF\">Anthony Waller</span> <span style=\"background-color: rgba(233,30,99,0);  padding: 1px 5px; border: solid 3px ; border-color:  rgba(233,30,99,0); #EFEFEF\">is</span> <span style=\"background-color: rgba(9, 221, 161,  0.9994980096817017); padding: 1px 5px; border: solid 3px ; border-color: rgba(9, 221, 161,  1); #EFEFEF\">a tense, action-packed thriller</span> <span style=\"background-color: rgba(9, 221, 161,  0.2990601658821106); padding: 1px 5px; border: solid 3px ; border-color: rgba(9, 221, 161,  1); #EFEFEF\">with</span> <span style=\"background-color: rgba(9, 221, 161,  0.30372557044029236); padding: 1px 5px; border: solid 3px ; border-color: rgba(9, 221, 161,  1); #EFEFEF\">black comedy aspects</span> <span style=\"background-color: rgba(233,30,99,0);  padding: 1px 5px; border: solid 3px ; border-color:  rgba(233,30,99,0); #EFEFEF\">horror influences</span> </div>"
      ],
      "text/plain": [
       "<IPython.core.display.HTML object>"
      ]
     },
     "metadata": {},
     "output_type": "display_data"
    },
    {
     "data": {
      "text/html": [
       "<br><br>"
      ],
      "text/plain": [
       "<IPython.core.display.HTML object>"
      ]
     },
     "metadata": {},
     "output_type": "display_data"
    },
    {
     "name": "stdout",
     "output_type": "stream",
     "text": [
      "\n",
      "\n",
      "10 most important reviews for positive predicted label - concept2:\n",
      "\n",
      "\n"
     ]
    },
    {
     "data": {
      "text/html": [
       "<div style='display: flex; width: 400px; flex-wrap: wrap'><span style=\"background-color: rgba(9, 221, 161,  0.333190381526947); padding: 1px 5px; border: solid 3px ; border-color: rgba(9, 221, 161,  1); #EFEFEF\">It</span> <span style=\"background-color: rgba(9, 221, 161,  0.27182453870773315); padding: 1px 5px; border: solid 3px ; border-color: rgba(9, 221, 161,  1); #EFEFEF\">is</span> <span style=\"background-color: rgba(9, 221, 161,  0.9998337626457214); padding: 1px 5px; border: solid 3px ; border-color: rgba(9, 221, 161,  1); #EFEFEF\">a great loss</span> </div>"
      ],
      "text/plain": [
       "<IPython.core.display.HTML object>"
      ]
     },
     "metadata": {},
     "output_type": "display_data"
    },
    {
     "data": {
      "text/html": [
       "<br><br>"
      ],
      "text/plain": [
       "<IPython.core.display.HTML object>"
      ]
     },
     "metadata": {},
     "output_type": "display_data"
    },
    {
     "data": {
      "text/html": [
       "<div style='display: flex; width: 400px; flex-wrap: wrap'><span style=\"background-color: rgba(233,30,99,0);  padding: 1px 5px; border: solid 3px ; border-color:  rgba(233,30,99,0); #EFEFEF\">He</span> <span style=\"background-color: rgba(233,30,99,0);  padding: 1px 5px; border: solid 3px ; border-color:  rgba(233,30,99,0); #EFEFEF\">was</span> <span style=\"background-color: rgba(9, 221, 161,  0.9998620748519897); padding: 1px 5px; border: solid 3px ; border-color: rgba(9, 221, 161,  1); #EFEFEF\">just that beautiful</span> </div>"
      ],
      "text/plain": [
       "<IPython.core.display.HTML object>"
      ]
     },
     "metadata": {},
     "output_type": "display_data"
    },
    {
     "data": {
      "text/html": [
       "<br><br>"
      ],
      "text/plain": [
       "<IPython.core.display.HTML object>"
      ]
     },
     "metadata": {},
     "output_type": "display_data"
    },
    {
     "data": {
      "text/html": [
       "<div style='display: flex; width: 400px; flex-wrap: wrap'><span style=\"background-color: rgba(9, 221, 161,  0.23589055240154266); padding: 1px 5px; border: solid 3px ; border-color: rgba(9, 221, 161,  1); #EFEFEF\">I</span> <span style=\"background-color: rgba(9, 221, 161,  0.22839869558811188); padding: 1px 5px; border: solid 3px ; border-color: rgba(9, 221, 161,  1); #EFEFEF\">so wanted</span> <span style=\"background-color: rgba(9, 221, 161,  0.41955289244651794); padding: 1px 5px; border: solid 3px ; border-color: rgba(9, 221, 161,  1); #EFEFEF\">Ben and Emily</span> <span style=\"background-color: rgba(233,30,99,0);  padding: 1px 5px; border: solid 3px ; border-color:  rgba(233,30,99,0); #EFEFEF\">to be</span> <span style=\"background-color: rgba(9, 221, 161,  0.2946953773498535); padding: 1px 5px; border: solid 3px ; border-color: rgba(9, 221, 161,  1); #EFEFEF\">together</span> <span style=\"background-color: rgba(9, 221, 161,  0.2592011094093323); padding: 1px 5px; border: solid 3px ; border-color: rgba(9, 221, 161,  1); #EFEFEF\">in</span> <span style=\"background-color: rgba(9, 221, 161,  0.2668413519859314); padding: 1px 5px; border: solid 3px ; border-color: rgba(9, 221, 161,  1); #EFEFEF\">the end</span> <span style=\"background-color: rgba(9, 221, 161,  0.21584807336330414); padding: 1px 5px; border: solid 3px ; border-color: rgba(9, 221, 161,  1); #EFEFEF\">they</span> <span style=\"background-color: rgba(9, 221, 161,  0.2136750966310501); padding: 1px 5px; border: solid 3px ; border-color: rgba(9, 221, 161,  1); #EFEFEF\">were</span> <span style=\"background-color: rgba(9, 221, 161,  0.9994969367980957); padding: 1px 5px; border: solid 3px ; border-color: rgba(9, 221, 161,  1); #EFEFEF\">forever</span> </div>"
      ],
      "text/plain": [
       "<IPython.core.display.HTML object>"
      ]
     },
     "metadata": {},
     "output_type": "display_data"
    },
    {
     "data": {
      "text/html": [
       "<br><br>"
      ],
      "text/plain": [
       "<IPython.core.display.HTML object>"
      ]
     },
     "metadata": {},
     "output_type": "display_data"
    },
    {
     "data": {
      "text/html": [
       "<div style='display: flex; width: 400px; flex-wrap: wrap'><span style=\"background-color: rgba(9, 221, 161,  0.9995083808898926); padding: 1px 5px; border: solid 3px ; border-color: rgba(9, 221, 161,  1); #EFEFEF\">Always</span> <span style=\"background-color: rgba(233,30,99,0);  padding: 1px 5px; border: solid 3px ; border-color:  rgba(233,30,99,0); #EFEFEF\">makes</span> <span style=\"background-color: rgba(233,30,99,0);  padding: 1px 5px; border: solid 3px ; border-color:  rgba(233,30,99,0); #EFEFEF\">me</span> <span style=\"background-color: rgba(9, 221, 161,  0.3911880552768707); padding: 1px 5px; border: solid 3px ; border-color: rgba(9, 221, 161,  1); #EFEFEF\">cry</span> </div>"
      ],
      "text/plain": [
       "<IPython.core.display.HTML object>"
      ]
     },
     "metadata": {},
     "output_type": "display_data"
    },
    {
     "data": {
      "text/html": [
       "<br><br>"
      ],
      "text/plain": [
       "<IPython.core.display.HTML object>"
      ]
     },
     "metadata": {},
     "output_type": "display_data"
    },
    {
     "data": {
      "text/html": [
       "<div style='display: flex; width: 400px; flex-wrap: wrap'><span style=\"background-color: rgba(9, 221, 161,  0.41318702697753906); padding: 1px 5px; border: solid 3px ; border-color: rgba(9, 221, 161,  1); #EFEFEF\">Losing</span> <span style=\"background-color: rgba(9, 221, 161,  0.8145635724067688); padding: 1px 5px; border: solid 3px ; border-color: rgba(9, 221, 161,  1); #EFEFEF\">your love</span> <span style=\"background-color: rgba(9, 221, 161,  0.5138537883758545); padding: 1px 5px; border: solid 3px ; border-color: rgba(9, 221, 161,  1); #EFEFEF\">is</span> <span style=\"background-color: rgba(9, 221, 161,  0.9996119737625122); padding: 1px 5px; border: solid 3px ; border-color: rgba(9, 221, 161,  1); #EFEFEF\">painful</span> <span style=\"background-color: rgba(9, 221, 161,  0.4821826219558716); padding: 1px 5px; border: solid 3px ; border-color: rgba(9, 221, 161,  1); #EFEFEF\">beyond</span> <span style=\"background-color: rgba(233,30,99,0);  padding: 1px 5px; border: solid 3px ; border-color:  rgba(233,30,99,0); #EFEFEF\">belief</span> <span style=\"background-color: rgba(233,30,99,0);  padding: 1px 5px; border: solid 3px ; border-color:  rgba(233,30,99,0); #EFEFEF\">many</span> <span style=\"background-color: rgba(9, 221, 161,  0.44376134872436523); padding: 1px 5px; border: solid 3px ; border-color: rgba(9, 221, 161,  1); #EFEFEF\">who</span> <span style=\"background-color: rgba(9, 221, 161,  0.34252041578292847); padding: 1px 5px; border: solid 3px ; border-color: rgba(9, 221, 161,  1); #EFEFEF\">do</span> <span style=\"background-color: rgba(233,30,99,0);  padding: 1px 5px; border: solid 3px ; border-color:  rgba(233,30,99,0); #EFEFEF\">so</span> <span style=\"background-color: rgba(9, 221, 161,  0.8623897433280945); padding: 1px 5px; border: solid 3px ; border-color: rgba(9, 221, 161,  1); #EFEFEF\">will never feel</span> <span style=\"background-color: rgba(233,30,99,0);  padding: 1px 5px; border: solid 3px ; border-color:  rgba(233,30,99,0); #EFEFEF\">something</span> <span style=\"background-color: rgba(233,30,99,0);  padding: 1px 5px; border: solid 3px ; border-color:  rgba(233,30,99,0); #EFEFEF\">like</span> <span style=\"background-color: rgba(233,30,99,0);  padding: 1px 5px; border: solid 3px ; border-color:  rgba(233,30,99,0); #EFEFEF\">that</span> <span style=\"background-color: rgba(9, 221, 161,  0.4279136061668396); padding: 1px 5px; border: solid 3px ; border-color: rgba(9, 221, 161,  1); #EFEFEF\">again</span> </div>"
      ],
      "text/plain": [
       "<IPython.core.display.HTML object>"
      ]
     },
     "metadata": {},
     "output_type": "display_data"
    },
    {
     "data": {
      "text/html": [
       "<br><br>"
      ],
      "text/plain": [
       "<IPython.core.display.HTML object>"
      ]
     },
     "metadata": {},
     "output_type": "display_data"
    },
    {
     "data": {
      "text/html": [
       "<div style='display: flex; width: 400px; flex-wrap: wrap'><span style=\"background-color: rgba(9, 221, 161,  0.7576091289520264); padding: 1px 5px; border: solid 3px ; border-color: rgba(9, 221, 161,  1); #EFEFEF\">There</span> <span style=\"background-color: rgba(9, 221, 161,  0.4502345025539398); padding: 1px 5px; border: solid 3px ; border-color: rgba(9, 221, 161,  1); #EFEFEF\">are</span> <span style=\"background-color: rgba(233,30,99,0);  padding: 1px 5px; border: solid 3px ; border-color:  rgba(233,30,99,0); #EFEFEF\">moments</span> <span style=\"background-color: rgba(233,30,99,0);  padding: 1px 5px; border: solid 3px ; border-color:  rgba(233,30,99,0); #EFEFEF\">that</span> <span style=\"background-color: rgba(233,30,99,0);  padding: 1px 5px; border: solid 3px ; border-color:  rgba(233,30,99,0); #EFEFEF\">will bring</span> <span style=\"background-color: rgba(9, 221, 161,  0.9996607303619385); padding: 1px 5px; border: solid 3px ; border-color: rgba(9, 221, 161,  1); #EFEFEF\">tears</span> <span style=\"background-color: rgba(233,30,99,0);  padding: 1px 5px; border: solid 3px ; border-color:  rgba(233,30,99,0); #EFEFEF\">to</span> <span style=\"background-color: rgba(233,30,99,0);  padding: 1px 5px; border: solid 3px ; border-color:  rgba(233,30,99,0); #EFEFEF\">your eyes</span> <span style=\"background-color: rgba(233,30,99,0);  padding: 1px 5px; border: solid 3px ; border-color:  rgba(233,30,99,0); #EFEFEF\">as well</span> </div>"
      ],
      "text/plain": [
       "<IPython.core.display.HTML object>"
      ]
     },
     "metadata": {},
     "output_type": "display_data"
    },
    {
     "data": {
      "text/html": [
       "<br><br>"
      ],
      "text/plain": [
       "<IPython.core.display.HTML object>"
      ]
     },
     "metadata": {},
     "output_type": "display_data"
    },
    {
     "data": {
      "text/html": [
       "<div style='display: flex; width: 400px; flex-wrap: wrap'><span style=\"background-color: rgba(233,30,99,0);  padding: 1px 5px; border: solid 3px ; border-color:  rgba(233,30,99,0); #EFEFEF\">I</span> <span style=\"background-color: rgba(9, 221, 161,  0.9998857378959656); padding: 1px 5px; border: solid 3px ; border-color: rgba(9, 221, 161,  1); #EFEFEF\">will never forget</span> </div>"
      ],
      "text/plain": [
       "<IPython.core.display.HTML object>"
      ]
     },
     "metadata": {},
     "output_type": "display_data"
    },
    {
     "data": {
      "text/html": [
       "<br><br>"
      ],
      "text/plain": [
       "<IPython.core.display.HTML object>"
      ]
     },
     "metadata": {},
     "output_type": "display_data"
    },
    {
     "data": {
      "text/html": [
       "<div style='display: flex; width: 400px; flex-wrap: wrap'><span style=\"background-color: rgba(9, 221, 161,  0.99930340051651); padding: 1px 5px; border: solid 3px ; border-color: rgba(9, 221, 161,  1); #EFEFEF\">The love and support</span> <span style=\"background-color: rgba(9, 221, 161,  0.3981229066848755); padding: 1px 5px; border: solid 3px ; border-color: rgba(9, 221, 161,  1); #EFEFEF\">of</span> <span style=\"background-color: rgba(9, 221, 161,  0.7762815952301025); padding: 1px 5px; border: solid 3px ; border-color: rgba(9, 221, 161,  1); #EFEFEF\">the family members</span> <span style=\"background-color: rgba(233,30,99,0);  padding: 1px 5px; border: solid 3px ; border-color:  rgba(233,30,99,0); #EFEFEF\">is</span> <span style=\"background-color: rgba(233,30,99,0);  padding: 1px 5px; border: solid 3px ; border-color:  rgba(233,30,99,0); #EFEFEF\">evident</span> <span style=\"background-color: rgba(9, 221, 161,  0.2341219037771225); padding: 1px 5px; border: solid 3px ; border-color: rgba(9, 221, 161,  1); #EFEFEF\">throughout</span> </div>"
      ],
      "text/plain": [
       "<IPython.core.display.HTML object>"
      ]
     },
     "metadata": {},
     "output_type": "display_data"
    },
    {
     "data": {
      "text/html": [
       "<br><br>"
      ],
      "text/plain": [
       "<IPython.core.display.HTML object>"
      ]
     },
     "metadata": {},
     "output_type": "display_data"
    },
    {
     "data": {
      "text/html": [
       "<div style='display: flex; width: 400px; flex-wrap: wrap'><span style=\"background-color: rgba(9, 221, 161,  0.766835629940033); padding: 1px 5px; border: solid 3px ; border-color: rgba(9, 221, 161,  1); #EFEFEF\">It</span> <span style=\"background-color: rgba(9, 221, 161,  0.6661139130592346); padding: 1px 5px; border: solid 3px ; border-color: rgba(9, 221, 161,  1); #EFEFEF\">fills</span> <span style=\"background-color: rgba(9, 221, 161,  0.5994100570678711); padding: 1px 5px; border: solid 3px ; border-color: rgba(9, 221, 161,  1); #EFEFEF\">you</span> <span style=\"background-color: rgba(9, 221, 161,  0.5648959875106812); padding: 1px 5px; border: solid 3px ; border-color: rgba(9, 221, 161,  1); #EFEFEF\">with</span> <span style=\"background-color: rgba(9, 221, 161,  0.9998160004615784); padding: 1px 5px; border: solid 3px ; border-color: rgba(9, 221, 161,  1); #EFEFEF\">pride</span> </div>"
      ],
      "text/plain": [
       "<IPython.core.display.HTML object>"
      ]
     },
     "metadata": {},
     "output_type": "display_data"
    },
    {
     "data": {
      "text/html": [
       "<br><br>"
      ],
      "text/plain": [
       "<IPython.core.display.HTML object>"
      ]
     },
     "metadata": {},
     "output_type": "display_data"
    },
    {
     "data": {
      "text/html": [
       "<div style='display: flex; width: 400px; flex-wrap: wrap'><span style=\"background-color: rgba(9, 221, 161,  0.999889612197876); padding: 1px 5px; border: solid 3px ; border-color: rgba(9, 221, 161,  1); #EFEFEF\">Thankyou</span> </div>"
      ],
      "text/plain": [
       "<IPython.core.display.HTML object>"
      ]
     },
     "metadata": {},
     "output_type": "display_data"
    },
    {
     "data": {
      "text/html": [
       "<br><br>"
      ],
      "text/plain": [
       "<IPython.core.display.HTML object>"
      ]
     },
     "metadata": {},
     "output_type": "display_data"
    },
    {
     "name": "stdout",
     "output_type": "stream",
     "text": [
      "\n",
      "\n",
      "negative predicted reviews:\n",
      "\n",
      "\n",
      "\n",
      "\n",
      "10 most important reviews for negative predicted label - concept1:\n",
      "\n",
      "\n"
     ]
    },
    {
     "data": {
      "text/html": [
       "<div style='display: flex; width: 400px; flex-wrap: wrap'><span style=\"background-color: rgba(221, 9, 34,  0.6733782887458801); padding: 1px 5px; border: solid 3px ; border-color: rgba(221, 9, 34,  1); #EFEFEF\">The dialogue</span> <span style=\"background-color: rgba(221, 9, 34,  0.7218392491340637); padding: 1px 5px; border: solid 3px ; border-color: rgba(221, 9, 34,  1); #EFEFEF\">is</span> <span style=\"background-color: rgba(221, 9, 34,  0.3238433003425598); padding: 1px 5px; border: solid 3px ; border-color: rgba(221, 9, 34,  1); #EFEFEF\">cliché</span> <span style=\"background-color: rgba(221, 9, 34,  0.3631473779678345); padding: 1px 5px; border: solid 3px ; border-color: rgba(221, 9, 34,  1); #EFEFEF\">the characters</span> <span style=\"background-color: rgba(221, 9, 34,  0.3544306755065918); padding: 1px 5px; border: solid 3px ; border-color: rgba(221, 9, 34,  1); #EFEFEF\">are</span> <span style=\"background-color: rgba(221, 9, 34,  0.5514223575592041); padding: 1px 5px; border: solid 3px ; border-color: rgba(221, 9, 34,  1); #EFEFEF\">two-dimensional</span> <span style=\"background-color: rgba(221, 9, 34,  0.6002990007400513); padding: 1px 5px; border: solid 3px ; border-color: rgba(221, 9, 34,  1); #EFEFEF\">the writing</span> <span style=\"background-color: rgba(221, 9, 34,  0.4463508129119873); padding: 1px 5px; border: solid 3px ; border-color: rgba(221, 9, 34,  1); #EFEFEF\">is</span> <span style=\"background-color: rgba(221, 9, 34,  0.36776596307754517); padding: 1px 5px; border: solid 3px ; border-color: rgba(221, 9, 34,  1); #EFEFEF\">ho-hum</span> <span style=\"background-color: rgba(221, 9, 34,  0.4623870849609375); padding: 1px 5px; border: solid 3px ; border-color: rgba(221, 9, 34,  1); #EFEFEF\">what little story</span> <span style=\"background-color: rgba(221, 9, 34,  0.36794334650039673); padding: 1px 5px; border: solid 3px ; border-color: rgba(221, 9, 34,  1); #EFEFEF\">there</span> <span style=\"background-color: rgba(221, 9, 34,  0.4045296013355255); padding: 1px 5px; border: solid 3px ; border-color: rgba(221, 9, 34,  1); #EFEFEF\">is</span> <span style=\"background-color: rgba(221, 9, 34,  0.4045296013355255); padding: 1px 5px; border: solid 3px ; border-color: rgba(221, 9, 34,  1); #EFEFEF\">is</span> <span style=\"background-color: rgba(221, 9, 34,  0.5091842412948608); padding: 1px 5px; border: solid 3px ; border-color: rgba(221, 9, 34,  1); #EFEFEF\">coherent nor remotely interesting</span> </div>"
      ],
      "text/plain": [
       "<IPython.core.display.HTML object>"
      ]
     },
     "metadata": {},
     "output_type": "display_data"
    },
    {
     "data": {
      "text/html": [
       "<br><br>"
      ],
      "text/plain": [
       "<IPython.core.display.HTML object>"
      ]
     },
     "metadata": {},
     "output_type": "display_data"
    },
    {
     "data": {
      "text/html": [
       "<div style='display: flex; width: 400px; flex-wrap: wrap'><span style=\"background-color: rgba(221, 9, 34,  0.3063073456287384); padding: 1px 5px; border: solid 3px ; border-color: rgba(221, 9, 34,  1); #EFEFEF\">It</span> <span style=\"background-color: rgba(221, 9, 34,  0.4359298050403595); padding: 1px 5px; border: solid 3px ; border-color: rgba(221, 9, 34,  1); #EFEFEF\">is</span> <span style=\"background-color: rgba(221, 9, 34,  0.7994651198387146); padding: 1px 5px; border: solid 3px ; border-color: rgba(221, 9, 34,  1); #EFEFEF\">totally</span> <span style=\"background-color: rgba(221, 9, 34,  0.9956093430519104); padding: 1px 5px; border: solid 3px ; border-color: rgba(221, 9, 34,  1); #EFEFEF\">mind-numbingly boring</span> <span style=\"background-color: rgba(221, 9, 34,  0.23572924733161926); padding: 1px 5px; border: solid 3px ; border-color: rgba(221, 9, 34,  1); #EFEFEF\">only sparingly funny</span> </div>"
      ],
      "text/plain": [
       "<IPython.core.display.HTML object>"
      ]
     },
     "metadata": {},
     "output_type": "display_data"
    },
    {
     "data": {
      "text/html": [
       "<br><br>"
      ],
      "text/plain": [
       "<IPython.core.display.HTML object>"
      ]
     },
     "metadata": {},
     "output_type": "display_data"
    },
    {
     "data": {
      "text/html": [
       "<div style='display: flex; width: 400px; flex-wrap: wrap'><span style=\"background-color: rgba(221, 9, 34,  0.5276873707771301); padding: 1px 5px; border: solid 3px ; border-color: rgba(221, 9, 34,  1); #EFEFEF\">Simply put</span> <span style=\"background-color: rgba(221, 9, 34,  0.3688042461872101); padding: 1px 5px; border: solid 3px ; border-color: rgba(221, 9, 34,  1); #EFEFEF\">it</span> <span style=\"background-color: rgba(221, 9, 34,  0.6873867511749268); padding: 1px 5px; border: solid 3px ; border-color: rgba(221, 9, 34,  1); #EFEFEF\">was</span> <span style=\"background-color: rgba(221, 9, 34,  0.9147889614105225); padding: 1px 5px; border: solid 3px ; border-color: rgba(221, 9, 34,  1); #EFEFEF\">smut-filled</span> <span style=\"background-color: rgba(221, 9, 34,  0.238866925239563); padding: 1px 5px; border: solid 3px ; border-color: rgba(221, 9, 34,  1); #EFEFEF\">simply</span> <span style=\"background-color: rgba(233,30,99,0);  padding: 1px 5px; border: solid 3px ; border-color:  rgba(233,30,99,0); #EFEFEF\">funny</span> <span style=\"background-color: rgba(233,30,99,0);  padding: 1px 5px; border: solid 3px ; border-color:  rgba(233,30,99,0); #EFEFEF\">with</span> <span style=\"background-color: rgba(221, 9, 34,  0.9995726943016052); padding: 1px 5px; border: solid 3px ; border-color: rgba(221, 9, 34,  1); #EFEFEF\">barely any plot</span> </div>"
      ],
      "text/plain": [
       "<IPython.core.display.HTML object>"
      ]
     },
     "metadata": {},
     "output_type": "display_data"
    },
    {
     "data": {
      "text/html": [
       "<br><br>"
      ],
      "text/plain": [
       "<IPython.core.display.HTML object>"
      ]
     },
     "metadata": {},
     "output_type": "display_data"
    },
    {
     "data": {
      "text/html": [
       "<div style='display: flex; width: 400px; flex-wrap: wrap'><span style=\"background-color: rgba(233,30,99,0);  padding: 1px 5px; border: solid 3px ; border-color:  rgba(233,30,99,0); #EFEFEF\">From</span> <span style=\"background-color: rgba(233,30,99,0);  padding: 1px 5px; border: solid 3px ; border-color:  rgba(233,30,99,0); #EFEFEF\">the blatant disregard</span> <span style=\"background-color: rgba(233,30,99,0);  padding: 1px 5px; border: solid 3px ; border-color:  rgba(233,30,99,0); #EFEFEF\">of</span> <span style=\"background-color: rgba(233,30,99,0);  padding: 1px 5px; border: solid 3px ; border-color:  rgba(233,30,99,0); #EFEFEF\">the source material</span> <span style=\"background-color: rgba(233,30,99,0);  padding: 1px 5px; border: solid 3px ; border-color:  rgba(233,30,99,0); #EFEFEF\">sure</span> <span style=\"background-color: rgba(233,30,99,0);  padding: 1px 5px; border: solid 3px ; border-color:  rgba(233,30,99,0); #EFEFEF\">to infuriate</span> <span style=\"background-color: rgba(233,30,99,0);  padding: 1px 5px; border: solid 3px ; border-color:  rgba(233,30,99,0); #EFEFEF\">anyone</span> <span style=\"background-color: rgba(221, 9, 34,  0.22379398345947266); padding: 1px 5px; border: solid 3px ; border-color: rgba(221, 9, 34,  1); #EFEFEF\">remotely familiar</span> <span style=\"background-color: rgba(233,30,99,0);  padding: 1px 5px; border: solid 3px ; border-color:  rgba(233,30,99,0); #EFEFEF\">with</span> <span style=\"background-color: rgba(233,30,99,0);  padding: 1px 5px; border: solid 3px ; border-color:  rgba(233,30,99,0); #EFEFEF\">mythology</span> <span style=\"background-color: rgba(233,30,99,0);  padding: 1px 5px; border: solid 3px ; border-color:  rgba(233,30,99,0); #EFEFEF\">to</span> <span style=\"background-color: rgba(221, 9, 34,  0.3991418182849884); padding: 1px 5px; border: solid 3px ; border-color: rgba(221, 9, 34,  1); #EFEFEF\">the predictably insufficient production value</span> <span style=\"background-color: rgba(221, 9, 34,  0.4533176124095917); padding: 1px 5px; border: solid 3px ; border-color: rgba(221, 9, 34,  1); #EFEFEF\">this entire mini-series</span> <span style=\"background-color: rgba(233,30,99,0);  padding: 1px 5px; border: solid 3px ; border-color:  rgba(233,30,99,0); #EFEFEF\">is</span> <span style=\"background-color: rgba(221, 9, 34,  0.6059006452560425); padding: 1px 5px; border: solid 3px ; border-color: rgba(221, 9, 34,  1); #EFEFEF\">a train wreck</span> </div>"
      ],
      "text/plain": [
       "<IPython.core.display.HTML object>"
      ]
     },
     "metadata": {},
     "output_type": "display_data"
    },
    {
     "data": {
      "text/html": [
       "<br><br>"
      ],
      "text/plain": [
       "<IPython.core.display.HTML object>"
      ]
     },
     "metadata": {},
     "output_type": "display_data"
    },
    {
     "data": {
      "text/html": [
       "<div style='display: flex; width: 400px; flex-wrap: wrap'><span style=\"background-color: rgba(221, 9, 34,  0.34448665380477905); padding: 1px 5px; border: solid 3px ; border-color: rgba(221, 9, 34,  1); #EFEFEF\">The fact</span> <span style=\"background-color: rgba(221, 9, 34,  0.2737092971801758); padding: 1px 5px; border: solid 3px ; border-color: rgba(221, 9, 34,  1); #EFEFEF\">that</span> <span style=\"background-color: rgba(221, 9, 34,  0.2110908031463623); padding: 1px 5px; border: solid 3px ; border-color: rgba(221, 9, 34,  1); #EFEFEF\">the interaction</span> <span style=\"background-color: rgba(221, 9, 34,  0.2416711002588272); padding: 1px 5px; border: solid 3px ; border-color: rgba(221, 9, 34,  1); #EFEFEF\">between</span> <span style=\"background-color: rgba(221, 9, 34,  0.2477441430091858); padding: 1px 5px; border: solid 3px ; border-color: rgba(221, 9, 34,  1); #EFEFEF\">characters</span> <span style=\"background-color: rgba(221, 9, 34,  0.2572422921657562); padding: 1px 5px; border: solid 3px ; border-color: rgba(221, 9, 34,  1); #EFEFEF\">relationship behavior</span> <span style=\"background-color: rgba(221, 9, 34,  0.22587157785892487); padding: 1px 5px; border: solid 3px ; border-color: rgba(221, 9, 34,  1); #EFEFEF\">were</span> <span style=\"background-color: rgba(221, 9, 34,  0.23957358300685883); padding: 1px 5px; border: solid 3px ; border-color: rgba(221, 9, 34,  1); #EFEFEF\">so far fetched</span> <span style=\"background-color: rgba(221, 9, 34,  0.24713082611560822); padding: 1px 5px; border: solid 3px ; border-color: rgba(221, 9, 34,  1); #EFEFEF\">added</span> <span style=\"background-color: rgba(221, 9, 34,  0.31087201833724976); padding: 1px 5px; border: solid 3px ; border-color: rgba(221, 9, 34,  1); #EFEFEF\">by</span> <span style=\"background-color: rgba(221, 9, 34,  0.2407269924879074); padding: 1px 5px; border: solid 3px ; border-color: rgba(221, 9, 34,  1); #EFEFEF\">poor direction</span> <span style=\"background-color: rgba(221, 9, 34,  0.2909008264541626); padding: 1px 5px; border: solid 3px ; border-color: rgba(221, 9, 34,  1); #EFEFEF\">horrible story</span> <span style=\"background-color: rgba(221, 9, 34,  0.3116067945957184); padding: 1px 5px; border: solid 3px ; border-color: rgba(221, 9, 34,  1); #EFEFEF\">make</span> <span style=\"background-color: rgba(221, 9, 34,  0.2958453297615051); padding: 1px 5px; border: solid 3px ; border-color: rgba(221, 9, 34,  1); #EFEFEF\">this movie</span> <span style=\"background-color: rgba(221, 9, 34,  0.9921416640281677); padding: 1px 5px; border: solid 3px ; border-color: rgba(221, 9, 34,  1); #EFEFEF\">nothing more</span> <span style=\"background-color: rgba(221, 9, 34,  0.26141980290412903); padding: 1px 5px; border: solid 3px ; border-color: rgba(221, 9, 34,  1); #EFEFEF\">than</span> <span style=\"background-color: rgba(221, 9, 34,  0.6890084147453308); padding: 1px 5px; border: solid 3px ; border-color: rgba(221, 9, 34,  1); #EFEFEF\">a low-budget disaster</span> </div>"
      ],
      "text/plain": [
       "<IPython.core.display.HTML object>"
      ]
     },
     "metadata": {},
     "output_type": "display_data"
    },
    {
     "data": {
      "text/html": [
       "<br><br>"
      ],
      "text/plain": [
       "<IPython.core.display.HTML object>"
      ]
     },
     "metadata": {},
     "output_type": "display_data"
    },
    {
     "data": {
      "text/html": [
       "<div style='display: flex; width: 400px; flex-wrap: wrap'><span style=\"background-color: rgba(221, 9, 34,  0.49076011776924133); padding: 1px 5px; border: solid 3px ; border-color: rgba(221, 9, 34,  1); #EFEFEF\">The aliens</span> <span style=\"background-color: rgba(221, 9, 34,  0.30541226267814636); padding: 1px 5px; border: solid 3px ; border-color: rgba(221, 9, 34,  1); #EFEFEF\">are</span> <span style=\"background-color: rgba(221, 9, 34,  0.4822074770927429); padding: 1px 5px; border: solid 3px ; border-color: rgba(221, 9, 34,  1); #EFEFEF\">boring</span> <span style=\"background-color: rgba(221, 9, 34,  0.36098554730415344); padding: 1px 5px; border: solid 3px ; border-color: rgba(221, 9, 34,  1); #EFEFEF\">the uniformly dull lighting</span> <span style=\"background-color: rgba(221, 9, 34,  0.6616566181182861); padding: 1px 5px; border: solid 3px ; border-color: rgba(221, 9, 34,  1); #EFEFEF\">saps</span> <span style=\"background-color: rgba(221, 9, 34,  0.5697094798088074); padding: 1px 5px; border: solid 3px ; border-color: rgba(221, 9, 34,  1); #EFEFEF\">your interest</span> <span style=\"background-color: rgba(221, 9, 34,  0.7382909655570984); padding: 1px 5px; border: solid 3px ; border-color: rgba(221, 9, 34,  1); #EFEFEF\">the plot</span> <span style=\"background-color: rgba(221, 9, 34,  0.22291302680969238); padding: 1px 5px; border: solid 3px ; border-color: rgba(221, 9, 34,  1); #EFEFEF\">is</span> <span style=\"background-color: rgba(221, 9, 34,  0.7416571974754333); padding: 1px 5px; border: solid 3px ; border-color: rgba(221, 9, 34,  1); #EFEFEF\">absolutely predictable</span> </div>"
      ],
      "text/plain": [
       "<IPython.core.display.HTML object>"
      ]
     },
     "metadata": {},
     "output_type": "display_data"
    },
    {
     "data": {
      "text/html": [
       "<br><br>"
      ],
      "text/plain": [
       "<IPython.core.display.HTML object>"
      ]
     },
     "metadata": {},
     "output_type": "display_data"
    },
    {
     "data": {
      "text/html": [
       "<div style='display: flex; width: 400px; flex-wrap: wrap'><span style=\"background-color: rgba(233,30,99,0);  padding: 1px 5px; border: solid 3px ; border-color:  rgba(233,30,99,0); #EFEFEF\">The characters</span> <span style=\"background-color: rgba(233,30,99,0);  padding: 1px 5px; border: solid 3px ; border-color:  rgba(233,30,99,0); #EFEFEF\">in</span> <span style=\"background-color: rgba(233,30,99,0);  padding: 1px 5px; border: solid 3px ; border-color:  rgba(233,30,99,0); #EFEFEF\">this</span> <span style=\"background-color: rgba(233,30,99,0);  padding: 1px 5px; border: solid 3px ; border-color:  rgba(233,30,99,0); #EFEFEF\">are</span> <span style=\"background-color: rgba(233,30,99,0);  padding: 1px 5px; border: solid 3px ; border-color:  rgba(233,30,99,0); #EFEFEF\">very hard</span> <span style=\"background-color: rgba(233,30,99,0);  padding: 1px 5px; border: solid 3px ; border-color:  rgba(233,30,99,0); #EFEFEF\">to understand</span> <span style=\"background-color: rgba(233,30,99,0);  padding: 1px 5px; border: solid 3px ; border-color:  rgba(233,30,99,0); #EFEFEF\">good</span> <span style=\"background-color: rgba(233,30,99,0);  padding: 1px 5px; border: solid 3px ; border-color:  rgba(233,30,99,0); #EFEFEF\">very very</span> <span style=\"background-color: rgba(221, 9, 34,  0.9992738366127014); padding: 1px 5px; border: solid 3px ; border-color: rgba(221, 9, 34,  1); #EFEFEF\">very bored</span> </div>"
      ],
      "text/plain": [
       "<IPython.core.display.HTML object>"
      ]
     },
     "metadata": {},
     "output_type": "display_data"
    },
    {
     "data": {
      "text/html": [
       "<br><br>"
      ],
      "text/plain": [
       "<IPython.core.display.HTML object>"
      ]
     },
     "metadata": {},
     "output_type": "display_data"
    },
    {
     "data": {
      "text/html": [
       "<div style='display: flex; width: 400px; flex-wrap: wrap'><span style=\"background-color: rgba(221, 9, 34,  0.47817152738571167); padding: 1px 5px; border: solid 3px ; border-color: rgba(221, 9, 34,  1); #EFEFEF\">Overall</span> <span style=\"background-color: rgba(233,30,99,0);  padding: 1px 5px; border: solid 3px ; border-color:  rgba(233,30,99,0); #EFEFEF\">this movie</span> <span style=\"background-color: rgba(221, 9, 34,  0.3394944369792938); padding: 1px 5px; border: solid 3px ; border-color: rgba(221, 9, 34,  1); #EFEFEF\">was</span> <span style=\"background-color: rgba(221, 9, 34,  0.49913597106933594); padding: 1px 5px; border: solid 3px ; border-color: rgba(221, 9, 34,  1); #EFEFEF\">so bad</span> <span style=\"background-color: rgba(221, 9, 34,  0.37911200523376465); padding: 1px 5px; border: solid 3px ; border-color: rgba(221, 9, 34,  1); #EFEFEF\">predictable, and unoriginal</span> <span style=\"background-color: rgba(221, 9, 34,  0.22531956434249878); padding: 1px 5px; border: solid 3px ; border-color: rgba(221, 9, 34,  1); #EFEFEF\">I</span> <span style=\"background-color: rgba(221, 9, 34,  0.28986793756484985); padding: 1px 5px; border: solid 3px ; border-color: rgba(221, 9, 34,  1); #EFEFEF\">couldn't get</span> <span style=\"background-color: rgba(221, 9, 34,  0.2355457991361618); padding: 1px 5px; border: solid 3px ; border-color: rgba(221, 9, 34,  1); #EFEFEF\">through</span> <span style=\"background-color: rgba(221, 9, 34,  0.26394739747047424); padding: 1px 5px; border: solid 3px ; border-color: rgba(221, 9, 34,  1); #EFEFEF\">20 minutes</span> <span style=\"background-color: rgba(221, 9, 34,  0.2097993642091751); padding: 1px 5px; border: solid 3px ; border-color: rgba(221, 9, 34,  1); #EFEFEF\">of</span> <span style=\"background-color: rgba(221, 9, 34,  0.22581219673156738); padding: 1px 5px; border: solid 3px ; border-color: rgba(221, 9, 34,  1); #EFEFEF\">it</span> <span style=\"background-color: rgba(233,30,99,0);  padding: 1px 5px; border: solid 3px ; border-color:  rgba(233,30,99,0); #EFEFEF\">before</span> <span style=\"background-color: rgba(221, 9, 34,  0.2647227942943573); padding: 1px 5px; border: solid 3px ; border-color: rgba(221, 9, 34,  1); #EFEFEF\">I</span> <span style=\"background-color: rgba(221, 9, 34,  0.2956262528896332); padding: 1px 5px; border: solid 3px ; border-color: rgba(221, 9, 34,  1); #EFEFEF\">turned</span> <span style=\"background-color: rgba(221, 9, 34,  0.20067448914051056); padding: 1px 5px; border: solid 3px ; border-color: rgba(221, 9, 34,  1); #EFEFEF\">it</span> <span style=\"background-color: rgba(221, 9, 34,  0.2851797342300415); padding: 1px 5px; border: solid 3px ; border-color: rgba(221, 9, 34,  1); #EFEFEF\">off</span> </div>"
      ],
      "text/plain": [
       "<IPython.core.display.HTML object>"
      ]
     },
     "metadata": {},
     "output_type": "display_data"
    },
    {
     "data": {
      "text/html": [
       "<br><br>"
      ],
      "text/plain": [
       "<IPython.core.display.HTML object>"
      ]
     },
     "metadata": {},
     "output_type": "display_data"
    },
    {
     "data": {
      "text/html": [
       "<div style='display: flex; width: 400px; flex-wrap: wrap'><span style=\"background-color: rgba(221, 9, 34,  0.3050083816051483); padding: 1px 5px; border: solid 3px ; border-color: rgba(221, 9, 34,  1); #EFEFEF\">This</span> <span style=\"background-color: rgba(221, 9, 34,  0.37522339820861816); padding: 1px 5px; border: solid 3px ; border-color: rgba(221, 9, 34,  1); #EFEFEF\">is</span> <span style=\"background-color: rgba(221, 9, 34,  0.37530240416526794); padding: 1px 5px; border: solid 3px ; border-color: rgba(221, 9, 34,  1); #EFEFEF\">one</span> <span style=\"background-color: rgba(221, 9, 34,  0.31413760781288147); padding: 1px 5px; border: solid 3px ; border-color: rgba(221, 9, 34,  1); #EFEFEF\">of</span> <span style=\"background-color: rgba(221, 9, 34,  0.24250811338424683); padding: 1px 5px; border: solid 3px ; border-color: rgba(221, 9, 34,  1); #EFEFEF\">the worst movies</span> <span style=\"background-color: rgba(221, 9, 34,  0.29935041069984436); padding: 1px 5px; border: solid 3px ; border-color: rgba(221, 9, 34,  1); #EFEFEF\">i</span> <span style=\"background-color: rgba(221, 9, 34,  0.21565820276737213); padding: 1px 5px; border: solid 3px ; border-color: rgba(221, 9, 34,  1); #EFEFEF\">have ever seen</span> <span style=\"background-color: rgba(221, 9, 34,  0.30300262570381165); padding: 1px 5px; border: solid 3px ; border-color: rgba(221, 9, 34,  1); #EFEFEF\">it</span> <span style=\"background-color: rgba(221, 9, 34,  0.4185553789138794); padding: 1px 5px; border: solid 3px ; border-color: rgba(221, 9, 34,  1); #EFEFEF\">'s</span> <span style=\"background-color: rgba(221, 9, 34,  0.557838499546051); padding: 1px 5px; border: solid 3px ; border-color: rgba(221, 9, 34,  1); #EFEFEF\">EXTREMELY boring</span> <span style=\"background-color: rgba(221, 9, 34,  0.3955666422843933); padding: 1px 5px; border: solid 3px ; border-color: rgba(221, 9, 34,  1); #EFEFEF\">with</span> <span style=\"background-color: rgba(221, 9, 34,  0.3269139528274536); padding: 1px 5px; border: solid 3px ; border-color: rgba(221, 9, 34,  1); #EFEFEF\">lots</span> <span style=\"background-color: rgba(221, 9, 34,  0.3100597858428955); padding: 1px 5px; border: solid 3px ; border-color: rgba(221, 9, 34,  1); #EFEFEF\">of</span> <span style=\"background-color: rgba(221, 9, 34,  0.22772091627120972); padding: 1px 5px; border: solid 3px ; border-color: rgba(221, 9, 34,  1); #EFEFEF\">boring dialog</span> <span style=\"background-color: rgba(221, 9, 34,  0.32810670137405396); padding: 1px 5px; border: solid 3px ; border-color: rgba(221, 9, 34,  1); #EFEFEF\">has</span> <span style=\"background-color: rgba(221, 9, 34,  0.502933144569397); padding: 1px 5px; border: solid 3px ; border-color: rgba(221, 9, 34,  1); #EFEFEF\">some VERY annoying characters</span> <span style=\"background-color: rgba(221, 9, 34,  0.41601184010505676); padding: 1px 5px; border: solid 3px ; border-color: rgba(221, 9, 34,  1); #EFEFEF\">a laughable looking creature</span> </div>"
      ],
      "text/plain": [
       "<IPython.core.display.HTML object>"
      ]
     },
     "metadata": {},
     "output_type": "display_data"
    },
    {
     "data": {
      "text/html": [
       "<br><br>"
      ],
      "text/plain": [
       "<IPython.core.display.HTML object>"
      ]
     },
     "metadata": {},
     "output_type": "display_data"
    },
    {
     "data": {
      "text/html": [
       "<div style='display: flex; width: 400px; flex-wrap: wrap'><span style=\"background-color: rgba(233,30,99,0);  padding: 1px 5px; border: solid 3px ; border-color:  rgba(233,30,99,0); #EFEFEF\">This film</span> <span style=\"background-color: rgba(233,30,99,0);  padding: 1px 5px; border: solid 3px ; border-color:  rgba(233,30,99,0); #EFEFEF\">had</span> <span style=\"background-color: rgba(233,30,99,0);  padding: 1px 5px; border: solid 3px ; border-color:  rgba(233,30,99,0); #EFEFEF\">no suspense</span> <span style=\"background-color: rgba(221, 9, 34,  0.9990760087966919); padding: 1px 5px; border: solid 3px ; border-color: rgba(221, 9, 34,  1); #EFEFEF\">I</span> <span style=\"background-color: rgba(221, 9, 34,  0.9192563891410828); padding: 1px 5px; border: solid 3px ; border-color: rgba(221, 9, 34,  1); #EFEFEF\">was bored</span> <span style=\"background-color: rgba(233,30,99,0);  padding: 1px 5px; border: solid 3px ; border-color:  rgba(233,30,99,0); #EFEFEF\">from</span> <span style=\"background-color: rgba(233,30,99,0);  padding: 1px 5px; border: solid 3px ; border-color:  rgba(233,30,99,0); #EFEFEF\">start</span> <span style=\"background-color: rgba(233,30,99,0);  padding: 1px 5px; border: solid 3px ; border-color:  rgba(233,30,99,0); #EFEFEF\">to end</span> </div>"
      ],
      "text/plain": [
       "<IPython.core.display.HTML object>"
      ]
     },
     "metadata": {},
     "output_type": "display_data"
    },
    {
     "data": {
      "text/html": [
       "<br><br>"
      ],
      "text/plain": [
       "<IPython.core.display.HTML object>"
      ]
     },
     "metadata": {},
     "output_type": "display_data"
    },
    {
     "name": "stdout",
     "output_type": "stream",
     "text": [
      "\n",
      "\n",
      "10 most important reviews for negative predicted label - concept2:\n",
      "\n",
      "\n"
     ]
    },
    {
     "data": {
      "text/html": [
       "<div style='display: flex; width: 400px; flex-wrap: wrap'><span style=\"background-color: rgba(221, 9, 140, 0.9996024370193481); padding: 1px 5px; border: solid 3px ; border-color: rgba(221, 9, 140, 1); #EFEFEF\">It</span> <span style=\"background-color: rgba(221, 9, 140, 0.9996024370193481); padding: 1px 5px; border: solid 3px ; border-color: rgba(221, 9, 140, 1); #EFEFEF\">had</span> <span style=\"background-color: rgba(221, 9, 140, 0.9720470905303955); padding: 1px 5px; border: solid 3px ; border-color: rgba(221, 9, 140, 1); #EFEFEF\">some interesting twists and turns</span> <span style=\"background-color: rgba(221, 9, 140, 0.912582516670227); padding: 1px 5px; border: solid 3px ; border-color: rgba(221, 9, 140, 1); #EFEFEF\">some</span> <span style=\"background-color: rgba(221, 9, 140, 0.9996024370193481); padding: 1px 5px; border: solid 3px ; border-color: rgba(221, 9, 140, 1); #EFEFEF\">of</span> <span style=\"background-color: rgba(221, 9, 140, 0.9996024370193481); padding: 1px 5px; border: solid 3px ; border-color: rgba(221, 9, 140, 1); #EFEFEF\">them</span> <span style=\"background-color: rgba(221, 9, 140, 0.9838781356811523); padding: 1px 5px; border: solid 3px ; border-color: rgba(221, 9, 140, 1); #EFEFEF\">seemed</span> <span style=\"background-color: rgba(221, 9, 140, 0.9996024370193481); padding: 1px 5px; border: solid 3px ; border-color: rgba(221, 9, 140, 1); #EFEFEF\">kind of pointless</span> </div>"
      ],
      "text/plain": [
       "<IPython.core.display.HTML object>"
      ]
     },
     "metadata": {},
     "output_type": "display_data"
    },
    {
     "data": {
      "text/html": [
       "<br><br>"
      ],
      "text/plain": [
       "<IPython.core.display.HTML object>"
      ]
     },
     "metadata": {},
     "output_type": "display_data"
    },
    {
     "data": {
      "text/html": [
       "<div style='display: flex; width: 400px; flex-wrap: wrap'><span style=\"background-color: rgba(221, 9, 140, 0.9283527135848999); padding: 1px 5px; border: solid 3px ; border-color: rgba(221, 9, 140, 1); #EFEFEF\">Although</span> <span style=\"background-color: rgba(221, 9, 140, 0.6432331800460815); padding: 1px 5px; border: solid 3px ; border-color: rgba(221, 9, 140, 1); #EFEFEF\">it</span> <span style=\"background-color: rgba(221, 9, 140, 0.4763512909412384); padding: 1px 5px; border: solid 3px ; border-color: rgba(221, 9, 140, 1); #EFEFEF\">had</span> <span style=\"background-color: rgba(221, 9, 140, 0.9988263249397278); padding: 1px 5px; border: solid 3px ; border-color: rgba(221, 9, 140, 1); #EFEFEF\">great actors/actresses</span> <span style=\"background-color: rgba(221, 9, 140, 0.40835410356521606); padding: 1px 5px; border: solid 3px ; border-color: rgba(221, 9, 140, 1); #EFEFEF\">there</span> <span style=\"background-color: rgba(221, 9, 140, 0.43647828698158264); padding: 1px 5px; border: solid 3px ; border-color: rgba(221, 9, 140, 1); #EFEFEF\">were</span> <span style=\"background-color: rgba(221, 9, 140, 0.9455965757369995); padding: 1px 5px; border: solid 3px ; border-color: rgba(221, 9, 140, 1); #EFEFEF\">just</span> <span style=\"background-color: rgba(221, 9, 140, 0.9994189143180847); padding: 1px 5px; border: solid 3px ; border-color: rgba(221, 9, 140, 1); #EFEFEF\">too many subplots</span> <span style=\"background-color: rgba(233,30,99,0);  padding: 1px 5px; border: solid 3px ; border-color:  rgba(233,30,99,0); #EFEFEF\">going</span> <span style=\"background-color: rgba(221, 9, 140, 0.41980791091918945); padding: 1px 5px; border: solid 3px ; border-color: rgba(221, 9, 140, 1); #EFEFEF\">on</span> <span style=\"background-color: rgba(233,30,99,0);  padding: 1px 5px; border: solid 3px ; border-color:  rgba(233,30,99,0); #EFEFEF\">to retain</span> <span style=\"background-color: rgba(221, 9, 140, 0.5091716647148132); padding: 1px 5px; border: solid 3px ; border-color: rgba(221, 9, 140, 1); #EFEFEF\">interest</span> </div>"
      ],
      "text/plain": [
       "<IPython.core.display.HTML object>"
      ]
     },
     "metadata": {},
     "output_type": "display_data"
    },
    {
     "data": {
      "text/html": [
       "<br><br>"
      ],
      "text/plain": [
       "<IPython.core.display.HTML object>"
      ]
     },
     "metadata": {},
     "output_type": "display_data"
    },
    {
     "data": {
      "text/html": [
       "<div style='display: flex; width: 400px; flex-wrap: wrap'><span style=\"background-color: rgba(221, 9, 140, 0.45314037799835205); padding: 1px 5px; border: solid 3px ; border-color: rgba(221, 9, 140, 1); #EFEFEF\">Jones & I</span> <span style=\"background-color: rgba(233,30,99,0);  padding: 1px 5px; border: solid 3px ; border-color:  rgba(233,30,99,0); #EFEFEF\">sort of liked</span> <span style=\"background-color: rgba(233,30,99,0);  padding: 1px 5px; border: solid 3px ; border-color:  rgba(233,30,99,0); #EFEFEF\">it</span> <span style=\"background-color: rgba(221, 9, 140, 0.3878098726272583); padding: 1px 5px; border: solid 3px ; border-color: rgba(221, 9, 140, 1); #EFEFEF\">in</span> <span style=\"background-color: rgba(221, 9, 140, 0.47617435455322266); padding: 1px 5px; border: solid 3px ; border-color: rgba(221, 9, 140, 1); #EFEFEF\">the end</span> <span style=\"background-color: rgba(221, 9, 140, 0.25821247696876526); padding: 1px 5px; border: solid 3px ; border-color: rgba(221, 9, 140, 1); #EFEFEF\">there</span> <span style=\"background-color: rgba(221, 9, 140, 0.4397808313369751); padding: 1px 5px; border: solid 3px ; border-color: rgba(221, 9, 140, 1); #EFEFEF\">were</span> <span style=\"background-color: rgba(221, 9, 140, 0.9995807409286499); padding: 1px 5px; border: solid 3px ; border-color: rgba(221, 9, 140, 1); #EFEFEF\">too many unsatisfying elements</span> <span style=\"background-color: rgba(221, 9, 140, 0.8327867984771729); padding: 1px 5px; border: solid 3px ; border-color: rgba(221, 9, 140, 1); #EFEFEF\">for</span> <span style=\"background-color: rgba(221, 9, 140, 0.7121967077255249); padding: 1px 5px; border: solid 3px ; border-color: rgba(221, 9, 140, 1); #EFEFEF\">me</span> <span style=\"background-color: rgba(221, 9, 140, 0.8491193652153015); padding: 1px 5px; border: solid 3px ; border-color: rgba(221, 9, 140, 1); #EFEFEF\">to totally enjoy</span> <span style=\"background-color: rgba(221, 9, 140, 0.3569791316986084); padding: 1px 5px; border: solid 3px ; border-color: rgba(221, 9, 140, 1); #EFEFEF\">it</span> </div>"
      ],
      "text/plain": [
       "<IPython.core.display.HTML object>"
      ]
     },
     "metadata": {},
     "output_type": "display_data"
    },
    {
     "data": {
      "text/html": [
       "<br><br>"
      ],
      "text/plain": [
       "<IPython.core.display.HTML object>"
      ]
     },
     "metadata": {},
     "output_type": "display_data"
    },
    {
     "data": {
      "text/html": [
       "<div style='display: flex; width: 400px; flex-wrap: wrap'><span style=\"background-color: rgba(233,30,99,0);  padding: 1px 5px; border: solid 3px ; border-color:  rgba(233,30,99,0); #EFEFEF\">If</span> <span style=\"background-color: rgba(233,30,99,0);  padding: 1px 5px; border: solid 3px ; border-color:  rgba(233,30,99,0); #EFEFEF\">he</span> <span style=\"background-color: rgba(233,30,99,0);  padding: 1px 5px; border: solid 3px ; border-color:  rgba(233,30,99,0); #EFEFEF\">gave</span> <span style=\"background-color: rgba(233,30,99,0);  padding: 1px 5px; border: solid 3px ; border-color:  rgba(233,30,99,0); #EFEFEF\">us</span> <span style=\"background-color: rgba(233,30,99,0);  padding: 1px 5px; border: solid 3px ; border-color:  rgba(233,30,99,0); #EFEFEF\">something</span> <span style=\"background-color: rgba(233,30,99,0);  padding: 1px 5px; border: solid 3px ; border-color:  rgba(233,30,99,0); #EFEFEF\">more accessible</span> <span style=\"background-color: rgba(233,30,99,0);  padding: 1px 5px; border: solid 3px ; border-color:  rgba(233,30,99,0); #EFEFEF\">at least had</span> <span style=\"background-color: rgba(233,30,99,0);  padding: 1px 5px; border: solid 3px ; border-color:  rgba(233,30,99,0); #EFEFEF\">better explanations</span> <span style=\"background-color: rgba(233,30,99,0);  padding: 1px 5px; border: solid 3px ; border-color:  rgba(233,30,99,0); #EFEFEF\">for</span> <span style=\"background-color: rgba(233,30,99,0);  padding: 1px 5px; border: solid 3px ; border-color:  rgba(233,30,99,0); #EFEFEF\">the characters</span> <span style=\"background-color: rgba(221, 9, 140, 0.40641412138938904); padding: 1px 5px; border: solid 3px ; border-color: rgba(221, 9, 140, 1); #EFEFEF\">suddenly acting</span> <span style=\"background-color: rgba(221, 9, 140, 0.26317328214645386); padding: 1px 5px; border: solid 3px ; border-color: rgba(221, 9, 140, 1); #EFEFEF\">all weird</span> <span style=\"background-color: rgba(233,30,99,0);  padding: 1px 5px; border: solid 3px ; border-color:  rgba(233,30,99,0); #EFEFEF\">then</span> <span style=\"background-color: rgba(233,30,99,0);  padding: 1px 5px; border: solid 3px ; border-color:  rgba(233,30,99,0); #EFEFEF\">it</span> <span style=\"background-color: rgba(221, 9, 140, 0.9995773434638977); padding: 1px 5px; border: solid 3px ; border-color: rgba(221, 9, 140, 1); #EFEFEF\">would have been</span> <span style=\"background-color: rgba(233,30,99,0);  padding: 1px 5px; border: solid 3px ; border-color:  rgba(233,30,99,0); #EFEFEF\">a more enjoyable film</span> </div>"
      ],
      "text/plain": [
       "<IPython.core.display.HTML object>"
      ]
     },
     "metadata": {},
     "output_type": "display_data"
    },
    {
     "data": {
      "text/html": [
       "<br><br>"
      ],
      "text/plain": [
       "<IPython.core.display.HTML object>"
      ]
     },
     "metadata": {},
     "output_type": "display_data"
    },
    {
     "data": {
      "text/html": [
       "<div style='display: flex; width: 400px; flex-wrap: wrap'><span style=\"background-color: rgba(233,30,99,0);  padding: 1px 5px; border: solid 3px ; border-color:  rgba(233,30,99,0); #EFEFEF\">It</span> <span style=\"background-color: rgba(233,30,99,0);  padding: 1px 5px; border: solid 3px ; border-color:  rgba(233,30,99,0); #EFEFEF\">'s</span> <span style=\"background-color: rgba(221, 9, 140, 0.99917072057724); padding: 1px 5px; border: solid 3px ; border-color: rgba(221, 9, 140, 1); #EFEFEF\">watchable</span> <span style=\"background-color: rgba(233,30,99,0);  padding: 1px 5px; border: solid 3px ; border-color:  rgba(233,30,99,0); #EFEFEF\">even though</span> <span style=\"background-color: rgba(233,30,99,0);  padding: 1px 5px; border: solid 3px ; border-color:  rgba(233,30,99,0); #EFEFEF\">it</span> <span style=\"background-color: rgba(221, 9, 140, 0.9995748400688171); padding: 1px 5px; border: solid 3px ; border-color: rgba(221, 9, 140, 1); #EFEFEF\">doesn't leave</span> <span style=\"background-color: rgba(221, 9, 140, 0.9773964285850525); padding: 1px 5px; border: solid 3px ; border-color: rgba(221, 9, 140, 1); #EFEFEF\">a lasting impression</span> </div>"
      ],
      "text/plain": [
       "<IPython.core.display.HTML object>"
      ]
     },
     "metadata": {},
     "output_type": "display_data"
    },
    {
     "data": {
      "text/html": [
       "<br><br>"
      ],
      "text/plain": [
       "<IPython.core.display.HTML object>"
      ]
     },
     "metadata": {},
     "output_type": "display_data"
    },
    {
     "data": {
      "text/html": [
       "<div style='display: flex; width: 400px; flex-wrap: wrap'><span style=\"background-color: rgba(221, 9, 140, 0.9989641308784485); padding: 1px 5px; border: solid 3px ; border-color: rgba(221, 9, 140, 1); #EFEFEF\">See</span> <span style=\"background-color: rgba(221, 9, 140, 0.9995756149291992); padding: 1px 5px; border: solid 3px ; border-color: rgba(221, 9, 140, 1); #EFEFEF\">this movie</span> <span style=\"background-color: rgba(221, 9, 140, 0.9821974635124207); padding: 1px 5px; border: solid 3px ; border-color: rgba(221, 9, 140, 1); #EFEFEF\">if</span> <span style=\"background-color: rgba(221, 9, 140, 0.9995756149291992); padding: 1px 5px; border: solid 3px ; border-color: rgba(221, 9, 140, 1); #EFEFEF\">you</span> <span style=\"background-color: rgba(221, 9, 140, 0.9995756149291992); padding: 1px 5px; border: solid 3px ; border-color: rgba(221, 9, 140, 1); #EFEFEF\">want to see</span> <span style=\"background-color: rgba(221, 9, 140, 0.9995756149291992); padding: 1px 5px; border: solid 3px ; border-color: rgba(221, 9, 140, 1); #EFEFEF\">some impressive set designs</span> <span style=\"background-color: rgba(221, 9, 140, 0.9995756149291992); padding: 1px 5px; border: solid 3px ; border-color: rgba(221, 9, 140, 1); #EFEFEF\">if</span> <span style=\"background-color: rgba(221, 9, 140, 0.9995756149291992); padding: 1px 5px; border: solid 3px ; border-color: rgba(221, 9, 140, 1); #EFEFEF\">you</span> <span style=\"background-color: rgba(221, 9, 140, 0.9878960251808167); padding: 1px 5px; border: solid 3px ; border-color: rgba(221, 9, 140, 1); #EFEFEF\">want to see</span> <span style=\"background-color: rgba(221, 9, 140, 0.9995756149291992); padding: 1px 5px; border: solid 3px ; border-color: rgba(221, 9, 140, 1); #EFEFEF\">good acting</span> <span style=\"background-color: rgba(221, 9, 140, 0.9716828465461731); padding: 1px 5px; border: solid 3px ; border-color: rgba(221, 9, 140, 1); #EFEFEF\">a good film</span> </div>"
      ],
      "text/plain": [
       "<IPython.core.display.HTML object>"
      ]
     },
     "metadata": {},
     "output_type": "display_data"
    },
    {
     "data": {
      "text/html": [
       "<br><br>"
      ],
      "text/plain": [
       "<IPython.core.display.HTML object>"
      ]
     },
     "metadata": {},
     "output_type": "display_data"
    },
    {
     "data": {
      "text/html": [
       "<div style='display: flex; width: 400px; flex-wrap: wrap'><span style=\"background-color: rgba(221, 9, 140, 0.42769885063171387); padding: 1px 5px; border: solid 3px ; border-color: rgba(221, 9, 140, 1); #EFEFEF\">If</span> <span style=\"background-color: rgba(221, 9, 140, 0.741679847240448); padding: 1px 5px; border: solid 3px ; border-color: rgba(221, 9, 140, 1); #EFEFEF\">you</span> <span style=\"background-color: rgba(221, 9, 140, 0.6303555369377136); padding: 1px 5px; border: solid 3px ; border-color: rgba(221, 9, 140, 1); #EFEFEF\">can get</span> <span style=\"background-color: rgba(221, 9, 140, 0.890625); padding: 1px 5px; border: solid 3px ; border-color: rgba(221, 9, 140, 1); #EFEFEF\">past</span> <span style=\"background-color: rgba(221, 9, 140, 0.8858625292778015); padding: 1px 5px; border: solid 3px ; border-color: rgba(221, 9, 140, 1); #EFEFEF\">the first 2 minutes</span> <span style=\"background-color: rgba(221, 9, 140, 0.8017349243164062); padding: 1px 5px; border: solid 3px ; border-color: rgba(221, 9, 140, 1); #EFEFEF\">where</span> <span style=\"background-color: rgba(221, 9, 140, 0.7938007116317749); padding: 1px 5px; border: solid 3px ; border-color: rgba(221, 9, 140, 1); #EFEFEF\">Adam</span> <span style=\"background-color: rgba(221, 9, 140, 0.571111798286438); padding: 1px 5px; border: solid 3px ; border-color: rgba(221, 9, 140, 1); #EFEFEF\">'s friend Harley</span> <span style=\"background-color: rgba(221, 9, 140, 0.6086368560791016); padding: 1px 5px; border: solid 3px ; border-color: rgba(221, 9, 140, 1); #EFEFEF\">pops</span> <span style=\"background-color: rgba(221, 9, 140, 0.7357548475265503); padding: 1px 5px; border: solid 3px ; border-color: rgba(221, 9, 140, 1); #EFEFEF\">up</span> <span style=\"background-color: rgba(221, 9, 140, 0.8109269738197327); padding: 1px 5px; border: solid 3px ; border-color: rgba(221, 9, 140, 1); #EFEFEF\">from</span> <span style=\"background-color: rgba(221, 9, 140, 0.8080040216445923); padding: 1px 5px; border: solid 3px ; border-color: rgba(221, 9, 140, 1); #EFEFEF\">hiding</span> <span style=\"background-color: rgba(221, 9, 140, 0.7920296788215637); padding: 1px 5px; border: solid 3px ; border-color: rgba(221, 9, 140, 1); #EFEFEF\">in</span> <span style=\"background-color: rgba(221, 9, 140, 0.7005877494812012); padding: 1px 5px; border: solid 3px ; border-color: rgba(221, 9, 140, 1); #EFEFEF\">the back</span> <span style=\"background-color: rgba(221, 9, 140, 0.7562172412872314); padding: 1px 5px; border: solid 3px ; border-color: rgba(221, 9, 140, 1); #EFEFEF\">of</span> <span style=\"background-color: rgba(221, 9, 140, 0.802629292011261); padding: 1px 5px; border: solid 3px ; border-color: rgba(221, 9, 140, 1); #EFEFEF\">Adam</span> <span style=\"background-color: rgba(221, 9, 140, 0.5950039625167847); padding: 1px 5px; border: solid 3px ; border-color: rgba(221, 9, 140, 1); #EFEFEF\">'s car</span> <span style=\"background-color: rgba(221, 9, 140, 0.5097508430480957); padding: 1px 5px; border: solid 3px ; border-color: rgba(221, 9, 140, 1); #EFEFEF\">to try to scare</span> <span style=\"background-color: rgba(221, 9, 140, 0.7292068004608154); padding: 1px 5px; border: solid 3px ; border-color: rgba(221, 9, 140, 1); #EFEFEF\">him</span> <span style=\"background-color: rgba(221, 9, 140, 0.9607877731323242); padding: 1px 5px; border: solid 3px ; border-color: rgba(221, 9, 140, 1); #EFEFEF\">with</span> <span style=\"background-color: rgba(221, 9, 140, 0.9995548725128174); padding: 1px 5px; border: solid 3px ; border-color: rgba(221, 9, 140, 1); #EFEFEF\">no explanation</span> <span style=\"background-color: rgba(221, 9, 140, 0.734736979007721); padding: 1px 5px; border: solid 3px ; border-color: rgba(221, 9, 140, 1); #EFEFEF\">as</span> <span style=\"background-color: rgba(221, 9, 140, 0.8806615471839905); padding: 1px 5px; border: solid 3px ; border-color: rgba(221, 9, 140, 1); #EFEFEF\">to</span> <span style=\"background-color: rgba(221, 9, 140, 0.8015799522399902); padding: 1px 5px; border: solid 3px ; border-color: rgba(221, 9, 140, 1); #EFEFEF\">how</span> <span style=\"background-color: rgba(221, 9, 140, 0.6299151182174683); padding: 1px 5px; border: solid 3px ; border-color: rgba(221, 9, 140, 1); #EFEFEF\">Harley</span> <span style=\"background-color: rgba(221, 9, 140, 0.8050698637962341); padding: 1px 5px; border: solid 3px ; border-color: rgba(221, 9, 140, 1); #EFEFEF\">even</span> <span style=\"background-color: rgba(221, 9, 140, 0.8928818702697754); padding: 1px 5px; border: solid 3px ; border-color: rgba(221, 9, 140, 1); #EFEFEF\">got</span> <span style=\"background-color: rgba(221, 9, 140, 0.7964454293251038); padding: 1px 5px; border: solid 3px ; border-color: rgba(221, 9, 140, 1); #EFEFEF\">there</span> <span style=\"background-color: rgba(221, 9, 140, 0.6812751889228821); padding: 1px 5px; border: solid 3px ; border-color: rgba(221, 9, 140, 1); #EFEFEF\">how long</span> <span style=\"background-color: rgba(221, 9, 140, 0.44691962003707886); padding: 1px 5px; border: solid 3px ; border-color: rgba(221, 9, 140, 1); #EFEFEF\">ago</span> <span style=\"background-color: rgba(221, 9, 140, 0.5943315625190735); padding: 1px 5px; border: solid 3px ; border-color: rgba(221, 9, 140, 1); #EFEFEF\">how</span> <span style=\"background-color: rgba(221, 9, 140, 0.5508216619491577); padding: 1px 5px; border: solid 3px ; border-color: rgba(221, 9, 140, 1); #EFEFEF\">Adam</span> <span style=\"background-color: rgba(221, 9, 140, 0.9144778251647949); padding: 1px 5px; border: solid 3px ; border-color: rgba(221, 9, 140, 1); #EFEFEF\">even</span> <span style=\"background-color: rgba(221, 9, 140, 0.9437245726585388); padding: 1px 5px; border: solid 3px ; border-color: rgba(221, 9, 140, 1); #EFEFEF\">failed to realise</span> <span style=\"background-color: rgba(221, 9, 140, 0.8393123149871826); padding: 1px 5px; border: solid 3px ; border-color: rgba(221, 9, 140, 1); #EFEFEF\">without</span> <span style=\"background-color: rgba(221, 9, 140, 0.4516089856624603); padding: 1px 5px; border: solid 3px ; border-color: rgba(221, 9, 140, 1); #EFEFEF\">thinking</span> <span style=\"background-color: rgba(221, 9, 140, 0.9740962386131287); padding: 1px 5px; border: solid 3px ; border-color: rgba(221, 9, 140, 1); #EFEFEF\">you</span> <span style=\"background-color: rgba(221, 9, 140, 0.9954547882080078); padding: 1px 5px; border: solid 3px ; border-color: rgba(221, 9, 140, 1); #EFEFEF\">hate</span> <span style=\"background-color: rgba(221, 9, 140, 0.9879642724990845); padding: 1px 5px; border: solid 3px ; border-color: rgba(221, 9, 140, 1); #EFEFEF\">it</span> <span style=\"background-color: rgba(221, 9, 140, 0.9675391316413879); padding: 1px 5px; border: solid 3px ; border-color: rgba(221, 9, 140, 1); #EFEFEF\">already</span> <span style=\"background-color: rgba(221, 9, 140, 0.9525533318519592); padding: 1px 5px; border: solid 3px ; border-color: rgba(221, 9, 140, 1); #EFEFEF\">then</span> <span style=\"background-color: rgba(221, 9, 140, 0.792172372341156); padding: 1px 5px; border: solid 3px ; border-color: rgba(221, 9, 140, 1); #EFEFEF\">you</span> <span style=\"background-color: rgba(221, 9, 140, 0.23153939843177795); padding: 1px 5px; border: solid 3px ; border-color: rgba(221, 9, 140, 1); #EFEFEF\">may just enjoy</span> <span style=\"background-color: rgba(221, 9, 140, 0.43871641159057617); padding: 1px 5px; border: solid 3px ; border-color: rgba(221, 9, 140, 1); #EFEFEF\">this film</span> </div>"
      ],
      "text/plain": [
       "<IPython.core.display.HTML object>"
      ]
     },
     "metadata": {},
     "output_type": "display_data"
    },
    {
     "data": {
      "text/html": [
       "<br><br>"
      ],
      "text/plain": [
       "<IPython.core.display.HTML object>"
      ]
     },
     "metadata": {},
     "output_type": "display_data"
    },
    {
     "data": {
      "text/html": [
       "<div style='display: flex; width: 400px; flex-wrap: wrap'><span style=\"background-color: rgba(221, 9, 140, 0.2185865342617035); padding: 1px 5px; border: solid 3px ; border-color: rgba(221, 9, 140, 1); #EFEFEF\">I</span> <span style=\"background-color: rgba(221, 9, 140, 0.8887918591499329); padding: 1px 5px; border: solid 3px ; border-color: rgba(221, 9, 140, 1); #EFEFEF\">suppose</span> <span style=\"background-color: rgba(221, 9, 140, 0.9995745420455933); padding: 1px 5px; border: solid 3px ; border-color: rgba(221, 9, 140, 1); #EFEFEF\">if</span> <span style=\"background-color: rgba(233,30,99,0);  padding: 1px 5px; border: solid 3px ; border-color:  rgba(233,30,99,0); #EFEFEF\">you</span> <span style=\"background-color: rgba(233,30,99,0);  padding: 1px 5px; border: solid 3px ; border-color:  rgba(233,30,99,0); #EFEFEF\">like</span> <span style=\"background-color: rgba(221, 9, 140, 0.9995745420455933); padding: 1px 5px; border: solid 3px ; border-color: rgba(221, 9, 140, 1); #EFEFEF\">endless dialogue</span> <span style=\"background-color: rgba(221, 9, 140, 0.8268084526062012); padding: 1px 5px; border: solid 3px ; border-color: rgba(221, 9, 140, 1); #EFEFEF\">that</span> <span style=\"background-color: rgba(221, 9, 140, 0.9971292018890381); padding: 1px 5px; border: solid 3px ; border-color: rgba(221, 9, 140, 1); #EFEFEF\">doesn't forward</span> <span style=\"background-color: rgba(221, 9, 140, 0.6436118483543396); padding: 1px 5px; border: solid 3px ; border-color: rgba(221, 9, 140, 1); #EFEFEF\">the story</span> <span style=\"background-color: rgba(233,30,99,0);  padding: 1px 5px; border: solid 3px ; border-color:  rgba(233,30,99,0); #EFEFEF\">flashy camera effects</span> <span style=\"background-color: rgba(233,30,99,0);  padding: 1px 5px; border: solid 3px ; border-color:  rgba(233,30,99,0); #EFEFEF\">like</span> <span style=\"background-color: rgba(221, 9, 140, 0.3376331627368927); padding: 1px 5px; border: solid 3px ; border-color: rgba(221, 9, 140, 1); #EFEFEF\">the scene transitions</span> <span style=\"background-color: rgba(233,30,99,0);  padding: 1px 5px; border: solid 3px ; border-color:  rgba(233,30,99,0); #EFEFEF\">in</span> <span style=\"background-color: rgba(221, 9, 140, 0.3332233428955078); padding: 1px 5px; border: solid 3px ; border-color: rgba(221, 9, 140, 1); #EFEFEF\">the television show</span> <span style=\"background-color: rgba(233,30,99,0);  padding: 1px 5px; border: solid 3px ; border-color:  rgba(233,30,99,0); #EFEFEF\">Angel</span> <span style=\"background-color: rgba(233,30,99,0);  padding: 1px 5px; border: solid 3px ; border-color:  rgba(233,30,99,0); #EFEFEF\">you</span> <span style=\"background-color: rgba(233,30,99,0);  padding: 1px 5px; border: solid 3px ; border-color:  rgba(233,30,99,0); #EFEFEF\">'ll enjoy</span> <span style=\"background-color: rgba(221, 9, 140, 0.28082671761512756); padding: 1px 5px; border: solid 3px ; border-color: rgba(221, 9, 140, 1); #EFEFEF\">the film</span> </div>"
      ],
      "text/plain": [
       "<IPython.core.display.HTML object>"
      ]
     },
     "metadata": {},
     "output_type": "display_data"
    },
    {
     "data": {
      "text/html": [
       "<br><br>"
      ],
      "text/plain": [
       "<IPython.core.display.HTML object>"
      ]
     },
     "metadata": {},
     "output_type": "display_data"
    },
    {
     "data": {
      "text/html": [
       "<div style='display: flex; width: 400px; flex-wrap: wrap'><span style=\"background-color: rgba(221, 9, 140, 0.9995726943016052); padding: 1px 5px; border: solid 3px ; border-color: rgba(221, 9, 140, 1); #EFEFEF\">The flaming car scene</span> <span style=\"background-color: rgba(233,30,99,0);  padding: 1px 5px; border: solid 3px ; border-color:  rgba(233,30,99,0); #EFEFEF\">was well executed</span> <span style=\"background-color: rgba(221, 90, 9,  0.20668868720531464); padding: 1px 5px; border: solid 3px ; border-color: rgba(221, 90, 9,  1); #EFEFEF\">like</span> <span style=\"background-color: rgba(221, 9, 140, 0.6253259778022766); padding: 1px 5px; border: solid 3px ; border-color: rgba(221, 9, 140, 1); #EFEFEF\">much</span> <span style=\"background-color: rgba(233,30,99,0);  padding: 1px 5px; border: solid 3px ; border-color:  rgba(233,30,99,0); #EFEFEF\">of</span> <span style=\"background-color: rgba(221, 9, 140, 0.9924755096435547); padding: 1px 5px; border: solid 3px ; border-color: rgba(221, 9, 140, 1); #EFEFEF\">the movie</span> <span style=\"background-color: rgba(221, 9, 140, 0.9995726943016052); padding: 1px 5px; border: solid 3px ; border-color: rgba(221, 9, 140, 1); #EFEFEF\">went</span> <span style=\"background-color: rgba(221, 9, 140, 0.9995726943016052); padding: 1px 5px; border: solid 3px ; border-color: rgba(221, 9, 140, 1); #EFEFEF\">nowhere</span> <span style=\"background-color: rgba(221, 9, 140, 0.9995726943016052); padding: 1px 5px; border: solid 3px ; border-color: rgba(221, 9, 140, 1); #EFEFEF\">in</span> <span style=\"background-color: rgba(221, 9, 140, 0.9853800535202026); padding: 1px 5px; border: solid 3px ; border-color: rgba(221, 9, 140, 1); #EFEFEF\">the end</span> </div>"
      ],
      "text/plain": [
       "<IPython.core.display.HTML object>"
      ]
     },
     "metadata": {},
     "output_type": "display_data"
    },
    {
     "data": {
      "text/html": [
       "<br><br>"
      ],
      "text/plain": [
       "<IPython.core.display.HTML object>"
      ]
     },
     "metadata": {},
     "output_type": "display_data"
    },
    {
     "data": {
      "text/html": [
       "<div style='display: flex; width: 400px; flex-wrap: wrap'><span style=\"background-color: rgba(221, 9, 140, 0.24985985457897186); padding: 1px 5px; border: solid 3px ; border-color: rgba(221, 9, 140, 1); #EFEFEF\">The film</span> <span style=\"background-color: rgba(233,30,99,0);  padding: 1px 5px; border: solid 3px ; border-color:  rgba(233,30,99,0); #EFEFEF\">is</span> <span style=\"background-color: rgba(221, 9, 140, 0.8184190988540649); padding: 1px 5px; border: solid 3px ; border-color: rgba(221, 9, 140, 1); #EFEFEF\">basically</span> <span style=\"background-color: rgba(233,30,99,0);  padding: 1px 5px; border: solid 3px ; border-color:  rgba(233,30,99,0); #EFEFEF\">a series</span> <span style=\"background-color: rgba(233,30,99,0);  padding: 1px 5px; border: solid 3px ; border-color:  rgba(233,30,99,0); #EFEFEF\">of</span> <span style=\"background-color: rgba(221, 9, 140, 0.6642665863037109); padding: 1px 5px; border: solid 3px ; border-color: rgba(221, 9, 140, 1); #EFEFEF\">zany action sequences</span> <span style=\"background-color: rgba(233,30,99,0);  padding: 1px 5px; border: solid 3px ; border-color:  rgba(233,30,99,0); #EFEFEF\">that</span> <span style=\"background-color: rgba(221, 9, 140, 0.9995725750923157); padding: 1px 5px; border: solid 3px ; border-color: rgba(221, 9, 140, 1); #EFEFEF\">are kind of pasted</span> <span style=\"background-color: rgba(233,30,99,0);  padding: 1px 5px; border: solid 3px ; border-color:  rgba(233,30,99,0); #EFEFEF\">together</span> <span style=\"background-color: rgba(233,30,99,0);  padding: 1px 5px; border: solid 3px ; border-color:  rgba(233,30,99,0); #EFEFEF\">with</span> <span style=\"background-color: rgba(233,30,99,0);  padding: 1px 5px; border: solid 3px ; border-color:  rgba(233,30,99,0); #EFEFEF\">characters</span> <span style=\"background-color: rgba(221, 9, 140, 0.9995725750923157); padding: 1px 5px; border: solid 3px ; border-color: rgba(221, 9, 140, 1); #EFEFEF\">an uneven story</span> <span style=\"background-color: rgba(233,30,99,0);  padding: 1px 5px; border: solid 3px ; border-color:  rgba(233,30,99,0); #EFEFEF\">that</span> <span style=\"background-color: rgba(221, 9, 140, 0.3092569410800934); padding: 1px 5px; border: solid 3px ; border-color: rgba(221, 9, 140, 1); #EFEFEF\">only kids</span> <span style=\"background-color: rgba(233,30,99,0);  padding: 1px 5px; border: solid 3px ; border-color:  rgba(233,30,99,0); #EFEFEF\">between</span> <span style=\"background-color: rgba(233,30,99,0);  padding: 1px 5px; border: solid 3px ; border-color:  rgba(233,30,99,0); #EFEFEF\">the ages</span> <span style=\"background-color: rgba(233,30,99,0);  padding: 1px 5px; border: solid 3px ; border-color:  rgba(233,30,99,0); #EFEFEF\">of</span> <span style=\"background-color: rgba(233,30,99,0);  padding: 1px 5px; border: solid 3px ; border-color:  rgba(233,30,99,0); #EFEFEF\">6-9</span> <span style=\"background-color: rgba(233,30,99,0);  padding: 1px 5px; border: solid 3px ; border-color:  rgba(233,30,99,0); #EFEFEF\">would enjoy</span> </div>"
      ],
      "text/plain": [
       "<IPython.core.display.HTML object>"
      ]
     },
     "metadata": {},
     "output_type": "display_data"
    },
    {
     "data": {
      "text/html": [
       "<br><br>"
      ],
      "text/plain": [
       "<IPython.core.display.HTML object>"
      ]
     },
     "metadata": {},
     "output_type": "display_data"
    },
    {
     "name": "stdout",
     "output_type": "stream",
     "text": [
      "\n",
      "\n",
      "10 most important reviews for negative predicted label - concept3:\n",
      "\n",
      "\n"
     ]
    },
    {
     "data": {
      "text/html": [
       "<div style='display: flex; width: 400px; flex-wrap: wrap'><span style=\"background-color: rgba(221, 90, 9,  0.7284530401229858); padding: 1px 5px; border: solid 3px ; border-color: rgba(221, 90, 9,  1); #EFEFEF\">Based</span> <span style=\"background-color: rgba(221, 90, 9,  0.5308803915977478); padding: 1px 5px; border: solid 3px ; border-color: rgba(221, 90, 9,  1); #EFEFEF\">on</span> <span style=\"background-color: rgba(221, 90, 9,  0.9993818402290344); padding: 1px 5px; border: solid 3px ; border-color: rgba(221, 90, 9,  1); #EFEFEF\">a stage play</span> <span style=\"background-color: rgba(221, 90, 9,  0.6789980530738831); padding: 1px 5px; border: solid 3px ; border-color: rgba(221, 90, 9,  1); #EFEFEF\">which</span> <span style=\"background-color: rgba(221, 90, 9,  0.39469748735427856); padding: 1px 5px; border: solid 3px ; border-color: rgba(221, 90, 9,  1); #EFEFEF\">reportedly</span> <span style=\"background-color: rgba(221, 90, 9,  0.5083935260772705); padding: 1px 5px; border: solid 3px ; border-color: rgba(221, 90, 9,  1); #EFEFEF\">left</span> <span style=\"background-color: rgba(221, 90, 9,  0.4362725019454956); padding: 1px 5px; border: solid 3px ; border-color: rgba(221, 90, 9,  1); #EFEFEF\">its actors</span> <span style=\"background-color: rgba(221, 90, 9,  0.33545103669166565); padding: 1px 5px; border: solid 3px ; border-color: rgba(221, 90, 9,  1); #EFEFEF\">battered and bruised</span> <span style=\"background-color: rgba(221, 90, 9,  0.41787832975387573); padding: 1px 5px; border: solid 3px ; border-color: rgba(221, 90, 9,  1); #EFEFEF\">after</span> <span style=\"background-color: rgba(221, 90, 9,  0.49949946999549866); padding: 1px 5px; border: solid 3px ; border-color: rgba(221, 90, 9,  1); #EFEFEF\">every performance</span> <span style=\"background-color: rgba(221, 90, 9,  0.6592611074447632); padding: 1px 5px; border: solid 3px ; border-color: rgba(221, 90, 9,  1); #EFEFEF\">the film</span> <span style=\"background-color: rgba(233,30,99,0);  padding: 1px 5px; border: solid 3px ; border-color:  rgba(233,30,99,0); #EFEFEF\">makes</span> <span style=\"background-color: rgba(221, 90, 9,  0.4064404368400574); padding: 1px 5px; border: solid 3px ; border-color: rgba(221, 90, 9,  1); #EFEFEF\">no attempt</span> <span style=\"background-color: rgba(221, 90, 9,  0.5381813049316406); padding: 1px 5px; border: solid 3px ; border-color: rgba(221, 90, 9,  1); #EFEFEF\">to open</span> <span style=\"background-color: rgba(221, 90, 9,  0.40373626351356506); padding: 1px 5px; border: solid 3px ; border-color: rgba(221, 90, 9,  1); #EFEFEF\">up</span> <span style=\"background-color: rgba(221, 90, 9,  0.5987032651901245); padding: 1px 5px; border: solid 3px ; border-color: rgba(221, 90, 9,  1); #EFEFEF\">the narrative</span> <span style=\"background-color: rgba(221, 90, 9,  0.33379706740379333); padding: 1px 5px; border: solid 3px ; border-color: rgba(221, 90, 9,  1); #EFEFEF\">relies</span> <span style=\"background-color: rgba(221, 90, 9,  0.7025756239891052); padding: 1px 5px; border: solid 3px ; border-color: rgba(221, 90, 9,  1); #EFEFEF\">instead</span> <span style=\"background-color: rgba(221, 90, 9,  0.5234658718109131); padding: 1px 5px; border: solid 3px ; border-color: rgba(221, 90, 9,  1); #EFEFEF\">on</span> <span style=\"background-color: rgba(221, 90, 9,  0.5796141028404236); padding: 1px 5px; border: solid 3px ; border-color: rgba(221, 90, 9,  1); #EFEFEF\">a confined setting</span> <span style=\"background-color: rgba(221, 90, 9,  0.5377968549728394); padding: 1px 5px; border: solid 3px ; border-color: rgba(221, 90, 9,  1); #EFEFEF\">for</span> <span style=\"background-color: rgba(221, 90, 9,  0.7687128782272339); padding: 1px 5px; border: solid 3px ; border-color: rgba(221, 90, 9,  1); #EFEFEF\">the main action</span> </div>"
      ],
      "text/plain": [
       "<IPython.core.display.HTML object>"
      ]
     },
     "metadata": {},
     "output_type": "display_data"
    },
    {
     "data": {
      "text/html": [
       "<br><br>"
      ],
      "text/plain": [
       "<IPython.core.display.HTML object>"
      ]
     },
     "metadata": {},
     "output_type": "display_data"
    },
    {
     "data": {
      "text/html": [
       "<div style='display: flex; width: 400px; flex-wrap: wrap'><span style=\"background-color: rgba(221, 90, 9,  0.6401248574256897); padding: 1px 5px; border: solid 3px ; border-color: rgba(221, 90, 9,  1); #EFEFEF\">It</span> <span style=\"background-color: rgba(221, 90, 9,  0.611358642578125); padding: 1px 5px; border: solid 3px ; border-color: rgba(221, 90, 9,  1); #EFEFEF\">also</span> <span style=\"background-color: rgba(221, 90, 9,  0.9995406270027161); padding: 1px 5px; border: solid 3px ; border-color: rgba(221, 90, 9,  1); #EFEFEF\">appears</span> <span style=\"background-color: rgba(221, 90, 9,  0.5623574256896973); padding: 1px 5px; border: solid 3px ; border-color: rgba(221, 90, 9,  1); #EFEFEF\">in</span> <span style=\"background-color: rgba(221, 90, 9,  0.22638188302516937); padding: 1px 5px; border: solid 3px ; border-color: rgba(221, 90, 9,  1); #EFEFEF\">this segment</span> <span style=\"background-color: rgba(221, 90, 9,  0.40380555391311646); padding: 1px 5px; border: solid 3px ; border-color: rgba(221, 90, 9,  1); #EFEFEF\">s climax</span> <span style=\"background-color: rgba(221, 90, 9,  0.931715726852417); padding: 1px 5px; border: solid 3px ; border-color: rgba(221, 90, 9,  1); #EFEFEF\">that</span> <span style=\"background-color: rgba(221, 90, 9,  0.8018873333930969); padding: 1px 5px; border: solid 3px ; border-color: rgba(221, 90, 9,  1); #EFEFEF\">Dracula</span> <span style=\"background-color: rgba(221, 90, 9,  0.9375354647636414); padding: 1px 5px; border: solid 3px ; border-color: rgba(221, 90, 9,  1); #EFEFEF\">can control</span> <span style=\"background-color: rgba(233,30,99,0);  padding: 1px 5px; border: solid 3px ; border-color:  rgba(233,30,99,0); #EFEFEF\">the weather</span> <span style=\"background-color: rgba(221, 90, 9,  0.5855799913406372); padding: 1px 5px; border: solid 3px ; border-color: rgba(221, 90, 9,  1); #EFEFEF\">this</span> <span style=\"background-color: rgba(221, 90, 9,  0.9813088178634644); padding: 1px 5px; border: solid 3px ; border-color: rgba(221, 90, 9,  1); #EFEFEF\">seems forgotten</span> <span style=\"background-color: rgba(221, 90, 9,  0.7941649556159973); padding: 1px 5px; border: solid 3px ; border-color: rgba(221, 90, 9,  1); #EFEFEF\">about</span> <span style=\"background-color: rgba(221, 90, 9,  0.8627826571464539); padding: 1px 5px; border: solid 3px ; border-color: rgba(221, 90, 9,  1); #EFEFEF\">as</span> <span style=\"background-color: rgba(221, 90, 9,  0.7470670938491821); padding: 1px 5px; border: solid 3px ; border-color: rgba(221, 90, 9,  1); #EFEFEF\">the film</span> <span style=\"background-color: rgba(221, 90, 9,  0.6146523356437683); padding: 1px 5px; border: solid 3px ; border-color: rgba(221, 90, 9,  1); #EFEFEF\">progresses</span> </div>"
      ],
      "text/plain": [
       "<IPython.core.display.HTML object>"
      ]
     },
     "metadata": {},
     "output_type": "display_data"
    },
    {
     "data": {
      "text/html": [
       "<br><br>"
      ],
      "text/plain": [
       "<IPython.core.display.HTML object>"
      ]
     },
     "metadata": {},
     "output_type": "display_data"
    },
    {
     "data": {
      "text/html": [
       "<div style='display: flex; width: 400px; flex-wrap: wrap'><span style=\"background-color: rgba(221, 90, 9,  0.9972563982009888); padding: 1px 5px; border: solid 3px ; border-color: rgba(221, 90, 9,  1); #EFEFEF\">The sense</span> <span style=\"background-color: rgba(221, 90, 9,  0.901898205280304); padding: 1px 5px; border: solid 3px ; border-color: rgba(221, 90, 9,  1); #EFEFEF\">of</span> <span style=\"background-color: rgba(221, 90, 9,  0.2810578942298889); padding: 1px 5px; border: solid 3px ; border-color: rgba(221, 90, 9,  1); #EFEFEF\">reality</span> <span style=\"background-color: rgba(221, 90, 9,  0.4499876797199249); padding: 1px 5px; border: solid 3px ; border-color: rgba(221, 90, 9,  1); #EFEFEF\">is</span> <span style=\"background-color: rgba(221, 90, 9,  0.9239138960838318); padding: 1px 5px; border: solid 3px ; border-color: rgba(221, 90, 9,  1); #EFEFEF\">never</span> <span style=\"background-color: rgba(221, 90, 9,  0.999553918838501); padding: 1px 5px; border: solid 3px ; border-color: rgba(221, 90, 9,  1); #EFEFEF\">there</span> <span style=\"background-color: rgba(221, 90, 9,  0.36417722702026367); padding: 1px 5px; border: solid 3px ; border-color: rgba(221, 90, 9,  1); #EFEFEF\">however</span> </div>"
      ],
      "text/plain": [
       "<IPython.core.display.HTML object>"
      ]
     },
     "metadata": {},
     "output_type": "display_data"
    },
    {
     "data": {
      "text/html": [
       "<br><br>"
      ],
      "text/plain": [
       "<IPython.core.display.HTML object>"
      ]
     },
     "metadata": {},
     "output_type": "display_data"
    },
    {
     "data": {
      "text/html": [
       "<div style='display: flex; width: 400px; flex-wrap: wrap'><span style=\"background-color: rgba(221, 90, 9,  0.3740747272968292); padding: 1px 5px; border: solid 3px ; border-color: rgba(221, 90, 9,  1); #EFEFEF\">At</span> <span style=\"background-color: rgba(233,30,99,0);  padding: 1px 5px; border: solid 3px ; border-color:  rgba(233,30,99,0); #EFEFEF\">times</span> <span style=\"background-color: rgba(221, 90, 9,  0.9994581937789917); padding: 1px 5px; border: solid 3px ; border-color: rgba(221, 90, 9,  1); #EFEFEF\">the plot</span> <span style=\"background-color: rgba(221, 90, 9,  0.6892595887184143); padding: 1px 5px; border: solid 3px ; border-color: rgba(221, 90, 9,  1); #EFEFEF\">diverts</span> <span style=\"background-color: rgba(221, 90, 9,  0.6300317645072937); padding: 1px 5px; border: solid 3px ; border-color: rgba(221, 90, 9,  1); #EFEFEF\">to</span> <span style=\"background-color: rgba(221, 90, 9,  0.43993404507637024); padding: 1px 5px; border: solid 3px ; border-color: rgba(221, 90, 9,  1); #EFEFEF\">the families</span> <span style=\"background-color: rgba(221, 90, 9,  0.8275213837623596); padding: 1px 5px; border: solid 3px ; border-color: rgba(221, 90, 9,  1); #EFEFEF\">of</span> <span style=\"background-color: rgba(221, 90, 9,  0.49173417687416077); padding: 1px 5px; border: solid 3px ; border-color: rgba(221, 90, 9,  1); #EFEFEF\">the two main characters</span> <span style=\"background-color: rgba(221, 90, 9,  0.792496919631958); padding: 1px 5px; border: solid 3px ; border-color: rgba(221, 90, 9,  1); #EFEFEF\">reverts</span> <span style=\"background-color: rgba(221, 90, 9,  0.582001805305481); padding: 1px 5px; border: solid 3px ; border-color: rgba(221, 90, 9,  1); #EFEFEF\">back</span> <span style=\"background-color: rgba(221, 90, 9,  0.5842779278755188); padding: 1px 5px; border: solid 3px ; border-color: rgba(221, 90, 9,  1); #EFEFEF\">to</span> <span style=\"background-color: rgba(221, 90, 9,  0.7255391478538513); padding: 1px 5px; border: solid 3px ; border-color: rgba(221, 90, 9,  1); #EFEFEF\">one</span> <span style=\"background-color: rgba(221, 90, 9,  0.4075051546096802); padding: 1px 5px; border: solid 3px ; border-color: rgba(221, 90, 9,  1); #EFEFEF\">of</span> <span style=\"background-color: rgba(221, 90, 9,  0.9018839001655579); padding: 1px 5px; border: solid 3px ; border-color: rgba(221, 90, 9,  1); #EFEFEF\">them</span> <span style=\"background-color: rgba(221, 90, 9,  0.6923334002494812); padding: 1px 5px; border: solid 3px ; border-color: rgba(221, 90, 9,  1); #EFEFEF\">Ismael</span> <span style=\"background-color: rgba(221, 90, 9,  0.9561294317245483); padding: 1px 5px; border: solid 3px ; border-color: rgba(221, 90, 9,  1); #EFEFEF\">primarily Nora</span> </div>"
      ],
      "text/plain": [
       "<IPython.core.display.HTML object>"
      ]
     },
     "metadata": {},
     "output_type": "display_data"
    },
    {
     "data": {
      "text/html": [
       "<br><br>"
      ],
      "text/plain": [
       "<IPython.core.display.HTML object>"
      ]
     },
     "metadata": {},
     "output_type": "display_data"
    },
    {
     "data": {
      "text/html": [
       "<div style='display: flex; width: 400px; flex-wrap: wrap'><span style=\"background-color: rgba(221, 90, 9,  0.9995444416999817); padding: 1px 5px; border: solid 3px ; border-color: rgba(221, 90, 9,  1); #EFEFEF\">The plot</span> <span style=\"background-color: rgba(221, 90, 9,  0.3456777036190033); padding: 1px 5px; border: solid 3px ; border-color: rgba(221, 90, 9,  1); #EFEFEF\">introduces</span> <span style=\"background-color: rgba(221, 90, 9,  0.6926406025886536); padding: 1px 5px; border: solid 3px ; border-color: rgba(221, 90, 9,  1); #EFEFEF\">a young couple</span> <span style=\"background-color: rgba(233,30,99,0);  padding: 1px 5px; border: solid 3px ; border-color:  rgba(233,30,99,0); #EFEFEF\">on</span> <span style=\"background-color: rgba(233,30,99,0);  padding: 1px 5px; border: solid 3px ; border-color:  rgba(233,30,99,0); #EFEFEF\">their honeymoon-weekend exploring caves</span> </div>"
      ],
      "text/plain": [
       "<IPython.core.display.HTML object>"
      ]
     },
     "metadata": {},
     "output_type": "display_data"
    },
    {
     "data": {
      "text/html": [
       "<br><br>"
      ],
      "text/plain": [
       "<IPython.core.display.HTML object>"
      ]
     },
     "metadata": {},
     "output_type": "display_data"
    },
    {
     "data": {
      "text/html": [
       "<div style='display: flex; width: 400px; flex-wrap: wrap'><span style=\"background-color: rgba(221, 90, 9,  0.6936691999435425); padding: 1px 5px; border: solid 3px ; border-color: rgba(221, 90, 9,  1); #EFEFEF\">The motivation</span> <span style=\"background-color: rgba(221, 90, 9,  0.34460917115211487); padding: 1px 5px; border: solid 3px ; border-color: rgba(221, 90, 9,  1); #EFEFEF\">for</span> <span style=\"background-color: rgba(233,30,99,0);  padding: 1px 5px; border: solid 3px ; border-color:  rgba(233,30,99,0); #EFEFEF\">the killings</span> <span style=\"background-color: rgba(221, 90, 9,  0.551727831363678); padding: 1px 5px; border: solid 3px ; border-color: rgba(221, 90, 9,  1); #EFEFEF\">in</span> <span style=\"background-color: rgba(221, 90, 9,  0.4883405864238739); padding: 1px 5px; border: solid 3px ; border-color: rgba(221, 90, 9,  1); #EFEFEF\">the beginning</span> <span style=\"background-color: rgba(221, 90, 9,  0.3022773861885071); padding: 1px 5px; border: solid 3px ; border-color: rgba(221, 90, 9,  1); #EFEFEF\">of</span> <span style=\"background-color: rgba(221, 90, 9,  0.95516037940979); padding: 1px 5px; border: solid 3px ; border-color: rgba(221, 90, 9,  1); #EFEFEF\">the movie</span> <span style=\"background-color: rgba(221, 90, 9,  0.9995223879814148); padding: 1px 5px; border: solid 3px ; border-color: rgba(221, 90, 9,  1); #EFEFEF\">is never explained</span> </div>"
      ],
      "text/plain": [
       "<IPython.core.display.HTML object>"
      ]
     },
     "metadata": {},
     "output_type": "display_data"
    },
    {
     "data": {
      "text/html": [
       "<br><br>"
      ],
      "text/plain": [
       "<IPython.core.display.HTML object>"
      ]
     },
     "metadata": {},
     "output_type": "display_data"
    },
    {
     "data": {
      "text/html": [
       "<div style='display: flex; width: 400px; flex-wrap: wrap'><span style=\"background-color: rgba(221, 90, 9,  0.20783191919326782); padding: 1px 5px; border: solid 3px ; border-color: rgba(221, 90, 9,  1); #EFEFEF\">The epilogue</span> <span style=\"background-color: rgba(221, 90, 9,  0.8804294466972351); padding: 1px 5px; border: solid 3px ; border-color: rgba(221, 90, 9,  1); #EFEFEF\">does not really wrap</span> <span style=\"background-color: rgba(221, 90, 9,  0.26675060391426086); padding: 1px 5px; border: solid 3px ; border-color: rgba(221, 90, 9,  1); #EFEFEF\">up</span> <span style=\"background-color: rgba(221, 9, 140, 0.2493295520544052); padding: 1px 5px; border: solid 3px ; border-color: rgba(221, 9, 140, 1); #EFEFEF\">many</span> <span style=\"background-color: rgba(221, 9, 140, 0.6320109367370605); padding: 1px 5px; border: solid 3px ; border-color: rgba(221, 9, 140, 1); #EFEFEF\">of</span> <span style=\"background-color: rgba(221, 9, 140, 0.9990755915641785); padding: 1px 5px; border: solid 3px ; border-color: rgba(221, 9, 140, 1); #EFEFEF\">the sub-plots</span> <span style=\"background-color: rgba(221, 9, 140, 0.9960825443267822); padding: 1px 5px; border: solid 3px ; border-color: rgba(221, 9, 140, 1); #EFEFEF\">seems to want</span> <span style=\"background-color: rgba(221, 9, 140, 0.2639639675617218); padding: 1px 5px; border: solid 3px ; border-color: rgba(221, 9, 140, 1); #EFEFEF\">the viewer</span> <span style=\"background-color: rgba(221, 9, 140, 0.21126678586006165); padding: 1px 5px; border: solid 3px ; border-color: rgba(221, 9, 140, 1); #EFEFEF\">to believe</span> <span style=\"background-color: rgba(221, 9, 140, 0.2592422664165497); padding: 1px 5px; border: solid 3px ; border-color: rgba(221, 9, 140, 1); #EFEFEF\">Nora</span> <span style=\"background-color: rgba(221, 9, 140, 0.40248534083366394); padding: 1px 5px; border: solid 3px ; border-color: rgba(221, 9, 140, 1); #EFEFEF\">somehow</span> <span style=\"background-color: rgba(221, 9, 140, 0.2219066023826599); padding: 1px 5px; border: solid 3px ; border-color: rgba(221, 9, 140, 1); #EFEFEF\">will find</span> <span style=\"background-color: rgba(221, 9, 140, 0.5523578524589539); padding: 1px 5px; border: solid 3px ; border-color: rgba(221, 9, 140, 1); #EFEFEF\">happiness</span> <span style=\"background-color: rgba(233,30,99,0);  padding: 1px 5px; border: solid 3px ; border-color:  rgba(233,30,99,0); #EFEFEF\">although</span> <span style=\"background-color: rgba(221, 9, 140, 0.25466254353523254); padding: 1px 5px; border: solid 3px ; border-color: rgba(221, 9, 140, 1); #EFEFEF\">given</span> <span style=\"background-color: rgba(221, 9, 140, 0.2606918215751648); padding: 1px 5px; border: solid 3px ; border-color: rgba(221, 9, 140, 1); #EFEFEF\">her circumstances</span> <span style=\"background-color: rgba(221, 9, 140, 0.2924157977104187); padding: 1px 5px; border: solid 3px ; border-color: rgba(221, 9, 140, 1); #EFEFEF\">in</span> <span style=\"background-color: rgba(221, 9, 140, 0.3680395483970642); padding: 1px 5px; border: solid 3px ; border-color: rgba(221, 9, 140, 1); #EFEFEF\">real life</span> <span style=\"background-color: rgba(221, 9, 140, 0.2204885631799698); padding: 1px 5px; border: solid 3px ; border-color: rgba(221, 9, 140, 1); #EFEFEF\">the chances</span> <span style=\"background-color: rgba(221, 9, 140, 0.4362190067768097); padding: 1px 5px; border: solid 3px ; border-color: rgba(221, 9, 140, 1); #EFEFEF\">are</span> <span style=\"background-color: rgba(221, 9, 140, 0.4030941426753998); padding: 1px 5px; border: solid 3px ; border-color: rgba(221, 9, 140, 1); #EFEFEF\">equivalent</span> <span style=\"background-color: rgba(221, 9, 140, 0.37610340118408203); padding: 1px 5px; border: solid 3px ; border-color: rgba(221, 9, 140, 1); #EFEFEF\">to</span> <span style=\"background-color: rgba(221, 9, 140, 0.4465470612049103); padding: 1px 5px; border: solid 3px ; border-color: rgba(221, 9, 140, 1); #EFEFEF\">a snow ball</span> <span style=\"background-color: rgba(233,30,99,0);  padding: 1px 5px; border: solid 3px ; border-color:  rgba(233,30,99,0); #EFEFEF\">'s chance</span> <span style=\"background-color: rgba(221, 9, 140, 0.4348149299621582); padding: 1px 5px; border: solid 3px ; border-color: rgba(221, 9, 140, 1); #EFEFEF\">in</span> <span style=\"background-color: rgba(221, 9, 140, 0.43907368183135986); padding: 1px 5px; border: solid 3px ; border-color: rgba(221, 9, 140, 1); #EFEFEF\">hell</span> </div>"
      ],
      "text/plain": [
       "<IPython.core.display.HTML object>"
      ]
     },
     "metadata": {},
     "output_type": "display_data"
    },
    {
     "data": {
      "text/html": [
       "<br><br>"
      ],
      "text/plain": [
       "<IPython.core.display.HTML object>"
      ]
     },
     "metadata": {},
     "output_type": "display_data"
    },
    {
     "data": {
      "text/html": [
       "<div style='display: flex; width: 400px; flex-wrap: wrap'><span style=\"background-color: rgba(221, 90, 9,  0.9990384578704834); padding: 1px 5px; border: solid 3px ; border-color: rgba(221, 90, 9,  1); #EFEFEF\">The movie</span> <span style=\"background-color: rgba(221, 90, 9,  0.6370266079902649); padding: 1px 5px; border: solid 3px ; border-color: rgba(221, 90, 9,  1); #EFEFEF\">starts</span> <span style=\"background-color: rgba(221, 90, 9,  0.27656787633895874); padding: 1px 5px; border: solid 3px ; border-color: rgba(221, 90, 9,  1); #EFEFEF\">with</span> <span style=\"background-color: rgba(221, 90, 9,  0.64610356092453); padding: 1px 5px; border: solid 3px ; border-color: rgba(221, 90, 9,  1); #EFEFEF\">a pair</span> <span style=\"background-color: rgba(221, 90, 9,  0.4295789897441864); padding: 1px 5px; border: solid 3px ; border-color: rgba(221, 90, 9,  1); #EFEFEF\">of</span> <span style=\"background-color: rgba(221, 90, 9,  0.4095451533794403); padding: 1px 5px; border: solid 3px ; border-color: rgba(221, 90, 9,  1); #EFEFEF\">campers</span> <span style=\"background-color: rgba(221, 90, 9,  0.5277755260467529); padding: 1px 5px; border: solid 3px ; border-color: rgba(221, 90, 9,  1); #EFEFEF\">a man</span> <span style=\"background-color: rgba(221, 90, 9,  0.5392006039619446); padding: 1px 5px; border: solid 3px ; border-color: rgba(221, 90, 9,  1); #EFEFEF\">a woman</span> <span style=\"background-color: rgba(221, 90, 9,  0.6344782114028931); padding: 1px 5px; border: solid 3px ; border-color: rgba(221, 90, 9,  1); #EFEFEF\">presumably together</span> <span style=\"background-color: rgba(221, 90, 9,  0.4603261649608612); padding: 1px 5px; border: solid 3px ; border-color: rgba(221, 90, 9,  1); #EFEFEF\">hiking</span> <span style=\"background-color: rgba(221, 90, 9,  0.4083334803581238); padding: 1px 5px; border: solid 3px ; border-color: rgba(221, 90, 9,  1); #EFEFEF\">alone</span> <span style=\"background-color: rgba(221, 90, 9,  0.41329553723335266); padding: 1px 5px; border: solid 3px ; border-color: rgba(221, 90, 9,  1); #EFEFEF\">in</span> <span style=\"background-color: rgba(221, 90, 9,  0.49240392446517944); padding: 1px 5px; border: solid 3px ; border-color: rgba(221, 90, 9,  1); #EFEFEF\">the vast wilderness</span> </div>"
      ],
      "text/plain": [
       "<IPython.core.display.HTML object>"
      ]
     },
     "metadata": {},
     "output_type": "display_data"
    },
    {
     "data": {
      "text/html": [
       "<br><br>"
      ],
      "text/plain": [
       "<IPython.core.display.HTML object>"
      ]
     },
     "metadata": {},
     "output_type": "display_data"
    },
    {
     "data": {
      "text/html": [
       "<div style='display: flex; width: 400px; flex-wrap: wrap'><span style=\"background-color: rgba(221, 90, 9,  0.5977408289909363); padding: 1px 5px; border: solid 3px ; border-color: rgba(221, 90, 9,  1); #EFEFEF\">His character</span> <span style=\"background-color: rgba(221, 90, 9,  0.7251297235488892); padding: 1px 5px; border: solid 3px ; border-color: rgba(221, 90, 9,  1); #EFEFEF\">is never quite defined</span> <span style=\"background-color: rgba(221, 90, 9,  0.2666316032409668); padding: 1px 5px; border: solid 3px ; border-color: rgba(221, 90, 9,  1); #EFEFEF\">he</span> <span style=\"background-color: rgba(221, 90, 9,  0.9461956024169922); padding: 1px 5px; border: solid 3px ; border-color: rgba(221, 90, 9,  1); #EFEFEF\">lacks</span> <span style=\"background-color: rgba(221, 90, 9,  0.9993302822113037); padding: 1px 5px; border: solid 3px ; border-color: rgba(221, 90, 9,  1); #EFEFEF\">true motive</span> <span style=\"background-color: rgba(221, 90, 9,  0.8300417065620422); padding: 1px 5px; border: solid 3px ; border-color: rgba(221, 90, 9,  1); #EFEFEF\">his loyalties</span> <span style=\"background-color: rgba(233,30,99,0);  padding: 1px 5px; border: solid 3px ; border-color:  rgba(233,30,99,0); #EFEFEF\">remain</span> <span style=\"background-color: rgba(221, 90, 9,  0.20204892754554749); padding: 1px 5px; border: solid 3px ; border-color: rgba(221, 90, 9,  1); #EFEFEF\">uncertain</span> </div>"
      ],
      "text/plain": [
       "<IPython.core.display.HTML object>"
      ]
     },
     "metadata": {},
     "output_type": "display_data"
    },
    {
     "data": {
      "text/html": [
       "<br><br>"
      ],
      "text/plain": [
       "<IPython.core.display.HTML object>"
      ]
     },
     "metadata": {},
     "output_type": "display_data"
    },
    {
     "data": {
      "text/html": [
       "<div style='display: flex; width: 400px; flex-wrap: wrap'><span style=\"background-color: rgba(221, 90, 9,  0.999502956867218); padding: 1px 5px; border: solid 3px ; border-color: rgba(221, 90, 9,  1); #EFEFEF\">Two-thirds</span> <span style=\"background-color: rgba(233,30,99,0);  padding: 1px 5px; border: solid 3px ; border-color:  rgba(233,30,99,0); #EFEFEF\">of</span> <span style=\"background-color: rgba(221, 90, 9,  0.4931202530860901); padding: 1px 5px; border: solid 3px ; border-color: rgba(221, 90, 9,  1); #EFEFEF\">the running time</span> <span style=\"background-color: rgba(221, 90, 9,  0.341405987739563); padding: 1px 5px; border: solid 3px ; border-color: rgba(221, 90, 9,  1); #EFEFEF\">is primarily devoted</span> <span style=\"background-color: rgba(233,30,99,0);  padding: 1px 5px; border: solid 3px ; border-color:  rgba(233,30,99,0); #EFEFEF\">to</span> <span style=\"background-color: rgba(233,30,99,0);  padding: 1px 5px; border: solid 3px ; border-color:  rgba(233,30,99,0); #EFEFEF\">the film</span> <span style=\"background-color: rgba(233,30,99,0);  padding: 1px 5px; border: solid 3px ; border-color:  rgba(233,30,99,0); #EFEFEF\">'s hero</span> <span style=\"background-color: rgba(233,30,99,0);  padding: 1px 5px; border: solid 3px ; border-color:  rgba(233,30,99,0); #EFEFEF\">Jack Brooks</span> <span style=\"background-color: rgba(233,30,99,0);  padding: 1px 5px; border: solid 3px ; border-color:  rgba(233,30,99,0); #EFEFEF\">a plumber and college student</span> <span style=\"background-color: rgba(233,30,99,0);  padding: 1px 5px; border: solid 3px ; border-color:  rgba(233,30,99,0); #EFEFEF\">as</span> <span style=\"background-color: rgba(233,30,99,0);  padding: 1px 5px; border: solid 3px ; border-color:  rgba(233,30,99,0); #EFEFEF\">he</span> <span style=\"background-color: rgba(233,30,99,0);  padding: 1px 5px; border: solid 3px ; border-color:  rgba(233,30,99,0); #EFEFEF\">goes</span> <span style=\"background-color: rgba(233,30,99,0);  padding: 1px 5px; border: solid 3px ; border-color:  rgba(233,30,99,0); #EFEFEF\">to</span> <span style=\"background-color: rgba(233,30,99,0);  padding: 1px 5px; border: solid 3px ; border-color:  rgba(233,30,99,0); #EFEFEF\">class</span> <span style=\"background-color: rgba(233,30,99,0);  padding: 1px 5px; border: solid 3px ; border-color:  rgba(233,30,99,0); #EFEFEF\">attempts to deal</span> <span style=\"background-color: rgba(233,30,99,0);  padding: 1px 5px; border: solid 3px ; border-color:  rgba(233,30,99,0); #EFEFEF\">with</span> <span style=\"background-color: rgba(233,30,99,0);  padding: 1px 5px; border: solid 3px ; border-color:  rgba(233,30,99,0); #EFEFEF\">his uncontrollable bursts</span> <span style=\"background-color: rgba(233,30,99,0);  padding: 1px 5px; border: solid 3px ; border-color:  rgba(233,30,99,0); #EFEFEF\">of</span> <span style=\"background-color: rgba(233,30,99,0);  padding: 1px 5px; border: solid 3px ; border-color:  rgba(233,30,99,0); #EFEFEF\">anger</span> </div>"
      ],
      "text/plain": [
       "<IPython.core.display.HTML object>"
      ]
     },
     "metadata": {},
     "output_type": "display_data"
    },
    {
     "data": {
      "text/html": [
       "<br><br>"
      ],
      "text/plain": [
       "<IPython.core.display.HTML object>"
      ]
     },
     "metadata": {},
     "output_type": "display_data"
    }
   ],
   "source": [
    "from cockatiel import occlusion_concepts, print_legend, viz_concepts\n",
    "import numpy as np\n",
    "\n",
    "n = 10 #number of reviews for each labels and each concept\n",
    "m_pos = 2 #number of concept looked for the positive class (we look the m_pos more importants)\n",
    "m_neg = 3 #number of concept looked for the negative class (we look the m_neg more importants)\n",
    "\n",
    "l_concept_id_pos = np.argsort(global_importance_pos)[::-1][:m_pos]\n",
    "l_concept_id_neg = np.argsort(global_importance_neg)[::-1][:m_neg]\n",
    "\n",
    "l_mip_sentences_pos, l_mip_sentences_neg = [], []\n",
    "\n",
    "# Add sentence of positive label\n",
    "\n",
    "for concept_id in l_concept_id_pos:\n",
    "\n",
    "    mip_sentences_ids = np.argsort(u_segments_pos[:, concept_id])[::-1][:n]\n",
    "    mip_sentences = np.array(segments_pos)[mip_sentences_ids]\n",
    "    l_mip_sentences_pos.append(mip_sentences)\n",
    "    \n",
    "    # Print the sentences for each concept\n",
    "    print(f\"Top sentences for Positive Concept {concept_id}:\")\n",
    "    for i, sentence in enumerate(mip_sentences):\n",
    "        print(f\"{i + 1}: {sentence}\")\n",
    "    print(\"\\n\")\n",
    "\n",
    "# Add sentence of negative label\n",
    "\n",
    "for concept_id in l_concept_id_neg:\n",
    "\n",
    "    mip_sentences_ids = np.argsort(u_segments_neg[:, concept_id])[::-1][:n]\n",
    "    mip_sentences = np.array(segments_neg)[mip_sentences_ids]\n",
    "    l_mip_sentences_neg.append(mip_sentences)\n",
    "\n",
    "l_mip_sentences_pos = np.array(l_mip_sentences_pos)\n",
    "l_mip_sentences_pos = l_mip_sentences_pos.flatten()\n",
    "l_mip_sentences_neg = np.array(l_mip_sentences_neg)\n",
    "l_mip_sentences_neg = l_mip_sentences_neg.flatten()\n",
    "\n",
    "\n",
    "\n",
    "# Create dictionnaries for legend with a color for each concept:\n",
    "# Use m_pos+m_neg concepts, so we have to create a dictionnary \"colors\" with m_pos+m_neg colors. \n",
    "# In the dictionnary \"label_to_criterion\", add the corresponding concept for each color.\n",
    "\n",
    "colors = {\n",
    "    0: \"rgba(9, 221, 55, \", #green\n",
    "    1: \"rgba(9, 221, 161, \", #turquoise\n",
    "    #2: \"rgba(9, 175, 221, \", #blue\n",
    "    2: \"rgba(221, 9, 34, \", #red\n",
    "    3: \"rgba(221, 9, 140,\", #pink\n",
    "    4: \"rgba(221, 90, 9, \", #orange\n",
    "}\n",
    "\n",
    "label_to_criterion = {\n",
    "    0: \"Positive label: concept1\",\n",
    "    1: \"Positive label: concept2\",\n",
    "    #2: \"Positive label: concept3\",\n",
    "    2: \"Negative label: concept1\",\n",
    "    3: \"Negative label: concept2\",\n",
    "    4: \"Negative label: concept3\",\n",
    "}\n",
    "\n",
    "\n",
    "#sanity check:\n",
    "if len(label_to_criterion.keys()) != len(colors.keys()) or len(label_to_criterion.keys()) != (m_pos + m_neg):\n",
    "    print(\"Error: check that you have the correct number of colors and labels in your dictionaries to cover the number of concepts being looked at\")\n",
    "\n",
    "\n",
    "\n",
    "print_legend(colors, label_to_criterion)\n",
    "\n",
    "print(\"positive predicted reviews:\")\n",
    "print(\"\\n\")\n",
    "i = 0\n",
    "for sentence in l_mip_sentences_pos:\n",
    "    if i%n == 0 :\n",
    "        print(\"\\n\")\n",
    "        print(str(n) + \" most important reviews for positive predicted label - concept\" + str(i//n + 1) +\":\")\n",
    "        print(\"\\n\")\n",
    "    phi = occlusion_concepts(sentence, model, tokenizer, [factorization_pos, factorization_neg], [l_concept_id_pos, l_concept_id_neg], ignore_words = [], two_labels = True, device = device)\n",
    "    phi /= np.max(np.abs(phi)) + 1e-5\n",
    "    viz_concepts(sentence, phi, colors, ignore_words = [])\n",
    "    i += 1\n",
    "\n",
    "print(\"\\n\")\n",
    "print(\"negative predicted reviews:\")\n",
    "print(\"\\n\")\n",
    "\n",
    "i = 0\n",
    "for sentence in l_mip_sentences_neg:\n",
    "\n",
    "    if i%n == 0 :\n",
    "        print(\"\\n\")\n",
    "        print(str(n) + \" most important reviews for negative predicted label - concept\" + str(i//n + 1) +\":\")\n",
    "        print(\"\\n\")\n",
    "    phi = occlusion_concepts(sentence,  model, tokenizer, [factorization_pos, factorization_neg], [l_concept_id_pos, l_concept_id_neg], ignore_words = [], two_labels = True, device = device)\n",
    "    phi /= np.max(np.abs(phi)) + 1e-5\n",
    "    viz_concepts(sentence, phi, colors, ignore_words = [])\n",
    "    i +=1"
   ]
  },
  {
   "cell_type": "markdown",
   "id": "0eda8414-2298-4e01-ac37-518467188744",
   "metadata": {
    "jp-MarkdownHeadingCollapsed": true,
    "tags": []
   },
   "source": [
    "#### Test on samples draft"
   ]
  },
  {
   "cell_type": "code",
   "execution_count": 25,
   "id": "4e3eb58d-a8e0-411d-a305-08667d392b57",
   "metadata": {
    "collapsed": true,
    "jupyter": {
     "outputs_hidden": true
    },
    "tags": []
   },
   "outputs": [
    {
     "data": {
      "text/html": [
       "<div style='display: flex; width: 400px; flex-wrap: wrap'><span style=\"background-color: rgba(9, 221, 55,  0.7320152521133423); padding: 1px 5px; border: solid 3px ; border-color: rgba(9, 221, 55,  1); #EFEFEF\">This product</span> <span style=\"background-color: rgba(9, 221, 55,  0.34192559123039246); padding: 1px 5px; border: solid 3px ; border-color: rgba(9, 221, 55,  1); #EFEFEF\">is</span> <span style=\"background-color: rgba(9, 221, 55,  0.5111169815063477); padding: 1px 5px; border: solid 3px ; border-color: rgba(9, 221, 55,  1); #EFEFEF\">worth</span> <span style=\"background-color: rgba(9, 221, 55,  0.7999067902565002); padding: 1px 5px; border: solid 3px ; border-color: rgba(9, 221, 55,  1); #EFEFEF\">the price</span> <span style=\"background-color: rgba(9, 221, 55,  0.7224363684654236); padding: 1px 5px; border: solid 3px ; border-color: rgba(9, 221, 55,  1); #EFEFEF\">It</span> <span style=\"background-color: rgba(9, 221, 55,  0.5747390985488892); padding: 1px 5px; border: solid 3px ; border-color: rgba(9, 221, 55,  1); #EFEFEF\">is</span> <span style=\"background-color: rgba(9, 221, 55,  0.9837241172790527); padding: 1px 5px; border: solid 3px ; border-color: rgba(9, 221, 55,  1); #EFEFEF\">poorly made</span> <span style=\"background-color: rgba(9, 221, 55,  0.7088117003440857); padding: 1px 5px; border: solid 3px ; border-color: rgba(9, 221, 55,  1); #EFEFEF\">does not work</span> <span style=\"background-color: rgba(9, 221, 55,  0.7861504554748535); padding: 1px 5px; border: solid 3px ; border-color: rgba(9, 221, 55,  1); #EFEFEF\">as</span> <span style=\"background-color: rgba(9, 221, 55,  0.8557248711585999); padding: 1px 5px; border: solid 3px ; border-color: rgba(9, 221, 55,  1); #EFEFEF\">advertised</span> <span style=\"background-color: rgba(9, 221, 55,  0.5318257212638855); padding: 1px 5px; border: solid 3px ; border-color: rgba(9, 221, 55,  1); #EFEFEF\">However</span> <span style=\"background-color: rgba(9, 221, 55,  0.789777934551239); padding: 1px 5px; border: solid 3px ; border-color: rgba(9, 221, 55,  1); #EFEFEF\">it</span> <span style=\"background-color: rgba(9, 221, 55,  0.7573232650756836); padding: 1px 5px; border: solid 3px ; border-color: rgba(9, 221, 55,  1); #EFEFEF\">is</span> <span style=\"background-color: rgba(9, 221, 55,  0.662036657333374); padding: 1px 5px; border: solid 3px ; border-color: rgba(9, 221, 55,  1); #EFEFEF\">still</span> <span style=\"background-color: rgba(9, 221, 55,  0.6046871542930603); padding: 1px 5px; border: solid 3px ; border-color: rgba(9, 221, 55,  1); #EFEFEF\">usable</span> <span style=\"background-color: rgba(9, 221, 55,  0.9964906573295593); padding: 1px 5px; border: solid 3px ; border-color: rgba(9, 221, 55,  1); #EFEFEF\">if</span> <span style=\"background-color: rgba(9, 221, 55,  0.7332302927970886); padding: 1px 5px; border: solid 3px ; border-color: rgba(9, 221, 55,  1); #EFEFEF\">you</span> <span style=\"background-color: rgba(9, 221, 55,  0.8020954728126526); padding: 1px 5px; border: solid 3px ; border-color: rgba(9, 221, 55,  1); #EFEFEF\">are</span> <span style=\"background-color: rgba(9, 221, 55,  0.7506216168403625); padding: 1px 5px; border: solid 3px ; border-color: rgba(9, 221, 55,  1); #EFEFEF\">on</span> <span style=\"background-color: rgba(9, 221, 55,  0.657633900642395); padding: 1px 5px; border: solid 3px ; border-color: rgba(9, 221, 55,  1); #EFEFEF\">a tight budget</span> </div>"
      ],
      "text/plain": [
       "<IPython.core.display.HTML object>"
      ]
     },
     "metadata": {},
     "output_type": "display_data"
    },
    {
     "data": {
      "text/html": [
       "<br><br>"
      ],
      "text/plain": [
       "<IPython.core.display.HTML object>"
      ]
     },
     "metadata": {},
     "output_type": "display_data"
    },
    {
     "data": {
      "text/html": [
       "<div style='display: flex; width: 400px; flex-wrap: wrap'><span style=\"background-color: rgba(221, 9, 140, 0.8776864409446716); padding: 1px 5px; border: solid 3px ; border-color: rgba(221, 9, 140, 1); #EFEFEF\">The customer service</span> <span style=\"background-color: rgba(221, 9, 140, 0.5852733254432678); padding: 1px 5px; border: solid 3px ; border-color: rgba(221, 9, 140, 1); #EFEFEF\">from</span> <span style=\"background-color: rgba(221, 9, 140, 0.8744384050369263); padding: 1px 5px; border: solid 3px ; border-color: rgba(221, 9, 140, 1); #EFEFEF\">this company</span> <span style=\"background-color: rgba(221, 9, 140, 0.7884944081306458); padding: 1px 5px; border: solid 3px ; border-color: rgba(221, 9, 140, 1); #EFEFEF\">is</span> <span style=\"background-color: rgba(221, 9, 140, 0.9262779355049133); padding: 1px 5px; border: solid 3px ; border-color: rgba(221, 9, 140, 1); #EFEFEF\">terrible</span> <span style=\"background-color: rgba(221, 9, 140, 0.5874383449554443); padding: 1px 5px; border: solid 3px ; border-color: rgba(221, 9, 140, 1); #EFEFEF\">They</span> <span style=\"background-color: rgba(221, 9, 140, 0.8146105408668518); padding: 1px 5px; border: solid 3px ; border-color: rgba(221, 9, 140, 1); #EFEFEF\">were</span> <span style=\"background-color: rgba(221, 9, 140, 0.9947877526283264); padding: 1px 5px; border: solid 3px ; border-color: rgba(221, 9, 140, 1); #EFEFEF\">rude and unhelpful</span> <span style=\"background-color: rgba(221, 9, 140, 0.35816600918769836); padding: 1px 5px; border: solid 3px ; border-color: rgba(221, 9, 140, 1); #EFEFEF\">when</span> <span style=\"background-color: rgba(221, 9, 140, 0.7598495483398438); padding: 1px 5px; border: solid 3px ; border-color: rgba(221, 9, 140, 1); #EFEFEF\">I</span> <span style=\"background-color: rgba(221, 9, 140, 0.983818531036377); padding: 1px 5px; border: solid 3px ; border-color: rgba(221, 9, 140, 1); #EFEFEF\">tried to contact</span> <span style=\"background-color: rgba(221, 9, 140, 0.7654264569282532); padding: 1px 5px; border: solid 3px ; border-color: rgba(221, 9, 140, 1); #EFEFEF\">them</span> <span style=\"background-color: rgba(221, 9, 140, 0.7743342518806458); padding: 1px 5px; border: solid 3px ; border-color: rgba(221, 9, 140, 1); #EFEFEF\">about</span> <span style=\"background-color: rgba(221, 9, 140, 0.602369487285614); padding: 1px 5px; border: solid 3px ; border-color: rgba(221, 9, 140, 1); #EFEFEF\">a problem</span> <span style=\"background-color: rgba(221, 9, 140, 0.6517236232757568); padding: 1px 5px; border: solid 3px ; border-color: rgba(221, 9, 140, 1); #EFEFEF\">with</span> <span style=\"background-color: rgba(221, 9, 140, 0.7236931324005127); padding: 1px 5px; border: solid 3px ; border-color: rgba(221, 9, 140, 1); #EFEFEF\">my order</span> <span style=\"background-color: rgba(221, 9, 140, 0.4362905025482178); padding: 1px 5px; border: solid 3px ; border-color: rgba(221, 9, 140, 1); #EFEFEF\">However</span> <span style=\"background-color: rgba(221, 9, 140, 0.6868538856506348); padding: 1px 5px; border: solid 3px ; border-color: rgba(221, 9, 140, 1); #EFEFEF\">they</span> <span style=\"background-color: rgba(221, 9, 140, 0.6393617391586304); padding: 1px 5px; border: solid 3px ; border-color: rgba(221, 9, 140, 1); #EFEFEF\">did eventually resolve</span> <span style=\"background-color: rgba(221, 9, 140, 0.6516412496566772); padding: 1px 5px; border: solid 3px ; border-color: rgba(221, 9, 140, 1); #EFEFEF\">the issue</span> </div>"
      ],
      "text/plain": [
       "<IPython.core.display.HTML object>"
      ]
     },
     "metadata": {},
     "output_type": "display_data"
    },
    {
     "data": {
      "text/html": [
       "<br><br>"
      ],
      "text/plain": [
       "<IPython.core.display.HTML object>"
      ]
     },
     "metadata": {},
     "output_type": "display_data"
    },
    {
     "data": {
      "text/html": [
       "<div style='display: flex; width: 400px; flex-wrap: wrap'><span style=\"background-color: rgba(9, 221, 55,  0.8531356453895569); padding: 1px 5px; border: solid 3px ; border-color: rgba(9, 221, 55,  1); #EFEFEF\">This product</span> <span style=\"background-color: rgba(9, 221, 55,  0.8933447599411011); padding: 1px 5px; border: solid 3px ; border-color: rgba(9, 221, 55,  1); #EFEFEF\">is</span> <span style=\"background-color: rgba(9, 221, 55,  0.8435327410697937); padding: 1px 5px; border: solid 3px ; border-color: rgba(9, 221, 55,  1); #EFEFEF\">what</span> <span style=\"background-color: rgba(9, 221, 55,  0.7906684875488281); padding: 1px 5px; border: solid 3px ; border-color: rgba(9, 221, 55,  1); #EFEFEF\">I</span> <span style=\"background-color: rgba(9, 221, 55,  0.9976485371589661); padding: 1px 5px; border: solid 3px ; border-color: rgba(9, 221, 55,  1); #EFEFEF\">expected</span> <span style=\"background-color: rgba(9, 221, 55,  0.8644490242004395); padding: 1px 5px; border: solid 3px ; border-color: rgba(9, 221, 55,  1); #EFEFEF\">It</span> <span style=\"background-color: rgba(9, 221, 55,  0.7580153346061707); padding: 1px 5px; border: solid 3px ; border-color: rgba(9, 221, 55,  1); #EFEFEF\">is</span> <span style=\"background-color: rgba(9, 221, 55,  0.46581947803497314); padding: 1px 5px; border: solid 3px ; border-color: rgba(9, 221, 55,  1); #EFEFEF\">as good</span> <span style=\"background-color: rgba(9, 221, 55,  0.7138599157333374); padding: 1px 5px; border: solid 3px ; border-color: rgba(9, 221, 55,  1); #EFEFEF\">as</span> <span style=\"background-color: rgba(9, 221, 55,  0.5824583172798157); padding: 1px 5px; border: solid 3px ; border-color: rgba(9, 221, 55,  1); #EFEFEF\">the reviews</span> <span style=\"background-color: rgba(9, 221, 55,  0.7968130707740784); padding: 1px 5px; border: solid 3px ; border-color: rgba(9, 221, 55,  1); #EFEFEF\">said</span> <span style=\"background-color: rgba(9, 221, 55,  0.7737942934036255); padding: 1px 5px; border: solid 3px ; border-color: rgba(9, 221, 55,  1); #EFEFEF\">it</span> <span style=\"background-color: rgba(9, 221, 55,  0.8162767887115479); padding: 1px 5px; border: solid 3px ; border-color: rgba(9, 221, 55,  1); #EFEFEF\">was</span> <span style=\"background-color: rgba(9, 221, 55,  0.8202040791511536); padding: 1px 5px; border: solid 3px ; border-color: rgba(9, 221, 55,  1); #EFEFEF\">However</span> <span style=\"background-color: rgba(9, 221, 55,  0.8787609338760376); padding: 1px 5px; border: solid 3px ; border-color: rgba(9, 221, 55,  1); #EFEFEF\">it</span> <span style=\"background-color: rgba(9, 221, 55,  0.8393695950508118); padding: 1px 5px; border: solid 3px ; border-color: rgba(9, 221, 55,  1); #EFEFEF\">is</span> <span style=\"background-color: rgba(9, 221, 55,  0.6162207126617432); padding: 1px 5px; border: solid 3px ; border-color: rgba(9, 221, 55,  1); #EFEFEF\">still</span> <span style=\"background-color: rgba(9, 221, 55,  0.9076655507087708); padding: 1px 5px; border: solid 3px ; border-color: rgba(9, 221, 55,  1); #EFEFEF\">functional</span> <span style=\"background-color: rgba(9, 221, 55,  0.8461667895317078); padding: 1px 5px; border: solid 3px ; border-color: rgba(9, 221, 55,  1); #EFEFEF\">can be used</span> <span style=\"background-color: rgba(9, 221, 55,  0.8754457235336304); padding: 1px 5px; border: solid 3px ; border-color: rgba(9, 221, 55,  1); #EFEFEF\">for</span> <span style=\"background-color: rgba(9, 221, 55,  0.8907586336135864); padding: 1px 5px; border: solid 3px ; border-color: rgba(9, 221, 55,  1); #EFEFEF\">its intended purpose</span> </div>"
      ],
      "text/plain": [
       "<IPython.core.display.HTML object>"
      ]
     },
     "metadata": {},
     "output_type": "display_data"
    },
    {
     "data": {
      "text/html": [
       "<br><br>"
      ],
      "text/plain": [
       "<IPython.core.display.HTML object>"
      ]
     },
     "metadata": {},
     "output_type": "display_data"
    }
   ],
   "source": [
    "sentences = negative_reviews\n",
    "\n",
    "for sentence in sentences:\n",
    "\n",
    "    phi = occlusion_concepts(sentence, model, tokenizer, [factorization_pos, factorization_neg], \n",
    "                             [l_concept_id_pos, l_concept_id_neg], ignore_words = [], extract_fct=\"clause\", \n",
    "                             two_labels = True, device = device)\n",
    "    \n",
    "    phi /= np.max(np.abs(phi)) + 1e-5\n",
    "    \n",
    "    viz_concepts(sentence, phi, colors, ignore_words = [])"
   ]
  },
  {
   "cell_type": "markdown",
   "id": "5dad65eb-e375-4bad-a298-0b65199435ce",
   "metadata": {
    "jp-MarkdownHeadingCollapsed": true,
    "tags": []
   },
   "source": [
    "#### Concept text'lerini yazdırma - draft"
   ]
  },
  {
   "cell_type": "code",
   "execution_count": 23,
   "id": "f901dc8f-caee-4c41-b257-fb6a95214117",
   "metadata": {
    "collapsed": true,
    "jupyter": {
     "outputs_hidden": true
    },
    "tags": []
   },
   "outputs": [
    {
     "name": "stdout",
     "output_type": "stream",
     "text": [
      "Top sentences for Positive Concept 0:\n",
      "1: Directed by Samuel Fuller, who also wrote the screenplay, Pickup on South Street is a tough, brutal, well made film about a pickpocket (Richard Widmark) who inadvertently aquires top-secret microfilm and becomes a target for espionage agents.\n",
      "2: Haunting long takes, a gritty soundtrack to accentuate the guilt, barking dogs.\n",
      "3: It is a psychological thriller.\n",
      "4: Standing out strongly is its sultrily lurid and bleak nature that's intrusively planted into the film's psychological makeup and manipulative strangle hold in sexual depravity.\n",
      "5: The former prizefighter, who once faced Joe Louis in the ring, delivers an Academy Award-winning portrayal of disgraced IRA soldier Gypo Nolan on the worst night of his life.\n",
      "6: A River Runs Through It is based on the true story of two fly fishing brothers, Norman and Paul, (Brad Pitt and Craig Sheffer) whose Reverend father (Tom Skerritt) is a strict man whose two passions are his faith and fly fishing, - and, for him and his sons, there is a fine line between the two.\n",
      "7: Carter's depiction of an ALS victim is strong, perhaps even overdone at times (sometimes her dialog dissolves into undistinguishable mutterings).\n",
      "8: I just re-watched this thriller, one I had previously believed to be one of Hitch's lesser efforts.\n",
      "9: New York lensed horror film (filmed in part on Staten Island which no doubt brought the spirit of Andy Milligan lurking about) is one of the better horror comedies to come around in a while.\n",
      "10: The film  written and directed entirely by Anthony Waller  is a tense, action-packed thriller with black comedy aspects and horror influences.\n",
      "\n",
      "\n",
      "Top sentences for Positive Concept 2:\n",
      "1: It is a great loss.\n",
      "2: He was just that beautiful.\n",
      "3: I so wanted Ben and Emily to be together, but in the end, they were, forever.\n",
      "4: Always makes me cry.\n",
      "5: Losing your love is painful beyond belief, and many who do so will never feel something like that again.\n",
      "6: There are moments that will bring tears to your eyes as well.\n",
      "7: I will never forget.\n",
      "8: The love and support of the family members is evident throughout.\n",
      "9: It fills you with pride.\n",
      "10: Thankyou.\n",
      "\n",
      "\n"
     ]
    }
   ],
   "source": [
    "from cockatiel import occlusion_concepts, print_legend, viz_concepts\n",
    "import numpy as np\n",
    "\n",
    "n = 10 #number of reviews for each labels and each concept\n",
    "m_pos = 2 #number of concept looked for the positive class (we look the m_pos more importants)\n",
    "m_neg = 3 #number of concept looked for the negative class (we look the m_neg more importants)\n",
    "\n",
    "l_concept_id_pos = np.argsort(global_importance_pos)[::-1][:m_pos]\n",
    "l_concept_id_neg = np.argsort(global_importance_neg)[::-1][:m_neg]\n",
    "\n",
    "l_mip_sentences_pos, l_mip_sentences_neg = [], []\n",
    "\n",
    "# Add sentence of positive label\n",
    "\n",
    "for concept_id in l_concept_id_pos:\n",
    "\n",
    "    mip_sentences_ids = np.argsort(u_segments_pos[:, concept_id])[::-1][:n]\n",
    "    mip_sentences = np.array(segments_pos)[mip_sentences_ids]\n",
    "    l_mip_sentences_pos.append(mip_sentences)"
   ]
  },
  {
   "cell_type": "code",
   "execution_count": 35,
   "id": "6430f4ba-fad3-4066-a511-e933b0206e7b",
   "metadata": {
    "tags": []
   },
   "outputs": [
    {
     "data": {
      "text/plain": [
       "array([0, 2], dtype=int64)"
      ]
     },
     "execution_count": 35,
     "metadata": {},
     "output_type": "execute_result"
    }
   ],
   "source": [
    "segments_pos, u_segments_pos, factorization_pos, global_importance_pos"
   ]
  },
  {
   "cell_type": "code",
   "execution_count": 42,
   "id": "212e141f-355c-4657-9a6e-cf3d33db02ac",
   "metadata": {
    "tags": []
   },
   "outputs": [
    {
     "data": {
      "text/plain": [
       "array([6.3025874e-01, 5.2990275e-04, 5.4627560e-02, 6.0897958e-03,\n",
       "       6.4521941e-05, 3.2928057e-03, 2.4939874e-02, 1.1226312e-02,\n",
       "       1.5390346e-02, 2.0040879e-03, 8.0058854e-03, 2.4497129e-03,\n",
       "       1.2709717e-04, 2.8340658e-04, 3.5288630e-04, 6.9555977e-06,\n",
       "       5.2201084e-04, 6.8772490e-05, 6.0184843e-06, 2.5940142e-05],\n",
       "      dtype=float32)"
      ]
     },
     "execution_count": 42,
     "metadata": {},
     "output_type": "execute_result"
    }
   ],
   "source": [
    "global_importance_pos"
   ]
  },
  {
   "cell_type": "code",
   "execution_count": 26,
   "id": "b936a434-8593-45ac-afef-03c8b1913a83",
   "metadata": {
    "tags": []
   },
   "outputs": [
    {
     "data": {
      "text/plain": [
       "array([11217, 11615, 21227, 25806, 25795, 41604,  3233,  4704, 46838,\n",
       "        8092], dtype=int64)"
      ]
     },
     "execution_count": 26,
     "metadata": {},
     "output_type": "execute_result"
    }
   ],
   "source": [
    "mip_sentences_ids"
   ]
  },
  {
   "cell_type": "code",
   "execution_count": 25,
   "id": "4f34a900-1fc4-4095-8c6e-fc7a7c789489",
   "metadata": {},
   "outputs": [
    {
     "data": {
      "text/plain": [
       "array([0, 2], dtype=int64)"
      ]
     },
     "execution_count": 25,
     "metadata": {},
     "output_type": "execute_result"
    }
   ],
   "source": [
    "l_concept_id_pos"
   ]
  },
  {
   "cell_type": "code",
   "execution_count": 28,
   "id": "25e10cee-6aaa-4fc0-9554-21af19de34b9",
   "metadata": {
    "tags": []
   },
   "outputs": [
    {
     "data": {
      "text/plain": [
       "array([0.01092248, 0.        , 0.02173545, 0.04917249, 0.        ,\n",
       "       0.        , 0.02094898, 0.02311426, 0.04949626, 0.        ,\n",
       "       0.01856751, 0.13514405, 0.        , 0.        , 0.19958098,\n",
       "       0.        , 0.07712366, 0.14546627, 0.        , 0.        ],\n",
       "      dtype=float32)"
      ]
     },
     "execution_count": 28,
     "metadata": {},
     "output_type": "execute_result"
    }
   ],
   "source": [
    "u_segments_pos[0]"
   ]
  },
  {
   "cell_type": "code",
   "execution_count": null,
   "id": "f9593ae3-597b-4e5e-870b-a26230ae4a97",
   "metadata": {},
   "outputs": [],
   "source": [
    "np.array(segments_pos)[mip_sentences_ids]"
   ]
  }
 ],
 "metadata": {
  "kernelspec": {
   "display_name": "cockatiel",
   "language": "python",
   "name": "cockatiel"
  },
  "language_info": {
   "codemirror_mode": {
    "name": "ipython",
    "version": 3
   },
   "file_extension": ".py",
   "mimetype": "text/x-python",
   "name": "python",
   "nbconvert_exporter": "python",
   "pygments_lexer": "ipython3",
   "version": "3.11.5"
  }
 },
 "nbformat": 4,
 "nbformat_minor": 5
}
