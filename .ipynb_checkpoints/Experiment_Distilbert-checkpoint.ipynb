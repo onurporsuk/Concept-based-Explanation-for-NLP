{
 "cells": [
  {
   "cell_type": "markdown",
   "id": "3105c5f2-a0ab-4305-af8a-f9c2fb068ed3",
   "metadata": {
    "tags": []
   },
   "source": [
    "# COCKATIEL on Different NLP Models"
   ]
  },
  {
   "cell_type": "markdown",
   "id": "b4243596-cd43-4cb9-9785-5e786d7bb064",
   "metadata": {
    "jp-MarkdownHeadingCollapsed": true,
    "tags": []
   },
   "source": [
    "## Set Up"
   ]
  },
  {
   "cell_type": "code",
   "execution_count": 1,
   "id": "3190607e-f830-4003-998c-741281378b3b",
   "metadata": {
    "tags": []
   },
   "outputs": [
    {
     "name": "stdout",
     "output_type": "stream",
     "text": [
      "C:\\Users\\onurp\\Desktop\\Analitik\\cockatiel\n"
     ]
    }
   ],
   "source": [
    "# Move the current path to the repo\n",
    "%cd \"../cockatiel/\""
   ]
  },
  {
   "cell_type": "code",
   "execution_count": 2,
   "id": "1e5a822d-33d7-44be-85ff-f0002a294292",
   "metadata": {},
   "outputs": [],
   "source": [
    "# Enable automatical module reload\n",
    "%load_ext autoreload\n",
    "%autoreload 2"
   ]
  },
  {
   "cell_type": "markdown",
   "id": "0825f288-3b65-465b-a27f-084e5e594b24",
   "metadata": {
    "jp-MarkdownHeadingCollapsed": true,
    "tags": []
   },
   "source": [
    "## Data Analysis and Preprocessing"
   ]
  },
  {
   "cell_type": "code",
   "execution_count": 3,
   "id": "286c6a64-ef2a-44a6-ad42-0f5e50b05322",
   "metadata": {
    "tags": []
   },
   "outputs": [],
   "source": [
    "import pandas as pd\n",
    "import numpy as np"
   ]
  },
  {
   "cell_type": "code",
   "execution_count": 4,
   "id": "6b1597a0-45bc-4699-835b-d02795d1041d",
   "metadata": {
    "tags": []
   },
   "outputs": [
    {
     "data": {
      "text/html": [
       "<div>\n",
       "<style scoped>\n",
       "    .dataframe tbody tr th:only-of-type {\n",
       "        vertical-align: middle;\n",
       "    }\n",
       "\n",
       "    .dataframe tbody tr th {\n",
       "        vertical-align: top;\n",
       "    }\n",
       "\n",
       "    .dataframe thead th {\n",
       "        text-align: right;\n",
       "    }\n",
       "</style>\n",
       "<table border=\"1\" class=\"dataframe\">\n",
       "  <thead>\n",
       "    <tr style=\"text-align: right;\">\n",
       "      <th></th>\n",
       "      <th>review</th>\n",
       "      <th>sentiment</th>\n",
       "    </tr>\n",
       "  </thead>\n",
       "  <tbody>\n",
       "    <tr>\n",
       "      <th>0</th>\n",
       "      <td>One of the other reviewers has mentioned that ...</td>\n",
       "      <td>positive</td>\n",
       "    </tr>\n",
       "    <tr>\n",
       "      <th>1</th>\n",
       "      <td>A wonderful little production. The filming tec...</td>\n",
       "      <td>positive</td>\n",
       "    </tr>\n",
       "    <tr>\n",
       "      <th>2</th>\n",
       "      <td>I thought this was a wonderful way to spend ti...</td>\n",
       "      <td>positive</td>\n",
       "    </tr>\n",
       "    <tr>\n",
       "      <th>3</th>\n",
       "      <td>Basically there's a family where a little boy ...</td>\n",
       "      <td>negative</td>\n",
       "    </tr>\n",
       "    <tr>\n",
       "      <th>4</th>\n",
       "      <td>Petter Mattei's Love in the Time of Money is a...</td>\n",
       "      <td>positive</td>\n",
       "    </tr>\n",
       "    <tr>\n",
       "      <th>...</th>\n",
       "      <td>...</td>\n",
       "      <td>...</td>\n",
       "    </tr>\n",
       "    <tr>\n",
       "      <th>49992</th>\n",
       "      <td>I thought this movie did a down right good job...</td>\n",
       "      <td>positive</td>\n",
       "    </tr>\n",
       "    <tr>\n",
       "      <th>49993</th>\n",
       "      <td>Bad plot, bad dialogue, bad acting, idiotic di...</td>\n",
       "      <td>negative</td>\n",
       "    </tr>\n",
       "    <tr>\n",
       "      <th>49994</th>\n",
       "      <td>I am a Catholic taught in parochial elementary...</td>\n",
       "      <td>negative</td>\n",
       "    </tr>\n",
       "    <tr>\n",
       "      <th>49995</th>\n",
       "      <td>I'm going to have to disagree with the previou...</td>\n",
       "      <td>negative</td>\n",
       "    </tr>\n",
       "    <tr>\n",
       "      <th>49996</th>\n",
       "      <td>No one expects the Star Trek movies to be high...</td>\n",
       "      <td>negative</td>\n",
       "    </tr>\n",
       "  </tbody>\n",
       "</table>\n",
       "<p>49997 rows × 2 columns</p>\n",
       "</div>"
      ],
      "text/plain": [
       "                                                  review sentiment\n",
       "0      One of the other reviewers has mentioned that ...  positive\n",
       "1      A wonderful little production. The filming tec...  positive\n",
       "2      I thought this was a wonderful way to spend ti...  positive\n",
       "3      Basically there's a family where a little boy ...  negative\n",
       "4      Petter Mattei's Love in the Time of Money is a...  positive\n",
       "...                                                  ...       ...\n",
       "49992  I thought this movie did a down right good job...  positive\n",
       "49993  Bad plot, bad dialogue, bad acting, idiotic di...  negative\n",
       "49994  I am a Catholic taught in parochial elementary...  negative\n",
       "49995  I'm going to have to disagree with the previou...  negative\n",
       "49996  No one expects the Star Trek movies to be high...  negative\n",
       "\n",
       "[49997 rows x 2 columns]"
      ]
     },
     "execution_count": 4,
     "metadata": {},
     "output_type": "execute_result"
    }
   ],
   "source": [
    "df_imbdb_clean = pd.read_csv('./data/IMDB_Dataset_clean.csv', index_col=0)\n",
    "df_imbdb_clean"
   ]
  },
  {
   "cell_type": "code",
   "execution_count": 5,
   "id": "70a5a771-b7e9-4a80-a9b9-aeebc9690cc7",
   "metadata": {
    "tags": []
   },
   "outputs": [
    {
     "name": "stdout",
     "output_type": "stream",
     "text": [
      "sentiment\n",
      "positive    24999\n",
      "negative    24998\n",
      "Name: count, dtype: int64\n"
     ]
    }
   ],
   "source": [
    "print(df_imbdb_clean['sentiment'].value_counts())"
   ]
  },
  {
   "cell_type": "code",
   "execution_count": 6,
   "id": "6441ae5f-f996-4e77-badd-8b8b950dd1c7",
   "metadata": {
    "tags": []
   },
   "outputs": [
    {
     "name": "stdout",
     "output_type": "stream",
     "text": [
      "Max number of words in a sentence: 500\n",
      "Min number of words in a sentence: 4\n",
      "Avg number of words in a sentence: 209\n"
     ]
    }
   ],
   "source": [
    "import matplotlib.pyplot as plt\n",
    "import seaborn as sns\n",
    "\n",
    "# Extract the word counts of each sentence \n",
    "lengths = [len(string.split()) for string in df_imbdb_clean['review']]\n",
    "\n",
    "print(\"Max number of words in a sentence:\", max(lengths))\n",
    "print(\"Min number of words in a sentence:\", min(lengths))\n",
    "print(\"Avg number of words in a sentence:\", round(sum(lengths) / len(lengths)))"
   ]
  },
  {
   "cell_type": "code",
   "execution_count": 7,
   "id": "1977925a-0292-4de9-8006-a22b04da2a73",
   "metadata": {
    "tags": []
   },
   "outputs": [
    {
     "data": {
      "image/png": "[encoded data removed]",
      "text/plain": [
       "<Figure size 2000x800 with 1 Axes>"
      ]
     },
     "metadata": {},
     "output_type": "display_data"
    }
   ],
   "source": [
    "# Generate a histogram to group the data points\n",
    "hist, bins = np.histogram(lengths, bins=150)\n",
    "\n",
    "# Create the histogram plot\n",
    "plt.figure(figsize=(20, 8))\n",
    "plt.hist(lengths, bins=bins, edgecolor='k')\n",
    "plt.xlabel('Number of Words in a Sentence')\n",
    "plt.ylabel('Number of Sentences')\n",
    "plt.title('Distribution of Word Counts in Sentences')\n",
    "plt.show()"
   ]
  },
  {
   "cell_type": "code",
   "execution_count": 8,
   "id": "287c2aa9-874d-4f82-92b1-4247fcb68756",
   "metadata": {
    "tags": []
   },
   "outputs": [
    {
     "data": {
      "text/plain": [
       "(49997, 2)"
      ]
     },
     "execution_count": 8,
     "metadata": {},
     "output_type": "execute_result"
    }
   ],
   "source": [
    "# Convert the dataset to numpy array\n",
    "data_np = np.array(df_imbdb_clean)\n",
    "data_np.shape"
   ]
  },
  {
   "cell_type": "markdown",
   "id": "8940aa4e-70f2-41ed-acf3-0629af3c4648",
   "metadata": {
    "jp-MarkdownHeadingCollapsed": true,
    "tags": []
   },
   "source": [
    "## Hyperparameters"
   ]
  },
  {
   "cell_type": "code",
   "execution_count": 9,
   "id": "4a209df4-a058-4ba1-a04c-1cf5228a675b",
   "metadata": {
    "tags": []
   },
   "outputs": [],
   "source": [
    "batch_size = 32"
   ]
  },
  {
   "cell_type": "markdown",
   "id": "02bb2a2f-b68c-46f8-8af9-301b774daa0d",
   "metadata": {},
   "source": [
    "## Load and Inspect Model"
   ]
  },
  {
   "cell_type": "code",
   "execution_count": 11,
   "id": "6a614d7f-f97b-4642-be16-e4b0ddfd92bb",
   "metadata": {
    "tags": []
   },
   "outputs": [
    {
     "name": "stdout",
     "output_type": "stream",
     "text": [
      "Selected component: cuda\n"
     ]
    }
   ],
   "source": [
    "import torch\n",
    "import torchsummary as ts \n",
    "\n",
    "# Set up GPU if it is available\n",
    "device = torch.device(\"cuda\") if torch.cuda.is_available() else torch.device(\"cpu\")\n",
    "print(\"Selected component:\", device)"
   ]
  },
  {
   "cell_type": "code",
   "execution_count": 12,
   "id": "ecf71e7e-2e72-44eb-90cd-bfa809487455",
   "metadata": {
    "tags": []
   },
   "outputs": [
    {
     "name": "stdout",
     "output_type": "stream",
     "text": [
      "2023-10-15 15:56:01,766 SequenceTagger predicts: Dictionary with 47 tags: O, S-NP, B-NP, E-NP, I-NP, S-VP, B-VP, E-VP, I-VP, S-PP, B-PP, E-PP, I-PP, S-ADVP, B-ADVP, E-ADVP, I-ADVP, S-SBAR, B-SBAR, E-SBAR, I-SBAR, S-ADJP, B-ADJP, E-ADJP, I-ADJP, S-PRT, B-PRT, E-PRT, I-PRT, S-CONJP, B-CONJP, E-CONJP, I-CONJP, S-INTJ, B-INTJ, E-INTJ, I-INTJ, S-LST, B-LST, E-LST, I-LST, S-UCP, B-UCP, E-UCP, I-UCP, <START>, <STOP>\n"
     ]
    },
    {
     "name": "stderr",
     "output_type": "stream",
     "text": [
      "[nltk_data] Downloading package punkt to\n",
      "[nltk_data]     C:\\Users\\onurp\\AppData\\Roaming\\nltk_data...\n",
      "[nltk_data]   Package punkt is already up-to-date!\n",
      "[nltk_data] Downloading package punkt to\n",
      "[nltk_data]     C:\\Users\\onurp\\AppData\\Roaming\\nltk_data...\n",
      "[nltk_data]   Package punkt is already up-to-date!\n",
      "Some weights of CustomDistilbertForSequenceClassification were not initialized from the model checkpoint at federicopascual/finetuned-sentiment-analysis-model and are newly initialized: ['classifier.out_proj.weight', 'classifier.dense.weight', 'classifier.dense.bias', 'classifier.out_proj.bias']\n",
      "You should probably TRAIN this model on a down-stream task to be able to use it for predictions and inference.\n"
     ]
    }
   ],
   "source": [
    "# Load the model and its tokenizer\n",
    "\n",
    "from transformers import DistilBertTokenizerFast\n",
    "from cockatiel import CustomDistilbertForSequenceClassification, batch_predict, batcher, tokenize\n",
    "\n",
    "tokenizer = DistilBertTokenizerFast.from_pretrained(\"federicopascual/finetuned-sentiment-analysis-model\")\n",
    "model = CustomDistilbertForSequenceClassification.from_pretrained(\"federicopascual/finetuned-sentiment-analysis-model\").to(device)\n",
    "\n",
    "# Put model into evaluation mode\n",
    "model = model.eval()"
   ]
  },
  {
   "cell_type": "code",
   "execution_count": 13,
   "id": "1609b15f-2288-49ba-9c39-e23e312ab7fb",
   "metadata": {
    "tags": []
   },
   "outputs": [
    {
     "name": "stdout",
     "output_type": "stream",
     "text": [
      "Accuracy for classic model        : tensor(0.9000, device='cuda:0')\n",
      "Accuracy for model in 'two parts' : tensor(0.9000, device='cuda:0')\n"
     ]
    }
   ],
   "source": [
    "# Make predictions on some samples\n",
    "y_pred, labels = batch_predict(model.forward, tokenizer, data_np[:100], batch_size, device)\n",
    "\n",
    "# Compute the activations on which to apply the NMF\n",
    "features, labels = batch_predict(model.features, tokenizer, data_np[:100], batch_size, device)\n",
    "\n",
    "# Go from these activations to the final prediction\n",
    "y_pred_bis = model.end_model(features)\n",
    "\n",
    "print(\"Accuracy for classic model        :\", torch.mean((torch.argmax(y_pred, -1) == labels.to(device)).float()))\n",
    "print(\"Accuracy for model in 'two parts' :\", torch.mean((torch.argmax(y_pred_bis, -1) == labels.to(device)).float()))"
   ]
  },
  {
   "cell_type": "code",
   "execution_count": 14,
   "id": "fb57dc43-d071-442a-83ba-1cb3c1e43ec6",
   "metadata": {
    "tags": []
   },
   "outputs": [
    {
     "name": "stdout",
     "output_type": "stream",
     "text": [
      "======================================================================\n",
      "Layer (type:depth-idx)                        Param #\n",
      "======================================================================\n",
      "├─DistilBertModel: 1-1                        --\n",
      "|    └─Embeddings: 2-1                        --\n",
      "|    |    └─Embedding: 3-1                    23,440,896\n",
      "|    |    └─Embedding: 3-2                    393,216\n",
      "|    |    └─LayerNorm: 3-3                    1,536\n",
      "|    |    └─Dropout: 3-4                      --\n",
      "|    └─Transformer: 2-2                       --\n",
      "|    |    └─ModuleList: 3-5                   42,527,232\n",
      "├─CustomDistilbertClassificationHead: 1-2     --\n",
      "|    └─Linear: 2-3                            590,592\n",
      "|    └─Dropout: 2-4                           --\n",
      "|    └─Linear: 2-5                            1,538\n",
      "├─MSELoss: 1-3                                --\n",
      "======================================================================\n",
      "Total params: 66,955,010\n",
      "Trainable params: 66,955,010\n",
      "Non-trainable params: 0\n",
      "======================================================================\n",
      "66955010\n"
     ]
    }
   ],
   "source": [
    "print(ts.summary(model).total_params)"
   ]
  },
  {
   "cell_type": "markdown",
   "id": "6112f38f-ccb4-49b4-a2e5-714541d4fe34",
   "metadata": {
    "tags": []
   },
   "source": [
    "## Prepare Dataset for COCKATIEL"
   ]
  },
  {
   "cell_type": "code",
   "execution_count": 15,
   "id": "6695bd69-3b8a-46ed-90a8-733f4e2f17a7",
   "metadata": {
    "tags": []
   },
   "outputs": [],
   "source": [
    "# # Store predicted positive (pos) and negative (neg) reviews in lists \n",
    "\n",
    "# positive_reviews = []\n",
    "# negative_reviews = []\n",
    "\n",
    "# with torch.no_grad():\n",
    "#     for input_batch in batcher(data_np[:20000], batch_size=batch_size):\n",
    "        \n",
    "#         r = np.array(list(map(lambda z: z[0], input_batch)))\n",
    "\n",
    "#         tokenized_batch = tokenize(r, tokenizer, device)\n",
    "        \n",
    "#         preds = model(**tokenized_batch)\n",
    "        \n",
    "#         positive_reviews.extend(list(input_batch[np.where(np.argmax(preds.cpu().numpy(), axis=1) == 1)[0]]))\n",
    "#         negative_reviews.extend(list(input_batch[np.where(np.argmax(preds.cpu().numpy(), axis=1) == 0)[0]]))\n",
    "\n",
    "# raw_dataset_pos = list(map(lambda z: z[0], positive_reviews))\n",
    "# raw_dataset_neg = list(map(lambda z: z[0], negative_reviews))\n",
    "\n",
    "# import pickle\n",
    "\n",
    "# pickle.dump(raw_dataset_pos, open(\"../Tez/data/for_distilbert/raw_dataset_pos.pkl\", \"wb\"))\n",
    "# pickle.dump(raw_dataset_neg, open(\"../Tez/data/for_distilbert/raw_dataset_neg.pkl\", \"wb\"))"
   ]
  },
  {
   "cell_type": "code",
   "execution_count": 16,
   "id": "a842282e-c027-4020-bdad-ba63986e2ada",
   "metadata": {
    "tags": []
   },
   "outputs": [
    {
     "name": "stdout",
     "output_type": "stream",
     "text": [
      "650  positives excerpts created.\n",
      "218929  negatives excerpts created.\n"
     ]
    }
   ],
   "source": [
    "# # Extract the excerpts as a dataset\n",
    "\n",
    "# sentence_separators = ['.', '...', '?', '!', '..']\n",
    "\n",
    "# def excerpt_fct(raw_dataset):\n",
    "    \n",
    "#     excerpt_dataset = []\n",
    "    \n",
    "#     for review in raw_dataset[:100000]:\n",
    "        \n",
    "#         review = str(review)\n",
    "\n",
    "#         for sep in sentence_separators:\n",
    "            \n",
    "#             review = review.replace(sep, '.')\n",
    "  \n",
    "#         cropped_review = review.split('.')\n",
    "    \n",
    "#         for crop in cropped_review:\n",
    "            \n",
    "#             if len(crop):\n",
    "#                 crop = crop + '.'\n",
    "                \n",
    "#                 while crop[0] == ' ':\n",
    "#                     crop = crop[1:]\n",
    "      \n",
    "#                 if crop[0].isupper():  \n",
    "#                     excerpt_dataset.append(crop)\n",
    "                \n",
    "#     return excerpt_dataset\n",
    "  \n",
    "# excerpt_dataset_pos = excerpt_fct(raw_dataset_pos)\n",
    "# excerpt_dataset_neg = excerpt_fct(raw_dataset_neg)\n",
    "\n",
    "# print(len(excerpt_dataset_pos), ' positives excerpts created.')\n",
    "# print(len(excerpt_dataset_neg), ' negatives excerpts created.')\n",
    "\n",
    "# pickle.dump(excerpt_dataset_pos, open(\"../Tez/data/for_distilbert/excerpt_dataset_pos.pkl\", \"wb\"))\n",
    "# pickle.dump(excerpt_dataset_neg, open(\"../Tez/data/for_distilbert/excerpt_dataset_neg.pkl\", \"wb\"))"
   ]
  },
  {
   "cell_type": "code",
   "execution_count": 15,
   "id": "d39fd373-68e9-40ec-b1d2-3d7528163d9a",
   "metadata": {
    "tags": []
   },
   "outputs": [],
   "source": [
    "import pickle\n",
    "\n",
    "raw_dataset_pos = pickle.load(open(\"../Tez/data/for_distilbert/raw_dataset_pos.pkl\", \"rb\"))\n",
    "raw_dataset_neg = pickle.load(open(\"../Tez/data/for_distilbert/raw_dataset_neg.pkl\", \"rb\"))\n",
    "\n",
    "excerpt_dataset_pos = pickle.load(open(\"../Tez/data/for_distilbert/excerpt_dataset_pos.pkl\", \"rb\"))\n",
    "excerpt_dataset_neg = pickle.load(open(\"../Tez/data/for_distilbert/excerpt_dataset_neg.pkl\", \"rb\"))"
   ]
  },
  {
   "cell_type": "markdown",
   "id": "89209fde-08ad-4741-b843-fc6ff7f26c7d",
   "metadata": {
    "tags": []
   },
   "source": [
    "## Train COCKATIEL"
   ]
  },
  {
   "cell_type": "code",
   "execution_count": 16,
   "id": "603ab89e-76c3-4c32-9f3b-d5488e4bb5dd",
   "metadata": {
    "tags": []
   },
   "outputs": [],
   "source": [
    "from cockatiel import COCKATIEL\n",
    "\n",
    "len_data = 50000  "
   ]
  },
  {
   "cell_type": "code",
   "execution_count": 17,
   "id": "e614f0aa-2063-4946-836f-d75d23567332",
   "metadata": {
    "tags": []
   },
   "outputs": [
    {
     "name": "stderr",
     "output_type": "stream",
     "text": [
      "C:\\Users\\onurp\\anaconda3\\envs\\cockatiel\\Lib\\site-packages\\sklearn\\decomposition\\_nmf.py:1665: ConvergenceWarning: Maximum number of iterations 1000 reached. Increase it to improve convergence.\n",
      "  warnings.warn(\n"
     ]
    }
   ],
   "source": [
    "# Run COCKATIEL on positive reviews\n",
    "\n",
    "with torch.no_grad():\n",
    "    \n",
    "    cockatiel_explainer_pos = COCKATIEL(model, tokenizer, components=20, \n",
    "                                        batch_size=64, device=device)\n",
    "    # batch size 64 tü\n",
    "    segments_pos, u_segments_pos, factorization_pos, global_importance_pos = cockatiel_explainer_pos.extract_concepts(excerpt_dataset_pos[:len_data], \n",
    "                                                                                                                      raw_dataset_pos[:(len_data//10)], \n",
    "                                                                                                                      1, limit_sobol=1_000)\n",
    "    \n",
    "pickle.dump(segments_pos, open(\"../Tez/data/for_distilbert/segments_pos.pkl\", \"wb\"))\n",
    "pickle.dump(u_segments_pos, open(\"../Tez/data/for_distilbert/u_segments_pos.pkl\", \"wb\"))\n",
    "pickle.dump(factorization_pos, open(\"../Tez/data/for_distilbert/factorization_pos.pkl\", \"wb\"))\n",
    "pickle.dump(global_importance_pos, open(\"../Tez/data/for_distilbert/global_importance_pos.pkl\", \"wb\"))"
   ]
  },
  {
   "cell_type": "code",
   "execution_count": 18,
   "id": "e9c24bd1-aaca-4ddf-9928-8768db84bd64",
   "metadata": {
    "tags": []
   },
   "outputs": [],
   "source": [
    "# Run COCKATIEL on negative reviews\n",
    "\n",
    "with torch.no_grad():\n",
    "    \n",
    "    cockatiel_explainer_neg = COCKATIEL(model, tokenizer, components=20, \n",
    "                                        batch_size=batch_size, device=device)\n",
    "    \n",
    "    segments_neg, u_segments_neg, factorization_neg, global_importance_neg = cockatiel_explainer_neg.extract_concepts(excerpt_dataset_neg[:len_data], \n",
    "                                                                                            raw_dataset_neg[:(len_data//10)], \n",
    "                                                                                            0, limit_sobol=1_000)\n",
    "    \n",
    "pickle.dump(segments_neg, open(\"../Tez/data/for_distilbert/segments_neg.pkl\", \"wb\"))\n",
    "pickle.dump(u_segments_neg, open(\"../Tez/data/for_distilbert/u_segments_neg.pkl\", \"wb\"))\n",
    "pickle.dump(factorization_neg, open(\"../Tez/data/for_distilbert/factorization_neg.pkl\", \"wb\"))\n",
    "pickle.dump(global_importance_neg, open(\"../Tez/data/for_distilbert/global_importance_neg.pkl\", \"wb\"))"
   ]
  },
  {
   "cell_type": "markdown",
   "id": "e88b6b0e-63ae-4749-b535-04df7a261d90",
   "metadata": {},
   "source": [
    "## Run COCKATIEL"
   ]
  },
  {
   "cell_type": "code",
   "execution_count": 25,
   "id": "8b99435a-647a-4870-8f85-74ef82398725",
   "metadata": {
    "tags": []
   },
   "outputs": [],
   "source": [
    "# Segments and global importances for positive class\n",
    "\n",
    "segments_pos = pickle.load(open(\"../Tez/data/for_distilbert/segments_pos.pkl\",'rb'))\n",
    "u_segments_pos = pickle.load(open(\"../Tez/data/for_distilbert/u_segments_pos.pkl\",'rb'))\n",
    "factorization_pos = pickle.load(open(\"../Tez/data/for_distilbert/factorization_pos.pkl\",'rb'))\n",
    "global_importance_pos = pickle.load(open(\"../Tez/data/for_distilbert/global_importance_pos.pkl\",'rb'))\n",
    "\n",
    "# Segments and global importances for negative class\n",
    "\n",
    "segments_neg = pickle.load(open(\"../Tez/data/for_distilbert/segments_neg.pkl\",'rb'))\n",
    "u_segments_neg = pickle.load(open(\"../Tez/data/for_distilbert/u_segments_neg.pkl\",'rb'))\n",
    "factorization_neg = pickle.load(open(\"../Tez/data/for_distilbert/factorization_neg.pkl\",'rb'))\n",
    "global_importance_neg = pickle.load(open(\"../Tez/data/for_distilbert/global_importance_neg.pkl\",'rb'))"
   ]
  },
  {
   "cell_type": "markdown",
   "id": "3b8a39bd-1e08-4c6f-a8b9-36c17eeb8dce",
   "metadata": {},
   "source": [
    "### Visualize Concept Importances"
   ]
  },
  {
   "cell_type": "code",
   "execution_count": 20,
   "id": "d7fc97a6-5e25-474d-80ee-07d16a8d3cb4",
   "metadata": {
    "tags": []
   },
   "outputs": [],
   "source": [
    "from cockatiel import occlusion_concepts, print_legend, viz_concepts"
   ]
  },
  {
   "cell_type": "code",
   "execution_count": 21,
   "id": "18d000c6-33f3-451f-949a-640a88facf20",
   "metadata": {
    "tags": []
   },
   "outputs": [
    {
     "data": {
      "image/png": "[encoded data removed]",
      "text/plain": [
       "<Figure size 2200x500 with 2 Axes>"
      ]
     },
     "metadata": {},
     "output_type": "display_data"
    }
   ],
   "source": [
    "plt.figure(figsize=(22, 5))\n",
    "\n",
    "plt.subplot(121)\n",
    "cm = plt.get_cmap('tab20')\n",
    "plt.bar(range(len(global_importance_pos)), global_importance_pos, color=cm.colors, tick_label=range(len(global_importance_pos)))\n",
    "plt.title(\"Concepts for Positive Class\")\n",
    "\n",
    "plt.subplot(122)\n",
    "cm = plt.get_cmap('tab20')\n",
    "plt.bar(range(len(global_importance_neg)), global_importance_neg, color=cm.colors, tick_label=range(len(global_importance_neg)))\n",
    "plt.title(\"Concepts for Negative Class\")\n",
    "\n",
    "plt.show()"
   ]
  },
  {
   "cell_type": "markdown",
   "id": "7b95c73d-4a64-4366-823d-dd36bbee1adc",
   "metadata": {},
   "source": [
    "### Visualize Occlusion's Part"
   ]
  },
  {
   "cell_type": "code",
   "execution_count": 22,
   "id": "0cd05bb7-9205-49f2-bbf4-b803b76c9adf",
   "metadata": {
    "tags": []
   },
   "outputs": [],
   "source": [
    "n = 10 #number of reviews for each labels and each concept\n",
    "m_pos = 2 #number of concept looked for the positive class (we look the m_pos more importants)\n",
    "m_neg = 3 #number of concept looked for the negative class (we look the m_neg more importants)\n",
    "\n",
    "l_concept_id_pos = np.argsort(global_importance_pos)[::-1][:m_pos]\n",
    "l_concept_id_neg = np.argsort(global_importance_neg)[::-1][:m_neg]\n",
    "\n",
    "l_mip_sentences_pos, l_mip_sentences_neg = [], []\n",
    "\n",
    "#we add sentence of positive label\n",
    "\n",
    "for concept_id in l_concept_id_pos:\n",
    "    \n",
    "    mip_sentences_ids = np.argsort(u_segments_pos[:, concept_id])[::-1][:n]\n",
    "    mip_sentences = np.array(segments_pos)[mip_sentences_ids]\n",
    "    l_mip_sentences_pos.append(mip_sentences)\n",
    "\n",
    "#we add sentence of negative label\n",
    "\n",
    "for concept_id in l_concept_id_neg:\n",
    "    \n",
    "    mip_sentences_ids = np.argsort(u_segments_neg[:, concept_id])[::-1][:n]\n",
    "    mip_sentences = np.array(segments_neg)[mip_sentences_ids]\n",
    "    l_mip_sentences_neg.append(mip_sentences)\n",
    "\n",
    "l_mip_sentences_pos = np.array(l_mip_sentences_pos)\n",
    "l_mip_sentences_pos = l_mip_sentences_pos.flatten()\n",
    "l_mip_sentences_neg = np.array(l_mip_sentences_neg)\n",
    "l_mip_sentences_neg = l_mip_sentences_neg.flatten() "
   ]
  },
  {
   "cell_type": "code",
   "execution_count": 23,
   "id": "328e07fb-465f-425a-91c6-e3d3542829d9",
   "metadata": {
    "tags": []
   },
   "outputs": [],
   "source": [
    "# Create dictionnaries for legend with a color for each concept:\n",
    "#We use m_pos+m_neg concepts, so we have to create a dictionnary \"colors\" with m_pos+m_neg colors. \n",
    "#In the dictionnary \"label_to_criterion\", we add the corresponding concept for each color.\n",
    "\n",
    "colors = {\n",
    "    0: \"rgba(9, 221, 55, \", #green\n",
    "    1: \"rgba(9, 221, 161, \", #turquoise\n",
    "    #2: \"rgba(9, 175, 221, \", #blue\n",
    "    2: \"rgba(221, 9, 34, \", #red\n",
    "    3: \"rgba(221, 9, 140,\", #pink\n",
    "    4: \"rgba(221, 90, 9, \", #orange\n",
    "}\n",
    "\n",
    "label_to_criterion = {\n",
    "    0: \"Positive label: concept1\",\n",
    "    1: \"Positive label: concept2\",\n",
    "    #2: \"Positive label: concept3\",\n",
    "    2: \"Negative label: concept1\",\n",
    "    3: \"Negative label: concept2\",\n",
    "    4: \"Negative label: concept3\",\n",
    "}\n",
    "\n",
    "\n",
    "#sanity check:\n",
    "if len(label_to_criterion.keys()) != len(colors.keys()) or len(label_to_criterion.keys()) != (m_pos + m_neg):\n",
    "    print(\"Error: check that you have the correct number of colors and labels in your dictionaries to cover the number of concepts being looked at\")"
   ]
  },
  {
   "cell_type": "code",
   "execution_count": 24,
   "id": "976b6241-e755-472b-bea3-109bebf30d34",
   "metadata": {
    "tags": []
   },
   "outputs": [
    {
     "data": {
      "text/html": [
       "<div style='display: flex; width: 400px; flex-wrap: wrap'><span style=\"background-color: rgba(9, 221, 55,  0.5); padding: 1px 5px; border: solid 3px ; border-color: rgba(9, 221, 55,  1); #EFEFEF\">Positive label: concept1 </span> <span style=\"background-color: rgba(9, 221, 161,  0.5); padding: 1px 5px; border: solid 3px ; border-color: rgba(9, 221, 161,  1); #EFEFEF\">Positive label: concept2 </span> <span style=\"background-color: rgba(221, 9, 34,  0.5); padding: 1px 5px; border: solid 3px ; border-color: rgba(221, 9, 34,  1); #EFEFEF\">Negative label: concept1 </span> <span style=\"background-color: rgba(221, 9, 140, 0.5); padding: 1px 5px; border: solid 3px ; border-color: rgba(221, 9, 140, 1); #EFEFEF\">Negative label: concept2 </span> <span style=\"background-color: rgba(221, 90, 9,  0.5); padding: 1px 5px; border: solid 3px ; border-color: rgba(221, 90, 9,  1); #EFEFEF\">Negative label: concept3 </span> </div>"
      ],
      "text/plain": [
       "<IPython.core.display.HTML object>"
      ]
     },
     "metadata": {},
     "output_type": "display_data"
    },
    {
     "data": {
      "text/html": [
       "<br><br>"
      ],
      "text/plain": [
       "<IPython.core.display.HTML object>"
      ]
     },
     "metadata": {},
     "output_type": "display_data"
    },
    {
     "name": "stdout",
     "output_type": "stream",
     "text": [
      "positive predicted reviews:\n",
      "\n",
      "\n",
      "\n",
      "\n",
      "10 most important reviews for positive predicted label - concept1:\n",
      "\n",
      "\n"
     ]
    },
    {
     "data": {
      "text/html": [
       "<div style='display: flex; width: 400px; flex-wrap: wrap'><span style=\"background-color: rgba(9, 221, 55,  0.8030720353126526); padding: 1px 5px; border: solid 3px ; border-color: rgba(9, 221, 55,  1); #EFEFEF\">Shin-ae</span> <span style=\"background-color: rgba(9, 221, 55,  0.9994560480117798); padding: 1px 5px; border: solid 3px ; border-color: rgba(9, 221, 55,  1); #EFEFEF\">becomes</span> <span style=\"background-color: rgba(9, 221, 55,  0.6790851950645447); padding: 1px 5px; border: solid 3px ; border-color: rgba(9, 221, 55,  1); #EFEFEF\">a church-goer</span> <span style=\"background-color: rgba(9, 221, 55,  0.2906874716281891); padding: 1px 5px; border: solid 3px ; border-color: rgba(9, 221, 55,  1); #EFEFEF\">wants to forgive</span> <span style=\"background-color: rgba(9, 221, 55,  0.2386157512664795); padding: 1px 5px; border: solid 3px ; border-color: rgba(9, 221, 55,  1); #EFEFEF\">the murderer</span> </div>"
      ],
      "text/plain": [
       "<IPython.core.display.HTML object>"
      ]
     },
     "metadata": {},
     "output_type": "display_data"
    },
    {
     "data": {
      "text/html": [
       "<br><br>"
      ],
      "text/plain": [
       "<IPython.core.display.HTML object>"
      ]
     },
     "metadata": {},
     "output_type": "display_data"
    },
    {
     "data": {
      "text/html": [
       "<div style='display: flex; width: 400px; flex-wrap: wrap'><span style=\"background-color: rgba(9, 221, 55,  0.9708933234214783); padding: 1px 5px; border: solid 3px ; border-color: rgba(9, 221, 55,  1); #EFEFEF\">Belushi</span> <span style=\"background-color: rgba(9, 221, 55,  0.6754369139671326); padding: 1px 5px; border: solid 3px ; border-color: rgba(9, 221, 55,  1); #EFEFEF\">gets</span> <span style=\"background-color: rgba(9, 221, 55,  0.9961171746253967); padding: 1px 5px; border: solid 3px ; border-color: rgba(9, 221, 55,  1); #EFEFEF\">the chance</span> <span style=\"background-color: rgba(9, 221, 55,  0.7474742531776428); padding: 1px 5px; border: solid 3px ; border-color: rgba(9, 221, 55,  1); #EFEFEF\">to live</span> <span style=\"background-color: rgba(9, 221, 55,  0.6928885579109192); padding: 1px 5px; border: solid 3px ; border-color: rgba(9, 221, 55,  1); #EFEFEF\">part</span> <span style=\"background-color: rgba(9, 221, 55,  0.5775653123855591); padding: 1px 5px; border: solid 3px ; border-color: rgba(9, 221, 55,  1); #EFEFEF\">of</span> <span style=\"background-color: rgba(9, 221, 55,  0.854678213596344); padding: 1px 5px; border: solid 3px ; border-color: rgba(9, 221, 55,  1); #EFEFEF\">his life</span> <span style=\"background-color: rgba(9, 221, 55,  0.8248803019523621); padding: 1px 5px; border: solid 3px ; border-color: rgba(9, 221, 55,  1); #EFEFEF\">differently</span> <span style=\"background-color: rgba(9, 221, 55,  0.8887773156166077); padding: 1px 5px; border: solid 3px ; border-color: rgba(9, 221, 55,  1); #EFEFEF\">ends</span> <span style=\"background-color: rgba(9, 221, 55,  0.6514148116111755); padding: 1px 5px; border: solid 3px ; border-color: rgba(9, 221, 55,  1); #EFEFEF\">up</span> <span style=\"background-color: rgba(9, 221, 55,  0.7834538817405701); padding: 1px 5px; border: solid 3px ; border-color: rgba(9, 221, 55,  1); #EFEFEF\">realizing</span> <span style=\"background-color: rgba(9, 221, 55,  0.7965472936630249); padding: 1px 5px; border: solid 3px ; border-color: rgba(9, 221, 55,  1); #EFEFEF\">that</span> <span style=\"background-color: rgba(9, 221, 55,  0.6760426163673401); padding: 1px 5px; border: solid 3px ; border-color: rgba(9, 221, 55,  1); #EFEFEF\">what</span> <span style=\"background-color: rgba(9, 221, 55,  0.7026843428611755); padding: 1px 5px; border: solid 3px ; border-color: rgba(9, 221, 55,  1); #EFEFEF\">he</span> <span style=\"background-color: rgba(9, 221, 55,  0.7673157453536987); padding: 1px 5px; border: solid 3px ; border-color: rgba(9, 221, 55,  1); #EFEFEF\">had</span> <span style=\"background-color: rgba(9, 221, 55,  0.8439548015594482); padding: 1px 5px; border: solid 3px ; border-color: rgba(9, 221, 55,  1); #EFEFEF\">was going to be</span> <span style=\"background-color: rgba(9, 221, 55,  0.7102174758911133); padding: 1px 5px; border: solid 3px ; border-color: rgba(9, 221, 55,  1); #EFEFEF\">just as good</span> <span style=\"background-color: rgba(9, 221, 55,  0.9993005394935608); padding: 1px 5px; border: solid 3px ; border-color: rgba(9, 221, 55,  1); #EFEFEF\">or maybe</span> <span style=\"background-color: rgba(9, 221, 55,  0.6776329874992371); padding: 1px 5px; border: solid 3px ; border-color: rgba(9, 221, 55,  1); #EFEFEF\">even better</span> </div>"
      ],
      "text/plain": [
       "<IPython.core.display.HTML object>"
      ]
     },
     "metadata": {},
     "output_type": "display_data"
    },
    {
     "data": {
      "text/html": [
       "<br><br>"
      ],
      "text/plain": [
       "<IPython.core.display.HTML object>"
      ]
     },
     "metadata": {},
     "output_type": "display_data"
    },
    {
     "data": {
      "text/html": [
       "<div style='display: flex; width: 400px; flex-wrap: wrap'><span style=\"background-color: rgba(9, 221, 161,  0.5989601016044617); padding: 1px 5px; border: solid 3px ; border-color: rgba(9, 221, 161,  1); #EFEFEF\">Ken</span> <span style=\"background-color: rgba(9, 221, 161,  0.8142341375350952); padding: 1px 5px; border: solid 3px ; border-color: rgba(9, 221, 161,  1); #EFEFEF\">rock n'roll fanatic</span> <span style=\"background-color: rgba(9, 221, 55,  0.9992316961288452); padding: 1px 5px; border: solid 3px ; border-color: rgba(9, 221, 55,  1); #EFEFEF\">marries</span> <span style=\"background-color: rgba(9, 221, 55,  0.6661713123321533); padding: 1px 5px; border: solid 3px ; border-color: rgba(9, 221, 55,  1); #EFEFEF\">Kyoto</span> <span style=\"background-color: rgba(9, 221, 161,  0.5088222026824951); padding: 1px 5px; border: solid 3px ; border-color: rgba(9, 221, 161,  1); #EFEFEF\">a Japanese girl</span> <span style=\"background-color: rgba(9, 221, 161,  0.5052018165588379); padding: 1px 5px; border: solid 3px ; border-color: rgba(9, 221, 161,  1); #EFEFEF\">so that</span> <span style=\"background-color: rgba(9, 221, 161,  0.5849222540855408); padding: 1px 5px; border: solid 3px ; border-color: rgba(9, 221, 161,  1); #EFEFEF\">she</span> <span style=\"background-color: rgba(9, 221, 55,  0.5845115184783936); padding: 1px 5px; border: solid 3px ; border-color: rgba(9, 221, 55,  1); #EFEFEF\">can stay</span> <span style=\"background-color: rgba(9, 221, 161,  0.5885106921195984); padding: 1px 5px; border: solid 3px ; border-color: rgba(9, 221, 161,  1); #EFEFEF\">in</span> <span style=\"background-color: rgba(9, 221, 161,  0.5470492839813232); padding: 1px 5px; border: solid 3px ; border-color: rgba(9, 221, 161,  1); #EFEFEF\">the United States</span> <span style=\"background-color: rgba(9, 221, 161,  0.7341718077659607); padding: 1px 5px; border: solid 3px ; border-color: rgba(9, 221, 161,  1); #EFEFEF\">when</span> <span style=\"background-color: rgba(9, 221, 161,  0.5196424126625061); padding: 1px 5px; border: solid 3px ; border-color: rgba(9, 221, 161,  1); #EFEFEF\">her visa</span> <span style=\"background-color: rgba(9, 221, 161,  0.6201322078704834); padding: 1px 5px; border: solid 3px ; border-color: rgba(9, 221, 161,  1); #EFEFEF\">expires</span> </div>"
      ],
      "text/plain": [
       "<IPython.core.display.HTML object>"
      ]
     },
     "metadata": {},
     "output_type": "display_data"
    },
    {
     "data": {
      "text/html": [
       "<br><br>"
      ],
      "text/plain": [
       "<IPython.core.display.HTML object>"
      ]
     },
     "metadata": {},
     "output_type": "display_data"
    },
    {
     "data": {
      "text/html": [
       "<div style='display: flex; width: 400px; flex-wrap: wrap'><span style=\"background-color: rgba(9, 221, 55,  0.9995556473731995); padding: 1px 5px; border: solid 3px ; border-color: rgba(9, 221, 55,  1); #EFEFEF\">He</span> <span style=\"background-color: rgba(9, 221, 55,  0.8345677256584167); padding: 1px 5px; border: solid 3px ; border-color: rgba(9, 221, 55,  1); #EFEFEF\">needs</span> <span style=\"background-color: rgba(9, 221, 55,  0.9036590456962585); padding: 1px 5px; border: solid 3px ; border-color: rgba(9, 221, 55,  1); #EFEFEF\">extremes</span> <span style=\"background-color: rgba(9, 221, 55,  0.9037672877311707); padding: 1px 5px; border: solid 3px ; border-color: rgba(9, 221, 55,  1); #EFEFEF\">goes</span> <span style=\"background-color: rgba(9, 221, 55,  0.9669366478919983); padding: 1px 5px; border: solid 3px ; border-color: rgba(9, 221, 55,  1); #EFEFEF\">in</span> <span style=\"background-color: rgba(9, 221, 55,  0.9144101142883301); padding: 1px 5px; border: solid 3px ; border-color: rgba(9, 221, 55,  1); #EFEFEF\">for</span> <span style=\"background-color: rgba(9, 221, 55,  0.8502538204193115); padding: 1px 5px; border: solid 3px ; border-color: rgba(9, 221, 55,  1); #EFEFEF\">heavy metal</span> <span style=\"background-color: rgba(9, 221, 55,  0.9791256785392761); padding: 1px 5px; border: solid 3px ; border-color: rgba(9, 221, 55,  1); #EFEFEF\">adopts</span> <span style=\"background-color: rgba(9, 221, 55,  0.7579750418663025); padding: 1px 5px; border: solid 3px ; border-color: rgba(9, 221, 55,  1); #EFEFEF\">earrings</span> <span style=\"background-color: rgba(9, 221, 55,  0.7299689650535583); padding: 1px 5px; border: solid 3px ; border-color: rgba(9, 221, 55,  1); #EFEFEF\">a scarf</span> </div>"
      ],
      "text/plain": [
       "<IPython.core.display.HTML object>"
      ]
     },
     "metadata": {},
     "output_type": "display_data"
    },
    {
     "data": {
      "text/html": [
       "<br><br>"
      ],
      "text/plain": [
       "<IPython.core.display.HTML object>"
      ]
     },
     "metadata": {},
     "output_type": "display_data"
    },
    {
     "data": {
      "text/html": [
       "<div style='display: flex; width: 400px; flex-wrap: wrap'><span style=\"background-color: rgba(9, 221, 55,  0.6822293400764465); padding: 1px 5px; border: solid 3px ; border-color: rgba(9, 221, 55,  1); #EFEFEF\">Vatanen</span> <span style=\"background-color: rgba(9, 221, 55,  0.7530249953269958); padding: 1px 5px; border: solid 3px ; border-color: rgba(9, 221, 55,  1); #EFEFEF\">Antti Litja</span> <span style=\"background-color: rgba(9, 221, 55,  0.5785160660743713); padding: 1px 5px; border: solid 3px ; border-color: rgba(9, 221, 55,  1); #EFEFEF\">smothered</span> <span style=\"background-color: rgba(9, 221, 55,  0.8164325952529907); padding: 1px 5px; border: solid 3px ; border-color: rgba(9, 221, 55,  1); #EFEFEF\">buy</span> <span style=\"background-color: rgba(9, 221, 55,  0.676060676574707); padding: 1px 5px; border: solid 3px ; border-color: rgba(9, 221, 55,  1); #EFEFEF\">the concrete jungle</span> <span style=\"background-color: rgba(9, 221, 55,  0.7089568972587585); padding: 1px 5px; border: solid 3px ; border-color: rgba(9, 221, 55,  1); #EFEFEF\">with</span> <span style=\"background-color: rgba(9, 221, 55,  0.9243106245994568); padding: 1px 5px; border: solid 3px ; border-color: rgba(9, 221, 55,  1); #EFEFEF\">all its rules and regulations</span> <span style=\"background-color: rgba(9, 221, 55,  0.9994959235191345); padding: 1px 5px; border: solid 3px ; border-color: rgba(9, 221, 55,  1); #EFEFEF\">tries to rattle</span> <span style=\"background-color: rgba(9, 221, 55,  0.713419497013092); padding: 1px 5px; border: solid 3px ; border-color: rgba(9, 221, 55,  1); #EFEFEF\">the chains</span> <span style=\"background-color: rgba(9, 221, 55,  0.696080207824707); padding: 1px 5px; border: solid 3px ; border-color: rgba(9, 221, 55,  1); #EFEFEF\">of</span> <span style=\"background-color: rgba(9, 221, 55,  0.7182598114013672); padding: 1px 5px; border: solid 3px ; border-color: rgba(9, 221, 55,  1); #EFEFEF\">the society</span> <span style=\"background-color: rgba(9, 221, 55,  0.6548013687133789); padding: 1px 5px; border: solid 3px ; border-color: rgba(9, 221, 55,  1); #EFEFEF\">by</span> <span style=\"background-color: rgba(9, 221, 55,  0.7102590203285217); padding: 1px 5px; border: solid 3px ; border-color: rgba(9, 221, 55,  1); #EFEFEF\">escaping</span> <span style=\"background-color: rgba(9, 221, 55,  0.6805998682975769); padding: 1px 5px; border: solid 3px ; border-color: rgba(9, 221, 55,  1); #EFEFEF\">it</span> <span style=\"background-color: rgba(9, 221, 55,  0.6621081829071045); padding: 1px 5px; border: solid 3px ; border-color: rgba(9, 221, 55,  1); #EFEFEF\">all</span> <span style=\"background-color: rgba(9, 221, 55,  0.675979733467102); padding: 1px 5px; border: solid 3px ; border-color: rgba(9, 221, 55,  1); #EFEFEF\">in</span> <span style=\"background-color: rgba(9, 221, 55,  0.6815997362136841); padding: 1px 5px; border: solid 3px ; border-color: rgba(9, 221, 55,  1); #EFEFEF\">to</span> <span style=\"background-color: rgba(9, 221, 55,  0.7547834515571594); padding: 1px 5px; border: solid 3px ; border-color: rgba(9, 221, 55,  1); #EFEFEF\">the wilderness</span> <span style=\"background-color: rgba(9, 221, 55,  0.7038207054138184); padding: 1px 5px; border: solid 3px ; border-color: rgba(9, 221, 55,  1); #EFEFEF\">of</span> <span style=\"background-color: rgba(9, 221, 55,  0.950398862361908); padding: 1px 5px; border: solid 3px ; border-color: rgba(9, 221, 55,  1); #EFEFEF\">northern Finland</span> <span style=\"background-color: rgba(9, 221, 55,  0.8487576842308044); padding: 1px 5px; border: solid 3px ; border-color: rgba(9, 221, 55,  1); #EFEFEF\">only</span> <span style=\"background-color: rgba(9, 221, 55,  0.9685056805610657); padding: 1px 5px; border: solid 3px ; border-color: rgba(9, 221, 55,  1); #EFEFEF\">to realize</span> <span style=\"background-color: rgba(9, 221, 55,  0.8349444270133972); padding: 1px 5px; border: solid 3px ; border-color: rgba(9, 221, 55,  1); #EFEFEF\">that</span> <span style=\"background-color: rgba(9, 221, 55,  0.7557801008224487); padding: 1px 5px; border: solid 3px ; border-color: rgba(9, 221, 55,  1); #EFEFEF\">the concept</span> <span style=\"background-color: rgba(9, 221, 55,  0.7062807679176331); padding: 1px 5px; border: solid 3px ; border-color: rgba(9, 221, 55,  1); #EFEFEF\">of</span> <span style=\"background-color: rgba(9, 221, 55,  0.710978090763092); padding: 1px 5px; border: solid 3px ; border-color: rgba(9, 221, 55,  1); #EFEFEF\">a 'free country</span> <span style=\"background-color: rgba(9, 221, 55,  0.6208893656730652); padding: 1px 5px; border: solid 3px ; border-color: rgba(9, 221, 55,  1); #EFEFEF\">is</span> <span style=\"background-color: rgba(9, 221, 55,  0.603990912437439); padding: 1px 5px; border: solid 3px ; border-color: rgba(9, 221, 55,  1); #EFEFEF\">all that unambiguous</span> <span style=\"background-color: rgba(9, 221, 55,  0.7718994617462158); padding: 1px 5px; border: solid 3px ; border-color: rgba(9, 221, 55,  1); #EFEFEF\">in</span> <span style=\"background-color: rgba(9, 221, 55,  0.6507711410522461); padding: 1px 5px; border: solid 3px ; border-color: rgba(9, 221, 55,  1); #EFEFEF\">other words</span> <span style=\"background-color: rgba(9, 221, 55,  0.6580857038497925); padding: 1px 5px; border: solid 3px ; border-color: rgba(9, 221, 55,  1); #EFEFEF\">the society</span> <span style=\"background-color: rgba(9, 221, 55,  0.713573157787323); padding: 1px 5px; border: solid 3px ; border-color: rgba(9, 221, 55,  1); #EFEFEF\">has</span> <span style=\"background-color: rgba(9, 221, 55,  0.7306894659996033); padding: 1px 5px; border: solid 3px ; border-color: rgba(9, 221, 55,  1); #EFEFEF\">the common man</span> <span style=\"background-color: rgba(9, 221, 55,  0.6648871302604675); padding: 1px 5px; border: solid 3px ; border-color: rgba(9, 221, 55,  1); #EFEFEF\">by</span> <span style=\"background-color: rgba(9, 221, 55,  0.6702696084976196); padding: 1px 5px; border: solid 3px ; border-color: rgba(9, 221, 55,  1); #EFEFEF\">the balls</span> </div>"
      ],
      "text/plain": [
       "<IPython.core.display.HTML object>"
      ]
     },
     "metadata": {},
     "output_type": "display_data"
    },
    {
     "data": {
      "text/html": [
       "<br><br>"
      ],
      "text/plain": [
       "<IPython.core.display.HTML object>"
      ]
     },
     "metadata": {},
     "output_type": "display_data"
    },
    {
     "data": {
      "text/html": [
       "<div style='display: flex; width: 400px; flex-wrap: wrap'><span style=\"background-color: rgba(9, 221, 55,  0.3969650864601135); padding: 1px 5px; border: solid 3px ; border-color: rgba(9, 221, 55,  1); #EFEFEF\">Okada</span> <span style=\"background-color: rgba(9, 221, 55,  0.3051091134548187); padding: 1px 5px; border: solid 3px ; border-color: rgba(9, 221, 55,  1); #EFEFEF\">being</span> <span style=\"background-color: rgba(9, 221, 55,  0.37111589312553406); padding: 1px 5px; border: solid 3px ; border-color: rgba(9, 221, 55,  1); #EFEFEF\">the cleaner</span> <span style=\"background-color: rgba(9, 221, 55,  0.316387802362442); padding: 1px 5px; border: solid 3px ; border-color: rgba(9, 221, 55,  1); #EFEFEF\">for</span> <span style=\"background-color: rgba(9, 221, 161,  0.23243235051631927); padding: 1px 5px; border: solid 3px ; border-color: rgba(9, 221, 161,  1); #EFEFEF\">Nakadei</span> <span style=\"background-color: rgba(9, 221, 55,  0.42614859342575073); padding: 1px 5px; border: solid 3px ; border-color: rgba(9, 221, 55,  1); #EFEFEF\">is being treated</span> <span style=\"background-color: rgba(9, 221, 55,  0.28553053736686707); padding: 1px 5px; border: solid 3px ; border-color: rgba(9, 221, 55,  1); #EFEFEF\">like</span> <span style=\"background-color: rgba(9, 221, 55,  0.38073259592056274); padding: 1px 5px; border: solid 3px ; border-color: rgba(9, 221, 55,  1); #EFEFEF\">a dog</span> <span style=\"background-color: rgba(9, 221, 55,  0.21931345760822296); padding: 1px 5px; border: solid 3px ; border-color: rgba(9, 221, 55,  1); #EFEFEF\">after</span> <span style=\"background-color: rgba(9, 221, 161,  0.9995321035385132); padding: 1px 5px; border: solid 3px ; border-color: rgba(9, 221, 161,  1); #EFEFEF\">quite a while</span> <span style=\"background-color: rgba(9, 221, 55,  0.327268123626709); padding: 1px 5px; border: solid 3px ; border-color: rgba(9, 221, 55,  1); #EFEFEF\">he</span> <span style=\"background-color: rgba(9, 221, 161,  0.6496139168739319); padding: 1px 5px; border: solid 3px ; border-color: rgba(9, 221, 161,  1); #EFEFEF\">realises</span> <span style=\"background-color: rgba(9, 221, 161,  0.4615826904773712); padding: 1px 5px; border: solid 3px ; border-color: rgba(9, 221, 161,  1); #EFEFEF\">what</span> <span style=\"background-color: rgba(9, 221, 55,  0.2539657652378082); padding: 1px 5px; border: solid 3px ; border-color: rgba(9, 221, 55,  1); #EFEFEF\">he</span> <span style=\"background-color: rgba(9, 221, 161,  0.29483821988105774); padding: 1px 5px; border: solid 3px ; border-color: rgba(9, 221, 161,  1); #EFEFEF\">realy</span> <span style=\"background-color: rgba(9, 221, 55,  0.3122531473636627); padding: 1px 5px; border: solid 3px ; border-color: rgba(9, 221, 55,  1); #EFEFEF\">is</span> <span style=\"background-color: rgba(9, 221, 161,  0.24321913719177246); padding: 1px 5px; border: solid 3px ; border-color: rgba(9, 221, 161,  1); #EFEFEF\">to</span> <span style=\"background-color: rgba(9, 221, 55,  0.31733009219169617); padding: 1px 5px; border: solid 3px ; border-color: rgba(9, 221, 55,  1); #EFEFEF\">Nakadei</span> </div>"
      ],
      "text/plain": [
       "<IPython.core.display.HTML object>"
      ]
     },
     "metadata": {},
     "output_type": "display_data"
    },
    {
     "data": {
      "text/html": [
       "<br><br>"
      ],
      "text/plain": [
       "<IPython.core.display.HTML object>"
      ]
     },
     "metadata": {},
     "output_type": "display_data"
    },
    {
     "data": {
      "text/html": [
       "<div style='display: flex; width: 400px; flex-wrap: wrap'><span style=\"background-color: rgba(9, 221, 55,  0.4725764989852905); padding: 1px 5px; border: solid 3px ; border-color: rgba(9, 221, 55,  1); #EFEFEF\">He</span> <span style=\"background-color: rgba(9, 221, 55,  0.998989462852478); padding: 1px 5px; border: solid 3px ; border-color: rgba(9, 221, 55,  1); #EFEFEF\">tricks</span> <span style=\"background-color: rgba(9, 221, 55,  0.5546740293502808); padding: 1px 5px; border: solid 3px ; border-color: rgba(9, 221, 55,  1); #EFEFEF\">the police</span> <span style=\"background-color: rgba(9, 221, 55,  0.4743798077106476); padding: 1px 5px; border: solid 3px ; border-color: rgba(9, 221, 55,  1); #EFEFEF\">into</span> <span style=\"background-color: rgba(9, 221, 55,  0.46195098757743835); padding: 1px 5px; border: solid 3px ; border-color: rgba(9, 221, 55,  1); #EFEFEF\">killing</span> <span style=\"background-color: rgba(9, 221, 55,  0.6180674433708191); padding: 1px 5px; border: solid 3px ; border-color: rgba(9, 221, 55,  1); #EFEFEF\">Sheffer</span> <span style=\"background-color: rgba(9, 221, 55,  0.6180674433708191); padding: 1px 5px; border: solid 3px ; border-color: rgba(9, 221, 55,  1); #EFEFEF\">Sheffer</span> <span style=\"background-color: rgba(9, 221, 55,  0.472980260848999); padding: 1px 5px; border: solid 3px ; border-color: rgba(9, 221, 55,  1); #EFEFEF\">goes</span> <span style=\"background-color: rgba(9, 221, 55,  0.5019903779029846); padding: 1px 5px; border: solid 3px ; border-color: rgba(9, 221, 55,  1); #EFEFEF\">to</span> <span style=\"background-color: rgba(9, 221, 55,  0.7586658000946045); padding: 1px 5px; border: solid 3px ; border-color: rgba(9, 221, 55,  1); #EFEFEF\">a graveyard</span> <span style=\"background-color: rgba(9, 221, 55,  0.6680803894996643); padding: 1px 5px; border: solid 3px ; border-color: rgba(9, 221, 55,  1); #EFEFEF\">named</span> <span style=\"background-color: rgba(9, 221, 55,  0.4085931181907654); padding: 1px 5px; border: solid 3px ; border-color: rgba(9, 221, 55,  1); #EFEFEF\">Midian cemetery</span> <span style=\"background-color: rgba(9, 221, 55,  0.6705257296562195); padding: 1px 5px; border: solid 3px ; border-color: rgba(9, 221, 55,  1); #EFEFEF\">where</span> <span style=\"background-color: rgba(9, 221, 55,  0.8180110454559326); padding: 1px 5px; border: solid 3px ; border-color: rgba(9, 221, 55,  1); #EFEFEF\">the Nightbreed</span> <span style=\"background-color: rgba(9, 221, 55,  0.4710024893283844); padding: 1px 5px; border: solid 3px ; border-color: rgba(9, 221, 55,  1); #EFEFEF\">congregate</span> <span style=\"background-color: rgba(9, 221, 55,  0.6601855754852295); padding: 1px 5px; border: solid 3px ; border-color: rgba(9, 221, 55,  1); #EFEFEF\">live</span> <span style=\"background-color: rgba(9, 221, 55,  0.6498241424560547); padding: 1px 5px; border: solid 3px ; border-color: rgba(9, 221, 55,  1); #EFEFEF\">underground</span> </div>"
      ],
      "text/plain": [
       "<IPython.core.display.HTML object>"
      ]
     },
     "metadata": {},
     "output_type": "display_data"
    },
    {
     "data": {
      "text/html": [
       "<br><br>"
      ],
      "text/plain": [
       "<IPython.core.display.HTML object>"
      ]
     },
     "metadata": {},
     "output_type": "display_data"
    },
    {
     "data": {
      "text/html": [
       "<div style='display: flex; width: 400px; flex-wrap: wrap'><span style=\"background-color: rgba(9, 221, 55,  0.23140421509742737); padding: 1px 5px; border: solid 3px ; border-color: rgba(9, 221, 55,  1); #EFEFEF\">She</span> <span style=\"background-color: rgba(9, 221, 55,  0.999358594417572); padding: 1px 5px; border: solid 3px ; border-color: rgba(9, 221, 55,  1); #EFEFEF\">decides to visit</span> <span style=\"background-color: rgba(9, 221, 55,  0.4162972569465637); padding: 1px 5px; border: solid 3px ; border-color: rgba(9, 221, 55,  1); #EFEFEF\">her son</span> <span style=\"background-color: rgba(9, 221, 55,  0.5798336863517761); padding: 1px 5px; border: solid 3px ; border-color: rgba(9, 221, 55,  1); #EFEFEF\">'s murderer</span> <span style=\"background-color: rgba(9, 221, 55,  0.4166513979434967); padding: 1px 5px; border: solid 3px ; border-color: rgba(9, 221, 55,  1); #EFEFEF\">in</span> <span style=\"background-color: rgba(9, 221, 55,  0.41320037841796875); padding: 1px 5px; border: solid 3px ; border-color: rgba(9, 221, 55,  1); #EFEFEF\">prison</span> <span style=\"background-color: rgba(233,30,99,0);  padding: 1px 5px; border: solid 3px ; border-color:  rgba(233,30,99,0); #EFEFEF\">forgive</span> <span style=\"background-color: rgba(233,30,99,0);  padding: 1px 5px; border: solid 3px ; border-color:  rgba(233,30,99,0); #EFEFEF\">him</span> </div>"
      ],
      "text/plain": [
       "<IPython.core.display.HTML object>"
      ]
     },
     "metadata": {},
     "output_type": "display_data"
    },
    {
     "data": {
      "text/html": [
       "<br><br>"
      ],
      "text/plain": [
       "<IPython.core.display.HTML object>"
      ]
     },
     "metadata": {},
     "output_type": "display_data"
    },
    {
     "data": {
      "text/html": [
       "<div style='display: flex; width: 400px; flex-wrap: wrap'><span style=\"background-color: rgba(9, 221, 55,  0.4377906024456024); padding: 1px 5px; border: solid 3px ; border-color: rgba(9, 221, 55,  1); #EFEFEF\">The turning point</span> <span style=\"background-color: rgba(9, 221, 55,  0.40761443972587585); padding: 1px 5px; border: solid 3px ; border-color: rgba(9, 221, 55,  1); #EFEFEF\">in</span> <span style=\"background-color: rgba(9, 221, 55,  0.6135225296020508); padding: 1px 5px; border: solid 3px ; border-color: rgba(9, 221, 55,  1); #EFEFEF\">Secret Sunshine</span> <span style=\"background-color: rgba(9, 221, 55,  0.6540510654449463); padding: 1px 5px; border: solid 3px ; border-color: rgba(9, 221, 55,  1); #EFEFEF\">comes</span> <span style=\"background-color: rgba(9, 221, 161,  0.611457109451294); padding: 1px 5px; border: solid 3px ; border-color: rgba(9, 221, 161,  1); #EFEFEF\">when</span> <span style=\"background-color: rgba(9, 221, 55,  0.7528114318847656); padding: 1px 5px; border: solid 3px ; border-color: rgba(9, 221, 55,  1); #EFEFEF\">Jun</span> <span style=\"background-color: rgba(9, 221, 55,  0.8687800168991089); padding: 1px 5px; border: solid 3px ; border-color: rgba(9, 221, 55,  1); #EFEFEF\">Shin-ae</span> <span style=\"background-color: rgba(9, 221, 55,  0.5629539489746094); padding: 1px 5px; border: solid 3px ; border-color: rgba(9, 221, 55,  1); #EFEFEF\">'s son</span> <span style=\"background-color: rgba(9, 221, 55,  0.9988813400268555); padding: 1px 5px; border: solid 3px ; border-color: rgba(9, 221, 55,  1); #EFEFEF\">is kidnapped and killed</span> </div>"
      ],
      "text/plain": [
       "<IPython.core.display.HTML object>"
      ]
     },
     "metadata": {},
     "output_type": "display_data"
    },
    {
     "data": {
      "text/html": [
       "<br><br>"
      ],
      "text/plain": [
       "<IPython.core.display.HTML object>"
      ]
     },
     "metadata": {},
     "output_type": "display_data"
    },
    {
     "data": {
      "text/html": [
       "<div style='display: flex; width: 400px; flex-wrap: wrap'><span style=\"background-color: rgba(9, 221, 55,  0.8173108100891113); padding: 1px 5px; border: solid 3px ; border-color: rgba(9, 221, 55,  1); #EFEFEF\">She</span> <span style=\"background-color: rgba(9, 221, 55,  0.8924905061721802); padding: 1px 5px; border: solid 3px ; border-color: rgba(9, 221, 55,  1); #EFEFEF\">becomes</span> <span style=\"background-color: rgba(221, 90, 9,  0.8595178723335266); padding: 1px 5px; border: solid 3px ; border-color: rgba(221, 90, 9,  1); #EFEFEF\">crazier and crazier</span> <span style=\"background-color: rgba(9, 221, 55,  0.3676060438156128); padding: 1px 5px; border: solid 3px ; border-color: rgba(9, 221, 55,  1); #EFEFEF\">is sent</span> <span style=\"background-color: rgba(221, 90, 9,  0.3646598160266876); padding: 1px 5px; border: solid 3px ; border-color: rgba(221, 90, 9,  1); #EFEFEF\">to</span> <span style=\"background-color: rgba(221, 90, 9,  0.9986621141433716); padding: 1px 5px; border: solid 3px ; border-color: rgba(221, 90, 9,  1); #EFEFEF\">a mental hospital</span> </div>"
      ],
      "text/plain": [
       "<IPython.core.display.HTML object>"
      ]
     },
     "metadata": {},
     "output_type": "display_data"
    },
    {
     "data": {
      "text/html": [
       "<br><br>"
      ],
      "text/plain": [
       "<IPython.core.display.HTML object>"
      ]
     },
     "metadata": {},
     "output_type": "display_data"
    },
    {
     "name": "stdout",
     "output_type": "stream",
     "text": [
      "\n",
      "\n",
      "10 most important reviews for positive predicted label - concept2:\n",
      "\n",
      "\n"
     ]
    },
    {
     "data": {
      "text/html": [
       "<div style='display: flex; width: 400px; flex-wrap: wrap'><span style=\"background-color: rgba(9, 221, 161,  0.3898327052593231); padding: 1px 5px; border: solid 3px ; border-color: rgba(9, 221, 161,  1); #EFEFEF\">it</span> <span style=\"background-color: rgba(9, 221, 161,  0.3107396066188812); padding: 1px 5px; border: solid 3px ; border-color: rgba(9, 221, 161,  1); #EFEFEF\">does have</span> <span style=\"background-color: rgba(9, 221, 161,  0.7261356115341187); padding: 1px 5px; border: solid 3px ; border-color: rgba(9, 221, 161,  1); #EFEFEF\">a little something</span> <span style=\"background-color: rgba(233,30,99,0);  padding: 1px 5px; border: solid 3px ; border-color:  rgba(233,30,99,0); #EFEFEF\">for</span> <span style=\"background-color: rgba(9, 221, 161,  0.87721186876297); padding: 1px 5px; border: solid 3px ; border-color: rgba(9, 221, 161,  1); #EFEFEF\">almost everyone</span> <span style=\"background-color: rgba(233,30,99,0);  padding: 1px 5px; border: solid 3px ; border-color:  rgba(233,30,99,0); #EFEFEF\">including</span> <span style=\"background-color: rgba(9, 221, 161,  0.366705983877182); padding: 1px 5px; border: solid 3px ; border-color: rgba(9, 221, 161,  1); #EFEFEF\">a couple</span> <span style=\"background-color: rgba(9, 221, 161,  0.2738567292690277); padding: 1px 5px; border: solid 3px ; border-color: rgba(9, 221, 161,  1); #EFEFEF\">of</span> <span style=\"background-color: rgba(9, 221, 161,  0.9995966553688049); padding: 1px 5px; border: solid 3px ; border-color: rgba(9, 221, 161,  1); #EFEFEF\">really cool abduction scenes</span> <span style=\"background-color: rgba(9, 221, 161,  0.2693687975406647); padding: 1px 5px; border: solid 3px ; border-color: rgba(9, 221, 161,  1); #EFEFEF\">with</span> <span style=\"background-color: rgba(9, 221, 161,  0.49789711833000183); padding: 1px 5px; border: solid 3px ; border-color: rgba(9, 221, 161,  1); #EFEFEF\">aliens</span> </div>"
      ],
      "text/plain": [
       "<IPython.core.display.HTML object>"
      ]
     },
     "metadata": {},
     "output_type": "display_data"
    },
    {
     "data": {
      "text/html": [
       "<br><br>"
      ],
      "text/plain": [
       "<IPython.core.display.HTML object>"
      ]
     },
     "metadata": {},
     "output_type": "display_data"
    },
    {
     "data": {
      "text/html": [
       "<div style='display: flex; width: 400px; flex-wrap: wrap'><span style=\"background-color: rgba(9, 221, 161,  0.4889647960662842); padding: 1px 5px; border: solid 3px ; border-color: rgba(9, 221, 161,  1); #EFEFEF\">It</span> <span style=\"background-color: rgba(9, 221, 161,  0.8583250641822815); padding: 1px 5px; border: solid 3px ; border-color: rgba(9, 221, 161,  1); #EFEFEF\">'s</span> <span style=\"background-color: rgba(9, 221, 161,  0.7110464572906494); padding: 1px 5px; border: solid 3px ; border-color: rgba(9, 221, 161,  1); #EFEFEF\">about</span> <span style=\"background-color: rgba(9, 221, 161,  0.6541609168052673); padding: 1px 5px; border: solid 3px ; border-color: rgba(9, 221, 161,  1); #EFEFEF\">football</span> <span style=\"background-color: rgba(221, 9, 140, 0.6779186129570007); padding: 1px 5px; border: solid 3px ; border-color: rgba(221, 9, 140, 1); #EFEFEF\">its funny</span> <span style=\"background-color: rgba(221, 9, 140, 0.5309448838233948); padding: 1px 5px; border: solid 3px ; border-color: rgba(221, 9, 140, 1); #EFEFEF\">its</span> <span style=\"background-color: rgba(9, 221, 161,  0.999010443687439); padding: 1px 5px; border: solid 3px ; border-color: rgba(9, 221, 161,  1); #EFEFEF\">really funny</span> </div>"
      ],
      "text/plain": [
       "<IPython.core.display.HTML object>"
      ]
     },
     "metadata": {},
     "output_type": "display_data"
    },
    {
     "data": {
      "text/html": [
       "<br><br>"
      ],
      "text/plain": [
       "<IPython.core.display.HTML object>"
      ]
     },
     "metadata": {},
     "output_type": "display_data"
    },
    {
     "data": {
      "text/html": [
       "<div style='display: flex; width: 400px; flex-wrap: wrap'><span style=\"background-color: rgba(9, 221, 161,  0.7357175350189209); padding: 1px 5px; border: solid 3px ; border-color: rgba(9, 221, 161,  1); #EFEFEF\">we</span> <span style=\"background-color: rgba(9, 221, 161,  0.7054471373558044); padding: 1px 5px; border: solid 3px ; border-color: rgba(9, 221, 161,  1); #EFEFEF\">re</span> <span style=\"background-color: rgba(9, 221, 161,  0.6126024127006531); padding: 1px 5px; border: solid 3px ; border-color: rgba(9, 221, 161,  1); #EFEFEF\">different</span> <span style=\"background-color: rgba(9, 221, 161,  0.6552577614784241); padding: 1px 5px; border: solid 3px ; border-color: rgba(9, 221, 161,  1); #EFEFEF\">Made</span> <span style=\"background-color: rgba(9, 221, 161,  0.5599809288978577); padding: 1px 5px; border: solid 3px ; border-color: rgba(9, 221, 161,  1); #EFEFEF\">of</span> <span style=\"background-color: rgba(9, 221, 161,  0.7571373581886292); padding: 1px 5px; border: solid 3px ; border-color: rgba(9, 221, 161,  1); #EFEFEF\">different clay</span> <span style=\"background-color: rgba(9, 221, 161,  0.6298407912254333); padding: 1px 5px; border: solid 3px ; border-color: rgba(9, 221, 161,  1); #EFEFEF\">as</span> <span style=\"background-color: rgba(9, 221, 161,  0.46015605330467224); padding: 1px 5px; border: solid 3px ; border-color: rgba(9, 221, 161,  1); #EFEFEF\">one</span> <span style=\"background-color: rgba(9, 221, 161,  0.562781810760498); padding: 1px 5px; border: solid 3px ; border-color: rgba(9, 221, 161,  1); #EFEFEF\">of</span> <span style=\"background-color: rgba(9, 221, 161,  0.7233331203460693); padding: 1px 5px; border: solid 3px ; border-color: rgba(9, 221, 161,  1); #EFEFEF\">the characters</span> <span style=\"background-color: rgba(9, 221, 161,  0.9130335450172424); padding: 1px 5px; border: solid 3px ; border-color: rgba(9, 221, 161,  1); #EFEFEF\">in</span> <span style=\"background-color: rgba(233,30,99,0);  padding: 1px 5px; border: solid 3px ; border-color:  rgba(233,30,99,0); #EFEFEF\">this film</span> <span style=\"background-color: rgba(9, 221, 161,  0.7742295265197754); padding: 1px 5px; border: solid 3px ; border-color: rgba(9, 221, 161,  1); #EFEFEF\">puts</span> <span style=\"background-color: rgba(9, 221, 161,  0.5528854727745056); padding: 1px 5px; border: solid 3px ; border-color: rgba(9, 221, 161,  1); #EFEFEF\">it</span> <span style=\"background-color: rgba(9, 221, 161,  0.6961339116096497); padding: 1px 5px; border: solid 3px ; border-color: rgba(9, 221, 161,  1); #EFEFEF\">which</span> <span style=\"background-color: rgba(9, 221, 161,  0.9994556903839111); padding: 1px 5px; border: solid 3px ; border-color: rgba(9, 221, 161,  1); #EFEFEF\">is</span> <span style=\"background-color: rgba(9, 221, 161,  0.9362105131149292); padding: 1px 5px; border: solid 3px ; border-color: rgba(9, 221, 161,  1); #EFEFEF\">what</span> <span style=\"background-color: rgba(9, 221, 161,  0.5971397757530212); padding: 1px 5px; border: solid 3px ; border-color: rgba(9, 221, 161,  1); #EFEFEF\">makes</span> <span style=\"background-color: rgba(9, 221, 161,  0.3585222065448761); padding: 1px 5px; border: solid 3px ; border-color: rgba(9, 221, 161,  1); #EFEFEF\">life</span> <span style=\"background-color: rgba(9, 221, 161,  0.635229229927063); padding: 1px 5px; border: solid 3px ; border-color: rgba(9, 221, 161,  1); #EFEFEF\">so interesting</span> </div>"
      ],
      "text/plain": [
       "<IPython.core.display.HTML object>"
      ]
     },
     "metadata": {},
     "output_type": "display_data"
    },
    {
     "data": {
      "text/html": [
       "<br><br>"
      ],
      "text/plain": [
       "<IPython.core.display.HTML object>"
      ]
     },
     "metadata": {},
     "output_type": "display_data"
    },
    {
     "data": {
      "text/html": [
       "<div style='display: flex; width: 400px; flex-wrap: wrap'><span style=\"background-color: rgba(9, 221, 161,  0.6710013151168823); padding: 1px 5px; border: solid 3px ; border-color: rgba(9, 221, 161,  1); #EFEFEF\">I</span> <span style=\"background-color: rgba(9, 221, 161,  0.7634456157684326); padding: 1px 5px; border: solid 3px ; border-color: rgba(9, 221, 161,  1); #EFEFEF\">like</span> <span style=\"background-color: rgba(9, 221, 161,  0.6504011750221252); padding: 1px 5px; border: solid 3px ; border-color: rgba(9, 221, 161,  1); #EFEFEF\">this movie</span> <span style=\"background-color: rgba(9, 221, 161,  0.7460498809814453); padding: 1px 5px; border: solid 3px ; border-color: rgba(9, 221, 161,  1); #EFEFEF\">a lot</span> <span style=\"background-color: rgba(233,30,99,0);  padding: 1px 5px; border: solid 3px ; border-color:  rgba(233,30,99,0); #EFEFEF\">it</span> <span style=\"background-color: rgba(9, 221, 161,  0.7730144262313843); padding: 1px 5px; border: solid 3px ; border-color: rgba(9, 221, 161,  1); #EFEFEF\">'s</span> <span style=\"background-color: rgba(9, 221, 161,  0.5176911950111389); padding: 1px 5px; border: solid 3px ; border-color: rgba(9, 221, 161,  1); #EFEFEF\">a fact</span> <span style=\"background-color: rgba(9, 221, 161,  0.36806416511535645); padding: 1px 5px; border: solid 3px ; border-color: rgba(9, 221, 161,  1); #EFEFEF\">that</span> <span style=\"background-color: rgba(9, 221, 161,  0.2630171775817871); padding: 1px 5px; border: solid 3px ; border-color: rgba(9, 221, 161,  1); #EFEFEF\">you</span> <span style=\"background-color: rgba(233,30,99,0);  padding: 1px 5px; border: solid 3px ; border-color:  rgba(233,30,99,0); #EFEFEF\">cannot understand</span> <span style=\"background-color: rgba(9, 221, 161,  0.41220808029174805); padding: 1px 5px; border: solid 3px ; border-color: rgba(9, 221, 161,  1); #EFEFEF\">it</span> <span style=\"background-color: rgba(9, 221, 161,  0.5574426651000977); padding: 1px 5px; border: solid 3px ; border-color: rgba(9, 221, 161,  1); #EFEFEF\">unless</span> <span style=\"background-color: rgba(9, 221, 161,  0.4810662865638733); padding: 1px 5px; border: solid 3px ; border-color: rgba(9, 221, 161,  1); #EFEFEF\">you</span> <span style=\"background-color: rgba(9, 221, 161,  0.5422279238700867); padding: 1px 5px; border: solid 3px ; border-color: rgba(9, 221, 161,  1); #EFEFEF\">'re</span> <span style=\"background-color: rgba(9, 221, 161,  0.37762942910194397); padding: 1px 5px; border: solid 3px ; border-color: rgba(9, 221, 161,  1); #EFEFEF\">from</span> <span style=\"background-color: rgba(233,30,99,0);  padding: 1px 5px; border: solid 3px ; border-color:  rgba(233,30,99,0); #EFEFEF\">the ex Yugoslavia</span> </div>"
      ],
      "text/plain": [
       "<IPython.core.display.HTML object>"
      ]
     },
     "metadata": {},
     "output_type": "display_data"
    },
    {
     "data": {
      "text/html": [
       "<br><br>"
      ],
      "text/plain": [
       "<IPython.core.display.HTML object>"
      ]
     },
     "metadata": {},
     "output_type": "display_data"
    },
    {
     "data": {
      "text/html": [
       "<div style='display: flex; width: 400px; flex-wrap: wrap'><span style=\"background-color: rgba(9, 221, 161,  0.4455406665802002); padding: 1px 5px; border: solid 3px ; border-color: rgba(9, 221, 161,  1); #EFEFEF\">Everyone</span> <span style=\"background-color: rgba(9, 221, 161,  0.4155946671962738); padding: 1px 5px; border: solid 3px ; border-color: rgba(9, 221, 161,  1); #EFEFEF\">plays</span> <span style=\"background-color: rgba(9, 221, 161,  0.28500258922576904); padding: 1px 5px; border: solid 3px ; border-color: rgba(9, 221, 161,  1); #EFEFEF\">their part</span> <span style=\"background-color: rgba(9, 221, 161,  0.49523669481277466); padding: 1px 5px; border: solid 3px ; border-color: rgba(9, 221, 161,  1); #EFEFEF\">pretty well</span> <span style=\"background-color: rgba(9, 221, 161,  0.5945330262184143); padding: 1px 5px; border: solid 3px ; border-color: rgba(9, 221, 161,  1); #EFEFEF\">in</span> <span style=\"background-color: rgba(9, 221, 161,  0.9994890093803406); padding: 1px 5px; border: solid 3px ; border-color: rgba(9, 221, 161,  1); #EFEFEF\">this little nice movie</span> </div>"
      ],
      "text/plain": [
       "<IPython.core.display.HTML object>"
      ]
     },
     "metadata": {},
     "output_type": "display_data"
    },
    {
     "data": {
      "text/html": [
       "<br><br>"
      ],
      "text/plain": [
       "<IPython.core.display.HTML object>"
      ]
     },
     "metadata": {},
     "output_type": "display_data"
    },
    {
     "data": {
      "text/html": [
       "<div style='display: flex; width: 400px; flex-wrap: wrap'><span style=\"background-color: rgba(9, 221, 161,  0.5637810826301575); padding: 1px 5px; border: solid 3px ; border-color: rgba(9, 221, 161,  1); #EFEFEF\">They</span> <span style=\"background-color: rgba(9, 221, 161,  0.5247067809104919); padding: 1px 5px; border: solid 3px ; border-color: rgba(9, 221, 161,  1); #EFEFEF\">work</span> <span style=\"background-color: rgba(9, 221, 161,  0.45015445351600647); padding: 1px 5px; border: solid 3px ; border-color: rgba(9, 221, 161,  1); #EFEFEF\">together</span> <span style=\"background-color: rgba(9, 221, 161,  0.6431670784950256); padding: 1px 5px; border: solid 3px ; border-color: rgba(9, 221, 161,  1); #EFEFEF\">as</span> <span style=\"background-color: rgba(9, 221, 161,  0.5097581744194031); padding: 1px 5px; border: solid 3px ; border-color: rgba(9, 221, 161,  1); #EFEFEF\">a team</span> <span style=\"background-color: rgba(9, 221, 161,  0.47883811593055725); padding: 1px 5px; border: solid 3px ; border-color: rgba(9, 221, 161,  1); #EFEFEF\">prosper</span> <span style=\"background-color: rgba(9, 221, 161,  0.5206140875816345); padding: 1px 5px; border: solid 3px ; border-color: rgba(9, 221, 161,  1); #EFEFEF\">from</span> <span style=\"background-color: rgba(9, 221, 161,  0.58650141954422); padding: 1px 5px; border: solid 3px ; border-color: rgba(9, 221, 161,  1); #EFEFEF\">their occupation</span> <span style=\"background-color: rgba(9, 221, 161,  0.5341970324516296); padding: 1px 5px; border: solid 3px ; border-color: rgba(9, 221, 161,  1); #EFEFEF\">when</span> <span style=\"background-color: rgba(9, 221, 161,  0.5433619618415833); padding: 1px 5px; border: solid 3px ; border-color: rgba(9, 221, 161,  1); #EFEFEF\">they</span> <span style=\"background-color: rgba(9, 221, 161,  0.537887692451477); padding: 1px 5px; border: solid 3px ; border-color: rgba(9, 221, 161,  1); #EFEFEF\">are asked</span> <span style=\"background-color: rgba(9, 221, 161,  0.5403913855552673); padding: 1px 5px; border: solid 3px ; border-color: rgba(9, 221, 161,  1); #EFEFEF\">by</span> <span style=\"background-color: rgba(9, 221, 161,  0.49867764115333557); padding: 1px 5px; border: solid 3px ; border-color: rgba(9, 221, 161,  1); #EFEFEF\">a local tycoon</span> <span style=\"background-color: rgba(9, 221, 161,  0.5247243046760559); padding: 1px 5px; border: solid 3px ; border-color: rgba(9, 221, 161,  1); #EFEFEF\">to lose</span> <span style=\"background-color: rgba(9, 221, 161,  0.7294999361038208); padding: 1px 5px; border: solid 3px ; border-color: rgba(9, 221, 161,  1); #EFEFEF\">one race things</span> <span style=\"background-color: rgba(9, 221, 161,  0.6490465402603149); padding: 1px 5px; border: solid 3px ; border-color: rgba(9, 221, 161,  1); #EFEFEF\">start to get</span> <span style=\"background-color: rgba(9, 221, 161,  0.5803408026695251); padding: 1px 5px; border: solid 3px ; border-color: rgba(9, 221, 161,  1); #EFEFEF\">messy</span> <span style=\"background-color: rgba(9, 221, 161,  0.5803934335708618); padding: 1px 5px; border: solid 3px ; border-color: rgba(9, 221, 161,  1); #EFEFEF\">the fuse</span> <span style=\"background-color: rgba(9, 221, 161,  0.550484836101532); padding: 1px 5px; border: solid 3px ; border-color: rgba(9, 221, 161,  1); #EFEFEF\">from</span> <span style=\"background-color: rgba(9, 221, 161,  0.5631216168403625); padding: 1px 5px; border: solid 3px ; border-color: rgba(9, 221, 161,  1); #EFEFEF\">the bomb</span> <span style=\"background-color: rgba(9, 221, 161,  0.5340279340744019); padding: 1px 5px; border: solid 3px ; border-color: rgba(9, 221, 161,  1); #EFEFEF\">lights</span> <span style=\"background-color: rgba(9, 221, 161,  0.5886552333831787); padding: 1px 5px; border: solid 3px ; border-color: rgba(9, 221, 161,  1); #EFEFEF\">up</span> <span style=\"background-color: rgba(9, 221, 161,  0.8372910022735596); padding: 1px 5px; border: solid 3px ; border-color: rgba(9, 221, 161,  1); #EFEFEF\">creating</span> <span style=\"background-color: rgba(9, 221, 161,  0.9996103644371033); padding: 1px 5px; border: solid 3px ; border-color: rgba(9, 221, 161,  1); #EFEFEF\">a very tensionated movie</span> <span style=\"background-color: rgba(9, 221, 161,  0.704461932182312); padding: 1px 5px; border: solid 3px ; border-color: rgba(9, 221, 161,  1); #EFEFEF\">that</span> <span style=\"background-color: rgba(9, 221, 161,  0.44546276330947876); padding: 1px 5px; border: solid 3px ; border-color: rgba(9, 221, 161,  1); #EFEFEF\">will keep</span> <span style=\"background-color: rgba(9, 221, 161,  0.5510014891624451); padding: 1px 5px; border: solid 3px ; border-color: rgba(9, 221, 161,  1); #EFEFEF\">you</span> <span style=\"background-color: rgba(9, 221, 161,  0.5391876101493835); padding: 1px 5px; border: solid 3px ; border-color: rgba(9, 221, 161,  1); #EFEFEF\">close</span> <span style=\"background-color: rgba(9, 221, 161,  0.5886993408203125); padding: 1px 5px; border: solid 3px ; border-color: rgba(9, 221, 161,  1); #EFEFEF\">to</span> <span style=\"background-color: rgba(9, 221, 161,  0.5029129981994629); padding: 1px 5px; border: solid 3px ; border-color: rgba(9, 221, 161,  1); #EFEFEF\">the screen</span> <span style=\"background-color: rgba(9, 221, 161,  0.5509324669837952); padding: 1px 5px; border: solid 3px ; border-color: rgba(9, 221, 161,  1); #EFEFEF\">until</span> <span style=\"background-color: rgba(9, 221, 161,  0.5466633439064026); padding: 1px 5px; border: solid 3px ; border-color: rgba(9, 221, 161,  1); #EFEFEF\">the ending</span> <span style=\"background-color: rgba(9, 221, 161,  0.5318403244018555); padding: 1px 5px; border: solid 3px ; border-color: rgba(9, 221, 161,  1); #EFEFEF\">of</span> <span style=\"background-color: rgba(9, 221, 161,  0.5739730596542358); padding: 1px 5px; border: solid 3px ; border-color: rgba(9, 221, 161,  1); #EFEFEF\">it</span> <span style=\"background-color: rgba(9, 221, 161,  0.5313051342964172); padding: 1px 5px; border: solid 3px ; border-color: rgba(9, 221, 161,  1); #EFEFEF\">when</span> <span style=\"background-color: rgba(9, 221, 161,  0.5035275220870972); padding: 1px 5px; border: solid 3px ; border-color: rgba(9, 221, 161,  1); #EFEFEF\">you</span> <span style=\"background-color: rgba(9, 221, 161,  0.5791599750518799); padding: 1px 5px; border: solid 3px ; border-color: rgba(9, 221, 161,  1); #EFEFEF\">will still be asking</span> <span style=\"background-color: rgba(9, 221, 161,  0.5356428027153015); padding: 1px 5px; border: solid 3px ; border-color: rgba(9, 221, 161,  1); #EFEFEF\">yourself</span> <span style=\"background-color: rgba(9, 221, 161,  0.6126431226730347); padding: 1px 5px; border: solid 3px ; border-color: rgba(9, 221, 161,  1); #EFEFEF\">a lot</span> <span style=\"background-color: rgba(9, 221, 161,  0.5541471242904663); padding: 1px 5px; border: solid 3px ; border-color: rgba(9, 221, 161,  1); #EFEFEF\">of</span> <span style=\"background-color: rgba(9, 221, 161,  0.5747749209403992); padding: 1px 5px; border: solid 3px ; border-color: rgba(9, 221, 161,  1); #EFEFEF\">questions</span> <span style=\"background-color: rgba(9, 221, 161,  0.5786963701248169); padding: 1px 5px; border: solid 3px ; border-color: rgba(9, 221, 161,  1); #EFEFEF\">long</span> <span style=\"background-color: rgba(9, 221, 161,  0.5376622676849365); padding: 1px 5px; border: solid 3px ; border-color: rgba(9, 221, 161,  1); #EFEFEF\">after</span> <span style=\"background-color: rgba(9, 221, 161,  0.5910491943359375); padding: 1px 5px; border: solid 3px ; border-color: rgba(9, 221, 161,  1); #EFEFEF\">that</span> </div>"
      ],
      "text/plain": [
       "<IPython.core.display.HTML object>"
      ]
     },
     "metadata": {},
     "output_type": "display_data"
    },
    {
     "data": {
      "text/html": [
       "<br><br>"
      ],
      "text/plain": [
       "<IPython.core.display.HTML object>"
      ]
     },
     "metadata": {},
     "output_type": "display_data"
    },
    {
     "data": {
      "text/html": [
       "<div style='display: flex; width: 400px; flex-wrap: wrap'><span style=\"background-color: rgba(9, 221, 161,  0.7335010170936584); padding: 1px 5px; border: solid 3px ; border-color: rgba(9, 221, 161,  1); #EFEFEF\">I</span> <span style=\"background-color: rgba(9, 221, 161,  0.58930504322052); padding: 1px 5px; border: solid 3px ; border-color: rgba(9, 221, 161,  1); #EFEFEF\">picked</span> <span style=\"background-color: rgba(9, 221, 161,  0.263492614030838); padding: 1px 5px; border: solid 3px ; border-color: rgba(9, 221, 161,  1); #EFEFEF\">up</span> <span style=\"background-color: rgba(9, 221, 161,  0.4779796004295349); padding: 1px 5px; border: solid 3px ; border-color: rgba(9, 221, 161,  1); #EFEFEF\">Loving</span> <span style=\"background-color: rgba(9, 221, 161,  0.527375340461731); padding: 1px 5px; border: solid 3px ; border-color: rgba(9, 221, 161,  1); #EFEFEF\">on</span> <span style=\"background-color: rgba(9, 221, 161,  0.5356624126434326); padding: 1px 5px; border: solid 3px ; border-color: rgba(9, 221, 161,  1); #EFEFEF\">Tokyo Time</span> <span style=\"background-color: rgba(9, 221, 161,  0.998887300491333); padding: 1px 5px; border: solid 3px ; border-color: rgba(9, 221, 161,  1); #EFEFEF\">because</span> <span style=\"background-color: rgba(9, 221, 161,  0.43454164266586304); padding: 1px 5px; border: solid 3px ; border-color: rgba(9, 221, 161,  1); #EFEFEF\">it</span> <span style=\"background-color: rgba(9, 221, 161,  0.5840358734130859); padding: 1px 5px; border: solid 3px ; border-color: rgba(9, 221, 161,  1); #EFEFEF\">reminded</span> <span style=\"background-color: rgba(9, 221, 161,  0.37478822469711304); padding: 1px 5px; border: solid 3px ; border-color: rgba(9, 221, 161,  1); #EFEFEF\">me</span> <span style=\"background-color: rgba(9, 221, 161,  0.4577442705631256); padding: 1px 5px; border: solid 3px ; border-color: rgba(9, 221, 161,  1); #EFEFEF\">of</span> <span style=\"background-color: rgba(9, 221, 161,  0.263452410697937); padding: 1px 5px; border: solid 3px ; border-color: rgba(9, 221, 161,  1); #EFEFEF\">one</span> <span style=\"background-color: rgba(9, 221, 161,  0.31266364455223083); padding: 1px 5px; border: solid 3px ; border-color: rgba(9, 221, 161,  1); #EFEFEF\">of</span> <span style=\"background-color: rgba(221, 9, 140, 0.625426709651947); padding: 1px 5px; border: solid 3px ; border-color: rgba(221, 9, 140, 1); #EFEFEF\">my favorite 80s films</span> <span style=\"background-color: rgba(9, 221, 161,  0.3602980077266693); padding: 1px 5px; border: solid 3px ; border-color: rgba(9, 221, 161,  1); #EFEFEF\">Tokyo Pop</span> </div>"
      ],
      "text/plain": [
       "<IPython.core.display.HTML object>"
      ]
     },
     "metadata": {},
     "output_type": "display_data"
    },
    {
     "data": {
      "text/html": [
       "<br><br>"
      ],
      "text/plain": [
       "<IPython.core.display.HTML object>"
      ]
     },
     "metadata": {},
     "output_type": "display_data"
    },
    {
     "data": {
      "text/html": [
       "<div style='display: flex; width: 400px; flex-wrap: wrap'><span style=\"background-color: rgba(233,30,99,0);  padding: 1px 5px; border: solid 3px ; border-color:  rgba(233,30,99,0); #EFEFEF\">I</span> <span style=\"background-color: rgba(9, 221, 161,  0.6379975080490112); padding: 1px 5px; border: solid 3px ; border-color: rgba(9, 221, 161,  1); #EFEFEF\">'ve just finished listening</span> <span style=\"background-color: rgba(233,30,99,0);  padding: 1px 5px; border: solid 3px ; border-color:  rgba(233,30,99,0); #EFEFEF\">to</span> <span style=\"background-color: rgba(233,30,99,0);  padding: 1px 5px; border: solid 3px ; border-color:  rgba(233,30,99,0); #EFEFEF\">the director</span> <span style=\"background-color: rgba(233,30,99,0);  padding: 1px 5px; border: solid 3px ; border-color:  rgba(233,30,99,0); #EFEFEF\">'s commentary</span> <span style=\"background-color: rgba(233,30,99,0);  padding: 1px 5px; border: solid 3px ; border-color:  rgba(233,30,99,0); #EFEFEF\">for</span> <span style=\"background-color: rgba(233,30,99,0);  padding: 1px 5px; border: solid 3px ; border-color:  rgba(233,30,99,0); #EFEFEF\">this film</span> <span style=\"background-color: rgba(233,30,99,0);  padding: 1px 5px; border: solid 3px ; border-color:  rgba(233,30,99,0); #EFEFEF\">I</span> <span style=\"background-color: rgba(233,30,99,0);  padding: 1px 5px; border: solid 3px ; border-color:  rgba(233,30,99,0); #EFEFEF\">think</span> <span style=\"background-color: rgba(9, 221, 161,  0.30805084109306335); padding: 1px 5px; border: solid 3px ; border-color: rgba(9, 221, 161,  1); #EFEFEF\">the one big thing</span> <span style=\"background-color: rgba(233,30,99,0);  padding: 1px 5px; border: solid 3px ; border-color:  rgba(233,30,99,0); #EFEFEF\">I</span> <span style=\"background-color: rgba(233,30,99,0);  padding: 1px 5px; border: solid 3px ; border-color:  rgba(233,30,99,0); #EFEFEF\">got</span> <span style=\"background-color: rgba(233,30,99,0);  padding: 1px 5px; border: solid 3px ; border-color:  rgba(233,30,99,0); #EFEFEF\">from</span> <span style=\"background-color: rgba(233,30,99,0);  padding: 1px 5px; border: solid 3px ; border-color:  rgba(233,30,99,0); #EFEFEF\">it</span> <span style=\"background-color: rgba(233,30,99,0);  padding: 1px 5px; border: solid 3px ; border-color:  rgba(233,30,99,0); #EFEFEF\">that</span> <span style=\"background-color: rgba(233,30,99,0);  padding: 1px 5px; border: solid 3px ; border-color:  rgba(233,30,99,0); #EFEFEF\">I</span> <span style=\"background-color: rgba(233,30,99,0);  padding: 1px 5px; border: solid 3px ; border-color:  rgba(233,30,99,0); #EFEFEF\">agree</span> <span style=\"background-color: rgba(233,30,99,0);  padding: 1px 5px; border: solid 3px ; border-color:  rgba(233,30,99,0); #EFEFEF\">with</span> <span style=\"background-color: rgba(233,30,99,0);  padding: 1px 5px; border: solid 3px ; border-color:  rgba(233,30,99,0); #EFEFEF\">is</span> <span style=\"background-color: rgba(233,30,99,0);  padding: 1px 5px; border: solid 3px ; border-color:  rgba(233,30,99,0); #EFEFEF\">that</span> <span style=\"background-color: rgba(233,30,99,0);  padding: 1px 5px; border: solid 3px ; border-color:  rgba(233,30,99,0); #EFEFEF\">this film</span> <span style=\"background-color: rgba(233,30,99,0);  padding: 1px 5px; border: solid 3px ; border-color:  rgba(233,30,99,0); #EFEFEF\">like</span> <span style=\"background-color: rgba(233,30,99,0);  padding: 1px 5px; border: solid 3px ; border-color:  rgba(233,30,99,0); #EFEFEF\">Mann</span> <span style=\"background-color: rgba(221, 9, 140, 0.20354202389717102); padding: 1px 5px; border: solid 3px ; border-color: rgba(221, 9, 140, 1); #EFEFEF\">'s The Insider</span> <span style=\"background-color: rgba(233,30,99,0);  padding: 1px 5px; border: solid 3px ; border-color:  rgba(233,30,99,0); #EFEFEF\">is</span> <span style=\"background-color: rgba(233,30,99,0);  padding: 1px 5px; border: solid 3px ; border-color:  rgba(233,30,99,0); #EFEFEF\">completely subjective</span> </div>"
      ],
      "text/plain": [
       "<IPython.core.display.HTML object>"
      ]
     },
     "metadata": {},
     "output_type": "display_data"
    },
    {
     "data": {
      "text/html": [
       "<br><br>"
      ],
      "text/plain": [
       "<IPython.core.display.HTML object>"
      ]
     },
     "metadata": {},
     "output_type": "display_data"
    },
    {
     "data": {
      "text/html": [
       "<div style='display: flex; width: 400px; flex-wrap: wrap'><span style=\"background-color: rgba(9, 221, 161,  0.5096863508224487); padding: 1px 5px; border: solid 3px ; border-color: rgba(9, 221, 161,  1); #EFEFEF\">It</span> <span style=\"background-color: rgba(9, 221, 161,  0.7046330571174622); padding: 1px 5px; border: solid 3px ; border-color: rgba(9, 221, 161,  1); #EFEFEF\">'s</span> <span style=\"background-color: rgba(9, 221, 161,  0.9990277290344238); padding: 1px 5px; border: solid 3px ; border-color: rgba(9, 221, 161,  1); #EFEFEF\">sad</span> <span style=\"background-color: rgba(9, 221, 161,  0.425800085067749); padding: 1px 5px; border: solid 3px ; border-color: rgba(9, 221, 161,  1); #EFEFEF\">in</span> <span style=\"background-color: rgba(9, 221, 161,  0.3470158278942108); padding: 1px 5px; border: solid 3px ; border-color: rgba(9, 221, 161,  1); #EFEFEF\">that</span> <span style=\"background-color: rgba(9, 221, 161,  0.8228155970573425); padding: 1px 5px; border: solid 3px ; border-color: rgba(9, 221, 161,  1); #EFEFEF\">this</span> <span style=\"background-color: rgba(9, 221, 161,  0.49148765206336975); padding: 1px 5px; border: solid 3px ; border-color: rgba(9, 221, 161,  1); #EFEFEF\">is</span> <span style=\"background-color: rgba(221, 9, 140, 0.4977744221687317); padding: 1px 5px; border: solid 3px ; border-color: rgba(221, 9, 140, 1); #EFEFEF\">finally</span> <span style=\"background-color: rgba(9, 221, 161,  0.7574464082717896); padding: 1px 5px; border: solid 3px ; border-color: rgba(9, 221, 161,  1); #EFEFEF\">someone</span> <span style=\"background-color: rgba(9, 221, 161,  0.8493031859397888); padding: 1px 5px; border: solid 3px ; border-color: rgba(9, 221, 161,  1); #EFEFEF\">Ken</span> <span style=\"background-color: rgba(9, 221, 161,  0.5910929441452026); padding: 1px 5px; border: solid 3px ; border-color: rgba(9, 221, 161,  1); #EFEFEF\">thinks</span> <span style=\"background-color: rgba(9, 221, 161,  0.3346073627471924); padding: 1px 5px; border: solid 3px ; border-color: rgba(9, 221, 161,  1); #EFEFEF\">he</span> <span style=\"background-color: rgba(9, 221, 161,  0.6296592354774475); padding: 1px 5px; border: solid 3px ; border-color: rgba(9, 221, 161,  1); #EFEFEF\">can love</span> <span style=\"background-color: rgba(9, 221, 55,  0.20925891399383545); padding: 1px 5px; border: solid 3px ; border-color: rgba(9, 221, 55,  1); #EFEFEF\">be</span> <span style=\"background-color: rgba(9, 221, 161,  0.29712986946105957); padding: 1px 5px; border: solid 3px ; border-color: rgba(9, 221, 161,  1); #EFEFEF\">with</span> <span style=\"background-color: rgba(9, 221, 161,  0.3137511610984802); padding: 1px 5px; border: solid 3px ; border-color: rgba(9, 221, 161,  1); #EFEFEF\">all that</span> <span style=\"background-color: rgba(9, 221, 161,  0.23301789164543152); padding: 1px 5px; border: solid 3px ; border-color: rgba(9, 221, 161,  1); #EFEFEF\">except</span> <span style=\"background-color: rgba(9, 221, 161,  0.44686996936798096); padding: 1px 5px; border: solid 3px ; border-color: rgba(9, 221, 161,  1); #EFEFEF\">the one time</span> <span style=\"background-color: rgba(9, 221, 161,  0.2981078326702118); padding: 1px 5px; border: solid 3px ; border-color: rgba(9, 221, 161,  1); #EFEFEF\">he</span> <span style=\"background-color: rgba(9, 221, 161,  0.387302964925766); padding: 1px 5px; border: solid 3px ; border-color: rgba(9, 221, 161,  1); #EFEFEF\">thinks</span> <span style=\"background-color: rgba(9, 221, 161,  0.3474946618080139); padding: 1px 5px; border: solid 3px ; border-color: rgba(9, 221, 161,  1); #EFEFEF\">he</span> <span style=\"background-color: rgba(9, 221, 161,  0.2798019051551819); padding: 1px 5px; border: solid 3px ; border-color: rgba(9, 221, 161,  1); #EFEFEF\">'s found</span> <span style=\"background-color: rgba(9, 221, 161,  0.242066890001297); padding: 1px 5px; border: solid 3px ; border-color: rgba(9, 221, 161,  1); #EFEFEF\">someone</span> <span style=\"background-color: rgba(9, 221, 161,  0.23114345967769623); padding: 1px 5px; border: solid 3px ; border-color: rgba(9, 221, 161,  1); #EFEFEF\">to feel</span> <span style=\"background-color: rgba(9, 221, 161,  0.28621694445610046); padding: 1px 5px; border: solid 3px ; border-color: rgba(9, 221, 161,  1); #EFEFEF\">that way</span> <span style=\"background-color: rgba(9, 221, 161,  0.23606367409229279); padding: 1px 5px; border: solid 3px ; border-color: rgba(9, 221, 161,  1); #EFEFEF\">about</span> <span style=\"background-color: rgba(9, 221, 161,  0.20689447224140167); padding: 1px 5px; border: solid 3px ; border-color: rgba(9, 221, 161,  1); #EFEFEF\">the girl</span> <span style=\"background-color: rgba(9, 221, 161,  0.44311463832855225); padding: 1px 5px; border: solid 3px ; border-color: rgba(9, 221, 161,  1); #EFEFEF\">isn't expecting to stay</span> <span style=\"background-color: rgba(9, 221, 161,  0.221978560090065); padding: 1px 5px; border: solid 3px ; border-color: rgba(9, 221, 161,  1); #EFEFEF\">that long</span> </div>"
      ],
      "text/plain": [
       "<IPython.core.display.HTML object>"
      ]
     },
     "metadata": {},
     "output_type": "display_data"
    },
    {
     "data": {
      "text/html": [
       "<br><br>"
      ],
      "text/plain": [
       "<IPython.core.display.HTML object>"
      ]
     },
     "metadata": {},
     "output_type": "display_data"
    },
    {
     "data": {
      "text/html": [
       "<div style='display: flex; width: 400px; flex-wrap: wrap'><span style=\"background-color: rgba(9, 221, 161,  0.7487568855285645); padding: 1px 5px; border: solid 3px ; border-color: rgba(9, 221, 161,  1); #EFEFEF\">This</span> <span style=\"background-color: rgba(221, 9, 140, 0.7091597318649292); padding: 1px 5px; border: solid 3px ; border-color: rgba(221, 9, 140, 1); #EFEFEF\">is</span> <span style=\"background-color: rgba(221, 9, 140, 0.7413381338119507); padding: 1px 5px; border: solid 3px ; border-color: rgba(221, 9, 140, 1); #EFEFEF\">one</span> <span style=\"background-color: rgba(221, 9, 140, 0.7185651063919067); padding: 1px 5px; border: solid 3px ; border-color: rgba(221, 9, 140, 1); #EFEFEF\">of</span> <span style=\"background-color: rgba(221, 9, 140, 0.7447739243507385); padding: 1px 5px; border: solid 3px ; border-color: rgba(221, 9, 140, 1); #EFEFEF\">the most atmospheric portions</span> <span style=\"background-color: rgba(9, 221, 161,  0.4943516254425049); padding: 1px 5px; border: solid 3px ; border-color: rgba(9, 221, 161,  1); #EFEFEF\">of</span> <span style=\"background-color: rgba(9, 221, 161,  0.9993239641189575); padding: 1px 5px; border: solid 3px ; border-color: rgba(9, 221, 161,  1); #EFEFEF\">the film</span> <span style=\"background-color: rgba(9, 221, 161,  0.8590185642242432); padding: 1px 5px; border: solid 3px ; border-color: rgba(9, 221, 161,  1); #EFEFEF\">chills</span> <span style=\"background-color: rgba(9, 221, 161,  0.9186522364616394); padding: 1px 5px; border: solid 3px ; border-color: rgba(9, 221, 161,  1); #EFEFEF\">me</span> <span style=\"background-color: rgba(9, 221, 161,  0.5086460113525391); padding: 1px 5px; border: solid 3px ; border-color: rgba(9, 221, 161,  1); #EFEFEF\">whenever</span> <span style=\"background-color: rgba(221, 9, 140, 0.4337064027786255); padding: 1px 5px; border: solid 3px ; border-color: rgba(221, 9, 140, 1); #EFEFEF\">I</span> <span style=\"background-color: rgba(221, 9, 140, 0.7139348983764648); padding: 1px 5px; border: solid 3px ; border-color: rgba(221, 9, 140, 1); #EFEFEF\">see</span> <span style=\"background-color: rgba(221, 9, 140, 0.61381596326828); padding: 1px 5px; border: solid 3px ; border-color: rgba(221, 9, 140, 1); #EFEFEF\">it</span> </div>"
      ],
      "text/plain": [
       "<IPython.core.display.HTML object>"
      ]
     },
     "metadata": {},
     "output_type": "display_data"
    },
    {
     "data": {
      "text/html": [
       "<br><br>"
      ],
      "text/plain": [
       "<IPython.core.display.HTML object>"
      ]
     },
     "metadata": {},
     "output_type": "display_data"
    },
    {
     "name": "stdout",
     "output_type": "stream",
     "text": [
      "\n",
      "\n",
      "negative predicted reviews:\n",
      "\n",
      "\n",
      "\n",
      "\n",
      "10 most important reviews for negative predicted label - concept1:\n",
      "\n",
      "\n"
     ]
    },
    {
     "data": {
      "text/html": [
       "<div style='display: flex; width: 400px; flex-wrap: wrap'><span style=\"background-color: rgba(221, 9, 140, 0.8720040321350098); padding: 1px 5px; border: solid 3px ; border-color: rgba(221, 9, 140, 1); #EFEFEF\">You</span> <span style=\"background-color: rgba(221, 9, 34,  0.30900976061820984); padding: 1px 5px; border: solid 3px ; border-color: rgba(221, 9, 34,  1); #EFEFEF\">cannot take</span> <span style=\"background-color: rgba(221, 9, 140, 0.5993037223815918); padding: 1px 5px; border: solid 3px ; border-color: rgba(221, 9, 140, 1); #EFEFEF\">my word</span> <span style=\"background-color: rgba(233,30,99,0);  padding: 1px 5px; border: solid 3px ; border-color:  rgba(233,30,99,0); #EFEFEF\">for</span> <span style=\"background-color: rgba(221, 9, 140, 0.6468976736068726); padding: 1px 5px; border: solid 3px ; border-color: rgba(221, 9, 140, 1); #EFEFEF\">it</span> <span style=\"background-color: rgba(221, 9, 140, 0.6859012842178345); padding: 1px 5px; border: solid 3px ; border-color: rgba(221, 9, 140, 1); #EFEFEF\">you</span> <span style=\"background-color: rgba(221, 9, 140, 0.8720040321350098); padding: 1px 5px; border: solid 3px ; border-color: rgba(221, 9, 140, 1); #EFEFEF\">must see</span> <span style=\"background-color: rgba(221, 9, 140, 0.616936206817627); padding: 1px 5px; border: solid 3px ; border-color: rgba(221, 9, 140, 1); #EFEFEF\">it</span> </div>"
      ],
      "text/plain": [
       "<IPython.core.display.HTML object>"
      ]
     },
     "metadata": {},
     "output_type": "display_data"
    },
    {
     "data": {
      "text/html": [
       "<br><br>"
      ],
      "text/plain": [
       "<IPython.core.display.HTML object>"
      ]
     },
     "metadata": {},
     "output_type": "display_data"
    },
    {
     "data": {
      "text/html": [
       "<div style='display: flex; width: 400px; flex-wrap: wrap'><span style=\"background-color: rgba(9, 221, 55,  0.9982929229736328); padding: 1px 5px; border: solid 3px ; border-color: rgba(9, 221, 55,  1); #EFEFEF\">Neither</span> <span style=\"background-color: rgba(221, 9, 34,  0.5780707001686096); padding: 1px 5px; border: solid 3px ; border-color: rgba(221, 9, 34,  1); #EFEFEF\">of</span> <span style=\"background-color: rgba(9, 221, 55,  0.7307553291320801); padding: 1px 5px; border: solid 3px ; border-color: rgba(9, 221, 55,  1); #EFEFEF\">the young lovers</span> <span style=\"background-color: rgba(221, 9, 34,  0.6483244299888611); padding: 1px 5px; border: solid 3px ; border-color: rgba(221, 9, 34,  1); #EFEFEF\">deserves to die</span> <span style=\"background-color: rgba(221, 9, 34,  0.5712276101112366); padding: 1px 5px; border: solid 3px ; border-color: rgba(221, 9, 34,  1); #EFEFEF\">they</span> <span style=\"background-color: rgba(9, 221, 55,  0.6125625371932983); padding: 1px 5px; border: solid 3px ; border-color: rgba(9, 221, 55,  1); #EFEFEF\">are destined</span> <span style=\"background-color: rgba(221, 9, 34,  0.504777193069458); padding: 1px 5px; border: solid 3px ; border-color: rgba(221, 9, 34,  1); #EFEFEF\">by</span> <span style=\"background-color: rgba(221, 9, 34,  0.5212001204490662); padding: 1px 5px; border: solid 3px ; border-color: rgba(221, 9, 34,  1); #EFEFEF\">circumstances</span> <span style=\"background-color: rgba(221, 9, 34,  0.6066515445709229); padding: 1px 5px; border: solid 3px ; border-color: rgba(221, 9, 34,  1); #EFEFEF\">to be reunited</span> <span style=\"background-color: rgba(221, 9, 34,  0.6589906811714172); padding: 1px 5px; border: solid 3px ; border-color: rgba(221, 9, 34,  1); #EFEFEF\">only</span> <span style=\"background-color: rgba(221, 9, 34,  0.47074246406555176); padding: 1px 5px; border: solid 3px ; border-color: rgba(221, 9, 34,  1); #EFEFEF\">in</span> <span style=\"background-color: rgba(221, 9, 34,  0.5095216631889343); padding: 1px 5px; border: solid 3px ; border-color: rgba(221, 9, 34,  1); #EFEFEF\">death</span> </div>"
      ],
      "text/plain": [
       "<IPython.core.display.HTML object>"
      ]
     },
     "metadata": {},
     "output_type": "display_data"
    },
    {
     "data": {
      "text/html": [
       "<br><br>"
      ],
      "text/plain": [
       "<IPython.core.display.HTML object>"
      ]
     },
     "metadata": {},
     "output_type": "display_data"
    },
    {
     "data": {
      "text/html": [
       "<div style='display: flex; width: 400px; flex-wrap: wrap'><span style=\"background-color: rgba(221, 9, 34,  0.3834579885005951); padding: 1px 5px; border: solid 3px ; border-color: rgba(221, 9, 34,  1); #EFEFEF\">Norman</span> <span style=\"background-color: rgba(221, 9, 140, 0.6267588138580322); padding: 1px 5px; border: solid 3px ; border-color: rgba(221, 9, 140, 1); #EFEFEF\">lives</span> <span style=\"background-color: rgba(221, 9, 140, 0.6416932940483093); padding: 1px 5px; border: solid 3px ; border-color: rgba(221, 9, 140, 1); #EFEFEF\">his life</span> <span style=\"background-color: rgba(221, 9, 34,  0.5408378839492798); padding: 1px 5px; border: solid 3px ; border-color: rgba(221, 9, 34,  1); #EFEFEF\">vicariously</span> <span style=\"background-color: rgba(221, 9, 140, 0.6416932940483093); padding: 1px 5px; border: solid 3px ; border-color: rgba(221, 9, 140, 1); #EFEFEF\">through</span> <span style=\"background-color: rgba(221, 9, 34,  0.4060725271701813); padding: 1px 5px; border: solid 3px ; border-color: rgba(221, 9, 34,  1); #EFEFEF\">Sir</span> <span style=\"background-color: rgba(221, 9, 34,  0.4212208688259125); padding: 1px 5px; border: solid 3px ; border-color: rgba(221, 9, 34,  1); #EFEFEF\">without</span> <span style=\"background-color: rgba(221, 9, 34,  0.5064627528190613); padding: 1px 5px; border: solid 3px ; border-color: rgba(221, 9, 34,  1); #EFEFEF\">Sir</span> <span style=\"background-color: rgba(221, 9, 34,  0.3211946487426758); padding: 1px 5px; border: solid 3px ; border-color: rgba(221, 9, 34,  1); #EFEFEF\">to need</span> <span style=\"background-color: rgba(221, 9, 34,  0.3964870572090149); padding: 1px 5px; border: solid 3px ; border-color: rgba(221, 9, 34,  1); #EFEFEF\">him</span> <span style=\"background-color: rgba(221, 9, 34,  0.5014784932136536); padding: 1px 5px; border: solid 3px ; border-color: rgba(221, 9, 34,  1); #EFEFEF\">he</span> <span style=\"background-color: rgba(221, 9, 34,  0.4498491883277893); padding: 1px 5px; border: solid 3px ; border-color: rgba(221, 9, 34,  1); #EFEFEF\">is</span> <span style=\"background-color: rgba(221, 9, 34,  0.3696318566799164); padding: 1px 5px; border: solid 3px ; border-color: rgba(221, 9, 34,  1); #EFEFEF\">nothing</span> <span style=\"background-color: rgba(221, 9, 34,  0.2855474650859833); padding: 1px 5px; border: solid 3px ; border-color: rgba(221, 9, 34,  1); #EFEFEF\">thinks</span> <span style=\"background-color: rgba(221, 9, 34,  0.42591145634651184); padding: 1px 5px; border: solid 3px ; border-color: rgba(221, 9, 34,  1); #EFEFEF\">he</span> <span style=\"background-color: rgba(221, 9, 34,  0.41829636693000793); padding: 1px 5px; border: solid 3px ; border-color: rgba(221, 9, 34,  1); #EFEFEF\">is</span> <span style=\"background-color: rgba(221, 9, 34,  0.3552466630935669); padding: 1px 5px; border: solid 3px ; border-color: rgba(221, 9, 34,  1); #EFEFEF\">anyway</span> </div>"
      ],
      "text/plain": [
       "<IPython.core.display.HTML object>"
      ]
     },
     "metadata": {},
     "output_type": "display_data"
    },
    {
     "data": {
      "text/html": [
       "<br><br>"
      ],
      "text/plain": [
       "<IPython.core.display.HTML object>"
      ]
     },
     "metadata": {},
     "output_type": "display_data"
    },
    {
     "data": {
      "text/html": [
       "<div style='display: flex; width: 400px; flex-wrap: wrap'><span style=\"background-color: rgba(233,30,99,0);  padding: 1px 5px; border: solid 3px ; border-color:  rgba(233,30,99,0); #EFEFEF\">is</span> <span style=\"background-color: rgba(233,30,99,0);  padding: 1px 5px; border: solid 3px ; border-color:  rgba(233,30,99,0); #EFEFEF\">it</span> <span style=\"background-color: rgba(233,30,99,0);  padding: 1px 5px; border: solid 3px ; border-color:  rgba(233,30,99,0); #EFEFEF\">only</span> <span style=\"background-color: rgba(221, 9, 140, 0.5808894038200378); padding: 1px 5px; border: solid 3px ; border-color: rgba(221, 9, 140, 1); #EFEFEF\">by</span> <span style=\"background-color: rgba(221, 9, 140, 0.8158159852027893); padding: 1px 5px; border: solid 3px ; border-color: rgba(221, 9, 140, 1); #EFEFEF\">her beauty</span> <span style=\"background-color: rgba(233,30,99,0);  padding: 1px 5px; border: solid 3px ; border-color:  rgba(233,30,99,0); #EFEFEF\">by</span> <span style=\"background-color: rgba(233,30,99,0);  padding: 1px 5px; border: solid 3px ; border-color:  rgba(233,30,99,0); #EFEFEF\">her faraway glance</span> <span style=\"background-color: rgba(233,30,99,0);  padding: 1px 5px; border: solid 3px ; border-color:  rgba(233,30,99,0); #EFEFEF\">a connection</span> <span style=\"background-color: rgba(221, 9, 140, 0.4624309837818146); padding: 1px 5px; border: solid 3px ; border-color: rgba(221, 9, 140, 1); #EFEFEF\">that</span> <span style=\"background-color: rgba(221, 9, 140, 0.30838045477867126); padding: 1px 5px; border: solid 3px ; border-color: rgba(221, 9, 140, 1); #EFEFEF\">they</span> <span style=\"background-color: rgba(221, 9, 140, 0.9977197051048279); padding: 1px 5px; border: solid 3px ; border-color: rgba(221, 9, 140, 1); #EFEFEF\">will both discover</span> <span style=\"background-color: rgba(233,30,99,0);  padding: 1px 5px; border: solid 3px ; border-color:  rgba(233,30,99,0); #EFEFEF\">that</span> <span style=\"background-color: rgba(233,30,99,0);  padding: 1px 5px; border: solid 3px ; border-color:  rgba(233,30,99,0); #EFEFEF\">they</span> <span style=\"background-color: rgba(221, 9, 140, 0.44972509145736694); padding: 1px 5px; border: solid 3px ; border-color: rgba(221, 9, 140, 1); #EFEFEF\">share</span> </div>"
      ],
      "text/plain": [
       "<IPython.core.display.HTML object>"
      ]
     },
     "metadata": {},
     "output_type": "display_data"
    },
    {
     "data": {
      "text/html": [
       "<br><br>"
      ],
      "text/plain": [
       "<IPython.core.display.HTML object>"
      ]
     },
     "metadata": {},
     "output_type": "display_data"
    },
    {
     "data": {
      "text/html": [
       "<div style='display: flex; width: 400px; flex-wrap: wrap'><span style=\"background-color: rgba(221, 9, 34,  0.2004818171262741); padding: 1px 5px; border: solid 3px ; border-color: rgba(221, 9, 34,  1); #EFEFEF\">I</span> <span style=\"background-color: rgba(221, 9, 34,  0.9982064962387085); padding: 1px 5px; border: solid 3px ; border-color: rgba(221, 9, 34,  1); #EFEFEF\">will pray</span> </div>"
      ],
      "text/plain": [
       "<IPython.core.display.HTML object>"
      ]
     },
     "metadata": {},
     "output_type": "display_data"
    },
    {
     "data": {
      "text/html": [
       "<br><br>"
      ],
      "text/plain": [
       "<IPython.core.display.HTML object>"
      ]
     },
     "metadata": {},
     "output_type": "display_data"
    },
    {
     "data": {
      "text/html": [
       "<div style='display: flex; width: 400px; flex-wrap: wrap'><span style=\"background-color: rgba(221, 9, 140, 0.43923401832580566); padding: 1px 5px; border: solid 3px ; border-color: rgba(221, 9, 140, 1); #EFEFEF\">His yearning</span> <span style=\"background-color: rgba(233,30,99,0);  padding: 1px 5px; border: solid 3px ; border-color:  rgba(233,30,99,0); #EFEFEF\">to come</span> <span style=\"background-color: rgba(221, 90, 9,  0.29684528708457947); padding: 1px 5px; border: solid 3px ; border-color: rgba(221, 90, 9,  1); #EFEFEF\">off</span> <span style=\"background-color: rgba(221, 9, 140, 0.31582388281822205); padding: 1px 5px; border: solid 3px ; border-color: rgba(221, 9, 140, 1); #EFEFEF\">it</span> <span style=\"background-color: rgba(221, 9, 140, 0.34797918796539307); padding: 1px 5px; border: solid 3px ; border-color: rgba(221, 9, 140, 1); #EFEFEF\">is</span> <span style=\"background-color: rgba(221, 9, 34,  0.2721971273422241); padding: 1px 5px; border: solid 3px ; border-color: rgba(221, 9, 34,  1); #EFEFEF\">his only motivation</span> <span style=\"background-color: rgba(221, 90, 9,  0.314461886882782); padding: 1px 5px; border: solid 3px ; border-color: rgba(221, 90, 9,  1); #EFEFEF\">towards</span> <span style=\"background-color: rgba(221, 9, 140, 0.4710387885570526); padding: 1px 5px; border: solid 3px ; border-color: rgba(221, 9, 140, 1); #EFEFEF\">a happy ending</span> </div>"
      ],
      "text/plain": [
       "<IPython.core.display.HTML object>"
      ]
     },
     "metadata": {},
     "output_type": "display_data"
    },
    {
     "data": {
      "text/html": [
       "<br><br>"
      ],
      "text/plain": [
       "<IPython.core.display.HTML object>"
      ]
     },
     "metadata": {},
     "output_type": "display_data"
    },
    {
     "data": {
      "text/html": [
       "<div style='display: flex; width: 400px; flex-wrap: wrap'><span style=\"background-color: rgba(221, 9, 140, 0.7215750217437744); padding: 1px 5px; border: solid 3px ; border-color: rgba(221, 9, 140, 1); #EFEFEF\">I</span> <span style=\"background-color: rgba(221, 9, 140, 0.6481243968009949); padding: 1px 5px; border: solid 3px ; border-color: rgba(221, 9, 140, 1); #EFEFEF\">know</span> <span style=\"background-color: rgba(221, 9, 140, 0.7863894104957581); padding: 1px 5px; border: solid 3px ; border-color: rgba(221, 9, 140, 1); #EFEFEF\">I</span> <span style=\"background-color: rgba(221, 9, 140, 0.9982312917709351); padding: 1px 5px; border: solid 3px ; border-color: rgba(221, 9, 140, 1); #EFEFEF\">will</span> </div>"
      ],
      "text/plain": [
       "<IPython.core.display.HTML object>"
      ]
     },
     "metadata": {},
     "output_type": "display_data"
    },
    {
     "data": {
      "text/html": [
       "<br><br>"
      ],
      "text/plain": [
       "<IPython.core.display.HTML object>"
      ]
     },
     "metadata": {},
     "output_type": "display_data"
    },
    {
     "data": {
      "text/html": [
       "<div style='display: flex; width: 400px; flex-wrap: wrap'><span style=\"background-color: rgba(233,30,99,0);  padding: 1px 5px; border: solid 3px ; border-color:  rgba(233,30,99,0); #EFEFEF\">She</span> <span style=\"background-color: rgba(233,30,99,0);  padding: 1px 5px; border: solid 3px ; border-color:  rgba(233,30,99,0); #EFEFEF\">is</span> <span style=\"background-color: rgba(233,30,99,0);  padding: 1px 5px; border: solid 3px ; border-color:  rgba(233,30,99,0); #EFEFEF\">the only one</span> <span style=\"background-color: rgba(221, 9, 34,  0.2870241105556488); padding: 1px 5px; border: solid 3px ; border-color: rgba(221, 9, 34,  1); #EFEFEF\">who</span> <span style=\"background-color: rgba(233,30,99,0);  padding: 1px 5px; border: solid 3px ; border-color:  rgba(233,30,99,0); #EFEFEF\">understands</span> <span style=\"background-color: rgba(233,30,99,0);  padding: 1px 5px; border: solid 3px ; border-color:  rgba(233,30,99,0); #EFEFEF\">him</span> </div>"
      ],
      "text/plain": [
       "<IPython.core.display.HTML object>"
      ]
     },
     "metadata": {},
     "output_type": "display_data"
    },
    {
     "data": {
      "text/html": [
       "<br><br>"
      ],
      "text/plain": [
       "<IPython.core.display.HTML object>"
      ]
     },
     "metadata": {},
     "output_type": "display_data"
    },
    {
     "data": {
      "text/html": [
       "<div style='display: flex; width: 400px; flex-wrap: wrap'><span style=\"background-color: rgba(221, 9, 34,  0.8729085922241211); padding: 1px 5px; border: solid 3px ; border-color: rgba(221, 9, 34,  1); #EFEFEF\">I</span> <span style=\"background-color: rgba(221, 9, 34,  0.9975692629814148); padding: 1px 5px; border: solid 3px ; border-color: rgba(221, 9, 34,  1); #EFEFEF\">accept</span> <span style=\"background-color: rgba(221, 9, 140, 0.6062016487121582); padding: 1px 5px; border: solid 3px ; border-color: rgba(221, 9, 140, 1); #EFEFEF\">this</span> </div>"
      ],
      "text/plain": [
       "<IPython.core.display.HTML object>"
      ]
     },
     "metadata": {},
     "output_type": "display_data"
    },
    {
     "data": {
      "text/html": [
       "<br><br>"
      ],
      "text/plain": [
       "<IPython.core.display.HTML object>"
      ]
     },
     "metadata": {},
     "output_type": "display_data"
    },
    {
     "data": {
      "text/html": [
       "<div style='display: flex; width: 400px; flex-wrap: wrap'><span style=\"background-color: rgba(221, 9, 140, 0.7928003072738647); padding: 1px 5px; border: solid 3px ; border-color: rgba(221, 9, 140, 1); #EFEFEF\">I</span> <span style=\"background-color: rgba(221, 9, 140, 0.9988204836845398); padding: 1px 5px; border: solid 3px ; border-color: rgba(221, 9, 140, 1); #EFEFEF\">revere</span> <span style=\"background-color: rgba(221, 9, 140, 0.6713971495628357); padding: 1px 5px; border: solid 3px ; border-color: rgba(221, 9, 140, 1); #EFEFEF\">both</span> </div>"
      ],
      "text/plain": [
       "<IPython.core.display.HTML object>"
      ]
     },
     "metadata": {},
     "output_type": "display_data"
    },
    {
     "data": {
      "text/html": [
       "<br><br>"
      ],
      "text/plain": [
       "<IPython.core.display.HTML object>"
      ]
     },
     "metadata": {},
     "output_type": "display_data"
    },
    {
     "name": "stdout",
     "output_type": "stream",
     "text": [
      "\n",
      "\n",
      "10 most important reviews for negative predicted label - concept2:\n",
      "\n",
      "\n"
     ]
    },
    {
     "data": {
      "text/html": [
       "<div style='display: flex; width: 400px; flex-wrap: wrap'><span style=\"background-color: rgba(233,30,99,0);  padding: 1px 5px; border: solid 3px ; border-color:  rgba(233,30,99,0); #EFEFEF\">You</span> <span style=\"background-color: rgba(233,30,99,0);  padding: 1px 5px; border: solid 3px ; border-color:  rgba(233,30,99,0); #EFEFEF\">can truly see</span> <span style=\"background-color: rgba(233,30,99,0);  padding: 1px 5px; border: solid 3px ; border-color:  rgba(233,30,99,0); #EFEFEF\">the seamless editing</span> <span style=\"background-color: rgba(233,30,99,0);  padding: 1px 5px; border: solid 3px ; border-color:  rgba(233,30,99,0); #EFEFEF\">guided</span> <span style=\"background-color: rgba(233,30,99,0);  padding: 1px 5px; border: solid 3px ; border-color:  rgba(233,30,99,0); #EFEFEF\">by</span> <span style=\"background-color: rgba(233,30,99,0);  padding: 1px 5px; border: solid 3px ; border-color:  rgba(233,30,99,0); #EFEFEF\">the references</span> <span style=\"background-color: rgba(233,30,99,0);  padding: 1px 5px; border: solid 3px ; border-color:  rgba(233,30,99,0); #EFEFEF\">to</span> <span style=\"background-color: rgba(233,30,99,0);  padding: 1px 5px; border: solid 3px ; border-color:  rgba(233,30,99,0); #EFEFEF\">Williams' diary entries</span> <span style=\"background-color: rgba(233,30,99,0);  padding: 1px 5px; border: solid 3px ; border-color:  rgba(233,30,99,0); #EFEFEF\">not only</span> <span style=\"background-color: rgba(233,30,99,0);  padding: 1px 5px; border: solid 3px ; border-color:  rgba(233,30,99,0); #EFEFEF\">is</span> <span style=\"background-color: rgba(233,30,99,0);  padding: 1px 5px; border: solid 3px ; border-color:  rgba(233,30,99,0); #EFEFEF\">it</span> <span style=\"background-color: rgba(233,30,99,0);  padding: 1px 5px; border: solid 3px ; border-color:  rgba(233,30,99,0); #EFEFEF\">well</span> <span style=\"background-color: rgba(233,30,99,0);  padding: 1px 5px; border: solid 3px ; border-color:  rgba(233,30,99,0); #EFEFEF\">worth</span> <span style=\"background-color: rgba(233,30,99,0);  padding: 1px 5px; border: solid 3px ; border-color:  rgba(233,30,99,0); #EFEFEF\">the watching</span> <span style=\"background-color: rgba(233,30,99,0);  padding: 1px 5px; border: solid 3px ; border-color:  rgba(233,30,99,0); #EFEFEF\">it</span> <span style=\"background-color: rgba(233,30,99,0);  padding: 1px 5px; border: solid 3px ; border-color:  rgba(233,30,99,0); #EFEFEF\">is</span> <span style=\"background-color: rgba(221, 9, 140, 0.8451396226882935); padding: 1px 5px; border: solid 3px ; border-color: rgba(221, 9, 140, 1); #EFEFEF\">a terrificly written and performed piece</span> </div>"
      ],
      "text/plain": [
       "<IPython.core.display.HTML object>"
      ]
     },
     "metadata": {},
     "output_type": "display_data"
    },
    {
     "data": {
      "text/html": [
       "<br><br>"
      ],
      "text/plain": [
       "<IPython.core.display.HTML object>"
      ]
     },
     "metadata": {},
     "output_type": "display_data"
    },
    {
     "data": {
      "text/html": [
       "<div style='display: flex; width: 400px; flex-wrap: wrap'><span style=\"background-color: rgba(221, 9, 140, 0.9968621730804443); padding: 1px 5px; border: solid 3px ; border-color: rgba(221, 9, 140, 1); #EFEFEF\">A truly gripping film noir</span> <span style=\"background-color: rgba(9, 221, 161,  0.34730589389801025); padding: 1px 5px; border: solid 3px ; border-color: rgba(9, 221, 161,  1); #EFEFEF\">featuring</span> <span style=\"background-color: rgba(9, 221, 161,  0.26142439246177673); padding: 1px 5px; border: solid 3px ; border-color: rgba(9, 221, 161,  1); #EFEFEF\">some wonderfully images</span> <span style=\"background-color: rgba(9, 221, 55,  0.2002859264612198); padding: 1px 5px; border: solid 3px ; border-color: rgba(9, 221, 55,  1); #EFEFEF\">some great dialogue</span> <span style=\"background-color: rgba(9, 221, 161,  0.26040980219841003); padding: 1px 5px; border: solid 3px ; border-color: rgba(9, 221, 161,  1); #EFEFEF\">at</span> <span style=\"background-color: rgba(9, 221, 55,  0.2002859264612198); padding: 1px 5px; border: solid 3px ; border-color: rgba(9, 221, 55,  1); #EFEFEF\">the heart</span> <span style=\"background-color: rgba(9, 221, 161,  0.22992819547653198); padding: 1px 5px; border: solid 3px ; border-color: rgba(9, 221, 161,  1); #EFEFEF\">of</span> <span style=\"background-color: rgba(9, 221, 161,  0.7970548272132874); padding: 1px 5px; border: solid 3px ; border-color: rgba(9, 221, 161,  1); #EFEFEF\">it</span> <span style=\"background-color: rgba(9, 221, 161,  0.6999190449714661); padding: 1px 5px; border: solid 3px ; border-color: rgba(9, 221, 161,  1); #EFEFEF\">all</span> <span style=\"background-color: rgba(221, 9, 140, 0.21331137418746948); padding: 1px 5px; border: solid 3px ; border-color: rgba(221, 9, 140, 1); #EFEFEF\">is</span> <span style=\"background-color: rgba(221, 9, 140, 0.31206053495407104); padding: 1px 5px; border: solid 3px ; border-color: rgba(221, 9, 140, 1); #EFEFEF\">a strong message</span> <span style=\"background-color: rgba(9, 221, 55,  0.2002859264612198); padding: 1px 5px; border: solid 3px ; border-color: rgba(9, 221, 55,  1); #EFEFEF\">of</span> <span style=\"background-color: rgba(9, 221, 55,  0.2002859264612198); padding: 1px 5px; border: solid 3px ; border-color: rgba(9, 221, 55,  1); #EFEFEF\">tolerance and understanding</span> </div>"
      ],
      "text/plain": [
       "<IPython.core.display.HTML object>"
      ]
     },
     "metadata": {},
     "output_type": "display_data"
    },
    {
     "data": {
      "text/html": [
       "<br><br>"
      ],
      "text/plain": [
       "<IPython.core.display.HTML object>"
      ]
     },
     "metadata": {},
     "output_type": "display_data"
    },
    {
     "data": {
      "text/html": [
       "<div style='display: flex; width: 400px; flex-wrap: wrap'><span style=\"background-color: rgba(233,30,99,0);  padding: 1px 5px; border: solid 3px ; border-color:  rgba(233,30,99,0); #EFEFEF\">From</span> <span style=\"background-color: rgba(9, 221, 161,  0.5172407031059265); padding: 1px 5px; border: solid 3px ; border-color: rgba(9, 221, 161,  1); #EFEFEF\">it</span> <span style=\"background-color: rgba(9, 221, 161,  0.46243712306022644); padding: 1px 5px; border: solid 3px ; border-color: rgba(9, 221, 161,  1); #EFEFEF\">'s</span> <span style=\"background-color: rgba(221, 9, 140, 0.3693138659000397); padding: 1px 5px; border: solid 3px ; border-color: rgba(221, 9, 140, 1); #EFEFEF\">perfectly crafted</span> <span style=\"background-color: rgba(9, 221, 161,  0.447979211807251); padding: 1px 5px; border: solid 3px ; border-color: rgba(9, 221, 161,  1); #EFEFEF\">jokes</span> <span style=\"background-color: rgba(233,30,99,0);  padding: 1px 5px; border: solid 3px ; border-color:  rgba(233,30,99,0); #EFEFEF\">to</span> <span style=\"background-color: rgba(221, 9, 140, 0.21911032497882843); padding: 1px 5px; border: solid 3px ; border-color: rgba(221, 9, 140, 1); #EFEFEF\">the great performances</span> <span style=\"background-color: rgba(233,30,99,0);  padding: 1px 5px; border: solid 3px ; border-color:  rgba(233,30,99,0); #EFEFEF\">you</span> <span style=\"background-color: rgba(233,30,99,0);  padding: 1px 5px; border: solid 3px ; border-color:  rgba(233,30,99,0); #EFEFEF\">would only dream</span> <span style=\"background-color: rgba(233,30,99,0);  padding: 1px 5px; border: solid 3px ; border-color:  rgba(233,30,99,0); #EFEFEF\">of</span> <span style=\"background-color: rgba(221, 9, 140, 0.22092100977897644); padding: 1px 5px; border: solid 3px ; border-color: rgba(221, 9, 140, 1); #EFEFEF\">this</span> <span style=\"background-color: rgba(221, 9, 140, 0.27598685026168823); padding: 1px 5px; border: solid 3px ; border-color: rgba(221, 9, 140, 1); #EFEFEF\">is</span> <span style=\"background-color: rgba(221, 9, 140, 0.9979985356330872); padding: 1px 5px; border: solid 3px ; border-color: rgba(221, 9, 140, 1); #EFEFEF\">a wonderful show</span> <span style=\"background-color: rgba(233,30,99,0);  padding: 1px 5px; border: solid 3px ; border-color:  rgba(233,30,99,0); #EFEFEF\">for</span> <span style=\"background-color: rgba(233,30,99,0);  padding: 1px 5px; border: solid 3px ; border-color:  rgba(233,30,99,0); #EFEFEF\">people</span> <span style=\"background-color: rgba(233,30,99,0);  padding: 1px 5px; border: solid 3px ; border-color:  rgba(233,30,99,0); #EFEFEF\">who</span> <span style=\"background-color: rgba(233,30,99,0);  padding: 1px 5px; border: solid 3px ; border-color:  rgba(233,30,99,0); #EFEFEF\">lived</span> <span style=\"background-color: rgba(233,30,99,0);  padding: 1px 5px; border: solid 3px ; border-color:  rgba(233,30,99,0); #EFEFEF\">in</span> <span style=\"background-color: rgba(233,30,99,0);  padding: 1px 5px; border: solid 3px ; border-color:  rgba(233,30,99,0); #EFEFEF\">the seventies</span> <span style=\"background-color: rgba(233,30,99,0);  padding: 1px 5px; border: solid 3px ; border-color:  rgba(233,30,99,0); #EFEFEF\">the people</span> <span style=\"background-color: rgba(233,30,99,0);  padding: 1px 5px; border: solid 3px ; border-color:  rgba(233,30,99,0); #EFEFEF\">who</span> <span style=\"background-color: rgba(233,30,99,0);  padding: 1px 5px; border: solid 3px ; border-color:  rgba(233,30,99,0); #EFEFEF\">did</span> </div>"
      ],
      "text/plain": [
       "<IPython.core.display.HTML object>"
      ]
     },
     "metadata": {},
     "output_type": "display_data"
    },
    {
     "data": {
      "text/html": [
       "<br><br>"
      ],
      "text/plain": [
       "<IPython.core.display.HTML object>"
      ]
     },
     "metadata": {},
     "output_type": "display_data"
    },
    {
     "data": {
      "text/html": [
       "<div style='display: flex; width: 400px; flex-wrap: wrap'><span style=\"background-color: rgba(9, 221, 161,  0.28671368956565857); padding: 1px 5px; border: solid 3px ; border-color: rgba(9, 221, 161,  1); #EFEFEF\">This</span> <span style=\"background-color: rgba(9, 221, 161,  0.24710005521774292); padding: 1px 5px; border: solid 3px ; border-color: rgba(9, 221, 161,  1); #EFEFEF\">is</span> <span style=\"background-color: rgba(221, 9, 140, 0.9990841150283813); padding: 1px 5px; border: solid 3px ; border-color: rgba(221, 9, 140, 1); #EFEFEF\">a great show</span> <span style=\"background-color: rgba(233,30,99,0);  padding: 1px 5px; border: solid 3px ; border-color:  rgba(233,30,99,0); #EFEFEF\">with</span> <span style=\"background-color: rgba(221, 9, 140, 0.40594813227653503); padding: 1px 5px; border: solid 3px ; border-color: rgba(221, 9, 140, 1); #EFEFEF\">total freshness and innovation</span> </div>"
      ],
      "text/plain": [
       "<IPython.core.display.HTML object>"
      ]
     },
     "metadata": {},
     "output_type": "display_data"
    },
    {
     "data": {
      "text/html": [
       "<br><br>"
      ],
      "text/plain": [
       "<IPython.core.display.HTML object>"
      ]
     },
     "metadata": {},
     "output_type": "display_data"
    },
    {
     "data": {
      "text/html": [
       "<div style='display: flex; width: 400px; flex-wrap: wrap'><span style=\"background-color: rgba(9, 221, 161,  0.4761274456977844); padding: 1px 5px; border: solid 3px ; border-color: rgba(9, 221, 161,  1); #EFEFEF\">hey</span> <span style=\"background-color: rgba(221, 9, 140, 0.26887381076812744); padding: 1px 5px; border: solid 3px ; border-color: rgba(221, 9, 140, 1); #EFEFEF\">before</span> <span style=\"background-color: rgba(9, 221, 161,  0.29732730984687805); padding: 1px 5px; border: solid 3px ; border-color: rgba(9, 221, 161,  1); #EFEFEF\">you</span> <span style=\"background-color: rgba(9, 221, 161,  0.3753969967365265); padding: 1px 5px; border: solid 3px ; border-color: rgba(9, 221, 161,  1); #EFEFEF\">think</span> <span style=\"background-color: rgba(9, 221, 161,  0.35944584012031555); padding: 1px 5px; border: solid 3px ; border-color: rgba(9, 221, 161,  1); #EFEFEF\">of</span> <span style=\"background-color: rgba(9, 221, 161,  0.3331807553768158); padding: 1px 5px; border: solid 3px ; border-color: rgba(9, 221, 161,  1); #EFEFEF\">me</span> <span style=\"background-color: rgba(9, 221, 161,  0.31901928782463074); padding: 1px 5px; border: solid 3px ; border-color: rgba(9, 221, 161,  1); #EFEFEF\">as</span> <span style=\"background-color: rgba(9, 221, 161,  0.23829016089439392); padding: 1px 5px; border: solid 3px ; border-color: rgba(9, 221, 161,  1); #EFEFEF\">a pure misanthrope</span> <span style=\"background-color: rgba(9, 221, 161,  0.4267483651638031); padding: 1px 5px; border: solid 3px ; border-color: rgba(9, 221, 161,  1); #EFEFEF\">let</span> <span style=\"background-color: rgba(9, 221, 161,  0.5006614923477173); padding: 1px 5px; border: solid 3px ; border-color: rgba(9, 221, 161,  1); #EFEFEF\">me</span> <span style=\"background-color: rgba(9, 221, 161,  0.4028783440589905); padding: 1px 5px; border: solid 3px ; border-color: rgba(9, 221, 161,  1); #EFEFEF\">repeat</span> <span style=\"background-color: rgba(9, 221, 161,  0.424552321434021); padding: 1px 5px; border: solid 3px ; border-color: rgba(9, 221, 161,  1); #EFEFEF\">this</span> <span style=\"background-color: rgba(221, 9, 140, 0.30784162878990173); padding: 1px 5px; border: solid 3px ; border-color: rgba(221, 9, 140, 1); #EFEFEF\">is</span> <span style=\"background-color: rgba(221, 9, 140, 0.9983335137367249); padding: 1px 5px; border: solid 3px ; border-color: rgba(221, 9, 140, 1); #EFEFEF\">a very good film</span> <span style=\"background-color: rgba(9, 221, 161,  0.34154820442199707); padding: 1px 5px; border: solid 3px ; border-color: rgba(9, 221, 161,  1); #EFEFEF\">with</span> <span style=\"background-color: rgba(221, 9, 140, 0.23702549934387207); padding: 1px 5px; border: solid 3px ; border-color: rgba(221, 9, 140, 1); #EFEFEF\">heartbreakng moments</span> <span style=\"background-color: rgba(221, 9, 140, 0.4272559583187103); padding: 1px 5px; border: solid 3px ; border-color: rgba(221, 9, 140, 1); #EFEFEF\">wonderful photography</span> <span style=\"background-color: rgba(221, 9, 140, 0.2900143563747406); padding: 1px 5px; border: solid 3px ; border-color: rgba(221, 9, 140, 1); #EFEFEF\">great characters</span> <span style=\"background-color: rgba(221, 9, 140, 0.28795886039733887); padding: 1px 5px; border: solid 3px ; border-color: rgba(221, 9, 140, 1); #EFEFEF\">more accuracy</span> <span style=\"background-color: rgba(221, 9, 140, 0.3139110207557678); padding: 1px 5px; border: solid 3px ; border-color: rgba(221, 9, 140, 1); #EFEFEF\">than</span> <span style=\"background-color: rgba(233,30,99,0);  padding: 1px 5px; border: solid 3px ; border-color:  rgba(233,30,99,0); #EFEFEF\">the usual (American) efforts</span> <span style=\"background-color: rgba(9, 221, 161,  0.24971871078014374); padding: 1px 5px; border: solid 3px ; border-color: rgba(9, 221, 161,  1); #EFEFEF\">at</span> <span style=\"background-color: rgba(9, 221, 161,  0.42374470829963684); padding: 1px 5px; border: solid 3px ; border-color: rgba(9, 221, 161,  1); #EFEFEF\">the immigration experience</span> </div>"
      ],
      "text/plain": [
       "<IPython.core.display.HTML object>"
      ]
     },
     "metadata": {},
     "output_type": "display_data"
    },
    {
     "data": {
      "text/html": [
       "<br><br>"
      ],
      "text/plain": [
       "<IPython.core.display.HTML object>"
      ]
     },
     "metadata": {},
     "output_type": "display_data"
    },
    {
     "data": {
      "text/html": [
       "<div style='display: flex; width: 400px; flex-wrap: wrap'><span style=\"background-color: rgba(221, 9, 140, 0.6909357309341431); padding: 1px 5px; border: solid 3px ; border-color: rgba(221, 9, 140, 1); #EFEFEF\">The refreshing and original story</span> <span style=\"background-color: rgba(9, 221, 161,  0.31057238578796387); padding: 1px 5px; border: solid 3px ; border-color: rgba(9, 221, 161,  1); #EFEFEF\">is</span> <span style=\"background-color: rgba(233,30,99,0);  padding: 1px 5px; border: solid 3px ; border-color:  rgba(233,30,99,0); #EFEFEF\">a poetic and magic fable</span> <span style=\"background-color: rgba(233,30,99,0);  padding: 1px 5px; border: solid 3px ; border-color:  rgba(233,30,99,0); #EFEFEF\">of</span> <span style=\"background-color: rgba(233,30,99,0);  padding: 1px 5px; border: solid 3px ; border-color:  rgba(233,30,99,0); #EFEFEF\">love</span> <span style=\"background-color: rgba(233,30,99,0);  padding: 1px 5px; border: solid 3px ; border-color:  rgba(233,30,99,0); #EFEFEF\">that</span> <span style=\"background-color: rgba(9, 221, 161,  0.32714560627937317); padding: 1px 5px; border: solid 3px ; border-color: rgba(9, 221, 161,  1); #EFEFEF\">will certainly thrill</span> <span style=\"background-color: rgba(221, 9, 140, 0.2606286108493805); padding: 1px 5px; border: solid 3px ; border-color: rgba(221, 9, 140, 1); #EFEFEF\">the most skeptical and tough viewer</span> <span style=\"background-color: rgba(233,30,99,0);  padding: 1px 5px; border: solid 3px ; border-color:  rgba(233,30,99,0); #EFEFEF\">in</span> <span style=\"background-color: rgba(221, 9, 140, 0.2597339153289795); padding: 1px 5px; border: solid 3px ; border-color: rgba(221, 9, 140, 1); #EFEFEF\">a unique romance</span> </div>"
      ],
      "text/plain": [
       "<IPython.core.display.HTML object>"
      ]
     },
     "metadata": {},
     "output_type": "display_data"
    },
    {
     "data": {
      "text/html": [
       "<br><br>"
      ],
      "text/plain": [
       "<IPython.core.display.HTML object>"
      ]
     },
     "metadata": {},
     "output_type": "display_data"
    },
    {
     "data": {
      "text/html": [
       "<div style='display: flex; width: 400px; flex-wrap: wrap'><span style=\"background-color: rgba(233,30,99,0);  padding: 1px 5px; border: solid 3px ; border-color:  rgba(233,30,99,0); #EFEFEF\">Full marks</span> <span style=\"background-color: rgba(233,30,99,0);  padding: 1px 5px; border: solid 3px ; border-color:  rgba(233,30,99,0); #EFEFEF\">to</span> <span style=\"background-color: rgba(221, 9, 140, 0.9990142583847046); padding: 1px 5px; border: solid 3px ; border-color: rgba(221, 9, 140, 1); #EFEFEF\">this most enjoyable and uplifting production</span> <span style=\"background-color: rgba(9, 221, 161,  0.24156871438026428); padding: 1px 5px; border: solid 3px ; border-color: rgba(9, 221, 161,  1); #EFEFEF\">we</span> <span style=\"background-color: rgba(233,30,99,0);  padding: 1px 5px; border: solid 3px ; border-color:  rgba(233,30,99,0); #EFEFEF\">heartily</span> <span style=\"background-color: rgba(233,30,99,0);  padding: 1px 5px; border: solid 3px ; border-color:  rgba(233,30,99,0); #EFEFEF\">recommend</span> <span style=\"background-color: rgba(233,30,99,0);  padding: 1px 5px; border: solid 3px ; border-color:  rgba(233,30,99,0); #EFEFEF\">it</span> <span style=\"background-color: rgba(233,30,99,0);  padding: 1px 5px; border: solid 3px ; border-color:  rgba(233,30,99,0); #EFEFEF\">to</span> <span style=\"background-color: rgba(233,30,99,0);  padding: 1px 5px; border: solid 3px ; border-color:  rgba(233,30,99,0); #EFEFEF\">anyone</span> <span style=\"background-color: rgba(233,30,99,0);  padding: 1px 5px; border: solid 3px ; border-color:  rgba(233,30,99,0); #EFEFEF\">who</span> <span style=\"background-color: rgba(233,30,99,0);  padding: 1px 5px; border: solid 3px ; border-color:  rgba(233,30,99,0); #EFEFEF\">is looking</span> <span style=\"background-color: rgba(233,30,99,0);  padding: 1px 5px; border: solid 3px ; border-color:  rgba(233,30,99,0); #EFEFEF\">for</span> <span style=\"background-color: rgba(233,30,99,0);  padding: 1px 5px; border: solid 3px ; border-color:  rgba(233,30,99,0); #EFEFEF\">a belly-laugh</span> <span style=\"background-color: rgba(9, 221, 161,  0.330501914024353); padding: 1px 5px; border: solid 3px ; border-color: rgba(9, 221, 161,  1); #EFEFEF\">lots</span> <span style=\"background-color: rgba(233,30,99,0);  padding: 1px 5px; border: solid 3px ; border-color:  rgba(233,30,99,0); #EFEFEF\">of</span> <span style=\"background-color: rgba(233,30,99,0);  padding: 1px 5px; border: solid 3px ; border-color:  rgba(233,30,99,0); #EFEFEF\">music</span> </div>"
      ],
      "text/plain": [
       "<IPython.core.display.HTML object>"
      ]
     },
     "metadata": {},
     "output_type": "display_data"
    },
    {
     "data": {
      "text/html": [
       "<br><br>"
      ],
      "text/plain": [
       "<IPython.core.display.HTML object>"
      ]
     },
     "metadata": {},
     "output_type": "display_data"
    },
    {
     "data": {
      "text/html": [
       "<div style='display: flex; width: 400px; flex-wrap: wrap'><span style=\"background-color: rgba(233,30,99,0);  padding: 1px 5px; border: solid 3px ; border-color:  rgba(233,30,99,0); #EFEFEF\">the Devil</span> <span style=\"background-color: rgba(9, 221, 161,  0.5747706294059753); padding: 1px 5px; border: solid 3px ; border-color: rgba(9, 221, 161,  1); #EFEFEF\">Knows</span> <span style=\"background-color: rgba(221, 9, 140, 0.2522958815097809); padding: 1px 5px; border: solid 3px ; border-color: rgba(221, 9, 140, 1); #EFEFEF\">You</span> <span style=\"background-color: rgba(9, 221, 161,  0.5042577981948853); padding: 1px 5px; border: solid 3px ; border-color: rgba(9, 221, 161,  1); #EFEFEF\">'re</span> <span style=\"background-color: rgba(9, 221, 161,  0.3708483874797821); padding: 1px 5px; border: solid 3px ; border-color: rgba(9, 221, 161,  1); #EFEFEF\">Dead</span> <span style=\"background-color: rgba(221, 9, 140, 0.8203930854797363); padding: 1px 5px; border: solid 3px ; border-color: rgba(221, 9, 140, 1); #EFEFEF\">is</span> <span style=\"background-color: rgba(221, 9, 140, 0.9963145852088928); padding: 1px 5px; border: solid 3px ; border-color: rgba(221, 9, 140, 1); #EFEFEF\">a real masterpiece</span> <span style=\"background-color: rgba(9, 221, 161,  0.5894626379013062); padding: 1px 5px; border: solid 3px ; border-color: rgba(9, 221, 161,  1); #EFEFEF\">with</span> <span style=\"background-color: rgba(221, 9, 140, 0.5295273065567017); padding: 1px 5px; border: solid 3px ; border-color: rgba(221, 9, 140, 1); #EFEFEF\">perfect direction,a great screenplay</span> <span style=\"background-color: rgba(221, 9, 140, 0.21756123006343842); padding: 1px 5px; border: solid 3px ; border-color: rgba(221, 9, 140, 1); #EFEFEF\">excellent performances</span> </div>"
      ],
      "text/plain": [
       "<IPython.core.display.HTML object>"
      ]
     },
     "metadata": {},
     "output_type": "display_data"
    },
    {
     "data": {
      "text/html": [
       "<br><br>"
      ],
      "text/plain": [
       "<IPython.core.display.HTML object>"
      ]
     },
     "metadata": {},
     "output_type": "display_data"
    },
    {
     "data": {
      "text/html": [
       "<div style='display: flex; width: 400px; flex-wrap: wrap'><span style=\"background-color: rgba(221, 9, 140, 0.22194090485572815); padding: 1px 5px; border: solid 3px ; border-color: rgba(221, 9, 140, 1); #EFEFEF\">Cinematically</span> <span style=\"background-color: rgba(221, 9, 140, 0.28156399726867676); padding: 1px 5px; border: solid 3px ; border-color: rgba(221, 9, 140, 1); #EFEFEF\">this</span> <span style=\"background-color: rgba(221, 9, 140, 0.2014370709657669); padding: 1px 5px; border: solid 3px ; border-color: rgba(221, 9, 140, 1); #EFEFEF\">is</span> <span style=\"background-color: rgba(221, 9, 140, 0.9929064512252808); padding: 1px 5px; border: solid 3px ; border-color: rgba(221, 9, 140, 1); #EFEFEF\">an excellent film</span> <span style=\"background-color: rgba(233,30,99,0);  padding: 1px 5px; border: solid 3px ; border-color:  rgba(233,30,99,0); #EFEFEF\">mixing</span> <span style=\"background-color: rgba(221, 9, 140, 0.40460479259490967); padding: 1px 5px; border: solid 3px ; border-color: rgba(221, 9, 140, 1); #EFEFEF\">live motion and animation</span> <span style=\"background-color: rgba(233,30,99,0);  padding: 1px 5px; border: solid 3px ; border-color:  rgba(233,30,99,0); #EFEFEF\">to produce</span> <span style=\"background-color: rgba(233,30,99,0);  padding: 1px 5px; border: solid 3px ; border-color:  rgba(233,30,99,0); #EFEFEF\">amazing effects</span> <span style=\"background-color: rgba(233,30,99,0);  padding: 1px 5px; border: solid 3px ; border-color:  rgba(233,30,99,0); #EFEFEF\">for</span> <span style=\"background-color: rgba(233,30,99,0);  padding: 1px 5px; border: solid 3px ; border-color:  rgba(233,30,99,0); #EFEFEF\">the year</span> </div>"
      ],
      "text/plain": [
       "<IPython.core.display.HTML object>"
      ]
     },
     "metadata": {},
     "output_type": "display_data"
    },
    {
     "data": {
      "text/html": [
       "<br><br>"
      ],
      "text/plain": [
       "<IPython.core.display.HTML object>"
      ]
     },
     "metadata": {},
     "output_type": "display_data"
    },
    {
     "data": {
      "text/html": [
       "<div style='display: flex; width: 400px; flex-wrap: wrap'><span style=\"background-color: rgba(221, 9, 140, 0.9979453682899475); padding: 1px 5px; border: solid 3px ; border-color: rgba(221, 9, 140, 1); #EFEFEF\">Excellent performances</span> <span style=\"background-color: rgba(9, 221, 161,  0.38640284538269043); padding: 1px 5px; border: solid 3px ; border-color: rgba(9, 221, 161,  1); #EFEFEF\">are</span> <span style=\"background-color: rgba(9, 221, 161,  0.38640284538269043); padding: 1px 5px; border: solid 3px ; border-color: rgba(9, 221, 161,  1); #EFEFEF\">another significant plus</span> <span style=\"background-color: rgba(9, 221, 161,  0.38640284538269043); padding: 1px 5px; border: solid 3px ; border-color: rgba(9, 221, 161,  1); #EFEFEF\">with</span> <span style=\"background-color: rgba(9, 221, 161,  0.24247027933597565); padding: 1px 5px; border: solid 3px ; border-color: rgba(9, 221, 161,  1); #EFEFEF\">the pretty, perky Jocelyn Jones</span> <span style=\"background-color: rgba(9, 221, 161,  0.36174970865249634); padding: 1px 5px; border: solid 3px ; border-color: rgba(9, 221, 161,  1); #EFEFEF\">Ellie-Jo Turner</span> <span style=\"background-color: rgba(9, 221, 161,  0.28827419877052307); padding: 1px 5px; border: solid 3px ; border-color: rgba(9, 221, 161,  1); #EFEFEF\">in</span> <span style=\"background-color: rgba(233,30,99,0);  padding: 1px 5px; border: solid 3px ; border-color:  rgba(233,30,99,0); #EFEFEF\">The Great Texas Dynamite Chase</span> <span style=\"background-color: rgba(221, 9, 140, 0.31809771060943604); padding: 1px 5px; border: solid 3px ; border-color: rgba(221, 9, 140, 1); #EFEFEF\">particularly</span> <span style=\"background-color: rgba(221, 9, 140, 0.2888370454311371); padding: 1px 5px; border: solid 3px ; border-color: rgba(221, 9, 140, 1); #EFEFEF\">fine and personable</span> <span style=\"background-color: rgba(9, 221, 161,  0.38640284538269043); padding: 1px 5px; border: solid 3px ; border-color: rgba(9, 221, 161,  1); #EFEFEF\">as</span> <span style=\"background-color: rgba(221, 9, 140, 0.4585430324077606); padding: 1px 5px; border: solid 3px ; border-color: rgba(221, 9, 140, 1); #EFEFEF\">the most resilient and sympathetic</span> <span style=\"background-color: rgba(9, 221, 161,  0.38640284538269043); padding: 1px 5px; border: solid 3px ; border-color: rgba(9, 221, 161,  1); #EFEFEF\">of</span> <span style=\"background-color: rgba(9, 221, 161,  0.38640284538269043); padding: 1px 5px; border: solid 3px ; border-color: rgba(9, 221, 161,  1); #EFEFEF\">the endangered teens</span> </div>"
      ],
      "text/plain": [
       "<IPython.core.display.HTML object>"
      ]
     },
     "metadata": {},
     "output_type": "display_data"
    },
    {
     "data": {
      "text/html": [
       "<br><br>"
      ],
      "text/plain": [
       "<IPython.core.display.HTML object>"
      ]
     },
     "metadata": {},
     "output_type": "display_data"
    },
    {
     "name": "stdout",
     "output_type": "stream",
     "text": [
      "\n",
      "\n",
      "10 most important reviews for negative predicted label - concept3:\n",
      "\n",
      "\n"
     ]
    },
    {
     "data": {
      "text/html": [
       "<div style='display: flex; width: 400px; flex-wrap: wrap'><span style=\"background-color: rgba(233,30,99,0);  padding: 1px 5px; border: solid 3px ; border-color:  rgba(233,30,99,0); #EFEFEF\">While</span> <span style=\"background-color: rgba(221, 90, 9,  0.21955351531505585); padding: 1px 5px; border: solid 3px ; border-color: rgba(221, 90, 9,  1); #EFEFEF\">most women</span> <span style=\"background-color: rgba(233,30,99,0);  padding: 1px 5px; border: solid 3px ; border-color:  rgba(233,30,99,0); #EFEFEF\">have had</span> <span style=\"background-color: rgba(221, 90, 9,  0.20305576920509338); padding: 1px 5px; border: solid 3px ; border-color: rgba(221, 90, 9,  1); #EFEFEF\">some jerk</span> <span style=\"background-color: rgba(233,30,99,0);  padding: 1px 5px; border: solid 3px ; border-color:  rgba(233,30,99,0); #EFEFEF\">hurt</span> <span style=\"background-color: rgba(233,30,99,0);  padding: 1px 5px; border: solid 3px ; border-color:  rgba(233,30,99,0); #EFEFEF\">anger</span> <span style=\"background-color: rgba(233,30,99,0);  padding: 1px 5px; border: solid 3px ; border-color:  rgba(233,30,99,0); #EFEFEF\">them</span> <span style=\"background-color: rgba(233,30,99,0);  padding: 1px 5px; border: solid 3px ; border-color:  rgba(233,30,99,0); #EFEFEF\">this</span> <span style=\"background-color: rgba(221, 90, 9,  0.3223170340061188); padding: 1px 5px; border: solid 3px ; border-color: rgba(221, 90, 9,  1); #EFEFEF\">is</span> <span style=\"background-color: rgba(233,30,99,0);  padding: 1px 5px; border: solid 3px ; border-color:  rgba(233,30,99,0); #EFEFEF\">clearly</span> <span style=\"background-color: rgba(233,30,99,0);  padding: 1px 5px; border: solid 3px ; border-color:  rgba(233,30,99,0); #EFEFEF\">a form</span> <span style=\"background-color: rgba(233,30,99,0);  padding: 1px 5px; border: solid 3px ; border-color:  rgba(233,30,99,0); #EFEFEF\">of</span> <span style=\"background-color: rgba(221, 90, 9,  0.9993129372596741); padding: 1px 5px; border: solid 3px ; border-color: rgba(221, 90, 9,  1); #EFEFEF\">sexism</span> </div>"
      ],
      "text/plain": [
       "<IPython.core.display.HTML object>"
      ]
     },
     "metadata": {},
     "output_type": "display_data"
    },
    {
     "data": {
      "text/html": [
       "<br><br>"
      ],
      "text/plain": [
       "<IPython.core.display.HTML object>"
      ]
     },
     "metadata": {},
     "output_type": "display_data"
    },
    {
     "data": {
      "text/html": [
       "<div style='display: flex; width: 400px; flex-wrap: wrap'><span style=\"background-color: rgba(233,30,99,0);  padding: 1px 5px; border: solid 3px ; border-color:  rgba(233,30,99,0); #EFEFEF\">This</span> <span style=\"background-color: rgba(233,30,99,0);  padding: 1px 5px; border: solid 3px ; border-color:  rgba(233,30,99,0); #EFEFEF\">is</span> <span style=\"background-color: rgba(233,30,99,0);  padding: 1px 5px; border: solid 3px ; border-color:  rgba(233,30,99,0); #EFEFEF\">truly</span> <span style=\"background-color: rgba(221, 90, 9,  0.9995359778404236); padding: 1px 5px; border: solid 3px ; border-color: rgba(221, 90, 9,  1); #EFEFEF\">an insult</span> <span style=\"background-color: rgba(233,30,99,0);  padding: 1px 5px; border: solid 3px ; border-color:  rgba(233,30,99,0); #EFEFEF\">to</span> <span style=\"background-color: rgba(233,30,99,0);  padding: 1px 5px; border: solid 3px ; border-color:  rgba(233,30,99,0); #EFEFEF\">people</span> <span style=\"background-color: rgba(233,30,99,0);  padding: 1px 5px; border: solid 3px ; border-color:  rgba(233,30,99,0); #EFEFEF\">that</span> <span style=\"background-color: rgba(233,30,99,0);  padding: 1px 5px; border: solid 3px ; border-color:  rgba(233,30,99,0); #EFEFEF\">do take</span> <span style=\"background-color: rgba(233,30,99,0);  padding: 1px 5px; border: solid 3px ; border-color:  rgba(233,30,99,0); #EFEFEF\">space travel</span> <span style=\"background-color: rgba(233,30,99,0);  padding: 1px 5px; border: solid 3px ; border-color:  rgba(233,30,99,0); #EFEFEF\">serious</span> </div>"
      ],
      "text/plain": [
       "<IPython.core.display.HTML object>"
      ]
     },
     "metadata": {},
     "output_type": "display_data"
    },
    {
     "data": {
      "text/html": [
       "<br><br>"
      ],
      "text/plain": [
       "<IPython.core.display.HTML object>"
      ]
     },
     "metadata": {},
     "output_type": "display_data"
    },
    {
     "data": {
      "text/html": [
       "<div style='display: flex; width: 400px; flex-wrap: wrap'><span style=\"background-color: rgba(233,30,99,0);  padding: 1px 5px; border: solid 3px ; border-color:  rgba(233,30,99,0); #EFEFEF\">It</span> <span style=\"background-color: rgba(221, 90, 9,  0.9994025826454163); padding: 1px 5px; border: solid 3px ; border-color: rgba(221, 90, 9,  1); #EFEFEF\">is really mocking</span> <span style=\"background-color: rgba(233,30,99,0);  padding: 1px 5px; border: solid 3px ; border-color:  rgba(233,30,99,0); #EFEFEF\">psychology</span> <span style=\"background-color: rgba(233,30,99,0);  padding: 1px 5px; border: solid 3px ; border-color:  rgba(233,30,99,0); #EFEFEF\">the conditioning</span> <span style=\"background-color: rgba(233,30,99,0);  padding: 1px 5px; border: solid 3px ; border-color:  rgba(233,30,99,0); #EFEFEF\">of</span> <span style=\"background-color: rgba(233,30,99,0);  padding: 1px 5px; border: solid 3px ; border-color:  rgba(233,30,99,0); #EFEFEF\">society</span> </div>"
      ],
      "text/plain": [
       "<IPython.core.display.HTML object>"
      ]
     },
     "metadata": {},
     "output_type": "display_data"
    },
    {
     "data": {
      "text/html": [
       "<br><br>"
      ],
      "text/plain": [
       "<IPython.core.display.HTML object>"
      ]
     },
     "metadata": {},
     "output_type": "display_data"
    },
    {
     "data": {
      "text/html": [
       "<div style='display: flex; width: 400px; flex-wrap: wrap'><span style=\"background-color: rgba(221, 90, 9,  0.254903644323349); padding: 1px 5px; border: solid 3px ; border-color: rgba(221, 90, 9,  1); #EFEFEF\">All women</span> <span style=\"background-color: rgba(221, 90, 9,  0.2926560938358307); padding: 1px 5px; border: solid 3px ; border-color: rgba(221, 90, 9,  1); #EFEFEF\">are</span> <span style=\"background-color: rgba(221, 90, 9,  0.9882060885429382); padding: 1px 5px; border: solid 3px ; border-color: rgba(221, 90, 9,  1); #EFEFEF\">sluts</span> <span style=\"background-color: rgba(221, 90, 9,  0.9988121390342712); padding: 1px 5px; border: solid 3px ; border-color: rgba(221, 90, 9,  1); #EFEFEF\">either openly or secretly</span> </div>"
      ],
      "text/plain": [
       "<IPython.core.display.HTML object>"
      ]
     },
     "metadata": {},
     "output_type": "display_data"
    },
    {
     "data": {
      "text/html": [
       "<br><br>"
      ],
      "text/plain": [
       "<IPython.core.display.HTML object>"
      ]
     },
     "metadata": {},
     "output_type": "display_data"
    },
    {
     "data": {
      "text/html": [
       "<div style='display: flex; width: 400px; flex-wrap: wrap'><span style=\"background-color: rgba(221, 90, 9,  0.9595785140991211); padding: 1px 5px; border: solid 3px ; border-color: rgba(221, 90, 9,  1); #EFEFEF\">The other misconception</span> <span style=\"background-color: rgba(221, 90, 9,  0.9666414856910706); padding: 1px 5px; border: solid 3px ; border-color: rgba(221, 90, 9,  1); #EFEFEF\">is</span> <span style=\"background-color: rgba(221, 90, 9,  0.9979207515716553); padding: 1px 5px; border: solid 3px ; border-color: rgba(221, 90, 9,  1); #EFEFEF\">abuse</span> <span style=\"background-color: rgba(221, 90, 9,  0.7078782916069031); padding: 1px 5px; border: solid 3px ; border-color: rgba(221, 90, 9,  1); #EFEFEF\">in</span> <span style=\"background-color: rgba(221, 90, 9,  0.5383198261260986); padding: 1px 5px; border: solid 3px ; border-color: rgba(221, 90, 9,  1); #EFEFEF\">childhood</span> <span style=\"background-color: rgba(9, 221, 161,  0.45879268646240234); padding: 1px 5px; border: solid 3px ; border-color: rgba(9, 221, 161,  1); #EFEFEF\">is</span> <span style=\"background-color: rgba(221, 90, 9,  0.45949286222457886); padding: 1px 5px; border: solid 3px ; border-color: rgba(221, 90, 9,  1); #EFEFEF\">a cause</span> <span style=\"background-color: rgba(221, 90, 9,  0.6098902225494385); padding: 1px 5px; border: solid 3px ; border-color: rgba(221, 90, 9,  1); #EFEFEF\">for</span> <span style=\"background-color: rgba(221, 90, 9,  0.5157297253608704); padding: 1px 5px; border: solid 3px ; border-color: rgba(221, 90, 9,  1); #EFEFEF\">schizophrenia</span> </div>"
      ],
      "text/plain": [
       "<IPython.core.display.HTML object>"
      ]
     },
     "metadata": {},
     "output_type": "display_data"
    },
    {
     "data": {
      "text/html": [
       "<br><br>"
      ],
      "text/plain": [
       "<IPython.core.display.HTML object>"
      ]
     },
     "metadata": {},
     "output_type": "display_data"
    },
    {
     "data": {
      "text/html": [
       "<div style='display: flex; width: 400px; flex-wrap: wrap'><span style=\"background-color: rgba(221, 90, 9,  0.9487334489822388); padding: 1px 5px; border: solid 3px ; border-color: rgba(221, 90, 9,  1); #EFEFEF\">It</span> <span style=\"background-color: rgba(221, 90, 9,  0.8095003366470337); padding: 1px 5px; border: solid 3px ; border-color: rgba(221, 90, 9,  1); #EFEFEF\">is</span> <span style=\"background-color: rgba(221, 90, 9,  0.46802905201911926); padding: 1px 5px; border: solid 3px ; border-color: rgba(221, 90, 9,  1); #EFEFEF\">also</span> <span style=\"background-color: rgba(221, 90, 9,  0.9994168281555176); padding: 1px 5px; border: solid 3px ; border-color: rgba(221, 90, 9,  1); #EFEFEF\">offensive</span> </div>"
      ],
      "text/plain": [
       "<IPython.core.display.HTML object>"
      ]
     },
     "metadata": {},
     "output_type": "display_data"
    },
    {
     "data": {
      "text/html": [
       "<br><br>"
      ],
      "text/plain": [
       "<IPython.core.display.HTML object>"
      ]
     },
     "metadata": {},
     "output_type": "display_data"
    },
    {
     "data": {
      "text/html": [
       "<div style='display: flex; width: 400px; flex-wrap: wrap'><span style=\"background-color: rgba(221, 90, 9,  0.6110390424728394); padding: 1px 5px; border: solid 3px ; border-color: rgba(221, 90, 9,  1); #EFEFEF\">It</span> <span style=\"background-color: rgba(221, 90, 9,  0.7025925517082214); padding: 1px 5px; border: solid 3px ; border-color: rgba(221, 90, 9,  1); #EFEFEF\">'s</span> <span style=\"background-color: rgba(221, 90, 9,  0.4388761818408966); padding: 1px 5px; border: solid 3px ; border-color: rgba(221, 90, 9,  1); #EFEFEF\">a moral message</span> <span style=\"background-color: rgba(221, 90, 9,  0.7735695242881775); padding: 1px 5px; border: solid 3px ; border-color: rgba(221, 90, 9,  1); #EFEFEF\">about</span> <span style=\"background-color: rgba(221, 90, 9,  0.6051987409591675); padding: 1px 5px; border: solid 3px ; border-color: rgba(221, 90, 9,  1); #EFEFEF\">pod people</span> <span style=\"background-color: rgba(221, 90, 9,  0.7515224814414978); padding: 1px 5px; border: solid 3px ; border-color: rgba(221, 90, 9,  1); #EFEFEF\">masquerading</span> <span style=\"background-color: rgba(221, 90, 9,  0.6704409122467041); padding: 1px 5px; border: solid 3px ; border-color: rgba(221, 90, 9,  1); #EFEFEF\">as</span> <span style=\"background-color: rgba(221, 90, 9,  0.667805552482605); padding: 1px 5px; border: solid 3px ; border-color: rgba(221, 90, 9,  1); #EFEFEF\">normal citizens</span> </div>"
      ],
      "text/plain": [
       "<IPython.core.display.HTML object>"
      ]
     },
     "metadata": {},
     "output_type": "display_data"
    },
    {
     "data": {
      "text/html": [
       "<br><br>"
      ],
      "text/plain": [
       "<IPython.core.display.HTML object>"
      ]
     },
     "metadata": {},
     "output_type": "display_data"
    },
    {
     "data": {
      "text/html": [
       "<div style='display: flex; width: 400px; flex-wrap: wrap'><span style=\"background-color: rgba(9, 221, 55,  0.770298182964325); padding: 1px 5px; border: solid 3px ; border-color: rgba(9, 221, 55,  1); #EFEFEF\">Insulted</span> <span style=\"background-color: rgba(9, 221, 55,  0.770298182964325); padding: 1px 5px; border: solid 3px ; border-color: rgba(9, 221, 55,  1); #EFEFEF\">Whiting</span> <span style=\"background-color: rgba(221, 90, 9,  0.8169596195220947); padding: 1px 5px; border: solid 3px ; border-color: rgba(221, 90, 9,  1); #EFEFEF\">attacks</span> <span style=\"background-color: rgba(9, 221, 55,  0.770298182964325); padding: 1px 5px; border: solid 3px ; border-color: rgba(9, 221, 55,  1); #EFEFEF\">his masculinity</span> <span style=\"background-color: rgba(9, 221, 55,  0.770298182964325); padding: 1px 5px; border: solid 3px ; border-color: rgba(9, 221, 55,  1); #EFEFEF\">by</span> <span style=\"background-color: rgba(9, 221, 55,  0.770298182964325); padding: 1px 5px; border: solid 3px ; border-color: rgba(9, 221, 55,  1); #EFEFEF\">calling</span> <span style=\"background-color: rgba(221, 90, 9,  0.9974343180656433); padding: 1px 5px; border: solid 3px ; border-color: rgba(221, 90, 9,  1); #EFEFEF\">his work women</span> <span style=\"background-color: rgba(9, 221, 55,  0.770298182964325); padding: 1px 5px; border: solid 3px ; border-color: rgba(9, 221, 55,  1); #EFEFEF\">'s work</span> </div>"
      ],
      "text/plain": [
       "<IPython.core.display.HTML object>"
      ]
     },
     "metadata": {},
     "output_type": "display_data"
    },
    {
     "data": {
      "text/html": [
       "<br><br>"
      ],
      "text/plain": [
       "<IPython.core.display.HTML object>"
      ]
     },
     "metadata": {},
     "output_type": "display_data"
    },
    {
     "data": {
      "text/html": [
       "<div style='display: flex; width: 400px; flex-wrap: wrap'><span style=\"background-color: rgba(221, 90, 9,  0.7527952790260315); padding: 1px 5px; border: solid 3px ; border-color: rgba(221, 90, 9,  1); #EFEFEF\">There</span> <span style=\"background-color: rgba(221, 90, 9,  0.5371603965759277); padding: 1px 5px; border: solid 3px ; border-color: rgba(221, 90, 9,  1); #EFEFEF\">is</span> <span style=\"background-color: rgba(221, 90, 9,  0.8769760727882385); padding: 1px 5px; border: solid 3px ; border-color: rgba(221, 90, 9,  1); #EFEFEF\">a good reason</span> <span style=\"background-color: rgba(221, 90, 9,  0.34707337617874146); padding: 1px 5px; border: solid 3px ; border-color: rgba(221, 90, 9,  1); #EFEFEF\">for</span> <span style=\"background-color: rgba(221, 90, 9,  0.46541765332221985); padding: 1px 5px; border: solid 3px ; border-color: rgba(221, 90, 9,  1); #EFEFEF\">him</span> <span style=\"background-color: rgba(221, 90, 9,  0.6569825410842896); padding: 1px 5px; border: solid 3px ; border-color: rgba(221, 90, 9,  1); #EFEFEF\">doing</span> <span style=\"background-color: rgba(221, 90, 9,  0.6090831160545349); padding: 1px 5px; border: solid 3px ; border-color: rgba(221, 90, 9,  1); #EFEFEF\">this</span> <span style=\"background-color: rgba(221, 90, 9,  0.37298545241355896); padding: 1px 5px; border: solid 3px ; border-color: rgba(221, 90, 9,  1); #EFEFEF\">namely</span> <span style=\"background-color: rgba(221, 90, 9,  0.36623573303222656); padding: 1px 5px; border: solid 3px ; border-color: rgba(221, 90, 9,  1); #EFEFEF\">that</span> <span style=\"background-color: rgba(221, 90, 9,  0.6163352727890015); padding: 1px 5px; border: solid 3px ; border-color: rgba(221, 90, 9,  1); #EFEFEF\">he</span> <span style=\"background-color: rgba(221, 90, 9,  0.42645591497421265); padding: 1px 5px; border: solid 3px ; border-color: rgba(221, 90, 9,  1); #EFEFEF\">is</span> <span style=\"background-color: rgba(221, 90, 9,  0.9991453289985657); padding: 1px 5px; border: solid 3px ; border-color: rgba(221, 90, 9,  1); #EFEFEF\">a liar</span> </div>"
      ],
      "text/plain": [
       "<IPython.core.display.HTML object>"
      ]
     },
     "metadata": {},
     "output_type": "display_data"
    },
    {
     "data": {
      "text/html": [
       "<br><br>"
      ],
      "text/plain": [
       "<IPython.core.display.HTML object>"
      ]
     },
     "metadata": {},
     "output_type": "display_data"
    },
    {
     "data": {
      "text/html": [
       "<div style='display: flex; width: 400px; flex-wrap: wrap'><span style=\"background-color: rgba(221, 90, 9,  0.577846884727478); padding: 1px 5px; border: solid 3px ; border-color: rgba(221, 90, 9,  1); #EFEFEF\">I</span> <span style=\"background-color: rgba(221, 90, 9,  0.6495997905731201); padding: 1px 5px; border: solid 3px ; border-color: rgba(221, 90, 9,  1); #EFEFEF\">found</span> <span style=\"background-color: rgba(221, 90, 9,  0.58975750207901); padding: 1px 5px; border: solid 3px ; border-color: rgba(221, 90, 9,  1); #EFEFEF\">this</span> <span style=\"background-color: rgba(233,30,99,0);  padding: 1px 5px; border: solid 3px ; border-color:  rgba(233,30,99,0); #EFEFEF\">unengaging</span> <span style=\"background-color: rgba(221, 90, 9,  0.6990057826042175); padding: 1px 5px; border: solid 3px ; border-color: rgba(221, 90, 9,  1); #EFEFEF\">at</span> <span style=\"background-color: rgba(221, 90, 9,  0.62067049741745); padding: 1px 5px; border: solid 3px ; border-color: rgba(221, 90, 9,  1); #EFEFEF\">times</span> <span style=\"background-color: rgba(221, 90, 9,  0.9984154105186462); padding: 1px 5px; border: solid 3px ; border-color: rgba(221, 90, 9,  1); #EFEFEF\">offensive</span> <span style=\"background-color: rgba(221, 90, 9,  0.5822070240974426); padding: 1px 5px; border: solid 3px ; border-color: rgba(221, 90, 9,  1); #EFEFEF\">to</span> <span style=\"background-color: rgba(221, 90, 9,  0.3781212568283081); padding: 1px 5px; border: solid 3px ; border-color: rgba(221, 90, 9,  1); #EFEFEF\">the cause</span> </div>"
      ],
      "text/plain": [
       "<IPython.core.display.HTML object>"
      ]
     },
     "metadata": {},
     "output_type": "display_data"
    },
    {
     "data": {
      "text/html": [
       "<br><br>"
      ],
      "text/plain": [
       "<IPython.core.display.HTML object>"
      ]
     },
     "metadata": {},
     "output_type": "display_data"
    }
   ],
   "source": [
    "print_legend(colors, label_to_criterion)\n",
    "\n",
    "print(\"positive predicted reviews:\")\n",
    "print(\"\\n\")\n",
    "i = 0\n",
    "for sentence in l_mip_sentences_pos:\n",
    "    if i%n == 0 :\n",
    "        print(\"\\n\")\n",
    "        print(str(n) + \" most important reviews for positive predicted label - concept\" + str(i//n + 1) +\":\")\n",
    "        print(\"\\n\")\n",
    "    phi = occlusion_concepts(sentence, model, tokenizer, [factorization_pos, factorization_neg], [l_concept_id_pos, l_concept_id_neg], ignore_words = [], two_labels = True, device = device)\n",
    "    phi /= np.max(np.abs(phi)) + 1e-5\n",
    "    viz_concepts(sentence, phi, colors, ignore_words = [])\n",
    "    i += 1\n",
    "\n",
    "print(\"\\n\")\n",
    "print(\"negative predicted reviews:\")\n",
    "print(\"\\n\")\n",
    "\n",
    "i = 0\n",
    "for sentence in l_mip_sentences_neg:\n",
    "    \n",
    "    if i%n == 0 :\n",
    "        print(\"\\n\")\n",
    "        print(str(n) + \" most important reviews for negative predicted label - concept\" + str(i//n + 1) +\":\")\n",
    "        print(\"\\n\")\n",
    "    phi = occlusion_concepts(sentence,  model, tokenizer, [factorization_pos, factorization_neg], [l_concept_id_pos, l_concept_id_neg], ignore_words = [], two_labels = True, device = device)\n",
    "    phi /= np.max(np.abs(phi)) + 1e-5\n",
    "    viz_concepts(sentence, phi, colors, ignore_words = [])\n",
    "    i +=1"
   ]
  }
 ],
 "metadata": {
  "kernelspec": {
   "display_name": "cockatiel",
   "language": "python",
   "name": "cockatiel"
  },
  "language_info": {
   "codemirror_mode": {
    "name": "ipython",
    "version": 3
   },
   "file_extension": ".py",
   "mimetype": "text/x-python",
   "name": "python",
   "nbconvert_exporter": "python",
   "pygments_lexer": "ipython3",
   "version": "3.11.5"
  }
 },
 "nbformat": 4,
 "nbformat_minor": 5
}
