{
 "cells": [
  {
   "cell_type": "markdown",
   "id": "3105c5f2-a0ab-4305-af8a-f9c2fb068ed3",
   "metadata": {
    "tags": []
   },
   "source": [
    "# COCKATIEL on Different NLP Models"
   ]
  },
  {
   "cell_type": "markdown",
   "id": "b4243596-cd43-4cb9-9785-5e786d7bb064",
   "metadata": {
    "tags": []
   },
   "source": [
    "## Set Up"
   ]
  },
  {
   "cell_type": "code",
   "execution_count": 1,
   "id": "3190607e-f830-4003-998c-741281378b3b",
   "metadata": {
    "tags": []
   },
   "outputs": [
    {
     "name": "stdout",
     "output_type": "stream",
     "text": [
      "C:\\Users\\onurp\\Desktop\\Analitik\\cockatiel\n"
     ]
    }
   ],
   "source": [
    "# Move the current path to the repo\n",
    "%cd \"../cockatiel/\""
   ]
  },
  {
   "cell_type": "code",
   "execution_count": 2,
   "id": "1e5a822d-33d7-44be-85ff-f0002a294292",
   "metadata": {},
   "outputs": [],
   "source": [
    "# Enable automatical module reload\n",
    "%load_ext autoreload\n",
    "%autoreload 2"
   ]
  },
  {
   "cell_type": "markdown",
   "id": "0825f288-3b65-465b-a27f-084e5e594b24",
   "metadata": {
    "tags": []
   },
   "source": [
    "## Data Analysis and Preprocessing"
   ]
  },
  {
   "cell_type": "code",
   "execution_count": 3,
   "id": "286c6a64-ef2a-44a6-ad42-0f5e50b05322",
   "metadata": {
    "tags": []
   },
   "outputs": [],
   "source": [
    "import pandas as pd\n",
    "import numpy as np"
   ]
  },
  {
   "cell_type": "code",
   "execution_count": 4,
   "id": "6b1597a0-45bc-4699-835b-d02795d1041d",
   "metadata": {
    "tags": []
   },
   "outputs": [
    {
     "data": {
      "text/html": [
       "<div>\n",
       "<style scoped>\n",
       "    .dataframe tbody tr th:only-of-type {\n",
       "        vertical-align: middle;\n",
       "    }\n",
       "\n",
       "    .dataframe tbody tr th {\n",
       "        vertical-align: top;\n",
       "    }\n",
       "\n",
       "    .dataframe thead th {\n",
       "        text-align: right;\n",
       "    }\n",
       "</style>\n",
       "<table border=\"1\" class=\"dataframe\">\n",
       "  <thead>\n",
       "    <tr style=\"text-align: right;\">\n",
       "      <th></th>\n",
       "      <th>review</th>\n",
       "      <th>sentiment</th>\n",
       "    </tr>\n",
       "  </thead>\n",
       "  <tbody>\n",
       "    <tr>\n",
       "      <th>0</th>\n",
       "      <td>One of the other reviewers has mentioned that ...</td>\n",
       "      <td>positive</td>\n",
       "    </tr>\n",
       "    <tr>\n",
       "      <th>1</th>\n",
       "      <td>A wonderful little production. The filming tec...</td>\n",
       "      <td>positive</td>\n",
       "    </tr>\n",
       "    <tr>\n",
       "      <th>2</th>\n",
       "      <td>I thought this was a wonderful way to spend ti...</td>\n",
       "      <td>positive</td>\n",
       "    </tr>\n",
       "    <tr>\n",
       "      <th>3</th>\n",
       "      <td>Basically there's a family where a little boy ...</td>\n",
       "      <td>negative</td>\n",
       "    </tr>\n",
       "    <tr>\n",
       "      <th>4</th>\n",
       "      <td>Petter Mattei's Love in the Time of Money is a...</td>\n",
       "      <td>positive</td>\n",
       "    </tr>\n",
       "    <tr>\n",
       "      <th>...</th>\n",
       "      <td>...</td>\n",
       "      <td>...</td>\n",
       "    </tr>\n",
       "    <tr>\n",
       "      <th>49992</th>\n",
       "      <td>I thought this movie did a down right good job...</td>\n",
       "      <td>positive</td>\n",
       "    </tr>\n",
       "    <tr>\n",
       "      <th>49993</th>\n",
       "      <td>Bad plot, bad dialogue, bad acting, idiotic di...</td>\n",
       "      <td>negative</td>\n",
       "    </tr>\n",
       "    <tr>\n",
       "      <th>49994</th>\n",
       "      <td>I am a Catholic taught in parochial elementary...</td>\n",
       "      <td>negative</td>\n",
       "    </tr>\n",
       "    <tr>\n",
       "      <th>49995</th>\n",
       "      <td>I'm going to have to disagree with the previou...</td>\n",
       "      <td>negative</td>\n",
       "    </tr>\n",
       "    <tr>\n",
       "      <th>49996</th>\n",
       "      <td>No one expects the Star Trek movies to be high...</td>\n",
       "      <td>negative</td>\n",
       "    </tr>\n",
       "  </tbody>\n",
       "</table>\n",
       "<p>49997 rows × 2 columns</p>\n",
       "</div>"
      ],
      "text/plain": [
       "                                                  review sentiment\n",
       "0      One of the other reviewers has mentioned that ...  positive\n",
       "1      A wonderful little production. The filming tec...  positive\n",
       "2      I thought this was a wonderful way to spend ti...  positive\n",
       "3      Basically there's a family where a little boy ...  negative\n",
       "4      Petter Mattei's Love in the Time of Money is a...  positive\n",
       "...                                                  ...       ...\n",
       "49992  I thought this movie did a down right good job...  positive\n",
       "49993  Bad plot, bad dialogue, bad acting, idiotic di...  negative\n",
       "49994  I am a Catholic taught in parochial elementary...  negative\n",
       "49995  I'm going to have to disagree with the previou...  negative\n",
       "49996  No one expects the Star Trek movies to be high...  negative\n",
       "\n",
       "[49997 rows x 2 columns]"
      ]
     },
     "execution_count": 4,
     "metadata": {},
     "output_type": "execute_result"
    }
   ],
   "source": [
    "df_imbdb_clean = pd.read_csv('./data/IMDB_Dataset_clean.csv', index_col=0)\n",
    "df_imbdb_clean"
   ]
  },
  {
   "cell_type": "code",
   "execution_count": 5,
   "id": "70a5a771-b7e9-4a80-a9b9-aeebc9690cc7",
   "metadata": {
    "tags": []
   },
   "outputs": [
    {
     "name": "stdout",
     "output_type": "stream",
     "text": [
      "sentiment\n",
      "positive    24999\n",
      "negative    24998\n",
      "Name: count, dtype: int64\n"
     ]
    }
   ],
   "source": [
    "print(df_imbdb_clean['sentiment'].value_counts())"
   ]
  },
  {
   "cell_type": "code",
   "execution_count": 6,
   "id": "6441ae5f-f996-4e77-badd-8b8b950dd1c7",
   "metadata": {
    "tags": []
   },
   "outputs": [
    {
     "name": "stdout",
     "output_type": "stream",
     "text": [
      "Max number of words in a sentence: 500\n",
      "Min number of words in a sentence: 4\n",
      "Avg number of words in a sentence: 209\n"
     ]
    }
   ],
   "source": [
    "import matplotlib.pyplot as plt\n",
    "import seaborn as sns\n",
    "\n",
    "# Extract the word counts of each sentence \n",
    "lengths = [len(string.split()) for string in df_imbdb_clean['review']]\n",
    "\n",
    "print(\"Max number of words in a sentence:\", max(lengths))\n",
    "print(\"Min number of words in a sentence:\", min(lengths))\n",
    "print(\"Avg number of words in a sentence:\", round(sum(lengths) / len(lengths)))"
   ]
  },
  {
   "cell_type": "code",
   "execution_count": 7,
   "id": "1977925a-0292-4de9-8006-a22b04da2a73",
   "metadata": {
    "tags": []
   },
   "outputs": [
    {
     "data": {
      "image/png": "[encoded data removed]",
      "text/plain": [
       "<Figure size 2000x800 with 1 Axes>"
      ]
     },
     "metadata": {},
     "output_type": "display_data"
    }
   ],
   "source": [
    "# Generate a histogram to group the data points\n",
    "hist, bins = np.histogram(lengths, bins=150)\n",
    "\n",
    "# Create the histogram plot\n",
    "plt.figure(figsize=(20, 8))\n",
    "plt.hist(lengths, bins=bins, edgecolor='k')\n",
    "plt.xlabel('Number of Words in a Sentence')\n",
    "plt.ylabel('Number of Sentences')\n",
    "plt.title('Distribution of Word Counts in Sentences')\n",
    "plt.show()"
   ]
  },
  {
   "cell_type": "code",
   "execution_count": 8,
   "id": "287c2aa9-874d-4f82-92b1-4247fcb68756",
   "metadata": {
    "tags": []
   },
   "outputs": [
    {
     "data": {
      "text/plain": [
       "(49997, 2)"
      ]
     },
     "execution_count": 8,
     "metadata": {},
     "output_type": "execute_result"
    }
   ],
   "source": [
    "# Convert the dataset to numpy array\n",
    "data_np = np.array(df_imbdb_clean)\n",
    "data_np.shape"
   ]
  },
  {
   "cell_type": "markdown",
   "id": "8940aa4e-70f2-41ed-acf3-0629af3c4648",
   "metadata": {
    "tags": []
   },
   "source": [
    "## Hyperparameters"
   ]
  },
  {
   "cell_type": "code",
   "execution_count": 9,
   "id": "4a209df4-a058-4ba1-a04c-1cf5228a675b",
   "metadata": {
    "tags": []
   },
   "outputs": [],
   "source": [
    "batch_size = 128"
   ]
  },
  {
   "cell_type": "markdown",
   "id": "02bb2a2f-b68c-46f8-8af9-301b774daa0d",
   "metadata": {},
   "source": [
    "## Load and Inspect Model"
   ]
  },
  {
   "cell_type": "code",
   "execution_count": 10,
   "id": "6a614d7f-f97b-4642-be16-e4b0ddfd92bb",
   "metadata": {
    "tags": []
   },
   "outputs": [
    {
     "name": "stdout",
     "output_type": "stream",
     "text": [
      "Selected component: cuda\n"
     ]
    }
   ],
   "source": [
    "import torch\n",
    "import torchsummary as ts \n",
    "\n",
    "# Set up GPU if it is available\n",
    "device = torch.device(\"cuda\") if torch.cuda.is_available() else torch.device(\"cpu\")\n",
    "print(\"Selected component:\", device)"
   ]
  },
  {
   "cell_type": "code",
   "execution_count": 11,
   "id": "ecf71e7e-2e72-44eb-90cd-bfa809487455",
   "metadata": {
    "tags": []
   },
   "outputs": [
    {
     "name": "stdout",
     "output_type": "stream",
     "text": [
      "2023-10-15 21:01:11,245 SequenceTagger predicts: Dictionary with 47 tags: O, S-NP, B-NP, E-NP, I-NP, S-VP, B-VP, E-VP, I-VP, S-PP, B-PP, E-PP, I-PP, S-ADVP, B-ADVP, E-ADVP, I-ADVP, S-SBAR, B-SBAR, E-SBAR, I-SBAR, S-ADJP, B-ADJP, E-ADJP, I-ADJP, S-PRT, B-PRT, E-PRT, I-PRT, S-CONJP, B-CONJP, E-CONJP, I-CONJP, S-INTJ, B-INTJ, E-INTJ, I-INTJ, S-LST, B-LST, E-LST, I-LST, S-UCP, B-UCP, E-UCP, I-UCP, <START>, <STOP>\n"
     ]
    },
    {
     "name": "stderr",
     "output_type": "stream",
     "text": [
      "[nltk_data] Downloading package punkt to\n",
      "[nltk_data]     C:\\Users\\onurp\\AppData\\Roaming\\nltk_data...\n",
      "[nltk_data]   Package punkt is already up-to-date!\n",
      "[nltk_data] Downloading package punkt to\n",
      "[nltk_data]     C:\\Users\\onurp\\AppData\\Roaming\\nltk_data...\n",
      "[nltk_data]   Package punkt is already up-to-date!\n",
      "Some weights of CustomGPT2ForSequenceClassification were not initialized from the model checkpoint at hipnologo/gpt2-imdb-finetune and are newly initialized: ['transformer.gpt2.h.5.attn.c_attn.bias', 'transformer.gpt2.h.11.ln_2.bias', 'transformer.gpt2.h.11.attn.c_attn.bias', 'transformer.gpt2.h.0.ln_2.bias', 'transformer.gpt2.h.3.ln_2.weight', 'transformer.gpt2.h.1.mlp.c_proj.bias', 'transformer.gpt2.h.3.attn.c_proj.weight', 'transformer.gpt2.h.1.ln_2.weight', 'transformer.gpt2.h.1.ln_1.bias', 'transformer.gpt2.h.7.mlp.c_proj.weight', 'transformer.gpt2.h.4.attn.c_attn.bias', 'transformer.gpt2.h.4.attn.c_proj.bias', 'transformer.gpt2.h.9.mlp.c_proj.weight', 'transformer.gpt2.h.6.ln_1.weight', 'transformer.gpt2.h.7.ln_2.bias', 'transformer.gpt2.h.5.mlp.c_proj.weight', 'transformer.gpt2.h.7.mlp.c_fc.bias', 'transformer.gpt2.h.7.attn.c_attn.bias', 'transformer.gpt2.h.7.mlp.c_proj.bias', 'transformer.gpt2.h.2.ln_2.bias', 'transformer.gpt2.h.2.attn.c_proj.bias', 'transformer.gpt2.h.4.ln_1.bias', 'transformer.gpt2.h.9.mlp.c_fc.bias', 'transformer.gpt2.h.3.mlp.c_proj.weight', 'transformer.gpt2.h.7.mlp.c_fc.weight', 'transformer.gpt2.h.5.ln_2.bias', 'transformer.gpt2.h.3.mlp.c_fc.weight', 'transformer.gpt2.h.11.attn.c_attn.weight', 'transformer.gpt2.h.1.ln_1.weight', 'transformer.gpt2.h.9.attn.c_proj.weight', 'transformer.gpt2.h.10.attn.c_proj.weight', 'transformer.gpt2.h.8.attn.c_attn.weight', 'transformer.gpt2.h.5.attn.c_proj.weight', 'transformer.gpt2.h.2.ln_1.weight', 'transformer.gpt2.h.0.attn.c_attn.bias', 'transformer.gpt2.h.8.ln_2.bias', 'transformer.gpt2.h.5.mlp.c_fc.bias', 'transformer.gpt2.h.4.attn.c_proj.weight', 'transformer.gpt2.h.9.mlp.c_fc.weight', 'transformer.gpt2.h.10.mlp.c_fc.weight', 'transformer.gpt2.h.11.attn.c_proj.bias', 'transformer.gpt2.h.2.mlp.c_fc.bias', 'transformer.gpt2.h.1.attn.c_attn.weight', 'transformer.gpt2.h.8.mlp.c_proj.bias', 'transformer.gpt2.h.8.attn.c_proj.weight', 'transformer.gpt2.h.2.mlp.c_fc.weight', 'transformer.gpt2.h.0.ln_1.bias', 'transformer.gpt2.h.0.attn.c_attn.weight', 'transformer.gpt2.h.6.ln_2.weight', 'transformer.gpt2.h.3.mlp.c_fc.bias', 'transformer.gpt2.h.0.mlp.c_fc.bias', 'transformer.gpt2.h.9.attn.c_attn.bias', 'transformer.gpt2.h.0.mlp.c_fc.weight', 'transformer.gpt2.h.6.ln_1.bias', 'transformer.gpt2.h.9.ln_2.bias', 'transformer.gpt2.h.8.ln_1.weight', 'transformer.gpt2.h.10.ln_1.weight', 'transformer.gpt2.h.11.mlp.c_proj.bias', 'transformer.gpt2.h.11.mlp.c_fc.weight', 'transformer.gpt2.ln_f.bias', 'transformer.gpt2.h.10.ln_1.bias', 'transformer.gpt2.h.11.ln_1.weight', 'transformer.gpt2.h.4.ln_1.weight', 'transformer.gpt2.h.11.attn.c_proj.weight', 'transformer.gpt2.h.0.mlp.c_proj.bias', 'transformer.gpt2.h.6.attn.c_attn.weight', 'transformer.gpt2.h.3.attn.c_proj.bias', 'transformer.gpt2.h.1.mlp.c_fc.bias', 'transformer.gpt2.h.4.mlp.c_fc.bias', 'transformer.gpt2.h.3.ln_1.weight', 'transformer.gpt2.h.5.ln_1.bias', 'transformer.gpt2.h.2.attn.c_attn.weight', 'transformer.gpt2.h.2.mlp.c_proj.weight', 'transformer.gpt2.h.6.mlp.c_proj.weight', 'transformer.gpt2.h.8.attn.c_attn.bias', 'transformer.gpt2.h.10.attn.c_attn.bias', 'transformer.gpt2.h.5.ln_1.weight', 'transformer.gpt2.h.2.attn.c_attn.bias', 'transformer.gpt2.h.7.attn.c_attn.weight', 'transformer.gpt2.h.7.attn.c_proj.weight', 'transformer.gpt2.h.1.attn.c_proj.bias', 'transformer.gpt2.h.1.mlp.c_fc.weight', 'transformer.classifier.out_proj.weight', 'transformer.gpt2.h.2.mlp.c_proj.bias', 'transformer.gpt2.h.7.attn.c_proj.bias', 'transformer.gpt2.h.8.ln_2.weight', 'transformer.gpt2.h.0.attn.c_proj.weight', 'transformer.gpt2.h.3.mlp.c_proj.bias', 'transformer.gpt2.h.9.attn.c_proj.bias', 'transformer.gpt2.h.6.ln_2.bias', 'transformer.gpt2.h.1.attn.c_proj.weight', 'transformer.gpt2.h.1.attn.c_attn.bias', 'transformer.gpt2.h.5.ln_2.weight', 'transformer.gpt2.h.9.attn.c_attn.weight', 'transformer.gpt2.h.10.mlp.c_fc.bias', 'transformer.gpt2.h.0.ln_2.weight', 'transformer.gpt2.h.6.mlp.c_fc.bias', 'transformer.gpt2.ln_f.weight', 'transformer.gpt2.h.7.ln_1.bias', 'transformer.gpt2.h.7.ln_1.weight', 'transformer.gpt2.h.10.attn.c_proj.bias', 'transformer.gpt2.h.9.ln_1.weight', 'transformer.gpt2.h.10.mlp.c_proj.weight', 'transformer.gpt2.h.4.mlp.c_proj.bias', 'transformer.gpt2.h.5.attn.c_proj.bias', 'transformer.gpt2.h.5.mlp.c_proj.bias', 'transformer.gpt2.h.7.ln_2.weight', 'transformer.gpt2.h.9.ln_2.weight', 'transformer.classifier.dense.weight', 'transformer.gpt2.h.6.attn.c_proj.bias', 'transformer.gpt2.h.3.attn.c_attn.bias', 'transformer.gpt2.h.10.mlp.c_proj.bias', 'transformer.gpt2.h.2.ln_2.weight', 'transformer.gpt2.h.6.attn.c_proj.weight', 'transformer.gpt2.h.0.attn.c_proj.bias', 'transformer.gpt2.h.2.attn.c_proj.weight', 'transformer.gpt2.h.11.ln_1.bias', 'transformer.classifier.out_proj.bias', 'transformer.gpt2.h.0.mlp.c_proj.weight', 'transformer.gpt2.h.4.ln_2.bias', 'transformer.gpt2.h.3.ln_2.bias', 'transformer.gpt2.h.2.ln_1.bias', 'transformer.gpt2.h.8.ln_1.bias', 'transformer.gpt2.h.10.ln_2.weight', 'transformer.gpt2.h.5.mlp.c_fc.weight', 'transformer.gpt2.h.4.ln_2.weight', 'transformer.gpt2.h.5.attn.c_attn.weight', 'transformer.gpt2.h.1.ln_2.bias', 'transformer.gpt2.h.3.ln_1.bias', 'transformer.gpt2.h.8.mlp.c_proj.weight', 'transformer.gpt2.wte.weight', 'transformer.gpt2.h.4.mlp.c_proj.weight', 'transformer.gpt2.h.3.attn.c_attn.weight', 'transformer.gpt2.h.0.ln_1.weight', 'transformer.gpt2.h.4.mlp.c_fc.weight', 'transformer.gpt2.h.1.mlp.c_proj.weight', 'transformer.gpt2.h.8.mlp.c_fc.bias', 'transformer.gpt2.wpe.weight', 'transformer.gpt2.h.6.mlp.c_proj.bias', 'transformer.gpt2.h.6.mlp.c_fc.weight', 'transformer.gpt2.h.8.mlp.c_fc.weight', 'transformer.gpt2.h.6.attn.c_attn.bias', 'transformer.gpt2.h.10.attn.c_attn.weight', 'transformer.gpt2.h.4.attn.c_attn.weight', 'transformer.gpt2.h.8.attn.c_proj.bias', 'transformer.gpt2.h.9.ln_1.bias', 'transformer.gpt2.h.11.ln_2.weight', 'transformer.gpt2.h.11.mlp.c_fc.bias', 'transformer.gpt2.h.9.mlp.c_proj.bias', 'transformer.gpt2.h.11.mlp.c_proj.weight', 'transformer.classifier.dense.bias', 'transformer.gpt2.h.10.ln_2.bias']\n",
      "You should probably TRAIN this model on a down-stream task to be able to use it for predictions and inference.\n"
     ]
    }
   ],
   "source": [
    "# Load the model and its tokenizer\n",
    "\n",
    "from transformers import GPT2TokenizerFast\n",
    "from cockatiel import CustomGPT2ForSequenceClassification, batch_predict, batcher, tokenize\n",
    "\n",
    "tokenizer = GPT2TokenizerFast.from_pretrained(\"hipnologo/gpt2-imdb-finetune\")\n",
    "model = CustomGPT2ForSequenceClassification.from_pretrained(\"hipnologo/gpt2-imdb-finetune\").to(device)\n",
    "\n",
    "# Put model into evaluation mode\n",
    "model = model.eval()"
   ]
  },
  {
   "cell_type": "code",
   "execution_count": 12,
   "id": "1609b15f-2288-49ba-9c39-e23e312ab7fb",
   "metadata": {
    "tags": []
   },
   "outputs": [
    {
     "ename": "OutOfMemoryError",
     "evalue": "CUDA out of memory. Tried to allocate 1.17 GiB. GPU 0 has a total capacty of 4.00 GiB of which 0 bytes is free. Of the allocated memory 7.60 GiB is allocated by PyTorch, and 1.94 GiB is reserved by PyTorch but unallocated. If reserved but unallocated memory is large try setting max_split_size_mb to avoid fragmentation.  See documentation for Memory Management and PYTORCH_CUDA_ALLOC_CONF",
     "output_type": "error",
     "traceback": [
      "\u001b[1;31m---------------------------------------------------------------------------\u001b[0m",
      "\u001b[1;31mOutOfMemoryError\u001b[0m                          Traceback (most recent call last)",
      "Cell \u001b[1;32mIn[12], line 2\u001b[0m\n\u001b[0;32m      1\u001b[0m \u001b[38;5;66;03m# Make predictions on some samples\u001b[39;00m\n\u001b[1;32m----> 2\u001b[0m y_pred, labels \u001b[38;5;241m=\u001b[39m batch_predict(model\u001b[38;5;241m.\u001b[39mforward, tokenizer, data_np[:\u001b[38;5;241m100\u001b[39m], batch_size, device)\n\u001b[0;32m      4\u001b[0m \u001b[38;5;66;03m# Compute the activations on which to apply the NMF\u001b[39;00m\n\u001b[0;32m      5\u001b[0m features, labels \u001b[38;5;241m=\u001b[39m batch_predict(model\u001b[38;5;241m.\u001b[39mfeatures, tokenizer, data_np[:\u001b[38;5;241m100\u001b[39m], batch_size, device)\n",
      "File \u001b[1;32m~\\Desktop\\Analitik\\cockatiel\\cockatiel\\utils.py:65\u001b[0m, in \u001b[0;36mbatch_predict\u001b[1;34m(model, tokenizer, inputs, batch_size, device)\u001b[0m\n\u001b[0;32m     63\u001b[0m \u001b[38;5;28;01mfor\u001b[39;00m batch_input \u001b[38;5;129;01min\u001b[39;00m batcher(inputs, batch_size):\n\u001b[0;32m     64\u001b[0m     xp, yp \u001b[38;5;241m=\u001b[39m preprocess(batch_input, tokenizer, device)\n\u001b[1;32m---> 65\u001b[0m     out_batch \u001b[38;5;241m=\u001b[39m model(\u001b[38;5;241m*\u001b[39m\u001b[38;5;241m*\u001b[39mxp)\n\u001b[0;32m     66\u001b[0m     predictions \u001b[38;5;241m=\u001b[39m out_batch \u001b[38;5;28;01mif\u001b[39;00m predictions \u001b[38;5;129;01mis\u001b[39;00m \u001b[38;5;28;01mNone\u001b[39;00m \u001b[38;5;28;01melse\u001b[39;00m torch\u001b[38;5;241m.\u001b[39mcat([predictions, out_batch])\n\u001b[0;32m     67\u001b[0m     labels \u001b[38;5;241m=\u001b[39m yp \u001b[38;5;28;01mif\u001b[39;00m labels \u001b[38;5;129;01mis\u001b[39;00m \u001b[38;5;28;01mNone\u001b[39;00m \u001b[38;5;28;01melse\u001b[39;00m torch\u001b[38;5;241m.\u001b[39mcat([labels, yp])\n",
      "File \u001b[1;32m~\\Desktop\\Analitik\\cockatiel\\cockatiel\\GPT2_Model.py:122\u001b[0m, in \u001b[0;36mCustomGPT2ForSequenceClassification.forward\u001b[1;34m(self, input_ids, attention_mask, token_type_ids, head_mask, inputs_embeds, labels, output_attentions, output_hidden_states, return_dict)\u001b[0m\n\u001b[0;32m    108\u001b[0m \u001b[38;5;28;01mdef\u001b[39;00m \u001b[38;5;21mforward\u001b[39m(\n\u001b[0;32m    109\u001b[0m         \u001b[38;5;28mself\u001b[39m,\n\u001b[0;32m    110\u001b[0m         input_ids\u001b[38;5;241m=\u001b[39m\u001b[38;5;28;01mNone\u001b[39;00m,\n\u001b[1;32m   (...)\u001b[0m\n\u001b[0;32m    118\u001b[0m         return_dict\u001b[38;5;241m=\u001b[39m\u001b[38;5;28;01mNone\u001b[39;00m,\n\u001b[0;32m    119\u001b[0m ):\n\u001b[0;32m    120\u001b[0m     return_dict \u001b[38;5;241m=\u001b[39m return_dict \u001b[38;5;28;01mif\u001b[39;00m return_dict \u001b[38;5;129;01mis\u001b[39;00m \u001b[38;5;129;01mnot\u001b[39;00m \u001b[38;5;28;01mNone\u001b[39;00m \u001b[38;5;28;01melse\u001b[39;00m \u001b[38;5;28mself\u001b[39m\u001b[38;5;241m.\u001b[39mconfig\u001b[38;5;241m.\u001b[39muse_return_dict\n\u001b[1;32m--> 122\u001b[0m     outputs \u001b[38;5;241m=\u001b[39m \u001b[38;5;28mself\u001b[39m\u001b[38;5;241m.\u001b[39mgpt2(\n\u001b[0;32m    123\u001b[0m         input_ids,\n\u001b[0;32m    124\u001b[0m         attention_mask\u001b[38;5;241m=\u001b[39mattention_mask,\n\u001b[0;32m    125\u001b[0m         token_type_ids\u001b[38;5;241m=\u001b[39mtoken_type_ids,\n\u001b[0;32m    126\u001b[0m         head_mask\u001b[38;5;241m=\u001b[39mhead_mask,\n\u001b[0;32m    127\u001b[0m         inputs_embeds\u001b[38;5;241m=\u001b[39minputs_embeds,\n\u001b[0;32m    128\u001b[0m         output_attentions\u001b[38;5;241m=\u001b[39moutput_attentions,\n\u001b[0;32m    129\u001b[0m         output_hidden_states\u001b[38;5;241m=\u001b[39moutput_hidden_states,\n\u001b[0;32m    130\u001b[0m         return_dict\u001b[38;5;241m=\u001b[39mreturn_dict,\n\u001b[0;32m    131\u001b[0m     )\n\u001b[0;32m    132\u001b[0m     sequence_output \u001b[38;5;241m=\u001b[39m outputs[\u001b[38;5;241m0\u001b[39m][:, \u001b[38;5;241m0\u001b[39m, :]\n\u001b[0;32m    133\u001b[0m     logits \u001b[38;5;241m=\u001b[39m \u001b[38;5;28mself\u001b[39m\u001b[38;5;241m.\u001b[39mclassifier(sequence_output)\n",
      "File \u001b[1;32m~\\anaconda3\\envs\\cockatiel\\Lib\\site-packages\\torch\\nn\\modules\\module.py:1518\u001b[0m, in \u001b[0;36mModule._wrapped_call_impl\u001b[1;34m(self, *args, **kwargs)\u001b[0m\n\u001b[0;32m   1516\u001b[0m     \u001b[38;5;28;01mreturn\u001b[39;00m \u001b[38;5;28mself\u001b[39m\u001b[38;5;241m.\u001b[39m_compiled_call_impl(\u001b[38;5;241m*\u001b[39margs, \u001b[38;5;241m*\u001b[39m\u001b[38;5;241m*\u001b[39mkwargs)  \u001b[38;5;66;03m# type: ignore[misc]\u001b[39;00m\n\u001b[0;32m   1517\u001b[0m \u001b[38;5;28;01melse\u001b[39;00m:\n\u001b[1;32m-> 1518\u001b[0m     \u001b[38;5;28;01mreturn\u001b[39;00m \u001b[38;5;28mself\u001b[39m\u001b[38;5;241m.\u001b[39m_call_impl(\u001b[38;5;241m*\u001b[39margs, \u001b[38;5;241m*\u001b[39m\u001b[38;5;241m*\u001b[39mkwargs)\n",
      "File \u001b[1;32m~\\anaconda3\\envs\\cockatiel\\Lib\\site-packages\\torch\\nn\\modules\\module.py:1527\u001b[0m, in \u001b[0;36mModule._call_impl\u001b[1;34m(self, *args, **kwargs)\u001b[0m\n\u001b[0;32m   1522\u001b[0m \u001b[38;5;66;03m# If we don't have any hooks, we want to skip the rest of the logic in\u001b[39;00m\n\u001b[0;32m   1523\u001b[0m \u001b[38;5;66;03m# this function, and just call forward.\u001b[39;00m\n\u001b[0;32m   1524\u001b[0m \u001b[38;5;28;01mif\u001b[39;00m \u001b[38;5;129;01mnot\u001b[39;00m (\u001b[38;5;28mself\u001b[39m\u001b[38;5;241m.\u001b[39m_backward_hooks \u001b[38;5;129;01mor\u001b[39;00m \u001b[38;5;28mself\u001b[39m\u001b[38;5;241m.\u001b[39m_backward_pre_hooks \u001b[38;5;129;01mor\u001b[39;00m \u001b[38;5;28mself\u001b[39m\u001b[38;5;241m.\u001b[39m_forward_hooks \u001b[38;5;129;01mor\u001b[39;00m \u001b[38;5;28mself\u001b[39m\u001b[38;5;241m.\u001b[39m_forward_pre_hooks\n\u001b[0;32m   1525\u001b[0m         \u001b[38;5;129;01mor\u001b[39;00m _global_backward_pre_hooks \u001b[38;5;129;01mor\u001b[39;00m _global_backward_hooks\n\u001b[0;32m   1526\u001b[0m         \u001b[38;5;129;01mor\u001b[39;00m _global_forward_hooks \u001b[38;5;129;01mor\u001b[39;00m _global_forward_pre_hooks):\n\u001b[1;32m-> 1527\u001b[0m     \u001b[38;5;28;01mreturn\u001b[39;00m forward_call(\u001b[38;5;241m*\u001b[39margs, \u001b[38;5;241m*\u001b[39m\u001b[38;5;241m*\u001b[39mkwargs)\n\u001b[0;32m   1529\u001b[0m \u001b[38;5;28;01mtry\u001b[39;00m:\n\u001b[0;32m   1530\u001b[0m     result \u001b[38;5;241m=\u001b[39m \u001b[38;5;28;01mNone\u001b[39;00m\n",
      "File \u001b[1;32m~\\anaconda3\\envs\\cockatiel\\Lib\\site-packages\\transformers\\models\\gpt2\\modeling_gpt2.py:900\u001b[0m, in \u001b[0;36mGPT2Model.forward\u001b[1;34m(self, input_ids, past_key_values, attention_mask, token_type_ids, position_ids, head_mask, inputs_embeds, encoder_hidden_states, encoder_attention_mask, use_cache, output_attentions, output_hidden_states, return_dict)\u001b[0m\n\u001b[0;32m    890\u001b[0m     outputs \u001b[38;5;241m=\u001b[39m torch\u001b[38;5;241m.\u001b[39mutils\u001b[38;5;241m.\u001b[39mcheckpoint\u001b[38;5;241m.\u001b[39mcheckpoint(\n\u001b[0;32m    891\u001b[0m         create_custom_forward(block),\n\u001b[0;32m    892\u001b[0m         hidden_states,\n\u001b[1;32m   (...)\u001b[0m\n\u001b[0;32m    897\u001b[0m         encoder_attention_mask,\n\u001b[0;32m    898\u001b[0m     )\n\u001b[0;32m    899\u001b[0m \u001b[38;5;28;01melse\u001b[39;00m:\n\u001b[1;32m--> 900\u001b[0m     outputs \u001b[38;5;241m=\u001b[39m block(\n\u001b[0;32m    901\u001b[0m         hidden_states,\n\u001b[0;32m    902\u001b[0m         layer_past\u001b[38;5;241m=\u001b[39mlayer_past,\n\u001b[0;32m    903\u001b[0m         attention_mask\u001b[38;5;241m=\u001b[39mattention_mask,\n\u001b[0;32m    904\u001b[0m         head_mask\u001b[38;5;241m=\u001b[39mhead_mask[i],\n\u001b[0;32m    905\u001b[0m         encoder_hidden_states\u001b[38;5;241m=\u001b[39mencoder_hidden_states,\n\u001b[0;32m    906\u001b[0m         encoder_attention_mask\u001b[38;5;241m=\u001b[39mencoder_attention_mask,\n\u001b[0;32m    907\u001b[0m         use_cache\u001b[38;5;241m=\u001b[39muse_cache,\n\u001b[0;32m    908\u001b[0m         output_attentions\u001b[38;5;241m=\u001b[39moutput_attentions,\n\u001b[0;32m    909\u001b[0m     )\n\u001b[0;32m    911\u001b[0m hidden_states \u001b[38;5;241m=\u001b[39m outputs[\u001b[38;5;241m0\u001b[39m]\n\u001b[0;32m    912\u001b[0m \u001b[38;5;28;01mif\u001b[39;00m use_cache \u001b[38;5;129;01mis\u001b[39;00m \u001b[38;5;28;01mTrue\u001b[39;00m:\n",
      "File \u001b[1;32m~\\anaconda3\\envs\\cockatiel\\Lib\\site-packages\\torch\\nn\\modules\\module.py:1518\u001b[0m, in \u001b[0;36mModule._wrapped_call_impl\u001b[1;34m(self, *args, **kwargs)\u001b[0m\n\u001b[0;32m   1516\u001b[0m     \u001b[38;5;28;01mreturn\u001b[39;00m \u001b[38;5;28mself\u001b[39m\u001b[38;5;241m.\u001b[39m_compiled_call_impl(\u001b[38;5;241m*\u001b[39margs, \u001b[38;5;241m*\u001b[39m\u001b[38;5;241m*\u001b[39mkwargs)  \u001b[38;5;66;03m# type: ignore[misc]\u001b[39;00m\n\u001b[0;32m   1517\u001b[0m \u001b[38;5;28;01melse\u001b[39;00m:\n\u001b[1;32m-> 1518\u001b[0m     \u001b[38;5;28;01mreturn\u001b[39;00m \u001b[38;5;28mself\u001b[39m\u001b[38;5;241m.\u001b[39m_call_impl(\u001b[38;5;241m*\u001b[39margs, \u001b[38;5;241m*\u001b[39m\u001b[38;5;241m*\u001b[39mkwargs)\n",
      "File \u001b[1;32m~\\anaconda3\\envs\\cockatiel\\Lib\\site-packages\\torch\\nn\\modules\\module.py:1527\u001b[0m, in \u001b[0;36mModule._call_impl\u001b[1;34m(self, *args, **kwargs)\u001b[0m\n\u001b[0;32m   1522\u001b[0m \u001b[38;5;66;03m# If we don't have any hooks, we want to skip the rest of the logic in\u001b[39;00m\n\u001b[0;32m   1523\u001b[0m \u001b[38;5;66;03m# this function, and just call forward.\u001b[39;00m\n\u001b[0;32m   1524\u001b[0m \u001b[38;5;28;01mif\u001b[39;00m \u001b[38;5;129;01mnot\u001b[39;00m (\u001b[38;5;28mself\u001b[39m\u001b[38;5;241m.\u001b[39m_backward_hooks \u001b[38;5;129;01mor\u001b[39;00m \u001b[38;5;28mself\u001b[39m\u001b[38;5;241m.\u001b[39m_backward_pre_hooks \u001b[38;5;129;01mor\u001b[39;00m \u001b[38;5;28mself\u001b[39m\u001b[38;5;241m.\u001b[39m_forward_hooks \u001b[38;5;129;01mor\u001b[39;00m \u001b[38;5;28mself\u001b[39m\u001b[38;5;241m.\u001b[39m_forward_pre_hooks\n\u001b[0;32m   1525\u001b[0m         \u001b[38;5;129;01mor\u001b[39;00m _global_backward_pre_hooks \u001b[38;5;129;01mor\u001b[39;00m _global_backward_hooks\n\u001b[0;32m   1526\u001b[0m         \u001b[38;5;129;01mor\u001b[39;00m _global_forward_hooks \u001b[38;5;129;01mor\u001b[39;00m _global_forward_pre_hooks):\n\u001b[1;32m-> 1527\u001b[0m     \u001b[38;5;28;01mreturn\u001b[39;00m forward_call(\u001b[38;5;241m*\u001b[39margs, \u001b[38;5;241m*\u001b[39m\u001b[38;5;241m*\u001b[39mkwargs)\n\u001b[0;32m   1529\u001b[0m \u001b[38;5;28;01mtry\u001b[39;00m:\n\u001b[0;32m   1530\u001b[0m     result \u001b[38;5;241m=\u001b[39m \u001b[38;5;28;01mNone\u001b[39;00m\n",
      "File \u001b[1;32m~\\anaconda3\\envs\\cockatiel\\Lib\\site-packages\\transformers\\models\\gpt2\\modeling_gpt2.py:390\u001b[0m, in \u001b[0;36mGPT2Block.forward\u001b[1;34m(self, hidden_states, layer_past, attention_mask, head_mask, encoder_hidden_states, encoder_attention_mask, use_cache, output_attentions)\u001b[0m\n\u001b[0;32m    388\u001b[0m residual \u001b[38;5;241m=\u001b[39m hidden_states\n\u001b[0;32m    389\u001b[0m hidden_states \u001b[38;5;241m=\u001b[39m \u001b[38;5;28mself\u001b[39m\u001b[38;5;241m.\u001b[39mln_1(hidden_states)\n\u001b[1;32m--> 390\u001b[0m attn_outputs \u001b[38;5;241m=\u001b[39m \u001b[38;5;28mself\u001b[39m\u001b[38;5;241m.\u001b[39mattn(\n\u001b[0;32m    391\u001b[0m     hidden_states,\n\u001b[0;32m    392\u001b[0m     layer_past\u001b[38;5;241m=\u001b[39mlayer_past,\n\u001b[0;32m    393\u001b[0m     attention_mask\u001b[38;5;241m=\u001b[39mattention_mask,\n\u001b[0;32m    394\u001b[0m     head_mask\u001b[38;5;241m=\u001b[39mhead_mask,\n\u001b[0;32m    395\u001b[0m     use_cache\u001b[38;5;241m=\u001b[39muse_cache,\n\u001b[0;32m    396\u001b[0m     output_attentions\u001b[38;5;241m=\u001b[39moutput_attentions,\n\u001b[0;32m    397\u001b[0m )\n\u001b[0;32m    398\u001b[0m attn_output \u001b[38;5;241m=\u001b[39m attn_outputs[\u001b[38;5;241m0\u001b[39m]  \u001b[38;5;66;03m# output_attn: a, present, (attentions)\u001b[39;00m\n\u001b[0;32m    399\u001b[0m outputs \u001b[38;5;241m=\u001b[39m attn_outputs[\u001b[38;5;241m1\u001b[39m:]\n",
      "File \u001b[1;32m~\\anaconda3\\envs\\cockatiel\\Lib\\site-packages\\torch\\nn\\modules\\module.py:1518\u001b[0m, in \u001b[0;36mModule._wrapped_call_impl\u001b[1;34m(self, *args, **kwargs)\u001b[0m\n\u001b[0;32m   1516\u001b[0m     \u001b[38;5;28;01mreturn\u001b[39;00m \u001b[38;5;28mself\u001b[39m\u001b[38;5;241m.\u001b[39m_compiled_call_impl(\u001b[38;5;241m*\u001b[39margs, \u001b[38;5;241m*\u001b[39m\u001b[38;5;241m*\u001b[39mkwargs)  \u001b[38;5;66;03m# type: ignore[misc]\u001b[39;00m\n\u001b[0;32m   1517\u001b[0m \u001b[38;5;28;01melse\u001b[39;00m:\n\u001b[1;32m-> 1518\u001b[0m     \u001b[38;5;28;01mreturn\u001b[39;00m \u001b[38;5;28mself\u001b[39m\u001b[38;5;241m.\u001b[39m_call_impl(\u001b[38;5;241m*\u001b[39margs, \u001b[38;5;241m*\u001b[39m\u001b[38;5;241m*\u001b[39mkwargs)\n",
      "File \u001b[1;32m~\\anaconda3\\envs\\cockatiel\\Lib\\site-packages\\torch\\nn\\modules\\module.py:1527\u001b[0m, in \u001b[0;36mModule._call_impl\u001b[1;34m(self, *args, **kwargs)\u001b[0m\n\u001b[0;32m   1522\u001b[0m \u001b[38;5;66;03m# If we don't have any hooks, we want to skip the rest of the logic in\u001b[39;00m\n\u001b[0;32m   1523\u001b[0m \u001b[38;5;66;03m# this function, and just call forward.\u001b[39;00m\n\u001b[0;32m   1524\u001b[0m \u001b[38;5;28;01mif\u001b[39;00m \u001b[38;5;129;01mnot\u001b[39;00m (\u001b[38;5;28mself\u001b[39m\u001b[38;5;241m.\u001b[39m_backward_hooks \u001b[38;5;129;01mor\u001b[39;00m \u001b[38;5;28mself\u001b[39m\u001b[38;5;241m.\u001b[39m_backward_pre_hooks \u001b[38;5;129;01mor\u001b[39;00m \u001b[38;5;28mself\u001b[39m\u001b[38;5;241m.\u001b[39m_forward_hooks \u001b[38;5;129;01mor\u001b[39;00m \u001b[38;5;28mself\u001b[39m\u001b[38;5;241m.\u001b[39m_forward_pre_hooks\n\u001b[0;32m   1525\u001b[0m         \u001b[38;5;129;01mor\u001b[39;00m _global_backward_pre_hooks \u001b[38;5;129;01mor\u001b[39;00m _global_backward_hooks\n\u001b[0;32m   1526\u001b[0m         \u001b[38;5;129;01mor\u001b[39;00m _global_forward_hooks \u001b[38;5;129;01mor\u001b[39;00m _global_forward_pre_hooks):\n\u001b[1;32m-> 1527\u001b[0m     \u001b[38;5;28;01mreturn\u001b[39;00m forward_call(\u001b[38;5;241m*\u001b[39margs, \u001b[38;5;241m*\u001b[39m\u001b[38;5;241m*\u001b[39mkwargs)\n\u001b[0;32m   1529\u001b[0m \u001b[38;5;28;01mtry\u001b[39;00m:\n\u001b[0;32m   1530\u001b[0m     result \u001b[38;5;241m=\u001b[39m \u001b[38;5;28;01mNone\u001b[39;00m\n",
      "File \u001b[1;32m~\\anaconda3\\envs\\cockatiel\\Lib\\site-packages\\transformers\\models\\gpt2\\modeling_gpt2.py:331\u001b[0m, in \u001b[0;36mGPT2Attention.forward\u001b[1;34m(self, hidden_states, layer_past, attention_mask, head_mask, encoder_hidden_states, encoder_attention_mask, use_cache, output_attentions)\u001b[0m\n\u001b[0;32m    329\u001b[0m     attn_output, attn_weights \u001b[38;5;241m=\u001b[39m \u001b[38;5;28mself\u001b[39m\u001b[38;5;241m.\u001b[39m_upcast_and_reordered_attn(query, key, value, attention_mask, head_mask)\n\u001b[0;32m    330\u001b[0m \u001b[38;5;28;01melse\u001b[39;00m:\n\u001b[1;32m--> 331\u001b[0m     attn_output, attn_weights \u001b[38;5;241m=\u001b[39m \u001b[38;5;28mself\u001b[39m\u001b[38;5;241m.\u001b[39m_attn(query, key, value, attention_mask, head_mask)\n\u001b[0;32m    333\u001b[0m attn_output \u001b[38;5;241m=\u001b[39m \u001b[38;5;28mself\u001b[39m\u001b[38;5;241m.\u001b[39m_merge_heads(attn_output, \u001b[38;5;28mself\u001b[39m\u001b[38;5;241m.\u001b[39mnum_heads, \u001b[38;5;28mself\u001b[39m\u001b[38;5;241m.\u001b[39mhead_dim)\n\u001b[0;32m    334\u001b[0m attn_output \u001b[38;5;241m=\u001b[39m \u001b[38;5;28mself\u001b[39m\u001b[38;5;241m.\u001b[39mc_proj(attn_output)\n",
      "File \u001b[1;32m~\\anaconda3\\envs\\cockatiel\\Lib\\site-packages\\transformers\\models\\gpt2\\modeling_gpt2.py:186\u001b[0m, in \u001b[0;36mGPT2Attention._attn\u001b[1;34m(self, query, key, value, attention_mask, head_mask)\u001b[0m\n\u001b[0;32m    183\u001b[0m attn_weights \u001b[38;5;241m=\u001b[39m torch\u001b[38;5;241m.\u001b[39mmatmul(query, key\u001b[38;5;241m.\u001b[39mtranspose(\u001b[38;5;241m-\u001b[39m\u001b[38;5;241m1\u001b[39m, \u001b[38;5;241m-\u001b[39m\u001b[38;5;241m2\u001b[39m))\n\u001b[0;32m    185\u001b[0m \u001b[38;5;28;01mif\u001b[39;00m \u001b[38;5;28mself\u001b[39m\u001b[38;5;241m.\u001b[39mscale_attn_weights:\n\u001b[1;32m--> 186\u001b[0m     attn_weights \u001b[38;5;241m=\u001b[39m attn_weights \u001b[38;5;241m/\u001b[39m torch\u001b[38;5;241m.\u001b[39mfull(\n\u001b[0;32m    187\u001b[0m         [], value\u001b[38;5;241m.\u001b[39msize(\u001b[38;5;241m-\u001b[39m\u001b[38;5;241m1\u001b[39m) \u001b[38;5;241m*\u001b[39m\u001b[38;5;241m*\u001b[39m \u001b[38;5;241m0.5\u001b[39m, dtype\u001b[38;5;241m=\u001b[39mattn_weights\u001b[38;5;241m.\u001b[39mdtype, device\u001b[38;5;241m=\u001b[39mattn_weights\u001b[38;5;241m.\u001b[39mdevice\n\u001b[0;32m    188\u001b[0m     )\n\u001b[0;32m    190\u001b[0m \u001b[38;5;66;03m# Layer-wise attention scaling\u001b[39;00m\n\u001b[0;32m    191\u001b[0m \u001b[38;5;28;01mif\u001b[39;00m \u001b[38;5;28mself\u001b[39m\u001b[38;5;241m.\u001b[39mscale_attn_by_inverse_layer_idx:\n",
      "\u001b[1;31mOutOfMemoryError\u001b[0m: CUDA out of memory. Tried to allocate 1.17 GiB. GPU 0 has a total capacty of 4.00 GiB of which 0 bytes is free. Of the allocated memory 7.60 GiB is allocated by PyTorch, and 1.94 GiB is reserved by PyTorch but unallocated. If reserved but unallocated memory is large try setting max_split_size_mb to avoid fragmentation.  See documentation for Memory Management and PYTORCH_CUDA_ALLOC_CONF"
     ]
    }
   ],
   "source": [
    "# Make predictions on some samples\n",
    "y_pred, labels = batch_predict(model.forward, tokenizer, data_np[:100], batch_size, device)\n",
    "\n",
    "# Compute the activations on which to apply the NMF\n",
    "features, labels = batch_predict(model.features, tokenizer, data_np[:100], batch_size, device)\n",
    "\n",
    "# Go from these activations to the final prediction\n",
    "y_pred_bis = model.end_model(features)\n",
    "\n",
    "print(\"Accuracy for classic model        :\", torch.mean((torch.argmax(y_pred, -1) == labels.to(device)).float()))\n",
    "print(\"Accuracy for model in 'two parts' :\", torch.mean((torch.argmax(y_pred_bis, -1) == labels.to(device)).float()))"
   ]
  },
  {
   "cell_type": "code",
   "execution_count": null,
   "id": "fb57dc43-d071-442a-83ba-1cb3c1e43ec6",
   "metadata": {
    "tags": []
   },
   "outputs": [],
   "source": [
    "print(ts.summary(model).total_params)"
   ]
  },
  {
   "cell_type": "markdown",
   "id": "6112f38f-ccb4-49b4-a2e5-714541d4fe34",
   "metadata": {
    "tags": []
   },
   "source": [
    "## Prepare Dataset for COCKATIEL"
   ]
  },
  {
   "cell_type": "code",
   "execution_count": null,
   "id": "6695bd69-3b8a-46ed-90a8-733f4e2f17a7",
   "metadata": {
    "tags": []
   },
   "outputs": [],
   "source": [
    "# # Store predicted positive (pos) and negative (neg) reviews in lists \n",
    "\n",
    "# positive_reviews = []\n",
    "# negative_reviews = []\n",
    "\n",
    "# with torch.no_grad():\n",
    "#     for input_batch in batcher(data_np[:20000], batch_size=batch_size):\n",
    "        \n",
    "#         r = np.array(list(map(lambda z: z[0], input_batch)))\n",
    "\n",
    "#         tokenized_batch = tokenize(r, tokenizer, device)\n",
    "        \n",
    "#         preds = model(**tokenized_batch)\n",
    "        \n",
    "#         positive_reviews.extend(list(input_batch[np.where(np.argmax(preds.cpu().numpy(), axis=1) == 1)[0]]))\n",
    "#         negative_reviews.extend(list(input_batch[np.where(np.argmax(preds.cpu().numpy(), axis=1) == 0)[0]]))\n",
    "\n",
    "# raw_dataset_pos = list(map(lambda z: z[0], positive_reviews))\n",
    "# raw_dataset_neg = list(map(lambda z: z[0], negative_reviews))\n",
    "\n",
    "# import pickle\n",
    "\n",
    "# pickle.dump(raw_dataset_pos, open(\"../Tez/data/for_gpt2/raw_dataset_pos.pkl\", \"wb\"))\n",
    "# pickle.dump(raw_dataset_neg, open(\"../Tez/data/for_gpt2/raw_dataset_neg.pkl\", \"wb\"))"
   ]
  },
  {
   "cell_type": "code",
   "execution_count": 17,
   "id": "a842282e-c027-4020-bdad-ba63986e2ada",
   "metadata": {
    "tags": []
   },
   "outputs": [
    {
     "name": "stdout",
     "output_type": "stream",
     "text": [
      "197820  positives excerpts created.\n",
      "21759  negatives excerpts created.\n"
     ]
    }
   ],
   "source": [
    "# # Extract the excerpts as a dataset\n",
    "\n",
    "# sentence_separators = ['.', '...', '?', '!', '..']\n",
    "\n",
    "# def excerpt_fct(raw_dataset):\n",
    "    \n",
    "#     excerpt_dataset = []\n",
    "    \n",
    "#     for review in raw_dataset[:100000]:\n",
    "        \n",
    "#         review = str(review)\n",
    "\n",
    "#         for sep in sentence_separators:\n",
    "            \n",
    "#             review = review.replace(sep, '.')\n",
    "  \n",
    "#         cropped_review = review.split('.')\n",
    "    \n",
    "#         for crop in cropped_review:\n",
    "            \n",
    "#             if len(crop):\n",
    "#                 crop = crop + '.'\n",
    "                \n",
    "#                 while crop[0] == ' ':\n",
    "#                     crop = crop[1:]\n",
    "      \n",
    "#                 if crop[0].isupper():  \n",
    "#                     excerpt_dataset.append(crop)\n",
    "                \n",
    "#     return excerpt_dataset\n",
    "  \n",
    "# excerpt_dataset_pos = excerpt_fct(raw_dataset_pos)\n",
    "# excerpt_dataset_neg = excerpt_fct(raw_dataset_neg)\n",
    "\n",
    "# print(len(excerpt_dataset_pos), ' positives excerpts created.')\n",
    "# print(len(excerpt_dataset_neg), ' negatives excerpts created.')\n",
    "\n",
    "# pickle.dump(excerpt_dataset_pos, open(\"../Tez/data/for_gpt2/excerpt_dataset_pos.pkl\", \"wb\"))\n",
    "# pickle.dump(excerpt_dataset_neg, open(\"../Tez/data/for_gpt2/excerpt_dataset_neg.pkl\", \"wb\"))"
   ]
  },
  {
   "cell_type": "code",
   "execution_count": null,
   "id": "d39fd373-68e9-40ec-b1d2-3d7528163d9a",
   "metadata": {
    "tags": []
   },
   "outputs": [],
   "source": [
    "import pickle\n",
    "\n",
    "raw_dataset_pos = pickle.load(open(\"../Tez/data/for_gpt2/raw_dataset_pos.pkl\", \"rb\"))\n",
    "raw_dataset_neg = pickle.load(open(\"../Tez/data/for_gpt2/raw_dataset_neg.pkl\", \"rb\"))\n",
    "\n",
    "excerpt_dataset_pos = pickle.load(open(\"../Tez/data/for_gpt2/excerpt_dataset_pos.pkl\", \"rb\"))\n",
    "excerpt_dataset_neg = pickle.load(open(\"../Tez/data/for_gpt2/excerpt_dataset_neg.pkl\", \"rb\"))"
   ]
  },
  {
   "cell_type": "markdown",
   "id": "89209fde-08ad-4741-b843-fc6ff7f26c7d",
   "metadata": {
    "tags": []
   },
   "source": [
    "## Train COCKATIEL"
   ]
  },
  {
   "cell_type": "code",
   "execution_count": null,
   "id": "603ab89e-76c3-4c32-9f3b-d5488e4bb5dd",
   "metadata": {
    "tags": []
   },
   "outputs": [],
   "source": [
    "from cockatiel import COCKATIEL\n",
    "\n",
    "len_data = 50000  "
   ]
  },
  {
   "cell_type": "code",
   "execution_count": null,
   "id": "e614f0aa-2063-4946-836f-d75d23567332",
   "metadata": {
    "tags": []
   },
   "outputs": [],
   "source": [
    "# Run COCKATIEL on positive reviews\n",
    "\n",
    "with torch.no_grad():\n",
    "    \n",
    "    cockatiel_explainer_pos = COCKATIEL(model, tokenizer, components=20, \n",
    "                                        batch_size=128, device=device)\n",
    "    # batch size 64 tü\n",
    "    segments_pos, u_segments_pos, factorization_pos, global_importance_pos = cockatiel_explainer_pos.extract_concepts(excerpt_dataset_pos[:len_data], \n",
    "                                                                                                                      raw_dataset_pos[:(len_data//10)], \n",
    "                                                                                                                      1, limit_sobol=1_000)\n",
    "    \n",
    "pickle.dump(segments_pos, open(\"../Tez/data/for_gpt2/segments_pos.pkl\", \"wb\"))\n",
    "pickle.dump(u_segments_pos, open(\"../Tez/data/for_gpt2/u_segments_pos.pkl\", \"wb\"))\n",
    "pickle.dump(factorization_pos, open(\"../Tez/data/for_gpt2/factorization_pos.pkl\", \"wb\"))\n",
    "pickle.dump(global_importance_pos, open(\"../Tez/data/for_gpt2/global_importance_pos.pkl\", \"wb\"))"
   ]
  },
  {
   "cell_type": "code",
   "execution_count": null,
   "id": "e9c24bd1-aaca-4ddf-9928-8768db84bd64",
   "metadata": {
    "tags": []
   },
   "outputs": [],
   "source": [
    "# Run COCKATIEL on negative reviews\n",
    "\n",
    "with torch.no_grad():\n",
    "    \n",
    "    cockatiel_explainer_neg = COCKATIEL(model, tokenizer, components=20, \n",
    "                                        batch_size=128, device=device)\n",
    "    \n",
    "    segments_neg, u_segments_neg, factorization_neg, global_importance_neg = cockatiel_explainer_neg.extract_concepts(excerpt_dataset_neg[:len_data], \n",
    "                                                                                            raw_dataset_neg[:(len_data//10)], \n",
    "                                                                                            0, limit_sobol=1_000)\n",
    "    \n",
    "pickle.dump(segments_neg, open(\"../Tez/data/for_gpt2/segments_neg.pkl\", \"wb\"))\n",
    "pickle.dump(u_segments_neg, open(\"../Tez/data/for_gpt2/u_segments_neg.pkl\", \"wb\"))\n",
    "pickle.dump(factorization_neg, open(\"../Tez/data/for_gpt2/factorization_neg.pkl\", \"wb\"))\n",
    "pickle.dump(global_importance_neg, open(\"../Tez/data/for_gpt2/global_importance_neg.pkl\", \"wb\"))"
   ]
  },
  {
   "cell_type": "markdown",
   "id": "e88b6b0e-63ae-4749-b535-04df7a261d90",
   "metadata": {},
   "source": [
    "## Run COCKATIEL"
   ]
  },
  {
   "cell_type": "code",
   "execution_count": null,
   "id": "8b99435a-647a-4870-8f85-74ef82398725",
   "metadata": {
    "tags": []
   },
   "outputs": [],
   "source": [
    "# Segments and global importances for positive class\n",
    "\n",
    "segments_pos = pickle.load(open(\"../Tez/data/for_gpt2/segments_pos.pkl\",'rb'))\n",
    "u_segments_pos = pickle.load(open(\"../Tez/data/for_gpt2/u_segments_pos.pkl\",'rb'))\n",
    "factorization_pos = pickle.load(open(\"../Tez/data/for_gpt2/factorization_pos.pkl\",'rb'))\n",
    "global_importance_pos = pickle.load(open(\"../Tez/data/for_gpt2/global_importance_pos.pkl\",'rb'))\n",
    "\n",
    "# Segments and global importances for negative class\n",
    "\n",
    "segments_neg = pickle.load(open(\"../Tez/data/for_gpt2/segments_neg.pkl\",'rb'))\n",
    "u_segments_neg = pickle.load(open(\"../Tez/data/for_gpt2/u_segments_neg.pkl\",'rb'))\n",
    "factorization_neg = pickle.load(open(\"../Tez/data/for_gpt2/factorization_neg.pkl\",'rb'))\n",
    "global_importance_neg = pickle.load(open(\"../Tez/data/for_gpt2/global_importance_neg.pkl\",'rb'))"
   ]
  },
  {
   "cell_type": "markdown",
   "id": "3b8a39bd-1e08-4c6f-a8b9-36c17eeb8dce",
   "metadata": {},
   "source": [
    "### Visualize Concept Importances"
   ]
  },
  {
   "cell_type": "code",
   "execution_count": null,
   "id": "d7fc97a6-5e25-474d-80ee-07d16a8d3cb4",
   "metadata": {
    "tags": []
   },
   "outputs": [],
   "source": [
    "from cockatiel import occlusion_concepts, print_legend, viz_concepts"
   ]
  },
  {
   "cell_type": "code",
   "execution_count": null,
   "id": "18d000c6-33f3-451f-949a-640a88facf20",
   "metadata": {
    "tags": []
   },
   "outputs": [],
   "source": [
    "plt.figure(figsize=(22, 5))\n",
    "\n",
    "plt.subplot(121)\n",
    "cm = plt.get_cmap('tab20')\n",
    "plt.bar(range(len(global_importance_pos)), global_importance_pos, color=cm.colors, tick_label=range(len(global_importance_pos)))\n",
    "plt.title(\"Concepts for Positive Class\")\n",
    "\n",
    "plt.subplot(122)\n",
    "cm = plt.get_cmap('tab20')\n",
    "plt.bar(range(len(global_importance_neg)), global_importance_neg, color=cm.colors, tick_label=range(len(global_importance_neg)))\n",
    "plt.title(\"Concepts for Negative Class\")\n",
    "\n",
    "plt.show()"
   ]
  },
  {
   "cell_type": "markdown",
   "id": "7b95c73d-4a64-4366-823d-dd36bbee1adc",
   "metadata": {},
   "source": [
    "### Visualize Occlusion's Part"
   ]
  },
  {
   "cell_type": "code",
   "execution_count": null,
   "id": "0cd05bb7-9205-49f2-bbf4-b803b76c9adf",
   "metadata": {
    "tags": []
   },
   "outputs": [],
   "source": [
    "n = 10 #number of reviews for each labels and each concept\n",
    "m_pos = 2 #number of concept looked for the positive class (we look the m_pos more importants)\n",
    "m_neg = 3 #number of concept looked for the negative class (we look the m_neg more importants)\n",
    "\n",
    "l_concept_id_pos = np.argsort(global_importance_pos)[::-1][:m_pos]\n",
    "l_concept_id_neg = np.argsort(global_importance_neg)[::-1][:m_neg]\n",
    "\n",
    "l_mip_sentences_pos, l_mip_sentences_neg = [], []\n",
    "\n",
    "#we add sentence of positive label\n",
    "\n",
    "for concept_id in l_concept_id_pos:\n",
    "    \n",
    "    mip_sentences_ids = np.argsort(u_segments_pos[:, concept_id])[::-1][:n]\n",
    "    mip_sentences = np.array(segments_pos)[mip_sentences_ids]\n",
    "    l_mip_sentences_pos.append(mip_sentences)\n",
    "\n",
    "#we add sentence of negative label\n",
    "\n",
    "for concept_id in l_concept_id_neg:\n",
    "    \n",
    "    mip_sentences_ids = np.argsort(u_segments_neg[:, concept_id])[::-1][:n]\n",
    "    mip_sentences = np.array(segments_neg)[mip_sentences_ids]\n",
    "    l_mip_sentences_neg.append(mip_sentences)\n",
    "\n",
    "l_mip_sentences_pos = np.array(l_mip_sentences_pos)\n",
    "l_mip_sentences_pos = l_mip_sentences_pos.flatten()\n",
    "l_mip_sentences_neg = np.array(l_mip_sentences_neg)\n",
    "l_mip_sentences_neg = l_mip_sentences_neg.flatten() "
   ]
  },
  {
   "cell_type": "code",
   "execution_count": null,
   "id": "328e07fb-465f-425a-91c6-e3d3542829d9",
   "metadata": {
    "tags": []
   },
   "outputs": [],
   "source": [
    "# Create dictionnaries for legend with a color for each concept:\n",
    "#We use m_pos+m_neg concepts, so we have to create a dictionnary \"colors\" with m_pos+m_neg colors. \n",
    "#In the dictionnary \"label_to_criterion\", we add the corresponding concept for each color.\n",
    "\n",
    "colors = {\n",
    "    0: \"rgba(9, 221, 55, \", #green\n",
    "    1: \"rgba(9, 221, 161, \", #turquoise\n",
    "    #2: \"rgba(9, 175, 221, \", #blue\n",
    "    2: \"rgba(221, 9, 34, \", #red\n",
    "    3: \"rgba(221, 9, 140,\", #pink\n",
    "    4: \"rgba(221, 90, 9, \", #orange\n",
    "}\n",
    "\n",
    "label_to_criterion = {\n",
    "    0: \"Positive label: concept1\",\n",
    "    1: \"Positive label: concept2\",\n",
    "    #2: \"Positive label: concept3\",\n",
    "    2: \"Negative label: concept1\",\n",
    "    3: \"Negative label: concept2\",\n",
    "    4: \"Negative label: concept3\",\n",
    "}\n",
    "\n",
    "\n",
    "#sanity check:\n",
    "if len(label_to_criterion.keys()) != len(colors.keys()) or len(label_to_criterion.keys()) != (m_pos + m_neg):\n",
    "    print(\"Error: check that you have the correct number of colors and labels in your dictionaries to cover the number of concepts being looked at\")"
   ]
  },
  {
   "cell_type": "code",
   "execution_count": null,
   "id": "976b6241-e755-472b-bea3-109bebf30d34",
   "metadata": {
    "tags": []
   },
   "outputs": [],
   "source": [
    "print_legend(colors, label_to_criterion)\n",
    "\n",
    "print(\"positive predicted reviews:\")\n",
    "print(\"\\n\")\n",
    "i = 0\n",
    "for sentence in l_mip_sentences_pos:\n",
    "    if i%n == 0 :\n",
    "        print(\"\\n\")\n",
    "        print(str(n) + \" most important reviews for positive predicted label - concept\" + str(i//n + 1) +\":\")\n",
    "        print(\"\\n\")\n",
    "    phi = occlusion_concepts(sentence, model, tokenizer, [factorization_pos, factorization_neg], [l_concept_id_pos, l_concept_id_neg], ignore_words = [], two_labels = True, device = device)\n",
    "    phi /= np.max(np.abs(phi)) + 1e-5\n",
    "    viz_concepts(sentence, phi, colors, ignore_words = [])\n",
    "    i += 1\n",
    "\n",
    "print(\"\\n\")\n",
    "print(\"negative predicted reviews:\")\n",
    "print(\"\\n\")\n",
    "\n",
    "i = 0\n",
    "for sentence in l_mip_sentences_neg:\n",
    "    \n",
    "    if i%n == 0 :\n",
    "        print(\"\\n\")\n",
    "        print(str(n) + \" most important reviews for negative predicted label - concept\" + str(i//n + 1) +\":\")\n",
    "        print(\"\\n\")\n",
    "    phi = occlusion_concepts(sentence,  model, tokenizer, [factorization_pos, factorization_neg], [l_concept_id_pos, l_concept_id_neg], ignore_words = [], two_labels = True, device = device)\n",
    "    phi /= np.max(np.abs(phi)) + 1e-5\n",
    "    viz_concepts(sentence, phi, colors, ignore_words = [])\n",
    "    i +=1"
   ]
  },
  {
   "cell_type": "code",
   "execution_count": null,
   "id": "59a21084-a8c2-4b95-a857-cceb9e11c168",
   "metadata": {},
   "outputs": [],
   "source": []
  }
 ],
 "metadata": {
  "kernelspec": {
   "display_name": "cockatiel",
   "language": "python",
   "name": "cockatiel"
  },
  "language_info": {
   "codemirror_mode": {
    "name": "ipython",
    "version": 3
   },
   "file_extension": ".py",
   "mimetype": "text/x-python",
   "name": "python",
   "nbconvert_exporter": "python",
   "pygments_lexer": "ipython3",
   "version": "3.11.5"
  }
 },
 "nbformat": 4,
 "nbformat_minor": 5
}
