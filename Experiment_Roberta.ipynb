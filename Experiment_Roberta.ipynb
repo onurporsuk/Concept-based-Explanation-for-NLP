{
 "cells": [
  {
   "cell_type": "markdown",
   "id": "3105c5f2-a0ab-4305-af8a-f9c2fb068ed3",
   "metadata": {},
   "source": [
    "# COCKATIEL on Different NLP Models"
   ]
  },
  {
   "cell_type": "markdown",
   "id": "b4243596-cd43-4cb9-9785-5e786d7bb064",
   "metadata": {
    "tags": []
   },
   "source": [
    "## Set Up"
   ]
  },
  {
   "cell_type": "code",
   "execution_count": 1,
   "id": "3190607e-f830-4003-998c-741281378b3b",
   "metadata": {
    "tags": []
   },
   "outputs": [
    {
     "name": "stdout",
     "output_type": "stream",
     "text": [
      "C:\\Users\\onurp\\Desktop\\Analitik\\cockatiel\n"
     ]
    }
   ],
   "source": [
    "# Move the current path to the repo\n",
    "%cd \"../cockatiel/\""
   ]
  },
  {
   "cell_type": "code",
   "execution_count": 2,
   "id": "1e5a822d-33d7-44be-85ff-f0002a294292",
   "metadata": {},
   "outputs": [],
   "source": [
    "# Enable automatical module reload\n",
    "%load_ext autoreload\n",
    "%autoreload 2"
   ]
  },
  {
   "cell_type": "markdown",
   "id": "0825f288-3b65-465b-a27f-084e5e594b24",
   "metadata": {
    "jp-MarkdownHeadingCollapsed": true,
    "tags": []
   },
   "source": [
    "## Data Analysis and Preprocessing"
   ]
  },
  {
   "cell_type": "code",
   "execution_count": 3,
   "id": "286c6a64-ef2a-44a6-ad42-0f5e50b05322",
   "metadata": {
    "tags": []
   },
   "outputs": [],
   "source": [
    "import pandas as pd\n",
    "import numpy as np"
   ]
  },
  {
   "cell_type": "code",
   "execution_count": 4,
   "id": "6b1597a0-45bc-4699-835b-d02795d1041d",
   "metadata": {
    "tags": []
   },
   "outputs": [
    {
     "data": {
      "text/html": [
       "<div>\n",
       "<style scoped>\n",
       "    .dataframe tbody tr th:only-of-type {\n",
       "        vertical-align: middle;\n",
       "    }\n",
       "\n",
       "    .dataframe tbody tr th {\n",
       "        vertical-align: top;\n",
       "    }\n",
       "\n",
       "    .dataframe thead th {\n",
       "        text-align: right;\n",
       "    }\n",
       "</style>\n",
       "<table border=\"1\" class=\"dataframe\">\n",
       "  <thead>\n",
       "    <tr style=\"text-align: right;\">\n",
       "      <th></th>\n",
       "      <th>review</th>\n",
       "      <th>sentiment</th>\n",
       "    </tr>\n",
       "  </thead>\n",
       "  <tbody>\n",
       "    <tr>\n",
       "      <th>0</th>\n",
       "      <td>One of the other reviewers has mentioned that ...</td>\n",
       "      <td>positive</td>\n",
       "    </tr>\n",
       "    <tr>\n",
       "      <th>1</th>\n",
       "      <td>A wonderful little production. The filming tec...</td>\n",
       "      <td>positive</td>\n",
       "    </tr>\n",
       "    <tr>\n",
       "      <th>2</th>\n",
       "      <td>I thought this was a wonderful way to spend ti...</td>\n",
       "      <td>positive</td>\n",
       "    </tr>\n",
       "    <tr>\n",
       "      <th>3</th>\n",
       "      <td>Basically there's a family where a little boy ...</td>\n",
       "      <td>negative</td>\n",
       "    </tr>\n",
       "    <tr>\n",
       "      <th>4</th>\n",
       "      <td>Petter Mattei's Love in the Time of Money is a...</td>\n",
       "      <td>positive</td>\n",
       "    </tr>\n",
       "    <tr>\n",
       "      <th>...</th>\n",
       "      <td>...</td>\n",
       "      <td>...</td>\n",
       "    </tr>\n",
       "    <tr>\n",
       "      <th>49992</th>\n",
       "      <td>I thought this movie did a down right good job...</td>\n",
       "      <td>positive</td>\n",
       "    </tr>\n",
       "    <tr>\n",
       "      <th>49993</th>\n",
       "      <td>Bad plot, bad dialogue, bad acting, idiotic di...</td>\n",
       "      <td>negative</td>\n",
       "    </tr>\n",
       "    <tr>\n",
       "      <th>49994</th>\n",
       "      <td>I am a Catholic taught in parochial elementary...</td>\n",
       "      <td>negative</td>\n",
       "    </tr>\n",
       "    <tr>\n",
       "      <th>49995</th>\n",
       "      <td>I'm going to have to disagree with the previou...</td>\n",
       "      <td>negative</td>\n",
       "    </tr>\n",
       "    <tr>\n",
       "      <th>49996</th>\n",
       "      <td>No one expects the Star Trek movies to be high...</td>\n",
       "      <td>negative</td>\n",
       "    </tr>\n",
       "  </tbody>\n",
       "</table>\n",
       "<p>49997 rows × 2 columns</p>\n",
       "</div>"
      ],
      "text/plain": [
       "                                                  review sentiment\n",
       "0      One of the other reviewers has mentioned that ...  positive\n",
       "1      A wonderful little production. The filming tec...  positive\n",
       "2      I thought this was a wonderful way to spend ti...  positive\n",
       "3      Basically there's a family where a little boy ...  negative\n",
       "4      Petter Mattei's Love in the Time of Money is a...  positive\n",
       "...                                                  ...       ...\n",
       "49992  I thought this movie did a down right good job...  positive\n",
       "49993  Bad plot, bad dialogue, bad acting, idiotic di...  negative\n",
       "49994  I am a Catholic taught in parochial elementary...  negative\n",
       "49995  I'm going to have to disagree with the previou...  negative\n",
       "49996  No one expects the Star Trek movies to be high...  negative\n",
       "\n",
       "[49997 rows x 2 columns]"
      ]
     },
     "execution_count": 4,
     "metadata": {},
     "output_type": "execute_result"
    }
   ],
   "source": [
    "df_imbdb_clean = pd.read_csv('./data/IMDB_Dataset_clean.csv', index_col=0)\n",
    "df_imbdb_clean"
   ]
  },
  {
   "cell_type": "code",
   "execution_count": 5,
   "id": "70a5a771-b7e9-4a80-a9b9-aeebc9690cc7",
   "metadata": {
    "tags": []
   },
   "outputs": [
    {
     "name": "stdout",
     "output_type": "stream",
     "text": [
      "sentiment\n",
      "positive    24999\n",
      "negative    24998\n",
      "Name: count, dtype: int64\n"
     ]
    }
   ],
   "source": [
    "print(df_imbdb_clean['sentiment'].value_counts())"
   ]
  },
  {
   "cell_type": "code",
   "execution_count": 6,
   "id": "6441ae5f-f996-4e77-badd-8b8b950dd1c7",
   "metadata": {
    "tags": []
   },
   "outputs": [
    {
     "name": "stdout",
     "output_type": "stream",
     "text": [
      "Max number of words in a sentence: 500\n",
      "Min number of words in a sentence: 4\n",
      "Avg number of words in a sentence: 209\n"
     ]
    }
   ],
   "source": [
    "import matplotlib.pyplot as plt\n",
    "import seaborn as sns\n",
    "\n",
    "# Extract the word counts of each sentence \n",
    "lengths = [len(string.split()) for string in df_imbdb_clean['review']]\n",
    "\n",
    "print(\"Max number of words in a sentence:\", max(lengths))\n",
    "print(\"Min number of words in a sentence:\", min(lengths))\n",
    "print(\"Avg number of words in a sentence:\", round(sum(lengths) / len(lengths)))"
   ]
  },
  {
   "cell_type": "code",
   "execution_count": 7,
   "id": "1977925a-0292-4de9-8006-a22b04da2a73",
   "metadata": {
    "tags": []
   },
   "outputs": [
    {
     "data": {
      "image/png": "[encoded data removed]",
      "text/plain": [
       "<Figure size 2000x800 with 1 Axes>"
      ]
     },
     "metadata": {},
     "output_type": "display_data"
    }
   ],
   "source": [
    "# Generate a histogram to group the data points\n",
    "hist, bins = np.histogram(lengths, bins=150)\n",
    "\n",
    "# Create the histogram plot\n",
    "plt.figure(figsize=(20, 8))\n",
    "plt.hist(lengths, bins=bins, edgecolor='k')\n",
    "plt.xlabel('Number of Words in a Sentence')\n",
    "plt.ylabel('Number of Sentences')\n",
    "plt.title('Distribution of Word Counts in Sentences')\n",
    "plt.show()"
   ]
  },
  {
   "cell_type": "code",
   "execution_count": 8,
   "id": "287c2aa9-874d-4f82-92b1-4247fcb68756",
   "metadata": {
    "tags": []
   },
   "outputs": [
    {
     "data": {
      "text/plain": [
       "(49997, 2)"
      ]
     },
     "execution_count": 8,
     "metadata": {},
     "output_type": "execute_result"
    }
   ],
   "source": [
    "# Convert the dataset to numpy array\n",
    "data_np = np.array(df_imbdb_clean)\n",
    "data_np.shape"
   ]
  },
  {
   "cell_type": "markdown",
   "id": "8940aa4e-70f2-41ed-acf3-0629af3c4648",
   "metadata": {
    "tags": []
   },
   "source": [
    "## Hyperparameters"
   ]
  },
  {
   "cell_type": "code",
   "execution_count": 9,
   "id": "4a209df4-a058-4ba1-a04c-1cf5228a675b",
   "metadata": {
    "tags": []
   },
   "outputs": [],
   "source": [
    "batch_size = 32"
   ]
  },
  {
   "cell_type": "markdown",
   "id": "02bb2a2f-b68c-46f8-8af9-301b774daa0d",
   "metadata": {},
   "source": [
    "## Load and Inspect Model"
   ]
  },
  {
   "cell_type": "code",
   "execution_count": 10,
   "id": "6a614d7f-f97b-4642-be16-e4b0ddfd92bb",
   "metadata": {
    "tags": []
   },
   "outputs": [
    {
     "name": "stdout",
     "output_type": "stream",
     "text": [
      "Selected component: cuda\n"
     ]
    }
   ],
   "source": [
    "import torch\n",
    "\n",
    "# Set up GPU if it is available\n",
    "device = torch.device(\"cuda\") if torch.cuda.is_available() else torch.device(\"cpu\")\n",
    "print(\"Selected component:\", device)"
   ]
  },
  {
   "cell_type": "code",
   "execution_count": 11,
   "id": "c0f7ef45-1947-444d-a155-eaa5ba8fe128",
   "metadata": {},
   "outputs": [
    {
     "name": "stdout",
     "output_type": "stream",
     "text": [
      "2023-10-08 11:58:25,460 SequenceTagger predicts: Dictionary with 47 tags: O, S-NP, B-NP, E-NP, I-NP, S-VP, B-VP, E-VP, I-VP, S-PP, B-PP, E-PP, I-PP, S-ADVP, B-ADVP, E-ADVP, I-ADVP, S-SBAR, B-SBAR, E-SBAR, I-SBAR, S-ADJP, B-ADJP, E-ADJP, I-ADJP, S-PRT, B-PRT, E-PRT, I-PRT, S-CONJP, B-CONJP, E-CONJP, I-CONJP, S-INTJ, B-INTJ, E-INTJ, I-INTJ, S-LST, B-LST, E-LST, I-LST, S-UCP, B-UCP, E-UCP, I-UCP, <START>, <STOP>\n"
     ]
    },
    {
     "name": "stderr",
     "output_type": "stream",
     "text": [
      "[nltk_data] Downloading package punkt to\n",
      "[nltk_data]     C:\\Users\\onurp\\AppData\\Roaming\\nltk_data...\n",
      "[nltk_data]   Package punkt is already up-to-date!\n",
      "[nltk_data] Downloading package punkt to\n",
      "[nltk_data]     C:\\Users\\onurp\\AppData\\Roaming\\nltk_data...\n",
      "[nltk_data]   Package punkt is already up-to-date!\n"
     ]
    }
   ],
   "source": [
    "# Load the model and its tokenizer\n",
    "\n",
    "from transformers import RobertaTokenizerFast\n",
    "from cockatiel import CustomRobertaForSequenceClassification, batch_predict, batcher, tokenize\n",
    "\n",
    "tokenizer = RobertaTokenizerFast.from_pretrained(\"wrmurray/roberta-base-finetuned-imdb\")\n",
    "model = CustomRobertaForSequenceClassification.from_pretrained(\"wrmurray/roberta-base-finetuned-imdb\").to(device)\n",
    "\n",
    "# Put model into evaluation mode\n",
    "model = model.eval()"
   ]
  },
  {
   "cell_type": "code",
   "execution_count": 12,
   "id": "9c86c8be-a247-4306-9acf-4eecf025e896",
   "metadata": {},
   "outputs": [
    {
     "name": "stdout",
     "output_type": "stream",
     "text": [
      "Accuracy for classic model        : tensor(0.9900, device='cuda:0')\n",
      "Accuracy for model in 'two parts' : tensor(0.9900, device='cuda:0')\n"
     ]
    }
   ],
   "source": [
    "# Make predictions on some samples\n",
    "y_pred, labels = batch_predict(model.forward, tokenizer, data_np[:100], batch_size, device)\n",
    "\n",
    "# Compute the activations on which to apply the NMF\n",
    "features, labels = batch_predict(model.features, tokenizer, data_np[:100], batch_size, device)\n",
    "\n",
    "# Go from these activations to the final prediction\n",
    "y_pred_bis = model.end_model(features)\n",
    "\n",
    "print(\"Accuracy for classic model        :\", torch.mean((torch.argmax(y_pred, -1) == labels.to(device)).float()))\n",
    "print(\"Accuracy for model in 'two parts' :\", torch.mean((torch.argmax(y_pred_bis, -1) == labels.to(device)).float()))"
   ]
  },
  {
   "cell_type": "code",
   "execution_count": 13,
   "id": "ec435a6e-d8e5-43c0-8750-ae1fc672ad15",
   "metadata": {
    "tags": []
   },
   "outputs": [
    {
     "name": "stdout",
     "output_type": "stream",
     "text": [
      "======================================================================\n",
      "Layer (type:depth-idx)                        Param #\n",
      "======================================================================\n",
      "├─RobertaModel: 1-1                           --\n",
      "|    └─RobertaEmbeddings: 2-1                 --\n",
      "|    |    └─Embedding: 3-1                    38,603,520\n",
      "|    |    └─Embedding: 3-2                    394,752\n",
      "|    |    └─Embedding: 3-3                    768\n",
      "|    |    └─LayerNorm: 3-4                    1,536\n",
      "|    |    └─Dropout: 3-5                      --\n",
      "|    └─RobertaEncoder: 2-2                    --\n",
      "|    |    └─ModuleList: 3-6                   85,054,464\n",
      "├─CustomRobertaClassificationHead: 1-2        --\n",
      "|    └─Linear: 2-3                            590,592\n",
      "|    └─Dropout: 2-4                           --\n",
      "|    └─Linear: 2-5                            1,538\n",
      "├─MSELoss: 1-3                                --\n",
      "======================================================================\n",
      "Total params: 124,647,170\n",
      "Trainable params: 124,647,170\n",
      "Non-trainable params: 0\n",
      "======================================================================\n",
      "124647170\n"
     ]
    }
   ],
   "source": [
    "import torchsummary as ts\n",
    "\n",
    "print(ts.summary(model).total_params)"
   ]
  },
  {
   "cell_type": "markdown",
   "id": "6112f38f-ccb4-49b4-a2e5-714541d4fe34",
   "metadata": {
    "tags": []
   },
   "source": [
    "## Prepare Dataset for COCKATIEL"
   ]
  },
  {
   "cell_type": "code",
   "execution_count": 14,
   "id": "6695bd69-3b8a-46ed-90a8-733f4e2f17a7",
   "metadata": {
    "tags": []
   },
   "outputs": [],
   "source": [
    "# Store predicted positive (pos) and negative (neg) reviews in lists \n",
    "\n",
    "positive_reviews = []\n",
    "negative_reviews = []\n",
    "\n",
    "with torch.no_grad():\n",
    "    for input_batch in batcher(data_np[:20000], batch_size=batch_size):\n",
    "        \n",
    "        r = np.array(list(map(lambda z: z[0], input_batch)))\n",
    "\n",
    "        tokenized_batch = tokenize(r, tokenizer, device)\n",
    "        \n",
    "        preds = model(**tokenized_batch)\n",
    "        \n",
    "        positive_reviews.extend(list(input_batch[np.where(np.argmax(preds.cpu().numpy(), axis=1) == 1)[0]]))\n",
    "        negative_reviews.extend(list(input_batch[np.where(np.argmax(preds.cpu().numpy(), axis=1) == 0)[0]]))\n",
    "\n",
    "raw_dataset_pos = list(map(lambda z: z[0], positive_reviews))\n",
    "raw_dataset_neg = list(map(lambda z: z[0], negative_reviews))\n",
    "\n",
    "import pickle\n",
    "\n",
    "pickle.dump(raw_dataset_pos, open(\"../Tez/data/for_roberta/raw_dataset_pos.pkl\", \"wb\"))\n",
    "pickle.dump(raw_dataset_neg, open(\"../Tez/data/for_roberta/raw_dataset_neg.pkl\", \"wb\"))"
   ]
  },
  {
   "cell_type": "code",
   "execution_count": 15,
   "id": "a842282e-c027-4020-bdad-ba63986e2ada",
   "metadata": {
    "tags": []
   },
   "outputs": [
    {
     "name": "stdout",
     "output_type": "stream",
     "text": [
      "108194  positives excerpts created.\n",
      "111385  negatives excerpts created.\n"
     ]
    }
   ],
   "source": [
    "# Extract the excerpts as a dataset\n",
    "\n",
    "sentence_separators = ['.', '...', '?', '!', '..']\n",
    "\n",
    "def excerpt_fct(raw_dataset):\n",
    "    \n",
    "    excerpt_dataset = []\n",
    "    \n",
    "    for review in raw_dataset[:100000]:\n",
    "        \n",
    "        review = str(review)\n",
    "\n",
    "        for sep in sentence_separators:\n",
    "            \n",
    "            review = review.replace(sep, '.')\n",
    "  \n",
    "        cropped_review = review.split('.')\n",
    "    \n",
    "        for crop in cropped_review:\n",
    "            \n",
    "            if len(crop):\n",
    "                crop = crop + '.'\n",
    "                \n",
    "                while crop[0] == ' ':\n",
    "                    crop = crop[1:]\n",
    "      \n",
    "                if crop[0].isupper():  \n",
    "                    excerpt_dataset.append(crop)\n",
    "                \n",
    "    return excerpt_dataset\n",
    "  \n",
    "excerpt_dataset_pos = excerpt_fct(raw_dataset_pos)\n",
    "excerpt_dataset_neg = excerpt_fct(raw_dataset_neg)\n",
    "\n",
    "print(len(excerpt_dataset_pos), ' positives excerpts created.')\n",
    "print(len(excerpt_dataset_neg), ' negatives excerpts created.')\n",
    "\n",
    "pickle.dump(excerpt_dataset_pos, open(\"../Tez/data/for_roberta/excerpt_dataset_pos.pkl\", \"wb\"))\n",
    "pickle.dump(excerpt_dataset_neg, open(\"../Tez/data/for_roberta/excerpt_dataset_neg.pkl\", \"wb\"))"
   ]
  },
  {
   "cell_type": "code",
   "execution_count": 16,
   "id": "d39fd373-68e9-40ec-b1d2-3d7528163d9a",
   "metadata": {
    "tags": []
   },
   "outputs": [],
   "source": [
    "import pickle\n",
    "\n",
    "raw_dataset_pos = pickle.load(open(\"../Tez/data/for_roberta/raw_dataset_pos.pkl\", \"rb\"))\n",
    "raw_dataset_neg = pickle.load(open(\"../Tez/data/for_roberta/raw_dataset_neg.pkl\", \"rb\"))\n",
    "\n",
    "excerpt_dataset_pos = pickle.load(open(\"../Tez/data/for_roberta/excerpt_dataset_pos.pkl\", \"rb\"))\n",
    "excerpt_dataset_neg = pickle.load(open(\"../Tez/data/for_roberta/excerpt_dataset_neg.pkl\", \"rb\"))"
   ]
  },
  {
   "cell_type": "markdown",
   "id": "89209fde-08ad-4741-b843-fc6ff7f26c7d",
   "metadata": {
    "tags": []
   },
   "source": [
    "## Train COCKATIEL"
   ]
  },
  {
   "cell_type": "code",
   "execution_count": 17,
   "id": "603ab89e-76c3-4c32-9f3b-d5488e4bb5dd",
   "metadata": {
    "tags": []
   },
   "outputs": [],
   "source": [
    "from cockatiel import COCKATIEL\n",
    "\n",
    "len_data = 50000  "
   ]
  },
  {
   "cell_type": "code",
   "execution_count": 18,
   "id": "e614f0aa-2063-4946-836f-d75d23567332",
   "metadata": {
    "tags": []
   },
   "outputs": [
    {
     "name": "stderr",
     "output_type": "stream",
     "text": [
      "C:\\Users\\onurp\\anaconda3\\envs\\cockatiel\\Lib\\site-packages\\sklearn\\decomposition\\_nmf.py:1665: ConvergenceWarning: Maximum number of iterations 1000 reached. Increase it to improve convergence.\n",
      "  warnings.warn(\n"
     ]
    }
   ],
   "source": [
    "# Train COCKATIEL on positive reviews\n",
    "\n",
    "with torch.no_grad():\n",
    "    \n",
    "    cockatiel_explainer_pos = COCKATIEL(model, tokenizer, components=20, \n",
    "                                        batch_size=batch_size, device=device)\n",
    "    # batch size was 64 \n",
    "    segments_pos, u_segments_pos, factorization_pos, global_importance_pos = cockatiel_explainer_pos.extract_concepts(excerpt_dataset_pos[:len_data], \n",
    "                                                                                                                      raw_dataset_pos[:(len_data//10)], \n",
    "                                                                                                                      1, limit_sobol=1_000)\n",
    "    \n",
    "pickle.dump(segments_pos, open(\"../Tez/data/for_roberta/segments_pos.pkl\", \"wb\"))\n",
    "pickle.dump(u_segments_pos, open(\"../Tez/data/for_roberta/u_segments_pos.pkl\", \"wb\"))\n",
    "pickle.dump(factorization_pos, open(\"../Tez/data/for_roberta/factorization_pos.pkl\", \"wb\"))\n",
    "pickle.dump(global_importance_pos, open(\"../Tez/data/for_roberta/global_importance_pos.pkl\", \"wb\"))"
   ]
  },
  {
   "cell_type": "code",
   "execution_count": 20,
   "id": "e9c24bd1-aaca-4ddf-9928-8768db84bd64",
   "metadata": {
    "tags": []
   },
   "outputs": [
    {
     "name": "stderr",
     "output_type": "stream",
     "text": [
      "C:\\Users\\onurp\\anaconda3\\envs\\cockatiel\\Lib\\site-packages\\sklearn\\decomposition\\_nmf.py:1665: ConvergenceWarning: Maximum number of iterations 1000 reached. Increase it to improve convergence.\n",
      "  warnings.warn(\n"
     ]
    }
   ],
   "source": [
    "# Train COCKATIEL on negative reviews\n",
    "\n",
    "with torch.no_grad():\n",
    "    \n",
    "    cockatiel_explainer_neg = COCKATIEL(model, tokenizer, components=20, \n",
    "                                        batch_size=batch_size, device=device)\n",
    "    \n",
    "    segments_neg, u_segments_neg, factorization_neg, global_importance_neg = cockatiel_explainer_neg.extract_concepts(excerpt_dataset_neg[:len_data], \n",
    "                                                                                            raw_dataset_neg[:(len_data//10)], \n",
    "                                                                                            0, limit_sobol=1_000)\n",
    "    \n",
    "pickle.dump(segments_neg, open(\"../Tez/data/for_roberta/segments_neg.pkl\", \"wb\"))\n",
    "pickle.dump(u_segments_neg, open(\"../Tez/data/for_roberta/u_segments_neg.pkl\", \"wb\"))\n",
    "pickle.dump(factorization_neg, open(\"../Tez/data/for_roberta/factorization_neg.pkl\", \"wb\"))\n",
    "pickle.dump(global_importance_neg, open(\"../Tez/data/for_roberta/global_importance_neg.pkl\", \"wb\"))"
   ]
  },
  {
   "cell_type": "markdown",
   "id": "e88b6b0e-63ae-4749-b535-04df7a261d90",
   "metadata": {},
   "source": [
    "## Run COCKATIEL"
   ]
  },
  {
   "cell_type": "code",
   "execution_count": 22,
   "id": "2d6b71e4-383c-42e7-9543-7209135702e4",
   "metadata": {},
   "outputs": [],
   "source": [
    "# import pickle\n",
    "\n",
    "# Segments and global importances for positive class\n",
    "\n",
    "segments_pos = pickle.load(open(\"../Tez/data/for_roberta/segments_pos.pkl\",'rb'))\n",
    "u_segments_pos = pickle.load(open(\"../Tez/data/for_roberta/u_segments_pos.pkl\",'rb'))\n",
    "factorization_pos = pickle.load(open(\"../Tez/data/for_roberta/factorization_pos.pkl\",'rb'))\n",
    "global_importance_pos = pickle.load(open(\"../Tez/data/for_roberta/global_importance_pos.pkl\",'rb'))\n",
    "\n",
    "# Segments and global importances for negative class\n",
    "\n",
    "segments_neg = pickle.load(open(\"../Tez/data/for_roberta/segments_neg.pkl\",'rb'))\n",
    "u_segments_neg = pickle.load(open(\"../Tez/data/for_roberta/u_segments_neg.pkl\",'rb'))\n",
    "factorization_neg = pickle.load(open(\"../Tez/data/for_roberta/factorization_neg.pkl\",'rb'))\n",
    "global_importance_neg = pickle.load(open(\"../Tez/data/for_roberta/global_importance_neg.pkl\",'rb'))"
   ]
  },
  {
   "cell_type": "markdown",
   "id": "3b8a39bd-1e08-4c6f-a8b9-36c17eeb8dce",
   "metadata": {},
   "source": [
    "### Visualize Concept Importances"
   ]
  },
  {
   "cell_type": "code",
   "execution_count": 23,
   "id": "d7fc97a6-5e25-474d-80ee-07d16a8d3cb4",
   "metadata": {
    "tags": []
   },
   "outputs": [],
   "source": [
    "from cockatiel import occlusion_concepts, print_legend, viz_concepts"
   ]
  },
  {
   "cell_type": "code",
   "execution_count": 24,
   "id": "18d000c6-33f3-451f-949a-640a88facf20",
   "metadata": {
    "tags": []
   },
   "outputs": [
    {
     "data": {
      "image/png": "[encoded data removed]",
      "text/plain": [
       "<Figure size 2200x500 with 2 Axes>"
      ]
     },
     "metadata": {},
     "output_type": "display_data"
    }
   ],
   "source": [
    "plt.figure(figsize=(22, 5))\n",
    "\n",
    "plt.subplot(121)\n",
    "cm = plt.get_cmap('tab20')\n",
    "plt.bar(range(len(global_importance_pos)), global_importance_pos, color=cm.colors, tick_label=range(len(global_importance_pos)))\n",
    "plt.title(\"Concepts for Positive Class\")\n",
    "\n",
    "plt.subplot(122)\n",
    "cm = plt.get_cmap('tab20')\n",
    "plt.bar(range(len(global_importance_neg)), global_importance_neg, color=cm.colors, tick_label=range(len(global_importance_neg)))\n",
    "plt.title(\"Concepts for Negative Class\")\n",
    "\n",
    "plt.show()"
   ]
  },
  {
   "cell_type": "markdown",
   "id": "7b95c73d-4a64-4366-823d-dd36bbee1adc",
   "metadata": {},
   "source": [
    "### Visualize Occlusion's Part"
   ]
  },
  {
   "cell_type": "code",
   "execution_count": 25,
   "id": "0cd05bb7-9205-49f2-bbf4-b803b76c9adf",
   "metadata": {
    "tags": []
   },
   "outputs": [],
   "source": [
    "n = 10 #number of reviews for each labels and each concept\n",
    "m_pos = 2 #number of concept looked for the positive class (we look the m_pos more importants)\n",
    "m_neg = 3 #number of concept looked for the negative class (we look the m_neg more importants)\n",
    "\n",
    "# Global importance değerlerinden, pos için 2 idi ya, en yüksek 2 tanesinin idx'ini alıyor. Aynı şekilde 3 tane de neg için\n",
    "# [::-1] kısım da ilgili listeleri geriden alıyor sadece\n",
    "l_concept_id_pos = np.argsort(global_importance_pos)[::-1][:m_pos] # En önemli 2 pozitif concept'in id'leri\n",
    "l_concept_id_neg = np.argsort(global_importance_neg)[::-1][:m_neg] # En önemli 2 negatif concept'in id'leri\n",
    "\n",
    "l_mip_sentences_pos, l_mip_sentences_neg = [], []\n",
    "\n",
    "# Add sentence of positive label\n",
    "\n",
    "for concept_id in l_concept_id_pos:\n",
    "    \n",
    "    mip_sentences_ids = np.argsort(u_segments_pos[:, concept_id])[::-1][:n]\n",
    "    mip_sentences = np.array(segments_pos)[mip_sentences_ids]\n",
    "    l_mip_sentences_pos.append(mip_sentences)\n",
    "\n",
    "# Add sentence of negative label\n",
    "\n",
    "for concept_id in l_concept_id_neg:\n",
    "    \n",
    "    mip_sentences_ids = np.argsort(u_segments_neg[:, concept_id])[::-1][:n]\n",
    "    mip_sentences = np.array(segments_neg)[mip_sentences_ids]\n",
    "    l_mip_sentences_neg.append(mip_sentences)\n",
    "\n",
    "l_mip_sentences_pos = np.array(l_mip_sentences_pos)\n",
    "l_mip_sentences_pos = l_mip_sentences_pos.flatten()\n",
    "l_mip_sentences_neg = np.array(l_mip_sentences_neg)\n",
    "l_mip_sentences_neg = l_mip_sentences_neg.flatten() "
   ]
  },
  {
   "cell_type": "code",
   "execution_count": 26,
   "id": "328e07fb-465f-425a-91c6-e3d3542829d9",
   "metadata": {
    "tags": []
   },
   "outputs": [],
   "source": [
    "# Create dictionnaries for legend with a color for each concept:\n",
    "# Use m_pos+m_neg concepts, so we have to create a dictionnary \"colors\" with m_pos+m_neg colors. \n",
    "# In the dictionnary \"label_to_criterion\", add the corresponding concept for each color.\n",
    "\n",
    "colors = {\n",
    "    0: \"rgba(9, 221, 55, \", #green\n",
    "    1: \"rgba(9, 221, 161, \", #turquoise\n",
    "    #2: \"rgba(9, 175, 221, \", #blue\n",
    "    2: \"rgba(221, 9, 34, \", #red\n",
    "    3: \"rgba(221, 9, 140,\", #pink\n",
    "    4: \"rgba(221, 90, 9, \", #orange\n",
    "}\n",
    "\n",
    "label_to_criterion = {\n",
    "    0: \"Positive label: concept1\",\n",
    "    1: \"Positive label: concept2\",\n",
    "    #2: \"Positive label: concept3\",\n",
    "    2: \"Negative label: concept1\",\n",
    "    3: \"Negative label: concept2\",\n",
    "    4: \"Negative label: concept3\",\n",
    "}\n",
    "\n",
    "\n",
    "#sanity check:\n",
    "if len(label_to_criterion.keys()) != len(colors.keys()) or len(label_to_criterion.keys()) != (m_pos + m_neg):\n",
    "    print(\"Error: check that you have the correct number of colors and labels in your dictionaries to cover the number of concepts being looked at\")"
   ]
  },
  {
   "cell_type": "code",
   "execution_count": 27,
   "id": "976b6241-e755-472b-bea3-109bebf30d34",
   "metadata": {
    "tags": []
   },
   "outputs": [
    {
     "data": {
      "text/html": [
       "<div style='display: flex; width: 400px; flex-wrap: wrap'><span style=\"background-color: rgba(9, 221, 55,  0.5); padding: 1px 5px; border: solid 3px ; border-color: rgba(9, 221, 55,  1); #EFEFEF\">Positive label: concept1 </span> <span style=\"background-color: rgba(9, 221, 161,  0.5); padding: 1px 5px; border: solid 3px ; border-color: rgba(9, 221, 161,  1); #EFEFEF\">Positive label: concept2 </span> <span style=\"background-color: rgba(221, 9, 34,  0.5); padding: 1px 5px; border: solid 3px ; border-color: rgba(221, 9, 34,  1); #EFEFEF\">Negative label: concept1 </span> <span style=\"background-color: rgba(221, 9, 140, 0.5); padding: 1px 5px; border: solid 3px ; border-color: rgba(221, 9, 140, 1); #EFEFEF\">Negative label: concept2 </span> <span style=\"background-color: rgba(221, 90, 9,  0.5); padding: 1px 5px; border: solid 3px ; border-color: rgba(221, 90, 9,  1); #EFEFEF\">Negative label: concept3 </span> </div>"
      ],
      "text/plain": [
       "<IPython.core.display.HTML object>"
      ]
     },
     "metadata": {},
     "output_type": "display_data"
    },
    {
     "data": {
      "text/html": [
       "<br><br>"
      ],
      "text/plain": [
       "<IPython.core.display.HTML object>"
      ]
     },
     "metadata": {},
     "output_type": "display_data"
    },
    {
     "name": "stdout",
     "output_type": "stream",
     "text": [
      "positive predicted reviews:\n",
      "\n",
      "\n",
      "\n",
      "\n",
      "10 most important reviews for positive predicted label - concept1:\n",
      "\n",
      "\n"
     ]
    },
    {
     "data": {
      "text/html": [
       "<div style='display: flex; width: 400px; flex-wrap: wrap'><span style=\"background-color: rgba(233,30,99,0);  padding: 1px 5px; border: solid 3px ; border-color:  rgba(233,30,99,0); #EFEFEF\">Directed</span> <span style=\"background-color: rgba(233,30,99,0);  padding: 1px 5px; border: solid 3px ; border-color:  rgba(233,30,99,0); #EFEFEF\">by</span> <span style=\"background-color: rgba(233,30,99,0);  padding: 1px 5px; border: solid 3px ; border-color:  rgba(233,30,99,0); #EFEFEF\">Samuel Fuller</span> <span style=\"background-color: rgba(233,30,99,0);  padding: 1px 5px; border: solid 3px ; border-color:  rgba(233,30,99,0); #EFEFEF\">who</span> <span style=\"background-color: rgba(233,30,99,0);  padding: 1px 5px; border: solid 3px ; border-color:  rgba(233,30,99,0); #EFEFEF\">also</span> <span style=\"background-color: rgba(233,30,99,0);  padding: 1px 5px; border: solid 3px ; border-color:  rgba(233,30,99,0); #EFEFEF\">wrote</span> <span style=\"background-color: rgba(9, 221, 161,  0.22438791394233704); padding: 1px 5px; border: solid 3px ; border-color: rgba(9, 221, 161,  1); #EFEFEF\">the screenplay</span> <span style=\"background-color: rgba(9, 221, 161,  0.24758726358413696); padding: 1px 5px; border: solid 3px ; border-color: rgba(9, 221, 161,  1); #EFEFEF\">Pickup</span> <span style=\"background-color: rgba(233,30,99,0);  padding: 1px 5px; border: solid 3px ; border-color:  rgba(233,30,99,0); #EFEFEF\">on</span> <span style=\"background-color: rgba(233,30,99,0);  padding: 1px 5px; border: solid 3px ; border-color:  rgba(233,30,99,0); #EFEFEF\">South Street</span> <span style=\"background-color: rgba(233,30,99,0);  padding: 1px 5px; border: solid 3px ; border-color:  rgba(233,30,99,0); #EFEFEF\">is</span> <span style=\"background-color: rgba(9, 221, 161,  0.9995409846305847); padding: 1px 5px; border: solid 3px ; border-color: rgba(9, 221, 161,  1); #EFEFEF\">a tough, brutal, well made film</span> <span style=\"background-color: rgba(9, 221, 161,  0.2205590307712555); padding: 1px 5px; border: solid 3px ; border-color: rgba(9, 221, 161,  1); #EFEFEF\">about</span> <span style=\"background-color: rgba(233,30,99,0);  padding: 1px 5px; border: solid 3px ; border-color:  rgba(233,30,99,0); #EFEFEF\">a pickpocket</span> <span style=\"background-color: rgba(9, 221, 161,  0.22207684814929962); padding: 1px 5px; border: solid 3px ; border-color: rgba(9, 221, 161,  1); #EFEFEF\">Richard Widmark</span> <span style=\"background-color: rgba(233,30,99,0);  padding: 1px 5px; border: solid 3px ; border-color:  rgba(233,30,99,0); #EFEFEF\">who</span> <span style=\"background-color: rgba(233,30,99,0);  padding: 1px 5px; border: solid 3px ; border-color:  rgba(233,30,99,0); #EFEFEF\">inadvertently aquires</span> <span style=\"background-color: rgba(233,30,99,0);  padding: 1px 5px; border: solid 3px ; border-color:  rgba(233,30,99,0); #EFEFEF\">top-secret microfilm</span> <span style=\"background-color: rgba(233,30,99,0);  padding: 1px 5px; border: solid 3px ; border-color:  rgba(233,30,99,0); #EFEFEF\">becomes</span> <span style=\"background-color: rgba(233,30,99,0);  padding: 1px 5px; border: solid 3px ; border-color:  rgba(233,30,99,0); #EFEFEF\">a target</span> <span style=\"background-color: rgba(233,30,99,0);  padding: 1px 5px; border: solid 3px ; border-color:  rgba(233,30,99,0); #EFEFEF\">for</span> <span style=\"background-color: rgba(233,30,99,0);  padding: 1px 5px; border: solid 3px ; border-color:  rgba(233,30,99,0); #EFEFEF\">espionage agents</span> </div>"
      ],
      "text/plain": [
       "<IPython.core.display.HTML object>"
      ]
     },
     "metadata": {},
     "output_type": "display_data"
    },
    {
     "data": {
      "text/html": [
       "<br><br>"
      ],
      "text/plain": [
       "<IPython.core.display.HTML object>"
      ]
     },
     "metadata": {},
     "output_type": "display_data"
    },
    {
     "data": {
      "text/html": [
       "<div style='display: flex; width: 400px; flex-wrap: wrap'><span style=\"background-color: rgba(233,30,99,0);  padding: 1px 5px; border: solid 3px ; border-color:  rgba(233,30,99,0); #EFEFEF\">Haunting</span> <span style=\"background-color: rgba(233,30,99,0);  padding: 1px 5px; border: solid 3px ; border-color:  rgba(233,30,99,0); #EFEFEF\">long takes</span> <span style=\"background-color: rgba(9, 221, 161,  0.9996203780174255); padding: 1px 5px; border: solid 3px ; border-color: rgba(9, 221, 161,  1); #EFEFEF\">a gritty soundtrack</span> <span style=\"background-color: rgba(233,30,99,0);  padding: 1px 5px; border: solid 3px ; border-color:  rgba(233,30,99,0); #EFEFEF\">to accentuate</span> <span style=\"background-color: rgba(9, 221, 161,  0.9996203780174255); padding: 1px 5px; border: solid 3px ; border-color: rgba(9, 221, 161,  1); #EFEFEF\">the guilt</span> <span style=\"background-color: rgba(233,30,99,0);  padding: 1px 5px; border: solid 3px ; border-color:  rgba(233,30,99,0); #EFEFEF\">barking dogs</span> </div>"
      ],
      "text/plain": [
       "<IPython.core.display.HTML object>"
      ]
     },
     "metadata": {},
     "output_type": "display_data"
    },
    {
     "data": {
      "text/html": [
       "<br><br>"
      ],
      "text/plain": [
       "<IPython.core.display.HTML object>"
      ]
     },
     "metadata": {},
     "output_type": "display_data"
    },
    {
     "data": {
      "text/html": [
       "<div style='display: flex; width: 400px; flex-wrap: wrap'><span style=\"background-color: rgba(233,30,99,0);  padding: 1px 5px; border: solid 3px ; border-color:  rgba(233,30,99,0); #EFEFEF\">It</span> <span style=\"background-color: rgba(233,30,99,0);  padding: 1px 5px; border: solid 3px ; border-color:  rgba(233,30,99,0); #EFEFEF\">is</span> <span style=\"background-color: rgba(9, 221, 55,  0.5317307710647583); padding: 1px 5px; border: solid 3px ; border-color: rgba(9, 221, 55,  1); #EFEFEF\">a psychological thriller</span> </div>"
      ],
      "text/plain": [
       "<IPython.core.display.HTML object>"
      ]
     },
     "metadata": {},
     "output_type": "display_data"
    },
    {
     "data": {
      "text/html": [
       "<br><br>"
      ],
      "text/plain": [
       "<IPython.core.display.HTML object>"
      ]
     },
     "metadata": {},
     "output_type": "display_data"
    },
    {
     "data": {
      "text/html": [
       "<div style='display: flex; width: 400px; flex-wrap: wrap'><span style=\"background-color: rgba(9, 221, 55,  0.8350106477737427); padding: 1px 5px; border: solid 3px ; border-color: rgba(9, 221, 55,  1); #EFEFEF\">Standing</span> <span style=\"background-color: rgba(9, 221, 55,  0.8431651592254639); padding: 1px 5px; border: solid 3px ; border-color: rgba(9, 221, 55,  1); #EFEFEF\">out strongly</span> <span style=\"background-color: rgba(9, 221, 161,  0.6468125581741333); padding: 1px 5px; border: solid 3px ; border-color: rgba(9, 221, 161,  1); #EFEFEF\">is</span> <span style=\"background-color: rgba(9, 221, 55,  0.9995267391204834); padding: 1px 5px; border: solid 3px ; border-color: rgba(9, 221, 55,  1); #EFEFEF\">its sultrily lurid and bleak nature</span> <span style=\"background-color: rgba(9, 221, 55,  0.729847252368927); padding: 1px 5px; border: solid 3px ; border-color: rgba(9, 221, 55,  1); #EFEFEF\">that</span> <span style=\"background-color: rgba(233,30,99,0);  padding: 1px 5px; border: solid 3px ; border-color:  rgba(233,30,99,0); #EFEFEF\">'s intrusively planted</span> <span style=\"background-color: rgba(9, 221, 161,  0.6468125581741333); padding: 1px 5px; border: solid 3px ; border-color: rgba(9, 221, 161,  1); #EFEFEF\">into</span> <span style=\"background-color: rgba(9, 221, 161,  0.6468125581741333); padding: 1px 5px; border: solid 3px ; border-color: rgba(9, 221, 161,  1); #EFEFEF\">the film</span> <span style=\"background-color: rgba(9, 221, 55,  0.6900039315223694); padding: 1px 5px; border: solid 3px ; border-color: rgba(9, 221, 55,  1); #EFEFEF\">'s psychological makeup</span> <span style=\"background-color: rgba(233,30,99,0);  padding: 1px 5px; border: solid 3px ; border-color:  rgba(233,30,99,0); #EFEFEF\">manipulative strangle hold</span> <span style=\"background-color: rgba(9, 221, 161,  0.6468125581741333); padding: 1px 5px; border: solid 3px ; border-color: rgba(9, 221, 161,  1); #EFEFEF\">in</span> <span style=\"background-color: rgba(9, 221, 161,  0.6468125581741333); padding: 1px 5px; border: solid 3px ; border-color: rgba(9, 221, 161,  1); #EFEFEF\">sexual depravity</span> </div>"
      ],
      "text/plain": [
       "<IPython.core.display.HTML object>"
      ]
     },
     "metadata": {},
     "output_type": "display_data"
    },
    {
     "data": {
      "text/html": [
       "<br><br>"
      ],
      "text/plain": [
       "<IPython.core.display.HTML object>"
      ]
     },
     "metadata": {},
     "output_type": "display_data"
    },
    {
     "data": {
      "text/html": [
       "<div style='display: flex; width: 400px; flex-wrap: wrap'><span style=\"background-color: rgba(233,30,99,0);  padding: 1px 5px; border: solid 3px ; border-color:  rgba(233,30,99,0); #EFEFEF\">The former prizefighter</span> <span style=\"background-color: rgba(233,30,99,0);  padding: 1px 5px; border: solid 3px ; border-color:  rgba(233,30,99,0); #EFEFEF\">who</span> <span style=\"background-color: rgba(233,30,99,0);  padding: 1px 5px; border: solid 3px ; border-color:  rgba(233,30,99,0); #EFEFEF\">once</span> <span style=\"background-color: rgba(233,30,99,0);  padding: 1px 5px; border: solid 3px ; border-color:  rgba(233,30,99,0); #EFEFEF\">faced</span> <span style=\"background-color: rgba(233,30,99,0);  padding: 1px 5px; border: solid 3px ; border-color:  rgba(233,30,99,0); #EFEFEF\">Joe Louis</span> <span style=\"background-color: rgba(233,30,99,0);  padding: 1px 5px; border: solid 3px ; border-color:  rgba(233,30,99,0); #EFEFEF\">in</span> <span style=\"background-color: rgba(233,30,99,0);  padding: 1px 5px; border: solid 3px ; border-color:  rgba(233,30,99,0); #EFEFEF\">the ring</span> <span style=\"background-color: rgba(9, 221, 161,  0.5835801959037781); padding: 1px 5px; border: solid 3px ; border-color: rgba(9, 221, 161,  1); #EFEFEF\">delivers</span> <span style=\"background-color: rgba(9, 221, 161,  0.9997867941856384); padding: 1px 5px; border: solid 3px ; border-color: rgba(9, 221, 161,  1); #EFEFEF\">an Academy Award-winning portrayal</span> <span style=\"background-color: rgba(233,30,99,0);  padding: 1px 5px; border: solid 3px ; border-color:  rgba(233,30,99,0); #EFEFEF\">of</span> <span style=\"background-color: rgba(233,30,99,0);  padding: 1px 5px; border: solid 3px ; border-color:  rgba(233,30,99,0); #EFEFEF\">disgraced IRA soldier Gypo Nolan</span> <span style=\"background-color: rgba(233,30,99,0);  padding: 1px 5px; border: solid 3px ; border-color:  rgba(233,30,99,0); #EFEFEF\">on</span> <span style=\"background-color: rgba(233,30,99,0);  padding: 1px 5px; border: solid 3px ; border-color:  rgba(233,30,99,0); #EFEFEF\">the worst night</span> <span style=\"background-color: rgba(233,30,99,0);  padding: 1px 5px; border: solid 3px ; border-color:  rgba(233,30,99,0); #EFEFEF\">of</span> <span style=\"background-color: rgba(233,30,99,0);  padding: 1px 5px; border: solid 3px ; border-color:  rgba(233,30,99,0); #EFEFEF\">his life</span> </div>"
      ],
      "text/plain": [
       "<IPython.core.display.HTML object>"
      ]
     },
     "metadata": {},
     "output_type": "display_data"
    },
    {
     "data": {
      "text/html": [
       "<br><br>"
      ],
      "text/plain": [
       "<IPython.core.display.HTML object>"
      ]
     },
     "metadata": {},
     "output_type": "display_data"
    },
    {
     "data": {
      "text/html": [
       "<div style='display: flex; width: 400px; flex-wrap: wrap'><span style=\"background-color: rgba(9, 221, 161,  0.41278865933418274); padding: 1px 5px; border: solid 3px ; border-color: rgba(9, 221, 161,  1); #EFEFEF\">A River Runs</span> <span style=\"background-color: rgba(233,30,99,0);  padding: 1px 5px; border: solid 3px ; border-color:  rgba(233,30,99,0); #EFEFEF\">Through</span> <span style=\"background-color: rgba(9, 221, 161,  0.2231069654226303); padding: 1px 5px; border: solid 3px ; border-color: rgba(9, 221, 161,  1); #EFEFEF\">It</span> <span style=\"background-color: rgba(9, 221, 55,  0.5246747732162476); padding: 1px 5px; border: solid 3px ; border-color: rgba(9, 221, 55,  1); #EFEFEF\">is based</span> <span style=\"background-color: rgba(233,30,99,0);  padding: 1px 5px; border: solid 3px ; border-color:  rgba(233,30,99,0); #EFEFEF\">on</span> <span style=\"background-color: rgba(9, 221, 161,  0.35520288348197937); padding: 1px 5px; border: solid 3px ; border-color: rgba(9, 221, 161,  1); #EFEFEF\">the true story</span> <span style=\"background-color: rgba(233,30,99,0);  padding: 1px 5px; border: solid 3px ; border-color:  rgba(233,30,99,0); #EFEFEF\">of</span> <span style=\"background-color: rgba(233,30,99,0);  padding: 1px 5px; border: solid 3px ; border-color:  rgba(233,30,99,0); #EFEFEF\">two fly fishing brothers</span> <span style=\"background-color: rgba(233,30,99,0);  padding: 1px 5px; border: solid 3px ; border-color:  rgba(233,30,99,0); #EFEFEF\">Norman and Paul</span> <span style=\"background-color: rgba(9, 221, 55,  0.4384498596191406); padding: 1px 5px; border: solid 3px ; border-color: rgba(9, 221, 55,  1); #EFEFEF\">Brad Pitt</span> <span style=\"background-color: rgba(9, 221, 55,  0.34115585684776306); padding: 1px 5px; border: solid 3px ; border-color: rgba(9, 221, 55,  1); #EFEFEF\">Craig Sheffer</span> <span style=\"background-color: rgba(233,30,99,0);  padding: 1px 5px; border: solid 3px ; border-color:  rgba(233,30,99,0); #EFEFEF\">whose Reverend father</span> <span style=\"background-color: rgba(9, 221, 55,  0.20620697736740112); padding: 1px 5px; border: solid 3px ; border-color: rgba(9, 221, 55,  1); #EFEFEF\">Tom Skerritt</span> <span style=\"background-color: rgba(9, 221, 55,  0.2637946903705597); padding: 1px 5px; border: solid 3px ; border-color: rgba(9, 221, 55,  1); #EFEFEF\">is</span> <span style=\"background-color: rgba(9, 221, 55,  0.31497615575790405); padding: 1px 5px; border: solid 3px ; border-color: rgba(9, 221, 55,  1); #EFEFEF\">a strict man</span> <span style=\"background-color: rgba(9, 221, 55,  0.21397915482521057); padding: 1px 5px; border: solid 3px ; border-color: rgba(9, 221, 55,  1); #EFEFEF\">whose two passions</span> <span style=\"background-color: rgba(9, 221, 55,  0.27157995104789734); padding: 1px 5px; border: solid 3px ; border-color: rgba(9, 221, 55,  1); #EFEFEF\">are</span> <span style=\"background-color: rgba(233,30,99,0);  padding: 1px 5px; border: solid 3px ; border-color:  rgba(233,30,99,0); #EFEFEF\">his faith and fly fishing</span> <span style=\"background-color: rgba(9, 221, 55,  0.24507422745227814); padding: 1px 5px; border: solid 3px ; border-color: rgba(9, 221, 55,  1); #EFEFEF\">for</span> <span style=\"background-color: rgba(9, 221, 55,  0.2532702684402466); padding: 1px 5px; border: solid 3px ; border-color: rgba(9, 221, 55,  1); #EFEFEF\">him</span> <span style=\"background-color: rgba(9, 221, 55,  0.2553696632385254); padding: 1px 5px; border: solid 3px ; border-color: rgba(9, 221, 55,  1); #EFEFEF\">his sons</span> <span style=\"background-color: rgba(9, 221, 55,  0.2002888321876526); padding: 1px 5px; border: solid 3px ; border-color: rgba(9, 221, 55,  1); #EFEFEF\">there</span> <span style=\"background-color: rgba(9, 221, 55,  0.23186004161834717); padding: 1px 5px; border: solid 3px ; border-color: rgba(9, 221, 55,  1); #EFEFEF\">is</span> <span style=\"background-color: rgba(9, 221, 55,  0.22920000553131104); padding: 1px 5px; border: solid 3px ; border-color: rgba(9, 221, 55,  1); #EFEFEF\">a fine line</span> <span style=\"background-color: rgba(9, 221, 55,  0.227906733751297); padding: 1px 5px; border: solid 3px ; border-color: rgba(9, 221, 55,  1); #EFEFEF\">between</span> <span style=\"background-color: rgba(9, 221, 55,  0.23802450299263); padding: 1px 5px; border: solid 3px ; border-color: rgba(9, 221, 55,  1); #EFEFEF\">the two</span> </div>"
      ],
      "text/plain": [
       "<IPython.core.display.HTML object>"
      ]
     },
     "metadata": {},
     "output_type": "display_data"
    },
    {
     "data": {
      "text/html": [
       "<br><br>"
      ],
      "text/plain": [
       "<IPython.core.display.HTML object>"
      ]
     },
     "metadata": {},
     "output_type": "display_data"
    },
    {
     "data": {
      "text/html": [
       "<div style='display: flex; width: 400px; flex-wrap: wrap'><span style=\"background-color: rgba(9, 221, 161,  0.7401643991470337); padding: 1px 5px; border: solid 3px ; border-color: rgba(9, 221, 161,  1); #EFEFEF\">Carter</span> <span style=\"background-color: rgba(9, 221, 161,  0.9996662735939026); padding: 1px 5px; border: solid 3px ; border-color: rgba(9, 221, 161,  1); #EFEFEF\">'s depiction</span> <span style=\"background-color: rgba(9, 221, 161,  0.6727287769317627); padding: 1px 5px; border: solid 3px ; border-color: rgba(9, 221, 161,  1); #EFEFEF\">of</span> <span style=\"background-color: rgba(233,30,99,0);  padding: 1px 5px; border: solid 3px ; border-color:  rgba(233,30,99,0); #EFEFEF\">an ALS victim</span> <span style=\"background-color: rgba(9, 221, 161,  0.9996662735939026); padding: 1px 5px; border: solid 3px ; border-color: rgba(9, 221, 161,  1); #EFEFEF\">is</span> <span style=\"background-color: rgba(9, 221, 161,  0.9996662735939026); padding: 1px 5px; border: solid 3px ; border-color: rgba(9, 221, 161,  1); #EFEFEF\">strong</span> <span style=\"background-color: rgba(9, 221, 161,  0.9447570443153381); padding: 1px 5px; border: solid 3px ; border-color: rgba(9, 221, 161,  1); #EFEFEF\">perhaps even overdone</span> <span style=\"background-color: rgba(9, 221, 161,  0.9996662735939026); padding: 1px 5px; border: solid 3px ; border-color: rgba(9, 221, 161,  1); #EFEFEF\">at</span> <span style=\"background-color: rgba(9, 221, 161,  0.9996662735939026); padding: 1px 5px; border: solid 3px ; border-color: rgba(9, 221, 161,  1); #EFEFEF\">times</span> <span style=\"background-color: rgba(9, 221, 161,  0.9996662735939026); padding: 1px 5px; border: solid 3px ; border-color: rgba(9, 221, 161,  1); #EFEFEF\">sometimes</span> <span style=\"background-color: rgba(9, 221, 161,  0.25947046279907227); padding: 1px 5px; border: solid 3px ; border-color: rgba(9, 221, 161,  1); #EFEFEF\">her dialog</span> <span style=\"background-color: rgba(233,30,99,0);  padding: 1px 5px; border: solid 3px ; border-color:  rgba(233,30,99,0); #EFEFEF\">dissolves</span> <span style=\"background-color: rgba(9, 221, 161,  0.38318517804145813); padding: 1px 5px; border: solid 3px ; border-color: rgba(9, 221, 161,  1); #EFEFEF\">into</span> <span style=\"background-color: rgba(233,30,99,0);  padding: 1px 5px; border: solid 3px ; border-color:  rgba(233,30,99,0); #EFEFEF\">undistinguishable mutterings</span> </div>"
      ],
      "text/plain": [
       "<IPython.core.display.HTML object>"
      ]
     },
     "metadata": {},
     "output_type": "display_data"
    },
    {
     "data": {
      "text/html": [
       "<br><br>"
      ],
      "text/plain": [
       "<IPython.core.display.HTML object>"
      ]
     },
     "metadata": {},
     "output_type": "display_data"
    },
    {
     "data": {
      "text/html": [
       "<div style='display: flex; width: 400px; flex-wrap: wrap'><span style=\"background-color: rgba(9, 221, 161,  0.26980432868003845); padding: 1px 5px; border: solid 3px ; border-color: rgba(9, 221, 161,  1); #EFEFEF\">I</span> <span style=\"background-color: rgba(233,30,99,0);  padding: 1px 5px; border: solid 3px ; border-color:  rgba(233,30,99,0); #EFEFEF\">just</span> <span style=\"background-color: rgba(9, 221, 161,  0.9995595216751099); padding: 1px 5px; border: solid 3px ; border-color: rgba(9, 221, 161,  1); #EFEFEF\">re-watched</span> <span style=\"background-color: rgba(9, 221, 55,  0.5494683384895325); padding: 1px 5px; border: solid 3px ; border-color: rgba(9, 221, 55,  1); #EFEFEF\">this thriller</span> <span style=\"background-color: rgba(233,30,99,0);  padding: 1px 5px; border: solid 3px ; border-color:  rgba(233,30,99,0); #EFEFEF\">one</span> <span style=\"background-color: rgba(9, 221, 161,  0.20138350129127502); padding: 1px 5px; border: solid 3px ; border-color: rgba(9, 221, 161,  1); #EFEFEF\">I</span> <span style=\"background-color: rgba(9, 221, 161,  0.7287431955337524); padding: 1px 5px; border: solid 3px ; border-color: rgba(9, 221, 161,  1); #EFEFEF\">had previously believed to be</span> <span style=\"background-color: rgba(233,30,99,0);  padding: 1px 5px; border: solid 3px ; border-color:  rgba(233,30,99,0); #EFEFEF\">one</span> <span style=\"background-color: rgba(233,30,99,0);  padding: 1px 5px; border: solid 3px ; border-color:  rgba(233,30,99,0); #EFEFEF\">of</span> <span style=\"background-color: rgba(233,30,99,0);  padding: 1px 5px; border: solid 3px ; border-color:  rgba(233,30,99,0); #EFEFEF\">Hitch</span> <span style=\"background-color: rgba(9, 221, 161,  0.32893478870391846); padding: 1px 5px; border: solid 3px ; border-color: rgba(9, 221, 161,  1); #EFEFEF\">'s lesser efforts</span> </div>"
      ],
      "text/plain": [
       "<IPython.core.display.HTML object>"
      ]
     },
     "metadata": {},
     "output_type": "display_data"
    },
    {
     "data": {
      "text/html": [
       "<br><br>"
      ],
      "text/plain": [
       "<IPython.core.display.HTML object>"
      ]
     },
     "metadata": {},
     "output_type": "display_data"
    },
    {
     "data": {
      "text/html": [
       "<div style='display: flex; width: 400px; flex-wrap: wrap'><span style=\"background-color: rgba(9, 221, 161,  0.21338056027889252); padding: 1px 5px; border: solid 3px ; border-color: rgba(9, 221, 161,  1); #EFEFEF\">New York lensed horror film</span> <span style=\"background-color: rgba(233,30,99,0);  padding: 1px 5px; border: solid 3px ; border-color:  rgba(233,30,99,0); #EFEFEF\">filmed</span> <span style=\"background-color: rgba(233,30,99,0);  padding: 1px 5px; border: solid 3px ; border-color:  rgba(233,30,99,0); #EFEFEF\">in</span> <span style=\"background-color: rgba(233,30,99,0);  padding: 1px 5px; border: solid 3px ; border-color:  rgba(233,30,99,0); #EFEFEF\">part</span> <span style=\"background-color: rgba(233,30,99,0);  padding: 1px 5px; border: solid 3px ; border-color:  rgba(233,30,99,0); #EFEFEF\">on</span> <span style=\"background-color: rgba(233,30,99,0);  padding: 1px 5px; border: solid 3px ; border-color:  rgba(233,30,99,0); #EFEFEF\">Staten Island</span> <span style=\"background-color: rgba(233,30,99,0);  padding: 1px 5px; border: solid 3px ; border-color:  rgba(233,30,99,0); #EFEFEF\">which</span> <span style=\"background-color: rgba(233,30,99,0);  padding: 1px 5px; border: solid 3px ; border-color:  rgba(233,30,99,0); #EFEFEF\">no doubt</span> <span style=\"background-color: rgba(233,30,99,0);  padding: 1px 5px; border: solid 3px ; border-color:  rgba(233,30,99,0); #EFEFEF\">brought</span> <span style=\"background-color: rgba(233,30,99,0);  padding: 1px 5px; border: solid 3px ; border-color:  rgba(233,30,99,0); #EFEFEF\">the spirit</span> <span style=\"background-color: rgba(233,30,99,0);  padding: 1px 5px; border: solid 3px ; border-color:  rgba(233,30,99,0); #EFEFEF\">of</span> <span style=\"background-color: rgba(233,30,99,0);  padding: 1px 5px; border: solid 3px ; border-color:  rgba(233,30,99,0); #EFEFEF\">Andy Milligan</span> <span style=\"background-color: rgba(233,30,99,0);  padding: 1px 5px; border: solid 3px ; border-color:  rgba(233,30,99,0); #EFEFEF\">lurking</span> <span style=\"background-color: rgba(233,30,99,0);  padding: 1px 5px; border: solid 3px ; border-color:  rgba(233,30,99,0); #EFEFEF\">about</span> <span style=\"background-color: rgba(9, 221, 161,  0.3119530975818634); padding: 1px 5px; border: solid 3px ; border-color: rgba(9, 221, 161,  1); #EFEFEF\">is</span> <span style=\"background-color: rgba(9, 221, 161,  0.27421265840530396); padding: 1px 5px; border: solid 3px ; border-color: rgba(9, 221, 161,  1); #EFEFEF\">one</span> <span style=\"background-color: rgba(233,30,99,0);  padding: 1px 5px; border: solid 3px ; border-color:  rgba(233,30,99,0); #EFEFEF\">of</span> <span style=\"background-color: rgba(9, 221, 161,  0.9994736313819885); padding: 1px 5px; border: solid 3px ; border-color: rgba(9, 221, 161,  1); #EFEFEF\">the better horror comedies</span> <span style=\"background-color: rgba(233,30,99,0);  padding: 1px 5px; border: solid 3px ; border-color:  rgba(233,30,99,0); #EFEFEF\">to come</span> <span style=\"background-color: rgba(233,30,99,0);  padding: 1px 5px; border: solid 3px ; border-color:  rgba(233,30,99,0); #EFEFEF\">around</span> <span style=\"background-color: rgba(233,30,99,0);  padding: 1px 5px; border: solid 3px ; border-color:  rgba(233,30,99,0); #EFEFEF\">in</span> <span style=\"background-color: rgba(233,30,99,0);  padding: 1px 5px; border: solid 3px ; border-color:  rgba(233,30,99,0); #EFEFEF\">a while</span> </div>"
      ],
      "text/plain": [
       "<IPython.core.display.HTML object>"
      ]
     },
     "metadata": {},
     "output_type": "display_data"
    },
    {
     "data": {
      "text/html": [
       "<br><br>"
      ],
      "text/plain": [
       "<IPython.core.display.HTML object>"
      ]
     },
     "metadata": {},
     "output_type": "display_data"
    },
    {
     "data": {
      "text/html": [
       "<div style='display: flex; width: 400px; flex-wrap: wrap'><span style=\"background-color: rgba(9, 221, 161,  0.2925364673137665); padding: 1px 5px; border: solid 3px ; border-color: rgba(9, 221, 161,  1); #EFEFEF\">The film</span> <span style=\"background-color: rgba(9, 221, 161,  0.35843679308891296); padding: 1px 5px; border: solid 3px ; border-color: rgba(9, 221, 161,  1); #EFEFEF\">written and directed</span> <span style=\"background-color: rgba(9, 221, 161,  0.3811630606651306); padding: 1px 5px; border: solid 3px ; border-color: rgba(9, 221, 161,  1); #EFEFEF\">entirely</span> <span style=\"background-color: rgba(9, 221, 161,  0.3288392424583435); padding: 1px 5px; border: solid 3px ; border-color: rgba(9, 221, 161,  1); #EFEFEF\">by</span> <span style=\"background-color: rgba(9, 221, 161,  0.23990720510482788); padding: 1px 5px; border: solid 3px ; border-color: rgba(9, 221, 161,  1); #EFEFEF\">Anthony Waller</span> <span style=\"background-color: rgba(233,30,99,0);  padding: 1px 5px; border: solid 3px ; border-color:  rgba(233,30,99,0); #EFEFEF\">is</span> <span style=\"background-color: rgba(9, 221, 161,  0.9994980096817017); padding: 1px 5px; border: solid 3px ; border-color: rgba(9, 221, 161,  1); #EFEFEF\">a tense, action-packed thriller</span> <span style=\"background-color: rgba(9, 221, 161,  0.2990601658821106); padding: 1px 5px; border: solid 3px ; border-color: rgba(9, 221, 161,  1); #EFEFEF\">with</span> <span style=\"background-color: rgba(9, 221, 161,  0.30372557044029236); padding: 1px 5px; border: solid 3px ; border-color: rgba(9, 221, 161,  1); #EFEFEF\">black comedy aspects</span> <span style=\"background-color: rgba(233,30,99,0);  padding: 1px 5px; border: solid 3px ; border-color:  rgba(233,30,99,0); #EFEFEF\">horror influences</span> </div>"
      ],
      "text/plain": [
       "<IPython.core.display.HTML object>"
      ]
     },
     "metadata": {},
     "output_type": "display_data"
    },
    {
     "data": {
      "text/html": [
       "<br><br>"
      ],
      "text/plain": [
       "<IPython.core.display.HTML object>"
      ]
     },
     "metadata": {},
     "output_type": "display_data"
    },
    {
     "name": "stdout",
     "output_type": "stream",
     "text": [
      "\n",
      "\n",
      "10 most important reviews for positive predicted label - concept2:\n",
      "\n",
      "\n"
     ]
    },
    {
     "data": {
      "text/html": [
       "<div style='display: flex; width: 400px; flex-wrap: wrap'><span style=\"background-color: rgba(9, 221, 161,  0.333190381526947); padding: 1px 5px; border: solid 3px ; border-color: rgba(9, 221, 161,  1); #EFEFEF\">It</span> <span style=\"background-color: rgba(9, 221, 161,  0.27182453870773315); padding: 1px 5px; border: solid 3px ; border-color: rgba(9, 221, 161,  1); #EFEFEF\">is</span> <span style=\"background-color: rgba(9, 221, 161,  0.9998337626457214); padding: 1px 5px; border: solid 3px ; border-color: rgba(9, 221, 161,  1); #EFEFEF\">a great loss</span> </div>"
      ],
      "text/plain": [
       "<IPython.core.display.HTML object>"
      ]
     },
     "metadata": {},
     "output_type": "display_data"
    },
    {
     "data": {
      "text/html": [
       "<br><br>"
      ],
      "text/plain": [
       "<IPython.core.display.HTML object>"
      ]
     },
     "metadata": {},
     "output_type": "display_data"
    },
    {
     "data": {
      "text/html": [
       "<div style='display: flex; width: 400px; flex-wrap: wrap'><span style=\"background-color: rgba(233,30,99,0);  padding: 1px 5px; border: solid 3px ; border-color:  rgba(233,30,99,0); #EFEFEF\">He</span> <span style=\"background-color: rgba(233,30,99,0);  padding: 1px 5px; border: solid 3px ; border-color:  rgba(233,30,99,0); #EFEFEF\">was</span> <span style=\"background-color: rgba(9, 221, 161,  0.9998620748519897); padding: 1px 5px; border: solid 3px ; border-color: rgba(9, 221, 161,  1); #EFEFEF\">just that beautiful</span> </div>"
      ],
      "text/plain": [
       "<IPython.core.display.HTML object>"
      ]
     },
     "metadata": {},
     "output_type": "display_data"
    },
    {
     "data": {
      "text/html": [
       "<br><br>"
      ],
      "text/plain": [
       "<IPython.core.display.HTML object>"
      ]
     },
     "metadata": {},
     "output_type": "display_data"
    },
    {
     "data": {
      "text/html": [
       "<div style='display: flex; width: 400px; flex-wrap: wrap'><span style=\"background-color: rgba(9, 221, 161,  0.23589055240154266); padding: 1px 5px; border: solid 3px ; border-color: rgba(9, 221, 161,  1); #EFEFEF\">I</span> <span style=\"background-color: rgba(9, 221, 161,  0.22839869558811188); padding: 1px 5px; border: solid 3px ; border-color: rgba(9, 221, 161,  1); #EFEFEF\">so wanted</span> <span style=\"background-color: rgba(9, 221, 161,  0.41955289244651794); padding: 1px 5px; border: solid 3px ; border-color: rgba(9, 221, 161,  1); #EFEFEF\">Ben and Emily</span> <span style=\"background-color: rgba(233,30,99,0);  padding: 1px 5px; border: solid 3px ; border-color:  rgba(233,30,99,0); #EFEFEF\">to be</span> <span style=\"background-color: rgba(9, 221, 161,  0.2946953773498535); padding: 1px 5px; border: solid 3px ; border-color: rgba(9, 221, 161,  1); #EFEFEF\">together</span> <span style=\"background-color: rgba(9, 221, 161,  0.2592011094093323); padding: 1px 5px; border: solid 3px ; border-color: rgba(9, 221, 161,  1); #EFEFEF\">in</span> <span style=\"background-color: rgba(9, 221, 161,  0.2668413519859314); padding: 1px 5px; border: solid 3px ; border-color: rgba(9, 221, 161,  1); #EFEFEF\">the end</span> <span style=\"background-color: rgba(9, 221, 161,  0.21584807336330414); padding: 1px 5px; border: solid 3px ; border-color: rgba(9, 221, 161,  1); #EFEFEF\">they</span> <span style=\"background-color: rgba(9, 221, 161,  0.2136750966310501); padding: 1px 5px; border: solid 3px ; border-color: rgba(9, 221, 161,  1); #EFEFEF\">were</span> <span style=\"background-color: rgba(9, 221, 161,  0.9994969367980957); padding: 1px 5px; border: solid 3px ; border-color: rgba(9, 221, 161,  1); #EFEFEF\">forever</span> </div>"
      ],
      "text/plain": [
       "<IPython.core.display.HTML object>"
      ]
     },
     "metadata": {},
     "output_type": "display_data"
    },
    {
     "data": {
      "text/html": [
       "<br><br>"
      ],
      "text/plain": [
       "<IPython.core.display.HTML object>"
      ]
     },
     "metadata": {},
     "output_type": "display_data"
    },
    {
     "data": {
      "text/html": [
       "<div style='display: flex; width: 400px; flex-wrap: wrap'><span style=\"background-color: rgba(9, 221, 161,  0.9995083808898926); padding: 1px 5px; border: solid 3px ; border-color: rgba(9, 221, 161,  1); #EFEFEF\">Always</span> <span style=\"background-color: rgba(233,30,99,0);  padding: 1px 5px; border: solid 3px ; border-color:  rgba(233,30,99,0); #EFEFEF\">makes</span> <span style=\"background-color: rgba(233,30,99,0);  padding: 1px 5px; border: solid 3px ; border-color:  rgba(233,30,99,0); #EFEFEF\">me</span> <span style=\"background-color: rgba(9, 221, 161,  0.3911880552768707); padding: 1px 5px; border: solid 3px ; border-color: rgba(9, 221, 161,  1); #EFEFEF\">cry</span> </div>"
      ],
      "text/plain": [
       "<IPython.core.display.HTML object>"
      ]
     },
     "metadata": {},
     "output_type": "display_data"
    },
    {
     "data": {
      "text/html": [
       "<br><br>"
      ],
      "text/plain": [
       "<IPython.core.display.HTML object>"
      ]
     },
     "metadata": {},
     "output_type": "display_data"
    },
    {
     "data": {
      "text/html": [
       "<div style='display: flex; width: 400px; flex-wrap: wrap'><span style=\"background-color: rgba(9, 221, 161,  0.41318702697753906); padding: 1px 5px; border: solid 3px ; border-color: rgba(9, 221, 161,  1); #EFEFEF\">Losing</span> <span style=\"background-color: rgba(9, 221, 161,  0.8145635724067688); padding: 1px 5px; border: solid 3px ; border-color: rgba(9, 221, 161,  1); #EFEFEF\">your love</span> <span style=\"background-color: rgba(9, 221, 161,  0.5138537883758545); padding: 1px 5px; border: solid 3px ; border-color: rgba(9, 221, 161,  1); #EFEFEF\">is</span> <span style=\"background-color: rgba(9, 221, 161,  0.9996119737625122); padding: 1px 5px; border: solid 3px ; border-color: rgba(9, 221, 161,  1); #EFEFEF\">painful</span> <span style=\"background-color: rgba(9, 221, 161,  0.4821826219558716); padding: 1px 5px; border: solid 3px ; border-color: rgba(9, 221, 161,  1); #EFEFEF\">beyond</span> <span style=\"background-color: rgba(233,30,99,0);  padding: 1px 5px; border: solid 3px ; border-color:  rgba(233,30,99,0); #EFEFEF\">belief</span> <span style=\"background-color: rgba(233,30,99,0);  padding: 1px 5px; border: solid 3px ; border-color:  rgba(233,30,99,0); #EFEFEF\">many</span> <span style=\"background-color: rgba(9, 221, 161,  0.44376134872436523); padding: 1px 5px; border: solid 3px ; border-color: rgba(9, 221, 161,  1); #EFEFEF\">who</span> <span style=\"background-color: rgba(9, 221, 161,  0.34252041578292847); padding: 1px 5px; border: solid 3px ; border-color: rgba(9, 221, 161,  1); #EFEFEF\">do</span> <span style=\"background-color: rgba(233,30,99,0);  padding: 1px 5px; border: solid 3px ; border-color:  rgba(233,30,99,0); #EFEFEF\">so</span> <span style=\"background-color: rgba(9, 221, 161,  0.8623897433280945); padding: 1px 5px; border: solid 3px ; border-color: rgba(9, 221, 161,  1); #EFEFEF\">will never feel</span> <span style=\"background-color: rgba(233,30,99,0);  padding: 1px 5px; border: solid 3px ; border-color:  rgba(233,30,99,0); #EFEFEF\">something</span> <span style=\"background-color: rgba(233,30,99,0);  padding: 1px 5px; border: solid 3px ; border-color:  rgba(233,30,99,0); #EFEFEF\">like</span> <span style=\"background-color: rgba(233,30,99,0);  padding: 1px 5px; border: solid 3px ; border-color:  rgba(233,30,99,0); #EFEFEF\">that</span> <span style=\"background-color: rgba(9, 221, 161,  0.4279136061668396); padding: 1px 5px; border: solid 3px ; border-color: rgba(9, 221, 161,  1); #EFEFEF\">again</span> </div>"
      ],
      "text/plain": [
       "<IPython.core.display.HTML object>"
      ]
     },
     "metadata": {},
     "output_type": "display_data"
    },
    {
     "data": {
      "text/html": [
       "<br><br>"
      ],
      "text/plain": [
       "<IPython.core.display.HTML object>"
      ]
     },
     "metadata": {},
     "output_type": "display_data"
    },
    {
     "data": {
      "text/html": [
       "<div style='display: flex; width: 400px; flex-wrap: wrap'><span style=\"background-color: rgba(9, 221, 161,  0.7576091289520264); padding: 1px 5px; border: solid 3px ; border-color: rgba(9, 221, 161,  1); #EFEFEF\">There</span> <span style=\"background-color: rgba(9, 221, 161,  0.4502345025539398); padding: 1px 5px; border: solid 3px ; border-color: rgba(9, 221, 161,  1); #EFEFEF\">are</span> <span style=\"background-color: rgba(233,30,99,0);  padding: 1px 5px; border: solid 3px ; border-color:  rgba(233,30,99,0); #EFEFEF\">moments</span> <span style=\"background-color: rgba(233,30,99,0);  padding: 1px 5px; border: solid 3px ; border-color:  rgba(233,30,99,0); #EFEFEF\">that</span> <span style=\"background-color: rgba(233,30,99,0);  padding: 1px 5px; border: solid 3px ; border-color:  rgba(233,30,99,0); #EFEFEF\">will bring</span> <span style=\"background-color: rgba(9, 221, 161,  0.9996607303619385); padding: 1px 5px; border: solid 3px ; border-color: rgba(9, 221, 161,  1); #EFEFEF\">tears</span> <span style=\"background-color: rgba(233,30,99,0);  padding: 1px 5px; border: solid 3px ; border-color:  rgba(233,30,99,0); #EFEFEF\">to</span> <span style=\"background-color: rgba(233,30,99,0);  padding: 1px 5px; border: solid 3px ; border-color:  rgba(233,30,99,0); #EFEFEF\">your eyes</span> <span style=\"background-color: rgba(233,30,99,0);  padding: 1px 5px; border: solid 3px ; border-color:  rgba(233,30,99,0); #EFEFEF\">as well</span> </div>"
      ],
      "text/plain": [
       "<IPython.core.display.HTML object>"
      ]
     },
     "metadata": {},
     "output_type": "display_data"
    },
    {
     "data": {
      "text/html": [
       "<br><br>"
      ],
      "text/plain": [
       "<IPython.core.display.HTML object>"
      ]
     },
     "metadata": {},
     "output_type": "display_data"
    },
    {
     "data": {
      "text/html": [
       "<div style='display: flex; width: 400px; flex-wrap: wrap'><span style=\"background-color: rgba(233,30,99,0);  padding: 1px 5px; border: solid 3px ; border-color:  rgba(233,30,99,0); #EFEFEF\">I</span> <span style=\"background-color: rgba(9, 221, 161,  0.9998857378959656); padding: 1px 5px; border: solid 3px ; border-color: rgba(9, 221, 161,  1); #EFEFEF\">will never forget</span> </div>"
      ],
      "text/plain": [
       "<IPython.core.display.HTML object>"
      ]
     },
     "metadata": {},
     "output_type": "display_data"
    },
    {
     "data": {
      "text/html": [
       "<br><br>"
      ],
      "text/plain": [
       "<IPython.core.display.HTML object>"
      ]
     },
     "metadata": {},
     "output_type": "display_data"
    },
    {
     "data": {
      "text/html": [
       "<div style='display: flex; width: 400px; flex-wrap: wrap'><span style=\"background-color: rgba(9, 221, 161,  0.99930340051651); padding: 1px 5px; border: solid 3px ; border-color: rgba(9, 221, 161,  1); #EFEFEF\">The love and support</span> <span style=\"background-color: rgba(9, 221, 161,  0.3981229066848755); padding: 1px 5px; border: solid 3px ; border-color: rgba(9, 221, 161,  1); #EFEFEF\">of</span> <span style=\"background-color: rgba(9, 221, 161,  0.7762815952301025); padding: 1px 5px; border: solid 3px ; border-color: rgba(9, 221, 161,  1); #EFEFEF\">the family members</span> <span style=\"background-color: rgba(233,30,99,0);  padding: 1px 5px; border: solid 3px ; border-color:  rgba(233,30,99,0); #EFEFEF\">is</span> <span style=\"background-color: rgba(233,30,99,0);  padding: 1px 5px; border: solid 3px ; border-color:  rgba(233,30,99,0); #EFEFEF\">evident</span> <span style=\"background-color: rgba(9, 221, 161,  0.2341219037771225); padding: 1px 5px; border: solid 3px ; border-color: rgba(9, 221, 161,  1); #EFEFEF\">throughout</span> </div>"
      ],
      "text/plain": [
       "<IPython.core.display.HTML object>"
      ]
     },
     "metadata": {},
     "output_type": "display_data"
    },
    {
     "data": {
      "text/html": [
       "<br><br>"
      ],
      "text/plain": [
       "<IPython.core.display.HTML object>"
      ]
     },
     "metadata": {},
     "output_type": "display_data"
    },
    {
     "data": {
      "text/html": [
       "<div style='display: flex; width: 400px; flex-wrap: wrap'><span style=\"background-color: rgba(9, 221, 161,  0.766835629940033); padding: 1px 5px; border: solid 3px ; border-color: rgba(9, 221, 161,  1); #EFEFEF\">It</span> <span style=\"background-color: rgba(9, 221, 161,  0.6661139130592346); padding: 1px 5px; border: solid 3px ; border-color: rgba(9, 221, 161,  1); #EFEFEF\">fills</span> <span style=\"background-color: rgba(9, 221, 161,  0.5994100570678711); padding: 1px 5px; border: solid 3px ; border-color: rgba(9, 221, 161,  1); #EFEFEF\">you</span> <span style=\"background-color: rgba(9, 221, 161,  0.5648959875106812); padding: 1px 5px; border: solid 3px ; border-color: rgba(9, 221, 161,  1); #EFEFEF\">with</span> <span style=\"background-color: rgba(9, 221, 161,  0.9998160004615784); padding: 1px 5px; border: solid 3px ; border-color: rgba(9, 221, 161,  1); #EFEFEF\">pride</span> </div>"
      ],
      "text/plain": [
       "<IPython.core.display.HTML object>"
      ]
     },
     "metadata": {},
     "output_type": "display_data"
    },
    {
     "data": {
      "text/html": [
       "<br><br>"
      ],
      "text/plain": [
       "<IPython.core.display.HTML object>"
      ]
     },
     "metadata": {},
     "output_type": "display_data"
    },
    {
     "data": {
      "text/html": [
       "<div style='display: flex; width: 400px; flex-wrap: wrap'><span style=\"background-color: rgba(9, 221, 161,  0.999889612197876); padding: 1px 5px; border: solid 3px ; border-color: rgba(9, 221, 161,  1); #EFEFEF\">Thankyou</span> </div>"
      ],
      "text/plain": [
       "<IPython.core.display.HTML object>"
      ]
     },
     "metadata": {},
     "output_type": "display_data"
    },
    {
     "data": {
      "text/html": [
       "<br><br>"
      ],
      "text/plain": [
       "<IPython.core.display.HTML object>"
      ]
     },
     "metadata": {},
     "output_type": "display_data"
    },
    {
     "name": "stdout",
     "output_type": "stream",
     "text": [
      "\n",
      "\n",
      "negative predicted reviews:\n",
      "\n",
      "\n",
      "\n",
      "\n",
      "10 most important reviews for negative predicted label - concept1:\n",
      "\n",
      "\n"
     ]
    },
    {
     "data": {
      "text/html": [
       "<div style='display: flex; width: 400px; flex-wrap: wrap'><span style=\"background-color: rgba(221, 9, 34,  0.6733782887458801); padding: 1px 5px; border: solid 3px ; border-color: rgba(221, 9, 34,  1); #EFEFEF\">The dialogue</span> <span style=\"background-color: rgba(221, 9, 34,  0.7218392491340637); padding: 1px 5px; border: solid 3px ; border-color: rgba(221, 9, 34,  1); #EFEFEF\">is</span> <span style=\"background-color: rgba(221, 9, 34,  0.3238433003425598); padding: 1px 5px; border: solid 3px ; border-color: rgba(221, 9, 34,  1); #EFEFEF\">cliché</span> <span style=\"background-color: rgba(221, 9, 34,  0.3631473779678345); padding: 1px 5px; border: solid 3px ; border-color: rgba(221, 9, 34,  1); #EFEFEF\">the characters</span> <span style=\"background-color: rgba(221, 9, 34,  0.3544306755065918); padding: 1px 5px; border: solid 3px ; border-color: rgba(221, 9, 34,  1); #EFEFEF\">are</span> <span style=\"background-color: rgba(221, 9, 34,  0.5514223575592041); padding: 1px 5px; border: solid 3px ; border-color: rgba(221, 9, 34,  1); #EFEFEF\">two-dimensional</span> <span style=\"background-color: rgba(221, 9, 34,  0.6002990007400513); padding: 1px 5px; border: solid 3px ; border-color: rgba(221, 9, 34,  1); #EFEFEF\">the writing</span> <span style=\"background-color: rgba(221, 9, 34,  0.4463508129119873); padding: 1px 5px; border: solid 3px ; border-color: rgba(221, 9, 34,  1); #EFEFEF\">is</span> <span style=\"background-color: rgba(221, 9, 34,  0.36776596307754517); padding: 1px 5px; border: solid 3px ; border-color: rgba(221, 9, 34,  1); #EFEFEF\">ho-hum</span> <span style=\"background-color: rgba(221, 9, 34,  0.4623870849609375); padding: 1px 5px; border: solid 3px ; border-color: rgba(221, 9, 34,  1); #EFEFEF\">what little story</span> <span style=\"background-color: rgba(221, 9, 34,  0.36794334650039673); padding: 1px 5px; border: solid 3px ; border-color: rgba(221, 9, 34,  1); #EFEFEF\">there</span> <span style=\"background-color: rgba(221, 9, 34,  0.4045296013355255); padding: 1px 5px; border: solid 3px ; border-color: rgba(221, 9, 34,  1); #EFEFEF\">is</span> <span style=\"background-color: rgba(221, 9, 34,  0.4045296013355255); padding: 1px 5px; border: solid 3px ; border-color: rgba(221, 9, 34,  1); #EFEFEF\">is</span> <span style=\"background-color: rgba(221, 9, 34,  0.5091842412948608); padding: 1px 5px; border: solid 3px ; border-color: rgba(221, 9, 34,  1); #EFEFEF\">coherent nor remotely interesting</span> </div>"
      ],
      "text/plain": [
       "<IPython.core.display.HTML object>"
      ]
     },
     "metadata": {},
     "output_type": "display_data"
    },
    {
     "data": {
      "text/html": [
       "<br><br>"
      ],
      "text/plain": [
       "<IPython.core.display.HTML object>"
      ]
     },
     "metadata": {},
     "output_type": "display_data"
    },
    {
     "data": {
      "text/html": [
       "<div style='display: flex; width: 400px; flex-wrap: wrap'><span style=\"background-color: rgba(221, 9, 34,  0.3063073456287384); padding: 1px 5px; border: solid 3px ; border-color: rgba(221, 9, 34,  1); #EFEFEF\">It</span> <span style=\"background-color: rgba(221, 9, 34,  0.4359298050403595); padding: 1px 5px; border: solid 3px ; border-color: rgba(221, 9, 34,  1); #EFEFEF\">is</span> <span style=\"background-color: rgba(221, 9, 34,  0.7994651198387146); padding: 1px 5px; border: solid 3px ; border-color: rgba(221, 9, 34,  1); #EFEFEF\">totally</span> <span style=\"background-color: rgba(221, 9, 34,  0.9956093430519104); padding: 1px 5px; border: solid 3px ; border-color: rgba(221, 9, 34,  1); #EFEFEF\">mind-numbingly boring</span> <span style=\"background-color: rgba(221, 9, 34,  0.23572924733161926); padding: 1px 5px; border: solid 3px ; border-color: rgba(221, 9, 34,  1); #EFEFEF\">only sparingly funny</span> </div>"
      ],
      "text/plain": [
       "<IPython.core.display.HTML object>"
      ]
     },
     "metadata": {},
     "output_type": "display_data"
    },
    {
     "data": {
      "text/html": [
       "<br><br>"
      ],
      "text/plain": [
       "<IPython.core.display.HTML object>"
      ]
     },
     "metadata": {},
     "output_type": "display_data"
    },
    {
     "data": {
      "text/html": [
       "<div style='display: flex; width: 400px; flex-wrap: wrap'><span style=\"background-color: rgba(221, 9, 34,  0.5276873707771301); padding: 1px 5px; border: solid 3px ; border-color: rgba(221, 9, 34,  1); #EFEFEF\">Simply put</span> <span style=\"background-color: rgba(221, 9, 34,  0.3688042461872101); padding: 1px 5px; border: solid 3px ; border-color: rgba(221, 9, 34,  1); #EFEFEF\">it</span> <span style=\"background-color: rgba(221, 9, 34,  0.6873867511749268); padding: 1px 5px; border: solid 3px ; border-color: rgba(221, 9, 34,  1); #EFEFEF\">was</span> <span style=\"background-color: rgba(221, 9, 34,  0.9147889614105225); padding: 1px 5px; border: solid 3px ; border-color: rgba(221, 9, 34,  1); #EFEFEF\">smut-filled</span> <span style=\"background-color: rgba(221, 9, 34,  0.238866925239563); padding: 1px 5px; border: solid 3px ; border-color: rgba(221, 9, 34,  1); #EFEFEF\">simply</span> <span style=\"background-color: rgba(233,30,99,0);  padding: 1px 5px; border: solid 3px ; border-color:  rgba(233,30,99,0); #EFEFEF\">funny</span> <span style=\"background-color: rgba(233,30,99,0);  padding: 1px 5px; border: solid 3px ; border-color:  rgba(233,30,99,0); #EFEFEF\">with</span> <span style=\"background-color: rgba(221, 9, 34,  0.9995726943016052); padding: 1px 5px; border: solid 3px ; border-color: rgba(221, 9, 34,  1); #EFEFEF\">barely any plot</span> </div>"
      ],
      "text/plain": [
       "<IPython.core.display.HTML object>"
      ]
     },
     "metadata": {},
     "output_type": "display_data"
    },
    {
     "data": {
      "text/html": [
       "<br><br>"
      ],
      "text/plain": [
       "<IPython.core.display.HTML object>"
      ]
     },
     "metadata": {},
     "output_type": "display_data"
    },
    {
     "data": {
      "text/html": [
       "<div style='display: flex; width: 400px; flex-wrap: wrap'><span style=\"background-color: rgba(233,30,99,0);  padding: 1px 5px; border: solid 3px ; border-color:  rgba(233,30,99,0); #EFEFEF\">From</span> <span style=\"background-color: rgba(233,30,99,0);  padding: 1px 5px; border: solid 3px ; border-color:  rgba(233,30,99,0); #EFEFEF\">the blatant disregard</span> <span style=\"background-color: rgba(233,30,99,0);  padding: 1px 5px; border: solid 3px ; border-color:  rgba(233,30,99,0); #EFEFEF\">of</span> <span style=\"background-color: rgba(233,30,99,0);  padding: 1px 5px; border: solid 3px ; border-color:  rgba(233,30,99,0); #EFEFEF\">the source material</span> <span style=\"background-color: rgba(233,30,99,0);  padding: 1px 5px; border: solid 3px ; border-color:  rgba(233,30,99,0); #EFEFEF\">sure</span> <span style=\"background-color: rgba(233,30,99,0);  padding: 1px 5px; border: solid 3px ; border-color:  rgba(233,30,99,0); #EFEFEF\">to infuriate</span> <span style=\"background-color: rgba(233,30,99,0);  padding: 1px 5px; border: solid 3px ; border-color:  rgba(233,30,99,0); #EFEFEF\">anyone</span> <span style=\"background-color: rgba(221, 9, 34,  0.22379398345947266); padding: 1px 5px; border: solid 3px ; border-color: rgba(221, 9, 34,  1); #EFEFEF\">remotely familiar</span> <span style=\"background-color: rgba(233,30,99,0);  padding: 1px 5px; border: solid 3px ; border-color:  rgba(233,30,99,0); #EFEFEF\">with</span> <span style=\"background-color: rgba(233,30,99,0);  padding: 1px 5px; border: solid 3px ; border-color:  rgba(233,30,99,0); #EFEFEF\">mythology</span> <span style=\"background-color: rgba(233,30,99,0);  padding: 1px 5px; border: solid 3px ; border-color:  rgba(233,30,99,0); #EFEFEF\">to</span> <span style=\"background-color: rgba(221, 9, 34,  0.3991418182849884); padding: 1px 5px; border: solid 3px ; border-color: rgba(221, 9, 34,  1); #EFEFEF\">the predictably insufficient production value</span> <span style=\"background-color: rgba(221, 9, 34,  0.4533176124095917); padding: 1px 5px; border: solid 3px ; border-color: rgba(221, 9, 34,  1); #EFEFEF\">this entire mini-series</span> <span style=\"background-color: rgba(233,30,99,0);  padding: 1px 5px; border: solid 3px ; border-color:  rgba(233,30,99,0); #EFEFEF\">is</span> <span style=\"background-color: rgba(221, 9, 34,  0.6059006452560425); padding: 1px 5px; border: solid 3px ; border-color: rgba(221, 9, 34,  1); #EFEFEF\">a train wreck</span> </div>"
      ],
      "text/plain": [
       "<IPython.core.display.HTML object>"
      ]
     },
     "metadata": {},
     "output_type": "display_data"
    },
    {
     "data": {
      "text/html": [
       "<br><br>"
      ],
      "text/plain": [
       "<IPython.core.display.HTML object>"
      ]
     },
     "metadata": {},
     "output_type": "display_data"
    },
    {
     "data": {
      "text/html": [
       "<div style='display: flex; width: 400px; flex-wrap: wrap'><span style=\"background-color: rgba(221, 9, 34,  0.34448665380477905); padding: 1px 5px; border: solid 3px ; border-color: rgba(221, 9, 34,  1); #EFEFEF\">The fact</span> <span style=\"background-color: rgba(221, 9, 34,  0.2737092971801758); padding: 1px 5px; border: solid 3px ; border-color: rgba(221, 9, 34,  1); #EFEFEF\">that</span> <span style=\"background-color: rgba(221, 9, 34,  0.2110908031463623); padding: 1px 5px; border: solid 3px ; border-color: rgba(221, 9, 34,  1); #EFEFEF\">the interaction</span> <span style=\"background-color: rgba(221, 9, 34,  0.2416711002588272); padding: 1px 5px; border: solid 3px ; border-color: rgba(221, 9, 34,  1); #EFEFEF\">between</span> <span style=\"background-color: rgba(221, 9, 34,  0.2477441430091858); padding: 1px 5px; border: solid 3px ; border-color: rgba(221, 9, 34,  1); #EFEFEF\">characters</span> <span style=\"background-color: rgba(221, 9, 34,  0.2572422921657562); padding: 1px 5px; border: solid 3px ; border-color: rgba(221, 9, 34,  1); #EFEFEF\">relationship behavior</span> <span style=\"background-color: rgba(221, 9, 34,  0.22587157785892487); padding: 1px 5px; border: solid 3px ; border-color: rgba(221, 9, 34,  1); #EFEFEF\">were</span> <span style=\"background-color: rgba(221, 9, 34,  0.23957358300685883); padding: 1px 5px; border: solid 3px ; border-color: rgba(221, 9, 34,  1); #EFEFEF\">so far fetched</span> <span style=\"background-color: rgba(221, 9, 34,  0.24713082611560822); padding: 1px 5px; border: solid 3px ; border-color: rgba(221, 9, 34,  1); #EFEFEF\">added</span> <span style=\"background-color: rgba(221, 9, 34,  0.31087201833724976); padding: 1px 5px; border: solid 3px ; border-color: rgba(221, 9, 34,  1); #EFEFEF\">by</span> <span style=\"background-color: rgba(221, 9, 34,  0.2407269924879074); padding: 1px 5px; border: solid 3px ; border-color: rgba(221, 9, 34,  1); #EFEFEF\">poor direction</span> <span style=\"background-color: rgba(221, 9, 34,  0.2909008264541626); padding: 1px 5px; border: solid 3px ; border-color: rgba(221, 9, 34,  1); #EFEFEF\">horrible story</span> <span style=\"background-color: rgba(221, 9, 34,  0.3116067945957184); padding: 1px 5px; border: solid 3px ; border-color: rgba(221, 9, 34,  1); #EFEFEF\">make</span> <span style=\"background-color: rgba(221, 9, 34,  0.2958453297615051); padding: 1px 5px; border: solid 3px ; border-color: rgba(221, 9, 34,  1); #EFEFEF\">this movie</span> <span style=\"background-color: rgba(221, 9, 34,  0.9921416640281677); padding: 1px 5px; border: solid 3px ; border-color: rgba(221, 9, 34,  1); #EFEFEF\">nothing more</span> <span style=\"background-color: rgba(221, 9, 34,  0.26141980290412903); padding: 1px 5px; border: solid 3px ; border-color: rgba(221, 9, 34,  1); #EFEFEF\">than</span> <span style=\"background-color: rgba(221, 9, 34,  0.6890084147453308); padding: 1px 5px; border: solid 3px ; border-color: rgba(221, 9, 34,  1); #EFEFEF\">a low-budget disaster</span> </div>"
      ],
      "text/plain": [
       "<IPython.core.display.HTML object>"
      ]
     },
     "metadata": {},
     "output_type": "display_data"
    },
    {
     "data": {
      "text/html": [
       "<br><br>"
      ],
      "text/plain": [
       "<IPython.core.display.HTML object>"
      ]
     },
     "metadata": {},
     "output_type": "display_data"
    },
    {
     "data": {
      "text/html": [
       "<div style='display: flex; width: 400px; flex-wrap: wrap'><span style=\"background-color: rgba(221, 9, 34,  0.49076011776924133); padding: 1px 5px; border: solid 3px ; border-color: rgba(221, 9, 34,  1); #EFEFEF\">The aliens</span> <span style=\"background-color: rgba(221, 9, 34,  0.30541226267814636); padding: 1px 5px; border: solid 3px ; border-color: rgba(221, 9, 34,  1); #EFEFEF\">are</span> <span style=\"background-color: rgba(221, 9, 34,  0.4822074770927429); padding: 1px 5px; border: solid 3px ; border-color: rgba(221, 9, 34,  1); #EFEFEF\">boring</span> <span style=\"background-color: rgba(221, 9, 34,  0.36098554730415344); padding: 1px 5px; border: solid 3px ; border-color: rgba(221, 9, 34,  1); #EFEFEF\">the uniformly dull lighting</span> <span style=\"background-color: rgba(221, 9, 34,  0.6616566181182861); padding: 1px 5px; border: solid 3px ; border-color: rgba(221, 9, 34,  1); #EFEFEF\">saps</span> <span style=\"background-color: rgba(221, 9, 34,  0.5697094798088074); padding: 1px 5px; border: solid 3px ; border-color: rgba(221, 9, 34,  1); #EFEFEF\">your interest</span> <span style=\"background-color: rgba(221, 9, 34,  0.7382909655570984); padding: 1px 5px; border: solid 3px ; border-color: rgba(221, 9, 34,  1); #EFEFEF\">the plot</span> <span style=\"background-color: rgba(221, 9, 34,  0.22291302680969238); padding: 1px 5px; border: solid 3px ; border-color: rgba(221, 9, 34,  1); #EFEFEF\">is</span> <span style=\"background-color: rgba(221, 9, 34,  0.7416571974754333); padding: 1px 5px; border: solid 3px ; border-color: rgba(221, 9, 34,  1); #EFEFEF\">absolutely predictable</span> </div>"
      ],
      "text/plain": [
       "<IPython.core.display.HTML object>"
      ]
     },
     "metadata": {},
     "output_type": "display_data"
    },
    {
     "data": {
      "text/html": [
       "<br><br>"
      ],
      "text/plain": [
       "<IPython.core.display.HTML object>"
      ]
     },
     "metadata": {},
     "output_type": "display_data"
    },
    {
     "data": {
      "text/html": [
       "<div style='display: flex; width: 400px; flex-wrap: wrap'><span style=\"background-color: rgba(233,30,99,0);  padding: 1px 5px; border: solid 3px ; border-color:  rgba(233,30,99,0); #EFEFEF\">The characters</span> <span style=\"background-color: rgba(233,30,99,0);  padding: 1px 5px; border: solid 3px ; border-color:  rgba(233,30,99,0); #EFEFEF\">in</span> <span style=\"background-color: rgba(233,30,99,0);  padding: 1px 5px; border: solid 3px ; border-color:  rgba(233,30,99,0); #EFEFEF\">this</span> <span style=\"background-color: rgba(233,30,99,0);  padding: 1px 5px; border: solid 3px ; border-color:  rgba(233,30,99,0); #EFEFEF\">are</span> <span style=\"background-color: rgba(233,30,99,0);  padding: 1px 5px; border: solid 3px ; border-color:  rgba(233,30,99,0); #EFEFEF\">very hard</span> <span style=\"background-color: rgba(233,30,99,0);  padding: 1px 5px; border: solid 3px ; border-color:  rgba(233,30,99,0); #EFEFEF\">to understand</span> <span style=\"background-color: rgba(233,30,99,0);  padding: 1px 5px; border: solid 3px ; border-color:  rgba(233,30,99,0); #EFEFEF\">good</span> <span style=\"background-color: rgba(233,30,99,0);  padding: 1px 5px; border: solid 3px ; border-color:  rgba(233,30,99,0); #EFEFEF\">very very</span> <span style=\"background-color: rgba(221, 9, 34,  0.9992738366127014); padding: 1px 5px; border: solid 3px ; border-color: rgba(221, 9, 34,  1); #EFEFEF\">very bored</span> </div>"
      ],
      "text/plain": [
       "<IPython.core.display.HTML object>"
      ]
     },
     "metadata": {},
     "output_type": "display_data"
    },
    {
     "data": {
      "text/html": [
       "<br><br>"
      ],
      "text/plain": [
       "<IPython.core.display.HTML object>"
      ]
     },
     "metadata": {},
     "output_type": "display_data"
    },
    {
     "data": {
      "text/html": [
       "<div style='display: flex; width: 400px; flex-wrap: wrap'><span style=\"background-color: rgba(221, 9, 34,  0.47817152738571167); padding: 1px 5px; border: solid 3px ; border-color: rgba(221, 9, 34,  1); #EFEFEF\">Overall</span> <span style=\"background-color: rgba(233,30,99,0);  padding: 1px 5px; border: solid 3px ; border-color:  rgba(233,30,99,0); #EFEFEF\">this movie</span> <span style=\"background-color: rgba(221, 9, 34,  0.3394944369792938); padding: 1px 5px; border: solid 3px ; border-color: rgba(221, 9, 34,  1); #EFEFEF\">was</span> <span style=\"background-color: rgba(221, 9, 34,  0.49913597106933594); padding: 1px 5px; border: solid 3px ; border-color: rgba(221, 9, 34,  1); #EFEFEF\">so bad</span> <span style=\"background-color: rgba(221, 9, 34,  0.37911200523376465); padding: 1px 5px; border: solid 3px ; border-color: rgba(221, 9, 34,  1); #EFEFEF\">predictable, and unoriginal</span> <span style=\"background-color: rgba(221, 9, 34,  0.22531956434249878); padding: 1px 5px; border: solid 3px ; border-color: rgba(221, 9, 34,  1); #EFEFEF\">I</span> <span style=\"background-color: rgba(221, 9, 34,  0.28986793756484985); padding: 1px 5px; border: solid 3px ; border-color: rgba(221, 9, 34,  1); #EFEFEF\">couldn't get</span> <span style=\"background-color: rgba(221, 9, 34,  0.2355457991361618); padding: 1px 5px; border: solid 3px ; border-color: rgba(221, 9, 34,  1); #EFEFEF\">through</span> <span style=\"background-color: rgba(221, 9, 34,  0.26394739747047424); padding: 1px 5px; border: solid 3px ; border-color: rgba(221, 9, 34,  1); #EFEFEF\">20 minutes</span> <span style=\"background-color: rgba(221, 9, 34,  0.2097993642091751); padding: 1px 5px; border: solid 3px ; border-color: rgba(221, 9, 34,  1); #EFEFEF\">of</span> <span style=\"background-color: rgba(221, 9, 34,  0.22581219673156738); padding: 1px 5px; border: solid 3px ; border-color: rgba(221, 9, 34,  1); #EFEFEF\">it</span> <span style=\"background-color: rgba(233,30,99,0);  padding: 1px 5px; border: solid 3px ; border-color:  rgba(233,30,99,0); #EFEFEF\">before</span> <span style=\"background-color: rgba(221, 9, 34,  0.2647227942943573); padding: 1px 5px; border: solid 3px ; border-color: rgba(221, 9, 34,  1); #EFEFEF\">I</span> <span style=\"background-color: rgba(221, 9, 34,  0.2956262528896332); padding: 1px 5px; border: solid 3px ; border-color: rgba(221, 9, 34,  1); #EFEFEF\">turned</span> <span style=\"background-color: rgba(221, 9, 34,  0.20067448914051056); padding: 1px 5px; border: solid 3px ; border-color: rgba(221, 9, 34,  1); #EFEFEF\">it</span> <span style=\"background-color: rgba(221, 9, 34,  0.2851797342300415); padding: 1px 5px; border: solid 3px ; border-color: rgba(221, 9, 34,  1); #EFEFEF\">off</span> </div>"
      ],
      "text/plain": [
       "<IPython.core.display.HTML object>"
      ]
     },
     "metadata": {},
     "output_type": "display_data"
    },
    {
     "data": {
      "text/html": [
       "<br><br>"
      ],
      "text/plain": [
       "<IPython.core.display.HTML object>"
      ]
     },
     "metadata": {},
     "output_type": "display_data"
    },
    {
     "data": {
      "text/html": [
       "<div style='display: flex; width: 400px; flex-wrap: wrap'><span style=\"background-color: rgba(221, 9, 34,  0.3050083816051483); padding: 1px 5px; border: solid 3px ; border-color: rgba(221, 9, 34,  1); #EFEFEF\">This</span> <span style=\"background-color: rgba(221, 9, 34,  0.37522339820861816); padding: 1px 5px; border: solid 3px ; border-color: rgba(221, 9, 34,  1); #EFEFEF\">is</span> <span style=\"background-color: rgba(221, 9, 34,  0.37530240416526794); padding: 1px 5px; border: solid 3px ; border-color: rgba(221, 9, 34,  1); #EFEFEF\">one</span> <span style=\"background-color: rgba(221, 9, 34,  0.31413760781288147); padding: 1px 5px; border: solid 3px ; border-color: rgba(221, 9, 34,  1); #EFEFEF\">of</span> <span style=\"background-color: rgba(221, 9, 34,  0.24250811338424683); padding: 1px 5px; border: solid 3px ; border-color: rgba(221, 9, 34,  1); #EFEFEF\">the worst movies</span> <span style=\"background-color: rgba(221, 9, 34,  0.29935041069984436); padding: 1px 5px; border: solid 3px ; border-color: rgba(221, 9, 34,  1); #EFEFEF\">i</span> <span style=\"background-color: rgba(221, 9, 34,  0.21565820276737213); padding: 1px 5px; border: solid 3px ; border-color: rgba(221, 9, 34,  1); #EFEFEF\">have ever seen</span> <span style=\"background-color: rgba(221, 9, 34,  0.30300262570381165); padding: 1px 5px; border: solid 3px ; border-color: rgba(221, 9, 34,  1); #EFEFEF\">it</span> <span style=\"background-color: rgba(221, 9, 34,  0.4185553789138794); padding: 1px 5px; border: solid 3px ; border-color: rgba(221, 9, 34,  1); #EFEFEF\">'s</span> <span style=\"background-color: rgba(221, 9, 34,  0.557838499546051); padding: 1px 5px; border: solid 3px ; border-color: rgba(221, 9, 34,  1); #EFEFEF\">EXTREMELY boring</span> <span style=\"background-color: rgba(221, 9, 34,  0.3955666422843933); padding: 1px 5px; border: solid 3px ; border-color: rgba(221, 9, 34,  1); #EFEFEF\">with</span> <span style=\"background-color: rgba(221, 9, 34,  0.3269139528274536); padding: 1px 5px; border: solid 3px ; border-color: rgba(221, 9, 34,  1); #EFEFEF\">lots</span> <span style=\"background-color: rgba(221, 9, 34,  0.3100597858428955); padding: 1px 5px; border: solid 3px ; border-color: rgba(221, 9, 34,  1); #EFEFEF\">of</span> <span style=\"background-color: rgba(221, 9, 34,  0.22772091627120972); padding: 1px 5px; border: solid 3px ; border-color: rgba(221, 9, 34,  1); #EFEFEF\">boring dialog</span> <span style=\"background-color: rgba(221, 9, 34,  0.32810670137405396); padding: 1px 5px; border: solid 3px ; border-color: rgba(221, 9, 34,  1); #EFEFEF\">has</span> <span style=\"background-color: rgba(221, 9, 34,  0.502933144569397); padding: 1px 5px; border: solid 3px ; border-color: rgba(221, 9, 34,  1); #EFEFEF\">some VERY annoying characters</span> <span style=\"background-color: rgba(221, 9, 34,  0.41601184010505676); padding: 1px 5px; border: solid 3px ; border-color: rgba(221, 9, 34,  1); #EFEFEF\">a laughable looking creature</span> </div>"
      ],
      "text/plain": [
       "<IPython.core.display.HTML object>"
      ]
     },
     "metadata": {},
     "output_type": "display_data"
    },
    {
     "data": {
      "text/html": [
       "<br><br>"
      ],
      "text/plain": [
       "<IPython.core.display.HTML object>"
      ]
     },
     "metadata": {},
     "output_type": "display_data"
    },
    {
     "data": {
      "text/html": [
       "<div style='display: flex; width: 400px; flex-wrap: wrap'><span style=\"background-color: rgba(233,30,99,0);  padding: 1px 5px; border: solid 3px ; border-color:  rgba(233,30,99,0); #EFEFEF\">This film</span> <span style=\"background-color: rgba(233,30,99,0);  padding: 1px 5px; border: solid 3px ; border-color:  rgba(233,30,99,0); #EFEFEF\">had</span> <span style=\"background-color: rgba(233,30,99,0);  padding: 1px 5px; border: solid 3px ; border-color:  rgba(233,30,99,0); #EFEFEF\">no suspense</span> <span style=\"background-color: rgba(221, 9, 34,  0.9990760087966919); padding: 1px 5px; border: solid 3px ; border-color: rgba(221, 9, 34,  1); #EFEFEF\">I</span> <span style=\"background-color: rgba(221, 9, 34,  0.9192563891410828); padding: 1px 5px; border: solid 3px ; border-color: rgba(221, 9, 34,  1); #EFEFEF\">was bored</span> <span style=\"background-color: rgba(233,30,99,0);  padding: 1px 5px; border: solid 3px ; border-color:  rgba(233,30,99,0); #EFEFEF\">from</span> <span style=\"background-color: rgba(233,30,99,0);  padding: 1px 5px; border: solid 3px ; border-color:  rgba(233,30,99,0); #EFEFEF\">start</span> <span style=\"background-color: rgba(233,30,99,0);  padding: 1px 5px; border: solid 3px ; border-color:  rgba(233,30,99,0); #EFEFEF\">to end</span> </div>"
      ],
      "text/plain": [
       "<IPython.core.display.HTML object>"
      ]
     },
     "metadata": {},
     "output_type": "display_data"
    },
    {
     "data": {
      "text/html": [
       "<br><br>"
      ],
      "text/plain": [
       "<IPython.core.display.HTML object>"
      ]
     },
     "metadata": {},
     "output_type": "display_data"
    },
    {
     "name": "stdout",
     "output_type": "stream",
     "text": [
      "\n",
      "\n",
      "10 most important reviews for negative predicted label - concept2:\n",
      "\n",
      "\n"
     ]
    },
    {
     "data": {
      "text/html": [
       "<div style='display: flex; width: 400px; flex-wrap: wrap'><span style=\"background-color: rgba(221, 9, 140, 0.9996024370193481); padding: 1px 5px; border: solid 3px ; border-color: rgba(221, 9, 140, 1); #EFEFEF\">It</span> <span style=\"background-color: rgba(221, 9, 140, 0.9996024370193481); padding: 1px 5px; border: solid 3px ; border-color: rgba(221, 9, 140, 1); #EFEFEF\">had</span> <span style=\"background-color: rgba(221, 9, 140, 0.9720470905303955); padding: 1px 5px; border: solid 3px ; border-color: rgba(221, 9, 140, 1); #EFEFEF\">some interesting twists and turns</span> <span style=\"background-color: rgba(221, 9, 140, 0.912582516670227); padding: 1px 5px; border: solid 3px ; border-color: rgba(221, 9, 140, 1); #EFEFEF\">some</span> <span style=\"background-color: rgba(221, 9, 140, 0.9996024370193481); padding: 1px 5px; border: solid 3px ; border-color: rgba(221, 9, 140, 1); #EFEFEF\">of</span> <span style=\"background-color: rgba(221, 9, 140, 0.9996024370193481); padding: 1px 5px; border: solid 3px ; border-color: rgba(221, 9, 140, 1); #EFEFEF\">them</span> <span style=\"background-color: rgba(221, 9, 140, 0.9838781356811523); padding: 1px 5px; border: solid 3px ; border-color: rgba(221, 9, 140, 1); #EFEFEF\">seemed</span> <span style=\"background-color: rgba(221, 9, 140, 0.9996024370193481); padding: 1px 5px; border: solid 3px ; border-color: rgba(221, 9, 140, 1); #EFEFEF\">kind of pointless</span> </div>"
      ],
      "text/plain": [
       "<IPython.core.display.HTML object>"
      ]
     },
     "metadata": {},
     "output_type": "display_data"
    },
    {
     "data": {
      "text/html": [
       "<br><br>"
      ],
      "text/plain": [
       "<IPython.core.display.HTML object>"
      ]
     },
     "metadata": {},
     "output_type": "display_data"
    },
    {
     "data": {
      "text/html": [
       "<div style='display: flex; width: 400px; flex-wrap: wrap'><span style=\"background-color: rgba(221, 9, 140, 0.9283527135848999); padding: 1px 5px; border: solid 3px ; border-color: rgba(221, 9, 140, 1); #EFEFEF\">Although</span> <span style=\"background-color: rgba(221, 9, 140, 0.6432331800460815); padding: 1px 5px; border: solid 3px ; border-color: rgba(221, 9, 140, 1); #EFEFEF\">it</span> <span style=\"background-color: rgba(221, 9, 140, 0.4763512909412384); padding: 1px 5px; border: solid 3px ; border-color: rgba(221, 9, 140, 1); #EFEFEF\">had</span> <span style=\"background-color: rgba(221, 9, 140, 0.9988263249397278); padding: 1px 5px; border: solid 3px ; border-color: rgba(221, 9, 140, 1); #EFEFEF\">great actors/actresses</span> <span style=\"background-color: rgba(221, 9, 140, 0.40835410356521606); padding: 1px 5px; border: solid 3px ; border-color: rgba(221, 9, 140, 1); #EFEFEF\">there</span> <span style=\"background-color: rgba(221, 9, 140, 0.43647828698158264); padding: 1px 5px; border: solid 3px ; border-color: rgba(221, 9, 140, 1); #EFEFEF\">were</span> <span style=\"background-color: rgba(221, 9, 140, 0.9455965757369995); padding: 1px 5px; border: solid 3px ; border-color: rgba(221, 9, 140, 1); #EFEFEF\">just</span> <span style=\"background-color: rgba(221, 9, 140, 0.9994189143180847); padding: 1px 5px; border: solid 3px ; border-color: rgba(221, 9, 140, 1); #EFEFEF\">too many subplots</span> <span style=\"background-color: rgba(233,30,99,0);  padding: 1px 5px; border: solid 3px ; border-color:  rgba(233,30,99,0); #EFEFEF\">going</span> <span style=\"background-color: rgba(221, 9, 140, 0.41980791091918945); padding: 1px 5px; border: solid 3px ; border-color: rgba(221, 9, 140, 1); #EFEFEF\">on</span> <span style=\"background-color: rgba(233,30,99,0);  padding: 1px 5px; border: solid 3px ; border-color:  rgba(233,30,99,0); #EFEFEF\">to retain</span> <span style=\"background-color: rgba(221, 9, 140, 0.5091716647148132); padding: 1px 5px; border: solid 3px ; border-color: rgba(221, 9, 140, 1); #EFEFEF\">interest</span> </div>"
      ],
      "text/plain": [
       "<IPython.core.display.HTML object>"
      ]
     },
     "metadata": {},
     "output_type": "display_data"
    },
    {
     "data": {
      "text/html": [
       "<br><br>"
      ],
      "text/plain": [
       "<IPython.core.display.HTML object>"
      ]
     },
     "metadata": {},
     "output_type": "display_data"
    },
    {
     "data": {
      "text/html": [
       "<div style='display: flex; width: 400px; flex-wrap: wrap'><span style=\"background-color: rgba(221, 9, 140, 0.45314037799835205); padding: 1px 5px; border: solid 3px ; border-color: rgba(221, 9, 140, 1); #EFEFEF\">Jones & I</span> <span style=\"background-color: rgba(233,30,99,0);  padding: 1px 5px; border: solid 3px ; border-color:  rgba(233,30,99,0); #EFEFEF\">sort of liked</span> <span style=\"background-color: rgba(233,30,99,0);  padding: 1px 5px; border: solid 3px ; border-color:  rgba(233,30,99,0); #EFEFEF\">it</span> <span style=\"background-color: rgba(221, 9, 140, 0.3878098726272583); padding: 1px 5px; border: solid 3px ; border-color: rgba(221, 9, 140, 1); #EFEFEF\">in</span> <span style=\"background-color: rgba(221, 9, 140, 0.47617435455322266); padding: 1px 5px; border: solid 3px ; border-color: rgba(221, 9, 140, 1); #EFEFEF\">the end</span> <span style=\"background-color: rgba(221, 9, 140, 0.25821247696876526); padding: 1px 5px; border: solid 3px ; border-color: rgba(221, 9, 140, 1); #EFEFEF\">there</span> <span style=\"background-color: rgba(221, 9, 140, 0.4397808313369751); padding: 1px 5px; border: solid 3px ; border-color: rgba(221, 9, 140, 1); #EFEFEF\">were</span> <span style=\"background-color: rgba(221, 9, 140, 0.9995807409286499); padding: 1px 5px; border: solid 3px ; border-color: rgba(221, 9, 140, 1); #EFEFEF\">too many unsatisfying elements</span> <span style=\"background-color: rgba(221, 9, 140, 0.8327867984771729); padding: 1px 5px; border: solid 3px ; border-color: rgba(221, 9, 140, 1); #EFEFEF\">for</span> <span style=\"background-color: rgba(221, 9, 140, 0.7121967077255249); padding: 1px 5px; border: solid 3px ; border-color: rgba(221, 9, 140, 1); #EFEFEF\">me</span> <span style=\"background-color: rgba(221, 9, 140, 0.8491193652153015); padding: 1px 5px; border: solid 3px ; border-color: rgba(221, 9, 140, 1); #EFEFEF\">to totally enjoy</span> <span style=\"background-color: rgba(221, 9, 140, 0.3569791316986084); padding: 1px 5px; border: solid 3px ; border-color: rgba(221, 9, 140, 1); #EFEFEF\">it</span> </div>"
      ],
      "text/plain": [
       "<IPython.core.display.HTML object>"
      ]
     },
     "metadata": {},
     "output_type": "display_data"
    },
    {
     "data": {
      "text/html": [
       "<br><br>"
      ],
      "text/plain": [
       "<IPython.core.display.HTML object>"
      ]
     },
     "metadata": {},
     "output_type": "display_data"
    },
    {
     "data": {
      "text/html": [
       "<div style='display: flex; width: 400px; flex-wrap: wrap'><span style=\"background-color: rgba(233,30,99,0);  padding: 1px 5px; border: solid 3px ; border-color:  rgba(233,30,99,0); #EFEFEF\">If</span> <span style=\"background-color: rgba(233,30,99,0);  padding: 1px 5px; border: solid 3px ; border-color:  rgba(233,30,99,0); #EFEFEF\">he</span> <span style=\"background-color: rgba(233,30,99,0);  padding: 1px 5px; border: solid 3px ; border-color:  rgba(233,30,99,0); #EFEFEF\">gave</span> <span style=\"background-color: rgba(233,30,99,0);  padding: 1px 5px; border: solid 3px ; border-color:  rgba(233,30,99,0); #EFEFEF\">us</span> <span style=\"background-color: rgba(233,30,99,0);  padding: 1px 5px; border: solid 3px ; border-color:  rgba(233,30,99,0); #EFEFEF\">something</span> <span style=\"background-color: rgba(233,30,99,0);  padding: 1px 5px; border: solid 3px ; border-color:  rgba(233,30,99,0); #EFEFEF\">more accessible</span> <span style=\"background-color: rgba(233,30,99,0);  padding: 1px 5px; border: solid 3px ; border-color:  rgba(233,30,99,0); #EFEFEF\">at least had</span> <span style=\"background-color: rgba(233,30,99,0);  padding: 1px 5px; border: solid 3px ; border-color:  rgba(233,30,99,0); #EFEFEF\">better explanations</span> <span style=\"background-color: rgba(233,30,99,0);  padding: 1px 5px; border: solid 3px ; border-color:  rgba(233,30,99,0); #EFEFEF\">for</span> <span style=\"background-color: rgba(233,30,99,0);  padding: 1px 5px; border: solid 3px ; border-color:  rgba(233,30,99,0); #EFEFEF\">the characters</span> <span style=\"background-color: rgba(221, 9, 140, 0.40641412138938904); padding: 1px 5px; border: solid 3px ; border-color: rgba(221, 9, 140, 1); #EFEFEF\">suddenly acting</span> <span style=\"background-color: rgba(221, 9, 140, 0.26317328214645386); padding: 1px 5px; border: solid 3px ; border-color: rgba(221, 9, 140, 1); #EFEFEF\">all weird</span> <span style=\"background-color: rgba(233,30,99,0);  padding: 1px 5px; border: solid 3px ; border-color:  rgba(233,30,99,0); #EFEFEF\">then</span> <span style=\"background-color: rgba(233,30,99,0);  padding: 1px 5px; border: solid 3px ; border-color:  rgba(233,30,99,0); #EFEFEF\">it</span> <span style=\"background-color: rgba(221, 9, 140, 0.9995773434638977); padding: 1px 5px; border: solid 3px ; border-color: rgba(221, 9, 140, 1); #EFEFEF\">would have been</span> <span style=\"background-color: rgba(233,30,99,0);  padding: 1px 5px; border: solid 3px ; border-color:  rgba(233,30,99,0); #EFEFEF\">a more enjoyable film</span> </div>"
      ],
      "text/plain": [
       "<IPython.core.display.HTML object>"
      ]
     },
     "metadata": {},
     "output_type": "display_data"
    },
    {
     "data": {
      "text/html": [
       "<br><br>"
      ],
      "text/plain": [
       "<IPython.core.display.HTML object>"
      ]
     },
     "metadata": {},
     "output_type": "display_data"
    },
    {
     "data": {
      "text/html": [
       "<div style='display: flex; width: 400px; flex-wrap: wrap'><span style=\"background-color: rgba(233,30,99,0);  padding: 1px 5px; border: solid 3px ; border-color:  rgba(233,30,99,0); #EFEFEF\">It</span> <span style=\"background-color: rgba(233,30,99,0);  padding: 1px 5px; border: solid 3px ; border-color:  rgba(233,30,99,0); #EFEFEF\">'s</span> <span style=\"background-color: rgba(221, 9, 140, 0.99917072057724); padding: 1px 5px; border: solid 3px ; border-color: rgba(221, 9, 140, 1); #EFEFEF\">watchable</span> <span style=\"background-color: rgba(233,30,99,0);  padding: 1px 5px; border: solid 3px ; border-color:  rgba(233,30,99,0); #EFEFEF\">even though</span> <span style=\"background-color: rgba(233,30,99,0);  padding: 1px 5px; border: solid 3px ; border-color:  rgba(233,30,99,0); #EFEFEF\">it</span> <span style=\"background-color: rgba(221, 9, 140, 0.9995748400688171); padding: 1px 5px; border: solid 3px ; border-color: rgba(221, 9, 140, 1); #EFEFEF\">doesn't leave</span> <span style=\"background-color: rgba(221, 9, 140, 0.9773964285850525); padding: 1px 5px; border: solid 3px ; border-color: rgba(221, 9, 140, 1); #EFEFEF\">a lasting impression</span> </div>"
      ],
      "text/plain": [
       "<IPython.core.display.HTML object>"
      ]
     },
     "metadata": {},
     "output_type": "display_data"
    },
    {
     "data": {
      "text/html": [
       "<br><br>"
      ],
      "text/plain": [
       "<IPython.core.display.HTML object>"
      ]
     },
     "metadata": {},
     "output_type": "display_data"
    },
    {
     "data": {
      "text/html": [
       "<div style='display: flex; width: 400px; flex-wrap: wrap'><span style=\"background-color: rgba(221, 9, 140, 0.9989641308784485); padding: 1px 5px; border: solid 3px ; border-color: rgba(221, 9, 140, 1); #EFEFEF\">See</span> <span style=\"background-color: rgba(221, 9, 140, 0.9995756149291992); padding: 1px 5px; border: solid 3px ; border-color: rgba(221, 9, 140, 1); #EFEFEF\">this movie</span> <span style=\"background-color: rgba(221, 9, 140, 0.9821974635124207); padding: 1px 5px; border: solid 3px ; border-color: rgba(221, 9, 140, 1); #EFEFEF\">if</span> <span style=\"background-color: rgba(221, 9, 140, 0.9995756149291992); padding: 1px 5px; border: solid 3px ; border-color: rgba(221, 9, 140, 1); #EFEFEF\">you</span> <span style=\"background-color: rgba(221, 9, 140, 0.9995756149291992); padding: 1px 5px; border: solid 3px ; border-color: rgba(221, 9, 140, 1); #EFEFEF\">want to see</span> <span style=\"background-color: rgba(221, 9, 140, 0.9995756149291992); padding: 1px 5px; border: solid 3px ; border-color: rgba(221, 9, 140, 1); #EFEFEF\">some impressive set designs</span> <span style=\"background-color: rgba(221, 9, 140, 0.9995756149291992); padding: 1px 5px; border: solid 3px ; border-color: rgba(221, 9, 140, 1); #EFEFEF\">if</span> <span style=\"background-color: rgba(221, 9, 140, 0.9995756149291992); padding: 1px 5px; border: solid 3px ; border-color: rgba(221, 9, 140, 1); #EFEFEF\">you</span> <span style=\"background-color: rgba(221, 9, 140, 0.9878960251808167); padding: 1px 5px; border: solid 3px ; border-color: rgba(221, 9, 140, 1); #EFEFEF\">want to see</span> <span style=\"background-color: rgba(221, 9, 140, 0.9995756149291992); padding: 1px 5px; border: solid 3px ; border-color: rgba(221, 9, 140, 1); #EFEFEF\">good acting</span> <span style=\"background-color: rgba(221, 9, 140, 0.9716828465461731); padding: 1px 5px; border: solid 3px ; border-color: rgba(221, 9, 140, 1); #EFEFEF\">a good film</span> </div>"
      ],
      "text/plain": [
       "<IPython.core.display.HTML object>"
      ]
     },
     "metadata": {},
     "output_type": "display_data"
    },
    {
     "data": {
      "text/html": [
       "<br><br>"
      ],
      "text/plain": [
       "<IPython.core.display.HTML object>"
      ]
     },
     "metadata": {},
     "output_type": "display_data"
    },
    {
     "data": {
      "text/html": [
       "<div style='display: flex; width: 400px; flex-wrap: wrap'><span style=\"background-color: rgba(221, 9, 140, 0.42769885063171387); padding: 1px 5px; border: solid 3px ; border-color: rgba(221, 9, 140, 1); #EFEFEF\">If</span> <span style=\"background-color: rgba(221, 9, 140, 0.741679847240448); padding: 1px 5px; border: solid 3px ; border-color: rgba(221, 9, 140, 1); #EFEFEF\">you</span> <span style=\"background-color: rgba(221, 9, 140, 0.6303555369377136); padding: 1px 5px; border: solid 3px ; border-color: rgba(221, 9, 140, 1); #EFEFEF\">can get</span> <span style=\"background-color: rgba(221, 9, 140, 0.890625); padding: 1px 5px; border: solid 3px ; border-color: rgba(221, 9, 140, 1); #EFEFEF\">past</span> <span style=\"background-color: rgba(221, 9, 140, 0.8858625292778015); padding: 1px 5px; border: solid 3px ; border-color: rgba(221, 9, 140, 1); #EFEFEF\">the first 2 minutes</span> <span style=\"background-color: rgba(221, 9, 140, 0.8017349243164062); padding: 1px 5px; border: solid 3px ; border-color: rgba(221, 9, 140, 1); #EFEFEF\">where</span> <span style=\"background-color: rgba(221, 9, 140, 0.7938007116317749); padding: 1px 5px; border: solid 3px ; border-color: rgba(221, 9, 140, 1); #EFEFEF\">Adam</span> <span style=\"background-color: rgba(221, 9, 140, 0.571111798286438); padding: 1px 5px; border: solid 3px ; border-color: rgba(221, 9, 140, 1); #EFEFEF\">'s friend Harley</span> <span style=\"background-color: rgba(221, 9, 140, 0.6086368560791016); padding: 1px 5px; border: solid 3px ; border-color: rgba(221, 9, 140, 1); #EFEFEF\">pops</span> <span style=\"background-color: rgba(221, 9, 140, 0.7357548475265503); padding: 1px 5px; border: solid 3px ; border-color: rgba(221, 9, 140, 1); #EFEFEF\">up</span> <span style=\"background-color: rgba(221, 9, 140, 0.8109269738197327); padding: 1px 5px; border: solid 3px ; border-color: rgba(221, 9, 140, 1); #EFEFEF\">from</span> <span style=\"background-color: rgba(221, 9, 140, 0.8080040216445923); padding: 1px 5px; border: solid 3px ; border-color: rgba(221, 9, 140, 1); #EFEFEF\">hiding</span> <span style=\"background-color: rgba(221, 9, 140, 0.7920296788215637); padding: 1px 5px; border: solid 3px ; border-color: rgba(221, 9, 140, 1); #EFEFEF\">in</span> <span style=\"background-color: rgba(221, 9, 140, 0.7005877494812012); padding: 1px 5px; border: solid 3px ; border-color: rgba(221, 9, 140, 1); #EFEFEF\">the back</span> <span style=\"background-color: rgba(221, 9, 140, 0.7562172412872314); padding: 1px 5px; border: solid 3px ; border-color: rgba(221, 9, 140, 1); #EFEFEF\">of</span> <span style=\"background-color: rgba(221, 9, 140, 0.802629292011261); padding: 1px 5px; border: solid 3px ; border-color: rgba(221, 9, 140, 1); #EFEFEF\">Adam</span> <span style=\"background-color: rgba(221, 9, 140, 0.5950039625167847); padding: 1px 5px; border: solid 3px ; border-color: rgba(221, 9, 140, 1); #EFEFEF\">'s car</span> <span style=\"background-color: rgba(221, 9, 140, 0.5097508430480957); padding: 1px 5px; border: solid 3px ; border-color: rgba(221, 9, 140, 1); #EFEFEF\">to try to scare</span> <span style=\"background-color: rgba(221, 9, 140, 0.7292068004608154); padding: 1px 5px; border: solid 3px ; border-color: rgba(221, 9, 140, 1); #EFEFEF\">him</span> <span style=\"background-color: rgba(221, 9, 140, 0.9607877731323242); padding: 1px 5px; border: solid 3px ; border-color: rgba(221, 9, 140, 1); #EFEFEF\">with</span> <span style=\"background-color: rgba(221, 9, 140, 0.9995548725128174); padding: 1px 5px; border: solid 3px ; border-color: rgba(221, 9, 140, 1); #EFEFEF\">no explanation</span> <span style=\"background-color: rgba(221, 9, 140, 0.734736979007721); padding: 1px 5px; border: solid 3px ; border-color: rgba(221, 9, 140, 1); #EFEFEF\">as</span> <span style=\"background-color: rgba(221, 9, 140, 0.8806615471839905); padding: 1px 5px; border: solid 3px ; border-color: rgba(221, 9, 140, 1); #EFEFEF\">to</span> <span style=\"background-color: rgba(221, 9, 140, 0.8015799522399902); padding: 1px 5px; border: solid 3px ; border-color: rgba(221, 9, 140, 1); #EFEFEF\">how</span> <span style=\"background-color: rgba(221, 9, 140, 0.6299151182174683); padding: 1px 5px; border: solid 3px ; border-color: rgba(221, 9, 140, 1); #EFEFEF\">Harley</span> <span style=\"background-color: rgba(221, 9, 140, 0.8050698637962341); padding: 1px 5px; border: solid 3px ; border-color: rgba(221, 9, 140, 1); #EFEFEF\">even</span> <span style=\"background-color: rgba(221, 9, 140, 0.8928818702697754); padding: 1px 5px; border: solid 3px ; border-color: rgba(221, 9, 140, 1); #EFEFEF\">got</span> <span style=\"background-color: rgba(221, 9, 140, 0.7964454293251038); padding: 1px 5px; border: solid 3px ; border-color: rgba(221, 9, 140, 1); #EFEFEF\">there</span> <span style=\"background-color: rgba(221, 9, 140, 0.6812751889228821); padding: 1px 5px; border: solid 3px ; border-color: rgba(221, 9, 140, 1); #EFEFEF\">how long</span> <span style=\"background-color: rgba(221, 9, 140, 0.44691962003707886); padding: 1px 5px; border: solid 3px ; border-color: rgba(221, 9, 140, 1); #EFEFEF\">ago</span> <span style=\"background-color: rgba(221, 9, 140, 0.5943315625190735); padding: 1px 5px; border: solid 3px ; border-color: rgba(221, 9, 140, 1); #EFEFEF\">how</span> <span style=\"background-color: rgba(221, 9, 140, 0.5508216619491577); padding: 1px 5px; border: solid 3px ; border-color: rgba(221, 9, 140, 1); #EFEFEF\">Adam</span> <span style=\"background-color: rgba(221, 9, 140, 0.9144778251647949); padding: 1px 5px; border: solid 3px ; border-color: rgba(221, 9, 140, 1); #EFEFEF\">even</span> <span style=\"background-color: rgba(221, 9, 140, 0.9437245726585388); padding: 1px 5px; border: solid 3px ; border-color: rgba(221, 9, 140, 1); #EFEFEF\">failed to realise</span> <span style=\"background-color: rgba(221, 9, 140, 0.8393123149871826); padding: 1px 5px; border: solid 3px ; border-color: rgba(221, 9, 140, 1); #EFEFEF\">without</span> <span style=\"background-color: rgba(221, 9, 140, 0.4516089856624603); padding: 1px 5px; border: solid 3px ; border-color: rgba(221, 9, 140, 1); #EFEFEF\">thinking</span> <span style=\"background-color: rgba(221, 9, 140, 0.9740962386131287); padding: 1px 5px; border: solid 3px ; border-color: rgba(221, 9, 140, 1); #EFEFEF\">you</span> <span style=\"background-color: rgba(221, 9, 140, 0.9954547882080078); padding: 1px 5px; border: solid 3px ; border-color: rgba(221, 9, 140, 1); #EFEFEF\">hate</span> <span style=\"background-color: rgba(221, 9, 140, 0.9879642724990845); padding: 1px 5px; border: solid 3px ; border-color: rgba(221, 9, 140, 1); #EFEFEF\">it</span> <span style=\"background-color: rgba(221, 9, 140, 0.9675391316413879); padding: 1px 5px; border: solid 3px ; border-color: rgba(221, 9, 140, 1); #EFEFEF\">already</span> <span style=\"background-color: rgba(221, 9, 140, 0.9525533318519592); padding: 1px 5px; border: solid 3px ; border-color: rgba(221, 9, 140, 1); #EFEFEF\">then</span> <span style=\"background-color: rgba(221, 9, 140, 0.792172372341156); padding: 1px 5px; border: solid 3px ; border-color: rgba(221, 9, 140, 1); #EFEFEF\">you</span> <span style=\"background-color: rgba(221, 9, 140, 0.23153939843177795); padding: 1px 5px; border: solid 3px ; border-color: rgba(221, 9, 140, 1); #EFEFEF\">may just enjoy</span> <span style=\"background-color: rgba(221, 9, 140, 0.43871641159057617); padding: 1px 5px; border: solid 3px ; border-color: rgba(221, 9, 140, 1); #EFEFEF\">this film</span> </div>"
      ],
      "text/plain": [
       "<IPython.core.display.HTML object>"
      ]
     },
     "metadata": {},
     "output_type": "display_data"
    },
    {
     "data": {
      "text/html": [
       "<br><br>"
      ],
      "text/plain": [
       "<IPython.core.display.HTML object>"
      ]
     },
     "metadata": {},
     "output_type": "display_data"
    },
    {
     "data": {
      "text/html": [
       "<div style='display: flex; width: 400px; flex-wrap: wrap'><span style=\"background-color: rgba(221, 9, 140, 0.2185865342617035); padding: 1px 5px; border: solid 3px ; border-color: rgba(221, 9, 140, 1); #EFEFEF\">I</span> <span style=\"background-color: rgba(221, 9, 140, 0.8887918591499329); padding: 1px 5px; border: solid 3px ; border-color: rgba(221, 9, 140, 1); #EFEFEF\">suppose</span> <span style=\"background-color: rgba(221, 9, 140, 0.9995745420455933); padding: 1px 5px; border: solid 3px ; border-color: rgba(221, 9, 140, 1); #EFEFEF\">if</span> <span style=\"background-color: rgba(233,30,99,0);  padding: 1px 5px; border: solid 3px ; border-color:  rgba(233,30,99,0); #EFEFEF\">you</span> <span style=\"background-color: rgba(233,30,99,0);  padding: 1px 5px; border: solid 3px ; border-color:  rgba(233,30,99,0); #EFEFEF\">like</span> <span style=\"background-color: rgba(221, 9, 140, 0.9995745420455933); padding: 1px 5px; border: solid 3px ; border-color: rgba(221, 9, 140, 1); #EFEFEF\">endless dialogue</span> <span style=\"background-color: rgba(221, 9, 140, 0.8268084526062012); padding: 1px 5px; border: solid 3px ; border-color: rgba(221, 9, 140, 1); #EFEFEF\">that</span> <span style=\"background-color: rgba(221, 9, 140, 0.9971292018890381); padding: 1px 5px; border: solid 3px ; border-color: rgba(221, 9, 140, 1); #EFEFEF\">doesn't forward</span> <span style=\"background-color: rgba(221, 9, 140, 0.6436118483543396); padding: 1px 5px; border: solid 3px ; border-color: rgba(221, 9, 140, 1); #EFEFEF\">the story</span> <span style=\"background-color: rgba(233,30,99,0);  padding: 1px 5px; border: solid 3px ; border-color:  rgba(233,30,99,0); #EFEFEF\">flashy camera effects</span> <span style=\"background-color: rgba(233,30,99,0);  padding: 1px 5px; border: solid 3px ; border-color:  rgba(233,30,99,0); #EFEFEF\">like</span> <span style=\"background-color: rgba(221, 9, 140, 0.3376331627368927); padding: 1px 5px; border: solid 3px ; border-color: rgba(221, 9, 140, 1); #EFEFEF\">the scene transitions</span> <span style=\"background-color: rgba(233,30,99,0);  padding: 1px 5px; border: solid 3px ; border-color:  rgba(233,30,99,0); #EFEFEF\">in</span> <span style=\"background-color: rgba(221, 9, 140, 0.3332233428955078); padding: 1px 5px; border: solid 3px ; border-color: rgba(221, 9, 140, 1); #EFEFEF\">the television show</span> <span style=\"background-color: rgba(233,30,99,0);  padding: 1px 5px; border: solid 3px ; border-color:  rgba(233,30,99,0); #EFEFEF\">Angel</span> <span style=\"background-color: rgba(233,30,99,0);  padding: 1px 5px; border: solid 3px ; border-color:  rgba(233,30,99,0); #EFEFEF\">you</span> <span style=\"background-color: rgba(233,30,99,0);  padding: 1px 5px; border: solid 3px ; border-color:  rgba(233,30,99,0); #EFEFEF\">'ll enjoy</span> <span style=\"background-color: rgba(221, 9, 140, 0.28082671761512756); padding: 1px 5px; border: solid 3px ; border-color: rgba(221, 9, 140, 1); #EFEFEF\">the film</span> </div>"
      ],
      "text/plain": [
       "<IPython.core.display.HTML object>"
      ]
     },
     "metadata": {},
     "output_type": "display_data"
    },
    {
     "data": {
      "text/html": [
       "<br><br>"
      ],
      "text/plain": [
       "<IPython.core.display.HTML object>"
      ]
     },
     "metadata": {},
     "output_type": "display_data"
    },
    {
     "data": {
      "text/html": [
       "<div style='display: flex; width: 400px; flex-wrap: wrap'><span style=\"background-color: rgba(221, 9, 140, 0.9995726943016052); padding: 1px 5px; border: solid 3px ; border-color: rgba(221, 9, 140, 1); #EFEFEF\">The flaming car scene</span> <span style=\"background-color: rgba(233,30,99,0);  padding: 1px 5px; border: solid 3px ; border-color:  rgba(233,30,99,0); #EFEFEF\">was well executed</span> <span style=\"background-color: rgba(221, 90, 9,  0.20668868720531464); padding: 1px 5px; border: solid 3px ; border-color: rgba(221, 90, 9,  1); #EFEFEF\">like</span> <span style=\"background-color: rgba(221, 9, 140, 0.6253259778022766); padding: 1px 5px; border: solid 3px ; border-color: rgba(221, 9, 140, 1); #EFEFEF\">much</span> <span style=\"background-color: rgba(233,30,99,0);  padding: 1px 5px; border: solid 3px ; border-color:  rgba(233,30,99,0); #EFEFEF\">of</span> <span style=\"background-color: rgba(221, 9, 140, 0.9924755096435547); padding: 1px 5px; border: solid 3px ; border-color: rgba(221, 9, 140, 1); #EFEFEF\">the movie</span> <span style=\"background-color: rgba(221, 9, 140, 0.9995726943016052); padding: 1px 5px; border: solid 3px ; border-color: rgba(221, 9, 140, 1); #EFEFEF\">went</span> <span style=\"background-color: rgba(221, 9, 140, 0.9995726943016052); padding: 1px 5px; border: solid 3px ; border-color: rgba(221, 9, 140, 1); #EFEFEF\">nowhere</span> <span style=\"background-color: rgba(221, 9, 140, 0.9995726943016052); padding: 1px 5px; border: solid 3px ; border-color: rgba(221, 9, 140, 1); #EFEFEF\">in</span> <span style=\"background-color: rgba(221, 9, 140, 0.9853800535202026); padding: 1px 5px; border: solid 3px ; border-color: rgba(221, 9, 140, 1); #EFEFEF\">the end</span> </div>"
      ],
      "text/plain": [
       "<IPython.core.display.HTML object>"
      ]
     },
     "metadata": {},
     "output_type": "display_data"
    },
    {
     "data": {
      "text/html": [
       "<br><br>"
      ],
      "text/plain": [
       "<IPython.core.display.HTML object>"
      ]
     },
     "metadata": {},
     "output_type": "display_data"
    },
    {
     "data": {
      "text/html": [
       "<div style='display: flex; width: 400px; flex-wrap: wrap'><span style=\"background-color: rgba(221, 9, 140, 0.24985985457897186); padding: 1px 5px; border: solid 3px ; border-color: rgba(221, 9, 140, 1); #EFEFEF\">The film</span> <span style=\"background-color: rgba(233,30,99,0);  padding: 1px 5px; border: solid 3px ; border-color:  rgba(233,30,99,0); #EFEFEF\">is</span> <span style=\"background-color: rgba(221, 9, 140, 0.8184190988540649); padding: 1px 5px; border: solid 3px ; border-color: rgba(221, 9, 140, 1); #EFEFEF\">basically</span> <span style=\"background-color: rgba(233,30,99,0);  padding: 1px 5px; border: solid 3px ; border-color:  rgba(233,30,99,0); #EFEFEF\">a series</span> <span style=\"background-color: rgba(233,30,99,0);  padding: 1px 5px; border: solid 3px ; border-color:  rgba(233,30,99,0); #EFEFEF\">of</span> <span style=\"background-color: rgba(221, 9, 140, 0.6642665863037109); padding: 1px 5px; border: solid 3px ; border-color: rgba(221, 9, 140, 1); #EFEFEF\">zany action sequences</span> <span style=\"background-color: rgba(233,30,99,0);  padding: 1px 5px; border: solid 3px ; border-color:  rgba(233,30,99,0); #EFEFEF\">that</span> <span style=\"background-color: rgba(221, 9, 140, 0.9995725750923157); padding: 1px 5px; border: solid 3px ; border-color: rgba(221, 9, 140, 1); #EFEFEF\">are kind of pasted</span> <span style=\"background-color: rgba(233,30,99,0);  padding: 1px 5px; border: solid 3px ; border-color:  rgba(233,30,99,0); #EFEFEF\">together</span> <span style=\"background-color: rgba(233,30,99,0);  padding: 1px 5px; border: solid 3px ; border-color:  rgba(233,30,99,0); #EFEFEF\">with</span> <span style=\"background-color: rgba(233,30,99,0);  padding: 1px 5px; border: solid 3px ; border-color:  rgba(233,30,99,0); #EFEFEF\">characters</span> <span style=\"background-color: rgba(221, 9, 140, 0.9995725750923157); padding: 1px 5px; border: solid 3px ; border-color: rgba(221, 9, 140, 1); #EFEFEF\">an uneven story</span> <span style=\"background-color: rgba(233,30,99,0);  padding: 1px 5px; border: solid 3px ; border-color:  rgba(233,30,99,0); #EFEFEF\">that</span> <span style=\"background-color: rgba(221, 9, 140, 0.3092569410800934); padding: 1px 5px; border: solid 3px ; border-color: rgba(221, 9, 140, 1); #EFEFEF\">only kids</span> <span style=\"background-color: rgba(233,30,99,0);  padding: 1px 5px; border: solid 3px ; border-color:  rgba(233,30,99,0); #EFEFEF\">between</span> <span style=\"background-color: rgba(233,30,99,0);  padding: 1px 5px; border: solid 3px ; border-color:  rgba(233,30,99,0); #EFEFEF\">the ages</span> <span style=\"background-color: rgba(233,30,99,0);  padding: 1px 5px; border: solid 3px ; border-color:  rgba(233,30,99,0); #EFEFEF\">of</span> <span style=\"background-color: rgba(233,30,99,0);  padding: 1px 5px; border: solid 3px ; border-color:  rgba(233,30,99,0); #EFEFEF\">6-9</span> <span style=\"background-color: rgba(233,30,99,0);  padding: 1px 5px; border: solid 3px ; border-color:  rgba(233,30,99,0); #EFEFEF\">would enjoy</span> </div>"
      ],
      "text/plain": [
       "<IPython.core.display.HTML object>"
      ]
     },
     "metadata": {},
     "output_type": "display_data"
    },
    {
     "data": {
      "text/html": [
       "<br><br>"
      ],
      "text/plain": [
       "<IPython.core.display.HTML object>"
      ]
     },
     "metadata": {},
     "output_type": "display_data"
    },
    {
     "name": "stdout",
     "output_type": "stream",
     "text": [
      "\n",
      "\n",
      "10 most important reviews for negative predicted label - concept3:\n",
      "\n",
      "\n"
     ]
    },
    {
     "data": {
      "text/html": [
       "<div style='display: flex; width: 400px; flex-wrap: wrap'><span style=\"background-color: rgba(221, 90, 9,  0.7284530401229858); padding: 1px 5px; border: solid 3px ; border-color: rgba(221, 90, 9,  1); #EFEFEF\">Based</span> <span style=\"background-color: rgba(221, 90, 9,  0.5308803915977478); padding: 1px 5px; border: solid 3px ; border-color: rgba(221, 90, 9,  1); #EFEFEF\">on</span> <span style=\"background-color: rgba(221, 90, 9,  0.9993818402290344); padding: 1px 5px; border: solid 3px ; border-color: rgba(221, 90, 9,  1); #EFEFEF\">a stage play</span> <span style=\"background-color: rgba(221, 90, 9,  0.6789980530738831); padding: 1px 5px; border: solid 3px ; border-color: rgba(221, 90, 9,  1); #EFEFEF\">which</span> <span style=\"background-color: rgba(221, 90, 9,  0.39469748735427856); padding: 1px 5px; border: solid 3px ; border-color: rgba(221, 90, 9,  1); #EFEFEF\">reportedly</span> <span style=\"background-color: rgba(221, 90, 9,  0.5083935260772705); padding: 1px 5px; border: solid 3px ; border-color: rgba(221, 90, 9,  1); #EFEFEF\">left</span> <span style=\"background-color: rgba(221, 90, 9,  0.4362725019454956); padding: 1px 5px; border: solid 3px ; border-color: rgba(221, 90, 9,  1); #EFEFEF\">its actors</span> <span style=\"background-color: rgba(221, 90, 9,  0.33545103669166565); padding: 1px 5px; border: solid 3px ; border-color: rgba(221, 90, 9,  1); #EFEFEF\">battered and bruised</span> <span style=\"background-color: rgba(221, 90, 9,  0.41787832975387573); padding: 1px 5px; border: solid 3px ; border-color: rgba(221, 90, 9,  1); #EFEFEF\">after</span> <span style=\"background-color: rgba(221, 90, 9,  0.49949946999549866); padding: 1px 5px; border: solid 3px ; border-color: rgba(221, 90, 9,  1); #EFEFEF\">every performance</span> <span style=\"background-color: rgba(221, 90, 9,  0.6592611074447632); padding: 1px 5px; border: solid 3px ; border-color: rgba(221, 90, 9,  1); #EFEFEF\">the film</span> <span style=\"background-color: rgba(233,30,99,0);  padding: 1px 5px; border: solid 3px ; border-color:  rgba(233,30,99,0); #EFEFEF\">makes</span> <span style=\"background-color: rgba(221, 90, 9,  0.4064404368400574); padding: 1px 5px; border: solid 3px ; border-color: rgba(221, 90, 9,  1); #EFEFEF\">no attempt</span> <span style=\"background-color: rgba(221, 90, 9,  0.5381813049316406); padding: 1px 5px; border: solid 3px ; border-color: rgba(221, 90, 9,  1); #EFEFEF\">to open</span> <span style=\"background-color: rgba(221, 90, 9,  0.40373626351356506); padding: 1px 5px; border: solid 3px ; border-color: rgba(221, 90, 9,  1); #EFEFEF\">up</span> <span style=\"background-color: rgba(221, 90, 9,  0.5987032651901245); padding: 1px 5px; border: solid 3px ; border-color: rgba(221, 90, 9,  1); #EFEFEF\">the narrative</span> <span style=\"background-color: rgba(221, 90, 9,  0.33379706740379333); padding: 1px 5px; border: solid 3px ; border-color: rgba(221, 90, 9,  1); #EFEFEF\">relies</span> <span style=\"background-color: rgba(221, 90, 9,  0.7025756239891052); padding: 1px 5px; border: solid 3px ; border-color: rgba(221, 90, 9,  1); #EFEFEF\">instead</span> <span style=\"background-color: rgba(221, 90, 9,  0.5234658718109131); padding: 1px 5px; border: solid 3px ; border-color: rgba(221, 90, 9,  1); #EFEFEF\">on</span> <span style=\"background-color: rgba(221, 90, 9,  0.5796141028404236); padding: 1px 5px; border: solid 3px ; border-color: rgba(221, 90, 9,  1); #EFEFEF\">a confined setting</span> <span style=\"background-color: rgba(221, 90, 9,  0.5377968549728394); padding: 1px 5px; border: solid 3px ; border-color: rgba(221, 90, 9,  1); #EFEFEF\">for</span> <span style=\"background-color: rgba(221, 90, 9,  0.7687128782272339); padding: 1px 5px; border: solid 3px ; border-color: rgba(221, 90, 9,  1); #EFEFEF\">the main action</span> </div>"
      ],
      "text/plain": [
       "<IPython.core.display.HTML object>"
      ]
     },
     "metadata": {},
     "output_type": "display_data"
    },
    {
     "data": {
      "text/html": [
       "<br><br>"
      ],
      "text/plain": [
       "<IPython.core.display.HTML object>"
      ]
     },
     "metadata": {},
     "output_type": "display_data"
    },
    {
     "data": {
      "text/html": [
       "<div style='display: flex; width: 400px; flex-wrap: wrap'><span style=\"background-color: rgba(221, 90, 9,  0.6401248574256897); padding: 1px 5px; border: solid 3px ; border-color: rgba(221, 90, 9,  1); #EFEFEF\">It</span> <span style=\"background-color: rgba(221, 90, 9,  0.611358642578125); padding: 1px 5px; border: solid 3px ; border-color: rgba(221, 90, 9,  1); #EFEFEF\">also</span> <span style=\"background-color: rgba(221, 90, 9,  0.9995406270027161); padding: 1px 5px; border: solid 3px ; border-color: rgba(221, 90, 9,  1); #EFEFEF\">appears</span> <span style=\"background-color: rgba(221, 90, 9,  0.5623574256896973); padding: 1px 5px; border: solid 3px ; border-color: rgba(221, 90, 9,  1); #EFEFEF\">in</span> <span style=\"background-color: rgba(221, 90, 9,  0.22638188302516937); padding: 1px 5px; border: solid 3px ; border-color: rgba(221, 90, 9,  1); #EFEFEF\">this segment</span> <span style=\"background-color: rgba(221, 90, 9,  0.40380555391311646); padding: 1px 5px; border: solid 3px ; border-color: rgba(221, 90, 9,  1); #EFEFEF\">s climax</span> <span style=\"background-color: rgba(221, 90, 9,  0.931715726852417); padding: 1px 5px; border: solid 3px ; border-color: rgba(221, 90, 9,  1); #EFEFEF\">that</span> <span style=\"background-color: rgba(221, 90, 9,  0.8018873333930969); padding: 1px 5px; border: solid 3px ; border-color: rgba(221, 90, 9,  1); #EFEFEF\">Dracula</span> <span style=\"background-color: rgba(221, 90, 9,  0.9375354647636414); padding: 1px 5px; border: solid 3px ; border-color: rgba(221, 90, 9,  1); #EFEFEF\">can control</span> <span style=\"background-color: rgba(233,30,99,0);  padding: 1px 5px; border: solid 3px ; border-color:  rgba(233,30,99,0); #EFEFEF\">the weather</span> <span style=\"background-color: rgba(221, 90, 9,  0.5855799913406372); padding: 1px 5px; border: solid 3px ; border-color: rgba(221, 90, 9,  1); #EFEFEF\">this</span> <span style=\"background-color: rgba(221, 90, 9,  0.9813088178634644); padding: 1px 5px; border: solid 3px ; border-color: rgba(221, 90, 9,  1); #EFEFEF\">seems forgotten</span> <span style=\"background-color: rgba(221, 90, 9,  0.7941649556159973); padding: 1px 5px; border: solid 3px ; border-color: rgba(221, 90, 9,  1); #EFEFEF\">about</span> <span style=\"background-color: rgba(221, 90, 9,  0.8627826571464539); padding: 1px 5px; border: solid 3px ; border-color: rgba(221, 90, 9,  1); #EFEFEF\">as</span> <span style=\"background-color: rgba(221, 90, 9,  0.7470670938491821); padding: 1px 5px; border: solid 3px ; border-color: rgba(221, 90, 9,  1); #EFEFEF\">the film</span> <span style=\"background-color: rgba(221, 90, 9,  0.6146523356437683); padding: 1px 5px; border: solid 3px ; border-color: rgba(221, 90, 9,  1); #EFEFEF\">progresses</span> </div>"
      ],
      "text/plain": [
       "<IPython.core.display.HTML object>"
      ]
     },
     "metadata": {},
     "output_type": "display_data"
    },
    {
     "data": {
      "text/html": [
       "<br><br>"
      ],
      "text/plain": [
       "<IPython.core.display.HTML object>"
      ]
     },
     "metadata": {},
     "output_type": "display_data"
    },
    {
     "data": {
      "text/html": [
       "<div style='display: flex; width: 400px; flex-wrap: wrap'><span style=\"background-color: rgba(221, 90, 9,  0.9972563982009888); padding: 1px 5px; border: solid 3px ; border-color: rgba(221, 90, 9,  1); #EFEFEF\">The sense</span> <span style=\"background-color: rgba(221, 90, 9,  0.901898205280304); padding: 1px 5px; border: solid 3px ; border-color: rgba(221, 90, 9,  1); #EFEFEF\">of</span> <span style=\"background-color: rgba(221, 90, 9,  0.2810578942298889); padding: 1px 5px; border: solid 3px ; border-color: rgba(221, 90, 9,  1); #EFEFEF\">reality</span> <span style=\"background-color: rgba(221, 90, 9,  0.4499876797199249); padding: 1px 5px; border: solid 3px ; border-color: rgba(221, 90, 9,  1); #EFEFEF\">is</span> <span style=\"background-color: rgba(221, 90, 9,  0.9239138960838318); padding: 1px 5px; border: solid 3px ; border-color: rgba(221, 90, 9,  1); #EFEFEF\">never</span> <span style=\"background-color: rgba(221, 90, 9,  0.999553918838501); padding: 1px 5px; border: solid 3px ; border-color: rgba(221, 90, 9,  1); #EFEFEF\">there</span> <span style=\"background-color: rgba(221, 90, 9,  0.36417722702026367); padding: 1px 5px; border: solid 3px ; border-color: rgba(221, 90, 9,  1); #EFEFEF\">however</span> </div>"
      ],
      "text/plain": [
       "<IPython.core.display.HTML object>"
      ]
     },
     "metadata": {},
     "output_type": "display_data"
    },
    {
     "data": {
      "text/html": [
       "<br><br>"
      ],
      "text/plain": [
       "<IPython.core.display.HTML object>"
      ]
     },
     "metadata": {},
     "output_type": "display_data"
    },
    {
     "data": {
      "text/html": [
       "<div style='display: flex; width: 400px; flex-wrap: wrap'><span style=\"background-color: rgba(221, 90, 9,  0.3740747272968292); padding: 1px 5px; border: solid 3px ; border-color: rgba(221, 90, 9,  1); #EFEFEF\">At</span> <span style=\"background-color: rgba(233,30,99,0);  padding: 1px 5px; border: solid 3px ; border-color:  rgba(233,30,99,0); #EFEFEF\">times</span> <span style=\"background-color: rgba(221, 90, 9,  0.9994581937789917); padding: 1px 5px; border: solid 3px ; border-color: rgba(221, 90, 9,  1); #EFEFEF\">the plot</span> <span style=\"background-color: rgba(221, 90, 9,  0.6892595887184143); padding: 1px 5px; border: solid 3px ; border-color: rgba(221, 90, 9,  1); #EFEFEF\">diverts</span> <span style=\"background-color: rgba(221, 90, 9,  0.6300317645072937); padding: 1px 5px; border: solid 3px ; border-color: rgba(221, 90, 9,  1); #EFEFEF\">to</span> <span style=\"background-color: rgba(221, 90, 9,  0.43993404507637024); padding: 1px 5px; border: solid 3px ; border-color: rgba(221, 90, 9,  1); #EFEFEF\">the families</span> <span style=\"background-color: rgba(221, 90, 9,  0.8275213837623596); padding: 1px 5px; border: solid 3px ; border-color: rgba(221, 90, 9,  1); #EFEFEF\">of</span> <span style=\"background-color: rgba(221, 90, 9,  0.49173417687416077); padding: 1px 5px; border: solid 3px ; border-color: rgba(221, 90, 9,  1); #EFEFEF\">the two main characters</span> <span style=\"background-color: rgba(221, 90, 9,  0.792496919631958); padding: 1px 5px; border: solid 3px ; border-color: rgba(221, 90, 9,  1); #EFEFEF\">reverts</span> <span style=\"background-color: rgba(221, 90, 9,  0.582001805305481); padding: 1px 5px; border: solid 3px ; border-color: rgba(221, 90, 9,  1); #EFEFEF\">back</span> <span style=\"background-color: rgba(221, 90, 9,  0.5842779278755188); padding: 1px 5px; border: solid 3px ; border-color: rgba(221, 90, 9,  1); #EFEFEF\">to</span> <span style=\"background-color: rgba(221, 90, 9,  0.7255391478538513); padding: 1px 5px; border: solid 3px ; border-color: rgba(221, 90, 9,  1); #EFEFEF\">one</span> <span style=\"background-color: rgba(221, 90, 9,  0.4075051546096802); padding: 1px 5px; border: solid 3px ; border-color: rgba(221, 90, 9,  1); #EFEFEF\">of</span> <span style=\"background-color: rgba(221, 90, 9,  0.9018839001655579); padding: 1px 5px; border: solid 3px ; border-color: rgba(221, 90, 9,  1); #EFEFEF\">them</span> <span style=\"background-color: rgba(221, 90, 9,  0.6923334002494812); padding: 1px 5px; border: solid 3px ; border-color: rgba(221, 90, 9,  1); #EFEFEF\">Ismael</span> <span style=\"background-color: rgba(221, 90, 9,  0.9561294317245483); padding: 1px 5px; border: solid 3px ; border-color: rgba(221, 90, 9,  1); #EFEFEF\">primarily Nora</span> </div>"
      ],
      "text/plain": [
       "<IPython.core.display.HTML object>"
      ]
     },
     "metadata": {},
     "output_type": "display_data"
    },
    {
     "data": {
      "text/html": [
       "<br><br>"
      ],
      "text/plain": [
       "<IPython.core.display.HTML object>"
      ]
     },
     "metadata": {},
     "output_type": "display_data"
    },
    {
     "data": {
      "text/html": [
       "<div style='display: flex; width: 400px; flex-wrap: wrap'><span style=\"background-color: rgba(221, 90, 9,  0.9995444416999817); padding: 1px 5px; border: solid 3px ; border-color: rgba(221, 90, 9,  1); #EFEFEF\">The plot</span> <span style=\"background-color: rgba(221, 90, 9,  0.3456777036190033); padding: 1px 5px; border: solid 3px ; border-color: rgba(221, 90, 9,  1); #EFEFEF\">introduces</span> <span style=\"background-color: rgba(221, 90, 9,  0.6926406025886536); padding: 1px 5px; border: solid 3px ; border-color: rgba(221, 90, 9,  1); #EFEFEF\">a young couple</span> <span style=\"background-color: rgba(233,30,99,0);  padding: 1px 5px; border: solid 3px ; border-color:  rgba(233,30,99,0); #EFEFEF\">on</span> <span style=\"background-color: rgba(233,30,99,0);  padding: 1px 5px; border: solid 3px ; border-color:  rgba(233,30,99,0); #EFEFEF\">their honeymoon-weekend exploring caves</span> </div>"
      ],
      "text/plain": [
       "<IPython.core.display.HTML object>"
      ]
     },
     "metadata": {},
     "output_type": "display_data"
    },
    {
     "data": {
      "text/html": [
       "<br><br>"
      ],
      "text/plain": [
       "<IPython.core.display.HTML object>"
      ]
     },
     "metadata": {},
     "output_type": "display_data"
    },
    {
     "data": {
      "text/html": [
       "<div style='display: flex; width: 400px; flex-wrap: wrap'><span style=\"background-color: rgba(221, 90, 9,  0.6936691999435425); padding: 1px 5px; border: solid 3px ; border-color: rgba(221, 90, 9,  1); #EFEFEF\">The motivation</span> <span style=\"background-color: rgba(221, 90, 9,  0.34460917115211487); padding: 1px 5px; border: solid 3px ; border-color: rgba(221, 90, 9,  1); #EFEFEF\">for</span> <span style=\"background-color: rgba(233,30,99,0);  padding: 1px 5px; border: solid 3px ; border-color:  rgba(233,30,99,0); #EFEFEF\">the killings</span> <span style=\"background-color: rgba(221, 90, 9,  0.551727831363678); padding: 1px 5px; border: solid 3px ; border-color: rgba(221, 90, 9,  1); #EFEFEF\">in</span> <span style=\"background-color: rgba(221, 90, 9,  0.4883405864238739); padding: 1px 5px; border: solid 3px ; border-color: rgba(221, 90, 9,  1); #EFEFEF\">the beginning</span> <span style=\"background-color: rgba(221, 90, 9,  0.3022773861885071); padding: 1px 5px; border: solid 3px ; border-color: rgba(221, 90, 9,  1); #EFEFEF\">of</span> <span style=\"background-color: rgba(221, 90, 9,  0.95516037940979); padding: 1px 5px; border: solid 3px ; border-color: rgba(221, 90, 9,  1); #EFEFEF\">the movie</span> <span style=\"background-color: rgba(221, 90, 9,  0.9995223879814148); padding: 1px 5px; border: solid 3px ; border-color: rgba(221, 90, 9,  1); #EFEFEF\">is never explained</span> </div>"
      ],
      "text/plain": [
       "<IPython.core.display.HTML object>"
      ]
     },
     "metadata": {},
     "output_type": "display_data"
    },
    {
     "data": {
      "text/html": [
       "<br><br>"
      ],
      "text/plain": [
       "<IPython.core.display.HTML object>"
      ]
     },
     "metadata": {},
     "output_type": "display_data"
    },
    {
     "data": {
      "text/html": [
       "<div style='display: flex; width: 400px; flex-wrap: wrap'><span style=\"background-color: rgba(221, 90, 9,  0.20783191919326782); padding: 1px 5px; border: solid 3px ; border-color: rgba(221, 90, 9,  1); #EFEFEF\">The epilogue</span> <span style=\"background-color: rgba(221, 90, 9,  0.8804294466972351); padding: 1px 5px; border: solid 3px ; border-color: rgba(221, 90, 9,  1); #EFEFEF\">does not really wrap</span> <span style=\"background-color: rgba(221, 90, 9,  0.26675060391426086); padding: 1px 5px; border: solid 3px ; border-color: rgba(221, 90, 9,  1); #EFEFEF\">up</span> <span style=\"background-color: rgba(221, 9, 140, 0.2493295520544052); padding: 1px 5px; border: solid 3px ; border-color: rgba(221, 9, 140, 1); #EFEFEF\">many</span> <span style=\"background-color: rgba(221, 9, 140, 0.6320109367370605); padding: 1px 5px; border: solid 3px ; border-color: rgba(221, 9, 140, 1); #EFEFEF\">of</span> <span style=\"background-color: rgba(221, 9, 140, 0.9990755915641785); padding: 1px 5px; border: solid 3px ; border-color: rgba(221, 9, 140, 1); #EFEFEF\">the sub-plots</span> <span style=\"background-color: rgba(221, 9, 140, 0.9960825443267822); padding: 1px 5px; border: solid 3px ; border-color: rgba(221, 9, 140, 1); #EFEFEF\">seems to want</span> <span style=\"background-color: rgba(221, 9, 140, 0.2639639675617218); padding: 1px 5px; border: solid 3px ; border-color: rgba(221, 9, 140, 1); #EFEFEF\">the viewer</span> <span style=\"background-color: rgba(221, 9, 140, 0.21126678586006165); padding: 1px 5px; border: solid 3px ; border-color: rgba(221, 9, 140, 1); #EFEFEF\">to believe</span> <span style=\"background-color: rgba(221, 9, 140, 0.2592422664165497); padding: 1px 5px; border: solid 3px ; border-color: rgba(221, 9, 140, 1); #EFEFEF\">Nora</span> <span style=\"background-color: rgba(221, 9, 140, 0.40248534083366394); padding: 1px 5px; border: solid 3px ; border-color: rgba(221, 9, 140, 1); #EFEFEF\">somehow</span> <span style=\"background-color: rgba(221, 9, 140, 0.2219066023826599); padding: 1px 5px; border: solid 3px ; border-color: rgba(221, 9, 140, 1); #EFEFEF\">will find</span> <span style=\"background-color: rgba(221, 9, 140, 0.5523578524589539); padding: 1px 5px; border: solid 3px ; border-color: rgba(221, 9, 140, 1); #EFEFEF\">happiness</span> <span style=\"background-color: rgba(233,30,99,0);  padding: 1px 5px; border: solid 3px ; border-color:  rgba(233,30,99,0); #EFEFEF\">although</span> <span style=\"background-color: rgba(221, 9, 140, 0.25466254353523254); padding: 1px 5px; border: solid 3px ; border-color: rgba(221, 9, 140, 1); #EFEFEF\">given</span> <span style=\"background-color: rgba(221, 9, 140, 0.2606918215751648); padding: 1px 5px; border: solid 3px ; border-color: rgba(221, 9, 140, 1); #EFEFEF\">her circumstances</span> <span style=\"background-color: rgba(221, 9, 140, 0.2924157977104187); padding: 1px 5px; border: solid 3px ; border-color: rgba(221, 9, 140, 1); #EFEFEF\">in</span> <span style=\"background-color: rgba(221, 9, 140, 0.3680395483970642); padding: 1px 5px; border: solid 3px ; border-color: rgba(221, 9, 140, 1); #EFEFEF\">real life</span> <span style=\"background-color: rgba(221, 9, 140, 0.2204885631799698); padding: 1px 5px; border: solid 3px ; border-color: rgba(221, 9, 140, 1); #EFEFEF\">the chances</span> <span style=\"background-color: rgba(221, 9, 140, 0.4362190067768097); padding: 1px 5px; border: solid 3px ; border-color: rgba(221, 9, 140, 1); #EFEFEF\">are</span> <span style=\"background-color: rgba(221, 9, 140, 0.4030941426753998); padding: 1px 5px; border: solid 3px ; border-color: rgba(221, 9, 140, 1); #EFEFEF\">equivalent</span> <span style=\"background-color: rgba(221, 9, 140, 0.37610340118408203); padding: 1px 5px; border: solid 3px ; border-color: rgba(221, 9, 140, 1); #EFEFEF\">to</span> <span style=\"background-color: rgba(221, 9, 140, 0.4465470612049103); padding: 1px 5px; border: solid 3px ; border-color: rgba(221, 9, 140, 1); #EFEFEF\">a snow ball</span> <span style=\"background-color: rgba(233,30,99,0);  padding: 1px 5px; border: solid 3px ; border-color:  rgba(233,30,99,0); #EFEFEF\">'s chance</span> <span style=\"background-color: rgba(221, 9, 140, 0.4348149299621582); padding: 1px 5px; border: solid 3px ; border-color: rgba(221, 9, 140, 1); #EFEFEF\">in</span> <span style=\"background-color: rgba(221, 9, 140, 0.43907368183135986); padding: 1px 5px; border: solid 3px ; border-color: rgba(221, 9, 140, 1); #EFEFEF\">hell</span> </div>"
      ],
      "text/plain": [
       "<IPython.core.display.HTML object>"
      ]
     },
     "metadata": {},
     "output_type": "display_data"
    },
    {
     "data": {
      "text/html": [
       "<br><br>"
      ],
      "text/plain": [
       "<IPython.core.display.HTML object>"
      ]
     },
     "metadata": {},
     "output_type": "display_data"
    },
    {
     "data": {
      "text/html": [
       "<div style='display: flex; width: 400px; flex-wrap: wrap'><span style=\"background-color: rgba(221, 90, 9,  0.9990384578704834); padding: 1px 5px; border: solid 3px ; border-color: rgba(221, 90, 9,  1); #EFEFEF\">The movie</span> <span style=\"background-color: rgba(221, 90, 9,  0.6370266079902649); padding: 1px 5px; border: solid 3px ; border-color: rgba(221, 90, 9,  1); #EFEFEF\">starts</span> <span style=\"background-color: rgba(221, 90, 9,  0.27656787633895874); padding: 1px 5px; border: solid 3px ; border-color: rgba(221, 90, 9,  1); #EFEFEF\">with</span> <span style=\"background-color: rgba(221, 90, 9,  0.64610356092453); padding: 1px 5px; border: solid 3px ; border-color: rgba(221, 90, 9,  1); #EFEFEF\">a pair</span> <span style=\"background-color: rgba(221, 90, 9,  0.4295789897441864); padding: 1px 5px; border: solid 3px ; border-color: rgba(221, 90, 9,  1); #EFEFEF\">of</span> <span style=\"background-color: rgba(221, 90, 9,  0.4095451533794403); padding: 1px 5px; border: solid 3px ; border-color: rgba(221, 90, 9,  1); #EFEFEF\">campers</span> <span style=\"background-color: rgba(221, 90, 9,  0.5277755260467529); padding: 1px 5px; border: solid 3px ; border-color: rgba(221, 90, 9,  1); #EFEFEF\">a man</span> <span style=\"background-color: rgba(221, 90, 9,  0.5392006039619446); padding: 1px 5px; border: solid 3px ; border-color: rgba(221, 90, 9,  1); #EFEFEF\">a woman</span> <span style=\"background-color: rgba(221, 90, 9,  0.6344782114028931); padding: 1px 5px; border: solid 3px ; border-color: rgba(221, 90, 9,  1); #EFEFEF\">presumably together</span> <span style=\"background-color: rgba(221, 90, 9,  0.4603261649608612); padding: 1px 5px; border: solid 3px ; border-color: rgba(221, 90, 9,  1); #EFEFEF\">hiking</span> <span style=\"background-color: rgba(221, 90, 9,  0.4083334803581238); padding: 1px 5px; border: solid 3px ; border-color: rgba(221, 90, 9,  1); #EFEFEF\">alone</span> <span style=\"background-color: rgba(221, 90, 9,  0.41329553723335266); padding: 1px 5px; border: solid 3px ; border-color: rgba(221, 90, 9,  1); #EFEFEF\">in</span> <span style=\"background-color: rgba(221, 90, 9,  0.49240392446517944); padding: 1px 5px; border: solid 3px ; border-color: rgba(221, 90, 9,  1); #EFEFEF\">the vast wilderness</span> </div>"
      ],
      "text/plain": [
       "<IPython.core.display.HTML object>"
      ]
     },
     "metadata": {},
     "output_type": "display_data"
    },
    {
     "data": {
      "text/html": [
       "<br><br>"
      ],
      "text/plain": [
       "<IPython.core.display.HTML object>"
      ]
     },
     "metadata": {},
     "output_type": "display_data"
    },
    {
     "data": {
      "text/html": [
       "<div style='display: flex; width: 400px; flex-wrap: wrap'><span style=\"background-color: rgba(221, 90, 9,  0.5977408289909363); padding: 1px 5px; border: solid 3px ; border-color: rgba(221, 90, 9,  1); #EFEFEF\">His character</span> <span style=\"background-color: rgba(221, 90, 9,  0.7251297235488892); padding: 1px 5px; border: solid 3px ; border-color: rgba(221, 90, 9,  1); #EFEFEF\">is never quite defined</span> <span style=\"background-color: rgba(221, 90, 9,  0.2666316032409668); padding: 1px 5px; border: solid 3px ; border-color: rgba(221, 90, 9,  1); #EFEFEF\">he</span> <span style=\"background-color: rgba(221, 90, 9,  0.9461956024169922); padding: 1px 5px; border: solid 3px ; border-color: rgba(221, 90, 9,  1); #EFEFEF\">lacks</span> <span style=\"background-color: rgba(221, 90, 9,  0.9993302822113037); padding: 1px 5px; border: solid 3px ; border-color: rgba(221, 90, 9,  1); #EFEFEF\">true motive</span> <span style=\"background-color: rgba(221, 90, 9,  0.8300417065620422); padding: 1px 5px; border: solid 3px ; border-color: rgba(221, 90, 9,  1); #EFEFEF\">his loyalties</span> <span style=\"background-color: rgba(233,30,99,0);  padding: 1px 5px; border: solid 3px ; border-color:  rgba(233,30,99,0); #EFEFEF\">remain</span> <span style=\"background-color: rgba(221, 90, 9,  0.20204892754554749); padding: 1px 5px; border: solid 3px ; border-color: rgba(221, 90, 9,  1); #EFEFEF\">uncertain</span> </div>"
      ],
      "text/plain": [
       "<IPython.core.display.HTML object>"
      ]
     },
     "metadata": {},
     "output_type": "display_data"
    },
    {
     "data": {
      "text/html": [
       "<br><br>"
      ],
      "text/plain": [
       "<IPython.core.display.HTML object>"
      ]
     },
     "metadata": {},
     "output_type": "display_data"
    },
    {
     "data": {
      "text/html": [
       "<div style='display: flex; width: 400px; flex-wrap: wrap'><span style=\"background-color: rgba(221, 90, 9,  0.999502956867218); padding: 1px 5px; border: solid 3px ; border-color: rgba(221, 90, 9,  1); #EFEFEF\">Two-thirds</span> <span style=\"background-color: rgba(233,30,99,0);  padding: 1px 5px; border: solid 3px ; border-color:  rgba(233,30,99,0); #EFEFEF\">of</span> <span style=\"background-color: rgba(221, 90, 9,  0.4931202530860901); padding: 1px 5px; border: solid 3px ; border-color: rgba(221, 90, 9,  1); #EFEFEF\">the running time</span> <span style=\"background-color: rgba(221, 90, 9,  0.341405987739563); padding: 1px 5px; border: solid 3px ; border-color: rgba(221, 90, 9,  1); #EFEFEF\">is primarily devoted</span> <span style=\"background-color: rgba(233,30,99,0);  padding: 1px 5px; border: solid 3px ; border-color:  rgba(233,30,99,0); #EFEFEF\">to</span> <span style=\"background-color: rgba(233,30,99,0);  padding: 1px 5px; border: solid 3px ; border-color:  rgba(233,30,99,0); #EFEFEF\">the film</span> <span style=\"background-color: rgba(233,30,99,0);  padding: 1px 5px; border: solid 3px ; border-color:  rgba(233,30,99,0); #EFEFEF\">'s hero</span> <span style=\"background-color: rgba(233,30,99,0);  padding: 1px 5px; border: solid 3px ; border-color:  rgba(233,30,99,0); #EFEFEF\">Jack Brooks</span> <span style=\"background-color: rgba(233,30,99,0);  padding: 1px 5px; border: solid 3px ; border-color:  rgba(233,30,99,0); #EFEFEF\">a plumber and college student</span> <span style=\"background-color: rgba(233,30,99,0);  padding: 1px 5px; border: solid 3px ; border-color:  rgba(233,30,99,0); #EFEFEF\">as</span> <span style=\"background-color: rgba(233,30,99,0);  padding: 1px 5px; border: solid 3px ; border-color:  rgba(233,30,99,0); #EFEFEF\">he</span> <span style=\"background-color: rgba(233,30,99,0);  padding: 1px 5px; border: solid 3px ; border-color:  rgba(233,30,99,0); #EFEFEF\">goes</span> <span style=\"background-color: rgba(233,30,99,0);  padding: 1px 5px; border: solid 3px ; border-color:  rgba(233,30,99,0); #EFEFEF\">to</span> <span style=\"background-color: rgba(233,30,99,0);  padding: 1px 5px; border: solid 3px ; border-color:  rgba(233,30,99,0); #EFEFEF\">class</span> <span style=\"background-color: rgba(233,30,99,0);  padding: 1px 5px; border: solid 3px ; border-color:  rgba(233,30,99,0); #EFEFEF\">attempts to deal</span> <span style=\"background-color: rgba(233,30,99,0);  padding: 1px 5px; border: solid 3px ; border-color:  rgba(233,30,99,0); #EFEFEF\">with</span> <span style=\"background-color: rgba(233,30,99,0);  padding: 1px 5px; border: solid 3px ; border-color:  rgba(233,30,99,0); #EFEFEF\">his uncontrollable bursts</span> <span style=\"background-color: rgba(233,30,99,0);  padding: 1px 5px; border: solid 3px ; border-color:  rgba(233,30,99,0); #EFEFEF\">of</span> <span style=\"background-color: rgba(233,30,99,0);  padding: 1px 5px; border: solid 3px ; border-color:  rgba(233,30,99,0); #EFEFEF\">anger</span> </div>"
      ],
      "text/plain": [
       "<IPython.core.display.HTML object>"
      ]
     },
     "metadata": {},
     "output_type": "display_data"
    },
    {
     "data": {
      "text/html": [
       "<br><br>"
      ],
      "text/plain": [
       "<IPython.core.display.HTML object>"
      ]
     },
     "metadata": {},
     "output_type": "display_data"
    }
   ],
   "source": [
    "print_legend(colors, label_to_criterion)\n",
    "\n",
    "print(\"positive predicted reviews:\")\n",
    "print(\"\\n\")\n",
    "i = 0\n",
    "for sentence in l_mip_sentences_pos:\n",
    "    if i%n == 0 :\n",
    "        print(\"\\n\")\n",
    "        print(str(n) + \" most important reviews for positive predicted label - concept\" + str(i//n + 1) +\":\")\n",
    "        print(\"\\n\")\n",
    "    phi = occlusion_concepts(sentence, model, tokenizer, [factorization_pos, factorization_neg], [l_concept_id_pos, l_concept_id_neg], ignore_words = [], two_labels = True, device = device)\n",
    "    phi /= np.max(np.abs(phi)) + 1e-5\n",
    "    viz_concepts(sentence, phi, colors, ignore_words = [])\n",
    "    i += 1\n",
    "\n",
    "print(\"\\n\")\n",
    "print(\"negative predicted reviews:\")\n",
    "print(\"\\n\")\n",
    "\n",
    "i = 0\n",
    "for sentence in l_mip_sentences_neg:\n",
    "    \n",
    "    if i%n == 0 :\n",
    "        print(\"\\n\")\n",
    "        print(str(n) + \" most important reviews for negative predicted label - concept\" + str(i//n + 1) +\":\")\n",
    "        print(\"\\n\")\n",
    "    phi = occlusion_concepts(sentence,  model, tokenizer, [factorization_pos, factorization_neg], [l_concept_id_pos, l_concept_id_neg], ignore_words = [], two_labels = True, device = device)\n",
    "    phi /= np.max(np.abs(phi)) + 1e-5\n",
    "    viz_concepts(sentence, phi, colors, ignore_words = [])\n",
    "    i +=1"
   ]
  },
  {
   "cell_type": "code",
   "execution_count": null,
   "id": "b4ccd9d3-ba42-471c-b0cb-6fde58ec550a",
   "metadata": {},
   "outputs": [],
   "source": []
  }
 ],
 "metadata": {
  "kernelspec": {
   "display_name": "cockatiel",
   "language": "python",
   "name": "cockatiel"
  },
  "language_info": {
   "codemirror_mode": {
    "name": "ipython",
    "version": 3
   },
   "file_extension": ".py",
   "mimetype": "text/x-python",
   "name": "python",
   "nbconvert_exporter": "python",
   "pygments_lexer": "ipython3",
   "version": "3.11.5"
  },
  "toc-autonumbering": false,
  "toc-showcode": false,
  "toc-showmarkdowntxt": false
 },
 "nbformat": 4,
 "nbformat_minor": 5
}
